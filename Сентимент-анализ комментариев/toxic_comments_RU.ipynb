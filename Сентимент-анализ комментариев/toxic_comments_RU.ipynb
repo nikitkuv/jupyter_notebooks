{
 "cells": [
  {
   "cell_type": "code",
   "execution_count": 1,
   "metadata": {},
   "outputs": [
    {
     "name": "stdout",
     "output_type": "stream",
     "text": [
      "Defaulting to user installation because normal site-packages is not writeable\n",
      "Requirement already up-to-date: imbalanced-learn in /home/jovyan/.local/lib/python3.7/site-packages (0.8.1)\n",
      "Requirement already satisfied, skipping upgrade: scipy>=0.19.1 in /opt/conda/lib/python3.7/site-packages (from imbalanced-learn) (1.4.1)\n",
      "Requirement already satisfied, skipping upgrade: numpy>=1.13.3 in /opt/conda/lib/python3.7/site-packages (from imbalanced-learn) (1.19.5)\n",
      "Requirement already satisfied, skipping upgrade: joblib>=0.11 in /opt/conda/lib/python3.7/site-packages (from imbalanced-learn) (1.0.1)\n",
      "Requirement already satisfied, skipping upgrade: scikit-learn>=0.24 in /home/jovyan/.local/lib/python3.7/site-packages (from imbalanced-learn) (1.0.1)\n",
      "Requirement already satisfied, skipping upgrade: threadpoolctl>=2.0.0 in /home/jovyan/.local/lib/python3.7/site-packages (from scikit-learn>=0.24->imbalanced-learn) (3.0.0)\n"
     ]
    }
   ],
   "source": [
    "# !pip install -U scikit-learn\n",
    "# !pip install pandas -U\n",
    "# !pip install numpy -U\n",
    "!pip install imbalanced-learn -U"
   ]
  },
  {
   "cell_type": "code",
   "execution_count": 2,
   "metadata": {},
   "outputs": [],
   "source": [
    "import pandas as pd\n",
    "import numpy as np\n",
    "import matplotlib.pyplot as plt\n",
    "import seaborn as sns\n",
    "import warnings\n",
    "import lightgbm as lgb\n",
    "import re\n",
    "from tqdm import tqdm\n",
    "from itertools import product\n",
    "\n",
    "import nltk\n",
    "from nltk.stem import WordNetLemmatizer\n",
    "from nltk.corpus import stopwords\n",
    "from nltk import pos_tag\n",
    "\n",
    "from sklearn.ensemble import RandomForestClassifier\n",
    "from sklearn.linear_model import LogisticRegression\n",
    "from sklearn.naive_bayes import GaussianNB\n",
    "from imblearn.over_sampling import SMOTE\n",
    "\n",
    "from sklearn.metrics import f1_score, roc_auc_score, roc_curve\n",
    "from sklearn.pipeline import Pipeline\n",
    "from sklearn.model_selection import RandomizedSearchCV, GridSearchCV, train_test_split, cross_validate, KFold\n",
    "from sklearn.feature_extraction.text import TfidfVectorizer\n",
    "from sklearn.preprocessing import StandardScaler"
   ]
  },
  {
   "cell_type": "markdown",
   "metadata": {
    "toc": true
   },
   "source": [
    "<h1>Содержание<span class=\"tocSkip\"></span></h1>\n",
    "<div class=\"toc\"><ul class=\"toc-item\"><li><span><a href=\"#Подготовка-данных\" data-toc-modified-id=\"Подготовка-данных-1\"><span class=\"toc-item-num\">1&nbsp;&nbsp;</span>Подготовка данных</a></span><ul class=\"toc-item\"><li><span><a href=\"#Загрузка-и-первичный-просмотр-данных\" data-toc-modified-id=\"Загрузка-и-первичный-просмотр-данных-1.1\"><span class=\"toc-item-num\">1.1&nbsp;&nbsp;</span>Загрузка и первичный просмотр данных</a></span></li><li><span><a href=\"#Подготовка-признаков\" data-toc-modified-id=\"Подготовка-признаков-1.2\"><span class=\"toc-item-num\">1.2&nbsp;&nbsp;</span>Подготовка признаков</a></span></li><li><span><a href=\"#Борьба-с-дисбалансом-классов\" data-toc-modified-id=\"Борьба-с-дисбалансом-классов-1.3\"><span class=\"toc-item-num\">1.3&nbsp;&nbsp;</span>Борьба с дисбалансом классов</a></span></li><li><span><a href=\"#Векторизация-текста\" data-toc-modified-id=\"Векторизация-текста-1.4\"><span class=\"toc-item-num\">1.4&nbsp;&nbsp;</span>Векторизация текста</a></span></li></ul></li><li><span><a href=\"#Обучение-моделей\" data-toc-modified-id=\"Обучение-моделей-2\"><span class=\"toc-item-num\">2&nbsp;&nbsp;</span>Обучение моделей</a></span><ul class=\"toc-item\"><li><span><a href=\"#LogisiticRegression\" data-toc-modified-id=\"LogisiticRegression-2.1\"><span class=\"toc-item-num\">2.1&nbsp;&nbsp;</span>LogisiticRegression</a></span></li><li><span><a href=\"#RandomForestClassifier\" data-toc-modified-id=\"RandomForestClassifier-2.2\"><span class=\"toc-item-num\">2.2&nbsp;&nbsp;</span>RandomForestClassifier</a></span></li><li><span><a href=\"#LightGBMClassifier\" data-toc-modified-id=\"LightGBMClassifier-2.3\"><span class=\"toc-item-num\">2.3&nbsp;&nbsp;</span>LightGBMClassifier</a></span></li></ul></li><li><span><a href=\"#Выводы\" data-toc-modified-id=\"Выводы-3\"><span class=\"toc-item-num\">3&nbsp;&nbsp;</span>Выводы</a></span></li></ul></div>"
   ]
  },
  {
   "cell_type": "markdown",
   "metadata": {},
   "source": [
    "# Сентимент анализ комментариев"
   ]
  },
  {
   "cell_type": "markdown",
   "metadata": {},
   "source": [
    "Представлен набор комментариев различных товаров с сайта интернет-магазина с разметкой о токсичности правок.\n",
    "\n",
    "**Цель:** Обучить модель классифицировать комментарии на позитивные и негативные.\n",
    "\n",
    "**Требование от заказчика:** Постройте модель со значением метрики качества *F1* не меньше 0.75. "
   ]
  },
  {
   "cell_type": "markdown",
   "metadata": {},
   "source": [
    "# Описание данных"
   ]
  },
  {
   "cell_type": "markdown",
   "metadata": {},
   "source": [
    "Столбец *text* содержит текст комментария, а *toxic* — целевой признак."
   ]
  },
  {
   "cell_type": "markdown",
   "metadata": {},
   "source": [
    "## Подготовка данных"
   ]
  },
  {
   "cell_type": "markdown",
   "metadata": {},
   "source": [
    "### Загрузка и первичный просмотр данных"
   ]
  },
  {
   "cell_type": "code",
   "execution_count": 3,
   "metadata": {},
   "outputs": [],
   "source": [
    "warnings.filterwarnings('ignore')\n",
    "sns.set_style('whitegrid')\n",
    "pd.set_option('display.float_format', '{:.3f}'.format)\n",
    "pd.set_option('display.max_rows', 40)"
   ]
  },
  {
   "cell_type": "code",
   "execution_count": 4,
   "metadata": {},
   "outputs": [],
   "source": [
    "comments = pd.read_csv('/datasets/toxic_comments.csv')"
   ]
  },
  {
   "cell_type": "code",
   "execution_count": 5,
   "metadata": {},
   "outputs": [
    {
     "data": {
      "text/html": [
       "<div>\n",
       "<style scoped>\n",
       "    .dataframe tbody tr th:only-of-type {\n",
       "        vertical-align: middle;\n",
       "    }\n",
       "\n",
       "    .dataframe tbody tr th {\n",
       "        vertical-align: top;\n",
       "    }\n",
       "\n",
       "    .dataframe thead th {\n",
       "        text-align: right;\n",
       "    }\n",
       "</style>\n",
       "<table border=\"1\" class=\"dataframe\">\n",
       "  <thead>\n",
       "    <tr style=\"text-align: right;\">\n",
       "      <th></th>\n",
       "      <th>text</th>\n",
       "      <th>toxic</th>\n",
       "    </tr>\n",
       "  </thead>\n",
       "  <tbody>\n",
       "    <tr>\n",
       "      <td>141852</td>\n",
       "      <td>this guys a fuckin prick and if i ever come cr...</td>\n",
       "      <td>1</td>\n",
       "    </tr>\n",
       "    <tr>\n",
       "      <td>158626</td>\n",
       "      <td>Russia\\nCareful there. US currently isn't a pa...</td>\n",
       "      <td>0</td>\n",
       "    </tr>\n",
       "    <tr>\n",
       "      <td>53044</td>\n",
       "      <td>\"\\n\\nHurricaneWarning Template\\n\\nGreeting, My...</td>\n",
       "      <td>0</td>\n",
       "    </tr>\n",
       "  </tbody>\n",
       "</table>\n",
       "</div>"
      ],
      "text/plain": [
       "                                                     text  toxic\n",
       "141852  this guys a fuckin prick and if i ever come cr...      1\n",
       "158626  Russia\\nCareful there. US currently isn't a pa...      0\n",
       "53044   \"\\n\\nHurricaneWarning Template\\n\\nGreeting, My...      0"
      ]
     },
     "execution_count": 5,
     "metadata": {},
     "output_type": "execute_result"
    }
   ],
   "source": [
    "comments.sample(3)"
   ]
  },
  {
   "cell_type": "code",
   "execution_count": 6,
   "metadata": {},
   "outputs": [
    {
     "name": "stdout",
     "output_type": "stream",
     "text": [
      "<class 'pandas.core.frame.DataFrame'>\n",
      "RangeIndex: 159571 entries, 0 to 159570\n",
      "Data columns (total 2 columns):\n",
      "text     159571 non-null object\n",
      "toxic    159571 non-null int64\n",
      "dtypes: int64(1), object(1)\n",
      "memory usage: 2.4+ MB\n"
     ]
    }
   ],
   "source": [
    "comments.info()"
   ]
  },
  {
   "cell_type": "code",
   "execution_count": 7,
   "metadata": {},
   "outputs": [
    {
     "data": {
      "text/plain": [
       "0"
      ]
     },
     "execution_count": 7,
     "metadata": {},
     "output_type": "execute_result"
    }
   ],
   "source": [
    "comments.duplicated().sum()"
   ]
  },
  {
   "cell_type": "code",
   "execution_count": 8,
   "metadata": {},
   "outputs": [
    {
     "data": {
      "image/png": "[encoded data removed]",
      "text/plain": [
       "<Figure size 576x432 with 1 Axes>"
      ]
     },
     "metadata": {},
     "output_type": "display_data"
    }
   ],
   "source": [
    "ax, fig = plt.subplots(figsize=(8, 6))\n",
    "bar = sns.barplot(comments.toxic.value_counts(normalize=True).index, \n",
    "                  comments.toxic.value_counts(normalize=True),\n",
    "                 )\n",
    "\n",
    "for index, frac in comments.toxic.value_counts(normalize=True).iteritems():\n",
    "    bar.text(index, \n",
    "             frac+0.01, \n",
    "             round(frac,3), \n",
    "             fontsize=12,\n",
    "             fontweight='bold',\n",
    "             ha='center'\n",
    "            )\n",
    "\n",
    "plt.xlabel('Is toxic')\n",
    "plt.ylabel('Class fraction')\n",
    "plt.ylim([0, 1])\n",
    "plt.show()"
   ]
  },
  {
   "cell_type": "markdown",
   "metadata": {},
   "source": [
    "- Как мы видим, у нас наблюдается довольно сильный дисбаланс классов целевого признака\n",
    "- Подготовим данные, разделим их на обучающую и тестовую выборки, а затем сделаем ресемплирование обучающей выборки, для этого выберем метод SMOTE"
   ]
  },
  {
   "cell_type": "markdown",
   "metadata": {},
   "source": [
    "### Подготовка признаков"
   ]
  },
  {
   "cell_type": "markdown",
   "metadata": {},
   "source": [
    "- Подготовим функцию для приведения к нижнему регистру, лемматизации и очистки текста от символов\n",
    "- Убирая символы, мы также убираем апострофы, меняя смысл части слов на противоположный для слов с отрицанием. Т.к. в сентимент анализе данные изменения не повлияют на результат, в целях упрощения будем убирать апострофы и одинарные кавычки.\n",
    "- Кроме того, для более точного расчета векторных представлений слов, было бы неплохо провести анализ синонимов, но опять же для сентимент анализа данная операция вероятно не сильно повлияет на результат, поэтому снова для упрощения не будем делать анализ синонимов"
   ]
  },
  {
   "cell_type": "code",
   "execution_count": 9,
   "metadata": {},
   "outputs": [
    {
     "name": "stderr",
     "output_type": "stream",
     "text": [
      "[nltk_data] Downloading package averaged_perceptron_tagger to\n",
      "[nltk_data]     /home/jovyan/nltk_data...\n",
      "[nltk_data]   Package averaged_perceptron_tagger is already up-to-\n",
      "[nltk_data]       date!\n"
     ]
    },
    {
     "data": {
      "text/plain": [
       "True"
      ]
     },
     "execution_count": 9,
     "metadata": {},
     "output_type": "execute_result"
    }
   ],
   "source": [
    "nltk.download('averaged_perceptron_tagger')"
   ]
  },
  {
   "cell_type": "code",
   "execution_count": 10,
   "metadata": {},
   "outputs": [],
   "source": [
    "def lemmatize_and_clean(text):\n",
    "    cleaned = []\n",
    "    corpus = list(text.str.lower())\n",
    "    wnl = WordNetLemmatizer()\n",
    "    for i in tqdm(range(len(corpus))):\n",
    "        text = re.sub(r'[^a-zA-Z ]', ' ', corpus[i])\n",
    "        lemm_list = [wnl.lemmatize(i,j[0].lower()) if j[0].lower() in ['a','n','v'] else wnl.lemmatize(i) for i,j in pos_tag(nltk.word_tokenize(text))]\n",
    "        lemm_text = ' '.join(lemm_list)\n",
    "        cleaned.append(lemm_text)\n",
    "    return cleaned"
   ]
  },
  {
   "cell_type": "code",
   "execution_count": 11,
   "metadata": {},
   "outputs": [
    {
     "name": "stderr",
     "output_type": "stream",
     "text": [
      "100%|██████████| 159571/159571 [15:28<00:00, 171.86it/s]"
     ]
    },
    {
     "name": "stdout",
     "output_type": "stream",
     "text": [
      "CPU times: user 14min 52s, sys: 11.2 s, total: 15min 4s\n",
      "Wall time: 15min 28s\n"
     ]
    },
    {
     "name": "stderr",
     "output_type": "stream",
     "text": [
      "\n"
     ]
    }
   ],
   "source": [
    "%%time\n",
    "cleaned = lemmatize_and_clean(comments['text'])"
   ]
  },
  {
   "cell_type": "code",
   "execution_count": 12,
   "metadata": {
    "scrolled": true
   },
   "outputs": [
    {
     "data": {
      "text/html": [
       "<div>\n",
       "<style scoped>\n",
       "    .dataframe tbody tr th:only-of-type {\n",
       "        vertical-align: middle;\n",
       "    }\n",
       "\n",
       "    .dataframe tbody tr th {\n",
       "        vertical-align: top;\n",
       "    }\n",
       "\n",
       "    .dataframe thead th {\n",
       "        text-align: right;\n",
       "    }\n",
       "</style>\n",
       "<table border=\"1\" class=\"dataframe\">\n",
       "  <thead>\n",
       "    <tr style=\"text-align: right;\">\n",
       "      <th></th>\n",
       "      <th>text</th>\n",
       "      <th>toxic</th>\n",
       "      <th>text_cleaned</th>\n",
       "    </tr>\n",
       "  </thead>\n",
       "  <tbody>\n",
       "    <tr>\n",
       "      <td>0</td>\n",
       "      <td>Explanation\\nWhy the edits made under my usern...</td>\n",
       "      <td>0</td>\n",
       "      <td>explanation why the edits make under my userna...</td>\n",
       "    </tr>\n",
       "    <tr>\n",
       "      <td>1</td>\n",
       "      <td>D'aww! He matches this background colour I'm s...</td>\n",
       "      <td>0</td>\n",
       "      <td>d aww he match this background colour i m seem...</td>\n",
       "    </tr>\n",
       "    <tr>\n",
       "      <td>2</td>\n",
       "      <td>Hey man, I'm really not trying to edit war. It...</td>\n",
       "      <td>0</td>\n",
       "      <td>hey man i m really not try to edit war it s ju...</td>\n",
       "    </tr>\n",
       "    <tr>\n",
       "      <td>3</td>\n",
       "      <td>\"\\nMore\\nI can't make any real suggestions on ...</td>\n",
       "      <td>0</td>\n",
       "      <td>more i can t make any real suggestion on impro...</td>\n",
       "    </tr>\n",
       "    <tr>\n",
       "      <td>4</td>\n",
       "      <td>You, sir, are my hero. Any chance you remember...</td>\n",
       "      <td>0</td>\n",
       "      <td>you sir be my hero any chance you remember wha...</td>\n",
       "    </tr>\n",
       "    <tr>\n",
       "      <td>5</td>\n",
       "      <td>\"\\n\\nCongratulations from me as well, use the ...</td>\n",
       "      <td>0</td>\n",
       "      <td>congratulation from me a well use the tool wel...</td>\n",
       "    </tr>\n",
       "    <tr>\n",
       "      <td>6</td>\n",
       "      <td>COCKSUCKER BEFORE YOU PISS AROUND ON MY WORK</td>\n",
       "      <td>1</td>\n",
       "      <td>cocksucker before you piss around on my work</td>\n",
       "    </tr>\n",
       "    <tr>\n",
       "      <td>7</td>\n",
       "      <td>Your vandalism to the Matt Shirvington article...</td>\n",
       "      <td>0</td>\n",
       "      <td>your vandalism to the matt shirvington article...</td>\n",
       "    </tr>\n",
       "    <tr>\n",
       "      <td>8</td>\n",
       "      <td>Sorry if the word 'nonsense' was offensive to ...</td>\n",
       "      <td>0</td>\n",
       "      <td>sorry if the word nonsense be offensive to you...</td>\n",
       "    </tr>\n",
       "    <tr>\n",
       "      <td>9</td>\n",
       "      <td>alignment on this subject and which are contra...</td>\n",
       "      <td>0</td>\n",
       "      <td>alignment on this subject and which be contrar...</td>\n",
       "    </tr>\n",
       "  </tbody>\n",
       "</table>\n",
       "</div>"
      ],
      "text/plain": [
       "                                                text  toxic  \\\n",
       "0  Explanation\\nWhy the edits made under my usern...      0   \n",
       "1  D'aww! He matches this background colour I'm s...      0   \n",
       "2  Hey man, I'm really not trying to edit war. It...      0   \n",
       "3  \"\\nMore\\nI can't make any real suggestions on ...      0   \n",
       "4  You, sir, are my hero. Any chance you remember...      0   \n",
       "5  \"\\n\\nCongratulations from me as well, use the ...      0   \n",
       "6       COCKSUCKER BEFORE YOU PISS AROUND ON MY WORK      1   \n",
       "7  Your vandalism to the Matt Shirvington article...      0   \n",
       "8  Sorry if the word 'nonsense' was offensive to ...      0   \n",
       "9  alignment on this subject and which are contra...      0   \n",
       "\n",
       "                                        text_cleaned  \n",
       "0  explanation why the edits make under my userna...  \n",
       "1  d aww he match this background colour i m seem...  \n",
       "2  hey man i m really not try to edit war it s ju...  \n",
       "3  more i can t make any real suggestion on impro...  \n",
       "4  you sir be my hero any chance you remember wha...  \n",
       "5  congratulation from me a well use the tool wel...  \n",
       "6       cocksucker before you piss around on my work  \n",
       "7  your vandalism to the matt shirvington article...  \n",
       "8  sorry if the word nonsense be offensive to you...  \n",
       "9  alignment on this subject and which be contrar...  "
      ]
     },
     "execution_count": 12,
     "metadata": {},
     "output_type": "execute_result"
    }
   ],
   "source": [
    "comments['text_cleaned'] = cleaned\n",
    "comments.head(10)"
   ]
  },
  {
   "cell_type": "code",
   "execution_count": 13,
   "metadata": {
    "scrolled": true
   },
   "outputs": [
    {
     "name": "stdout",
     "output_type": "stream",
     "text": [
      "<class 'pandas.core.frame.DataFrame'>\n",
      "RangeIndex: 159571 entries, 0 to 159570\n",
      "Data columns (total 3 columns):\n",
      "text            159571 non-null object\n",
      "toxic           159571 non-null int64\n",
      "text_cleaned    159571 non-null object\n",
      "dtypes: int64(1), object(2)\n",
      "memory usage: 3.7+ MB\n"
     ]
    }
   ],
   "source": [
    "comments.info()"
   ]
  },
  {
   "cell_type": "markdown",
   "metadata": {},
   "source": [
    "- Зададим отдельно стоп слова из английского языка"
   ]
  },
  {
   "cell_type": "code",
   "execution_count": 14,
   "metadata": {},
   "outputs": [
    {
     "name": "stderr",
     "output_type": "stream",
     "text": [
      "[nltk_data] Downloading package stopwords to /home/jovyan/nltk_data...\n",
      "[nltk_data]   Package stopwords is already up-to-date!\n"
     ]
    }
   ],
   "source": [
    "import nltk\n",
    "nltk.download('stopwords')\n",
    "stopwords = set(stopwords.words('english'))"
   ]
  },
  {
   "cell_type": "markdown",
   "metadata": {},
   "source": [
    "### Борьба с дисбалансом классов"
   ]
  },
  {
   "cell_type": "markdown",
   "metadata": {},
   "source": [
    "- Для борьбы с дисбалансом классом будем использовать метод оверсэмплинга SMOTE\n",
    "- Кроме того, оценим качество модели с помощью кросс-валидации, при этом ресемплировать будем только тренировочную выборку"
   ]
  },
  {
   "cell_type": "code",
   "execution_count": 15,
   "metadata": {},
   "outputs": [],
   "source": [
    "seed = 24\n",
    "cv = 3"
   ]
  },
  {
   "cell_type": "code",
   "execution_count": 16,
   "metadata": {},
   "outputs": [],
   "source": [
    "kf = KFold(n_splits=cv, shuffle=False)"
   ]
  },
  {
   "cell_type": "code",
   "execution_count": 36,
   "metadata": {},
   "outputs": [],
   "source": [
    "def kfoldcv_score_model(X_train, y_train, model, params, kf=kf, seed=seed):\n",
    "    \n",
    "    f1_scores = []\n",
    "    roc_auc_scores = []\n",
    "    \n",
    "    smoter = SMOTE(random_state=seed)\n",
    "\n",
    "    for train_fold_index, val_fold_index in kf.split(X_train, y_train):\n",
    "        \n",
    "        X_train_fold, y_train_fold = X_train.iloc[train_fold_index], y_train.iloc[train_fold_index]\n",
    "        X_val_fold, y_val_fold = X_train.iloc[val_fold_index], y_train.iloc[val_fold_index]\n",
    "        \n",
    "        tfidf_vec = TfidfVectorizer(stop_words=stopwords)\n",
    "        tfidf_train = tfidf_vec.fit_transform(X_train_fold['text_cleaned'])\n",
    "        tfidf_val = tfidf_vec.transform(X_val_fold['text_cleaned'])\n",
    "        \n",
    "        X_train_fold_upsample, y_train_fold_upsample = smoter.fit_resample(tfidf_train, y_train_fold)\n",
    "        \n",
    "        #model_obj = model(**params).fit(X_train_fold_upsample, y_train_fold_upsample)\n",
    "        model_obj = model(**params)\n",
    "        model_obj.fit(X_train_fold_upsample, y_train_fold_upsample)\n",
    "        \n",
    "        model_to_save = model(**params)\n",
    "        \n",
    "        f1_scores.append(f1_score(y_val_fold, model_obj.predict(tfidf_val)))\n",
    "        roc_auc_scores.append(roc_auc_score(y_val_fold, model_obj.predict(tfidf_val)))\n",
    "        \n",
    "    return np.array(f1_scores).mean(), np.array(roc_auc_scores).mean(), model_to_save"
   ]
  },
  {
   "cell_type": "markdown",
   "metadata": {},
   "source": [
    "### Векторизация текста"
   ]
  },
  {
   "cell_type": "markdown",
   "metadata": {},
   "source": [
    "- Векторизуем текст с помощью техники TF-IDF"
   ]
  },
  {
   "cell_type": "code",
   "execution_count": 18,
   "metadata": {},
   "outputs": [],
   "source": [
    "X = comments[['text_cleaned']]\n",
    "y = comments[['toxic']]\n",
    "\n",
    "X_train, X_test, y_train, y_test = train_test_split(X, y, test_size=0.25, random_state=seed)"
   ]
  },
  {
   "cell_type": "code",
   "execution_count": 19,
   "metadata": {},
   "outputs": [],
   "source": [
    "tfidf_vec = TfidfVectorizer(stop_words=stopwords)\n",
    "tfidf_train = tfidf_vec.fit_transform(X_train['text_cleaned'])\n",
    "tfidf_test = tfidf_vec.transform(X_test['text_cleaned'])"
   ]
  },
  {
   "cell_type": "markdown",
   "metadata": {},
   "source": [
    "## Обучение моделей"
   ]
  },
  {
   "cell_type": "markdown",
   "metadata": {},
   "source": [
    "- Попробуем 4 модели:\n",
    "    - Логистическую регрессию с class_weight='balanced' и подбором порога\n",
    "    - Логистическую регрессию с оверсемпингом SMOTE\n",
    "    - Случайный лес\n",
    "    - Градиентный бустинг\n",
    "- К сожалению, не хватает вычислительных мощностей для оценки моделей Случайного леса и Градиентного бустинга с помощью кросс-валидации, поэтому для данных моделей качество будет оценено сразу на тестовой выборке"
   ]
  },
  {
   "cell_type": "markdown",
   "metadata": {},
   "source": [
    "### LogisiticRegression"
   ]
  },
  {
   "cell_type": "markdown",
   "metadata": {},
   "source": [
    "**Базовая модель**"
   ]
  },
  {
   "cell_type": "code",
   "execution_count": 20,
   "metadata": {},
   "outputs": [
    {
     "name": "stdout",
     "output_type": "stream",
     "text": [
      "CPU times: user 27.6 s, sys: 29.6 s, total: 57.2 s\n",
      "Wall time: 57.3 s\n"
     ]
    }
   ],
   "source": [
    "%%time\n",
    "logreg_class_bal = LogisticRegression(class_weight='balanced')\n",
    "logreg_class_bal.fit(tfidf_train, y_train)\n",
    "\n",
    "y_pred = logreg_class_bal.predict(tfidf_test)\n",
    "y_probs = logreg_class_bal.predict_proba(tfidf_test)"
   ]
  },
  {
   "cell_type": "code",
   "execution_count": 21,
   "metadata": {},
   "outputs": [],
   "source": [
    "f1_bal = f1_score(y_test, y_pred)\n",
    "roc_bal = roc_auc_score(y_test, y_pred)\n",
    "\n",
    "fpr, tpr, thresholds = roc_curve(y_test, y_probs[:, 1])"
   ]
  },
  {
   "cell_type": "code",
   "execution_count": 22,
   "metadata": {},
   "outputs": [
    {
     "data": {
      "text/plain": [
       "0.7335329341317366"
      ]
     },
     "execution_count": 22,
     "metadata": {},
     "output_type": "execute_result"
    }
   ],
   "source": [
    "f1_bal"
   ]
  },
  {
   "cell_type": "code",
   "execution_count": 23,
   "metadata": {},
   "outputs": [
    {
     "data": {
      "text/plain": [
       "0.8957977278398471"
      ]
     },
     "execution_count": 23,
     "metadata": {},
     "output_type": "execute_result"
    }
   ],
   "source": [
    "roc_bal"
   ]
  },
  {
   "cell_type": "markdown",
   "metadata": {},
   "source": [
    "- Порог для Логистической регрессии подберем с помощью графиков Специфичность (TPR) vs порог и Чувствительность (1-FPR) vs порог: оптимальный порог тот, где данные графики пересекаются"
   ]
  },
  {
   "cell_type": "code",
   "execution_count": 24,
   "metadata": {},
   "outputs": [
    {
     "data": {
      "image/png": "[encoded data removed]",
      "text/plain": [
       "<Figure size 864x432 with 1 Axes>"
      ]
     },
     "metadata": {},
     "output_type": "display_data"
    }
   ],
   "source": [
    "plt.figure(figsize=(12, 6))\n",
    "\n",
    "plt.plot(thresholds, 1-fpr)\n",
    "plt.plot(thresholds, tpr)\n",
    "\n",
    "plt.xlabel('Thresholds')\n",
    "plt.ylabel('TPR/1-FPR values')\n",
    "\n",
    "plt.legend(['1-fpr', 'tpr'], loc=4)\n",
    "\n",
    "plt.xlim([0, 1])\n",
    "plt.xticks(np.arange(0, 1, step=.05))\n",
    "\n",
    "plt.axvline(.35, c='r', linestyle='--', linewidth=.7)\n",
    "\n",
    "plt.title('Searching for the optimal threshold: class_weight')\n",
    "\n",
    "plt.show()"
   ]
  },
  {
   "cell_type": "code",
   "execution_count": 25,
   "metadata": {},
   "outputs": [],
   "source": [
    "y_pred_custom = np.where(y_probs[:, 1] > 0.65, 1, 0)\n",
    "\n",
    "f1_bal_cus = f1_score(y_test, y_pred_custom)\n",
    "roc_bal_cus = roc_auc_score(y_test, y_pred_custom)"
   ]
  },
  {
   "cell_type": "code",
   "execution_count": 26,
   "metadata": {},
   "outputs": [
    {
     "data": {
      "text/plain": [
       "0.7662211421628189"
      ]
     },
     "execution_count": 26,
     "metadata": {},
     "output_type": "execute_result"
    }
   ],
   "source": [
    "f1_bal_cus"
   ]
  },
  {
   "cell_type": "code",
   "execution_count": 27,
   "metadata": {},
   "outputs": [
    {
     "data": {
      "text/plain": [
       "0.8735362532984775"
      ]
     },
     "execution_count": 27,
     "metadata": {},
     "output_type": "execute_result"
    }
   ],
   "source": [
    "roc_bal_cus"
   ]
  },
  {
   "cell_type": "markdown",
   "metadata": {},
   "source": [
    "- Выбор порога увеличил значение f1 меры 0.035, f1=0.77, что удовлетворяет условию > 0.75"
   ]
  },
  {
   "cell_type": "markdown",
   "metadata": {},
   "source": [
    "**Балансировка классов с помощью SMOTE**"
   ]
  },
  {
   "cell_type": "code",
   "execution_count": 28,
   "metadata": {},
   "outputs": [],
   "source": [
    "hyperparams_logreg = {'C': [0.1, 3, 5]}"
   ]
  },
  {
   "cell_type": "code",
   "execution_count": 37,
   "metadata": {},
   "outputs": [
    {
     "name": "stdout",
     "output_type": "stream",
     "text": [
      "CPU times: user 3min, sys: 7.08 s, total: 3min 7s\n",
      "Wall time: 3min 9s\n"
     ]
    }
   ],
   "source": [
    "%%time\n",
    "\n",
    "logreg_results = []\n",
    "\n",
    "for с in hyperparams_logreg['C']:\n",
    "    \n",
    "    case_params = {'C': с,\n",
    "                   'random_state': seed,\n",
    "                   'solver': 'saga'\n",
    "                  }\n",
    "\n",
    "    case_params['f1_val'], case_params['roc_auc_val'], case_params['best_model'] = kfoldcv_score_model(X_train, \n",
    "                                                                                                       y_train,\n",
    "                                                                                                       LogisticRegression,\n",
    "                                                                                                       case_params\n",
    "                                                                                                       )\n",
    "    logreg_results.append(case_params)"
   ]
  },
  {
   "cell_type": "code",
   "execution_count": 38,
   "metadata": {},
   "outputs": [
    {
     "data": {
      "text/plain": [
       "{'C': 3,\n",
       " 'random_state': 24,\n",
       " 'solver': 'saga',\n",
       " 'f1_val': 0.6908302285638204,\n",
       " 'roc_auc_val': 0.881764107538595,\n",
       " 'best_model': LogisticRegression(C=3, random_state=24, solver='saga')}"
      ]
     },
     "execution_count": 38,
     "metadata": {},
     "output_type": "execute_result"
    }
   ],
   "source": [
    "best_logreg_model = sorted(logreg_results, key=lambda x: x['f1_val'], reverse=True)[0]\n",
    "best_logreg_model"
   ]
  },
  {
   "cell_type": "code",
   "execution_count": 48,
   "metadata": {},
   "outputs": [],
   "source": [
    "logreg_best = case_params['best_model']\n",
    "logreg_best.fit(tfidf_train, y_train)\n",
    "\n",
    "y_pred_smote = logreg_best.predict(tfidf_test)\n",
    "y_probs_smote = logreg_best.predict_proba(tfidf_test)"
   ]
  },
  {
   "cell_type": "code",
   "execution_count": 49,
   "metadata": {},
   "outputs": [],
   "source": [
    "f1_smote = f1_score(y_test, y_pred_smote)\n",
    "roc_smote = roc_auc_score(y_test, y_pred_smote)\n",
    "\n",
    "fpr_smote, tpr_smote, thresholds_smote = roc_curve(y_test, y_probs_smote[:, 1])"
   ]
  },
  {
   "cell_type": "code",
   "execution_count": 50,
   "metadata": {},
   "outputs": [
    {
     "data": {
      "text/plain": [
       "0.7639064032506655"
      ]
     },
     "execution_count": 50,
     "metadata": {},
     "output_type": "execute_result"
    }
   ],
   "source": [
    "f1_smote"
   ]
  },
  {
   "cell_type": "code",
   "execution_count": 51,
   "metadata": {},
   "outputs": [
    {
     "data": {
      "text/plain": [
       "0.8303354816975873"
      ]
     },
     "execution_count": 51,
     "metadata": {},
     "output_type": "execute_result"
    }
   ],
   "source": [
    "roc_smote"
   ]
  },
  {
   "cell_type": "markdown",
   "metadata": {},
   "source": [
    "- Значение f1 меры равно 0.76, что удовлетворяет условию > 0.75"
   ]
  },
  {
   "cell_type": "markdown",
   "metadata": {},
   "source": [
    "### RandomForestClassifier"
   ]
  },
  {
   "cell_type": "code",
   "execution_count": 100,
   "metadata": {},
   "outputs": [
    {
     "name": "stdout",
     "output_type": "stream",
     "text": [
      "CPU times: user 11min 2s, sys: 216 ms, total: 11min 2s\n",
      "Wall time: 11min 20s\n"
     ]
    }
   ],
   "source": [
    "%%time\n",
    "rf = RandomForestClassifier(n_jobs=-1)\n",
    "rf.fit(tfidf_train, y_train)\n",
    "\n",
    "y_pred_rf = rf.predict(tfidf_test)"
   ]
  },
  {
   "cell_type": "code",
   "execution_count": 101,
   "metadata": {},
   "outputs": [],
   "source": [
    "f1_rf = f1_score(y_test, y_pred_rf)\n",
    "roc_rf = roc_auc_score(y_test, y_pred_rf)"
   ]
  },
  {
   "cell_type": "code",
   "execution_count": 102,
   "metadata": {},
   "outputs": [
    {
     "data": {
      "text/plain": [
       "0.6862745098039216"
      ]
     },
     "execution_count": 102,
     "metadata": {},
     "output_type": "execute_result"
    }
   ],
   "source": [
    "f1_rf"
   ]
  },
  {
   "cell_type": "code",
   "execution_count": 103,
   "metadata": {},
   "outputs": [
    {
     "data": {
      "text/plain": [
       "0.7689350602880455"
      ]
     },
     "execution_count": 103,
     "metadata": {},
     "output_type": "execute_result"
    }
   ],
   "source": [
    "roc_rf"
   ]
  },
  {
   "cell_type": "markdown",
   "metadata": {},
   "source": [
    "- Значение f1 меры равно 0.69, что не удовлетворяет условию > 0.75"
   ]
  },
  {
   "cell_type": "markdown",
   "metadata": {},
   "source": [
    "### LightGBMClassifier"
   ]
  },
  {
   "cell_type": "code",
   "execution_count": 104,
   "metadata": {},
   "outputs": [
    {
     "name": "stdout",
     "output_type": "stream",
     "text": [
      "CPU times: user 8min 5s, sys: 2.12 s, total: 8min 7s\n",
      "Wall time: 8min 11s\n"
     ]
    }
   ],
   "source": [
    "%%time\n",
    "gb = lgb.LGBMClassifier()\n",
    "gb.fit(tfidf_train, y_train)\n",
    "\n",
    "y_pred_gb = gb.predict(tfidf_test)"
   ]
  },
  {
   "cell_type": "code",
   "execution_count": 105,
   "metadata": {},
   "outputs": [],
   "source": [
    "f1_gb = f1_score(y_test, y_pred_gb)\n",
    "roc_gb = roc_auc_score(y_test, y_pred_gb)"
   ]
  },
  {
   "cell_type": "markdown",
   "metadata": {},
   "source": [
    "## Выводы"
   ]
  },
  {
   "cell_type": "code",
   "execution_count": 108,
   "metadata": {},
   "outputs": [
    {
     "data": {
      "text/html": [
       "<div>\n",
       "<style scoped>\n",
       "    .dataframe tbody tr th:only-of-type {\n",
       "        vertical-align: middle;\n",
       "    }\n",
       "\n",
       "    .dataframe tbody tr th {\n",
       "        vertical-align: top;\n",
       "    }\n",
       "\n",
       "    .dataframe thead th {\n",
       "        text-align: right;\n",
       "    }\n",
       "</style>\n",
       "<table border=\"1\" class=\"dataframe\">\n",
       "  <thead>\n",
       "    <tr style=\"text-align: right;\">\n",
       "      <th></th>\n",
       "      <th>f1</th>\n",
       "      <th>roc_auc</th>\n",
       "    </tr>\n",
       "  </thead>\n",
       "  <tbody>\n",
       "    <tr>\n",
       "      <td>LogisticRegression_class_weighted</td>\n",
       "      <td>0.766</td>\n",
       "      <td>0.896</td>\n",
       "    </tr>\n",
       "    <tr>\n",
       "      <td>LogisticRegression_SMOTE</td>\n",
       "      <td>0.764</td>\n",
       "      <td>0.830</td>\n",
       "    </tr>\n",
       "    <tr>\n",
       "      <td>LightGBMClassifier</td>\n",
       "      <td>0.741</td>\n",
       "      <td>0.812</td>\n",
       "    </tr>\n",
       "    <tr>\n",
       "      <td>RandomForestClassifier</td>\n",
       "      <td>0.686</td>\n",
       "      <td>0.769</td>\n",
       "    </tr>\n",
       "  </tbody>\n",
       "</table>\n",
       "</div>"
      ],
      "text/plain": [
       "                                     f1  roc_auc\n",
       "LogisticRegression_class_weighted 0.766    0.896\n",
       "LogisticRegression_SMOTE          0.764    0.830\n",
       "LightGBMClassifier                0.741    0.812\n",
       "RandomForestClassifier            0.686    0.769"
      ]
     },
     "execution_count": 108,
     "metadata": {},
     "output_type": "execute_result"
    }
   ],
   "source": [
    "results = pd.DataFrame({'f1': [f1_bal_cus, f1_smote, f1_rf, f1_gb],\n",
    "                        'roc_auc': [roc_bal, roc_smote, roc_rf, roc_gb]\n",
    "                       },\n",
    "                       index=['LogisticRegression_class_weighted', \n",
    "                              'LogisticRegression_SMOTE', \n",
    "                              'RandomForestClassifier', \n",
    "                              'LightGBMClassifier'\n",
    "                             ]\n",
    "                      )\n",
    "\n",
    "results.sort_values(by='f1', ascending=False)"
   ]
  },
  {
   "cell_type": "code",
   "execution_count": 114,
   "metadata": {},
   "outputs": [
    {
     "data": {
      "image/png": "[encoded data removed]",
      "text/plain": [
       "<Figure size 720x432 with 1 Axes>"
      ]
     },
     "metadata": {},
     "output_type": "display_data"
    }
   ],
   "source": [
    "plt.figure(figsize=(10, 6))\n",
    "sns.scatterplot(results['f1'], results['roc_auc'], hue=results.index, s=100)\n",
    "plt.axvline(0.75, linestyle='--', c='r', linewidth=0.75)\n",
    "plt.text(0.752, 0.91, 'f1=0.75')\n",
    "plt.show()"
   ]
  },
  {
   "cell_type": "markdown",
   "metadata": {},
   "source": [
    "- Таким образом, лучший результат показала модель Логистической регрессии с использованием внутренней балансировки классов\n",
    "- Кроме того, результат выше заявленного значения показала модель Логистической регрессии с использованием техники SMOTE\n",
    "- Остальные модели показали значение метрики f1 ниже 0.75"
   ]
  },
  {
   "cell_type": "code",
   "execution_count": null,
   "metadata": {},
   "outputs": [],
   "source": []
  }
 ],
 "metadata": {
  "ExecuteTimeLog": [
   {
    "duration": 1109,
    "start_time": "2021-11-20T17:39:31.994Z"
   },
   {
    "duration": 4,
    "start_time": "2021-11-20T17:40:34.531Z"
   },
   {
    "duration": 5437,
    "start_time": "2021-11-20T17:41:03.578Z"
   },
   {
    "duration": 13,
    "start_time": "2021-11-20T17:41:17.640Z"
   },
   {
    "duration": 26,
    "start_time": "2021-11-20T17:41:35.958Z"
   },
   {
    "duration": 8,
    "start_time": "2021-11-20T17:42:34.410Z"
   },
   {
    "duration": 215,
    "start_time": "2021-11-20T17:42:53.527Z"
   },
   {
    "duration": 184,
    "start_time": "2021-11-20T17:45:02.235Z"
   },
   {
    "duration": 167,
    "start_time": "2021-11-20T17:45:58.667Z"
   },
   {
    "duration": 166,
    "start_time": "2021-11-20T17:46:06.444Z"
   },
   {
    "duration": 172,
    "start_time": "2021-11-20T17:46:14.098Z"
   },
   {
    "duration": 271,
    "start_time": "2021-11-20T20:49:06.791Z"
   },
   {
    "duration": 7727,
    "start_time": "2021-11-20T20:49:46.948Z"
   },
   {
    "duration": 324,
    "start_time": "2021-11-20T20:50:04.384Z"
   },
   {
    "duration": 181,
    "start_time": "2021-11-20T20:50:23.241Z"
   },
   {
    "duration": 2144,
    "start_time": "2021-11-20T20:51:45.705Z"
   },
   {
    "duration": 185,
    "start_time": "2021-11-20T20:51:55.966Z"
   },
   {
    "duration": 6182,
    "start_time": "2021-11-20T20:53:29.796Z"
   },
   {
    "duration": 176,
    "start_time": "2021-11-20T20:53:38.304Z"
   },
   {
    "duration": 4421,
    "start_time": "2021-11-20T20:54:58.389Z"
   },
   {
    "duration": 3,
    "start_time": "2021-11-20T20:55:46.597Z"
   },
   {
    "duration": 10628,
    "start_time": "2021-11-20T20:56:07.667Z"
   },
   {
    "duration": 182,
    "start_time": "2021-11-20T20:56:21.656Z"
   },
   {
    "duration": 185,
    "start_time": "2021-11-20T20:56:54.095Z"
   },
   {
    "duration": 157,
    "start_time": "2021-11-20T20:59:12.162Z"
   },
   {
    "duration": 162,
    "start_time": "2021-11-20T20:59:25.232Z"
   },
   {
    "duration": 2952,
    "start_time": "2021-11-20T20:59:56.290Z"
   },
   {
    "duration": 170,
    "start_time": "2021-11-20T21:00:04.317Z"
   },
   {
    "duration": 2096,
    "start_time": "2021-11-20T21:00:09.392Z"
   },
   {
    "duration": 174,
    "start_time": "2021-11-20T21:00:14.446Z"
   },
   {
    "duration": 3529,
    "start_time": "2021-11-20T21:02:40.611Z"
   },
   {
    "duration": 2088,
    "start_time": "2021-11-20T21:02:44.142Z"
   },
   {
    "duration": 194,
    "start_time": "2021-11-20T21:02:47.935Z"
   },
   {
    "duration": 2316,
    "start_time": "2021-11-20T21:03:13.720Z"
   },
   {
    "duration": 2148,
    "start_time": "2021-11-20T21:03:16.039Z"
   },
   {
    "duration": 168,
    "start_time": "2021-11-20T21:03:20.075Z"
   },
   {
    "duration": 4403,
    "start_time": "2021-11-20T21:05:58.565Z"
   },
   {
    "duration": 4671,
    "start_time": "2021-11-20T21:06:07.139Z"
   },
   {
    "duration": 174,
    "start_time": "2021-11-20T21:06:17.472Z"
   },
   {
    "duration": 2189,
    "start_time": "2021-11-20T21:06:38.530Z"
   },
   {
    "duration": 2619,
    "start_time": "2021-11-20T21:06:43.118Z"
   },
   {
    "duration": 183,
    "start_time": "2021-11-20T21:06:54.597Z"
   },
   {
    "duration": 2185,
    "start_time": "2021-11-20T21:07:06.620Z"
   },
   {
    "duration": 2189,
    "start_time": "2021-11-20T21:07:08.807Z"
   },
   {
    "duration": 1188,
    "start_time": "2021-11-20T21:07:10.999Z"
   },
   {
    "duration": 3,
    "start_time": "2021-11-20T21:07:12.189Z"
   },
   {
    "duration": 618,
    "start_time": "2021-11-20T21:07:12.193Z"
   },
   {
    "duration": 13,
    "start_time": "2021-11-20T21:07:12.813Z"
   },
   {
    "duration": 294,
    "start_time": "2021-11-20T21:07:12.828Z"
   },
   {
    "duration": 622,
    "start_time": "2021-11-20T21:07:12.503Z"
   },
   {
    "duration": 619,
    "start_time": "2021-11-20T21:07:12.507Z"
   },
   {
    "duration": 2,
    "start_time": "2021-11-20T21:08:13.895Z"
   },
   {
    "duration": 16,
    "start_time": "2021-11-20T21:08:13.899Z"
   },
   {
    "duration": 1167,
    "start_time": "2021-11-20T21:08:13.916Z"
   },
   {
    "duration": 3,
    "start_time": "2021-11-20T21:08:15.084Z"
   },
   {
    "duration": 609,
    "start_time": "2021-11-20T21:08:15.091Z"
   },
   {
    "duration": 13,
    "start_time": "2021-11-20T21:08:15.702Z"
   },
   {
    "duration": 330,
    "start_time": "2021-11-20T21:08:15.718Z"
   },
   {
    "duration": 622,
    "start_time": "2021-11-20T21:08:15.428Z"
   },
   {
    "duration": 610,
    "start_time": "2021-11-20T21:08:15.442Z"
   },
   {
    "duration": 174,
    "start_time": "2021-11-20T21:08:56.713Z"
   },
   {
    "duration": 4,
    "start_time": "2021-11-20T21:09:08.823Z"
   },
   {
    "duration": 2265,
    "start_time": "2021-11-20T21:09:57.473Z"
   },
   {
    "duration": 2123,
    "start_time": "2021-11-20T21:09:59.741Z"
   },
   {
    "duration": 5,
    "start_time": "2021-11-20T21:10:04.131Z"
   },
   {
    "duration": 4,
    "start_time": "2021-11-20T21:10:06.776Z"
   },
   {
    "duration": 3,
    "start_time": "2021-11-20T21:10:25.185Z"
   },
   {
    "duration": 7,
    "start_time": "2021-11-20T21:10:25.189Z"
   },
   {
    "duration": 1179,
    "start_time": "2021-11-20T21:10:25.198Z"
   },
   {
    "duration": 3,
    "start_time": "2021-11-20T21:10:26.379Z"
   },
   {
    "duration": 603,
    "start_time": "2021-11-20T21:10:26.384Z"
   },
   {
    "duration": 14,
    "start_time": "2021-11-20T21:10:26.991Z"
   },
   {
    "duration": 286,
    "start_time": "2021-11-20T21:10:27.007Z"
   },
   {
    "duration": 597,
    "start_time": "2021-11-20T21:10:26.698Z"
   },
   {
    "duration": 592,
    "start_time": "2021-11-20T21:10:26.704Z"
   },
   {
    "duration": 213,
    "start_time": "2021-11-20T21:10:33.288Z"
   },
   {
    "duration": 174,
    "start_time": "2021-11-20T21:10:34.787Z"
   },
   {
    "duration": 2243,
    "start_time": "2021-11-20T21:12:02.218Z"
   },
   {
    "duration": 6224,
    "start_time": "2021-11-20T21:12:04.463Z"
   },
   {
    "duration": 2490,
    "start_time": "2021-11-20T21:12:10.689Z"
   },
   {
    "duration": 2095,
    "start_time": "2021-11-20T21:12:13.181Z"
   },
   {
    "duration": 1259,
    "start_time": "2021-11-20T21:12:15.278Z"
   },
   {
    "duration": 3,
    "start_time": "2021-11-20T21:12:16.539Z"
   },
   {
    "duration": 756,
    "start_time": "2021-11-20T21:12:16.544Z"
   },
   {
    "duration": 13,
    "start_time": "2021-11-20T21:12:17.302Z"
   },
   {
    "duration": 33,
    "start_time": "2021-11-20T21:12:17.317Z"
   },
   {
    "duration": 239,
    "start_time": "2021-11-20T21:12:17.352Z"
   },
   {
    "duration": 166,
    "start_time": "2021-11-20T21:12:17.593Z"
   },
   {
    "duration": 8747,
    "start_time": "2021-11-20T21:14:32.243Z"
   },
   {
    "duration": 1241,
    "start_time": "2021-11-20T21:14:40.992Z"
   },
   {
    "duration": 3,
    "start_time": "2021-11-20T21:14:42.235Z"
   },
   {
    "duration": 761,
    "start_time": "2021-11-20T21:14:42.240Z"
   },
   {
    "duration": 12,
    "start_time": "2021-11-20T21:14:43.003Z"
   },
   {
    "duration": 65,
    "start_time": "2021-11-20T21:14:43.016Z"
   },
   {
    "duration": 222,
    "start_time": "2021-11-20T21:14:43.082Z"
   },
   {
    "duration": 171,
    "start_time": "2021-11-20T21:14:43.306Z"
   },
   {
    "duration": 9,
    "start_time": "2021-11-20T21:15:31.645Z"
   },
   {
    "duration": 534,
    "start_time": "2021-11-20T21:17:20.389Z"
   },
   {
    "duration": 347,
    "start_time": "2021-11-21T08:28:48.005Z"
   },
   {
    "duration": 3,
    "start_time": "2021-11-21T08:29:02.779Z"
   },
   {
    "duration": 1521,
    "start_time": "2021-11-21T08:29:02.784Z"
   },
   {
    "duration": 1019,
    "start_time": "2021-11-21T08:29:03.289Z"
   },
   {
    "duration": 1006,
    "start_time": "2021-11-21T08:29:03.304Z"
   },
   {
    "duration": 1000,
    "start_time": "2021-11-21T08:29:03.311Z"
   },
   {
    "duration": 995,
    "start_time": "2021-11-21T08:29:03.317Z"
   },
   {
    "duration": 990,
    "start_time": "2021-11-21T08:29:03.323Z"
   },
   {
    "duration": 987,
    "start_time": "2021-11-21T08:29:03.327Z"
   },
   {
    "duration": 982,
    "start_time": "2021-11-21T08:29:03.333Z"
   },
   {
    "duration": 979,
    "start_time": "2021-11-21T08:29:03.337Z"
   },
   {
    "duration": 977,
    "start_time": "2021-11-21T08:29:03.341Z"
   },
   {
    "duration": 7540,
    "start_time": "2021-11-21T08:29:23.942Z"
   },
   {
    "duration": 1190,
    "start_time": "2021-11-21T08:29:31.484Z"
   },
   {
    "duration": 3,
    "start_time": "2021-11-21T08:29:32.678Z"
   },
   {
    "duration": 3385,
    "start_time": "2021-11-21T08:29:32.683Z"
   },
   {
    "duration": 14,
    "start_time": "2021-11-21T08:29:36.070Z"
   },
   {
    "duration": 25,
    "start_time": "2021-11-21T08:29:36.085Z"
   },
   {
    "duration": 233,
    "start_time": "2021-11-21T08:29:36.112Z"
   },
   {
    "duration": 214,
    "start_time": "2021-11-21T08:29:36.347Z"
   },
   {
    "duration": 553,
    "start_time": "2021-11-21T08:29:36.563Z"
   },
   {
    "duration": 3,
    "start_time": "2021-11-21T08:29:37.118Z"
   },
   {
    "duration": 14,
    "start_time": "2021-11-21T08:29:37.123Z"
   },
   {
    "duration": 4,
    "start_time": "2021-11-21T08:34:02.463Z"
   },
   {
    "duration": 3,
    "start_time": "2021-11-21T08:35:00.413Z"
   },
   {
    "duration": 10,
    "start_time": "2021-11-21T08:41:12.318Z"
   },
   {
    "duration": 3,
    "start_time": "2021-11-21T08:42:06.243Z"
   },
   {
    "duration": 3,
    "start_time": "2021-11-21T08:44:28.317Z"
   },
   {
    "duration": 550,
    "start_time": "2021-11-21T08:45:17.383Z"
   },
   {
    "duration": 256,
    "start_time": "2021-11-21T08:45:17.935Z"
   },
   {
    "duration": 485,
    "start_time": "2021-11-21T08:46:56.864Z"
   },
   {
    "duration": 250,
    "start_time": "2021-11-21T08:50:24.414Z"
   },
   {
    "duration": 33,
    "start_time": "2021-11-21T08:50:31.896Z"
   },
   {
    "duration": 3,
    "start_time": "2021-11-21T08:54:16.202Z"
   },
   {
    "duration": 81,
    "start_time": "2021-11-21T09:01:12.999Z"
   },
   {
    "duration": 3,
    "start_time": "2021-11-21T09:01:24.727Z"
   },
   {
    "duration": 475,
    "start_time": "2021-11-21T09:01:27.284Z"
   },
   {
    "duration": 23,
    "start_time": "2021-11-21T09:01:46.586Z"
   },
   {
    "duration": 4,
    "start_time": "2021-11-21T09:01:53.563Z"
   },
   {
    "duration": 103443,
    "start_time": "2021-11-21T09:01:54.818Z"
   },
   {
    "duration": 28,
    "start_time": "2021-11-21T09:03:38.264Z"
   },
   {
    "duration": 84,
    "start_time": "2021-11-21T09:03:38.294Z"
   },
   {
    "duration": 4,
    "start_time": "2021-11-21T09:06:10.832Z"
   },
   {
    "duration": 106888,
    "start_time": "2021-11-21T09:06:12.520Z"
   },
   {
    "duration": 59,
    "start_time": "2021-11-21T09:07:59.410Z"
   },
   {
    "duration": 4,
    "start_time": "2021-11-21T09:38:03.086Z"
   },
   {
    "duration": 107256,
    "start_time": "2021-11-21T09:38:04.271Z"
   },
   {
    "duration": 55,
    "start_time": "2021-11-21T09:39:51.530Z"
   },
   {
    "duration": 5,
    "start_time": "2021-11-21T09:41:02.475Z"
   },
   {
    "duration": 108888,
    "start_time": "2021-11-21T09:41:03.056Z"
   },
   {
    "duration": 285,
    "start_time": "2021-11-21T09:45:04.969Z"
   },
   {
    "duration": 19288,
    "start_time": "2021-11-21T09:45:27.940Z"
   },
   {
    "duration": 394,
    "start_time": "2021-11-21T09:45:54.155Z"
   },
   {
    "duration": 4,
    "start_time": "2021-11-21T09:47:02.972Z"
   },
   {
    "duration": 676,
    "start_time": "2021-11-21T09:49:46.159Z"
   },
   {
    "duration": 654,
    "start_time": "2021-11-21T09:52:38.954Z"
   },
   {
    "duration": 536,
    "start_time": "2021-11-21T09:54:35.285Z"
   },
   {
    "duration": 570,
    "start_time": "2021-11-21T09:54:41.819Z"
   },
   {
    "duration": 245,
    "start_time": "2021-11-21T09:54:45.066Z"
   },
   {
    "duration": 1449,
    "start_time": "2021-11-21T09:54:51.537Z"
   },
   {
    "duration": 4,
    "start_time": "2021-11-21T09:55:14.517Z"
   },
   {
    "duration": 4,
    "start_time": "2021-11-21T09:55:16.613Z"
   },
   {
    "duration": 4,
    "start_time": "2021-11-21T09:55:29.509Z"
   },
   {
    "duration": 18,
    "start_time": "2021-11-21T09:58:21.841Z"
   },
   {
    "duration": 282,
    "start_time": "2021-11-21T09:58:30.852Z"
   },
   {
    "duration": 5,
    "start_time": "2021-11-21T09:58:33.248Z"
   },
   {
    "duration": 659,
    "start_time": "2021-11-21T09:59:46.950Z"
   },
   {
    "duration": 684,
    "start_time": "2021-11-21T09:59:56.315Z"
   },
   {
    "duration": 5,
    "start_time": "2021-11-21T10:00:14.807Z"
   },
   {
    "duration": 4,
    "start_time": "2021-11-21T10:00:26.915Z"
   },
   {
    "duration": 692,
    "start_time": "2021-11-21T10:00:30.956Z"
   },
   {
    "duration": 4,
    "start_time": "2021-11-21T10:00:35.355Z"
   },
   {
    "duration": 747,
    "start_time": "2021-11-21T10:07:01.954Z"
   },
   {
    "duration": 682,
    "start_time": "2021-11-21T10:07:10.220Z"
   },
   {
    "duration": 11,
    "start_time": "2021-11-21T10:11:50.093Z"
   },
   {
    "duration": 4,
    "start_time": "2021-11-21T10:12:30.959Z"
   },
   {
    "duration": 242,
    "start_time": "2021-11-21T10:14:28.288Z"
   },
   {
    "duration": 254,
    "start_time": "2021-11-21T10:14:32.314Z"
   },
   {
    "duration": 10612,
    "start_time": "2021-11-21T10:15:23.532Z"
   },
   {
    "duration": 487,
    "start_time": "2021-11-21T10:16:18.965Z"
   },
   {
    "duration": 221,
    "start_time": "2021-11-21T10:16:32.237Z"
   },
   {
    "duration": 3,
    "start_time": "2021-11-21T10:18:56.403Z"
   },
   {
    "duration": 4,
    "start_time": "2021-11-21T10:20:50.389Z"
   },
   {
    "duration": 5,
    "start_time": "2021-11-21T10:21:21.792Z"
   },
   {
    "duration": 4,
    "start_time": "2021-11-21T10:21:54.933Z"
   },
   {
    "duration": 662,
    "start_time": "2021-11-21T10:21:57.734Z"
   },
   {
    "duration": 4,
    "start_time": "2021-11-21T10:22:15.371Z"
   },
   {
    "duration": 846,
    "start_time": "2021-11-21T10:22:16.092Z"
   },
   {
    "duration": 211,
    "start_time": "2021-11-21T10:23:09.443Z"
   },
   {
    "duration": 220,
    "start_time": "2021-11-21T10:23:53.596Z"
   },
   {
    "duration": 821,
    "start_time": "2021-11-21T10:26:12.733Z"
   },
   {
    "duration": 999,
    "start_time": "2021-11-21T10:26:34.324Z"
   },
   {
    "duration": 232,
    "start_time": "2021-11-21T10:27:18.220Z"
   },
   {
    "duration": 214,
    "start_time": "2021-11-21T10:27:48.381Z"
   },
   {
    "duration": 212,
    "start_time": "2021-11-21T10:28:08.285Z"
   },
   {
    "duration": 456,
    "start_time": "2021-11-21T10:28:42.199Z"
   },
   {
    "duration": 225,
    "start_time": "2021-11-21T10:29:02.163Z"
   },
   {
    "duration": 208,
    "start_time": "2021-11-21T10:29:15.398Z"
   },
   {
    "duration": 215,
    "start_time": "2021-11-21T10:29:35.268Z"
   },
   {
    "duration": 213,
    "start_time": "2021-11-21T10:30:10.557Z"
   },
   {
    "duration": 4,
    "start_time": "2021-11-21T10:30:43.407Z"
   },
   {
    "duration": 86109,
    "start_time": "2021-11-21T10:30:45.584Z"
   },
   {
    "duration": 99,
    "start_time": "2021-11-21T10:32:11.696Z"
   },
   {
    "duration": 4,
    "start_time": "2021-11-21T12:54:59.253Z"
   },
   {
    "duration": 2512,
    "start_time": "2021-11-21T12:59:54.715Z"
   },
   {
    "duration": 1615,
    "start_time": "2021-11-21T12:59:57.230Z"
   },
   {
    "duration": 3,
    "start_time": "2021-11-21T12:59:58.847Z"
   },
   {
    "duration": 637,
    "start_time": "2021-11-21T12:59:58.852Z"
   },
   {
    "duration": 16,
    "start_time": "2021-11-21T12:59:59.491Z"
   },
   {
    "duration": 39,
    "start_time": "2021-11-21T12:59:59.509Z"
   },
   {
    "duration": 227,
    "start_time": "2021-11-21T12:59:59.550Z"
   },
   {
    "duration": 200,
    "start_time": "2021-11-21T12:59:59.780Z"
   },
   {
    "duration": 5,
    "start_time": "2021-11-21T12:59:59.983Z"
   },
   {
    "duration": 94866,
    "start_time": "2021-11-21T12:59:59.990Z"
   },
   {
    "duration": 26,
    "start_time": "2021-11-21T13:01:34.858Z"
   },
   {
    "duration": 73,
    "start_time": "2021-11-21T13:01:34.886Z"
   },
   {
    "duration": 147,
    "start_time": "2021-11-21T13:01:34.961Z"
   },
   {
    "duration": 8,
    "start_time": "2021-11-21T13:01:35.110Z"
   },
   {
    "duration": 6,
    "start_time": "2021-11-21T13:01:35.120Z"
   },
   {
    "duration": 7,
    "start_time": "2021-11-21T13:07:47.753Z"
   },
   {
    "duration": 5,
    "start_time": "2021-11-21T13:09:26.591Z"
   },
   {
    "duration": 6,
    "start_time": "2021-11-21T13:12:55.420Z"
   },
   {
    "duration": 3,
    "start_time": "2021-11-21T13:14:07.068Z"
   },
   {
    "duration": 107,
    "start_time": "2021-11-21T13:14:20.930Z"
   },
   {
    "duration": 38,
    "start_time": "2021-11-21T13:14:25.532Z"
   },
   {
    "duration": 6,
    "start_time": "2021-11-21T13:14:27.580Z"
   },
   {
    "duration": 456,
    "start_time": "2021-11-21T16:20:45.719Z"
   },
   {
    "duration": 8,
    "start_time": "2021-11-21T16:21:05.082Z"
   },
   {
    "duration": 349,
    "start_time": "2021-11-21T16:21:23.863Z"
   },
   {
    "duration": 20,
    "start_time": "2021-11-21T16:21:50.333Z"
   },
   {
    "duration": 363,
    "start_time": "2021-11-21T16:22:00.764Z"
   },
   {
    "duration": 22,
    "start_time": "2021-11-21T16:22:39.883Z"
   },
   {
    "duration": 258,
    "start_time": "2021-11-21T16:27:43.092Z"
   },
   {
    "duration": 11,
    "start_time": "2021-11-21T16:28:06.672Z"
   },
   {
    "duration": 3,
    "start_time": "2021-11-21T16:28:10.463Z"
   },
   {
    "duration": 3,
    "start_time": "2021-11-21T16:28:12.434Z"
   },
   {
    "duration": 215,
    "start_time": "2021-11-21T16:28:27.631Z"
   },
   {
    "duration": 5,
    "start_time": "2021-11-21T16:28:41.664Z"
   },
   {
    "duration": 291,
    "start_time": "2021-11-21T16:28:46.794Z"
   },
   {
    "duration": 1504,
    "start_time": "2021-11-21T16:29:19.547Z"
   },
   {
    "duration": 5,
    "start_time": "2021-11-21T16:29:49.772Z"
   },
   {
    "duration": 421,
    "start_time": "2021-11-21T16:29:53.441Z"
   },
   {
    "duration": 5,
    "start_time": "2021-11-21T16:30:27.693Z"
   },
   {
    "duration": 480,
    "start_time": "2021-11-21T16:30:30.597Z"
   },
   {
    "duration": 315,
    "start_time": "2021-11-21T16:31:09.228Z"
   },
   {
    "duration": 3,
    "start_time": "2021-11-21T16:31:38.846Z"
   },
   {
    "duration": 5,
    "start_time": "2021-11-21T16:31:45.980Z"
   },
   {
    "duration": 843,
    "start_time": "2021-11-21T16:32:01.778Z"
   },
   {
    "duration": 205,
    "start_time": "2021-11-21T16:32:58.883Z"
   },
   {
    "duration": 34,
    "start_time": "2021-11-21T16:33:09.832Z"
   },
   {
    "duration": 293,
    "start_time": "2021-11-21T16:33:10.546Z"
   },
   {
    "duration": 17,
    "start_time": "2021-11-21T16:33:39.565Z"
   },
   {
    "duration": 285,
    "start_time": "2021-11-21T16:34:31.745Z"
   },
   {
    "duration": 7,
    "start_time": "2021-11-21T16:34:41.734Z"
   },
   {
    "duration": 2183,
    "start_time": "2021-11-21T16:35:15.529Z"
   },
   {
    "duration": 1012,
    "start_time": "2021-11-21T16:35:24.213Z"
   },
   {
    "duration": 7,
    "start_time": "2021-11-21T16:35:41.182Z"
   },
   {
    "duration": 6,
    "start_time": "2021-11-21T16:35:51.717Z"
   },
   {
    "duration": 111,
    "start_time": "2021-11-21T16:36:16.912Z"
   },
   {
    "duration": 21,
    "start_time": "2021-11-21T16:36:21.897Z"
   },
   {
    "duration": 265,
    "start_time": "2021-11-21T16:36:39.221Z"
   },
   {
    "duration": 4,
    "start_time": "2021-11-21T16:36:42.566Z"
   },
   {
    "duration": 501,
    "start_time": "2021-11-21T16:36:56.875Z"
   },
   {
    "duration": 469,
    "start_time": "2021-11-21T16:37:42.776Z"
   },
   {
    "duration": 6,
    "start_time": "2021-11-21T16:37:55.115Z"
   },
   {
    "duration": 6,
    "start_time": "2021-11-21T16:38:14.623Z"
   },
   {
    "duration": 496,
    "start_time": "2021-11-21T16:38:35.953Z"
   },
   {
    "duration": 30,
    "start_time": "2021-11-21T16:39:45.161Z"
   },
   {
    "duration": 4,
    "start_time": "2021-11-21T16:40:00.499Z"
   },
   {
    "duration": 283,
    "start_time": "2021-11-21T16:41:34.853Z"
   },
   {
    "duration": 11535,
    "start_time": "2021-11-21T16:41:48.025Z"
   },
   {
    "duration": 4,
    "start_time": "2021-11-21T16:42:09.191Z"
   },
   {
    "duration": 35,
    "start_time": "2021-11-21T16:42:24.829Z"
   },
   {
    "duration": 6863,
    "start_time": "2021-11-21T16:42:25.424Z"
   },
   {
    "duration": 4,
    "start_time": "2021-11-21T16:42:35.226Z"
   },
   {
    "duration": 4,
    "start_time": "2021-11-21T16:42:36.038Z"
   },
   {
    "duration": 457,
    "start_time": "2021-11-21T16:42:39.629Z"
   },
   {
    "duration": 5,
    "start_time": "2021-11-21T16:43:03.711Z"
   },
   {
    "duration": 274,
    "start_time": "2021-11-21T16:43:28.190Z"
   },
   {
    "duration": 7,
    "start_time": "2021-11-21T16:46:52.742Z"
   },
   {
    "duration": 59,
    "start_time": "2021-11-21T16:46:54.967Z"
   },
   {
    "duration": 9449,
    "start_time": "2021-11-21T16:46:55.483Z"
   },
   {
    "duration": 4,
    "start_time": "2021-11-21T16:47:07.514Z"
   },
   {
    "duration": 4,
    "start_time": "2021-11-21T16:47:08.069Z"
   },
   {
    "duration": 540,
    "start_time": "2021-11-21T16:47:23.409Z"
   },
   {
    "duration": 7,
    "start_time": "2021-11-21T16:48:11.738Z"
   },
   {
    "duration": 7,
    "start_time": "2021-11-21T16:48:19.354Z"
   },
   {
    "duration": 628,
    "start_time": "2021-11-21T16:50:06.510Z"
   },
   {
    "duration": 4,
    "start_time": "2021-11-21T16:52:26.989Z"
   },
   {
    "duration": 6,
    "start_time": "2021-11-21T16:52:34.345Z"
   },
   {
    "duration": 7,
    "start_time": "2021-11-21T16:52:42.921Z"
   },
   {
    "duration": 7,
    "start_time": "2021-11-21T16:52:48.582Z"
   },
   {
    "duration": 333,
    "start_time": "2021-11-21T16:53:12.671Z"
   },
   {
    "duration": 332,
    "start_time": "2021-11-21T16:54:05.526Z"
   },
   {
    "duration": 372,
    "start_time": "2021-11-21T16:56:16.545Z"
   },
   {
    "duration": 330,
    "start_time": "2021-11-21T16:56:54.010Z"
   },
   {
    "duration": 487,
    "start_time": "2021-11-21T16:57:30.441Z"
   },
   {
    "duration": 3,
    "start_time": "2021-11-21T16:57:56.003Z"
   },
   {
    "duration": 6,
    "start_time": "2021-11-21T16:58:00.809Z"
   },
   {
    "duration": 276,
    "start_time": "2021-11-21T16:58:08.174Z"
   },
   {
    "duration": 276,
    "start_time": "2021-11-21T16:58:11.981Z"
   },
   {
    "duration": 7,
    "start_time": "2021-11-21T16:58:20.850Z"
   },
   {
    "duration": 329,
    "start_time": "2021-11-21T16:58:44.369Z"
   },
   {
    "duration": 357,
    "start_time": "2021-11-21T16:58:54.175Z"
   },
   {
    "duration": 291,
    "start_time": "2021-11-21T16:59:07.279Z"
   },
   {
    "duration": 385,
    "start_time": "2021-11-21T17:00:07.797Z"
   },
   {
    "duration": 293,
    "start_time": "2021-11-21T17:00:36.585Z"
   },
   {
    "duration": 4,
    "start_time": "2021-11-21T17:01:08.977Z"
   },
   {
    "duration": 5,
    "start_time": "2021-11-21T17:01:12.923Z"
   },
   {
    "duration": 7951,
    "start_time": "2021-11-21T17:01:22.083Z"
   },
   {
    "duration": 8883,
    "start_time": "2021-11-21T17:01:37.149Z"
   },
   {
    "duration": 318,
    "start_time": "2021-11-21T17:01:52.625Z"
   },
   {
    "duration": 11,
    "start_time": "2021-11-21T17:02:01.497Z"
   },
   {
    "duration": 436,
    "start_time": "2021-11-21T17:02:24.396Z"
   },
   {
    "duration": 6,
    "start_time": "2021-11-21T17:02:42.598Z"
   },
   {
    "duration": 3,
    "start_time": "2021-11-21T17:02:45.566Z"
   },
   {
    "duration": 576,
    "start_time": "2021-11-21T17:02:48.237Z"
   },
   {
    "duration": 6791,
    "start_time": "2021-11-21T17:03:49.067Z"
   },
   {
    "duration": 580,
    "start_time": "2021-11-21T17:04:04.333Z"
   },
   {
    "duration": 9,
    "start_time": "2021-11-21T17:05:11.201Z"
   },
   {
    "duration": 568,
    "start_time": "2021-11-21T17:05:14.367Z"
   },
   {
    "duration": 6,
    "start_time": "2021-11-21T17:05:55.981Z"
   },
   {
    "duration": 542,
    "start_time": "2021-11-21T17:06:02.250Z"
   },
   {
    "duration": 7,
    "start_time": "2021-11-21T17:06:31.845Z"
   },
   {
    "duration": 391,
    "start_time": "2021-11-21T17:08:01.517Z"
   },
   {
    "duration": 259,
    "start_time": "2021-11-21T17:08:08.041Z"
   },
   {
    "duration": 3963,
    "start_time": "2021-11-21T17:08:15.108Z"
   },
   {
    "duration": 2625,
    "start_time": "2021-11-21T17:08:19.074Z"
   },
   {
    "duration": 5,
    "start_time": "2021-11-21T17:08:21.703Z"
   },
   {
    "duration": 3532,
    "start_time": "2021-11-21T17:08:21.715Z"
   },
   {
    "duration": 16,
    "start_time": "2021-11-21T17:08:25.249Z"
   },
   {
    "duration": 27,
    "start_time": "2021-11-21T17:08:25.267Z"
   },
   {
    "duration": 280,
    "start_time": "2021-11-21T17:08:25.296Z"
   },
   {
    "duration": 388,
    "start_time": "2021-11-21T17:08:25.581Z"
   },
   {
    "duration": 5,
    "start_time": "2021-11-21T17:08:25.971Z"
   },
   {
    "duration": 99579,
    "start_time": "2021-11-21T17:08:25.979Z"
   },
   {
    "duration": 37,
    "start_time": "2021-11-21T17:10:05.560Z"
   },
   {
    "duration": 91,
    "start_time": "2021-11-21T17:10:05.600Z"
   },
   {
    "duration": 223,
    "start_time": "2021-11-21T17:10:05.693Z"
   },
   {
    "duration": 2,
    "start_time": "2021-11-21T17:10:05.919Z"
   },
   {
    "duration": 5,
    "start_time": "2021-11-21T17:10:05.923Z"
   },
   {
    "duration": 6,
    "start_time": "2021-11-21T17:10:05.930Z"
   },
   {
    "duration": 50,
    "start_time": "2021-11-21T17:10:05.938Z"
   },
   {
    "duration": 9343,
    "start_time": "2021-11-21T17:10:05.991Z"
   },
   {
    "duration": 9,
    "start_time": "2021-11-21T17:10:15.337Z"
   },
   {
    "duration": 375,
    "start_time": "2021-11-21T17:10:18.615Z"
   },
   {
    "duration": 3,
    "start_time": "2021-11-21T17:10:26.107Z"
   },
   {
    "duration": 9023,
    "start_time": "2021-11-21T17:10:28.356Z"
   },
   {
    "duration": 6,
    "start_time": "2021-11-21T17:11:52.494Z"
   },
   {
    "duration": 9867,
    "start_time": "2021-11-21T17:11:56.121Z"
   },
   {
    "duration": 4,
    "start_time": "2021-11-21T17:16:55.660Z"
   },
   {
    "duration": 9375,
    "start_time": "2021-11-21T17:16:58.500Z"
   },
   {
    "duration": 3,
    "start_time": "2021-11-21T17:18:11.307Z"
   },
   {
    "duration": 11162,
    "start_time": "2021-11-21T17:18:13.460Z"
   },
   {
    "duration": 3,
    "start_time": "2021-11-21T17:19:13.130Z"
   },
   {
    "duration": 8410,
    "start_time": "2021-11-21T17:19:15.452Z"
   },
   {
    "duration": 3,
    "start_time": "2021-11-21T17:19:44.687Z"
   },
   {
    "duration": 9026,
    "start_time": "2021-11-21T17:19:45.061Z"
   },
   {
    "duration": 276299,
    "start_time": "2021-11-21T17:21:04.971Z"
   },
   {
    "duration": 4,
    "start_time": "2021-11-21T17:28:09.458Z"
   },
   {
    "duration": 4,
    "start_time": "2021-11-21T17:28:13.720Z"
   },
   {
    "duration": 6,
    "start_time": "2021-11-21T17:32:26.718Z"
   },
   {
    "duration": 5972,
    "start_time": "2021-11-21T17:32:32.233Z"
   },
   {
    "duration": 1938,
    "start_time": "2021-11-21T17:32:36.270Z"
   },
   {
    "duration": 1924,
    "start_time": "2021-11-21T17:32:36.284Z"
   },
   {
    "duration": 5,
    "start_time": "2021-11-21T17:34:53.511Z"
   },
   {
    "duration": 3,
    "start_time": "2021-11-21T17:36:37.800Z"
   },
   {
    "duration": 2,
    "start_time": "2021-11-21T17:36:43.544Z"
   },
   {
    "duration": 3,
    "start_time": "2021-11-21T17:36:46.677Z"
   },
   {
    "duration": 8971,
    "start_time": "2021-11-21T17:37:29.345Z"
   },
   {
    "duration": 2658,
    "start_time": "2021-11-21T18:53:20.043Z"
   },
   {
    "duration": 1508,
    "start_time": "2021-11-21T18:53:22.703Z"
   },
   {
    "duration": 3,
    "start_time": "2021-11-21T18:53:24.213Z"
   },
   {
    "duration": 691,
    "start_time": "2021-11-21T18:53:24.218Z"
   },
   {
    "duration": 17,
    "start_time": "2021-11-21T18:53:24.911Z"
   },
   {
    "duration": 40,
    "start_time": "2021-11-21T18:53:24.929Z"
   },
   {
    "duration": 229,
    "start_time": "2021-11-21T18:53:24.972Z"
   },
   {
    "duration": 190,
    "start_time": "2021-11-21T18:53:25.204Z"
   },
   {
    "duration": 4,
    "start_time": "2021-11-21T18:53:25.396Z"
   },
   {
    "duration": 101297,
    "start_time": "2021-11-21T18:53:25.402Z"
   },
   {
    "duration": 26,
    "start_time": "2021-11-21T18:55:06.701Z"
   },
   {
    "duration": 75,
    "start_time": "2021-11-21T18:55:06.728Z"
   },
   {
    "duration": 148,
    "start_time": "2021-11-21T18:55:06.805Z"
   },
   {
    "duration": 3,
    "start_time": "2021-11-21T18:55:06.955Z"
   },
   {
    "duration": 5,
    "start_time": "2021-11-21T18:55:06.960Z"
   },
   {
    "duration": 6,
    "start_time": "2021-11-21T18:55:06.968Z"
   },
   {
    "duration": 34,
    "start_time": "2021-11-21T18:55:06.975Z"
   },
   {
    "duration": 7843,
    "start_time": "2021-11-21T18:55:07.011Z"
   },
   {
    "duration": 55827,
    "start_time": "2021-11-21T18:55:17.723Z"
   },
   {
    "duration": 54220,
    "start_time": "2021-11-21T18:56:37.550Z"
   },
   {
    "duration": 36,
    "start_time": "2021-11-21T18:57:31.846Z"
   },
   {
    "duration": 252,
    "start_time": "2021-11-21T18:57:32.357Z"
   },
   {
    "duration": 5,
    "start_time": "2021-11-21T18:57:44.396Z"
   },
   {
    "duration": 4,
    "start_time": "2021-11-21T18:57:59.067Z"
   },
   {
    "duration": 4,
    "start_time": "2021-11-21T18:58:25.208Z"
   },
   {
    "duration": 9,
    "start_time": "2021-11-21T18:58:38.652Z"
   },
   {
    "duration": 4,
    "start_time": "2021-11-21T18:58:48.818Z"
   },
   {
    "duration": 4,
    "start_time": "2021-11-21T18:59:05.903Z"
   },
   {
    "duration": 7,
    "start_time": "2021-11-21T18:59:56.474Z"
   },
   {
    "duration": 4,
    "start_time": "2021-11-21T19:00:01.191Z"
   },
   {
    "duration": 4,
    "start_time": "2021-11-21T19:00:05.732Z"
   },
   {
    "duration": 300,
    "start_time": "2021-11-21T19:00:23.788Z"
   },
   {
    "duration": 343,
    "start_time": "2021-11-21T19:00:43.980Z"
   },
   {
    "duration": 303,
    "start_time": "2021-11-21T19:00:53.936Z"
   },
   {
    "duration": 33,
    "start_time": "2021-11-21T19:01:05.825Z"
   },
   {
    "duration": 316,
    "start_time": "2021-11-21T19:01:10.291Z"
   },
   {
    "duration": 39,
    "start_time": "2021-11-21T19:01:22.136Z"
   },
   {
    "duration": 256,
    "start_time": "2021-11-21T19:01:23.934Z"
   },
   {
    "duration": 340,
    "start_time": "2021-11-21T19:02:23.190Z"
   },
   {
    "duration": 293,
    "start_time": "2021-11-21T19:03:15.533Z"
   },
   {
    "duration": 291,
    "start_time": "2021-11-21T19:04:00.314Z"
   },
   {
    "duration": 265,
    "start_time": "2021-11-21T19:04:12.958Z"
   },
   {
    "duration": 373,
    "start_time": "2021-11-21T19:06:49.268Z"
   },
   {
    "duration": 3,
    "start_time": "2021-11-21T19:06:59.822Z"
   },
   {
    "duration": 10,
    "start_time": "2021-11-21T19:07:04.947Z"
   },
   {
    "duration": 99,
    "start_time": "2021-11-21T19:07:16.953Z"
   },
   {
    "duration": 259,
    "start_time": "2021-11-21T19:07:23.172Z"
   },
   {
    "duration": 5,
    "start_time": "2021-11-21T19:07:36.051Z"
   },
   {
    "duration": 4,
    "start_time": "2021-11-21T19:07:38.438Z"
   },
   {
    "duration": 303,
    "start_time": "2021-11-21T19:08:15.638Z"
   },
   {
    "duration": 4,
    "start_time": "2021-11-21T19:08:35.531Z"
   },
   {
    "duration": 4,
    "start_time": "2021-11-21T19:08:57.316Z"
   },
   {
    "duration": 13,
    "start_time": "2021-11-21T19:09:01.866Z"
   },
   {
    "duration": 5,
    "start_time": "2021-11-21T19:09:15.020Z"
   },
   {
    "duration": 4,
    "start_time": "2021-11-21T19:09:18.975Z"
   },
   {
    "duration": 5,
    "start_time": "2021-11-21T19:11:01.549Z"
   },
   {
    "duration": 11,
    "start_time": "2021-11-21T19:11:04.474Z"
   },
   {
    "duration": 7,
    "start_time": "2021-11-21T19:11:16.932Z"
   },
   {
    "duration": 12,
    "start_time": "2021-11-21T19:11:53.343Z"
   },
   {
    "duration": 92,
    "start_time": "2021-11-21T19:14:50.629Z"
   },
   {
    "duration": 6,
    "start_time": "2021-11-21T19:15:07.566Z"
   },
   {
    "duration": 98,
    "start_time": "2021-11-21T19:16:03.443Z"
   },
   {
    "duration": 6,
    "start_time": "2021-11-21T19:16:09.516Z"
   },
   {
    "duration": 587,
    "start_time": "2021-11-21T19:17:03.681Z"
   },
   {
    "duration": 273,
    "start_time": "2021-11-21T19:17:09.858Z"
   },
   {
    "duration": 200,
    "start_time": "2021-11-21T19:17:17.676Z"
   },
   {
    "duration": 240,
    "start_time": "2021-11-21T19:17:59.428Z"
   },
   {
    "duration": 366,
    "start_time": "2021-11-21T19:18:03.299Z"
   },
   {
    "duration": 280,
    "start_time": "2021-11-21T19:18:18.120Z"
   },
   {
    "duration": 407,
    "start_time": "2021-11-21T19:18:23.626Z"
   },
   {
    "duration": 310,
    "start_time": "2021-11-21T19:18:42.560Z"
   },
   {
    "duration": 316,
    "start_time": "2021-11-21T19:18:45.472Z"
   },
   {
    "duration": 334,
    "start_time": "2021-11-21T19:18:48.612Z"
   },
   {
    "duration": 411,
    "start_time": "2021-11-21T19:18:51.627Z"
   },
   {
    "duration": 612,
    "start_time": "2021-11-21T19:18:55.682Z"
   },
   {
    "duration": 333,
    "start_time": "2021-11-21T19:19:04.449Z"
   },
   {
    "duration": 491,
    "start_time": "2021-11-21T19:19:45.216Z"
   },
   {
    "duration": 661,
    "start_time": "2021-11-21T19:20:06.513Z"
   },
   {
    "duration": 614,
    "start_time": "2021-11-21T19:20:35.714Z"
   },
   {
    "duration": 451,
    "start_time": "2021-11-21T19:20:45.592Z"
   },
   {
    "duration": 523,
    "start_time": "2021-11-21T19:21:19.153Z"
   },
   {
    "duration": 519,
    "start_time": "2021-11-21T19:21:48.869Z"
   },
   {
    "duration": 534,
    "start_time": "2021-11-21T19:21:54.002Z"
   },
   {
    "duration": 632,
    "start_time": "2021-11-21T19:22:42.196Z"
   },
   {
    "duration": 417,
    "start_time": "2021-11-21T19:22:46.587Z"
   },
   {
    "duration": 4,
    "start_time": "2021-11-21T19:29:39.651Z"
   },
   {
    "duration": 227,
    "start_time": "2021-11-21T19:29:42.042Z"
   },
   {
    "duration": 294,
    "start_time": "2021-11-21T19:29:42.437Z"
   },
   {
    "duration": 2,
    "start_time": "2021-11-21T19:30:33.336Z"
   },
   {
    "duration": 183,
    "start_time": "2021-11-21T19:30:34.470Z"
   },
   {
    "duration": 3,
    "start_time": "2021-11-21T19:31:11.748Z"
   },
   {
    "duration": 176563,
    "start_time": "2021-11-21T19:31:12.234Z"
   },
   {
    "duration": 4,
    "start_time": "2021-11-21T19:34:08.799Z"
   },
   {
    "duration": 3,
    "start_time": "2021-11-21T19:35:38.916Z"
   },
   {
    "duration": 138980,
    "start_time": "2021-11-21T19:35:39.058Z"
   },
   {
    "duration": 5,
    "start_time": "2021-11-21T19:37:58.040Z"
   },
   {
    "duration": 3,
    "start_time": "2021-11-21T20:31:08.332Z"
   },
   {
    "duration": 2352109,
    "start_time": "2021-11-21T20:31:08.983Z"
   },
   {
    "duration": 6,
    "start_time": "2021-11-21T21:10:21.094Z"
   },
   {
    "duration": 45,
    "start_time": "2021-11-21T21:10:30.517Z"
   },
   {
    "duration": 5,
    "start_time": "2021-11-21T21:10:32.699Z"
   },
   {
    "duration": 4,
    "start_time": "2021-11-21T21:10:33.524Z"
   },
   {
    "duration": 26,
    "start_time": "2021-11-21T21:10:46.287Z"
   },
   {
    "duration": 4,
    "start_time": "2021-11-21T21:10:46.751Z"
   },
   {
    "duration": 5,
    "start_time": "2021-11-21T21:10:47.282Z"
   },
   {
    "duration": 28,
    "start_time": "2021-11-21T21:10:55.134Z"
   },
   {
    "duration": 4,
    "start_time": "2021-11-21T21:10:55.788Z"
   },
   {
    "duration": 4,
    "start_time": "2021-11-21T21:10:56.459Z"
   },
   {
    "duration": 28,
    "start_time": "2021-11-21T21:11:05.618Z"
   },
   {
    "duration": 4,
    "start_time": "2021-11-21T21:11:06.081Z"
   },
   {
    "duration": 4,
    "start_time": "2021-11-21T21:11:06.595Z"
   },
   {
    "duration": 27,
    "start_time": "2021-11-21T21:11:21.229Z"
   },
   {
    "duration": 4,
    "start_time": "2021-11-21T21:11:21.850Z"
   },
   {
    "duration": 4,
    "start_time": "2021-11-21T21:11:22.608Z"
   },
   {
    "duration": 28,
    "start_time": "2021-11-21T21:11:42.566Z"
   },
   {
    "duration": 4,
    "start_time": "2021-11-21T21:11:43.040Z"
   },
   {
    "duration": 4,
    "start_time": "2021-11-21T21:11:43.670Z"
   },
   {
    "duration": 27,
    "start_time": "2021-11-21T21:11:48.730Z"
   },
   {
    "duration": 4,
    "start_time": "2021-11-21T21:11:49.220Z"
   },
   {
    "duration": 4,
    "start_time": "2021-11-21T21:11:49.791Z"
   },
   {
    "duration": 43,
    "start_time": "2021-11-21T21:11:53.315Z"
   },
   {
    "duration": 5,
    "start_time": "2021-11-21T21:11:53.665Z"
   },
   {
    "duration": 4,
    "start_time": "2021-11-21T21:11:54.226Z"
   },
   {
    "duration": 26,
    "start_time": "2021-11-21T21:11:57.207Z"
   },
   {
    "duration": 4,
    "start_time": "2021-11-21T21:11:58.156Z"
   },
   {
    "duration": 30,
    "start_time": "2021-11-21T21:12:02.578Z"
   },
   {
    "duration": 4,
    "start_time": "2021-11-21T21:12:03.050Z"
   },
   {
    "duration": 4,
    "start_time": "2021-11-21T21:12:03.991Z"
   },
   {
    "duration": 27,
    "start_time": "2021-11-21T21:12:16.216Z"
   },
   {
    "duration": 4,
    "start_time": "2021-11-21T21:12:16.467Z"
   },
   {
    "duration": 5,
    "start_time": "2021-11-21T21:12:17.022Z"
   },
   {
    "duration": 8,
    "start_time": "2021-11-22T19:33:59.554Z"
   },
   {
    "duration": 590,
    "start_time": "2021-11-22T19:34:00.250Z"
   },
   {
    "duration": 1748,
    "start_time": "2021-11-22T19:34:39.149Z"
   },
   {
    "duration": 7710,
    "start_time": "2021-11-22T19:34:44.826Z"
   },
   {
    "duration": 275,
    "start_time": "2021-11-22T19:34:52.538Z"
   },
   {
    "duration": 2576,
    "start_time": "2021-11-22T19:35:08.989Z"
   },
   {
    "duration": 1470,
    "start_time": "2021-11-22T19:35:11.949Z"
   },
   {
    "duration": 6,
    "start_time": "2021-11-22T19:36:02.110Z"
   },
   {
    "duration": 726,
    "start_time": "2021-11-22T19:36:02.699Z"
   },
   {
    "duration": 665,
    "start_time": "2021-11-22T19:36:08.382Z"
   },
   {
    "duration": 10,
    "start_time": "2021-11-22T19:36:17.505Z"
   },
   {
    "duration": 578,
    "start_time": "2021-11-22T19:36:34.350Z"
   },
   {
    "duration": 7,
    "start_time": "2021-11-22T19:37:51.150Z"
   },
   {
    "duration": 540,
    "start_time": "2021-11-22T19:37:51.802Z"
   },
   {
    "duration": 4,
    "start_time": "2021-11-22T19:38:05.720Z"
   },
   {
    "duration": 4,
    "start_time": "2021-11-22T19:38:09.197Z"
   },
   {
    "duration": 593,
    "start_time": "2021-11-22T19:38:09.993Z"
   },
   {
    "duration": 819,
    "start_time": "2021-11-22T19:38:24.763Z"
   },
   {
    "duration": 1449,
    "start_time": "2021-11-22T19:38:27.691Z"
   },
   {
    "duration": 10,
    "start_time": "2021-11-22T19:39:45.344Z"
   },
   {
    "duration": 5,
    "start_time": "2021-11-22T19:40:05.018Z"
   },
   {
    "duration": 10,
    "start_time": "2021-11-22T19:40:06.211Z"
   },
   {
    "duration": 11,
    "start_time": "2021-11-22T19:40:08.597Z"
   },
   {
    "duration": 257,
    "start_time": "2021-11-22T19:41:34.292Z"
   },
   {
    "duration": 420,
    "start_time": "2021-11-22T19:41:46.589Z"
   },
   {
    "duration": 8,
    "start_time": "2021-11-22T19:41:57.091Z"
   },
   {
    "duration": 9,
    "start_time": "2021-11-22T19:41:57.200Z"
   },
   {
    "duration": 5,
    "start_time": "2021-11-22T19:42:17.106Z"
   },
   {
    "duration": 9,
    "start_time": "2021-11-22T19:42:19.569Z"
   },
   {
    "duration": 93,
    "start_time": "2021-11-22T19:42:39.505Z"
   },
   {
    "duration": 9,
    "start_time": "2021-11-22T19:42:45.410Z"
   },
   {
    "duration": 4,
    "start_time": "2021-11-22T19:43:27.545Z"
   },
   {
    "duration": 200,
    "start_time": "2021-11-22T19:43:32.980Z"
   },
   {
    "duration": 3163,
    "start_time": "2021-11-22T19:43:39.189Z"
   },
   {
    "duration": 6,
    "start_time": "2021-11-22T19:43:42.355Z"
   },
   {
    "duration": 18,
    "start_time": "2021-11-22T19:43:42.363Z"
   },
   {
    "duration": 3050,
    "start_time": "2021-11-22T19:43:42.383Z"
   },
   {
    "duration": 19,
    "start_time": "2021-11-22T19:43:45.435Z"
   },
   {
    "duration": 35,
    "start_time": "2021-11-22T19:43:45.456Z"
   },
   {
    "duration": 233,
    "start_time": "2021-11-22T19:43:45.493Z"
   },
   {
    "duration": 200,
    "start_time": "2021-11-22T19:43:45.728Z"
   },
   {
    "duration": 5,
    "start_time": "2021-11-22T19:43:45.931Z"
   },
   {
    "duration": 11,
    "start_time": "2021-11-22T19:43:45.938Z"
   },
   {
    "duration": 10,
    "start_time": "2021-11-22T19:43:45.951Z"
   },
   {
    "duration": 510182,
    "start_time": "2021-11-22T19:43:45.962Z"
   },
   {
    "duration": 29,
    "start_time": "2021-11-22T19:52:16.146Z"
   },
   {
    "duration": 2754,
    "start_time": "2021-11-22T19:55:23.201Z"
   },
   {
    "duration": 6,
    "start_time": "2021-11-22T19:55:25.957Z"
   },
   {
    "duration": 5,
    "start_time": "2021-11-22T19:55:25.965Z"
   },
   {
    "duration": 625,
    "start_time": "2021-11-22T19:55:25.972Z"
   },
   {
    "duration": 11,
    "start_time": "2021-11-22T19:55:26.599Z"
   },
   {
    "duration": 37,
    "start_time": "2021-11-22T19:55:26.612Z"
   },
   {
    "duration": 215,
    "start_time": "2021-11-22T19:55:26.650Z"
   },
   {
    "duration": 194,
    "start_time": "2021-11-22T19:55:26.866Z"
   },
   {
    "duration": 6,
    "start_time": "2021-11-22T19:55:27.063Z"
   },
   {
    "duration": 5,
    "start_time": "2021-11-22T19:55:27.071Z"
   },
   {
    "duration": 5,
    "start_time": "2021-11-22T19:55:27.078Z"
   },
   {
    "duration": 3151,
    "start_time": "2021-11-22T19:55:27.084Z"
   },
   {
    "duration": 2760,
    "start_time": "2021-11-22T19:55:36.953Z"
   },
   {
    "duration": 1498,
    "start_time": "2021-11-22T19:55:39.715Z"
   },
   {
    "duration": 3,
    "start_time": "2021-11-22T19:55:41.216Z"
   },
   {
    "duration": 641,
    "start_time": "2021-11-22T19:55:41.221Z"
   },
   {
    "duration": 15,
    "start_time": "2021-11-22T19:55:41.863Z"
   },
   {
    "duration": 26,
    "start_time": "2021-11-22T19:55:41.879Z"
   },
   {
    "duration": 241,
    "start_time": "2021-11-22T19:55:41.906Z"
   },
   {
    "duration": 190,
    "start_time": "2021-11-22T19:55:42.149Z"
   },
   {
    "duration": 204,
    "start_time": "2021-11-22T19:55:42.341Z"
   },
   {
    "duration": 4,
    "start_time": "2021-11-22T19:55:42.546Z"
   },
   {
    "duration": 8,
    "start_time": "2021-11-22T19:55:42.552Z"
   },
   {
    "duration": 517686,
    "start_time": "2021-11-22T19:55:42.562Z"
   },
   {
    "duration": 26,
    "start_time": "2021-11-22T20:04:20.249Z"
   },
   {
    "duration": 79,
    "start_time": "2021-11-22T20:04:20.277Z"
   },
   {
    "duration": 95,
    "start_time": "2021-11-22T20:04:20.357Z"
   },
   {
    "duration": 3,
    "start_time": "2021-11-22T20:04:20.453Z"
   },
   {
    "duration": 21,
    "start_time": "2021-11-22T20:04:20.457Z"
   },
   {
    "duration": 32,
    "start_time": "2021-11-22T20:04:20.479Z"
   },
   {
    "duration": 53,
    "start_time": "2021-11-22T20:04:20.513Z"
   },
   {
    "duration": 6428,
    "start_time": "2021-11-22T20:04:20.568Z"
   },
   {
    "duration": 47756,
    "start_time": "2021-11-22T20:04:26.998Z"
   },
   {
    "duration": 107,
    "start_time": "2021-11-22T20:05:14.756Z"
   },
   {
    "duration": 4,
    "start_time": "2021-11-22T20:05:14.866Z"
   },
   {
    "duration": 4,
    "start_time": "2021-11-22T20:05:14.872Z"
   },
   {
    "duration": 428,
    "start_time": "2021-11-22T20:05:14.878Z"
   },
   {
    "duration": 26,
    "start_time": "2021-11-22T20:05:15.307Z"
   },
   {
    "duration": 13,
    "start_time": "2021-11-22T20:05:15.335Z"
   },
   {
    "duration": 5,
    "start_time": "2021-11-22T20:05:15.350Z"
   },
   {
    "duration": 3,
    "start_time": "2021-11-22T20:05:15.357Z"
   },
   {
    "duration": 8867,
    "start_time": "2021-11-22T20:05:15.362Z"
   },
   {
    "duration": 347,
    "start_time": "2021-11-22T20:05:24.231Z"
   },
   {
    "duration": 93,
    "start_time": "2021-11-22T20:05:24.488Z"
   },
   {
    "duration": 88,
    "start_time": "2021-11-22T20:05:24.494Z"
   },
   {
    "duration": 74,
    "start_time": "2021-11-22T20:05:24.509Z"
   },
   {
    "duration": 67,
    "start_time": "2021-11-22T20:05:24.517Z"
   },
   {
    "duration": 61,
    "start_time": "2021-11-22T20:05:24.524Z"
   },
   {
    "duration": 54,
    "start_time": "2021-11-22T20:05:24.532Z"
   },
   {
    "duration": 1112175,
    "start_time": "2021-11-22T20:24:07.038Z"
   },
   {
    "duration": 5,
    "start_time": "2021-11-22T20:42:39.216Z"
   },
   {
    "duration": 4,
    "start_time": "2021-11-22T20:42:39.223Z"
   },
   {
    "duration": 188,
    "start_time": "2021-11-22T20:42:39.245Z"
   },
   {
    "duration": 262,
    "start_time": "2021-11-22T20:42:39.435Z"
   },
   {
    "duration": 6,
    "start_time": "2021-11-22T20:47:00.410Z"
   },
   {
    "duration": 3,
    "start_time": "2021-11-22T20:47:06.341Z"
   },
   {
    "duration": 564,
    "start_time": "2021-11-22T20:47:07.335Z"
   },
   {
    "duration": 623,
    "start_time": "2021-11-22T20:47:07.901Z"
   },
   {
    "duration": 3,
    "start_time": "2021-11-22T20:47:30.305Z"
   },
   {
    "duration": 501,
    "start_time": "2021-11-22T20:47:30.597Z"
   },
   {
    "duration": 2700,
    "start_time": "2021-11-22T20:47:53.728Z"
   },
   {
    "duration": 5,
    "start_time": "2021-11-22T20:47:56.430Z"
   },
   {
    "duration": 6,
    "start_time": "2021-11-22T20:47:56.437Z"
   },
   {
    "duration": 658,
    "start_time": "2021-11-22T20:47:56.445Z"
   },
   {
    "duration": 12,
    "start_time": "2021-11-22T20:47:57.107Z"
   },
   {
    "duration": 37,
    "start_time": "2021-11-22T20:47:57.121Z"
   },
   {
    "duration": 218,
    "start_time": "2021-11-22T20:47:57.160Z"
   },
   {
    "duration": 180,
    "start_time": "2021-11-22T20:47:57.381Z"
   },
   {
    "duration": 4,
    "start_time": "2021-11-22T20:47:57.563Z"
   },
   {
    "duration": 5,
    "start_time": "2021-11-22T20:47:57.568Z"
   },
   {
    "duration": 3,
    "start_time": "2021-11-22T20:47:57.575Z"
   },
   {
    "duration": 497714,
    "start_time": "2021-11-22T20:47:57.579Z"
   },
   {
    "duration": 27,
    "start_time": "2021-11-22T20:56:15.295Z"
   },
   {
    "duration": 80,
    "start_time": "2021-11-22T20:56:15.323Z"
   },
   {
    "duration": 143,
    "start_time": "2021-11-22T20:56:15.405Z"
   },
   {
    "duration": 2,
    "start_time": "2021-11-22T20:56:15.550Z"
   },
   {
    "duration": 5,
    "start_time": "2021-11-22T20:56:15.554Z"
   },
   {
    "duration": 5,
    "start_time": "2021-11-22T20:56:15.560Z"
   },
   {
    "duration": 47,
    "start_time": "2021-11-22T20:56:15.567Z"
   },
   {
    "duration": 6418,
    "start_time": "2021-11-22T20:56:15.616Z"
   },
   {
    "duration": 46710,
    "start_time": "2021-11-22T20:56:22.035Z"
   },
   {
    "duration": 31,
    "start_time": "2021-11-22T20:57:08.747Z"
   },
   {
    "duration": 4,
    "start_time": "2021-11-22T20:57:08.780Z"
   },
   {
    "duration": 7,
    "start_time": "2021-11-22T20:57:08.785Z"
   },
   {
    "duration": 497,
    "start_time": "2021-11-22T20:57:08.793Z"
   },
   {
    "duration": 23,
    "start_time": "2021-11-22T20:57:09.292Z"
   },
   {
    "duration": 3,
    "start_time": "2021-11-22T20:57:09.317Z"
   },
   {
    "duration": 4,
    "start_time": "2021-11-22T20:57:09.322Z"
   },
   {
    "duration": 21,
    "start_time": "2021-11-22T20:57:09.328Z"
   },
   {
    "duration": 8401,
    "start_time": "2021-11-22T20:57:09.351Z"
   },
   {
    "duration": 265,
    "start_time": "2021-11-22T20:57:17.754Z"
   },
   {
    "duration": 3,
    "start_time": "2021-11-22T20:57:41.729Z"
   },
   {
    "duration": 1319046,
    "start_time": "2021-11-22T20:57:42.769Z"
   },
   {
    "duration": 4,
    "start_time": "2021-11-22T21:19:41.817Z"
   },
   {
    "duration": 4,
    "start_time": "2021-11-22T21:19:41.823Z"
   },
   {
    "duration": 204,
    "start_time": "2021-11-22T21:19:41.829Z"
   },
   {
    "duration": 290,
    "start_time": "2021-11-22T21:19:42.035Z"
   },
   {
    "duration": 9545,
    "start_time": "2021-11-23T18:19:20.621Z"
   },
   {
    "duration": 1468,
    "start_time": "2021-11-23T18:19:30.168Z"
   },
   {
    "duration": 3,
    "start_time": "2021-11-23T18:19:31.638Z"
   },
   {
    "duration": 596,
    "start_time": "2021-11-23T18:19:31.642Z"
   },
   {
    "duration": 15,
    "start_time": "2021-11-23T18:19:32.240Z"
   },
   {
    "duration": 33,
    "start_time": "2021-11-23T18:19:32.256Z"
   },
   {
    "duration": 217,
    "start_time": "2021-11-23T18:19:32.291Z"
   },
   {
    "duration": 194,
    "start_time": "2021-11-23T18:19:32.512Z"
   },
   {
    "duration": 631,
    "start_time": "2021-11-23T18:19:32.708Z"
   },
   {
    "duration": 4,
    "start_time": "2021-11-23T18:19:33.341Z"
   },
   {
    "duration": 8,
    "start_time": "2021-11-23T18:19:33.347Z"
   },
   {
    "duration": 517111,
    "start_time": "2021-11-23T18:19:33.357Z"
   },
   {
    "duration": 40,
    "start_time": "2021-11-23T18:28:10.470Z"
   },
   {
    "duration": 64,
    "start_time": "2021-11-23T18:28:10.512Z"
   },
   {
    "duration": 237,
    "start_time": "2021-11-23T18:28:10.578Z"
   },
   {
    "duration": 3,
    "start_time": "2021-11-23T18:28:10.817Z"
   },
   {
    "duration": 9,
    "start_time": "2021-11-23T18:28:10.821Z"
   },
   {
    "duration": 12,
    "start_time": "2021-11-23T18:28:10.832Z"
   },
   {
    "duration": 44,
    "start_time": "2021-11-23T18:28:10.845Z"
   },
   {
    "duration": 6578,
    "start_time": "2021-11-23T18:28:10.891Z"
   },
   {
    "duration": 49640,
    "start_time": "2021-11-23T18:28:17.471Z"
   },
   {
    "duration": 33,
    "start_time": "2021-11-23T18:29:07.113Z"
   },
   {
    "duration": 4,
    "start_time": "2021-11-23T18:29:07.149Z"
   },
   {
    "duration": 8,
    "start_time": "2021-11-23T18:29:07.155Z"
   },
   {
    "duration": 505,
    "start_time": "2021-11-23T18:29:07.164Z"
   },
   {
    "duration": 26,
    "start_time": "2021-11-23T18:29:07.670Z"
   },
   {
    "duration": 10,
    "start_time": "2021-11-23T18:29:07.698Z"
   },
   {
    "duration": 13,
    "start_time": "2021-11-23T18:29:07.710Z"
   },
   {
    "duration": 6,
    "start_time": "2021-11-23T18:29:07.725Z"
   },
   {
    "duration": 5089187,
    "start_time": "2021-11-23T18:29:07.732Z"
   },
   {
    "duration": 5,
    "start_time": "2021-11-23T19:53:56.920Z"
   },
   {
    "duration": 6,
    "start_time": "2021-11-23T19:53:56.926Z"
   },
   {
    "duration": 254,
    "start_time": "2021-11-23T19:53:56.934Z"
   },
   {
    "duration": 442,
    "start_time": "2021-11-23T19:53:57.190Z"
   },
   {
    "duration": 233,
    "start_time": "2021-11-23T19:53:57.401Z"
   },
   {
    "duration": 228,
    "start_time": "2021-11-23T19:53:57.407Z"
   },
   {
    "duration": 221,
    "start_time": "2021-11-23T19:53:57.415Z"
   },
   {
    "duration": 3,
    "start_time": "2021-11-23T19:59:10.485Z"
   },
   {
    "duration": 167587,
    "start_time": "2021-11-23T19:59:10.493Z"
   },
   {
    "duration": 4,
    "start_time": "2021-11-23T20:01:58.082Z"
   },
   {
    "duration": 24,
    "start_time": "2021-11-23T20:01:58.088Z"
   },
   {
    "duration": 734524,
    "start_time": "2021-11-23T20:01:58.114Z"
   },
   {
    "duration": 2,
    "start_time": "2021-11-23T20:14:12.640Z"
   },
   {
    "duration": 4,
    "start_time": "2021-11-23T20:15:02.789Z"
   },
   {
    "duration": 16612,
    "start_time": "2021-11-23T20:15:02.794Z"
   },
   {
    "duration": 381,
    "start_time": "2021-11-23T20:15:19.408Z"
   },
   {
    "duration": 335,
    "start_time": "2021-11-23T20:15:19.456Z"
   },
   {
    "duration": 324,
    "start_time": "2021-11-23T20:15:19.468Z"
   },
   {
    "duration": 317,
    "start_time": "2021-11-23T20:15:19.476Z"
   },
   {
    "duration": 311,
    "start_time": "2021-11-23T20:15:19.484Z"
   },
   {
    "duration": 305,
    "start_time": "2021-11-23T20:15:19.491Z"
   },
   {
    "duration": 299,
    "start_time": "2021-11-23T20:15:19.498Z"
   },
   {
    "duration": 273,
    "start_time": "2021-11-23T20:15:19.525Z"
   },
   {
    "duration": 265,
    "start_time": "2021-11-23T20:15:19.534Z"
   },
   {
    "duration": 258,
    "start_time": "2021-11-23T20:15:19.541Z"
   },
   {
    "duration": 252,
    "start_time": "2021-11-23T20:15:19.548Z"
   },
   {
    "duration": 2,
    "start_time": "2021-11-23T20:15:25.023Z"
   },
   {
    "duration": 3,
    "start_time": "2021-11-23T20:15:33.087Z"
   },
   {
    "duration": 201371,
    "start_time": "2021-11-23T20:15:33.094Z"
   },
   {
    "duration": 4,
    "start_time": "2021-11-23T20:18:54.467Z"
   },
   {
    "duration": 365,
    "start_time": "2021-11-23T20:18:54.473Z"
   },
   {
    "duration": 301,
    "start_time": "2021-11-23T20:18:54.539Z"
   },
   {
    "duration": 292,
    "start_time": "2021-11-23T20:18:54.548Z"
   },
   {
    "duration": 287,
    "start_time": "2021-11-23T20:18:54.554Z"
   },
   {
    "duration": 279,
    "start_time": "2021-11-23T20:18:54.563Z"
   },
   {
    "duration": 273,
    "start_time": "2021-11-23T20:18:54.570Z"
   },
   {
    "duration": 265,
    "start_time": "2021-11-23T20:18:54.579Z"
   },
   {
    "duration": 260,
    "start_time": "2021-11-23T20:18:54.585Z"
   },
   {
    "duration": 250,
    "start_time": "2021-11-23T20:18:54.596Z"
   },
   {
    "duration": 245,
    "start_time": "2021-11-23T20:18:54.602Z"
   },
   {
    "duration": 5,
    "start_time": "2021-11-23T20:26:12.065Z"
   },
   {
    "duration": 2,
    "start_time": "2021-11-23T20:29:57.794Z"
   },
   {
    "duration": 181414,
    "start_time": "2021-11-23T20:29:57.801Z"
   },
   {
    "duration": 5,
    "start_time": "2021-11-23T20:32:59.217Z"
   },
   {
    "duration": 366,
    "start_time": "2021-11-23T20:32:59.224Z"
   },
   {
    "duration": 310,
    "start_time": "2021-11-23T20:32:59.282Z"
   },
   {
    "duration": 304,
    "start_time": "2021-11-23T20:32:59.289Z"
   },
   {
    "duration": 299,
    "start_time": "2021-11-23T20:32:59.295Z"
   },
   {
    "duration": 293,
    "start_time": "2021-11-23T20:32:59.303Z"
   },
   {
    "duration": 288,
    "start_time": "2021-11-23T20:32:59.309Z"
   },
   {
    "duration": 281,
    "start_time": "2021-11-23T20:32:59.317Z"
   },
   {
    "duration": 274,
    "start_time": "2021-11-23T20:32:59.325Z"
   },
   {
    "duration": 267,
    "start_time": "2021-11-23T20:32:59.333Z"
   },
   {
    "duration": 262,
    "start_time": "2021-11-23T20:32:59.339Z"
   },
   {
    "duration": 5,
    "start_time": "2021-11-23T20:49:05.272Z"
   },
   {
    "duration": 411,
    "start_time": "2021-11-23T20:49:05.281Z"
   },
   {
    "duration": 325,
    "start_time": "2021-11-23T20:49:05.370Z"
   },
   {
    "duration": 316,
    "start_time": "2021-11-23T20:49:05.380Z"
   },
   {
    "duration": 310,
    "start_time": "2021-11-23T20:49:05.387Z"
   },
   {
    "duration": 303,
    "start_time": "2021-11-23T20:49:05.395Z"
   },
   {
    "duration": 297,
    "start_time": "2021-11-23T20:49:05.402Z"
   },
   {
    "duration": 289,
    "start_time": "2021-11-23T20:49:05.411Z"
   },
   {
    "duration": 282,
    "start_time": "2021-11-23T20:49:05.419Z"
   },
   {
    "duration": 274,
    "start_time": "2021-11-23T20:49:05.428Z"
   },
   {
    "duration": 268,
    "start_time": "2021-11-23T20:49:05.434Z"
   },
   {
    "duration": 2,
    "start_time": "2021-11-23T20:50:41.372Z"
   },
   {
    "duration": 465737,
    "start_time": "2021-11-23T20:50:41.377Z"
   },
   {
    "duration": 2,
    "start_time": "2021-11-23T20:58:27.116Z"
   },
   {
    "duration": 22991,
    "start_time": "2021-11-23T20:58:27.121Z"
   },
   {
    "duration": 2,
    "start_time": "2021-11-23T20:58:50.114Z"
   },
   {
    "duration": 12100,
    "start_time": "2021-11-24T16:51:29.789Z"
   },
   {
    "duration": 2159,
    "start_time": "2021-11-24T16:51:41.892Z"
   },
   {
    "duration": 5,
    "start_time": "2021-11-24T16:51:44.054Z"
   },
   {
    "duration": 825,
    "start_time": "2021-11-24T16:51:44.062Z"
   },
   {
    "duration": 19,
    "start_time": "2021-11-24T16:51:44.890Z"
   },
   {
    "duration": 44,
    "start_time": "2021-11-24T16:51:44.911Z"
   },
   {
    "duration": 327,
    "start_time": "2021-11-24T16:51:44.960Z"
   },
   {
    "duration": 412,
    "start_time": "2021-11-24T16:51:45.291Z"
   },
   {
    "duration": 680,
    "start_time": "2021-11-24T16:51:45.705Z"
   },
   {
    "duration": 8,
    "start_time": "2021-11-24T16:51:46.388Z"
   },
   {
    "duration": 21,
    "start_time": "2021-11-24T16:51:46.398Z"
   },
   {
    "duration": 987691,
    "start_time": "2021-11-24T16:51:46.421Z"
   },
   {
    "duration": 52,
    "start_time": "2021-11-24T17:08:14.115Z"
   },
   {
    "duration": 102,
    "start_time": "2021-11-24T17:08:14.169Z"
   },
   {
    "duration": 163,
    "start_time": "2021-11-24T17:08:14.274Z"
   },
   {
    "duration": 5,
    "start_time": "2021-11-24T17:08:14.441Z"
   },
   {
    "duration": 8,
    "start_time": "2021-11-24T17:08:14.449Z"
   },
   {
    "duration": 12,
    "start_time": "2021-11-24T17:08:14.460Z"
   },
   {
    "duration": 76,
    "start_time": "2021-11-24T17:08:14.474Z"
   },
   {
    "duration": 12546,
    "start_time": "2021-11-24T17:08:14.553Z"
   },
   {
    "duration": 65430,
    "start_time": "2021-11-24T17:08:27.101Z"
   },
   {
    "duration": 47,
    "start_time": "2021-11-24T17:09:32.539Z"
   },
   {
    "duration": 5,
    "start_time": "2021-11-24T17:09:32.591Z"
   },
   {
    "duration": 9,
    "start_time": "2021-11-24T17:09:32.599Z"
   },
   {
    "duration": 719,
    "start_time": "2021-11-24T17:09:32.637Z"
   },
   {
    "duration": 29,
    "start_time": "2021-11-24T17:09:33.360Z"
   },
   {
    "duration": 5,
    "start_time": "2021-11-24T17:09:33.391Z"
   },
   {
    "duration": 35,
    "start_time": "2021-11-24T17:09:33.399Z"
   },
   {
    "duration": 16,
    "start_time": "2021-11-24T17:09:33.438Z"
   },
   {
    "duration": 428,
    "start_time": "2021-11-24T17:09:33.458Z"
   },
   {
    "duration": 417,
    "start_time": "2021-11-24T17:09:33.888Z"
   },
   {
    "duration": -751,
    "start_time": "2021-11-24T17:09:35.058Z"
   },
   {
    "duration": -758,
    "start_time": "2021-11-24T17:09:35.066Z"
   },
   {
    "duration": -764,
    "start_time": "2021-11-24T17:09:35.074Z"
   },
   {
    "duration": -769,
    "start_time": "2021-11-24T17:09:35.080Z"
   },
   {
    "duration": -773,
    "start_time": "2021-11-24T17:09:35.086Z"
   },
   {
    "duration": -779,
    "start_time": "2021-11-24T17:09:35.093Z"
   },
   {
    "duration": -783,
    "start_time": "2021-11-24T17:09:35.098Z"
   },
   {
    "duration": -788,
    "start_time": "2021-11-24T17:09:35.105Z"
   },
   {
    "duration": -793,
    "start_time": "2021-11-24T17:09:35.111Z"
   },
   {
    "duration": -799,
    "start_time": "2021-11-24T17:09:35.118Z"
   },
   {
    "duration": 9,
    "start_time": "2021-11-24T18:00:54.962Z"
   },
   {
    "duration": 178,
    "start_time": "2021-11-24T18:01:19.749Z"
   },
   {
    "duration": 9,
    "start_time": "2021-11-24T18:01:44.860Z"
   },
   {
    "duration": 17434,
    "start_time": "2021-11-24T18:01:51.146Z"
   },
   {
    "duration": 587,
    "start_time": "2021-11-24T18:02:08.583Z"
   },
   {
    "duration": -685,
    "start_time": "2021-11-24T18:02:09.859Z"
   },
   {
    "duration": -691,
    "start_time": "2021-11-24T18:02:09.867Z"
   },
   {
    "duration": -697,
    "start_time": "2021-11-24T18:02:09.874Z"
   },
   {
    "duration": -708,
    "start_time": "2021-11-24T18:02:09.887Z"
   },
   {
    "duration": -714,
    "start_time": "2021-11-24T18:02:09.894Z"
   },
   {
    "duration": -720,
    "start_time": "2021-11-24T18:02:09.902Z"
   },
   {
    "duration": 8,
    "start_time": "2021-11-24T18:02:32.797Z"
   },
   {
    "duration": 15327,
    "start_time": "2021-11-24T18:02:37.046Z"
   },
   {
    "duration": 278,
    "start_time": "2021-11-24T18:02:52.376Z"
   },
   {
    "duration": -637,
    "start_time": "2021-11-24T18:02:53.294Z"
   },
   {
    "duration": -643,
    "start_time": "2021-11-24T18:02:53.302Z"
   },
   {
    "duration": -675,
    "start_time": "2021-11-24T18:02:53.335Z"
   },
   {
    "duration": -681,
    "start_time": "2021-11-24T18:02:53.342Z"
   },
   {
    "duration": -687,
    "start_time": "2021-11-24T18:02:53.349Z"
   },
   {
    "duration": -693,
    "start_time": "2021-11-24T18:02:53.357Z"
   },
   {
    "duration": 67154,
    "start_time": "2021-11-24T18:02:59.798Z"
   },
   {
    "duration": 3,
    "start_time": "2021-11-24T18:04:06.954Z"
   },
   {
    "duration": 8137,
    "start_time": "2021-11-24T18:04:06.959Z"
   },
   {
    "duration": 3613,
    "start_time": "2021-11-24T18:34:31.730Z"
   },
   {
    "duration": 2061,
    "start_time": "2021-11-24T18:34:35.346Z"
   },
   {
    "duration": 4,
    "start_time": "2021-11-24T18:34:37.410Z"
   },
   {
    "duration": 802,
    "start_time": "2021-11-24T18:34:37.416Z"
   },
   {
    "duration": 27,
    "start_time": "2021-11-24T18:34:38.220Z"
   },
   {
    "duration": 34,
    "start_time": "2021-11-24T18:34:38.250Z"
   },
   {
    "duration": 336,
    "start_time": "2021-11-24T18:34:38.286Z"
   },
   {
    "duration": 298,
    "start_time": "2021-11-24T18:34:38.626Z"
   },
   {
    "duration": 125,
    "start_time": "2021-11-24T18:34:38.931Z"
   },
   {
    "duration": 6,
    "start_time": "2021-11-24T18:34:39.059Z"
   },
   {
    "duration": 928930,
    "start_time": "2021-11-24T18:34:39.068Z"
   },
   {
    "duration": 64,
    "start_time": "2021-11-24T18:50:08.000Z"
   },
   {
    "duration": 100,
    "start_time": "2021-11-24T18:50:08.066Z"
   },
   {
    "duration": 7,
    "start_time": "2021-11-24T18:50:08.169Z"
   },
   {
    "duration": 4,
    "start_time": "2021-11-24T18:50:08.178Z"
   },
   {
    "duration": 8,
    "start_time": "2021-11-24T18:50:08.184Z"
   },
   {
    "duration": 34,
    "start_time": "2021-11-24T18:50:08.195Z"
   },
   {
    "duration": 49,
    "start_time": "2021-11-24T18:50:08.236Z"
   },
   {
    "duration": 11875,
    "start_time": "2021-11-24T18:50:08.287Z"
   },
   {
    "duration": 57267,
    "start_time": "2021-11-24T18:50:20.164Z"
   },
   {
    "duration": 40,
    "start_time": "2021-11-24T18:51:17.434Z"
   },
   {
    "duration": 6,
    "start_time": "2021-11-24T18:51:17.476Z"
   },
   {
    "duration": 5,
    "start_time": "2021-11-24T18:51:17.487Z"
   },
   {
    "duration": 717,
    "start_time": "2021-11-24T18:51:17.494Z"
   },
   {
    "duration": 42,
    "start_time": "2021-11-24T18:51:18.214Z"
   },
   {
    "duration": 6,
    "start_time": "2021-11-24T18:51:18.259Z"
   },
   {
    "duration": 6,
    "start_time": "2021-11-24T18:51:18.267Z"
   },
   {
    "duration": 7,
    "start_time": "2021-11-24T18:51:18.276Z"
   },
   {
    "duration": 15653,
    "start_time": "2021-11-24T18:51:18.286Z"
   },
   {
    "duration": 288,
    "start_time": "2021-11-24T18:51:33.942Z"
   },
   {
    "duration": -547,
    "start_time": "2021-11-24T18:51:34.780Z"
   },
   {
    "duration": -552,
    "start_time": "2021-11-24T18:51:34.787Z"
   },
   {
    "duration": -557,
    "start_time": "2021-11-24T18:51:34.794Z"
   },
   {
    "duration": -579,
    "start_time": "2021-11-24T18:51:34.817Z"
   },
   {
    "duration": -583,
    "start_time": "2021-11-24T18:51:34.823Z"
   },
   {
    "duration": -587,
    "start_time": "2021-11-24T18:51:34.829Z"
   },
   {
    "duration": -591,
    "start_time": "2021-11-24T18:51:34.835Z"
   },
   {
    "duration": -596,
    "start_time": "2021-11-24T18:51:34.842Z"
   },
   {
    "duration": -600,
    "start_time": "2021-11-24T18:51:34.847Z"
   },
   {
    "duration": -606,
    "start_time": "2021-11-24T18:51:34.855Z"
   },
   {
    "duration": -610,
    "start_time": "2021-11-24T18:51:34.860Z"
   },
   {
    "duration": -615,
    "start_time": "2021-11-24T18:51:34.867Z"
   },
   {
    "duration": -620,
    "start_time": "2021-11-24T18:51:34.873Z"
   },
   {
    "duration": 10,
    "start_time": "2021-11-24T19:29:36.635Z"
   },
   {
    "duration": 17597,
    "start_time": "2021-11-24T19:29:46.393Z"
   },
   {
    "duration": 500,
    "start_time": "2021-11-24T19:30:03.993Z"
   },
   {
    "duration": 8,
    "start_time": "2021-11-24T19:31:08.684Z"
   },
   {
    "duration": 15444,
    "start_time": "2021-11-24T19:31:18.937Z"
   },
   {
    "duration": 11,
    "start_time": "2021-11-24T19:38:19.826Z"
   },
   {
    "duration": 189228,
    "start_time": "2021-11-24T19:38:34.841Z"
   },
   {
    "duration": 63,
    "start_time": "2021-11-24T19:41:44.072Z"
   },
   {
    "duration": 5830,
    "start_time": "2021-11-24T19:41:44.139Z"
   },
   {
    "duration": 37,
    "start_time": "2021-11-24T19:41:49.971Z"
   },
   {
    "duration": 4,
    "start_time": "2021-11-24T19:41:50.011Z"
   },
   {
    "duration": 29,
    "start_time": "2021-11-24T19:41:50.018Z"
   },
   {
    "duration": 699,
    "start_time": "2021-11-24T19:41:50.050Z"
   },
   {
    "duration": 30,
    "start_time": "2021-11-24T19:41:50.754Z"
   },
   {
    "duration": 252,
    "start_time": "2021-11-24T19:41:50.787Z"
   },
   {
    "duration": -478,
    "start_time": "2021-11-24T19:41:51.520Z"
   },
   {
    "duration": -500,
    "start_time": "2021-11-24T19:41:51.543Z"
   },
   {
    "duration": -507,
    "start_time": "2021-11-24T19:41:51.551Z"
   },
   {
    "duration": -512,
    "start_time": "2021-11-24T19:41:51.558Z"
   },
   {
    "duration": -520,
    "start_time": "2021-11-24T19:41:51.567Z"
   },
   {
    "duration": 5,
    "start_time": "2021-11-24T19:42:46.766Z"
   },
   {
    "duration": 5,
    "start_time": "2021-11-24T19:42:47.691Z"
   },
   {
    "duration": 6184,
    "start_time": "2021-11-24T19:44:00.575Z"
   },
   {
    "duration": 36,
    "start_time": "2021-11-24T19:44:06.761Z"
   },
   {
    "duration": 5,
    "start_time": "2021-11-24T19:44:06.800Z"
   },
   {
    "duration": 26,
    "start_time": "2021-11-24T19:44:06.808Z"
   },
   {
    "duration": 674,
    "start_time": "2021-11-24T19:44:06.836Z"
   },
   {
    "duration": 42,
    "start_time": "2021-11-24T19:44:07.512Z"
   },
   {
    "duration": 4,
    "start_time": "2021-11-24T19:44:07.557Z"
   },
   {
    "duration": 10,
    "start_time": "2021-11-24T19:44:07.565Z"
   },
   {
    "duration": 33,
    "start_time": "2021-11-24T19:44:27.326Z"
   },
   {
    "duration": 5,
    "start_time": "2021-11-24T19:44:27.882Z"
   },
   {
    "duration": 5,
    "start_time": "2021-11-24T19:44:28.407Z"
   },
   {
    "duration": 30,
    "start_time": "2021-11-24T19:44:40.264Z"
   },
   {
    "duration": 5,
    "start_time": "2021-11-24T19:44:40.500Z"
   },
   {
    "duration": 6,
    "start_time": "2021-11-24T19:44:41.195Z"
   },
   {
    "duration": 38,
    "start_time": "2021-11-24T19:45:02.231Z"
   },
   {
    "duration": 9,
    "start_time": "2021-11-24T19:45:02.428Z"
   },
   {
    "duration": 7,
    "start_time": "2021-11-24T19:45:03.139Z"
   },
   {
    "duration": 42,
    "start_time": "2021-11-24T19:45:32.893Z"
   },
   {
    "duration": 7,
    "start_time": "2021-11-24T19:45:33.073Z"
   },
   {
    "duration": 35,
    "start_time": "2021-11-24T19:45:37.029Z"
   },
   {
    "duration": 6,
    "start_time": "2021-11-24T19:45:37.242Z"
   },
   {
    "duration": 9,
    "start_time": "2021-11-24T19:45:37.835Z"
   },
   {
    "duration": 41,
    "start_time": "2021-11-24T19:45:44.701Z"
   },
   {
    "duration": 8,
    "start_time": "2021-11-24T19:45:44.845Z"
   },
   {
    "duration": 6,
    "start_time": "2021-11-24T19:45:45.448Z"
   },
   {
    "duration": 740,
    "start_time": "2021-11-24T19:46:41.880Z"
   },
   {
    "duration": 29,
    "start_time": "2021-11-24T19:46:58.780Z"
   },
   {
    "duration": 5,
    "start_time": "2021-11-24T19:46:59.571Z"
   },
   {
    "duration": 5,
    "start_time": "2021-11-24T19:46:59.973Z"
   },
   {
    "duration": 30,
    "start_time": "2021-11-24T19:47:10.953Z"
   },
   {
    "duration": 5,
    "start_time": "2021-11-24T19:47:11.248Z"
   },
   {
    "duration": 6,
    "start_time": "2021-11-24T19:47:11.685Z"
   },
   {
    "duration": 29,
    "start_time": "2021-11-24T19:47:19.946Z"
   },
   {
    "duration": 6,
    "start_time": "2021-11-24T19:47:20.114Z"
   },
   {
    "duration": 6,
    "start_time": "2021-11-24T19:47:20.639Z"
   },
   {
    "duration": 33,
    "start_time": "2021-11-24T19:47:24.499Z"
   },
   {
    "duration": 6,
    "start_time": "2021-11-24T19:47:24.730Z"
   },
   {
    "duration": 34,
    "start_time": "2021-11-24T19:47:28.718Z"
   },
   {
    "duration": 7,
    "start_time": "2021-11-24T19:47:28.933Z"
   },
   {
    "duration": 30,
    "start_time": "2021-11-24T19:47:32.590Z"
   },
   {
    "duration": 5,
    "start_time": "2021-11-24T19:47:32.844Z"
   },
   {
    "duration": 32,
    "start_time": "2021-11-24T19:47:36.138Z"
   },
   {
    "duration": 5,
    "start_time": "2021-11-24T19:47:36.425Z"
   },
   {
    "duration": 12,
    "start_time": "2021-11-24T19:47:37.130Z"
   },
   {
    "duration": 30,
    "start_time": "2021-11-24T19:47:39.988Z"
   },
   {
    "duration": 7,
    "start_time": "2021-11-24T19:47:40.147Z"
   },
   {
    "duration": 29,
    "start_time": "2021-11-24T19:47:44.995Z"
   },
   {
    "duration": 5,
    "start_time": "2021-11-24T19:47:45.173Z"
   },
   {
    "duration": 5,
    "start_time": "2021-11-24T19:47:45.696Z"
   },
   {
    "duration": 4206998,
    "start_time": "2021-11-24T19:48:54.500Z"
   },
   {
    "duration": 3,
    "start_time": "2021-11-24T20:59:01.501Z"
   },
   {
    "duration": 98,
    "start_time": "2021-11-24T20:59:01.507Z"
   },
   {
    "duration": 680081,
    "start_time": "2021-11-24T21:00:35.451Z"
   },
   {
    "duration": 31,
    "start_time": "2021-11-24T21:11:55.536Z"
   },
   {
    "duration": 5,
    "start_time": "2021-11-24T21:11:55.570Z"
   },
   {
    "duration": 9,
    "start_time": "2021-11-24T21:11:55.577Z"
   },
   {
    "duration": 491262,
    "start_time": "2021-11-24T21:11:55.588Z"
   },
   {
    "duration": 29,
    "start_time": "2021-11-24T21:20:06.852Z"
   },
   {
    "duration": 50,
    "start_time": "2021-11-24T21:20:06.883Z"
   },
   {
    "duration": 606,
    "start_time": "2021-11-24T21:20:06.939Z"
   },
   {
    "duration": 16,
    "start_time": "2021-11-24T21:24:38.233Z"
   },
   {
    "duration": 653,
    "start_time": "2021-11-24T21:24:56.252Z"
   },
   {
    "duration": 686,
    "start_time": "2021-11-24T21:25:15.477Z"
   },
   {
    "duration": 838,
    "start_time": "2021-11-24T21:26:00.208Z"
   },
   {
    "duration": 988,
    "start_time": "2021-11-24T21:26:36.135Z"
   },
   {
    "duration": 723,
    "start_time": "2021-11-24T21:26:56.477Z"
   },
   {
    "duration": 746,
    "start_time": "2021-11-24T21:27:02.844Z"
   }
  ],
  "kernelspec": {
   "display_name": "Python 3 (ipykernel)",
   "language": "python",
   "name": "python3"
  },
  "language_info": {
   "codemirror_mode": {
    "name": "ipython",
    "version": 3
   },
   "file_extension": ".py",
   "mimetype": "text/x-python",
   "name": "python",
   "nbconvert_exporter": "python",
   "pygments_lexer": "ipython3",
   "version": "3.9.7"
  },
  "toc": {
   "base_numbering": 1,
   "nav_menu": {},
   "number_sections": true,
   "sideBar": true,
   "skip_h1_title": true,
   "title_cell": "Содержание",
   "title_sidebar": "Contents",
   "toc_cell": true,
   "toc_position": {
    "height": "calc(100% - 180px)",
    "left": "10px",
    "top": "150px",
    "width": "302.391px"
   },
   "toc_section_display": true,
   "toc_window_display": true
  }
 },
 "nbformat": 4,
 "nbformat_minor": 2
}
