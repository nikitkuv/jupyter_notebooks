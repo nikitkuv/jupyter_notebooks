{
 "cells": [
  {
   "cell_type": "markdown",
   "metadata": {
    "toc": true
   },
   "source": [
    "<h1>Содержание<span class=\"tocSkip\"></span></h1>\n",
    "<div class=\"toc\"><ul class=\"toc-item\"><li><span><a href=\"#Подготовка-и-изучение-данных\" data-toc-modified-id=\"Подготовка-и-изучение-данных-1\"><span class=\"toc-item-num\">1&nbsp;&nbsp;</span>Подготовка и изучение данных</a></span><ul class=\"toc-item\"><li><span><a href=\"#Загрузка-и-изучение-данных\" data-toc-modified-id=\"Загрузка-и-изучение-данных-1.1\"><span class=\"toc-item-num\">1.1&nbsp;&nbsp;</span>Загрузка и изучение данных</a></span></li><li><span><a href=\"#Обработка-пропусков-и-проблемных-значений\" data-toc-modified-id=\"Обработка-пропусков-и-проблемных-значений-1.2\"><span class=\"toc-item-num\">1.2&nbsp;&nbsp;</span>Обработка пропусков и проблемных значений</a></span></li><li><span><a href=\"#Исследовательский-анализ-данных\" data-toc-modified-id=\"Исследовательский-анализ-данных-1.3\"><span class=\"toc-item-num\">1.3&nbsp;&nbsp;</span>Исследовательский анализ данных</a></span></li><li><span><a href=\"#Вывод\" data-toc-modified-id=\"Вывод-1.4\"><span class=\"toc-item-num\">1.4&nbsp;&nbsp;</span>Вывод</a></span></li></ul></li><li><span><a href=\"#Исследование-моделей\" data-toc-modified-id=\"Исследование-моделей-2\"><span class=\"toc-item-num\">2&nbsp;&nbsp;</span>Исследование моделей</a></span><ul class=\"toc-item\"><li><span><a href=\"#Описание-подхода-к-решению-задачи\" data-toc-modified-id=\"Описание-подхода-к-решению-задачи-2.1\"><span class=\"toc-item-num\">2.1&nbsp;&nbsp;</span>Описание подхода к решению задачи</a></span></li><li><span><a href=\"#Исследование-моделей-без-учета-дисбаланса-классов\" data-toc-modified-id=\"Исследование-моделей-без-учета-дисбаланса-классов-2.2\"><span class=\"toc-item-num\">2.2&nbsp;&nbsp;</span>Исследование моделей без учета дисбаланса классов</a></span></li><li><span><a href=\"#Исследование-моделей-с-учетом-дисбаланса-классов\" data-toc-modified-id=\"Исследование-моделей-с-учетом-дисбаланса-классов-2.3\"><span class=\"toc-item-num\">2.3&nbsp;&nbsp;</span>Исследование моделей с учетом дисбаланса классов</a></span><ul class=\"toc-item\"><li><span><a href=\"#Учет-дисбаланса-классов\" data-toc-modified-id=\"Учет-дисбаланса-классов-2.3.1\"><span class=\"toc-item-num\">2.3.1&nbsp;&nbsp;</span>Учет дисбаланса классов</a></span></li><li><span><a href=\"#Decision-Tree-Classifier\" data-toc-modified-id=\"Decision-Tree-Classifier-2.3.2\"><span class=\"toc-item-num\">2.3.2&nbsp;&nbsp;</span>Decision Tree Classifier</a></span></li><li><span><a href=\"#Random-Forest-Classifier\" data-toc-modified-id=\"Random-Forest-Classifier-2.3.3\"><span class=\"toc-item-num\">2.3.3&nbsp;&nbsp;</span>Random Forest Classifier</a></span></li><li><span><a href=\"#Logistic-Regression\" data-toc-modified-id=\"Logistic-Regression-2.3.4\"><span class=\"toc-item-num\">2.3.4&nbsp;&nbsp;</span>Logistic Regression</a></span></li><li><span><a href=\"#kNN-Classifier\" data-toc-modified-id=\"kNN-Classifier-2.3.5\"><span class=\"toc-item-num\">2.3.5&nbsp;&nbsp;</span>kNN Classifier</a></span></li></ul></li></ul></li><li><span><a href=\"#Выбор-финальной-модели\" data-toc-modified-id=\"Выбор-финальной-модели-3\"><span class=\"toc-item-num\">3&nbsp;&nbsp;</span>Выбор финальной модели</a></span></li><li><span><a href=\"#Вывод\" data-toc-modified-id=\"Вывод-4\"><span class=\"toc-item-num\">4&nbsp;&nbsp;</span>Вывод</a></span></li></ul></div>"
   ]
  },
  {
   "cell_type": "markdown",
   "metadata": {},
   "source": [
    "# Прогноз оттока клиентов банка"
   ]
  },
  {
   "cell_type": "markdown",
   "metadata": {},
   "source": [
    "Предоставлены исторические данные о поведении клиентов и расторжении договоров с банком. Банковские маркетологи посчитали: сохранять текущих клиентов дешевле, чем привлекать новых.\n",
    "\n",
    "**Цель:** нужно спрогнозировать, уйдёт клиент из банка в ближайшее время или нет.  \n",
    "\n",
    "**Целевой признак модели:** факт ухода клиента (Exited).\n",
    "\n",
    "*Примечание от заказчика:* нужно довести *F1*-меру как минимум до значения 0.59.\n",
    "\n",
    "Источник данных: [https://www.kaggle.com/barelydedicated/bank-customer-churn-modeling](https://www.kaggle.com/barelydedicated/bank-customer-churn-modeling)"
   ]
  },
  {
   "cell_type": "markdown",
   "metadata": {},
   "source": [
    "# Описание данных"
   ]
  },
  {
   "cell_type": "markdown",
   "metadata": {},
   "source": [
    "- RowNumber — индекс строки в данных\n",
    "- CustomerId — уникальный идентификатор клиента\n",
    "- Surname — фамилия\n",
    "- CreditScore — кредитный рейтинг\n",
    "- Geography — страна проживания\n",
    "- Gender — пол\n",
    "- Age — возраст\n",
    "- Tenure — сколько лет человек является клиентом банка\n",
    "- Balance — баланс на счёте\n",
    "- NumOfProducts — количество продуктов банка, используемых клиентом\n",
    "- HasCrCard — наличие кредитной карты\n",
    "- IsActiveMember — активность клиента\n",
    "- EstimatedSalary — предполагаемая зарплата\n",
    "- Exited — факт ухода клиента"
   ]
  },
  {
   "cell_type": "markdown",
   "metadata": {},
   "source": [
    "## Подготовка и изучение данных"
   ]
  },
  {
   "cell_type": "markdown",
   "metadata": {},
   "source": [
    "### Загрузка и изучение данных"
   ]
  },
  {
   "cell_type": "code",
   "execution_count": 1,
   "metadata": {},
   "outputs": [],
   "source": [
    "import pandas as pd\n",
    "import numpy as np\n",
    "import matplotlib.pyplot as plt\n",
    "import seaborn as sns\n",
    "import warnings\n",
    "from itertools import product\n",
    "\n",
    "# import classifiers\n",
    "from sklearn.tree import DecisionTreeClassifier\n",
    "from sklearn.ensemble import RandomForestClassifier\n",
    "from sklearn.linear_model import LogisticRegression\n",
    "from sklearn.neighbors import KNeighborsClassifier\n",
    "\n",
    "# import metrics\n",
    "from sklearn.metrics import accuracy_score, f1_score, roc_auc_score, roc_curve\n",
    "\n",
    "# import other tools\n",
    "from sklearn.model_selection import train_test_split, KFold, RandomizedSearchCV\n",
    "from sklearn.dummy import DummyClassifier\n",
    "from sklearn.preprocessing import OneHotEncoder, StandardScaler\n",
    "from sklearn.pipeline import Pipeline\n",
    "from sklearn.utils import shuffle"
   ]
  },
  {
   "cell_type": "code",
   "execution_count": 2,
   "metadata": {},
   "outputs": [],
   "source": [
    "# set up the workspace\n",
    "warnings.filterwarnings('ignore')\n",
    "sns.set_style('whitegrid')\n",
    "pd.set_option('display.float_format', '{:.3f}'.format)\n",
    "pd.set_option('display.max_rows', 50)"
   ]
  },
  {
   "cell_type": "code",
   "execution_count": 3,
   "metadata": {},
   "outputs": [
    {
     "data": {
      "text/html": [
       "<div>\n",
       "<style scoped>\n",
       "    .dataframe tbody tr th:only-of-type {\n",
       "        vertical-align: middle;\n",
       "    }\n",
       "\n",
       "    .dataframe tbody tr th {\n",
       "        vertical-align: top;\n",
       "    }\n",
       "\n",
       "    .dataframe thead th {\n",
       "        text-align: right;\n",
       "    }\n",
       "</style>\n",
       "<table border=\"1\" class=\"dataframe\">\n",
       "  <thead>\n",
       "    <tr style=\"text-align: right;\">\n",
       "      <th></th>\n",
       "      <th>RowNumber</th>\n",
       "      <th>CustomerId</th>\n",
       "      <th>Surname</th>\n",
       "      <th>CreditScore</th>\n",
       "      <th>Geography</th>\n",
       "      <th>Gender</th>\n",
       "      <th>Age</th>\n",
       "      <th>Tenure</th>\n",
       "      <th>Balance</th>\n",
       "      <th>NumOfProducts</th>\n",
       "      <th>HasCrCard</th>\n",
       "      <th>IsActiveMember</th>\n",
       "      <th>EstimatedSalary</th>\n",
       "      <th>Exited</th>\n",
       "    </tr>\n",
       "  </thead>\n",
       "  <tbody>\n",
       "    <tr>\n",
       "      <td>0</td>\n",
       "      <td>1</td>\n",
       "      <td>15634602</td>\n",
       "      <td>Hargrave</td>\n",
       "      <td>619</td>\n",
       "      <td>France</td>\n",
       "      <td>Female</td>\n",
       "      <td>42</td>\n",
       "      <td>2.000</td>\n",
       "      <td>0.000</td>\n",
       "      <td>1</td>\n",
       "      <td>1</td>\n",
       "      <td>1</td>\n",
       "      <td>101348.880</td>\n",
       "      <td>1</td>\n",
       "    </tr>\n",
       "    <tr>\n",
       "      <td>1</td>\n",
       "      <td>2</td>\n",
       "      <td>15647311</td>\n",
       "      <td>Hill</td>\n",
       "      <td>608</td>\n",
       "      <td>Spain</td>\n",
       "      <td>Female</td>\n",
       "      <td>41</td>\n",
       "      <td>1.000</td>\n",
       "      <td>83807.860</td>\n",
       "      <td>1</td>\n",
       "      <td>0</td>\n",
       "      <td>1</td>\n",
       "      <td>112542.580</td>\n",
       "      <td>0</td>\n",
       "    </tr>\n",
       "    <tr>\n",
       "      <td>2</td>\n",
       "      <td>3</td>\n",
       "      <td>15619304</td>\n",
       "      <td>Onio</td>\n",
       "      <td>502</td>\n",
       "      <td>France</td>\n",
       "      <td>Female</td>\n",
       "      <td>42</td>\n",
       "      <td>8.000</td>\n",
       "      <td>159660.800</td>\n",
       "      <td>3</td>\n",
       "      <td>1</td>\n",
       "      <td>0</td>\n",
       "      <td>113931.570</td>\n",
       "      <td>1</td>\n",
       "    </tr>\n",
       "    <tr>\n",
       "      <td>3</td>\n",
       "      <td>4</td>\n",
       "      <td>15701354</td>\n",
       "      <td>Boni</td>\n",
       "      <td>699</td>\n",
       "      <td>France</td>\n",
       "      <td>Female</td>\n",
       "      <td>39</td>\n",
       "      <td>1.000</td>\n",
       "      <td>0.000</td>\n",
       "      <td>2</td>\n",
       "      <td>0</td>\n",
       "      <td>0</td>\n",
       "      <td>93826.630</td>\n",
       "      <td>0</td>\n",
       "    </tr>\n",
       "    <tr>\n",
       "      <td>4</td>\n",
       "      <td>5</td>\n",
       "      <td>15737888</td>\n",
       "      <td>Mitchell</td>\n",
       "      <td>850</td>\n",
       "      <td>Spain</td>\n",
       "      <td>Female</td>\n",
       "      <td>43</td>\n",
       "      <td>2.000</td>\n",
       "      <td>125510.820</td>\n",
       "      <td>1</td>\n",
       "      <td>1</td>\n",
       "      <td>1</td>\n",
       "      <td>79084.100</td>\n",
       "      <td>0</td>\n",
       "    </tr>\n",
       "    <tr>\n",
       "      <td>5</td>\n",
       "      <td>6</td>\n",
       "      <td>15574012</td>\n",
       "      <td>Chu</td>\n",
       "      <td>645</td>\n",
       "      <td>Spain</td>\n",
       "      <td>Male</td>\n",
       "      <td>44</td>\n",
       "      <td>8.000</td>\n",
       "      <td>113755.780</td>\n",
       "      <td>2</td>\n",
       "      <td>1</td>\n",
       "      <td>0</td>\n",
       "      <td>149756.710</td>\n",
       "      <td>1</td>\n",
       "    </tr>\n",
       "    <tr>\n",
       "      <td>6</td>\n",
       "      <td>7</td>\n",
       "      <td>15592531</td>\n",
       "      <td>Bartlett</td>\n",
       "      <td>822</td>\n",
       "      <td>France</td>\n",
       "      <td>Male</td>\n",
       "      <td>50</td>\n",
       "      <td>7.000</td>\n",
       "      <td>0.000</td>\n",
       "      <td>2</td>\n",
       "      <td>1</td>\n",
       "      <td>1</td>\n",
       "      <td>10062.800</td>\n",
       "      <td>0</td>\n",
       "    </tr>\n",
       "    <tr>\n",
       "      <td>7</td>\n",
       "      <td>8</td>\n",
       "      <td>15656148</td>\n",
       "      <td>Obinna</td>\n",
       "      <td>376</td>\n",
       "      <td>Germany</td>\n",
       "      <td>Female</td>\n",
       "      <td>29</td>\n",
       "      <td>4.000</td>\n",
       "      <td>115046.740</td>\n",
       "      <td>4</td>\n",
       "      <td>1</td>\n",
       "      <td>0</td>\n",
       "      <td>119346.880</td>\n",
       "      <td>1</td>\n",
       "    </tr>\n",
       "    <tr>\n",
       "      <td>8</td>\n",
       "      <td>9</td>\n",
       "      <td>15792365</td>\n",
       "      <td>He</td>\n",
       "      <td>501</td>\n",
       "      <td>France</td>\n",
       "      <td>Male</td>\n",
       "      <td>44</td>\n",
       "      <td>4.000</td>\n",
       "      <td>142051.070</td>\n",
       "      <td>2</td>\n",
       "      <td>0</td>\n",
       "      <td>1</td>\n",
       "      <td>74940.500</td>\n",
       "      <td>0</td>\n",
       "    </tr>\n",
       "    <tr>\n",
       "      <td>9</td>\n",
       "      <td>10</td>\n",
       "      <td>15592389</td>\n",
       "      <td>H?</td>\n",
       "      <td>684</td>\n",
       "      <td>France</td>\n",
       "      <td>Male</td>\n",
       "      <td>27</td>\n",
       "      <td>2.000</td>\n",
       "      <td>134603.880</td>\n",
       "      <td>1</td>\n",
       "      <td>1</td>\n",
       "      <td>1</td>\n",
       "      <td>71725.730</td>\n",
       "      <td>0</td>\n",
       "    </tr>\n",
       "  </tbody>\n",
       "</table>\n",
       "</div>"
      ],
      "text/plain": [
       "   RowNumber  CustomerId   Surname  CreditScore Geography  Gender  Age  \\\n",
       "0          1    15634602  Hargrave          619    France  Female   42   \n",
       "1          2    15647311      Hill          608     Spain  Female   41   \n",
       "2          3    15619304      Onio          502    France  Female   42   \n",
       "3          4    15701354      Boni          699    France  Female   39   \n",
       "4          5    15737888  Mitchell          850     Spain  Female   43   \n",
       "5          6    15574012       Chu          645     Spain    Male   44   \n",
       "6          7    15592531  Bartlett          822    France    Male   50   \n",
       "7          8    15656148    Obinna          376   Germany  Female   29   \n",
       "8          9    15792365        He          501    France    Male   44   \n",
       "9         10    15592389        H?          684    France    Male   27   \n",
       "\n",
       "   Tenure    Balance  NumOfProducts  HasCrCard  IsActiveMember  \\\n",
       "0   2.000      0.000              1          1               1   \n",
       "1   1.000  83807.860              1          0               1   \n",
       "2   8.000 159660.800              3          1               0   \n",
       "3   1.000      0.000              2          0               0   \n",
       "4   2.000 125510.820              1          1               1   \n",
       "5   8.000 113755.780              2          1               0   \n",
       "6   7.000      0.000              2          1               1   \n",
       "7   4.000 115046.740              4          1               0   \n",
       "8   4.000 142051.070              2          0               1   \n",
       "9   2.000 134603.880              1          1               1   \n",
       "\n",
       "   EstimatedSalary  Exited  \n",
       "0       101348.880       1  \n",
       "1       112542.580       0  \n",
       "2       113931.570       1  \n",
       "3        93826.630       0  \n",
       "4        79084.100       0  \n",
       "5       149756.710       1  \n",
       "6        10062.800       0  \n",
       "7       119346.880       1  \n",
       "8        74940.500       0  \n",
       "9        71725.730       0  "
      ]
     },
     "execution_count": 3,
     "metadata": {},
     "output_type": "execute_result"
    }
   ],
   "source": [
    "# load the data\n",
    "users = pd.read_csv('/datasets/Churn.csv')\n",
    "\n",
    "users.head(10)"
   ]
  },
  {
   "cell_type": "code",
   "execution_count": 4,
   "metadata": {},
   "outputs": [
    {
     "name": "stdout",
     "output_type": "stream",
     "text": [
      "<class 'pandas.core.frame.DataFrame'>\n",
      "RangeIndex: 10000 entries, 0 to 9999\n",
      "Data columns (total 14 columns):\n",
      "RowNumber          10000 non-null int64\n",
      "CustomerId         10000 non-null int64\n",
      "Surname            10000 non-null object\n",
      "CreditScore        10000 non-null int64\n",
      "Geography          10000 non-null object\n",
      "Gender             10000 non-null object\n",
      "Age                10000 non-null int64\n",
      "Tenure             9091 non-null float64\n",
      "Balance            10000 non-null float64\n",
      "NumOfProducts      10000 non-null int64\n",
      "HasCrCard          10000 non-null int64\n",
      "IsActiveMember     10000 non-null int64\n",
      "EstimatedSalary    10000 non-null float64\n",
      "Exited             10000 non-null int64\n",
      "dtypes: float64(3), int64(8), object(3)\n",
      "memory usage: 1.1+ MB\n"
     ]
    },
    {
     "data": {
      "text/plain": [
       "None"
      ]
     },
     "metadata": {},
     "output_type": "display_data"
    },
    {
     "data": {
      "text/html": [
       "<div>\n",
       "<style scoped>\n",
       "    .dataframe tbody tr th:only-of-type {\n",
       "        vertical-align: middle;\n",
       "    }\n",
       "\n",
       "    .dataframe tbody tr th {\n",
       "        vertical-align: top;\n",
       "    }\n",
       "\n",
       "    .dataframe thead th {\n",
       "        text-align: right;\n",
       "    }\n",
       "</style>\n",
       "<table border=\"1\" class=\"dataframe\">\n",
       "  <thead>\n",
       "    <tr style=\"text-align: right;\">\n",
       "      <th></th>\n",
       "      <th>RowNumber</th>\n",
       "      <th>CustomerId</th>\n",
       "      <th>CreditScore</th>\n",
       "      <th>Age</th>\n",
       "      <th>Tenure</th>\n",
       "      <th>Balance</th>\n",
       "      <th>NumOfProducts</th>\n",
       "      <th>HasCrCard</th>\n",
       "      <th>IsActiveMember</th>\n",
       "      <th>EstimatedSalary</th>\n",
       "      <th>Exited</th>\n",
       "    </tr>\n",
       "  </thead>\n",
       "  <tbody>\n",
       "    <tr>\n",
       "      <td>count</td>\n",
       "      <td>10000.000</td>\n",
       "      <td>10000.000</td>\n",
       "      <td>10000.000</td>\n",
       "      <td>10000.000</td>\n",
       "      <td>9091.000</td>\n",
       "      <td>10000.000</td>\n",
       "      <td>10000.000</td>\n",
       "      <td>10000.000</td>\n",
       "      <td>10000.000</td>\n",
       "      <td>10000.000</td>\n",
       "      <td>10000.000</td>\n",
       "    </tr>\n",
       "    <tr>\n",
       "      <td>mean</td>\n",
       "      <td>5000.500</td>\n",
       "      <td>15690940.569</td>\n",
       "      <td>650.529</td>\n",
       "      <td>38.922</td>\n",
       "      <td>4.998</td>\n",
       "      <td>76485.889</td>\n",
       "      <td>1.530</td>\n",
       "      <td>0.706</td>\n",
       "      <td>0.515</td>\n",
       "      <td>100090.240</td>\n",
       "      <td>0.204</td>\n",
       "    </tr>\n",
       "    <tr>\n",
       "      <td>std</td>\n",
       "      <td>2886.896</td>\n",
       "      <td>71936.186</td>\n",
       "      <td>96.653</td>\n",
       "      <td>10.488</td>\n",
       "      <td>2.895</td>\n",
       "      <td>62397.405</td>\n",
       "      <td>0.582</td>\n",
       "      <td>0.456</td>\n",
       "      <td>0.500</td>\n",
       "      <td>57510.493</td>\n",
       "      <td>0.403</td>\n",
       "    </tr>\n",
       "    <tr>\n",
       "      <td>min</td>\n",
       "      <td>1.000</td>\n",
       "      <td>15565701.000</td>\n",
       "      <td>350.000</td>\n",
       "      <td>18.000</td>\n",
       "      <td>0.000</td>\n",
       "      <td>0.000</td>\n",
       "      <td>1.000</td>\n",
       "      <td>0.000</td>\n",
       "      <td>0.000</td>\n",
       "      <td>11.580</td>\n",
       "      <td>0.000</td>\n",
       "    </tr>\n",
       "    <tr>\n",
       "      <td>25%</td>\n",
       "      <td>2500.750</td>\n",
       "      <td>15628528.250</td>\n",
       "      <td>584.000</td>\n",
       "      <td>32.000</td>\n",
       "      <td>2.000</td>\n",
       "      <td>0.000</td>\n",
       "      <td>1.000</td>\n",
       "      <td>0.000</td>\n",
       "      <td>0.000</td>\n",
       "      <td>51002.110</td>\n",
       "      <td>0.000</td>\n",
       "    </tr>\n",
       "    <tr>\n",
       "      <td>50%</td>\n",
       "      <td>5000.500</td>\n",
       "      <td>15690738.000</td>\n",
       "      <td>652.000</td>\n",
       "      <td>37.000</td>\n",
       "      <td>5.000</td>\n",
       "      <td>97198.540</td>\n",
       "      <td>1.000</td>\n",
       "      <td>1.000</td>\n",
       "      <td>1.000</td>\n",
       "      <td>100193.915</td>\n",
       "      <td>0.000</td>\n",
       "    </tr>\n",
       "    <tr>\n",
       "      <td>75%</td>\n",
       "      <td>7500.250</td>\n",
       "      <td>15753233.750</td>\n",
       "      <td>718.000</td>\n",
       "      <td>44.000</td>\n",
       "      <td>7.000</td>\n",
       "      <td>127644.240</td>\n",
       "      <td>2.000</td>\n",
       "      <td>1.000</td>\n",
       "      <td>1.000</td>\n",
       "      <td>149388.247</td>\n",
       "      <td>0.000</td>\n",
       "    </tr>\n",
       "    <tr>\n",
       "      <td>max</td>\n",
       "      <td>10000.000</td>\n",
       "      <td>15815690.000</td>\n",
       "      <td>850.000</td>\n",
       "      <td>92.000</td>\n",
       "      <td>10.000</td>\n",
       "      <td>250898.090</td>\n",
       "      <td>4.000</td>\n",
       "      <td>1.000</td>\n",
       "      <td>1.000</td>\n",
       "      <td>199992.480</td>\n",
       "      <td>1.000</td>\n",
       "    </tr>\n",
       "  </tbody>\n",
       "</table>\n",
       "</div>"
      ],
      "text/plain": [
       "       RowNumber   CustomerId  CreditScore       Age   Tenure    Balance  \\\n",
       "count  10000.000    10000.000    10000.000 10000.000 9091.000  10000.000   \n",
       "mean    5000.500 15690940.569      650.529    38.922    4.998  76485.889   \n",
       "std     2886.896    71936.186       96.653    10.488    2.895  62397.405   \n",
       "min        1.000 15565701.000      350.000    18.000    0.000      0.000   \n",
       "25%     2500.750 15628528.250      584.000    32.000    2.000      0.000   \n",
       "50%     5000.500 15690738.000      652.000    37.000    5.000  97198.540   \n",
       "75%     7500.250 15753233.750      718.000    44.000    7.000 127644.240   \n",
       "max    10000.000 15815690.000      850.000    92.000   10.000 250898.090   \n",
       "\n",
       "       NumOfProducts  HasCrCard  IsActiveMember  EstimatedSalary    Exited  \n",
       "count      10000.000  10000.000       10000.000        10000.000 10000.000  \n",
       "mean           1.530      0.706           0.515       100090.240     0.204  \n",
       "std            0.582      0.456           0.500        57510.493     0.403  \n",
       "min            1.000      0.000           0.000           11.580     0.000  \n",
       "25%            1.000      0.000           0.000        51002.110     0.000  \n",
       "50%            1.000      1.000           1.000       100193.915     0.000  \n",
       "75%            2.000      1.000           1.000       149388.247     0.000  \n",
       "max            4.000      1.000           1.000       199992.480     1.000  "
      ]
     },
     "metadata": {},
     "output_type": "display_data"
    },
    {
     "data": {
      "text/plain": [
       "0"
      ]
     },
     "execution_count": 4,
     "metadata": {},
     "output_type": "execute_result"
    }
   ],
   "source": [
    "display(users.info())\n",
    "display(users.describe())\n",
    "users.duplicated().sum()"
   ]
  },
  {
   "cell_type": "markdown",
   "metadata": {},
   "source": [
    "- Есть пропуски в столбце Tenure\n",
    "- Проблемных значений не обнаружено\n",
    "- Полных дубликатов не обнаружено"
   ]
  },
  {
   "cell_type": "markdown",
   "metadata": {},
   "source": [
    "### Обработка пропусков и проблемных значений"
   ]
  },
  {
   "cell_type": "code",
   "execution_count": 5,
   "metadata": {},
   "outputs": [
    {
     "data": {
      "text/plain": [
       "RowNumber         0.000\n",
       "CustomerId        0.000\n",
       "Surname           0.000\n",
       "CreditScore       0.000\n",
       "Geography         0.000\n",
       "Gender            0.000\n",
       "Age               0.000\n",
       "Tenure            0.091\n",
       "Balance           0.000\n",
       "NumOfProducts     0.000\n",
       "HasCrCard         0.000\n",
       "IsActiveMember    0.000\n",
       "EstimatedSalary   0.000\n",
       "Exited            0.000\n",
       "dtype: float64"
      ]
     },
     "execution_count": 5,
     "metadata": {},
     "output_type": "execute_result"
    }
   ],
   "source": [
    "users.isna().mean()"
   ]
  },
  {
   "cell_type": "markdown",
   "metadata": {},
   "source": [
    "- Были рассмотрены распределения количественных признаков для строк, где в столбце Tenure пропуски, и где их нет: все распределения очень сильно похожи и имеют схожие статистики\n",
    "- Для категориальных признаков были построены столбчатые диаграммы для этих же двух групп данных: пропорции количества объектов каждой группы для каждого признака очень схожи\n",
    "- Нет очевидной зависимости появляения пропусков\n",
    "- Допустим, что пропуски в столбце Tenure наиболее вероятно могут быть для тех клиентов, которые только начали пользоваться услугами банка, либо еще на стадии оформления определенных документов, поэтому им либо забыли поставить значение 0 (что является кодом для срока меньше 1 года), либо из-за особенности системы обработки данных не было проставлено значение\n",
    "- Заполним пропуски в столбце Tenure значением 0"
   ]
  },
  {
   "cell_type": "code",
   "execution_count": 6,
   "metadata": {},
   "outputs": [
    {
     "data": {
      "text/plain": [
       "RowNumber         0.000\n",
       "CustomerId        0.000\n",
       "Surname           0.000\n",
       "CreditScore       0.000\n",
       "Geography         0.000\n",
       "Gender            0.000\n",
       "Age               0.000\n",
       "Tenure            0.000\n",
       "Balance           0.000\n",
       "NumOfProducts     0.000\n",
       "HasCrCard         0.000\n",
       "IsActiveMember    0.000\n",
       "EstimatedSalary   0.000\n",
       "Exited            0.000\n",
       "dtype: float64"
      ]
     },
     "execution_count": 6,
     "metadata": {},
     "output_type": "execute_result"
    }
   ],
   "source": [
    "users.Tenure.fillna(0, inplace=True)\n",
    "users.isna().mean()"
   ]
  },
  {
   "cell_type": "markdown",
   "metadata": {},
   "source": [
    "### Исследовательский анализ данных"
   ]
  },
  {
   "cell_type": "code",
   "execution_count": 7,
   "metadata": {},
   "outputs": [
    {
     "data": {
      "image/png": "[encoded data removed]",
      "text/plain": [
       "<Figure size 864x576 with 2 Axes>"
      ]
     },
     "metadata": {},
     "output_type": "display_data"
    }
   ],
   "source": [
    "mask = np.triu(users.corr())\n",
    "fig = plt.subplots(figsize=(12, 8))\n",
    "sns.heatmap(users.corr(), \n",
    "            annot=True, \n",
    "            cmap= 'PuBu', \n",
    "            square=True, \n",
    "            mask=mask, \n",
    "            vmin=0, \n",
    "            vmax=0.05\n",
    "           )\n",
    "plt.show()"
   ]
  },
  {
   "cell_type": "markdown",
   "metadata": {},
   "source": [
    "- Коэффициент корреляции редко превышает 0.05, доходя максимум до 0.29 - линейных зависимостей в данных нет\n",
    "- Посмотрим матрицу диаграмм рассеяния для разных групп клиентов по целевому признаку, чтобы поподробнее взглянуть на зависимости в данных и оценить возможные нелинейные зависимости"
   ]
  },
  {
   "cell_type": "code",
   "execution_count": 8,
   "metadata": {},
   "outputs": [
    {
     "data": {
      "image/png": "[encoded data removed]",
      "text/plain": [
       "<Figure size 942.375x900 with 30 Axes>"
      ]
     },
     "metadata": {},
     "output_type": "display_data"
    }
   ],
   "source": [
    "sns.pairplot(users[['CreditScore', 'Age', 'Balance', 'EstimatedSalary', 'Exited']], \n",
    "             hue='Exited', \n",
    "             plot_kws={'alpha': .2},\n",
    "             palette='seismic_r'\n",
    "            )\n",
    "plt.show()"
   ]
  },
  {
   "cell_type": "markdown",
   "metadata": {},
   "source": [
    "- Очевидных нелинейных зависимостей также не наблюдается\n",
    "- Данные по клиентам, ушедшим и не ушедшим от банка накладываются, нет очевидных разделений по парам признаков\n",
    "- Различаются распределения по возрасту: для клиентов, которые ушли, распределение практически нормальное и медиана смещена в сторону бОльших значений (медиана около 45-50 лет) по сранвению с медианой распределения клиентов, которые не ушли (медиана около 30-35). К тому же у группы клиентов, которые не ушли, наблюдает хвост из больших значений\n",
    "- Также различия в рапределениях есть по признаку Balance. С одной стороны, для обеих групп целевого признака наблюдается одинаковая форма распределения значений признака баланса счета, где наблюдается два пика: первый около нуля, второй в районе 140 тысяч, а также одинаковые статистики. С другой стороны, если мы проанализируем каждый из пиков, можно заметить, что доля клиентов с нулевым балансом счета преобладает в группе клиентов, которые не ушли, в то время, как в группе клиентов, кто ушел, преобладают те, у кого был ненулевой баланс счета"
   ]
  },
  {
   "cell_type": "markdown",
   "metadata": {},
   "source": [
    "### Вывод"
   ]
  },
  {
   "cell_type": "markdown",
   "metadata": {},
   "source": [
    "- Проблемные значений и дубликаты не найдены, пропущенные значения обработаны\n",
    "- Очевидные корреляции в данных не найдены\n",
    "- Группы целевого признака различаются по возрасту и по балансу счета. Вероятно эти признаки будут играть бОльшую роль в алгоритмах классификации. Но стоит также помнить, что группы целевого признака неодинаково представлены в выборке"
   ]
  },
  {
   "cell_type": "markdown",
   "metadata": {},
   "source": [
    "## Исследование моделей"
   ]
  },
  {
   "cell_type": "markdown",
   "metadata": {},
   "source": [
    "### Описание подхода к решению задачи"
   ]
  },
  {
   "cell_type": "markdown",
   "metadata": {},
   "source": [
    "- Целевой признак показывает, ушел клиент из банка или нет. Наличие двух классов у целевого признака говорит нам о задачи бинарной классификации. Обучим следующие модели:\n",
    "    - DecisionTreeClassifier\n",
    "    - RandomForestClassifier\n",
    "    - LogisticRegression\n",
    "    - KNeighborsClassifier\n",
    "- Качество моделей будем оценивать F-1 мерой и ROC AUC"
   ]
  },
  {
   "cell_type": "markdown",
   "metadata": {},
   "source": [
    "- Исследуем баланс классов и попробуем обучить модель без учета дисбаланса\n",
    "- Сначала разделим выборку на обучающую и тестовую (25%) с использованием стратификации\n",
    "- Будем использовать RandomizedSearchCV для настройки гиперпараметров\n",
    "- Уберем из признаков столбцы RowNumber и CustomerId, т.к. это данные, созданные банком и никак не отражающие реальные свойства исследуемых объектов. Также уберем признак Surname, т.к., во-первых, вряд ли фамилия влияет на то, уйдет человек из банка или нет, во-вторых, очень много уникальных значений у этого признака, и прямое кодирование даст огромное количество дамми признаков.\n",
    "- Также сразу же закодируем наши категориальные переменные прямым кодированием"
   ]
  },
  {
   "cell_type": "code",
   "execution_count": 9,
   "metadata": {},
   "outputs": [],
   "source": [
    "seed = 24\n",
    "cv_k = 5\n",
    "scoring = 'f1'\n",
    "scoring_alt = 'roc_auc'\n",
    "\n",
    "users_ohe = pd.get_dummies(users.drop('Surname', axis=1), drop_first=True) # кодируем категориальные признаки\n",
    "\n",
    "x = users_ohe.drop(['RowNumber', 'CustomerId', 'Exited'], axis=1) # датафрейм с признаками\n",
    "y = users.loc[:, 'Exited'] # серия с целевым признаком\n",
    "\n",
    "x_train, x_test, y_train, y_test = train_test_split(x, \n",
    "                                                    y, \n",
    "                                                    test_size=0.25, \n",
    "                                                    random_state=seed, \n",
    "                                                    stratify=y\n",
    "                                                   )"
   ]
  },
  {
   "cell_type": "code",
   "execution_count": 10,
   "metadata": {
    "scrolled": false
   },
   "outputs": [
    {
     "data": {
      "image/png": "[encoded data removed]",
      "text/plain": [
       "<Figure size 576x432 with 1 Axes>"
      ]
     },
     "metadata": {},
     "output_type": "display_data"
    }
   ],
   "source": [
    "ax, fig = plt.subplots(figsize=(8, 6))\n",
    "bar = sns.barplot(users.Exited.value_counts(normalize=True).index, \n",
    "                  users.Exited.value_counts(normalize=True),\n",
    "                  palette='RdBu'\n",
    "                 )\n",
    "\n",
    "for index, frac in users.Exited.value_counts(normalize=True).iteritems():\n",
    "    bar.text(index, \n",
    "             frac+0.01, \n",
    "             round(frac,3), \n",
    "             fontsize=12,\n",
    "             fontweight='bold',\n",
    "             ha='center'\n",
    "            )\n",
    "\n",
    "plt.xlabel('Exited')\n",
    "plt.ylabel('Class fraction')\n",
    "plt.ylim([0, 1])\n",
    "plt.show()"
   ]
  },
  {
   "cell_type": "markdown",
   "metadata": {},
   "source": [
    "- В нашем датасете значительно меньше клиентов, которые ушли из банка"
   ]
  },
  {
   "cell_type": "markdown",
   "metadata": {},
   "source": [
    "### Исследование моделей без учета дисбаланса классов"
   ]
  },
  {
   "cell_type": "markdown",
   "metadata": {},
   "source": [
    "- Обучим модель RandomForestClassifier без учета дисбаланса"
   ]
  },
  {
   "cell_type": "code",
   "execution_count": 11,
   "metadata": {},
   "outputs": [
    {
     "name": "stdout",
     "output_type": "stream",
     "text": [
      "Выбранные гиперпараметры: {'n_estimators': 40, 'max_depth': 10, 'criterion': 'gini'}\n",
      "f1 на валидационной выборке: 0.575\n",
      "f1 на тестовой выборке: 0.555\n",
      "roc_auc на тестовой выборке: 0.7\n"
     ]
    }
   ],
   "source": [
    "hyperparams_rf = {'max_depth': np.arange(1, 11),\n",
    "                  'n_estimators': np.arange(10, 51, 10),\n",
    "                  'criterion': ['gini', 'entropy']\n",
    "                 }\n",
    "\n",
    "rf = RandomForestClassifier(random_state=seed)\n",
    "rf_gscv = RandomizedSearchCV(rf, \n",
    "                             hyperparams_rf, \n",
    "                             cv=cv_k, \n",
    "                             scoring=scoring, \n",
    "                             random_state=seed\n",
    "                            )\n",
    "rf_gscv.fit(x_train, y_train)\n",
    "\n",
    "rf_gscv_best_params = rf_gscv.best_params_\n",
    "rf_gscv_best_model = rf_gscv.best_estimator_\n",
    "rf_gscv_validation_score = rf_gscv.best_score_\n",
    "\n",
    "y_pred_rf = rf_gscv_best_model.predict(x_test)\n",
    "rf_gscv_test_score_f1 = f1_score(y_test, y_pred_rf)\n",
    "rf_gscv_test_score_roc_auc = roc_auc_score(y_test, y_pred_rf)\n",
    "\n",
    "print(f'Выбранные гиперпараметры: {rf_gscv_best_params}')\n",
    "print(f'{scoring} на валидационной выборке: {round(rf_gscv_validation_score, 3)}')\n",
    "\n",
    "print(f'{scoring} на тестовой выборке: {round(rf_gscv_test_score_f1, 3)}')\n",
    "print(f'{scoring_alt} на тестовой выборке: {round(rf_gscv_test_score_roc_auc, 3)}')"
   ]
  },
  {
   "cell_type": "markdown",
   "metadata": {},
   "source": [
    "- И по валидационной и по тестовой выборкам значение меры f1 **меньше требуемых 0.59**, значение roc auc по тестовой выборке равно 0.7\n",
    "- Чтобы улучшить качество модели надо учесть дисбаланс классов"
   ]
  },
  {
   "cell_type": "markdown",
   "metadata": {},
   "source": [
    "### Исследование моделей с учетом дисбаланса классов"
   ]
  },
  {
   "cell_type": "markdown",
   "metadata": {},
   "source": [
    "#### Учет дисбаланса классов"
   ]
  },
  {
   "cell_type": "markdown",
   "metadata": {},
   "source": [
    "- Побробуем три метода борьбы с дисбалансом:\n",
    "    1. Использование весов для классов\n",
    "    2. Downsampling\n",
    "    3. Upsampling"
   ]
  },
  {
   "cell_type": "code",
   "execution_count": 12,
   "metadata": {},
   "outputs": [],
   "source": [
    "def downsample(x, y, fraction):\n",
    "    \"\"\"\n",
    "    производит downsampling выборки\n",
    "    \n",
    "    params:\n",
    "    x - массив значений признаков\n",
    "    y - массив значений целевого признака\n",
    "    fraction - доля отобранных значений\n",
    "    \n",
    "    returns:\n",
    "    x_downsampled, y_downsampled - ресемплированные массивы значений признаков и целевого признака соответственно\n",
    "    \"\"\"\n",
    "    \n",
    "    x_zeros = x[y == 0]\n",
    "    x_ones = x[y == 1]\n",
    "    y_zeros = y[y == 0]\n",
    "    y_ones = y[y == 1]\n",
    "\n",
    "    x_downsampled = pd.concat([x_zeros.sample(frac=fraction, random_state=seed)] + [x_ones])\n",
    "    y_downsampled = pd.concat([y_zeros.sample(frac=fraction, random_state=seed)] + [y_ones])\n",
    "    \n",
    "    x_downsampled, y_downsampled = shuffle(x_downsampled, y_downsampled, random_state=seed)\n",
    "    \n",
    "    return x_downsampled, y_downsampled"
   ]
  },
  {
   "cell_type": "code",
   "execution_count": 13,
   "metadata": {},
   "outputs": [],
   "source": [
    "def upsample(x, y, rate):\n",
    "    \"\"\"\n",
    "    производит upsampling выборки\n",
    "    \n",
    "    params:\n",
    "    x - массив значений признаков\n",
    "    y - массив значений целевого признака\n",
    "    rate - множитель для минорного класса (метка класса = 1)\n",
    "    \n",
    "    returns:\n",
    "    x_upsampled, y_upsampled - ресемплированные массивы значений признаков и целевого признака соответственно\n",
    "    \"\"\"\n",
    "    \n",
    "    x_zeros = x[y == 0]\n",
    "    x_ones = x[y == 1]\n",
    "    y_zeros = y[y == 0]\n",
    "    y_ones = y[y == 1]\n",
    "\n",
    "    x_upsampled = pd.concat([x_zeros] + [x_ones] * rate)\n",
    "    y_upsampled = pd.concat([y_zeros] + [y_ones] * rate)\n",
    "    \n",
    "    x_upsampled, y_upsampled = shuffle(x_upsampled, y_upsampled, random_state=seed)\n",
    "    \n",
    "    return x_upsampled, y_upsampled"
   ]
  },
  {
   "cell_type": "markdown",
   "metadata": {},
   "source": [
    "- Если для данных применяется апсэмплинг/даунсэмплинг для решения проблемы дисбаланса классов, то нужно делать сэмплинг только на обучающей выборке и не нарушать баланс на выборках, предназначенных для проверки качество моделей, поэтому не совсем корректно использовать объекты типа Grid/RandomSearchCV, т.к. мы не можем контролировать операции с разными выборками\n",
    "- Для более точного подбора гиперпараметров с помощью кросс-валидации и более точно обучения модели будем получать разбиение на фолды для кросс-валидации с помощью объекта KFold, который возвращает индексы обучающей и валидационной выборок для всех фолдов для заданного количества разбиений. Затем для каждого разбиения:\n",
    "    1. Для каждого разбиения сэмплировать будем **только обучающую выборку** \n",
    "    2. Обучаем модель по сэмплированной выборке\n",
    "    3. Проверяем качество модели по несэмплированной валидационной выборке и сохраняем значение в отдельный массив\n",
    "    4. Находим среднее значений метрики по всем разбиениям\n",
    "- Напишем функции для подсчета качества модели с использованием ап- и даунсэмплинга, функция будет возвращать значения двух метрик f1 и roc auc с правильным использованием кросс-валидации\n",
    "- Затем с использованием этих функций сделаем ручную подборку гиперпараметров\n",
    "- Модель с лучшими параметрами обучим на семплированной исходной обучающей выборке\n",
    "- Качество модели проверим на тестовой выборке"
   ]
  },
  {
   "cell_type": "code",
   "execution_count": 14,
   "metadata": {},
   "outputs": [],
   "source": [
    "# создаем объект kfold\n",
    "kf = KFold(n_splits=cv_k, shuffle=False)"
   ]
  },
  {
   "cell_type": "code",
   "execution_count": 15,
   "metadata": {},
   "outputs": [],
   "source": [
    "def score_downsampled_model(model, params, x_train_sam, y_train_sam, kf, down_frac):\n",
    "    \n",
    "    f1_scores = []\n",
    "    roc_auc_scores = []\n",
    "    \n",
    "\n",
    "    for train_fold_index, val_fold_index in kf.split(x_train_sam, y_train_sam):\n",
    "        x_train_fold, y_train_fold = x_train_sam.iloc[train_fold_index], y_train_sam.iloc[train_fold_index]\n",
    "        x_val_fold, y_val_fold = x_train_sam.iloc[val_fold_index], y_train_sam.iloc[val_fold_index]\n",
    "\n",
    "        x_train_fold_downsample, y_train_fold_downsample = downsample(x_train_fold, y_train_fold, down_frac)\n",
    "        \n",
    "        model_obj = model(**params).fit(x_train_fold_downsample, y_train_fold_downsample)\n",
    "        \n",
    "        f1 = f1_score(y_val_fold, model_obj.predict(x_val_fold))\n",
    "        roc_auc = roc_auc_score(y_val_fold, model_obj.predict(x_val_fold))\n",
    "        \n",
    "        f1_scores.append(f1)\n",
    "        roc_auc_scores.append(roc_auc)\n",
    "    return round(np.array(f1_scores).mean(), 3), round(np.array(roc_auc_scores).mean(), 3)"
   ]
  },
  {
   "cell_type": "code",
   "execution_count": 16,
   "metadata": {},
   "outputs": [],
   "source": [
    "def score_upsampled_model(model, params, x_train_sam, y_train_sam, kf, up_rate):\n",
    "    \n",
    "    f1_scores = []\n",
    "    roc_auc_scores = []\n",
    "\n",
    "    for train_fold_index, val_fold_index in kf.split(x_train_sam, y_train_sam):\n",
    "        x_train_fold, y_train_fold = x_train_sam.iloc[train_fold_index], y_train_sam.iloc[train_fold_index]\n",
    "        x_val_fold, y_val_fold = x_train_sam.iloc[val_fold_index], y_train_sam.iloc[val_fold_index]\n",
    "\n",
    "        x_train_fold_upsample, y_train_fold_upsample = upsample(x_train_fold, y_train_fold, up_rate)\n",
    "        \n",
    "        model_obj = model(**params).fit(x_train_fold_upsample, y_train_fold_upsample)\n",
    "        \n",
    "        f1 = f1_score(y_val_fold, model_obj.predict(x_val_fold))\n",
    "        roc_auc = roc_auc_score(y_val_fold, model_obj.predict(x_val_fold))\n",
    "        \n",
    "        f1_scores.append(f1)\n",
    "        roc_auc_scores.append(roc_auc)\n",
    "    return round(np.array(f1_scores).mean(), 3), round(np.array(roc_auc_scores).mean(), 3)"
   ]
  },
  {
   "cell_type": "code",
   "execution_count": 17,
   "metadata": {},
   "outputs": [],
   "source": [
    "# сэмплируем исходную обучающую выборку для обучения лучшей модели, выбранной на основе ручного подбора\n",
    "x_train_down, y_train_down = downsample(x_train, y_train, 0.4)\n",
    "x_train_up, y_train_up = upsample(x_train, y_train, 3)"
   ]
  },
  {
   "cell_type": "markdown",
   "metadata": {},
   "source": [
    "#### Decision Tree Classifier"
   ]
  },
  {
   "cell_type": "markdown",
   "metadata": {},
   "source": [
    "---\n",
    "**Присвоение весов классам**"
   ]
  },
  {
   "cell_type": "code",
   "execution_count": 18,
   "metadata": {},
   "outputs": [
    {
     "name": "stdout",
     "output_type": "stream",
     "text": [
      "Выбранные гиперпараметры: {'min_samples_leaf': 7, 'max_features': 6, 'max_depth': 4, 'criterion': 'gini'}\n",
      "f1 на валидационной выборке: 0.552\n",
      "f1 на тестовой выборке: 0.547\n",
      "roc_auc на тестовой выборке: 0.737\n"
     ]
    }
   ],
   "source": [
    "hyperparams_dt = {'max_depth': np.arange(1, 11),\n",
    "                  'min_samples_leaf': np.arange(1, 11),\n",
    "                  'max_features': np.arange(1, len(x.columns)),\n",
    "                  'criterion': ['gini', 'entropy']\n",
    "                 }\n",
    "\n",
    "dt = DecisionTreeClassifier(random_state=seed, class_weight='balanced')\n",
    "dt_cv = RandomizedSearchCV(dt, \n",
    "                           hyperparams_dt, \n",
    "                           cv=cv_k, \n",
    "                           scoring=scoring,\n",
    "                           random_state=seed\n",
    "                          )\n",
    "dt_cv.fit(x_train, y_train)\n",
    "\n",
    "dt_cv_best_params = dt_cv.best_params_\n",
    "dt_cv_best_model = dt_cv.best_estimator_\n",
    "dt_cv_validation_score = dt_cv.best_score_\n",
    "\n",
    "y_pred_dt = dt_cv_best_model.predict(x_test)\n",
    "dt_cv_test_score_f1 = f1_score(y_test, y_pred_dt)\n",
    "dt_cv_test_score_roc_auc = roc_auc_score(y_test, y_pred_dt)\n",
    "\n",
    "print(f'Выбранные гиперпараметры: {dt_cv_best_params}')\n",
    "print(f'{scoring} на валидационной выборке: {round(dt_cv_validation_score, 3)}')\n",
    "\n",
    "print(f'{scoring} на тестовой выборке: {round(dt_cv_test_score_f1, 3)}')\n",
    "print(f'{scoring_alt} на тестовой выборке: {round(dt_cv_test_score_roc_auc, 3)}')"
   ]
  },
  {
   "cell_type": "markdown",
   "metadata": {},
   "source": [
    "- При использовании весов для классов значение f1-меры по тестовой выборке **0.547**, что <span style='color:Red'> **меньше**  </span> требуемого значения 0.59"
   ]
  },
  {
   "cell_type": "markdown",
   "metadata": {},
   "source": [
    "---\n",
    "**Downsampling**"
   ]
  },
  {
   "cell_type": "code",
   "execution_count": 19,
   "metadata": {},
   "outputs": [],
   "source": [
    "hyperparams_dt = {'max_depth': np.arange(2, 8),\n",
    "                  'min_samples_leaf': np.arange(1, 9),\n",
    "                  'max_features': np.arange(1, 8),\n",
    "                  'criterion': ['gini', 'entropy']\n",
    "                 }\n",
    "\n",
    "down_dt_models = []\n",
    "\n",
    "for max_depth, min_samples_leaf, max_features, criterion in product(hyperparams_dt['max_depth'],\n",
    "                                                                    hyperparams_dt['min_samples_leaf'],\n",
    "                                                                    hyperparams_dt['max_features'],\n",
    "                                                                    hyperparams_dt['criterion']\n",
    "                                                                   ):\n",
    "    case_params = {'max_depth': max_depth,\n",
    "                   'min_samples_leaf': min_samples_leaf,\n",
    "                   'max_features': max_features,\n",
    "                   'criterion': criterion,\n",
    "                   'random_state': seed\n",
    "                  }\n",
    "    \n",
    "    case_params['f1_val'], case_params['roc_auc_val'] = score_downsampled_model(DecisionTreeClassifier,\n",
    "                                                                                case_params, \n",
    "                                                                                x_train, \n",
    "                                                                                y_train, \n",
    "                                                                                kf, \n",
    "                                                                                0.4\n",
    "                                                                               )\n",
    "    down_dt_models.append(case_params)"
   ]
  },
  {
   "cell_type": "code",
   "execution_count": 20,
   "metadata": {
    "scrolled": true
   },
   "outputs": [],
   "source": [
    "best_down_dt_models = sorted(down_dt_models, key=lambda x: x['f1_val'], reverse=True)[0]"
   ]
  },
  {
   "cell_type": "code",
   "execution_count": 21,
   "metadata": {
    "scrolled": true
   },
   "outputs": [
    {
     "name": "stdout",
     "output_type": "stream",
     "text": [
      "f1 на валидационной выборке: 0.595\n",
      "roc_auc на валидационной выборке: 0.753\n",
      "\n",
      "f1 на тестовой выборке: 0.596\n",
      "roc_auc на тестовой выборке: 0.766\n"
     ]
    }
   ],
   "source": [
    "par_down_dt = best_down_dt_models.copy()\n",
    "del par_down_dt['f1_val']\n",
    "del par_down_dt['roc_auc_val']\n",
    "\n",
    "mod_down_dt = DecisionTreeClassifier(**par_down_dt).fit(x_train_down, y_train_down)\n",
    "\n",
    "f1_test_down_dt = f1_score(y_test, mod_down_dt.predict(x_test))\n",
    "roc_auc_test_down_dt = roc_auc_score(y_test, mod_down_dt.predict(x_test))\n",
    "\n",
    "print(f'{scoring} на валидационной выборке:', round(best_down_dt_models['f1_val'], 3))\n",
    "print(f'{scoring_alt} на валидационной выборке:', round(best_down_dt_models['roc_auc_val'], 3))\n",
    "print('')\n",
    "print(f'{scoring} на тестовой выборке:', round(f1_test_down_dt, 3))\n",
    "print(f'{scoring_alt} на тестовой выборке:', round(roc_auc_test_down_dt, 3))"
   ]
  },
  {
   "cell_type": "markdown",
   "metadata": {},
   "source": [
    "- При использовании даунсэмплинга значение f1-меры по тестовой выборке **0.596**, что <span style='color:Green'> **больше**  </span> требуемого значения 0.59\n",
    "- Метод даунсемплинга позволил увеличить значение f1-меры на 4.9% по сравнению с методом присвоения весов"
   ]
  },
  {
   "cell_type": "markdown",
   "metadata": {},
   "source": [
    "---\n",
    "**Upsampling**"
   ]
  },
  {
   "cell_type": "code",
   "execution_count": 22,
   "metadata": {},
   "outputs": [],
   "source": [
    "hyperparams_dt = {'max_depth': np.arange(2, 8),\n",
    "                  'min_samples_leaf': np.arange(1, 9),\n",
    "                  'max_features': np.arange(1, 8),\n",
    "                  'criterion': ['gini', 'entropy']\n",
    "                 }\n",
    "\n",
    "up_dt_models = []\n",
    "\n",
    "for max_depth, min_samples_leaf, max_features, criterion in product(hyperparams_dt['max_depth'],\n",
    "                                                                    hyperparams_dt['min_samples_leaf'],\n",
    "                                                                    hyperparams_dt['max_features'],\n",
    "                                                                    hyperparams_dt['criterion']\n",
    "                                                                   ):\n",
    "    case_params = {'max_depth': max_depth,\n",
    "                   'min_samples_leaf': min_samples_leaf,\n",
    "                   'max_features': max_features,\n",
    "                   'criterion': criterion,\n",
    "                   'random_state': seed\n",
    "                  }\n",
    "    \n",
    "    case_params['f1_val'], case_params['roc_auc_val'] = score_upsampled_model(DecisionTreeClassifier,\n",
    "                                                                              case_params, \n",
    "                                                                              x_train, \n",
    "                                                                              y_train, \n",
    "                                                                              kf, \n",
    "                                                                              3\n",
    "                                                                             )\n",
    "    up_dt_models.append(case_params)"
   ]
  },
  {
   "cell_type": "code",
   "execution_count": 23,
   "metadata": {
    "scrolled": true
   },
   "outputs": [],
   "source": [
    "best_up_dt_models = sorted(up_dt_models, key=lambda x: x['f1_val'], reverse=True)[0]"
   ]
  },
  {
   "cell_type": "code",
   "execution_count": 24,
   "metadata": {
    "scrolled": true
   },
   "outputs": [
    {
     "name": "stdout",
     "output_type": "stream",
     "text": [
      "f1 на валидационной выборке: 0.599\n",
      "roc_auc на валидационной выборке: 0.761\n",
      "\n",
      "f1 на тестовой выборке: 0.596\n",
      "roc_auc на тестовой выборке: 0.76\n"
     ]
    }
   ],
   "source": [
    "par_up_dt = best_up_dt_models.copy()\n",
    "del par_up_dt['f1_val']\n",
    "del par_up_dt['roc_auc_val']\n",
    "\n",
    "mod_up_dt = DecisionTreeClassifier(**par_up_dt).fit(x_train_up, y_train_up)\n",
    "\n",
    "f1_test_up_dt = f1_score(y_test, mod_up_dt.predict(x_test))\n",
    "roc_auc_test_up_dt = roc_auc_score(y_test, mod_up_dt.predict(x_test))\n",
    "\n",
    "print(f'{scoring} на валидационной выборке:', round(best_up_dt_models['f1_val'], 3))\n",
    "print(f'{scoring_alt} на валидационной выборке:', round(best_up_dt_models['roc_auc_val'], 3))\n",
    "print('')\n",
    "print(f'{scoring} на тестовой выборке:', round(f1_test_up_dt, 3))\n",
    "print(f'{scoring_alt} на тестовой выборке:', round(roc_auc_test_up_dt, 3))"
   ]
  },
  {
   "cell_type": "markdown",
   "metadata": {},
   "source": [
    "- При использовании апсэмплинга значение f1-меры по тестовой выборке **0.596**, что <span style='color:Green'> **больше**  </span> требуемого значения 0.59\n",
    "- Метод показал аналогичный результат с даунсэмплингом"
   ]
  },
  {
   "cell_type": "markdown",
   "metadata": {},
   "source": [
    "---\n",
    "**Итоговые результаты**"
   ]
  },
  {
   "cell_type": "code",
   "execution_count": 25,
   "metadata": {},
   "outputs": [
    {
     "data": {
      "text/html": [
       "<div>\n",
       "<style scoped>\n",
       "    .dataframe tbody tr th:only-of-type {\n",
       "        vertical-align: middle;\n",
       "    }\n",
       "\n",
       "    .dataframe tbody tr th {\n",
       "        vertical-align: top;\n",
       "    }\n",
       "\n",
       "    .dataframe thead th {\n",
       "        text-align: right;\n",
       "    }\n",
       "</style>\n",
       "<table border=\"1\" class=\"dataframe\">\n",
       "  <thead>\n",
       "    <tr style=\"text-align: right;\">\n",
       "      <th></th>\n",
       "      <th>f1_validation</th>\n",
       "      <th>f1_test</th>\n",
       "      <th>roc_auc_test</th>\n",
       "      <th>disbalance_method</th>\n",
       "    </tr>\n",
       "  </thead>\n",
       "  <tbody>\n",
       "    <tr>\n",
       "      <td>Decision_Tree</td>\n",
       "      <td>0.599</td>\n",
       "      <td>0.596</td>\n",
       "      <td>0.760</td>\n",
       "      <td>up</td>\n",
       "    </tr>\n",
       "    <tr>\n",
       "      <td>Decision_Tree</td>\n",
       "      <td>0.595</td>\n",
       "      <td>0.596</td>\n",
       "      <td>0.766</td>\n",
       "      <td>down</td>\n",
       "    </tr>\n",
       "    <tr>\n",
       "      <td>Decision_Tree</td>\n",
       "      <td>0.552</td>\n",
       "      <td>0.547</td>\n",
       "      <td>0.737</td>\n",
       "      <td>weights</td>\n",
       "    </tr>\n",
       "  </tbody>\n",
       "</table>\n",
       "</div>"
      ],
      "text/plain": [
       "               f1_validation  f1_test  roc_auc_test disbalance_method\n",
       "Decision_Tree          0.599    0.596         0.760                up\n",
       "Decision_Tree          0.595    0.596         0.766              down\n",
       "Decision_Tree          0.552    0.547         0.737           weights"
      ]
     },
     "execution_count": 25,
     "metadata": {},
     "output_type": "execute_result"
    }
   ],
   "source": [
    "dt_scores= [[dt_cv_validation_score, dt_cv_test_score_f1, dt_cv_test_score_roc_auc, 'weights'],\n",
    "            [best_down_dt_models['f1_val'], f1_test_down_dt, roc_auc_test_down_dt, 'down'],\n",
    "            [best_up_dt_models['f1_val'], f1_test_up_dt, roc_auc_test_up_dt, 'up'],\n",
    "           ]\n",
    "    \n",
    "df_dt_scores = pd.DataFrame(dt_scores,\n",
    "                            columns=['f1_validation',\n",
    "                                     'f1_test', \n",
    "                                     'roc_auc_test',\n",
    "                                     'disbalance_method'\n",
    "                                    ],\n",
    "                            index=3*['Decision_Tree']\n",
    "                           )\n",
    "\n",
    "df_dt_scores.sort_values(by='f1_test', ascending=False)"
   ]
  },
  {
   "cell_type": "markdown",
   "metadata": {},
   "source": [
    "#### Random Forest Classifier"
   ]
  },
  {
   "cell_type": "markdown",
   "metadata": {},
   "source": [
    "---\n",
    "**Присвоение весов классам**"
   ]
  },
  {
   "cell_type": "code",
   "execution_count": 26,
   "metadata": {},
   "outputs": [
    {
     "name": "stdout",
     "output_type": "stream",
     "text": [
      "Выбранные гиперпараметры: {'n_estimators': 80, 'max_depth': 8, 'criterion': 'gini'}\n",
      "f1 на валидационной выборке: 0.609\n",
      "f1 на тестовой выборке: 0.63\n",
      "roc_auc на тестовой выборке: 0.779\n"
     ]
    }
   ],
   "source": [
    "hyperparams_rf = {'max_depth': np.arange(1, 9),\n",
    "                  'n_estimators': [20, 50, 80, 100],\n",
    "                  'criterion': ['gini', 'entropy']\n",
    "                 }\n",
    "\n",
    "rf = RandomForestClassifier(random_state=seed, class_weight='balanced')\n",
    "rf_gscv = RandomizedSearchCV(rf, \n",
    "                             hyperparams_rf, \n",
    "                             cv=cv_k, \n",
    "                             scoring=scoring,\n",
    "                             random_state=seed\n",
    "                            )\n",
    "rf_gscv.fit(x_train, y_train)\n",
    "\n",
    "rf_gscv_best_params = rf_gscv.best_params_\n",
    "rf_gscv_best_model = rf_gscv.best_estimator_\n",
    "rf_gscv_validation_score = rf_gscv.best_score_\n",
    "\n",
    "y_pred_rf = rf_gscv_best_model.predict(x_test)\n",
    "rf_gscv_test_score_f1 = f1_score(y_test, y_pred_rf)\n",
    "rf_gscv_test_score_roc_auc = roc_auc_score(y_test, y_pred_rf)\n",
    "\n",
    "print(f'Выбранные гиперпараметры: {rf_gscv_best_params}')\n",
    "print(f'{scoring} на валидационной выборке: {round(rf_gscv_validation_score, 3)}')\n",
    "\n",
    "print(f'{scoring} на тестовой выборке: {round(rf_gscv_test_score_f1, 3)}')\n",
    "print(f'{scoring_alt} на тестовой выборке: {round(rf_gscv_test_score_roc_auc, 3)}')"
   ]
  },
  {
   "cell_type": "markdown",
   "metadata": {},
   "source": [
    "- При использовании весов для классов значение f1-меры по тестовой выборке **0.63**, что <span style='color:Green'> **больше**  </span> требуемого значения 0.59\n",
    "- Данный результат на 3.4% лучше, чем лучший результат модели дерева решений"
   ]
  },
  {
   "cell_type": "markdown",
   "metadata": {},
   "source": [
    "---\n",
    "**Downsampling**"
   ]
  },
  {
   "cell_type": "code",
   "execution_count": 27,
   "metadata": {},
   "outputs": [],
   "source": [
    "hyperparams_rf = {'max_depth': np.arange(1, 9),\n",
    "                  'n_estimators': [20, 50, 80, 100],\n",
    "                  'criterion': ['gini', 'entropy']\n",
    "                 }\n",
    "\n",
    "down_rf_models = []\n",
    "\n",
    "for max_depth, n_estimators, criterion in product(hyperparams_rf['max_depth'],\n",
    "                                                  hyperparams_rf['n_estimators'],\n",
    "                                                  hyperparams_rf['criterion']\n",
    "                                                 ):\n",
    "    case_params = {'max_depth': max_depth,\n",
    "                   'n_estimators': n_estimators,\n",
    "                   'criterion': criterion,\n",
    "                   'random_state': seed\n",
    "                  }\n",
    "    \n",
    "    case_params['f1_val'], case_params['roc_auc_val'] = score_downsampled_model(RandomForestClassifier,\n",
    "                                                                                case_params, \n",
    "                                                                                x_train, \n",
    "                                                                                y_train, \n",
    "                                                                                kf, \n",
    "                                                                                0.4\n",
    "                                                                               )\n",
    "    down_rf_models.append(case_params)"
   ]
  },
  {
   "cell_type": "code",
   "execution_count": 28,
   "metadata": {},
   "outputs": [],
   "source": [
    "best_down_rf_models = sorted(down_rf_models, key=lambda x: x['f1_val'], reverse=True)[0]"
   ]
  },
  {
   "cell_type": "code",
   "execution_count": 29,
   "metadata": {},
   "outputs": [
    {
     "name": "stdout",
     "output_type": "stream",
     "text": [
      "f1 на валидационной выборке: 0.625\n",
      "roc_auc на валидационной выборке: 0.764\n",
      "\n",
      "f1 на тестовой выборке: 0.606\n",
      "roc_auc на тестовой выборке: 0.749\n"
     ]
    }
   ],
   "source": [
    "par_down_rf = best_down_rf_models.copy()\n",
    "del par_down_rf['f1_val']\n",
    "del par_down_rf['roc_auc_val']\n",
    "\n",
    "mod_down_rf = RandomForestClassifier(**par_down_rf).fit(x_train_down, y_train_down)\n",
    "\n",
    "f1_test_down_rf = f1_score(y_test, mod_down_rf.predict(x_test))\n",
    "roc_auc_test_down_rf = roc_auc_score(y_test, mod_down_rf.predict(x_test))\n",
    "\n",
    "print(f'{scoring} на валидационной выборке:', round(best_down_rf_models['f1_val'], 3))\n",
    "print(f'{scoring_alt} на валидационной выборке:', round(best_down_rf_models['roc_auc_val'], 3))\n",
    "print('')\n",
    "print(f'{scoring} на тестовой выборке:', round(f1_test_down_rf, 3))\n",
    "print(f'{scoring_alt} на тестовой выборке:', round(roc_auc_test_down_rf, 3))"
   ]
  },
  {
   "cell_type": "markdown",
   "metadata": {},
   "source": [
    "- При использовании даунсэмплинга значение f1-меры по тестовой выборке **0.606**, что <span style='color:Green'> **больше**  </span> требуемого значения 0.59\n",
    "- Данный результат на 1% лучше, чем лучший результат модели дерева решений, но на 2.5% хуже этого же алгоритма с использованием весов для классов"
   ]
  },
  {
   "cell_type": "markdown",
   "metadata": {},
   "source": [
    "---\n",
    "**Upsampling**"
   ]
  },
  {
   "cell_type": "code",
   "execution_count": 30,
   "metadata": {},
   "outputs": [],
   "source": [
    "hyperparams_rf = {'max_depth': np.arange(1, 9),\n",
    "                  'n_estimators': [20, 50, 80, 100],\n",
    "                  'criterion': ['gini', 'entropy']\n",
    "                 }\n",
    "\n",
    "up_rf_models = []\n",
    "\n",
    "for max_depth, n_estimators, criterion in product(hyperparams_rf['max_depth'],\n",
    "                                                  hyperparams_rf['n_estimators'],\n",
    "                                                  hyperparams_rf['criterion']\n",
    "                                                 ):\n",
    "    case_params = {'max_depth': max_depth,\n",
    "                   'n_estimators': n_estimators,\n",
    "                   'criterion': criterion,\n",
    "                   'random_state': seed\n",
    "                  }\n",
    "    \n",
    "    case_params['f1_val'], case_params['roc_auc_val'] = score_upsampled_model(RandomForestClassifier,\n",
    "                                                                              case_params, \n",
    "                                                                              x_train, \n",
    "                                                                              y_train, \n",
    "                                                                              kf, \n",
    "                                                                              3\n",
    "                                                                             )\n",
    "    up_rf_models.append(case_params)"
   ]
  },
  {
   "cell_type": "code",
   "execution_count": 31,
   "metadata": {
    "scrolled": true
   },
   "outputs": [],
   "source": [
    "best_up_rf_models = sorted(up_rf_models, key=lambda x: x['f1_val'], reverse=True)[0]"
   ]
  },
  {
   "cell_type": "code",
   "execution_count": 32,
   "metadata": {
    "scrolled": true
   },
   "outputs": [
    {
     "name": "stdout",
     "output_type": "stream",
     "text": [
      "f1 на валидационной выборке: 0.622\n",
      "roc_auc на тестовой выборке: 0.767\n",
      "\n",
      "f1 на тестовой выборке: 0.621\n",
      "roc_auc на тестовой выборке: 0.766\n"
     ]
    }
   ],
   "source": [
    "par_up_rf = best_up_rf_models.copy()\n",
    "del par_up_rf['f1_val']\n",
    "del par_up_rf['roc_auc_val']\n",
    "\n",
    "mod_up_rf = RandomForestClassifier(**par_up_rf).fit(x_train_up, y_train_up)\n",
    "\n",
    "f1_test_up_rf = f1_score(y_test, mod_up_rf.predict(x_test))\n",
    "roc_auc_test_up_rf = roc_auc_score(y_test, mod_up_rf.predict(x_test))\n",
    "\n",
    "print(f'{scoring} на валидационной выборке:', round(best_up_rf_models['f1_val'], 3))\n",
    "print(f'{scoring_alt} на тестовой выборке:', round(best_up_rf_models['roc_auc_val'], 3))\n",
    "print('')\n",
    "print(f'{scoring} на тестовой выборке:', round(f1_test_up_rf, 3))\n",
    "print(f'{scoring_alt} на тестовой выборке:', round(roc_auc_test_up_rf, 3))"
   ]
  },
  {
   "cell_type": "markdown",
   "metadata": {},
   "source": [
    "- При использовании даунсэмплинга значение f1-меры по тестовой выборке **0.621**, что <span style='color:Green'> **больше**  </span> требуемого значения 0.59\n",
    "- Данный результат на 2.5% лучше, чем лучший результат модели дерева решений, но на 1% хуже этого же алгоритма с использованием весов для классов"
   ]
  },
  {
   "cell_type": "markdown",
   "metadata": {},
   "source": [
    "---\n",
    "**Итоговые результаты**"
   ]
  },
  {
   "cell_type": "code",
   "execution_count": 33,
   "metadata": {},
   "outputs": [
    {
     "data": {
      "text/html": [
       "<div>\n",
       "<style scoped>\n",
       "    .dataframe tbody tr th:only-of-type {\n",
       "        vertical-align: middle;\n",
       "    }\n",
       "\n",
       "    .dataframe tbody tr th {\n",
       "        vertical-align: top;\n",
       "    }\n",
       "\n",
       "    .dataframe thead th {\n",
       "        text-align: right;\n",
       "    }\n",
       "</style>\n",
       "<table border=\"1\" class=\"dataframe\">\n",
       "  <thead>\n",
       "    <tr style=\"text-align: right;\">\n",
       "      <th></th>\n",
       "      <th>f1_validation</th>\n",
       "      <th>f1_test</th>\n",
       "      <th>roc_auc_test</th>\n",
       "      <th>disbalance_method</th>\n",
       "    </tr>\n",
       "  </thead>\n",
       "  <tbody>\n",
       "    <tr>\n",
       "      <td>Random_Forest</td>\n",
       "      <td>0.609</td>\n",
       "      <td>0.630</td>\n",
       "      <td>0.779</td>\n",
       "      <td>weights</td>\n",
       "    </tr>\n",
       "    <tr>\n",
       "      <td>Random_Forest</td>\n",
       "      <td>0.622</td>\n",
       "      <td>0.621</td>\n",
       "      <td>0.766</td>\n",
       "      <td>up</td>\n",
       "    </tr>\n",
       "    <tr>\n",
       "      <td>Random_Forest</td>\n",
       "      <td>0.625</td>\n",
       "      <td>0.606</td>\n",
       "      <td>0.749</td>\n",
       "      <td>down</td>\n",
       "    </tr>\n",
       "  </tbody>\n",
       "</table>\n",
       "</div>"
      ],
      "text/plain": [
       "               f1_validation  f1_test  roc_auc_test disbalance_method\n",
       "Random_Forest          0.609    0.630         0.779           weights\n",
       "Random_Forest          0.622    0.621         0.766                up\n",
       "Random_Forest          0.625    0.606         0.749              down"
      ]
     },
     "execution_count": 33,
     "metadata": {},
     "output_type": "execute_result"
    }
   ],
   "source": [
    "rf_scores= [[rf_gscv_validation_score, rf_gscv_test_score_f1, rf_gscv_test_score_roc_auc, 'weights'],\n",
    "            [best_down_rf_models['f1_val'], f1_test_down_rf, roc_auc_test_down_rf, 'down'],\n",
    "            [best_up_rf_models['f1_val'], f1_test_up_rf, roc_auc_test_up_rf, 'up'],\n",
    "           ]\n",
    "    \n",
    "df_rf_scores = pd.DataFrame(rf_scores,\n",
    "                            columns=['f1_validation',\n",
    "                                     'f1_test', \n",
    "                                     'roc_auc_test',\n",
    "                                     'disbalance_method'\n",
    "                                    ],\n",
    "                            index=3*['Random_Forest']\n",
    "                           )\n",
    "\n",
    "df_rf_scores.sort_values(by='f1_test', ascending=False)"
   ]
  },
  {
   "cell_type": "markdown",
   "metadata": {},
   "source": [
    "#### Logistic Regression"
   ]
  },
  {
   "cell_type": "markdown",
   "metadata": {},
   "source": [
    "---\n",
    "**Присвоение весов классам**"
   ]
  },
  {
   "cell_type": "code",
   "execution_count": 34,
   "metadata": {},
   "outputs": [
    {
     "name": "stdout",
     "output_type": "stream",
     "text": [
      "Выбранные гиперпараметры: {'logreg__penalty': 'l1', 'logreg__C': 1.0}\n",
      "f1 на валидационной выборке: 0.497\n",
      "f1 на тестовой выборке: 0.499\n",
      "roc_auc на тестовой выборке: 0.707\n"
     ]
    }
   ],
   "source": [
    "hyperparams_logreg_scaled = {'logreg__C': np.logspace(-5, 10, 10),\n",
    "                             'logreg__penalty': ['l1', 'l2']\n",
    "                             }\n",
    "\n",
    "scaler_logreg = StandardScaler()\n",
    "logreg_scaled = LogisticRegression(random_state=seed, \n",
    "                                   class_weight='balanced'\n",
    "                                  )\n",
    "\n",
    "steps_logreg_scaled = [('scaler', scaler_logreg), ('logreg', logreg_scaled)]\n",
    "pipeline_logreg_scaled = Pipeline(steps_logreg_scaled)\n",
    "\n",
    "logreg_gscv_scaled = RandomizedSearchCV(pipeline_logreg_scaled, \n",
    "                                        hyperparams_logreg_scaled, \n",
    "                                        cv=cv_k, \n",
    "                                        scoring=scoring, \n",
    "                                        random_state=seed\n",
    "                                       )\n",
    "logreg_gscv_scaled.fit(x_train, y_train)\n",
    "\n",
    "logreg_gscv_best_params_scaled = logreg_gscv_scaled.best_params_\n",
    "logreg_gscv_best_model_scaled = logreg_gscv_scaled.best_estimator_\n",
    "logreg_gscv_validation_score_scaled = logreg_gscv_scaled.best_score_\n",
    "\n",
    "y_pred_logreg = logreg_gscv_best_model_scaled.predict(x_test)\n",
    "logreg_gscv_test_score_scaled_f1 = f1_score(y_test, y_pred_logreg)\n",
    "logreg_gscv_test_score_scaled_roc_auc = roc_auc_score(y_test, y_pred_logreg)\n",
    "\n",
    "print(f'Выбранные гиперпараметры: {logreg_gscv_best_params_scaled}')\n",
    "print(f'{scoring} на валидационной выборке: {round(logreg_gscv_validation_score_scaled, 3)}')\n",
    "\n",
    "print(f'{scoring} на тестовой выборке: {round(logreg_gscv_test_score_scaled_f1, 3)}')\n",
    "print(f'{scoring_alt} на тестовой выборке: {round(logreg_gscv_test_score_scaled_roc_auc, 3)}')"
   ]
  },
  {
   "cell_type": "markdown",
   "metadata": {},
   "source": [
    "- При использовании весов классов значение f1-меры по тестовой выборке **0.499**, что <span style='color:Red'> **меньше**  </span> требуемого значения 0.59\n",
    "- Данный результат на 4.8% хуже наихудшего результата предыдущих моделей"
   ]
  },
  {
   "cell_type": "markdown",
   "metadata": {},
   "source": [
    "---\n",
    "**Downsampling**"
   ]
  },
  {
   "cell_type": "code",
   "execution_count": 35,
   "metadata": {},
   "outputs": [],
   "source": [
    "# масштабируем данные для сэмплинга (до применения сэмплинга)\n",
    "scaler_logreg = StandardScaler()\n",
    "scaler_logreg.fit(x_train, y_train)\n",
    "\n",
    "x_train_scaled = pd.DataFrame(scaler_logreg.transform(x_train), index=x_train.index, columns=x_train.columns)\n",
    "x_test_scaled = pd.DataFrame(scaler_logreg.transform(x_test), index=x_test.index, columns=x_test.columns)"
   ]
  },
  {
   "cell_type": "code",
   "execution_count": 36,
   "metadata": {},
   "outputs": [],
   "source": [
    "# сэмплируем масштабированную обучающую выборку для обучения лучшей модели, выбранной на основе ручного подбора\n",
    "x_train_down_scaled, y_train_down = downsample(x_train_scaled, y_train, 0.4)\n",
    "x_train_up_scaled, y_train_up = upsample(x_train_scaled, y_train, 3)"
   ]
  },
  {
   "cell_type": "code",
   "execution_count": 37,
   "metadata": {},
   "outputs": [],
   "source": [
    "hyperparams_logreg_scaled = {'C': np.logspace(-5, 10, 10),\n",
    "                             'penalty': ['l1', 'l2']\n",
    "                             }\n",
    "\n",
    "down_logreg_models = []\n",
    "\n",
    "for C, penalty in product(hyperparams_logreg_scaled['C'],\n",
    "                          hyperparams_logreg_scaled['penalty']\n",
    "                         ):\n",
    "    case_params = {'C': C,\n",
    "                   'penalty': penalty,\n",
    "                   'random_state': seed,\n",
    "                   'solver': 'liblinear'\n",
    "                  }\n",
    "    \n",
    "    case_params['f1_val'], case_params['roc_auc_val'] = score_downsampled_model(LogisticRegression,\n",
    "                                                                                case_params, \n",
    "                                                                                x_train_scaled, \n",
    "                                                                                y_train, \n",
    "                                                                                kf, \n",
    "                                                                                0.4\n",
    "                                                                               )\n",
    "    down_logreg_models.append(case_params)"
   ]
  },
  {
   "cell_type": "code",
   "execution_count": 38,
   "metadata": {},
   "outputs": [],
   "source": [
    "best_down_logreg_models = sorted(down_logreg_models, key=lambda x: x['f1_val'], reverse=True)[0]"
   ]
  },
  {
   "cell_type": "code",
   "execution_count": 39,
   "metadata": {},
   "outputs": [
    {
     "name": "stdout",
     "output_type": "stream",
     "text": [
      "f1 на валидационной выборке: 0.493\n",
      "roc_auc на валидационной выборке: 0.686\n",
      "\n",
      "f1 на тестовой выборке: 0.482\n",
      "roc_auc на тестовой выборке: 0.678\n"
     ]
    }
   ],
   "source": [
    "par_down_logreg = best_down_logreg_models.copy()\n",
    "del par_down_logreg['f1_val']\n",
    "del par_down_logreg['roc_auc_val']\n",
    "\n",
    "mod_down_logreg = LogisticRegression(**par_down_logreg).fit(x_train_down_scaled, y_train_down)\n",
    "\n",
    "f1_test_down_logreg = f1_score(y_test, mod_down_logreg.predict(x_test_scaled))\n",
    "roc_auc_test_down_logreg = roc_auc_score(y_test, mod_down_logreg.predict(x_test_scaled))\n",
    "\n",
    "print(f'{scoring} на валидационной выборке:', round(best_down_logreg_models['f1_val'], 3))\n",
    "print(f'{scoring_alt} на валидационной выборке:', round(best_down_logreg_models['roc_auc_val'], 3))\n",
    "print('')\n",
    "print(f'{scoring} на тестовой выборке:', round(f1_test_down_logreg, 3))\n",
    "print(f'{scoring_alt} на тестовой выборке:', round(roc_auc_test_down_logreg, 3))"
   ]
  },
  {
   "cell_type": "markdown",
   "metadata": {},
   "source": [
    "- При использовании даунсэмплинга значение f1-меры по тестовой выборке **0.482**, что <span style='color:Red'> **меньше**  </span> требуемого значения 0.59\n",
    "- Данный результат на 1.7% хуже результата логистической регрессии с использованием весов классов"
   ]
  },
  {
   "cell_type": "markdown",
   "metadata": {},
   "source": [
    "---\n",
    "**Upsampling**"
   ]
  },
  {
   "cell_type": "code",
   "execution_count": 40,
   "metadata": {},
   "outputs": [],
   "source": [
    "hyperparams_logreg_scaled = {'C': np.logspace(-5, 10, 10),\n",
    "                             'penalty': ['l1', 'l2']\n",
    "                             }\n",
    "\n",
    "up_logreg_models = []\n",
    "\n",
    "for C, penalty in product(hyperparams_logreg_scaled['C'],\n",
    "                          hyperparams_logreg_scaled['penalty']\n",
    "                         ):\n",
    "    case_params = {'C': C,\n",
    "                   'penalty': penalty,\n",
    "                   'random_state': seed,\n",
    "                   'solver': 'liblinear'\n",
    "                  }\n",
    "    \n",
    "    case_params['f1_val'], case_params['roc_auc_val'] = score_upsampled_model(LogisticRegression,\n",
    "                                                                              case_params, \n",
    "                                                                              x_train_scaled, \n",
    "                                                                              y_train, \n",
    "                                                                              kf, \n",
    "                                                                              3\n",
    "                                                                             )\n",
    "    up_logreg_models.append(case_params)"
   ]
  },
  {
   "cell_type": "code",
   "execution_count": 41,
   "metadata": {
    "scrolled": true
   },
   "outputs": [],
   "source": [
    "best_up_logreg_models = sorted(up_logreg_models, key=lambda x: x['f1_val'], reverse=True)[0]"
   ]
  },
  {
   "cell_type": "code",
   "execution_count": 42,
   "metadata": {
    "scrolled": true
   },
   "outputs": [
    {
     "name": "stdout",
     "output_type": "stream",
     "text": [
      "f1 на валидационной выборке: 0.5\n",
      "roc_auc на валидационной выборке: 0.698\n",
      "\n",
      "f1 на тестовой выборке: 0.501\n",
      "roc_auc на тестовой выборке: 0.697\n"
     ]
    }
   ],
   "source": [
    "par_up_logreg = best_up_logreg_models.copy()\n",
    "del par_up_logreg['f1_val']\n",
    "del par_up_logreg['roc_auc_val']\n",
    "\n",
    "mod_up_logreg = LogisticRegression(**par_up_logreg).fit(x_train_up_scaled, y_train_up)\n",
    "\n",
    "f1_test_up_logreg = f1_score(y_test, mod_up_logreg.predict(x_test_scaled))\n",
    "roc_auc_test_up_logreg = roc_auc_score(y_test, mod_up_logreg.predict(x_test_scaled))\n",
    "\n",
    "print(f'{scoring} на валидационной выборке:', round(best_up_logreg_models['f1_val'], 3))\n",
    "print(f'{scoring_alt} на валидационной выборке:', round(best_up_logreg_models['roc_auc_val'], 3))\n",
    "print('')\n",
    "print(f'{scoring} на тестовой выборке:', round(f1_test_up_logreg, 3))\n",
    "print(f'{scoring_alt} на тестовой выборке:', round(roc_auc_test_up_logreg, 3))"
   ]
  },
  {
   "cell_type": "markdown",
   "metadata": {},
   "source": [
    "- При использовании апсэмплинга значение f1-меры по тестовой выборке **0.501**, что <span style='color:Red'> **меньше**  </span> требуемого значения 0.59\n",
    "- Данный результат - лучший результат для логистической регрессии, но хуже более чем на 10%, чем лучший результат предыдущих моделей"
   ]
  },
  {
   "cell_type": "markdown",
   "metadata": {},
   "source": [
    "---\n",
    "**Итоговые результаты**"
   ]
  },
  {
   "cell_type": "code",
   "execution_count": 43,
   "metadata": {},
   "outputs": [
    {
     "data": {
      "text/html": [
       "<div>\n",
       "<style scoped>\n",
       "    .dataframe tbody tr th:only-of-type {\n",
       "        vertical-align: middle;\n",
       "    }\n",
       "\n",
       "    .dataframe tbody tr th {\n",
       "        vertical-align: top;\n",
       "    }\n",
       "\n",
       "    .dataframe thead th {\n",
       "        text-align: right;\n",
       "    }\n",
       "</style>\n",
       "<table border=\"1\" class=\"dataframe\">\n",
       "  <thead>\n",
       "    <tr style=\"text-align: right;\">\n",
       "      <th></th>\n",
       "      <th>f1_validation</th>\n",
       "      <th>f1_test</th>\n",
       "      <th>roc_auc_test</th>\n",
       "      <th>disbalance_method</th>\n",
       "    </tr>\n",
       "  </thead>\n",
       "  <tbody>\n",
       "    <tr>\n",
       "      <td>Logistic_Regression</td>\n",
       "      <td>0.500</td>\n",
       "      <td>0.501</td>\n",
       "      <td>0.697</td>\n",
       "      <td>up</td>\n",
       "    </tr>\n",
       "    <tr>\n",
       "      <td>Logistic_Regression</td>\n",
       "      <td>0.497</td>\n",
       "      <td>0.499</td>\n",
       "      <td>0.707</td>\n",
       "      <td>weights</td>\n",
       "    </tr>\n",
       "    <tr>\n",
       "      <td>Logistic_Regression</td>\n",
       "      <td>0.493</td>\n",
       "      <td>0.482</td>\n",
       "      <td>0.678</td>\n",
       "      <td>down</td>\n",
       "    </tr>\n",
       "  </tbody>\n",
       "</table>\n",
       "</div>"
      ],
      "text/plain": [
       "                     f1_validation  f1_test  roc_auc_test disbalance_method\n",
       "Logistic_Regression          0.500    0.501         0.697                up\n",
       "Logistic_Regression          0.497    0.499         0.707           weights\n",
       "Logistic_Regression          0.493    0.482         0.678              down"
      ]
     },
     "execution_count": 43,
     "metadata": {},
     "output_type": "execute_result"
    }
   ],
   "source": [
    "logreg_scores= [[logreg_gscv_validation_score_scaled, logreg_gscv_test_score_scaled_f1, logreg_gscv_test_score_scaled_roc_auc, 'weights'],\n",
    "                [best_down_logreg_models['f1_val'], f1_test_down_logreg, roc_auc_test_down_logreg, 'down'],\n",
    "                [best_up_logreg_models['f1_val'], f1_test_up_logreg, roc_auc_test_up_logreg, 'up'],\n",
    "               ]\n",
    "    \n",
    "df_logreg_scores = pd.DataFrame(logreg_scores,\n",
    "                                columns=['f1_validation',\n",
    "                                         'f1_test', \n",
    "                                         'roc_auc_test',\n",
    "                                         'disbalance_method'\n",
    "                                        ],\n",
    "                                index=3*['Logistic_Regression']\n",
    "                               )\n",
    "\n",
    "df_logreg_scores.sort_values(by='f1_test', ascending=False)"
   ]
  },
  {
   "cell_type": "markdown",
   "metadata": {},
   "source": [
    "#### kNN Classifier"
   ]
  },
  {
   "cell_type": "markdown",
   "metadata": {},
   "source": [
    "---\n",
    "**Downsampling**"
   ]
  },
  {
   "cell_type": "code",
   "execution_count": 44,
   "metadata": {},
   "outputs": [],
   "source": [
    "hyperparams_knn = {'n_neighbors': np.arange(1, 50)}\n",
    "\n",
    "down_knn_models = []\n",
    "\n",
    "for n_neighbors in hyperparams_knn['n_neighbors']:\n",
    "    case_params = {'n_neighbors': n_neighbors}\n",
    "    \n",
    "    case_params['f1_val'], case_params['roc_auc_val'] = score_downsampled_model(KNeighborsClassifier,\n",
    "                                                                                case_params, \n",
    "                                                                                x_train_scaled, \n",
    "                                                                                y_train, \n",
    "                                                                                kf, \n",
    "                                                                                0.4\n",
    "                                                                               )\n",
    "    down_knn_models.append(case_params)"
   ]
  },
  {
   "cell_type": "code",
   "execution_count": 45,
   "metadata": {},
   "outputs": [],
   "source": [
    "best_down_knn_models = sorted(down_knn_models, key=lambda x: x['f1_val'], reverse=True)[0]"
   ]
  },
  {
   "cell_type": "code",
   "execution_count": 46,
   "metadata": {},
   "outputs": [
    {
     "name": "stdout",
     "output_type": "stream",
     "text": [
      "f1 на валидационной выборке: 0.545\n",
      "roc_auc на валидационной выборке: 0.72\n",
      "\n",
      "f1 на тестовой выборке: 0.546\n",
      "roc_auc на тестовой выборке: 0.72\n"
     ]
    }
   ],
   "source": [
    "par_down_knn = best_down_knn_models.copy()\n",
    "del par_down_knn['f1_val']\n",
    "del par_down_knn['roc_auc_val']\n",
    "\n",
    "mod_down_knn = KNeighborsClassifier(**par_down_knn).fit(x_train_down_scaled, y_train_down)\n",
    "\n",
    "f1_test_down_knn = f1_score(y_test, mod_down_knn.predict(x_test_scaled))\n",
    "roc_auc_test_down_knn = roc_auc_score(y_test, mod_down_knn.predict(x_test_scaled))\n",
    "\n",
    "print(f'{scoring} на валидационной выборке:', round(best_down_knn_models['f1_val'], 3))\n",
    "print(f'{scoring_alt} на валидационной выборке:', round(best_down_knn_models['roc_auc_val'], 3))\n",
    "print('')\n",
    "print(f'{scoring} на тестовой выборке:', round(f1_test_down_knn, 3))\n",
    "print(f'{scoring_alt} на тестовой выборке:', round(roc_auc_test_down_knn, 3))"
   ]
  },
  {
   "cell_type": "markdown",
   "metadata": {},
   "source": [
    "- При использовании даунсэмплинга значение f1-меры по тестовой выборке **0.546**, что <span style='color:Red'> **меньше**  </span> требуемого значения 0.59\n",
    "- Данный результат - промежуточный между результатами моделей дерева решений и логистической регрессии"
   ]
  },
  {
   "cell_type": "markdown",
   "metadata": {},
   "source": [
    "---\n",
    "**Upsampling**"
   ]
  },
  {
   "cell_type": "code",
   "execution_count": 47,
   "metadata": {},
   "outputs": [],
   "source": [
    "hyperparams_knn = {'n_neighbors': np.arange(1, 50)}\n",
    "\n",
    "up_knn_models = []\n",
    "\n",
    "for n_neighbors in hyperparams_knn['n_neighbors']:\n",
    "    case_params = {'n_neighbors': n_neighbors}\n",
    "    \n",
    "    case_params['f1_val'], case_params['roc_auc_val'] = score_upsampled_model(KNeighborsClassifier,\n",
    "                                                                              case_params, \n",
    "                                                                              x_train_scaled, \n",
    "                                                                              y_train, \n",
    "                                                                              kf, \n",
    "                                                                              3\n",
    "                                                                             )\n",
    "    up_knn_models.append(case_params)"
   ]
  },
  {
   "cell_type": "code",
   "execution_count": 48,
   "metadata": {
    "scrolled": true
   },
   "outputs": [],
   "source": [
    "best_up_knn_models = sorted(up_knn_models, key=lambda x: x['f1_val'], reverse=True)[0]"
   ]
  },
  {
   "cell_type": "code",
   "execution_count": 49,
   "metadata": {
    "scrolled": true
   },
   "outputs": [
    {
     "name": "stdout",
     "output_type": "stream",
     "text": [
      "f1 на валидационной выборке: 0.551\n",
      "roc_auc на тестовой выборке: 0.729\n",
      "\n",
      "f1 на тестовой выборке: 0.54\n",
      "roc_auc на тестовой выборке: 0.724\n"
     ]
    }
   ],
   "source": [
    "par_up_knn = best_up_knn_models.copy()\n",
    "del par_up_knn['f1_val']\n",
    "del par_up_knn['roc_auc_val']\n",
    "\n",
    "mod_up_knn = KNeighborsClassifier(**par_up_knn).fit(x_train_up_scaled, y_train_up)\n",
    "\n",
    "f1_test_up_knn = f1_score(y_test, mod_up_knn.predict(x_test_scaled))\n",
    "roc_auc_test_up_knn = roc_auc_score(y_test, mod_up_knn.predict(x_test_scaled))\n",
    "\n",
    "print(f'{scoring} на валидационной выборке:', round(best_up_knn_models['f1_val'], 3))\n",
    "print(f'{scoring_alt} на тестовой выборке:', round(best_up_knn_models['roc_auc_val'], 3))\n",
    "print('')\n",
    "print(f'{scoring} на тестовой выборке:', round(f1_test_up_knn, 3))\n",
    "print(f'{scoring_alt} на тестовой выборке:', round(roc_auc_test_up_knn, 3))"
   ]
  },
  {
   "cell_type": "markdown",
   "metadata": {},
   "source": [
    "- При использовании апсэмплинга значение f1-меры по тестовой выборке **0.54**, что <span style='color:Red'> **меньше**  </span> требуемого значения 0.59\n",
    "- Данный результат - промежуточный между результатами моделей дерева решений и логистической регрессии"
   ]
  },
  {
   "cell_type": "markdown",
   "metadata": {},
   "source": [
    "---\n",
    "**Итоговые результаты**"
   ]
  },
  {
   "cell_type": "code",
   "execution_count": 50,
   "metadata": {},
   "outputs": [
    {
     "data": {
      "text/html": [
       "<div>\n",
       "<style scoped>\n",
       "    .dataframe tbody tr th:only-of-type {\n",
       "        vertical-align: middle;\n",
       "    }\n",
       "\n",
       "    .dataframe tbody tr th {\n",
       "        vertical-align: top;\n",
       "    }\n",
       "\n",
       "    .dataframe thead th {\n",
       "        text-align: right;\n",
       "    }\n",
       "</style>\n",
       "<table border=\"1\" class=\"dataframe\">\n",
       "  <thead>\n",
       "    <tr style=\"text-align: right;\">\n",
       "      <th></th>\n",
       "      <th>f1_validation</th>\n",
       "      <th>f1_test</th>\n",
       "      <th>roc_auc_test</th>\n",
       "      <th>disbalance_method</th>\n",
       "    </tr>\n",
       "  </thead>\n",
       "  <tbody>\n",
       "    <tr>\n",
       "      <td>kNN</td>\n",
       "      <td>0.545</td>\n",
       "      <td>0.546</td>\n",
       "      <td>0.720</td>\n",
       "      <td>down</td>\n",
       "    </tr>\n",
       "    <tr>\n",
       "      <td>kNN</td>\n",
       "      <td>0.500</td>\n",
       "      <td>0.540</td>\n",
       "      <td>0.724</td>\n",
       "      <td>up</td>\n",
       "    </tr>\n",
       "  </tbody>\n",
       "</table>\n",
       "</div>"
      ],
      "text/plain": [
       "     f1_validation  f1_test  roc_auc_test disbalance_method\n",
       "kNN          0.545    0.546         0.720              down\n",
       "kNN          0.500    0.540         0.724                up"
      ]
     },
     "execution_count": 50,
     "metadata": {},
     "output_type": "execute_result"
    }
   ],
   "source": [
    "knn_scores= [[best_down_knn_models['f1_val'], f1_test_down_knn, roc_auc_test_down_knn, 'down'],\n",
    "             [best_up_logreg_models['f1_val'], f1_test_up_knn, roc_auc_test_up_knn, 'up'],\n",
    "            ]\n",
    "    \n",
    "df_knn_scores = pd.DataFrame(knn_scores,\n",
    "                             columns=['f1_validation',\n",
    "                                      'f1_test', \n",
    "                                      'roc_auc_test',\n",
    "                                      'disbalance_method'\n",
    "                                     ],\n",
    "                             index=2*['kNN']\n",
    "                            )\n",
    "\n",
    "df_knn_scores.sort_values(by='f1_test', ascending=False)"
   ]
  },
  {
   "cell_type": "markdown",
   "metadata": {},
   "source": [
    "## Выбор финальной модели"
   ]
  },
  {
   "cell_type": "markdown",
   "metadata": {},
   "source": [
    "- Посмотрим на финальные результаты по всем моделям и по всем методам борьбы с дисбалансом классов"
   ]
  },
  {
   "cell_type": "code",
   "execution_count": 51,
   "metadata": {},
   "outputs": [
    {
     "data": {
      "text/html": [
       "<div>\n",
       "<style scoped>\n",
       "    .dataframe tbody tr th:only-of-type {\n",
       "        vertical-align: middle;\n",
       "    }\n",
       "\n",
       "    .dataframe tbody tr th {\n",
       "        vertical-align: top;\n",
       "    }\n",
       "\n",
       "    .dataframe thead th {\n",
       "        text-align: right;\n",
       "    }\n",
       "</style>\n",
       "<table border=\"1\" class=\"dataframe\">\n",
       "  <thead>\n",
       "    <tr style=\"text-align: right;\">\n",
       "      <th></th>\n",
       "      <th>f1_validation</th>\n",
       "      <th>f1_test</th>\n",
       "      <th>roc_auc_test</th>\n",
       "      <th>disbalance_method</th>\n",
       "    </tr>\n",
       "  </thead>\n",
       "  <tbody>\n",
       "    <tr>\n",
       "      <td>Random_Forest</td>\n",
       "      <td>0.609</td>\n",
       "      <td>0.630</td>\n",
       "      <td>0.779</td>\n",
       "      <td>weights</td>\n",
       "    </tr>\n",
       "    <tr>\n",
       "      <td>Random_Forest</td>\n",
       "      <td>0.622</td>\n",
       "      <td>0.621</td>\n",
       "      <td>0.766</td>\n",
       "      <td>up</td>\n",
       "    </tr>\n",
       "    <tr>\n",
       "      <td>Random_Forest</td>\n",
       "      <td>0.625</td>\n",
       "      <td>0.606</td>\n",
       "      <td>0.749</td>\n",
       "      <td>down</td>\n",
       "    </tr>\n",
       "    <tr>\n",
       "      <td>Decision_Tree</td>\n",
       "      <td>0.599</td>\n",
       "      <td>0.596</td>\n",
       "      <td>0.760</td>\n",
       "      <td>up</td>\n",
       "    </tr>\n",
       "    <tr>\n",
       "      <td>Decision_Tree</td>\n",
       "      <td>0.595</td>\n",
       "      <td>0.596</td>\n",
       "      <td>0.766</td>\n",
       "      <td>down</td>\n",
       "    </tr>\n",
       "    <tr>\n",
       "      <td>Decision_Tree</td>\n",
       "      <td>0.552</td>\n",
       "      <td>0.547</td>\n",
       "      <td>0.737</td>\n",
       "      <td>weights</td>\n",
       "    </tr>\n",
       "    <tr>\n",
       "      <td>kNN</td>\n",
       "      <td>0.545</td>\n",
       "      <td>0.546</td>\n",
       "      <td>0.720</td>\n",
       "      <td>down</td>\n",
       "    </tr>\n",
       "    <tr>\n",
       "      <td>kNN</td>\n",
       "      <td>0.500</td>\n",
       "      <td>0.540</td>\n",
       "      <td>0.724</td>\n",
       "      <td>up</td>\n",
       "    </tr>\n",
       "    <tr>\n",
       "      <td>Logistic_Regression</td>\n",
       "      <td>0.500</td>\n",
       "      <td>0.501</td>\n",
       "      <td>0.697</td>\n",
       "      <td>up</td>\n",
       "    </tr>\n",
       "    <tr>\n",
       "      <td>Logistic_Regression</td>\n",
       "      <td>0.497</td>\n",
       "      <td>0.499</td>\n",
       "      <td>0.707</td>\n",
       "      <td>weights</td>\n",
       "    </tr>\n",
       "    <tr>\n",
       "      <td>Logistic_Regression</td>\n",
       "      <td>0.493</td>\n",
       "      <td>0.482</td>\n",
       "      <td>0.678</td>\n",
       "      <td>down</td>\n",
       "    </tr>\n",
       "  </tbody>\n",
       "</table>\n",
       "</div>"
      ],
      "text/plain": [
       "                     f1_validation  f1_test  roc_auc_test disbalance_method\n",
       "Random_Forest                0.609    0.630         0.779           weights\n",
       "Random_Forest                0.622    0.621         0.766                up\n",
       "Random_Forest                0.625    0.606         0.749              down\n",
       "Decision_Tree                0.599    0.596         0.760                up\n",
       "Decision_Tree                0.595    0.596         0.766              down\n",
       "Decision_Tree                0.552    0.547         0.737           weights\n",
       "kNN                          0.545    0.546         0.720              down\n",
       "kNN                          0.500    0.540         0.724                up\n",
       "Logistic_Regression          0.500    0.501         0.697                up\n",
       "Logistic_Regression          0.497    0.499         0.707           weights\n",
       "Logistic_Regression          0.493    0.482         0.678              down"
      ]
     },
     "execution_count": 51,
     "metadata": {},
     "output_type": "execute_result"
    }
   ],
   "source": [
    "total_results = pd.concat([df_dt_scores, df_rf_scores, df_logreg_scores, df_knn_scores])\n",
    "\n",
    "total_results.sort_values(by='f1_test', ascending=False)"
   ]
  },
  {
   "cell_type": "markdown",
   "metadata": {},
   "source": [
    "- Все модели случайного леса и две модель дерева решений (с увеличением и уменьшением выборки) смогли показать результат по f1-мере выше требуемого значения 0.59\n",
    "- Значения метрики roc auc в целом коррелируют со значением f1-меры, из общей тенденции выбивается разве что значение roc auc для модели случайного леса с использованием даунсэмплинга"
   ]
  },
  {
   "cell_type": "markdown",
   "metadata": {},
   "source": [
    "- Дополнительно визуализируем графики зависимости f1 vs roc auc по разным методам борьбы с дисбалансом классов и разным методам обучения"
   ]
  },
  {
   "cell_type": "code",
   "execution_count": 52,
   "metadata": {
    "scrolled": false
   },
   "outputs": [
    {
     "data": {
      "image/png": "[encoded data removed]",
      "text/plain": [
       "<Figure size 720x432 with 1 Axes>"
      ]
     },
     "metadata": {},
     "output_type": "display_data"
    }
   ],
   "source": [
    "fig, ax = plt.subplots(figsize=(10, 6))\n",
    "\n",
    "sns.scatterplot(x='f1_test', y='roc_auc_test', hue='disbalance_method', data=total_results)\n",
    "plt.axvline(.59, linewidth=.5, color='tab:red')\n",
    "plt.text(.592, .79, 'f1=0.59')\n",
    "\n",
    "plt.show()"
   ]
  },
  {
   "cell_type": "code",
   "execution_count": 53,
   "metadata": {},
   "outputs": [
    {
     "data": {
      "image/png": "[encoded data removed]",
      "text/plain": [
       "<Figure size 720x432 with 1 Axes>"
      ]
     },
     "metadata": {},
     "output_type": "display_data"
    }
   ],
   "source": [
    "fig, ax = plt.subplots(figsize=(10, 6))\n",
    "\n",
    "sns.scatterplot(x='f1_test', y='roc_auc_test', hue=total_results.index, data=total_results)\n",
    "plt.axvline(.59, linewidth=.5, color='tab:red')\n",
    "plt.text(.592, .79, 'f1=0.59')\n",
    "\n",
    "plt.show()"
   ]
  },
  {
   "cell_type": "markdown",
   "metadata": {},
   "source": [
    "- Хорошо видны результаты обучения моделей:\n",
    "    1. 5 моделей смогли показать результат по f1 выше требуемого 0.59: все модели Random Forest и две модели Decision Tree (с увеличением и уменьшением выборки)\n",
    "    2. Для разных алгоритмов разные методы решают проблему дисбаланса классов\n",
    "    3. Для данной задачи плохо сработали модели логистической регрессии\n",
    "    4. Результаты моделей находятся в 3 разных кластерах, которые образуются видимо не по используемым алгоритмам и методам борьбы с дисбалансом, а по другим признакам"
   ]
  },
  {
   "cell_type": "markdown",
   "metadata": {},
   "source": [
    "- Для пяти лучших моделей посмотрим отдельно кривые ROC"
   ]
  },
  {
   "cell_type": "code",
   "execution_count": 54,
   "metadata": {},
   "outputs": [
    {
     "data": {
      "image/png": "[encoded data removed]",
      "text/plain": [
       "<Figure size 576x576 with 1 Axes>"
      ]
     },
     "metadata": {},
     "output_type": "display_data"
    }
   ],
   "source": [
    "fig, ax = plt.subplots(figsize=(8, 8))\n",
    "\n",
    "for model in [('rf_weight', rf_gscv_best_model), \n",
    "              ('rf_up', mod_up_rf), \n",
    "              ('rf_down', mod_down_rf), \n",
    "              ('dt_up', mod_up_dt), \n",
    "              ('dt_down', mod_down_dt)\n",
    "             ]:\n",
    "    clf = model[1]\n",
    "    fpr, tpr, thresholds = roc_curve(y_test, clf.predict_proba(x_test)[:, 1])\n",
    "    sns.lineplot(fpr, tpr, ax=ax, label=model[0])\n",
    "    \n",
    "ax.plot([0, 1], [0, 1], linestyle='--')\n",
    "plt.xlim([0, 1])\n",
    "plt.ylim([0, 1])\n",
    "plt.legend(loc=4)\n",
    "plt.title('Top-5 models ROC-curves')\n",
    "plt.xlabel('False Positive Rate')\n",
    "plt.ylabel('True Positive Rate')\n",
    "\n",
    "plt.show()"
   ]
  },
  {
   "cell_type": "markdown",
   "metadata": {},
   "source": [
    "- Хорошо видно, что в целом и модели случайного леса относительно друг друга, и модели дерева решений относительно друг друг, ведут себя практически идентично вне зависимости от выбранного метода борьбы с дисбалансами классов - итоговая разница минимальна"
   ]
  },
  {
   "cell_type": "markdown",
   "metadata": {},
   "source": [
    "- Финальной моделью выбирается модель **Random Forest с использованием весов для классов**, значение ее f1-меры выше требуемого граничного значения 0.59 и равняется **0.63**"
   ]
  },
  {
   "cell_type": "markdown",
   "metadata": {},
   "source": [
    "## Вывод"
   ]
  },
  {
   "cell_type": "markdown",
   "metadata": {},
   "source": [
    "1. На имеющихся данных протестированы 4 разных модели, подходящие для задачи бинарной классификации:\n",
    "    - DecisionTreeClassifier\n",
    "    - RandomForestClassifier\n",
    "    - LogisticRegression\n",
    "    - KNeighborsClassifier\n",
    "2. На каждой из моделей были протестированы 3 разных метода борьбы с дисбалансом классов:\n",
    "    - Присвоение весов классам\n",
    "    - Downsampling\n",
    "    - Upsampling\n",
    "3. Для каждого метода борьбы найдены наилучшие параметры\n",
    "4. 5 моделей смогли показать результат по f1-мере выше требуемого граничного значения 0.59\n",
    "5. Метрика roc auc имеет хорошую прямую зависимость с f1-мерой\n",
    "6. Финальной моделью выбирается модель **Random Forest с использованием весов для классов: f1 = 0.63**"
   ]
  },
  {
   "cell_type": "code",
   "execution_count": null,
   "metadata": {},
   "outputs": [],
   "source": []
  }
 ],
 "metadata": {
  "ExecuteTimeLog": [
   {
    "duration": 1635,
    "start_time": "2021-09-01T21:08:51.710Z"
   },
   {
    "duration": 548,
    "start_time": "2021-09-01T21:10:09.254Z"
   },
   {
    "duration": 15,
    "start_time": "2021-09-01T21:10:20.404Z"
   },
   {
    "duration": 81,
    "start_time": "2021-09-01T21:10:33.175Z"
   },
   {
    "duration": 59,
    "start_time": "2021-09-01T21:10:58.515Z"
   },
   {
    "duration": 215,
    "start_time": "2021-09-01T21:13:55.577Z"
   },
   {
    "duration": 275,
    "start_time": "2021-09-01T21:14:58.342Z"
   },
   {
    "duration": 54,
    "start_time": "2021-09-01T21:19:20.971Z"
   },
   {
    "duration": 263,
    "start_time": "2021-09-01T21:19:38.864Z"
   },
   {
    "duration": 263,
    "start_time": "2021-09-01T21:19:55.404Z"
   },
   {
    "duration": 260,
    "start_time": "2021-09-01T21:20:04.519Z"
   },
   {
    "duration": 311,
    "start_time": "2021-09-01T21:20:26.266Z"
   },
   {
    "duration": 1096,
    "start_time": "2021-09-01T21:21:07.862Z"
   },
   {
    "duration": 376,
    "start_time": "2021-09-01T21:21:17.406Z"
   },
   {
    "duration": 390,
    "start_time": "2021-09-01T21:21:59.332Z"
   },
   {
    "duration": 667,
    "start_time": "2021-09-01T21:23:20.122Z"
   },
   {
    "duration": 267,
    "start_time": "2021-09-01T21:23:44.391Z"
   },
   {
    "duration": 689,
    "start_time": "2021-09-01T21:25:59.386Z"
   },
   {
    "duration": 278,
    "start_time": "2021-09-01T21:26:08.374Z"
   },
   {
    "duration": 272,
    "start_time": "2021-09-01T21:26:26.308Z"
   },
   {
    "duration": 272,
    "start_time": "2021-09-01T21:27:02.016Z"
   },
   {
    "duration": 690,
    "start_time": "2021-09-01T21:27:41.428Z"
   },
   {
    "duration": 105,
    "start_time": "2021-09-01T21:27:47.197Z"
   },
   {
    "duration": 10,
    "start_time": "2021-09-01T21:28:09.191Z"
   },
   {
    "duration": 271,
    "start_time": "2021-09-01T21:28:27.311Z"
   },
   {
    "duration": 57,
    "start_time": "2021-09-01T21:28:47.883Z"
   },
   {
    "duration": 10,
    "start_time": "2021-09-01T21:28:50.974Z"
   },
   {
    "duration": 266,
    "start_time": "2021-09-01T21:32:18.291Z"
   },
   {
    "duration": 360,
    "start_time": "2021-09-01T21:32:41.608Z"
   },
   {
    "duration": 267,
    "start_time": "2021-09-01T21:32:59.070Z"
   },
   {
    "duration": 268,
    "start_time": "2021-09-01T21:33:09.721Z"
   },
   {
    "duration": 959,
    "start_time": "2021-09-02T09:04:17.026Z"
   },
   {
    "duration": 1941,
    "start_time": "2021-09-02T09:04:24.328Z"
   },
   {
    "duration": 174,
    "start_time": "2021-09-02T09:04:26.287Z"
   },
   {
    "duration": 24,
    "start_time": "2021-09-02T09:04:26.465Z"
   },
   {
    "duration": 294,
    "start_time": "2021-09-02T09:04:26.496Z"
   },
   {
    "duration": 379,
    "start_time": "2021-09-02T09:05:11.934Z"
   },
   {
    "duration": 272,
    "start_time": "2021-09-02T09:07:46.271Z"
   },
   {
    "duration": 279,
    "start_time": "2021-09-02T09:08:08.500Z"
   },
   {
    "duration": 276,
    "start_time": "2021-09-02T09:08:26.443Z"
   },
   {
    "duration": 445,
    "start_time": "2021-09-02T09:08:30.650Z"
   },
   {
    "duration": 302,
    "start_time": "2021-09-02T09:08:50.447Z"
   },
   {
    "duration": 1442,
    "start_time": "2021-09-02T09:09:28.716Z"
   },
   {
    "duration": 279,
    "start_time": "2021-09-02T09:09:37.232Z"
   },
   {
    "duration": 276,
    "start_time": "2021-09-02T09:11:14.837Z"
   },
   {
    "duration": 277,
    "start_time": "2021-09-02T09:11:23.455Z"
   },
   {
    "duration": 288,
    "start_time": "2021-09-02T09:11:29.771Z"
   },
   {
    "duration": 286,
    "start_time": "2021-09-02T09:11:35.313Z"
   },
   {
    "duration": 272,
    "start_time": "2021-09-02T09:11:40.302Z"
   },
   {
    "duration": 269,
    "start_time": "2021-09-02T09:12:08.186Z"
   },
   {
    "duration": 271,
    "start_time": "2021-09-02T09:12:13.868Z"
   },
   {
    "duration": 264,
    "start_time": "2021-09-02T09:12:46.814Z"
   },
   {
    "duration": 264,
    "start_time": "2021-09-02T09:12:50.941Z"
   },
   {
    "duration": 362,
    "start_time": "2021-09-02T09:12:57.518Z"
   },
   {
    "duration": 256,
    "start_time": "2021-09-02T09:14:12.475Z"
   },
   {
    "duration": 294,
    "start_time": "2021-09-02T09:15:29.647Z"
   },
   {
    "duration": 281,
    "start_time": "2021-09-02T09:15:45.851Z"
   },
   {
    "duration": 260,
    "start_time": "2021-09-02T09:15:56.678Z"
   },
   {
    "duration": 270,
    "start_time": "2021-09-02T09:16:04.522Z"
   },
   {
    "duration": 263,
    "start_time": "2021-09-02T09:16:18.295Z"
   },
   {
    "duration": 273,
    "start_time": "2021-09-02T09:16:57.838Z"
   },
   {
    "duration": 264,
    "start_time": "2021-09-02T09:17:02.196Z"
   },
   {
    "duration": 277,
    "start_time": "2021-09-02T09:17:31.557Z"
   },
   {
    "duration": 269,
    "start_time": "2021-09-02T09:17:36.100Z"
   },
   {
    "duration": 264,
    "start_time": "2021-09-02T09:17:50.685Z"
   },
   {
    "duration": 1003,
    "start_time": "2021-09-02T09:26:50.087Z"
   },
   {
    "duration": 153,
    "start_time": "2021-09-02T09:26:55.335Z"
   },
   {
    "duration": 253,
    "start_time": "2021-09-02T09:27:04.312Z"
   },
   {
    "duration": 119,
    "start_time": "2021-09-02T09:27:12.702Z"
   },
   {
    "duration": 92,
    "start_time": "2021-09-02T09:27:17.646Z"
   },
   {
    "duration": 170,
    "start_time": "2021-09-02T09:28:13.441Z"
   },
   {
    "duration": 11,
    "start_time": "2021-09-02T09:32:34.617Z"
   },
   {
    "duration": 10,
    "start_time": "2021-09-02T09:32:56.847Z"
   },
   {
    "duration": 8,
    "start_time": "2021-09-02T09:33:11.830Z"
   },
   {
    "duration": 826,
    "start_time": "2021-09-02T09:33:33.917Z"
   },
   {
    "duration": 9,
    "start_time": "2021-09-02T09:33:40.032Z"
   },
   {
    "duration": 6,
    "start_time": "2021-09-02T09:34:04.243Z"
   },
   {
    "duration": 11,
    "start_time": "2021-09-02T09:34:52.685Z"
   },
   {
    "duration": 9544,
    "start_time": "2021-09-02T09:35:26.375Z"
   },
   {
    "duration": -391,
    "start_time": "2021-09-02T09:36:46.180Z"
   },
   {
    "duration": 10,
    "start_time": "2021-09-02T09:39:48.666Z"
   },
   {
    "duration": 24,
    "start_time": "2021-09-02T09:41:11.755Z"
   },
   {
    "duration": 8,
    "start_time": "2021-09-02T09:43:52.174Z"
   },
   {
    "duration": 25,
    "start_time": "2021-09-02T09:45:42.889Z"
   },
   {
    "duration": 9,
    "start_time": "2021-09-02T09:45:58.915Z"
   },
   {
    "duration": 8,
    "start_time": "2021-09-02T09:46:12.515Z"
   },
   {
    "duration": 8,
    "start_time": "2021-09-02T09:46:46.604Z"
   },
   {
    "duration": 8,
    "start_time": "2021-09-02T09:46:48.556Z"
   },
   {
    "duration": 479,
    "start_time": "2021-09-02T09:47:12.810Z"
   },
   {
    "duration": 542,
    "start_time": "2021-09-02T09:47:31.225Z"
   },
   {
    "duration": 631,
    "start_time": "2021-09-02T09:47:52.915Z"
   },
   {
    "duration": 723,
    "start_time": "2021-09-02T09:48:09.671Z"
   },
   {
    "duration": 837,
    "start_time": "2021-09-02T09:48:50.776Z"
   },
   {
    "duration": 1629,
    "start_time": "2021-09-02T09:49:33.386Z"
   },
   {
    "duration": 1547,
    "start_time": "2021-09-02T09:50:32.033Z"
   },
   {
    "duration": 751,
    "start_time": "2021-09-02T09:50:39.380Z"
   },
   {
    "duration": 698,
    "start_time": "2021-09-02T09:50:56.646Z"
   },
   {
    "duration": 803,
    "start_time": "2021-09-02T09:51:02.454Z"
   },
   {
    "duration": 592,
    "start_time": "2021-09-02T09:51:14.272Z"
   },
   {
    "duration": 448,
    "start_time": "2021-09-02T13:21:47.473Z"
   },
   {
    "duration": 2505,
    "start_time": "2021-09-02T13:21:55.158Z"
   },
   {
    "duration": 156,
    "start_time": "2021-09-02T13:21:57.668Z"
   },
   {
    "duration": 15,
    "start_time": "2021-09-02T13:21:57.828Z"
   },
   {
    "duration": 33,
    "start_time": "2021-09-02T13:21:57.847Z"
   },
   {
    "duration": 14,
    "start_time": "2021-09-02T13:21:57.886Z"
   },
   {
    "duration": 15,
    "start_time": "2021-09-02T13:21:57.906Z"
   },
   {
    "duration": 703,
    "start_time": "2021-09-02T13:21:57.925Z"
   },
   {
    "duration": 50,
    "start_time": "2021-09-02T13:21:58.588Z"
   },
   {
    "duration": 54,
    "start_time": "2021-09-02T13:21:58.594Z"
   },
   {
    "duration": 51,
    "start_time": "2021-09-02T13:21:58.599Z"
   },
   {
    "duration": 367,
    "start_time": "2021-09-02T13:24:12.605Z"
   },
   {
    "duration": 777,
    "start_time": "2021-09-02T13:24:21.055Z"
   },
   {
    "duration": 124,
    "start_time": "2021-09-02T13:24:39.168Z"
   },
   {
    "duration": 364,
    "start_time": "2021-09-02T13:24:55.083Z"
   },
   {
    "duration": 11,
    "start_time": "2021-09-02T13:24:59.533Z"
   },
   {
    "duration": 39,
    "start_time": "2021-09-02T13:25:12.848Z"
   },
   {
    "duration": 757,
    "start_time": "2021-09-02T13:25:40.187Z"
   },
   {
    "duration": 721,
    "start_time": "2021-09-02T13:26:12.183Z"
   },
   {
    "duration": 960,
    "start_time": "2021-09-02T13:27:42.485Z"
   },
   {
    "duration": 25,
    "start_time": "2021-09-02T13:27:55.964Z"
   },
   {
    "duration": 1006,
    "start_time": "2021-09-02T13:28:05.914Z"
   },
   {
    "duration": 755,
    "start_time": "2021-09-02T13:28:21.144Z"
   },
   {
    "duration": 708,
    "start_time": "2021-09-02T13:28:32.498Z"
   },
   {
    "duration": 914,
    "start_time": "2021-09-02T13:28:40.646Z"
   },
   {
    "duration": 749,
    "start_time": "2021-09-02T13:28:59.234Z"
   },
   {
    "duration": 315,
    "start_time": "2021-09-02T13:30:01.992Z"
   },
   {
    "duration": 276,
    "start_time": "2021-09-02T13:30:24.515Z"
   },
   {
    "duration": 235,
    "start_time": "2021-09-02T13:30:40.787Z"
   },
   {
    "duration": 234,
    "start_time": "2021-09-02T13:30:43.672Z"
   },
   {
    "duration": 319,
    "start_time": "2021-09-02T13:31:13.965Z"
   },
   {
    "duration": 219,
    "start_time": "2021-09-02T13:31:16.296Z"
   },
   {
    "duration": 249,
    "start_time": "2021-09-02T13:31:28.583Z"
   },
   {
    "duration": 257,
    "start_time": "2021-09-02T13:31:30.983Z"
   },
   {
    "duration": 303,
    "start_time": "2021-09-02T13:31:41.603Z"
   },
   {
    "duration": 245,
    "start_time": "2021-09-02T13:31:44.245Z"
   },
   {
    "duration": 263,
    "start_time": "2021-09-02T13:32:11.337Z"
   },
   {
    "duration": 248,
    "start_time": "2021-09-02T13:32:13.591Z"
   },
   {
    "duration": 310,
    "start_time": "2021-09-02T13:32:39.107Z"
   },
   {
    "duration": 238,
    "start_time": "2021-09-02T13:32:41.538Z"
   },
   {
    "duration": 16,
    "start_time": "2021-09-02T13:41:02.524Z"
   },
   {
    "duration": 1050,
    "start_time": "2021-09-02T13:41:24.761Z"
   },
   {
    "duration": 1110,
    "start_time": "2021-09-02T13:41:39.212Z"
   },
   {
    "duration": 1068,
    "start_time": "2021-09-02T13:41:55.226Z"
   },
   {
    "duration": 1066,
    "start_time": "2021-09-02T13:42:03.568Z"
   },
   {
    "duration": 1165,
    "start_time": "2021-09-02T13:42:13.856Z"
   },
   {
    "duration": 1084,
    "start_time": "2021-09-02T13:42:40.404Z"
   },
   {
    "duration": 81,
    "start_time": "2021-09-02T13:43:47.523Z"
   },
   {
    "duration": 128812,
    "start_time": "2021-09-02T13:44:07.924Z"
   },
   {
    "duration": 7174,
    "start_time": "2021-09-02T13:57:45.159Z"
   },
   {
    "duration": 34335,
    "start_time": "2021-09-02T13:58:03.695Z"
   },
   {
    "duration": 23501,
    "start_time": "2021-09-02T14:00:00.092Z"
   },
   {
    "duration": 11,
    "start_time": "2021-09-02T14:01:20.738Z"
   },
   {
    "duration": 313,
    "start_time": "2021-09-02T14:01:22.660Z"
   },
   {
    "duration": 26303,
    "start_time": "2021-09-02T14:01:44.291Z"
   },
   {
    "duration": 23761,
    "start_time": "2021-09-02T14:02:24.407Z"
   },
   {
    "duration": 26,
    "start_time": "2021-09-02T14:24:46.105Z"
   },
   {
    "duration": 21,
    "start_time": "2021-09-02T14:25:00.195Z"
   },
   {
    "duration": 407,
    "start_time": "2021-09-02T14:53:40.042Z"
   },
   {
    "duration": 57,
    "start_time": "2021-09-02T15:06:36.644Z"
   },
   {
    "duration": 110,
    "start_time": "2021-09-02T15:06:36.704Z"
   },
   {
    "duration": 12,
    "start_time": "2021-09-02T15:06:36.817Z"
   },
   {
    "duration": 47,
    "start_time": "2021-09-02T15:06:36.832Z"
   },
   {
    "duration": 1174,
    "start_time": "2021-09-02T15:06:36.882Z"
   },
   {
    "duration": 23702,
    "start_time": "2021-09-02T15:06:38.059Z"
   },
   {
    "duration": 26,
    "start_time": "2021-09-02T15:07:01.770Z"
   },
   {
    "duration": 330,
    "start_time": "2021-09-02T15:07:01.801Z"
   },
   {
    "duration": 84,
    "start_time": "2021-09-02T15:08:57.809Z"
   },
   {
    "duration": 131,
    "start_time": "2021-09-02T15:08:57.896Z"
   },
   {
    "duration": 14,
    "start_time": "2021-09-02T15:08:58.031Z"
   },
   {
    "duration": 35,
    "start_time": "2021-09-02T15:08:58.048Z"
   },
   {
    "duration": 1398,
    "start_time": "2021-09-02T15:08:58.089Z"
   },
   {
    "duration": 25157,
    "start_time": "2021-09-02T15:08:59.490Z"
   },
   {
    "duration": 34,
    "start_time": "2021-09-02T15:09:24.650Z"
   },
   {
    "duration": 463,
    "start_time": "2021-09-02T15:09:24.688Z"
   },
   {
    "duration": 1643,
    "start_time": "2021-09-02T18:50:51.003Z"
   },
   {
    "duration": 75,
    "start_time": "2021-09-02T18:50:52.648Z"
   },
   {
    "duration": 31,
    "start_time": "2021-09-02T18:50:52.726Z"
   },
   {
    "duration": 10,
    "start_time": "2021-09-02T18:50:52.760Z"
   },
   {
    "duration": 1041,
    "start_time": "2021-09-02T18:50:52.772Z"
   },
   {
    "duration": 21787,
    "start_time": "2021-09-02T18:50:53.816Z"
   },
   {
    "duration": 707,
    "start_time": "2021-09-02T18:51:15.655Z"
   },
   {
    "duration": 333,
    "start_time": "2021-09-02T18:51:16.365Z"
   },
   {
    "duration": 26,
    "start_time": "2021-09-02T18:53:54.364Z"
   },
   {
    "duration": 480,
    "start_time": "2021-09-02T18:54:25.447Z"
   },
   {
    "duration": 6,
    "start_time": "2021-09-02T18:54:30.688Z"
   },
   {
    "duration": 24,
    "start_time": "2021-09-02T18:54:40.413Z"
   },
   {
    "duration": 55,
    "start_time": "2021-09-02T18:57:21.299Z"
   },
   {
    "duration": 75,
    "start_time": "2021-09-02T18:57:21.358Z"
   },
   {
    "duration": 9,
    "start_time": "2021-09-02T18:57:21.456Z"
   },
   {
    "duration": 25,
    "start_time": "2021-09-02T18:57:21.468Z"
   },
   {
    "duration": 1018,
    "start_time": "2021-09-02T18:57:21.495Z"
   },
   {
    "duration": 21478,
    "start_time": "2021-09-02T18:57:22.516Z"
   },
   {
    "duration": 713,
    "start_time": "2021-09-02T18:57:43.996Z"
   },
   {
    "duration": 620,
    "start_time": "2021-09-02T18:57:44.092Z"
   },
   {
    "duration": 694,
    "start_time": "2021-09-02T18:58:01.624Z"
   },
   {
    "duration": 1141,
    "start_time": "2021-09-02T18:58:32.782Z"
   },
   {
    "duration": 34,
    "start_time": "2021-09-02T18:59:09.698Z"
   },
   {
    "duration": 14,
    "start_time": "2021-09-02T18:59:12.947Z"
   },
   {
    "duration": 6,
    "start_time": "2021-09-02T18:59:29.396Z"
   },
   {
    "duration": 278,
    "start_time": "2021-09-02T19:00:24.660Z"
   },
   {
    "duration": 158444,
    "start_time": "2021-09-02T19:00:40.569Z"
   },
   {
    "duration": 1046,
    "start_time": "2021-09-02T19:03:37.541Z"
   },
   {
    "duration": 401,
    "start_time": "2021-09-02T19:05:01.697Z"
   },
   {
    "duration": 888,
    "start_time": "2021-09-02T19:05:29.512Z"
   },
   {
    "duration": 944,
    "start_time": "2021-09-02T19:05:59.842Z"
   },
   {
    "duration": 925,
    "start_time": "2021-09-02T19:06:34.162Z"
   },
   {
    "duration": 1175,
    "start_time": "2021-09-02T19:08:32.849Z"
   },
   {
    "duration": 958,
    "start_time": "2021-09-02T19:09:14.471Z"
   },
   {
    "duration": 784,
    "start_time": "2021-09-02T19:09:52.088Z"
   },
   {
    "duration": 749,
    "start_time": "2021-09-02T19:12:24.609Z"
   },
   {
    "duration": 692,
    "start_time": "2021-09-02T19:16:52.316Z"
   },
   {
    "duration": 1158,
    "start_time": "2021-09-02T19:19:37.241Z"
   },
   {
    "duration": 69,
    "start_time": "2021-09-02T19:19:49.378Z"
   },
   {
    "duration": 122,
    "start_time": "2021-09-02T19:19:49.450Z"
   },
   {
    "duration": 13,
    "start_time": "2021-09-02T19:19:49.576Z"
   },
   {
    "duration": 25,
    "start_time": "2021-09-02T19:19:49.592Z"
   },
   {
    "duration": 1005,
    "start_time": "2021-09-02T19:19:49.619Z"
   },
   {
    "duration": 20667,
    "start_time": "2021-09-02T19:19:50.626Z"
   },
   {
    "duration": 59,
    "start_time": "2021-09-02T19:20:11.295Z"
   },
   {
    "duration": 283,
    "start_time": "2021-09-02T19:20:11.357Z"
   },
   {
    "duration": 937,
    "start_time": "2021-09-02T19:20:11.642Z"
   },
   {
    "duration": 842,
    "start_time": "2021-09-02T19:20:23.198Z"
   },
   {
    "duration": 702,
    "start_time": "2021-09-02T19:20:37.223Z"
   },
   {
    "duration": 1028,
    "start_time": "2021-09-02T19:20:42.352Z"
   },
   {
    "duration": 855,
    "start_time": "2021-09-02T19:21:06.658Z"
   },
   {
    "duration": 10272,
    "start_time": "2021-09-02T19:23:40.960Z"
   },
   {
    "duration": 9708,
    "start_time": "2021-09-02T19:25:03.716Z"
   },
   {
    "duration": 9588,
    "start_time": "2021-09-02T19:32:33.267Z"
   },
   {
    "duration": 9820,
    "start_time": "2021-09-02T19:33:39.637Z"
   },
   {
    "duration": 9802,
    "start_time": "2021-09-02T19:33:56.153Z"
   },
   {
    "duration": 348752,
    "start_time": "2021-09-02T19:34:48.407Z"
   },
   {
    "duration": 1572,
    "start_time": "2021-09-02T19:41:15.628Z"
   },
   {
    "duration": 9480,
    "start_time": "2021-09-02T19:41:41.674Z"
   },
   {
    "duration": 9728,
    "start_time": "2021-09-02T19:41:58.747Z"
   },
   {
    "duration": 53005,
    "start_time": "2021-09-02T20:14:10.754Z"
   },
   {
    "duration": 14425,
    "start_time": "2021-09-02T20:15:05.713Z"
   },
   {
    "duration": 56,
    "start_time": "2021-09-02T20:23:31.717Z"
   },
   {
    "duration": 96,
    "start_time": "2021-09-02T20:23:31.776Z"
   },
   {
    "duration": 9,
    "start_time": "2021-09-02T20:23:31.875Z"
   },
   {
    "duration": 31,
    "start_time": "2021-09-02T20:23:31.887Z"
   },
   {
    "duration": 993,
    "start_time": "2021-09-02T20:23:31.920Z"
   },
   {
    "duration": 22360,
    "start_time": "2021-09-02T20:23:32.916Z"
   },
   {
    "duration": 35,
    "start_time": "2021-09-02T20:23:55.279Z"
   },
   {
    "duration": 303,
    "start_time": "2021-09-02T20:23:55.317Z"
   },
   {
    "duration": 10124,
    "start_time": "2021-09-02T20:23:55.624Z"
   },
   {
    "duration": 824,
    "start_time": "2021-09-02T20:38:19.148Z"
   },
   {
    "duration": 10215,
    "start_time": "2021-09-02T20:38:31.723Z"
   },
   {
    "duration": 9944,
    "start_time": "2021-09-02T20:38:59.818Z"
   },
   {
    "duration": 359,
    "start_time": "2021-09-02T20:39:22.674Z"
   },
   {
    "duration": 369,
    "start_time": "2021-09-02T20:50:57.588Z"
   },
   {
    "duration": 477,
    "start_time": "2021-09-02T20:51:00.463Z"
   },
   {
    "duration": 55,
    "start_time": "2021-09-02T20:51:29.096Z"
   },
   {
    "duration": 77,
    "start_time": "2021-09-02T20:51:29.154Z"
   },
   {
    "duration": 10,
    "start_time": "2021-09-02T20:51:29.254Z"
   },
   {
    "duration": 10,
    "start_time": "2021-09-02T20:51:29.267Z"
   },
   {
    "duration": 1157,
    "start_time": "2021-09-02T20:51:29.280Z"
   },
   {
    "duration": 21741,
    "start_time": "2021-09-02T20:51:30.440Z"
   },
   {
    "duration": 80,
    "start_time": "2021-09-02T20:51:52.184Z"
   },
   {
    "duration": 279,
    "start_time": "2021-09-02T20:51:52.268Z"
   },
   {
    "duration": 10205,
    "start_time": "2021-09-02T20:51:52.550Z"
   },
   {
    "duration": 27,
    "start_time": "2021-09-02T20:52:07.739Z"
   },
   {
    "duration": 1416,
    "start_time": "2021-09-02T20:52:13.430Z"
   },
   {
    "duration": 56,
    "start_time": "2021-09-02T20:54:29.085Z"
   },
   {
    "duration": 83,
    "start_time": "2021-09-02T20:54:29.145Z"
   },
   {
    "duration": 30,
    "start_time": "2021-09-02T20:54:29.232Z"
   },
   {
    "duration": 12,
    "start_time": "2021-09-02T20:54:29.266Z"
   },
   {
    "duration": 1252,
    "start_time": "2021-09-02T20:54:29.281Z"
   },
   {
    "duration": 20550,
    "start_time": "2021-09-02T20:54:30.536Z"
   },
   {
    "duration": 99,
    "start_time": "2021-09-02T20:54:51.089Z"
   },
   {
    "duration": 275,
    "start_time": "2021-09-02T20:54:51.191Z"
   },
   {
    "duration": 9888,
    "start_time": "2021-09-02T20:54:51.468Z"
   },
   {
    "duration": 1366,
    "start_time": "2021-09-02T20:55:01.359Z"
   },
   {
    "duration": 37,
    "start_time": "2021-09-02T20:57:01.498Z"
   },
   {
    "duration": 1939,
    "start_time": "2021-09-02T20:57:04.650Z"
   },
   {
    "duration": 32,
    "start_time": "2021-09-02T20:57:22.230Z"
   },
   {
    "duration": 1344,
    "start_time": "2021-09-02T20:57:24.356Z"
   },
   {
    "duration": 61,
    "start_time": "2021-09-02T20:57:30.940Z"
   },
   {
    "duration": 2051,
    "start_time": "2021-09-02T20:57:33.335Z"
   },
   {
    "duration": 32,
    "start_time": "2021-09-02T20:57:42.990Z"
   },
   {
    "duration": 1392,
    "start_time": "2021-09-02T20:57:45.036Z"
   },
   {
    "duration": 29,
    "start_time": "2021-09-02T20:57:51.586Z"
   },
   {
    "duration": 1330,
    "start_time": "2021-09-02T20:57:53.805Z"
   },
   {
    "duration": 29,
    "start_time": "2021-09-02T20:58:03.649Z"
   },
   {
    "duration": 1324,
    "start_time": "2021-09-02T20:58:05.601Z"
   },
   {
    "duration": 29,
    "start_time": "2021-09-02T20:58:16.906Z"
   },
   {
    "duration": 1045,
    "start_time": "2021-09-02T20:58:18.896Z"
   },
   {
    "duration": 9,
    "start_time": "2021-09-02T20:59:31.122Z"
   },
   {
    "duration": 8,
    "start_time": "2021-09-02T20:59:38.206Z"
   },
   {
    "duration": 30,
    "start_time": "2021-09-02T20:59:46.802Z"
   },
   {
    "duration": 8,
    "start_time": "2021-09-02T20:59:48.469Z"
   },
   {
    "duration": 1215,
    "start_time": "2021-09-02T20:59:54.645Z"
   },
   {
    "duration": 29,
    "start_time": "2021-09-02T21:00:08.148Z"
   },
   {
    "duration": 9,
    "start_time": "2021-09-02T21:00:10.031Z"
   },
   {
    "duration": 1232,
    "start_time": "2021-09-02T21:00:12.704Z"
   },
   {
    "duration": 56,
    "start_time": "2021-09-02T21:07:13.474Z"
   },
   {
    "duration": 73,
    "start_time": "2021-09-02T21:07:13.533Z"
   },
   {
    "duration": 9,
    "start_time": "2021-09-02T21:07:13.609Z"
   },
   {
    "duration": 11,
    "start_time": "2021-09-02T21:07:13.622Z"
   },
   {
    "duration": 1064,
    "start_time": "2021-09-02T21:07:13.655Z"
   },
   {
    "duration": 19979,
    "start_time": "2021-09-02T21:07:14.722Z"
   },
   {
    "duration": 65,
    "start_time": "2021-09-02T21:07:34.703Z"
   },
   {
    "duration": 283,
    "start_time": "2021-09-02T21:07:34.771Z"
   },
   {
    "duration": 9974,
    "start_time": "2021-09-02T21:07:35.056Z"
   },
   {
    "duration": 32,
    "start_time": "2021-09-02T21:07:45.032Z"
   },
   {
    "duration": 8,
    "start_time": "2021-09-02T21:07:45.066Z"
   },
   {
    "duration": 939,
    "start_time": "2021-09-02T21:07:59.447Z"
   },
   {
    "duration": 21,
    "start_time": "2021-09-02T21:10:46.599Z"
   },
   {
    "duration": 9,
    "start_time": "2021-09-02T21:10:47.100Z"
   },
   {
    "duration": 23,
    "start_time": "2021-09-02T21:10:55.892Z"
   },
   {
    "duration": 11,
    "start_time": "2021-09-02T21:10:58.026Z"
   },
   {
    "duration": 20,
    "start_time": "2021-09-02T21:11:04.000Z"
   },
   {
    "duration": 8,
    "start_time": "2021-09-02T21:11:05.884Z"
   },
   {
    "duration": 1096,
    "start_time": "2021-09-02T21:11:08.759Z"
   },
   {
    "duration": 18,
    "start_time": "2021-09-02T21:11:16.694Z"
   },
   {
    "duration": 8,
    "start_time": "2021-09-02T21:11:18.248Z"
   },
   {
    "duration": 823,
    "start_time": "2021-09-02T21:11:21.394Z"
   },
   {
    "duration": 20,
    "start_time": "2021-09-02T21:16:50.060Z"
   },
   {
    "duration": 10,
    "start_time": "2021-09-02T21:16:51.823Z"
   },
   {
    "duration": 984,
    "start_time": "2021-09-02T21:16:53.891Z"
   },
   {
    "duration": 21,
    "start_time": "2021-09-02T21:17:59.381Z"
   },
   {
    "duration": 8,
    "start_time": "2021-09-02T21:18:00.988Z"
   },
   {
    "duration": 1017,
    "start_time": "2021-09-02T21:18:03.099Z"
   },
   {
    "duration": 21,
    "start_time": "2021-09-02T21:18:11.020Z"
   },
   {
    "duration": 8,
    "start_time": "2021-09-02T21:18:13.398Z"
   },
   {
    "duration": 1139,
    "start_time": "2021-09-02T21:18:15.357Z"
   },
   {
    "duration": 22,
    "start_time": "2021-09-02T21:18:22.109Z"
   },
   {
    "duration": 8,
    "start_time": "2021-09-02T21:18:23.888Z"
   },
   {
    "duration": 1196,
    "start_time": "2021-09-02T21:18:25.920Z"
   },
   {
    "duration": 22,
    "start_time": "2021-09-02T21:18:31.202Z"
   },
   {
    "duration": 9,
    "start_time": "2021-09-02T21:18:33.369Z"
   },
   {
    "duration": 861,
    "start_time": "2021-09-02T21:18:35.008Z"
   },
   {
    "duration": 21,
    "start_time": "2021-09-02T21:18:40.959Z"
   },
   {
    "duration": 9,
    "start_time": "2021-09-02T21:18:42.543Z"
   },
   {
    "duration": 914,
    "start_time": "2021-09-02T21:18:43.999Z"
   },
   {
    "duration": 12981,
    "start_time": "2021-09-02T21:19:14.102Z"
   },
   {
    "duration": 789,
    "start_time": "2021-09-02T21:20:20.154Z"
   },
   {
    "duration": 10079,
    "start_time": "2021-09-02T21:21:10.796Z"
   },
   {
    "duration": 23156,
    "start_time": "2021-09-02T21:21:32.985Z"
   },
   {
    "duration": 21,
    "start_time": "2021-09-02T21:22:19.169Z"
   },
   {
    "duration": 16398,
    "start_time": "2021-09-02T21:22:25.504Z"
   },
   {
    "duration": 9,
    "start_time": "2021-09-02T21:23:09.755Z"
   },
   {
    "duration": 49,
    "start_time": "2021-09-02T21:23:13.709Z"
   },
   {
    "duration": 10,
    "start_time": "2021-09-02T21:23:15.456Z"
   },
   {
    "duration": 24,
    "start_time": "2021-09-02T21:23:19.856Z"
   },
   {
    "duration": 8,
    "start_time": "2021-09-02T21:23:21.483Z"
   },
   {
    "duration": 22,
    "start_time": "2021-09-02T21:23:24.760Z"
   },
   {
    "duration": 8,
    "start_time": "2021-09-02T21:23:26.413Z"
   },
   {
    "duration": 17882,
    "start_time": "2021-09-02T21:23:30.764Z"
   },
   {
    "duration": 10160,
    "start_time": "2021-09-02T21:24:03.796Z"
   },
   {
    "duration": 21,
    "start_time": "2021-09-02T21:28:50.794Z"
   },
   {
    "duration": 8,
    "start_time": "2021-09-02T21:28:52.812Z"
   },
   {
    "duration": 19,
    "start_time": "2021-09-02T21:28:56.938Z"
   },
   {
    "duration": 9,
    "start_time": "2021-09-02T21:28:58.695Z"
   },
   {
    "duration": 6028,
    "start_time": "2021-09-02T21:29:22.609Z"
   },
   {
    "duration": 20,
    "start_time": "2021-09-02T21:29:41.995Z"
   },
   {
    "duration": 8,
    "start_time": "2021-09-02T21:29:43.741Z"
   },
   {
    "duration": 6571,
    "start_time": "2021-09-02T21:29:47.395Z"
   },
   {
    "duration": 283,
    "start_time": "2021-09-02T21:30:15.665Z"
   },
   {
    "duration": 5,
    "start_time": "2021-09-02T21:30:19.867Z"
   },
   {
    "duration": 6,
    "start_time": "2021-09-02T21:30:32.801Z"
   },
   {
    "duration": 20,
    "start_time": "2021-09-02T21:30:40.758Z"
   },
   {
    "duration": 5,
    "start_time": "2021-09-02T21:30:42.834Z"
   },
   {
    "duration": 8,
    "start_time": "2021-09-02T21:30:44.857Z"
   },
   {
    "duration": 7343,
    "start_time": "2021-09-02T21:30:49.794Z"
   },
   {
    "duration": 22,
    "start_time": "2021-09-02T21:31:09.508Z"
   },
   {
    "duration": 5,
    "start_time": "2021-09-02T21:31:11.913Z"
   },
   {
    "duration": 9,
    "start_time": "2021-09-02T21:31:14.000Z"
   },
   {
    "duration": 6804,
    "start_time": "2021-09-02T21:31:19.293Z"
   },
   {
    "duration": 19,
    "start_time": "2021-09-02T21:31:32.123Z"
   },
   {
    "duration": 6,
    "start_time": "2021-09-02T21:31:34.263Z"
   },
   {
    "duration": 9,
    "start_time": "2021-09-02T21:31:36.439Z"
   },
   {
    "duration": 6545,
    "start_time": "2021-09-02T21:31:44.259Z"
   },
   {
    "duration": 19,
    "start_time": "2021-09-02T21:32:01.621Z"
   },
   {
    "duration": 5,
    "start_time": "2021-09-02T21:32:03.661Z"
   },
   {
    "duration": 9,
    "start_time": "2021-09-02T21:32:05.764Z"
   },
   {
    "duration": 6439,
    "start_time": "2021-09-02T21:32:09.785Z"
   },
   {
    "duration": 19,
    "start_time": "2021-09-02T21:33:51.059Z"
   },
   {
    "duration": 5,
    "start_time": "2021-09-02T21:33:52.839Z"
   },
   {
    "duration": 9,
    "start_time": "2021-09-02T21:33:54.415Z"
   },
   {
    "duration": 5418,
    "start_time": "2021-09-02T21:33:58.142Z"
   },
   {
    "duration": 20,
    "start_time": "2021-09-02T21:34:10.209Z"
   },
   {
    "duration": 6,
    "start_time": "2021-09-02T21:34:12.406Z"
   },
   {
    "duration": 8,
    "start_time": "2021-09-02T21:34:14.310Z"
   },
   {
    "duration": 6482,
    "start_time": "2021-09-02T21:34:17.236Z"
   },
   {
    "duration": 548,
    "start_time": "2021-09-02T21:34:52.367Z"
   },
   {
    "duration": 20,
    "start_time": "2021-09-02T21:35:06.645Z"
   },
   {
    "duration": 488,
    "start_time": "2021-09-02T21:35:10.460Z"
   },
   {
    "duration": 31,
    "start_time": "2021-09-02T21:35:15.986Z"
   },
   {
    "duration": 575,
    "start_time": "2021-09-02T21:35:18.347Z"
   },
   {
    "duration": 20,
    "start_time": "2021-09-02T21:35:26.965Z"
   },
   {
    "duration": 556,
    "start_time": "2021-09-02T21:35:29.445Z"
   },
   {
    "duration": 20,
    "start_time": "2021-09-02T21:35:37.455Z"
   },
   {
    "duration": 564,
    "start_time": "2021-09-02T21:35:39.854Z"
   },
   {
    "duration": 19,
    "start_time": "2021-09-02T21:35:50.351Z"
   },
   {
    "duration": 567,
    "start_time": "2021-09-02T21:35:53.287Z"
   },
   {
    "duration": 20,
    "start_time": "2021-09-02T21:35:58.838Z"
   },
   {
    "duration": 580,
    "start_time": "2021-09-02T21:36:00.624Z"
   },
   {
    "duration": 19,
    "start_time": "2021-09-02T21:36:05.964Z"
   },
   {
    "duration": 550,
    "start_time": "2021-09-02T21:36:08.065Z"
   },
   {
    "duration": 19,
    "start_time": "2021-09-02T21:36:12.346Z"
   },
   {
    "duration": 553,
    "start_time": "2021-09-02T21:36:14.728Z"
   },
   {
    "duration": 6903,
    "start_time": "2021-09-02T21:36:24.507Z"
   },
   {
    "duration": 8732,
    "start_time": "2021-09-02T21:36:51.623Z"
   },
   {
    "duration": 20,
    "start_time": "2021-09-02T21:37:11.308Z"
   },
   {
    "duration": 1017,
    "start_time": "2021-09-02T21:37:16.238Z"
   },
   {
    "duration": 18,
    "start_time": "2021-09-02T21:37:24.861Z"
   },
   {
    "duration": 795,
    "start_time": "2021-09-02T21:37:29.562Z"
   },
   {
    "duration": 18,
    "start_time": "2021-09-02T21:37:37.777Z"
   },
   {
    "duration": 685,
    "start_time": "2021-09-02T21:37:42.173Z"
   },
   {
    "duration": 19,
    "start_time": "2021-09-02T21:37:48.566Z"
   },
   {
    "duration": 738,
    "start_time": "2021-09-02T21:37:52.323Z"
   },
   {
    "duration": 20,
    "start_time": "2021-09-02T21:38:15.738Z"
   },
   {
    "duration": 5621,
    "start_time": "2021-09-02T21:38:20.368Z"
   },
   {
    "duration": 20,
    "start_time": "2021-09-02T21:38:39.477Z"
   },
   {
    "duration": 4769,
    "start_time": "2021-09-02T21:38:43.826Z"
   },
   {
    "duration": 20,
    "start_time": "2021-09-02T21:38:56.385Z"
   },
   {
    "duration": 6682,
    "start_time": "2021-09-02T21:39:00.481Z"
   },
   {
    "duration": 19,
    "start_time": "2021-09-02T21:39:16.018Z"
   },
   {
    "duration": 3806,
    "start_time": "2021-09-02T21:39:22.606Z"
   },
   {
    "duration": 20,
    "start_time": "2021-09-02T21:39:36.628Z"
   },
   {
    "duration": 318,
    "start_time": "2021-09-03T09:34:26.057Z"
   },
   {
    "duration": 1604,
    "start_time": "2021-09-03T09:34:34.232Z"
   },
   {
    "duration": 77,
    "start_time": "2021-09-03T09:34:35.839Z"
   },
   {
    "duration": 9,
    "start_time": "2021-09-03T09:34:35.918Z"
   },
   {
    "duration": 31,
    "start_time": "2021-09-03T09:34:35.930Z"
   },
   {
    "duration": 968,
    "start_time": "2021-09-03T09:34:35.964Z"
   },
   {
    "duration": 21079,
    "start_time": "2021-09-03T09:34:36.935Z"
   },
   {
    "duration": 58,
    "start_time": "2021-09-03T09:34:58.016Z"
   },
   {
    "duration": 298,
    "start_time": "2021-09-03T09:34:58.077Z"
   },
   {
    "duration": 9959,
    "start_time": "2021-09-03T09:34:58.378Z"
   },
   {
    "duration": 32,
    "start_time": "2021-09-03T09:35:08.339Z"
   },
   {
    "duration": 18,
    "start_time": "2021-09-03T09:35:08.373Z"
   },
   {
    "duration": 6,
    "start_time": "2021-09-03T09:35:08.393Z"
   },
   {
    "duration": 5,
    "start_time": "2021-09-03T09:35:08.401Z"
   },
   {
    "duration": 46,
    "start_time": "2021-09-03T09:35:08.408Z"
   },
   {
    "duration": 532,
    "start_time": "2021-09-03T09:35:08.457Z"
   },
   {
    "duration": 24,
    "start_time": "2021-09-03T09:35:27.140Z"
   },
   {
    "duration": 5,
    "start_time": "2021-09-03T09:35:29.930Z"
   },
   {
    "duration": 5,
    "start_time": "2021-09-03T09:35:31.919Z"
   },
   {
    "duration": 8,
    "start_time": "2021-09-03T09:35:34.078Z"
   },
   {
    "duration": 533,
    "start_time": "2021-09-03T09:35:38.003Z"
   },
   {
    "duration": 21,
    "start_time": "2021-09-03T09:35:45.541Z"
   },
   {
    "duration": 1122,
    "start_time": "2021-09-03T09:36:11.336Z"
   },
   {
    "duration": 1242,
    "start_time": "2021-09-03T09:36:36.577Z"
   },
   {
    "duration": 1241,
    "start_time": "2021-09-03T09:37:09.036Z"
   },
   {
    "duration": 1152,
    "start_time": "2021-09-03T09:37:21.489Z"
   },
   {
    "duration": 543,
    "start_time": "2021-09-03T09:38:01.123Z"
   },
   {
    "duration": 499,
    "start_time": "2021-09-03T09:38:32.379Z"
   },
   {
    "duration": 484,
    "start_time": "2021-09-03T09:40:27.356Z"
   },
   {
    "duration": 539,
    "start_time": "2021-09-03T09:40:37.841Z"
   },
   {
    "duration": 932,
    "start_time": "2021-09-03T09:40:48.714Z"
   },
   {
    "duration": 526,
    "start_time": "2021-09-03T09:43:44.797Z"
   },
   {
    "duration": 17966,
    "start_time": "2021-09-03T09:44:22.750Z"
   },
   {
    "duration": 20,
    "start_time": "2021-09-03T09:44:58.232Z"
   },
   {
    "duration": 20,
    "start_time": "2021-09-03T09:45:33.383Z"
   },
   {
    "duration": 7024,
    "start_time": "2021-09-03T09:45:37.774Z"
   },
   {
    "duration": 23,
    "start_time": "2021-09-03T09:46:01.333Z"
   },
   {
    "duration": 1068,
    "start_time": "2021-09-03T09:46:06.025Z"
   },
   {
    "duration": 22,
    "start_time": "2021-09-03T09:46:14.766Z"
   },
   {
    "duration": 1149,
    "start_time": "2021-09-03T09:46:18.082Z"
   },
   {
    "duration": 20,
    "start_time": "2021-09-03T09:46:25.893Z"
   },
   {
    "duration": 948,
    "start_time": "2021-09-03T09:46:29.750Z"
   },
   {
    "duration": 20,
    "start_time": "2021-09-03T09:46:43.985Z"
   },
   {
    "duration": 986,
    "start_time": "2021-09-03T09:46:46.704Z"
   },
   {
    "duration": 18,
    "start_time": "2021-09-03T09:46:52.077Z"
   },
   {
    "duration": 804,
    "start_time": "2021-09-03T09:46:55.218Z"
   },
   {
    "duration": 21,
    "start_time": "2021-09-03T09:47:08.277Z"
   },
   {
    "duration": 882,
    "start_time": "2021-09-03T09:47:13.481Z"
   },
   {
    "duration": 1471,
    "start_time": "2021-09-03T18:05:12.693Z"
   },
   {
    "duration": 78,
    "start_time": "2021-09-03T18:05:14.167Z"
   },
   {
    "duration": 10,
    "start_time": "2021-09-03T18:05:14.263Z"
   },
   {
    "duration": 25,
    "start_time": "2021-09-03T18:05:14.276Z"
   },
   {
    "duration": 1005,
    "start_time": "2021-09-03T18:05:14.303Z"
   },
   {
    "duration": 20043,
    "start_time": "2021-09-03T18:05:15.311Z"
   },
   {
    "duration": 37,
    "start_time": "2021-09-03T18:05:35.362Z"
   },
   {
    "duration": 301,
    "start_time": "2021-09-03T18:05:35.404Z"
   },
   {
    "duration": 9844,
    "start_time": "2021-09-03T18:05:35.707Z"
   },
   {
    "duration": 27,
    "start_time": "2021-09-03T18:05:45.553Z"
   },
   {
    "duration": 19,
    "start_time": "2021-09-03T18:05:45.583Z"
   },
   {
    "duration": 5,
    "start_time": "2021-09-03T18:05:45.604Z"
   },
   {
    "duration": 9,
    "start_time": "2021-09-03T18:05:45.611Z"
   },
   {
    "duration": 41,
    "start_time": "2021-09-03T18:05:45.622Z"
   },
   {
    "duration": 531,
    "start_time": "2021-09-03T18:05:45.665Z"
   },
   {
    "duration": 6511,
    "start_time": "2021-09-03T18:05:46.198Z"
   },
   {
    "duration": 759,
    "start_time": "2021-09-03T18:05:52.711Z"
   },
   {
    "duration": 5823,
    "start_time": "2021-09-03T18:05:53.564Z"
   },
   {
    "duration": 576,
    "start_time": "2021-09-03T18:09:47.975Z"
   },
   {
    "duration": 6550,
    "start_time": "2021-09-03T18:09:55.941Z"
   },
   {
    "duration": 9837,
    "start_time": "2021-09-03T18:36:53.317Z"
   },
   {
    "duration": 1334,
    "start_time": "2021-09-03T18:50:20.053Z"
   },
   {
    "duration": 7,
    "start_time": "2021-09-03T18:50:24.062Z"
   },
   {
    "duration": 9726,
    "start_time": "2021-09-03T19:03:10.493Z"
   },
   {
    "duration": 9926,
    "start_time": "2021-09-03T19:03:31.012Z"
   },
   {
    "duration": 5,
    "start_time": "2021-09-03T19:09:32.174Z"
   },
   {
    "duration": 7,
    "start_time": "2021-09-03T19:09:35.102Z"
   },
   {
    "duration": 667,
    "start_time": "2021-09-03T19:09:38.683Z"
   },
   {
    "duration": 7,
    "start_time": "2021-09-03T19:10:29.237Z"
   },
   {
    "duration": 4347,
    "start_time": "2021-09-03T19:10:33.260Z"
   },
   {
    "duration": 7,
    "start_time": "2021-09-03T19:11:36.673Z"
   },
   {
    "duration": 4764,
    "start_time": "2021-09-03T19:11:40.699Z"
   },
   {
    "duration": 7,
    "start_time": "2021-09-03T19:11:55.293Z"
   },
   {
    "duration": 5041,
    "start_time": "2021-09-03T19:11:57.650Z"
   },
   {
    "duration": 7,
    "start_time": "2021-09-03T19:12:27.673Z"
   },
   {
    "duration": 7,
    "start_time": "2021-09-03T19:12:47.953Z"
   },
   {
    "duration": 5031,
    "start_time": "2021-09-03T19:12:54.447Z"
   },
   {
    "duration": 9,
    "start_time": "2021-09-03T19:21:31.712Z"
   },
   {
    "duration": 9,
    "start_time": "2021-09-03T19:28:23.699Z"
   },
   {
    "duration": 253,
    "start_time": "2021-09-03T19:28:35.925Z"
   },
   {
    "duration": 7,
    "start_time": "2021-09-03T19:28:44.163Z"
   },
   {
    "duration": 8,
    "start_time": "2021-09-03T19:28:47.174Z"
   },
   {
    "duration": 6442,
    "start_time": "2021-09-03T19:28:49.571Z"
   },
   {
    "duration": 8,
    "start_time": "2021-09-03T19:33:17.598Z"
   },
   {
    "duration": 6373,
    "start_time": "2021-09-03T19:33:20.745Z"
   },
   {
    "duration": 6588,
    "start_time": "2021-09-03T19:38:28.409Z"
   },
   {
    "duration": 30569,
    "start_time": "2021-09-03T19:40:04.724Z"
   },
   {
    "duration": 9,
    "start_time": "2021-09-03T19:43:29.650Z"
   },
   {
    "duration": 6590,
    "start_time": "2021-09-03T19:43:40.575Z"
   },
   {
    "duration": 30136,
    "start_time": "2021-09-03T19:43:54.515Z"
   },
   {
    "duration": 1553,
    "start_time": "2021-09-04T06:50:46.075Z"
   },
   {
    "duration": 83,
    "start_time": "2021-09-04T06:50:47.632Z"
   },
   {
    "duration": 11,
    "start_time": "2021-09-04T06:50:47.719Z"
   },
   {
    "duration": 13,
    "start_time": "2021-09-04T06:50:47.756Z"
   },
   {
    "duration": 1040,
    "start_time": "2021-09-04T06:50:47.772Z"
   },
   {
    "duration": 19766,
    "start_time": "2021-09-04T06:50:48.815Z"
   },
   {
    "duration": 38,
    "start_time": "2021-09-04T06:51:08.584Z"
   },
   {
    "duration": 278,
    "start_time": "2021-09-04T06:51:08.654Z"
   },
   {
    "duration": 419,
    "start_time": "2021-09-04T06:51:08.935Z"
   },
   {
    "duration": 90063,
    "start_time": "2021-09-04T06:51:23.242Z"
   },
   {
    "duration": 272,
    "start_time": "2021-09-04T06:53:12.482Z"
   },
   {
    "duration": 8676,
    "start_time": "2021-09-04T06:53:19.814Z"
   },
   {
    "duration": 6,
    "start_time": "2021-09-04T06:53:38.032Z"
   },
   {
    "duration": 8,
    "start_time": "2021-09-04T06:53:40.988Z"
   },
   {
    "duration": 9,
    "start_time": "2021-09-04T06:53:41.534Z"
   },
   {
    "duration": 279,
    "start_time": "2021-09-04T06:55:41.834Z"
   },
   {
    "duration": 380,
    "start_time": "2021-09-04T06:55:55.469Z"
   },
   {
    "duration": 279,
    "start_time": "2021-09-04T06:56:04.741Z"
   },
   {
    "duration": 17,
    "start_time": "2021-09-04T06:58:45.084Z"
   },
   {
    "duration": 8,
    "start_time": "2021-09-04T06:58:46.674Z"
   },
   {
    "duration": 17,
    "start_time": "2021-09-04T06:59:06.575Z"
   },
   {
    "duration": 8,
    "start_time": "2021-09-04T06:59:07.233Z"
   },
   {
    "duration": 186,
    "start_time": "2021-09-04T06:59:25.879Z"
   },
   {
    "duration": 238,
    "start_time": "2021-09-04T06:59:31.790Z"
   },
   {
    "duration": 292,
    "start_time": "2021-09-04T06:59:36.469Z"
   },
   {
    "duration": 275,
    "start_time": "2021-09-04T06:59:43.018Z"
   },
   {
    "duration": 263,
    "start_time": "2021-09-04T06:59:45.977Z"
   },
   {
    "duration": 250,
    "start_time": "2021-09-04T06:59:55.315Z"
   },
   {
    "duration": 248,
    "start_time": "2021-09-04T06:59:58.281Z"
   },
   {
    "duration": 234,
    "start_time": "2021-09-04T07:00:01.384Z"
   },
   {
    "duration": 255,
    "start_time": "2021-09-04T07:00:04.438Z"
   },
   {
    "duration": 315,
    "start_time": "2021-09-04T07:00:09.969Z"
   },
   {
    "duration": 577,
    "start_time": "2021-09-04T07:00:13.770Z"
   },
   {
    "duration": 260,
    "start_time": "2021-09-04T07:00:23.984Z"
   },
   {
    "duration": 1162,
    "start_time": "2021-09-04T07:00:28.247Z"
   },
   {
    "duration": 858,
    "start_time": "2021-09-04T07:00:32.729Z"
   },
   {
    "duration": 610,
    "start_time": "2021-09-04T07:00:36.600Z"
   },
   {
    "duration": 7,
    "start_time": "2021-09-04T07:01:26.622Z"
   },
   {
    "duration": 3837,
    "start_time": "2021-09-04T07:01:54.135Z"
   },
   {
    "duration": 17933,
    "start_time": "2021-09-04T07:02:09.522Z"
   },
   {
    "duration": 17564,
    "start_time": "2021-09-04T07:02:48.536Z"
   },
   {
    "duration": 17631,
    "start_time": "2021-09-04T07:04:59.547Z"
   },
   {
    "duration": 6,
    "start_time": "2021-09-04T07:06:36.616Z"
   },
   {
    "duration": 7,
    "start_time": "2021-09-04T07:06:37.064Z"
   },
   {
    "duration": 9,
    "start_time": "2021-09-04T07:06:37.669Z"
   },
   {
    "duration": 3712,
    "start_time": "2021-09-04T07:06:40.459Z"
   },
   {
    "duration": 94326,
    "start_time": "2021-09-04T07:06:49.901Z"
   },
   {
    "duration": 8,
    "start_time": "2021-09-04T07:12:31.395Z"
   },
   {
    "duration": 12,
    "start_time": "2021-09-04T07:27:56.179Z"
   },
   {
    "duration": 11,
    "start_time": "2021-09-04T07:28:04.378Z"
   },
   {
    "duration": 12,
    "start_time": "2021-09-04T07:28:54.602Z"
   },
   {
    "duration": 2955,
    "start_time": "2021-09-04T08:18:16.624Z"
   },
   {
    "duration": 6,
    "start_time": "2021-09-04T08:18:32.722Z"
   },
   {
    "duration": 6,
    "start_time": "2021-09-04T08:18:35.999Z"
   },
   {
    "duration": 7,
    "start_time": "2021-09-04T08:18:37.833Z"
   },
   {
    "duration": 7,
    "start_time": "2021-09-04T08:18:38.344Z"
   },
   {
    "duration": 15,
    "start_time": "2021-09-04T08:18:40.227Z"
   },
   {
    "duration": 14885,
    "start_time": "2021-09-04T08:18:43.565Z"
   },
   {
    "duration": 423642,
    "start_time": "2021-09-04T08:21:23.928Z"
   },
   {
    "duration": 9,
    "start_time": "2021-09-04T08:43:46.881Z"
   },
   {
    "duration": 9,
    "start_time": "2021-09-04T08:43:47.414Z"
   },
   {
    "duration": 14,
    "start_time": "2021-09-04T08:43:48.045Z"
   },
   {
    "duration": 125252,
    "start_time": "2021-09-04T08:44:50.807Z"
   },
   {
    "duration": 277,
    "start_time": "2021-09-04T08:48:10.635Z"
   },
   {
    "duration": 560,
    "start_time": "2021-09-04T08:49:14.564Z"
   },
   {
    "duration": 556,
    "start_time": "2021-09-04T08:49:44.272Z"
   },
   {
    "duration": 350259,
    "start_time": "2021-09-04T08:50:06.136Z"
   },
   {
    "duration": 21,
    "start_time": "2021-09-04T08:56:50.171Z"
   },
   {
    "duration": 391770,
    "start_time": "2021-09-04T08:56:55.600Z"
   },
   {
    "duration": 54,
    "start_time": "2021-09-04T09:18:55.795Z"
   },
   {
    "duration": 75,
    "start_time": "2021-09-04T09:18:55.852Z"
   },
   {
    "duration": 32,
    "start_time": "2021-09-04T09:18:55.930Z"
   },
   {
    "duration": 10,
    "start_time": "2021-09-04T09:18:55.964Z"
   },
   {
    "duration": 1041,
    "start_time": "2021-09-04T09:18:55.976Z"
   },
   {
    "duration": 20576,
    "start_time": "2021-09-04T09:18:57.020Z"
   },
   {
    "duration": 61,
    "start_time": "2021-09-04T09:19:17.598Z"
   },
   {
    "duration": 294,
    "start_time": "2021-09-04T09:19:17.662Z"
   },
   {
    "duration": 6955,
    "start_time": "2021-09-04T09:19:17.959Z"
   },
   {
    "duration": 5,
    "start_time": "2021-09-04T09:19:24.918Z"
   },
   {
    "duration": 13,
    "start_time": "2021-09-04T09:19:24.926Z"
   },
   {
    "duration": 10,
    "start_time": "2021-09-04T09:19:24.954Z"
   },
   {
    "duration": 14,
    "start_time": "2021-09-04T09:19:24.967Z"
   },
   {
    "duration": 16,
    "start_time": "2021-09-04T09:19:24.984Z"
   },
   {
    "duration": 14763,
    "start_time": "2021-09-04T09:19:25.003Z"
   },
   {
    "duration": 433944,
    "start_time": "2021-09-04T09:19:39.768Z"
   },
   {
    "duration": 125649,
    "start_time": "2021-09-04T09:26:53.715Z"
   },
   {
    "duration": 387646,
    "start_time": "2021-09-04T09:28:59.454Z"
   },
   {
    "duration": 83,
    "start_time": "2021-09-04T09:40:26.165Z"
   },
   {
    "duration": 13,
    "start_time": "2021-09-04T09:40:35.274Z"
   },
   {
    "duration": 13,
    "start_time": "2021-09-04T09:40:55.526Z"
   },
   {
    "duration": 14,
    "start_time": "2021-09-04T09:41:08.450Z"
   },
   {
    "duration": 14,
    "start_time": "2021-09-04T09:43:58.143Z"
   },
   {
    "duration": 14,
    "start_time": "2021-09-04T09:44:11.352Z"
   },
   {
    "duration": 14,
    "start_time": "2021-09-04T09:47:35.389Z"
   },
   {
    "duration": 17,
    "start_time": "2021-09-04T09:59:15.189Z"
   },
   {
    "duration": 14,
    "start_time": "2021-09-04T09:59:17.623Z"
   },
   {
    "duration": 15,
    "start_time": "2021-09-04T09:59:20.158Z"
   },
   {
    "duration": 13,
    "start_time": "2021-09-04T09:59:57.192Z"
   },
   {
    "duration": 295,
    "start_time": "2021-09-04T10:03:17.891Z"
   },
   {
    "duration": 581,
    "start_time": "2021-09-04T10:03:24.104Z"
   },
   {
    "duration": 717,
    "start_time": "2021-09-04T10:03:46.918Z"
   },
   {
    "duration": 262,
    "start_time": "2021-09-04T10:06:41.722Z"
   },
   {
    "duration": 16,
    "start_time": "2021-09-04T10:06:48.741Z"
   },
   {
    "duration": 15,
    "start_time": "2021-09-04T10:06:58.456Z"
   },
   {
    "duration": 14,
    "start_time": "2021-09-04T10:07:35.775Z"
   },
   {
    "duration": 16,
    "start_time": "2021-09-04T10:07:43.631Z"
   },
   {
    "duration": 16,
    "start_time": "2021-09-04T10:07:45.789Z"
   },
   {
    "duration": 16,
    "start_time": "2021-09-04T10:07:48.331Z"
   },
   {
    "duration": 266,
    "start_time": "2021-09-04T10:07:55.134Z"
   },
   {
    "duration": 19,
    "start_time": "2021-09-04T10:08:02.143Z"
   },
   {
    "duration": 16,
    "start_time": "2021-09-04T10:08:36.637Z"
   },
   {
    "duration": 16,
    "start_time": "2021-09-04T10:08:37.326Z"
   },
   {
    "duration": 17,
    "start_time": "2021-09-04T10:08:41.560Z"
   },
   {
    "duration": 14,
    "start_time": "2021-09-04T10:08:45.217Z"
   },
   {
    "duration": 7365,
    "start_time": "2021-09-04T10:09:23.601Z"
   },
   {
    "duration": 673,
    "start_time": "2021-09-04T10:09:43.019Z"
   },
   {
    "duration": 690,
    "start_time": "2021-09-04T10:10:14.135Z"
   },
   {
    "duration": 960,
    "start_time": "2021-09-04T10:11:16.270Z"
   },
   {
    "duration": 643,
    "start_time": "2021-09-04T10:11:26.494Z"
   },
   {
    "duration": 610,
    "start_time": "2021-09-04T10:11:41.781Z"
   },
   {
    "duration": 615,
    "start_time": "2021-09-04T10:12:42.375Z"
   },
   {
    "duration": 880,
    "start_time": "2021-09-04T10:13:23.180Z"
   },
   {
    "duration": 809,
    "start_time": "2021-09-04T10:13:40.332Z"
   },
   {
    "duration": 808,
    "start_time": "2021-09-04T10:13:49.451Z"
   },
   {
    "duration": 715,
    "start_time": "2021-09-04T10:14:35.558Z"
   },
   {
    "duration": 745,
    "start_time": "2021-09-04T10:14:41.327Z"
   },
   {
    "duration": 780,
    "start_time": "2021-09-04T10:15:03.014Z"
   },
   {
    "duration": 85,
    "start_time": "2021-09-04T10:53:19.084Z"
   },
   {
    "duration": 6,
    "start_time": "2021-09-04T10:53:49.303Z"
   },
   {
    "duration": 88,
    "start_time": "2021-09-04T10:54:38.857Z"
   },
   {
    "duration": 84,
    "start_time": "2021-09-04T10:54:59.168Z"
   },
   {
    "duration": 91,
    "start_time": "2021-09-04T10:55:07.507Z"
   },
   {
    "duration": 11,
    "start_time": "2021-09-04T10:55:26.930Z"
   },
   {
    "duration": 9,
    "start_time": "2021-09-04T10:55:53.720Z"
   },
   {
    "duration": 8,
    "start_time": "2021-09-04T10:56:23.067Z"
   },
   {
    "duration": 9,
    "start_time": "2021-09-04T10:56:43.107Z"
   },
   {
    "duration": 54,
    "start_time": "2021-09-04T11:15:40.857Z"
   },
   {
    "duration": 99,
    "start_time": "2021-09-04T11:15:40.913Z"
   },
   {
    "duration": 11,
    "start_time": "2021-09-04T11:15:41.016Z"
   },
   {
    "duration": 10,
    "start_time": "2021-09-04T11:15:41.055Z"
   },
   {
    "duration": 980,
    "start_time": "2021-09-04T11:15:41.067Z"
   },
   {
    "duration": 20849,
    "start_time": "2021-09-04T11:15:42.053Z"
   },
   {
    "duration": 60,
    "start_time": "2021-09-04T11:16:02.904Z"
   },
   {
    "duration": 286,
    "start_time": "2021-09-04T11:16:02.968Z"
   },
   {
    "duration": 8446,
    "start_time": "2021-09-04T11:16:03.257Z"
   },
   {
    "duration": 6,
    "start_time": "2021-09-04T11:16:11.705Z"
   },
   {
    "duration": 37,
    "start_time": "2021-09-04T11:16:11.713Z"
   },
   {
    "duration": 31,
    "start_time": "2021-09-04T11:16:11.752Z"
   },
   {
    "duration": 35,
    "start_time": "2021-09-04T11:16:11.786Z"
   },
   {
    "duration": 29,
    "start_time": "2021-09-04T11:16:11.824Z"
   },
   {
    "duration": 680,
    "start_time": "2021-09-04T11:20:33.480Z"
   },
   {
    "duration": 679,
    "start_time": "2021-09-04T11:21:02.000Z"
   },
   {
    "duration": 23380,
    "start_time": "2021-09-04T11:21:28.909Z"
   },
   {
    "duration": 23188,
    "start_time": "2021-09-04T11:23:23.520Z"
   },
   {
    "duration": 23356,
    "start_time": "2021-09-04T11:24:01.843Z"
   },
   {
    "duration": 23185,
    "start_time": "2021-09-04T11:24:32.479Z"
   },
   {
    "duration": 22914,
    "start_time": "2021-09-04T11:26:11.584Z"
   },
   {
    "duration": 1946,
    "start_time": "2021-09-05T18:01:49.740Z"
   },
   {
    "duration": -409,
    "start_time": "2021-09-05T18:01:52.099Z"
   },
   {
    "duration": -418,
    "start_time": "2021-09-05T18:01:52.109Z"
   },
   {
    "duration": -428,
    "start_time": "2021-09-05T18:01:52.121Z"
   },
   {
    "duration": -443,
    "start_time": "2021-09-05T18:01:52.137Z"
   },
   {
    "duration": -453,
    "start_time": "2021-09-05T18:01:52.148Z"
   },
   {
    "duration": -462,
    "start_time": "2021-09-05T18:01:52.159Z"
   },
   {
    "duration": -472,
    "start_time": "2021-09-05T18:01:52.170Z"
   },
   {
    "duration": -483,
    "start_time": "2021-09-05T18:01:52.182Z"
   },
   {
    "duration": -506,
    "start_time": "2021-09-05T18:01:52.207Z"
   },
   {
    "duration": -517,
    "start_time": "2021-09-05T18:01:52.219Z"
   },
   {
    "duration": -525,
    "start_time": "2021-09-05T18:01:52.229Z"
   },
   {
    "duration": -538,
    "start_time": "2021-09-05T18:01:52.243Z"
   },
   {
    "duration": -547,
    "start_time": "2021-09-05T18:01:52.254Z"
   },
   {
    "duration": -558,
    "start_time": "2021-09-05T18:01:52.266Z"
   },
   {
    "duration": 7,
    "start_time": "2021-09-05T18:02:21.499Z"
   },
   {
    "duration": 22,
    "start_time": "2021-09-05T18:02:21.508Z"
   },
   {
    "duration": 63,
    "start_time": "2021-09-05T18:02:21.533Z"
   },
   {
    "duration": 107,
    "start_time": "2021-09-05T18:02:21.598Z"
   },
   {
    "duration": 9,
    "start_time": "2021-09-05T18:02:21.707Z"
   },
   {
    "duration": 12,
    "start_time": "2021-09-05T18:02:21.720Z"
   },
   {
    "duration": 1061,
    "start_time": "2021-09-05T18:02:21.764Z"
   },
   {
    "duration": 22809,
    "start_time": "2021-09-05T18:02:22.827Z"
   },
   {
    "duration": 53,
    "start_time": "2021-09-05T18:02:45.638Z"
   },
   {
    "duration": 290,
    "start_time": "2021-09-05T18:02:45.693Z"
   },
   {
    "duration": 8696,
    "start_time": "2021-09-05T18:02:45.985Z"
   },
   {
    "duration": 7,
    "start_time": "2021-09-05T18:02:54.683Z"
   },
   {
    "duration": 19,
    "start_time": "2021-09-05T18:02:54.692Z"
   },
   {
    "duration": 8,
    "start_time": "2021-09-05T18:02:54.715Z"
   },
   {
    "duration": 14,
    "start_time": "2021-09-05T18:02:54.726Z"
   },
   {
    "duration": 949,
    "start_time": "2021-09-05T18:07:11.274Z"
   },
   {
    "duration": 8915,
    "start_time": "2021-09-05T18:13:08.630Z"
   },
   {
    "duration": 229,
    "start_time": "2021-09-05T18:13:24.380Z"
   },
   {
    "duration": 6889,
    "start_time": "2021-09-05T18:13:39.993Z"
   },
   {
    "duration": 7569,
    "start_time": "2021-09-05T18:14:29.699Z"
   },
   {
    "duration": 6,
    "start_time": "2021-09-05T18:18:06.679Z"
   },
   {
    "duration": 9,
    "start_time": "2021-09-05T18:18:07.163Z"
   },
   {
    "duration": 7,
    "start_time": "2021-09-05T18:23:06.122Z"
   },
   {
    "duration": 8,
    "start_time": "2021-09-05T18:38:27.697Z"
   },
   {
    "duration": 8,
    "start_time": "2021-09-05T18:38:28.136Z"
   },
   {
    "duration": 8,
    "start_time": "2021-09-05T18:42:05.109Z"
   },
   {
    "duration": 8,
    "start_time": "2021-09-05T18:42:05.547Z"
   },
   {
    "duration": 291,
    "start_time": "2021-09-05T18:43:00.798Z"
   },
   {
    "duration": 8,
    "start_time": "2021-09-05T18:43:49.853Z"
   },
   {
    "duration": 8,
    "start_time": "2021-09-05T18:43:50.394Z"
   },
   {
    "duration": 698,
    "start_time": "2021-09-05T18:43:59.730Z"
   },
   {
    "duration": 6,
    "start_time": "2021-09-05T18:44:21.399Z"
   },
   {
    "duration": 7,
    "start_time": "2021-09-05T18:44:22.247Z"
   },
   {
    "duration": 6,
    "start_time": "2021-09-05T18:50:14.538Z"
   },
   {
    "duration": 269,
    "start_time": "2021-09-05T18:50:19.927Z"
   },
   {
    "duration": 228,
    "start_time": "2021-09-05T18:50:26.955Z"
   },
   {
    "duration": 8,
    "start_time": "2021-09-05T18:50:40.920Z"
   },
   {
    "duration": 32,
    "start_time": "2021-09-05T18:51:51.821Z"
   },
   {
    "duration": 35,
    "start_time": "2021-09-05T18:52:17.960Z"
   },
   {
    "duration": 32,
    "start_time": "2021-09-05T18:52:24.639Z"
   },
   {
    "duration": 30,
    "start_time": "2021-09-05T18:52:33.846Z"
   },
   {
    "duration": 249,
    "start_time": "2021-09-05T18:54:28.089Z"
   },
   {
    "duration": 21,
    "start_time": "2021-09-05T18:54:42.316Z"
   },
   {
    "duration": 25,
    "start_time": "2021-09-05T18:55:16.074Z"
   },
   {
    "duration": 517,
    "start_time": "2021-09-05T18:56:59.811Z"
   },
   {
    "duration": 127,
    "start_time": "2021-09-05T18:57:40.586Z"
   },
   {
    "duration": 27,
    "start_time": "2021-09-05T18:58:06.191Z"
   },
   {
    "duration": 9,
    "start_time": "2021-09-05T18:59:00.287Z"
   },
   {
    "duration": 613,
    "start_time": "2021-09-05T18:59:05.618Z"
   },
   {
    "duration": 8,
    "start_time": "2021-09-05T19:03:31.598Z"
   },
   {
    "duration": 7,
    "start_time": "2021-09-05T19:03:32.056Z"
   },
   {
    "duration": 75,
    "start_time": "2021-09-05T19:03:49.863Z"
   },
   {
    "duration": 529,
    "start_time": "2021-09-05T19:03:59.625Z"
   },
   {
    "duration": 520,
    "start_time": "2021-09-05T19:04:11.187Z"
   },
   {
    "duration": 103,
    "start_time": "2021-09-05T19:05:25.854Z"
   },
   {
    "duration": 199,
    "start_time": "2021-09-05T19:05:32.673Z"
   },
   {
    "duration": 489,
    "start_time": "2021-09-05T19:05:45.946Z"
   },
   {
    "duration": 227,
    "start_time": "2021-09-05T19:06:15.896Z"
   },
   {
    "duration": 515,
    "start_time": "2021-09-05T19:06:27.271Z"
   },
   {
    "duration": 866,
    "start_time": "2021-09-05T19:08:26.946Z"
   },
   {
    "duration": 6,
    "start_time": "2021-09-05T19:13:53.808Z"
   },
   {
    "duration": 6,
    "start_time": "2021-09-05T19:16:34.104Z"
   },
   {
    "duration": 204,
    "start_time": "2021-09-05T19:18:16.929Z"
   },
   {
    "duration": 86,
    "start_time": "2021-09-05T19:18:36.393Z"
   },
   {
    "duration": 786,
    "start_time": "2021-09-05T19:18:41.094Z"
   },
   {
    "duration": 7,
    "start_time": "2021-09-05T19:19:40.503Z"
   },
   {
    "duration": 544,
    "start_time": "2021-09-05T19:19:42.985Z"
   },
   {
    "duration": 7,
    "start_time": "2021-09-05T19:19:58.310Z"
   },
   {
    "duration": 546,
    "start_time": "2021-09-05T19:19:58.913Z"
   },
   {
    "duration": 7,
    "start_time": "2021-09-05T19:20:23.764Z"
   },
   {
    "duration": 552,
    "start_time": "2021-09-05T19:20:25.403Z"
   },
   {
    "duration": 7,
    "start_time": "2021-09-05T19:21:40.648Z"
   },
   {
    "duration": 17,
    "start_time": "2021-09-05T19:21:40.658Z"
   },
   {
    "duration": 57,
    "start_time": "2021-09-05T19:21:40.677Z"
   },
   {
    "duration": 95,
    "start_time": "2021-09-05T19:21:40.738Z"
   },
   {
    "duration": 36,
    "start_time": "2021-09-05T19:21:40.836Z"
   },
   {
    "duration": 14,
    "start_time": "2021-09-05T19:21:40.877Z"
   },
   {
    "duration": 1598,
    "start_time": "2021-09-05T19:21:40.895Z"
   },
   {
    "duration": 20643,
    "start_time": "2021-09-05T19:21:42.497Z"
   },
   {
    "duration": 55,
    "start_time": "2021-09-05T19:22:03.143Z"
   },
   {
    "duration": 303,
    "start_time": "2021-09-05T19:22:03.201Z"
   },
   {
    "duration": 10865,
    "start_time": "2021-09-05T19:22:03.507Z"
   },
   {
    "duration": 6,
    "start_time": "2021-09-05T19:22:14.375Z"
   },
   {
    "duration": 11,
    "start_time": "2021-09-05T19:22:14.384Z"
   },
   {
    "duration": 7,
    "start_time": "2021-09-05T19:22:14.398Z"
   },
   {
    "duration": 550,
    "start_time": "2021-09-05T19:22:14.407Z"
   },
   {
    "duration": 19,
    "start_time": "2021-09-05T19:25:13.546Z"
   },
   {
    "duration": 6,
    "start_time": "2021-09-05T19:28:42.655Z"
   },
   {
    "duration": 16,
    "start_time": "2021-09-05T19:28:42.664Z"
   },
   {
    "duration": 47,
    "start_time": "2021-09-05T19:28:42.683Z"
   },
   {
    "duration": 87,
    "start_time": "2021-09-05T19:28:42.733Z"
   },
   {
    "duration": 9,
    "start_time": "2021-09-05T19:28:42.822Z"
   },
   {
    "duration": 37,
    "start_time": "2021-09-05T19:28:42.834Z"
   },
   {
    "duration": 976,
    "start_time": "2021-09-05T19:28:42.874Z"
   },
   {
    "duration": 19624,
    "start_time": "2021-09-05T19:28:43.852Z"
   },
   {
    "duration": 35,
    "start_time": "2021-09-05T19:29:03.479Z"
   },
   {
    "duration": 303,
    "start_time": "2021-09-05T19:29:03.516Z"
   },
   {
    "duration": 11221,
    "start_time": "2021-09-05T19:29:03.822Z"
   },
   {
    "duration": 5,
    "start_time": "2021-09-05T19:29:15.045Z"
   },
   {
    "duration": 12,
    "start_time": "2021-09-05T19:29:15.053Z"
   },
   {
    "duration": 4,
    "start_time": "2021-09-05T19:29:36.357Z"
   },
   {
    "duration": 7,
    "start_time": "2021-09-05T19:29:37.728Z"
   },
   {
    "duration": 524,
    "start_time": "2021-09-05T19:29:40.072Z"
   },
   {
    "duration": 4,
    "start_time": "2021-09-05T19:30:30.277Z"
   },
   {
    "duration": 7,
    "start_time": "2021-09-05T19:30:30.755Z"
   },
   {
    "duration": 447,
    "start_time": "2021-09-05T19:30:33.092Z"
   },
   {
    "duration": 6,
    "start_time": "2021-09-05T19:30:42.610Z"
   },
   {
    "duration": 549,
    "start_time": "2021-09-05T19:30:46.781Z"
   },
   {
    "duration": 7,
    "start_time": "2021-09-05T19:31:12.362Z"
   },
   {
    "duration": 725,
    "start_time": "2021-09-05T19:31:15.225Z"
   },
   {
    "duration": 7,
    "start_time": "2021-09-05T19:32:03.702Z"
   },
   {
    "duration": 916,
    "start_time": "2021-09-05T19:32:05.869Z"
   },
   {
    "duration": 15933,
    "start_time": "2021-09-06T07:34:40.416Z"
   },
   {
    "duration": 2251,
    "start_time": "2021-09-06T07:35:40.869Z"
   },
   {
    "duration": 5,
    "start_time": "2021-09-06T07:35:58.094Z"
   },
   {
    "duration": 94,
    "start_time": "2021-09-06T07:35:58.974Z"
   },
   {
    "duration": 3582,
    "start_time": "2021-09-06T07:36:35.239Z"
   },
   {
    "duration": 7,
    "start_time": "2021-09-06T07:36:38.825Z"
   },
   {
    "duration": 5,
    "start_time": "2021-09-06T07:36:38.836Z"
   },
   {
    "duration": 58,
    "start_time": "2021-09-06T07:36:38.844Z"
   },
   {
    "duration": 101,
    "start_time": "2021-09-06T07:36:38.904Z"
   },
   {
    "duration": 9,
    "start_time": "2021-09-06T07:36:39.008Z"
   },
   {
    "duration": 11,
    "start_time": "2021-09-06T07:36:39.020Z"
   },
   {
    "duration": 1151,
    "start_time": "2021-09-06T07:36:39.068Z"
   },
   {
    "duration": 34939,
    "start_time": "2021-09-06T07:36:40.222Z"
   },
   {
    "duration": 68,
    "start_time": "2021-09-06T07:37:15.169Z"
   },
   {
    "duration": 561,
    "start_time": "2021-09-06T07:37:15.241Z"
   },
   {
    "duration": 14642,
    "start_time": "2021-09-06T07:37:15.806Z"
   },
   {
    "duration": 10,
    "start_time": "2021-09-06T07:37:30.450Z"
   },
   {
    "duration": 14,
    "start_time": "2021-09-06T07:37:30.468Z"
   },
   {
    "duration": 22,
    "start_time": "2021-09-06T07:39:21.288Z"
   },
   {
    "duration": 463,
    "start_time": "2021-09-06T07:39:32.115Z"
   },
   {
    "duration": 319,
    "start_time": "2021-09-06T07:39:57.490Z"
   },
   {
    "duration": 4,
    "start_time": "2021-09-06T07:40:06.040Z"
   },
   {
    "duration": 7,
    "start_time": "2021-09-06T07:41:08.457Z"
   },
   {
    "duration": 677,
    "start_time": "2021-09-06T07:41:21.225Z"
   },
   {
    "duration": 8,
    "start_time": "2021-09-06T07:42:37.433Z"
   },
   {
    "duration": 638,
    "start_time": "2021-09-06T07:42:39.981Z"
   },
   {
    "duration": 4919,
    "start_time": "2021-09-06T07:45:18.030Z"
   },
   {
    "duration": 9,
    "start_time": "2021-09-06T07:45:22.953Z"
   },
   {
    "duration": 11,
    "start_time": "2021-09-06T07:45:22.966Z"
   },
   {
    "duration": 56,
    "start_time": "2021-09-06T07:45:22.981Z"
   },
   {
    "duration": 128,
    "start_time": "2021-09-06T07:45:23.040Z"
   },
   {
    "duration": 11,
    "start_time": "2021-09-06T07:45:23.170Z"
   },
   {
    "duration": 12,
    "start_time": "2021-09-06T07:45:23.184Z"
   },
   {
    "duration": 1127,
    "start_time": "2021-09-06T07:45:23.200Z"
   },
   {
    "duration": 39650,
    "start_time": "2021-09-06T07:45:24.330Z"
   },
   {
    "duration": 37,
    "start_time": "2021-09-06T07:46:03.982Z"
   },
   {
    "duration": 319,
    "start_time": "2021-09-06T07:46:04.021Z"
   },
   {
    "duration": 7641,
    "start_time": "2021-09-06T07:46:04.343Z"
   },
   {
    "duration": 6,
    "start_time": "2021-09-06T07:46:11.987Z"
   },
   {
    "duration": 10,
    "start_time": "2021-09-06T07:46:11.995Z"
   },
   {
    "duration": 11,
    "start_time": "2021-09-06T07:46:28.143Z"
   },
   {
    "duration": 7,
    "start_time": "2021-09-06T07:46:35.156Z"
   },
   {
    "duration": 8,
    "start_time": "2021-09-06T07:46:42.575Z"
   },
   {
    "duration": 7,
    "start_time": "2021-09-06T07:46:47.037Z"
   },
   {
    "duration": 8,
    "start_time": "2021-09-06T07:46:51.746Z"
   },
   {
    "duration": 9,
    "start_time": "2021-09-06T07:46:57.290Z"
   },
   {
    "duration": 6,
    "start_time": "2021-09-06T07:47:01.137Z"
   },
   {
    "duration": 340,
    "start_time": "2021-09-06T07:48:19.739Z"
   },
   {
    "duration": 4,
    "start_time": "2021-09-06T07:48:30.235Z"
   },
   {
    "duration": 4,
    "start_time": "2021-09-06T07:50:00.668Z"
   },
   {
    "duration": 111,
    "start_time": "2021-09-06T07:50:03.212Z"
   },
   {
    "duration": 11,
    "start_time": "2021-09-06T07:50:11.110Z"
   },
   {
    "duration": 8,
    "start_time": "2021-09-06T07:50:22.670Z"
   },
   {
    "duration": 5,
    "start_time": "2021-09-06T07:50:29.016Z"
   },
   {
    "duration": 8,
    "start_time": "2021-09-06T07:50:47.265Z"
   },
   {
    "duration": 8,
    "start_time": "2021-09-06T07:51:01.152Z"
   },
   {
    "duration": 6,
    "start_time": "2021-09-06T07:51:04.771Z"
   },
   {
    "duration": 6,
    "start_time": "2021-09-06T07:51:27.308Z"
   },
   {
    "duration": 12,
    "start_time": "2021-09-06T07:51:37.884Z"
   },
   {
    "duration": 6,
    "start_time": "2021-09-06T07:51:40.354Z"
   },
   {
    "duration": 9,
    "start_time": "2021-09-06T07:51:58.879Z"
   },
   {
    "duration": 7,
    "start_time": "2021-09-06T07:52:00.931Z"
   },
   {
    "duration": 6,
    "start_time": "2021-09-06T07:52:04.877Z"
   },
   {
    "duration": 3,
    "start_time": "2021-09-06T07:52:20.749Z"
   },
   {
    "duration": 7,
    "start_time": "2021-09-06T07:52:22.339Z"
   },
   {
    "duration": 1467,
    "start_time": "2021-09-06T07:52:25.758Z"
   },
   {
    "duration": 4,
    "start_time": "2021-09-06T07:52:48.891Z"
   },
   {
    "duration": 8,
    "start_time": "2021-09-06T07:52:49.249Z"
   },
   {
    "duration": 4460,
    "start_time": "2021-09-06T07:52:51.593Z"
   },
   {
    "duration": 4,
    "start_time": "2021-09-06T07:54:04.941Z"
   },
   {
    "duration": 12,
    "start_time": "2021-09-06T07:54:05.389Z"
   },
   {
    "duration": 2230,
    "start_time": "2021-09-06T07:54:08.211Z"
   },
   {
    "duration": 9,
    "start_time": "2021-09-06T07:54:30.485Z"
   },
   {
    "duration": 2126,
    "start_time": "2021-09-06T07:54:31.893Z"
   },
   {
    "duration": 8,
    "start_time": "2021-09-06T07:54:38.767Z"
   },
   {
    "duration": 2330,
    "start_time": "2021-09-06T07:54:39.863Z"
   },
   {
    "duration": 8,
    "start_time": "2021-09-06T07:54:58.143Z"
   },
   {
    "duration": 2158,
    "start_time": "2021-09-06T07:55:01.115Z"
   },
   {
    "duration": 2146,
    "start_time": "2021-09-06T07:55:09.392Z"
   },
   {
    "duration": 4,
    "start_time": "2021-09-06T08:03:11.131Z"
   },
   {
    "duration": 9,
    "start_time": "2021-09-06T08:03:19.679Z"
   },
   {
    "duration": 2346,
    "start_time": "2021-09-06T08:03:22.025Z"
   },
   {
    "duration": 4,
    "start_time": "2021-09-06T08:04:06.701Z"
   },
   {
    "duration": 8,
    "start_time": "2021-09-06T08:04:08.439Z"
   },
   {
    "duration": 2351,
    "start_time": "2021-09-06T08:04:10.368Z"
   },
   {
    "duration": 8,
    "start_time": "2021-09-06T08:05:53.277Z"
   },
   {
    "duration": 2339,
    "start_time": "2021-09-06T08:05:54.029Z"
   },
   {
    "duration": 8,
    "start_time": "2021-09-06T08:06:20.188Z"
   },
   {
    "duration": 8,
    "start_time": "2021-09-06T08:06:46.919Z"
   },
   {
    "duration": 4088,
    "start_time": "2021-09-06T08:06:48.417Z"
   },
   {
    "duration": 331391,
    "start_time": "2021-09-06T08:12:25.353Z"
   },
   {
    "duration": 148,
    "start_time": "2021-09-06T08:17:56.747Z"
   },
   {
    "duration": 464,
    "start_time": "2021-09-06T08:21:50.743Z"
   },
   {
    "duration": 273015,
    "start_time": "2021-09-06T08:22:32.295Z"
   },
   {
    "duration": 10,
    "start_time": "2021-09-06T08:27:05.315Z"
   },
   {
    "duration": 1052,
    "start_time": "2021-09-06T08:37:53.794Z"
   },
   {
    "duration": 8,
    "start_time": "2021-09-06T08:38:42.355Z"
   },
   {
    "duration": 9,
    "start_time": "2021-09-06T08:38:45.163Z"
   },
   {
    "duration": 1955,
    "start_time": "2021-09-06T08:38:49.290Z"
   },
   {
    "duration": 9,
    "start_time": "2021-09-06T08:40:18.704Z"
   },
   {
    "duration": 637,
    "start_time": "2021-09-06T08:40:21.236Z"
   },
   {
    "duration": 8,
    "start_time": "2021-09-06T08:42:30.039Z"
   },
   {
    "duration": 8,
    "start_time": "2021-09-06T08:42:42.650Z"
   },
   {
    "duration": 9,
    "start_time": "2021-09-06T08:44:46.721Z"
   },
   {
    "duration": 7,
    "start_time": "2021-09-06T08:44:50.411Z"
   },
   {
    "duration": 637,
    "start_time": "2021-09-06T08:44:53.597Z"
   },
   {
    "duration": 3992,
    "start_time": "2021-09-06T08:46:16.560Z"
   },
   {
    "duration": 876,
    "start_time": "2021-09-06T08:46:23.029Z"
   },
   {
    "duration": 24,
    "start_time": "2021-09-06T08:47:21.769Z"
   },
   {
    "duration": 406,
    "start_time": "2021-09-06T08:49:05.865Z"
   },
   {
    "duration": 103,
    "start_time": "2021-09-06T08:49:39.876Z"
   },
   {
    "duration": 14,
    "start_time": "2021-09-06T08:49:52.472Z"
   },
   {
    "duration": 573,
    "start_time": "2021-09-06T08:49:56.356Z"
   },
   {
    "duration": 6,
    "start_time": "2021-09-06T08:53:36.036Z"
   },
   {
    "duration": 35,
    "start_time": "2021-09-06T08:53:36.044Z"
   },
   {
    "duration": 67,
    "start_time": "2021-09-06T08:53:36.082Z"
   },
   {
    "duration": 85,
    "start_time": "2021-09-06T08:53:36.152Z"
   },
   {
    "duration": 29,
    "start_time": "2021-09-06T08:53:36.240Z"
   },
   {
    "duration": 11,
    "start_time": "2021-09-06T08:53:36.272Z"
   },
   {
    "duration": 1085,
    "start_time": "2021-09-06T08:53:36.286Z"
   },
   {
    "duration": 21560,
    "start_time": "2021-09-06T08:53:37.374Z"
   },
   {
    "duration": 85,
    "start_time": "2021-09-06T08:53:58.938Z"
   },
   {
    "duration": 468,
    "start_time": "2021-09-06T08:53:59.027Z"
   },
   {
    "duration": 17048,
    "start_time": "2021-09-06T08:53:59.498Z"
   },
   {
    "duration": 19,
    "start_time": "2021-09-06T08:54:16.549Z"
   },
   {
    "duration": 10,
    "start_time": "2021-09-06T08:54:16.571Z"
   },
   {
    "duration": 5,
    "start_time": "2021-09-06T08:54:16.585Z"
   },
   {
    "duration": 14,
    "start_time": "2021-09-06T08:54:20.003Z"
   },
   {
    "duration": 2350,
    "start_time": "2021-09-06T08:54:23.447Z"
   },
   {
    "duration": 910,
    "start_time": "2021-09-06T08:54:27.701Z"
   },
   {
    "duration": 11,
    "start_time": "2021-09-06T08:56:22.533Z"
   },
   {
    "duration": 2328,
    "start_time": "2021-09-06T08:56:24.681Z"
   },
   {
    "duration": 574,
    "start_time": "2021-09-06T08:56:28.500Z"
   },
   {
    "duration": 1427,
    "start_time": "2021-09-06T08:56:45.043Z"
   },
   {
    "duration": 7,
    "start_time": "2021-09-06T09:00:31.351Z"
   },
   {
    "duration": 13,
    "start_time": "2021-09-06T09:00:33.905Z"
   },
   {
    "duration": 1872,
    "start_time": "2021-09-06T09:03:17.804Z"
   },
   {
    "duration": 6,
    "start_time": "2021-09-06T09:03:58.012Z"
   },
   {
    "duration": 10,
    "start_time": "2021-09-06T09:04:06.242Z"
   },
   {
    "duration": 1652,
    "start_time": "2021-09-06T09:06:43.241Z"
   },
   {
    "duration": 1389,
    "start_time": "2021-09-06T09:07:24.489Z"
   },
   {
    "duration": 1597,
    "start_time": "2021-09-06T09:07:46.582Z"
   },
   {
    "duration": 7,
    "start_time": "2021-09-06T09:08:36.074Z"
   },
   {
    "duration": 11,
    "start_time": "2021-09-06T09:08:38.726Z"
   },
   {
    "duration": 3272,
    "start_time": "2021-09-06T09:08:51.583Z"
   },
   {
    "duration": 1565,
    "start_time": "2021-09-06T09:08:56.725Z"
   },
   {
    "duration": 8,
    "start_time": "2021-09-06T09:41:33.296Z"
   },
   {
    "duration": 7,
    "start_time": "2021-09-06T09:41:36.414Z"
   },
   {
    "duration": 7,
    "start_time": "2021-09-06T09:41:49.734Z"
   },
   {
    "duration": 7,
    "start_time": "2021-09-06T09:41:52.436Z"
   },
   {
    "duration": 2411,
    "start_time": "2021-09-06T09:41:56.041Z"
   },
   {
    "duration": 1283,
    "start_time": "2021-09-06T09:41:59.995Z"
   },
   {
    "duration": 297288,
    "start_time": "2021-09-06T09:52:35.040Z"
   },
   {
    "duration": 7,
    "start_time": "2021-09-06T09:57:32.331Z"
   },
   {
    "duration": 24,
    "start_time": "2021-09-06T10:11:38.274Z"
   },
   {
    "duration": 38,
    "start_time": "2021-09-06T10:14:18.664Z"
   },
   {
    "duration": 35,
    "start_time": "2021-09-06T10:14:33.419Z"
   },
   {
    "duration": 24,
    "start_time": "2021-09-06T10:16:27.837Z"
   },
   {
    "duration": 35,
    "start_time": "2021-09-06T10:16:36.406Z"
   },
   {
    "duration": 46,
    "start_time": "2021-09-06T10:16:51.811Z"
   },
   {
    "duration": 7,
    "start_time": "2021-09-06T10:26:10.743Z"
   },
   {
    "duration": 9,
    "start_time": "2021-09-06T10:27:55.578Z"
   },
   {
    "duration": 8,
    "start_time": "2021-09-06T10:32:03.087Z"
   },
   {
    "duration": 8,
    "start_time": "2021-09-06T10:32:05.731Z"
   },
   {
    "duration": 258397,
    "start_time": "2021-09-06T10:32:20.125Z"
   },
   {
    "duration": 446,
    "start_time": "2021-09-06T10:36:38.525Z"
   },
   {
    "duration": 512,
    "start_time": "2021-09-06T10:36:53.400Z"
   },
   {
    "duration": 9,
    "start_time": "2021-09-06T10:37:16.453Z"
   },
   {
    "duration": 22,
    "start_time": "2021-09-06T10:37:26.690Z"
   },
   {
    "duration": 10,
    "start_time": "2021-09-06T10:37:35.589Z"
   },
   {
    "duration": 9,
    "start_time": "2021-09-06T10:39:10.774Z"
   },
   {
    "duration": 10,
    "start_time": "2021-09-06T10:39:10.786Z"
   },
   {
    "duration": 60,
    "start_time": "2021-09-06T10:39:10.799Z"
   },
   {
    "duration": 123,
    "start_time": "2021-09-06T10:39:10.868Z"
   },
   {
    "duration": 9,
    "start_time": "2021-09-06T10:39:10.995Z"
   },
   {
    "duration": 10,
    "start_time": "2021-09-06T10:39:11.008Z"
   },
   {
    "duration": 1139,
    "start_time": "2021-09-06T10:39:11.020Z"
   },
   {
    "duration": 24731,
    "start_time": "2021-09-06T10:39:12.162Z"
   },
   {
    "duration": 36,
    "start_time": "2021-09-06T10:39:36.895Z"
   },
   {
    "duration": 341,
    "start_time": "2021-09-06T10:39:36.935Z"
   },
   {
    "duration": 13211,
    "start_time": "2021-09-06T10:39:37.279Z"
   },
   {
    "duration": 9,
    "start_time": "2021-09-06T10:39:50.493Z"
   },
   {
    "duration": 16,
    "start_time": "2021-09-06T10:39:50.505Z"
   },
   {
    "duration": 10,
    "start_time": "2021-09-06T10:39:50.525Z"
   },
   {
    "duration": 31,
    "start_time": "2021-09-06T10:39:50.538Z"
   },
   {
    "duration": 18535,
    "start_time": "2021-09-06T10:39:50.574Z"
   },
   {
    "duration": -169,
    "start_time": "2021-09-06T10:40:09.281Z"
   },
   {
    "duration": -208,
    "start_time": "2021-09-06T10:40:09.323Z"
   },
   {
    "duration": -324,
    "start_time": "2021-09-06T10:40:09.441Z"
   },
   {
    "duration": -396,
    "start_time": "2021-09-06T10:40:09.515Z"
   },
   {
    "duration": -441,
    "start_time": "2021-09-06T10:40:09.563Z"
   },
   {
    "duration": -497,
    "start_time": "2021-09-06T10:40:09.621Z"
   },
   {
    "duration": -512,
    "start_time": "2021-09-06T10:40:09.638Z"
   },
   {
    "duration": 7,
    "start_time": "2021-09-06T10:40:27.634Z"
   },
   {
    "duration": 49,
    "start_time": "2021-09-06T10:40:29.669Z"
   },
   {
    "duration": 298726,
    "start_time": "2021-09-06T10:40:36.373Z"
   },
   {
    "duration": 8,
    "start_time": "2021-09-06T10:45:35.102Z"
   },
   {
    "duration": 60,
    "start_time": "2021-09-06T10:45:35.113Z"
   },
   {
    "duration": 19,
    "start_time": "2021-09-06T10:48:24.112Z"
   },
   {
    "duration": 10,
    "start_time": "2021-09-06T10:51:24.164Z"
   },
   {
    "duration": 8,
    "start_time": "2021-09-06T10:51:31.816Z"
   },
   {
    "duration": 6,
    "start_time": "2021-09-06T11:00:43.785Z"
   },
   {
    "duration": 9,
    "start_time": "2021-09-06T11:00:43.794Z"
   },
   {
    "duration": 52,
    "start_time": "2021-09-06T11:00:43.806Z"
   },
   {
    "duration": 110,
    "start_time": "2021-09-06T11:00:43.860Z"
   },
   {
    "duration": 16,
    "start_time": "2021-09-06T11:00:43.973Z"
   },
   {
    "duration": 23,
    "start_time": "2021-09-06T11:00:43.991Z"
   },
   {
    "duration": 1140,
    "start_time": "2021-09-06T11:00:44.017Z"
   },
   {
    "duration": 23295,
    "start_time": "2021-09-06T11:00:45.168Z"
   },
   {
    "duration": 43,
    "start_time": "2021-09-06T11:01:08.468Z"
   },
   {
    "duration": 343,
    "start_time": "2021-09-06T11:01:08.516Z"
   },
   {
    "duration": 9416,
    "start_time": "2021-09-06T11:01:08.861Z"
   },
   {
    "duration": 9,
    "start_time": "2021-09-06T11:01:18.280Z"
   },
   {
    "duration": 16,
    "start_time": "2021-09-06T11:01:18.292Z"
   },
   {
    "duration": 17,
    "start_time": "2021-09-06T11:01:18.310Z"
   },
   {
    "duration": 13,
    "start_time": "2021-09-06T11:01:18.329Z"
   },
   {
    "duration": 27,
    "start_time": "2021-09-06T11:01:18.344Z"
   },
   {
    "duration": 56,
    "start_time": "2021-09-06T11:01:18.374Z"
   },
   {
    "duration": 1235,
    "start_time": "2021-09-06T11:01:18.432Z"
   },
   {
    "duration": 113487,
    "start_time": "2021-09-06T11:01:19.670Z"
   },
   {
    "duration": 9,
    "start_time": "2021-09-06T11:03:13.159Z"
   },
   {
    "duration": 123,
    "start_time": "2021-09-06T11:03:13.171Z"
   },
   {
    "duration": 113,
    "start_time": "2021-09-06T11:04:04.116Z"
   },
   {
    "duration": 44,
    "start_time": "2021-09-06T11:04:20.241Z"
   },
   {
    "duration": 5,
    "start_time": "2021-09-06T11:04:57.289Z"
   },
   {
    "duration": 134350,
    "start_time": "2021-09-06T11:08:59.951Z"
   },
   {
    "duration": 5,
    "start_time": "2021-09-06T11:11:14.304Z"
   },
   {
    "duration": 57,
    "start_time": "2021-09-06T11:11:14.312Z"
   },
   {
    "duration": 7,
    "start_time": "2021-09-06T11:16:31.712Z"
   },
   {
    "duration": 58,
    "start_time": "2021-09-06T11:17:07.142Z"
   },
   {
    "duration": 50,
    "start_time": "2021-09-06T11:20:53.175Z"
   },
   {
    "duration": 31739,
    "start_time": "2021-09-06T11:23:46.391Z"
   },
   {
    "duration": 294,
    "start_time": "2021-09-06T11:32:36.230Z"
   },
   {
    "duration": 106367,
    "start_time": "2021-09-06T11:34:30.586Z"
   },
   {
    "duration": 12,
    "start_time": "2021-09-06T11:36:16.957Z"
   },
   {
    "duration": 832,
    "start_time": "2021-09-06T11:36:16.975Z"
   },
   {
    "duration": 177868,
    "start_time": "2021-09-06T11:36:17.810Z"
   },
   {
    "duration": 5,
    "start_time": "2021-09-06T11:39:15.682Z"
   },
   {
    "duration": 1190,
    "start_time": "2021-09-06T11:39:15.691Z"
   },
   {
    "duration": 7281,
    "start_time": "2021-09-06T12:32:53.108Z"
   },
   {
    "duration": 22,
    "start_time": "2021-09-06T12:33:00.474Z"
   },
   {
    "duration": 572,
    "start_time": "2021-09-06T12:33:00.499Z"
   },
   {
    "duration": 379,
    "start_time": "2021-09-06T12:33:00.696Z"
   },
   {
    "duration": 367,
    "start_time": "2021-09-06T12:33:00.710Z"
   },
   {
    "duration": 357,
    "start_time": "2021-09-06T12:33:00.723Z"
   },
   {
    "duration": 31,
    "start_time": "2021-09-06T12:35:54.486Z"
   },
   {
    "duration": 22,
    "start_time": "2021-09-06T12:36:05.352Z"
   },
   {
    "duration": 29,
    "start_time": "2021-09-06T12:36:07.740Z"
   },
   {
    "duration": 657,
    "start_time": "2021-09-06T12:36:09.586Z"
   },
   {
    "duration": 437,
    "start_time": "2021-09-06T12:36:10.499Z"
   },
   {
    "duration": 20634,
    "start_time": "2021-09-06T12:39:00.149Z"
   },
   {
    "duration": 13,
    "start_time": "2021-09-06T12:39:20.870Z"
   },
   {
    "duration": 281,
    "start_time": "2021-09-06T12:39:20.887Z"
   },
   {
    "duration": 24297,
    "start_time": "2021-09-06T12:39:23.298Z"
   },
   {
    "duration": 79,
    "start_time": "2021-09-06T12:39:47.599Z"
   },
   {
    "duration": 286,
    "start_time": "2021-09-06T12:39:47.684Z"
   },
   {
    "duration": 23630,
    "start_time": "2021-09-06T12:43:14.963Z"
   },
   {
    "duration": 7,
    "start_time": "2021-09-06T12:43:38.670Z"
   },
   {
    "duration": 210,
    "start_time": "2021-09-06T12:43:38.681Z"
   },
   {
    "duration": 891,
    "start_time": "2021-09-06T12:55:35.004Z"
   },
   {
    "duration": 448,
    "start_time": "2021-09-06T12:55:35.449Z"
   },
   {
    "duration": 352,
    "start_time": "2021-09-06T12:55:36.295Z"
   },
   {
    "duration": 602,
    "start_time": "2021-09-06T12:59:17.539Z"
   },
   {
    "duration": 1174,
    "start_time": "2021-09-06T12:59:31.274Z"
   },
   {
    "duration": 111453,
    "start_time": "2021-09-06T13:01:35.795Z"
   },
   {
    "duration": 3,
    "start_time": "2021-09-06T13:03:27.252Z"
   },
   {
    "duration": 675,
    "start_time": "2021-09-06T13:03:27.259Z"
   },
   {
    "duration": 177519,
    "start_time": "2021-09-06T13:03:27.937Z"
   },
   {
    "duration": 9,
    "start_time": "2021-09-06T13:06:25.459Z"
   },
   {
    "duration": 1485,
    "start_time": "2021-09-06T13:06:25.471Z"
   },
   {
    "duration": 332,
    "start_time": "2021-09-06T13:58:10.617Z"
   },
   {
    "duration": 308,
    "start_time": "2021-09-06T13:58:33.592Z"
   },
   {
    "duration": 419,
    "start_time": "2021-09-06T13:58:53.230Z"
   },
   {
    "duration": 56,
    "start_time": "2021-09-06T13:59:02.630Z"
   },
   {
    "duration": 337,
    "start_time": "2021-09-06T13:59:07.374Z"
   },
   {
    "duration": 334,
    "start_time": "2021-09-06T13:59:58.410Z"
   },
   {
    "duration": 421,
    "start_time": "2021-09-06T14:00:03.431Z"
   },
   {
    "duration": 38,
    "start_time": "2021-09-06T14:00:10.420Z"
   },
   {
    "duration": 371,
    "start_time": "2021-09-06T14:00:13.923Z"
   },
   {
    "duration": 17,
    "start_time": "2021-09-06T14:00:27.354Z"
   },
   {
    "duration": 19,
    "start_time": "2021-09-06T14:01:02.972Z"
   },
   {
    "duration": 1986,
    "start_time": "2021-09-06T19:10:44.603Z"
   },
   {
    "duration": 5,
    "start_time": "2021-09-06T19:10:46.591Z"
   },
   {
    "duration": 61,
    "start_time": "2021-09-06T19:10:46.599Z"
   },
   {
    "duration": 104,
    "start_time": "2021-09-06T19:10:46.663Z"
   },
   {
    "duration": 9,
    "start_time": "2021-09-06T19:10:46.769Z"
   },
   {
    "duration": 10,
    "start_time": "2021-09-06T19:10:46.780Z"
   },
   {
    "duration": 1220,
    "start_time": "2021-09-06T19:10:46.792Z"
   },
   {
    "duration": 23175,
    "start_time": "2021-09-06T19:10:48.021Z"
   },
   {
    "duration": 50,
    "start_time": "2021-09-06T19:11:11.199Z"
   },
   {
    "duration": 427,
    "start_time": "2021-09-06T19:11:11.252Z"
   },
   {
    "duration": 9964,
    "start_time": "2021-09-06T19:11:11.682Z"
   },
   {
    "duration": 7,
    "start_time": "2021-09-06T19:11:21.648Z"
   },
   {
    "duration": 9,
    "start_time": "2021-09-06T19:11:21.657Z"
   },
   {
    "duration": 5,
    "start_time": "2021-09-06T19:11:21.669Z"
   },
   {
    "duration": 8,
    "start_time": "2021-09-06T19:11:21.677Z"
   },
   {
    "duration": 9,
    "start_time": "2021-09-06T19:11:21.716Z"
   },
   {
    "duration": 35,
    "start_time": "2021-09-06T19:11:21.728Z"
   },
   {
    "duration": 1222,
    "start_time": "2021-09-06T19:11:21.765Z"
   },
   {
    "duration": 92755,
    "start_time": "2021-09-06T19:11:22.989Z"
   },
   {
    "duration": 5,
    "start_time": "2021-09-06T19:12:55.747Z"
   },
   {
    "duration": 34,
    "start_time": "2021-09-06T19:12:55.754Z"
   },
   {
    "duration": 122347,
    "start_time": "2021-09-06T19:12:55.791Z"
   },
   {
    "duration": 5,
    "start_time": "2021-09-06T19:14:58.146Z"
   },
   {
    "duration": 76,
    "start_time": "2021-09-06T19:14:58.155Z"
   },
   {
    "duration": 21,
    "start_time": "2021-09-06T19:14:58.234Z"
   },
   {
    "duration": 21262,
    "start_time": "2021-09-06T19:14:58.258Z"
   },
   {
    "duration": 88199,
    "start_time": "2021-09-06T19:15:19.523Z"
   },
   {
    "duration": 5,
    "start_time": "2021-09-06T19:16:47.725Z"
   },
   {
    "duration": 683,
    "start_time": "2021-09-06T19:16:47.733Z"
   },
   {
    "duration": 158673,
    "start_time": "2021-09-06T19:16:48.419Z"
   },
   {
    "duration": 4,
    "start_time": "2021-09-06T19:19:27.095Z"
   },
   {
    "duration": 1083,
    "start_time": "2021-09-06T19:19:27.101Z"
   },
   {
    "duration": 8256,
    "start_time": "2021-09-06T19:19:28.187Z"
   },
   {
    "duration": 103,
    "start_time": "2021-09-06T19:19:36.519Z"
   },
   {
    "duration": 22,
    "start_time": "2021-09-06T19:19:36.628Z"
   },
   {
    "duration": 17590,
    "start_time": "2021-09-06T19:19:36.653Z"
   },
   {
    "duration": 72,
    "start_time": "2021-09-06T19:19:54.245Z"
   },
   {
    "duration": 197,
    "start_time": "2021-09-06T19:19:54.321Z"
   },
   {
    "duration": 19617,
    "start_time": "2021-09-06T19:19:54.522Z"
   },
   {
    "duration": 12,
    "start_time": "2021-09-06T19:20:14.218Z"
   },
   {
    "duration": 190,
    "start_time": "2021-09-06T19:20:14.236Z"
   },
   {
    "duration": 103663,
    "start_time": "2021-09-06T19:20:14.432Z"
   },
   {
    "duration": 4,
    "start_time": "2021-09-06T19:21:58.097Z"
   },
   {
    "duration": 687,
    "start_time": "2021-09-06T19:21:58.103Z"
   },
   {
    "duration": 170291,
    "start_time": "2021-09-06T19:21:58.792Z"
   },
   {
    "duration": 5,
    "start_time": "2021-09-06T19:24:49.085Z"
   },
   {
    "duration": 1438,
    "start_time": "2021-09-06T19:24:49.094Z"
   },
   {
    "duration": 9,
    "start_time": "2021-09-06T19:29:52.773Z"
   },
   {
    "duration": 10,
    "start_time": "2021-09-06T19:29:52.785Z"
   },
   {
    "duration": 71,
    "start_time": "2021-09-06T19:29:52.799Z"
   },
   {
    "duration": 112,
    "start_time": "2021-09-06T19:29:52.873Z"
   },
   {
    "duration": 11,
    "start_time": "2021-09-06T19:29:53.016Z"
   },
   {
    "duration": 10,
    "start_time": "2021-09-06T19:29:53.030Z"
   },
   {
    "duration": 1165,
    "start_time": "2021-09-06T19:29:53.042Z"
   },
   {
    "duration": 21467,
    "start_time": "2021-09-06T19:29:54.217Z"
   },
   {
    "duration": 52,
    "start_time": "2021-09-06T19:30:15.686Z"
   },
   {
    "duration": 291,
    "start_time": "2021-09-06T19:30:15.742Z"
   },
   {
    "duration": 10542,
    "start_time": "2021-09-06T19:30:16.036Z"
   },
   {
    "duration": 6,
    "start_time": "2021-09-06T19:30:26.581Z"
   },
   {
    "duration": 28,
    "start_time": "2021-09-06T19:30:26.589Z"
   },
   {
    "duration": 8,
    "start_time": "2021-09-06T19:30:26.619Z"
   },
   {
    "duration": 9,
    "start_time": "2021-09-06T19:30:26.629Z"
   },
   {
    "duration": 14,
    "start_time": "2021-09-06T19:30:26.641Z"
   },
   {
    "duration": 65,
    "start_time": "2021-09-06T19:30:26.657Z"
   },
   {
    "duration": 863,
    "start_time": "2021-09-06T19:30:26.725Z"
   },
   {
    "duration": 85445,
    "start_time": "2021-09-06T19:30:27.590Z"
   },
   {
    "duration": 4,
    "start_time": "2021-09-06T19:31:53.038Z"
   },
   {
    "duration": 36,
    "start_time": "2021-09-06T19:31:53.044Z"
   },
   {
    "duration": 106743,
    "start_time": "2021-09-06T19:31:53.083Z"
   },
   {
    "duration": 5,
    "start_time": "2021-09-06T19:33:39.828Z"
   },
   {
    "duration": 50,
    "start_time": "2021-09-06T19:33:39.835Z"
   },
   {
    "duration": 22,
    "start_time": "2021-09-06T19:33:39.918Z"
   },
   {
    "duration": 18899,
    "start_time": "2021-09-06T19:33:39.944Z"
   },
   {
    "duration": 87065,
    "start_time": "2021-09-06T19:33:58.846Z"
   },
   {
    "duration": 5,
    "start_time": "2021-09-06T19:35:25.913Z"
   },
   {
    "duration": 696,
    "start_time": "2021-09-06T19:35:25.920Z"
   },
   {
    "duration": 152988,
    "start_time": "2021-09-06T19:35:26.619Z"
   },
   {
    "duration": 6,
    "start_time": "2021-09-06T19:37:59.610Z"
   },
   {
    "duration": 998,
    "start_time": "2021-09-06T19:37:59.618Z"
   },
   {
    "duration": 10000,
    "start_time": "2021-09-06T19:38:00.618Z"
   },
   {
    "duration": 95,
    "start_time": "2021-09-06T19:38:10.622Z"
   },
   {
    "duration": 35,
    "start_time": "2021-09-06T19:38:10.719Z"
   },
   {
    "duration": 23976,
    "start_time": "2021-09-06T19:38:10.756Z"
   },
   {
    "duration": 10,
    "start_time": "2021-09-06T19:38:34.818Z"
   },
   {
    "duration": 112,
    "start_time": "2021-09-06T19:38:34.916Z"
   },
   {
    "duration": 21313,
    "start_time": "2021-09-06T19:38:35.031Z"
   },
   {
    "duration": 13,
    "start_time": "2021-09-06T19:38:56.421Z"
   },
   {
    "duration": 184,
    "start_time": "2021-09-06T19:38:56.438Z"
   },
   {
    "duration": 102002,
    "start_time": "2021-09-06T19:38:56.628Z"
   },
   {
    "duration": 4,
    "start_time": "2021-09-06T19:40:38.632Z"
   },
   {
    "duration": 649,
    "start_time": "2021-09-06T19:40:38.638Z"
   },
   {
    "duration": 173307,
    "start_time": "2021-09-06T19:40:39.289Z"
   },
   {
    "duration": 5,
    "start_time": "2021-09-06T19:43:32.599Z"
   },
   {
    "duration": 1496,
    "start_time": "2021-09-06T19:43:32.615Z"
   },
   {
    "duration": 15,
    "start_time": "2021-09-06T19:44:16.560Z"
   },
   {
    "duration": 16,
    "start_time": "2021-09-06T19:44:34.884Z"
   },
   {
    "duration": 571,
    "start_time": "2021-09-06T19:44:41.521Z"
   },
   {
    "duration": 17,
    "start_time": "2021-09-06T19:44:57.306Z"
   },
   {
    "duration": 424,
    "start_time": "2021-09-06T19:47:50.562Z"
   },
   {
    "duration": 15,
    "start_time": "2021-09-06T19:47:58.660Z"
   },
   {
    "duration": 947,
    "start_time": "2021-09-06T19:50:56.094Z"
   },
   {
    "duration": 786,
    "start_time": "2021-09-06T19:51:21.901Z"
   },
   {
    "duration": 22736,
    "start_time": "2021-09-06T20:00:32.143Z"
   },
   {
    "duration": 1577,
    "start_time": "2021-09-07T07:22:10.911Z"
   },
   {
    "duration": 4,
    "start_time": "2021-09-07T07:22:12.491Z"
   },
   {
    "duration": 76,
    "start_time": "2021-09-07T07:22:12.498Z"
   },
   {
    "duration": 99,
    "start_time": "2021-09-07T07:22:12.577Z"
   },
   {
    "duration": 9,
    "start_time": "2021-09-07T07:22:12.678Z"
   },
   {
    "duration": 12,
    "start_time": "2021-09-07T07:22:12.689Z"
   },
   {
    "duration": 1130,
    "start_time": "2021-09-07T07:22:12.703Z"
   },
   {
    "duration": 20318,
    "start_time": "2021-09-07T07:22:13.838Z"
   },
   {
    "duration": 40,
    "start_time": "2021-09-07T07:22:34.159Z"
   },
   {
    "duration": 308,
    "start_time": "2021-09-07T07:22:34.201Z"
   },
   {
    "duration": 9911,
    "start_time": "2021-09-07T07:22:34.511Z"
   },
   {
    "duration": 6,
    "start_time": "2021-09-07T07:22:44.425Z"
   },
   {
    "duration": 22,
    "start_time": "2021-09-07T07:22:44.434Z"
   },
   {
    "duration": 10,
    "start_time": "2021-09-07T07:22:44.459Z"
   },
   {
    "duration": 20,
    "start_time": "2021-09-07T07:22:44.471Z"
   },
   {
    "duration": 23,
    "start_time": "2021-09-07T07:22:44.493Z"
   },
   {
    "duration": 52,
    "start_time": "2021-09-07T07:22:44.518Z"
   },
   {
    "duration": 809,
    "start_time": "2021-09-07T07:22:44.573Z"
   },
   {
    "duration": 79474,
    "start_time": "2021-09-07T07:22:45.384Z"
   },
   {
    "duration": 5,
    "start_time": "2021-09-07T07:24:04.861Z"
   },
   {
    "duration": 32,
    "start_time": "2021-09-07T07:24:04.869Z"
   },
   {
    "duration": 98186,
    "start_time": "2021-09-07T07:24:04.904Z"
   },
   {
    "duration": 4,
    "start_time": "2021-09-07T07:25:43.096Z"
   },
   {
    "duration": 58,
    "start_time": "2021-09-07T07:25:43.103Z"
   },
   {
    "duration": 16,
    "start_time": "2021-09-07T07:25:43.164Z"
   },
   {
    "duration": 17816,
    "start_time": "2021-09-07T07:25:43.183Z"
   },
   {
    "duration": 84161,
    "start_time": "2021-09-07T07:26:01.001Z"
   },
   {
    "duration": 4,
    "start_time": "2021-09-07T07:27:25.164Z"
   },
   {
    "duration": 687,
    "start_time": "2021-09-07T07:27:25.170Z"
   },
   {
    "duration": 145785,
    "start_time": "2021-09-07T07:27:25.859Z"
   },
   {
    "duration": 8,
    "start_time": "2021-09-07T07:29:51.647Z"
   },
   {
    "duration": 933,
    "start_time": "2021-09-07T07:29:51.657Z"
   },
   {
    "duration": 14,
    "start_time": "2021-09-07T07:29:52.593Z"
   },
   {
    "duration": 10150,
    "start_time": "2021-09-07T07:29:52.609Z"
   },
   {
    "duration": 100,
    "start_time": "2021-09-07T07:30:02.762Z"
   },
   {
    "duration": 35,
    "start_time": "2021-09-07T07:30:02.865Z"
   },
   {
    "duration": 19853,
    "start_time": "2021-09-07T07:30:02.902Z"
   },
   {
    "duration": 4,
    "start_time": "2021-09-07T07:30:22.759Z"
   },
   {
    "duration": 199,
    "start_time": "2021-09-07T07:30:22.856Z"
   },
   {
    "duration": 20498,
    "start_time": "2021-09-07T07:30:23.057Z"
   },
   {
    "duration": 95,
    "start_time": "2021-09-07T07:30:43.559Z"
   },
   {
    "duration": 101,
    "start_time": "2021-09-07T07:30:43.657Z"
   },
   {
    "duration": 102,
    "start_time": "2021-09-07T07:30:43.762Z"
   },
   {
    "duration": 95341,
    "start_time": "2021-09-07T07:30:43.866Z"
   },
   {
    "duration": 4,
    "start_time": "2021-09-07T07:32:19.209Z"
   },
   {
    "duration": 620,
    "start_time": "2021-09-07T07:32:19.216Z"
   },
   {
    "duration": 160418,
    "start_time": "2021-09-07T07:32:19.839Z"
   },
   {
    "duration": 3,
    "start_time": "2021-09-07T07:35:00.260Z"
   },
   {
    "duration": 1458,
    "start_time": "2021-09-07T07:35:00.266Z"
   },
   {
    "duration": 17,
    "start_time": "2021-09-07T07:35:01.727Z"
   },
   {
    "duration": 36,
    "start_time": "2021-09-07T07:35:01.753Z"
   },
   {
    "duration": 856,
    "start_time": "2021-09-07T07:35:01.792Z"
   },
   {
    "duration": 849,
    "start_time": "2021-09-07T07:35:02.650Z"
   },
   {
    "duration": 22487,
    "start_time": "2021-09-07T07:35:03.501Z"
   }
  ],
  "kernelspec": {
   "display_name": "Python 3",
   "language": "python",
   "name": "python3"
  },
  "language_info": {
   "codemirror_mode": {
    "name": "ipython",
    "version": 3
   },
   "file_extension": ".py",
   "mimetype": "text/x-python",
   "name": "python",
   "nbconvert_exporter": "python",
   "pygments_lexer": "ipython3",
   "version": "3.7.8"
  },
  "toc": {
   "base_numbering": 1,
   "nav_menu": {},
   "number_sections": true,
   "sideBar": true,
   "skip_h1_title": true,
   "title_cell": "Содержание",
   "title_sidebar": "Contents",
   "toc_cell": true,
   "toc_position": {
    "height": "577px",
    "left": "21px",
    "top": "110px",
    "width": "302.391px"
   },
   "toc_section_display": true,
   "toc_window_display": true
  }
 },
 "nbformat": 4,
 "nbformat_minor": 2
}
