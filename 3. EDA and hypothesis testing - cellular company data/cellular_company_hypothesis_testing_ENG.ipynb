{
 "cells": [
  {
   "cell_type": "markdown",
   "metadata": {
    "toc": true
   },
   "source": [
    "<h1>Table of contents<span class=\"tocSkip\"></span></h1>\n",
    "<div class=\"toc\"><ul class=\"toc-item\"><li><span><a href=\"#Data-loading-and-inspection\" data-toc-modified-id=\"Data-loading-and-inspection-1\"><span class=\"toc-item-num\">1&nbsp;&nbsp;</span>Data loading and inspection</a></span><ul class=\"toc-item\"><li><span><a href=\"#Data-file-loading\" data-toc-modified-id=\"Data-file-loading-1.1\"><span class=\"toc-item-num\">1.1&nbsp;&nbsp;</span>Data file loading</a></span></li><li><span><a href=\"#Conclusion\" data-toc-modified-id=\"Conclusion-1.2\"><span class=\"toc-item-num\">1.2&nbsp;&nbsp;</span>Conclusion</a></span></li></ul></li><li><span><a href=\"#Data-preparation-and-processing\" data-toc-modified-id=\"Data-preparation-and-processing-2\"><span class=\"toc-item-num\">2&nbsp;&nbsp;</span>Data preparation and processing</a></span><ul class=\"toc-item\"><li><span><a href=\"#Duplicates-handling\" data-toc-modified-id=\"Duplicates-handling-2.1\"><span class=\"toc-item-num\">2.1&nbsp;&nbsp;</span>Duplicates handling</a></span></li><li><span><a href=\"#Missing-values-and-data-errors-handling\" data-toc-modified-id=\"Missing-values-and-data-errors-handling-2.2\"><span class=\"toc-item-num\">2.2&nbsp;&nbsp;</span>Missing values and data errors handling</a></span></li><li><span><a href=\"#Data-types-convertion\" data-toc-modified-id=\"Data-types-convertion-2.3\"><span class=\"toc-item-num\">2.3&nbsp;&nbsp;</span>Data types convertion</a></span></li><li><span><a href=\"#New-features-calculation\" data-toc-modified-id=\"New-features-calculation-2.4\"><span class=\"toc-item-num\">2.4&nbsp;&nbsp;</span>New features calculation</a></span></li><li><span><a href=\"#Conclusion\" data-toc-modified-id=\"Conclusion-2.5\"><span class=\"toc-item-num\">2.5&nbsp;&nbsp;</span>Conclusion</a></span></li></ul></li><li><span><a href=\"#Exploratory-data-analysis\" data-toc-modified-id=\"Exploratory-data-analysis-3\"><span class=\"toc-item-num\">3&nbsp;&nbsp;</span>Exploratory data analysis</a></span><ul class=\"toc-item\"><li><span><a href=\"#User's-behavior-analysis\" data-toc-modified-id=\"User's-behavior-analysis-3.1\"><span class=\"toc-item-num\">3.1&nbsp;&nbsp;</span>User's behavior analysis</a></span></li><li><span><a href=\"#Conclusion\" data-toc-modified-id=\"Conclusion-3.2\"><span class=\"toc-item-num\">3.2&nbsp;&nbsp;</span>Conclusion</a></span></li></ul></li><li><span><a href=\"#Hypothesis-testing\" data-toc-modified-id=\"Hypothesis-testing-4\"><span class=\"toc-item-num\">4&nbsp;&nbsp;</span>Hypothesis testing</a></span><ul class=\"toc-item\"><li><span><a href=\"#Conclusion\" data-toc-modified-id=\"Conclusion-4.1\"><span class=\"toc-item-num\">4.1&nbsp;&nbsp;</span>Conclusion</a></span></li></ul></li><li><span><a href=\"#Final-conclusion\" data-toc-modified-id=\"Final-conclusion-5\"><span class=\"toc-item-num\">5&nbsp;&nbsp;</span>Final conclusion</a></span></li></ul></div>"
   ]
  },
  {
   "cell_type": "markdown",
   "metadata": {},
   "source": [
    "# Assessment of the most profitable tariff plan for cellular company"
   ]
  },
  {
   "cell_type": "markdown",
   "metadata": {},
   "source": [
    "There is the dataset containing data about two tariff plans of cellular company including cellular data, data on SMS and web traffic data.\n",
    "\n",
    "**Goal**: Assess and define the most profitable tariff plan in terms of revenue and which one should have bigger advertising dollars.\n",
    "\n",
    "Data analysis will be done based on sample of clients from 2018 containing 500 users of the company and their data regarding how much data in different communication types (cellular, messages, web) they spend;"
   ]
  },
  {
   "cell_type": "markdown",
   "metadata": {},
   "source": [
    "# Data description"
   ]
  },
  {
   "cell_type": "markdown",
   "metadata": {},
   "source": [
    "1. Table users (information about users):\n",
    "    - user_id — user id\n",
    "    - first_name — user first name\n",
    "    - last_name — user last name\n",
    "    - age — age in years\n",
    "    - reg_date — date of registration\n",
    "    - churn_date — date of churn (if contains missing value then user used the plan on the moment of data collection)\n",
    "    - city — user city\n",
    "    - tariff — user plan\n",
    "2. Table calls (data about calls):\n",
    "    - id — call id\n",
    "    - call_date — call date\n",
    "    - duration — call duration in minutes\n",
    "    - user_id — user id\n",
    "3. Table messages (data about messages):\n",
    "    - id — message id\n",
    "    - message_date — message date\n",
    "    - user_id — user id\n",
    "4. Table internet (data about web sessions):\n",
    "    - id — session id\n",
    "    - mb_used — web traffic used in mb\n",
    "    - session_date — session date\n",
    "    - user_id — user id\n",
    "5. Table tariffs (information about plans):\n",
    "    - tariff_name — plan name\n",
    "    - rub_monthly_fee — monthly subscription fee\n",
    "    - minutes_included — free minutes included in the plan\n",
    "    - messages_included — free messgaes included in the plan\n",
    "    - mb_per_month_included — free web traffic amount included in the plan\n",
    "    - rub_per_minute — price of a minute above free plan in rubles (for example, if plan has 100 free minutes and user spent 101 minutes then user will pay addition fee above the plan)\n",
    "    - rub_per_message — price of a message above free plan in rubles\n",
    "    - rub_per_gb — price of a gb above free plan in rubles (1 gb = 1024 mb)\n",
    "\n",
    "\n",
    "\n",
    "*Comments on tariff plans*:\n",
    "\n",
    "The cellular company rounds seconds to minutes and mb to gb:\n",
    "   - each call is rounded separately: even if it lasted 1 second it will be paid as per 1 minute;\n",
    "   - for web traffic **single sessions are not counted**: instead total monthly amount of web traffic is rounded ahead - if user spent 1025 mb then it will be paid as per 2 gb;"
   ]
  },
  {
   "cell_type": "markdown",
   "metadata": {},
   "source": [
    "## Data loading and inspection"
   ]
  },
  {
   "cell_type": "markdown",
   "metadata": {},
   "source": [
    "### Data file loading"
   ]
  },
  {
   "cell_type": "code",
   "execution_count": 1,
   "metadata": {},
   "outputs": [
    {
     "name": "stdout",
     "output_type": "stream",
     "text": [
      "Table name: users\n"
     ]
    },
    {
     "data": {
      "text/html": [
       "<div>\n",
       "<style scoped>\n",
       "    .dataframe tbody tr th:only-of-type {\n",
       "        vertical-align: middle;\n",
       "    }\n",
       "\n",
       "    .dataframe tbody tr th {\n",
       "        vertical-align: top;\n",
       "    }\n",
       "\n",
       "    .dataframe thead th {\n",
       "        text-align: right;\n",
       "    }\n",
       "</style>\n",
       "<table border=\"1\" class=\"dataframe\">\n",
       "  <thead>\n",
       "    <tr style=\"text-align: right;\">\n",
       "      <th></th>\n",
       "      <th>user_id</th>\n",
       "      <th>age</th>\n",
       "      <th>churn_date</th>\n",
       "      <th>city</th>\n",
       "      <th>first_name</th>\n",
       "      <th>last_name</th>\n",
       "      <th>reg_date</th>\n",
       "      <th>tariff</th>\n",
       "    </tr>\n",
       "  </thead>\n",
       "  <tbody>\n",
       "    <tr>\n",
       "      <td>0</td>\n",
       "      <td>1000</td>\n",
       "      <td>52</td>\n",
       "      <td>NaN</td>\n",
       "      <td>Краснодар</td>\n",
       "      <td>Рафаил</td>\n",
       "      <td>Верещагин</td>\n",
       "      <td>2018-05-25</td>\n",
       "      <td>ultra</td>\n",
       "    </tr>\n",
       "    <tr>\n",
       "      <td>1</td>\n",
       "      <td>1001</td>\n",
       "      <td>41</td>\n",
       "      <td>NaN</td>\n",
       "      <td>Москва</td>\n",
       "      <td>Иван</td>\n",
       "      <td>Ежов</td>\n",
       "      <td>2018-11-01</td>\n",
       "      <td>smart</td>\n",
       "    </tr>\n",
       "    <tr>\n",
       "      <td>2</td>\n",
       "      <td>1002</td>\n",
       "      <td>59</td>\n",
       "      <td>NaN</td>\n",
       "      <td>Стерлитамак</td>\n",
       "      <td>Евгений</td>\n",
       "      <td>Абрамович</td>\n",
       "      <td>2018-06-17</td>\n",
       "      <td>smart</td>\n",
       "    </tr>\n",
       "    <tr>\n",
       "      <td>3</td>\n",
       "      <td>1003</td>\n",
       "      <td>23</td>\n",
       "      <td>NaN</td>\n",
       "      <td>Москва</td>\n",
       "      <td>Белла</td>\n",
       "      <td>Белякова</td>\n",
       "      <td>2018-08-17</td>\n",
       "      <td>ultra</td>\n",
       "    </tr>\n",
       "    <tr>\n",
       "      <td>4</td>\n",
       "      <td>1004</td>\n",
       "      <td>68</td>\n",
       "      <td>NaN</td>\n",
       "      <td>Новокузнецк</td>\n",
       "      <td>Татьяна</td>\n",
       "      <td>Авдеенко</td>\n",
       "      <td>2018-05-14</td>\n",
       "      <td>ultra</td>\n",
       "    </tr>\n",
       "  </tbody>\n",
       "</table>\n",
       "</div>"
      ],
      "text/plain": [
       "   user_id  age churn_date         city first_name  last_name    reg_date  \\\n",
       "0     1000   52        NaN    Краснодар     Рафаил  Верещагин  2018-05-25   \n",
       "1     1001   41        NaN       Москва       Иван       Ежов  2018-11-01   \n",
       "2     1002   59        NaN  Стерлитамак    Евгений  Абрамович  2018-06-17   \n",
       "3     1003   23        NaN       Москва      Белла   Белякова  2018-08-17   \n",
       "4     1004   68        NaN  Новокузнецк    Татьяна   Авдеенко  2018-05-14   \n",
       "\n",
       "  tariff  \n",
       "0  ultra  \n",
       "1  smart  \n",
       "2  smart  \n",
       "3  ultra  \n",
       "4  ultra  "
      ]
     },
     "metadata": {},
     "output_type": "display_data"
    },
    {
     "name": "stdout",
     "output_type": "stream",
     "text": [
      "Table name: calls\n"
     ]
    },
    {
     "data": {
      "text/html": [
       "<div>\n",
       "<style scoped>\n",
       "    .dataframe tbody tr th:only-of-type {\n",
       "        vertical-align: middle;\n",
       "    }\n",
       "\n",
       "    .dataframe tbody tr th {\n",
       "        vertical-align: top;\n",
       "    }\n",
       "\n",
       "    .dataframe thead th {\n",
       "        text-align: right;\n",
       "    }\n",
       "</style>\n",
       "<table border=\"1\" class=\"dataframe\">\n",
       "  <thead>\n",
       "    <tr style=\"text-align: right;\">\n",
       "      <th></th>\n",
       "      <th>id</th>\n",
       "      <th>call_date</th>\n",
       "      <th>duration</th>\n",
       "      <th>user_id</th>\n",
       "    </tr>\n",
       "  </thead>\n",
       "  <tbody>\n",
       "    <tr>\n",
       "      <td>0</td>\n",
       "      <td>1000_0</td>\n",
       "      <td>2018-07-25</td>\n",
       "      <td>0.00</td>\n",
       "      <td>1000</td>\n",
       "    </tr>\n",
       "    <tr>\n",
       "      <td>1</td>\n",
       "      <td>1000_1</td>\n",
       "      <td>2018-08-17</td>\n",
       "      <td>0.00</td>\n",
       "      <td>1000</td>\n",
       "    </tr>\n",
       "    <tr>\n",
       "      <td>2</td>\n",
       "      <td>1000_2</td>\n",
       "      <td>2018-06-11</td>\n",
       "      <td>2.85</td>\n",
       "      <td>1000</td>\n",
       "    </tr>\n",
       "    <tr>\n",
       "      <td>3</td>\n",
       "      <td>1000_3</td>\n",
       "      <td>2018-09-21</td>\n",
       "      <td>13.80</td>\n",
       "      <td>1000</td>\n",
       "    </tr>\n",
       "    <tr>\n",
       "      <td>4</td>\n",
       "      <td>1000_4</td>\n",
       "      <td>2018-12-15</td>\n",
       "      <td>5.18</td>\n",
       "      <td>1000</td>\n",
       "    </tr>\n",
       "  </tbody>\n",
       "</table>\n",
       "</div>"
      ],
      "text/plain": [
       "       id   call_date  duration  user_id\n",
       "0  1000_0  2018-07-25      0.00     1000\n",
       "1  1000_1  2018-08-17      0.00     1000\n",
       "2  1000_2  2018-06-11      2.85     1000\n",
       "3  1000_3  2018-09-21     13.80     1000\n",
       "4  1000_4  2018-12-15      5.18     1000"
      ]
     },
     "metadata": {},
     "output_type": "display_data"
    },
    {
     "name": "stdout",
     "output_type": "stream",
     "text": [
      "Table name: messages\n"
     ]
    },
    {
     "data": {
      "text/html": [
       "<div>\n",
       "<style scoped>\n",
       "    .dataframe tbody tr th:only-of-type {\n",
       "        vertical-align: middle;\n",
       "    }\n",
       "\n",
       "    .dataframe tbody tr th {\n",
       "        vertical-align: top;\n",
       "    }\n",
       "\n",
       "    .dataframe thead th {\n",
       "        text-align: right;\n",
       "    }\n",
       "</style>\n",
       "<table border=\"1\" class=\"dataframe\">\n",
       "  <thead>\n",
       "    <tr style=\"text-align: right;\">\n",
       "      <th></th>\n",
       "      <th>id</th>\n",
       "      <th>message_date</th>\n",
       "      <th>user_id</th>\n",
       "    </tr>\n",
       "  </thead>\n",
       "  <tbody>\n",
       "    <tr>\n",
       "      <td>0</td>\n",
       "      <td>1000_0</td>\n",
       "      <td>2018-06-27</td>\n",
       "      <td>1000</td>\n",
       "    </tr>\n",
       "    <tr>\n",
       "      <td>1</td>\n",
       "      <td>1000_1</td>\n",
       "      <td>2018-10-08</td>\n",
       "      <td>1000</td>\n",
       "    </tr>\n",
       "    <tr>\n",
       "      <td>2</td>\n",
       "      <td>1000_2</td>\n",
       "      <td>2018-08-04</td>\n",
       "      <td>1000</td>\n",
       "    </tr>\n",
       "    <tr>\n",
       "      <td>3</td>\n",
       "      <td>1000_3</td>\n",
       "      <td>2018-06-16</td>\n",
       "      <td>1000</td>\n",
       "    </tr>\n",
       "    <tr>\n",
       "      <td>4</td>\n",
       "      <td>1000_4</td>\n",
       "      <td>2018-12-05</td>\n",
       "      <td>1000</td>\n",
       "    </tr>\n",
       "  </tbody>\n",
       "</table>\n",
       "</div>"
      ],
      "text/plain": [
       "       id message_date  user_id\n",
       "0  1000_0   2018-06-27     1000\n",
       "1  1000_1   2018-10-08     1000\n",
       "2  1000_2   2018-08-04     1000\n",
       "3  1000_3   2018-06-16     1000\n",
       "4  1000_4   2018-12-05     1000"
      ]
     },
     "metadata": {},
     "output_type": "display_data"
    },
    {
     "name": "stdout",
     "output_type": "stream",
     "text": [
      "Table name: internet\n"
     ]
    },
    {
     "data": {
      "text/html": [
       "<div>\n",
       "<style scoped>\n",
       "    .dataframe tbody tr th:only-of-type {\n",
       "        vertical-align: middle;\n",
       "    }\n",
       "\n",
       "    .dataframe tbody tr th {\n",
       "        vertical-align: top;\n",
       "    }\n",
       "\n",
       "    .dataframe thead th {\n",
       "        text-align: right;\n",
       "    }\n",
       "</style>\n",
       "<table border=\"1\" class=\"dataframe\">\n",
       "  <thead>\n",
       "    <tr style=\"text-align: right;\">\n",
       "      <th></th>\n",
       "      <th>Unnamed: 0</th>\n",
       "      <th>id</th>\n",
       "      <th>mb_used</th>\n",
       "      <th>session_date</th>\n",
       "      <th>user_id</th>\n",
       "    </tr>\n",
       "  </thead>\n",
       "  <tbody>\n",
       "    <tr>\n",
       "      <td>0</td>\n",
       "      <td>0</td>\n",
       "      <td>1000_0</td>\n",
       "      <td>112.95</td>\n",
       "      <td>2018-11-25</td>\n",
       "      <td>1000</td>\n",
       "    </tr>\n",
       "    <tr>\n",
       "      <td>1</td>\n",
       "      <td>1</td>\n",
       "      <td>1000_1</td>\n",
       "      <td>1052.81</td>\n",
       "      <td>2018-09-07</td>\n",
       "      <td>1000</td>\n",
       "    </tr>\n",
       "    <tr>\n",
       "      <td>2</td>\n",
       "      <td>2</td>\n",
       "      <td>1000_2</td>\n",
       "      <td>1197.26</td>\n",
       "      <td>2018-06-25</td>\n",
       "      <td>1000</td>\n",
       "    </tr>\n",
       "    <tr>\n",
       "      <td>3</td>\n",
       "      <td>3</td>\n",
       "      <td>1000_3</td>\n",
       "      <td>550.27</td>\n",
       "      <td>2018-08-22</td>\n",
       "      <td>1000</td>\n",
       "    </tr>\n",
       "    <tr>\n",
       "      <td>4</td>\n",
       "      <td>4</td>\n",
       "      <td>1000_4</td>\n",
       "      <td>302.56</td>\n",
       "      <td>2018-09-24</td>\n",
       "      <td>1000</td>\n",
       "    </tr>\n",
       "  </tbody>\n",
       "</table>\n",
       "</div>"
      ],
      "text/plain": [
       "   Unnamed: 0      id  mb_used session_date  user_id\n",
       "0           0  1000_0   112.95   2018-11-25     1000\n",
       "1           1  1000_1  1052.81   2018-09-07     1000\n",
       "2           2  1000_2  1197.26   2018-06-25     1000\n",
       "3           3  1000_3   550.27   2018-08-22     1000\n",
       "4           4  1000_4   302.56   2018-09-24     1000"
      ]
     },
     "metadata": {},
     "output_type": "display_data"
    },
    {
     "name": "stdout",
     "output_type": "stream",
     "text": [
      "Table name: tariffs\n"
     ]
    },
    {
     "data": {
      "text/html": [
       "<div>\n",
       "<style scoped>\n",
       "    .dataframe tbody tr th:only-of-type {\n",
       "        vertical-align: middle;\n",
       "    }\n",
       "\n",
       "    .dataframe tbody tr th {\n",
       "        vertical-align: top;\n",
       "    }\n",
       "\n",
       "    .dataframe thead th {\n",
       "        text-align: right;\n",
       "    }\n",
       "</style>\n",
       "<table border=\"1\" class=\"dataframe\">\n",
       "  <thead>\n",
       "    <tr style=\"text-align: right;\">\n",
       "      <th></th>\n",
       "      <th>messages_included</th>\n",
       "      <th>mb_per_month_included</th>\n",
       "      <th>minutes_included</th>\n",
       "      <th>rub_monthly_fee</th>\n",
       "      <th>rub_per_gb</th>\n",
       "      <th>rub_per_message</th>\n",
       "      <th>rub_per_minute</th>\n",
       "      <th>tariff_name</th>\n",
       "    </tr>\n",
       "  </thead>\n",
       "  <tbody>\n",
       "    <tr>\n",
       "      <td>0</td>\n",
       "      <td>50</td>\n",
       "      <td>15360</td>\n",
       "      <td>500</td>\n",
       "      <td>550</td>\n",
       "      <td>200</td>\n",
       "      <td>3</td>\n",
       "      <td>3</td>\n",
       "      <td>smart</td>\n",
       "    </tr>\n",
       "    <tr>\n",
       "      <td>1</td>\n",
       "      <td>1000</td>\n",
       "      <td>30720</td>\n",
       "      <td>3000</td>\n",
       "      <td>1950</td>\n",
       "      <td>150</td>\n",
       "      <td>1</td>\n",
       "      <td>1</td>\n",
       "      <td>ultra</td>\n",
       "    </tr>\n",
       "  </tbody>\n",
       "</table>\n",
       "</div>"
      ],
      "text/plain": [
       "   messages_included  mb_per_month_included  minutes_included  \\\n",
       "0                 50                  15360               500   \n",
       "1               1000                  30720              3000   \n",
       "\n",
       "   rub_monthly_fee  rub_per_gb  rub_per_message  rub_per_minute tariff_name  \n",
       "0              550         200                3               3       smart  \n",
       "1             1950         150                1               1       ultra  "
      ]
     },
     "metadata": {},
     "output_type": "display_data"
    }
   ],
   "source": [
    "import pandas as pd\n",
    "import numpy as np\n",
    "from scipy import stats as st\n",
    "import matplotlib.pyplot as plt\n",
    "import seaborn as sns\n",
    "import math as mt\n",
    "\n",
    "pd.set_option('display.max_colwidth', 100)\n",
    "pd.set_option('display.float_format', '{:.2f}'.format)\n",
    "\n",
    "try:\n",
    "    users = pd.read_csv('/datasets/users.csv')\n",
    "    calls = pd.read_csv('/datasets/calls.csv')\n",
    "    messages = pd.read_csv('/datasets/messages.csv')\n",
    "    internet = pd.read_csv('/datasets/internet.csv')\n",
    "    tariffs = pd.read_csv('/datasets/tariffs.csv')\n",
    "except:\n",
    "    users = pd.read_csv('C:/Jupyter_projects/YP/datasets/3/users.csv')\n",
    "    calls = pd.read_csv('C:/Jupyter_projects/YP/datasets/3/calls.csv')\n",
    "    messages = pd.read_csv('C:/Jupyter_projects/YP/datasets/3/messages.csv')\n",
    "    internet = pd.read_csv('C:/Jupyter_projects/YP/datasets/3/internet.csv')\n",
    "    tariffs = pd.read_csv('C:/Jupyter_projects/YP/datasets/3/tariffs.csv')\n",
    "    \n",
    "tables = [('users', users), ('calls', calls), ('messages', messages), ('internet', internet), ('tariffs', tariffs)]\n",
    "\n",
    "for df in tables:\n",
    "    print('Table name:', df[0])\n",
    "    display(df[1].head())"
   ]
  },
  {
   "cell_type": "markdown",
   "metadata": {},
   "source": [
    "- For each of all the tables show info;"
   ]
  },
  {
   "cell_type": "code",
   "execution_count": 2,
   "metadata": {},
   "outputs": [
    {
     "name": "stdout",
     "output_type": "stream",
     "text": [
      "Table name: users\n",
      "<class 'pandas.core.frame.DataFrame'>\n",
      "RangeIndex: 500 entries, 0 to 499\n",
      "Data columns (total 8 columns):\n",
      "user_id       500 non-null int64\n",
      "age           500 non-null int64\n",
      "churn_date    38 non-null object\n",
      "city          500 non-null object\n",
      "first_name    500 non-null object\n",
      "last_name     500 non-null object\n",
      "reg_date      500 non-null object\n",
      "tariff        500 non-null object\n",
      "dtypes: int64(2), object(6)\n",
      "memory usage: 31.4+ KB\n"
     ]
    },
    {
     "data": {
      "text/plain": [
       "None"
      ]
     },
     "metadata": {},
     "output_type": "display_data"
    },
    {
     "name": "stdout",
     "output_type": "stream",
     "text": [
      "Table name: calls\n",
      "<class 'pandas.core.frame.DataFrame'>\n",
      "RangeIndex: 202607 entries, 0 to 202606\n",
      "Data columns (total 4 columns):\n",
      "id           202607 non-null object\n",
      "call_date    202607 non-null object\n",
      "duration     202607 non-null float64\n",
      "user_id      202607 non-null int64\n",
      "dtypes: float64(1), int64(1), object(2)\n",
      "memory usage: 6.2+ MB\n"
     ]
    },
    {
     "data": {
      "text/plain": [
       "None"
      ]
     },
     "metadata": {},
     "output_type": "display_data"
    },
    {
     "name": "stdout",
     "output_type": "stream",
     "text": [
      "Table name: messages\n",
      "<class 'pandas.core.frame.DataFrame'>\n",
      "RangeIndex: 123036 entries, 0 to 123035\n",
      "Data columns (total 3 columns):\n",
      "id              123036 non-null object\n",
      "message_date    123036 non-null object\n",
      "user_id         123036 non-null int64\n",
      "dtypes: int64(1), object(2)\n",
      "memory usage: 2.8+ MB\n"
     ]
    },
    {
     "data": {
      "text/plain": [
       "None"
      ]
     },
     "metadata": {},
     "output_type": "display_data"
    },
    {
     "name": "stdout",
     "output_type": "stream",
     "text": [
      "Table name: internet\n",
      "<class 'pandas.core.frame.DataFrame'>\n",
      "RangeIndex: 149396 entries, 0 to 149395\n",
      "Data columns (total 5 columns):\n",
      "Unnamed: 0      149396 non-null int64\n",
      "id              149396 non-null object\n",
      "mb_used         149396 non-null float64\n",
      "session_date    149396 non-null object\n",
      "user_id         149396 non-null int64\n",
      "dtypes: float64(1), int64(2), object(2)\n",
      "memory usage: 5.7+ MB\n"
     ]
    },
    {
     "data": {
      "text/plain": [
       "None"
      ]
     },
     "metadata": {},
     "output_type": "display_data"
    },
    {
     "name": "stdout",
     "output_type": "stream",
     "text": [
      "Table name: tariffs\n",
      "<class 'pandas.core.frame.DataFrame'>\n",
      "RangeIndex: 2 entries, 0 to 1\n",
      "Data columns (total 8 columns):\n",
      "messages_included        2 non-null int64\n",
      "mb_per_month_included    2 non-null int64\n",
      "minutes_included         2 non-null int64\n",
      "rub_monthly_fee          2 non-null int64\n",
      "rub_per_gb               2 non-null int64\n",
      "rub_per_message          2 non-null int64\n",
      "rub_per_minute           2 non-null int64\n",
      "tariff_name              2 non-null object\n",
      "dtypes: int64(7), object(1)\n",
      "memory usage: 256.0+ bytes\n"
     ]
    },
    {
     "data": {
      "text/plain": [
       "None"
      ]
     },
     "metadata": {},
     "output_type": "display_data"
    }
   ],
   "source": [
    "for df in tables:\n",
    "    print('Table name:', df[0])\n",
    "    display(df[1].info())"
   ]
  },
  {
   "cell_type": "code",
   "execution_count": 3,
   "metadata": {},
   "outputs": [
    {
     "data": {
      "text/html": [
       "<div>\n",
       "<style scoped>\n",
       "    .dataframe tbody tr th:only-of-type {\n",
       "        vertical-align: middle;\n",
       "    }\n",
       "\n",
       "    .dataframe tbody tr th {\n",
       "        vertical-align: top;\n",
       "    }\n",
       "\n",
       "    .dataframe thead th {\n",
       "        text-align: right;\n",
       "    }\n",
       "</style>\n",
       "<table border=\"1\" class=\"dataframe\">\n",
       "  <thead>\n",
       "    <tr style=\"text-align: right;\">\n",
       "      <th></th>\n",
       "      <th>user_id</th>\n",
       "      <th>age</th>\n",
       "    </tr>\n",
       "  </thead>\n",
       "  <tbody>\n",
       "    <tr>\n",
       "      <td>count</td>\n",
       "      <td>500.00</td>\n",
       "      <td>500.00</td>\n",
       "    </tr>\n",
       "    <tr>\n",
       "      <td>mean</td>\n",
       "      <td>1249.50</td>\n",
       "      <td>46.59</td>\n",
       "    </tr>\n",
       "    <tr>\n",
       "      <td>std</td>\n",
       "      <td>144.48</td>\n",
       "      <td>16.67</td>\n",
       "    </tr>\n",
       "    <tr>\n",
       "      <td>min</td>\n",
       "      <td>1000.00</td>\n",
       "      <td>18.00</td>\n",
       "    </tr>\n",
       "    <tr>\n",
       "      <td>25%</td>\n",
       "      <td>1124.75</td>\n",
       "      <td>32.00</td>\n",
       "    </tr>\n",
       "    <tr>\n",
       "      <td>50%</td>\n",
       "      <td>1249.50</td>\n",
       "      <td>46.00</td>\n",
       "    </tr>\n",
       "    <tr>\n",
       "      <td>75%</td>\n",
       "      <td>1374.25</td>\n",
       "      <td>62.00</td>\n",
       "    </tr>\n",
       "    <tr>\n",
       "      <td>max</td>\n",
       "      <td>1499.00</td>\n",
       "      <td>75.00</td>\n",
       "    </tr>\n",
       "  </tbody>\n",
       "</table>\n",
       "</div>"
      ],
      "text/plain": [
       "       user_id    age\n",
       "count   500.00 500.00\n",
       "mean   1249.50  46.59\n",
       "std     144.48  16.67\n",
       "min    1000.00  18.00\n",
       "25%    1124.75  32.00\n",
       "50%    1249.50  46.00\n",
       "75%    1374.25  62.00\n",
       "max    1499.00  75.00"
      ]
     },
     "execution_count": 3,
     "metadata": {},
     "output_type": "execute_result"
    }
   ],
   "source": [
    "users.describe()"
   ]
  },
  {
   "cell_type": "code",
   "execution_count": 4,
   "metadata": {},
   "outputs": [
    {
     "data": {
      "text/html": [
       "<div>\n",
       "<style scoped>\n",
       "    .dataframe tbody tr th:only-of-type {\n",
       "        vertical-align: middle;\n",
       "    }\n",
       "\n",
       "    .dataframe tbody tr th {\n",
       "        vertical-align: top;\n",
       "    }\n",
       "\n",
       "    .dataframe thead th {\n",
       "        text-align: right;\n",
       "    }\n",
       "</style>\n",
       "<table border=\"1\" class=\"dataframe\">\n",
       "  <thead>\n",
       "    <tr style=\"text-align: right;\">\n",
       "      <th></th>\n",
       "      <th>duration</th>\n",
       "      <th>user_id</th>\n",
       "    </tr>\n",
       "  </thead>\n",
       "  <tbody>\n",
       "    <tr>\n",
       "      <td>count</td>\n",
       "      <td>202607.00</td>\n",
       "      <td>202607.00</td>\n",
       "    </tr>\n",
       "    <tr>\n",
       "      <td>mean</td>\n",
       "      <td>6.76</td>\n",
       "      <td>1253.94</td>\n",
       "    </tr>\n",
       "    <tr>\n",
       "      <td>std</td>\n",
       "      <td>5.84</td>\n",
       "      <td>144.72</td>\n",
       "    </tr>\n",
       "    <tr>\n",
       "      <td>min</td>\n",
       "      <td>0.00</td>\n",
       "      <td>1000.00</td>\n",
       "    </tr>\n",
       "    <tr>\n",
       "      <td>25%</td>\n",
       "      <td>1.30</td>\n",
       "      <td>1126.00</td>\n",
       "    </tr>\n",
       "    <tr>\n",
       "      <td>50%</td>\n",
       "      <td>6.00</td>\n",
       "      <td>1260.00</td>\n",
       "    </tr>\n",
       "    <tr>\n",
       "      <td>75%</td>\n",
       "      <td>10.70</td>\n",
       "      <td>1379.00</td>\n",
       "    </tr>\n",
       "    <tr>\n",
       "      <td>max</td>\n",
       "      <td>38.00</td>\n",
       "      <td>1499.00</td>\n",
       "    </tr>\n",
       "  </tbody>\n",
       "</table>\n",
       "</div>"
      ],
      "text/plain": [
       "       duration   user_id\n",
       "count 202607.00 202607.00\n",
       "mean       6.76   1253.94\n",
       "std        5.84    144.72\n",
       "min        0.00   1000.00\n",
       "25%        1.30   1126.00\n",
       "50%        6.00   1260.00\n",
       "75%       10.70   1379.00\n",
       "max       38.00   1499.00"
      ]
     },
     "execution_count": 4,
     "metadata": {},
     "output_type": "execute_result"
    }
   ],
   "source": [
    "calls.describe()"
   ]
  },
  {
   "cell_type": "code",
   "execution_count": 5,
   "metadata": {},
   "outputs": [
    {
     "data": {
      "text/html": [
       "<div>\n",
       "<style scoped>\n",
       "    .dataframe tbody tr th:only-of-type {\n",
       "        vertical-align: middle;\n",
       "    }\n",
       "\n",
       "    .dataframe tbody tr th {\n",
       "        vertical-align: top;\n",
       "    }\n",
       "\n",
       "    .dataframe thead th {\n",
       "        text-align: right;\n",
       "    }\n",
       "</style>\n",
       "<table border=\"1\" class=\"dataframe\">\n",
       "  <thead>\n",
       "    <tr style=\"text-align: right;\">\n",
       "      <th></th>\n",
       "      <th>Unnamed: 0</th>\n",
       "      <th>mb_used</th>\n",
       "      <th>user_id</th>\n",
       "    </tr>\n",
       "  </thead>\n",
       "  <tbody>\n",
       "    <tr>\n",
       "      <td>count</td>\n",
       "      <td>149396.00</td>\n",
       "      <td>149396.00</td>\n",
       "      <td>149396.00</td>\n",
       "    </tr>\n",
       "    <tr>\n",
       "      <td>mean</td>\n",
       "      <td>74697.50</td>\n",
       "      <td>370.19</td>\n",
       "      <td>1252.10</td>\n",
       "    </tr>\n",
       "    <tr>\n",
       "      <td>std</td>\n",
       "      <td>43127.05</td>\n",
       "      <td>278.30</td>\n",
       "      <td>144.05</td>\n",
       "    </tr>\n",
       "    <tr>\n",
       "      <td>min</td>\n",
       "      <td>0.00</td>\n",
       "      <td>0.00</td>\n",
       "      <td>1000.00</td>\n",
       "    </tr>\n",
       "    <tr>\n",
       "      <td>25%</td>\n",
       "      <td>37348.75</td>\n",
       "      <td>138.19</td>\n",
       "      <td>1130.00</td>\n",
       "    </tr>\n",
       "    <tr>\n",
       "      <td>50%</td>\n",
       "      <td>74697.50</td>\n",
       "      <td>348.01</td>\n",
       "      <td>1251.00</td>\n",
       "    </tr>\n",
       "    <tr>\n",
       "      <td>75%</td>\n",
       "      <td>112046.25</td>\n",
       "      <td>559.55</td>\n",
       "      <td>1380.00</td>\n",
       "    </tr>\n",
       "    <tr>\n",
       "      <td>max</td>\n",
       "      <td>149395.00</td>\n",
       "      <td>1724.83</td>\n",
       "      <td>1499.00</td>\n",
       "    </tr>\n",
       "  </tbody>\n",
       "</table>\n",
       "</div>"
      ],
      "text/plain": [
       "       Unnamed: 0   mb_used   user_id\n",
       "count   149396.00 149396.00 149396.00\n",
       "mean     74697.50    370.19   1252.10\n",
       "std      43127.05    278.30    144.05\n",
       "min          0.00      0.00   1000.00\n",
       "25%      37348.75    138.19   1130.00\n",
       "50%      74697.50    348.01   1251.00\n",
       "75%     112046.25    559.55   1380.00\n",
       "max     149395.00   1724.83   1499.00"
      ]
     },
     "execution_count": 5,
     "metadata": {},
     "output_type": "execute_result"
    }
   ],
   "source": [
    "internet.describe()"
   ]
  },
  {
   "cell_type": "code",
   "execution_count": 6,
   "metadata": {},
   "outputs": [
    {
     "name": "stdout",
     "output_type": "stream",
     "text": [
      "Table users : (500, 8)\n",
      "Table calls : (202607, 4)\n",
      "Table messages : (123036, 3)\n",
      "Table internet : (149396, 5)\n",
      "Table tariffs : (2, 8)\n"
     ]
    }
   ],
   "source": [
    "for df in tables:\n",
    "    print('Table', df[0], ': {}'.format(df[1].shape))"
   ]
  },
  {
   "cell_type": "markdown",
   "metadata": {},
   "source": [
    "### Conclusion"
   ]
  },
  {
   "cell_type": "markdown",
   "metadata": {},
   "source": [
    "1. Data about 500 users is presented in the form of 4 tables of different communication types plus 1 table with plans description;\n",
    "2. Missing values are detected only in churn_date column of users table;\n",
    "3. Unrealistic values are detected in duration column of calls table, where there are 0 values:\n",
    "4. Following columns need to be converted in data types:\n",
    "    - in users table: churn_date and reg_date to datetime;\n",
    "    - in calls table: call_date to datetime, duration to int;\n",
    "    - in messages table: messages_date to datetime;"
   ]
  },
  {
   "cell_type": "markdown",
   "metadata": {},
   "source": [
    "## Data preparation and processing"
   ]
  },
  {
   "cell_type": "markdown",
   "metadata": {},
   "source": [
    "### Duplicates handling"
   ]
  },
  {
   "cell_type": "markdown",
   "metadata": {},
   "source": [
    "- First check full duplicates in each of the tables;"
   ]
  },
  {
   "cell_type": "code",
   "execution_count": 7,
   "metadata": {},
   "outputs": [
    {
     "data": {
      "text/plain": [
       "'users'"
      ]
     },
     "metadata": {},
     "output_type": "display_data"
    },
    {
     "data": {
      "text/plain": [
       "0"
      ]
     },
     "metadata": {},
     "output_type": "display_data"
    },
    {
     "data": {
      "text/plain": [
       "'calls'"
      ]
     },
     "metadata": {},
     "output_type": "display_data"
    },
    {
     "data": {
      "text/plain": [
       "0"
      ]
     },
     "metadata": {},
     "output_type": "display_data"
    },
    {
     "data": {
      "text/plain": [
       "'messages'"
      ]
     },
     "metadata": {},
     "output_type": "display_data"
    },
    {
     "data": {
      "text/plain": [
       "0"
      ]
     },
     "metadata": {},
     "output_type": "display_data"
    },
    {
     "data": {
      "text/plain": [
       "'internet'"
      ]
     },
     "metadata": {},
     "output_type": "display_data"
    },
    {
     "data": {
      "text/plain": [
       "0"
      ]
     },
     "metadata": {},
     "output_type": "display_data"
    },
    {
     "data": {
      "text/plain": [
       "'tariffs'"
      ]
     },
     "metadata": {},
     "output_type": "display_data"
    },
    {
     "data": {
      "text/plain": [
       "0"
      ]
     },
     "metadata": {},
     "output_type": "display_data"
    }
   ],
   "source": [
    "for df in tables:\n",
    "    display(df[0], df[1].duplicated().sum())"
   ]
  },
  {
   "cell_type": "code",
   "execution_count": 8,
   "metadata": {},
   "outputs": [
    {
     "data": {
      "text/plain": [
       "Index(['user_id', 'age', 'churn_date', 'city', 'first_name', 'last_name',\n",
       "       'reg_date', 'tariff'],\n",
       "      dtype='object')"
      ]
     },
     "execution_count": 8,
     "metadata": {},
     "output_type": "execute_result"
    }
   ],
   "source": [
    "users.columns"
   ]
  },
  {
   "cell_type": "markdown",
   "metadata": {},
   "source": [
    "- Now check different case string duplicates in city column of users table;"
   ]
  },
  {
   "cell_type": "code",
   "execution_count": 9,
   "metadata": {
    "scrolled": true
   },
   "outputs": [
    {
     "name": "stdout",
     "output_type": "stream",
     "text": [
      "Number of unique values in city column BEFORE: 76\n",
      "Number of unique values in city column AFTER: 76\n"
     ]
    }
   ],
   "source": [
    "print('Number of unique values in city column BEFORE: {}'.format(users['city'].value_counts().count()))\n",
    "users['city_lower'] = users['city'].str.lower()\n",
    "print('Number of unique values in city column AFTER: {}'.format(users['city_lower'].value_counts().count()))"
   ]
  },
  {
   "cell_type": "markdown",
   "metadata": {},
   "source": [
    "**Вывод**\n"
   ]
  },
  {
   "cell_type": "markdown",
   "metadata": {},
   "source": [
    "- Возможные явные полные и неявные дубликаты не обнаружены;"
   ]
  },
  {
   "cell_type": "markdown",
   "metadata": {},
   "source": [
    "### Missing values and data errors handling"
   ]
  },
  {
   "cell_type": "markdown",
   "metadata": {},
   "source": [
    "- The only column, which has missing values is churn_date in users table. In comments to the data it says that missing values mean that the user was using the plan on the moment of data collection;\n",
    "- Lets put a dummy value instead of missing values - 01.01.2099;"
   ]
  },
  {
   "cell_type": "code",
   "execution_count": 10,
   "metadata": {},
   "outputs": [
    {
     "name": "stdout",
     "output_type": "stream",
     "text": [
      "NaNs in churn_date BEFORE:  462\n",
      "NaNs in churn_date AFTER:  0\n"
     ]
    },
    {
     "data": {
      "text/html": [
       "<div>\n",
       "<style scoped>\n",
       "    .dataframe tbody tr th:only-of-type {\n",
       "        vertical-align: middle;\n",
       "    }\n",
       "\n",
       "    .dataframe tbody tr th {\n",
       "        vertical-align: top;\n",
       "    }\n",
       "\n",
       "    .dataframe thead th {\n",
       "        text-align: right;\n",
       "    }\n",
       "</style>\n",
       "<table border=\"1\" class=\"dataframe\">\n",
       "  <thead>\n",
       "    <tr style=\"text-align: right;\">\n",
       "      <th></th>\n",
       "      <th>index</th>\n",
       "      <th>churn_date</th>\n",
       "    </tr>\n",
       "  </thead>\n",
       "  <tbody>\n",
       "    <tr>\n",
       "      <td>0</td>\n",
       "      <td>2099-01-01</td>\n",
       "      <td>462</td>\n",
       "    </tr>\n",
       "    <tr>\n",
       "      <td>1</td>\n",
       "      <td>2018-12-03</td>\n",
       "      <td>2</td>\n",
       "    </tr>\n",
       "    <tr>\n",
       "      <td>2</td>\n",
       "      <td>2018-10-03</td>\n",
       "      <td>2</td>\n",
       "    </tr>\n",
       "  </tbody>\n",
       "</table>\n",
       "</div>"
      ],
      "text/plain": [
       "        index  churn_date\n",
       "0  2099-01-01         462\n",
       "1  2018-12-03           2\n",
       "2  2018-10-03           2"
      ]
     },
     "metadata": {},
     "output_type": "display_data"
    }
   ],
   "source": [
    "print('NaNs in churn_date BEFORE: ', users.churn_date.isna().sum())\n",
    "users.churn_date.fillna('2099-01-01', inplace=True)\n",
    "print('NaNs in churn_date AFTER: ', users.churn_date.isna().sum())\n",
    "display(users.churn_date.value_counts().reset_index().iloc[0:3, :])"
   ]
  },
  {
   "cell_type": "markdown",
   "metadata": {},
   "source": [
    "- The only column with data errors looks to be duration column of calls table having 0 values for duration of calls;\n",
    "- It looks like these calls are missing ones;\n",
    "- Lets estimate how many zero value there are in the column and how its absence will affect on futher data analysis;"
   ]
  },
  {
   "cell_type": "code",
   "execution_count": 11,
   "metadata": {
    "scrolled": false
   },
   "outputs": [
    {
     "name": "stdout",
     "output_type": "stream",
     "text": [
      "Fraction of 0 in duration column: 19.6%\n"
     ]
    },
    {
     "data": {
      "image/png": "[encoded data removed]",
      "text/plain": [
       "<Figure size 432x288 with 1 Axes>"
      ]
     },
     "metadata": {},
     "output_type": "display_data"
    }
   ],
   "source": [
    "print('Fraction of 0 in duration column: {:.1%}'.format(calls[calls.duration == 0]['duration'].count()/calls.shape[0]))\n",
    "sns.set_style('darkgrid')\n",
    "sns.distplot(calls['duration'])\n",
    "plt.show()"
   ]
  },
  {
   "cell_type": "markdown",
   "metadata": {},
   "source": [
    "- There is 20% of data in duration columns of calls table, which has 0 values. Presence of 0 in duration column will not affect calculation of revenue, which is one of the most crucial parameter in the anaysis, so lets remain zeros;"
   ]
  },
  {
   "cell_type": "markdown",
   "metadata": {},
   "source": [
    "### Data types convertion"
   ]
  },
  {
   "cell_type": "code",
   "execution_count": 12,
   "metadata": {},
   "outputs": [
    {
     "name": "stdout",
     "output_type": "stream",
     "text": [
      "Table name: users\n"
     ]
    },
    {
     "data": {
      "text/plain": [
       "Index(['user_id', 'age', 'churn_date', 'city', 'first_name', 'last_name',\n",
       "       'reg_date', 'tariff', 'city_lower'],\n",
       "      dtype='object')"
      ]
     },
     "metadata": {},
     "output_type": "display_data"
    },
    {
     "data": {
      "text/plain": [
       "(500, 9)"
      ]
     },
     "metadata": {},
     "output_type": "display_data"
    },
    {
     "name": "stdout",
     "output_type": "stream",
     "text": [
      "\n",
      "Table name: calls\n"
     ]
    },
    {
     "data": {
      "text/plain": [
       "Index(['id', 'call_date', 'duration', 'user_id'], dtype='object')"
      ]
     },
     "metadata": {},
     "output_type": "display_data"
    },
    {
     "data": {
      "text/plain": [
       "(202607, 4)"
      ]
     },
     "metadata": {},
     "output_type": "display_data"
    },
    {
     "name": "stdout",
     "output_type": "stream",
     "text": [
      "\n",
      "Table name: messages\n"
     ]
    },
    {
     "data": {
      "text/plain": [
       "Index(['id', 'message_date', 'user_id'], dtype='object')"
      ]
     },
     "metadata": {},
     "output_type": "display_data"
    },
    {
     "data": {
      "text/plain": [
       "(123036, 3)"
      ]
     },
     "metadata": {},
     "output_type": "display_data"
    },
    {
     "name": "stdout",
     "output_type": "stream",
     "text": [
      "\n",
      "Table name: internet\n"
     ]
    },
    {
     "data": {
      "text/plain": [
       "Index(['Unnamed: 0', 'id', 'mb_used', 'session_date', 'user_id'], dtype='object')"
      ]
     },
     "metadata": {},
     "output_type": "display_data"
    },
    {
     "data": {
      "text/plain": [
       "(149396, 5)"
      ]
     },
     "metadata": {},
     "output_type": "display_data"
    },
    {
     "name": "stdout",
     "output_type": "stream",
     "text": [
      "\n"
     ]
    }
   ],
   "source": [
    "# updating tables and printing table names with its column names\n",
    "tables = [('users', users), ('calls', calls), ('messages', messages), ('internet', internet)]\n",
    "for df in tables:\n",
    "    print('Table name:', df[0])\n",
    "    display(df[1].columns)\n",
    "    display(df[1].shape)\n",
    "    print()"
   ]
  },
  {
   "cell_type": "markdown",
   "metadata": {},
   "source": [
    "- Before date data convertion, lets define, which parameters of the date will be used in the analysis. Definetely, month is must have;\n",
    "- Lets convert the following columns to datetime format: call_date, message_date и session_date;"
   ]
  },
  {
   "cell_type": "code",
   "execution_count": 13,
   "metadata": {
    "scrolled": false
   },
   "outputs": [
    {
     "name": "stdout",
     "output_type": "stream",
     "text": [
      "Table name: users\n",
      "<class 'pandas.core.frame.DataFrame'>\n",
      "RangeIndex: 500 entries, 0 to 499\n",
      "Data columns (total 11 columns):\n",
      "user_id                500 non-null int64\n",
      "age                    500 non-null int64\n",
      "churn_date             500 non-null object\n",
      "city                   500 non-null object\n",
      "first_name             500 non-null object\n",
      "last_name              500 non-null object\n",
      "reg_date               500 non-null object\n",
      "tariff                 500 non-null object\n",
      "city_lower             500 non-null object\n",
      "churn_date_datetime    500 non-null datetime64[ns]\n",
      "reg_date_datetime      500 non-null datetime64[ns]\n",
      "dtypes: datetime64[ns](2), int64(2), object(7)\n",
      "memory usage: 43.1+ KB\n"
     ]
    },
    {
     "data": {
      "text/plain": [
       "None"
      ]
     },
     "metadata": {},
     "output_type": "display_data"
    },
    {
     "name": "stdout",
     "output_type": "stream",
     "text": [
      "\n",
      "Table name: calls\n",
      "<class 'pandas.core.frame.DataFrame'>\n",
      "RangeIndex: 202607 entries, 0 to 202606\n",
      "Data columns (total 6 columns):\n",
      "id                    202607 non-null object\n",
      "call_date             202607 non-null object\n",
      "duration              202607 non-null float64\n",
      "user_id               202607 non-null int64\n",
      "call_date_datetime    202607 non-null datetime64[ns]\n",
      "month                 202607 non-null int64\n",
      "dtypes: datetime64[ns](1), float64(1), int64(2), object(2)\n",
      "memory usage: 9.3+ MB\n"
     ]
    },
    {
     "data": {
      "text/plain": [
       "None"
      ]
     },
     "metadata": {},
     "output_type": "display_data"
    },
    {
     "name": "stdout",
     "output_type": "stream",
     "text": [
      "\n",
      "Table name: messages\n",
      "<class 'pandas.core.frame.DataFrame'>\n",
      "RangeIndex: 123036 entries, 0 to 123035\n",
      "Data columns (total 5 columns):\n",
      "id                       123036 non-null object\n",
      "message_date             123036 non-null object\n",
      "user_id                  123036 non-null int64\n",
      "message_date_datetime    123036 non-null datetime64[ns]\n",
      "month                    123036 non-null int64\n",
      "dtypes: datetime64[ns](1), int64(2), object(2)\n",
      "memory usage: 4.7+ MB\n"
     ]
    },
    {
     "data": {
      "text/plain": [
       "None"
      ]
     },
     "metadata": {},
     "output_type": "display_data"
    },
    {
     "name": "stdout",
     "output_type": "stream",
     "text": [
      "\n",
      "Table name: internet\n",
      "<class 'pandas.core.frame.DataFrame'>\n",
      "RangeIndex: 149396 entries, 0 to 149395\n",
      "Data columns (total 7 columns):\n",
      "Unnamed: 0               149396 non-null int64\n",
      "id                       149396 non-null object\n",
      "mb_used                  149396 non-null float64\n",
      "session_date             149396 non-null object\n",
      "user_id                  149396 non-null int64\n",
      "session_date_datetime    149396 non-null datetime64[ns]\n",
      "month                    149396 non-null int64\n",
      "dtypes: datetime64[ns](1), float64(1), int64(3), object(2)\n",
      "memory usage: 8.0+ MB\n"
     ]
    },
    {
     "data": {
      "text/plain": [
       "None"
      ]
     },
     "metadata": {},
     "output_type": "display_data"
    },
    {
     "name": "stdout",
     "output_type": "stream",
     "text": [
      "\n"
     ]
    }
   ],
   "source": [
    "for df in tables:\n",
    "    for column in df[1].columns:\n",
    "        if column[-4:] == 'date':\n",
    "            df[1][column+'_datetime'] = pd.to_datetime(df[1][column], format='%Y-%m-%d')\n",
    "            if column in ['call_date', 'message_date', 'session_date']:\n",
    "                df[1]['month'] = df[1][column+'_datetime'].dt.month\n",
    "            \n",
    "for df in tables:\n",
    "    print('Table name:', df[0])\n",
    "    display(df[1].info())\n",
    "    print()"
   ]
  },
  {
   "cell_type": "markdown",
   "metadata": {},
   "source": [
    "- Converting duration column of calls table to int rounding ahead;\n",
    "- To check how well the convertion is performed lets create a column where duration values with a decimal part will be assigned as True and without decimal part as False;"
   ]
  },
  {
   "cell_type": "code",
   "execution_count": 14,
   "metadata": {},
   "outputs": [
    {
     "data": {
      "text/plain": [
       "True     161447\n",
       "False     41160\n",
       "Name: duration_decimal_flag, dtype: int64"
      ]
     },
     "metadata": {},
     "output_type": "display_data"
    },
    {
     "data": {
      "text/html": [
       "<div>\n",
       "<style scoped>\n",
       "    .dataframe tbody tr th:only-of-type {\n",
       "        vertical-align: middle;\n",
       "    }\n",
       "\n",
       "    .dataframe tbody tr th {\n",
       "        vertical-align: top;\n",
       "    }\n",
       "\n",
       "    .dataframe thead th {\n",
       "        text-align: right;\n",
       "    }\n",
       "</style>\n",
       "<table border=\"1\" class=\"dataframe\">\n",
       "  <thead>\n",
       "    <tr style=\"text-align: right;\">\n",
       "      <th></th>\n",
       "      <th>id</th>\n",
       "      <th>call_date</th>\n",
       "      <th>duration</th>\n",
       "      <th>user_id</th>\n",
       "      <th>call_date_datetime</th>\n",
       "      <th>month</th>\n",
       "      <th>duration_decimal_flag</th>\n",
       "    </tr>\n",
       "  </thead>\n",
       "  <tbody>\n",
       "    <tr>\n",
       "      <td>191508</td>\n",
       "      <td>1471_311</td>\n",
       "      <td>2018-05-26</td>\n",
       "      <td>3.72</td>\n",
       "      <td>1471</td>\n",
       "      <td>2018-05-26</td>\n",
       "      <td>5</td>\n",
       "      <td>True</td>\n",
       "    </tr>\n",
       "    <tr>\n",
       "      <td>28148</td>\n",
       "      <td>1070_23</td>\n",
       "      <td>2018-12-05</td>\n",
       "      <td>0.57</td>\n",
       "      <td>1070</td>\n",
       "      <td>2018-12-05</td>\n",
       "      <td>12</td>\n",
       "      <td>True</td>\n",
       "    </tr>\n",
       "    <tr>\n",
       "      <td>125236</td>\n",
       "      <td>1322_59</td>\n",
       "      <td>2018-10-03</td>\n",
       "      <td>7.07</td>\n",
       "      <td>1322</td>\n",
       "      <td>2018-10-03</td>\n",
       "      <td>10</td>\n",
       "      <td>True</td>\n",
       "    </tr>\n",
       "    <tr>\n",
       "      <td>123236</td>\n",
       "      <td>1318_235</td>\n",
       "      <td>2018-07-03</td>\n",
       "      <td>14.92</td>\n",
       "      <td>1318</td>\n",
       "      <td>2018-07-03</td>\n",
       "      <td>7</td>\n",
       "      <td>True</td>\n",
       "    </tr>\n",
       "    <tr>\n",
       "      <td>150156</td>\n",
       "      <td>1377_1003</td>\n",
       "      <td>2018-10-09</td>\n",
       "      <td>0.36</td>\n",
       "      <td>1377</td>\n",
       "      <td>2018-10-09</td>\n",
       "      <td>10</td>\n",
       "      <td>True</td>\n",
       "    </tr>\n",
       "    <tr>\n",
       "      <td>131673</td>\n",
       "      <td>1339_2</td>\n",
       "      <td>2018-10-09</td>\n",
       "      <td>7.68</td>\n",
       "      <td>1339</td>\n",
       "      <td>2018-10-09</td>\n",
       "      <td>10</td>\n",
       "      <td>True</td>\n",
       "    </tr>\n",
       "    <tr>\n",
       "      <td>156212</td>\n",
       "      <td>1385_291</td>\n",
       "      <td>2018-01-31</td>\n",
       "      <td>3.99</td>\n",
       "      <td>1385</td>\n",
       "      <td>2018-01-31</td>\n",
       "      <td>1</td>\n",
       "      <td>True</td>\n",
       "    </tr>\n",
       "    <tr>\n",
       "      <td>174485</td>\n",
       "      <td>1431_174</td>\n",
       "      <td>2018-12-17</td>\n",
       "      <td>8.87</td>\n",
       "      <td>1431</td>\n",
       "      <td>2018-12-17</td>\n",
       "      <td>12</td>\n",
       "      <td>True</td>\n",
       "    </tr>\n",
       "    <tr>\n",
       "      <td>59875</td>\n",
       "      <td>1150_185</td>\n",
       "      <td>2018-12-07</td>\n",
       "      <td>7.69</td>\n",
       "      <td>1150</td>\n",
       "      <td>2018-12-07</td>\n",
       "      <td>12</td>\n",
       "      <td>True</td>\n",
       "    </tr>\n",
       "    <tr>\n",
       "      <td>104720</td>\n",
       "      <td>1268_282</td>\n",
       "      <td>2018-06-20</td>\n",
       "      <td>0.86</td>\n",
       "      <td>1268</td>\n",
       "      <td>2018-06-20</td>\n",
       "      <td>6</td>\n",
       "      <td>True</td>\n",
       "    </tr>\n",
       "  </tbody>\n",
       "</table>\n",
       "</div>"
      ],
      "text/plain": [
       "               id   call_date  duration  user_id call_date_datetime  month  \\\n",
       "191508   1471_311  2018-05-26      3.72     1471         2018-05-26      5   \n",
       "28148     1070_23  2018-12-05      0.57     1070         2018-12-05     12   \n",
       "125236    1322_59  2018-10-03      7.07     1322         2018-10-03     10   \n",
       "123236   1318_235  2018-07-03     14.92     1318         2018-07-03      7   \n",
       "150156  1377_1003  2018-10-09      0.36     1377         2018-10-09     10   \n",
       "131673     1339_2  2018-10-09      7.68     1339         2018-10-09     10   \n",
       "156212   1385_291  2018-01-31      3.99     1385         2018-01-31      1   \n",
       "174485   1431_174  2018-12-17      8.87     1431         2018-12-17     12   \n",
       "59875    1150_185  2018-12-07      7.69     1150         2018-12-07     12   \n",
       "104720   1268_282  2018-06-20      0.86     1268         2018-06-20      6   \n",
       "\n",
       "        duration_decimal_flag  \n",
       "191508                   True  \n",
       "28148                    True  \n",
       "125236                   True  \n",
       "123236                   True  \n",
       "150156                   True  \n",
       "131673                   True  \n",
       "156212                   True  \n",
       "174485                   True  \n",
       "59875                    True  \n",
       "104720                   True  "
      ]
     },
     "execution_count": 14,
     "metadata": {},
     "output_type": "execute_result"
    }
   ],
   "source": [
    "calls['duration_decimal_flag'] = calls['duration'].apply(lambda x: x%1) > 0\n",
    "display(calls['duration_decimal_flag'].value_counts())\n",
    "calls[calls['duration_decimal_flag'] == True].sample(10)"
   ]
  },
  {
   "cell_type": "code",
   "execution_count": 15,
   "metadata": {},
   "outputs": [
    {
     "data": {
      "text/html": [
       "<div>\n",
       "<style scoped>\n",
       "    .dataframe tbody tr th:only-of-type {\n",
       "        vertical-align: middle;\n",
       "    }\n",
       "\n",
       "    .dataframe tbody tr th {\n",
       "        vertical-align: top;\n",
       "    }\n",
       "\n",
       "    .dataframe thead th {\n",
       "        text-align: right;\n",
       "    }\n",
       "</style>\n",
       "<table border=\"1\" class=\"dataframe\">\n",
       "  <thead>\n",
       "    <tr style=\"text-align: right;\">\n",
       "      <th></th>\n",
       "      <th>id</th>\n",
       "      <th>call_date</th>\n",
       "      <th>duration</th>\n",
       "      <th>user_id</th>\n",
       "      <th>call_date_datetime</th>\n",
       "      <th>month</th>\n",
       "      <th>duration_decimal_flag</th>\n",
       "      <th>duration_ceiled</th>\n",
       "    </tr>\n",
       "  </thead>\n",
       "  <tbody>\n",
       "    <tr>\n",
       "      <td>29623</td>\n",
       "      <td>1075_29</td>\n",
       "      <td>2018-11-02</td>\n",
       "      <td>8.39</td>\n",
       "      <td>1075</td>\n",
       "      <td>2018-11-02</td>\n",
       "      <td>11</td>\n",
       "      <td>True</td>\n",
       "      <td>9</td>\n",
       "    </tr>\n",
       "    <tr>\n",
       "      <td>183648</td>\n",
       "      <td>1456_120</td>\n",
       "      <td>2018-12-30</td>\n",
       "      <td>6.34</td>\n",
       "      <td>1456</td>\n",
       "      <td>2018-12-30</td>\n",
       "      <td>12</td>\n",
       "      <td>True</td>\n",
       "      <td>7</td>\n",
       "    </tr>\n",
       "    <tr>\n",
       "      <td>169010</td>\n",
       "      <td>1416_177</td>\n",
       "      <td>2018-10-10</td>\n",
       "      <td>15.41</td>\n",
       "      <td>1416</td>\n",
       "      <td>2018-10-10</td>\n",
       "      <td>10</td>\n",
       "      <td>True</td>\n",
       "      <td>16</td>\n",
       "    </tr>\n",
       "    <tr>\n",
       "      <td>150513</td>\n",
       "      <td>1377_1360</td>\n",
       "      <td>2018-04-09</td>\n",
       "      <td>0.37</td>\n",
       "      <td>1377</td>\n",
       "      <td>2018-04-09</td>\n",
       "      <td>4</td>\n",
       "      <td>True</td>\n",
       "      <td>1</td>\n",
       "    </tr>\n",
       "    <tr>\n",
       "      <td>91985</td>\n",
       "      <td>1228_397</td>\n",
       "      <td>2018-11-10</td>\n",
       "      <td>5.37</td>\n",
       "      <td>1228</td>\n",
       "      <td>2018-11-10</td>\n",
       "      <td>11</td>\n",
       "      <td>True</td>\n",
       "      <td>6</td>\n",
       "    </tr>\n",
       "    <tr>\n",
       "      <td>133839</td>\n",
       "      <td>1341_1069</td>\n",
       "      <td>2018-12-02</td>\n",
       "      <td>7.25</td>\n",
       "      <td>1341</td>\n",
       "      <td>2018-12-02</td>\n",
       "      <td>12</td>\n",
       "      <td>True</td>\n",
       "      <td>8</td>\n",
       "    </tr>\n",
       "    <tr>\n",
       "      <td>186300</td>\n",
       "      <td>1460_218</td>\n",
       "      <td>2018-09-01</td>\n",
       "      <td>9.03</td>\n",
       "      <td>1460</td>\n",
       "      <td>2018-09-01</td>\n",
       "      <td>9</td>\n",
       "      <td>True</td>\n",
       "      <td>10</td>\n",
       "    </tr>\n",
       "    <tr>\n",
       "      <td>38678</td>\n",
       "      <td>1097_10</td>\n",
       "      <td>2018-11-08</td>\n",
       "      <td>15.25</td>\n",
       "      <td>1097</td>\n",
       "      <td>2018-11-08</td>\n",
       "      <td>11</td>\n",
       "      <td>True</td>\n",
       "      <td>16</td>\n",
       "    </tr>\n",
       "    <tr>\n",
       "      <td>120370</td>\n",
       "      <td>1310_565</td>\n",
       "      <td>2018-07-11</td>\n",
       "      <td>8.25</td>\n",
       "      <td>1310</td>\n",
       "      <td>2018-07-11</td>\n",
       "      <td>7</td>\n",
       "      <td>True</td>\n",
       "      <td>9</td>\n",
       "    </tr>\n",
       "    <tr>\n",
       "      <td>21013</td>\n",
       "      <td>1055_506</td>\n",
       "      <td>2018-11-16</td>\n",
       "      <td>5.10</td>\n",
       "      <td>1055</td>\n",
       "      <td>2018-11-16</td>\n",
       "      <td>11</td>\n",
       "      <td>True</td>\n",
       "      <td>6</td>\n",
       "    </tr>\n",
       "  </tbody>\n",
       "</table>\n",
       "</div>"
      ],
      "text/plain": [
       "               id   call_date  duration  user_id call_date_datetime  month  \\\n",
       "29623     1075_29  2018-11-02      8.39     1075         2018-11-02     11   \n",
       "183648   1456_120  2018-12-30      6.34     1456         2018-12-30     12   \n",
       "169010   1416_177  2018-10-10     15.41     1416         2018-10-10     10   \n",
       "150513  1377_1360  2018-04-09      0.37     1377         2018-04-09      4   \n",
       "91985    1228_397  2018-11-10      5.37     1228         2018-11-10     11   \n",
       "133839  1341_1069  2018-12-02      7.25     1341         2018-12-02     12   \n",
       "186300   1460_218  2018-09-01      9.03     1460         2018-09-01      9   \n",
       "38678     1097_10  2018-11-08     15.25     1097         2018-11-08     11   \n",
       "120370   1310_565  2018-07-11      8.25     1310         2018-07-11      7   \n",
       "21013    1055_506  2018-11-16      5.10     1055         2018-11-16     11   \n",
       "\n",
       "        duration_decimal_flag  duration_ceiled  \n",
       "29623                    True                9  \n",
       "183648                   True                7  \n",
       "169010                   True               16  \n",
       "150513                   True                1  \n",
       "91985                    True                6  \n",
       "133839                   True                8  \n",
       "186300                   True               10  \n",
       "38678                    True               16  \n",
       "120370                   True                9  \n",
       "21013                    True                6  "
      ]
     },
     "execution_count": 15,
     "metadata": {},
     "output_type": "execute_result"
    }
   ],
   "source": [
    "# rounding duration ahead, conveting to int and checking results\n",
    "calls['duration_ceiled'] = np.ceil(calls['duration']).astype(int)\n",
    "calls[calls['duration_decimal_flag'] == True].sample(10)"
   ]
  },
  {
   "cell_type": "markdown",
   "metadata": {},
   "source": [
    "**Conclusion**"
   ]
  },
  {
   "cell_type": "markdown",
   "metadata": {},
   "source": [
    "- Date data is converted to datetime format;\n",
    "- Duration values of calls table are rounded ahead;"
   ]
  },
  {
   "cell_type": "markdown",
   "metadata": {},
   "source": [
    "### New features calculation"
   ]
  },
  {
   "cell_type": "markdown",
   "metadata": {},
   "source": [
    " - For purposes of the further data analysis lets calculate the following new parameters:\n",
    "     - number of calls and amount of minutes spent per month;\n",
    "     - number of messages spent per month;\n",
    "     - amount of used web traffic per month;\n",
    "     - after calculation of monthly web traffic, which is a sum of web traffic of all the sessions in the month, total value is rounded from mb to gb;\n",
    "     - monthly revenue from each of users;\n",
    " - Lets create pivot tables on data from different communication types and calculate desired parameters;"
   ]
  },
  {
   "cell_type": "code",
   "execution_count": 16,
   "metadata": {},
   "outputs": [
    {
     "data": {
      "text/html": [
       "<div>\n",
       "<style scoped>\n",
       "    .dataframe tbody tr th:only-of-type {\n",
       "        vertical-align: middle;\n",
       "    }\n",
       "\n",
       "    .dataframe tbody tr th {\n",
       "        vertical-align: top;\n",
       "    }\n",
       "\n",
       "    .dataframe thead th {\n",
       "        text-align: right;\n",
       "    }\n",
       "</style>\n",
       "<table border=\"1\" class=\"dataframe\">\n",
       "  <thead>\n",
       "    <tr style=\"text-align: right;\">\n",
       "      <th></th>\n",
       "      <th></th>\n",
       "      <th>call_duration_ceiled_count</th>\n",
       "      <th>call_duration_ceiled_sum</th>\n",
       "    </tr>\n",
       "    <tr>\n",
       "      <th>user_id</th>\n",
       "      <th>month</th>\n",
       "      <th></th>\n",
       "      <th></th>\n",
       "    </tr>\n",
       "  </thead>\n",
       "  <tbody>\n",
       "    <tr>\n",
       "      <td rowspan=\"8\" valign=\"top\">1000</td>\n",
       "      <td>5</td>\n",
       "      <td>22</td>\n",
       "      <td>159</td>\n",
       "    </tr>\n",
       "    <tr>\n",
       "      <td>6</td>\n",
       "      <td>43</td>\n",
       "      <td>172</td>\n",
       "    </tr>\n",
       "    <tr>\n",
       "      <td>7</td>\n",
       "      <td>47</td>\n",
       "      <td>340</td>\n",
       "    </tr>\n",
       "    <tr>\n",
       "      <td>8</td>\n",
       "      <td>52</td>\n",
       "      <td>408</td>\n",
       "    </tr>\n",
       "    <tr>\n",
       "      <td>9</td>\n",
       "      <td>58</td>\n",
       "      <td>466</td>\n",
       "    </tr>\n",
       "    <tr>\n",
       "      <td>10</td>\n",
       "      <td>57</td>\n",
       "      <td>350</td>\n",
       "    </tr>\n",
       "    <tr>\n",
       "      <td>11</td>\n",
       "      <td>43</td>\n",
       "      <td>338</td>\n",
       "    </tr>\n",
       "    <tr>\n",
       "      <td>12</td>\n",
       "      <td>46</td>\n",
       "      <td>333</td>\n",
       "    </tr>\n",
       "  </tbody>\n",
       "</table>\n",
       "</div>"
      ],
      "text/plain": [
       "               call_duration_ceiled_count  call_duration_ceiled_sum\n",
       "user_id month                                                      \n",
       "1000    5                              22                       159\n",
       "        6                              43                       172\n",
       "        7                              47                       340\n",
       "        8                              52                       408\n",
       "        9                              58                       466\n",
       "        10                             57                       350\n",
       "        11                             43                       338\n",
       "        12                             46                       333"
      ]
     },
     "execution_count": 16,
     "metadata": {},
     "output_type": "execute_result"
    }
   ],
   "source": [
    "user_calls_monthly = calls.pivot_table(index=['user_id', 'month'], \n",
    "                                       values='duration_ceiled', \n",
    "                                       aggfunc=['count', 'sum']\n",
    "                                      )\n",
    "user_calls_monthly.columns = ['call_duration_ceiled_count', 'call_duration_ceiled_sum']\n",
    "user_calls_monthly.loc[(1000, slice(None)), :]"
   ]
  },
  {
   "cell_type": "code",
   "execution_count": 17,
   "metadata": {},
   "outputs": [
    {
     "data": {
      "text/html": [
       "<div>\n",
       "<style scoped>\n",
       "    .dataframe tbody tr th:only-of-type {\n",
       "        vertical-align: middle;\n",
       "    }\n",
       "\n",
       "    .dataframe tbody tr th {\n",
       "        vertical-align: top;\n",
       "    }\n",
       "\n",
       "    .dataframe thead th {\n",
       "        text-align: right;\n",
       "    }\n",
       "</style>\n",
       "<table border=\"1\" class=\"dataframe\">\n",
       "  <thead>\n",
       "    <tr style=\"text-align: right;\">\n",
       "      <th></th>\n",
       "      <th></th>\n",
       "      <th>message_count</th>\n",
       "    </tr>\n",
       "    <tr>\n",
       "      <th>user_id</th>\n",
       "      <th>month</th>\n",
       "      <th></th>\n",
       "    </tr>\n",
       "  </thead>\n",
       "  <tbody>\n",
       "    <tr>\n",
       "      <td rowspan=\"8\" valign=\"top\">1000</td>\n",
       "      <td>5</td>\n",
       "      <td>22</td>\n",
       "    </tr>\n",
       "    <tr>\n",
       "      <td>6</td>\n",
       "      <td>60</td>\n",
       "    </tr>\n",
       "    <tr>\n",
       "      <td>7</td>\n",
       "      <td>75</td>\n",
       "    </tr>\n",
       "    <tr>\n",
       "      <td>8</td>\n",
       "      <td>81</td>\n",
       "    </tr>\n",
       "    <tr>\n",
       "      <td>9</td>\n",
       "      <td>57</td>\n",
       "    </tr>\n",
       "    <tr>\n",
       "      <td>10</td>\n",
       "      <td>73</td>\n",
       "    </tr>\n",
       "    <tr>\n",
       "      <td>11</td>\n",
       "      <td>58</td>\n",
       "    </tr>\n",
       "    <tr>\n",
       "      <td>12</td>\n",
       "      <td>70</td>\n",
       "    </tr>\n",
       "  </tbody>\n",
       "</table>\n",
       "</div>"
      ],
      "text/plain": [
       "               message_count\n",
       "user_id month               \n",
       "1000    5                 22\n",
       "        6                 60\n",
       "        7                 75\n",
       "        8                 81\n",
       "        9                 57\n",
       "        10                73\n",
       "        11                58\n",
       "        12                70"
      ]
     },
     "execution_count": 17,
     "metadata": {},
     "output_type": "execute_result"
    }
   ],
   "source": [
    "user_messages_monthly = messages.pivot_table(index=['user_id', 'month'], \n",
    "                                             values='id', \n",
    "                                             aggfunc='count'\n",
    "                                            )\n",
    "user_messages_monthly.columns = ['message_count']\n",
    "user_messages_monthly.loc[(1000, slice(None)), :]"
   ]
  },
  {
   "cell_type": "code",
   "execution_count": 18,
   "metadata": {},
   "outputs": [
    {
     "data": {
      "text/html": [
       "<div>\n",
       "<style scoped>\n",
       "    .dataframe tbody tr th:only-of-type {\n",
       "        vertical-align: middle;\n",
       "    }\n",
       "\n",
       "    .dataframe tbody tr th {\n",
       "        vertical-align: top;\n",
       "    }\n",
       "\n",
       "    .dataframe thead th {\n",
       "        text-align: right;\n",
       "    }\n",
       "</style>\n",
       "<table border=\"1\" class=\"dataframe\">\n",
       "  <thead>\n",
       "    <tr style=\"text-align: right;\">\n",
       "      <th></th>\n",
       "      <th></th>\n",
       "      <th>mb_used</th>\n",
       "      <th>mb_used_ceiled</th>\n",
       "    </tr>\n",
       "    <tr>\n",
       "      <th>user_id</th>\n",
       "      <th>month</th>\n",
       "      <th></th>\n",
       "      <th></th>\n",
       "    </tr>\n",
       "  </thead>\n",
       "  <tbody>\n",
       "    <tr>\n",
       "      <td rowspan=\"8\" valign=\"top\">1000</td>\n",
       "      <td>5</td>\n",
       "      <td>2253.49</td>\n",
       "      <td>3000</td>\n",
       "    </tr>\n",
       "    <tr>\n",
       "      <td>6</td>\n",
       "      <td>23233.77</td>\n",
       "      <td>24000</td>\n",
       "    </tr>\n",
       "    <tr>\n",
       "      <td>7</td>\n",
       "      <td>14003.64</td>\n",
       "      <td>15000</td>\n",
       "    </tr>\n",
       "    <tr>\n",
       "      <td>8</td>\n",
       "      <td>14055.93</td>\n",
       "      <td>15000</td>\n",
       "    </tr>\n",
       "    <tr>\n",
       "      <td>9</td>\n",
       "      <td>14568.91</td>\n",
       "      <td>15000</td>\n",
       "    </tr>\n",
       "    <tr>\n",
       "      <td>10</td>\n",
       "      <td>14702.49</td>\n",
       "      <td>15000</td>\n",
       "    </tr>\n",
       "    <tr>\n",
       "      <td>11</td>\n",
       "      <td>14756.47</td>\n",
       "      <td>15000</td>\n",
       "    </tr>\n",
       "    <tr>\n",
       "      <td>12</td>\n",
       "      <td>9817.61</td>\n",
       "      <td>10000</td>\n",
       "    </tr>\n",
       "  </tbody>\n",
       "</table>\n",
       "</div>"
      ],
      "text/plain": [
       "               mb_used  mb_used_ceiled\n",
       "user_id month                         \n",
       "1000    5      2253.49            3000\n",
       "        6     23233.77           24000\n",
       "        7     14003.64           15000\n",
       "        8     14055.93           15000\n",
       "        9     14568.91           15000\n",
       "        10    14702.49           15000\n",
       "        11    14756.47           15000\n",
       "        12     9817.61           10000"
      ]
     },
     "metadata": {},
     "output_type": "display_data"
    }
   ],
   "source": [
    "user_internet_monthly = internet.pivot_table(index=['user_id', 'month'], \n",
    "                                          values='mb_used', \n",
    "                                          aggfunc='sum'\n",
    "                                         )\n",
    "user_internet_monthly.columns = ['mb_used']\n",
    "\n",
    "# rounding mb to gb\n",
    "user_internet_monthly['mb_used_ceiled'] = user_internet_monthly['mb_used'].apply(lambda x: int(np.ceil(x/1000)*1000))\n",
    "mi_copy = user_internet_monthly.copy(deep=True)\n",
    "\n",
    "display(user_internet_monthly.loc[(1000, slice(None)), :])\n",
    "\n",
    "user_internet_monthly.drop(columns='mb_used', inplace=True)"
   ]
  },
  {
   "cell_type": "markdown",
   "metadata": {},
   "source": [
    "- Pivot tables are ready. Now lets merge them in one;"
   ]
  },
  {
   "cell_type": "code",
   "execution_count": 19,
   "metadata": {},
   "outputs": [
    {
     "data": {
      "text/plain": [
       "(3174, 2)"
      ]
     },
     "metadata": {},
     "output_type": "display_data"
    },
    {
     "data": {
      "text/plain": [
       "(2717, 1)"
      ]
     },
     "metadata": {},
     "output_type": "display_data"
    },
    {
     "data": {
      "text/plain": [
       "(3203, 1)"
      ]
     },
     "execution_count": 19,
     "metadata": {},
     "output_type": "execute_result"
    }
   ],
   "source": [
    "display(user_calls_monthly.shape)\n",
    "display(user_messages_monthly.shape)\n",
    "user_internet_monthly.shape"
   ]
  },
  {
   "cell_type": "markdown",
   "metadata": {},
   "source": [
    "- All the pivot tables have different size so it needs to merge them using outer join;"
   ]
  },
  {
   "cell_type": "code",
   "execution_count": 20,
   "metadata": {},
   "outputs": [
    {
     "data": {
      "text/html": [
       "<div>\n",
       "<style scoped>\n",
       "    .dataframe tbody tr th:only-of-type {\n",
       "        vertical-align: middle;\n",
       "    }\n",
       "\n",
       "    .dataframe tbody tr th {\n",
       "        vertical-align: top;\n",
       "    }\n",
       "\n",
       "    .dataframe thead th {\n",
       "        text-align: right;\n",
       "    }\n",
       "</style>\n",
       "<table border=\"1\" class=\"dataframe\">\n",
       "  <thead>\n",
       "    <tr style=\"text-align: right;\">\n",
       "      <th></th>\n",
       "      <th></th>\n",
       "      <th>call_duration_ceiled_count</th>\n",
       "      <th>call_duration_ceiled_sum</th>\n",
       "      <th>message_count</th>\n",
       "      <th>mb_used_ceiled</th>\n",
       "    </tr>\n",
       "    <tr>\n",
       "      <th>user_id</th>\n",
       "      <th>month</th>\n",
       "      <th></th>\n",
       "      <th></th>\n",
       "      <th></th>\n",
       "      <th></th>\n",
       "    </tr>\n",
       "  </thead>\n",
       "  <tbody>\n",
       "    <tr>\n",
       "      <td rowspan=\"8\" valign=\"top\">1000</td>\n",
       "      <td>5</td>\n",
       "      <td>22.00</td>\n",
       "      <td>159.00</td>\n",
       "      <td>22.00</td>\n",
       "      <td>3000.00</td>\n",
       "    </tr>\n",
       "    <tr>\n",
       "      <td>6</td>\n",
       "      <td>43.00</td>\n",
       "      <td>172.00</td>\n",
       "      <td>60.00</td>\n",
       "      <td>24000.00</td>\n",
       "    </tr>\n",
       "    <tr>\n",
       "      <td>7</td>\n",
       "      <td>47.00</td>\n",
       "      <td>340.00</td>\n",
       "      <td>75.00</td>\n",
       "      <td>15000.00</td>\n",
       "    </tr>\n",
       "    <tr>\n",
       "      <td>8</td>\n",
       "      <td>52.00</td>\n",
       "      <td>408.00</td>\n",
       "      <td>81.00</td>\n",
       "      <td>15000.00</td>\n",
       "    </tr>\n",
       "    <tr>\n",
       "      <td>9</td>\n",
       "      <td>58.00</td>\n",
       "      <td>466.00</td>\n",
       "      <td>57.00</td>\n",
       "      <td>15000.00</td>\n",
       "    </tr>\n",
       "    <tr>\n",
       "      <td>10</td>\n",
       "      <td>57.00</td>\n",
       "      <td>350.00</td>\n",
       "      <td>73.00</td>\n",
       "      <td>15000.00</td>\n",
       "    </tr>\n",
       "    <tr>\n",
       "      <td>11</td>\n",
       "      <td>43.00</td>\n",
       "      <td>338.00</td>\n",
       "      <td>58.00</td>\n",
       "      <td>15000.00</td>\n",
       "    </tr>\n",
       "    <tr>\n",
       "      <td>12</td>\n",
       "      <td>46.00</td>\n",
       "      <td>333.00</td>\n",
       "      <td>70.00</td>\n",
       "      <td>10000.00</td>\n",
       "    </tr>\n",
       "  </tbody>\n",
       "</table>\n",
       "</div>"
      ],
      "text/plain": [
       "               call_duration_ceiled_count  call_duration_ceiled_sum  \\\n",
       "user_id month                                                         \n",
       "1000    5                           22.00                    159.00   \n",
       "        6                           43.00                    172.00   \n",
       "        7                           47.00                    340.00   \n",
       "        8                           52.00                    408.00   \n",
       "        9                           58.00                    466.00   \n",
       "        10                          57.00                    350.00   \n",
       "        11                          43.00                    338.00   \n",
       "        12                          46.00                    333.00   \n",
       "\n",
       "               message_count  mb_used_ceiled  \n",
       "user_id month                                 \n",
       "1000    5              22.00         3000.00  \n",
       "        6              60.00        24000.00  \n",
       "        7              75.00        15000.00  \n",
       "        8              81.00        15000.00  \n",
       "        9              57.00        15000.00  \n",
       "        10             73.00        15000.00  \n",
       "        11             58.00        15000.00  \n",
       "        12             70.00        10000.00  "
      ]
     },
     "metadata": {},
     "output_type": "display_data"
    },
    {
     "data": {
      "text/plain": [
       "call_duration_ceiled_count     40\n",
       "call_duration_ceiled_sum       40\n",
       "message_count                 497\n",
       "mb_used_ceiled                 11\n",
       "dtype: int64"
      ]
     },
     "execution_count": 20,
     "metadata": {},
     "output_type": "execute_result"
    }
   ],
   "source": [
    "user_data_monthly = user_calls_monthly.merge(user_messages_monthly, \n",
    "                                             on=['user_id', 'month'], \n",
    "                                             how='outer'\n",
    "                                            )\\\n",
    "                                      .merge(user_internet_monthly, \n",
    "                                             on=['user_id', 'month'], \n",
    "                                             how='outer'\n",
    "                                            )\n",
    "display(user_data_monthly.loc[(1000, slice(None)), :])\n",
    "user_data_monthly.shape\n",
    "user_data_monthly.isna().sum()"
   ]
  },
  {
   "cell_type": "markdown",
   "metadata": {},
   "source": [
    "- There are users who didn't use messages and calls, but used web traffic and so on, there are different users who used different combinations of communication types, that is why there are missing values after merging;\n",
    "- Filling missing values with 0;"
   ]
  },
  {
   "cell_type": "code",
   "execution_count": 21,
   "metadata": {},
   "outputs": [
    {
     "data": {
      "text/plain": [
       "call_duration_ceiled_count     40\n",
       "call_duration_ceiled_sum       40\n",
       "message_count                 497\n",
       "mb_used_ceiled                 11\n",
       "dtype: int64"
      ]
     },
     "metadata": {},
     "output_type": "display_data"
    },
    {
     "data": {
      "text/plain": [
       "call_duration_ceiled_count    0\n",
       "call_duration_ceiled_sum      0\n",
       "message_count                 0\n",
       "mb_used_ceiled                0\n",
       "dtype: int64"
      ]
     },
     "metadata": {},
     "output_type": "display_data"
    },
    {
     "data": {
      "text/plain": [
       "497"
      ]
     },
     "metadata": {},
     "output_type": "display_data"
    },
    {
     "data": {
      "text/html": [
       "<div>\n",
       "<style scoped>\n",
       "    .dataframe tbody tr th:only-of-type {\n",
       "        vertical-align: middle;\n",
       "    }\n",
       "\n",
       "    .dataframe tbody tr th {\n",
       "        vertical-align: top;\n",
       "    }\n",
       "\n",
       "    .dataframe thead th {\n",
       "        text-align: right;\n",
       "    }\n",
       "</style>\n",
       "<table border=\"1\" class=\"dataframe\">\n",
       "  <thead>\n",
       "    <tr style=\"text-align: right;\">\n",
       "      <th></th>\n",
       "      <th></th>\n",
       "      <th>call_duration_ceiled_count</th>\n",
       "      <th>call_duration_ceiled_sum</th>\n",
       "      <th>message_count</th>\n",
       "      <th>mb_used_ceiled</th>\n",
       "    </tr>\n",
       "    <tr>\n",
       "      <th>user_id</th>\n",
       "      <th>month</th>\n",
       "      <th></th>\n",
       "      <th></th>\n",
       "      <th></th>\n",
       "      <th></th>\n",
       "    </tr>\n",
       "  </thead>\n",
       "  <tbody>\n",
       "    <tr>\n",
       "      <td rowspan=\"8\" valign=\"top\">1000</td>\n",
       "      <td>5</td>\n",
       "      <td>22.00</td>\n",
       "      <td>159.00</td>\n",
       "      <td>22.00</td>\n",
       "      <td>3000.00</td>\n",
       "    </tr>\n",
       "    <tr>\n",
       "      <td>6</td>\n",
       "      <td>43.00</td>\n",
       "      <td>172.00</td>\n",
       "      <td>60.00</td>\n",
       "      <td>24000.00</td>\n",
       "    </tr>\n",
       "    <tr>\n",
       "      <td>7</td>\n",
       "      <td>47.00</td>\n",
       "      <td>340.00</td>\n",
       "      <td>75.00</td>\n",
       "      <td>15000.00</td>\n",
       "    </tr>\n",
       "    <tr>\n",
       "      <td>8</td>\n",
       "      <td>52.00</td>\n",
       "      <td>408.00</td>\n",
       "      <td>81.00</td>\n",
       "      <td>15000.00</td>\n",
       "    </tr>\n",
       "    <tr>\n",
       "      <td>9</td>\n",
       "      <td>58.00</td>\n",
       "      <td>466.00</td>\n",
       "      <td>57.00</td>\n",
       "      <td>15000.00</td>\n",
       "    </tr>\n",
       "    <tr>\n",
       "      <td>10</td>\n",
       "      <td>57.00</td>\n",
       "      <td>350.00</td>\n",
       "      <td>73.00</td>\n",
       "      <td>15000.00</td>\n",
       "    </tr>\n",
       "    <tr>\n",
       "      <td>11</td>\n",
       "      <td>43.00</td>\n",
       "      <td>338.00</td>\n",
       "      <td>58.00</td>\n",
       "      <td>15000.00</td>\n",
       "    </tr>\n",
       "    <tr>\n",
       "      <td>12</td>\n",
       "      <td>46.00</td>\n",
       "      <td>333.00</td>\n",
       "      <td>70.00</td>\n",
       "      <td>10000.00</td>\n",
       "    </tr>\n",
       "  </tbody>\n",
       "</table>\n",
       "</div>"
      ],
      "text/plain": [
       "               call_duration_ceiled_count  call_duration_ceiled_sum  \\\n",
       "user_id month                                                         \n",
       "1000    5                           22.00                    159.00   \n",
       "        6                           43.00                    172.00   \n",
       "        7                           47.00                    340.00   \n",
       "        8                           52.00                    408.00   \n",
       "        9                           58.00                    466.00   \n",
       "        10                          57.00                    350.00   \n",
       "        11                          43.00                    338.00   \n",
       "        12                          46.00                    333.00   \n",
       "\n",
       "               message_count  mb_used_ceiled  \n",
       "user_id month                                 \n",
       "1000    5              22.00         3000.00  \n",
       "        6              60.00        24000.00  \n",
       "        7              75.00        15000.00  \n",
       "        8              81.00        15000.00  \n",
       "        9              57.00        15000.00  \n",
       "        10             73.00        15000.00  \n",
       "        11             58.00        15000.00  \n",
       "        12             70.00        10000.00  "
      ]
     },
     "metadata": {},
     "output_type": "display_data"
    }
   ],
   "source": [
    "display(user_data_monthly.isna().sum())\n",
    "user_data_monthly.fillna(0, inplace=True)\n",
    "display(user_data_monthly.isna().sum())\n",
    "display(user_data_monthly[user_data_monthly['message_count'] == 0]['message_count'].count())\n",
    "display(user_data_monthly.loc[(1000, slice(None)), :])"
   ]
  },
  {
   "cell_type": "markdown",
   "metadata": {},
   "source": [
    "- Lets add tariff column to the summary table in order to calculate revenue;"
   ]
  },
  {
   "cell_type": "code",
   "execution_count": 22,
   "metadata": {},
   "outputs": [
    {
     "data": {
      "text/plain": [
       "(3214, 4)"
      ]
     },
     "execution_count": 22,
     "metadata": {},
     "output_type": "execute_result"
    }
   ],
   "source": [
    "user_data_monthly.shape"
   ]
  },
  {
   "cell_type": "code",
   "execution_count": 23,
   "metadata": {},
   "outputs": [
    {
     "data": {
      "text/plain": [
       "(3214, 6)"
      ]
     },
     "metadata": {},
     "output_type": "display_data"
    },
    {
     "data": {
      "text/html": [
       "<div>\n",
       "<style scoped>\n",
       "    .dataframe tbody tr th:only-of-type {\n",
       "        vertical-align: middle;\n",
       "    }\n",
       "\n",
       "    .dataframe tbody tr th {\n",
       "        vertical-align: top;\n",
       "    }\n",
       "\n",
       "    .dataframe thead th {\n",
       "        text-align: right;\n",
       "    }\n",
       "</style>\n",
       "<table border=\"1\" class=\"dataframe\">\n",
       "  <thead>\n",
       "    <tr style=\"text-align: right;\">\n",
       "      <th></th>\n",
       "      <th>user_id</th>\n",
       "      <th>month</th>\n",
       "      <th>call_duration_ceiled_count</th>\n",
       "      <th>call_duration_ceiled_sum</th>\n",
       "      <th>message_count</th>\n",
       "      <th>mb_used_ceiled</th>\n",
       "    </tr>\n",
       "  </thead>\n",
       "  <tbody>\n",
       "    <tr>\n",
       "      <td>0</td>\n",
       "      <td>1000</td>\n",
       "      <td>5</td>\n",
       "      <td>22.00</td>\n",
       "      <td>159.00</td>\n",
       "      <td>22.00</td>\n",
       "      <td>3000.00</td>\n",
       "    </tr>\n",
       "    <tr>\n",
       "      <td>1</td>\n",
       "      <td>1000</td>\n",
       "      <td>6</td>\n",
       "      <td>43.00</td>\n",
       "      <td>172.00</td>\n",
       "      <td>60.00</td>\n",
       "      <td>24000.00</td>\n",
       "    </tr>\n",
       "    <tr>\n",
       "      <td>2</td>\n",
       "      <td>1000</td>\n",
       "      <td>7</td>\n",
       "      <td>47.00</td>\n",
       "      <td>340.00</td>\n",
       "      <td>75.00</td>\n",
       "      <td>15000.00</td>\n",
       "    </tr>\n",
       "    <tr>\n",
       "      <td>3</td>\n",
       "      <td>1000</td>\n",
       "      <td>8</td>\n",
       "      <td>52.00</td>\n",
       "      <td>408.00</td>\n",
       "      <td>81.00</td>\n",
       "      <td>15000.00</td>\n",
       "    </tr>\n",
       "    <tr>\n",
       "      <td>4</td>\n",
       "      <td>1000</td>\n",
       "      <td>9</td>\n",
       "      <td>58.00</td>\n",
       "      <td>466.00</td>\n",
       "      <td>57.00</td>\n",
       "      <td>15000.00</td>\n",
       "    </tr>\n",
       "  </tbody>\n",
       "</table>\n",
       "</div>"
      ],
      "text/plain": [
       "   user_id  month  call_duration_ceiled_count  call_duration_ceiled_sum  \\\n",
       "0     1000      5                       22.00                    159.00   \n",
       "1     1000      6                       43.00                    172.00   \n",
       "2     1000      7                       47.00                    340.00   \n",
       "3     1000      8                       52.00                    408.00   \n",
       "4     1000      9                       58.00                    466.00   \n",
       "\n",
       "   message_count  mb_used_ceiled  \n",
       "0          22.00         3000.00  \n",
       "1          60.00        24000.00  \n",
       "2          75.00        15000.00  \n",
       "3          81.00        15000.00  \n",
       "4          57.00        15000.00  "
      ]
     },
     "execution_count": 23,
     "metadata": {},
     "output_type": "execute_result"
    }
   ],
   "source": [
    "# reset index to keep month column\n",
    "user_data_monthly.reset_index(inplace=True)\n",
    "display(user_data_monthly.shape)\n",
    "user_data_monthly.head()"
   ]
  },
  {
   "cell_type": "code",
   "execution_count": 24,
   "metadata": {},
   "outputs": [
    {
     "data": {
      "text/plain": [
       "(3214, 7)"
      ]
     },
     "metadata": {},
     "output_type": "display_data"
    },
    {
     "data": {
      "text/html": [
       "<div>\n",
       "<style scoped>\n",
       "    .dataframe tbody tr th:only-of-type {\n",
       "        vertical-align: middle;\n",
       "    }\n",
       "\n",
       "    .dataframe tbody tr th {\n",
       "        vertical-align: top;\n",
       "    }\n",
       "\n",
       "    .dataframe thead th {\n",
       "        text-align: right;\n",
       "    }\n",
       "</style>\n",
       "<table border=\"1\" class=\"dataframe\">\n",
       "  <thead>\n",
       "    <tr style=\"text-align: right;\">\n",
       "      <th></th>\n",
       "      <th>user_id</th>\n",
       "      <th>month</th>\n",
       "      <th>call_duration_ceiled_count</th>\n",
       "      <th>call_duration_ceiled_sum</th>\n",
       "      <th>message_count</th>\n",
       "      <th>mb_used_ceiled</th>\n",
       "      <th>tariff</th>\n",
       "    </tr>\n",
       "  </thead>\n",
       "  <tbody>\n",
       "    <tr>\n",
       "      <td>0</td>\n",
       "      <td>1000</td>\n",
       "      <td>5</td>\n",
       "      <td>22.00</td>\n",
       "      <td>159.00</td>\n",
       "      <td>22.00</td>\n",
       "      <td>3000.00</td>\n",
       "      <td>ultra</td>\n",
       "    </tr>\n",
       "    <tr>\n",
       "      <td>1</td>\n",
       "      <td>1000</td>\n",
       "      <td>6</td>\n",
       "      <td>43.00</td>\n",
       "      <td>172.00</td>\n",
       "      <td>60.00</td>\n",
       "      <td>24000.00</td>\n",
       "      <td>ultra</td>\n",
       "    </tr>\n",
       "    <tr>\n",
       "      <td>2</td>\n",
       "      <td>1000</td>\n",
       "      <td>7</td>\n",
       "      <td>47.00</td>\n",
       "      <td>340.00</td>\n",
       "      <td>75.00</td>\n",
       "      <td>15000.00</td>\n",
       "      <td>ultra</td>\n",
       "    </tr>\n",
       "    <tr>\n",
       "      <td>3</td>\n",
       "      <td>1000</td>\n",
       "      <td>8</td>\n",
       "      <td>52.00</td>\n",
       "      <td>408.00</td>\n",
       "      <td>81.00</td>\n",
       "      <td>15000.00</td>\n",
       "      <td>ultra</td>\n",
       "    </tr>\n",
       "    <tr>\n",
       "      <td>4</td>\n",
       "      <td>1000</td>\n",
       "      <td>9</td>\n",
       "      <td>58.00</td>\n",
       "      <td>466.00</td>\n",
       "      <td>57.00</td>\n",
       "      <td>15000.00</td>\n",
       "      <td>ultra</td>\n",
       "    </tr>\n",
       "  </tbody>\n",
       "</table>\n",
       "</div>"
      ],
      "text/plain": [
       "   user_id  month  call_duration_ceiled_count  call_duration_ceiled_sum  \\\n",
       "0     1000      5                       22.00                    159.00   \n",
       "1     1000      6                       43.00                    172.00   \n",
       "2     1000      7                       47.00                    340.00   \n",
       "3     1000      8                       52.00                    408.00   \n",
       "4     1000      9                       58.00                    466.00   \n",
       "\n",
       "   message_count  mb_used_ceiled tariff  \n",
       "0          22.00         3000.00  ultra  \n",
       "1          60.00        24000.00  ultra  \n",
       "2          75.00        15000.00  ultra  \n",
       "3          81.00        15000.00  ultra  \n",
       "4          57.00        15000.00  ultra  "
      ]
     },
     "execution_count": 24,
     "metadata": {},
     "output_type": "execute_result"
    }
   ],
   "source": [
    "user_data_monthly = user_data_monthly.merge(users[['user_id', 'tariff']], on='user_id')\n",
    "display(user_data_monthly.shape)\n",
    "user_data_monthly.head()"
   ]
  },
  {
   "cell_type": "markdown",
   "metadata": {},
   "source": [
    "- Final table is ready for revenue calculation, lets create special function for it;"
   ]
  },
  {
   "cell_type": "code",
   "execution_count": 25,
   "metadata": {},
   "outputs": [
    {
     "data": {
      "text/html": [
       "<div>\n",
       "<style scoped>\n",
       "    .dataframe tbody tr th:only-of-type {\n",
       "        vertical-align: middle;\n",
       "    }\n",
       "\n",
       "    .dataframe tbody tr th {\n",
       "        vertical-align: top;\n",
       "    }\n",
       "\n",
       "    .dataframe thead th {\n",
       "        text-align: right;\n",
       "    }\n",
       "</style>\n",
       "<table border=\"1\" class=\"dataframe\">\n",
       "  <thead>\n",
       "    <tr style=\"text-align: right;\">\n",
       "      <th></th>\n",
       "      <th>messages_included</th>\n",
       "      <th>mb_per_month_included</th>\n",
       "      <th>minutes_included</th>\n",
       "      <th>rub_monthly_fee</th>\n",
       "      <th>rub_per_gb</th>\n",
       "      <th>rub_per_message</th>\n",
       "      <th>rub_per_minute</th>\n",
       "      <th>tariff_name</th>\n",
       "    </tr>\n",
       "  </thead>\n",
       "  <tbody>\n",
       "    <tr>\n",
       "      <td>0</td>\n",
       "      <td>50</td>\n",
       "      <td>15360</td>\n",
       "      <td>500</td>\n",
       "      <td>550</td>\n",
       "      <td>200</td>\n",
       "      <td>3</td>\n",
       "      <td>3</td>\n",
       "      <td>smart</td>\n",
       "    </tr>\n",
       "    <tr>\n",
       "      <td>1</td>\n",
       "      <td>1000</td>\n",
       "      <td>30720</td>\n",
       "      <td>3000</td>\n",
       "      <td>1950</td>\n",
       "      <td>150</td>\n",
       "      <td>1</td>\n",
       "      <td>1</td>\n",
       "      <td>ultra</td>\n",
       "    </tr>\n",
       "  </tbody>\n",
       "</table>\n",
       "</div>"
      ],
      "text/plain": [
       "   messages_included  mb_per_month_included  minutes_included  \\\n",
       "0                 50                  15360               500   \n",
       "1               1000                  30720              3000   \n",
       "\n",
       "   rub_monthly_fee  rub_per_gb  rub_per_message  rub_per_minute tariff_name  \n",
       "0              550         200                3               3       smart  \n",
       "1             1950         150                1               1       ultra  "
      ]
     },
     "execution_count": 25,
     "metadata": {},
     "output_type": "execute_result"
    }
   ],
   "source": [
    "tariffs"
   ]
  },
  {
   "cell_type": "code",
   "execution_count": 26,
   "metadata": {},
   "outputs": [],
   "source": [
    "def revenue_per_user_monthly(row):\n",
    "    \"\"\"\n",
    "    calculates monthly revenue per each user, uses data from tariffs table\n",
    "    \n",
    "    params:\n",
    "    - row - row of the dataframa\n",
    "    \n",
    "    returns:\n",
    "    - revenue value\n",
    "    \"\"\"\n",
    "    if row['tariff'] == 'ultra':\n",
    "        fil = tariffs['tariff_name'] == 'ultra'\n",
    "        \n",
    "        # calculating amounts above plan\n",
    "        calls_diff = row['call_duration_ceiled_sum']-tariffs[fil]['minutes_included'].values[0]\n",
    "        message_diff = row['message_count']-tariffs[fil]['messages_included'].values[0]\n",
    "        internet_diff = row['mb_used_ceiled']-tariffs[fil]['mb_per_month_included'].values[0]\n",
    "        \n",
    "        # if difference < 0 then assign 0\n",
    "        if calls_diff < 0:\n",
    "            calls_diff = 0\n",
    "        if message_diff < 0:\n",
    "            message_diff = 0\n",
    "        if internet_diff < 0:\n",
    "            internet_diff = 0\n",
    "        return calls_diff + message_diff + (internet_diff/1000)*tariffs[fil]['rub_per_gb'].values[0] + tariffs[fil]['rub_monthly_fee'].values[0]\n",
    "    else:\n",
    "        fil = tariffs['tariff_name'] == 'smart'\n",
    "        calls_diff = row['call_duration_ceiled_sum']-tariffs[fil]['minutes_included'].values[0]\n",
    "        message_diff = row['message_count']-tariffs[fil]['messages_included'].values[0]\n",
    "        internet_diff = row['mb_used_ceiled']-tariffs[fil]['mb_per_month_included'].values[0]\n",
    "        if calls_diff < 0:\n",
    "            calls_diff = 0\n",
    "        if message_diff < 0:\n",
    "            message_diff = 0\n",
    "        if internet_diff < 0:\n",
    "            internet_diff = 0\n",
    "        return calls_diff*tariffs[fil]['rub_per_minute'].values[0] + message_diff*tariffs[fil]['rub_per_message'].values[0] + (internet_diff/1024)*tariffs[fil]['rub_per_gb'].values[0] + tariffs[fil]['rub_monthly_fee'].values[0]"
   ]
  },
  {
   "cell_type": "code",
   "execution_count": 27,
   "metadata": {},
   "outputs": [
    {
     "data": {
      "text/html": [
       "<div>\n",
       "<style scoped>\n",
       "    .dataframe tbody tr th:only-of-type {\n",
       "        vertical-align: middle;\n",
       "    }\n",
       "\n",
       "    .dataframe tbody tr th {\n",
       "        vertical-align: top;\n",
       "    }\n",
       "\n",
       "    .dataframe thead th {\n",
       "        text-align: right;\n",
       "    }\n",
       "</style>\n",
       "<table border=\"1\" class=\"dataframe\">\n",
       "  <thead>\n",
       "    <tr style=\"text-align: right;\">\n",
       "      <th></th>\n",
       "      <th>user_id</th>\n",
       "      <th>month</th>\n",
       "      <th>call_duration_ceiled_count</th>\n",
       "      <th>call_duration_ceiled_sum</th>\n",
       "      <th>message_count</th>\n",
       "      <th>mb_used_ceiled</th>\n",
       "      <th>tariff</th>\n",
       "      <th>revenue</th>\n",
       "    </tr>\n",
       "  </thead>\n",
       "  <tbody>\n",
       "    <tr>\n",
       "      <td>0</td>\n",
       "      <td>1000</td>\n",
       "      <td>5</td>\n",
       "      <td>22.00</td>\n",
       "      <td>159.00</td>\n",
       "      <td>22.00</td>\n",
       "      <td>3000.00</td>\n",
       "      <td>ultra</td>\n",
       "      <td>1950.00</td>\n",
       "    </tr>\n",
       "    <tr>\n",
       "      <td>1</td>\n",
       "      <td>1000</td>\n",
       "      <td>6</td>\n",
       "      <td>43.00</td>\n",
       "      <td>172.00</td>\n",
       "      <td>60.00</td>\n",
       "      <td>24000.00</td>\n",
       "      <td>ultra</td>\n",
       "      <td>1950.00</td>\n",
       "    </tr>\n",
       "    <tr>\n",
       "      <td>2</td>\n",
       "      <td>1000</td>\n",
       "      <td>7</td>\n",
       "      <td>47.00</td>\n",
       "      <td>340.00</td>\n",
       "      <td>75.00</td>\n",
       "      <td>15000.00</td>\n",
       "      <td>ultra</td>\n",
       "      <td>1950.00</td>\n",
       "    </tr>\n",
       "    <tr>\n",
       "      <td>3</td>\n",
       "      <td>1000</td>\n",
       "      <td>8</td>\n",
       "      <td>52.00</td>\n",
       "      <td>408.00</td>\n",
       "      <td>81.00</td>\n",
       "      <td>15000.00</td>\n",
       "      <td>ultra</td>\n",
       "      <td>1950.00</td>\n",
       "    </tr>\n",
       "    <tr>\n",
       "      <td>4</td>\n",
       "      <td>1000</td>\n",
       "      <td>9</td>\n",
       "      <td>58.00</td>\n",
       "      <td>466.00</td>\n",
       "      <td>57.00</td>\n",
       "      <td>15000.00</td>\n",
       "      <td>ultra</td>\n",
       "      <td>1950.00</td>\n",
       "    </tr>\n",
       "    <tr>\n",
       "      <td>5</td>\n",
       "      <td>1000</td>\n",
       "      <td>10</td>\n",
       "      <td>57.00</td>\n",
       "      <td>350.00</td>\n",
       "      <td>73.00</td>\n",
       "      <td>15000.00</td>\n",
       "      <td>ultra</td>\n",
       "      <td>1950.00</td>\n",
       "    </tr>\n",
       "    <tr>\n",
       "      <td>6</td>\n",
       "      <td>1000</td>\n",
       "      <td>11</td>\n",
       "      <td>43.00</td>\n",
       "      <td>338.00</td>\n",
       "      <td>58.00</td>\n",
       "      <td>15000.00</td>\n",
       "      <td>ultra</td>\n",
       "      <td>1950.00</td>\n",
       "    </tr>\n",
       "    <tr>\n",
       "      <td>7</td>\n",
       "      <td>1000</td>\n",
       "      <td>12</td>\n",
       "      <td>46.00</td>\n",
       "      <td>333.00</td>\n",
       "      <td>70.00</td>\n",
       "      <td>10000.00</td>\n",
       "      <td>ultra</td>\n",
       "      <td>1950.00</td>\n",
       "    </tr>\n",
       "  </tbody>\n",
       "</table>\n",
       "</div>"
      ],
      "text/plain": [
       "   user_id  month  call_duration_ceiled_count  call_duration_ceiled_sum  \\\n",
       "0     1000      5                       22.00                    159.00   \n",
       "1     1000      6                       43.00                    172.00   \n",
       "2     1000      7                       47.00                    340.00   \n",
       "3     1000      8                       52.00                    408.00   \n",
       "4     1000      9                       58.00                    466.00   \n",
       "5     1000     10                       57.00                    350.00   \n",
       "6     1000     11                       43.00                    338.00   \n",
       "7     1000     12                       46.00                    333.00   \n",
       "\n",
       "   message_count  mb_used_ceiled tariff  revenue  \n",
       "0          22.00         3000.00  ultra  1950.00  \n",
       "1          60.00        24000.00  ultra  1950.00  \n",
       "2          75.00        15000.00  ultra  1950.00  \n",
       "3          81.00        15000.00  ultra  1950.00  \n",
       "4          57.00        15000.00  ultra  1950.00  \n",
       "5          73.00        15000.00  ultra  1950.00  \n",
       "6          58.00        15000.00  ultra  1950.00  \n",
       "7          70.00        10000.00  ultra  1950.00  "
      ]
     },
     "execution_count": 27,
     "metadata": {},
     "output_type": "execute_result"
    }
   ],
   "source": [
    "user_data_monthly['revenue'] = user_data_monthly.apply(revenue_per_user_monthly, axis=1)\n",
    "user_data_monthly[user_data_monthly['user_id'] == 1000]"
   ]
  },
  {
   "cell_type": "markdown",
   "metadata": {},
   "source": [
    "### Conclusion"
   ]
  },
  {
   "cell_type": "markdown",
   "metadata": {},
   "source": [
    "- Data is prepared for data analysis:\n",
    "    - Duplicates handling is done;\n",
    "    - Missing values and data errors handling is done;\n",
    "    - Data types conversion is done;\n",
    "    - New features calculation is done;"
   ]
  },
  {
   "cell_type": "markdown",
   "metadata": {},
   "source": [
    "## Exploratory data analysis"
   ]
  },
  {
   "cell_type": "markdown",
   "metadata": {},
   "source": [
    "### User's behavior analysis"
   ]
  },
  {
   "cell_type": "markdown",
   "metadata": {},
   "source": [
    "- Describing user's behavior:\n",
    "    - Lets estimate number of spent minutes of calls, number of spent messages and used web traffic calculating mean, variance and standart deviation and plotting results, describing distributions;"
   ]
  },
  {
   "cell_type": "markdown",
   "metadata": {},
   "source": [
    "- Dividing the summary table onto two dataframes based on plan;"
   ]
  },
  {
   "cell_type": "code",
   "execution_count": 28,
   "metadata": {},
   "outputs": [
    {
     "data": {
      "text/plain": [
       "smart    2229\n",
       "ultra     985\n",
       "Name: tariff, dtype: int64"
      ]
     },
     "execution_count": 28,
     "metadata": {},
     "output_type": "execute_result"
    }
   ],
   "source": [
    "user_data_monthly['tariff'].value_counts()"
   ]
  },
  {
   "cell_type": "code",
   "execution_count": 29,
   "metadata": {},
   "outputs": [
    {
     "data": {
      "text/plain": [
       "2229"
      ]
     },
     "metadata": {},
     "output_type": "display_data"
    },
    {
     "data": {
      "text/plain": [
       "985"
      ]
     },
     "execution_count": 29,
     "metadata": {},
     "output_type": "execute_result"
    }
   ],
   "source": [
    "smart = user_data_monthly[user_data_monthly['tariff'] == 'smart']\n",
    "ultra = user_data_monthly[user_data_monthly['tariff'] == 'ultra']\n",
    "\n",
    "display(smart.shape[0])\n",
    "ultra.shape[0]"
   ]
  },
  {
   "cell_type": "markdown",
   "metadata": {},
   "source": [
    "- Lets calculate statistics for different plans and plot it with histograms;"
   ]
  },
  {
   "cell_type": "code",
   "execution_count": 30,
   "metadata": {},
   "outputs": [],
   "source": [
    "# smart\n",
    "# means\n",
    "mean_smart_calls_duration = smart['call_duration_ceiled_sum'].mean()\n",
    "mean_smart_messages_count = smart['message_count'].mean()\n",
    "mean_smart_mb_used = smart['mb_used_ceiled'].mean()\n",
    "\n",
    "# vars\n",
    "var_smart_calls_duration = np.var(smart['call_duration_ceiled_sum'], ddof=1)\n",
    "var_smart_messages_count = np.var(smart['message_count'], ddof=1)\n",
    "var_smart_mb_used = np.var(smart['mb_used_ceiled'], ddof=1)\n",
    "\n",
    "# std\n",
    "std_smart_calls_duration = np.sqrt(var_smart_calls_duration)\n",
    "std_smart_messages_count = np.sqrt(var_smart_messages_count)\n",
    "std_smart_mb_used = np.sqrt(var_smart_mb_used)"
   ]
  },
  {
   "cell_type": "code",
   "execution_count": 31,
   "metadata": {},
   "outputs": [],
   "source": [
    "# ultra\n",
    "# means\n",
    "mean_ultra_calls_duration = ultra['call_duration_ceiled_sum'].mean()\n",
    "mean_ultra_messages_count = ultra['message_count'].mean()\n",
    "mean_ultra_mb_used = ultra['mb_used_ceiled'].mean()\n",
    "\n",
    "# vars\n",
    "var_ultra_calls_duration = np.var(ultra['call_duration_ceiled_sum'], ddof=1)\n",
    "var_ultra_messages_count = np.var(ultra['message_count'], ddof=1)\n",
    "var_ultra_mb_used = np.var(ultra['mb_used_ceiled'], ddof=1)\n",
    "\n",
    "# std\n",
    "std_ultra_calls_duration = np.sqrt(var_ultra_calls_duration)\n",
    "std_ultra_messages_count = np.sqrt(var_ultra_messages_count)\n",
    "std_ultra_mb_used = np.sqrt(var_ultra_mb_used)"
   ]
  },
  {
   "cell_type": "markdown",
   "metadata": {},
   "source": [
    "- Creating functions:\n",
    "    - For calculation optimal parameters of annotation coorinates in histograms;\n",
    "    - For plotting all the data;"
   ]
  },
  {
   "cell_type": "code",
   "execution_count": 32,
   "metadata": {},
   "outputs": [],
   "source": [
    "def text_parameters(column, bins, den=True):\n",
    "    \"\"\"\n",
    "    calculates optimal parameters for annotaion coordinates in histograms\n",
    "    \n",
    "    params:\n",
    "    - column - data for histograms;\n",
    "    - bins - number of bins;\n",
    "    - den - True if density histogram is needed, False if counts are needed;\n",
    "    \n",
    "    returns:\n",
    "    - y_text - max value of density/counts;\n",
    "    - binwidth - bin width;\n",
    "    - countwidth - count width;\n",
    "    - x_max - max value of x axis;\n",
    "    - x_min - min value of x axis;\n",
    "    \n",
    "    \"\"\"\n",
    "    # extract parameters of axes matplotlib object\n",
    "    counts, bins, bars = plt.hist(column, \n",
    "                                  bins=bins, \n",
    "                                  density=den\n",
    "                                 )\n",
    "    count_bin_list = list(zip(list(counts), list(bins)[1:]))\n",
    "    \n",
    "    # calculate optimal parameters\n",
    "    x_max = plt.xticks()[0].max()\n",
    "    x_min = plt.xticks()[0].min()\n",
    "    y_text = max(count_bin_list, key=lambda x: x[0])[0]\n",
    "    binwidth = (max(list(bins)) - min(list(bins)))/len(bins)\n",
    "    countwidth = (max(list(counts)) - min(list(counts)))/len(counts)\n",
    "    \n",
    "    # close axes objects\n",
    "    plt.close()\n",
    "    \n",
    "    return y_text, binwidth, countwidth, x_max, x_min"
   ]
  },
  {
   "cell_type": "code",
   "execution_count": 33,
   "metadata": {},
   "outputs": [],
   "source": [
    "def hist_plot(column_smart, column_ultra, \n",
    "              mean_1, var_1, std_1, \n",
    "              mean_2, var_2, std_2, \n",
    "              bins, \n",
    "              text_params_1, text_params_2,\n",
    "              s_lim=0, u_lim=0, \n",
    "              limits=False, den=True\n",
    "             ):\n",
    "    \"\"\"\n",
    "    plots histogram of a parameter of two datasets with statistics and additional vertical lines\n",
    "    \n",
    "    params:\n",
    "    - column_smart, column_ultra - data for the histogram;\n",
    "    - mean_1, mean_2 - means of the data;\n",
    "    - var_1, var_2 - variances of the data;\n",
    "    - std_1, std_2 - standart deviations of the data;\n",
    "    - bins - number of bins;\n",
    "    - text_params_1, text_params_2 - text_parameters() return values for two datasets;\n",
    "    - s_lim, u_lim - values for additional vertical lines, both equal 0 by default, because limits=False by default;\n",
    "    - limits - True for plotting additional vertical lines, False by default;\n",
    "    - den - True for density, False for counts;\n",
    "    \"\"\"\n",
    "    # unzip text_params\n",
    "    y_text_1, binwidth, countwidth, x_max_1, x_min_1 = text_params_1\n",
    "    y_text_2, _, _, x_max_2, x_min_2 = text_params_2\n",
    "    x_max = max([x_max_1, x_max_2])\n",
    "    x_min = min([x_min_1, x_min_2])\n",
    "    \n",
    "    # create histogram title\n",
    "    title_name = ' '.join([i.capitalize() if index == 0 else i for index, i in enumerate(column_smart.name.split('_'))])\n",
    "    legend_smart = 'Smart'\n",
    "    legend_ultra = 'Ultra'\n",
    "    \n",
    "    # set histogram and its parameters\n",
    "    sns.set_style('darkgrid')\n",
    "    fig, ax = plt.subplots(figsize=(12, 8))\n",
    "    sns.distplot(column_smart, \n",
    "                 ax=ax, \n",
    "                 bins=bins, \n",
    "                 kde=den,\n",
    "                 kde_kws={'label': legend_smart},\n",
    "                 label=legend_smart\n",
    "                ).set(title=title_name)\n",
    "    sns.distplot(column_ultra, \n",
    "                 ax=ax, \n",
    "                 bins=bins, \n",
    "                 kde=den,\n",
    "                 kde_kws={'label': legend_ultra},\n",
    "                 label=legend_ultra\n",
    "                )\n",
    "    \n",
    "    # set statistics and annotation parameters\n",
    "    plt.axvline(mean_1, color='dodgerblue', linestyle='--', linewidth=2)\n",
    "    ax.text(mean_1+binwidth, y_text_1, 'Mean {}: {:.1f}'.format(legend_smart, mean_1))\n",
    "    ax.text(mean_1+3*std_1, y_text_1, 'Variance {}: {:.1f}'.format(legend_smart, var_1))\n",
    "    ax.text(mean_1+3*std_1, y_text_1-countwidth, 'Std {}: {:.1f}'.format(legend_smart, std_1))\n",
    "    \n",
    "    plt.axvline(mean_2, color='coral', linestyle='--', linewidth=2)\n",
    "    ax.text(mean_2+binwidth, y_text_2, 'Mean {}: {:.1f}'.format(legend_ultra, mean_2))\n",
    "    ax.text(mean_2+3*std_1, y_text_2, 'Variance {}: {:.1f}'.format(legend_ultra, var_2))\n",
    "    ax.text(mean_2+3*std_1, y_text_2-countwidth, 'Std {}: {:.1f}'.format(legend_ultra, std_2))\n",
    "    \n",
    "    # set additional lines and annotation parameters\n",
    "    if limits:\n",
    "        if s_lim < 1.5*max([column_smart.max(), column_ultra.max()]):\n",
    "            plt.axvline(s_lim, color='dodgerblue', linestyle='-', linewidth=1)\n",
    "            ax.text(s_lim, 0.5*countwidth, 'Smart limit', rotation=270)\n",
    "        else:\n",
    "            ax.text(x_max, 0.5*countwidth, '^ Smart limit {}'.format(s_lim), rotation=270)\n",
    "\n",
    "        if u_lim < 1.5*max([column_smart.max(), column_ultra.max()]):\n",
    "            plt.axvline(u_lim, color='coral', linestyle='-', linewidth=1)\n",
    "            ax.text(u_lim, 0.5*countwidth, 'Ultra limit', rotation=270)\n",
    "        else:\n",
    "            ax.text(x_max, 0.5*countwidth, '^ Ultra limit {}'.format(u_lim), rotation=270)\n",
    "    \n",
    "    plt.show()"
   ]
  },
  {
   "cell_type": "markdown",
   "metadata": {},
   "source": [
    "- Square root of number of data points is a good approximation for number of bins;"
   ]
  },
  {
   "cell_type": "code",
   "execution_count": 34,
   "metadata": {},
   "outputs": [
    {
     "data": {
      "text/plain": [
       "47.21228653645151"
      ]
     },
     "metadata": {},
     "output_type": "display_data"
    },
    {
     "data": {
      "text/plain": [
       "31.38470965295043"
      ]
     },
     "execution_count": 34,
     "metadata": {},
     "output_type": "execute_result"
    }
   ],
   "source": [
    "display(np.sqrt(smart.shape[0]))\n",
    "np.sqrt(ultra.shape[0])"
   ]
  },
  {
   "cell_type": "markdown",
   "metadata": {},
   "source": [
    "- Lets choose 30 as a number of bins for better visualization of rounded parameters;"
   ]
  },
  {
   "cell_type": "code",
   "execution_count": 35,
   "metadata": {},
   "outputs": [],
   "source": [
    "optimal_bins = 30"
   ]
  },
  {
   "cell_type": "code",
   "execution_count": 36,
   "metadata": {
    "scrolled": false
   },
   "outputs": [
    {
     "data": {
      "image/png": "[encoded data removed]",
      "text/plain": [
       "<Figure size 864x576 with 1 Axes>"
      ]
     },
     "metadata": {},
     "output_type": "display_data"
    }
   ],
   "source": [
    "text_params_calls_smart = text_parameters(smart['call_duration_ceiled_sum'],\n",
    "                optimal_bins\n",
    "               )\n",
    "text_params_calls_ultra = text_parameters(ultra['call_duration_ceiled_sum'],\n",
    "                optimal_bins\n",
    "               )\n",
    "hist_plot(smart['call_duration_ceiled_sum'],\n",
    "          ultra['call_duration_ceiled_sum'],\n",
    "          mean_smart_calls_duration, \n",
    "          var_smart_calls_duration, \n",
    "          std_smart_calls_duration,\n",
    "          mean_ultra_calls_duration, \n",
    "          var_ultra_calls_duration, \n",
    "          std_ultra_calls_duration,\n",
    "          optimal_bins,\n",
    "          text_params_calls_smart,\n",
    "          text_params_calls_ultra,\n",
    "          s_lim=500,\n",
    "          u_lim=3000,\n",
    "          limits=True\n",
    "         )"
   ]
  },
  {
   "cell_type": "markdown",
   "metadata": {},
   "source": [
    "- In average, users of Ultra plan spend approximately 20% more minutes monthly than users of Smart plan;\n",
    "- At the same time, Ultra users are more diverse in terms of number of minutes spent monthly: its standard deviation almost 1.5 times higher than for Smart users;\n",
    "- It is important to note that **non of the users** approach even 50% of number of minutes provided by Ultra plan;\n",
    "- Big amount of Smart users pays above plan for number of minutes spent;"
   ]
  },
  {
   "cell_type": "code",
   "execution_count": 37,
   "metadata": {},
   "outputs": [
    {
     "data": {
      "image/png": "[encoded data removed]",
      "text/plain": [
       "<Figure size 864x576 with 1 Axes>"
      ]
     },
     "metadata": {},
     "output_type": "display_data"
    }
   ],
   "source": [
    "text_params_calls_smart = text_parameters(smart['message_count'],\n",
    "                optimal_bins\n",
    "               )\n",
    "text_params_calls_ultra = text_parameters(ultra['message_count'],\n",
    "                optimal_bins\n",
    "               )\n",
    "hist_plot(smart['message_count'],\n",
    "          ultra['message_count'],\n",
    "          mean_smart_messages_count, \n",
    "          var_smart_messages_count, \n",
    "          std_smart_messages_count,\n",
    "          mean_ultra_messages_count, \n",
    "          var_ultra_messages_count, \n",
    "          std_ultra_messages_count,\n",
    "          optimal_bins,\n",
    "          text_params_calls_smart,\n",
    "          text_params_calls_ultra,\n",
    "          s_lim=50,\n",
    "          u_lim=1000,\n",
    "          limits=True\n",
    "         )"
   ]
  },
  {
   "cell_type": "markdown",
   "metadata": {},
   "source": [
    "- For both plans majority quite big part of users do not use messages at all;\n",
    "- In average, approximately 1.5 times more messages are sent by Ultra users with standard deviation almost 2 times higher, which is well shown in histograms, much more Ultra users send more than 100 messages compared to Smart users;\n",
    "- Here it is similar distribution of data in relation to plan limitations: **no one** approaches to the Ultra message limitation, which equals 1000;\n",
    "- Big part of Smart users pays above plan;"
   ]
  },
  {
   "cell_type": "code",
   "execution_count": 38,
   "metadata": {},
   "outputs": [
    {
     "data": {
      "image/png": "[encoded data removed]",
      "text/plain": [
       "<Figure size 864x576 with 1 Axes>"
      ]
     },
     "metadata": {},
     "output_type": "display_data"
    }
   ],
   "source": [
    "text_params_calls_smart = text_parameters(smart['mb_used_ceiled'],\n",
    "                optimal_bins\n",
    "               )\n",
    "text_params_calls_ultra = text_parameters(ultra['mb_used_ceiled'],\n",
    "                optimal_bins\n",
    "               )\n",
    "hist_plot(smart['mb_used_ceiled'],\n",
    "          ultra['mb_used_ceiled'],\n",
    "          mean_smart_mb_used, \n",
    "          var_smart_mb_used, \n",
    "          std_smart_mb_used,\n",
    "          mean_ultra_mb_used, \n",
    "          var_ultra_mb_used, \n",
    "          std_ultra_mb_used,\n",
    "          optimal_bins,\n",
    "          text_params_calls_smart,\n",
    "          text_params_calls_ultra,\n",
    "          s_lim=15000,\n",
    "          u_lim=30000,\n",
    "          limits=True\n",
    "         )"
   ]
  },
  {
   "cell_type": "markdown",
   "metadata": {},
   "source": [
    "- Absolutely different picture of web traffic distributions;\n",
    "- In average, Ultra users use 2.5 gb more of web traffic compared to Smart users;\n",
    "- Standart deviation of Ultra users is almost 40% higher than for Smart users. It is probably due to the fact that Ultra users have much higher plan limitation and they feel more comfortable using web data without thinking of reaching the limitation;\n",
    "- Smart user's mean higher than the limitation so majority of them pay above the plan. For Ultra users the situation is different: the limitation is shifted towards Q3 but hte mean is around the median so these users mainly pay just for the plan;"
   ]
  },
  {
   "cell_type": "markdown",
   "metadata": {},
   "source": [
    "### Conclusion"
   ]
  },
  {
   "cell_type": "markdown",
   "metadata": {},
   "source": [
    "- Ultra users do not use all the plan for call minutes and messages and do not pay above the plan for these communication types;\n",
    "- Almost half of Smart users pays above the plan for all the communication types;\n",
    "- Web traffic is popular for users of both plans and majority of Smart users use it above the plan and pay more than just monthly subscription fee;"
   ]
  },
  {
   "cell_type": "markdown",
   "metadata": {},
   "source": [
    "## Hypothesis testing"
   ]
  },
  {
   "cell_type": "markdown",
   "metadata": {},
   "source": [
    "- Now lets analyse revenue distributions for both plans and additionally for different regions;\n",
    "- Lets first test the following hypothesis:\n",
    "    1. Mean revenue of users of Smart and Ultra plans is different;\n",
    "    2. Mean revenue of users from Moscow differs from mean revenue of users from other regions;"
   ]
  },
  {
   "cell_type": "markdown",
   "metadata": {},
   "source": [
    "- Test first one: mean revenue of users of Smart and Ultra plans is different;\n",
    "    - Null hypothesis H0: mean revenue of Ultra users **is equal** to mean revenue of Smart users;\n",
    "    - Alternative hypthesis H1: mean revenue of Ultra users **is not equal** to mean revenue of Smart users;\n",
    "- It needs to check means of two samples (revenues of both plans), hence it needs to be understood if means of two populations, from which those two samples were collected, are equal (in other words, if those two samples **belong to the same popuation** ~ sample means difference is around 0 - H0) or not (in other words, if those two samples **do not belong to the same popuation** ~ sample means difference significaly deviates from 0 - H1);\n",
    "- Hence t-test for testing equality of two population means is a good choice;\n",
    "- There is no information about equality of two populations variances, so we set equal_var equals False;"
   ]
  },
  {
   "cell_type": "code",
   "execution_count": 39,
   "metadata": {
    "scrolled": true
   },
   "outputs": [
    {
     "name": "stdout",
     "output_type": "stream",
     "text": [
      "p-value: 5.742823009738983e-251\n",
      "Reject hull hypothesis\n"
     ]
    }
   ],
   "source": [
    "alpha = .05\n",
    "results = st.ttest_ind(smart['revenue'], ultra['revenue'], equal_var=False)\n",
    "\n",
    "print('p-value:', results.pvalue)\n",
    "\n",
    "if results.pvalue < alpha:\n",
    "    print('Reject hull hypothesis')\n",
    "else:\n",
    "    print('Cannot reject null hypothesis') "
   ]
  },
  {
   "cell_type": "markdown",
   "metadata": {},
   "source": [
    "- There is statistically significant result! Null hypothesis is rejected, so alternative hypothesis is accepted: mean revenue of Ultra users is **not equal** to mean revenue of Smart users;\n",
    "- Lets additionally visualize revenue distribution and look at their means, variances and standart deviations;"
   ]
  },
  {
   "cell_type": "code",
   "execution_count": 40,
   "metadata": {},
   "outputs": [],
   "source": [
    "# smart\n",
    "mean_smart_revenue = smart['revenue'].mean()\n",
    "var_smart_revenue = smart['revenue'].var()\n",
    "std_smart_revenue = np.sqrt(var_smart_revenue)\n",
    "\n",
    "# ultra\n",
    "mean_ultra_revenue = ultra['revenue'].mean()\n",
    "var_ultra_revenue = ultra['revenue'].var()\n",
    "std_ultra_revenue = np.sqrt(var_ultra_revenue)"
   ]
  },
  {
   "cell_type": "code",
   "execution_count": 41,
   "metadata": {},
   "outputs": [
    {
     "name": "stdout",
     "output_type": "stream",
     "text": [
      "Total number of revenue values in ultra: 985\n",
      "Fraction of values equal to 1950: 85.0%\n"
     ]
    }
   ],
   "source": [
    "print('Total number of revenue values in ultra:', ultra['revenue'].shape[0])\n",
    "ultra['revenue'].value_counts()\n",
    "print('Fraction of values equal to 1950: {:.1%}'.format(ultra['revenue'].value_counts().iloc[0]/ultra['revenue'].shape[0]))"
   ]
  },
  {
   "cell_type": "markdown",
   "metadata": {},
   "source": [
    "- 85% of Ultra users do not pay above the plan;\n",
    "- In order to see revenue distribution of Ultra users without that huge peak lets plot only users with revenue higher than 2000 rubles and set lower number of bins;"
   ]
  },
  {
   "cell_type": "code",
   "execution_count": 42,
   "metadata": {
    "scrolled": false
   },
   "outputs": [
    {
     "data": {
      "image/png": "[encoded data removed]",
      "text/plain": [
       "<Figure size 864x576 with 1 Axes>"
      ]
     },
     "metadata": {},
     "output_type": "display_data"
    }
   ],
   "source": [
    "text_params_revenue_smart = text_parameters(smart['revenue'],\n",
    "                15\n",
    "               )\n",
    "text_params_revenue_ultra = text_parameters(ultra[ultra['revenue'] > 2000]['revenue'],\n",
    "                15\n",
    "               )\n",
    "hist_plot(smart['revenue'],\n",
    "          ultra[ultra['revenue'] > 2000]['revenue'],\n",
    "          mean_smart_revenue, \n",
    "          var_smart_revenue, \n",
    "          std_smart_revenue,\n",
    "          mean_ultra_revenue, \n",
    "          var_ultra_revenue, \n",
    "          std_ultra_revenue,\n",
    "          15,\n",
    "          text_params_revenue_smart,\n",
    "          text_params_revenue_ultra\n",
    "         )"
   ]
  },
  {
   "cell_type": "markdown",
   "metadata": {},
   "source": [
    "- **Ultra plan gives  60% more revenue per user** compared to Smart plan;\n",
    "- It is clear shown how distributions are shifted against each other;\n",
    "- Now lets make boxplot and pointplot;"
   ]
  },
  {
   "cell_type": "code",
   "execution_count": 43,
   "metadata": {},
   "outputs": [
    {
     "data": {
      "image/png": "[encoded data removed]",
      "text/plain": [
       "<Figure size 864x432 with 1 Axes>"
      ]
     },
     "metadata": {},
     "output_type": "display_data"
    },
    {
     "data": {
      "image/png": "[encoded data removed]",
      "text/plain": [
       "<Figure size 432x504 with 1 Axes>"
      ]
     },
     "metadata": {},
     "output_type": "display_data"
    }
   ],
   "source": [
    "fig, ax = plt.subplots(figsize=(12, 6))\n",
    "fig_1, ax_1 = plt.subplots(figsize=(6, 7))\n",
    "\n",
    "smart_ultra_revenues_concat = pd.concat([smart[['revenue', 'tariff']], ultra[['revenue', 'tariff']]])\n",
    "\n",
    "sns.boxplot(x='revenue', \n",
    "            y='tariff', \n",
    "            data=smart_ultra_revenues_concat,\n",
    "            ax=ax\n",
    "           )\n",
    "sns.pointplot(x='tariff', \n",
    "              y='revenue', \n",
    "              data=smart_ultra_revenues_concat,\n",
    "              ax=ax_1,\n",
    "              join=False,\n",
    "              ci='sd'\n",
    "             )\n",
    "plt.axhline(mean_ultra_revenue, linestyle=':', color='tab:red')\n",
    "plt.show()"
   ]
  },
  {
   "cell_type": "code",
   "execution_count": 44,
   "metadata": {},
   "outputs": [
    {
     "data": {
      "text/html": [
       "<div>\n",
       "<style scoped>\n",
       "    .dataframe tbody tr th:only-of-type {\n",
       "        vertical-align: middle;\n",
       "    }\n",
       "\n",
       "    .dataframe tbody tr th {\n",
       "        vertical-align: top;\n",
       "    }\n",
       "\n",
       "    .dataframe thead tr th {\n",
       "        text-align: left;\n",
       "    }\n",
       "\n",
       "    .dataframe thead tr:last-of-type th {\n",
       "        text-align: right;\n",
       "    }\n",
       "</style>\n",
       "<table border=\"1\" class=\"dataframe\">\n",
       "  <thead>\n",
       "    <tr>\n",
       "      <th></th>\n",
       "      <th>sum</th>\n",
       "      <th>mean</th>\n",
       "    </tr>\n",
       "    <tr>\n",
       "      <th></th>\n",
       "      <th>revenue</th>\n",
       "      <th>revenue</th>\n",
       "    </tr>\n",
       "    <tr>\n",
       "      <th>tariff</th>\n",
       "      <th></th>\n",
       "      <th></th>\n",
       "    </tr>\n",
       "  </thead>\n",
       "  <tbody>\n",
       "    <tr>\n",
       "      <td>smart</td>\n",
       "      <td>2871286.94</td>\n",
       "      <td>1288.15</td>\n",
       "    </tr>\n",
       "    <tr>\n",
       "      <td>ultra</td>\n",
       "      <td>2042016.00</td>\n",
       "      <td>2073.11</td>\n",
       "    </tr>\n",
       "  </tbody>\n",
       "</table>\n",
       "</div>"
      ],
      "text/plain": [
       "              sum    mean\n",
       "          revenue revenue\n",
       "tariff                   \n",
       "smart  2871286.94 1288.15\n",
       "ultra  2042016.00 2073.11"
      ]
     },
     "execution_count": 44,
     "metadata": {},
     "output_type": "execute_result"
    }
   ],
   "source": [
    "user_data_monthly.pivot_table(index='tariff', values='revenue', aggfunc=['sum', 'mean'])"
   ]
  },
  {
   "cell_type": "markdown",
   "metadata": {},
   "source": [
    "- Revenue values of Ultra plan are concentrated around 2000 rubles in the boxplot;\n",
    "- Besides in pointplot it is shown that Ultra revenue mean touches just the margin of confidence interval of Smart revenue mean, which is another proof for having low p-value;\n",
    "- Looking at revenue sums Smart plan brings around 30% more revenue compared to Ultra plan;\n",
    "- But it is important to note that number of Smart users is more than 2 times higher that number of Ultra users;\n",
    "- Hence per user **Ultra plan is more profitable** in terms of revenue;\n",
    "- Thus, in order to increase revenue **first** it needs to **provide higher advertising budget** to higher revenue generationg **Ultra plan** in order to attract more clients, becaues of according to the samples the number of Ultra users is 2 times lower than number of Smart users, **second** it is probably worth to think about **Ultra plan conditions re-development** in the way of decreasing of plan limitations for number of free minutes and messages to have higher probability of getting additional revenue above the plan;"
   ]
  },
  {
   "cell_type": "markdown",
   "metadata": {},
   "source": [
    "- Now lets test the second hypothesis: mean revenue of users from Moscow differs from mean revenue of users from other regions;\n",
    "    - Null hypothesis H0: mean revenue of users from Moscow **is equal** to the mean revenue of users from other regions;\n",
    "    - Алтернативная гипотеза H1: mean revenue of users from Moscow **is not equal** to the mean revenue of users from other regions;\n",
    "- It needs to check means of two samples (revenues of two regions), hence t-test for testing equality of two population means is a good choice;\n",
    "- There is no information about equality of two populations variances, so we set equal_var equals False;"
   ]
  },
  {
   "cell_type": "code",
   "execution_count": 45,
   "metadata": {},
   "outputs": [
    {
     "data": {
      "text/plain": [
       "611"
      ]
     },
     "metadata": {},
     "output_type": "display_data"
    },
    {
     "data": {
      "text/plain": [
       "2603"
      ]
     },
     "metadata": {},
     "output_type": "display_data"
    },
    {
     "data": {
      "text/plain": [
       "611"
      ]
     },
     "metadata": {},
     "output_type": "display_data"
    },
    {
     "data": {
      "text/plain": [
       "2603"
      ]
     },
     "execution_count": 45,
     "metadata": {},
     "output_type": "execute_result"
    }
   ],
   "source": [
    "# create two tables: revenue of Moscow region and revenue of other regions\n",
    "user_data_monthly_city = user_data_monthly.merge(users[['user_id', 'city']], on='user_id')\n",
    "display(user_data_monthly_city.loc[user_data_monthly_city['city'] == 'Москва', 'revenue'].count())\n",
    "display(user_data_monthly_city.loc[user_data_monthly_city['city'] != 'Москва', 'revenue'].count())\n",
    "\n",
    "user_moscow = user_data_monthly_city.loc[user_data_monthly_city['city'] == 'Москва', ['revenue', 'city']]\n",
    "user_other = user_data_monthly_city.loc[user_data_monthly_city['city'] != 'Москва', ['revenue', 'city']]\n",
    "\n",
    "display(user_moscow.shape[0])\n",
    "user_other.shape[0]"
   ]
  },
  {
   "cell_type": "code",
   "execution_count": 46,
   "metadata": {
    "scrolled": true
   },
   "outputs": [
    {
     "name": "stdout",
     "output_type": "stream",
     "text": [
      "p-value: 0.5232321195793577\n",
      "Cannot reject null hypothesis\n"
     ]
    }
   ],
   "source": [
    "results_regions = st.ttest_ind(user_moscow['revenue'], user_other['revenue'], equal_var=False)\n",
    "\n",
    "print('p-value:', results_regions.pvalue)\n",
    "\n",
    "if results_regions.pvalue < alpha:\n",
    "    print('Reject null hypothesis')\n",
    "else:\n",
    "    print('Cannot reject null hypothesis') "
   ]
  },
  {
   "cell_type": "markdown",
   "metadata": {},
   "source": [
    "- Here it is not possible to reject null hypothesis according to the data and the probability to get such a difference in revenues is relatively high;\n",
    "- Lets additionally visualize revenue distribution and look at their means, variances and standart deviations;"
   ]
  },
  {
   "cell_type": "code",
   "execution_count": 47,
   "metadata": {},
   "outputs": [],
   "source": [
    "# Moscow\n",
    "mean_moscow_revenue = user_moscow['revenue'].mean()\n",
    "var_moscow_revenue = user_moscow['revenue'].var()\n",
    "std_moscow_revenue = np.sqrt(var_moscow_revenue)\n",
    "\n",
    "# other regions\n",
    "mean_other_revenue = user_other['revenue'].mean()\n",
    "var_other_revenue = user_other['revenue'].var()\n",
    "std_other_revenue = np.sqrt(var_other_revenue)"
   ]
  },
  {
   "cell_type": "code",
   "execution_count": 48,
   "metadata": {},
   "outputs": [
    {
     "data": {
      "image/png": "[encoded data removed]",
      "text/plain": [
       "<Figure size 864x576 with 1 Axes>"
      ]
     },
     "metadata": {},
     "output_type": "display_data"
    }
   ],
   "source": [
    "text_params_revenue_moscow = text_parameters(user_moscow['revenue'],\n",
    "                optimal_bins\n",
    "               )\n",
    "text_params_revenue_other = text_parameters(user_other['revenue'],\n",
    "                optimal_bins\n",
    "               )\n",
    "hist_plot(user_moscow['revenue'],\n",
    "          user_other['revenue'],\n",
    "          mean_moscow_revenue, \n",
    "          var_moscow_revenue, \n",
    "          std_moscow_revenue,\n",
    "          mean_other_revenue, \n",
    "          var_other_revenue, \n",
    "          std_other_revenue,\n",
    "          optimal_bins,\n",
    "          text_params_revenue_moscow,\n",
    "          text_params_revenue_other\n",
    "         )"
   ]
  },
  {
   "cell_type": "code",
   "execution_count": 49,
   "metadata": {},
   "outputs": [
    {
     "data": {
      "image/png": "[encoded data removed]",
      "text/plain": [
       "<Figure size 864x432 with 1 Axes>"
      ]
     },
     "metadata": {},
     "output_type": "display_data"
    },
    {
     "data": {
      "image/png": "[encoded data removed]",
      "text/plain": [
       "<Figure size 432x504 with 1 Axes>"
      ]
     },
     "metadata": {},
     "output_type": "display_data"
    }
   ],
   "source": [
    "fig, ax = plt.subplots(figsize=(12, 6))\n",
    "fig_1, ax_1 = plt.subplots(figsize=(6, 7))\n",
    "\n",
    "moscow_other_revenues_concat = pd.concat([user_moscow, user_other])\n",
    "\n",
    "def fill_city(value):\n",
    "    if value != 'Москва':\n",
    "        return 'Other'\n",
    "    else:\n",
    "        return 'Moscow'\n",
    "    \n",
    "moscow_other_revenues_concat['city'] = moscow_other_revenues_concat['city'].apply(fill_city)\n",
    "\n",
    "sns.boxplot(x='revenue', \n",
    "            y='city', \n",
    "            data=moscow_other_revenues_concat,\n",
    "            ax=ax\n",
    "           )\n",
    "sns.pointplot(x='city', \n",
    "              y='revenue', \n",
    "              data=moscow_other_revenues_concat,\n",
    "              ax=ax_1,\n",
    "              join=False,\n",
    "              ci='sd'\n",
    "             )\n",
    "\n",
    "plt.show()"
   ]
  },
  {
   "cell_type": "markdown",
   "metadata": {},
   "source": [
    "- As it is shown on the plots above, in 2 standard deviations two distributions are extremely similar and have two distinct peaks, the means are very close. So it is not a surprise that null hypothesis is confirmed according to the data!"
   ]
  },
  {
   "cell_type": "markdown",
   "metadata": {},
   "source": [
    "### Conclusion"
   ]
  },
  {
   "cell_type": "markdown",
   "metadata": {},
   "source": [
    "- Hypothesis \"Mean revenue of users of Smart and Ultra plans is different\" **is confirmed** according to the data;\n",
    "- Hypothesis \"Mean revenue of users from Moscow differs from mean revenue of users from other regions\" **is not confirmed** according to the data;"
   ]
  },
  {
   "cell_type": "markdown",
   "metadata": {},
   "source": [
    "## Final conclusion"
   ]
  },
  {
   "cell_type": "markdown",
   "metadata": {},
   "source": [
    "1. Ultra users do not use the full free amount of minutes and messages from their plan;\n",
    "2. Almost half of Smart users pays above the plan;\n",
    "3. Web traffic is popular among users of both plans, but majority of Smart users pays above the plan for the web traffic;\n",
    "4. Hypothesis \"Mean revenue of users of Smart and Ultra plans is different\" is confirmed according to the data;\n",
    "5. Hypothesis \"Mean revenue of users from Moscow differs from mean revenue of users from other regions\" is not confirmed according to the data;\n",
    "6. **Ultra plan** has **higher** revenue per user, but the number of users is 2 times lower than for Smart plan;\n",
    "7. Thus, in order **to increase revenue** first **it needs to provide higher advertising budget** to higher revenue generationg **Ultra plan** in order to attract more clients, becaues of according to the samples the number of Ultra users is 2 times lower than number of Smart users, second it is probably worth **to think about Ultra plan conditions re-development** in the way of decreasing of plan limitations for number of free minutes and messages to have higher probability of getting additional revenue above the plan;"
   ]
  },
  {
   "cell_type": "code",
   "execution_count": null,
   "metadata": {},
   "outputs": [],
   "source": []
  }
 ],
 "metadata": {
  "ExecuteTimeLog": [
   {
    "duration": 1847,
    "start_time": "2021-07-21T07:25:33.431Z"
   },
   {
    "duration": 206,
    "start_time": "2021-07-21T07:26:33.042Z"
   },
   {
    "duration": 238,
    "start_time": "2021-07-21T07:26:40.026Z"
   },
   {
    "duration": 561,
    "start_time": "2021-07-21T07:31:47.153Z"
   },
   {
    "duration": 653,
    "start_time": "2021-07-21T07:32:06.228Z"
   },
   {
    "duration": 780,
    "start_time": "2021-07-21T07:41:16.546Z"
   },
   {
    "duration": 542,
    "start_time": "2021-07-21T07:41:27.241Z"
   },
   {
    "duration": 9,
    "start_time": "2021-07-21T07:42:22.294Z"
   },
   {
    "duration": 577,
    "start_time": "2021-07-21T07:44:29.125Z"
   },
   {
    "duration": 28,
    "start_time": "2021-07-21T07:45:49.439Z"
   },
   {
    "duration": 20,
    "start_time": "2021-07-21T07:45:50.866Z"
   },
   {
    "duration": 28,
    "start_time": "2021-07-21T07:45:51.308Z"
   },
   {
    "duration": 276,
    "start_time": "2021-07-21T07:46:53.203Z"
   },
   {
    "duration": 547,
    "start_time": "2021-07-21T07:46:58.722Z"
   },
   {
    "duration": 77,
    "start_time": "2021-07-21T07:47:02.333Z"
   },
   {
    "duration": 80,
    "start_time": "2021-07-21T07:47:39.663Z"
   },
   {
    "duration": 575,
    "start_time": "2021-07-21T07:47:56.973Z"
   },
   {
    "duration": 101,
    "start_time": "2021-07-21T07:48:03.409Z"
   },
   {
    "duration": 94,
    "start_time": "2021-07-21T07:50:05.977Z"
   },
   {
    "duration": 57,
    "start_time": "2021-07-21T07:50:23.564Z"
   },
   {
    "duration": 562,
    "start_time": "2021-07-21T07:50:38.457Z"
   },
   {
    "duration": 78,
    "start_time": "2021-07-21T07:50:44.669Z"
   },
   {
    "duration": 14,
    "start_time": "2021-07-21T07:52:22.073Z"
   },
   {
    "duration": 142,
    "start_time": "2021-07-21T07:52:45.316Z"
   },
   {
    "duration": 6,
    "start_time": "2021-07-21T07:54:42.468Z"
   },
   {
    "duration": 7,
    "start_time": "2021-07-21T07:54:48.327Z"
   },
   {
    "duration": 75,
    "start_time": "2021-07-21T07:57:29.150Z"
   },
   {
    "duration": 58,
    "start_time": "2021-07-21T07:59:09.129Z"
   },
   {
    "duration": 46,
    "start_time": "2021-07-21T07:59:16.338Z"
   },
   {
    "duration": 35,
    "start_time": "2021-07-21T07:59:27.307Z"
   },
   {
    "duration": 58,
    "start_time": "2021-07-21T08:00:01.900Z"
   },
   {
    "duration": 249,
    "start_time": "2021-07-21T08:01:28.433Z"
   },
   {
    "duration": 282,
    "start_time": "2021-07-21T08:01:44.224Z"
   },
   {
    "duration": 6,
    "start_time": "2021-07-21T08:12:10.268Z"
   },
   {
    "duration": 59,
    "start_time": "2021-07-21T08:12:53.642Z"
   },
   {
    "duration": 63,
    "start_time": "2021-07-21T08:13:02.467Z"
   },
   {
    "duration": 9,
    "start_time": "2021-07-21T08:14:40.084Z"
   },
   {
    "duration": 16,
    "start_time": "2021-07-21T08:15:14.687Z"
   },
   {
    "duration": 283,
    "start_time": "2021-07-21T08:15:23.928Z"
   },
   {
    "duration": 287,
    "start_time": "2021-07-21T08:15:36.429Z"
   },
   {
    "duration": 9,
    "start_time": "2021-07-21T08:15:59.662Z"
   },
   {
    "duration": 8,
    "start_time": "2021-07-21T08:16:06.400Z"
   },
   {
    "duration": 33,
    "start_time": "2021-07-21T08:16:35.291Z"
   },
   {
    "duration": 35,
    "start_time": "2021-07-21T08:16:45.867Z"
   },
   {
    "duration": 9,
    "start_time": "2021-07-21T08:19:26.560Z"
   },
   {
    "duration": 288,
    "start_time": "2021-07-21T08:19:38.520Z"
   },
   {
    "duration": 10,
    "start_time": "2021-07-21T08:19:59.554Z"
   },
   {
    "duration": 11,
    "start_time": "2021-07-21T08:20:06.632Z"
   },
   {
    "duration": 6,
    "start_time": "2021-07-21T08:22:50.483Z"
   },
   {
    "duration": 6,
    "start_time": "2021-07-21T08:23:04.028Z"
   },
   {
    "duration": 7,
    "start_time": "2021-07-21T08:32:56.711Z"
   },
   {
    "duration": 7,
    "start_time": "2021-07-21T08:33:06.587Z"
   },
   {
    "duration": 7,
    "start_time": "2021-07-21T08:33:11.229Z"
   },
   {
    "duration": 6,
    "start_time": "2021-07-21T08:33:20.600Z"
   },
   {
    "duration": 7,
    "start_time": "2021-07-21T08:33:26.927Z"
   },
   {
    "duration": 282,
    "start_time": "2021-07-21T08:33:43.614Z"
   },
   {
    "duration": 9,
    "start_time": "2021-07-21T08:34:08.764Z"
   },
   {
    "duration": 7,
    "start_time": "2021-07-21T08:34:55.570Z"
   },
   {
    "duration": 277,
    "start_time": "2021-07-21T08:36:25.082Z"
   },
   {
    "duration": 325,
    "start_time": "2021-07-21T08:36:30.462Z"
   },
   {
    "duration": 9,
    "start_time": "2021-07-21T08:36:37.880Z"
   },
   {
    "duration": 9,
    "start_time": "2021-07-21T08:36:43.442Z"
   },
   {
    "duration": 8,
    "start_time": "2021-07-21T08:36:47.939Z"
   },
   {
    "duration": 8,
    "start_time": "2021-07-21T08:36:58.997Z"
   },
   {
    "duration": 10,
    "start_time": "2021-07-21T08:37:02.941Z"
   },
   {
    "duration": 549,
    "start_time": "2021-07-21T08:37:10.081Z"
   },
   {
    "duration": 110,
    "start_time": "2021-07-21T08:37:10.633Z"
   },
   {
    "duration": 8,
    "start_time": "2021-07-21T08:37:10.746Z"
   },
   {
    "duration": 90,
    "start_time": "2021-07-21T08:37:10.757Z"
   },
   {
    "duration": 6,
    "start_time": "2021-07-21T08:37:10.850Z"
   },
   {
    "duration": 288,
    "start_time": "2021-07-21T08:37:10.858Z"
   },
   {
    "duration": 5,
    "start_time": "2021-07-21T08:37:11.148Z"
   },
   {
    "duration": 13,
    "start_time": "2021-07-21T08:37:11.156Z"
   },
   {
    "duration": 13,
    "start_time": "2021-07-21T08:38:02.900Z"
   },
   {
    "duration": 13,
    "start_time": "2021-07-21T09:04:21.147Z"
   },
   {
    "duration": 289,
    "start_time": "2021-07-21T09:05:01.984Z"
   },
   {
    "duration": 277,
    "start_time": "2021-07-21T09:12:25.927Z"
   },
   {
    "duration": 400,
    "start_time": "2021-07-21T09:13:05.374Z"
   },
   {
    "duration": 4525,
    "start_time": "2021-07-21T09:13:43.437Z"
   },
   {
    "duration": 291,
    "start_time": "2021-07-21T09:16:43.185Z"
   },
   {
    "duration": 11,
    "start_time": "2021-07-21T09:17:35.054Z"
   },
   {
    "duration": 348,
    "start_time": "2021-07-21T09:17:48.079Z"
   },
   {
    "duration": 318,
    "start_time": "2021-07-21T09:18:02.525Z"
   },
   {
    "duration": 90,
    "start_time": "2021-07-21T09:18:22.121Z"
   },
   {
    "duration": 83,
    "start_time": "2021-07-21T09:18:33.408Z"
   },
   {
    "duration": 19,
    "start_time": "2021-07-21T09:18:45.094Z"
   },
   {
    "duration": 7303,
    "start_time": "2021-07-21T09:18:53.038Z"
   },
   {
    "duration": 16,
    "start_time": "2021-07-21T09:19:04.420Z"
   },
   {
    "duration": 15,
    "start_time": "2021-07-21T09:19:09.767Z"
   },
   {
    "duration": 15,
    "start_time": "2021-07-21T09:19:26.626Z"
   },
   {
    "duration": 17,
    "start_time": "2021-07-21T09:19:37.042Z"
   },
   {
    "duration": 17,
    "start_time": "2021-07-21T09:19:40.972Z"
   },
   {
    "duration": 748,
    "start_time": "2021-07-21T09:20:31.033Z"
   },
   {
    "duration": 408,
    "start_time": "2021-07-21T09:20:55.228Z"
   },
   {
    "duration": 512,
    "start_time": "2021-07-21T09:21:06.465Z"
   },
   {
    "duration": 483,
    "start_time": "2021-07-21T09:22:14.618Z"
   },
   {
    "duration": 543,
    "start_time": "2021-07-21T09:22:20.609Z"
   },
   {
    "duration": 518,
    "start_time": "2021-07-21T09:23:35.925Z"
   },
   {
    "duration": 517,
    "start_time": "2021-07-21T09:23:43.124Z"
   },
   {
    "duration": 418,
    "start_time": "2021-07-21T09:23:47.608Z"
   },
   {
    "duration": 21,
    "start_time": "2021-07-21T09:31:27.991Z"
   },
   {
    "duration": 20,
    "start_time": "2021-07-21T09:31:47.424Z"
   },
   {
    "duration": 463,
    "start_time": "2021-07-21T09:32:32.095Z"
   },
   {
    "duration": 434,
    "start_time": "2021-07-21T09:32:37.198Z"
   },
   {
    "duration": 428,
    "start_time": "2021-07-21T09:32:46.599Z"
   },
   {
    "duration": 428,
    "start_time": "2021-07-21T09:32:50.593Z"
   },
   {
    "duration": 17,
    "start_time": "2021-07-21T09:54:17.477Z"
   },
   {
    "duration": 44,
    "start_time": "2021-07-21T10:00:41.128Z"
   },
   {
    "duration": 45,
    "start_time": "2021-07-21T10:08:48.197Z"
   },
   {
    "duration": 55,
    "start_time": "2021-07-21T10:10:11.508Z"
   },
   {
    "duration": 25,
    "start_time": "2021-07-21T10:10:40.742Z"
   },
   {
    "duration": 47,
    "start_time": "2021-07-21T10:10:42.529Z"
   },
   {
    "duration": 39,
    "start_time": "2021-07-21T10:10:45.611Z"
   },
   {
    "duration": 12,
    "start_time": "2021-07-21T10:18:03.614Z"
   },
   {
    "duration": 622,
    "start_time": "2021-07-21T10:22:07.342Z"
   },
   {
    "duration": 142,
    "start_time": "2021-07-21T10:22:07.966Z"
   },
   {
    "duration": 24,
    "start_time": "2021-07-21T10:22:08.112Z"
   },
   {
    "duration": 81,
    "start_time": "2021-07-21T10:22:08.140Z"
   },
   {
    "duration": 37,
    "start_time": "2021-07-21T10:22:08.224Z"
   },
   {
    "duration": 6,
    "start_time": "2021-07-21T10:22:08.263Z"
   },
   {
    "duration": 55,
    "start_time": "2021-07-21T10:22:08.300Z"
   },
   {
    "duration": 343,
    "start_time": "2021-07-21T10:22:08.359Z"
   },
   {
    "duration": 9,
    "start_time": "2021-07-21T10:22:08.705Z"
   },
   {
    "duration": 15,
    "start_time": "2021-07-21T10:22:08.717Z"
   },
   {
    "duration": 21,
    "start_time": "2021-07-21T10:22:08.734Z"
   },
   {
    "duration": 538,
    "start_time": "2021-07-21T10:22:08.757Z"
   },
   {
    "duration": 61,
    "start_time": "2021-07-21T10:22:09.300Z"
   },
   {
    "duration": 18,
    "start_time": "2021-07-21T10:22:12.838Z"
   },
   {
    "duration": 563,
    "start_time": "2021-07-21T10:24:16.296Z"
   },
   {
    "duration": 111,
    "start_time": "2021-07-21T10:24:16.862Z"
   },
   {
    "duration": 24,
    "start_time": "2021-07-21T10:24:17.002Z"
   },
   {
    "duration": 40,
    "start_time": "2021-07-21T10:24:17.029Z"
   },
   {
    "duration": 57,
    "start_time": "2021-07-21T10:24:17.072Z"
   },
   {
    "duration": 6,
    "start_time": "2021-07-21T10:24:17.132Z"
   },
   {
    "duration": 69,
    "start_time": "2021-07-21T10:24:17.140Z"
   },
   {
    "duration": 320,
    "start_time": "2021-07-21T10:24:17.212Z"
   },
   {
    "duration": 5,
    "start_time": "2021-07-21T10:24:17.535Z"
   },
   {
    "duration": 13,
    "start_time": "2021-07-21T10:24:17.542Z"
   },
   {
    "duration": 57,
    "start_time": "2021-07-21T10:24:17.557Z"
   },
   {
    "duration": 474,
    "start_time": "2021-07-21T10:24:17.616Z"
   },
   {
    "duration": 51,
    "start_time": "2021-07-21T10:24:18.092Z"
   },
   {
    "duration": 21,
    "start_time": "2021-07-21T10:24:20.928Z"
   },
   {
    "duration": 24,
    "start_time": "2021-07-21T10:25:07.228Z"
   },
   {
    "duration": 168,
    "start_time": "2021-07-21T10:30:17.006Z"
   },
   {
    "duration": 171,
    "start_time": "2021-07-21T10:30:28.299Z"
   },
   {
    "duration": 174,
    "start_time": "2021-07-21T10:31:22.800Z"
   },
   {
    "duration": 720,
    "start_time": "2021-07-21T10:31:43.306Z"
   },
   {
    "duration": 130,
    "start_time": "2021-07-21T10:31:44.029Z"
   },
   {
    "duration": 54,
    "start_time": "2021-07-21T10:31:44.162Z"
   },
   {
    "duration": 37,
    "start_time": "2021-07-21T10:31:44.218Z"
   },
   {
    "duration": 75,
    "start_time": "2021-07-21T10:31:44.257Z"
   },
   {
    "duration": 7,
    "start_time": "2021-07-21T10:31:44.335Z"
   },
   {
    "duration": 77,
    "start_time": "2021-07-21T10:31:44.344Z"
   },
   {
    "duration": 344,
    "start_time": "2021-07-21T10:31:44.426Z"
   },
   {
    "duration": 6,
    "start_time": "2021-07-21T10:31:44.772Z"
   },
   {
    "duration": 31,
    "start_time": "2021-07-21T10:31:44.780Z"
   },
   {
    "duration": 27,
    "start_time": "2021-07-21T10:31:44.815Z"
   },
   {
    "duration": 541,
    "start_time": "2021-07-21T10:31:44.845Z"
   },
   {
    "duration": 62,
    "start_time": "2021-07-21T10:31:45.389Z"
   },
   {
    "duration": 57,
    "start_time": "2021-07-21T10:31:45.454Z"
   },
   {
    "duration": 175,
    "start_time": "2021-07-21T10:32:25.760Z"
   },
   {
    "duration": 2014,
    "start_time": "2021-07-21T10:38:12.448Z"
   },
   {
    "duration": 149,
    "start_time": "2021-07-21T10:38:14.465Z"
   },
   {
    "duration": 23,
    "start_time": "2021-07-21T10:38:14.617Z"
   },
   {
    "duration": 68,
    "start_time": "2021-07-21T10:38:14.642Z"
   },
   {
    "duration": 40,
    "start_time": "2021-07-21T10:38:14.716Z"
   },
   {
    "duration": 8,
    "start_time": "2021-07-21T10:38:14.758Z"
   },
   {
    "duration": 87,
    "start_time": "2021-07-21T10:38:14.769Z"
   },
   {
    "duration": 331,
    "start_time": "2021-07-21T10:38:14.860Z"
   },
   {
    "duration": 11,
    "start_time": "2021-07-21T10:38:15.194Z"
   },
   {
    "duration": 14,
    "start_time": "2021-07-21T10:38:15.208Z"
   },
   {
    "duration": 18,
    "start_time": "2021-07-21T10:38:15.225Z"
   },
   {
    "duration": 523,
    "start_time": "2021-07-21T10:38:15.245Z"
   },
   {
    "duration": 65,
    "start_time": "2021-07-21T10:38:15.771Z"
   },
   {
    "duration": 26,
    "start_time": "2021-07-21T10:38:15.839Z"
   },
   {
    "duration": 207,
    "start_time": "2021-07-21T10:38:15.902Z"
   },
   {
    "duration": 484,
    "start_time": "2021-07-21T10:47:24.942Z"
   },
   {
    "duration": 92,
    "start_time": "2021-07-21T10:47:33.682Z"
   },
   {
    "duration": 308,
    "start_time": "2021-07-21T10:51:32.394Z"
   },
   {
    "duration": 36,
    "start_time": "2021-07-21T10:51:37.473Z"
   },
   {
    "duration": 312,
    "start_time": "2021-07-21T10:51:43.901Z"
   },
   {
    "duration": 8,
    "start_time": "2021-07-21T10:51:47.165Z"
   },
   {
    "duration": 1330,
    "start_time": "2021-07-21T10:52:10.594Z"
   },
   {
    "duration": 624,
    "start_time": "2021-07-21T10:52:26.263Z"
   },
   {
    "duration": 131,
    "start_time": "2021-07-21T10:52:26.902Z"
   },
   {
    "duration": 22,
    "start_time": "2021-07-21T10:52:27.036Z"
   },
   {
    "duration": 69,
    "start_time": "2021-07-21T10:52:27.061Z"
   },
   {
    "duration": 46,
    "start_time": "2021-07-21T10:52:27.132Z"
   },
   {
    "duration": 13,
    "start_time": "2021-07-21T10:52:27.203Z"
   },
   {
    "duration": 53,
    "start_time": "2021-07-21T10:52:27.220Z"
   },
   {
    "duration": 339,
    "start_time": "2021-07-21T10:52:27.278Z"
   },
   {
    "duration": 5,
    "start_time": "2021-07-21T10:52:27.619Z"
   },
   {
    "duration": 12,
    "start_time": "2021-07-21T10:52:27.627Z"
   },
   {
    "duration": 17,
    "start_time": "2021-07-21T10:52:27.641Z"
   },
   {
    "duration": 489,
    "start_time": "2021-07-21T10:52:27.660Z"
   },
   {
    "duration": 58,
    "start_time": "2021-07-21T10:52:28.152Z"
   },
   {
    "duration": 25,
    "start_time": "2021-07-21T10:52:28.214Z"
   },
   {
    "duration": 213,
    "start_time": "2021-07-21T10:52:28.241Z"
   },
   {
    "duration": 3855,
    "start_time": "2021-07-21T10:52:30.952Z"
   },
   {
    "duration": 116,
    "start_time": "2021-07-21T10:52:47.471Z"
   },
   {
    "duration": 644,
    "start_time": "2021-07-21T10:53:35.770Z"
   },
   {
    "duration": 106,
    "start_time": "2021-07-21T10:53:36.418Z"
   },
   {
    "duration": 21,
    "start_time": "2021-07-21T10:53:36.527Z"
   },
   {
    "duration": 70,
    "start_time": "2021-07-21T10:53:36.551Z"
   },
   {
    "duration": 36,
    "start_time": "2021-07-21T10:53:36.624Z"
   },
   {
    "duration": 8,
    "start_time": "2021-07-21T10:53:36.662Z"
   },
   {
    "duration": 76,
    "start_time": "2021-07-21T10:53:36.672Z"
   },
   {
    "duration": 320,
    "start_time": "2021-07-21T10:53:36.751Z"
   },
   {
    "duration": 5,
    "start_time": "2021-07-21T10:53:37.074Z"
   },
   {
    "duration": 16,
    "start_time": "2021-07-21T10:53:37.102Z"
   },
   {
    "duration": 18,
    "start_time": "2021-07-21T10:53:37.121Z"
   },
   {
    "duration": 508,
    "start_time": "2021-07-21T10:53:37.142Z"
   },
   {
    "duration": 54,
    "start_time": "2021-07-21T10:53:37.652Z"
   },
   {
    "duration": 28,
    "start_time": "2021-07-21T10:53:37.711Z"
   },
   {
    "duration": 259,
    "start_time": "2021-07-21T10:53:37.742Z"
   },
   {
    "duration": 452,
    "start_time": "2021-07-21T10:53:40.809Z"
   },
   {
    "duration": 587,
    "start_time": "2021-07-21T10:54:18.961Z"
   },
   {
    "duration": 119,
    "start_time": "2021-07-21T10:54:19.551Z"
   },
   {
    "duration": 53,
    "start_time": "2021-07-21T10:54:19.673Z"
   },
   {
    "duration": 44,
    "start_time": "2021-07-21T10:54:19.729Z"
   },
   {
    "duration": 75,
    "start_time": "2021-07-21T10:54:19.775Z"
   },
   {
    "duration": 7,
    "start_time": "2021-07-21T10:54:19.853Z"
   },
   {
    "duration": 71,
    "start_time": "2021-07-21T10:54:19.863Z"
   },
   {
    "duration": 329,
    "start_time": "2021-07-21T10:54:19.938Z"
   },
   {
    "duration": 6,
    "start_time": "2021-07-21T10:54:20.270Z"
   },
   {
    "duration": 31,
    "start_time": "2021-07-21T10:54:20.279Z"
   },
   {
    "duration": 18,
    "start_time": "2021-07-21T10:54:20.316Z"
   },
   {
    "duration": 500,
    "start_time": "2021-07-21T10:54:20.337Z"
   },
   {
    "duration": 64,
    "start_time": "2021-07-21T10:54:20.840Z"
   },
   {
    "duration": 25,
    "start_time": "2021-07-21T10:54:20.910Z"
   },
   {
    "duration": 222,
    "start_time": "2021-07-21T10:54:20.938Z"
   },
   {
    "duration": 112,
    "start_time": "2021-07-21T10:54:23.182Z"
   },
   {
    "duration": 128,
    "start_time": "2021-07-21T10:55:01.469Z"
   },
   {
    "duration": 110,
    "start_time": "2021-07-21T10:55:20.243Z"
   },
   {
    "duration": 611,
    "start_time": "2021-07-21T11:05:31.797Z"
   },
   {
    "duration": 125,
    "start_time": "2021-07-21T11:05:32.412Z"
   },
   {
    "duration": 22,
    "start_time": "2021-07-21T11:05:32.540Z"
   },
   {
    "duration": 70,
    "start_time": "2021-07-21T11:05:32.565Z"
   },
   {
    "duration": 37,
    "start_time": "2021-07-21T11:05:32.637Z"
   },
   {
    "duration": 9,
    "start_time": "2021-07-21T11:05:32.701Z"
   },
   {
    "duration": 50,
    "start_time": "2021-07-21T11:05:32.713Z"
   },
   {
    "duration": 361,
    "start_time": "2021-07-21T11:05:32.766Z"
   },
   {
    "duration": 5,
    "start_time": "2021-07-21T11:05:33.131Z"
   },
   {
    "duration": 21,
    "start_time": "2021-07-21T11:05:33.138Z"
   },
   {
    "duration": 52,
    "start_time": "2021-07-21T11:05:33.162Z"
   },
   {
    "duration": 465,
    "start_time": "2021-07-21T11:05:33.217Z"
   },
   {
    "duration": 60,
    "start_time": "2021-07-21T11:05:33.684Z"
   },
   {
    "duration": 22,
    "start_time": "2021-07-21T11:05:33.746Z"
   },
   {
    "duration": 261,
    "start_time": "2021-07-21T11:05:33.770Z"
   },
   {
    "duration": 137,
    "start_time": "2021-07-21T11:05:34.033Z"
   },
   {
    "duration": 6,
    "start_time": "2021-07-21T11:05:36.363Z"
   },
   {
    "duration": 665,
    "start_time": "2021-07-21T11:06:00.081Z"
   },
   {
    "duration": 131,
    "start_time": "2021-07-21T11:06:00.748Z"
   },
   {
    "duration": 29,
    "start_time": "2021-07-21T11:06:00.901Z"
   },
   {
    "duration": 42,
    "start_time": "2021-07-21T11:06:00.934Z"
   },
   {
    "duration": 58,
    "start_time": "2021-07-21T11:06:00.979Z"
   },
   {
    "duration": 7,
    "start_time": "2021-07-21T11:06:01.039Z"
   },
   {
    "duration": 82,
    "start_time": "2021-07-21T11:06:01.049Z"
   },
   {
    "duration": 401,
    "start_time": "2021-07-21T11:06:01.135Z"
   },
   {
    "duration": 7,
    "start_time": "2021-07-21T11:06:01.540Z"
   },
   {
    "duration": 16,
    "start_time": "2021-07-21T11:06:01.550Z"
   },
   {
    "duration": 49,
    "start_time": "2021-07-21T11:06:01.568Z"
   },
   {
    "duration": 486,
    "start_time": "2021-07-21T11:06:01.620Z"
   },
   {
    "duration": 49,
    "start_time": "2021-07-21T11:06:02.110Z"
   },
   {
    "duration": 54,
    "start_time": "2021-07-21T11:06:02.162Z"
   },
   {
    "duration": 235,
    "start_time": "2021-07-21T11:06:02.219Z"
   },
   {
    "duration": 147,
    "start_time": "2021-07-21T11:06:02.456Z"
   },
   {
    "duration": 127,
    "start_time": "2021-07-21T11:06:17.183Z"
   },
   {
    "duration": 580,
    "start_time": "2021-07-21T11:06:21.427Z"
   },
   {
    "duration": 124,
    "start_time": "2021-07-21T11:06:22.011Z"
   },
   {
    "duration": 23,
    "start_time": "2021-07-21T11:06:22.138Z"
   },
   {
    "duration": 74,
    "start_time": "2021-07-21T11:06:22.164Z"
   },
   {
    "duration": 36,
    "start_time": "2021-07-21T11:06:22.240Z"
   },
   {
    "duration": 24,
    "start_time": "2021-07-21T11:06:22.280Z"
   },
   {
    "duration": 49,
    "start_time": "2021-07-21T11:06:22.307Z"
   },
   {
    "duration": 345,
    "start_time": "2021-07-21T11:06:22.360Z"
   },
   {
    "duration": 8,
    "start_time": "2021-07-21T11:06:22.709Z"
   },
   {
    "duration": 11,
    "start_time": "2021-07-21T11:06:22.720Z"
   },
   {
    "duration": 18,
    "start_time": "2021-07-21T11:06:22.734Z"
   },
   {
    "duration": 480,
    "start_time": "2021-07-21T11:06:22.800Z"
   },
   {
    "duration": 58,
    "start_time": "2021-07-21T11:06:23.282Z"
   },
   {
    "duration": 61,
    "start_time": "2021-07-21T11:06:23.343Z"
   },
   {
    "duration": 196,
    "start_time": "2021-07-21T11:06:23.408Z"
   },
   {
    "duration": 147,
    "start_time": "2021-07-21T11:06:23.607Z"
   },
   {
    "duration": 24,
    "start_time": "2021-07-21T11:06:28.377Z"
   },
   {
    "duration": 1552,
    "start_time": "2021-07-21T17:02:24.497Z"
   },
   {
    "duration": 69,
    "start_time": "2021-07-21T17:02:26.050Z"
   },
   {
    "duration": 16,
    "start_time": "2021-07-21T17:02:26.121Z"
   },
   {
    "duration": 53,
    "start_time": "2021-07-21T17:02:26.140Z"
   },
   {
    "duration": 30,
    "start_time": "2021-07-21T17:02:26.195Z"
   },
   {
    "duration": 5,
    "start_time": "2021-07-21T17:02:26.227Z"
   },
   {
    "duration": 70,
    "start_time": "2021-07-21T17:02:26.233Z"
   },
   {
    "duration": 238,
    "start_time": "2021-07-21T17:02:26.306Z"
   },
   {
    "duration": 4,
    "start_time": "2021-07-21T17:02:26.547Z"
   },
   {
    "duration": 37,
    "start_time": "2021-07-21T17:02:26.553Z"
   },
   {
    "duration": 479,
    "start_time": "2021-07-21T17:02:26.591Z"
   },
   {
    "duration": 300,
    "start_time": "2021-07-21T17:02:27.072Z"
   },
   {
    "duration": 47,
    "start_time": "2021-07-21T17:02:27.373Z"
   },
   {
    "duration": 13,
    "start_time": "2021-07-21T17:02:27.422Z"
   },
   {
    "duration": 129,
    "start_time": "2021-07-21T17:02:27.436Z"
   },
   {
    "duration": 92,
    "start_time": "2021-07-21T17:02:27.567Z"
   },
   {
    "duration": 37,
    "start_time": "2021-07-21T17:02:27.661Z"
   },
   {
    "duration": 492,
    "start_time": "2021-07-21T17:06:25.073Z"
   },
   {
    "duration": 70,
    "start_time": "2021-07-21T17:06:25.567Z"
   },
   {
    "duration": 14,
    "start_time": "2021-07-21T17:06:25.639Z"
   },
   {
    "duration": 50,
    "start_time": "2021-07-21T17:06:25.655Z"
   },
   {
    "duration": 25,
    "start_time": "2021-07-21T17:06:25.707Z"
   },
   {
    "duration": 5,
    "start_time": "2021-07-21T17:06:25.734Z"
   },
   {
    "duration": 498,
    "start_time": "2021-07-21T17:06:25.741Z"
   },
   {
    "duration": 191,
    "start_time": "2021-07-21T17:06:26.242Z"
   },
   {
    "duration": 4,
    "start_time": "2021-07-21T17:06:26.435Z"
   },
   {
    "duration": 7,
    "start_time": "2021-07-21T17:06:26.441Z"
   },
   {
    "duration": 37,
    "start_time": "2021-07-21T17:06:26.449Z"
   },
   {
    "duration": 286,
    "start_time": "2021-07-21T17:06:26.487Z"
   },
   {
    "duration": 37,
    "start_time": "2021-07-21T17:06:26.775Z"
   },
   {
    "duration": 14,
    "start_time": "2021-07-21T17:06:26.814Z"
   },
   {
    "duration": 220,
    "start_time": "2021-07-21T17:06:30.383Z"
   },
   {
    "duration": 312,
    "start_time": "2021-07-21T17:08:02.457Z"
   },
   {
    "duration": 39,
    "start_time": "2021-07-21T17:08:08.100Z"
   },
   {
    "duration": 476,
    "start_time": "2021-07-21T17:09:20.726Z"
   },
   {
    "duration": 92,
    "start_time": "2021-07-21T17:09:21.204Z"
   },
   {
    "duration": 15,
    "start_time": "2021-07-21T17:09:21.298Z"
   },
   {
    "duration": 29,
    "start_time": "2021-07-21T17:09:21.315Z"
   },
   {
    "duration": 51,
    "start_time": "2021-07-21T17:09:21.346Z"
   },
   {
    "duration": 5,
    "start_time": "2021-07-21T17:09:21.399Z"
   },
   {
    "duration": 218,
    "start_time": "2021-07-21T17:09:21.406Z"
   },
   {
    "duration": 4,
    "start_time": "2021-07-21T17:09:21.626Z"
   },
   {
    "duration": 10,
    "start_time": "2021-07-21T17:09:21.632Z"
   },
   {
    "duration": 15,
    "start_time": "2021-07-21T17:09:21.643Z"
   },
   {
    "duration": 318,
    "start_time": "2021-07-21T17:09:21.660Z"
   },
   {
    "duration": 33,
    "start_time": "2021-07-21T17:09:21.984Z"
   },
   {
    "duration": 18,
    "start_time": "2021-07-21T17:09:22.019Z"
   },
   {
    "duration": 266,
    "start_time": "2021-07-21T17:09:22.039Z"
   },
   {
    "duration": 8,
    "start_time": "2021-07-21T17:09:25.276Z"
   },
   {
    "duration": 12,
    "start_time": "2021-07-21T17:09:31.374Z"
   },
   {
    "duration": 898,
    "start_time": "2021-07-21T17:09:42.261Z"
   },
   {
    "duration": 35,
    "start_time": "2021-07-21T17:09:45.307Z"
   },
   {
    "duration": 12,
    "start_time": "2021-07-21T17:09:57.630Z"
   },
   {
    "duration": 14,
    "start_time": "2021-07-21T17:10:06.139Z"
   },
   {
    "duration": 480,
    "start_time": "2021-07-21T17:16:58.644Z"
   },
   {
    "duration": 89,
    "start_time": "2021-07-21T17:16:59.126Z"
   },
   {
    "duration": 14,
    "start_time": "2021-07-21T17:16:59.217Z"
   },
   {
    "duration": 25,
    "start_time": "2021-07-21T17:16:59.232Z"
   },
   {
    "duration": 58,
    "start_time": "2021-07-21T17:16:59.258Z"
   },
   {
    "duration": 5,
    "start_time": "2021-07-21T17:16:59.317Z"
   },
   {
    "duration": 219,
    "start_time": "2021-07-21T17:16:59.324Z"
   },
   {
    "duration": 3,
    "start_time": "2021-07-21T17:16:59.546Z"
   },
   {
    "duration": 9,
    "start_time": "2021-07-21T17:16:59.550Z"
   },
   {
    "duration": 40,
    "start_time": "2021-07-21T17:16:59.560Z"
   },
   {
    "duration": 320,
    "start_time": "2021-07-21T17:16:59.603Z"
   },
   {
    "duration": 34,
    "start_time": "2021-07-21T17:16:59.924Z"
   },
   {
    "duration": 35,
    "start_time": "2021-07-21T17:16:59.959Z"
   },
   {
    "duration": 158,
    "start_time": "2021-07-21T17:17:02.390Z"
   },
   {
    "duration": 489,
    "start_time": "2021-07-21T17:17:19.724Z"
   },
   {
    "duration": 439,
    "start_time": "2021-07-21T17:17:20.216Z"
   },
   {
    "duration": 15,
    "start_time": "2021-07-21T17:17:20.657Z"
   },
   {
    "duration": 30,
    "start_time": "2021-07-21T17:17:20.687Z"
   },
   {
    "duration": 27,
    "start_time": "2021-07-21T17:17:20.719Z"
   },
   {
    "duration": 5,
    "start_time": "2021-07-21T17:17:20.748Z"
   },
   {
    "duration": 239,
    "start_time": "2021-07-21T17:17:20.754Z"
   },
   {
    "duration": 5,
    "start_time": "2021-07-21T17:17:20.996Z"
   },
   {
    "duration": 14,
    "start_time": "2021-07-21T17:17:21.003Z"
   },
   {
    "duration": 14,
    "start_time": "2021-07-21T17:17:21.019Z"
   },
   {
    "duration": 331,
    "start_time": "2021-07-21T17:17:21.035Z"
   },
   {
    "duration": 54,
    "start_time": "2021-07-21T17:17:21.367Z"
   },
   {
    "duration": 17,
    "start_time": "2021-07-21T17:17:21.423Z"
   },
   {
    "duration": 199,
    "start_time": "2021-07-21T17:17:21.442Z"
   },
   {
    "duration": 114,
    "start_time": "2021-07-21T17:17:21.643Z"
   },
   {
    "duration": 26,
    "start_time": "2021-07-21T17:17:21.759Z"
   },
   {
    "duration": 461,
    "start_time": "2021-07-21T17:17:28.870Z"
   },
   {
    "duration": 84,
    "start_time": "2021-07-21T17:17:29.333Z"
   },
   {
    "duration": 15,
    "start_time": "2021-07-21T17:17:29.419Z"
   },
   {
    "duration": 58,
    "start_time": "2021-07-21T17:17:29.436Z"
   },
   {
    "duration": 32,
    "start_time": "2021-07-21T17:17:29.497Z"
   },
   {
    "duration": 4,
    "start_time": "2021-07-21T17:17:29.530Z"
   },
   {
    "duration": 221,
    "start_time": "2021-07-21T17:17:29.536Z"
   },
   {
    "duration": 3,
    "start_time": "2021-07-21T17:17:29.760Z"
   },
   {
    "duration": 28,
    "start_time": "2021-07-21T17:17:29.765Z"
   },
   {
    "duration": 17,
    "start_time": "2021-07-21T17:17:29.795Z"
   },
   {
    "duration": 334,
    "start_time": "2021-07-21T17:17:29.814Z"
   },
   {
    "duration": 45,
    "start_time": "2021-07-21T17:17:30.150Z"
   },
   {
    "duration": 22,
    "start_time": "2021-07-21T17:17:30.197Z"
   },
   {
    "duration": 307,
    "start_time": "2021-07-21T17:17:30.221Z"
   },
   {
    "duration": 94,
    "start_time": "2021-07-21T17:17:30.530Z"
   },
   {
    "duration": 17,
    "start_time": "2021-07-21T17:17:30.625Z"
   },
   {
    "duration": 25,
    "start_time": "2021-07-21T17:22:04.159Z"
   },
   {
    "duration": 475,
    "start_time": "2021-07-21T17:22:59.538Z"
   },
   {
    "duration": 105,
    "start_time": "2021-07-21T17:23:00.015Z"
   },
   {
    "duration": 14,
    "start_time": "2021-07-21T17:23:00.122Z"
   },
   {
    "duration": 58,
    "start_time": "2021-07-21T17:23:00.138Z"
   },
   {
    "duration": 30,
    "start_time": "2021-07-21T17:23:00.198Z"
   },
   {
    "duration": 5,
    "start_time": "2021-07-21T17:23:00.230Z"
   },
   {
    "duration": 233,
    "start_time": "2021-07-21T17:23:00.236Z"
   },
   {
    "duration": 19,
    "start_time": "2021-07-21T17:23:00.471Z"
   },
   {
    "duration": 14,
    "start_time": "2021-07-21T17:23:00.494Z"
   },
   {
    "duration": 15,
    "start_time": "2021-07-21T17:23:00.510Z"
   },
   {
    "duration": 340,
    "start_time": "2021-07-21T17:23:00.527Z"
   },
   {
    "duration": 48,
    "start_time": "2021-07-21T17:23:00.868Z"
   },
   {
    "duration": 16,
    "start_time": "2021-07-21T17:23:00.918Z"
   },
   {
    "duration": 210,
    "start_time": "2021-07-21T17:23:00.935Z"
   },
   {
    "duration": 94,
    "start_time": "2021-07-21T17:23:01.147Z"
   },
   {
    "duration": 18,
    "start_time": "2021-07-21T17:23:30.765Z"
   },
   {
    "duration": 65,
    "start_time": "2021-07-21T17:24:25.778Z"
   },
   {
    "duration": 66,
    "start_time": "2021-07-21T17:24:36.270Z"
   },
   {
    "duration": 53,
    "start_time": "2021-07-21T17:24:48.343Z"
   },
   {
    "duration": 12,
    "start_time": "2021-07-21T17:25:02.660Z"
   },
   {
    "duration": 5,
    "start_time": "2021-07-21T17:25:20.578Z"
   },
   {
    "duration": 38,
    "start_time": "2021-07-21T17:25:58.784Z"
   },
   {
    "duration": 9,
    "start_time": "2021-07-21T17:26:07.873Z"
   },
   {
    "duration": 201,
    "start_time": "2021-07-21T17:28:02.574Z"
   },
   {
    "duration": 21,
    "start_time": "2021-07-21T17:28:12.833Z"
   },
   {
    "duration": 12,
    "start_time": "2021-07-21T17:29:10.317Z"
   },
   {
    "duration": 74,
    "start_time": "2021-07-21T17:30:01.370Z"
   },
   {
    "duration": 21,
    "start_time": "2021-07-21T17:31:14.126Z"
   },
   {
    "duration": 23,
    "start_time": "2021-07-21T17:31:34.311Z"
   },
   {
    "duration": 62,
    "start_time": "2021-07-21T17:32:34.650Z"
   },
   {
    "duration": 58,
    "start_time": "2021-07-21T17:32:56.471Z"
   },
   {
    "duration": 60,
    "start_time": "2021-07-21T17:33:09.139Z"
   },
   {
    "duration": 60,
    "start_time": "2021-07-21T17:33:14.708Z"
   },
   {
    "duration": 58,
    "start_time": "2021-07-21T17:33:21.888Z"
   },
   {
    "duration": 63,
    "start_time": "2021-07-21T17:33:25.014Z"
   },
   {
    "duration": 71,
    "start_time": "2021-07-21T17:34:06.683Z"
   },
   {
    "duration": 481,
    "start_time": "2021-07-21T17:34:19.937Z"
   },
   {
    "duration": 92,
    "start_time": "2021-07-21T17:34:20.420Z"
   },
   {
    "duration": 15,
    "start_time": "2021-07-21T17:34:20.514Z"
   },
   {
    "duration": 29,
    "start_time": "2021-07-21T17:34:20.531Z"
   },
   {
    "duration": 31,
    "start_time": "2021-07-21T17:34:20.585Z"
   },
   {
    "duration": 5,
    "start_time": "2021-07-21T17:34:20.618Z"
   },
   {
    "duration": 231,
    "start_time": "2021-07-21T17:34:20.625Z"
   },
   {
    "duration": 4,
    "start_time": "2021-07-21T17:34:20.859Z"
   },
   {
    "duration": 25,
    "start_time": "2021-07-21T17:34:20.865Z"
   },
   {
    "duration": 12,
    "start_time": "2021-07-21T17:34:20.892Z"
   },
   {
    "duration": 302,
    "start_time": "2021-07-21T17:34:20.906Z"
   },
   {
    "duration": 36,
    "start_time": "2021-07-21T17:34:21.210Z"
   },
   {
    "duration": 39,
    "start_time": "2021-07-21T17:34:21.249Z"
   },
   {
    "duration": 166,
    "start_time": "2021-07-21T17:34:21.289Z"
   },
   {
    "duration": 75,
    "start_time": "2021-07-21T17:34:24.700Z"
   },
   {
    "duration": 21,
    "start_time": "2021-07-21T17:34:49.813Z"
   },
   {
    "duration": 13,
    "start_time": "2021-07-21T17:34:56.807Z"
   },
   {
    "duration": 26,
    "start_time": "2021-07-21T17:35:05.529Z"
   },
   {
    "duration": 30,
    "start_time": "2021-07-21T17:35:20.757Z"
   },
   {
    "duration": 34,
    "start_time": "2021-07-21T17:35:28.737Z"
   },
   {
    "duration": 474,
    "start_time": "2021-07-21T17:35:43.168Z"
   },
   {
    "duration": 89,
    "start_time": "2021-07-21T17:35:43.644Z"
   },
   {
    "duration": 15,
    "start_time": "2021-07-21T17:35:43.736Z"
   },
   {
    "duration": 49,
    "start_time": "2021-07-21T17:35:43.753Z"
   },
   {
    "duration": 26,
    "start_time": "2021-07-21T17:35:43.804Z"
   },
   {
    "duration": 6,
    "start_time": "2021-07-21T17:35:43.832Z"
   },
   {
    "duration": 232,
    "start_time": "2021-07-21T17:35:43.839Z"
   },
   {
    "duration": 3,
    "start_time": "2021-07-21T17:35:44.086Z"
   },
   {
    "duration": 744,
    "start_time": "2021-07-21T17:35:44.091Z"
   },
   {
    "duration": 14,
    "start_time": "2021-07-21T17:35:44.837Z"
   },
   {
    "duration": 306,
    "start_time": "2021-07-21T17:35:44.853Z"
   },
   {
    "duration": 44,
    "start_time": "2021-07-21T17:35:45.161Z"
   },
   {
    "duration": 16,
    "start_time": "2021-07-21T17:35:45.207Z"
   },
   {
    "duration": 188,
    "start_time": "2021-07-21T17:35:45.224Z"
   },
   {
    "duration": 90,
    "start_time": "2021-07-21T17:35:45.414Z"
   },
   {
    "duration": 28,
    "start_time": "2021-07-21T17:35:45.506Z"
   },
   {
    "duration": 23,
    "start_time": "2021-07-21T17:35:53.494Z"
   },
   {
    "duration": 20,
    "start_time": "2021-07-21T17:36:34.900Z"
   },
   {
    "duration": 23,
    "start_time": "2021-07-21T17:36:40.320Z"
   },
   {
    "duration": 22,
    "start_time": "2021-07-21T17:36:49.444Z"
   },
   {
    "duration": 26,
    "start_time": "2021-07-21T17:37:00.467Z"
   },
   {
    "duration": 26,
    "start_time": "2021-07-21T17:37:12.079Z"
   },
   {
    "duration": 22,
    "start_time": "2021-07-21T17:38:38.393Z"
   },
   {
    "duration": 28,
    "start_time": "2021-07-21T17:38:44.313Z"
   },
   {
    "duration": 26,
    "start_time": "2021-07-21T17:41:23.194Z"
   },
   {
    "duration": 1080,
    "start_time": "2021-07-21T17:41:29.391Z"
   },
   {
    "duration": 21,
    "start_time": "2021-07-21T17:41:38.642Z"
   },
   {
    "duration": 17,
    "start_time": "2021-07-21T17:43:55.005Z"
   },
   {
    "duration": 20,
    "start_time": "2021-07-21T17:48:14.554Z"
   },
   {
    "duration": 18,
    "start_time": "2021-07-21T17:50:26.626Z"
   },
   {
    "duration": 18,
    "start_time": "2021-07-21T17:50:48.124Z"
   },
   {
    "duration": 18,
    "start_time": "2021-07-21T17:50:57.782Z"
   },
   {
    "duration": 18,
    "start_time": "2021-07-21T17:51:06.072Z"
   },
   {
    "duration": 20,
    "start_time": "2021-07-21T17:51:25.582Z"
   },
   {
    "duration": 17,
    "start_time": "2021-07-21T17:52:12.080Z"
   },
   {
    "duration": 22,
    "start_time": "2021-07-21T17:52:24.264Z"
   },
   {
    "duration": 441,
    "start_time": "2021-07-21T18:37:50.820Z"
   },
   {
    "duration": 72,
    "start_time": "2021-07-21T18:37:51.263Z"
   },
   {
    "duration": 14,
    "start_time": "2021-07-21T18:37:51.338Z"
   },
   {
    "duration": 53,
    "start_time": "2021-07-21T18:37:51.354Z"
   },
   {
    "duration": 26,
    "start_time": "2021-07-21T18:37:51.408Z"
   },
   {
    "duration": 5,
    "start_time": "2021-07-21T18:37:51.436Z"
   },
   {
    "duration": 213,
    "start_time": "2021-07-21T18:37:51.442Z"
   },
   {
    "duration": 4,
    "start_time": "2021-07-21T18:37:51.657Z"
   },
   {
    "duration": 28,
    "start_time": "2021-07-21T18:37:51.663Z"
   },
   {
    "duration": 14,
    "start_time": "2021-07-21T18:37:51.693Z"
   },
   {
    "duration": 301,
    "start_time": "2021-07-21T18:37:51.709Z"
   },
   {
    "duration": 57,
    "start_time": "2021-07-21T18:37:52.012Z"
   },
   {
    "duration": 29,
    "start_time": "2021-07-21T18:37:52.074Z"
   },
   {
    "duration": 213,
    "start_time": "2021-07-21T18:37:52.105Z"
   },
   {
    "duration": 91,
    "start_time": "2021-07-21T18:37:52.320Z"
   },
   {
    "duration": 28,
    "start_time": "2021-07-21T18:37:52.413Z"
   },
   {
    "duration": 42,
    "start_time": "2021-07-21T18:37:52.443Z"
   },
   {
    "duration": 19,
    "start_time": "2021-07-21T18:37:52.487Z"
   },
   {
    "duration": 17,
    "start_time": "2021-07-21T18:37:52.508Z"
   },
   {
    "duration": 17,
    "start_time": "2021-07-21T18:37:55.203Z"
   },
   {
    "duration": 453,
    "start_time": "2021-07-21T18:38:48.073Z"
   },
   {
    "duration": 87,
    "start_time": "2021-07-21T18:38:48.527Z"
   },
   {
    "duration": 14,
    "start_time": "2021-07-21T18:38:48.616Z"
   },
   {
    "duration": 27,
    "start_time": "2021-07-21T18:38:48.631Z"
   },
   {
    "duration": 45,
    "start_time": "2021-07-21T18:38:48.659Z"
   },
   {
    "duration": 4,
    "start_time": "2021-07-21T18:38:48.705Z"
   },
   {
    "duration": 211,
    "start_time": "2021-07-21T18:38:48.711Z"
   },
   {
    "duration": 4,
    "start_time": "2021-07-21T18:38:48.924Z"
   },
   {
    "duration": 8,
    "start_time": "2021-07-21T18:38:48.929Z"
   },
   {
    "duration": 15,
    "start_time": "2021-07-21T18:38:48.939Z"
   },
   {
    "duration": 310,
    "start_time": "2021-07-21T18:38:48.955Z"
   },
   {
    "duration": 49,
    "start_time": "2021-07-21T18:38:49.266Z"
   },
   {
    "duration": 15,
    "start_time": "2021-07-21T18:38:49.317Z"
   },
   {
    "duration": 207,
    "start_time": "2021-07-21T18:38:49.334Z"
   },
   {
    "duration": 106,
    "start_time": "2021-07-21T18:38:49.543Z"
   },
   {
    "duration": 43,
    "start_time": "2021-07-21T18:38:49.651Z"
   },
   {
    "duration": 24,
    "start_time": "2021-07-21T18:38:49.696Z"
   },
   {
    "duration": 19,
    "start_time": "2021-07-21T18:38:49.722Z"
   },
   {
    "duration": 17,
    "start_time": "2021-07-21T18:38:49.742Z"
   },
   {
    "duration": 42,
    "start_time": "2021-07-21T18:38:49.761Z"
   },
   {
    "duration": 18,
    "start_time": "2021-07-21T18:41:35.091Z"
   },
   {
    "duration": 450,
    "start_time": "2021-07-21T18:44:20.166Z"
   },
   {
    "duration": 87,
    "start_time": "2021-07-21T18:44:20.618Z"
   },
   {
    "duration": 15,
    "start_time": "2021-07-21T18:44:20.707Z"
   },
   {
    "duration": 28,
    "start_time": "2021-07-21T18:44:20.723Z"
   },
   {
    "duration": 59,
    "start_time": "2021-07-21T18:44:20.752Z"
   },
   {
    "duration": 5,
    "start_time": "2021-07-21T18:44:20.813Z"
   },
   {
    "duration": 214,
    "start_time": "2021-07-21T18:44:20.819Z"
   },
   {
    "duration": 4,
    "start_time": "2021-07-21T18:44:21.035Z"
   },
   {
    "duration": 9,
    "start_time": "2021-07-21T18:44:21.041Z"
   },
   {
    "duration": 34,
    "start_time": "2021-07-21T18:44:21.052Z"
   },
   {
    "duration": 316,
    "start_time": "2021-07-21T18:44:21.088Z"
   },
   {
    "duration": 32,
    "start_time": "2021-07-21T18:44:21.405Z"
   },
   {
    "duration": 13,
    "start_time": "2021-07-21T18:44:21.439Z"
   },
   {
    "duration": 169,
    "start_time": "2021-07-21T18:44:21.487Z"
   },
   {
    "duration": 77,
    "start_time": "2021-07-21T18:44:21.685Z"
   },
   {
    "duration": 50,
    "start_time": "2021-07-21T18:44:21.764Z"
   },
   {
    "duration": 25,
    "start_time": "2021-07-21T18:44:21.816Z"
   },
   {
    "duration": 54,
    "start_time": "2021-07-21T18:44:21.843Z"
   },
   {
    "duration": 20,
    "start_time": "2021-07-21T18:44:21.900Z"
   },
   {
    "duration": 16,
    "start_time": "2021-07-21T18:44:21.922Z"
   },
   {
    "duration": 4,
    "start_time": "2021-07-21T18:48:28.344Z"
   },
   {
    "duration": 200,
    "start_time": "2021-07-21T18:51:09.487Z"
   },
   {
    "duration": 441,
    "start_time": "2021-07-21T18:56:11.503Z"
   },
   {
    "duration": 71,
    "start_time": "2021-07-21T18:56:11.946Z"
   },
   {
    "duration": 15,
    "start_time": "2021-07-21T18:56:12.019Z"
   },
   {
    "duration": 56,
    "start_time": "2021-07-21T18:56:12.035Z"
   },
   {
    "duration": 28,
    "start_time": "2021-07-21T18:56:12.093Z"
   },
   {
    "duration": 5,
    "start_time": "2021-07-21T18:56:12.122Z"
   },
   {
    "duration": 215,
    "start_time": "2021-07-21T18:56:12.128Z"
   },
   {
    "duration": 4,
    "start_time": "2021-07-21T18:56:12.345Z"
   },
   {
    "duration": 8,
    "start_time": "2021-07-21T18:56:12.351Z"
   },
   {
    "duration": 33,
    "start_time": "2021-07-21T18:56:12.360Z"
   },
   {
    "duration": 289,
    "start_time": "2021-07-21T18:56:12.395Z"
   },
   {
    "duration": 33,
    "start_time": "2021-07-21T18:56:12.686Z"
   },
   {
    "duration": 17,
    "start_time": "2021-07-21T18:56:12.720Z"
   },
   {
    "duration": 145,
    "start_time": "2021-07-21T18:56:15.317Z"
   },
   {
    "duration": 14,
    "start_time": "2021-07-21T18:56:45.366Z"
   },
   {
    "duration": 432,
    "start_time": "2021-07-21T18:57:13.517Z"
   },
   {
    "duration": 69,
    "start_time": "2021-07-21T18:57:13.951Z"
   },
   {
    "duration": 15,
    "start_time": "2021-07-21T18:57:14.022Z"
   },
   {
    "duration": 55,
    "start_time": "2021-07-21T18:57:14.039Z"
   },
   {
    "duration": 26,
    "start_time": "2021-07-21T18:57:14.096Z"
   },
   {
    "duration": 5,
    "start_time": "2021-07-21T18:57:14.123Z"
   },
   {
    "duration": 214,
    "start_time": "2021-07-21T18:57:14.129Z"
   },
   {
    "duration": 4,
    "start_time": "2021-07-21T18:57:14.345Z"
   },
   {
    "duration": 12,
    "start_time": "2021-07-21T18:57:14.350Z"
   },
   {
    "duration": 32,
    "start_time": "2021-07-21T18:57:14.363Z"
   },
   {
    "duration": 296,
    "start_time": "2021-07-21T18:57:14.396Z"
   },
   {
    "duration": 33,
    "start_time": "2021-07-21T18:57:14.693Z"
   },
   {
    "duration": 14,
    "start_time": "2021-07-21T18:57:14.727Z"
   },
   {
    "duration": 192,
    "start_time": "2021-07-21T18:57:14.743Z"
   },
   {
    "duration": 94,
    "start_time": "2021-07-21T18:57:14.936Z"
   },
   {
    "duration": 31,
    "start_time": "2021-07-21T18:57:15.032Z"
   },
   {
    "duration": 4,
    "start_time": "2021-07-21T18:57:21.044Z"
   },
   {
    "duration": 45,
    "start_time": "2021-07-21T18:57:31.926Z"
   },
   {
    "duration": 4519,
    "start_time": "2021-07-21T18:57:44.936Z"
   },
   {
    "duration": 35,
    "start_time": "2021-07-21T18:58:10.199Z"
   },
   {
    "duration": 35,
    "start_time": "2021-07-21T18:58:33.207Z"
   },
   {
    "duration": 3604,
    "start_time": "2021-07-21T18:59:08.279Z"
   },
   {
    "duration": 4357,
    "start_time": "2021-07-21T18:59:32.082Z"
   },
   {
    "duration": 5026,
    "start_time": "2021-07-21T18:59:46.310Z"
   },
   {
    "duration": 228,
    "start_time": "2021-07-21T19:03:51.675Z"
   },
   {
    "duration": 44,
    "start_time": "2021-07-21T19:04:06.295Z"
   },
   {
    "duration": 37,
    "start_time": "2021-07-21T19:04:22.392Z"
   },
   {
    "duration": 42,
    "start_time": "2021-07-21T19:04:32.150Z"
   },
   {
    "duration": 35,
    "start_time": "2021-07-21T19:04:45.932Z"
   },
   {
    "duration": 34,
    "start_time": "2021-07-21T19:04:50.631Z"
   },
   {
    "duration": 36,
    "start_time": "2021-07-21T19:05:03.559Z"
   },
   {
    "duration": 232,
    "start_time": "2021-07-21T19:06:18.754Z"
   },
   {
    "duration": 13,
    "start_time": "2021-07-21T19:06:32.833Z"
   },
   {
    "duration": 25,
    "start_time": "2021-07-21T19:07:20.617Z"
   },
   {
    "duration": 11,
    "start_time": "2021-07-21T19:07:55.760Z"
   },
   {
    "duration": 39,
    "start_time": "2021-07-21T19:09:00.669Z"
   },
   {
    "duration": 16,
    "start_time": "2021-07-21T19:09:29.696Z"
   },
   {
    "duration": 37,
    "start_time": "2021-07-21T19:09:37.664Z"
   },
   {
    "duration": 26,
    "start_time": "2021-07-21T19:10:30.087Z"
   },
   {
    "duration": 199,
    "start_time": "2021-07-21T19:13:17.277Z"
   },
   {
    "duration": 197,
    "start_time": "2021-07-21T19:13:39.162Z"
   },
   {
    "duration": 11,
    "start_time": "2021-07-21T19:14:09.321Z"
   },
   {
    "duration": 8,
    "start_time": "2021-07-21T19:14:50.909Z"
   },
   {
    "duration": 27,
    "start_time": "2021-07-21T19:15:03.566Z"
   },
   {
    "duration": 32,
    "start_time": "2021-07-21T19:15:56.496Z"
   },
   {
    "duration": 35,
    "start_time": "2021-07-21T19:18:39.616Z"
   },
   {
    "duration": 472,
    "start_time": "2021-07-21T19:27:45.019Z"
   },
   {
    "duration": 59,
    "start_time": "2021-07-21T19:27:45.493Z"
   },
   {
    "duration": 16,
    "start_time": "2021-07-21T19:27:45.585Z"
   },
   {
    "duration": 33,
    "start_time": "2021-07-21T19:27:45.603Z"
   },
   {
    "duration": 27,
    "start_time": "2021-07-21T19:27:45.638Z"
   },
   {
    "duration": 21,
    "start_time": "2021-07-21T19:27:45.667Z"
   },
   {
    "duration": 218,
    "start_time": "2021-07-21T19:27:45.689Z"
   },
   {
    "duration": 4,
    "start_time": "2021-07-21T19:27:45.910Z"
   },
   {
    "duration": 15,
    "start_time": "2021-07-21T19:27:45.916Z"
   },
   {
    "duration": 23,
    "start_time": "2021-07-21T19:27:45.933Z"
   },
   {
    "duration": 430,
    "start_time": "2021-07-21T19:27:45.958Z"
   },
   {
    "duration": 33,
    "start_time": "2021-07-21T19:27:46.390Z"
   },
   {
    "duration": 17,
    "start_time": "2021-07-21T19:27:46.424Z"
   },
   {
    "duration": 195,
    "start_time": "2021-07-21T19:27:46.443Z"
   },
   {
    "duration": 91,
    "start_time": "2021-07-21T19:27:46.641Z"
   },
   {
    "duration": 29,
    "start_time": "2021-07-21T19:27:46.734Z"
   },
   {
    "duration": 51,
    "start_time": "2021-07-21T19:27:46.765Z"
   },
   {
    "duration": 27,
    "start_time": "2021-07-21T19:27:46.818Z"
   },
   {
    "duration": 49,
    "start_time": "2021-07-21T19:27:46.847Z"
   },
   {
    "duration": 13,
    "start_time": "2021-07-21T19:28:24.802Z"
   },
   {
    "duration": 22,
    "start_time": "2021-07-21T19:29:44.739Z"
   },
   {
    "duration": 28,
    "start_time": "2021-07-21T19:30:13.773Z"
   },
   {
    "duration": 18,
    "start_time": "2021-07-21T19:31:45.037Z"
   },
   {
    "duration": 18,
    "start_time": "2021-07-21T19:31:52.929Z"
   },
   {
    "duration": 20,
    "start_time": "2021-07-21T19:32:07.409Z"
   },
   {
    "duration": 6,
    "start_time": "2021-07-21T19:32:41.154Z"
   },
   {
    "duration": 6,
    "start_time": "2021-07-21T19:33:21.499Z"
   },
   {
    "duration": 4,
    "start_time": "2021-07-21T19:33:27.519Z"
   },
   {
    "duration": 181,
    "start_time": "2021-07-21T19:34:33.579Z"
   },
   {
    "duration": 9,
    "start_time": "2021-07-21T19:34:42.862Z"
   },
   {
    "duration": 9,
    "start_time": "2021-07-21T19:35:02.056Z"
   },
   {
    "duration": 8,
    "start_time": "2021-07-21T19:35:14.180Z"
   },
   {
    "duration": 6,
    "start_time": "2021-07-21T19:37:09.461Z"
   },
   {
    "duration": 6,
    "start_time": "2021-07-21T19:37:11.449Z"
   },
   {
    "duration": 5,
    "start_time": "2021-07-21T19:37:53.418Z"
   },
   {
    "duration": 6,
    "start_time": "2021-07-21T19:37:54.829Z"
   },
   {
    "duration": 6,
    "start_time": "2021-07-21T19:37:56.453Z"
   },
   {
    "duration": 172,
    "start_time": "2021-07-21T19:38:17.939Z"
   },
   {
    "duration": 176,
    "start_time": "2021-07-21T19:40:45.195Z"
   },
   {
    "duration": 7,
    "start_time": "2021-07-21T19:41:09.874Z"
   },
   {
    "duration": 6,
    "start_time": "2021-07-21T19:41:11.354Z"
   },
   {
    "duration": 7,
    "start_time": "2021-07-21T19:41:13.095Z"
   },
   {
    "duration": 60,
    "start_time": "2021-07-21T19:44:20.398Z"
   },
   {
    "duration": 9,
    "start_time": "2021-07-21T19:44:24.408Z"
   },
   {
    "duration": 1206,
    "start_time": "2021-07-21T19:44:50.772Z"
   },
   {
    "duration": 8,
    "start_time": "2021-07-21T19:45:02.182Z"
   },
   {
    "duration": 15,
    "start_time": "2021-07-21T19:45:14.329Z"
   },
   {
    "duration": 10,
    "start_time": "2021-07-21T19:48:56.891Z"
   },
   {
    "duration": 15,
    "start_time": "2021-07-21T19:49:11.390Z"
   },
   {
    "duration": 14,
    "start_time": "2021-07-21T19:49:59.741Z"
   },
   {
    "duration": 14,
    "start_time": "2021-07-21T19:50:22.281Z"
   },
   {
    "duration": 9,
    "start_time": "2021-07-21T19:50:40.920Z"
   },
   {
    "duration": 13,
    "start_time": "2021-07-21T19:50:48.350Z"
   },
   {
    "duration": 15,
    "start_time": "2021-07-21T19:50:57.689Z"
   },
   {
    "duration": 15,
    "start_time": "2021-07-21T19:51:09.201Z"
   },
   {
    "duration": 9,
    "start_time": "2021-07-21T19:51:32.268Z"
   },
   {
    "duration": 30,
    "start_time": "2021-07-21T19:51:45.553Z"
   },
   {
    "duration": 5149,
    "start_time": "2021-07-21T19:52:13.853Z"
   },
   {
    "duration": 421,
    "start_time": "2021-07-21T19:54:26.317Z"
   },
   {
    "duration": 81,
    "start_time": "2021-07-21T19:54:26.740Z"
   },
   {
    "duration": 16,
    "start_time": "2021-07-21T19:54:26.823Z"
   },
   {
    "duration": 51,
    "start_time": "2021-07-21T19:54:26.841Z"
   },
   {
    "duration": 26,
    "start_time": "2021-07-21T19:54:26.894Z"
   },
   {
    "duration": 4,
    "start_time": "2021-07-21T19:54:26.922Z"
   },
   {
    "duration": 222,
    "start_time": "2021-07-21T19:54:26.927Z"
   },
   {
    "duration": 4,
    "start_time": "2021-07-21T19:54:27.152Z"
   },
   {
    "duration": 30,
    "start_time": "2021-07-21T19:54:27.157Z"
   },
   {
    "duration": 12,
    "start_time": "2021-07-21T19:54:27.189Z"
   },
   {
    "duration": 317,
    "start_time": "2021-07-21T19:54:27.203Z"
   },
   {
    "duration": 2,
    "start_time": "2021-07-21T19:54:27.523Z"
   },
   {
    "duration": 18,
    "start_time": "2021-07-21T19:54:27.527Z"
   },
   {
    "duration": 190,
    "start_time": "2021-07-21T19:54:27.546Z"
   },
   {
    "duration": 86,
    "start_time": "2021-07-21T19:54:27.738Z"
   },
   {
    "duration": 32,
    "start_time": "2021-07-21T19:54:27.825Z"
   },
   {
    "duration": 37,
    "start_time": "2021-07-21T19:54:38.408Z"
   },
   {
    "duration": 31,
    "start_time": "2021-07-21T19:54:42.396Z"
   },
   {
    "duration": 30,
    "start_time": "2021-07-21T19:54:49.892Z"
   },
   {
    "duration": 6,
    "start_time": "2021-07-21T19:54:53.481Z"
   },
   {
    "duration": 20,
    "start_time": "2021-07-21T19:54:59.241Z"
   },
   {
    "duration": 14,
    "start_time": "2021-07-21T19:55:05.549Z"
   },
   {
    "duration": 433,
    "start_time": "2021-07-21T19:58:26.845Z"
   },
   {
    "duration": 72,
    "start_time": "2021-07-21T19:58:27.284Z"
   },
   {
    "duration": 17,
    "start_time": "2021-07-21T19:58:27.385Z"
   },
   {
    "duration": 27,
    "start_time": "2021-07-21T19:58:27.403Z"
   },
   {
    "duration": 54,
    "start_time": "2021-07-21T19:58:27.432Z"
   },
   {
    "duration": 5,
    "start_time": "2021-07-21T19:58:27.487Z"
   },
   {
    "duration": 215,
    "start_time": "2021-07-21T19:58:27.494Z"
   },
   {
    "duration": 5,
    "start_time": "2021-07-21T19:58:27.711Z"
   },
   {
    "duration": 7,
    "start_time": "2021-07-21T19:58:27.718Z"
   },
   {
    "duration": 13,
    "start_time": "2021-07-21T19:58:27.727Z"
   },
   {
    "duration": 328,
    "start_time": "2021-07-21T19:58:27.741Z"
   },
   {
    "duration": 28,
    "start_time": "2021-07-21T19:58:28.071Z"
   },
   {
    "duration": 201,
    "start_time": "2021-07-21T19:58:28.100Z"
   },
   {
    "duration": 92,
    "start_time": "2021-07-21T19:58:28.303Z"
   },
   {
    "duration": 31,
    "start_time": "2021-07-21T19:58:28.397Z"
   },
   {
    "duration": 56,
    "start_time": "2021-07-21T19:58:28.430Z"
   },
   {
    "duration": 37,
    "start_time": "2021-07-21T19:58:28.487Z"
   },
   {
    "duration": 31,
    "start_time": "2021-07-21T19:58:28.526Z"
   },
   {
    "duration": 29,
    "start_time": "2021-07-21T19:58:28.559Z"
   },
   {
    "duration": 19,
    "start_time": "2021-07-21T19:58:28.589Z"
   },
   {
    "duration": 5,
    "start_time": "2021-07-21T20:00:34.975Z"
   },
   {
    "duration": 11,
    "start_time": "2021-07-21T20:01:48.380Z"
   },
   {
    "duration": 183,
    "start_time": "2021-07-21T20:12:45.522Z"
   },
   {
    "duration": 5,
    "start_time": "2021-07-21T20:12:50.762Z"
   },
   {
    "duration": 10,
    "start_time": "2021-07-21T20:13:23.136Z"
   },
   {
    "duration": 17,
    "start_time": "2021-07-21T20:13:40.081Z"
   },
   {
    "duration": 13,
    "start_time": "2021-07-21T20:13:53.285Z"
   },
   {
    "duration": 20,
    "start_time": "2021-07-21T20:14:03.419Z"
   },
   {
    "duration": 410,
    "start_time": "2021-07-21T20:14:11.058Z"
   },
   {
    "duration": 75,
    "start_time": "2021-07-21T20:14:11.471Z"
   },
   {
    "duration": 42,
    "start_time": "2021-07-21T20:14:11.548Z"
   },
   {
    "duration": 26,
    "start_time": "2021-07-21T20:14:11.593Z"
   },
   {
    "duration": 32,
    "start_time": "2021-07-21T20:14:11.621Z"
   },
   {
    "duration": 33,
    "start_time": "2021-07-21T20:14:11.655Z"
   },
   {
    "duration": 213,
    "start_time": "2021-07-21T20:14:11.690Z"
   },
   {
    "duration": 4,
    "start_time": "2021-07-21T20:14:11.905Z"
   },
   {
    "duration": 8,
    "start_time": "2021-07-21T20:14:11.911Z"
   },
   {
    "duration": 12,
    "start_time": "2021-07-21T20:14:11.921Z"
   },
   {
    "duration": 326,
    "start_time": "2021-07-21T20:14:11.935Z"
   },
   {
    "duration": 29,
    "start_time": "2021-07-21T20:14:12.262Z"
   },
   {
    "duration": 178,
    "start_time": "2021-07-21T20:14:12.292Z"
   },
   {
    "duration": 78,
    "start_time": "2021-07-21T20:14:12.484Z"
   },
   {
    "duration": 48,
    "start_time": "2021-07-21T20:14:12.564Z"
   },
   {
    "duration": 38,
    "start_time": "2021-07-21T20:14:12.613Z"
   },
   {
    "duration": 45,
    "start_time": "2021-07-21T20:14:12.653Z"
   },
   {
    "duration": 29,
    "start_time": "2021-07-21T20:14:12.700Z"
   },
   {
    "duration": 6,
    "start_time": "2021-07-21T20:14:12.730Z"
   },
   {
    "duration": 18,
    "start_time": "2021-07-21T20:14:12.738Z"
   },
   {
    "duration": 10,
    "start_time": "2021-07-21T20:14:12.785Z"
   },
   {
    "duration": 9,
    "start_time": "2021-07-21T20:14:24.264Z"
   },
   {
    "duration": 13,
    "start_time": "2021-07-21T20:14:26.084Z"
   },
   {
    "duration": 186,
    "start_time": "2021-07-21T20:14:35.485Z"
   },
   {
    "duration": 6,
    "start_time": "2021-07-21T20:14:42.730Z"
   },
   {
    "duration": 417,
    "start_time": "2021-07-21T20:14:55.029Z"
   },
   {
    "duration": 68,
    "start_time": "2021-07-21T20:14:55.448Z"
   },
   {
    "duration": 14,
    "start_time": "2021-07-21T20:14:55.518Z"
   },
   {
    "duration": 51,
    "start_time": "2021-07-21T20:14:55.534Z"
   },
   {
    "duration": 27,
    "start_time": "2021-07-21T20:14:55.587Z"
   },
   {
    "duration": 4,
    "start_time": "2021-07-21T20:14:55.616Z"
   },
   {
    "duration": 205,
    "start_time": "2021-07-21T20:14:55.622Z"
   },
   {
    "duration": 3,
    "start_time": "2021-07-21T20:14:55.830Z"
   },
   {
    "duration": 8,
    "start_time": "2021-07-21T20:14:55.835Z"
   },
   {
    "duration": 40,
    "start_time": "2021-07-21T20:14:55.845Z"
   },
   {
    "duration": 281,
    "start_time": "2021-07-21T20:14:55.887Z"
   },
   {
    "duration": 25,
    "start_time": "2021-07-21T20:14:56.169Z"
   },
   {
    "duration": 199,
    "start_time": "2021-07-21T20:14:56.196Z"
   },
   {
    "duration": 93,
    "start_time": "2021-07-21T20:14:56.397Z"
   },
   {
    "duration": 30,
    "start_time": "2021-07-21T20:14:56.491Z"
   },
   {
    "duration": 38,
    "start_time": "2021-07-21T20:14:56.523Z"
   },
   {
    "duration": 46,
    "start_time": "2021-07-21T20:14:56.563Z"
   },
   {
    "duration": 28,
    "start_time": "2021-07-21T20:14:56.611Z"
   },
   {
    "duration": 5,
    "start_time": "2021-07-21T20:14:56.640Z"
   },
   {
    "duration": 41,
    "start_time": "2021-07-21T20:14:56.647Z"
   },
   {
    "duration": 10,
    "start_time": "2021-07-21T20:14:56.689Z"
   },
   {
    "duration": 17,
    "start_time": "2021-07-21T20:14:59.503Z"
   },
   {
    "duration": 26,
    "start_time": "2021-07-21T20:16:29.796Z"
   },
   {
    "duration": 410,
    "start_time": "2021-07-21T20:17:00.834Z"
   },
   {
    "duration": 79,
    "start_time": "2021-07-21T20:17:01.246Z"
   },
   {
    "duration": 15,
    "start_time": "2021-07-21T20:17:01.327Z"
   },
   {
    "duration": 58,
    "start_time": "2021-07-21T20:17:01.345Z"
   },
   {
    "duration": 26,
    "start_time": "2021-07-21T20:17:01.405Z"
   },
   {
    "duration": 5,
    "start_time": "2021-07-21T20:17:01.432Z"
   },
   {
    "duration": 213,
    "start_time": "2021-07-21T20:17:01.438Z"
   },
   {
    "duration": 4,
    "start_time": "2021-07-21T20:17:01.653Z"
   },
   {
    "duration": 30,
    "start_time": "2021-07-21T20:17:01.658Z"
   },
   {
    "duration": 26,
    "start_time": "2021-07-21T20:17:01.690Z"
   },
   {
    "duration": 284,
    "start_time": "2021-07-21T20:17:01.718Z"
   },
   {
    "duration": 13,
    "start_time": "2021-07-21T20:17:02.003Z"
   },
   {
    "duration": 189,
    "start_time": "2021-07-21T20:17:02.018Z"
   },
   {
    "duration": 92,
    "start_time": "2021-07-21T20:17:02.208Z"
   },
   {
    "duration": 30,
    "start_time": "2021-07-21T20:17:02.302Z"
   },
   {
    "duration": 60,
    "start_time": "2021-07-21T20:17:02.334Z"
   },
   {
    "duration": 27,
    "start_time": "2021-07-21T20:17:02.396Z"
   },
   {
    "duration": 29,
    "start_time": "2021-07-21T20:17:02.425Z"
   },
   {
    "duration": 5,
    "start_time": "2021-07-21T20:17:02.456Z"
   },
   {
    "duration": 25,
    "start_time": "2021-07-21T20:17:06.667Z"
   },
   {
    "duration": 427,
    "start_time": "2021-07-21T20:17:45.731Z"
   },
   {
    "duration": 65,
    "start_time": "2021-07-21T20:17:46.160Z"
   },
   {
    "duration": 13,
    "start_time": "2021-07-21T20:17:46.227Z"
   },
   {
    "duration": 49,
    "start_time": "2021-07-21T20:17:46.242Z"
   },
   {
    "duration": 27,
    "start_time": "2021-07-21T20:17:46.293Z"
   },
   {
    "duration": 4,
    "start_time": "2021-07-21T20:17:46.322Z"
   },
   {
    "duration": 191,
    "start_time": "2021-07-21T20:17:46.328Z"
   },
   {
    "duration": 4,
    "start_time": "2021-07-21T20:17:46.521Z"
   },
   {
    "duration": 8,
    "start_time": "2021-07-21T20:17:46.527Z"
   },
   {
    "duration": 13,
    "start_time": "2021-07-21T20:17:46.536Z"
   },
   {
    "duration": 297,
    "start_time": "2021-07-21T20:17:46.550Z"
   },
   {
    "duration": 13,
    "start_time": "2021-07-21T20:17:46.849Z"
   },
   {
    "duration": 180,
    "start_time": "2021-07-21T20:17:46.864Z"
   },
   {
    "duration": 98,
    "start_time": "2021-07-21T20:17:47.045Z"
   },
   {
    "duration": 42,
    "start_time": "2021-07-21T20:17:47.144Z"
   },
   {
    "duration": 41,
    "start_time": "2021-07-21T20:17:47.187Z"
   },
   {
    "duration": 27,
    "start_time": "2021-07-21T20:17:47.230Z"
   },
   {
    "duration": 48,
    "start_time": "2021-07-21T20:17:47.259Z"
   },
   {
    "duration": 4,
    "start_time": "2021-07-21T20:17:47.309Z"
   },
   {
    "duration": 24,
    "start_time": "2021-07-21T20:17:47.315Z"
   },
   {
    "duration": 18,
    "start_time": "2021-07-21T20:17:50.496Z"
   },
   {
    "duration": 15,
    "start_time": "2021-07-21T20:18:57.198Z"
   },
   {
    "duration": 428,
    "start_time": "2021-07-21T20:19:03.764Z"
   },
   {
    "duration": 58,
    "start_time": "2021-07-21T20:19:04.194Z"
   },
   {
    "duration": 43,
    "start_time": "2021-07-21T20:19:04.254Z"
   },
   {
    "duration": 35,
    "start_time": "2021-07-21T20:19:04.299Z"
   },
   {
    "duration": 25,
    "start_time": "2021-07-21T20:19:04.335Z"
   },
   {
    "duration": 22,
    "start_time": "2021-07-21T20:19:04.362Z"
   },
   {
    "duration": 187,
    "start_time": "2021-07-21T20:19:04.385Z"
   },
   {
    "duration": 3,
    "start_time": "2021-07-21T20:19:04.585Z"
   },
   {
    "duration": 16,
    "start_time": "2021-07-21T20:19:04.590Z"
   },
   {
    "duration": 18,
    "start_time": "2021-07-21T20:19:04.608Z"
   },
   {
    "duration": 298,
    "start_time": "2021-07-21T20:19:04.627Z"
   },
   {
    "duration": 18,
    "start_time": "2021-07-21T20:19:04.927Z"
   },
   {
    "duration": 201,
    "start_time": "2021-07-21T20:19:04.947Z"
   },
   {
    "duration": 109,
    "start_time": "2021-07-21T20:19:05.150Z"
   },
   {
    "duration": 45,
    "start_time": "2021-07-21T20:19:05.261Z"
   },
   {
    "duration": 40,
    "start_time": "2021-07-21T20:19:05.308Z"
   },
   {
    "duration": 47,
    "start_time": "2021-07-21T20:19:05.350Z"
   },
   {
    "duration": 29,
    "start_time": "2021-07-21T20:19:05.399Z"
   },
   {
    "duration": 7,
    "start_time": "2021-07-21T20:19:05.430Z"
   },
   {
    "duration": 53,
    "start_time": "2021-07-21T20:19:05.439Z"
   },
   {
    "duration": 17,
    "start_time": "2021-07-21T20:19:05.493Z"
   },
   {
    "duration": 16,
    "start_time": "2021-07-21T20:19:11.515Z"
   },
   {
    "duration": 7,
    "start_time": "2021-07-21T20:19:15.988Z"
   },
   {
    "duration": 427,
    "start_time": "2021-07-21T20:19:55.740Z"
   },
   {
    "duration": 66,
    "start_time": "2021-07-21T20:19:56.169Z"
   },
   {
    "duration": 14,
    "start_time": "2021-07-21T20:19:56.237Z"
   },
   {
    "duration": 55,
    "start_time": "2021-07-21T20:19:56.253Z"
   },
   {
    "duration": 26,
    "start_time": "2021-07-21T20:19:56.310Z"
   },
   {
    "duration": 4,
    "start_time": "2021-07-21T20:19:56.338Z"
   },
   {
    "duration": 188,
    "start_time": "2021-07-21T20:19:56.344Z"
   },
   {
    "duration": 4,
    "start_time": "2021-07-21T20:19:56.534Z"
   },
   {
    "duration": 8,
    "start_time": "2021-07-21T20:19:56.539Z"
   },
   {
    "duration": 38,
    "start_time": "2021-07-21T20:19:56.549Z"
   },
   {
    "duration": 289,
    "start_time": "2021-07-21T20:19:56.588Z"
   },
   {
    "duration": 18,
    "start_time": "2021-07-21T20:19:56.879Z"
   },
   {
    "duration": 207,
    "start_time": "2021-07-21T20:19:56.899Z"
   },
   {
    "duration": 102,
    "start_time": "2021-07-21T20:19:57.108Z"
   },
   {
    "duration": 32,
    "start_time": "2021-07-21T20:19:57.211Z"
   },
   {
    "duration": 173,
    "start_time": "2021-07-21T20:19:57.244Z"
   },
   {
    "duration": 26,
    "start_time": "2021-07-21T20:19:57.418Z"
   },
   {
    "duration": 43,
    "start_time": "2021-07-21T20:19:57.445Z"
   },
   {
    "duration": 5,
    "start_time": "2021-07-21T20:19:57.490Z"
   },
   {
    "duration": 25,
    "start_time": "2021-07-21T20:19:57.496Z"
   },
   {
    "duration": 16,
    "start_time": "2021-07-21T20:19:57.522Z"
   },
   {
    "duration": 15,
    "start_time": "2021-07-21T20:20:01.513Z"
   },
   {
    "duration": 6,
    "start_time": "2021-07-21T20:20:09.726Z"
   },
   {
    "duration": 408,
    "start_time": "2021-07-21T20:31:06.242Z"
   },
   {
    "duration": 74,
    "start_time": "2021-07-21T20:31:06.651Z"
   },
   {
    "duration": 14,
    "start_time": "2021-07-21T20:31:06.726Z"
   },
   {
    "duration": 46,
    "start_time": "2021-07-21T20:31:06.742Z"
   },
   {
    "duration": 26,
    "start_time": "2021-07-21T20:31:06.790Z"
   },
   {
    "duration": 5,
    "start_time": "2021-07-21T20:31:06.818Z"
   },
   {
    "duration": 221,
    "start_time": "2021-07-21T20:31:06.824Z"
   },
   {
    "duration": 3,
    "start_time": "2021-07-21T20:31:07.048Z"
   },
   {
    "duration": 33,
    "start_time": "2021-07-21T20:31:07.054Z"
   },
   {
    "duration": 12,
    "start_time": "2021-07-21T20:31:07.088Z"
   },
   {
    "duration": 289,
    "start_time": "2021-07-21T20:31:07.102Z"
   },
   {
    "duration": 15,
    "start_time": "2021-07-21T20:31:07.392Z"
   },
   {
    "duration": 201,
    "start_time": "2021-07-21T20:31:07.408Z"
   },
   {
    "duration": 94,
    "start_time": "2021-07-21T20:31:07.610Z"
   },
   {
    "duration": 31,
    "start_time": "2021-07-21T20:31:07.705Z"
   },
   {
    "duration": 50,
    "start_time": "2021-07-21T20:31:07.737Z"
   },
   {
    "duration": 30,
    "start_time": "2021-07-21T20:31:07.789Z"
   },
   {
    "duration": 28,
    "start_time": "2021-07-21T20:31:07.820Z"
   },
   {
    "duration": 4,
    "start_time": "2021-07-21T20:31:07.850Z"
   },
   {
    "duration": 50,
    "start_time": "2021-07-21T20:31:07.856Z"
   },
   {
    "duration": 15,
    "start_time": "2021-07-21T20:31:07.908Z"
   },
   {
    "duration": 17,
    "start_time": "2021-07-21T20:42:16.335Z"
   },
   {
    "duration": 13,
    "start_time": "2021-07-21T20:42:25.278Z"
   },
   {
    "duration": 15,
    "start_time": "2021-07-21T20:42:41.291Z"
   },
   {
    "duration": 389,
    "start_time": "2021-07-21T20:43:41.184Z"
   },
   {
    "duration": 62,
    "start_time": "2021-07-21T20:43:41.575Z"
   },
   {
    "duration": 14,
    "start_time": "2021-07-21T20:43:41.638Z"
   },
   {
    "duration": 49,
    "start_time": "2021-07-21T20:43:41.654Z"
   },
   {
    "duration": 26,
    "start_time": "2021-07-21T20:43:41.705Z"
   },
   {
    "duration": 4,
    "start_time": "2021-07-21T20:43:41.732Z"
   },
   {
    "duration": 201,
    "start_time": "2021-07-21T20:43:41.738Z"
   },
   {
    "duration": 4,
    "start_time": "2021-07-21T20:43:41.941Z"
   },
   {
    "duration": 10,
    "start_time": "2021-07-21T20:43:41.947Z"
   },
   {
    "duration": 31,
    "start_time": "2021-07-21T20:43:41.958Z"
   },
   {
    "duration": 288,
    "start_time": "2021-07-21T20:43:41.990Z"
   },
   {
    "duration": 13,
    "start_time": "2021-07-21T20:43:42.285Z"
   },
   {
    "duration": 189,
    "start_time": "2021-07-21T20:43:42.300Z"
   },
   {
    "duration": 72,
    "start_time": "2021-07-21T20:43:42.490Z"
   },
   {
    "duration": 41,
    "start_time": "2021-07-21T20:43:42.563Z"
   },
   {
    "duration": 39,
    "start_time": "2021-07-21T20:43:42.605Z"
   },
   {
    "duration": 52,
    "start_time": "2021-07-21T20:43:42.645Z"
   },
   {
    "duration": 29,
    "start_time": "2021-07-21T20:43:42.698Z"
   },
   {
    "duration": 5,
    "start_time": "2021-07-21T20:43:42.728Z"
   },
   {
    "duration": 50,
    "start_time": "2021-07-21T20:43:42.735Z"
   },
   {
    "duration": 17,
    "start_time": "2021-07-21T20:43:42.787Z"
   },
   {
    "duration": 3,
    "start_time": "2021-07-21T20:43:42.806Z"
   },
   {
    "duration": 13,
    "start_time": "2021-07-21T20:43:48.279Z"
   },
   {
    "duration": 16,
    "start_time": "2021-07-21T20:44:02.056Z"
   },
   {
    "duration": 182,
    "start_time": "2021-07-21T20:45:31.798Z"
   },
   {
    "duration": 16,
    "start_time": "2021-07-21T20:45:40.024Z"
   },
   {
    "duration": 393,
    "start_time": "2021-07-21T20:46:08.548Z"
   },
   {
    "duration": 65,
    "start_time": "2021-07-21T20:46:08.942Z"
   },
   {
    "duration": 14,
    "start_time": "2021-07-21T20:46:09.009Z"
   },
   {
    "duration": 24,
    "start_time": "2021-07-21T20:46:09.024Z"
   },
   {
    "duration": 54,
    "start_time": "2021-07-21T20:46:09.050Z"
   },
   {
    "duration": 5,
    "start_time": "2021-07-21T20:46:09.105Z"
   },
   {
    "duration": 202,
    "start_time": "2021-07-21T20:46:09.111Z"
   },
   {
    "duration": 3,
    "start_time": "2021-07-21T20:46:09.315Z"
   },
   {
    "duration": 11,
    "start_time": "2021-07-21T20:46:09.320Z"
   },
   {
    "duration": 13,
    "start_time": "2021-07-21T20:46:09.332Z"
   },
   {
    "duration": 307,
    "start_time": "2021-07-21T20:46:09.346Z"
   },
   {
    "duration": 30,
    "start_time": "2021-07-21T20:46:09.655Z"
   },
   {
    "duration": 174,
    "start_time": "2021-07-21T20:46:09.687Z"
   },
   {
    "duration": 74,
    "start_time": "2021-07-21T20:46:09.885Z"
   },
   {
    "duration": 42,
    "start_time": "2021-07-21T20:46:09.960Z"
   },
   {
    "duration": 42,
    "start_time": "2021-07-21T20:46:10.003Z"
   },
   {
    "duration": 52,
    "start_time": "2021-07-21T20:46:10.047Z"
   },
   {
    "duration": 28,
    "start_time": "2021-07-21T20:46:10.101Z"
   },
   {
    "duration": 5,
    "start_time": "2021-07-21T20:46:10.131Z"
   },
   {
    "duration": 57,
    "start_time": "2021-07-21T20:46:10.138Z"
   },
   {
    "duration": 17,
    "start_time": "2021-07-21T20:46:10.197Z"
   },
   {
    "duration": 3,
    "start_time": "2021-07-21T20:46:10.216Z"
   },
   {
    "duration": 4,
    "start_time": "2021-07-21T20:46:13.624Z"
   },
   {
    "duration": 14,
    "start_time": "2021-07-21T20:46:19.465Z"
   },
   {
    "duration": 394,
    "start_time": "2021-07-21T20:46:40.076Z"
   },
   {
    "duration": 73,
    "start_time": "2021-07-21T20:46:40.471Z"
   },
   {
    "duration": 40,
    "start_time": "2021-07-21T20:46:40.546Z"
   },
   {
    "duration": 26,
    "start_time": "2021-07-21T20:46:40.588Z"
   },
   {
    "duration": 26,
    "start_time": "2021-07-21T20:46:40.616Z"
   },
   {
    "duration": 5,
    "start_time": "2021-07-21T20:46:40.643Z"
   },
   {
    "duration": 220,
    "start_time": "2021-07-21T20:46:40.650Z"
   },
   {
    "duration": 4,
    "start_time": "2021-07-21T20:46:40.886Z"
   },
   {
    "duration": 8,
    "start_time": "2021-07-21T20:46:40.892Z"
   },
   {
    "duration": 12,
    "start_time": "2021-07-21T20:46:40.902Z"
   },
   {
    "duration": 309,
    "start_time": "2021-07-21T20:46:40.916Z"
   },
   {
    "duration": 17,
    "start_time": "2021-07-21T20:46:41.227Z"
   },
   {
    "duration": 197,
    "start_time": "2021-07-21T20:46:41.246Z"
   },
   {
    "duration": 94,
    "start_time": "2021-07-21T20:46:41.445Z"
   },
   {
    "duration": 29,
    "start_time": "2021-07-21T20:46:41.541Z"
   },
   {
    "duration": 49,
    "start_time": "2021-07-21T20:46:41.572Z"
   },
   {
    "duration": 26,
    "start_time": "2021-07-21T20:46:41.623Z"
   },
   {
    "duration": 47,
    "start_time": "2021-07-21T20:46:41.651Z"
   },
   {
    "duration": 6,
    "start_time": "2021-07-21T20:46:41.700Z"
   },
   {
    "duration": 27,
    "start_time": "2021-07-21T20:46:41.708Z"
   },
   {
    "duration": 56,
    "start_time": "2021-07-21T20:46:41.737Z"
   },
   {
    "duration": 5,
    "start_time": "2021-07-21T20:46:45.189Z"
   },
   {
    "duration": 13,
    "start_time": "2021-07-21T20:46:47.350Z"
   },
   {
    "duration": 18,
    "start_time": "2021-07-21T20:46:58.478Z"
   },
   {
    "duration": 391,
    "start_time": "2021-07-21T20:48:36.836Z"
   },
   {
    "duration": 76,
    "start_time": "2021-07-21T20:48:37.229Z"
   },
   {
    "duration": 13,
    "start_time": "2021-07-21T20:48:37.307Z"
   },
   {
    "duration": 25,
    "start_time": "2021-07-21T20:48:37.322Z"
   },
   {
    "duration": 54,
    "start_time": "2021-07-21T20:48:37.348Z"
   },
   {
    "duration": 5,
    "start_time": "2021-07-21T20:48:37.403Z"
   },
   {
    "duration": 189,
    "start_time": "2021-07-21T20:48:37.409Z"
   },
   {
    "duration": 3,
    "start_time": "2021-07-21T20:48:37.601Z"
   },
   {
    "duration": 9,
    "start_time": "2021-07-21T20:48:37.606Z"
   },
   {
    "duration": 15,
    "start_time": "2021-07-21T20:48:37.616Z"
   },
   {
    "duration": 290,
    "start_time": "2021-07-21T20:48:37.633Z"
   },
   {
    "duration": 14,
    "start_time": "2021-07-21T20:48:37.925Z"
   },
   {
    "duration": 187,
    "start_time": "2021-07-21T20:48:37.940Z"
   },
   {
    "duration": 88,
    "start_time": "2021-07-21T20:48:38.128Z"
   },
   {
    "duration": 30,
    "start_time": "2021-07-21T20:48:38.218Z"
   },
   {
    "duration": 66,
    "start_time": "2021-07-21T20:48:38.249Z"
   },
   {
    "duration": 27,
    "start_time": "2021-07-21T20:48:38.317Z"
   },
   {
    "duration": 44,
    "start_time": "2021-07-21T20:48:38.345Z"
   },
   {
    "duration": 5,
    "start_time": "2021-07-21T20:48:38.391Z"
   },
   {
    "duration": 23,
    "start_time": "2021-07-21T20:48:38.398Z"
   },
   {
    "duration": 16,
    "start_time": "2021-07-21T20:48:38.423Z"
   },
   {
    "duration": 12,
    "start_time": "2021-07-21T20:48:42.013Z"
   },
   {
    "duration": 17,
    "start_time": "2021-07-21T20:48:50.319Z"
   },
   {
    "duration": 402,
    "start_time": "2021-07-21T20:49:27.212Z"
   },
   {
    "duration": 83,
    "start_time": "2021-07-21T20:49:27.616Z"
   },
   {
    "duration": 15,
    "start_time": "2021-07-21T20:49:27.700Z"
   },
   {
    "duration": 27,
    "start_time": "2021-07-21T20:49:27.717Z"
   },
   {
    "duration": 60,
    "start_time": "2021-07-21T20:49:27.745Z"
   },
   {
    "duration": 4,
    "start_time": "2021-07-21T20:49:27.807Z"
   },
   {
    "duration": 186,
    "start_time": "2021-07-21T20:49:27.813Z"
   },
   {
    "duration": 3,
    "start_time": "2021-07-21T20:49:28.002Z"
   },
   {
    "duration": 9,
    "start_time": "2021-07-21T20:49:28.007Z"
   },
   {
    "duration": 12,
    "start_time": "2021-07-21T20:49:28.018Z"
   },
   {
    "duration": 311,
    "start_time": "2021-07-21T20:49:28.032Z"
   },
   {
    "duration": 17,
    "start_time": "2021-07-21T20:49:28.344Z"
   },
   {
    "duration": 167,
    "start_time": "2021-07-21T20:49:28.385Z"
   },
   {
    "duration": 98,
    "start_time": "2021-07-21T20:49:28.554Z"
   },
   {
    "duration": 37,
    "start_time": "2021-07-21T20:49:28.654Z"
   },
   {
    "duration": 39,
    "start_time": "2021-07-21T20:49:28.693Z"
   },
   {
    "duration": 27,
    "start_time": "2021-07-21T20:49:28.734Z"
   },
   {
    "duration": 49,
    "start_time": "2021-07-21T20:49:28.762Z"
   },
   {
    "duration": 5,
    "start_time": "2021-07-21T20:49:28.813Z"
   },
   {
    "duration": 26,
    "start_time": "2021-07-21T20:49:28.820Z"
   },
   {
    "duration": 47,
    "start_time": "2021-07-21T20:49:28.847Z"
   },
   {
    "duration": 11,
    "start_time": "2021-07-21T20:49:31.528Z"
   },
   {
    "duration": 11,
    "start_time": "2021-07-21T20:49:42.217Z"
   },
   {
    "duration": 406,
    "start_time": "2021-07-21T20:50:13.450Z"
   },
   {
    "duration": 65,
    "start_time": "2021-07-21T20:50:13.858Z"
   },
   {
    "duration": 16,
    "start_time": "2021-07-21T20:50:13.925Z"
   },
   {
    "duration": 55,
    "start_time": "2021-07-21T20:50:13.943Z"
   },
   {
    "duration": 29,
    "start_time": "2021-07-21T20:50:14.000Z"
   },
   {
    "duration": 4,
    "start_time": "2021-07-21T20:50:14.031Z"
   },
   {
    "duration": 193,
    "start_time": "2021-07-21T20:50:14.037Z"
   },
   {
    "duration": 3,
    "start_time": "2021-07-21T20:50:14.233Z"
   },
   {
    "duration": 8,
    "start_time": "2021-07-21T20:50:14.239Z"
   },
   {
    "duration": 38,
    "start_time": "2021-07-21T20:50:14.248Z"
   },
   {
    "duration": 292,
    "start_time": "2021-07-21T20:50:14.287Z"
   },
   {
    "duration": 17,
    "start_time": "2021-07-21T20:50:14.581Z"
   },
   {
    "duration": 204,
    "start_time": "2021-07-21T20:50:14.600Z"
   },
   {
    "duration": 96,
    "start_time": "2021-07-21T20:50:14.806Z"
   },
   {
    "duration": 29,
    "start_time": "2021-07-21T20:50:14.905Z"
   },
   {
    "duration": 64,
    "start_time": "2021-07-21T20:50:14.936Z"
   },
   {
    "duration": 29,
    "start_time": "2021-07-21T20:50:15.002Z"
   },
   {
    "duration": 54,
    "start_time": "2021-07-21T20:50:15.033Z"
   },
   {
    "duration": 7,
    "start_time": "2021-07-21T20:50:15.089Z"
   },
   {
    "duration": 27,
    "start_time": "2021-07-21T20:50:15.098Z"
   },
   {
    "duration": 19,
    "start_time": "2021-07-21T20:50:15.127Z"
   },
   {
    "duration": 49,
    "start_time": "2021-07-21T20:50:15.147Z"
   },
   {
    "duration": 13,
    "start_time": "2021-07-21T20:50:17.805Z"
   },
   {
    "duration": 16,
    "start_time": "2021-07-21T20:50:32.233Z"
   },
   {
    "duration": 15,
    "start_time": "2021-07-21T20:50:41.753Z"
   },
   {
    "duration": 4,
    "start_time": "2021-07-21T20:51:10.968Z"
   },
   {
    "duration": 8,
    "start_time": "2021-07-21T20:58:05.958Z"
   },
   {
    "duration": 437,
    "start_time": "2021-07-21T21:16:26.134Z"
   },
   {
    "duration": 62,
    "start_time": "2021-07-21T21:16:26.574Z"
   },
   {
    "duration": 14,
    "start_time": "2021-07-21T21:16:26.638Z"
   },
   {
    "duration": 49,
    "start_time": "2021-07-21T21:16:26.654Z"
   },
   {
    "duration": 26,
    "start_time": "2021-07-21T21:16:26.705Z"
   },
   {
    "duration": 4,
    "start_time": "2021-07-21T21:16:26.733Z"
   },
   {
    "duration": 199,
    "start_time": "2021-07-21T21:16:26.738Z"
   },
   {
    "duration": 4,
    "start_time": "2021-07-21T21:16:26.939Z"
   },
   {
    "duration": 9,
    "start_time": "2021-07-21T21:16:26.945Z"
   },
   {
    "duration": 35,
    "start_time": "2021-07-21T21:16:26.956Z"
   },
   {
    "duration": 291,
    "start_time": "2021-07-21T21:16:26.993Z"
   },
   {
    "duration": 17,
    "start_time": "2021-07-21T21:16:27.286Z"
   },
   {
    "duration": 209,
    "start_time": "2021-07-21T21:16:27.305Z"
   },
   {
    "duration": 105,
    "start_time": "2021-07-21T21:16:27.517Z"
   },
   {
    "duration": 29,
    "start_time": "2021-07-21T21:16:27.624Z"
   },
   {
    "duration": 60,
    "start_time": "2021-07-21T21:16:27.655Z"
   },
   {
    "duration": 27,
    "start_time": "2021-07-21T21:16:27.717Z"
   },
   {
    "duration": 53,
    "start_time": "2021-07-21T21:16:27.747Z"
   },
   {
    "duration": 7,
    "start_time": "2021-07-21T21:16:27.802Z"
   },
   {
    "duration": 28,
    "start_time": "2021-07-21T21:16:27.811Z"
   },
   {
    "duration": 53,
    "start_time": "2021-07-21T21:16:27.840Z"
   },
   {
    "duration": 5,
    "start_time": "2021-07-21T21:16:27.895Z"
   },
   {
    "duration": 13,
    "start_time": "2021-07-21T21:16:27.902Z"
   },
   {
    "duration": 16,
    "start_time": "2021-07-21T21:16:27.917Z"
   },
   {
    "duration": 51,
    "start_time": "2021-07-21T21:16:27.934Z"
   },
   {
    "duration": 7,
    "start_time": "2021-07-21T21:16:27.987Z"
   },
   {
    "duration": 63,
    "start_time": "2021-07-21T21:16:30.491Z"
   },
   {
    "duration": 65,
    "start_time": "2021-07-21T21:17:51.605Z"
   },
   {
    "duration": 6,
    "start_time": "2021-07-21T21:18:06.851Z"
   },
   {
    "duration": 6,
    "start_time": "2021-07-21T21:19:22.508Z"
   },
   {
    "duration": 437,
    "start_time": "2021-07-21T21:19:28.615Z"
   },
   {
    "duration": 67,
    "start_time": "2021-07-21T21:19:29.053Z"
   },
   {
    "duration": 14,
    "start_time": "2021-07-21T21:19:29.121Z"
   },
   {
    "duration": 49,
    "start_time": "2021-07-21T21:19:29.137Z"
   },
   {
    "duration": 26,
    "start_time": "2021-07-21T21:19:29.187Z"
   },
   {
    "duration": 4,
    "start_time": "2021-07-21T21:19:29.215Z"
   },
   {
    "duration": 207,
    "start_time": "2021-07-21T21:19:29.221Z"
   },
   {
    "duration": 3,
    "start_time": "2021-07-21T21:19:29.431Z"
   },
   {
    "duration": 8,
    "start_time": "2021-07-21T21:19:29.436Z"
   },
   {
    "duration": 11,
    "start_time": "2021-07-21T21:19:29.445Z"
   },
   {
    "duration": 280,
    "start_time": "2021-07-21T21:19:29.485Z"
   },
   {
    "duration": 21,
    "start_time": "2021-07-21T21:19:29.767Z"
   },
   {
    "duration": 194,
    "start_time": "2021-07-21T21:19:29.790Z"
   },
   {
    "duration": 84,
    "start_time": "2021-07-21T21:19:29.986Z"
   },
   {
    "duration": 45,
    "start_time": "2021-07-21T21:19:30.071Z"
   },
   {
    "duration": 41,
    "start_time": "2021-07-21T21:19:30.118Z"
   },
   {
    "duration": 47,
    "start_time": "2021-07-21T21:19:30.161Z"
   },
   {
    "duration": 29,
    "start_time": "2021-07-21T21:19:30.210Z"
   },
   {
    "duration": 6,
    "start_time": "2021-07-21T21:19:30.240Z"
   },
   {
    "duration": 55,
    "start_time": "2021-07-21T21:19:30.247Z"
   },
   {
    "duration": 17,
    "start_time": "2021-07-21T21:19:30.303Z"
   },
   {
    "duration": 3,
    "start_time": "2021-07-21T21:19:30.322Z"
   },
   {
    "duration": 15,
    "start_time": "2021-07-21T21:19:30.327Z"
   },
   {
    "duration": 45,
    "start_time": "2021-07-21T21:19:30.343Z"
   },
   {
    "duration": 12,
    "start_time": "2021-07-21T21:19:30.390Z"
   },
   {
    "duration": 11,
    "start_time": "2021-07-21T21:19:30.404Z"
   },
   {
    "duration": 7,
    "start_time": "2021-07-21T21:19:30.417Z"
   },
   {
    "duration": 408,
    "start_time": "2021-07-21T21:19:30.425Z"
   },
   {
    "duration": 441,
    "start_time": "2021-07-21T21:19:48.054Z"
   },
   {
    "duration": 88,
    "start_time": "2021-07-21T21:19:48.497Z"
   },
   {
    "duration": 15,
    "start_time": "2021-07-21T21:19:48.588Z"
   },
   {
    "duration": 26,
    "start_time": "2021-07-21T21:19:48.606Z"
   },
   {
    "duration": 57,
    "start_time": "2021-07-21T21:19:48.634Z"
   },
   {
    "duration": 5,
    "start_time": "2021-07-21T21:19:48.693Z"
   },
   {
    "duration": 199,
    "start_time": "2021-07-21T21:19:48.700Z"
   },
   {
    "duration": 3,
    "start_time": "2021-07-21T21:19:48.902Z"
   },
   {
    "duration": 10,
    "start_time": "2021-07-21T21:19:48.907Z"
   },
   {
    "duration": 13,
    "start_time": "2021-07-21T21:19:48.918Z"
   },
   {
    "duration": 310,
    "start_time": "2021-07-21T21:19:48.932Z"
   },
   {
    "duration": 15,
    "start_time": "2021-07-21T21:19:49.243Z"
   },
   {
    "duration": 309,
    "start_time": "2021-07-21T21:19:49.285Z"
   },
   {
    "duration": 89,
    "start_time": "2021-07-21T21:19:49.596Z"
   },
   {
    "duration": 29,
    "start_time": "2021-07-21T21:19:49.687Z"
   },
   {
    "duration": 39,
    "start_time": "2021-07-21T21:19:49.717Z"
   },
   {
    "duration": 49,
    "start_time": "2021-07-21T21:19:49.758Z"
   },
   {
    "duration": 32,
    "start_time": "2021-07-21T21:19:49.808Z"
   },
   {
    "duration": 7,
    "start_time": "2021-07-21T21:19:49.841Z"
   },
   {
    "duration": 60,
    "start_time": "2021-07-21T21:19:49.849Z"
   },
   {
    "duration": 20,
    "start_time": "2021-07-21T21:19:49.910Z"
   },
   {
    "duration": 4,
    "start_time": "2021-07-21T21:19:49.931Z"
   },
   {
    "duration": 14,
    "start_time": "2021-07-21T21:19:49.938Z"
   },
   {
    "duration": 16,
    "start_time": "2021-07-21T21:19:49.985Z"
   },
   {
    "duration": 14,
    "start_time": "2021-07-21T21:19:50.003Z"
   },
   {
    "duration": 6,
    "start_time": "2021-07-21T21:19:50.019Z"
   },
   {
    "duration": 8,
    "start_time": "2021-07-21T21:19:50.027Z"
   },
   {
    "duration": 488,
    "start_time": "2021-07-21T21:19:53.717Z"
   },
   {
    "duration": 409,
    "start_time": "2021-07-21T21:20:52.777Z"
   },
   {
    "duration": 99,
    "start_time": "2021-07-21T21:20:53.188Z"
   },
   {
    "duration": 19,
    "start_time": "2021-07-21T21:20:53.290Z"
   },
   {
    "duration": 29,
    "start_time": "2021-07-21T21:20:53.312Z"
   },
   {
    "duration": 55,
    "start_time": "2021-07-21T21:20:53.342Z"
   },
   {
    "duration": 4,
    "start_time": "2021-07-21T21:20:53.399Z"
   },
   {
    "duration": 214,
    "start_time": "2021-07-21T21:20:53.404Z"
   },
   {
    "duration": 4,
    "start_time": "2021-07-21T21:20:53.620Z"
   },
   {
    "duration": 9,
    "start_time": "2021-07-21T21:20:53.626Z"
   },
   {
    "duration": 17,
    "start_time": "2021-07-21T21:20:53.637Z"
   },
   {
    "duration": 298,
    "start_time": "2021-07-21T21:20:53.656Z"
   },
   {
    "duration": 32,
    "start_time": "2021-07-21T21:20:53.955Z"
   },
   {
    "duration": 176,
    "start_time": "2021-07-21T21:20:53.988Z"
   },
   {
    "duration": 73,
    "start_time": "2021-07-21T21:20:54.185Z"
   },
   {
    "duration": 47,
    "start_time": "2021-07-21T21:20:54.259Z"
   },
   {
    "duration": 43,
    "start_time": "2021-07-21T21:20:54.307Z"
   },
   {
    "duration": 45,
    "start_time": "2021-07-21T21:20:54.352Z"
   },
   {
    "duration": 29,
    "start_time": "2021-07-21T21:20:54.399Z"
   },
   {
    "duration": 5,
    "start_time": "2021-07-21T21:20:54.429Z"
   },
   {
    "duration": 52,
    "start_time": "2021-07-21T21:20:54.436Z"
   },
   {
    "duration": 19,
    "start_time": "2021-07-21T21:20:54.490Z"
   },
   {
    "duration": 4,
    "start_time": "2021-07-21T21:20:54.511Z"
   },
   {
    "duration": 18,
    "start_time": "2021-07-21T21:20:54.517Z"
   },
   {
    "duration": 16,
    "start_time": "2021-07-21T21:20:54.536Z"
   },
   {
    "duration": 16,
    "start_time": "2021-07-21T21:20:54.585Z"
   },
   {
    "duration": 9,
    "start_time": "2021-07-21T21:20:54.603Z"
   },
   {
    "duration": 9,
    "start_time": "2021-07-21T21:20:54.613Z"
   },
   {
    "duration": 13,
    "start_time": "2021-07-21T21:21:00.819Z"
   },
   {
    "duration": 392,
    "start_time": "2021-07-21T21:21:13.667Z"
   },
   {
    "duration": 1574,
    "start_time": "2021-07-21T21:24:26.565Z"
   },
   {
    "duration": 74,
    "start_time": "2021-07-21T21:24:28.140Z"
   },
   {
    "duration": 16,
    "start_time": "2021-07-21T21:24:28.217Z"
   },
   {
    "duration": 51,
    "start_time": "2021-07-21T21:24:28.235Z"
   },
   {
    "duration": 28,
    "start_time": "2021-07-21T21:24:28.288Z"
   },
   {
    "duration": 5,
    "start_time": "2021-07-21T21:24:28.318Z"
   },
   {
    "duration": 234,
    "start_time": "2021-07-21T21:24:28.325Z"
   },
   {
    "duration": 24,
    "start_time": "2021-07-21T21:24:28.562Z"
   },
   {
    "duration": 10,
    "start_time": "2021-07-21T21:24:28.588Z"
   },
   {
    "duration": 13,
    "start_time": "2021-07-21T21:24:28.599Z"
   },
   {
    "duration": 309,
    "start_time": "2021-07-21T21:24:28.613Z"
   },
   {
    "duration": 15,
    "start_time": "2021-07-21T21:24:28.924Z"
   },
   {
    "duration": 202,
    "start_time": "2021-07-21T21:24:28.940Z"
   },
   {
    "duration": 97,
    "start_time": "2021-07-21T21:24:29.143Z"
   },
   {
    "duration": 30,
    "start_time": "2021-07-21T21:24:29.242Z"
   },
   {
    "duration": 41,
    "start_time": "2021-07-21T21:24:29.285Z"
   },
   {
    "duration": 28,
    "start_time": "2021-07-21T21:24:29.328Z"
   },
   {
    "duration": 45,
    "start_time": "2021-07-21T21:24:29.358Z"
   },
   {
    "duration": 6,
    "start_time": "2021-07-21T21:24:29.404Z"
   },
   {
    "duration": 25,
    "start_time": "2021-07-21T21:24:29.411Z"
   },
   {
    "duration": 48,
    "start_time": "2021-07-21T21:24:29.438Z"
   },
   {
    "duration": 4,
    "start_time": "2021-07-21T21:24:29.488Z"
   },
   {
    "duration": 14,
    "start_time": "2021-07-21T21:24:29.495Z"
   },
   {
    "duration": 15,
    "start_time": "2021-07-21T21:24:29.511Z"
   },
   {
    "duration": 13,
    "start_time": "2021-07-21T21:24:29.527Z"
   },
   {
    "duration": 43,
    "start_time": "2021-07-21T21:24:29.542Z"
   },
   {
    "duration": 6,
    "start_time": "2021-07-21T21:24:29.587Z"
   },
   {
    "duration": 16,
    "start_time": "2021-07-21T21:24:29.594Z"
   },
   {
    "duration": 853,
    "start_time": "2021-07-21T21:24:29.612Z"
   },
   {
    "duration": 7,
    "start_time": "2021-07-21T21:26:36.895Z"
   },
   {
    "duration": 512,
    "start_time": "2021-07-21T21:28:00.583Z"
   },
   {
    "duration": 5,
    "start_time": "2021-07-21T21:31:26.873Z"
   },
   {
    "duration": 4,
    "start_time": "2021-07-21T21:31:32.686Z"
   },
   {
    "duration": 12,
    "start_time": "2021-07-21T21:31:39.998Z"
   },
   {
    "duration": 103,
    "start_time": "2021-07-21T21:31:45.086Z"
   },
   {
    "duration": 425,
    "start_time": "2021-07-21T21:33:34.647Z"
   },
   {
    "duration": 58,
    "start_time": "2021-07-21T21:33:35.073Z"
   },
   {
    "duration": 13,
    "start_time": "2021-07-21T21:33:35.133Z"
   },
   {
    "duration": 54,
    "start_time": "2021-07-21T21:33:35.148Z"
   },
   {
    "duration": 27,
    "start_time": "2021-07-21T21:33:35.203Z"
   },
   {
    "duration": 4,
    "start_time": "2021-07-21T21:33:35.232Z"
   },
   {
    "duration": 201,
    "start_time": "2021-07-21T21:33:35.238Z"
   },
   {
    "duration": 4,
    "start_time": "2021-07-21T21:33:35.442Z"
   },
   {
    "duration": 16,
    "start_time": "2021-07-21T21:33:35.447Z"
   },
   {
    "duration": 29,
    "start_time": "2021-07-21T21:33:35.465Z"
   },
   {
    "duration": 278,
    "start_time": "2021-07-21T21:33:35.496Z"
   },
   {
    "duration": 23,
    "start_time": "2021-07-21T21:33:35.776Z"
   },
   {
    "duration": 202,
    "start_time": "2021-07-21T21:33:35.801Z"
   },
   {
    "duration": 99,
    "start_time": "2021-07-21T21:33:36.005Z"
   },
   {
    "duration": 33,
    "start_time": "2021-07-21T21:33:36.105Z"
   },
   {
    "duration": 57,
    "start_time": "2021-07-21T21:33:36.140Z"
   },
   {
    "duration": 28,
    "start_time": "2021-07-21T21:33:36.199Z"
   },
   {
    "duration": 31,
    "start_time": "2021-07-21T21:33:36.228Z"
   },
   {
    "duration": 6,
    "start_time": "2021-07-21T21:33:36.285Z"
   },
   {
    "duration": 29,
    "start_time": "2021-07-21T21:33:36.293Z"
   },
   {
    "duration": 19,
    "start_time": "2021-07-21T21:33:36.324Z"
   },
   {
    "duration": 3,
    "start_time": "2021-07-21T21:33:36.345Z"
   },
   {
    "duration": 43,
    "start_time": "2021-07-21T21:33:36.351Z"
   },
   {
    "duration": 15,
    "start_time": "2021-07-21T21:33:36.396Z"
   },
   {
    "duration": 13,
    "start_time": "2021-07-21T21:33:36.413Z"
   },
   {
    "duration": 6,
    "start_time": "2021-07-21T21:33:36.428Z"
   },
   {
    "duration": 7,
    "start_time": "2021-07-21T21:33:36.436Z"
   },
   {
    "duration": 41,
    "start_time": "2021-07-21T21:33:36.444Z"
   },
   {
    "duration": 17,
    "start_time": "2021-07-21T21:33:36.487Z"
   },
   {
    "duration": 104,
    "start_time": "2021-07-21T21:33:36.506Z"
   },
   {
    "duration": 7,
    "start_time": "2021-07-21T21:33:49.810Z"
   },
   {
    "duration": 4,
    "start_time": "2021-07-21T21:34:06.734Z"
   },
   {
    "duration": 424,
    "start_time": "2021-07-21T21:36:18.426Z"
   },
   {
    "duration": 63,
    "start_time": "2021-07-21T21:36:18.852Z"
   },
   {
    "duration": 14,
    "start_time": "2021-07-21T21:36:18.917Z"
   },
   {
    "duration": 25,
    "start_time": "2021-07-21T21:36:18.933Z"
   },
   {
    "duration": 26,
    "start_time": "2021-07-21T21:36:18.985Z"
   },
   {
    "duration": 5,
    "start_time": "2021-07-21T21:36:19.013Z"
   },
   {
    "duration": 197,
    "start_time": "2021-07-21T21:36:19.020Z"
   },
   {
    "duration": 4,
    "start_time": "2021-07-21T21:36:19.219Z"
   },
   {
    "duration": 7,
    "start_time": "2021-07-21T21:36:19.226Z"
   },
   {
    "duration": 14,
    "start_time": "2021-07-21T21:36:19.234Z"
   },
   {
    "duration": 314,
    "start_time": "2021-07-21T21:36:19.249Z"
   },
   {
    "duration": 26,
    "start_time": "2021-07-21T21:36:19.564Z"
   },
   {
    "duration": 164,
    "start_time": "2021-07-21T21:36:19.592Z"
   },
   {
    "duration": 95,
    "start_time": "2021-07-21T21:36:19.758Z"
   },
   {
    "duration": 38,
    "start_time": "2021-07-21T21:36:19.855Z"
   },
   {
    "duration": 121,
    "start_time": "2021-07-21T21:36:19.894Z"
   },
   {
    "duration": 28,
    "start_time": "2021-07-21T21:36:20.016Z"
   },
   {
    "duration": 45,
    "start_time": "2021-07-21T21:36:20.046Z"
   },
   {
    "duration": 5,
    "start_time": "2021-07-21T21:36:20.092Z"
   },
   {
    "duration": 24,
    "start_time": "2021-07-21T21:36:20.099Z"
   },
   {
    "duration": 16,
    "start_time": "2021-07-21T21:36:20.125Z"
   },
   {
    "duration": 3,
    "start_time": "2021-07-21T21:36:20.142Z"
   },
   {
    "duration": 48,
    "start_time": "2021-07-21T21:36:20.147Z"
   },
   {
    "duration": 15,
    "start_time": "2021-07-21T21:36:20.197Z"
   },
   {
    "duration": 14,
    "start_time": "2021-07-21T21:36:20.213Z"
   },
   {
    "duration": 6,
    "start_time": "2021-07-21T21:36:20.229Z"
   },
   {
    "duration": 7,
    "start_time": "2021-07-21T21:36:20.237Z"
   },
   {
    "duration": 43,
    "start_time": "2021-07-21T21:36:20.246Z"
   },
   {
    "duration": 6,
    "start_time": "2021-07-21T21:36:20.290Z"
   },
   {
    "duration": 288,
    "start_time": "2021-07-21T21:36:20.298Z"
   },
   {
    "duration": 422,
    "start_time": "2021-07-21T21:37:49.092Z"
   },
   {
    "duration": 85,
    "start_time": "2021-07-21T21:37:49.516Z"
   },
   {
    "duration": 13,
    "start_time": "2021-07-21T21:37:49.603Z"
   },
   {
    "duration": 26,
    "start_time": "2021-07-21T21:37:49.618Z"
   },
   {
    "duration": 51,
    "start_time": "2021-07-21T21:37:49.646Z"
   },
   {
    "duration": 5,
    "start_time": "2021-07-21T21:37:49.698Z"
   },
   {
    "duration": 192,
    "start_time": "2021-07-21T21:37:49.705Z"
   },
   {
    "duration": 4,
    "start_time": "2021-07-21T21:37:49.899Z"
   },
   {
    "duration": 8,
    "start_time": "2021-07-21T21:37:49.906Z"
   },
   {
    "duration": 11,
    "start_time": "2021-07-21T21:37:49.915Z"
   },
   {
    "duration": 295,
    "start_time": "2021-07-21T21:37:49.927Z"
   },
   {
    "duration": 14,
    "start_time": "2021-07-21T21:37:50.224Z"
   },
   {
    "duration": 182,
    "start_time": "2021-07-21T21:37:50.239Z"
   },
   {
    "duration": 101,
    "start_time": "2021-07-21T21:37:50.423Z"
   },
   {
    "duration": 30,
    "start_time": "2021-07-21T21:37:50.525Z"
   },
   {
    "duration": 54,
    "start_time": "2021-07-21T21:37:50.557Z"
   },
   {
    "duration": 27,
    "start_time": "2021-07-21T21:37:50.613Z"
   },
   {
    "duration": 44,
    "start_time": "2021-07-21T21:37:50.642Z"
   },
   {
    "duration": 6,
    "start_time": "2021-07-21T21:37:50.688Z"
   },
   {
    "duration": 25,
    "start_time": "2021-07-21T21:37:50.695Z"
   },
   {
    "duration": 17,
    "start_time": "2021-07-21T21:37:50.722Z"
   },
   {
    "duration": 4,
    "start_time": "2021-07-21T21:37:50.740Z"
   },
   {
    "duration": 49,
    "start_time": "2021-07-21T21:37:50.747Z"
   },
   {
    "duration": 16,
    "start_time": "2021-07-21T21:37:50.797Z"
   },
   {
    "duration": 13,
    "start_time": "2021-07-21T21:37:50.815Z"
   },
   {
    "duration": 7,
    "start_time": "2021-07-21T21:37:50.830Z"
   },
   {
    "duration": 18,
    "start_time": "2021-07-21T21:37:50.838Z"
   },
   {
    "duration": 28,
    "start_time": "2021-07-21T21:37:50.857Z"
   },
   {
    "duration": 293,
    "start_time": "2021-07-21T21:37:50.886Z"
   },
   {
    "duration": 292,
    "start_time": "2021-07-21T21:39:56.566Z"
   },
   {
    "duration": 280,
    "start_time": "2021-07-21T21:40:41.363Z"
   },
   {
    "duration": 284,
    "start_time": "2021-07-21T21:40:56.144Z"
   },
   {
    "duration": 289,
    "start_time": "2021-07-21T21:41:13.769Z"
   },
   {
    "duration": 287,
    "start_time": "2021-07-21T21:42:14.744Z"
   },
   {
    "duration": 226,
    "start_time": "2021-07-21T21:47:03.926Z"
   },
   {
    "duration": 389,
    "start_time": "2021-07-21T21:47:35.485Z"
   },
   {
    "duration": 224,
    "start_time": "2021-07-21T21:47:44.100Z"
   },
   {
    "duration": 2064,
    "start_time": "2021-07-22T06:43:05.365Z"
   },
   {
    "duration": 102,
    "start_time": "2021-07-22T06:43:07.432Z"
   },
   {
    "duration": 24,
    "start_time": "2021-07-22T06:43:07.537Z"
   },
   {
    "duration": 69,
    "start_time": "2021-07-22T06:43:07.563Z"
   },
   {
    "duration": 38,
    "start_time": "2021-07-22T06:43:07.635Z"
   },
   {
    "duration": 5,
    "start_time": "2021-07-22T06:43:07.700Z"
   },
   {
    "duration": 311,
    "start_time": "2021-07-22T06:43:07.709Z"
   },
   {
    "duration": 6,
    "start_time": "2021-07-22T06:43:08.026Z"
   },
   {
    "duration": 13,
    "start_time": "2021-07-22T06:43:08.036Z"
   },
   {
    "duration": 62,
    "start_time": "2021-07-22T06:43:08.051Z"
   },
   {
    "duration": 451,
    "start_time": "2021-07-22T06:43:08.115Z"
   },
   {
    "duration": 43,
    "start_time": "2021-07-22T06:43:08.569Z"
   },
   {
    "duration": 297,
    "start_time": "2021-07-22T06:43:08.615Z"
   },
   {
    "duration": 140,
    "start_time": "2021-07-22T06:43:08.915Z"
   },
   {
    "duration": 61,
    "start_time": "2021-07-22T06:43:09.057Z"
   },
   {
    "duration": 57,
    "start_time": "2021-07-22T06:43:09.120Z"
   },
   {
    "duration": 53,
    "start_time": "2021-07-22T06:43:09.180Z"
   },
   {
    "duration": 42,
    "start_time": "2021-07-22T06:43:09.236Z"
   },
   {
    "duration": 25,
    "start_time": "2021-07-22T06:43:09.281Z"
   },
   {
    "duration": 41,
    "start_time": "2021-07-22T06:43:09.308Z"
   },
   {
    "duration": 63,
    "start_time": "2021-07-22T06:43:09.351Z"
   },
   {
    "duration": 5,
    "start_time": "2021-07-22T06:43:09.416Z"
   },
   {
    "duration": 18,
    "start_time": "2021-07-22T06:43:09.426Z"
   },
   {
    "duration": 67,
    "start_time": "2021-07-22T06:43:09.446Z"
   },
   {
    "duration": 22,
    "start_time": "2021-07-22T06:43:09.516Z"
   },
   {
    "duration": 16,
    "start_time": "2021-07-22T06:43:09.540Z"
   },
   {
    "duration": 42,
    "start_time": "2021-07-22T06:43:09.559Z"
   },
   {
    "duration": 580,
    "start_time": "2021-07-22T06:43:14.279Z"
   },
   {
    "duration": 8,
    "start_time": "2021-07-22T06:56:18.189Z"
   },
   {
    "duration": 10,
    "start_time": "2021-07-22T06:57:32.400Z"
   },
   {
    "duration": 10,
    "start_time": "2021-07-22T07:09:59.834Z"
   },
   {
    "duration": 10,
    "start_time": "2021-07-22T07:10:02.133Z"
   },
   {
    "duration": 370,
    "start_time": "2021-07-22T07:11:14.185Z"
   },
   {
    "duration": 521,
    "start_time": "2021-07-22T07:11:46.343Z"
   },
   {
    "duration": 441,
    "start_time": "2021-07-22T07:12:14.487Z"
   },
   {
    "duration": 346,
    "start_time": "2021-07-22T07:12:40.259Z"
   },
   {
    "duration": 363,
    "start_time": "2021-07-22T07:14:45.671Z"
   },
   {
    "duration": 370,
    "start_time": "2021-07-22T07:15:02.650Z"
   },
   {
    "duration": 348,
    "start_time": "2021-07-22T07:15:42.778Z"
   },
   {
    "duration": 395,
    "start_time": "2021-07-22T07:15:48.808Z"
   },
   {
    "duration": 417,
    "start_time": "2021-07-22T07:15:55.171Z"
   },
   {
    "duration": 405,
    "start_time": "2021-07-22T07:16:04.124Z"
   },
   {
    "duration": 379,
    "start_time": "2021-07-22T07:16:18.263Z"
   },
   {
    "duration": 417,
    "start_time": "2021-07-22T07:16:27.887Z"
   },
   {
    "duration": 410,
    "start_time": "2021-07-22T07:16:37.555Z"
   },
   {
    "duration": 491,
    "start_time": "2021-07-22T07:17:35.567Z"
   },
   {
    "duration": 538,
    "start_time": "2021-07-22T07:19:52.688Z"
   },
   {
    "duration": 571,
    "start_time": "2021-07-22T07:20:17.194Z"
   },
   {
    "duration": 581,
    "start_time": "2021-07-22T07:20:36.908Z"
   },
   {
    "duration": 569,
    "start_time": "2021-07-22T07:22:42.115Z"
   },
   {
    "duration": 571,
    "start_time": "2021-07-22T07:23:10.510Z"
   },
   {
    "duration": 552,
    "start_time": "2021-07-22T07:23:16.812Z"
   },
   {
    "duration": 470,
    "start_time": "2021-07-22T07:26:45.826Z"
   },
   {
    "duration": 548,
    "start_time": "2021-07-22T07:26:53.000Z"
   },
   {
    "duration": 887,
    "start_time": "2021-07-22T07:33:12.493Z"
   },
   {
    "duration": 315,
    "start_time": "2021-07-22T07:33:26.348Z"
   },
   {
    "duration": 555,
    "start_time": "2021-07-22T07:33:33.626Z"
   },
   {
    "duration": 668,
    "start_time": "2021-07-22T07:33:41.322Z"
   },
   {
    "duration": 542,
    "start_time": "2021-07-22T07:33:52.324Z"
   },
   {
    "duration": 553,
    "start_time": "2021-07-22T07:34:05.328Z"
   },
   {
    "duration": 563,
    "start_time": "2021-07-22T07:34:15.672Z"
   },
   {
    "duration": 618,
    "start_time": "2021-07-22T07:34:25.539Z"
   },
   {
    "duration": 104,
    "start_time": "2021-07-22T07:34:26.160Z"
   },
   {
    "duration": 21,
    "start_time": "2021-07-22T07:34:26.300Z"
   },
   {
    "duration": 37,
    "start_time": "2021-07-22T07:34:26.323Z"
   },
   {
    "duration": 66,
    "start_time": "2021-07-22T07:34:26.362Z"
   },
   {
    "duration": 8,
    "start_time": "2021-07-22T07:34:26.430Z"
   },
   {
    "duration": 312,
    "start_time": "2021-07-22T07:34:26.440Z"
   },
   {
    "duration": 6,
    "start_time": "2021-07-22T07:34:26.758Z"
   },
   {
    "duration": 41,
    "start_time": "2021-07-22T07:34:26.768Z"
   },
   {
    "duration": 19,
    "start_time": "2021-07-22T07:34:26.812Z"
   },
   {
    "duration": 666,
    "start_time": "2021-07-22T07:34:26.834Z"
   },
   {
    "duration": 23,
    "start_time": "2021-07-22T07:34:27.503Z"
   },
   {
    "duration": 292,
    "start_time": "2021-07-22T07:34:27.528Z"
   },
   {
    "duration": 139,
    "start_time": "2021-07-22T07:34:27.822Z"
   },
   {
    "duration": 64,
    "start_time": "2021-07-22T07:34:27.964Z"
   },
   {
    "duration": 80,
    "start_time": "2021-07-22T07:34:28.031Z"
   },
   {
    "duration": 40,
    "start_time": "2021-07-22T07:34:28.114Z"
   },
   {
    "duration": 72,
    "start_time": "2021-07-22T07:34:28.157Z"
   },
   {
    "duration": 11,
    "start_time": "2021-07-22T07:34:28.232Z"
   },
   {
    "duration": 78,
    "start_time": "2021-07-22T07:34:28.246Z"
   },
   {
    "duration": 29,
    "start_time": "2021-07-22T07:34:28.327Z"
   },
   {
    "duration": 6,
    "start_time": "2021-07-22T07:34:28.359Z"
   },
   {
    "duration": 17,
    "start_time": "2021-07-22T07:34:28.405Z"
   },
   {
    "duration": 22,
    "start_time": "2021-07-22T07:34:28.425Z"
   },
   {
    "duration": 65,
    "start_time": "2021-07-22T07:34:28.449Z"
   },
   {
    "duration": 11,
    "start_time": "2021-07-22T07:34:28.517Z"
   },
   {
    "duration": 8,
    "start_time": "2021-07-22T07:34:28.530Z"
   },
   {
    "duration": 608,
    "start_time": "2021-07-22T07:34:28.540Z"
   },
   {
    "duration": 9,
    "start_time": "2021-07-22T07:34:29.150Z"
   },
   {
    "duration": 12,
    "start_time": "2021-07-22T07:34:29.161Z"
   },
   {
    "duration": 29,
    "start_time": "2021-07-22T07:34:29.176Z"
   },
   {
    "duration": 10,
    "start_time": "2021-07-22T07:34:29.207Z"
   },
   {
    "duration": 550,
    "start_time": "2021-07-22T07:34:33.025Z"
   },
   {
    "duration": 546,
    "start_time": "2021-07-22T07:34:45.585Z"
   },
   {
    "duration": 138,
    "start_time": "2021-07-22T07:34:55.831Z"
   },
   {
    "duration": 561,
    "start_time": "2021-07-22T07:35:01.153Z"
   },
   {
    "duration": 515,
    "start_time": "2021-07-22T07:35:09.068Z"
   },
   {
    "duration": 707,
    "start_time": "2021-07-22T07:35:15.422Z"
   },
   {
    "duration": 2068,
    "start_time": "2021-07-22T07:35:47.471Z"
   },
   {
    "duration": 122,
    "start_time": "2021-07-22T07:35:49.542Z"
   },
   {
    "duration": 24,
    "start_time": "2021-07-22T07:35:49.700Z"
   },
   {
    "duration": 36,
    "start_time": "2021-07-22T07:35:49.728Z"
   },
   {
    "duration": 68,
    "start_time": "2021-07-22T07:35:49.767Z"
   },
   {
    "duration": 7,
    "start_time": "2021-07-22T07:35:49.838Z"
   },
   {
    "duration": 333,
    "start_time": "2021-07-22T07:35:49.848Z"
   },
   {
    "duration": 17,
    "start_time": "2021-07-22T07:35:50.185Z"
   },
   {
    "duration": 15,
    "start_time": "2021-07-22T07:35:50.205Z"
   },
   {
    "duration": 22,
    "start_time": "2021-07-22T07:35:50.223Z"
   },
   {
    "duration": 462,
    "start_time": "2021-07-22T07:35:50.247Z"
   },
   {
    "duration": 22,
    "start_time": "2021-07-22T07:35:50.711Z"
   },
   {
    "duration": 295,
    "start_time": "2021-07-22T07:35:50.736Z"
   },
   {
    "duration": 144,
    "start_time": "2021-07-22T07:35:51.034Z"
   },
   {
    "duration": 60,
    "start_time": "2021-07-22T07:35:51.181Z"
   },
   {
    "duration": 96,
    "start_time": "2021-07-22T07:35:51.245Z"
   },
   {
    "duration": 68,
    "start_time": "2021-07-22T07:35:51.344Z"
   },
   {
    "duration": 59,
    "start_time": "2021-07-22T07:35:51.415Z"
   },
   {
    "duration": 25,
    "start_time": "2021-07-22T07:35:51.477Z"
   },
   {
    "duration": 38,
    "start_time": "2021-07-22T07:35:51.504Z"
   },
   {
    "duration": 72,
    "start_time": "2021-07-22T07:35:51.545Z"
   },
   {
    "duration": 6,
    "start_time": "2021-07-22T07:35:51.620Z"
   },
   {
    "duration": 19,
    "start_time": "2021-07-22T07:35:51.633Z"
   },
   {
    "duration": 66,
    "start_time": "2021-07-22T07:35:51.655Z"
   },
   {
    "duration": 21,
    "start_time": "2021-07-22T07:35:51.724Z"
   },
   {
    "duration": 11,
    "start_time": "2021-07-22T07:35:51.747Z"
   },
   {
    "duration": 44,
    "start_time": "2021-07-22T07:35:51.760Z"
   },
   {
    "duration": 581,
    "start_time": "2021-07-22T07:35:51.806Z"
   },
   {
    "duration": 12,
    "start_time": "2021-07-22T07:35:52.390Z"
   },
   {
    "duration": 16,
    "start_time": "2021-07-22T07:35:52.404Z"
   },
   {
    "duration": 8,
    "start_time": "2021-07-22T07:35:52.422Z"
   },
   {
    "duration": 11,
    "start_time": "2021-07-22T07:35:52.432Z"
   },
   {
    "duration": 577,
    "start_time": "2021-07-22T07:35:52.445Z"
   },
   {
    "duration": 646,
    "start_time": "2021-07-22T07:37:31.013Z"
   },
   {
    "duration": 2134,
    "start_time": "2021-07-22T07:40:32.016Z"
   },
   {
    "duration": 109,
    "start_time": "2021-07-22T07:40:34.154Z"
   },
   {
    "duration": 22,
    "start_time": "2021-07-22T07:40:34.300Z"
   },
   {
    "duration": 35,
    "start_time": "2021-07-22T07:40:34.324Z"
   },
   {
    "duration": 61,
    "start_time": "2021-07-22T07:40:34.361Z"
   },
   {
    "duration": 7,
    "start_time": "2021-07-22T07:40:34.424Z"
   },
   {
    "duration": 324,
    "start_time": "2021-07-22T07:40:34.437Z"
   },
   {
    "duration": 5,
    "start_time": "2021-07-22T07:40:34.764Z"
   },
   {
    "duration": 38,
    "start_time": "2021-07-22T07:40:34.771Z"
   },
   {
    "duration": 17,
    "start_time": "2021-07-22T07:40:34.811Z"
   },
   {
    "duration": 455,
    "start_time": "2021-07-22T07:40:34.831Z"
   },
   {
    "duration": 27,
    "start_time": "2021-07-22T07:40:35.288Z"
   },
   {
    "duration": 299,
    "start_time": "2021-07-22T07:40:35.317Z"
   },
   {
    "duration": 132,
    "start_time": "2021-07-22T07:40:35.618Z"
   },
   {
    "duration": 53,
    "start_time": "2021-07-22T07:40:35.753Z"
   },
   {
    "duration": 65,
    "start_time": "2021-07-22T07:40:35.809Z"
   },
   {
    "duration": 57,
    "start_time": "2021-07-22T07:40:35.877Z"
   },
   {
    "duration": 44,
    "start_time": "2021-07-22T07:40:35.937Z"
   },
   {
    "duration": 10,
    "start_time": "2021-07-22T07:40:36.001Z"
   },
   {
    "duration": 48,
    "start_time": "2021-07-22T07:40:36.014Z"
   },
   {
    "duration": 59,
    "start_time": "2021-07-22T07:40:36.065Z"
   },
   {
    "duration": 5,
    "start_time": "2021-07-22T07:40:36.128Z"
   },
   {
    "duration": 22,
    "start_time": "2021-07-22T07:40:36.137Z"
   },
   {
    "duration": 26,
    "start_time": "2021-07-22T07:40:36.202Z"
   },
   {
    "duration": 22,
    "start_time": "2021-07-22T07:40:36.230Z"
   },
   {
    "duration": 46,
    "start_time": "2021-07-22T07:40:36.254Z"
   },
   {
    "duration": 8,
    "start_time": "2021-07-22T07:40:36.302Z"
   },
   {
    "duration": 720,
    "start_time": "2021-07-22T07:40:36.313Z"
   },
   {
    "duration": 7,
    "start_time": "2021-07-22T07:40:37.036Z"
   },
   {
    "duration": 15,
    "start_time": "2021-07-22T07:40:37.045Z"
   },
   {
    "duration": 38,
    "start_time": "2021-07-22T07:40:37.062Z"
   },
   {
    "duration": 19,
    "start_time": "2021-07-22T07:40:37.103Z"
   },
   {
    "duration": 583,
    "start_time": "2021-07-22T07:40:37.124Z"
   },
   {
    "duration": 947,
    "start_time": "2021-07-22T07:43:44.605Z"
   },
   {
    "duration": 652,
    "start_time": "2021-07-22T07:44:10.628Z"
   },
   {
    "duration": 720,
    "start_time": "2021-07-22T07:47:36.897Z"
   },
   {
    "duration": 617,
    "start_time": "2021-07-22T07:48:41.983Z"
   },
   {
    "duration": 26,
    "start_time": "2021-07-22T07:48:59.420Z"
   },
   {
    "duration": 295,
    "start_time": "2021-07-22T07:49:15.999Z"
   },
   {
    "duration": 438,
    "start_time": "2021-07-22T07:49:42.378Z"
   },
   {
    "duration": 633,
    "start_time": "2021-07-22T07:50:37.707Z"
   },
   {
    "duration": 693,
    "start_time": "2021-07-22T07:51:13.455Z"
   },
   {
    "duration": 704,
    "start_time": "2021-07-22T07:51:43.059Z"
   },
   {
    "duration": 445,
    "start_time": "2021-07-22T07:53:09.506Z"
   },
   {
    "duration": 458,
    "start_time": "2021-07-22T07:53:14.564Z"
   },
   {
    "duration": 447,
    "start_time": "2021-07-22T07:53:21.269Z"
   },
   {
    "duration": 433,
    "start_time": "2021-07-22T07:53:30.913Z"
   },
   {
    "duration": 750,
    "start_time": "2021-07-22T07:54:08.118Z"
   },
   {
    "duration": 542,
    "start_time": "2021-07-22T07:54:16.164Z"
   },
   {
    "duration": 454,
    "start_time": "2021-07-22T07:54:26.279Z"
   },
   {
    "duration": 448,
    "start_time": "2021-07-22T07:54:40.753Z"
   },
   {
    "duration": 501,
    "start_time": "2021-07-22T07:55:08.595Z"
   },
   {
    "duration": 443,
    "start_time": "2021-07-22T07:57:00.215Z"
   },
   {
    "duration": 8,
    "start_time": "2021-07-22T07:57:29.946Z"
   },
   {
    "duration": 772,
    "start_time": "2021-07-22T07:57:32.478Z"
   },
   {
    "duration": 730,
    "start_time": "2021-07-22T07:59:39.456Z"
   },
   {
    "duration": 467,
    "start_time": "2021-07-22T07:59:59.838Z"
   },
   {
    "duration": 439,
    "start_time": "2021-07-22T08:00:08.676Z"
   },
   {
    "duration": 456,
    "start_time": "2021-07-22T08:02:11.410Z"
   },
   {
    "duration": 479,
    "start_time": "2021-07-22T08:03:13.587Z"
   },
   {
    "duration": 100,
    "start_time": "2021-07-22T08:03:43.500Z"
   },
   {
    "duration": 102,
    "start_time": "2021-07-22T08:03:53.212Z"
   },
   {
    "duration": 101,
    "start_time": "2021-07-22T08:04:14.818Z"
   },
   {
    "duration": 418,
    "start_time": "2021-07-22T08:04:58.224Z"
   },
   {
    "duration": 104,
    "start_time": "2021-07-22T08:09:12.845Z"
   },
   {
    "duration": 569,
    "start_time": "2021-07-22T08:09:19.610Z"
   },
   {
    "duration": 105,
    "start_time": "2021-07-22T08:09:20.200Z"
   },
   {
    "duration": 21,
    "start_time": "2021-07-22T08:09:20.308Z"
   },
   {
    "duration": 40,
    "start_time": "2021-07-22T08:09:20.332Z"
   },
   {
    "duration": 37,
    "start_time": "2021-07-22T08:09:20.400Z"
   },
   {
    "duration": 8,
    "start_time": "2021-07-22T08:09:20.439Z"
   },
   {
    "duration": 305,
    "start_time": "2021-07-22T08:09:20.449Z"
   },
   {
    "duration": 5,
    "start_time": "2021-07-22T08:09:20.758Z"
   },
   {
    "duration": 37,
    "start_time": "2021-07-22T08:09:20.766Z"
   },
   {
    "duration": 25,
    "start_time": "2021-07-22T08:09:20.806Z"
   },
   {
    "duration": 582,
    "start_time": "2021-07-22T08:09:20.834Z"
   },
   {
    "duration": 22,
    "start_time": "2021-07-22T08:09:21.418Z"
   },
   {
    "duration": 285,
    "start_time": "2021-07-22T08:09:21.442Z"
   },
   {
    "duration": 138,
    "start_time": "2021-07-22T08:09:21.730Z"
   },
   {
    "duration": 58,
    "start_time": "2021-07-22T08:09:21.870Z"
   },
   {
    "duration": 72,
    "start_time": "2021-07-22T08:09:21.930Z"
   },
   {
    "duration": 37,
    "start_time": "2021-07-22T08:09:22.004Z"
   },
   {
    "duration": 61,
    "start_time": "2021-07-22T08:09:22.044Z"
   },
   {
    "duration": 8,
    "start_time": "2021-07-22T08:09:22.108Z"
   },
   {
    "duration": 40,
    "start_time": "2021-07-22T08:09:22.118Z"
   },
   {
    "duration": 59,
    "start_time": "2021-07-22T08:09:22.160Z"
   },
   {
    "duration": 5,
    "start_time": "2021-07-22T08:09:22.221Z"
   },
   {
    "duration": 19,
    "start_time": "2021-07-22T08:09:22.230Z"
   },
   {
    "duration": 61,
    "start_time": "2021-07-22T08:09:22.252Z"
   },
   {
    "duration": 22,
    "start_time": "2021-07-22T08:09:22.316Z"
   },
   {
    "duration": 12,
    "start_time": "2021-07-22T08:09:22.341Z"
   },
   {
    "duration": 50,
    "start_time": "2021-07-22T08:09:22.356Z"
   },
   {
    "duration": 587,
    "start_time": "2021-07-22T08:09:22.409Z"
   },
   {
    "duration": 8,
    "start_time": "2021-07-22T08:09:23.001Z"
   },
   {
    "duration": 13,
    "start_time": "2021-07-22T08:09:23.011Z"
   },
   {
    "duration": 8,
    "start_time": "2021-07-22T08:09:23.026Z"
   },
   {
    "duration": 11,
    "start_time": "2021-07-22T08:09:23.037Z"
   },
   {
    "duration": 9,
    "start_time": "2021-07-22T08:09:23.050Z"
   },
   {
    "duration": 1209,
    "start_time": "2021-07-22T08:10:10.959Z"
   },
   {
    "duration": 9,
    "start_time": "2021-07-22T08:10:31.658Z"
   },
   {
    "duration": 1239,
    "start_time": "2021-07-22T08:10:33.753Z"
   },
   {
    "duration": 10,
    "start_time": "2021-07-22T08:10:51.021Z"
   },
   {
    "duration": 727,
    "start_time": "2021-07-22T08:10:53.376Z"
   },
   {
    "duration": 10,
    "start_time": "2021-07-22T08:12:19.503Z"
   },
   {
    "duration": 758,
    "start_time": "2021-07-22T08:12:21.473Z"
   },
   {
    "duration": 99,
    "start_time": "2021-07-22T08:13:04.018Z"
   },
   {
    "duration": 788,
    "start_time": "2021-07-22T08:13:07.548Z"
   },
   {
    "duration": 10,
    "start_time": "2021-07-22T08:14:35.954Z"
   },
   {
    "duration": 825,
    "start_time": "2021-07-22T08:14:38.113Z"
   },
   {
    "duration": 7,
    "start_time": "2021-07-22T08:22:30.234Z"
   },
   {
    "duration": 7,
    "start_time": "2021-07-22T08:22:31.900Z"
   },
   {
    "duration": 541,
    "start_time": "2021-07-22T08:25:40.086Z"
   },
   {
    "duration": 107,
    "start_time": "2021-07-22T08:25:40.630Z"
   },
   {
    "duration": 21,
    "start_time": "2021-07-22T08:25:40.740Z"
   },
   {
    "duration": 63,
    "start_time": "2021-07-22T08:25:40.764Z"
   },
   {
    "duration": 36,
    "start_time": "2021-07-22T08:25:40.829Z"
   },
   {
    "duration": 6,
    "start_time": "2021-07-22T08:25:40.867Z"
   },
   {
    "duration": 274,
    "start_time": "2021-07-22T08:25:40.901Z"
   },
   {
    "duration": 5,
    "start_time": "2021-07-22T08:25:41.179Z"
   },
   {
    "duration": 12,
    "start_time": "2021-07-22T08:25:41.202Z"
   },
   {
    "duration": 45,
    "start_time": "2021-07-22T08:25:41.217Z"
   },
   {
    "duration": 585,
    "start_time": "2021-07-22T08:25:41.265Z"
   },
   {
    "duration": 50,
    "start_time": "2021-07-22T08:25:41.853Z"
   },
   {
    "duration": 254,
    "start_time": "2021-07-22T08:25:41.905Z"
   },
   {
    "duration": 157,
    "start_time": "2021-07-22T08:25:42.162Z"
   },
   {
    "duration": 44,
    "start_time": "2021-07-22T08:25:42.323Z"
   },
   {
    "duration": 77,
    "start_time": "2021-07-22T08:25:42.370Z"
   },
   {
    "duration": 57,
    "start_time": "2021-07-22T08:25:42.450Z"
   },
   {
    "duration": 45,
    "start_time": "2021-07-22T08:25:42.510Z"
   },
   {
    "duration": 43,
    "start_time": "2021-07-22T08:25:42.558Z"
   },
   {
    "duration": 42,
    "start_time": "2021-07-22T08:25:42.604Z"
   },
   {
    "duration": 67,
    "start_time": "2021-07-22T08:25:42.649Z"
   },
   {
    "duration": 5,
    "start_time": "2021-07-22T08:25:42.719Z"
   },
   {
    "duration": 23,
    "start_time": "2021-07-22T08:25:42.729Z"
   },
   {
    "duration": 58,
    "start_time": "2021-07-22T08:25:42.755Z"
   },
   {
    "duration": 21,
    "start_time": "2021-07-22T08:25:42.815Z"
   },
   {
    "duration": 11,
    "start_time": "2021-07-22T08:25:42.840Z"
   },
   {
    "duration": 7,
    "start_time": "2021-07-22T08:25:42.853Z"
   },
   {
    "duration": 610,
    "start_time": "2021-07-22T08:25:42.862Z"
   },
   {
    "duration": 8,
    "start_time": "2021-07-22T08:25:43.474Z"
   },
   {
    "duration": 24,
    "start_time": "2021-07-22T08:25:43.484Z"
   },
   {
    "duration": 13,
    "start_time": "2021-07-22T08:25:43.510Z"
   },
   {
    "duration": 33,
    "start_time": "2021-07-22T08:25:43.526Z"
   },
   {
    "duration": 12,
    "start_time": "2021-07-22T08:25:43.561Z"
   },
   {
    "duration": 25,
    "start_time": "2021-07-22T08:25:43.575Z"
   },
   {
    "duration": 1184,
    "start_time": "2021-07-22T08:25:45.857Z"
   },
   {
    "duration": 6,
    "start_time": "2021-07-22T08:26:40.990Z"
   },
   {
    "duration": 6,
    "start_time": "2021-07-22T08:26:41.981Z"
   },
   {
    "duration": 576,
    "start_time": "2021-07-22T08:26:52.635Z"
   },
   {
    "duration": 113,
    "start_time": "2021-07-22T08:26:53.214Z"
   },
   {
    "duration": 21,
    "start_time": "2021-07-22T08:26:53.330Z"
   },
   {
    "duration": 65,
    "start_time": "2021-07-22T08:26:53.354Z"
   },
   {
    "duration": 37,
    "start_time": "2021-07-22T08:26:53.421Z"
   },
   {
    "duration": 6,
    "start_time": "2021-07-22T08:26:53.460Z"
   },
   {
    "duration": 310,
    "start_time": "2021-07-22T08:26:53.469Z"
   },
   {
    "duration": 20,
    "start_time": "2021-07-22T08:26:53.782Z"
   },
   {
    "duration": 24,
    "start_time": "2021-07-22T08:26:53.805Z"
   },
   {
    "duration": 34,
    "start_time": "2021-07-22T08:26:53.831Z"
   },
   {
    "duration": 605,
    "start_time": "2021-07-22T08:26:53.868Z"
   },
   {
    "duration": 38,
    "start_time": "2021-07-22T08:26:54.476Z"
   },
   {
    "duration": 257,
    "start_time": "2021-07-22T08:26:54.516Z"
   },
   {
    "duration": 152,
    "start_time": "2021-07-22T08:26:54.775Z"
   },
   {
    "duration": 43,
    "start_time": "2021-07-22T08:26:54.930Z"
   },
   {
    "duration": 75,
    "start_time": "2021-07-22T08:26:54.975Z"
   },
   {
    "duration": 60,
    "start_time": "2021-07-22T08:26:55.052Z"
   },
   {
    "duration": 44,
    "start_time": "2021-07-22T08:26:55.114Z"
   },
   {
    "duration": 10,
    "start_time": "2021-07-22T08:26:55.160Z"
   },
   {
    "duration": 76,
    "start_time": "2021-07-22T08:26:55.172Z"
   },
   {
    "duration": 27,
    "start_time": "2021-07-22T08:26:55.251Z"
   },
   {
    "duration": 5,
    "start_time": "2021-07-22T08:26:55.301Z"
   },
   {
    "duration": 18,
    "start_time": "2021-07-22T08:26:55.310Z"
   },
   {
    "duration": 23,
    "start_time": "2021-07-22T08:26:55.331Z"
   },
   {
    "duration": 63,
    "start_time": "2021-07-22T08:26:55.356Z"
   },
   {
    "duration": 12,
    "start_time": "2021-07-22T08:26:55.421Z"
   },
   {
    "duration": 8,
    "start_time": "2021-07-22T08:26:55.437Z"
   },
   {
    "duration": 643,
    "start_time": "2021-07-22T08:26:55.448Z"
   },
   {
    "duration": 14,
    "start_time": "2021-07-22T08:26:56.094Z"
   },
   {
    "duration": 13,
    "start_time": "2021-07-22T08:26:56.111Z"
   },
   {
    "duration": 9,
    "start_time": "2021-07-22T08:26:56.126Z"
   },
   {
    "duration": 11,
    "start_time": "2021-07-22T08:26:56.138Z"
   },
   {
    "duration": 50,
    "start_time": "2021-07-22T08:26:56.151Z"
   },
   {
    "duration": 9,
    "start_time": "2021-07-22T08:26:56.204Z"
   },
   {
    "duration": 889,
    "start_time": "2021-07-22T08:26:56.215Z"
   },
   {
    "duration": 7,
    "start_time": "2021-07-22T08:29:31.574Z"
   },
   {
    "duration": 6,
    "start_time": "2021-07-22T08:29:33.521Z"
   },
   {
    "duration": 775,
    "start_time": "2021-07-22T08:29:35.289Z"
   },
   {
    "duration": 6,
    "start_time": "2021-07-22T08:29:58.126Z"
   },
   {
    "duration": 771,
    "start_time": "2021-07-22T08:29:59.594Z"
   },
   {
    "duration": 7,
    "start_time": "2021-07-22T08:30:23.957Z"
   },
   {
    "duration": 719,
    "start_time": "2021-07-22T08:30:26.374Z"
   },
   {
    "duration": 7,
    "start_time": "2021-07-22T08:32:03.713Z"
   },
   {
    "duration": 742,
    "start_time": "2021-07-22T08:32:05.485Z"
   },
   {
    "duration": 6,
    "start_time": "2021-07-22T08:32:58.858Z"
   },
   {
    "duration": 855,
    "start_time": "2021-07-22T08:33:00.438Z"
   },
   {
    "duration": 7,
    "start_time": "2021-07-22T08:33:32.265Z"
   },
   {
    "duration": 754,
    "start_time": "2021-07-22T08:33:33.622Z"
   },
   {
    "duration": 6,
    "start_time": "2021-07-22T08:33:49.501Z"
   },
   {
    "duration": 764,
    "start_time": "2021-07-22T08:33:50.970Z"
   },
   {
    "duration": 7,
    "start_time": "2021-07-22T08:34:13.206Z"
   },
   {
    "duration": 757,
    "start_time": "2021-07-22T08:34:14.384Z"
   },
   {
    "duration": 7,
    "start_time": "2021-07-22T08:34:29.997Z"
   },
   {
    "duration": 715,
    "start_time": "2021-07-22T08:34:31.963Z"
   },
   {
    "duration": 6,
    "start_time": "2021-07-22T08:34:49.843Z"
   },
   {
    "duration": 790,
    "start_time": "2021-07-22T08:34:51.053Z"
   },
   {
    "duration": 269,
    "start_time": "2021-07-22T08:59:43.354Z"
   },
   {
    "duration": 277,
    "start_time": "2021-07-22T08:59:46.541Z"
   },
   {
    "duration": 6,
    "start_time": "2021-07-22T08:59:52.126Z"
   },
   {
    "duration": 7,
    "start_time": "2021-07-22T09:07:18.750Z"
   },
   {
    "duration": 262,
    "start_time": "2021-07-22T09:09:03.610Z"
   },
   {
    "duration": 263,
    "start_time": "2021-07-22T09:09:19.486Z"
   },
   {
    "duration": 310,
    "start_time": "2021-07-22T09:09:49.422Z"
   },
   {
    "duration": 112,
    "start_time": "2021-07-22T09:10:56.056Z"
   },
   {
    "duration": 872,
    "start_time": "2021-07-22T09:10:57.890Z"
   },
   {
    "duration": 8,
    "start_time": "2021-07-22T09:13:35.709Z"
   },
   {
    "duration": 1153,
    "start_time": "2021-07-22T09:13:37.075Z"
   },
   {
    "duration": 8,
    "start_time": "2021-07-22T09:13:55.994Z"
   },
   {
    "duration": 692,
    "start_time": "2021-07-22T09:13:57.974Z"
   },
   {
    "duration": 9,
    "start_time": "2021-07-22T09:14:34.958Z"
   },
   {
    "duration": 1326,
    "start_time": "2021-07-22T09:14:36.800Z"
   },
   {
    "duration": 8,
    "start_time": "2021-07-22T09:15:18.234Z"
   },
   {
    "duration": 775,
    "start_time": "2021-07-22T09:15:20.306Z"
   },
   {
    "duration": 8,
    "start_time": "2021-07-22T09:15:35.564Z"
   },
   {
    "duration": 847,
    "start_time": "2021-07-22T09:15:37.095Z"
   },
   {
    "duration": 8,
    "start_time": "2021-07-22T09:16:00.672Z"
   },
   {
    "duration": 767,
    "start_time": "2021-07-22T09:16:02.307Z"
   },
   {
    "duration": 2004,
    "start_time": "2021-07-22T09:16:13.066Z"
   },
   {
    "duration": 95,
    "start_time": "2021-07-22T09:16:15.072Z"
   },
   {
    "duration": 23,
    "start_time": "2021-07-22T09:16:15.202Z"
   },
   {
    "duration": 38,
    "start_time": "2021-07-22T09:16:15.228Z"
   },
   {
    "duration": 67,
    "start_time": "2021-07-22T09:16:15.269Z"
   },
   {
    "duration": 9,
    "start_time": "2021-07-22T09:16:15.338Z"
   },
   {
    "duration": 322,
    "start_time": "2021-07-22T09:16:15.349Z"
   },
   {
    "duration": 6,
    "start_time": "2021-07-22T09:16:15.673Z"
   },
   {
    "duration": 28,
    "start_time": "2021-07-22T09:16:15.683Z"
   },
   {
    "duration": 28,
    "start_time": "2021-07-22T09:16:15.715Z"
   },
   {
    "duration": 467,
    "start_time": "2021-07-22T09:16:15.746Z"
   },
   {
    "duration": 27,
    "start_time": "2021-07-22T09:16:16.215Z"
   },
   {
    "duration": 297,
    "start_time": "2021-07-22T09:16:16.246Z"
   },
   {
    "duration": 154,
    "start_time": "2021-07-22T09:16:16.546Z"
   },
   {
    "duration": 46,
    "start_time": "2021-07-22T09:16:16.703Z"
   },
   {
    "duration": 79,
    "start_time": "2021-07-22T09:16:16.752Z"
   },
   {
    "duration": 38,
    "start_time": "2021-07-22T09:16:16.834Z"
   },
   {
    "duration": 61,
    "start_time": "2021-07-22T09:16:16.875Z"
   },
   {
    "duration": 9,
    "start_time": "2021-07-22T09:16:16.939Z"
   },
   {
    "duration": 71,
    "start_time": "2021-07-22T09:16:16.950Z"
   },
   {
    "duration": 28,
    "start_time": "2021-07-22T09:16:17.023Z"
   },
   {
    "duration": 4,
    "start_time": "2021-07-22T09:16:17.054Z"
   },
   {
    "duration": 56,
    "start_time": "2021-07-22T09:16:17.060Z"
   },
   {
    "duration": 28,
    "start_time": "2021-07-22T09:16:17.118Z"
   },
   {
    "duration": 56,
    "start_time": "2021-07-22T09:16:17.148Z"
   },
   {
    "duration": 10,
    "start_time": "2021-07-22T09:16:17.206Z"
   },
   {
    "duration": 22,
    "start_time": "2021-07-22T09:16:17.221Z"
   },
   {
    "duration": 591,
    "start_time": "2021-07-22T09:16:17.246Z"
   },
   {
    "duration": 9,
    "start_time": "2021-07-22T09:16:17.840Z"
   },
   {
    "duration": 23,
    "start_time": "2021-07-22T09:16:17.851Z"
   },
   {
    "duration": 29,
    "start_time": "2021-07-22T09:16:17.876Z"
   },
   {
    "duration": 17,
    "start_time": "2021-07-22T09:16:17.907Z"
   },
   {
    "duration": 7,
    "start_time": "2021-07-22T09:16:17.926Z"
   },
   {
    "duration": 8,
    "start_time": "2021-07-22T09:16:17.935Z"
   },
   {
    "duration": 761,
    "start_time": "2021-07-22T09:16:17.946Z"
   },
   {
    "duration": 713,
    "start_time": "2021-07-22T09:22:25.306Z"
   },
   {
    "duration": 6,
    "start_time": "2021-07-22T09:22:35.802Z"
   },
   {
    "duration": 8,
    "start_time": "2021-07-22T09:22:38.605Z"
   },
   {
    "duration": 983,
    "start_time": "2021-07-22T09:22:40.712Z"
   },
   {
    "duration": 9,
    "start_time": "2021-07-22T09:23:17.939Z"
   },
   {
    "duration": 1046,
    "start_time": "2021-07-22T09:23:20.029Z"
   },
   {
    "duration": 8,
    "start_time": "2021-07-22T09:23:37.262Z"
   },
   {
    "duration": 364,
    "start_time": "2021-07-22T09:23:39.956Z"
   },
   {
    "duration": 9,
    "start_time": "2021-07-22T09:23:46.172Z"
   },
   {
    "duration": 862,
    "start_time": "2021-07-22T09:23:47.668Z"
   },
   {
    "duration": 11,
    "start_time": "2021-07-22T09:26:47.958Z"
   },
   {
    "duration": 1296,
    "start_time": "2021-07-22T09:26:49.593Z"
   },
   {
    "duration": 106,
    "start_time": "2021-07-22T09:27:28.513Z"
   },
   {
    "duration": 1393,
    "start_time": "2021-07-22T09:27:30.180Z"
   },
   {
    "duration": 10,
    "start_time": "2021-07-22T09:27:56.486Z"
   },
   {
    "duration": 1277,
    "start_time": "2021-07-22T09:27:58.000Z"
   },
   {
    "duration": 6,
    "start_time": "2021-07-22T09:31:22.372Z"
   },
   {
    "duration": 15,
    "start_time": "2021-07-22T09:31:26.228Z"
   },
   {
    "duration": 7,
    "start_time": "2021-07-22T09:32:13.325Z"
   },
   {
    "duration": 11,
    "start_time": "2021-07-22T09:32:14.762Z"
   },
   {
    "duration": 919,
    "start_time": "2021-07-22T09:32:16.248Z"
   },
   {
    "duration": 12,
    "start_time": "2021-07-22T09:34:08.450Z"
   },
   {
    "duration": 8,
    "start_time": "2021-07-22T09:34:11.289Z"
   },
   {
    "duration": 16,
    "start_time": "2021-07-22T09:34:12.523Z"
   },
   {
    "duration": 1493,
    "start_time": "2021-07-22T09:34:14.139Z"
   },
   {
    "duration": 654,
    "start_time": "2021-07-22T09:36:08.900Z"
   },
   {
    "duration": 160,
    "start_time": "2021-07-22T09:36:09.557Z"
   },
   {
    "duration": 23,
    "start_time": "2021-07-22T09:36:09.721Z"
   },
   {
    "duration": 77,
    "start_time": "2021-07-22T09:36:09.748Z"
   },
   {
    "duration": 40,
    "start_time": "2021-07-22T09:36:09.829Z"
   },
   {
    "duration": 28,
    "start_time": "2021-07-22T09:36:09.872Z"
   },
   {
    "duration": 335,
    "start_time": "2021-07-22T09:36:09.904Z"
   },
   {
    "duration": 6,
    "start_time": "2021-07-22T09:36:10.243Z"
   },
   {
    "duration": 12,
    "start_time": "2021-07-22T09:36:10.252Z"
   },
   {
    "duration": 53,
    "start_time": "2021-07-22T09:36:10.266Z"
   },
   {
    "duration": 647,
    "start_time": "2021-07-22T09:36:10.322Z"
   },
   {
    "duration": 41,
    "start_time": "2021-07-22T09:36:10.972Z"
   },
   {
    "duration": 391,
    "start_time": "2021-07-22T09:36:11.016Z"
   },
   {
    "duration": 192,
    "start_time": "2021-07-22T09:36:11.410Z"
   },
   {
    "duration": 54,
    "start_time": "2021-07-22T09:36:11.605Z"
   },
   {
    "duration": 89,
    "start_time": "2021-07-22T09:36:11.662Z"
   },
   {
    "duration": 64,
    "start_time": "2021-07-22T09:36:11.755Z"
   },
   {
    "duration": 49,
    "start_time": "2021-07-22T09:36:11.821Z"
   },
   {
    "duration": 35,
    "start_time": "2021-07-22T09:36:11.872Z"
   },
   {
    "duration": 41,
    "start_time": "2021-07-22T09:36:11.909Z"
   },
   {
    "duration": 62,
    "start_time": "2021-07-22T09:36:11.953Z"
   },
   {
    "duration": 6,
    "start_time": "2021-07-22T09:36:12.017Z"
   },
   {
    "duration": 27,
    "start_time": "2021-07-22T09:36:12.028Z"
   },
   {
    "duration": 63,
    "start_time": "2021-07-22T09:36:12.058Z"
   },
   {
    "duration": 22,
    "start_time": "2021-07-22T09:36:12.123Z"
   },
   {
    "duration": 53,
    "start_time": "2021-07-22T09:36:12.148Z"
   },
   {
    "duration": 8,
    "start_time": "2021-07-22T09:36:12.204Z"
   },
   {
    "duration": 613,
    "start_time": "2021-07-22T09:36:12.215Z"
   },
   {
    "duration": 9,
    "start_time": "2021-07-22T09:36:12.831Z"
   },
   {
    "duration": 15,
    "start_time": "2021-07-22T09:36:12.842Z"
   },
   {
    "duration": 9,
    "start_time": "2021-07-22T09:36:12.859Z"
   },
   {
    "duration": 9,
    "start_time": "2021-07-22T09:36:12.902Z"
   },
   {
    "duration": 7,
    "start_time": "2021-07-22T09:36:12.914Z"
   },
   {
    "duration": 11,
    "start_time": "2021-07-22T09:36:12.923Z"
   },
   {
    "duration": 936,
    "start_time": "2021-07-22T09:36:12.936Z"
   },
   {
    "duration": 11,
    "start_time": "2021-07-22T09:36:37.181Z"
   },
   {
    "duration": 1089,
    "start_time": "2021-07-22T09:36:38.683Z"
   },
   {
    "duration": 404,
    "start_time": "2021-07-22T09:43:19.302Z"
   },
   {
    "duration": 11,
    "start_time": "2021-07-22T09:56:14.454Z"
   },
   {
    "duration": 944,
    "start_time": "2021-07-22T09:56:15.972Z"
   },
   {
    "duration": 11,
    "start_time": "2021-07-22T09:57:44.110Z"
   },
   {
    "duration": 991,
    "start_time": "2021-07-22T09:57:45.501Z"
   },
   {
    "duration": 116,
    "start_time": "2021-07-22T09:57:54.187Z"
   },
   {
    "duration": 950,
    "start_time": "2021-07-22T09:57:55.624Z"
   },
   {
    "duration": 12,
    "start_time": "2021-07-22T09:58:43.082Z"
   },
   {
    "duration": 901,
    "start_time": "2021-07-22T09:58:44.539Z"
   },
   {
    "duration": 16,
    "start_time": "2021-07-22T09:59:41.367Z"
   },
   {
    "duration": 1011,
    "start_time": "2021-07-22T09:59:43.347Z"
   },
   {
    "duration": 11,
    "start_time": "2021-07-22T09:59:56.853Z"
   },
   {
    "duration": 944,
    "start_time": "2021-07-22T09:59:59.561Z"
   },
   {
    "duration": 12,
    "start_time": "2021-07-22T10:00:13.799Z"
   },
   {
    "duration": 1021,
    "start_time": "2021-07-22T10:00:17.910Z"
   },
   {
    "duration": 16,
    "start_time": "2021-07-22T10:00:41.773Z"
   },
   {
    "duration": 1103,
    "start_time": "2021-07-22T10:00:44.382Z"
   },
   {
    "duration": 11,
    "start_time": "2021-07-22T10:01:04.669Z"
   },
   {
    "duration": 1031,
    "start_time": "2021-07-22T10:01:06.140Z"
   },
   {
    "duration": 10,
    "start_time": "2021-07-22T10:01:19.865Z"
   },
   {
    "duration": 1234,
    "start_time": "2021-07-22T10:01:21.544Z"
   },
   {
    "duration": 11,
    "start_time": "2021-07-22T10:04:22.194Z"
   },
   {
    "duration": 1148,
    "start_time": "2021-07-22T10:04:25.396Z"
   },
   {
    "duration": 11,
    "start_time": "2021-07-22T10:05:11.499Z"
   },
   {
    "duration": 1055,
    "start_time": "2021-07-22T10:05:14.481Z"
   },
   {
    "duration": 11,
    "start_time": "2021-07-22T10:05:25.355Z"
   },
   {
    "duration": 1106,
    "start_time": "2021-07-22T10:05:29.934Z"
   },
   {
    "duration": 95,
    "start_time": "2021-07-22T10:05:43.085Z"
   },
   {
    "duration": 1037,
    "start_time": "2021-07-22T10:05:44.504Z"
   },
   {
    "duration": 1193,
    "start_time": "2021-07-22T10:07:55.287Z"
   },
   {
    "duration": 1137,
    "start_time": "2021-07-22T10:10:42.250Z"
   },
   {
    "duration": 768,
    "start_time": "2021-07-22T10:12:11.015Z"
   },
   {
    "duration": 1024,
    "start_time": "2021-07-22T10:12:13.360Z"
   },
   {
    "duration": 908,
    "start_time": "2021-07-22T10:12:52.360Z"
   },
   {
    "duration": 12,
    "start_time": "2021-07-22T10:13:21.410Z"
   },
   {
    "duration": 1046,
    "start_time": "2021-07-22T10:13:23.396Z"
   },
   {
    "duration": 1118,
    "start_time": "2021-07-22T10:13:32.659Z"
   },
   {
    "duration": 998,
    "start_time": "2021-07-22T10:14:06.992Z"
   },
   {
    "duration": 585,
    "start_time": "2021-07-22T10:20:22.415Z"
   },
   {
    "duration": 101,
    "start_time": "2021-07-22T10:20:23.003Z"
   },
   {
    "duration": 21,
    "start_time": "2021-07-22T10:20:23.107Z"
   },
   {
    "duration": 44,
    "start_time": "2021-07-22T10:20:23.131Z"
   },
   {
    "duration": 59,
    "start_time": "2021-07-22T10:20:23.177Z"
   },
   {
    "duration": 8,
    "start_time": "2021-07-22T10:20:23.239Z"
   },
   {
    "duration": 298,
    "start_time": "2021-07-22T10:20:23.250Z"
   },
   {
    "duration": 6,
    "start_time": "2021-07-22T10:20:23.551Z"
   },
   {
    "duration": 42,
    "start_time": "2021-07-22T10:20:23.560Z"
   },
   {
    "duration": 19,
    "start_time": "2021-07-22T10:20:23.605Z"
   },
   {
    "duration": 621,
    "start_time": "2021-07-22T10:20:23.627Z"
   },
   {
    "duration": 51,
    "start_time": "2021-07-22T10:20:24.251Z"
   },
   {
    "duration": 251,
    "start_time": "2021-07-22T10:20:24.305Z"
   },
   {
    "duration": 155,
    "start_time": "2021-07-22T10:20:24.558Z"
   },
   {
    "duration": 49,
    "start_time": "2021-07-22T10:20:24.716Z"
   },
   {
    "duration": 77,
    "start_time": "2021-07-22T10:20:24.768Z"
   },
   {
    "duration": 55,
    "start_time": "2021-07-22T10:20:24.847Z"
   },
   {
    "duration": 46,
    "start_time": "2021-07-22T10:20:24.904Z"
   },
   {
    "duration": 9,
    "start_time": "2021-07-22T10:20:24.953Z"
   },
   {
    "duration": 73,
    "start_time": "2021-07-22T10:20:24.964Z"
   },
   {
    "duration": 28,
    "start_time": "2021-07-22T10:20:25.040Z"
   },
   {
    "duration": 32,
    "start_time": "2021-07-22T10:20:25.071Z"
   },
   {
    "duration": 17,
    "start_time": "2021-07-22T10:20:25.108Z"
   },
   {
    "duration": 23,
    "start_time": "2021-07-22T10:20:25.128Z"
   },
   {
    "duration": 60,
    "start_time": "2021-07-22T10:20:25.154Z"
   },
   {
    "duration": 11,
    "start_time": "2021-07-22T10:20:25.217Z"
   },
   {
    "duration": 8,
    "start_time": "2021-07-22T10:20:25.230Z"
   },
   {
    "duration": 609,
    "start_time": "2021-07-22T10:20:25.241Z"
   },
   {
    "duration": 7,
    "start_time": "2021-07-22T10:20:25.853Z"
   },
   {
    "duration": 12,
    "start_time": "2021-07-22T10:20:25.863Z"
   },
   {
    "duration": 9,
    "start_time": "2021-07-22T10:20:25.901Z"
   },
   {
    "duration": 11,
    "start_time": "2021-07-22T10:20:25.913Z"
   },
   {
    "duration": 7,
    "start_time": "2021-07-22T10:20:25.926Z"
   },
   {
    "duration": 12,
    "start_time": "2021-07-22T10:20:25.935Z"
   },
   {
    "duration": 1117,
    "start_time": "2021-07-22T10:20:25.949Z"
   },
   {
    "duration": 1098,
    "start_time": "2021-07-22T10:20:27.069Z"
   },
   {
    "duration": 1046,
    "start_time": "2021-07-22T10:20:28.170Z"
   },
   {
    "duration": 581,
    "start_time": "2021-07-22T10:22:02.930Z"
   },
   {
    "duration": 111,
    "start_time": "2021-07-22T10:22:03.515Z"
   },
   {
    "duration": 22,
    "start_time": "2021-07-22T10:22:03.629Z"
   },
   {
    "duration": 68,
    "start_time": "2021-07-22T10:22:03.654Z"
   },
   {
    "duration": 38,
    "start_time": "2021-07-22T10:22:03.724Z"
   },
   {
    "duration": 9,
    "start_time": "2021-07-22T10:22:03.765Z"
   },
   {
    "duration": 316,
    "start_time": "2021-07-22T10:22:03.802Z"
   },
   {
    "duration": 5,
    "start_time": "2021-07-22T10:22:04.122Z"
   },
   {
    "duration": 17,
    "start_time": "2021-07-22T10:22:04.130Z"
   },
   {
    "duration": 52,
    "start_time": "2021-07-22T10:22:04.150Z"
   },
   {
    "duration": 597,
    "start_time": "2021-07-22T10:22:04.205Z"
   },
   {
    "duration": 22,
    "start_time": "2021-07-22T10:22:04.805Z"
   },
   {
    "duration": 384,
    "start_time": "2021-07-22T10:22:04.829Z"
   },
   {
    "duration": 126,
    "start_time": "2021-07-22T10:22:05.216Z"
   },
   {
    "duration": 59,
    "start_time": "2021-07-22T10:22:05.345Z"
   },
   {
    "duration": 56,
    "start_time": "2021-07-22T10:22:05.407Z"
   },
   {
    "duration": 58,
    "start_time": "2021-07-22T10:22:05.465Z"
   },
   {
    "duration": 41,
    "start_time": "2021-07-22T10:22:05.526Z"
   },
   {
    "duration": 32,
    "start_time": "2021-07-22T10:22:05.570Z"
   },
   {
    "duration": 39,
    "start_time": "2021-07-22T10:22:05.605Z"
   },
   {
    "duration": 64,
    "start_time": "2021-07-22T10:22:05.647Z"
   },
   {
    "duration": 7,
    "start_time": "2021-07-22T10:22:05.713Z"
   },
   {
    "duration": 32,
    "start_time": "2021-07-22T10:22:05.724Z"
   },
   {
    "duration": 48,
    "start_time": "2021-07-22T10:22:05.759Z"
   },
   {
    "duration": 11,
    "start_time": "2021-07-22T10:22:05.810Z"
   },
   {
    "duration": 13,
    "start_time": "2021-07-22T10:22:05.823Z"
   },
   {
    "duration": 201,
    "start_time": "2021-07-22T10:22:05.838Z"
   },
   {
    "duration": 9,
    "start_time": "2021-07-22T10:22:24.030Z"
   },
   {
    "duration": 13,
    "start_time": "2021-07-22T10:22:26.087Z"
   },
   {
    "duration": 566,
    "start_time": "2021-07-22T10:22:38.638Z"
   },
   {
    "duration": 114,
    "start_time": "2021-07-22T10:22:39.207Z"
   },
   {
    "duration": 22,
    "start_time": "2021-07-22T10:22:39.324Z"
   },
   {
    "duration": 71,
    "start_time": "2021-07-22T10:22:39.349Z"
   },
   {
    "duration": 35,
    "start_time": "2021-07-22T10:22:39.423Z"
   },
   {
    "duration": 45,
    "start_time": "2021-07-22T10:22:39.460Z"
   },
   {
    "duration": 264,
    "start_time": "2021-07-22T10:22:39.507Z"
   },
   {
    "duration": 5,
    "start_time": "2021-07-22T10:22:39.776Z"
   },
   {
    "duration": 19,
    "start_time": "2021-07-22T10:22:39.784Z"
   },
   {
    "duration": 24,
    "start_time": "2021-07-22T10:22:39.805Z"
   },
   {
    "duration": 602,
    "start_time": "2021-07-22T10:22:39.832Z"
   },
   {
    "duration": 24,
    "start_time": "2021-07-22T10:22:40.438Z"
   },
   {
    "duration": 314,
    "start_time": "2021-07-22T10:22:40.464Z"
   },
   {
    "duration": 161,
    "start_time": "2021-07-22T10:22:40.780Z"
   },
   {
    "duration": 75,
    "start_time": "2021-07-22T10:22:40.943Z"
   },
   {
    "duration": 108,
    "start_time": "2021-07-22T10:22:41.020Z"
   },
   {
    "duration": 92,
    "start_time": "2021-07-22T10:22:41.131Z"
   },
   {
    "duration": 89,
    "start_time": "2021-07-22T10:22:41.226Z"
   },
   {
    "duration": 9,
    "start_time": "2021-07-22T10:22:41.318Z"
   },
   {
    "duration": 71,
    "start_time": "2021-07-22T10:22:41.329Z"
   },
   {
    "duration": 38,
    "start_time": "2021-07-22T10:22:41.403Z"
   },
   {
    "duration": 6,
    "start_time": "2021-07-22T10:22:41.444Z"
   },
   {
    "duration": 66,
    "start_time": "2021-07-22T10:22:41.457Z"
   },
   {
    "duration": 32,
    "start_time": "2021-07-22T10:22:41.527Z"
   },
   {
    "duration": 47,
    "start_time": "2021-07-22T10:22:41.562Z"
   },
   {
    "duration": 8,
    "start_time": "2021-07-22T10:22:41.612Z"
   },
   {
    "duration": 200,
    "start_time": "2021-07-22T10:22:41.623Z"
   },
   {
    "duration": 9,
    "start_time": "2021-07-22T10:22:41.826Z"
   },
   {
    "duration": 17,
    "start_time": "2021-07-22T10:22:41.838Z"
   },
   {
    "duration": 9,
    "start_time": "2021-07-22T10:22:41.858Z"
   },
   {
    "duration": 38,
    "start_time": "2021-07-22T10:22:41.869Z"
   },
   {
    "duration": 8,
    "start_time": "2021-07-22T10:22:41.909Z"
   },
   {
    "duration": 16,
    "start_time": "2021-07-22T10:22:41.919Z"
   },
   {
    "duration": 1070,
    "start_time": "2021-07-22T10:22:41.937Z"
   },
   {
    "duration": 1074,
    "start_time": "2021-07-22T10:22:43.010Z"
   },
   {
    "duration": 1171,
    "start_time": "2021-07-22T10:22:44.086Z"
   },
   {
    "duration": 543,
    "start_time": "2021-07-22T10:23:00.499Z"
   },
   {
    "duration": 117,
    "start_time": "2021-07-22T10:23:01.046Z"
   },
   {
    "duration": 54,
    "start_time": "2021-07-22T10:23:01.167Z"
   },
   {
    "duration": 37,
    "start_time": "2021-07-22T10:23:01.224Z"
   },
   {
    "duration": 68,
    "start_time": "2021-07-22T10:23:01.263Z"
   },
   {
    "duration": 9,
    "start_time": "2021-07-22T10:23:01.334Z"
   },
   {
    "duration": 310,
    "start_time": "2021-07-22T10:23:01.345Z"
   },
   {
    "duration": 6,
    "start_time": "2021-07-22T10:23:01.658Z"
   },
   {
    "duration": 39,
    "start_time": "2021-07-22T10:23:01.667Z"
   },
   {
    "duration": 25,
    "start_time": "2021-07-22T10:23:01.708Z"
   },
   {
    "duration": 600,
    "start_time": "2021-07-22T10:23:01.736Z"
   },
   {
    "duration": 61,
    "start_time": "2021-07-22T10:23:02.340Z"
   },
   {
    "duration": 266,
    "start_time": "2021-07-22T10:23:02.405Z"
   },
   {
    "duration": 136,
    "start_time": "2021-07-22T10:23:02.702Z"
   },
   {
    "duration": 70,
    "start_time": "2021-07-22T10:23:02.841Z"
   },
   {
    "duration": 61,
    "start_time": "2021-07-22T10:23:02.914Z"
   },
   {
    "duration": 60,
    "start_time": "2021-07-22T10:23:02.977Z"
   },
   {
    "duration": 64,
    "start_time": "2021-07-22T10:23:03.040Z"
   },
   {
    "duration": 9,
    "start_time": "2021-07-22T10:23:03.107Z"
   },
   {
    "duration": 60,
    "start_time": "2021-07-22T10:23:03.119Z"
   },
   {
    "duration": 42,
    "start_time": "2021-07-22T10:23:03.181Z"
   },
   {
    "duration": 4,
    "start_time": "2021-07-22T10:23:03.226Z"
   },
   {
    "duration": 24,
    "start_time": "2021-07-22T10:23:03.235Z"
   },
   {
    "duration": 57,
    "start_time": "2021-07-22T10:23:03.262Z"
   },
   {
    "duration": 11,
    "start_time": "2021-07-22T10:23:03.322Z"
   },
   {
    "duration": 14,
    "start_time": "2021-07-22T10:23:03.335Z"
   },
   {
    "duration": 184,
    "start_time": "2021-07-22T10:23:03.351Z"
   },
   {
    "duration": 8,
    "start_time": "2021-07-22T10:23:03.538Z"
   },
   {
    "duration": 24,
    "start_time": "2021-07-22T10:23:03.548Z"
   },
   {
    "duration": 29,
    "start_time": "2021-07-22T10:23:03.575Z"
   },
   {
    "duration": 13,
    "start_time": "2021-07-22T10:23:03.607Z"
   },
   {
    "duration": 10,
    "start_time": "2021-07-22T10:23:03.623Z"
   },
   {
    "duration": 11,
    "start_time": "2021-07-22T10:23:03.635Z"
   },
   {
    "duration": 1018,
    "start_time": "2021-07-22T10:23:03.649Z"
   },
   {
    "duration": 1109,
    "start_time": "2021-07-22T10:23:04.670Z"
   },
   {
    "duration": 1047,
    "start_time": "2021-07-22T10:23:05.782Z"
   },
   {
    "duration": 19,
    "start_time": "2021-07-22T10:33:07.735Z"
   },
   {
    "duration": 1632,
    "start_time": "2021-07-22T10:33:09.385Z"
   },
   {
    "duration": 12,
    "start_time": "2021-07-22T10:33:19.664Z"
   },
   {
    "duration": 1643,
    "start_time": "2021-07-22T10:33:21.087Z"
   },
   {
    "duration": 12,
    "start_time": "2021-07-22T10:33:39.577Z"
   },
   {
    "duration": 1078,
    "start_time": "2021-07-22T10:33:40.849Z"
   },
   {
    "duration": 11,
    "start_time": "2021-07-22T10:34:08.116Z"
   },
   {
    "duration": 1109,
    "start_time": "2021-07-22T10:34:09.624Z"
   },
   {
    "duration": 110,
    "start_time": "2021-07-22T10:35:12.165Z"
   },
   {
    "duration": 1103,
    "start_time": "2021-07-22T10:35:13.731Z"
   },
   {
    "duration": 11,
    "start_time": "2021-07-22T10:36:08.130Z"
   },
   {
    "duration": 12,
    "start_time": "2021-07-22T10:36:17.645Z"
   },
   {
    "duration": 1139,
    "start_time": "2021-07-22T10:36:20.557Z"
   },
   {
    "duration": 13,
    "start_time": "2021-07-22T10:36:31.701Z"
   },
   {
    "duration": 1117,
    "start_time": "2021-07-22T10:36:33.262Z"
   },
   {
    "duration": 16,
    "start_time": "2021-07-22T10:36:55.630Z"
   },
   {
    "duration": 1160,
    "start_time": "2021-07-22T10:36:56.884Z"
   },
   {
    "duration": 19,
    "start_time": "2021-07-22T10:37:43.016Z"
   },
   {
    "duration": 1174,
    "start_time": "2021-07-22T10:37:44.348Z"
   },
   {
    "duration": 12,
    "start_time": "2021-07-22T10:37:57.600Z"
   },
   {
    "duration": 1204,
    "start_time": "2021-07-22T10:38:01.120Z"
   },
   {
    "duration": 13,
    "start_time": "2021-07-22T10:39:04.705Z"
   },
   {
    "duration": 1085,
    "start_time": "2021-07-22T10:39:06.543Z"
   },
   {
    "duration": 12,
    "start_time": "2021-07-22T10:39:36.619Z"
   },
   {
    "duration": 1053,
    "start_time": "2021-07-22T10:39:37.894Z"
   },
   {
    "duration": 13,
    "start_time": "2021-07-22T10:53:45.068Z"
   },
   {
    "duration": 1223,
    "start_time": "2021-07-22T10:53:47.095Z"
   },
   {
    "duration": 17,
    "start_time": "2021-07-22T10:54:00.296Z"
   },
   {
    "duration": 1159,
    "start_time": "2021-07-22T10:54:01.717Z"
   },
   {
    "duration": 710,
    "start_time": "2021-07-22T10:58:09.178Z"
   },
   {
    "duration": 136,
    "start_time": "2021-07-22T10:58:11.349Z"
   },
   {
    "duration": 367,
    "start_time": "2021-07-22T10:58:17.935Z"
   },
   {
    "duration": 428,
    "start_time": "2021-07-22T10:58:47.368Z"
   },
   {
    "duration": 878,
    "start_time": "2021-07-22T10:59:12.842Z"
   },
   {
    "duration": 447,
    "start_time": "2021-07-22T10:59:15.211Z"
   },
   {
    "duration": 356,
    "start_time": "2021-07-22T10:59:55.740Z"
   },
   {
    "duration": 14,
    "start_time": "2021-07-22T11:00:41.213Z"
   },
   {
    "duration": 1083,
    "start_time": "2021-07-22T11:00:45.951Z"
   },
   {
    "duration": 1128,
    "start_time": "2021-07-22T11:01:23.836Z"
   },
   {
    "duration": 96,
    "start_time": "2021-07-22T11:10:20.033Z"
   },
   {
    "duration": 16,
    "start_time": "2021-07-22T11:10:32.136Z"
   },
   {
    "duration": 1453,
    "start_time": "2021-07-22T11:10:35.122Z"
   },
   {
    "duration": 15,
    "start_time": "2021-07-22T11:10:57.614Z"
   },
   {
    "duration": 1050,
    "start_time": "2021-07-22T11:11:00.042Z"
   },
   {
    "duration": 14,
    "start_time": "2021-07-22T11:12:31.691Z"
   },
   {
    "duration": 10,
    "start_time": "2021-07-22T11:12:35.451Z"
   },
   {
    "duration": 7,
    "start_time": "2021-07-22T11:12:42.441Z"
   },
   {
    "duration": 15,
    "start_time": "2021-07-22T11:12:43.889Z"
   },
   {
    "duration": 1157,
    "start_time": "2021-07-22T11:12:45.956Z"
   },
   {
    "duration": 7,
    "start_time": "2021-07-22T11:13:34.453Z"
   },
   {
    "duration": 15,
    "start_time": "2021-07-22T11:13:35.852Z"
   },
   {
    "duration": 1035,
    "start_time": "2021-07-22T11:13:37.376Z"
   },
   {
    "duration": 7,
    "start_time": "2021-07-22T11:18:35.110Z"
   },
   {
    "duration": 15,
    "start_time": "2021-07-22T11:18:38.317Z"
   },
   {
    "duration": 1081,
    "start_time": "2021-07-22T11:18:41.023Z"
   },
   {
    "duration": 16,
    "start_time": "2021-07-22T11:22:01.226Z"
   },
   {
    "duration": 1167,
    "start_time": "2021-07-22T11:22:02.863Z"
   },
   {
    "duration": 7,
    "start_time": "2021-07-22T11:27:13.383Z"
   },
   {
    "duration": 15,
    "start_time": "2021-07-22T11:27:14.719Z"
   },
   {
    "duration": 16,
    "start_time": "2021-07-22T11:27:22.612Z"
   },
   {
    "duration": 1321,
    "start_time": "2021-07-22T11:27:24.358Z"
   },
   {
    "duration": 8,
    "start_time": "2021-07-22T11:29:35.870Z"
   },
   {
    "duration": 17,
    "start_time": "2021-07-22T11:29:37.900Z"
   },
   {
    "duration": 1130,
    "start_time": "2021-07-22T11:29:41.726Z"
   },
   {
    "duration": 17,
    "start_time": "2021-07-22T11:30:25.346Z"
   },
   {
    "duration": 1753,
    "start_time": "2021-07-22T11:30:27.912Z"
   },
   {
    "duration": 1746,
    "start_time": "2021-07-22T11:31:17.541Z"
   },
   {
    "duration": 16,
    "start_time": "2021-07-22T11:31:38.436Z"
   },
   {
    "duration": 1085,
    "start_time": "2021-07-22T11:31:39.934Z"
   },
   {
    "duration": 1221,
    "start_time": "2021-07-22T11:31:44.814Z"
   },
   {
    "duration": 396,
    "start_time": "2021-07-22T11:31:50.544Z"
   },
   {
    "duration": 1071,
    "start_time": "2021-07-22T11:32:11.872Z"
   },
   {
    "duration": 555,
    "start_time": "2021-07-22T11:40:33.604Z"
   },
   {
    "duration": 142,
    "start_time": "2021-07-22T11:40:34.162Z"
   },
   {
    "duration": 24,
    "start_time": "2021-07-22T11:40:34.307Z"
   },
   {
    "duration": 40,
    "start_time": "2021-07-22T11:40:34.333Z"
   },
   {
    "duration": 38,
    "start_time": "2021-07-22T11:40:34.400Z"
   },
   {
    "duration": 7,
    "start_time": "2021-07-22T11:40:34.440Z"
   },
   {
    "duration": 305,
    "start_time": "2021-07-22T11:40:34.449Z"
   },
   {
    "duration": 5,
    "start_time": "2021-07-22T11:40:34.757Z"
   },
   {
    "duration": 36,
    "start_time": "2021-07-22T11:40:34.765Z"
   },
   {
    "duration": 22,
    "start_time": "2021-07-22T11:40:34.804Z"
   },
   {
    "duration": 591,
    "start_time": "2021-07-22T11:40:34.829Z"
   },
   {
    "duration": 21,
    "start_time": "2021-07-22T11:40:35.422Z"
   },
   {
    "duration": 408,
    "start_time": "2021-07-22T11:40:35.446Z"
   },
   {
    "duration": 128,
    "start_time": "2021-07-22T11:40:35.857Z"
   },
   {
    "duration": 55,
    "start_time": "2021-07-22T11:40:35.988Z"
   },
   {
    "duration": 77,
    "start_time": "2021-07-22T11:40:36.045Z"
   },
   {
    "duration": 40,
    "start_time": "2021-07-22T11:40:36.124Z"
   },
   {
    "duration": 61,
    "start_time": "2021-07-22T11:40:36.166Z"
   },
   {
    "duration": 7,
    "start_time": "2021-07-22T11:40:36.230Z"
   },
   {
    "duration": 74,
    "start_time": "2021-07-22T11:40:36.240Z"
   },
   {
    "duration": 7,
    "start_time": "2021-07-22T11:41:06.769Z"
   },
   {
    "duration": 7,
    "start_time": "2021-07-22T11:41:17.619Z"
   },
   {
    "duration": 1924,
    "start_time": "2021-07-22T20:00:14.382Z"
   },
   {
    "duration": 106,
    "start_time": "2021-07-22T20:00:16.309Z"
   },
   {
    "duration": 52,
    "start_time": "2021-07-22T20:00:16.417Z"
   },
   {
    "duration": 32,
    "start_time": "2021-07-22T20:00:16.471Z"
   },
   {
    "duration": 63,
    "start_time": "2021-07-22T20:00:16.506Z"
   },
   {
    "duration": 7,
    "start_time": "2021-07-22T20:00:16.572Z"
   },
   {
    "duration": 311,
    "start_time": "2021-07-22T20:00:16.582Z"
   },
   {
    "duration": 5,
    "start_time": "2021-07-22T20:00:16.895Z"
   },
   {
    "duration": 13,
    "start_time": "2021-07-22T20:00:16.902Z"
   },
   {
    "duration": 50,
    "start_time": "2021-07-22T20:00:16.917Z"
   },
   {
    "duration": 438,
    "start_time": "2021-07-22T20:00:16.969Z"
   },
   {
    "duration": 49,
    "start_time": "2021-07-22T20:00:17.409Z"
   },
   {
    "duration": 257,
    "start_time": "2021-07-22T20:00:17.460Z"
   },
   {
    "duration": 150,
    "start_time": "2021-07-22T20:00:17.719Z"
   },
   {
    "duration": 42,
    "start_time": "2021-07-22T20:00:17.871Z"
   },
   {
    "duration": 82,
    "start_time": "2021-07-22T20:00:17.915Z"
   },
   {
    "duration": 37,
    "start_time": "2021-07-22T20:00:17.999Z"
   },
   {
    "duration": 57,
    "start_time": "2021-07-22T20:00:18.040Z"
   },
   {
    "duration": 8,
    "start_time": "2021-07-22T20:00:18.100Z"
   },
   {
    "duration": 71,
    "start_time": "2021-07-22T20:00:18.111Z"
   },
   {
    "duration": 6,
    "start_time": "2021-07-22T20:00:18.184Z"
   },
   {
    "duration": 26,
    "start_time": "2021-07-22T20:00:18.193Z"
   },
   {
    "duration": 38,
    "start_time": "2021-07-22T20:00:18.222Z"
   },
   {
    "duration": 20,
    "start_time": "2021-07-22T20:00:18.262Z"
   },
   {
    "duration": 24,
    "start_time": "2021-07-22T20:00:18.285Z"
   },
   {
    "duration": 48,
    "start_time": "2021-07-22T20:00:18.311Z"
   },
   {
    "duration": 8,
    "start_time": "2021-07-22T20:00:18.361Z"
   },
   {
    "duration": 186,
    "start_time": "2021-07-22T20:00:18.371Z"
   },
   {
    "duration": 8,
    "start_time": "2021-07-22T20:00:18.560Z"
   },
   {
    "duration": 15,
    "start_time": "2021-07-22T20:00:18.570Z"
   },
   {
    "duration": 9,
    "start_time": "2021-07-22T20:00:18.587Z"
   },
   {
    "duration": 11,
    "start_time": "2021-07-22T20:00:18.598Z"
   },
   {
    "duration": 7,
    "start_time": "2021-07-22T20:00:18.612Z"
   },
   {
    "duration": 47,
    "start_time": "2021-07-22T20:00:18.621Z"
   },
   {
    "duration": 1056,
    "start_time": "2021-07-22T20:00:18.670Z"
   },
   {
    "duration": 1099,
    "start_time": "2021-07-22T20:00:19.729Z"
   },
   {
    "duration": 1076,
    "start_time": "2021-07-22T20:00:20.831Z"
   },
   {
    "duration": 16,
    "start_time": "2021-07-22T20:15:24.748Z"
   },
   {
    "duration": 8,
    "start_time": "2021-07-22T20:20:42.357Z"
   },
   {
    "duration": 8,
    "start_time": "2021-07-22T20:25:34.254Z"
   },
   {
    "duration": 1064,
    "start_time": "2021-07-22T20:27:15.536Z"
   },
   {
    "duration": 1395,
    "start_time": "2021-07-22T20:27:30.787Z"
   },
   {
    "duration": 552,
    "start_time": "2021-07-22T20:29:27.383Z"
   },
   {
    "duration": 119,
    "start_time": "2021-07-22T20:29:27.938Z"
   },
   {
    "duration": 22,
    "start_time": "2021-07-22T20:29:28.060Z"
   },
   {
    "duration": 37,
    "start_time": "2021-07-22T20:29:28.085Z"
   },
   {
    "duration": 64,
    "start_time": "2021-07-22T20:29:28.125Z"
   },
   {
    "duration": 8,
    "start_time": "2021-07-22T20:29:28.191Z"
   },
   {
    "duration": 289,
    "start_time": "2021-07-22T20:29:28.202Z"
   },
   {
    "duration": 5,
    "start_time": "2021-07-22T20:29:28.495Z"
   },
   {
    "duration": 16,
    "start_time": "2021-07-22T20:29:28.503Z"
   },
   {
    "duration": 48,
    "start_time": "2021-07-22T20:29:28.521Z"
   },
   {
    "duration": 550,
    "start_time": "2021-07-22T20:29:28.571Z"
   },
   {
    "duration": 44,
    "start_time": "2021-07-22T20:29:29.124Z"
   },
   {
    "duration": 255,
    "start_time": "2021-07-22T20:29:29.170Z"
   },
   {
    "duration": 150,
    "start_time": "2021-07-22T20:29:29.428Z"
   },
   {
    "duration": 44,
    "start_time": "2021-07-22T20:29:29.580Z"
   },
   {
    "duration": 76,
    "start_time": "2021-07-22T20:29:29.626Z"
   },
   {
    "duration": 51,
    "start_time": "2021-07-22T20:29:29.704Z"
   },
   {
    "duration": 43,
    "start_time": "2021-07-22T20:29:29.758Z"
   },
   {
    "duration": 9,
    "start_time": "2021-07-22T20:29:29.803Z"
   },
   {
    "duration": 72,
    "start_time": "2021-07-22T20:29:29.814Z"
   },
   {
    "duration": 6,
    "start_time": "2021-07-22T20:29:29.888Z"
   },
   {
    "duration": 60,
    "start_time": "2021-07-22T20:29:29.896Z"
   },
   {
    "duration": 5,
    "start_time": "2021-07-22T20:29:29.961Z"
   },
   {
    "duration": 26,
    "start_time": "2021-07-22T20:29:29.969Z"
   },
   {
    "duration": 23,
    "start_time": "2021-07-22T20:29:29.998Z"
   },
   {
    "duration": 38,
    "start_time": "2021-07-22T20:29:30.024Z"
   },
   {
    "duration": 7,
    "start_time": "2021-07-22T20:29:30.065Z"
   },
   {
    "duration": 193,
    "start_time": "2021-07-22T20:29:30.075Z"
   },
   {
    "duration": 9,
    "start_time": "2021-07-22T20:29:30.270Z"
   },
   {
    "duration": 16,
    "start_time": "2021-07-22T20:29:30.281Z"
   },
   {
    "duration": 24,
    "start_time": "2021-07-22T20:29:30.300Z"
   },
   {
    "duration": 17,
    "start_time": "2021-07-22T20:29:30.327Z"
   },
   {
    "duration": 8,
    "start_time": "2021-07-22T20:29:30.356Z"
   },
   {
    "duration": 33,
    "start_time": "2021-07-22T20:29:30.366Z"
   },
   {
    "duration": 26,
    "start_time": "2021-07-22T20:29:30.401Z"
   },
   {
    "duration": 6,
    "start_time": "2021-07-22T20:29:30.430Z"
   },
   {
    "duration": 1128,
    "start_time": "2021-07-22T20:29:30.438Z"
   },
   {
    "duration": 1381,
    "start_time": "2021-07-22T20:29:31.569Z"
   },
   {
    "duration": 1376,
    "start_time": "2021-07-22T20:29:32.952Z"
   },
   {
    "duration": 15,
    "start_time": "2021-07-22T20:38:49.112Z"
   },
   {
    "duration": 558,
    "start_time": "2021-07-22T20:39:28.274Z"
   },
   {
    "duration": 121,
    "start_time": "2021-07-22T20:39:28.835Z"
   },
   {
    "duration": 23,
    "start_time": "2021-07-22T20:39:28.959Z"
   },
   {
    "duration": 36,
    "start_time": "2021-07-22T20:39:28.986Z"
   },
   {
    "duration": 40,
    "start_time": "2021-07-22T20:39:29.056Z"
   },
   {
    "duration": 8,
    "start_time": "2021-07-22T20:39:29.099Z"
   },
   {
    "duration": 313,
    "start_time": "2021-07-22T20:39:29.110Z"
   },
   {
    "duration": 6,
    "start_time": "2021-07-22T20:39:29.425Z"
   },
   {
    "duration": 10,
    "start_time": "2021-07-22T20:39:29.459Z"
   },
   {
    "duration": 17,
    "start_time": "2021-07-22T20:39:29.473Z"
   },
   {
    "duration": 573,
    "start_time": "2021-07-22T20:39:29.492Z"
   },
   {
    "duration": 23,
    "start_time": "2021-07-22T20:39:30.067Z"
   },
   {
    "duration": 291,
    "start_time": "2021-07-22T20:39:30.093Z"
   },
   {
    "duration": 143,
    "start_time": "2021-07-22T20:39:30.386Z"
   },
   {
    "duration": 61,
    "start_time": "2021-07-22T20:39:30.531Z"
   },
   {
    "duration": 74,
    "start_time": "2021-07-22T20:39:30.595Z"
   },
   {
    "duration": 46,
    "start_time": "2021-07-22T20:39:30.672Z"
   },
   {
    "duration": 62,
    "start_time": "2021-07-22T20:39:30.721Z"
   },
   {
    "duration": 9,
    "start_time": "2021-07-22T20:39:30.785Z"
   },
   {
    "duration": 69,
    "start_time": "2021-07-22T20:39:30.796Z"
   },
   {
    "duration": 6,
    "start_time": "2021-07-22T20:39:30.867Z"
   },
   {
    "duration": 28,
    "start_time": "2021-07-22T20:39:30.876Z"
   },
   {
    "duration": 5,
    "start_time": "2021-07-22T20:39:30.906Z"
   },
   {
    "duration": 59,
    "start_time": "2021-07-22T20:39:30.914Z"
   },
   {
    "duration": 24,
    "start_time": "2021-07-22T20:39:30.976Z"
   },
   {
    "duration": 10,
    "start_time": "2021-07-22T20:39:31.003Z"
   },
   {
    "duration": 7,
    "start_time": "2021-07-22T20:39:31.057Z"
   },
   {
    "duration": 188,
    "start_time": "2021-07-22T20:39:31.067Z"
   },
   {
    "duration": 7,
    "start_time": "2021-07-22T20:39:31.258Z"
   },
   {
    "duration": 23,
    "start_time": "2021-07-22T20:39:31.268Z"
   },
   {
    "duration": 11,
    "start_time": "2021-07-22T20:39:31.293Z"
   },
   {
    "duration": 25,
    "start_time": "2021-07-22T20:39:31.307Z"
   },
   {
    "duration": 16,
    "start_time": "2021-07-22T20:39:31.335Z"
   },
   {
    "duration": 17,
    "start_time": "2021-07-22T20:39:31.353Z"
   },
   {
    "duration": 34,
    "start_time": "2021-07-22T20:39:31.372Z"
   },
   {
    "duration": 5,
    "start_time": "2021-07-22T20:39:31.409Z"
   },
   {
    "duration": 1442,
    "start_time": "2021-07-22T20:39:31.417Z"
   },
   {
    "duration": 1393,
    "start_time": "2021-07-22T20:39:32.862Z"
   },
   {
    "duration": 1149,
    "start_time": "2021-07-22T20:39:34.258Z"
   },
   {
    "duration": 7,
    "start_time": "2021-07-22T20:39:35.409Z"
   },
   {
    "duration": 19,
    "start_time": "2021-07-22T20:39:35.418Z"
   },
   {
    "duration": 1261,
    "start_time": "2021-07-22T20:39:35.440Z"
   },
   {
    "duration": 7,
    "start_time": "2021-07-22T20:40:50.875Z"
   },
   {
    "duration": 518,
    "start_time": "2021-07-22T20:41:25.946Z"
   },
   {
    "duration": 686,
    "start_time": "2021-07-22T20:41:37.926Z"
   },
   {
    "duration": 451,
    "start_time": "2021-07-22T20:41:48.918Z"
   },
   {
    "duration": 728,
    "start_time": "2021-07-22T20:42:12.954Z"
   },
   {
    "duration": 17,
    "start_time": "2021-07-22T20:42:42.828Z"
   },
   {
    "duration": 599,
    "start_time": "2021-07-22T20:42:59.423Z"
   },
   {
    "duration": 392,
    "start_time": "2021-07-22T20:43:16.673Z"
   },
   {
    "duration": 565,
    "start_time": "2021-07-22T20:43:38.105Z"
   },
   {
    "duration": 406,
    "start_time": "2021-07-22T20:43:58.645Z"
   },
   {
    "duration": 1515,
    "start_time": "2021-07-22T20:44:51.602Z"
   },
   {
    "duration": 1160,
    "start_time": "2021-07-22T20:45:26.842Z"
   },
   {
    "duration": 1289,
    "start_time": "2021-07-22T20:45:53.032Z"
   },
   {
    "duration": 915,
    "start_time": "2021-07-22T20:46:34.423Z"
   },
   {
    "duration": 310,
    "start_time": "2021-07-22T20:54:35.392Z"
   },
   {
    "duration": 522,
    "start_time": "2021-07-22T20:54:43.607Z"
   },
   {
    "duration": 46,
    "start_time": "2021-07-22T20:55:34.681Z"
   },
   {
    "duration": 552,
    "start_time": "2021-07-22T20:55:42.813Z"
   },
   {
    "duration": 113,
    "start_time": "2021-07-22T20:55:43.368Z"
   },
   {
    "duration": 22,
    "start_time": "2021-07-22T20:55:43.485Z"
   },
   {
    "duration": 64,
    "start_time": "2021-07-22T20:55:43.509Z"
   },
   {
    "duration": 35,
    "start_time": "2021-07-22T20:55:43.575Z"
   },
   {
    "duration": 6,
    "start_time": "2021-07-22T20:55:43.612Z"
   },
   {
    "duration": 296,
    "start_time": "2021-07-22T20:55:43.620Z"
   },
   {
    "duration": 5,
    "start_time": "2021-07-22T20:55:43.919Z"
   },
   {
    "duration": 34,
    "start_time": "2021-07-22T20:55:43.927Z"
   },
   {
    "duration": 21,
    "start_time": "2021-07-22T20:55:43.964Z"
   },
   {
    "duration": 579,
    "start_time": "2021-07-22T20:55:43.988Z"
   },
   {
    "duration": 21,
    "start_time": "2021-07-22T20:55:44.569Z"
   },
   {
    "duration": 287,
    "start_time": "2021-07-22T20:55:44.593Z"
   },
   {
    "duration": 143,
    "start_time": "2021-07-22T20:55:44.883Z"
   },
   {
    "duration": 63,
    "start_time": "2021-07-22T20:55:45.029Z"
   },
   {
    "duration": 73,
    "start_time": "2021-07-22T20:55:45.095Z"
   },
   {
    "duration": 40,
    "start_time": "2021-07-22T20:55:45.171Z"
   },
   {
    "duration": 75,
    "start_time": "2021-07-22T20:55:45.214Z"
   },
   {
    "duration": 35,
    "start_time": "2021-07-22T20:56:28.215Z"
   },
   {
    "duration": 279,
    "start_time": "2021-07-22T20:57:25.174Z"
   },
   {
    "duration": 654,
    "start_time": "2021-07-22T20:57:34.552Z"
   },
   {
    "duration": 122,
    "start_time": "2021-07-22T20:57:35.208Z"
   },
   {
    "duration": 25,
    "start_time": "2021-07-22T20:57:35.356Z"
   },
   {
    "duration": 42,
    "start_time": "2021-07-22T20:57:35.384Z"
   },
   {
    "duration": 63,
    "start_time": "2021-07-22T20:57:35.429Z"
   },
   {
    "duration": 7,
    "start_time": "2021-07-22T20:57:35.494Z"
   },
   {
    "duration": 317,
    "start_time": "2021-07-22T20:57:35.504Z"
   },
   {
    "duration": 6,
    "start_time": "2021-07-22T20:57:35.825Z"
   },
   {
    "duration": 27,
    "start_time": "2021-07-22T20:57:35.833Z"
   },
   {
    "duration": 17,
    "start_time": "2021-07-22T20:57:35.863Z"
   },
   {
    "duration": 876,
    "start_time": "2021-07-22T20:57:35.884Z"
   },
   {
    "duration": 22,
    "start_time": "2021-07-22T20:57:36.763Z"
   },
   {
    "duration": 312,
    "start_time": "2021-07-22T20:57:36.789Z"
   },
   {
    "duration": 145,
    "start_time": "2021-07-22T20:57:37.104Z"
   },
   {
    "duration": 46,
    "start_time": "2021-07-22T20:57:37.256Z"
   },
   {
    "duration": 94,
    "start_time": "2021-07-22T20:57:37.305Z"
   },
   {
    "duration": 54,
    "start_time": "2021-07-22T20:57:37.402Z"
   },
   {
    "duration": 55,
    "start_time": "2021-07-22T20:57:37.459Z"
   },
   {
    "duration": 66,
    "start_time": "2021-07-22T20:57:41.802Z"
   },
   {
    "duration": 280,
    "start_time": "2021-07-22T20:57:44.949Z"
   },
   {
    "duration": 26,
    "start_time": "2021-07-22T20:58:14.582Z"
   },
   {
    "duration": 513,
    "start_time": "2021-07-22T20:58:44.931Z"
   },
   {
    "duration": 492,
    "start_time": "2021-07-22T20:59:16.320Z"
   },
   {
    "duration": 604,
    "start_time": "2021-07-22T20:59:32.052Z"
   },
   {
    "duration": 571,
    "start_time": "2021-07-22T21:00:03.827Z"
   },
   {
    "duration": 534,
    "start_time": "2021-07-22T21:00:11.537Z"
   },
   {
    "duration": 531,
    "start_time": "2021-07-22T21:00:18.065Z"
   },
   {
    "duration": 801,
    "start_time": "2021-07-22T21:00:33.849Z"
   },
   {
    "duration": 645,
    "start_time": "2021-07-22T21:01:19.295Z"
   },
   {
    "duration": 842,
    "start_time": "2021-07-22T21:01:32.055Z"
   },
   {
    "duration": 680,
    "start_time": "2021-07-22T21:03:18.054Z"
   },
   {
    "duration": 1173,
    "start_time": "2021-07-22T21:04:28.229Z"
   },
   {
    "duration": 559,
    "start_time": "2021-07-22T21:06:48.010Z"
   },
   {
    "duration": 4,
    "start_time": "2021-07-22T21:10:53.732Z"
   },
   {
    "duration": 571,
    "start_time": "2021-07-22T21:11:02.110Z"
   },
   {
    "duration": 111,
    "start_time": "2021-07-22T21:11:02.684Z"
   },
   {
    "duration": 21,
    "start_time": "2021-07-22T21:11:02.798Z"
   },
   {
    "duration": 67,
    "start_time": "2021-07-22T21:11:02.821Z"
   },
   {
    "duration": 37,
    "start_time": "2021-07-22T21:11:02.890Z"
   },
   {
    "duration": 27,
    "start_time": "2021-07-22T21:11:02.929Z"
   },
   {
    "duration": 279,
    "start_time": "2021-07-22T21:11:02.958Z"
   },
   {
    "duration": 17,
    "start_time": "2021-07-22T21:11:03.241Z"
   },
   {
    "duration": 35,
    "start_time": "2021-07-22T21:11:03.261Z"
   },
   {
    "duration": 26,
    "start_time": "2021-07-22T21:11:03.299Z"
   },
   {
    "duration": 571,
    "start_time": "2021-07-22T21:11:03.327Z"
   },
   {
    "duration": 22,
    "start_time": "2021-07-22T21:11:03.900Z"
   },
   {
    "duration": 248,
    "start_time": "2021-07-22T21:11:03.955Z"
   },
   {
    "duration": 152,
    "start_time": "2021-07-22T21:11:04.205Z"
   },
   {
    "duration": 46,
    "start_time": "2021-07-22T21:11:04.359Z"
   },
   {
    "duration": 77,
    "start_time": "2021-07-22T21:11:04.407Z"
   },
   {
    "duration": 39,
    "start_time": "2021-07-22T21:11:04.486Z"
   },
   {
    "duration": 63,
    "start_time": "2021-07-22T21:11:04.528Z"
   },
   {
    "duration": 8,
    "start_time": "2021-07-22T21:11:04.593Z"
   },
   {
    "duration": 64,
    "start_time": "2021-07-22T21:11:04.603Z"
   },
   {
    "duration": 25,
    "start_time": "2021-07-22T21:11:04.670Z"
   },
   {
    "duration": 5,
    "start_time": "2021-07-22T21:11:04.697Z"
   },
   {
    "duration": 54,
    "start_time": "2021-07-22T21:11:04.707Z"
   },
   {
    "duration": 22,
    "start_time": "2021-07-22T21:11:04.764Z"
   },
   {
    "duration": 13,
    "start_time": "2021-07-22T21:11:04.789Z"
   },
   {
    "duration": 16,
    "start_time": "2021-07-22T21:11:04.805Z"
   },
   {
    "duration": 198,
    "start_time": "2021-07-22T21:11:04.823Z"
   },
   {
    "duration": 7,
    "start_time": "2021-07-22T21:11:05.023Z"
   },
   {
    "duration": 28,
    "start_time": "2021-07-22T21:11:05.032Z"
   },
   {
    "duration": 16,
    "start_time": "2021-07-22T21:11:05.062Z"
   },
   {
    "duration": 35,
    "start_time": "2021-07-22T21:11:05.081Z"
   },
   {
    "duration": 13,
    "start_time": "2021-07-22T21:11:05.118Z"
   },
   {
    "duration": 21,
    "start_time": "2021-07-22T21:11:05.134Z"
   },
   {
    "duration": 18,
    "start_time": "2021-07-22T21:11:05.158Z"
   },
   {
    "duration": 15,
    "start_time": "2021-07-22T21:11:05.179Z"
   },
   {
    "duration": 1080,
    "start_time": "2021-07-22T21:11:05.196Z"
   },
   {
    "duration": 1085,
    "start_time": "2021-07-22T21:11:06.279Z"
   },
   {
    "duration": 1194,
    "start_time": "2021-07-22T21:11:07.367Z"
   },
   {
    "duration": 9,
    "start_time": "2021-07-22T21:11:08.564Z"
   },
   {
    "duration": 8,
    "start_time": "2021-07-22T21:11:08.575Z"
   },
   {
    "duration": 932,
    "start_time": "2021-07-22T21:11:26.630Z"
   },
   {
    "duration": 911,
    "start_time": "2021-07-22T21:11:33.830Z"
   },
   {
    "duration": 10,
    "start_time": "2021-07-22T21:12:30.100Z"
   },
   {
    "duration": 915,
    "start_time": "2021-07-22T21:12:43.726Z"
   },
   {
    "duration": 11,
    "start_time": "2021-07-22T21:13:22.537Z"
   },
   {
    "duration": 3810,
    "start_time": "2021-07-22T21:13:33.844Z"
   },
   {
    "duration": 3622,
    "start_time": "2021-07-22T21:13:38.211Z"
   },
   {
    "duration": 11,
    "start_time": "2021-07-22T21:14:03.328Z"
   },
   {
    "duration": 13,
    "start_time": "2021-07-22T21:14:52.525Z"
   },
   {
    "duration": 11,
    "start_time": "2021-07-22T21:15:18.301Z"
   },
   {
    "duration": 318,
    "start_time": "2021-07-22T21:17:45.273Z"
   },
   {
    "duration": 312,
    "start_time": "2021-07-22T21:17:55.442Z"
   },
   {
    "duration": 9,
    "start_time": "2021-07-22T21:18:04.753Z"
   },
   {
    "duration": 9,
    "start_time": "2021-07-22T21:18:34.967Z"
   },
   {
    "duration": 10,
    "start_time": "2021-07-22T21:18:48.819Z"
   },
   {
    "duration": 1063,
    "start_time": "2021-07-22T21:20:00.050Z"
   },
   {
    "duration": 359,
    "start_time": "2021-07-22T21:24:50.894Z"
   },
   {
    "duration": 366,
    "start_time": "2021-07-22T21:25:09.211Z"
   },
   {
    "duration": 16,
    "start_time": "2021-07-22T21:32:15.405Z"
   },
   {
    "duration": 18,
    "start_time": "2021-07-22T21:32:29.308Z"
   },
   {
    "duration": 19,
    "start_time": "2021-07-22T21:32:38.256Z"
   },
   {
    "duration": 18,
    "start_time": "2021-07-22T21:32:46.103Z"
   },
   {
    "duration": 16,
    "start_time": "2021-07-22T21:33:09.929Z"
   },
   {
    "duration": 338,
    "start_time": "2021-07-22T21:33:46.109Z"
   },
   {
    "duration": 16,
    "start_time": "2021-07-22T21:35:35.521Z"
   },
   {
    "duration": 18,
    "start_time": "2021-07-22T21:36:09.568Z"
   },
   {
    "duration": 18,
    "start_time": "2021-07-22T21:36:34.363Z"
   },
   {
    "duration": 9,
    "start_time": "2021-07-22T21:36:45.699Z"
   },
   {
    "duration": 26,
    "start_time": "2021-07-22T21:36:58.119Z"
   },
   {
    "duration": 598,
    "start_time": "2021-07-22T21:37:02.534Z"
   },
   {
    "duration": 113,
    "start_time": "2021-07-22T21:37:03.156Z"
   },
   {
    "duration": 24,
    "start_time": "2021-07-22T21:37:03.273Z"
   },
   {
    "duration": 73,
    "start_time": "2021-07-22T21:37:03.301Z"
   },
   {
    "duration": 40,
    "start_time": "2021-07-22T21:37:03.377Z"
   },
   {
    "duration": 36,
    "start_time": "2021-07-22T21:37:03.420Z"
   },
   {
    "duration": 298,
    "start_time": "2021-07-22T21:37:03.459Z"
   },
   {
    "duration": 6,
    "start_time": "2021-07-22T21:37:03.762Z"
   },
   {
    "duration": 18,
    "start_time": "2021-07-22T21:37:03.771Z"
   },
   {
    "duration": 18,
    "start_time": "2021-07-22T21:37:03.792Z"
   },
   {
    "duration": 618,
    "start_time": "2021-07-22T21:37:03.813Z"
   },
   {
    "duration": 37,
    "start_time": "2021-07-22T21:37:04.434Z"
   },
   {
    "duration": 259,
    "start_time": "2021-07-22T21:37:04.473Z"
   },
   {
    "duration": 129,
    "start_time": "2021-07-22T21:37:04.757Z"
   },
   {
    "duration": 41,
    "start_time": "2021-07-22T21:37:04.888Z"
   },
   {
    "duration": 75,
    "start_time": "2021-07-22T21:37:04.931Z"
   },
   {
    "duration": 54,
    "start_time": "2021-07-22T21:37:05.008Z"
   },
   {
    "duration": 46,
    "start_time": "2021-07-22T21:37:05.064Z"
   },
   {
    "duration": 8,
    "start_time": "2021-07-22T21:37:05.113Z"
   },
   {
    "duration": 68,
    "start_time": "2021-07-22T21:37:05.124Z"
   },
   {
    "duration": 26,
    "start_time": "2021-07-22T21:37:05.194Z"
   },
   {
    "duration": 36,
    "start_time": "2021-07-22T21:37:05.222Z"
   },
   {
    "duration": 18,
    "start_time": "2021-07-22T21:37:05.263Z"
   },
   {
    "duration": 26,
    "start_time": "2021-07-22T21:37:05.284Z"
   },
   {
    "duration": 45,
    "start_time": "2021-07-22T21:37:05.312Z"
   },
   {
    "duration": 13,
    "start_time": "2021-07-22T21:37:05.360Z"
   },
   {
    "duration": 181,
    "start_time": "2021-07-22T21:37:05.376Z"
   },
   {
    "duration": 8,
    "start_time": "2021-07-22T21:37:05.560Z"
   },
   {
    "duration": 13,
    "start_time": "2021-07-22T21:37:05.570Z"
   },
   {
    "duration": 9,
    "start_time": "2021-07-22T21:37:05.585Z"
   },
   {
    "duration": 12,
    "start_time": "2021-07-22T21:37:05.597Z"
   },
   {
    "duration": 45,
    "start_time": "2021-07-22T21:37:05.612Z"
   },
   {
    "duration": 17,
    "start_time": "2021-07-22T21:37:05.659Z"
   },
   {
    "duration": 13,
    "start_time": "2021-07-22T21:37:05.679Z"
   },
   {
    "duration": 3,
    "start_time": "2021-07-22T21:37:05.694Z"
   },
   {
    "duration": 1057,
    "start_time": "2021-07-22T21:37:05.699Z"
   },
   {
    "duration": 1272,
    "start_time": "2021-07-22T21:37:06.758Z"
   },
   {
    "duration": 1075,
    "start_time": "2021-07-22T21:37:08.032Z"
   },
   {
    "duration": 7,
    "start_time": "2021-07-22T21:37:09.109Z"
   },
   {
    "duration": 9,
    "start_time": "2021-07-22T21:37:09.118Z"
   },
   {
    "duration": 30,
    "start_time": "2021-07-22T21:37:09.129Z"
   },
   {
    "duration": 924,
    "start_time": "2021-07-22T21:37:09.161Z"
   },
   {
    "duration": 349,
    "start_time": "2021-07-22T21:39:44.351Z"
   },
   {
    "duration": 351,
    "start_time": "2021-07-22T21:39:54.383Z"
   },
   {
    "duration": 350,
    "start_time": "2021-07-22T21:40:29.502Z"
   },
   {
    "duration": 350,
    "start_time": "2021-07-22T21:42:16.317Z"
   },
   {
    "duration": 190,
    "start_time": "2021-07-22T21:42:34.322Z"
   },
   {
    "duration": 661,
    "start_time": "2021-07-22T21:42:39.369Z"
   },
   {
    "duration": 520,
    "start_time": "2021-07-22T21:44:30.831Z"
   },
   {
    "duration": 624,
    "start_time": "2021-07-22T21:44:38.827Z"
   },
   {
    "duration": 748,
    "start_time": "2021-07-22T21:44:59.145Z"
   },
   {
    "duration": 743,
    "start_time": "2021-07-22T21:45:22.122Z"
   },
   {
    "duration": 1115,
    "start_time": "2021-07-22T21:45:51.343Z"
   },
   {
    "duration": 1105,
    "start_time": "2021-07-22T21:46:26.653Z"
   },
   {
    "duration": 1082,
    "start_time": "2021-07-22T21:46:34.310Z"
   },
   {
    "duration": 1439,
    "start_time": "2021-07-22T21:47:34.470Z"
   },
   {
    "duration": 1467,
    "start_time": "2021-07-22T21:48:11.480Z"
   },
   {
    "duration": 92,
    "start_time": "2021-07-22T21:48:35.281Z"
   },
   {
    "duration": 1443,
    "start_time": "2021-07-22T21:48:42.335Z"
   },
   {
    "duration": 1326,
    "start_time": "2021-07-22T21:49:24.098Z"
   },
   {
    "duration": 1011,
    "start_time": "2021-07-22T21:49:37.624Z"
   },
   {
    "duration": 974,
    "start_time": "2021-07-22T21:49:56.891Z"
   },
   {
    "duration": 1136,
    "start_time": "2021-07-22T21:50:04.391Z"
   },
   {
    "duration": 980,
    "start_time": "2021-07-22T21:50:12.624Z"
   },
   {
    "duration": 989,
    "start_time": "2021-07-22T21:53:21.432Z"
   },
   {
    "duration": 844,
    "start_time": "2021-07-22T21:58:50.478Z"
   },
   {
    "duration": 1054,
    "start_time": "2021-07-22T22:01:31.323Z"
   },
   {
    "duration": 837,
    "start_time": "2021-07-22T22:01:45.110Z"
   },
   {
    "duration": 851,
    "start_time": "2021-07-22T22:02:11.989Z"
   },
   {
    "duration": 874,
    "start_time": "2021-07-22T22:02:28.762Z"
   },
   {
    "duration": 9,
    "start_time": "2021-07-22T22:11:01.698Z"
   },
   {
    "duration": 8,
    "start_time": "2021-07-22T22:11:07.337Z"
   },
   {
    "duration": 24,
    "start_time": "2021-07-22T22:15:58.741Z"
   },
   {
    "duration": 26,
    "start_time": "2021-07-22T22:16:16.296Z"
   },
   {
    "duration": 256,
    "start_time": "2021-07-22T22:17:27.319Z"
   },
   {
    "duration": 19,
    "start_time": "2021-07-22T22:17:46.035Z"
   },
   {
    "duration": 560,
    "start_time": "2021-07-22T22:17:52.942Z"
   },
   {
    "duration": 110,
    "start_time": "2021-07-22T22:17:53.505Z"
   },
   {
    "duration": 45,
    "start_time": "2021-07-22T22:17:53.618Z"
   },
   {
    "duration": 35,
    "start_time": "2021-07-22T22:17:53.666Z"
   },
   {
    "duration": 61,
    "start_time": "2021-07-22T22:17:53.703Z"
   },
   {
    "duration": 6,
    "start_time": "2021-07-22T22:17:53.766Z"
   },
   {
    "duration": 287,
    "start_time": "2021-07-22T22:17:53.774Z"
   },
   {
    "duration": 5,
    "start_time": "2021-07-22T22:17:54.064Z"
   },
   {
    "duration": 11,
    "start_time": "2021-07-22T22:17:54.072Z"
   },
   {
    "duration": 17,
    "start_time": "2021-07-22T22:17:54.085Z"
   },
   {
    "duration": 579,
    "start_time": "2021-07-22T22:17:54.105Z"
   },
   {
    "duration": 22,
    "start_time": "2021-07-22T22:17:54.687Z"
   },
   {
    "duration": 275,
    "start_time": "2021-07-22T22:17:54.711Z"
   },
   {
    "duration": 139,
    "start_time": "2021-07-22T22:17:54.988Z"
   },
   {
    "duration": 54,
    "start_time": "2021-07-22T22:17:55.129Z"
   },
   {
    "duration": 72,
    "start_time": "2021-07-22T22:17:55.185Z"
   },
   {
    "duration": 37,
    "start_time": "2021-07-22T22:17:55.259Z"
   },
   {
    "duration": 65,
    "start_time": "2021-07-22T22:17:55.298Z"
   },
   {
    "duration": 8,
    "start_time": "2021-07-22T22:17:55.365Z"
   },
   {
    "duration": 40,
    "start_time": "2021-07-22T22:17:55.377Z"
   },
   {
    "duration": 59,
    "start_time": "2021-07-22T22:17:55.420Z"
   },
   {
    "duration": 4,
    "start_time": "2021-07-22T22:17:55.481Z"
   },
   {
    "duration": 17,
    "start_time": "2021-07-22T22:17:55.491Z"
   },
   {
    "duration": 64,
    "start_time": "2021-07-22T22:17:55.511Z"
   },
   {
    "duration": 10,
    "start_time": "2021-07-22T22:17:55.578Z"
   },
   {
    "duration": 7,
    "start_time": "2021-07-22T22:17:55.590Z"
   },
   {
    "duration": 207,
    "start_time": "2021-07-22T22:17:55.600Z"
   },
   {
    "duration": 7,
    "start_time": "2021-07-22T22:17:55.810Z"
   },
   {
    "duration": 12,
    "start_time": "2021-07-22T22:17:55.819Z"
   },
   {
    "duration": 10,
    "start_time": "2021-07-22T22:17:55.856Z"
   },
   {
    "duration": 11,
    "start_time": "2021-07-22T22:17:55.868Z"
   },
   {
    "duration": 7,
    "start_time": "2021-07-22T22:17:55.882Z"
   },
   {
    "duration": 16,
    "start_time": "2021-07-22T22:17:55.891Z"
   },
   {
    "duration": 46,
    "start_time": "2021-07-22T22:17:55.910Z"
   },
   {
    "duration": 4,
    "start_time": "2021-07-22T22:17:55.959Z"
   },
   {
    "duration": 1228,
    "start_time": "2021-07-22T22:17:55.965Z"
   },
   {
    "duration": 1048,
    "start_time": "2021-07-22T22:17:57.196Z"
   },
   {
    "duration": 1109,
    "start_time": "2021-07-22T22:17:58.246Z"
   },
   {
    "duration": 8,
    "start_time": "2021-07-22T22:17:59.358Z"
   },
   {
    "duration": 12,
    "start_time": "2021-07-22T22:17:59.368Z"
   },
   {
    "duration": 14,
    "start_time": "2021-07-22T22:17:59.382Z"
   },
   {
    "duration": 928,
    "start_time": "2021-07-22T22:17:59.399Z"
   },
   {
    "duration": 876,
    "start_time": "2021-07-22T22:18:00.330Z"
   },
   {
    "duration": 20,
    "start_time": "2021-07-22T22:18:06.380Z"
   },
   {
    "duration": 27,
    "start_time": "2021-07-22T22:18:29.917Z"
   },
   {
    "duration": 29,
    "start_time": "2021-07-22T22:19:33.867Z"
   },
   {
    "duration": 24,
    "start_time": "2021-07-22T22:19:42.113Z"
   },
   {
    "duration": 298,
    "start_time": "2021-07-22T22:20:22.376Z"
   },
   {
    "duration": 24,
    "start_time": "2021-07-22T22:20:34.455Z"
   },
   {
    "duration": 102,
    "start_time": "2021-07-22T22:22:16.311Z"
   },
   {
    "duration": 17,
    "start_time": "2021-07-22T22:22:21.552Z"
   },
   {
    "duration": 7269,
    "start_time": "2021-07-22T22:22:32.801Z"
   },
   {
    "duration": 27,
    "start_time": "2021-07-22T22:22:55.331Z"
   },
   {
    "duration": 281,
    "start_time": "2021-07-22T22:23:24.940Z"
   },
   {
    "duration": 276,
    "start_time": "2021-07-22T22:23:54.112Z"
   },
   {
    "duration": 27,
    "start_time": "2021-07-22T22:24:14.867Z"
   },
   {
    "duration": 28,
    "start_time": "2021-07-22T22:25:24.325Z"
   },
   {
    "duration": 7,
    "start_time": "2021-07-22T22:27:07.414Z"
   },
   {
    "duration": 14,
    "start_time": "2021-07-22T22:27:28.084Z"
   },
   {
    "duration": 18,
    "start_time": "2021-07-22T22:27:31.850Z"
   },
   {
    "duration": 592,
    "start_time": "2021-07-22T22:27:39.447Z"
   },
   {
    "duration": 105,
    "start_time": "2021-07-22T22:27:40.056Z"
   },
   {
    "duration": 22,
    "start_time": "2021-07-22T22:27:40.164Z"
   },
   {
    "duration": 53,
    "start_time": "2021-07-22T22:27:40.188Z"
   },
   {
    "duration": 37,
    "start_time": "2021-07-22T22:27:40.255Z"
   },
   {
    "duration": 14,
    "start_time": "2021-07-22T22:27:40.294Z"
   },
   {
    "duration": 323,
    "start_time": "2021-07-22T22:27:40.310Z"
   },
   {
    "duration": 22,
    "start_time": "2021-07-22T22:27:40.637Z"
   },
   {
    "duration": 21,
    "start_time": "2021-07-22T22:27:40.661Z"
   },
   {
    "duration": 27,
    "start_time": "2021-07-22T22:27:40.685Z"
   },
   {
    "duration": 814,
    "start_time": "2021-07-22T22:27:40.719Z"
   },
   {
    "duration": 35,
    "start_time": "2021-07-22T22:27:41.535Z"
   },
   {
    "duration": 293,
    "start_time": "2021-07-22T22:27:41.572Z"
   },
   {
    "duration": 204,
    "start_time": "2021-07-22T22:27:41.868Z"
   },
   {
    "duration": 49,
    "start_time": "2021-07-22T22:27:42.075Z"
   },
   {
    "duration": 83,
    "start_time": "2021-07-22T22:27:42.127Z"
   },
   {
    "duration": 68,
    "start_time": "2021-07-22T22:27:42.213Z"
   },
   {
    "duration": 47,
    "start_time": "2021-07-22T22:27:42.283Z"
   },
   {
    "duration": 25,
    "start_time": "2021-07-22T22:27:42.333Z"
   },
   {
    "duration": 41,
    "start_time": "2021-07-22T22:27:42.361Z"
   },
   {
    "duration": 58,
    "start_time": "2021-07-22T22:27:42.405Z"
   },
   {
    "duration": 5,
    "start_time": "2021-07-22T22:27:42.465Z"
   },
   {
    "duration": 17,
    "start_time": "2021-07-22T22:27:42.476Z"
   },
   {
    "duration": 22,
    "start_time": "2021-07-22T22:27:42.496Z"
   },
   {
    "duration": 11,
    "start_time": "2021-07-22T22:27:42.557Z"
   },
   {
    "duration": 7,
    "start_time": "2021-07-22T22:27:42.570Z"
   },
   {
    "duration": 194,
    "start_time": "2021-07-22T22:27:42.580Z"
   },
   {
    "duration": 8,
    "start_time": "2021-07-22T22:27:42.776Z"
   },
   {
    "duration": 12,
    "start_time": "2021-07-22T22:27:42.787Z"
   },
   {
    "duration": 10,
    "start_time": "2021-07-22T22:27:42.801Z"
   },
   {
    "duration": 49,
    "start_time": "2021-07-22T22:27:42.814Z"
   },
   {
    "duration": 8,
    "start_time": "2021-07-22T22:27:42.865Z"
   },
   {
    "duration": 18,
    "start_time": "2021-07-22T22:27:42.876Z"
   },
   {
    "duration": 12,
    "start_time": "2021-07-22T22:27:42.897Z"
   },
   {
    "duration": 4,
    "start_time": "2021-07-22T22:27:42.912Z"
   },
   {
    "duration": 1108,
    "start_time": "2021-07-22T22:27:42.956Z"
   },
   {
    "duration": 1124,
    "start_time": "2021-07-22T22:27:44.066Z"
   },
   {
    "duration": 1112,
    "start_time": "2021-07-22T22:27:45.193Z"
   },
   {
    "duration": 9,
    "start_time": "2021-07-22T22:27:46.308Z"
   },
   {
    "duration": 19,
    "start_time": "2021-07-22T22:27:46.319Z"
   },
   {
    "duration": 22,
    "start_time": "2021-07-22T22:27:46.341Z"
   },
   {
    "duration": 1134,
    "start_time": "2021-07-22T22:27:46.366Z"
   },
   {
    "duration": 911,
    "start_time": "2021-07-22T22:27:47.503Z"
   },
   {
    "duration": 54,
    "start_time": "2021-07-22T22:27:48.417Z"
   },
   {
    "duration": 7,
    "start_time": "2021-07-22T22:27:48.474Z"
   },
   {
    "duration": 5,
    "start_time": "2021-07-22T22:30:31.585Z"
   },
   {
    "duration": 7,
    "start_time": "2021-07-22T22:31:34.064Z"
   },
   {
    "duration": 998,
    "start_time": "2021-07-22T22:34:14.137Z"
   },
   {
    "duration": 1101,
    "start_time": "2021-07-22T22:36:32.433Z"
   },
   {
    "duration": 1077,
    "start_time": "2021-07-22T22:37:17.064Z"
   },
   {
    "duration": 1082,
    "start_time": "2021-07-22T22:37:48.722Z"
   },
   {
    "duration": 540,
    "start_time": "2021-07-22T22:38:21.128Z"
   },
   {
    "duration": 112,
    "start_time": "2021-07-22T22:38:21.671Z"
   },
   {
    "duration": 22,
    "start_time": "2021-07-22T22:38:21.786Z"
   },
   {
    "duration": 61,
    "start_time": "2021-07-22T22:38:21.811Z"
   },
   {
    "duration": 35,
    "start_time": "2021-07-22T22:38:21.874Z"
   },
   {
    "duration": 6,
    "start_time": "2021-07-22T22:38:21.911Z"
   },
   {
    "duration": 311,
    "start_time": "2021-07-22T22:38:21.919Z"
   },
   {
    "duration": 22,
    "start_time": "2021-07-22T22:38:22.236Z"
   },
   {
    "duration": 15,
    "start_time": "2021-07-22T22:38:22.262Z"
   },
   {
    "duration": 19,
    "start_time": "2021-07-22T22:38:22.280Z"
   },
   {
    "duration": 579,
    "start_time": "2021-07-22T22:38:22.301Z"
   },
   {
    "duration": 21,
    "start_time": "2021-07-22T22:38:22.882Z"
   },
   {
    "duration": 274,
    "start_time": "2021-07-22T22:38:22.905Z"
   },
   {
    "duration": 132,
    "start_time": "2021-07-22T22:38:23.182Z"
   },
   {
    "duration": 62,
    "start_time": "2021-07-22T22:38:23.316Z"
   },
   {
    "duration": 54,
    "start_time": "2021-07-22T22:38:23.381Z"
   },
   {
    "duration": 54,
    "start_time": "2021-07-22T22:38:23.438Z"
   },
   {
    "duration": 64,
    "start_time": "2021-07-22T22:38:23.495Z"
   },
   {
    "duration": 8,
    "start_time": "2021-07-22T22:38:23.561Z"
   },
   {
    "duration": 37,
    "start_time": "2021-07-22T22:38:23.572Z"
   },
   {
    "duration": 57,
    "start_time": "2021-07-22T22:38:23.611Z"
   },
   {
    "duration": 5,
    "start_time": "2021-07-22T22:38:23.671Z"
   },
   {
    "duration": 20,
    "start_time": "2021-07-22T22:38:23.683Z"
   },
   {
    "duration": 64,
    "start_time": "2021-07-22T22:38:23.705Z"
   },
   {
    "duration": 10,
    "start_time": "2021-07-22T22:38:23.772Z"
   },
   {
    "duration": 8,
    "start_time": "2021-07-22T22:38:23.785Z"
   },
   {
    "duration": 197,
    "start_time": "2021-07-22T22:38:23.795Z"
   },
   {
    "duration": 8,
    "start_time": "2021-07-22T22:38:23.994Z"
   },
   {
    "duration": 13,
    "start_time": "2021-07-22T22:38:24.004Z"
   },
   {
    "duration": 37,
    "start_time": "2021-07-22T22:38:24.019Z"
   },
   {
    "duration": 12,
    "start_time": "2021-07-22T22:38:24.059Z"
   },
   {
    "duration": 9,
    "start_time": "2021-07-22T22:38:24.073Z"
   },
   {
    "duration": 16,
    "start_time": "2021-07-22T22:38:24.085Z"
   },
   {
    "duration": 14,
    "start_time": "2021-07-22T22:38:24.103Z"
   },
   {
    "duration": 36,
    "start_time": "2021-07-22T22:38:24.120Z"
   },
   {
    "duration": 1071,
    "start_time": "2021-07-22T22:38:24.159Z"
   },
   {
    "duration": 1277,
    "start_time": "2021-07-22T22:38:25.233Z"
   },
   {
    "duration": 1137,
    "start_time": "2021-07-22T22:38:26.512Z"
   },
   {
    "duration": 7,
    "start_time": "2021-07-22T22:38:27.652Z"
   },
   {
    "duration": 14,
    "start_time": "2021-07-22T22:38:27.662Z"
   },
   {
    "duration": 27,
    "start_time": "2021-07-22T22:38:27.678Z"
   },
   {
    "duration": 1019,
    "start_time": "2021-07-22T22:38:27.708Z"
   },
   {
    "duration": 20,
    "start_time": "2021-07-22T22:38:37.751Z"
   },
   {
    "duration": 2017,
    "start_time": "2021-07-22T22:40:33.224Z"
   },
   {
    "duration": 102,
    "start_time": "2021-07-22T22:40:35.256Z"
   },
   {
    "duration": 24,
    "start_time": "2021-07-22T22:40:35.361Z"
   },
   {
    "duration": 35,
    "start_time": "2021-07-22T22:40:35.388Z"
   },
   {
    "duration": 35,
    "start_time": "2021-07-22T22:40:35.455Z"
   },
   {
    "duration": 7,
    "start_time": "2021-07-22T22:40:35.493Z"
   },
   {
    "duration": 315,
    "start_time": "2021-07-22T22:40:35.503Z"
   },
   {
    "duration": 6,
    "start_time": "2021-07-22T22:40:35.822Z"
   },
   {
    "duration": 34,
    "start_time": "2021-07-22T22:40:35.831Z"
   },
   {
    "duration": 20,
    "start_time": "2021-07-22T22:40:35.868Z"
   },
   {
    "duration": 435,
    "start_time": "2021-07-22T22:40:35.890Z"
   },
   {
    "duration": 38,
    "start_time": "2021-07-22T22:40:36.327Z"
   },
   {
    "duration": 265,
    "start_time": "2021-07-22T22:40:36.367Z"
   },
   {
    "duration": 131,
    "start_time": "2021-07-22T22:40:36.656Z"
   },
   {
    "duration": 45,
    "start_time": "2021-07-22T22:40:36.790Z"
   },
   {
    "duration": 73,
    "start_time": "2021-07-22T22:40:36.837Z"
   },
   {
    "duration": 57,
    "start_time": "2021-07-22T22:40:36.912Z"
   },
   {
    "duration": 41,
    "start_time": "2021-07-22T22:40:36.972Z"
   },
   {
    "duration": 8,
    "start_time": "2021-07-22T22:40:37.015Z"
   },
   {
    "duration": 39,
    "start_time": "2021-07-22T22:40:37.055Z"
   },
   {
    "duration": 25,
    "start_time": "2021-07-22T22:40:37.096Z"
   },
   {
    "duration": 5,
    "start_time": "2021-07-22T22:40:37.157Z"
   },
   {
    "duration": 17,
    "start_time": "2021-07-22T22:40:37.167Z"
   },
   {
    "duration": 22,
    "start_time": "2021-07-22T22:40:37.188Z"
   },
   {
    "duration": 11,
    "start_time": "2021-07-22T22:40:37.257Z"
   },
   {
    "duration": 8,
    "start_time": "2021-07-22T22:40:37.270Z"
   },
   {
    "duration": 185,
    "start_time": "2021-07-22T22:40:37.280Z"
   },
   {
    "duration": 8,
    "start_time": "2021-07-22T22:40:37.467Z"
   },
   {
    "duration": 11,
    "start_time": "2021-07-22T22:40:37.477Z"
   },
   {
    "duration": 9,
    "start_time": "2021-07-22T22:40:37.491Z"
   },
   {
    "duration": 10,
    "start_time": "2021-07-22T22:40:37.502Z"
   },
   {
    "duration": 43,
    "start_time": "2021-07-22T22:40:37.514Z"
   },
   {
    "duration": 16,
    "start_time": "2021-07-22T22:40:37.560Z"
   },
   {
    "duration": 12,
    "start_time": "2021-07-22T22:40:37.579Z"
   },
   {
    "duration": 3,
    "start_time": "2021-07-22T22:40:37.593Z"
   },
   {
    "duration": 1028,
    "start_time": "2021-07-22T22:40:37.598Z"
   },
   {
    "duration": 1063,
    "start_time": "2021-07-22T22:40:38.629Z"
   },
   {
    "duration": 1027,
    "start_time": "2021-07-22T22:40:39.695Z"
   },
   {
    "duration": 10,
    "start_time": "2021-07-22T22:40:40.727Z"
   },
   {
    "duration": 8,
    "start_time": "2021-07-22T22:40:40.760Z"
   },
   {
    "duration": 10,
    "start_time": "2021-07-22T22:40:40.771Z"
   },
   {
    "duration": 939,
    "start_time": "2021-07-22T22:40:40.784Z"
   },
   {
    "duration": 1292,
    "start_time": "2021-07-22T22:40:41.725Z"
   },
   {
    "duration": 284,
    "start_time": "2021-07-22T22:40:42.735Z"
   },
   {
    "duration": 273,
    "start_time": "2021-07-22T22:40:42.748Z"
   },
   {
    "duration": 261,
    "start_time": "2021-07-22T22:40:42.761Z"
   },
   {
    "duration": 251,
    "start_time": "2021-07-22T22:40:42.772Z"
   },
   {
    "duration": 243,
    "start_time": "2021-07-22T22:40:42.782Z"
   },
   {
    "duration": 17,
    "start_time": "2021-07-22T22:41:43.476Z"
   },
   {
    "duration": 552,
    "start_time": "2021-07-22T22:42:47.376Z"
   },
   {
    "duration": 125,
    "start_time": "2021-07-22T22:42:47.931Z"
   },
   {
    "duration": 22,
    "start_time": "2021-07-22T22:42:48.061Z"
   },
   {
    "duration": 35,
    "start_time": "2021-07-22T22:42:48.086Z"
   },
   {
    "duration": 64,
    "start_time": "2021-07-22T22:42:48.123Z"
   },
   {
    "duration": 8,
    "start_time": "2021-07-22T22:42:48.190Z"
   },
   {
    "duration": 299,
    "start_time": "2021-07-22T22:42:48.201Z"
   },
   {
    "duration": 5,
    "start_time": "2021-07-22T22:42:48.504Z"
   },
   {
    "duration": 12,
    "start_time": "2021-07-22T22:42:48.512Z"
   },
   {
    "duration": 40,
    "start_time": "2021-07-22T22:42:48.527Z"
   },
   {
    "duration": 536,
    "start_time": "2021-07-22T22:42:48.569Z"
   },
   {
    "duration": 48,
    "start_time": "2021-07-22T22:42:49.108Z"
   },
   {
    "duration": 257,
    "start_time": "2021-07-22T22:42:49.159Z"
   },
   {
    "duration": 157,
    "start_time": "2021-07-22T22:42:49.419Z"
   },
   {
    "duration": 41,
    "start_time": "2021-07-22T22:42:49.579Z"
   },
   {
    "duration": 78,
    "start_time": "2021-07-22T22:42:49.622Z"
   },
   {
    "duration": 38,
    "start_time": "2021-07-22T22:42:49.703Z"
   },
   {
    "duration": 42,
    "start_time": "2021-07-22T22:42:49.755Z"
   },
   {
    "duration": 8,
    "start_time": "2021-07-22T22:42:49.799Z"
   },
   {
    "duration": 69,
    "start_time": "2021-07-22T22:42:49.809Z"
   },
   {
    "duration": 24,
    "start_time": "2021-07-22T22:42:49.881Z"
   },
   {
    "duration": 5,
    "start_time": "2021-07-22T22:42:49.907Z"
   },
   {
    "duration": 53,
    "start_time": "2021-07-22T22:42:49.916Z"
   },
   {
    "duration": 37,
    "start_time": "2021-07-22T22:42:49.972Z"
   },
   {
    "duration": 11,
    "start_time": "2021-07-22T22:42:50.011Z"
   },
   {
    "duration": 20,
    "start_time": "2021-07-22T22:42:50.024Z"
   },
   {
    "duration": 178,
    "start_time": "2021-07-22T22:42:50.047Z"
   },
   {
    "duration": 7,
    "start_time": "2021-07-22T22:42:50.227Z"
   },
   {
    "duration": 34,
    "start_time": "2021-07-22T22:42:50.236Z"
   },
   {
    "duration": 12,
    "start_time": "2021-07-22T22:42:50.273Z"
   },
   {
    "duration": 39,
    "start_time": "2021-07-22T22:42:50.287Z"
   },
   {
    "duration": 24,
    "start_time": "2021-07-22T22:42:50.328Z"
   },
   {
    "duration": 24,
    "start_time": "2021-07-22T22:42:50.355Z"
   },
   {
    "duration": 33,
    "start_time": "2021-07-22T22:42:50.381Z"
   },
   {
    "duration": 10,
    "start_time": "2021-07-22T22:42:50.416Z"
   },
   {
    "duration": 1013,
    "start_time": "2021-07-22T22:42:50.428Z"
   },
   {
    "duration": 1245,
    "start_time": "2021-07-22T22:42:51.444Z"
   },
   {
    "duration": 1026,
    "start_time": "2021-07-22T22:42:52.691Z"
   },
   {
    "duration": 8,
    "start_time": "2021-07-22T22:42:53.719Z"
   },
   {
    "duration": 27,
    "start_time": "2021-07-22T22:42:53.729Z"
   },
   {
    "duration": 9,
    "start_time": "2021-07-22T22:42:53.758Z"
   },
   {
    "duration": 923,
    "start_time": "2021-07-22T22:42:53.770Z"
   },
   {
    "duration": 18,
    "start_time": "2021-07-22T22:42:56.897Z"
   },
   {
    "duration": 2105,
    "start_time": "2021-07-22T22:43:13.384Z"
   },
   {
    "duration": 907,
    "start_time": "2021-07-22T22:44:50.664Z"
   },
   {
    "duration": 1149,
    "start_time": "2021-07-22T22:45:51.589Z"
   },
   {
    "duration": 1966,
    "start_time": "2021-07-22T22:46:09.692Z"
   },
   {
    "duration": 103,
    "start_time": "2021-07-22T22:46:11.660Z"
   },
   {
    "duration": 21,
    "start_time": "2021-07-22T22:46:11.766Z"
   },
   {
    "duration": 38,
    "start_time": "2021-07-22T22:46:11.790Z"
   },
   {
    "duration": 36,
    "start_time": "2021-07-22T22:46:11.856Z"
   },
   {
    "duration": 6,
    "start_time": "2021-07-22T22:46:11.895Z"
   },
   {
    "duration": 353,
    "start_time": "2021-07-22T22:46:11.903Z"
   },
   {
    "duration": 5,
    "start_time": "2021-07-22T22:46:12.260Z"
   },
   {
    "duration": 15,
    "start_time": "2021-07-22T22:46:12.268Z"
   },
   {
    "duration": 24,
    "start_time": "2021-07-22T22:46:12.285Z"
   },
   {
    "duration": 448,
    "start_time": "2021-07-22T22:46:12.311Z"
   },
   {
    "duration": 22,
    "start_time": "2021-07-22T22:46:12.762Z"
   },
   {
    "duration": 290,
    "start_time": "2021-07-22T22:46:12.786Z"
   },
   {
    "duration": 135,
    "start_time": "2021-07-22T22:46:13.078Z"
   },
   {
    "duration": 57,
    "start_time": "2021-07-22T22:46:13.216Z"
   },
   {
    "duration": 56,
    "start_time": "2021-07-22T22:46:13.275Z"
   },
   {
    "duration": 52,
    "start_time": "2021-07-22T22:46:13.333Z"
   },
   {
    "duration": 42,
    "start_time": "2021-07-22T22:46:13.388Z"
   },
   {
    "duration": 30,
    "start_time": "2021-07-22T22:46:13.432Z"
   },
   {
    "duration": 39,
    "start_time": "2021-07-22T22:46:13.464Z"
   },
   {
    "duration": 59,
    "start_time": "2021-07-22T22:46:13.506Z"
   },
   {
    "duration": 5,
    "start_time": "2021-07-22T22:46:13.567Z"
   },
   {
    "duration": 18,
    "start_time": "2021-07-22T22:46:13.578Z"
   },
   {
    "duration": 56,
    "start_time": "2021-07-22T22:46:13.599Z"
   },
   {
    "duration": 10,
    "start_time": "2021-07-22T22:46:13.658Z"
   },
   {
    "duration": 8,
    "start_time": "2021-07-22T22:46:13.670Z"
   },
   {
    "duration": 190,
    "start_time": "2021-07-22T22:46:13.680Z"
   },
   {
    "duration": 8,
    "start_time": "2021-07-22T22:46:13.872Z"
   },
   {
    "duration": 11,
    "start_time": "2021-07-22T22:46:13.882Z"
   },
   {
    "duration": 8,
    "start_time": "2021-07-22T22:46:13.895Z"
   },
   {
    "duration": 11,
    "start_time": "2021-07-22T22:46:13.905Z"
   },
   {
    "duration": 38,
    "start_time": "2021-07-22T22:46:13.918Z"
   },
   {
    "duration": 16,
    "start_time": "2021-07-22T22:46:13.959Z"
   },
   {
    "duration": 13,
    "start_time": "2021-07-22T22:46:13.977Z"
   },
   {
    "duration": 4,
    "start_time": "2021-07-22T22:46:13.992Z"
   },
   {
    "duration": 1023,
    "start_time": "2021-07-22T22:46:13.998Z"
   },
   {
    "duration": 1124,
    "start_time": "2021-07-22T22:46:15.023Z"
   },
   {
    "duration": 1059,
    "start_time": "2021-07-22T22:46:16.150Z"
   },
   {
    "duration": 8,
    "start_time": "2021-07-22T22:46:17.212Z"
   },
   {
    "duration": 8,
    "start_time": "2021-07-22T22:46:17.222Z"
   },
   {
    "duration": 9,
    "start_time": "2021-07-22T22:46:17.256Z"
   },
   {
    "duration": 947,
    "start_time": "2021-07-22T22:46:17.267Z"
   },
   {
    "duration": 387,
    "start_time": "2021-07-22T22:46:18.217Z"
   },
   {
    "duration": 304,
    "start_time": "2021-07-22T22:46:18.302Z"
   },
   {
    "duration": 294,
    "start_time": "2021-07-22T22:46:18.314Z"
   },
   {
    "duration": 284,
    "start_time": "2021-07-22T22:46:18.325Z"
   },
   {
    "duration": 275,
    "start_time": "2021-07-22T22:46:18.336Z"
   },
   {
    "duration": 265,
    "start_time": "2021-07-22T22:46:18.347Z"
   },
   {
    "duration": 256,
    "start_time": "2021-07-22T22:46:18.357Z"
   },
   {
    "duration": 2004,
    "start_time": "2021-07-22T22:46:35.581Z"
   },
   {
    "duration": 113,
    "start_time": "2021-07-22T22:46:37.588Z"
   },
   {
    "duration": 22,
    "start_time": "2021-07-22T22:46:37.704Z"
   },
   {
    "duration": 36,
    "start_time": "2021-07-22T22:46:37.757Z"
   },
   {
    "duration": 62,
    "start_time": "2021-07-22T22:46:37.795Z"
   },
   {
    "duration": 9,
    "start_time": "2021-07-22T22:46:37.860Z"
   },
   {
    "duration": 312,
    "start_time": "2021-07-22T22:46:37.871Z"
   },
   {
    "duration": 5,
    "start_time": "2021-07-22T22:46:38.187Z"
   },
   {
    "duration": 12,
    "start_time": "2021-07-22T22:46:38.194Z"
   },
   {
    "duration": 50,
    "start_time": "2021-07-22T22:46:38.209Z"
   },
   {
    "duration": 415,
    "start_time": "2021-07-22T22:46:38.262Z"
   },
   {
    "duration": 23,
    "start_time": "2021-07-22T22:46:38.680Z"
   },
   {
    "duration": 291,
    "start_time": "2021-07-22T22:46:38.705Z"
   },
   {
    "duration": 158,
    "start_time": "2021-07-22T22:46:38.998Z"
   },
   {
    "duration": 47,
    "start_time": "2021-07-22T22:46:39.158Z"
   },
   {
    "duration": 80,
    "start_time": "2021-07-22T22:46:39.207Z"
   },
   {
    "duration": 38,
    "start_time": "2021-07-22T22:46:39.290Z"
   },
   {
    "duration": 60,
    "start_time": "2021-07-22T22:46:39.331Z"
   },
   {
    "duration": 8,
    "start_time": "2021-07-22T22:46:39.393Z"
   },
   {
    "duration": 73,
    "start_time": "2021-07-22T22:46:39.403Z"
   },
   {
    "duration": 29,
    "start_time": "2021-07-22T22:46:39.478Z"
   },
   {
    "duration": 7,
    "start_time": "2021-07-22T22:46:39.509Z"
   },
   {
    "duration": 19,
    "start_time": "2021-07-22T22:46:39.561Z"
   },
   {
    "duration": 25,
    "start_time": "2021-07-22T22:46:39.584Z"
   },
   {
    "duration": 46,
    "start_time": "2021-07-22T22:46:39.612Z"
   },
   {
    "duration": 9,
    "start_time": "2021-07-22T22:46:39.662Z"
   },
   {
    "duration": 196,
    "start_time": "2021-07-22T22:46:39.673Z"
   },
   {
    "duration": 9,
    "start_time": "2021-07-22T22:46:39.872Z"
   },
   {
    "duration": 18,
    "start_time": "2021-07-22T22:46:39.883Z"
   },
   {
    "duration": 9,
    "start_time": "2021-07-22T22:46:39.903Z"
   },
   {
    "duration": 43,
    "start_time": "2021-07-22T22:46:39.915Z"
   },
   {
    "duration": 8,
    "start_time": "2021-07-22T22:46:39.961Z"
   },
   {
    "duration": 15,
    "start_time": "2021-07-22T22:46:39.972Z"
   },
   {
    "duration": 11,
    "start_time": "2021-07-22T22:46:39.990Z"
   },
   {
    "duration": 3,
    "start_time": "2021-07-22T22:46:40.003Z"
   },
   {
    "duration": 1116,
    "start_time": "2021-07-22T22:46:40.008Z"
   },
   {
    "duration": 1184,
    "start_time": "2021-07-22T22:46:41.126Z"
   },
   {
    "duration": 1014,
    "start_time": "2021-07-22T22:46:42.313Z"
   },
   {
    "duration": 7,
    "start_time": "2021-07-22T22:46:43.330Z"
   },
   {
    "duration": 19,
    "start_time": "2021-07-22T22:46:43.339Z"
   },
   {
    "duration": 15,
    "start_time": "2021-07-22T22:46:43.361Z"
   },
   {
    "duration": 980,
    "start_time": "2021-07-22T22:46:43.378Z"
   },
   {
    "duration": 940,
    "start_time": "2021-07-22T22:46:44.361Z"
   },
   {
    "duration": 29,
    "start_time": "2021-07-22T22:46:45.303Z"
   },
   {
    "duration": 25,
    "start_time": "2021-07-22T22:46:45.335Z"
   },
   {
    "duration": 10,
    "start_time": "2021-07-22T22:46:45.363Z"
   },
   {
    "duration": 1018,
    "start_time": "2021-07-22T22:46:45.375Z"
   },
   {
    "duration": 1205,
    "start_time": "2021-07-22T22:46:46.396Z"
   },
   {
    "duration": 106,
    "start_time": "2021-07-22T22:49:05.518Z"
   },
   {
    "duration": 834,
    "start_time": "2021-07-22T22:51:44.161Z"
   },
   {
    "duration": 2085,
    "start_time": "2021-07-22T23:02:35.491Z"
   },
   {
    "duration": 112,
    "start_time": "2021-07-22T23:02:37.579Z"
   },
   {
    "duration": 22,
    "start_time": "2021-07-22T23:02:37.694Z"
   },
   {
    "duration": 67,
    "start_time": "2021-07-22T23:02:37.719Z"
   },
   {
    "duration": 36,
    "start_time": "2021-07-22T23:02:37.788Z"
   },
   {
    "duration": 32,
    "start_time": "2021-07-22T23:02:37.826Z"
   },
   {
    "duration": 317,
    "start_time": "2021-07-22T23:02:37.861Z"
   },
   {
    "duration": 5,
    "start_time": "2021-07-22T23:02:38.182Z"
   },
   {
    "duration": 25,
    "start_time": "2021-07-22T23:02:38.191Z"
   },
   {
    "duration": 51,
    "start_time": "2021-07-22T23:02:38.219Z"
   },
   {
    "duration": 437,
    "start_time": "2021-07-22T23:02:38.273Z"
   },
   {
    "duration": 47,
    "start_time": "2021-07-22T23:02:38.713Z"
   },
   {
    "duration": 268,
    "start_time": "2021-07-22T23:02:38.763Z"
   },
   {
    "duration": 132,
    "start_time": "2021-07-22T23:02:39.055Z"
   },
   {
    "duration": 40,
    "start_time": "2021-07-22T23:02:39.189Z"
   },
   {
    "duration": 76,
    "start_time": "2021-07-22T23:02:39.232Z"
   },
   {
    "duration": 55,
    "start_time": "2021-07-22T23:02:39.311Z"
   },
   {
    "duration": 42,
    "start_time": "2021-07-22T23:02:39.369Z"
   },
   {
    "duration": 9,
    "start_time": "2021-07-22T23:02:39.413Z"
   },
   {
    "duration": 68,
    "start_time": "2021-07-22T23:02:39.424Z"
   },
   {
    "duration": 27,
    "start_time": "2021-07-22T23:02:39.494Z"
   },
   {
    "duration": 6,
    "start_time": "2021-07-22T23:02:39.556Z"
   },
   {
    "duration": 24,
    "start_time": "2021-07-22T23:02:39.567Z"
   },
   {
    "duration": 37,
    "start_time": "2021-07-22T23:02:39.594Z"
   },
   {
    "duration": 27,
    "start_time": "2021-07-22T23:02:39.634Z"
   },
   {
    "duration": 15,
    "start_time": "2021-07-22T23:02:39.664Z"
   },
   {
    "duration": 188,
    "start_time": "2021-07-22T23:02:39.681Z"
   },
   {
    "duration": 7,
    "start_time": "2021-07-22T23:02:39.871Z"
   },
   {
    "duration": 18,
    "start_time": "2021-07-22T23:02:39.881Z"
   },
   {
    "duration": 12,
    "start_time": "2021-07-22T23:02:39.901Z"
   },
   {
    "duration": 28,
    "start_time": "2021-07-22T23:02:39.916Z"
   },
   {
    "duration": 16,
    "start_time": "2021-07-22T23:02:39.946Z"
   },
   {
    "duration": 24,
    "start_time": "2021-07-22T23:02:39.964Z"
   },
   {
    "duration": 40,
    "start_time": "2021-07-22T23:02:39.990Z"
   },
   {
    "duration": 14,
    "start_time": "2021-07-22T23:02:40.032Z"
   },
   {
    "duration": 1061,
    "start_time": "2021-07-22T23:02:40.048Z"
   },
   {
    "duration": 1108,
    "start_time": "2021-07-22T23:02:41.112Z"
   },
   {
    "duration": 1032,
    "start_time": "2021-07-22T23:02:42.223Z"
   },
   {
    "duration": 7,
    "start_time": "2021-07-22T23:02:43.257Z"
   },
   {
    "duration": 19,
    "start_time": "2021-07-22T23:02:43.266Z"
   },
   {
    "duration": 24,
    "start_time": "2021-07-22T23:02:43.287Z"
   },
   {
    "duration": 919,
    "start_time": "2021-07-22T23:02:43.314Z"
   },
   {
    "duration": 966,
    "start_time": "2021-07-22T23:02:44.236Z"
   },
   {
    "duration": 50,
    "start_time": "2021-07-22T23:02:45.205Z"
   },
   {
    "duration": 7,
    "start_time": "2021-07-22T23:02:45.257Z"
   },
   {
    "duration": 27,
    "start_time": "2021-07-22T23:02:45.267Z"
   },
   {
    "duration": 1065,
    "start_time": "2021-07-22T23:02:45.296Z"
   },
   {
    "duration": 859,
    "start_time": "2021-07-22T23:02:46.365Z"
   },
   {
    "duration": 1828,
    "start_time": "2021-07-23T07:15:56.110Z"
   },
   {
    "duration": -765,
    "start_time": "2021-07-23T07:15:58.707Z"
   },
   {
    "duration": -779,
    "start_time": "2021-07-23T07:15:58.723Z"
   },
   {
    "duration": -791,
    "start_time": "2021-07-23T07:15:58.737Z"
   },
   {
    "duration": -800,
    "start_time": "2021-07-23T07:15:58.748Z"
   },
   {
    "duration": -837,
    "start_time": "2021-07-23T07:15:58.787Z"
   },
   {
    "duration": -849,
    "start_time": "2021-07-23T07:15:58.800Z"
   },
   {
    "duration": -859,
    "start_time": "2021-07-23T07:15:58.812Z"
   },
   {
    "duration": -870,
    "start_time": "2021-07-23T07:15:58.824Z"
   },
   {
    "duration": -880,
    "start_time": "2021-07-23T07:15:58.836Z"
   },
   {
    "duration": 570,
    "start_time": "2021-07-23T07:17:45.661Z"
   },
   {
    "duration": 789,
    "start_time": "2021-07-23T07:18:00.446Z"
   },
   {
    "duration": 110,
    "start_time": "2021-07-23T07:18:01.257Z"
   },
   {
    "duration": 20,
    "start_time": "2021-07-23T07:18:01.370Z"
   },
   {
    "duration": 76,
    "start_time": "2021-07-23T07:18:01.393Z"
   },
   {
    "duration": 40,
    "start_time": "2021-07-23T07:18:01.471Z"
   },
   {
    "duration": 9,
    "start_time": "2021-07-23T07:18:01.514Z"
   },
   {
    "duration": 330,
    "start_time": "2021-07-23T07:18:01.557Z"
   },
   {
    "duration": 6,
    "start_time": "2021-07-23T07:18:01.892Z"
   },
   {
    "duration": 13,
    "start_time": "2021-07-23T07:18:01.901Z"
   },
   {
    "duration": 18,
    "start_time": "2021-07-23T07:18:01.957Z"
   },
   {
    "duration": 475,
    "start_time": "2021-07-23T07:18:07.011Z"
   },
   {
    "duration": 991,
    "start_time": "2021-07-23T07:18:29.391Z"
   },
   {
    "duration": 963,
    "start_time": "2021-07-23T07:18:41.011Z"
   },
   {
    "duration": 593,
    "start_time": "2021-07-23T07:36:25.921Z"
   },
   {
    "duration": 139,
    "start_time": "2021-07-23T07:36:26.517Z"
   },
   {
    "duration": 21,
    "start_time": "2021-07-23T07:36:26.659Z"
   },
   {
    "duration": 44,
    "start_time": "2021-07-23T07:36:26.683Z"
   },
   {
    "duration": 56,
    "start_time": "2021-07-23T07:36:26.729Z"
   },
   {
    "duration": 6,
    "start_time": "2021-07-23T07:36:26.787Z"
   },
   {
    "duration": 333,
    "start_time": "2021-07-23T07:36:26.795Z"
   },
   {
    "duration": 26,
    "start_time": "2021-07-23T07:36:27.132Z"
   },
   {
    "duration": 25,
    "start_time": "2021-07-23T07:36:27.162Z"
   },
   {
    "duration": 26,
    "start_time": "2021-07-23T07:36:27.190Z"
   },
   {
    "duration": 689,
    "start_time": "2021-07-23T07:36:27.220Z"
   },
   {
    "duration": 49,
    "start_time": "2021-07-23T07:36:27.912Z"
   },
   {
    "duration": 324,
    "start_time": "2021-07-23T07:36:27.964Z"
   },
   {
    "duration": 144,
    "start_time": "2021-07-23T07:36:28.290Z"
   },
   {
    "duration": 56,
    "start_time": "2021-07-23T07:36:28.437Z"
   },
   {
    "duration": 73,
    "start_time": "2021-07-23T07:36:28.495Z"
   },
   {
    "duration": 37,
    "start_time": "2021-07-23T07:36:28.571Z"
   },
   {
    "duration": 82,
    "start_time": "2021-07-23T07:36:28.611Z"
   },
   {
    "duration": 8,
    "start_time": "2021-07-23T07:36:28.695Z"
   },
   {
    "duration": 57,
    "start_time": "2021-07-23T07:36:28.706Z"
   },
   {
    "duration": 24,
    "start_time": "2021-07-23T07:36:28.766Z"
   },
   {
    "duration": 6,
    "start_time": "2021-07-23T07:36:28.792Z"
   },
   {
    "duration": 55,
    "start_time": "2021-07-23T07:36:28.803Z"
   },
   {
    "duration": 21,
    "start_time": "2021-07-23T07:36:28.861Z"
   },
   {
    "duration": 22,
    "start_time": "2021-07-23T07:36:28.885Z"
   },
   {
    "duration": 17,
    "start_time": "2021-07-23T07:36:28.910Z"
   },
   {
    "duration": 192,
    "start_time": "2021-07-23T07:36:28.929Z"
   },
   {
    "duration": 7,
    "start_time": "2021-07-23T07:36:29.123Z"
   },
   {
    "duration": 33,
    "start_time": "2021-07-23T07:36:29.133Z"
   },
   {
    "duration": 18,
    "start_time": "2021-07-23T07:36:29.168Z"
   },
   {
    "duration": 30,
    "start_time": "2021-07-23T07:36:29.188Z"
   },
   {
    "duration": 19,
    "start_time": "2021-07-23T07:36:29.220Z"
   },
   {
    "duration": 24,
    "start_time": "2021-07-23T07:36:29.241Z"
   },
   {
    "duration": 31,
    "start_time": "2021-07-23T07:36:29.267Z"
   },
   {
    "duration": 21,
    "start_time": "2021-07-23T07:36:29.300Z"
   },
   {
    "duration": 1084,
    "start_time": "2021-07-23T07:36:29.323Z"
   },
   {
    "duration": 1084,
    "start_time": "2021-07-23T07:36:30.409Z"
   },
   {
    "duration": 1290,
    "start_time": "2021-07-23T07:36:31.495Z"
   },
   {
    "duration": 7,
    "start_time": "2021-07-23T07:36:32.788Z"
   },
   {
    "duration": 9,
    "start_time": "2021-07-23T07:36:32.797Z"
   },
   {
    "duration": 10,
    "start_time": "2021-07-23T07:36:32.808Z"
   },
   {
    "duration": 941,
    "start_time": "2021-07-23T07:36:32.820Z"
   },
   {
    "duration": 900,
    "start_time": "2021-07-23T07:36:33.764Z"
   },
   {
    "duration": 28,
    "start_time": "2021-07-23T07:36:34.666Z"
   },
   {
    "duration": 8,
    "start_time": "2021-07-23T07:36:34.696Z"
   },
   {
    "duration": 14,
    "start_time": "2021-07-23T07:36:34.706Z"
   },
   {
    "duration": 1197,
    "start_time": "2021-07-23T07:36:34.722Z"
   },
   {
    "duration": 845,
    "start_time": "2021-07-23T07:36:35.922Z"
   },
   {
    "duration": 18,
    "start_time": "2021-07-23T07:37:32.195Z"
   },
   {
    "duration": 152,
    "start_time": "2021-07-23T07:41:53.605Z"
   },
   {
    "duration": 57,
    "start_time": "2021-07-23T07:42:10.087Z"
   },
   {
    "duration": 35,
    "start_time": "2021-07-23T07:45:08.399Z"
   },
   {
    "duration": 30,
    "start_time": "2021-07-23T07:45:50.622Z"
   },
   {
    "duration": 1993,
    "start_time": "2021-07-23T08:04:29.050Z"
   },
   {
    "duration": 120,
    "start_time": "2021-07-23T08:04:31.057Z"
   },
   {
    "duration": 23,
    "start_time": "2021-07-23T08:04:31.180Z"
   },
   {
    "duration": 66,
    "start_time": "2021-07-23T08:04:31.206Z"
   },
   {
    "duration": 36,
    "start_time": "2021-07-23T08:04:31.275Z"
   },
   {
    "duration": 7,
    "start_time": "2021-07-23T08:04:31.313Z"
   },
   {
    "duration": 333,
    "start_time": "2021-07-23T08:04:31.323Z"
   },
   {
    "duration": 5,
    "start_time": "2021-07-23T08:04:31.660Z"
   },
   {
    "duration": 44,
    "start_time": "2021-07-23T08:04:31.668Z"
   },
   {
    "duration": 24,
    "start_time": "2021-07-23T08:04:31.714Z"
   },
   {
    "duration": 618,
    "start_time": "2021-07-23T08:04:31.741Z"
   },
   {
    "duration": 23,
    "start_time": "2021-07-23T08:04:32.361Z"
   },
   {
    "duration": 294,
    "start_time": "2021-07-23T08:04:32.387Z"
   },
   {
    "duration": 138,
    "start_time": "2021-07-23T08:04:32.684Z"
   },
   {
    "duration": 57,
    "start_time": "2021-07-23T08:04:32.824Z"
   },
   {
    "duration": 73,
    "start_time": "2021-07-23T08:04:32.883Z"
   },
   {
    "duration": 39,
    "start_time": "2021-07-23T08:04:32.958Z"
   },
   {
    "duration": 70,
    "start_time": "2021-07-23T08:04:33.000Z"
   },
   {
    "duration": 9,
    "start_time": "2021-07-23T08:04:33.073Z"
   },
   {
    "duration": 75,
    "start_time": "2021-07-23T08:04:33.085Z"
   },
   {
    "duration": 23,
    "start_time": "2021-07-23T08:04:33.162Z"
   },
   {
    "duration": 5,
    "start_time": "2021-07-23T08:04:33.187Z"
   },
   {
    "duration": 16,
    "start_time": "2021-07-23T08:04:33.196Z"
   },
   {
    "duration": 56,
    "start_time": "2021-07-23T08:04:33.215Z"
   },
   {
    "duration": 15,
    "start_time": "2021-07-23T08:04:33.274Z"
   },
   {
    "duration": 8,
    "start_time": "2021-07-23T08:04:33.291Z"
   },
   {
    "duration": 13,
    "start_time": "2021-07-23T08:04:33.301Z"
   },
   {
    "duration": 10,
    "start_time": "2021-07-23T08:04:39.855Z"
   },
   {
    "duration": 685,
    "start_time": "2021-07-23T08:04:42.682Z"
   },
   {
    "duration": 19,
    "start_time": "2021-07-23T08:05:23.206Z"
   },
   {
    "duration": 13,
    "start_time": "2021-07-23T08:05:42.631Z"
   },
   {
    "duration": 610,
    "start_time": "2021-07-23T08:05:52.267Z"
   },
   {
    "duration": 9,
    "start_time": "2021-07-23T08:05:57.121Z"
   },
   {
    "duration": 8352,
    "start_time": "2021-07-23T08:06:11.134Z"
   },
   {
    "duration": 8,
    "start_time": "2021-07-23T08:06:33.664Z"
   },
   {
    "duration": 297,
    "start_time": "2021-07-23T08:06:53.783Z"
   },
   {
    "duration": 7,
    "start_time": "2021-07-23T08:06:57.301Z"
   },
   {
    "duration": 7,
    "start_time": "2021-07-23T08:07:01.509Z"
   },
   {
    "duration": 7,
    "start_time": "2021-07-23T08:09:25.191Z"
   },
   {
    "duration": 588,
    "start_time": "2021-07-23T08:09:42.528Z"
   },
   {
    "duration": 138,
    "start_time": "2021-07-23T08:09:43.118Z"
   },
   {
    "duration": 20,
    "start_time": "2021-07-23T08:09:43.259Z"
   },
   {
    "duration": 35,
    "start_time": "2021-07-23T08:09:43.282Z"
   },
   {
    "duration": 65,
    "start_time": "2021-07-23T08:09:43.319Z"
   },
   {
    "duration": 6,
    "start_time": "2021-07-23T08:09:43.387Z"
   },
   {
    "duration": 320,
    "start_time": "2021-07-23T08:09:43.395Z"
   },
   {
    "duration": 6,
    "start_time": "2021-07-23T08:09:43.721Z"
   },
   {
    "duration": 35,
    "start_time": "2021-07-23T08:09:43.730Z"
   },
   {
    "duration": 16,
    "start_time": "2021-07-23T08:09:43.768Z"
   },
   {
    "duration": 681,
    "start_time": "2021-07-23T08:09:43.787Z"
   },
   {
    "duration": 24,
    "start_time": "2021-07-23T08:09:44.471Z"
   },
   {
    "duration": 301,
    "start_time": "2021-07-23T08:09:44.497Z"
   },
   {
    "duration": 164,
    "start_time": "2021-07-23T08:09:44.801Z"
   },
   {
    "duration": 44,
    "start_time": "2021-07-23T08:09:44.968Z"
   },
   {
    "duration": 87,
    "start_time": "2021-07-23T08:09:45.014Z"
   },
   {
    "duration": 54,
    "start_time": "2021-07-23T08:09:45.103Z"
   },
   {
    "duration": 43,
    "start_time": "2021-07-23T08:09:45.159Z"
   },
   {
    "duration": 8,
    "start_time": "2021-07-23T08:09:45.204Z"
   },
   {
    "duration": 69,
    "start_time": "2021-07-23T08:09:45.215Z"
   },
   {
    "duration": 23,
    "start_time": "2021-07-23T08:09:45.286Z"
   },
   {
    "duration": 5,
    "start_time": "2021-07-23T08:09:45.311Z"
   },
   {
    "duration": 16,
    "start_time": "2021-07-23T08:09:45.356Z"
   },
   {
    "duration": 22,
    "start_time": "2021-07-23T08:09:45.375Z"
   },
   {
    "duration": 10,
    "start_time": "2021-07-23T08:09:45.399Z"
   },
   {
    "duration": 48,
    "start_time": "2021-07-23T08:09:45.412Z"
   },
   {
    "duration": 103,
    "start_time": "2021-07-23T08:09:45.462Z"
   },
   {
    "duration": 10,
    "start_time": "2021-07-23T08:10:18.283Z"
   },
   {
    "duration": 14701,
    "start_time": "2021-07-23T08:10:21.997Z"
   },
   {
    "duration": 15,
    "start_time": "2021-07-23T08:11:11.483Z"
   },
   {
    "duration": 14538,
    "start_time": "2021-07-23T08:11:14.443Z"
   },
   {
    "duration": 1277,
    "start_time": "2021-07-23T08:12:35.635Z"
   },
   {
    "duration": 160,
    "start_time": "2021-07-23T08:12:36.915Z"
   },
   {
    "duration": 20,
    "start_time": "2021-07-23T08:12:37.078Z"
   },
   {
    "duration": 60,
    "start_time": "2021-07-23T08:12:37.101Z"
   },
   {
    "duration": 36,
    "start_time": "2021-07-23T08:12:37.164Z"
   },
   {
    "duration": 6,
    "start_time": "2021-07-23T08:12:37.203Z"
   },
   {
    "duration": 300,
    "start_time": "2021-07-23T08:12:37.212Z"
   },
   {
    "duration": 6,
    "start_time": "2021-07-23T08:12:37.516Z"
   },
   {
    "duration": 35,
    "start_time": "2021-07-23T08:12:37.525Z"
   },
   {
    "duration": 17,
    "start_time": "2021-07-23T08:12:37.563Z"
   },
   {
    "duration": 633,
    "start_time": "2021-07-23T08:12:37.583Z"
   },
   {
    "duration": 47,
    "start_time": "2021-07-23T08:12:38.219Z"
   },
   {
    "duration": 254,
    "start_time": "2021-07-23T08:12:38.268Z"
   },
   {
    "duration": 153,
    "start_time": "2021-07-23T08:12:38.525Z"
   },
   {
    "duration": 44,
    "start_time": "2021-07-23T08:12:38.681Z"
   },
   {
    "duration": 84,
    "start_time": "2021-07-23T08:12:38.728Z"
   },
   {
    "duration": 62,
    "start_time": "2021-07-23T08:12:38.814Z"
   },
   {
    "duration": 45,
    "start_time": "2021-07-23T08:12:38.878Z"
   },
   {
    "duration": 31,
    "start_time": "2021-07-23T08:12:38.926Z"
   },
   {
    "duration": 38,
    "start_time": "2021-07-23T08:12:38.960Z"
   },
   {
    "duration": 57,
    "start_time": "2021-07-23T08:12:39.000Z"
   },
   {
    "duration": 5,
    "start_time": "2021-07-23T08:12:39.060Z"
   },
   {
    "duration": 18,
    "start_time": "2021-07-23T08:12:39.070Z"
   },
   {
    "duration": 20,
    "start_time": "2021-07-23T08:12:39.091Z"
   },
   {
    "duration": 48,
    "start_time": "2021-07-23T08:12:39.115Z"
   },
   {
    "duration": 8,
    "start_time": "2021-07-23T08:12:39.166Z"
   },
   {
    "duration": 15,
    "start_time": "2021-07-23T08:12:39.177Z"
   },
   {
    "duration": 14403,
    "start_time": "2021-07-23T08:12:39.195Z"
   },
   {
    "duration": 8,
    "start_time": "2021-07-23T08:12:53.600Z"
   },
   {
    "duration": 23,
    "start_time": "2021-07-23T08:12:53.610Z"
   },
   {
    "duration": 30,
    "start_time": "2021-07-23T08:12:53.635Z"
   },
   {
    "duration": 13,
    "start_time": "2021-07-23T08:12:53.668Z"
   },
   {
    "duration": 7,
    "start_time": "2021-07-23T08:12:53.684Z"
   },
   {
    "duration": 27,
    "start_time": "2021-07-23T08:12:53.693Z"
   },
   {
    "duration": 36,
    "start_time": "2021-07-23T08:12:53.723Z"
   },
   {
    "duration": 6,
    "start_time": "2021-07-23T08:12:53.762Z"
   },
   {
    "duration": 1158,
    "start_time": "2021-07-23T08:12:53.770Z"
   },
   {
    "duration": 1137,
    "start_time": "2021-07-23T08:12:54.931Z"
   },
   {
    "duration": 1128,
    "start_time": "2021-07-23T08:12:56.070Z"
   },
   {
    "duration": 337,
    "start_time": "2021-07-23T08:12:57.200Z"
   },
   {
    "duration": -653,
    "start_time": "2021-07-23T08:12:58.193Z"
   },
   {
    "duration": -668,
    "start_time": "2021-07-23T08:12:58.209Z"
   },
   {
    "duration": -679,
    "start_time": "2021-07-23T08:12:58.222Z"
   },
   {
    "duration": -688,
    "start_time": "2021-07-23T08:12:58.232Z"
   },
   {
    "duration": -698,
    "start_time": "2021-07-23T08:12:58.244Z"
   },
   {
    "duration": -708,
    "start_time": "2021-07-23T08:12:58.255Z"
   },
   {
    "duration": -719,
    "start_time": "2021-07-23T08:12:58.267Z"
   },
   {
    "duration": -728,
    "start_time": "2021-07-23T08:12:58.277Z"
   },
   {
    "duration": -740,
    "start_time": "2021-07-23T08:12:58.290Z"
   },
   {
    "duration": 2079,
    "start_time": "2021-07-23T08:29:05.004Z"
   },
   {
    "duration": 170,
    "start_time": "2021-07-23T08:29:07.086Z"
   },
   {
    "duration": 25,
    "start_time": "2021-07-23T08:29:07.260Z"
   },
   {
    "duration": 45,
    "start_time": "2021-07-23T08:29:07.288Z"
   },
   {
    "duration": 51,
    "start_time": "2021-07-23T08:29:07.335Z"
   },
   {
    "duration": 7,
    "start_time": "2021-07-23T08:29:07.388Z"
   },
   {
    "duration": 347,
    "start_time": "2021-07-23T08:29:07.397Z"
   },
   {
    "duration": 11,
    "start_time": "2021-07-23T08:29:07.748Z"
   },
   {
    "duration": 19,
    "start_time": "2021-07-23T08:29:07.762Z"
   },
   {
    "duration": 21,
    "start_time": "2021-07-23T08:29:07.783Z"
   },
   {
    "duration": 621,
    "start_time": "2021-07-23T08:29:07.807Z"
   },
   {
    "duration": 40,
    "start_time": "2021-07-23T08:29:08.431Z"
   },
   {
    "duration": 294,
    "start_time": "2021-07-23T08:29:08.473Z"
   },
   {
    "duration": 136,
    "start_time": "2021-07-23T08:29:08.769Z"
   },
   {
    "duration": 56,
    "start_time": "2021-07-23T08:29:08.908Z"
   },
   {
    "duration": 59,
    "start_time": "2021-07-23T08:29:08.966Z"
   },
   {
    "duration": 59,
    "start_time": "2021-07-23T08:29:09.028Z"
   },
   {
    "duration": 43,
    "start_time": "2021-07-23T08:29:09.089Z"
   },
   {
    "duration": 8,
    "start_time": "2021-07-23T08:29:09.155Z"
   },
   {
    "duration": 40,
    "start_time": "2021-07-23T08:29:09.165Z"
   },
   {
    "duration": 63,
    "start_time": "2021-07-23T08:29:09.207Z"
   },
   {
    "duration": 4,
    "start_time": "2021-07-23T08:29:09.273Z"
   },
   {
    "duration": 23,
    "start_time": "2021-07-23T08:29:09.282Z"
   },
   {
    "duration": 59,
    "start_time": "2021-07-23T08:29:09.308Z"
   },
   {
    "duration": 11,
    "start_time": "2021-07-23T08:29:09.369Z"
   },
   {
    "duration": 14,
    "start_time": "2021-07-23T08:29:09.383Z"
   },
   {
    "duration": 21,
    "start_time": "2021-07-23T08:29:09.400Z"
   },
   {
    "duration": 13908,
    "start_time": "2021-07-23T08:29:09.423Z"
   },
   {
    "duration": 8,
    "start_time": "2021-07-23T08:29:23.334Z"
   },
   {
    "duration": 15,
    "start_time": "2021-07-23T08:29:23.356Z"
   },
   {
    "duration": 11,
    "start_time": "2021-07-23T08:29:23.374Z"
   },
   {
    "duration": 11,
    "start_time": "2021-07-23T08:29:23.388Z"
   },
   {
    "duration": 55,
    "start_time": "2021-07-23T08:29:23.401Z"
   },
   {
    "duration": 16,
    "start_time": "2021-07-23T08:29:23.459Z"
   },
   {
    "duration": 15,
    "start_time": "2021-07-23T08:29:23.478Z"
   },
   {
    "duration": 7,
    "start_time": "2021-07-23T08:29:23.495Z"
   },
   {
    "duration": 1458,
    "start_time": "2021-07-23T08:29:23.505Z"
   },
   {
    "duration": 1601,
    "start_time": "2021-07-23T08:29:24.966Z"
   },
   {
    "duration": 1517,
    "start_time": "2021-07-23T08:29:26.569Z"
   },
   {
    "duration": 39,
    "start_time": "2021-07-23T08:29:28.089Z"
   },
   {
    "duration": 27,
    "start_time": "2021-07-23T08:29:28.131Z"
   },
   {
    "duration": 10,
    "start_time": "2021-07-23T08:29:28.161Z"
   },
   {
    "duration": 13,
    "start_time": "2021-07-23T08:29:28.174Z"
   },
   {
    "duration": 1441,
    "start_time": "2021-07-23T08:29:28.189Z"
   },
   {
    "duration": 1172,
    "start_time": "2021-07-23T08:29:29.633Z"
   },
   {
    "duration": 59,
    "start_time": "2021-07-23T08:29:30.808Z"
   },
   {
    "duration": 8,
    "start_time": "2021-07-23T08:29:30.870Z"
   },
   {
    "duration": 34,
    "start_time": "2021-07-23T08:29:30.880Z"
   },
   {
    "duration": 1463,
    "start_time": "2021-07-23T08:29:30.917Z"
   },
   {
    "duration": 1063,
    "start_time": "2021-07-23T08:29:32.383Z"
   },
   {
    "duration": 2979,
    "start_time": "2021-07-23T19:11:35.974Z"
   },
   {
    "duration": 120,
    "start_time": "2021-07-23T19:11:38.956Z"
   },
   {
    "duration": 1843,
    "start_time": "2021-07-23T19:11:39.103Z"
   },
   {
    "duration": 1034,
    "start_time": "2021-07-23T19:11:40.950Z"
   },
   {
    "duration": 1958,
    "start_time": "2021-07-23T19:11:41.986Z"
   },
   {
    "duration": 7,
    "start_time": "2021-07-23T19:11:43.947Z"
   },
   {
    "duration": 343,
    "start_time": "2021-07-23T19:11:43.957Z"
   },
   {
    "duration": 6,
    "start_time": "2021-07-23T19:11:44.304Z"
   },
   {
    "duration": 19,
    "start_time": "2021-07-23T19:11:44.313Z"
   },
   {
    "duration": 21,
    "start_time": "2021-07-23T19:11:44.335Z"
   },
   {
    "duration": 707,
    "start_time": "2021-07-23T19:11:44.359Z"
   },
   {
    "duration": 45,
    "start_time": "2021-07-23T19:11:45.068Z"
   },
   {
    "duration": 313,
    "start_time": "2021-07-23T19:11:45.115Z"
   },
   {
    "duration": 156,
    "start_time": "2021-07-23T19:11:45.431Z"
   },
   {
    "duration": 57,
    "start_time": "2021-07-23T19:11:45.590Z"
   },
   {
    "duration": 81,
    "start_time": "2021-07-23T19:11:45.650Z"
   },
   {
    "duration": 43,
    "start_time": "2021-07-23T19:11:45.734Z"
   },
   {
    "duration": 77,
    "start_time": "2021-07-23T19:11:45.781Z"
   },
   {
    "duration": 8,
    "start_time": "2021-07-23T19:11:45.861Z"
   },
   {
    "duration": 64,
    "start_time": "2021-07-23T19:11:45.871Z"
   },
   {
    "duration": 64,
    "start_time": "2021-07-23T19:11:45.938Z"
   },
   {
    "duration": 5,
    "start_time": "2021-07-23T19:11:46.005Z"
   },
   {
    "duration": 17,
    "start_time": "2021-07-23T19:11:46.016Z"
   },
   {
    "duration": 73,
    "start_time": "2021-07-23T19:11:46.036Z"
   },
   {
    "duration": 15,
    "start_time": "2021-07-23T19:11:46.112Z"
   },
   {
    "duration": 12,
    "start_time": "2021-07-23T19:11:46.129Z"
   },
   {
    "duration": 16434,
    "start_time": "2021-07-23T19:11:46.144Z"
   },
   {
    "duration": 19,
    "start_time": "2021-07-23T19:12:02.581Z"
   },
   {
    "duration": 35,
    "start_time": "2021-07-23T19:12:02.603Z"
   },
   {
    "duration": 18,
    "start_time": "2021-07-23T19:12:02.641Z"
   },
   {
    "duration": 20,
    "start_time": "2021-07-23T19:12:02.662Z"
   },
   {
    "duration": 15,
    "start_time": "2021-07-23T19:12:02.685Z"
   },
   {
    "duration": 24,
    "start_time": "2021-07-23T19:12:02.703Z"
   },
   {
    "duration": 19,
    "start_time": "2021-07-23T19:12:02.730Z"
   },
   {
    "duration": 18,
    "start_time": "2021-07-23T19:12:02.751Z"
   },
   {
    "duration": 1158,
    "start_time": "2021-07-23T19:12:02.772Z"
   },
   {
    "duration": 1205,
    "start_time": "2021-07-23T19:12:03.932Z"
   },
   {
    "duration": 1132,
    "start_time": "2021-07-23T19:12:05.140Z"
   },
   {
    "duration": 114,
    "start_time": "2021-07-23T19:12:06.275Z"
   },
   {
    "duration": -766,
    "start_time": "2021-07-23T19:12:07.158Z"
   },
   {
    "duration": -774,
    "start_time": "2021-07-23T19:12:07.169Z"
   },
   {
    "duration": -783,
    "start_time": "2021-07-23T19:12:07.180Z"
   },
   {
    "duration": -794,
    "start_time": "2021-07-23T19:12:07.193Z"
   },
   {
    "duration": -805,
    "start_time": "2021-07-23T19:12:07.206Z"
   },
   {
    "duration": -845,
    "start_time": "2021-07-23T19:12:07.249Z"
   },
   {
    "duration": -855,
    "start_time": "2021-07-23T19:12:07.261Z"
   },
   {
    "duration": -863,
    "start_time": "2021-07-23T19:12:07.272Z"
   },
   {
    "duration": -872,
    "start_time": "2021-07-23T19:12:07.284Z"
   },
   {
    "duration": -881,
    "start_time": "2021-07-23T19:12:07.295Z"
   },
   {
    "duration": 2292,
    "start_time": "2021-07-23T19:12:29.185Z"
   },
   {
    "duration": 140,
    "start_time": "2021-07-23T19:12:31.480Z"
   },
   {
    "duration": 22,
    "start_time": "2021-07-23T19:12:31.623Z"
   },
   {
    "duration": 72,
    "start_time": "2021-07-23T19:12:31.648Z"
   },
   {
    "duration": 35,
    "start_time": "2021-07-23T19:12:31.723Z"
   },
   {
    "duration": 7,
    "start_time": "2021-07-23T19:12:31.761Z"
   },
   {
    "duration": 360,
    "start_time": "2021-07-23T19:12:31.801Z"
   },
   {
    "duration": 5,
    "start_time": "2021-07-23T19:12:32.165Z"
   },
   {
    "duration": 36,
    "start_time": "2021-07-23T19:12:32.174Z"
   },
   {
    "duration": 21,
    "start_time": "2021-07-23T19:12:32.215Z"
   },
   {
    "duration": 646,
    "start_time": "2021-07-23T19:12:32.239Z"
   },
   {
    "duration": 35,
    "start_time": "2021-07-23T19:12:32.887Z"
   },
   {
    "duration": 315,
    "start_time": "2021-07-23T19:12:32.925Z"
   },
   {
    "duration": 148,
    "start_time": "2021-07-23T19:12:33.243Z"
   },
   {
    "duration": 46,
    "start_time": "2021-07-23T19:12:33.400Z"
   },
   {
    "duration": 95,
    "start_time": "2021-07-23T19:12:33.449Z"
   },
   {
    "duration": 53,
    "start_time": "2021-07-23T19:12:33.547Z"
   },
   {
    "duration": 49,
    "start_time": "2021-07-23T19:12:33.603Z"
   },
   {
    "duration": 8,
    "start_time": "2021-07-23T19:12:33.655Z"
   },
   {
    "duration": 73,
    "start_time": "2021-07-23T19:12:33.665Z"
   },
   {
    "duration": 24,
    "start_time": "2021-07-23T19:12:33.740Z"
   },
   {
    "duration": 38,
    "start_time": "2021-07-23T19:12:33.766Z"
   },
   {
    "duration": 22,
    "start_time": "2021-07-23T19:12:33.810Z"
   },
   {
    "duration": 22,
    "start_time": "2021-07-23T19:12:33.835Z"
   },
   {
    "duration": 48,
    "start_time": "2021-07-23T19:12:33.859Z"
   },
   {
    "duration": 11,
    "start_time": "2021-07-23T19:12:33.910Z"
   },
   {
    "duration": 14545,
    "start_time": "2021-07-23T19:12:33.924Z"
   },
   {
    "duration": 8,
    "start_time": "2021-07-23T19:12:48.472Z"
   },
   {
    "duration": 25,
    "start_time": "2021-07-23T19:12:48.482Z"
   },
   {
    "duration": 10,
    "start_time": "2021-07-23T19:12:48.510Z"
   },
   {
    "duration": 8,
    "start_time": "2021-07-23T19:12:48.522Z"
   },
   {
    "duration": 8,
    "start_time": "2021-07-23T19:12:48.533Z"
   },
   {
    "duration": 61,
    "start_time": "2021-07-23T19:12:48.544Z"
   },
   {
    "duration": 19,
    "start_time": "2021-07-23T19:12:48.609Z"
   },
   {
    "duration": 4,
    "start_time": "2021-07-23T19:12:48.630Z"
   },
   {
    "duration": 1167,
    "start_time": "2021-07-23T19:12:48.636Z"
   },
   {
    "duration": 1227,
    "start_time": "2021-07-23T19:12:49.806Z"
   },
   {
    "duration": 1185,
    "start_time": "2021-07-23T19:12:51.036Z"
   },
   {
    "duration": 8,
    "start_time": "2021-07-23T19:12:52.223Z"
   },
   {
    "duration": 10,
    "start_time": "2021-07-23T19:12:52.233Z"
   },
   {
    "duration": 12,
    "start_time": "2021-07-23T19:12:52.245Z"
   },
   {
    "duration": 1088,
    "start_time": "2021-07-23T19:12:52.259Z"
   },
   {
    "duration": 890,
    "start_time": "2021-07-23T19:12:53.350Z"
   },
   {
    "duration": 30,
    "start_time": "2021-07-23T19:12:54.243Z"
   },
   {
    "duration": 52,
    "start_time": "2021-07-23T19:12:54.276Z"
   },
   {
    "duration": 7,
    "start_time": "2021-07-23T19:12:54.331Z"
   },
   {
    "duration": 9,
    "start_time": "2021-07-23T19:12:54.340Z"
   },
   {
    "duration": 1157,
    "start_time": "2021-07-23T19:12:54.351Z"
   },
   {
    "duration": 932,
    "start_time": "2021-07-23T19:12:55.511Z"
   }
  ],
  "kernelspec": {
   "display_name": "Python 3",
   "language": "python",
   "name": "python3"
  },
  "language_info": {
   "codemirror_mode": {
    "name": "ipython",
    "version": 3
   },
   "file_extension": ".py",
   "mimetype": "text/x-python",
   "name": "python",
   "nbconvert_exporter": "python",
   "pygments_lexer": "ipython3",
   "version": "3.7.8"
  },
  "toc": {
   "base_numbering": 1,
   "nav_menu": {},
   "number_sections": true,
   "sideBar": true,
   "skip_h1_title": true,
   "title_cell": "Table of contents",
   "title_sidebar": "Contents",
   "toc_cell": true,
   "toc_position": {},
   "toc_section_display": true,
   "toc_window_display": true
  }
 },
 "nbformat": 4,
 "nbformat_minor": 2
}
