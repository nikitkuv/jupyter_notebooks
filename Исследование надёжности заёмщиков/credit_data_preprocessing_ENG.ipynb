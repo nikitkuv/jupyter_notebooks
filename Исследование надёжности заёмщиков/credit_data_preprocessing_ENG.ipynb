{
 "cells": [
  {
   "cell_type": "markdown",
   "metadata": {
    "toc": true
   },
   "source": [
    "<h1>Table of contents<span class=\"tocSkip\"></span></h1>\n",
    "<div class=\"toc\"><ul class=\"toc-item\"><li><span><a href=\"#Data-loading-and-inspection\" data-toc-modified-id=\"Data-loading-and-inspection-1\"><span class=\"toc-item-num\">1&nbsp;&nbsp;</span>Data loading and inspection</a></span></li><li><span><a href=\"#Data-preprocessing\" data-toc-modified-id=\"Data-preprocessing-2\"><span class=\"toc-item-num\">2&nbsp;&nbsp;</span>Data preprocessing</a></span><ul class=\"toc-item\"><li><span><a href=\"#Обработка-пропусков,-редактирование-ошибочных-значений\" data-toc-modified-id=\"Обработка-пропусков,-редактирование-ошибочных-значений-2.1\"><span class=\"toc-item-num\">2.1&nbsp;&nbsp;</span>Обработка пропусков, редактирование ошибочных значений</a></span></li><li><span><a href=\"#Замена-типа-данных\" data-toc-modified-id=\"Замена-типа-данных-2.2\"><span class=\"toc-item-num\">2.2&nbsp;&nbsp;</span>Замена типа данных</a></span></li><li><span><a href=\"#Обработка-дубликатов\" data-toc-modified-id=\"Обработка-дубликатов-2.3\"><span class=\"toc-item-num\">2.3&nbsp;&nbsp;</span>Обработка дубликатов</a></span></li><li><span><a href=\"#Лемматизация\" data-toc-modified-id=\"Лемматизация-2.4\"><span class=\"toc-item-num\">2.4&nbsp;&nbsp;</span>Лемматизация</a></span></li><li><span><a href=\"#Категоризация-данных\" data-toc-modified-id=\"Категоризация-данных-2.5\"><span class=\"toc-item-num\">2.5&nbsp;&nbsp;</span>Категоризация данных</a></span></li></ul></li><li><span><a href=\"#Анализ-платежеспособности-клиентов\" data-toc-modified-id=\"Анализ-платежеспособности-клиентов-3\"><span class=\"toc-item-num\">3&nbsp;&nbsp;</span>Анализ платежеспособности клиентов</a></span></li><li><span><a href=\"#Общий-вывод\" data-toc-modified-id=\"Общий-вывод-4\"><span class=\"toc-item-num\">4&nbsp;&nbsp;</span>Общий вывод</a></span></li></ul></div>"
   ]
  },
  {
   "cell_type": "markdown",
   "metadata": {},
   "source": [
    "# Сredit worthiness analysis\n",
    "\n",
    "Dataset consist of data of bank clients and their credit worthiness statistics.\n",
    "\n",
    "**Goal**: to make data preprocession and fugure out how diffrent parameters of clients (famaly status, number of children) affect credit worthiness of a client, is there a relationship between the client income and credit worthiness of the client, how different credit purposes affect credit worthiness of the client."
   ]
  },
  {
   "cell_type": "markdown",
   "metadata": {},
   "source": [
    "# Data description"
   ]
  },
  {
   "cell_type": "markdown",
   "metadata": {},
   "source": [
    "- children — number of children\n",
    "- days_employed — employment record \n",
    "- dob_years — age\n",
    "- education — level of education\n",
    "- education_id — education id\n",
    "- family_status — family status\n",
    "- family_status_id — family status\n",
    "- gender — gender\n",
    "- income_type — income type\n",
    "- debt — had a debt or not\n",
    "- total_income — total income\n",
    "- purpose — purpose of the credit"
   ]
  },
  {
   "cell_type": "markdown",
   "metadata": {},
   "source": [
    "## Data loading and inspection"
   ]
  },
  {
   "cell_type": "code",
   "execution_count": 1,
   "metadata": {
    "scrolled": false
   },
   "outputs": [
    {
     "data": {
      "text/html": [
       "<div>\n",
       "<style scoped>\n",
       "    .dataframe tbody tr th:only-of-type {\n",
       "        vertical-align: middle;\n",
       "    }\n",
       "\n",
       "    .dataframe tbody tr th {\n",
       "        vertical-align: top;\n",
       "    }\n",
       "\n",
       "    .dataframe thead th {\n",
       "        text-align: right;\n",
       "    }\n",
       "</style>\n",
       "<table border=\"1\" class=\"dataframe\">\n",
       "  <thead>\n",
       "    <tr style=\"text-align: right;\">\n",
       "      <th></th>\n",
       "      <th>children</th>\n",
       "      <th>days_employed</th>\n",
       "      <th>dob_years</th>\n",
       "      <th>education</th>\n",
       "      <th>education_id</th>\n",
       "      <th>family_status</th>\n",
       "      <th>family_status_id</th>\n",
       "      <th>gender</th>\n",
       "      <th>income_type</th>\n",
       "      <th>debt</th>\n",
       "      <th>total_income</th>\n",
       "      <th>purpose</th>\n",
       "    </tr>\n",
       "  </thead>\n",
       "  <tbody>\n",
       "    <tr>\n",
       "      <td>0</td>\n",
       "      <td>1</td>\n",
       "      <td>-8437.673028</td>\n",
       "      <td>42</td>\n",
       "      <td>высшее</td>\n",
       "      <td>0</td>\n",
       "      <td>женат / замужем</td>\n",
       "      <td>0</td>\n",
       "      <td>F</td>\n",
       "      <td>сотрудник</td>\n",
       "      <td>0</td>\n",
       "      <td>253875.639453</td>\n",
       "      <td>покупка жилья</td>\n",
       "    </tr>\n",
       "    <tr>\n",
       "      <td>1</td>\n",
       "      <td>1</td>\n",
       "      <td>-4024.803754</td>\n",
       "      <td>36</td>\n",
       "      <td>среднее</td>\n",
       "      <td>1</td>\n",
       "      <td>женат / замужем</td>\n",
       "      <td>0</td>\n",
       "      <td>F</td>\n",
       "      <td>сотрудник</td>\n",
       "      <td>0</td>\n",
       "      <td>112080.014102</td>\n",
       "      <td>приобретение автомобиля</td>\n",
       "    </tr>\n",
       "    <tr>\n",
       "      <td>2</td>\n",
       "      <td>0</td>\n",
       "      <td>-5623.422610</td>\n",
       "      <td>33</td>\n",
       "      <td>Среднее</td>\n",
       "      <td>1</td>\n",
       "      <td>женат / замужем</td>\n",
       "      <td>0</td>\n",
       "      <td>M</td>\n",
       "      <td>сотрудник</td>\n",
       "      <td>0</td>\n",
       "      <td>145885.952297</td>\n",
       "      <td>покупка жилья</td>\n",
       "    </tr>\n",
       "    <tr>\n",
       "      <td>3</td>\n",
       "      <td>3</td>\n",
       "      <td>-4124.747207</td>\n",
       "      <td>32</td>\n",
       "      <td>среднее</td>\n",
       "      <td>1</td>\n",
       "      <td>женат / замужем</td>\n",
       "      <td>0</td>\n",
       "      <td>M</td>\n",
       "      <td>сотрудник</td>\n",
       "      <td>0</td>\n",
       "      <td>267628.550329</td>\n",
       "      <td>дополнительное образование</td>\n",
       "    </tr>\n",
       "    <tr>\n",
       "      <td>4</td>\n",
       "      <td>0</td>\n",
       "      <td>340266.072047</td>\n",
       "      <td>53</td>\n",
       "      <td>среднее</td>\n",
       "      <td>1</td>\n",
       "      <td>гражданский брак</td>\n",
       "      <td>1</td>\n",
       "      <td>F</td>\n",
       "      <td>пенсионер</td>\n",
       "      <td>0</td>\n",
       "      <td>158616.077870</td>\n",
       "      <td>сыграть свадьбу</td>\n",
       "    </tr>\n",
       "    <tr>\n",
       "      <td>5</td>\n",
       "      <td>0</td>\n",
       "      <td>-926.185831</td>\n",
       "      <td>27</td>\n",
       "      <td>высшее</td>\n",
       "      <td>0</td>\n",
       "      <td>гражданский брак</td>\n",
       "      <td>1</td>\n",
       "      <td>M</td>\n",
       "      <td>компаньон</td>\n",
       "      <td>0</td>\n",
       "      <td>255763.565419</td>\n",
       "      <td>покупка жилья</td>\n",
       "    </tr>\n",
       "    <tr>\n",
       "      <td>6</td>\n",
       "      <td>0</td>\n",
       "      <td>-2879.202052</td>\n",
       "      <td>43</td>\n",
       "      <td>высшее</td>\n",
       "      <td>0</td>\n",
       "      <td>женат / замужем</td>\n",
       "      <td>0</td>\n",
       "      <td>F</td>\n",
       "      <td>компаньон</td>\n",
       "      <td>0</td>\n",
       "      <td>240525.971920</td>\n",
       "      <td>операции с жильем</td>\n",
       "    </tr>\n",
       "    <tr>\n",
       "      <td>7</td>\n",
       "      <td>0</td>\n",
       "      <td>-152.779569</td>\n",
       "      <td>50</td>\n",
       "      <td>СРЕДНЕЕ</td>\n",
       "      <td>1</td>\n",
       "      <td>женат / замужем</td>\n",
       "      <td>0</td>\n",
       "      <td>M</td>\n",
       "      <td>сотрудник</td>\n",
       "      <td>0</td>\n",
       "      <td>135823.934197</td>\n",
       "      <td>образование</td>\n",
       "    </tr>\n",
       "    <tr>\n",
       "      <td>8</td>\n",
       "      <td>2</td>\n",
       "      <td>-6929.865299</td>\n",
       "      <td>35</td>\n",
       "      <td>ВЫСШЕЕ</td>\n",
       "      <td>0</td>\n",
       "      <td>гражданский брак</td>\n",
       "      <td>1</td>\n",
       "      <td>F</td>\n",
       "      <td>сотрудник</td>\n",
       "      <td>0</td>\n",
       "      <td>95856.832424</td>\n",
       "      <td>на проведение свадьбы</td>\n",
       "    </tr>\n",
       "    <tr>\n",
       "      <td>9</td>\n",
       "      <td>0</td>\n",
       "      <td>-2188.756445</td>\n",
       "      <td>41</td>\n",
       "      <td>среднее</td>\n",
       "      <td>1</td>\n",
       "      <td>женат / замужем</td>\n",
       "      <td>0</td>\n",
       "      <td>M</td>\n",
       "      <td>сотрудник</td>\n",
       "      <td>0</td>\n",
       "      <td>144425.938277</td>\n",
       "      <td>покупка жилья для семьи</td>\n",
       "    </tr>\n",
       "  </tbody>\n",
       "</table>\n",
       "</div>"
      ],
      "text/plain": [
       "   children  days_employed  dob_years education  education_id  \\\n",
       "0         1   -8437.673028         42    высшее             0   \n",
       "1         1   -4024.803754         36   среднее             1   \n",
       "2         0   -5623.422610         33   Среднее             1   \n",
       "3         3   -4124.747207         32   среднее             1   \n",
       "4         0  340266.072047         53   среднее             1   \n",
       "5         0    -926.185831         27    высшее             0   \n",
       "6         0   -2879.202052         43    высшее             0   \n",
       "7         0    -152.779569         50   СРЕДНЕЕ             1   \n",
       "8         2   -6929.865299         35    ВЫСШЕЕ             0   \n",
       "9         0   -2188.756445         41   среднее             1   \n",
       "\n",
       "      family_status  family_status_id gender income_type  debt   total_income  \\\n",
       "0   женат / замужем                 0      F   сотрудник     0  253875.639453   \n",
       "1   женат / замужем                 0      F   сотрудник     0  112080.014102   \n",
       "2   женат / замужем                 0      M   сотрудник     0  145885.952297   \n",
       "3   женат / замужем                 0      M   сотрудник     0  267628.550329   \n",
       "4  гражданский брак                 1      F   пенсионер     0  158616.077870   \n",
       "5  гражданский брак                 1      M   компаньон     0  255763.565419   \n",
       "6   женат / замужем                 0      F   компаньон     0  240525.971920   \n",
       "7   женат / замужем                 0      M   сотрудник     0  135823.934197   \n",
       "8  гражданский брак                 1      F   сотрудник     0   95856.832424   \n",
       "9   женат / замужем                 0      M   сотрудник     0  144425.938277   \n",
       "\n",
       "                      purpose  \n",
       "0               покупка жилья  \n",
       "1     приобретение автомобиля  \n",
       "2               покупка жилья  \n",
       "3  дополнительное образование  \n",
       "4             сыграть свадьбу  \n",
       "5               покупка жилья  \n",
       "6           операции с жильем  \n",
       "7                 образование  \n",
       "8       на проведение свадьбы  \n",
       "9     покупка жилья для семьи  "
      ]
     },
     "execution_count": 1,
     "metadata": {},
     "output_type": "execute_result"
    }
   ],
   "source": [
    "import pandas as pd\n",
    "from nltk.stem import SnowballStemmer\n",
    "from pymystem3 import Mystem\n",
    "from collections import Counter\n",
    "import numpy as np\n",
    "\n",
    "try:\n",
    "    credit = pd.read_csv('C:/Jupyter_projects/datasets/1_data.csv')\n",
    "    credit_original = pd.read_csv('C:/Jupyter_projects/datasets/1_data.csv')\n",
    "except:\n",
    "    credit = pd.read_csv('/datasets/data.csv')\n",
    "    credit_original = pd.read_csv('/datasets/data.csv')\n",
    "\n",
    "credit.head(10)"
   ]
  },
  {
   "cell_type": "code",
   "execution_count": 2,
   "metadata": {
    "scrolled": true
   },
   "outputs": [
    {
     "name": "stdout",
     "output_type": "stream",
     "text": [
      "Размерность датасета: (21525, 12)\n",
      "\n",
      "<class 'pandas.core.frame.DataFrame'>\n",
      "RangeIndex: 21525 entries, 0 to 21524\n",
      "Data columns (total 12 columns):\n",
      "children            21525 non-null int64\n",
      "days_employed       19351 non-null float64\n",
      "dob_years           21525 non-null int64\n",
      "education           21525 non-null object\n",
      "education_id        21525 non-null int64\n",
      "family_status       21525 non-null object\n",
      "family_status_id    21525 non-null int64\n",
      "gender              21525 non-null object\n",
      "income_type         21525 non-null object\n",
      "debt                21525 non-null int64\n",
      "total_income        19351 non-null float64\n",
      "purpose             21525 non-null object\n",
      "dtypes: float64(2), int64(5), object(5)\n",
      "memory usage: 2.0+ MB\n"
     ]
    }
   ],
   "source": [
    "print(f'Размерность датасета: {credit.shape}')\n",
    "print('')\n",
    "credit.info()"
   ]
  },
  {
   "cell_type": "code",
   "execution_count": 3,
   "metadata": {
    "scrolled": true
   },
   "outputs": [
    {
     "data": {
      "text/html": [
       "<div>\n",
       "<style scoped>\n",
       "    .dataframe tbody tr th:only-of-type {\n",
       "        vertical-align: middle;\n",
       "    }\n",
       "\n",
       "    .dataframe tbody tr th {\n",
       "        vertical-align: top;\n",
       "    }\n",
       "\n",
       "    .dataframe thead th {\n",
       "        text-align: right;\n",
       "    }\n",
       "</style>\n",
       "<table border=\"1\" class=\"dataframe\">\n",
       "  <thead>\n",
       "    <tr style=\"text-align: right;\">\n",
       "      <th></th>\n",
       "      <th>children</th>\n",
       "      <th>days_employed</th>\n",
       "      <th>dob_years</th>\n",
       "      <th>education_id</th>\n",
       "      <th>family_status_id</th>\n",
       "      <th>debt</th>\n",
       "      <th>total_income</th>\n",
       "    </tr>\n",
       "  </thead>\n",
       "  <tbody>\n",
       "    <tr>\n",
       "      <td>count</td>\n",
       "      <td>21525.000000</td>\n",
       "      <td>19351.000000</td>\n",
       "      <td>21525.000000</td>\n",
       "      <td>21525.000000</td>\n",
       "      <td>21525.000000</td>\n",
       "      <td>21525.000000</td>\n",
       "      <td>1.935100e+04</td>\n",
       "    </tr>\n",
       "    <tr>\n",
       "      <td>mean</td>\n",
       "      <td>0.538908</td>\n",
       "      <td>63046.497661</td>\n",
       "      <td>43.293380</td>\n",
       "      <td>0.817236</td>\n",
       "      <td>0.972544</td>\n",
       "      <td>0.080883</td>\n",
       "      <td>1.674223e+05</td>\n",
       "    </tr>\n",
       "    <tr>\n",
       "      <td>std</td>\n",
       "      <td>1.381587</td>\n",
       "      <td>140827.311974</td>\n",
       "      <td>12.574584</td>\n",
       "      <td>0.548138</td>\n",
       "      <td>1.420324</td>\n",
       "      <td>0.272661</td>\n",
       "      <td>1.029716e+05</td>\n",
       "    </tr>\n",
       "    <tr>\n",
       "      <td>min</td>\n",
       "      <td>-1.000000</td>\n",
       "      <td>-18388.949901</td>\n",
       "      <td>0.000000</td>\n",
       "      <td>0.000000</td>\n",
       "      <td>0.000000</td>\n",
       "      <td>0.000000</td>\n",
       "      <td>2.066726e+04</td>\n",
       "    </tr>\n",
       "    <tr>\n",
       "      <td>25%</td>\n",
       "      <td>0.000000</td>\n",
       "      <td>-2747.423625</td>\n",
       "      <td>33.000000</td>\n",
       "      <td>1.000000</td>\n",
       "      <td>0.000000</td>\n",
       "      <td>0.000000</td>\n",
       "      <td>1.030532e+05</td>\n",
       "    </tr>\n",
       "    <tr>\n",
       "      <td>50%</td>\n",
       "      <td>0.000000</td>\n",
       "      <td>-1203.369529</td>\n",
       "      <td>42.000000</td>\n",
       "      <td>1.000000</td>\n",
       "      <td>0.000000</td>\n",
       "      <td>0.000000</td>\n",
       "      <td>1.450179e+05</td>\n",
       "    </tr>\n",
       "    <tr>\n",
       "      <td>75%</td>\n",
       "      <td>1.000000</td>\n",
       "      <td>-291.095954</td>\n",
       "      <td>53.000000</td>\n",
       "      <td>1.000000</td>\n",
       "      <td>1.000000</td>\n",
       "      <td>0.000000</td>\n",
       "      <td>2.034351e+05</td>\n",
       "    </tr>\n",
       "    <tr>\n",
       "      <td>max</td>\n",
       "      <td>20.000000</td>\n",
       "      <td>401755.400475</td>\n",
       "      <td>75.000000</td>\n",
       "      <td>4.000000</td>\n",
       "      <td>4.000000</td>\n",
       "      <td>1.000000</td>\n",
       "      <td>2.265604e+06</td>\n",
       "    </tr>\n",
       "  </tbody>\n",
       "</table>\n",
       "</div>"
      ],
      "text/plain": [
       "           children  days_employed     dob_years  education_id  \\\n",
       "count  21525.000000   19351.000000  21525.000000  21525.000000   \n",
       "mean       0.538908   63046.497661     43.293380      0.817236   \n",
       "std        1.381587  140827.311974     12.574584      0.548138   \n",
       "min       -1.000000  -18388.949901      0.000000      0.000000   \n",
       "25%        0.000000   -2747.423625     33.000000      1.000000   \n",
       "50%        0.000000   -1203.369529     42.000000      1.000000   \n",
       "75%        1.000000    -291.095954     53.000000      1.000000   \n",
       "max       20.000000  401755.400475     75.000000      4.000000   \n",
       "\n",
       "       family_status_id          debt  total_income  \n",
       "count      21525.000000  21525.000000  1.935100e+04  \n",
       "mean           0.972544      0.080883  1.674223e+05  \n",
       "std            1.420324      0.272661  1.029716e+05  \n",
       "min            0.000000      0.000000  2.066726e+04  \n",
       "25%            0.000000      0.000000  1.030532e+05  \n",
       "50%            0.000000      0.000000  1.450179e+05  \n",
       "75%            1.000000      0.000000  2.034351e+05  \n",
       "max            4.000000      1.000000  2.265604e+06  "
      ]
     },
     "execution_count": 3,
     "metadata": {},
     "output_type": "execute_result"
    }
   ],
   "source": [
    "credit.describe()"
   ]
  },
  {
   "cell_type": "markdown",
   "metadata": {},
   "source": [
    "**Conclusion**"
   ]
  },
  {
   "cell_type": "markdown",
   "metadata": {},
   "source": [
    "1. There are following possible errors or incorrect values in the data:\n",
    "    - negative values in **days_employed** and **children** columns;\n",
    "    - abnormal high *positive* values in **days_employed** column: 340266 days of employmet = 1626 year of employment record (having age = 53 years). Absolute value of negative values look realistic;\n",
    "    - there are rows where **days_employed** values in years higher than age in **dob_years**;\n",
    "    - zeros in **dob_years** column;\n",
    "    - different (upper and lower) cases of strings in **education** and **family_status** columns;\n",
    "    - synonymous strings in **purpose**;\n",
    "    - abnormal values in **gender**;\n",
    "    - abnormal values in  **children**: 20 children for 21 years old;\n",
    "3. Data has 21525 row and 12 columns;\n",
    "4. Data has following types: int64 (5 columns), float64 (2 columns) and object (5 colomns);\n",
    "5. Missing values in following columns: **days_employed** and **total_income**;"
   ]
  },
  {
   "cell_type": "markdown",
   "metadata": {},
   "source": [
    "## Data preprocessing"
   ]
  },
  {
   "cell_type": "markdown",
   "metadata": {},
   "source": [
    "### Обработка пропусков, редактирование ошибочных значений"
   ]
  },
  {
   "cell_type": "markdown",
   "metadata": {},
   "source": [
    "- Целью данной главы является обработка пропущенных значений, а также редактирование ошибочных значений, которые сложно представить в реальной жизни;"
   ]
  },
  {
   "cell_type": "markdown",
   "metadata": {},
   "source": [
    "- Начнем с того, что для более удобной работы заменим нулевые значения в столбце с возрастом на объект nan;"
   ]
  },
  {
   "cell_type": "code",
   "execution_count": 4,
   "metadata": {},
   "outputs": [],
   "source": [
    "# нули в столбце dob_years заменяем на np.nan\n",
    "credit['dob_years'] = credit['dob_years'].replace(0, np.nan)"
   ]
  },
  {
   "cell_type": "code",
   "execution_count": 5,
   "metadata": {
    "scrolled": true
   },
   "outputs": [
    {
     "data": {
      "text/plain": [
       "children               0\n",
       "days_employed       2174\n",
       "dob_years            101\n",
       "education              0\n",
       "education_id           0\n",
       "family_status          0\n",
       "family_status_id       0\n",
       "gender                 0\n",
       "income_type            0\n",
       "debt                   0\n",
       "total_income        2174\n",
       "purpose                0\n",
       "dtype: int64"
      ]
     },
     "execution_count": 5,
     "metadata": {},
     "output_type": "execute_result"
    }
   ],
   "source": [
    "# считаем количество NaN в столбцах данных\n",
    "credit.isna().sum()"
   ]
  },
  {
   "cell_type": "markdown",
   "metadata": {},
   "source": [
    "- У нас два столбца с одинковым количеством строк с пропущенных значений: по **2174 пропусков**. Интересно посмотреть, совпадают ли эти строки для двух столбцов;\n",
    "- Но сначала посмотрим, совпадают ли строки с пропусками в столбце возраста (**101 пропуск**) со строками остальных столбцов с пропусками;"
   ]
  },
  {
   "cell_type": "code",
   "execution_count": 6,
   "metadata": {},
   "outputs": [
    {
     "data": {
      "text/html": [
       "<div>\n",
       "<style scoped>\n",
       "    .dataframe tbody tr th:only-of-type {\n",
       "        vertical-align: middle;\n",
       "    }\n",
       "\n",
       "    .dataframe tbody tr th {\n",
       "        vertical-align: top;\n",
       "    }\n",
       "\n",
       "    .dataframe thead th {\n",
       "        text-align: right;\n",
       "    }\n",
       "</style>\n",
       "<table border=\"1\" class=\"dataframe\">\n",
       "  <thead>\n",
       "    <tr style=\"text-align: right;\">\n",
       "      <th></th>\n",
       "      <th>children</th>\n",
       "      <th>days_employed</th>\n",
       "      <th>dob_years</th>\n",
       "      <th>education</th>\n",
       "      <th>education_id</th>\n",
       "      <th>family_status</th>\n",
       "      <th>family_status_id</th>\n",
       "      <th>gender</th>\n",
       "      <th>income_type</th>\n",
       "      <th>debt</th>\n",
       "      <th>total_income</th>\n",
       "      <th>purpose</th>\n",
       "    </tr>\n",
       "  </thead>\n",
       "  <tbody>\n",
       "    <tr>\n",
       "      <td>99</td>\n",
       "      <td>0</td>\n",
       "      <td>346541.618895</td>\n",
       "      <td>NaN</td>\n",
       "      <td>Среднее</td>\n",
       "      <td>1</td>\n",
       "      <td>женат / замужем</td>\n",
       "      <td>0</td>\n",
       "      <td>F</td>\n",
       "      <td>пенсионер</td>\n",
       "      <td>0</td>\n",
       "      <td>71291.522491</td>\n",
       "      <td>автомобиль</td>\n",
       "    </tr>\n",
       "    <tr>\n",
       "      <td>149</td>\n",
       "      <td>0</td>\n",
       "      <td>-2664.273168</td>\n",
       "      <td>NaN</td>\n",
       "      <td>среднее</td>\n",
       "      <td>1</td>\n",
       "      <td>в разводе</td>\n",
       "      <td>3</td>\n",
       "      <td>F</td>\n",
       "      <td>сотрудник</td>\n",
       "      <td>0</td>\n",
       "      <td>70176.435951</td>\n",
       "      <td>операции с жильем</td>\n",
       "    </tr>\n",
       "    <tr>\n",
       "      <td>270</td>\n",
       "      <td>3</td>\n",
       "      <td>-1872.663186</td>\n",
       "      <td>NaN</td>\n",
       "      <td>среднее</td>\n",
       "      <td>1</td>\n",
       "      <td>женат / замужем</td>\n",
       "      <td>0</td>\n",
       "      <td>F</td>\n",
       "      <td>сотрудник</td>\n",
       "      <td>0</td>\n",
       "      <td>102166.458894</td>\n",
       "      <td>ремонт жилью</td>\n",
       "    </tr>\n",
       "    <tr>\n",
       "      <td>578</td>\n",
       "      <td>0</td>\n",
       "      <td>397856.565013</td>\n",
       "      <td>NaN</td>\n",
       "      <td>среднее</td>\n",
       "      <td>1</td>\n",
       "      <td>женат / замужем</td>\n",
       "      <td>0</td>\n",
       "      <td>F</td>\n",
       "      <td>пенсионер</td>\n",
       "      <td>0</td>\n",
       "      <td>97620.687042</td>\n",
       "      <td>строительство собственной недвижимости</td>\n",
       "    </tr>\n",
       "    <tr>\n",
       "      <td>1040</td>\n",
       "      <td>0</td>\n",
       "      <td>-1158.029561</td>\n",
       "      <td>NaN</td>\n",
       "      <td>высшее</td>\n",
       "      <td>0</td>\n",
       "      <td>в разводе</td>\n",
       "      <td>3</td>\n",
       "      <td>F</td>\n",
       "      <td>компаньон</td>\n",
       "      <td>0</td>\n",
       "      <td>303994.134987</td>\n",
       "      <td>свой автомобиль</td>\n",
       "    </tr>\n",
       "    <tr>\n",
       "      <td>1149</td>\n",
       "      <td>0</td>\n",
       "      <td>-934.654854</td>\n",
       "      <td>NaN</td>\n",
       "      <td>среднее</td>\n",
       "      <td>1</td>\n",
       "      <td>женат / замужем</td>\n",
       "      <td>0</td>\n",
       "      <td>F</td>\n",
       "      <td>компаньон</td>\n",
       "      <td>0</td>\n",
       "      <td>201852.430096</td>\n",
       "      <td>покупка недвижимости</td>\n",
       "    </tr>\n",
       "    <tr>\n",
       "      <td>1175</td>\n",
       "      <td>0</td>\n",
       "      <td>370879.508002</td>\n",
       "      <td>NaN</td>\n",
       "      <td>среднее</td>\n",
       "      <td>1</td>\n",
       "      <td>женат / замужем</td>\n",
       "      <td>0</td>\n",
       "      <td>F</td>\n",
       "      <td>пенсионер</td>\n",
       "      <td>0</td>\n",
       "      <td>313949.845188</td>\n",
       "      <td>получение дополнительного образования</td>\n",
       "    </tr>\n",
       "    <tr>\n",
       "      <td>1386</td>\n",
       "      <td>0</td>\n",
       "      <td>-5043.219890</td>\n",
       "      <td>NaN</td>\n",
       "      <td>высшее</td>\n",
       "      <td>0</td>\n",
       "      <td>женат / замужем</td>\n",
       "      <td>0</td>\n",
       "      <td>M</td>\n",
       "      <td>госслужащий</td>\n",
       "      <td>0</td>\n",
       "      <td>240523.618071</td>\n",
       "      <td>сделка с автомобилем</td>\n",
       "    </tr>\n",
       "    <tr>\n",
       "      <td>1890</td>\n",
       "      <td>0</td>\n",
       "      <td>NaN</td>\n",
       "      <td>NaN</td>\n",
       "      <td>высшее</td>\n",
       "      <td>0</td>\n",
       "      <td>Не женат / не замужем</td>\n",
       "      <td>4</td>\n",
       "      <td>F</td>\n",
       "      <td>сотрудник</td>\n",
       "      <td>0</td>\n",
       "      <td>NaN</td>\n",
       "      <td>жилье</td>\n",
       "    </tr>\n",
       "    <tr>\n",
       "      <td>1898</td>\n",
       "      <td>0</td>\n",
       "      <td>370144.537021</td>\n",
       "      <td>NaN</td>\n",
       "      <td>среднее</td>\n",
       "      <td>1</td>\n",
       "      <td>вдовец / вдова</td>\n",
       "      <td>2</td>\n",
       "      <td>F</td>\n",
       "      <td>пенсионер</td>\n",
       "      <td>0</td>\n",
       "      <td>127400.268338</td>\n",
       "      <td>на покупку автомобиля</td>\n",
       "    </tr>\n",
       "  </tbody>\n",
       "</table>\n",
       "</div>"
      ],
      "text/plain": [
       "      children  days_employed  dob_years education  education_id  \\\n",
       "99           0  346541.618895        NaN   Среднее             1   \n",
       "149          0   -2664.273168        NaN   среднее             1   \n",
       "270          3   -1872.663186        NaN   среднее             1   \n",
       "578          0  397856.565013        NaN   среднее             1   \n",
       "1040         0   -1158.029561        NaN    высшее             0   \n",
       "1149         0    -934.654854        NaN   среднее             1   \n",
       "1175         0  370879.508002        NaN   среднее             1   \n",
       "1386         0   -5043.219890        NaN    высшее             0   \n",
       "1890         0            NaN        NaN    высшее             0   \n",
       "1898         0  370144.537021        NaN   среднее             1   \n",
       "\n",
       "              family_status  family_status_id gender  income_type  debt  \\\n",
       "99          женат / замужем                 0      F    пенсионер     0   \n",
       "149               в разводе                 3      F    сотрудник     0   \n",
       "270         женат / замужем                 0      F    сотрудник     0   \n",
       "578         женат / замужем                 0      F    пенсионер     0   \n",
       "1040              в разводе                 3      F    компаньон     0   \n",
       "1149        женат / замужем                 0      F    компаньон     0   \n",
       "1175        женат / замужем                 0      F    пенсионер     0   \n",
       "1386        женат / замужем                 0      M  госслужащий     0   \n",
       "1890  Не женат / не замужем                 4      F    сотрудник     0   \n",
       "1898         вдовец / вдова                 2      F    пенсионер     0   \n",
       "\n",
       "       total_income                                 purpose  \n",
       "99     71291.522491                              автомобиль  \n",
       "149    70176.435951                       операции с жильем  \n",
       "270   102166.458894                            ремонт жилью  \n",
       "578    97620.687042  строительство собственной недвижимости  \n",
       "1040  303994.134987                         свой автомобиль  \n",
       "1149  201852.430096                    покупка недвижимости  \n",
       "1175  313949.845188   получение дополнительного образования  \n",
       "1386  240523.618071                    сделка с автомобилем  \n",
       "1890            NaN                                   жилье  \n",
       "1898  127400.268338                   на покупку автомобиля  "
      ]
     },
     "execution_count": 6,
     "metadata": {},
     "output_type": "execute_result"
    }
   ],
   "source": [
    "# выведем NaN\n",
    "credit[credit['dob_years'].isna()].head(10)"
   ]
  },
  {
   "cell_type": "code",
   "execution_count": 7,
   "metadata": {},
   "outputs": [
    {
     "data": {
      "text/plain": [
       "True"
      ]
     },
     "metadata": {},
     "output_type": "display_data"
    },
    {
     "data": {
      "text/plain": [
       "True"
      ]
     },
     "execution_count": 7,
     "metadata": {},
     "output_type": "execute_result"
    }
   ],
   "source": [
    "# создадим отдельные df для строк с NaN из столбца days_employed и total_income\n",
    "credit_na_days_employed = credit[credit['days_employed'].isna()]\n",
    "credit_na_total_income = credit[credit['total_income'].isna()]\n",
    "\n",
    "# проверка на идентичность датафреймов\n",
    "display(credit_na_days_employed.equals(credit_na_total_income)) # проверяем равенство\n",
    "credit[(credit['days_employed'] == np.nan) \n",
    "       & (credit['total_income'] != np.nan)\n",
    "      ].empty #дополнительная проверка: \n",
    "# пуст ли df с условием, что в одном столбце NaN, а в другом - нет"
   ]
  },
  {
   "cell_type": "markdown",
   "metadata": {},
   "source": [
    "- Таким образом, 101 пропуск в столбце возраста не имеет очевидной связи с пропусками других столбцов;\n",
    "- Строки с пропущенными значениями в столбцах стажа и дохода совпадают. Вероятно есть какая-то взаимосвязь между этими столбцами, но она скорее связана с получением (выгрузкой) или обработкой исходных полученных данных, т.к. нет очевидной логической связи между этими двумя столбцами;"
   ]
  },
  {
   "cell_type": "code",
   "execution_count": 8,
   "metadata": {
    "scrolled": false
   },
   "outputs": [
    {
     "data": {
      "text/html": [
       "<div>\n",
       "<style scoped>\n",
       "    .dataframe tbody tr th:only-of-type {\n",
       "        vertical-align: middle;\n",
       "    }\n",
       "\n",
       "    .dataframe tbody tr th {\n",
       "        vertical-align: top;\n",
       "    }\n",
       "\n",
       "    .dataframe thead th {\n",
       "        text-align: right;\n",
       "    }\n",
       "</style>\n",
       "<table border=\"1\" class=\"dataframe\">\n",
       "  <thead>\n",
       "    <tr style=\"text-align: right;\">\n",
       "      <th></th>\n",
       "      <th>children</th>\n",
       "      <th>days_employed</th>\n",
       "      <th>dob_years</th>\n",
       "      <th>education</th>\n",
       "      <th>education_id</th>\n",
       "      <th>family_status</th>\n",
       "      <th>family_status_id</th>\n",
       "      <th>gender</th>\n",
       "      <th>income_type</th>\n",
       "      <th>debt</th>\n",
       "      <th>total_income</th>\n",
       "      <th>purpose</th>\n",
       "    </tr>\n",
       "  </thead>\n",
       "  <tbody>\n",
       "    <tr>\n",
       "      <td>12</td>\n",
       "      <td>0</td>\n",
       "      <td>NaN</td>\n",
       "      <td>65.0</td>\n",
       "      <td>среднее</td>\n",
       "      <td>1</td>\n",
       "      <td>гражданский брак</td>\n",
       "      <td>1</td>\n",
       "      <td>M</td>\n",
       "      <td>пенсионер</td>\n",
       "      <td>0</td>\n",
       "      <td>NaN</td>\n",
       "      <td>сыграть свадьбу</td>\n",
       "    </tr>\n",
       "    <tr>\n",
       "      <td>26</td>\n",
       "      <td>0</td>\n",
       "      <td>NaN</td>\n",
       "      <td>41.0</td>\n",
       "      <td>среднее</td>\n",
       "      <td>1</td>\n",
       "      <td>женат / замужем</td>\n",
       "      <td>0</td>\n",
       "      <td>M</td>\n",
       "      <td>госслужащий</td>\n",
       "      <td>0</td>\n",
       "      <td>NaN</td>\n",
       "      <td>образование</td>\n",
       "    </tr>\n",
       "    <tr>\n",
       "      <td>29</td>\n",
       "      <td>0</td>\n",
       "      <td>NaN</td>\n",
       "      <td>63.0</td>\n",
       "      <td>среднее</td>\n",
       "      <td>1</td>\n",
       "      <td>Не женат / не замужем</td>\n",
       "      <td>4</td>\n",
       "      <td>F</td>\n",
       "      <td>пенсионер</td>\n",
       "      <td>0</td>\n",
       "      <td>NaN</td>\n",
       "      <td>строительство жилой недвижимости</td>\n",
       "    </tr>\n",
       "    <tr>\n",
       "      <td>41</td>\n",
       "      <td>0</td>\n",
       "      <td>NaN</td>\n",
       "      <td>50.0</td>\n",
       "      <td>среднее</td>\n",
       "      <td>1</td>\n",
       "      <td>женат / замужем</td>\n",
       "      <td>0</td>\n",
       "      <td>F</td>\n",
       "      <td>госслужащий</td>\n",
       "      <td>0</td>\n",
       "      <td>NaN</td>\n",
       "      <td>сделка с подержанным автомобилем</td>\n",
       "    </tr>\n",
       "    <tr>\n",
       "      <td>55</td>\n",
       "      <td>0</td>\n",
       "      <td>NaN</td>\n",
       "      <td>54.0</td>\n",
       "      <td>среднее</td>\n",
       "      <td>1</td>\n",
       "      <td>гражданский брак</td>\n",
       "      <td>1</td>\n",
       "      <td>F</td>\n",
       "      <td>пенсионер</td>\n",
       "      <td>1</td>\n",
       "      <td>NaN</td>\n",
       "      <td>сыграть свадьбу</td>\n",
       "    </tr>\n",
       "    <tr>\n",
       "      <td>65</td>\n",
       "      <td>0</td>\n",
       "      <td>NaN</td>\n",
       "      <td>21.0</td>\n",
       "      <td>среднее</td>\n",
       "      <td>1</td>\n",
       "      <td>Не женат / не замужем</td>\n",
       "      <td>4</td>\n",
       "      <td>M</td>\n",
       "      <td>компаньон</td>\n",
       "      <td>0</td>\n",
       "      <td>NaN</td>\n",
       "      <td>операции с коммерческой недвижимостью</td>\n",
       "    </tr>\n",
       "    <tr>\n",
       "      <td>67</td>\n",
       "      <td>0</td>\n",
       "      <td>NaN</td>\n",
       "      <td>52.0</td>\n",
       "      <td>высшее</td>\n",
       "      <td>0</td>\n",
       "      <td>женат / замужем</td>\n",
       "      <td>0</td>\n",
       "      <td>F</td>\n",
       "      <td>пенсионер</td>\n",
       "      <td>0</td>\n",
       "      <td>NaN</td>\n",
       "      <td>покупка жилья для семьи</td>\n",
       "    </tr>\n",
       "    <tr>\n",
       "      <td>72</td>\n",
       "      <td>1</td>\n",
       "      <td>NaN</td>\n",
       "      <td>32.0</td>\n",
       "      <td>высшее</td>\n",
       "      <td>0</td>\n",
       "      <td>женат / замужем</td>\n",
       "      <td>0</td>\n",
       "      <td>M</td>\n",
       "      <td>госслужащий</td>\n",
       "      <td>0</td>\n",
       "      <td>NaN</td>\n",
       "      <td>операции с коммерческой недвижимостью</td>\n",
       "    </tr>\n",
       "    <tr>\n",
       "      <td>82</td>\n",
       "      <td>2</td>\n",
       "      <td>NaN</td>\n",
       "      <td>50.0</td>\n",
       "      <td>высшее</td>\n",
       "      <td>0</td>\n",
       "      <td>женат / замужем</td>\n",
       "      <td>0</td>\n",
       "      <td>F</td>\n",
       "      <td>сотрудник</td>\n",
       "      <td>0</td>\n",
       "      <td>NaN</td>\n",
       "      <td>жилье</td>\n",
       "    </tr>\n",
       "    <tr>\n",
       "      <td>83</td>\n",
       "      <td>0</td>\n",
       "      <td>NaN</td>\n",
       "      <td>52.0</td>\n",
       "      <td>среднее</td>\n",
       "      <td>1</td>\n",
       "      <td>женат / замужем</td>\n",
       "      <td>0</td>\n",
       "      <td>M</td>\n",
       "      <td>сотрудник</td>\n",
       "      <td>0</td>\n",
       "      <td>NaN</td>\n",
       "      <td>жилье</td>\n",
       "    </tr>\n",
       "  </tbody>\n",
       "</table>\n",
       "</div>"
      ],
      "text/plain": [
       "    children  days_employed  dob_years education  education_id  \\\n",
       "12         0            NaN       65.0   среднее             1   \n",
       "26         0            NaN       41.0   среднее             1   \n",
       "29         0            NaN       63.0   среднее             1   \n",
       "41         0            NaN       50.0   среднее             1   \n",
       "55         0            NaN       54.0   среднее             1   \n",
       "65         0            NaN       21.0   среднее             1   \n",
       "67         0            NaN       52.0    высшее             0   \n",
       "72         1            NaN       32.0    высшее             0   \n",
       "82         2            NaN       50.0    высшее             0   \n",
       "83         0            NaN       52.0   среднее             1   \n",
       "\n",
       "            family_status  family_status_id gender  income_type  debt  \\\n",
       "12       гражданский брак                 1      M    пенсионер     0   \n",
       "26        женат / замужем                 0      M  госслужащий     0   \n",
       "29  Не женат / не замужем                 4      F    пенсионер     0   \n",
       "41        женат / замужем                 0      F  госслужащий     0   \n",
       "55       гражданский брак                 1      F    пенсионер     1   \n",
       "65  Не женат / не замужем                 4      M    компаньон     0   \n",
       "67        женат / замужем                 0      F    пенсионер     0   \n",
       "72        женат / замужем                 0      M  госслужащий     0   \n",
       "82        женат / замужем                 0      F    сотрудник     0   \n",
       "83        женат / замужем                 0      M    сотрудник     0   \n",
       "\n",
       "    total_income                                purpose  \n",
       "12           NaN                        сыграть свадьбу  \n",
       "26           NaN                            образование  \n",
       "29           NaN       строительство жилой недвижимости  \n",
       "41           NaN       сделка с подержанным автомобилем  \n",
       "55           NaN                        сыграть свадьбу  \n",
       "65           NaN  операции с коммерческой недвижимостью  \n",
       "67           NaN                покупка жилья для семьи  \n",
       "72           NaN  операции с коммерческой недвижимостью  \n",
       "82           NaN                                  жилье  \n",
       "83           NaN                                  жилье  "
      ]
     },
     "execution_count": 8,
     "metadata": {},
     "output_type": "execute_result"
    }
   ],
   "source": [
    "# выведем сегмент датафрейма с NaN\n",
    "credit_na_total_income.head(10)"
   ]
  },
  {
   "cell_type": "markdown",
   "metadata": {},
   "source": [
    "- Пропуски данных видятся **полностью случайными**, т.к. нет очевидной зависимости вероятности встретить данные пропуски от других данных. Вероятно, среди столбцов стажа и дохода один из них зависит от другого (доход пересчитывается из стажа?), но с имеющейся информацией сложно делать такие выводы;\n",
    "- Пропущенными данными во всех столбцах - **количественные**;\n",
    "- Строки с пропущенными данными в столбце возраста составляют < 1% от общего объема данных, заменим эти значения на среднее значение возраста;  \n",
    "- Строки с пропущенными данными в столбцах стажа и дохода представляют собой ~ 10% данных, поэтому просто убирать их нецелесообразно по причине потери довольно большой части данных;\n",
    "- Данные по стажу и доходу вряд ли получится получить из других источников, предположить их, следуя опыту или знаниям области не представляется возможным;\n",
    "- Возможным вариантом может быть построение линейной регрессии *стаж* vs *доход* по имеющимся данным и заполнить пропуски, следуя полученному уравнению регрессии. Вероятно, нужно построить такую регрессию для разных типов занятости для более точного учета дохода и стажа, что займет довольно много времени, при этом нет гарантий, что мы получим хорошую корреляцию;\n",
    "- Учитывая вшесказанное и ограниченное количество времени, **оптимальная стратегия** для обработки пропущенных значений в нашем случае - **замена на характерное значение выборки**: среднее или медиану. К тому же пропуски вероятно полностью случайные, поэтому выбранная стратегия не должна координально поменять основные статистические параметры выборки;"
   ]
  },
  {
   "cell_type": "markdown",
   "metadata": {},
   "source": [
    "- Заменяем пропуски столбца возраста на среднее значение имеющихся данных;\n",
    "- Посмотрим диапазоны значений стажа и дохода для определения более подходящего параметра для замены пропущенных значений: среднее или медиана;\n",
    "- Сначала нужно избавиться от отрицательных чисел в столбце стажа. Вероятно, минус был случайно добавлен в часть данных, потому что по модулю отрицательные значения выглядят адекватно;\n",
    "- Также нужно разобраться с тем фактом, что по модулю именно отрицательные числа выглядят адекватно, в то время как положительные выглядят неправдоподобно. Нереальные завышенные положительные значения к тому же будут сильно влиять на среднее, если мы выберем среднее в качестве замены пропущенным значениям;"
   ]
  },
  {
   "cell_type": "code",
   "execution_count": 9,
   "metadata": {},
   "outputs": [
    {
     "data": {
      "text/plain": [
       "children               0\n",
       "days_employed       2174\n",
       "dob_years              0\n",
       "education              0\n",
       "education_id           0\n",
       "family_status          0\n",
       "family_status_id       0\n",
       "gender                 0\n",
       "income_type            0\n",
       "debt                   0\n",
       "total_income        2174\n",
       "purpose                0\n",
       "dtype: int64"
      ]
     },
     "execution_count": 9,
     "metadata": {},
     "output_type": "execute_result"
    }
   ],
   "source": [
    "# считаем среднее значение dob_years\n",
    "mean_age = credit['dob_years'].mean()\n",
    "\n",
    "# заполняем NaN столбца dob_years на среднее значение\n",
    "credit['dob_years'].fillna(mean_age, inplace=True)\n",
    "\n",
    "# проверяем результаты\n",
    "credit.isna().sum()"
   ]
  },
  {
   "cell_type": "code",
   "execution_count": 10,
   "metadata": {
    "scrolled": false
   },
   "outputs": [
    {
     "name": "stdout",
     "output_type": "stream",
     "text": [
      "Общее количество проблемных значений: 16.00%\n"
     ]
    }
   ],
   "source": [
    "# считаем количество положительных значений в столбце days_employed и их долю во всем датасете\n",
    "print('Общее количество проблемных значений: {:.2%}'.format(credit[credit['days_employed'] > 0]['days_employed'].count()/len(credit)))"
   ]
  },
  {
   "cell_type": "code",
   "execution_count": 11,
   "metadata": {},
   "outputs": [
    {
     "name": "stdout",
     "output_type": "stream",
     "text": [
      "Для положительных значений:\n"
     ]
    },
    {
     "data": {
      "text/plain": [
       "income_type\n",
       "безработный       2\n",
       "пенсионер      3443\n",
       "Name: income_type, dtype: int64"
      ]
     },
     "metadata": {},
     "output_type": "display_data"
    },
    {
     "name": "stdout",
     "output_type": "stream",
     "text": [
      "Для всех значений:\n",
      "безработный:  2\n",
      "пенсионер:  3443\n"
     ]
    }
   ],
   "source": [
    "# сгруппируем по income_type тех, у кого days_employed > 0, и посчитаем их количество\n",
    "print('Для положительных значений:')\n",
    "display(credit[credit.days_employed > 0].groupby('income_type')['income_type'].count())\n",
    "\n",
    "# посчитаем общее количество пенсионеров и безработных по столбцу days_employed\n",
    "print('Для всех значений:')\n",
    "print('безработный: ', credit[credit.income_type == 'безработный']['days_employed'].count())\n",
    "print('пенсионер: ', credit[credit.income_type == 'пенсионер']['days_employed'].count())"
   ]
  },
  {
   "cell_type": "markdown",
   "metadata": {},
   "source": [
    "- Общее количество проблемных завышенных значений столбца со стажем от объема всего датасета ~ 16%, что довольно много для простого удаления строк с данными значениями;\n",
    "- Положительные завышенные значения столбца со стажем встречаются для *пенсионеров* и *безработных* по типу занятости;\n",
    "- Похоже, что положительные завышенные значения стажа - это стаж не в днях, а в **часах**: при делении положительных значений  на 24 получается диапазон от 13 000 до 16 000 дней стажа, что хорошо согласуется с максимумом данных с адекватным значению по модулю - 18 000 дней, если учесть, что практически все строки интервала 13 000 - 16 000 имеют тип занятости пенсионер, то данные значения выглядят вполне приемлемыми;\n",
    "- Данные по пенсионерам и безработным скорее всего заполняются немного иным алгоритмом, нежели данные по остальным: для пенсионеров и безработных ошибочно считаются **часы стажа**, а не дни, а для остальных стаж в днях ошибочно **умножается на -1**;\n",
    "- Таким образом, решение проблемных значений (пока не включая пропуски) столбца со стажем: **положительные значения** делим на 24 (переводим из часов в дни), берем модуль **отрицательных значений**;"
   ]
  },
  {
   "cell_type": "code",
   "execution_count": 12,
   "metadata": {},
   "outputs": [
    {
     "data": {
      "text/plain": [
       "count    19351.000000\n",
       "mean      4641.641176\n",
       "std       5355.964289\n",
       "min         24.141633\n",
       "25%        927.009265\n",
       "50%       2194.220567\n",
       "75%       5537.882441\n",
       "max      18388.949901\n",
       "Name: days_employed, dtype: float64"
      ]
     },
     "execution_count": 12,
     "metadata": {},
     "output_type": "execute_result"
    }
   ],
   "source": [
    "# пишем функцию для редактирования столбца days_employed\n",
    "def days_employed_editing(days):\n",
    "    \"\"\"\n",
    "    редактирует столбец days_employed\n",
    "    \n",
    "    params: \n",
    "    - days - значение столбца days_employed для каждой строки\n",
    "    \n",
    "    returns:\n",
    "    - при days > 0 возвращает результат деления days на 24 (переводим из часов в дни) \n",
    "    - при days < 0 возвращает модуль days\n",
    "    - при days = 0 возвращает days\n",
    "    \"\"\"\n",
    "    if days > 0:\n",
    "        return days/24\n",
    "    elif days < 0:\n",
    "        return abs(days)\n",
    "    else:\n",
    "        return days\n",
    "\n",
    "# редактируем столбец days_employed и проверим результаты\n",
    "credit['days_employed'] = credit['days_employed'].apply(days_employed_editing)\n",
    "credit['days_employed'].describe()"
   ]
  },
  {
   "cell_type": "code",
   "execution_count": 13,
   "metadata": {},
   "outputs": [
    {
     "data": {
      "text/html": [
       "<div>\n",
       "<style scoped>\n",
       "    .dataframe tbody tr th:only-of-type {\n",
       "        vertical-align: middle;\n",
       "    }\n",
       "\n",
       "    .dataframe tbody tr th {\n",
       "        vertical-align: top;\n",
       "    }\n",
       "\n",
       "    .dataframe thead th {\n",
       "        text-align: right;\n",
       "    }\n",
       "</style>\n",
       "<table border=\"1\" class=\"dataframe\">\n",
       "  <thead>\n",
       "    <tr style=\"text-align: right;\">\n",
       "      <th></th>\n",
       "      <th>days_employed</th>\n",
       "      <th>total_income</th>\n",
       "    </tr>\n",
       "  </thead>\n",
       "  <tbody>\n",
       "    <tr>\n",
       "      <td>count</td>\n",
       "      <td>19351.000000</td>\n",
       "      <td>1.935100e+04</td>\n",
       "    </tr>\n",
       "    <tr>\n",
       "      <td>mean</td>\n",
       "      <td>4641.641176</td>\n",
       "      <td>1.674223e+05</td>\n",
       "    </tr>\n",
       "    <tr>\n",
       "      <td>std</td>\n",
       "      <td>5355.964289</td>\n",
       "      <td>1.029716e+05</td>\n",
       "    </tr>\n",
       "    <tr>\n",
       "      <td>min</td>\n",
       "      <td>24.141633</td>\n",
       "      <td>2.066726e+04</td>\n",
       "    </tr>\n",
       "    <tr>\n",
       "      <td>25%</td>\n",
       "      <td>927.009265</td>\n",
       "      <td>1.030532e+05</td>\n",
       "    </tr>\n",
       "    <tr>\n",
       "      <td>50%</td>\n",
       "      <td>2194.220567</td>\n",
       "      <td>1.450179e+05</td>\n",
       "    </tr>\n",
       "    <tr>\n",
       "      <td>75%</td>\n",
       "      <td>5537.882441</td>\n",
       "      <td>2.034351e+05</td>\n",
       "    </tr>\n",
       "    <tr>\n",
       "      <td>max</td>\n",
       "      <td>18388.949901</td>\n",
       "      <td>2.265604e+06</td>\n",
       "    </tr>\n",
       "  </tbody>\n",
       "</table>\n",
       "</div>"
      ],
      "text/plain": [
       "       days_employed  total_income\n",
       "count   19351.000000  1.935100e+04\n",
       "mean     4641.641176  1.674223e+05\n",
       "std      5355.964289  1.029716e+05\n",
       "min        24.141633  2.066726e+04\n",
       "25%       927.009265  1.030532e+05\n",
       "50%      2194.220567  1.450179e+05\n",
       "75%      5537.882441  2.034351e+05\n",
       "max     18388.949901  2.265604e+06"
      ]
     },
     "execution_count": 13,
     "metadata": {},
     "output_type": "execute_result"
    }
   ],
   "source": [
    "# выведем диапазоны значений для столбцов с NaN: days_employed и total_income\n",
    "credit[['days_employed', 'total_income']].describe()"
   ]
  },
  {
   "cell_type": "markdown",
   "metadata": {},
   "source": [
    "- Проблемные значения в столбцах со стажем обработаны;\n",
    "- Теперь можно вернуться к заполнению пропусков в столбцах со стажем и доходом;\n",
    "- Исходя из разброса значений (3 порядка для стажа и 2 порядка для дохода), целесообразнее использовать медиану в качестве замены пропусков;\n",
    "- В обоих столбцах пропущено примерно по 10% данных. Это слишком большая доля, чтобы адекватно заполнить ее единственным характерным значением — мы наверняка исказим распределение. В таком случае лучше взять несколько характерных значений по группам - значениям столбца типа занятости;"
   ]
  },
  {
   "cell_type": "code",
   "execution_count": 14,
   "metadata": {},
   "outputs": [
    {
     "data": {
      "text/plain": [
       "children               0\n",
       "days_employed       2174\n",
       "dob_years              0\n",
       "education              0\n",
       "education_id           0\n",
       "family_status          0\n",
       "family_status_id       0\n",
       "gender                 0\n",
       "income_type            0\n",
       "debt                   0\n",
       "total_income           0\n",
       "purpose                0\n",
       "dtype: int64"
      ]
     },
     "metadata": {},
     "output_type": "display_data"
    },
    {
     "name": "stdout",
     "output_type": "stream",
     "text": [
      "Медиана значений столбца total_income ДО: 145017.94\n",
      "Медиана значений столбца total_income ПОСЛЕ: 142594.40\n"
     ]
    }
   ],
   "source": [
    "# извлекаем значения столбца income_type, для которых total_income = NaN\n",
    "total_income_nan_groups = credit[credit['total_income'].isna()]['income_type'].value_counts().index\n",
    "total_icnome_original_median = credit['total_income'].median()\n",
    "\n",
    "# итерируем по значениям total_income_nan_groups:\n",
    "for i in total_income_nan_groups:\n",
    "    # считаем медиану по total_income для каждой группы столбца income_type\n",
    "    group_median = credit[credit['income_type'] == i]['total_income'].median()\n",
    "    # выбираем строки с NaN в столбце total_income с определенным значением income_type и заменяем NaN на соответствующую медиану\n",
    "    credit.loc[(credit['total_income'].isna()) & \n",
    "               (credit['income_type'] == i), \n",
    "               'total_income'] = group_median\n",
    "\n",
    "# проверим результаты\n",
    "display(credit.isna().sum())\n",
    "print('Медиана значений столбца total_income ДО: {:.2f}'.format(total_icnome_original_median))\n",
    "print('Медиана значений столбца total_income ПОСЛЕ: {:.2f}'.format(credit['total_income'].median()))"
   ]
  },
  {
   "cell_type": "code",
   "execution_count": 15,
   "metadata": {},
   "outputs": [
    {
     "data": {
      "text/plain": [
       "children            0\n",
       "days_employed       0\n",
       "dob_years           0\n",
       "education           0\n",
       "education_id        0\n",
       "family_status       0\n",
       "family_status_id    0\n",
       "gender              0\n",
       "income_type         0\n",
       "debt                0\n",
       "total_income        0\n",
       "purpose             0\n",
       "dtype: int64"
      ]
     },
     "metadata": {},
     "output_type": "display_data"
    }
   ],
   "source": [
    "# извлекаем значения столбца income_type, для которых days_employed = NaN\n",
    "days_employed_nan_groups = credit[credit['days_employed'].isna()]['income_type'].value_counts().index\n",
    "\n",
    "# итерируем по значениям days_employed_nan_groups:\n",
    "for i in days_employed_nan_groups:\n",
    "    # считаем медиану по days_employed для каждой группы столбца income_type\n",
    "    group_median = credit[credit['income_type'] == i]['days_employed'].median()\n",
    "    # выбираем строки с NaN в столбце days_employed с определенным значением income_type и заменяем NaN на соответствующую медиану\n",
    "    credit.loc[(credit['days_employed'].isna()) & \n",
    "               (credit['income_type'] == i), \n",
    "               'days_employed'] = group_median\n",
    "\n",
    "# проверим результаты\n",
    "display(credit.isna().sum())"
   ]
  },
  {
   "cell_type": "markdown",
   "metadata": {},
   "source": [
    "- Замена пропущенных значений завершена;\n",
    "- Были встречены строки, где стаж превышает возраст, исследуем данную проблему, присвоив строкам категорию в зависимости от того, превышает ли стаж максимальный стаж. Установим максимальный стаж не 16 лет, а 14 лет, т.к. большая часть людей - пенсионеры, и, если мы рассматриваем Россию, то пенсионеры начинали свою трудовую деятельность еще в СССР, где разрешалось работать с 14 лет;\n",
    "- Для пересчета дней стажа в года используем 365 дней;"
   ]
  },
  {
   "cell_type": "code",
   "execution_count": 16,
   "metadata": {},
   "outputs": [
    {
     "data": {
      "text/plain": [
       "реальный      20514\n",
       "нереальный     1011\n",
       "Name: experience_flag, dtype: int64"
      ]
     },
     "metadata": {},
     "output_type": "display_data"
    },
    {
     "name": "stdout",
     "output_type": "stream",
     "text": [
      "Доля строк с категорией стажа \"нереальный\": 4.70%\n"
     ]
    }
   ],
   "source": [
    "# пересчитываем дни в года и записываем значения в новый столбец years_employed\n",
    "credit['years_employed'] = credit['days_employed']/365\n",
    "\n",
    "# пишем функцию для присвоения строке категории стажа\n",
    "def experience_flag(row):\n",
    "    \"\"\"\n",
    "    присваивает категорию, в зависимости от соотношения стажа и максимального стажа\n",
    "    \n",
    "    params:\n",
    "    - row - строка датафрейма\n",
    "    \n",
    "    returns:\n",
    "    - строку 'нереальный', если стаж больше максимального стажа\n",
    "    - строку 'реальный', если стаж меньши или равен максимальному стажу\n",
    "    \"\"\"\n",
    "    experience = row['years_employed']\n",
    "    age = row['dob_years']\n",
    "    max_experience = age - 14\n",
    "    if experience > max_experience:\n",
    "        return 'нереальный'\n",
    "    else:\n",
    "        return 'реальный'\n",
    "\n",
    "# расставим категории стажа и выведем количество строк в категории нереальный\n",
    "credit['experience_flag'] = credit.apply(experience_flag, axis=1)\n",
    "display(credit['experience_flag'].value_counts())\n",
    "\n",
    "# посчитаем процент строк из категории нереальный от общего числа\n",
    "print('Доля строк с категорией стажа \"нереальный\": {:.2%}'.format(credit[credit['experience_flag'] == 'нереальный']['experience_flag'].count()/credit.shape[0]))"
   ]
  },
  {
   "cell_type": "markdown",
   "metadata": {},
   "source": [
    "- Сложно придумать, как можно исправить строки, где стаж привышает максимальный стаж. С учетом того, что таких строк всего 4%, принимается решение об их удалении из датасета;"
   ]
  },
  {
   "cell_type": "code",
   "execution_count": 17,
   "metadata": {},
   "outputs": [
    {
     "name": "stdout",
     "output_type": "stream",
     "text": [
      "Строк с категорией стажа \"нереальный\" ДО:  1011\n",
      "Строк с категорией стажа \"нереальный\" ПОСЛЕ:  0\n",
      "Количество строк датасета: 20514\n"
     ]
    }
   ],
   "source": [
    "# убираем строки с категорией стажа нереальный\n",
    "print('Строк с категорией стажа \"нереальный\" ДО: ', credit[credit['experience_flag'] == 'нереальный']['experience_flag'].count())\n",
    "credit.drop(credit[credit['experience_flag'] == 'нереальный'].index, inplace=True)\n",
    "print('Строк с категорией стажа \"нереальный\" ПОСЛЕ: ', credit[credit['experience_flag'] == 'нереальный']['experience_flag'].count())\n",
    "print(f'Количество строк датасета: {credit.shape[0]}')"
   ]
  },
  {
   "cell_type": "markdown",
   "metadata": {},
   "source": [
    "- С данными по нереальному стажу разобрались;\n",
    "- Далее обработаем отрицательные значения в столбце количество детей (children);"
   ]
  },
  {
   "cell_type": "code",
   "execution_count": 18,
   "metadata": {
    "scrolled": true
   },
   "outputs": [
    {
     "data": {
      "text/plain": [
       "count    20514.000000\n",
       "mean         0.559520\n",
       "std          1.387484\n",
       "min          0.000000\n",
       "25%          0.000000\n",
       "50%          0.000000\n",
       "75%          1.000000\n",
       "max         20.000000\n",
       "Name: children, dtype: float64"
      ]
     },
     "execution_count": 18,
     "metadata": {},
     "output_type": "execute_result"
    }
   ],
   "source": [
    "# заменим отрицательные значения в столбце children и проверим результат\n",
    "credit['children'] = credit['children'].apply(abs)\n",
    "credit['children'].describe()"
   ]
  },
  {
   "cell_type": "markdown",
   "metadata": {},
   "source": [
    "- Существует также данные, где у клиентов есть по 20 детей;\n",
    "- Для женщины родить 20 детей - физиологически архисложная задача, но у нас нет информации, влючены ли сюда приемные дети, поэтому теоретически такая ситуация может быть;\n",
    "- Другой момент: у нас данные по количеству детей идут по порядку от 0 до 5 и затем сразу 20, без промежуточных значений, что довольно сложно представить в рамках такого случайного события, как обращения людей за кредитом;\n",
    "- Строк, где количество детей равно 20, не так уж и много, поэтому можно просто выкинуть их все из датасета;"
   ]
  },
  {
   "cell_type": "code",
   "execution_count": 19,
   "metadata": {
    "scrolled": true
   },
   "outputs": [
    {
     "name": "stdout",
     "output_type": "stream",
     "text": [
      "Доля строк количество детей равным 20: 0.36%\n"
     ]
    }
   ],
   "source": [
    "# выведем долю строк с количеством детей = 20\n",
    "print('Доля строк количество детей равным 20: {:.2%}'.format(credit[credit['children'] == 20]['children'].count()/credit.shape[0]))"
   ]
  },
  {
   "cell_type": "code",
   "execution_count": 20,
   "metadata": {},
   "outputs": [
    {
     "name": "stdout",
     "output_type": "stream",
     "text": [
      "Количество проблемных значений:  73\n",
      "Строк, включая проблемными значениями:  20514\n",
      "Строк без проблемных значений:  20441\n"
     ]
    }
   ],
   "source": [
    "# удаляем строки, где children = 20\n",
    "print('Количество проблемных значений: ', credit[credit['children'] == 20]['children'].count())\n",
    "print('Строк, включая проблемными значениями: ', credit['children'].count())\n",
    "credit.drop(credit[credit['children'] == 20].index, inplace=True)\n",
    "print('Строк без проблемных значений: ', credit['children'].count())"
   ]
  },
  {
   "cell_type": "code",
   "execution_count": 21,
   "metadata": {},
   "outputs": [
    {
     "data": {
      "text/plain": [
       "F      13364\n",
       "M       7076\n",
       "XNA        1\n",
       "Name: gender, dtype: int64"
      ]
     },
     "metadata": {},
     "output_type": "display_data"
    },
    {
     "name": "stdout",
     "output_type": "stream",
     "text": [
      "(20441, 14)\n",
      "(20440, 14)\n"
     ]
    }
   ],
   "source": [
    "# выводим значения столбца gender\n",
    "display(credit.gender.value_counts())\n",
    "\n",
    "# удаляем проблемные значения столбца gender\n",
    "print(credit.shape)\n",
    "credit.drop(credit[credit['gender'] == 'XNA'].index, inplace=True)\n",
    "print(credit.shape)"
   ]
  },
  {
   "cell_type": "markdown",
   "metadata": {},
   "source": [
    "**Выводы**"
   ]
  },
  {
   "cell_type": "markdown",
   "metadata": {},
   "source": [
    "1. Проблемные значения исправлены в столбцах **days_employed**, **children** и **income_type**;\n",
    "2. Пропущенные значения найдены и обработаны в столбцах **days_employed**, **dob_years** и **total_income**;\n",
    "3. Во всех столбцах пропуски являются **количественными**;\n",
    "4. Пропуски в столбце **dob_years** были обработаны удалением строк с этими пропусками, т.к. доля таких строк составляет < 1% от всех данных;\n",
    "5. Пропуски в столбцах **days_employed** и **total_income** были обработаны заменой медианой имеющехся данных столбцов, т.к. доля строк с пропусками в этих столбцах составляет ~ 10% от всех данных, что много для обычного удаления, медиана выбрана по причине довольно большого разброса значений данных столбцов (3 и 2 порядка соответственно);"
   ]
  },
  {
   "cell_type": "markdown",
   "metadata": {},
   "source": [
    "### Замена типа данных"
   ]
  },
  {
   "cell_type": "markdown",
   "metadata": {},
   "source": [
    "- Все данные вещественного типа (дни, года, доход) обычно представлены в целочисленном виде, поэтому целью данной главы является преобразование числовых данных из вещественного в целочисленный тип;"
   ]
  },
  {
   "cell_type": "code",
   "execution_count": 22,
   "metadata": {},
   "outputs": [
    {
     "name": "stdout",
     "output_type": "stream",
     "text": [
      "<class 'pandas.core.frame.DataFrame'>\n",
      "Int64Index: 20440 entries, 0 to 21524\n",
      "Data columns (total 15 columns):\n",
      "children            20440 non-null int64\n",
      "days_employed       20440 non-null int64\n",
      "dob_years           20440 non-null int64\n",
      "education           20440 non-null object\n",
      "education_id        20440 non-null int64\n",
      "family_status       20440 non-null object\n",
      "family_status_id    20440 non-null int64\n",
      "gender              20440 non-null object\n",
      "income_type         20440 non-null object\n",
      "debt                20440 non-null int64\n",
      "total_income        20440 non-null int64\n",
      "purpose             20440 non-null object\n",
      "years_employed      20440 non-null float64\n",
      "experience_flag     20440 non-null object\n",
      "с                   20440 non-null int64\n",
      "dtypes: float64(1), int64(8), object(6)\n",
      "memory usage: 2.5+ MB\n"
     ]
    },
    {
     "data": {
      "text/html": [
       "<div>\n",
       "<style scoped>\n",
       "    .dataframe tbody tr th:only-of-type {\n",
       "        vertical-align: middle;\n",
       "    }\n",
       "\n",
       "    .dataframe tbody tr th {\n",
       "        vertical-align: top;\n",
       "    }\n",
       "\n",
       "    .dataframe thead th {\n",
       "        text-align: right;\n",
       "    }\n",
       "</style>\n",
       "<table border=\"1\" class=\"dataframe\">\n",
       "  <thead>\n",
       "    <tr style=\"text-align: right;\">\n",
       "      <th></th>\n",
       "      <th>children</th>\n",
       "      <th>days_employed</th>\n",
       "      <th>dob_years</th>\n",
       "      <th>education</th>\n",
       "      <th>education_id</th>\n",
       "      <th>family_status</th>\n",
       "      <th>family_status_id</th>\n",
       "      <th>gender</th>\n",
       "      <th>income_type</th>\n",
       "      <th>debt</th>\n",
       "      <th>total_income</th>\n",
       "      <th>purpose</th>\n",
       "      <th>years_employed</th>\n",
       "      <th>experience_flag</th>\n",
       "      <th>с</th>\n",
       "    </tr>\n",
       "  </thead>\n",
       "  <tbody>\n",
       "    <tr>\n",
       "      <td>0</td>\n",
       "      <td>1</td>\n",
       "      <td>8437</td>\n",
       "      <td>42</td>\n",
       "      <td>высшее</td>\n",
       "      <td>0</td>\n",
       "      <td>женат / замужем</td>\n",
       "      <td>0</td>\n",
       "      <td>F</td>\n",
       "      <td>сотрудник</td>\n",
       "      <td>0</td>\n",
       "      <td>253875</td>\n",
       "      <td>покупка жилья</td>\n",
       "      <td>23.116912</td>\n",
       "      <td>реальный</td>\n",
       "      <td>23</td>\n",
       "    </tr>\n",
       "    <tr>\n",
       "      <td>1</td>\n",
       "      <td>1</td>\n",
       "      <td>4024</td>\n",
       "      <td>36</td>\n",
       "      <td>среднее</td>\n",
       "      <td>1</td>\n",
       "      <td>женат / замужем</td>\n",
       "      <td>0</td>\n",
       "      <td>F</td>\n",
       "      <td>сотрудник</td>\n",
       "      <td>0</td>\n",
       "      <td>112080</td>\n",
       "      <td>приобретение автомобиля</td>\n",
       "      <td>11.026860</td>\n",
       "      <td>реальный</td>\n",
       "      <td>11</td>\n",
       "    </tr>\n",
       "    <tr>\n",
       "      <td>2</td>\n",
       "      <td>0</td>\n",
       "      <td>5623</td>\n",
       "      <td>33</td>\n",
       "      <td>Среднее</td>\n",
       "      <td>1</td>\n",
       "      <td>женат / замужем</td>\n",
       "      <td>0</td>\n",
       "      <td>M</td>\n",
       "      <td>сотрудник</td>\n",
       "      <td>0</td>\n",
       "      <td>145885</td>\n",
       "      <td>покупка жилья</td>\n",
       "      <td>15.406637</td>\n",
       "      <td>реальный</td>\n",
       "      <td>15</td>\n",
       "    </tr>\n",
       "    <tr>\n",
       "      <td>3</td>\n",
       "      <td>3</td>\n",
       "      <td>4124</td>\n",
       "      <td>32</td>\n",
       "      <td>среднее</td>\n",
       "      <td>1</td>\n",
       "      <td>женат / замужем</td>\n",
       "      <td>0</td>\n",
       "      <td>M</td>\n",
       "      <td>сотрудник</td>\n",
       "      <td>0</td>\n",
       "      <td>267628</td>\n",
       "      <td>дополнительное образование</td>\n",
       "      <td>11.300677</td>\n",
       "      <td>реальный</td>\n",
       "      <td>11</td>\n",
       "    </tr>\n",
       "    <tr>\n",
       "      <td>4</td>\n",
       "      <td>0</td>\n",
       "      <td>14177</td>\n",
       "      <td>53</td>\n",
       "      <td>среднее</td>\n",
       "      <td>1</td>\n",
       "      <td>гражданский брак</td>\n",
       "      <td>1</td>\n",
       "      <td>F</td>\n",
       "      <td>пенсионер</td>\n",
       "      <td>0</td>\n",
       "      <td>158616</td>\n",
       "      <td>сыграть свадьбу</td>\n",
       "      <td>38.843159</td>\n",
       "      <td>реальный</td>\n",
       "      <td>38</td>\n",
       "    </tr>\n",
       "  </tbody>\n",
       "</table>\n",
       "</div>"
      ],
      "text/plain": [
       "   children  days_employed  dob_years education  education_id  \\\n",
       "0         1           8437         42    высшее             0   \n",
       "1         1           4024         36   среднее             1   \n",
       "2         0           5623         33   Среднее             1   \n",
       "3         3           4124         32   среднее             1   \n",
       "4         0          14177         53   среднее             1   \n",
       "\n",
       "      family_status  family_status_id gender income_type  debt  total_income  \\\n",
       "0   женат / замужем                 0      F   сотрудник     0        253875   \n",
       "1   женат / замужем                 0      F   сотрудник     0        112080   \n",
       "2   женат / замужем                 0      M   сотрудник     0        145885   \n",
       "3   женат / замужем                 0      M   сотрудник     0        267628   \n",
       "4  гражданский брак                 1      F   пенсионер     0        158616   \n",
       "\n",
       "                      purpose  years_employed experience_flag   с  \n",
       "0               покупка жилья       23.116912        реальный  23  \n",
       "1     приобретение автомобиля       11.026860        реальный  11  \n",
       "2               покупка жилья       15.406637        реальный  15  \n",
       "3  дополнительное образование       11.300677        реальный  11  \n",
       "4             сыграть свадьбу       38.843159        реальный  38  "
      ]
     },
     "execution_count": 22,
     "metadata": {},
     "output_type": "execute_result"
    }
   ],
   "source": [
    "# переведем значения столбцов days_employed, total_income, dob_years и years_employed из float64 в int64\n",
    "credit['days_employed'] = credit['days_employed'].astype('int')\n",
    "credit['total_income'] = credit['total_income'].astype('int')\n",
    "credit['dob_years'] = credit['dob_years'].astype('int')\n",
    "credit['с'] = credit['years_employed'].astype('int')\n",
    "\n",
    "# проверяем результаты\n",
    "credit.info()\n",
    "credit.head()"
   ]
  },
  {
   "cell_type": "markdown",
   "metadata": {},
   "source": [
    "**Выводы**"
   ]
  },
  {
   "cell_type": "markdown",
   "metadata": {},
   "source": [
    "1. Изначально столбцы **days_employed** и **total_income** имели вещественный тип данных, после замены нулевых значений на np.nan в столбце **dob_years**, данные этого столбца сменились с целочисленного на вещественный;\n",
    "2. Данные по дням стажа, доходу и возрасту обычно хранятся целыми числами;\n",
    "3. Чтобы преобразовать тип данных этих столбцов из вещественного в целочисленный, был использован метод **astype()**, т.к. он, в отличие от метода *to_numeric()*, может приводить данные к целочисленному типу;"
   ]
  },
  {
   "cell_type": "markdown",
   "metadata": {},
   "source": [
    "### Обработка дубликатов"
   ]
  },
  {
   "cell_type": "markdown",
   "metadata": {},
   "source": [
    "- Целью данной главы является поиск и удаление дубликатов в данных;"
   ]
  },
  {
   "cell_type": "code",
   "execution_count": 23,
   "metadata": {},
   "outputs": [
    {
     "name": "stdout",
     "output_type": "stream",
     "text": [
      "Количество полных дубликатов ДО:  53\n",
      "Количество полных дубликатов ПОСЛЕ:  0\n"
     ]
    }
   ],
   "source": [
    "# посчитаем количество полных дубликатов\n",
    "print('Количество полных дубликатов ДО: ', credit.duplicated().sum())\n",
    "\n",
    "# убираем все полные дубликаты, обновляя индексы и убирая столбец со старыми индексами\n",
    "credit = credit.drop_duplicates().reset_index(drop=True)\n",
    "\n",
    "print('Количество полных дубликатов ПОСЛЕ: ', credit.duplicated().sum())"
   ]
  },
  {
   "cell_type": "code",
   "execution_count": 24,
   "metadata": {
    "scrolled": true
   },
   "outputs": [
    {
     "data": {
      "text/plain": [
       "среднее                14319\n",
       "высшее                  5065\n",
       "неоконченное высшее      729\n",
       "начальное                268\n",
       "ученая степень             6\n",
       "Name: education, dtype: int64"
      ]
     },
     "metadata": {},
     "output_type": "display_data"
    },
    {
     "data": {
      "text/plain": [
       "женат / замужем          11716\n",
       "гражданский брак          3960\n",
       "не женат / не замужем     2706\n",
       "в разводе                 1137\n",
       "вдовец / вдова             868\n",
       "Name: family_status, dtype: int64"
      ]
     },
     "execution_count": 24,
     "metadata": {},
     "output_type": "execute_result"
    }
   ],
   "source": [
    "# приведем к нижнему регистру значения столбцов education и family_status\n",
    "credit.education = credit.education.str.lower()\n",
    "credit.family_status = credit.family_status.str.lower()\n",
    "\n",
    "# проверим результаты\n",
    "display(credit.education.value_counts())\n",
    "credit.family_status.value_counts()"
   ]
  },
  {
   "cell_type": "code",
   "execution_count": 25,
   "metadata": {},
   "outputs": [
    {
     "name": "stdout",
     "output_type": "stream",
     "text": [
      "Количество полных дубликатов ДО:  17\n",
      "Количество полных дубликатов ПОСЛЕ:  0\n"
     ]
    }
   ],
   "source": [
    "# посчитаем полные дубликаты\n",
    "print('Количество полных дубликатов ДО: ', credit.duplicated().sum())\n",
    "\n",
    "# убираем оставшиеся полные дубликаты, обновляя индексы и убирая столбец со старыми индексами\n",
    "credit = credit.drop_duplicates().reset_index(drop=True)\n",
    "\n",
    "# посчитаем количество полных дубликатов\n",
    "print('Количество полных дубликатов ПОСЛЕ: ', credit.duplicated().sum())"
   ]
  },
  {
   "cell_type": "markdown",
   "metadata": {},
   "source": [
    "**Выводы**"
   ]
  },
  {
   "cell_type": "markdown",
   "metadata": {},
   "source": [
    "1. Изначально были найдены 54 полных дубликата (**ручной поиск дубликатов**), однако, после приведению к нижнему регистру значений столбцов, где регистр был разный, было обнаружено еще 17 полных дубликатов (**ручной поиск дубликатов с учетом регистра**) - итого 71 полный дубликат были удалены из данных;\n",
    "2. Возможные причины появления дубликатов в данных: \n",
    "    - случайное копирование строки;\n",
    "    - обработка заявки клиента двумя разными операторами; \n",
    "    - отправка заявки несколько раз клиентом (если онлайн через приложение/сайт);\n",
    "    - перебои с интернетом клиента или проблемы с сервером банка, в результате чего запрос отправился более одного раза;"
   ]
  },
  {
   "cell_type": "markdown",
   "metadata": {},
   "source": [
    "### Лемматизация"
   ]
  },
  {
   "cell_type": "markdown",
   "metadata": {},
   "source": [
    "- Целью лемматизации для данного датасета является выделение категорий из целей кредита, т.к. среди указанных целей кредита довольно много синонимичных формулировок, которые затрудняют анализ данных;"
   ]
  },
  {
   "cell_type": "code",
   "execution_count": 26,
   "metadata": {},
   "outputs": [
    {
     "data": {
      "text/html": [
       "<div>\n",
       "<style scoped>\n",
       "    .dataframe tbody tr th:only-of-type {\n",
       "        vertical-align: middle;\n",
       "    }\n",
       "\n",
       "    .dataframe tbody tr th {\n",
       "        vertical-align: top;\n",
       "    }\n",
       "\n",
       "    .dataframe thead th {\n",
       "        text-align: right;\n",
       "    }\n",
       "</style>\n",
       "<table border=\"1\" class=\"dataframe\">\n",
       "  <thead>\n",
       "    <tr style=\"text-align: right;\">\n",
       "      <th></th>\n",
       "      <th>children</th>\n",
       "      <th>days_employed</th>\n",
       "      <th>dob_years</th>\n",
       "      <th>education</th>\n",
       "      <th>education_id</th>\n",
       "      <th>family_status</th>\n",
       "      <th>family_status_id</th>\n",
       "      <th>gender</th>\n",
       "      <th>income_type</th>\n",
       "      <th>debt</th>\n",
       "      <th>total_income</th>\n",
       "      <th>purpose</th>\n",
       "      <th>years_employed</th>\n",
       "      <th>experience_flag</th>\n",
       "      <th>с</th>\n",
       "      <th>lemmas_purpose</th>\n",
       "    </tr>\n",
       "  </thead>\n",
       "  <tbody>\n",
       "    <tr>\n",
       "      <td>6811</td>\n",
       "      <td>1</td>\n",
       "      <td>984</td>\n",
       "      <td>33</td>\n",
       "      <td>среднее</td>\n",
       "      <td>1</td>\n",
       "      <td>гражданский брак</td>\n",
       "      <td>1</td>\n",
       "      <td>F</td>\n",
       "      <td>компаньон</td>\n",
       "      <td>1</td>\n",
       "      <td>156076</td>\n",
       "      <td>свадьба</td>\n",
       "      <td>2.696693</td>\n",
       "      <td>реальный</td>\n",
       "      <td>2</td>\n",
       "      <td>[свадьба, \\n]</td>\n",
       "    </tr>\n",
       "    <tr>\n",
       "      <td>324</td>\n",
       "      <td>0</td>\n",
       "      <td>1447</td>\n",
       "      <td>30</td>\n",
       "      <td>высшее</td>\n",
       "      <td>0</td>\n",
       "      <td>в разводе</td>\n",
       "      <td>3</td>\n",
       "      <td>F</td>\n",
       "      <td>сотрудник</td>\n",
       "      <td>1</td>\n",
       "      <td>353864</td>\n",
       "      <td>операции с коммерческой недвижимостью</td>\n",
       "      <td>3.966480</td>\n",
       "      <td>реальный</td>\n",
       "      <td>3</td>\n",
       "      <td>[операция,  , с,  , коммерческий,  , недвижимо...</td>\n",
       "    </tr>\n",
       "    <tr>\n",
       "      <td>10101</td>\n",
       "      <td>0</td>\n",
       "      <td>2847</td>\n",
       "      <td>48</td>\n",
       "      <td>среднее</td>\n",
       "      <td>1</td>\n",
       "      <td>женат / замужем</td>\n",
       "      <td>0</td>\n",
       "      <td>F</td>\n",
       "      <td>сотрудник</td>\n",
       "      <td>0</td>\n",
       "      <td>238303</td>\n",
       "      <td>строительство жилой недвижимости</td>\n",
       "      <td>7.802340</td>\n",
       "      <td>реальный</td>\n",
       "      <td>7</td>\n",
       "      <td>[строительство,  , жилой,  , недвижимость, \\n]</td>\n",
       "    </tr>\n",
       "    <tr>\n",
       "      <td>2974</td>\n",
       "      <td>0</td>\n",
       "      <td>8123</td>\n",
       "      <td>51</td>\n",
       "      <td>среднее</td>\n",
       "      <td>1</td>\n",
       "      <td>женат / замужем</td>\n",
       "      <td>0</td>\n",
       "      <td>F</td>\n",
       "      <td>компаньон</td>\n",
       "      <td>0</td>\n",
       "      <td>263243</td>\n",
       "      <td>на покупку своего автомобиля</td>\n",
       "      <td>22.255358</td>\n",
       "      <td>реальный</td>\n",
       "      <td>22</td>\n",
       "      <td>[на,  , покупка,  , свой,  , автомобиль, \\n]</td>\n",
       "    </tr>\n",
       "    <tr>\n",
       "      <td>18343</td>\n",
       "      <td>0</td>\n",
       "      <td>14579</td>\n",
       "      <td>60</td>\n",
       "      <td>высшее</td>\n",
       "      <td>0</td>\n",
       "      <td>вдовец / вдова</td>\n",
       "      <td>2</td>\n",
       "      <td>F</td>\n",
       "      <td>пенсионер</td>\n",
       "      <td>0</td>\n",
       "      <td>114308</td>\n",
       "      <td>недвижимость</td>\n",
       "      <td>39.944033</td>\n",
       "      <td>реальный</td>\n",
       "      <td>39</td>\n",
       "      <td>[недвижимость, \\n]</td>\n",
       "    </tr>\n",
       "  </tbody>\n",
       "</table>\n",
       "</div>"
      ],
      "text/plain": [
       "       children  days_employed  dob_years education  education_id  \\\n",
       "6811          1            984         33   среднее             1   \n",
       "324           0           1447         30    высшее             0   \n",
       "10101         0           2847         48   среднее             1   \n",
       "2974          0           8123         51   среднее             1   \n",
       "18343         0          14579         60    высшее             0   \n",
       "\n",
       "          family_status  family_status_id gender income_type  debt  \\\n",
       "6811   гражданский брак                 1      F   компаньон     1   \n",
       "324           в разводе                 3      F   сотрудник     1   \n",
       "10101   женат / замужем                 0      F   сотрудник     0   \n",
       "2974    женат / замужем                 0      F   компаньон     0   \n",
       "18343    вдовец / вдова                 2      F   пенсионер     0   \n",
       "\n",
       "       total_income                                purpose  years_employed  \\\n",
       "6811         156076                                свадьба        2.696693   \n",
       "324          353864  операции с коммерческой недвижимостью        3.966480   \n",
       "10101        238303       строительство жилой недвижимости        7.802340   \n",
       "2974         263243           на покупку своего автомобиля       22.255358   \n",
       "18343        114308                           недвижимость       39.944033   \n",
       "\n",
       "      experience_flag   с                                     lemmas_purpose  \n",
       "6811         реальный   2                                      [свадьба, \\n]  \n",
       "324          реальный   3  [операция,  , с,  , коммерческий,  , недвижимо...  \n",
       "10101        реальный   7     [строительство,  , жилой,  , недвижимость, \\n]  \n",
       "2974         реальный  22       [на,  , покупка,  , свой,  , автомобиль, \\n]  \n",
       "18343        реальный  39                                 [недвижимость, \\n]  "
      ]
     },
     "execution_count": 26,
     "metadata": {},
     "output_type": "execute_result"
    }
   ],
   "source": [
    "# создаем объект лемматизации\n",
    "lemmatizer = Mystem()\n",
    "\n",
    "# сохраняем список лемм в отдельный столбец и выводим пять строк\n",
    "credit['lemmas_purpose'] = credit['purpose'].apply(lemmatizer.lemmatize)\n",
    "credit.sample(5)"
   ]
  },
  {
   "cell_type": "code",
   "execution_count": 27,
   "metadata": {},
   "outputs": [],
   "source": [
    "# получение списка всех лемм как отдельных элементов списка\n",
    "lemmas_single = []\n",
    "for i in credit.lemmas_purpose:\n",
    "    for k in i:\n",
    "        lemmas_single.append(k)"
   ]
  },
  {
   "cell_type": "code",
   "execution_count": 28,
   "metadata": {},
   "outputs": [
    {
     "data": {
      "text/plain": [
       "[('недвижимость', 6025),\n",
       " ('покупка', 5602),\n",
       " ('жилье', 4217),\n",
       " ('автомобиль', 4110),\n",
       " ('образование', 3817),\n",
       " ('операция', 2465),\n",
       " ('свадьба', 2201),\n",
       " ('строительство', 1774),\n",
       " ('высокий', 1299),\n",
       " ('коммерческий', 1248),\n",
       " ('получение', 1240),\n",
       " ('жилой', 1173),\n",
       " ('сделка', 904),\n",
       " ('дополнительный', 863),\n",
       " ('заниматься', 863),\n",
       " ('сыграть', 726),\n",
       " ('проведение', 722),\n",
       " ('сдача', 609),\n",
       " ('семья', 604),\n",
       " ('собственный', 594),\n",
       " ('ремонт', 579),\n",
       " ('подержанный', 462),\n",
       " ('подержать', 452),\n",
       " ('приобретение', 443),\n",
       " ('профильный', 419)]"
      ]
     },
     "metadata": {},
     "output_type": "display_data"
    },
    {
     "data": {
      "text/plain": [
       "['недвижимость', 'автомобиль', 'образование', 'свадьба', 'ремонт', 'жилье']"
      ]
     },
     "execution_count": 28,
     "metadata": {},
     "output_type": "execute_result"
    }
   ],
   "source": [
    "# создаем список уникальных лемм с их частотой, убирая лишнее (пробелы, переходы строки, предлоги и т.д.)\n",
    "lemmas_unique = list(Counter(lemmas_single).most_common())\n",
    "lu = lemmas_unique[:]\n",
    "for i in lu:\n",
    "    if len(i[0]) < 5:\n",
    "        lemmas_unique.remove(i)\n",
    "\n",
    "# выведем список уникальных лемм\n",
    "display(lemmas_unique)\n",
    "\n",
    "# выбираем основные уникальные леммы и помещаем их в список\n",
    "lemmas_most_common = ['недвижимость', 'автомобиль', 'образование', 'свадьба', 'ремонт', 'жилье']\n",
    "lemmas_most_common"
   ]
  },
  {
   "cell_type": "code",
   "execution_count": 29,
   "metadata": {
    "scrolled": true
   },
   "outputs": [
    {
     "data": {
      "text/plain": [
       "недвижимость    9663\n",
       "автомобиль      4110\n",
       "образование     3817\n",
       "свадьба         2201\n",
       "ремонт           579\n",
       "Name: purpose_flag, dtype: int64"
      ]
     },
     "execution_count": 29,
     "metadata": {},
     "output_type": "execute_result"
    }
   ],
   "source": [
    "# пишем функцию для определения категории из списка уникальных лемм по цели получения кредита\n",
    "def purpose_flag(lemmas_list):\n",
    "    \"\"\"\n",
    "    присвивает категорию по цели получения кредита для строки датафрейма на основе содержания в строке той или иной \n",
    "    уникальной леммы\n",
    "    \n",
    "    params:\n",
    "    - lemmas_list - список лемм цели получения кредита строки\n",
    "    \n",
    "    returns:\n",
    "    - i - выделенная уникальная лемма\n",
    "    \"\"\"\n",
    "    for i in lemmas_most_common:\n",
    "        if i in lemmas_list:\n",
    "            return i\n",
    "\n",
    "# определяем категории purpose_flag\n",
    "credit['purpose_flag'] = credit['lemmas_purpose'].apply(purpose_flag)\n",
    "\n",
    "# заменим категорию жилье на недвижимость\n",
    "credit.loc[credit['purpose_flag'] == 'жилье', 'purpose_flag'] = 'недвижимость'\n",
    "\n",
    "# проверим результаты\n",
    "credit['purpose_flag'].value_counts()"
   ]
  },
  {
   "cell_type": "markdown",
   "metadata": {},
   "source": [
    "**Выводы**"
   ]
  },
  {
   "cell_type": "markdown",
   "metadata": {},
   "source": [
    "1. Лемматизация выполнена для **выделения категорий по целям получения кредита**;\n",
    "2. Следующие шаги были выполнены в процессе лемматизации:\n",
    "    - выделение лемм для каждой строки;\n",
    "    - добавление списка лемм каждой строки в отдельный столбец;\n",
    "    - выделение наиболее уникальных лемм и сортировка их по частоте втречаемости;\n",
    "    - дополнительный анализ списка уникальных лемм и выделение минимального количества, способного описать все цели получения кредита;\n",
    "    - присвоение категорий согласно тому, какая уникальная лемма встречена в цели получения кредита для конкретной строки;\n",
    "3. Итого выделены следующие категории целей получения кредита: *недвижимость*, *автомобиль*, *образование*, *свадьба*, *ремонт*;"
   ]
  },
  {
   "cell_type": "markdown",
   "metadata": {},
   "source": [
    "### Категоризация данных"
   ]
  },
  {
   "cell_type": "markdown",
   "metadata": {},
   "source": [
    "- Категоризация данных уже была частично проведена на шагах *2.1 Обработка пропусков, редактирование ошибочных значений* и *2.4 Лемматизация*;\n",
    "- Для редактрования ошибочных значений датасет был помечен двумя категориями, связанных со стажем: *реальный* стаж, где указанный стаж был меньше или равен максимально возможному стажу, и *нереальный* стаж, где указанный стаж был больше максимально возможного стажа;\n",
    "- Лемматизация была использована, чтобы перейти от большого количества синонимичных категорий исходного столбца с целью получения кредита к более емким и всеобъемлющим категориям на основе лемм столбца с целями получения кредита;"
   ]
  },
  {
   "cell_type": "markdown",
   "metadata": {},
   "source": [
    "- Для более удобного анализа столбца с категориями целей получения кредита **purpose_flag** создадим столбец с id для каждой категории для более удобного доступа, а потом создадим словарь для этого столбца, а также для других столбцов с категориальными данными: **education** и **family_status**. Кроме того, один из вопросов затрагивает зависимость дохода от того, будет ли возвращен кредит в срок, для этого будет удобнее разбить доход на категории;"
   ]
  },
  {
   "cell_type": "code",
   "execution_count": 30,
   "metadata": {},
   "outputs": [
    {
     "data": {
      "text/plain": [
       "array(['недвижимость', 'автомобиль', 'образование', 'свадьба', 'ремонт'],\n",
       "      dtype=object)"
      ]
     },
     "execution_count": 30,
     "metadata": {},
     "output_type": "execute_result"
    }
   ],
   "source": [
    "# выводим категории в столбце purpose_flag\n",
    "credit.purpose_flag.unique()"
   ]
  },
  {
   "cell_type": "code",
   "execution_count": 31,
   "metadata": {},
   "outputs": [
    {
     "data": {
      "text/plain": [
       "[(0, 'недвижимость'),\n",
       " (1, 'автомобиль'),\n",
       " (2, 'образование'),\n",
       " (3, 'свадьба'),\n",
       " (4, 'ремонт')]"
      ]
     },
     "execution_count": 31,
     "metadata": {},
     "output_type": "execute_result"
    }
   ],
   "source": [
    "# создадим список кортежей с id категории и ее название\n",
    "purpose_flag_ids = [(pid, name) for pid, name in enumerate(list(credit.purpose_flag.unique()))]\n",
    "purpose_flag_ids"
   ]
  },
  {
   "cell_type": "code",
   "execution_count": 32,
   "metadata": {},
   "outputs": [
    {
     "data": {
      "text/plain": [
       "недвижимость    9663\n",
       "автомобиль      4110\n",
       "образование     3817\n",
       "свадьба         2201\n",
       "ремонт           579\n",
       "Name: purpose_flag, dtype: int64"
      ]
     },
     "metadata": {},
     "output_type": "display_data"
    },
    {
     "data": {
      "text/plain": [
       "0    9663\n",
       "1    4110\n",
       "2    3817\n",
       "3    2201\n",
       "4     579\n",
       "Name: purpose_flag_id, dtype: int64"
      ]
     },
     "metadata": {},
     "output_type": "display_data"
    },
    {
     "data": {
      "text/html": [
       "<div>\n",
       "<style scoped>\n",
       "    .dataframe tbody tr th:only-of-type {\n",
       "        vertical-align: middle;\n",
       "    }\n",
       "\n",
       "    .dataframe tbody tr th {\n",
       "        vertical-align: top;\n",
       "    }\n",
       "\n",
       "    .dataframe thead th {\n",
       "        text-align: right;\n",
       "    }\n",
       "</style>\n",
       "<table border=\"1\" class=\"dataframe\">\n",
       "  <thead>\n",
       "    <tr style=\"text-align: right;\">\n",
       "      <th></th>\n",
       "      <th>children</th>\n",
       "      <th>days_employed</th>\n",
       "      <th>dob_years</th>\n",
       "      <th>education</th>\n",
       "      <th>education_id</th>\n",
       "      <th>family_status</th>\n",
       "      <th>family_status_id</th>\n",
       "      <th>gender</th>\n",
       "      <th>income_type</th>\n",
       "      <th>debt</th>\n",
       "      <th>total_income</th>\n",
       "      <th>purpose</th>\n",
       "      <th>years_employed</th>\n",
       "      <th>experience_flag</th>\n",
       "      <th>с</th>\n",
       "      <th>lemmas_purpose</th>\n",
       "      <th>purpose_flag</th>\n",
       "      <th>purpose_flag_id</th>\n",
       "    </tr>\n",
       "  </thead>\n",
       "  <tbody>\n",
       "    <tr>\n",
       "      <td>0</td>\n",
       "      <td>1</td>\n",
       "      <td>8437</td>\n",
       "      <td>42</td>\n",
       "      <td>высшее</td>\n",
       "      <td>0</td>\n",
       "      <td>женат / замужем</td>\n",
       "      <td>0</td>\n",
       "      <td>F</td>\n",
       "      <td>сотрудник</td>\n",
       "      <td>0</td>\n",
       "      <td>253875</td>\n",
       "      <td>покупка жилья</td>\n",
       "      <td>23.116912</td>\n",
       "      <td>реальный</td>\n",
       "      <td>23</td>\n",
       "      <td>[покупка,  , жилье, \\n]</td>\n",
       "      <td>недвижимость</td>\n",
       "      <td>0</td>\n",
       "    </tr>\n",
       "    <tr>\n",
       "      <td>1</td>\n",
       "      <td>1</td>\n",
       "      <td>4024</td>\n",
       "      <td>36</td>\n",
       "      <td>среднее</td>\n",
       "      <td>1</td>\n",
       "      <td>женат / замужем</td>\n",
       "      <td>0</td>\n",
       "      <td>F</td>\n",
       "      <td>сотрудник</td>\n",
       "      <td>0</td>\n",
       "      <td>112080</td>\n",
       "      <td>приобретение автомобиля</td>\n",
       "      <td>11.026860</td>\n",
       "      <td>реальный</td>\n",
       "      <td>11</td>\n",
       "      <td>[приобретение,  , автомобиль, \\n]</td>\n",
       "      <td>автомобиль</td>\n",
       "      <td>1</td>\n",
       "    </tr>\n",
       "    <tr>\n",
       "      <td>2</td>\n",
       "      <td>0</td>\n",
       "      <td>5623</td>\n",
       "      <td>33</td>\n",
       "      <td>среднее</td>\n",
       "      <td>1</td>\n",
       "      <td>женат / замужем</td>\n",
       "      <td>0</td>\n",
       "      <td>M</td>\n",
       "      <td>сотрудник</td>\n",
       "      <td>0</td>\n",
       "      <td>145885</td>\n",
       "      <td>покупка жилья</td>\n",
       "      <td>15.406637</td>\n",
       "      <td>реальный</td>\n",
       "      <td>15</td>\n",
       "      <td>[покупка,  , жилье, \\n]</td>\n",
       "      <td>недвижимость</td>\n",
       "      <td>0</td>\n",
       "    </tr>\n",
       "    <tr>\n",
       "      <td>3</td>\n",
       "      <td>3</td>\n",
       "      <td>4124</td>\n",
       "      <td>32</td>\n",
       "      <td>среднее</td>\n",
       "      <td>1</td>\n",
       "      <td>женат / замужем</td>\n",
       "      <td>0</td>\n",
       "      <td>M</td>\n",
       "      <td>сотрудник</td>\n",
       "      <td>0</td>\n",
       "      <td>267628</td>\n",
       "      <td>дополнительное образование</td>\n",
       "      <td>11.300677</td>\n",
       "      <td>реальный</td>\n",
       "      <td>11</td>\n",
       "      <td>[дополнительный,  , образование, \\n]</td>\n",
       "      <td>образование</td>\n",
       "      <td>2</td>\n",
       "    </tr>\n",
       "    <tr>\n",
       "      <td>4</td>\n",
       "      <td>0</td>\n",
       "      <td>14177</td>\n",
       "      <td>53</td>\n",
       "      <td>среднее</td>\n",
       "      <td>1</td>\n",
       "      <td>гражданский брак</td>\n",
       "      <td>1</td>\n",
       "      <td>F</td>\n",
       "      <td>пенсионер</td>\n",
       "      <td>0</td>\n",
       "      <td>158616</td>\n",
       "      <td>сыграть свадьбу</td>\n",
       "      <td>38.843159</td>\n",
       "      <td>реальный</td>\n",
       "      <td>38</td>\n",
       "      <td>[сыграть,  , свадьба, \\n]</td>\n",
       "      <td>свадьба</td>\n",
       "      <td>3</td>\n",
       "    </tr>\n",
       "    <tr>\n",
       "      <td>5</td>\n",
       "      <td>0</td>\n",
       "      <td>926</td>\n",
       "      <td>27</td>\n",
       "      <td>высшее</td>\n",
       "      <td>0</td>\n",
       "      <td>гражданский брак</td>\n",
       "      <td>1</td>\n",
       "      <td>M</td>\n",
       "      <td>компаньон</td>\n",
       "      <td>0</td>\n",
       "      <td>255763</td>\n",
       "      <td>покупка жилья</td>\n",
       "      <td>2.537495</td>\n",
       "      <td>реальный</td>\n",
       "      <td>2</td>\n",
       "      <td>[покупка,  , жилье, \\n]</td>\n",
       "      <td>недвижимость</td>\n",
       "      <td>0</td>\n",
       "    </tr>\n",
       "    <tr>\n",
       "      <td>6</td>\n",
       "      <td>0</td>\n",
       "      <td>2879</td>\n",
       "      <td>43</td>\n",
       "      <td>высшее</td>\n",
       "      <td>0</td>\n",
       "      <td>женат / замужем</td>\n",
       "      <td>0</td>\n",
       "      <td>F</td>\n",
       "      <td>компаньон</td>\n",
       "      <td>0</td>\n",
       "      <td>240525</td>\n",
       "      <td>операции с жильем</td>\n",
       "      <td>7.888225</td>\n",
       "      <td>реальный</td>\n",
       "      <td>7</td>\n",
       "      <td>[операция,  , с,  , жилье, \\n]</td>\n",
       "      <td>недвижимость</td>\n",
       "      <td>0</td>\n",
       "    </tr>\n",
       "    <tr>\n",
       "      <td>7</td>\n",
       "      <td>0</td>\n",
       "      <td>152</td>\n",
       "      <td>50</td>\n",
       "      <td>среднее</td>\n",
       "      <td>1</td>\n",
       "      <td>женат / замужем</td>\n",
       "      <td>0</td>\n",
       "      <td>M</td>\n",
       "      <td>сотрудник</td>\n",
       "      <td>0</td>\n",
       "      <td>135823</td>\n",
       "      <td>образование</td>\n",
       "      <td>0.418574</td>\n",
       "      <td>реальный</td>\n",
       "      <td>0</td>\n",
       "      <td>[образование, \\n]</td>\n",
       "      <td>образование</td>\n",
       "      <td>2</td>\n",
       "    </tr>\n",
       "    <tr>\n",
       "      <td>8</td>\n",
       "      <td>2</td>\n",
       "      <td>6929</td>\n",
       "      <td>35</td>\n",
       "      <td>высшее</td>\n",
       "      <td>0</td>\n",
       "      <td>гражданский брак</td>\n",
       "      <td>1</td>\n",
       "      <td>F</td>\n",
       "      <td>сотрудник</td>\n",
       "      <td>0</td>\n",
       "      <td>95856</td>\n",
       "      <td>на проведение свадьбы</td>\n",
       "      <td>18.985932</td>\n",
       "      <td>реальный</td>\n",
       "      <td>18</td>\n",
       "      <td>[на,  , проведение,  , свадьба, \\n]</td>\n",
       "      <td>свадьба</td>\n",
       "      <td>3</td>\n",
       "    </tr>\n",
       "    <tr>\n",
       "      <td>9</td>\n",
       "      <td>0</td>\n",
       "      <td>2188</td>\n",
       "      <td>41</td>\n",
       "      <td>среднее</td>\n",
       "      <td>1</td>\n",
       "      <td>женат / замужем</td>\n",
       "      <td>0</td>\n",
       "      <td>M</td>\n",
       "      <td>сотрудник</td>\n",
       "      <td>0</td>\n",
       "      <td>144425</td>\n",
       "      <td>покупка жилья для семьи</td>\n",
       "      <td>5.996593</td>\n",
       "      <td>реальный</td>\n",
       "      <td>5</td>\n",
       "      <td>[покупка,  , жилье,  , для,  , семья, \\n]</td>\n",
       "      <td>недвижимость</td>\n",
       "      <td>0</td>\n",
       "    </tr>\n",
       "  </tbody>\n",
       "</table>\n",
       "</div>"
      ],
      "text/plain": [
       "   children  days_employed  dob_years education  education_id  \\\n",
       "0         1           8437         42    высшее             0   \n",
       "1         1           4024         36   среднее             1   \n",
       "2         0           5623         33   среднее             1   \n",
       "3         3           4124         32   среднее             1   \n",
       "4         0          14177         53   среднее             1   \n",
       "5         0            926         27    высшее             0   \n",
       "6         0           2879         43    высшее             0   \n",
       "7         0            152         50   среднее             1   \n",
       "8         2           6929         35    высшее             0   \n",
       "9         0           2188         41   среднее             1   \n",
       "\n",
       "      family_status  family_status_id gender income_type  debt  total_income  \\\n",
       "0   женат / замужем                 0      F   сотрудник     0        253875   \n",
       "1   женат / замужем                 0      F   сотрудник     0        112080   \n",
       "2   женат / замужем                 0      M   сотрудник     0        145885   \n",
       "3   женат / замужем                 0      M   сотрудник     0        267628   \n",
       "4  гражданский брак                 1      F   пенсионер     0        158616   \n",
       "5  гражданский брак                 1      M   компаньон     0        255763   \n",
       "6   женат / замужем                 0      F   компаньон     0        240525   \n",
       "7   женат / замужем                 0      M   сотрудник     0        135823   \n",
       "8  гражданский брак                 1      F   сотрудник     0         95856   \n",
       "9   женат / замужем                 0      M   сотрудник     0        144425   \n",
       "\n",
       "                      purpose  years_employed experience_flag   с  \\\n",
       "0               покупка жилья       23.116912        реальный  23   \n",
       "1     приобретение автомобиля       11.026860        реальный  11   \n",
       "2               покупка жилья       15.406637        реальный  15   \n",
       "3  дополнительное образование       11.300677        реальный  11   \n",
       "4             сыграть свадьбу       38.843159        реальный  38   \n",
       "5               покупка жилья        2.537495        реальный   2   \n",
       "6           операции с жильем        7.888225        реальный   7   \n",
       "7                 образование        0.418574        реальный   0   \n",
       "8       на проведение свадьбы       18.985932        реальный  18   \n",
       "9     покупка жилья для семьи        5.996593        реальный   5   \n",
       "\n",
       "                              lemmas_purpose  purpose_flag  purpose_flag_id  \n",
       "0                    [покупка,  , жилье, \\n]  недвижимость                0  \n",
       "1          [приобретение,  , автомобиль, \\n]    автомобиль                1  \n",
       "2                    [покупка,  , жилье, \\n]  недвижимость                0  \n",
       "3       [дополнительный,  , образование, \\n]   образование                2  \n",
       "4                  [сыграть,  , свадьба, \\n]       свадьба                3  \n",
       "5                    [покупка,  , жилье, \\n]  недвижимость                0  \n",
       "6             [операция,  , с,  , жилье, \\n]  недвижимость                0  \n",
       "7                          [образование, \\n]   образование                2  \n",
       "8        [на,  , проведение,  , свадьба, \\n]       свадьба                3  \n",
       "9  [покупка,  , жилье,  , для,  , семья, \\n]  недвижимость                0  "
      ]
     },
     "execution_count": 32,
     "metadata": {},
     "output_type": "execute_result"
    }
   ],
   "source": [
    "# напишим функцию для присвоения id соответствующей категории в строке датафрейма\n",
    "def purpose_flag_id(flag):\n",
    "    \"\"\"\n",
    "    присваивает id в зависимости от категории в столбце purpose_flag\n",
    "    \n",
    "    params:\n",
    "    - flag - строковое значение категории из строки датафрейма\n",
    "    \n",
    "    returns:\n",
    "    - i[0] - id категории\n",
    "    \"\"\"\n",
    "    for i in purpose_flag_ids:\n",
    "        if flag in i[1]:\n",
    "            return i[0]\n",
    "        \n",
    "# определим id для категорий из столбца purpose_flag и проверим результаты\n",
    "credit['purpose_flag_id'] = credit['purpose_flag'].apply(purpose_flag_id)\n",
    "display(credit.purpose_flag.value_counts())\n",
    "display(credit.purpose_flag_id.value_counts())\n",
    "credit.head(10)"
   ]
  },
  {
   "cell_type": "code",
   "execution_count": 33,
   "metadata": {
    "scrolled": false
   },
   "outputs": [
    {
     "data": {
      "text/html": [
       "<div>\n",
       "<style scoped>\n",
       "    .dataframe tbody tr th:only-of-type {\n",
       "        vertical-align: middle;\n",
       "    }\n",
       "\n",
       "    .dataframe tbody tr th {\n",
       "        vertical-align: top;\n",
       "    }\n",
       "\n",
       "    .dataframe thead th {\n",
       "        text-align: right;\n",
       "    }\n",
       "</style>\n",
       "<table border=\"1\" class=\"dataframe\">\n",
       "  <thead>\n",
       "    <tr style=\"text-align: right;\">\n",
       "      <th></th>\n",
       "      <th>children</th>\n",
       "      <th>days_employed</th>\n",
       "      <th>years_employed</th>\n",
       "      <th>dob_years</th>\n",
       "      <th>experience_flag</th>\n",
       "      <th>education</th>\n",
       "      <th>education_id</th>\n",
       "      <th>family_status</th>\n",
       "      <th>family_status_id</th>\n",
       "      <th>gender</th>\n",
       "      <th>income_type</th>\n",
       "      <th>debt</th>\n",
       "      <th>total_income</th>\n",
       "      <th>purpose</th>\n",
       "      <th>purpose_flag</th>\n",
       "      <th>purpose_flag_id</th>\n",
       "      <th>lemmas_purpose</th>\n",
       "    </tr>\n",
       "  </thead>\n",
       "  <tbody>\n",
       "    <tr>\n",
       "      <td>0</td>\n",
       "      <td>1</td>\n",
       "      <td>8437</td>\n",
       "      <td>23.116912</td>\n",
       "      <td>42</td>\n",
       "      <td>реальный</td>\n",
       "      <td>высшее</td>\n",
       "      <td>0</td>\n",
       "      <td>женат / замужем</td>\n",
       "      <td>0</td>\n",
       "      <td>F</td>\n",
       "      <td>сотрудник</td>\n",
       "      <td>0</td>\n",
       "      <td>253875</td>\n",
       "      <td>покупка жилья</td>\n",
       "      <td>недвижимость</td>\n",
       "      <td>0</td>\n",
       "      <td>[покупка,  , жилье, \\n]</td>\n",
       "    </tr>\n",
       "    <tr>\n",
       "      <td>1</td>\n",
       "      <td>1</td>\n",
       "      <td>4024</td>\n",
       "      <td>11.026860</td>\n",
       "      <td>36</td>\n",
       "      <td>реальный</td>\n",
       "      <td>среднее</td>\n",
       "      <td>1</td>\n",
       "      <td>женат / замужем</td>\n",
       "      <td>0</td>\n",
       "      <td>F</td>\n",
       "      <td>сотрудник</td>\n",
       "      <td>0</td>\n",
       "      <td>112080</td>\n",
       "      <td>приобретение автомобиля</td>\n",
       "      <td>автомобиль</td>\n",
       "      <td>1</td>\n",
       "      <td>[приобретение,  , автомобиль, \\n]</td>\n",
       "    </tr>\n",
       "    <tr>\n",
       "      <td>2</td>\n",
       "      <td>0</td>\n",
       "      <td>5623</td>\n",
       "      <td>15.406637</td>\n",
       "      <td>33</td>\n",
       "      <td>реальный</td>\n",
       "      <td>среднее</td>\n",
       "      <td>1</td>\n",
       "      <td>женат / замужем</td>\n",
       "      <td>0</td>\n",
       "      <td>M</td>\n",
       "      <td>сотрудник</td>\n",
       "      <td>0</td>\n",
       "      <td>145885</td>\n",
       "      <td>покупка жилья</td>\n",
       "      <td>недвижимость</td>\n",
       "      <td>0</td>\n",
       "      <td>[покупка,  , жилье, \\n]</td>\n",
       "    </tr>\n",
       "    <tr>\n",
       "      <td>3</td>\n",
       "      <td>3</td>\n",
       "      <td>4124</td>\n",
       "      <td>11.300677</td>\n",
       "      <td>32</td>\n",
       "      <td>реальный</td>\n",
       "      <td>среднее</td>\n",
       "      <td>1</td>\n",
       "      <td>женат / замужем</td>\n",
       "      <td>0</td>\n",
       "      <td>M</td>\n",
       "      <td>сотрудник</td>\n",
       "      <td>0</td>\n",
       "      <td>267628</td>\n",
       "      <td>дополнительное образование</td>\n",
       "      <td>образование</td>\n",
       "      <td>2</td>\n",
       "      <td>[дополнительный,  , образование, \\n]</td>\n",
       "    </tr>\n",
       "    <tr>\n",
       "      <td>4</td>\n",
       "      <td>0</td>\n",
       "      <td>14177</td>\n",
       "      <td>38.843159</td>\n",
       "      <td>53</td>\n",
       "      <td>реальный</td>\n",
       "      <td>среднее</td>\n",
       "      <td>1</td>\n",
       "      <td>гражданский брак</td>\n",
       "      <td>1</td>\n",
       "      <td>F</td>\n",
       "      <td>пенсионер</td>\n",
       "      <td>0</td>\n",
       "      <td>158616</td>\n",
       "      <td>сыграть свадьбу</td>\n",
       "      <td>свадьба</td>\n",
       "      <td>3</td>\n",
       "      <td>[сыграть,  , свадьба, \\n]</td>\n",
       "    </tr>\n",
       "    <tr>\n",
       "      <td>5</td>\n",
       "      <td>0</td>\n",
       "      <td>926</td>\n",
       "      <td>2.537495</td>\n",
       "      <td>27</td>\n",
       "      <td>реальный</td>\n",
       "      <td>высшее</td>\n",
       "      <td>0</td>\n",
       "      <td>гражданский брак</td>\n",
       "      <td>1</td>\n",
       "      <td>M</td>\n",
       "      <td>компаньон</td>\n",
       "      <td>0</td>\n",
       "      <td>255763</td>\n",
       "      <td>покупка жилья</td>\n",
       "      <td>недвижимость</td>\n",
       "      <td>0</td>\n",
       "      <td>[покупка,  , жилье, \\n]</td>\n",
       "    </tr>\n",
       "    <tr>\n",
       "      <td>6</td>\n",
       "      <td>0</td>\n",
       "      <td>2879</td>\n",
       "      <td>7.888225</td>\n",
       "      <td>43</td>\n",
       "      <td>реальный</td>\n",
       "      <td>высшее</td>\n",
       "      <td>0</td>\n",
       "      <td>женат / замужем</td>\n",
       "      <td>0</td>\n",
       "      <td>F</td>\n",
       "      <td>компаньон</td>\n",
       "      <td>0</td>\n",
       "      <td>240525</td>\n",
       "      <td>операции с жильем</td>\n",
       "      <td>недвижимость</td>\n",
       "      <td>0</td>\n",
       "      <td>[операция,  , с,  , жилье, \\n]</td>\n",
       "    </tr>\n",
       "    <tr>\n",
       "      <td>7</td>\n",
       "      <td>0</td>\n",
       "      <td>152</td>\n",
       "      <td>0.418574</td>\n",
       "      <td>50</td>\n",
       "      <td>реальный</td>\n",
       "      <td>среднее</td>\n",
       "      <td>1</td>\n",
       "      <td>женат / замужем</td>\n",
       "      <td>0</td>\n",
       "      <td>M</td>\n",
       "      <td>сотрудник</td>\n",
       "      <td>0</td>\n",
       "      <td>135823</td>\n",
       "      <td>образование</td>\n",
       "      <td>образование</td>\n",
       "      <td>2</td>\n",
       "      <td>[образование, \\n]</td>\n",
       "    </tr>\n",
       "    <tr>\n",
       "      <td>8</td>\n",
       "      <td>2</td>\n",
       "      <td>6929</td>\n",
       "      <td>18.985932</td>\n",
       "      <td>35</td>\n",
       "      <td>реальный</td>\n",
       "      <td>высшее</td>\n",
       "      <td>0</td>\n",
       "      <td>гражданский брак</td>\n",
       "      <td>1</td>\n",
       "      <td>F</td>\n",
       "      <td>сотрудник</td>\n",
       "      <td>0</td>\n",
       "      <td>95856</td>\n",
       "      <td>на проведение свадьбы</td>\n",
       "      <td>свадьба</td>\n",
       "      <td>3</td>\n",
       "      <td>[на,  , проведение,  , свадьба, \\n]</td>\n",
       "    </tr>\n",
       "    <tr>\n",
       "      <td>9</td>\n",
       "      <td>0</td>\n",
       "      <td>2188</td>\n",
       "      <td>5.996593</td>\n",
       "      <td>41</td>\n",
       "      <td>реальный</td>\n",
       "      <td>среднее</td>\n",
       "      <td>1</td>\n",
       "      <td>женат / замужем</td>\n",
       "      <td>0</td>\n",
       "      <td>M</td>\n",
       "      <td>сотрудник</td>\n",
       "      <td>0</td>\n",
       "      <td>144425</td>\n",
       "      <td>покупка жилья для семьи</td>\n",
       "      <td>недвижимость</td>\n",
       "      <td>0</td>\n",
       "      <td>[покупка,  , жилье,  , для,  , семья, \\n]</td>\n",
       "    </tr>\n",
       "  </tbody>\n",
       "</table>\n",
       "</div>"
      ],
      "text/plain": [
       "   children  days_employed  years_employed  dob_years experience_flag  \\\n",
       "0         1           8437       23.116912         42        реальный   \n",
       "1         1           4024       11.026860         36        реальный   \n",
       "2         0           5623       15.406637         33        реальный   \n",
       "3         3           4124       11.300677         32        реальный   \n",
       "4         0          14177       38.843159         53        реальный   \n",
       "5         0            926        2.537495         27        реальный   \n",
       "6         0           2879        7.888225         43        реальный   \n",
       "7         0            152        0.418574         50        реальный   \n",
       "8         2           6929       18.985932         35        реальный   \n",
       "9         0           2188        5.996593         41        реальный   \n",
       "\n",
       "  education  education_id     family_status  family_status_id gender  \\\n",
       "0    высшее             0   женат / замужем                 0      F   \n",
       "1   среднее             1   женат / замужем                 0      F   \n",
       "2   среднее             1   женат / замужем                 0      M   \n",
       "3   среднее             1   женат / замужем                 0      M   \n",
       "4   среднее             1  гражданский брак                 1      F   \n",
       "5    высшее             0  гражданский брак                 1      M   \n",
       "6    высшее             0   женат / замужем                 0      F   \n",
       "7   среднее             1   женат / замужем                 0      M   \n",
       "8    высшее             0  гражданский брак                 1      F   \n",
       "9   среднее             1   женат / замужем                 0      M   \n",
       "\n",
       "  income_type  debt  total_income                     purpose  purpose_flag  \\\n",
       "0   сотрудник     0        253875               покупка жилья  недвижимость   \n",
       "1   сотрудник     0        112080     приобретение автомобиля    автомобиль   \n",
       "2   сотрудник     0        145885               покупка жилья  недвижимость   \n",
       "3   сотрудник     0        267628  дополнительное образование   образование   \n",
       "4   пенсионер     0        158616             сыграть свадьбу       свадьба   \n",
       "5   компаньон     0        255763               покупка жилья  недвижимость   \n",
       "6   компаньон     0        240525           операции с жильем  недвижимость   \n",
       "7   сотрудник     0        135823                 образование   образование   \n",
       "8   сотрудник     0         95856       на проведение свадьбы       свадьба   \n",
       "9   сотрудник     0        144425     покупка жилья для семьи  недвижимость   \n",
       "\n",
       "   purpose_flag_id                             lemmas_purpose  \n",
       "0                0                    [покупка,  , жилье, \\n]  \n",
       "1                1          [приобретение,  , автомобиль, \\n]  \n",
       "2                0                    [покупка,  , жилье, \\n]  \n",
       "3                2       [дополнительный,  , образование, \\n]  \n",
       "4                3                  [сыграть,  , свадьба, \\n]  \n",
       "5                0                    [покупка,  , жилье, \\n]  \n",
       "6                0             [операция,  , с,  , жилье, \\n]  \n",
       "7                2                          [образование, \\n]  \n",
       "8                3        [на,  , проведение,  , свадьба, \\n]  \n",
       "9                0  [покупка,  , жилье,  , для,  , семья, \\n]  "
      ]
     },
     "execution_count": 33,
     "metadata": {},
     "output_type": "execute_result"
    }
   ],
   "source": [
    "# создадтим предобработанную копию датасета\n",
    "credit_processed = credit.copy(deep=True)\n",
    "\n",
    "# для удобства поменяем порядок столбцов и сохраним этот порядок в датафрейме credit\n",
    "credit_columns = ['children', 'days_employed', 'years_employed', 'dob_years', 'experience_flag', \n",
    "                  'education', 'education_id', 'family_status', 'family_status_id', 'gender', \n",
    "                  'income_type', 'debt', 'total_income', 'purpose', 'purpose_flag', 'purpose_flag_id', \n",
    "                  'lemmas_purpose']\n",
    "credit = credit[credit_columns]\n",
    "\n",
    "# проверим порядок\n",
    "credit.head(10)"
   ]
  },
  {
   "cell_type": "code",
   "execution_count": 34,
   "metadata": {},
   "outputs": [
    {
     "data": {
      "text/plain": [
       "count    2.037000e+04\n",
       "mean     1.665203e+05\n",
       "std      9.898426e+04\n",
       "min      2.066700e+04\n",
       "25%      1.083892e+05\n",
       "50%      1.428125e+05\n",
       "75%      1.967368e+05\n",
       "max      2.265604e+06\n",
       "Name: total_income, dtype: float64"
      ]
     },
     "execution_count": 34,
     "metadata": {},
     "output_type": "execute_result"
    }
   ],
   "source": [
    "# выведем статистику по столбцу total_income\n",
    "credit['total_income'].describe()"
   ]
  },
  {
   "cell_type": "markdown",
   "metadata": {},
   "source": [
    "- Чтобы данные равномерно попали в наши категории, подберем значения для разделения дохода на три категории на основе квантилей : возьмем в качестве граничных значений 0.33 и 0.66;"
   ]
  },
  {
   "cell_type": "code",
   "execution_count": 35,
   "metadata": {},
   "outputs": [
    {
     "data": {
      "text/plain": [
       "[120361.34000000001, 172357.0]"
      ]
     },
     "execution_count": 35,
     "metadata": {},
     "output_type": "execute_result"
    }
   ],
   "source": [
    "# извлекаем квантили столбца total_income\n",
    "total_income_quantiles = list(credit['total_income'].quantile([0.33, 0.66]))\n",
    "q_lower = total_income_quantiles[0]\n",
    "q_upper = total_income_quantiles[1]\n",
    "\n",
    "# проверим результаты\n",
    "total_income_quantiles"
   ]
  },
  {
   "cell_type": "code",
   "execution_count": 36,
   "metadata": {},
   "outputs": [
    {
     "data": {
      "text/plain": [
       "высокий    7239\n",
       "низкий     6722\n",
       "средний    6409\n",
       "Name: total_income_flag, dtype: int64"
      ]
     },
     "metadata": {},
     "output_type": "display_data"
    },
    {
     "data": {
      "text/html": [
       "<div>\n",
       "<style scoped>\n",
       "    .dataframe tbody tr th:only-of-type {\n",
       "        vertical-align: middle;\n",
       "    }\n",
       "\n",
       "    .dataframe tbody tr th {\n",
       "        vertical-align: top;\n",
       "    }\n",
       "\n",
       "    .dataframe thead th {\n",
       "        text-align: right;\n",
       "    }\n",
       "</style>\n",
       "<table border=\"1\" class=\"dataframe\">\n",
       "  <thead>\n",
       "    <tr style=\"text-align: right;\">\n",
       "      <th></th>\n",
       "      <th>children</th>\n",
       "      <th>days_employed</th>\n",
       "      <th>years_employed</th>\n",
       "      <th>dob_years</th>\n",
       "      <th>experience_flag</th>\n",
       "      <th>education</th>\n",
       "      <th>education_id</th>\n",
       "      <th>family_status</th>\n",
       "      <th>family_status_id</th>\n",
       "      <th>gender</th>\n",
       "      <th>income_type</th>\n",
       "      <th>debt</th>\n",
       "      <th>total_income</th>\n",
       "      <th>purpose</th>\n",
       "      <th>purpose_flag</th>\n",
       "      <th>purpose_flag_id</th>\n",
       "      <th>lemmas_purpose</th>\n",
       "      <th>total_income_flag</th>\n",
       "    </tr>\n",
       "  </thead>\n",
       "  <tbody>\n",
       "    <tr>\n",
       "      <td>0</td>\n",
       "      <td>1</td>\n",
       "      <td>8437</td>\n",
       "      <td>23.116912</td>\n",
       "      <td>42</td>\n",
       "      <td>реальный</td>\n",
       "      <td>высшее</td>\n",
       "      <td>0</td>\n",
       "      <td>женат / замужем</td>\n",
       "      <td>0</td>\n",
       "      <td>F</td>\n",
       "      <td>сотрудник</td>\n",
       "      <td>0</td>\n",
       "      <td>253875</td>\n",
       "      <td>покупка жилья</td>\n",
       "      <td>недвижимость</td>\n",
       "      <td>0</td>\n",
       "      <td>[покупка,  , жилье, \\n]</td>\n",
       "      <td>высокий</td>\n",
       "    </tr>\n",
       "    <tr>\n",
       "      <td>1</td>\n",
       "      <td>1</td>\n",
       "      <td>4024</td>\n",
       "      <td>11.026860</td>\n",
       "      <td>36</td>\n",
       "      <td>реальный</td>\n",
       "      <td>среднее</td>\n",
       "      <td>1</td>\n",
       "      <td>женат / замужем</td>\n",
       "      <td>0</td>\n",
       "      <td>F</td>\n",
       "      <td>сотрудник</td>\n",
       "      <td>0</td>\n",
       "      <td>112080</td>\n",
       "      <td>приобретение автомобиля</td>\n",
       "      <td>автомобиль</td>\n",
       "      <td>1</td>\n",
       "      <td>[приобретение,  , автомобиль, \\n]</td>\n",
       "      <td>низкий</td>\n",
       "    </tr>\n",
       "    <tr>\n",
       "      <td>2</td>\n",
       "      <td>0</td>\n",
       "      <td>5623</td>\n",
       "      <td>15.406637</td>\n",
       "      <td>33</td>\n",
       "      <td>реальный</td>\n",
       "      <td>среднее</td>\n",
       "      <td>1</td>\n",
       "      <td>женат / замужем</td>\n",
       "      <td>0</td>\n",
       "      <td>M</td>\n",
       "      <td>сотрудник</td>\n",
       "      <td>0</td>\n",
       "      <td>145885</td>\n",
       "      <td>покупка жилья</td>\n",
       "      <td>недвижимость</td>\n",
       "      <td>0</td>\n",
       "      <td>[покупка,  , жилье, \\n]</td>\n",
       "      <td>средний</td>\n",
       "    </tr>\n",
       "    <tr>\n",
       "      <td>3</td>\n",
       "      <td>3</td>\n",
       "      <td>4124</td>\n",
       "      <td>11.300677</td>\n",
       "      <td>32</td>\n",
       "      <td>реальный</td>\n",
       "      <td>среднее</td>\n",
       "      <td>1</td>\n",
       "      <td>женат / замужем</td>\n",
       "      <td>0</td>\n",
       "      <td>M</td>\n",
       "      <td>сотрудник</td>\n",
       "      <td>0</td>\n",
       "      <td>267628</td>\n",
       "      <td>дополнительное образование</td>\n",
       "      <td>образование</td>\n",
       "      <td>2</td>\n",
       "      <td>[дополнительный,  , образование, \\n]</td>\n",
       "      <td>высокий</td>\n",
       "    </tr>\n",
       "    <tr>\n",
       "      <td>4</td>\n",
       "      <td>0</td>\n",
       "      <td>14177</td>\n",
       "      <td>38.843159</td>\n",
       "      <td>53</td>\n",
       "      <td>реальный</td>\n",
       "      <td>среднее</td>\n",
       "      <td>1</td>\n",
       "      <td>гражданский брак</td>\n",
       "      <td>1</td>\n",
       "      <td>F</td>\n",
       "      <td>пенсионер</td>\n",
       "      <td>0</td>\n",
       "      <td>158616</td>\n",
       "      <td>сыграть свадьбу</td>\n",
       "      <td>свадьба</td>\n",
       "      <td>3</td>\n",
       "      <td>[сыграть,  , свадьба, \\n]</td>\n",
       "      <td>средний</td>\n",
       "    </tr>\n",
       "  </tbody>\n",
       "</table>\n",
       "</div>"
      ],
      "text/plain": [
       "   children  days_employed  years_employed  dob_years experience_flag  \\\n",
       "0         1           8437       23.116912         42        реальный   \n",
       "1         1           4024       11.026860         36        реальный   \n",
       "2         0           5623       15.406637         33        реальный   \n",
       "3         3           4124       11.300677         32        реальный   \n",
       "4         0          14177       38.843159         53        реальный   \n",
       "\n",
       "  education  education_id     family_status  family_status_id gender  \\\n",
       "0    высшее             0   женат / замужем                 0      F   \n",
       "1   среднее             1   женат / замужем                 0      F   \n",
       "2   среднее             1   женат / замужем                 0      M   \n",
       "3   среднее             1   женат / замужем                 0      M   \n",
       "4   среднее             1  гражданский брак                 1      F   \n",
       "\n",
       "  income_type  debt  total_income                     purpose  purpose_flag  \\\n",
       "0   сотрудник     0        253875               покупка жилья  недвижимость   \n",
       "1   сотрудник     0        112080     приобретение автомобиля    автомобиль   \n",
       "2   сотрудник     0        145885               покупка жилья  недвижимость   \n",
       "3   сотрудник     0        267628  дополнительное образование   образование   \n",
       "4   пенсионер     0        158616             сыграть свадьбу       свадьба   \n",
       "\n",
       "   purpose_flag_id                        lemmas_purpose total_income_flag  \n",
       "0                0               [покупка,  , жилье, \\n]           высокий  \n",
       "1                1     [приобретение,  , автомобиль, \\n]            низкий  \n",
       "2                0               [покупка,  , жилье, \\n]           средний  \n",
       "3                2  [дополнительный,  , образование, \\n]           высокий  \n",
       "4                3             [сыграть,  , свадьба, \\n]           средний  "
      ]
     },
     "execution_count": 36,
     "metadata": {},
     "output_type": "execute_result"
    }
   ],
   "source": [
    "# напишем функцию для присвоения категории по значению столбца total_income\n",
    "def total_income_flag(income):\n",
    "    \"\"\"\n",
    "    присваивает категорию по значению в столбце total_income\n",
    "    \n",
    "    params:\n",
    "    - income - значение total_income строки\n",
    "    \n",
    "    returns:\n",
    "    - соответствующую категорию\n",
    "    \"\"\"\n",
    "    if income < q_lower:\n",
    "        return 'низкий'\n",
    "    elif income > q_lower and income < q_upper:\n",
    "        return 'средний'\n",
    "    else:\n",
    "        return 'высокий'\n",
    "\n",
    "# проверим результат\n",
    "credit['total_income_flag'] = credit['total_income'].apply(total_income_flag)\n",
    "display(credit['total_income_flag'].value_counts())\n",
    "credit.head()"
   ]
  },
  {
   "cell_type": "code",
   "execution_count": 37,
   "metadata": {},
   "outputs": [
    {
     "data": {
      "text/html": [
       "<div>\n",
       "<style scoped>\n",
       "    .dataframe tbody tr th:only-of-type {\n",
       "        vertical-align: middle;\n",
       "    }\n",
       "\n",
       "    .dataframe tbody tr th {\n",
       "        vertical-align: top;\n",
       "    }\n",
       "\n",
       "    .dataframe thead th {\n",
       "        text-align: right;\n",
       "    }\n",
       "</style>\n",
       "<table border=\"1\" class=\"dataframe\">\n",
       "  <thead>\n",
       "    <tr style=\"text-align: right;\">\n",
       "      <th></th>\n",
       "      <th>purpose_flag_id</th>\n",
       "      <th>purpose_flag</th>\n",
       "    </tr>\n",
       "  </thead>\n",
       "  <tbody>\n",
       "    <tr>\n",
       "      <td>0</td>\n",
       "      <td>0</td>\n",
       "      <td>недвижимость</td>\n",
       "    </tr>\n",
       "    <tr>\n",
       "      <td>1</td>\n",
       "      <td>1</td>\n",
       "      <td>автомобиль</td>\n",
       "    </tr>\n",
       "    <tr>\n",
       "      <td>2</td>\n",
       "      <td>2</td>\n",
       "      <td>образование</td>\n",
       "    </tr>\n",
       "    <tr>\n",
       "      <td>3</td>\n",
       "      <td>3</td>\n",
       "      <td>свадьба</td>\n",
       "    </tr>\n",
       "    <tr>\n",
       "      <td>4</td>\n",
       "      <td>4</td>\n",
       "      <td>ремонт</td>\n",
       "    </tr>\n",
       "  </tbody>\n",
       "</table>\n",
       "</div>"
      ],
      "text/plain": [
       "   purpose_flag_id  purpose_flag\n",
       "0                0  недвижимость\n",
       "1                1    автомобиль\n",
       "2                2   образование\n",
       "3                3       свадьба\n",
       "4                4        ремонт"
      ]
     },
     "metadata": {},
     "output_type": "display_data"
    },
    {
     "data": {
      "text/html": [
       "<div>\n",
       "<style scoped>\n",
       "    .dataframe tbody tr th:only-of-type {\n",
       "        vertical-align: middle;\n",
       "    }\n",
       "\n",
       "    .dataframe tbody tr th {\n",
       "        vertical-align: top;\n",
       "    }\n",
       "\n",
       "    .dataframe thead th {\n",
       "        text-align: right;\n",
       "    }\n",
       "</style>\n",
       "<table border=\"1\" class=\"dataframe\">\n",
       "  <thead>\n",
       "    <tr style=\"text-align: right;\">\n",
       "      <th></th>\n",
       "      <th>education_id</th>\n",
       "      <th>education</th>\n",
       "    </tr>\n",
       "  </thead>\n",
       "  <tbody>\n",
       "    <tr>\n",
       "      <td>0</td>\n",
       "      <td>0</td>\n",
       "      <td>высшее</td>\n",
       "    </tr>\n",
       "    <tr>\n",
       "      <td>1</td>\n",
       "      <td>1</td>\n",
       "      <td>среднее</td>\n",
       "    </tr>\n",
       "    <tr>\n",
       "      <td>2</td>\n",
       "      <td>2</td>\n",
       "      <td>неоконченное высшее</td>\n",
       "    </tr>\n",
       "    <tr>\n",
       "      <td>3</td>\n",
       "      <td>3</td>\n",
       "      <td>начальное</td>\n",
       "    </tr>\n",
       "    <tr>\n",
       "      <td>4</td>\n",
       "      <td>4</td>\n",
       "      <td>ученая степень</td>\n",
       "    </tr>\n",
       "  </tbody>\n",
       "</table>\n",
       "</div>"
      ],
      "text/plain": [
       "   education_id            education\n",
       "0             0               высшее\n",
       "1             1              среднее\n",
       "2             2  неоконченное высшее\n",
       "3             3            начальное\n",
       "4             4       ученая степень"
      ]
     },
     "metadata": {},
     "output_type": "display_data"
    },
    {
     "data": {
      "text/html": [
       "<div>\n",
       "<style scoped>\n",
       "    .dataframe tbody tr th:only-of-type {\n",
       "        vertical-align: middle;\n",
       "    }\n",
       "\n",
       "    .dataframe tbody tr th {\n",
       "        vertical-align: top;\n",
       "    }\n",
       "\n",
       "    .dataframe thead th {\n",
       "        text-align: right;\n",
       "    }\n",
       "</style>\n",
       "<table border=\"1\" class=\"dataframe\">\n",
       "  <thead>\n",
       "    <tr style=\"text-align: right;\">\n",
       "      <th></th>\n",
       "      <th>family_status_id</th>\n",
       "      <th>family_status</th>\n",
       "    </tr>\n",
       "  </thead>\n",
       "  <tbody>\n",
       "    <tr>\n",
       "      <td>0</td>\n",
       "      <td>0</td>\n",
       "      <td>женат / замужем</td>\n",
       "    </tr>\n",
       "    <tr>\n",
       "      <td>1</td>\n",
       "      <td>1</td>\n",
       "      <td>гражданский брак</td>\n",
       "    </tr>\n",
       "    <tr>\n",
       "      <td>2</td>\n",
       "      <td>3</td>\n",
       "      <td>в разводе</td>\n",
       "    </tr>\n",
       "    <tr>\n",
       "      <td>3</td>\n",
       "      <td>4</td>\n",
       "      <td>не женат / не замужем</td>\n",
       "    </tr>\n",
       "    <tr>\n",
       "      <td>4</td>\n",
       "      <td>2</td>\n",
       "      <td>вдовец / вдова</td>\n",
       "    </tr>\n",
       "  </tbody>\n",
       "</table>\n",
       "</div>"
      ],
      "text/plain": [
       "   family_status_id          family_status\n",
       "0                 0        женат / замужем\n",
       "1                 1       гражданский брак\n",
       "2                 3              в разводе\n",
       "3                 4  не женат / не замужем\n",
       "4                 2         вдовец / вдова"
      ]
     },
     "execution_count": 37,
     "metadata": {},
     "output_type": "execute_result"
    }
   ],
   "source": [
    "# создаем словари для purpose_flag\n",
    "purpose_flag_dict = credit[['purpose_flag_id', 'purpose_flag']].drop_duplicates().reset_index(drop=True)\n",
    "education_dict = credit[['education_id', 'education']].drop_duplicates().reset_index(drop=True)\n",
    "family_status_dict = credit[['family_status_id', 'family_status']].drop_duplicates().reset_index(drop=True)\n",
    "\n",
    "display(purpose_flag_dict)\n",
    "display(education_dict)\n",
    "family_status_dict"
   ]
  },
  {
   "cell_type": "markdown",
   "metadata": {},
   "source": [
    "**Выводы**"
   ]
  },
  {
   "cell_type": "markdown",
   "metadata": {},
   "source": [
    "1. Категории целей получения кредита получили свои уникальные id и были помечены в данных;\n",
    "2. Созданы словари для категориальных данных следующих столбцов: **purpose_flag**, **education** и **family_status**\n",
    "3. Классификация выполнена по типу: выделены уникальные категории с присвоенными им id;"
   ]
  },
  {
   "cell_type": "markdown",
   "metadata": {},
   "source": [
    "## Анализ платежеспособности клиентов"
   ]
  },
  {
   "cell_type": "markdown",
   "metadata": {},
   "source": [
    "*Есть ли зависимость между наличием детей и возвратом кредита в срок?*"
   ]
  },
  {
   "cell_type": "markdown",
   "metadata": {},
   "source": [
    "- Т.к. размер каждой группы разный, то для сравнения количество должников каждой группы мы должны нормировать данные на размер группы, т.е. сравнивать доли должников каждой отдельной группы;"
   ]
  },
  {
   "cell_type": "code",
   "execution_count": 46,
   "metadata": {},
   "outputs": [
    {
     "data": {
      "text/html": [
       "<div>\n",
       "<style scoped>\n",
       "    .dataframe tbody tr th:only-of-type {\n",
       "        vertical-align: middle;\n",
       "    }\n",
       "\n",
       "    .dataframe tbody tr th {\n",
       "        vertical-align: top;\n",
       "    }\n",
       "\n",
       "    .dataframe thead th {\n",
       "        text-align: right;\n",
       "    }\n",
       "</style>\n",
       "<table border=\"1\" class=\"dataframe\">\n",
       "  <thead>\n",
       "    <tr style=\"text-align: right;\">\n",
       "      <th></th>\n",
       "      <th>debt</th>\n",
       "    </tr>\n",
       "    <tr>\n",
       "      <th>children</th>\n",
       "      <th></th>\n",
       "    </tr>\n",
       "  </thead>\n",
       "  <tbody>\n",
       "    <tr>\n",
       "      <td>4</td>\n",
       "      <td>0.100000</td>\n",
       "    </tr>\n",
       "    <tr>\n",
       "      <td>2</td>\n",
       "      <td>0.094164</td>\n",
       "    </tr>\n",
       "    <tr>\n",
       "      <td>1</td>\n",
       "      <td>0.092327</td>\n",
       "    </tr>\n",
       "    <tr>\n",
       "      <td>3</td>\n",
       "      <td>0.080000</td>\n",
       "    </tr>\n",
       "    <tr>\n",
       "      <td>0</td>\n",
       "      <td>0.076743</td>\n",
       "    </tr>\n",
       "    <tr>\n",
       "      <td>5</td>\n",
       "      <td>0.000000</td>\n",
       "    </tr>\n",
       "  </tbody>\n",
       "</table>\n",
       "</div>"
      ],
      "text/plain": [
       "              debt\n",
       "children          \n",
       "4         0.100000\n",
       "2         0.094164\n",
       "1         0.092327\n",
       "3         0.080000\n",
       "0         0.076743\n",
       "5         0.000000"
      ]
     },
     "metadata": {},
     "output_type": "display_data"
    },
    {
     "data": {
      "text/plain": [
       "children\n",
       "0    13213\n",
       "1     4744\n",
       "2     2039\n",
       "3      325\n",
       "4       40\n",
       "5        9\n",
       "Name: children, dtype: int64"
      ]
     },
     "execution_count": 46,
     "metadata": {},
     "output_type": "execute_result"
    }
   ],
   "source": [
    "# посчитаем долю должников по children\n",
    "display(credit.pivot_table(index='children', \n",
    "                   values = 'debt', \n",
    "                   aggfunc= lambda x: x.sum()/x.count()\n",
    "                  ).sort_values(by='debt', ascending=False))\n",
    "\n",
    "# сгруппируем по столбцу children и посчитаем общее количество клиентов для каждой группы\n",
    "credit.groupby('children')['children'].count()"
   ]
  },
  {
   "cell_type": "markdown",
   "metadata": {},
   "source": [
    "**Вывод**"
   ]
  },
  {
   "cell_type": "markdown",
   "metadata": {},
   "source": [
    "- Видно, что **доля должников возрастает с увеличением количества детей в семье**. Похоже, многодетные семьи реже возвращают кредит в срок. Возможно это связано с социальными особенностями в России, где чаще многодетные семьи малообеспеченные финансово, т.к. чем больше детей, тем больше расходов, поэтому и отдвать кредит становится сложнее;\n",
    "- Из данного тренда выбивается лишь доля должников с 5 детьми, она равна 0. Посмотрев на данные, мы можем заметить, строк с со значением количества детей равным 5 всего лишь 9, ни один из этих клиентов не имеет задолжности. Это довольно маленькая выборка, поэтому полагаться на значения, связанные со строками, где количество детей равно 5, не стоит;"
   ]
  },
  {
   "cell_type": "markdown",
   "metadata": {},
   "source": [
    "*Есть ли зависимость между семейным положением и возвратом кредита в срок?*"
   ]
  },
  {
   "cell_type": "code",
   "execution_count": 40,
   "metadata": {
    "scrolled": true
   },
   "outputs": [
    {
     "data": {
      "text/plain": [
       "family_status\n",
       "не женат / не замужем    0.099039\n",
       "гражданский брак         0.093465\n",
       "женат / замужем          0.077022\n",
       "в разводе                0.071240\n",
       "вдовец / вдова           0.062212\n",
       "Name: debt, dtype: float64"
      ]
     },
     "metadata": {},
     "output_type": "display_data"
    },
    {
     "data": {
      "text/plain": [
       "family_status\n",
       "не женат / не замужем    38.196600\n",
       "гражданский брак         41.862969\n",
       "женат / замужем          43.334472\n",
       "в разводе                45.639402\n",
       "вдовец / вдова           57.074885\n",
       "Name: dob_years, dtype: float64"
      ]
     },
     "execution_count": 40,
     "metadata": {},
     "output_type": "execute_result"
    }
   ],
   "source": [
    "# посчитаем долю должников по family_status\n",
    "credit.pivot_table(index='family_status', \n",
    "                   values = 'debt', \n",
    "                   aggfunc= lambda x: x.sum()/x.count()\n",
    "                  ).sort_values(by='debt', ascending=False)\n",
    "\n",
    "# сгруппируем по столбцу family_status и посчитаем средний возраст\n",
    "credit.groupby('family_status')['dob_years'].mean().sort_values()"
   ]
  },
  {
   "cell_type": "markdown",
   "metadata": {},
   "source": [
    "**Вывод**"
   ]
  },
  {
   "cell_type": "markdown",
   "metadata": {},
   "source": [
    "- Люди, **не вступавшие в брак**, и люди **в гражданском браке реже возвращают кредит в срок**;\n",
    "- Возможной причиной такой картины является тот факт, что люди не вступавшие в брак и в гражданском браке в среднем моложе остальных, молодые - менее мудрые и опытные и более рискованные, отсюда и больше плохо спланированных кредитов;"
   ]
  },
  {
   "cell_type": "markdown",
   "metadata": {},
   "source": [
    "*Есть ли зависимость между уровнем дохода и возвратом кредита в срок?*"
   ]
  },
  {
   "cell_type": "code",
   "execution_count": 43,
   "metadata": {},
   "outputs": [
    {
     "data": {
      "text/html": [
       "<div>\n",
       "<style scoped>\n",
       "    .dataframe tbody tr th:only-of-type {\n",
       "        vertical-align: middle;\n",
       "    }\n",
       "\n",
       "    .dataframe tbody tr th {\n",
       "        vertical-align: top;\n",
       "    }\n",
       "\n",
       "    .dataframe thead th {\n",
       "        text-align: right;\n",
       "    }\n",
       "</style>\n",
       "<table border=\"1\" class=\"dataframe\">\n",
       "  <thead>\n",
       "    <tr style=\"text-align: right;\">\n",
       "      <th></th>\n",
       "      <th>debt</th>\n",
       "    </tr>\n",
       "    <tr>\n",
       "      <th>total_income_flag</th>\n",
       "      <th></th>\n",
       "    </tr>\n",
       "  </thead>\n",
       "  <tbody>\n",
       "    <tr>\n",
       "      <td>средний</td>\n",
       "      <td>0.089562</td>\n",
       "    </tr>\n",
       "    <tr>\n",
       "      <td>низкий</td>\n",
       "      <td>0.083309</td>\n",
       "    </tr>\n",
       "    <tr>\n",
       "      <td>высокий</td>\n",
       "      <td>0.074596</td>\n",
       "    </tr>\n",
       "  </tbody>\n",
       "</table>\n",
       "</div>"
      ],
      "text/plain": [
       "                       debt\n",
       "total_income_flag          \n",
       "средний            0.089562\n",
       "низкий             0.083309\n",
       "высокий            0.074596"
      ]
     },
     "execution_count": 43,
     "metadata": {},
     "output_type": "execute_result"
    }
   ],
   "source": [
    "# посчитаем долю должников по total_income_flag\n",
    "credit.pivot_table(index='total_income_flag', \n",
    "                   values = 'debt', \n",
    "                   aggfunc= lambda x: x.sum()/x.count()\n",
    "                  ).sort_values(by='debt', ascending=False)"
   ]
  },
  {
   "cell_type": "markdown",
   "metadata": {},
   "source": [
    "**Вывод**"
   ]
  },
  {
   "cell_type": "markdown",
   "metadata": {},
   "source": [
    "- C небольшим отрывов люди со средним доходом обычно чаще не возвращают кредит в срок, но в целом **ситуация** более менее **равная**, поэтому можно сделать вывод, что **уровень дохода не сильно влияет** на то, будет ли **кредит возвращен в срок**;"
   ]
  },
  {
   "cell_type": "markdown",
   "metadata": {},
   "source": [
    "*Как разные цели кредита влияют на его возврат в срок?*"
   ]
  },
  {
   "cell_type": "code",
   "execution_count": 45,
   "metadata": {},
   "outputs": [
    {
     "data": {
      "text/html": [
       "<div>\n",
       "<style scoped>\n",
       "    .dataframe tbody tr th:only-of-type {\n",
       "        vertical-align: middle;\n",
       "    }\n",
       "\n",
       "    .dataframe tbody tr th {\n",
       "        vertical-align: top;\n",
       "    }\n",
       "\n",
       "    .dataframe thead th {\n",
       "        text-align: right;\n",
       "    }\n",
       "</style>\n",
       "<table border=\"1\" class=\"dataframe\">\n",
       "  <thead>\n",
       "    <tr style=\"text-align: right;\">\n",
       "      <th></th>\n",
       "      <th>debt</th>\n",
       "    </tr>\n",
       "    <tr>\n",
       "      <th>purpose_flag</th>\n",
       "      <th></th>\n",
       "    </tr>\n",
       "  </thead>\n",
       "  <tbody>\n",
       "    <tr>\n",
       "      <td>образование</td>\n",
       "      <td>0.094053</td>\n",
       "    </tr>\n",
       "    <tr>\n",
       "      <td>автомобиль</td>\n",
       "      <td>0.093917</td>\n",
       "    </tr>\n",
       "    <tr>\n",
       "      <td>свадьба</td>\n",
       "      <td>0.078146</td>\n",
       "    </tr>\n",
       "    <tr>\n",
       "      <td>недвижимость</td>\n",
       "      <td>0.074821</td>\n",
       "    </tr>\n",
       "    <tr>\n",
       "      <td>ремонт</td>\n",
       "      <td>0.058722</td>\n",
       "    </tr>\n",
       "  </tbody>\n",
       "</table>\n",
       "</div>"
      ],
      "text/plain": [
       "                  debt\n",
       "purpose_flag          \n",
       "образование   0.094053\n",
       "автомобиль    0.093917\n",
       "свадьба       0.078146\n",
       "недвижимость  0.074821\n",
       "ремонт        0.058722"
      ]
     },
     "execution_count": 45,
     "metadata": {},
     "output_type": "execute_result"
    }
   ],
   "source": [
    "# посчитаем долю должников по purpose_flag\n",
    "credit.pivot_table(index='purpose_flag', \n",
    "                   values = 'debt', \n",
    "                   aggfunc= lambda x: x.sum()/x.count()\n",
    "                  ).sort_values(by='debt', ascending=False)"
   ]
  },
  {
   "cell_type": "markdown",
   "metadata": {},
   "source": [
    "**Вывод**"
   ]
  },
  {
   "cell_type": "markdown",
   "metadata": {},
   "source": [
    "- Похоже, что кредиты **на образование и автомобиль реже всего возращаются в срок**;"
   ]
  },
  {
   "cell_type": "markdown",
   "metadata": {},
   "source": [
    "## Общий вывод"
   ]
  },
  {
   "cell_type": "markdown",
   "metadata": {},
   "source": [
    "- По результатам анализа скорее всего **не вернут кредит в срок** люди не состоящие в браке либо состоящие в гражданском браке, из многодетных семей и берущие кредит на образование или автомобиль;\n",
    "- Уровень дохода при это особо не влияет на способность вернуть кредит в срок;"
   ]
  },
  {
   "cell_type": "code",
   "execution_count": null,
   "metadata": {},
   "outputs": [],
   "source": []
  }
 ],
 "metadata": {
  "ExecuteTimeLog": [
   {
    "duration": 729,
    "start_time": "2021-06-23T08:39:15.688Z"
   },
   {
    "duration": 1864,
    "start_time": "2021-06-23T08:43:10.013Z"
   },
   {
    "duration": 257,
    "start_time": "2021-06-23T08:45:45.818Z"
   },
   {
    "duration": 262,
    "start_time": "2021-06-23T08:48:07.546Z"
   },
   {
    "duration": 21,
    "start_time": "2021-06-23T08:53:55.835Z"
   },
   {
    "duration": 16,
    "start_time": "2021-06-23T08:54:12.916Z"
   },
   {
    "duration": 230,
    "start_time": "2021-06-23T08:54:33.429Z"
   },
   {
    "duration": 47,
    "start_time": "2021-06-23T08:56:25.455Z"
   },
   {
    "duration": 226,
    "start_time": "2021-06-23T08:57:49.835Z"
   },
   {
    "duration": 238,
    "start_time": "2021-06-23T08:58:26.165Z"
   },
   {
    "duration": 16,
    "start_time": "2021-06-23T08:58:44.705Z"
   },
   {
    "duration": 74,
    "start_time": "2021-06-23T09:04:59.009Z"
   },
   {
    "duration": 116,
    "start_time": "2021-06-23T09:05:05.837Z"
   },
   {
    "duration": 16,
    "start_time": "2021-06-23T09:05:11.174Z"
   },
   {
    "duration": 74,
    "start_time": "2021-06-23T09:05:20.833Z"
   },
   {
    "duration": 78,
    "start_time": "2021-06-23T09:26:03.984Z"
   },
   {
    "duration": 115,
    "start_time": "2021-06-23T10:41:05.172Z"
   },
   {
    "duration": 31,
    "start_time": "2021-06-23T10:41:05.290Z"
   },
   {
    "duration": 15,
    "start_time": "2021-06-23T10:41:29.685Z"
   },
   {
    "duration": 21,
    "start_time": "2021-06-23T10:42:03.322Z"
   },
   {
    "duration": 20,
    "start_time": "2021-06-23T11:15:55.370Z"
   },
   {
    "duration": 72,
    "start_time": "2021-06-23T11:16:41.041Z"
   },
   {
    "duration": 11,
    "start_time": "2021-06-23T11:18:12.187Z"
   },
   {
    "duration": 65,
    "start_time": "2021-06-23T11:21:52.745Z"
   },
   {
    "duration": 10,
    "start_time": "2021-06-23T11:32:17.278Z"
   },
   {
    "duration": 32,
    "start_time": "2021-06-23T11:32:41.109Z"
   },
   {
    "duration": 22,
    "start_time": "2021-06-23T11:33:07.656Z"
   },
   {
    "duration": 10,
    "start_time": "2021-06-23T11:40:34.744Z"
   },
   {
    "duration": 10,
    "start_time": "2021-06-23T11:40:38.473Z"
   },
   {
    "duration": 3,
    "start_time": "2021-06-23T11:40:44.002Z"
   },
   {
    "duration": 11,
    "start_time": "2021-06-23T11:40:46.565Z"
   },
   {
    "duration": 11,
    "start_time": "2021-06-23T11:41:23.810Z"
   },
   {
    "duration": 32,
    "start_time": "2021-06-23T11:41:24.812Z"
   },
   {
    "duration": 439,
    "start_time": "2021-06-23T11:41:32.005Z"
   },
   {
    "duration": 20,
    "start_time": "2021-06-23T11:41:43.522Z"
   },
   {
    "duration": 276,
    "start_time": "2021-06-23T11:58:05.442Z"
   },
   {
    "duration": 195,
    "start_time": "2021-06-23T11:58:11.216Z"
   },
   {
    "duration": 609,
    "start_time": "2021-06-23T11:58:16.394Z"
   },
   {
    "duration": 638,
    "start_time": "2021-06-23T11:58:50.503Z"
   },
   {
    "duration": 641,
    "start_time": "2021-06-23T11:59:06.931Z"
   },
   {
    "duration": 258,
    "start_time": "2021-06-23T11:59:08.422Z"
   },
   {
    "duration": 589,
    "start_time": "2021-06-23T12:00:03.190Z"
   },
   {
    "duration": 627,
    "start_time": "2021-06-23T12:00:22.324Z"
   },
   {
    "duration": 78,
    "start_time": "2021-06-23T12:35:41.911Z"
   },
   {
    "duration": 15,
    "start_time": "2021-06-23T12:36:26.778Z"
   },
   {
    "duration": 19,
    "start_time": "2021-06-23T12:36:45.289Z"
   },
   {
    "duration": 21,
    "start_time": "2021-06-23T12:38:08.936Z"
   },
   {
    "duration": 20,
    "start_time": "2021-06-23T12:38:15.844Z"
   },
   {
    "duration": 310,
    "start_time": "2021-06-23T12:39:09.709Z"
   },
   {
    "duration": 17,
    "start_time": "2021-06-23T12:40:05.303Z"
   },
   {
    "duration": 15,
    "start_time": "2021-06-23T12:42:08.912Z"
   },
   {
    "duration": 16,
    "start_time": "2021-06-23T12:42:26.657Z"
   },
   {
    "duration": 12,
    "start_time": "2021-06-23T12:46:04.717Z"
   },
   {
    "duration": 88,
    "start_time": "2021-06-23T12:48:07.149Z"
   },
   {
    "duration": 21,
    "start_time": "2021-06-23T12:54:02.690Z"
   },
   {
    "duration": 47,
    "start_time": "2021-06-23T12:54:07.477Z"
   },
   {
    "duration": 35,
    "start_time": "2021-06-23T13:00:09.076Z"
   },
   {
    "duration": 34,
    "start_time": "2021-06-23T13:01:03.283Z"
   },
   {
    "duration": 14,
    "start_time": "2021-06-23T13:01:26.717Z"
   },
   {
    "duration": 14,
    "start_time": "2021-06-23T13:01:35.123Z"
   },
   {
    "duration": 15,
    "start_time": "2021-06-23T13:01:40.930Z"
   },
   {
    "duration": 14,
    "start_time": "2021-06-23T13:01:45.303Z"
   },
   {
    "duration": 49,
    "start_time": "2021-06-23T13:05:42.309Z"
   },
   {
    "duration": 280,
    "start_time": "2021-06-23T13:14:17.989Z"
   },
   {
    "duration": 81,
    "start_time": "2021-06-23T13:14:34.170Z"
   },
   {
    "duration": 70,
    "start_time": "2021-06-23T13:14:55.050Z"
   },
   {
    "duration": 56,
    "start_time": "2021-06-23T13:16:02.733Z"
   },
   {
    "duration": 49,
    "start_time": "2021-06-23T13:16:44.399Z"
   },
   {
    "duration": 50,
    "start_time": "2021-06-23T13:17:03.998Z"
   },
   {
    "duration": 46,
    "start_time": "2021-06-23T13:17:29.689Z"
   },
   {
    "duration": 46,
    "start_time": "2021-06-23T13:17:36.745Z"
   },
   {
    "duration": 80,
    "start_time": "2021-06-23T13:17:53.921Z"
   },
   {
    "duration": 16,
    "start_time": "2021-06-23T13:17:54.003Z"
   },
   {
    "duration": 48,
    "start_time": "2021-06-23T13:17:54.022Z"
   },
   {
    "duration": 73,
    "start_time": "2021-06-23T13:17:54.073Z"
   },
   {
    "duration": 14,
    "start_time": "2021-06-23T13:17:54.149Z"
   },
   {
    "duration": 49,
    "start_time": "2021-06-23T13:17:54.165Z"
   },
   {
    "duration": 20,
    "start_time": "2021-06-23T13:17:54.217Z"
   },
   {
    "duration": 52,
    "start_time": "2021-06-23T13:20:02.727Z"
   },
   {
    "duration": 14,
    "start_time": "2021-06-23T13:20:18.077Z"
   },
   {
    "duration": 14,
    "start_time": "2021-06-23T13:26:45.267Z"
   },
   {
    "duration": 10,
    "start_time": "2021-06-23T13:26:55.737Z"
   },
   {
    "duration": 9,
    "start_time": "2021-06-23T13:27:27.577Z"
   },
   {
    "duration": 9,
    "start_time": "2021-06-23T13:27:35.737Z"
   },
   {
    "duration": 41,
    "start_time": "2021-06-23T13:31:05.112Z"
   },
   {
    "duration": 11,
    "start_time": "2021-06-23T13:31:20.118Z"
   },
   {
    "duration": 10,
    "start_time": "2021-06-23T13:31:53.425Z"
   },
   {
    "duration": 313,
    "start_time": "2021-06-23T13:33:44.006Z"
   },
   {
    "duration": 310,
    "start_time": "2021-06-23T13:34:16.287Z"
   },
   {
    "duration": 355,
    "start_time": "2021-06-23T13:35:07.066Z"
   },
   {
    "duration": 3320,
    "start_time": "2021-06-23T13:36:06.940Z"
   },
   {
    "duration": 8,
    "start_time": "2021-06-23T13:39:12.414Z"
   },
   {
    "duration": 8,
    "start_time": "2021-06-23T13:39:22.319Z"
   },
   {
    "duration": 49,
    "start_time": "2021-06-23T13:43:43.426Z"
   },
   {
    "duration": 82,
    "start_time": "2021-06-23T13:44:03.572Z"
   },
   {
    "duration": 17,
    "start_time": "2021-06-23T13:44:03.658Z"
   },
   {
    "duration": 49,
    "start_time": "2021-06-23T13:44:03.700Z"
   },
   {
    "duration": 14,
    "start_time": "2021-06-23T13:44:03.751Z"
   },
   {
    "duration": 43,
    "start_time": "2021-06-23T13:44:03.768Z"
   },
   {
    "duration": 20,
    "start_time": "2021-06-23T13:44:03.815Z"
   },
   {
    "duration": 63,
    "start_time": "2021-06-23T13:44:03.862Z"
   },
   {
    "duration": 69,
    "start_time": "2021-06-23T13:44:29.785Z"
   },
   {
    "duration": 50,
    "start_time": "2021-06-23T13:45:19.361Z"
   },
   {
    "duration": 17,
    "start_time": "2021-06-23T13:52:58.510Z"
   },
   {
    "duration": 11,
    "start_time": "2021-06-23T13:53:09.238Z"
   },
   {
    "duration": 10,
    "start_time": "2021-06-23T13:53:13.982Z"
   },
   {
    "duration": 82,
    "start_time": "2021-06-23T13:53:35.676Z"
   },
   {
    "duration": 15,
    "start_time": "2021-06-23T13:53:35.761Z"
   },
   {
    "duration": 45,
    "start_time": "2021-06-23T13:53:35.799Z"
   },
   {
    "duration": 13,
    "start_time": "2021-06-23T13:53:35.847Z"
   },
   {
    "duration": 45,
    "start_time": "2021-06-23T13:53:35.862Z"
   },
   {
    "duration": 18,
    "start_time": "2021-06-23T13:53:35.909Z"
   },
   {
    "duration": 10,
    "start_time": "2021-06-23T13:53:35.930Z"
   },
   {
    "duration": 100,
    "start_time": "2021-06-23T13:53:58.522Z"
   },
   {
    "duration": 123,
    "start_time": "2021-06-23T13:55:33.724Z"
   },
   {
    "duration": 11,
    "start_time": "2021-06-23T13:56:19.697Z"
   },
   {
    "duration": 47,
    "start_time": "2021-06-23T14:06:33.217Z"
   },
   {
    "duration": 21,
    "start_time": "2021-06-23T14:07:52.538Z"
   },
   {
    "duration": 50,
    "start_time": "2021-06-23T14:08:23.612Z"
   },
   {
    "duration": 81,
    "start_time": "2021-06-23T14:08:56.280Z"
   },
   {
    "duration": 15,
    "start_time": "2021-06-23T14:08:56.364Z"
   },
   {
    "duration": 46,
    "start_time": "2021-06-23T14:08:56.401Z"
   },
   {
    "duration": 12,
    "start_time": "2021-06-23T14:08:56.450Z"
   },
   {
    "duration": 42,
    "start_time": "2021-06-23T14:08:56.465Z"
   },
   {
    "duration": 18,
    "start_time": "2021-06-23T14:08:56.510Z"
   },
   {
    "duration": 16,
    "start_time": "2021-06-23T14:08:56.531Z"
   },
   {
    "duration": 79,
    "start_time": "2021-06-23T14:08:56.550Z"
   },
   {
    "duration": 50,
    "start_time": "2021-06-23T14:13:31.678Z"
   },
   {
    "duration": 39,
    "start_time": "2021-06-23T14:13:43.051Z"
   },
   {
    "duration": 39,
    "start_time": "2021-06-23T14:13:56.964Z"
   },
   {
    "duration": 78,
    "start_time": "2021-06-23T14:14:12.569Z"
   },
   {
    "duration": 15,
    "start_time": "2021-06-23T14:14:12.650Z"
   },
   {
    "duration": 63,
    "start_time": "2021-06-23T14:14:12.668Z"
   },
   {
    "duration": 13,
    "start_time": "2021-06-23T14:14:12.734Z"
   },
   {
    "duration": 22,
    "start_time": "2021-06-23T14:14:12.749Z"
   },
   {
    "duration": 43,
    "start_time": "2021-06-23T14:14:12.774Z"
   },
   {
    "duration": 15,
    "start_time": "2021-06-23T14:14:12.820Z"
   },
   {
    "duration": 73,
    "start_time": "2021-06-23T14:14:12.838Z"
   },
   {
    "duration": 81,
    "start_time": "2021-06-23T14:14:40.505Z"
   },
   {
    "duration": 28,
    "start_time": "2021-06-23T14:14:40.589Z"
   },
   {
    "duration": 84,
    "start_time": "2021-06-23T14:14:40.621Z"
   },
   {
    "duration": 15,
    "start_time": "2021-06-23T14:14:40.709Z"
   },
   {
    "duration": 23,
    "start_time": "2021-06-23T14:14:40.727Z"
   },
   {
    "duration": 65,
    "start_time": "2021-06-23T14:14:40.753Z"
   },
   {
    "duration": 12,
    "start_time": "2021-06-23T14:14:40.820Z"
   },
   {
    "duration": 134,
    "start_time": "2021-06-23T14:14:40.836Z"
   },
   {
    "duration": 82,
    "start_time": "2021-06-23T14:20:43.755Z"
   },
   {
    "duration": 15,
    "start_time": "2021-06-23T14:20:43.840Z"
   },
   {
    "duration": 62,
    "start_time": "2021-06-23T14:20:43.858Z"
   },
   {
    "duration": 12,
    "start_time": "2021-06-23T14:20:43.923Z"
   },
   {
    "duration": 14,
    "start_time": "2021-06-23T14:20:43.938Z"
   },
   {
    "duration": 48,
    "start_time": "2021-06-23T14:20:43.954Z"
   },
   {
    "duration": 11,
    "start_time": "2021-06-23T14:20:44.004Z"
   },
   {
    "duration": 283,
    "start_time": "2021-06-23T14:20:44.018Z"
   },
   {
    "duration": 90,
    "start_time": "2021-06-23T14:20:56.818Z"
   },
   {
    "duration": 15,
    "start_time": "2021-06-23T14:20:56.911Z"
   },
   {
    "duration": 49,
    "start_time": "2021-06-23T14:20:56.929Z"
   },
   {
    "duration": 12,
    "start_time": "2021-06-23T14:20:57.001Z"
   },
   {
    "duration": 16,
    "start_time": "2021-06-23T14:20:57.016Z"
   },
   {
    "duration": 18,
    "start_time": "2021-06-23T14:20:57.034Z"
   },
   {
    "duration": 51,
    "start_time": "2021-06-23T14:20:57.055Z"
   },
   {
    "duration": 136,
    "start_time": "2021-06-23T14:20:57.111Z"
   },
   {
    "duration": 12,
    "start_time": "2021-06-23T14:23:58.494Z"
   },
   {
    "duration": 10,
    "start_time": "2021-06-23T14:24:05.094Z"
   },
   {
    "duration": 15,
    "start_time": "2021-06-23T14:24:20.270Z"
   },
   {
    "duration": 83,
    "start_time": "2021-06-23T14:25:39.033Z"
   },
   {
    "duration": 14,
    "start_time": "2021-06-23T14:25:39.119Z"
   },
   {
    "duration": 48,
    "start_time": "2021-06-23T14:25:39.136Z"
   },
   {
    "duration": 12,
    "start_time": "2021-06-23T14:25:39.200Z"
   },
   {
    "duration": 14,
    "start_time": "2021-06-23T14:25:39.214Z"
   },
   {
    "duration": 18,
    "start_time": "2021-06-23T14:25:39.230Z"
   },
   {
    "duration": 50,
    "start_time": "2021-06-23T14:25:39.251Z"
   },
   {
    "duration": 13,
    "start_time": "2021-06-23T14:25:51.273Z"
   },
   {
    "duration": 11,
    "start_time": "2021-06-23T14:25:53.897Z"
   },
   {
    "duration": 8,
    "start_time": "2021-06-23T14:26:01.370Z"
   },
   {
    "duration": 9,
    "start_time": "2021-06-23T14:26:41.074Z"
   },
   {
    "duration": 84,
    "start_time": "2021-06-23T14:27:13.093Z"
   },
   {
    "duration": 11,
    "start_time": "2021-06-23T14:27:27.844Z"
   },
   {
    "duration": 8,
    "start_time": "2021-06-23T14:27:54.710Z"
   },
   {
    "duration": 9,
    "start_time": "2021-06-23T14:28:10.388Z"
   },
   {
    "duration": 39,
    "start_time": "2021-06-23T14:33:41.487Z"
   },
   {
    "duration": 24,
    "start_time": "2021-06-23T14:33:47.409Z"
   },
   {
    "duration": 10,
    "start_time": "2021-06-23T14:35:15.864Z"
   },
   {
    "duration": 11,
    "start_time": "2021-06-23T14:35:48.945Z"
   },
   {
    "duration": 8,
    "start_time": "2021-06-23T14:35:55.475Z"
   },
   {
    "duration": 82,
    "start_time": "2021-06-23T14:40:33.076Z"
   },
   {
    "duration": 893,
    "start_time": "2021-06-23T14:40:56.061Z"
   },
   {
    "duration": 292,
    "start_time": "2021-06-23T14:41:05.675Z"
   },
   {
    "duration": 273,
    "start_time": "2021-06-23T14:41:31.955Z"
   },
   {
    "duration": 289,
    "start_time": "2021-06-23T14:41:49.499Z"
   },
   {
    "duration": 28,
    "start_time": "2021-06-23T14:43:09.551Z"
   },
   {
    "duration": 13,
    "start_time": "2021-06-23T15:01:59.776Z"
   },
   {
    "duration": 467,
    "start_time": "2021-06-23T15:21:43.176Z"
   },
   {
    "duration": 84,
    "start_time": "2021-06-23T15:22:26.636Z"
   },
   {
    "duration": 18,
    "start_time": "2021-06-23T15:22:26.723Z"
   },
   {
    "duration": 68,
    "start_time": "2021-06-23T15:22:26.744Z"
   },
   {
    "duration": 13,
    "start_time": "2021-06-23T15:22:26.814Z"
   },
   {
    "duration": 23,
    "start_time": "2021-06-23T15:22:26.830Z"
   },
   {
    "duration": 47,
    "start_time": "2021-06-23T15:22:26.855Z"
   },
   {
    "duration": 8,
    "start_time": "2021-06-23T15:22:26.904Z"
   },
   {
    "duration": 24,
    "start_time": "2021-06-23T15:22:26.940Z"
   },
   {
    "duration": 41,
    "start_time": "2021-06-23T15:24:15.155Z"
   },
   {
    "duration": 38,
    "start_time": "2021-06-23T15:24:34.123Z"
   },
   {
    "duration": 82,
    "start_time": "2021-06-23T15:24:49.482Z"
   },
   {
    "duration": 35,
    "start_time": "2021-06-23T15:24:49.567Z"
   },
   {
    "duration": 48,
    "start_time": "2021-06-23T15:24:49.605Z"
   },
   {
    "duration": 12,
    "start_time": "2021-06-23T15:24:49.656Z"
   },
   {
    "duration": 42,
    "start_time": "2021-06-23T15:24:49.670Z"
   },
   {
    "duration": 30,
    "start_time": "2021-06-23T15:24:49.715Z"
   },
   {
    "duration": 34,
    "start_time": "2021-06-23T15:24:49.747Z"
   },
   {
    "duration": 47,
    "start_time": "2021-06-23T15:24:49.784Z"
   },
   {
    "duration": 19,
    "start_time": "2021-06-23T15:37:46.594Z"
   },
   {
    "duration": 80,
    "start_time": "2021-06-23T15:39:21.276Z"
   },
   {
    "duration": 35,
    "start_time": "2021-06-23T15:40:04.437Z"
   },
   {
    "duration": 38,
    "start_time": "2021-06-23T15:41:08.665Z"
   },
   {
    "duration": 19,
    "start_time": "2021-06-23T15:41:42.457Z"
   },
   {
    "duration": 41,
    "start_time": "2021-06-23T15:41:53.219Z"
   },
   {
    "duration": 11,
    "start_time": "2021-06-23T15:43:09.957Z"
   },
   {
    "duration": 35,
    "start_time": "2021-06-23T15:43:49.875Z"
   },
   {
    "duration": 19,
    "start_time": "2021-06-23T15:44:24.631Z"
   },
   {
    "duration": 21,
    "start_time": "2021-06-23T15:44:49.617Z"
   },
   {
    "duration": 36,
    "start_time": "2021-06-23T15:45:41.073Z"
   },
   {
    "duration": 20,
    "start_time": "2021-06-23T15:45:54.873Z"
   },
   {
    "duration": 18,
    "start_time": "2021-06-23T15:46:38.394Z"
   },
   {
    "duration": 37,
    "start_time": "2021-06-23T15:46:43.620Z"
   },
   {
    "duration": 83,
    "start_time": "2021-06-23T15:49:31.158Z"
   },
   {
    "duration": 18,
    "start_time": "2021-06-23T15:49:31.245Z"
   },
   {
    "duration": 78,
    "start_time": "2021-06-23T15:49:31.268Z"
   },
   {
    "duration": 16,
    "start_time": "2021-06-23T15:49:31.350Z"
   },
   {
    "duration": 45,
    "start_time": "2021-06-23T15:49:31.369Z"
   },
   {
    "duration": 18,
    "start_time": "2021-06-23T15:49:31.417Z"
   },
   {
    "duration": 12,
    "start_time": "2021-06-23T15:49:31.437Z"
   },
   {
    "duration": 51,
    "start_time": "2021-06-23T15:49:31.452Z"
   },
   {
    "duration": 19,
    "start_time": "2021-06-23T15:49:31.505Z"
   },
   {
    "duration": 1867,
    "start_time": "2021-06-23T15:54:15.167Z"
   },
   {
    "duration": 1856,
    "start_time": "2021-06-23T15:54:15.180Z"
   },
   {
    "duration": 1850,
    "start_time": "2021-06-23T15:54:15.188Z"
   },
   {
    "duration": 1845,
    "start_time": "2021-06-23T15:54:15.194Z"
   },
   {
    "duration": 1840,
    "start_time": "2021-06-23T15:54:15.200Z"
   },
   {
    "duration": 1835,
    "start_time": "2021-06-23T15:54:15.207Z"
   },
   {
    "duration": 1830,
    "start_time": "2021-06-23T15:54:15.214Z"
   },
   {
    "duration": 1825,
    "start_time": "2021-06-23T15:54:15.220Z"
   },
   {
    "duration": 1806,
    "start_time": "2021-06-23T15:54:15.240Z"
   },
   {
    "duration": 1800,
    "start_time": "2021-06-23T15:54:15.248Z"
   },
   {
    "duration": 26,
    "start_time": "2021-06-23T15:54:29.881Z"
   },
   {
    "duration": 17,
    "start_time": "2021-06-23T16:02:42.560Z"
   },
   {
    "duration": 17,
    "start_time": "2021-06-23T16:04:10.128Z"
   },
   {
    "duration": 79,
    "start_time": "2021-06-23T16:45:18.110Z"
   },
   {
    "duration": 15,
    "start_time": "2021-06-23T16:45:18.192Z"
   },
   {
    "duration": 46,
    "start_time": "2021-06-23T16:45:18.211Z"
   },
   {
    "duration": 42,
    "start_time": "2021-06-23T16:45:18.260Z"
   },
   {
    "duration": 15,
    "start_time": "2021-06-23T16:45:18.304Z"
   },
   {
    "duration": 18,
    "start_time": "2021-06-23T16:45:18.322Z"
   },
   {
    "duration": 10,
    "start_time": "2021-06-23T16:45:18.343Z"
   },
   {
    "duration": 66,
    "start_time": "2021-06-23T16:45:18.355Z"
   },
   {
    "duration": 22,
    "start_time": "2021-06-23T16:45:18.425Z"
   },
   {
    "duration": 51,
    "start_time": "2021-06-23T16:45:18.449Z"
   },
   {
    "duration": 18,
    "start_time": "2021-06-23T16:45:18.503Z"
   },
   {
    "duration": 1320,
    "start_time": "2021-06-24T06:35:55.845Z"
   },
   {
    "duration": 11,
    "start_time": "2021-06-24T06:35:57.167Z"
   },
   {
    "duration": 32,
    "start_time": "2021-06-24T06:35:57.180Z"
   },
   {
    "duration": 9,
    "start_time": "2021-06-24T06:35:57.214Z"
   },
   {
    "duration": 11,
    "start_time": "2021-06-24T06:35:57.225Z"
   },
   {
    "duration": 12,
    "start_time": "2021-06-24T06:35:57.238Z"
   },
   {
    "duration": 37,
    "start_time": "2021-06-24T06:35:57.252Z"
   },
   {
    "duration": 907,
    "start_time": "2021-06-24T06:35:57.291Z"
   },
   {
    "duration": 62,
    "start_time": "2021-06-24T06:36:27.104Z"
   },
   {
    "duration": 10,
    "start_time": "2021-06-24T06:36:27.168Z"
   },
   {
    "duration": 32,
    "start_time": "2021-06-24T06:36:27.181Z"
   },
   {
    "duration": 9,
    "start_time": "2021-06-24T06:36:27.214Z"
   },
   {
    "duration": 10,
    "start_time": "2021-06-24T06:36:27.225Z"
   },
   {
    "duration": 12,
    "start_time": "2021-06-24T06:36:27.237Z"
   },
   {
    "duration": 36,
    "start_time": "2021-06-24T06:36:27.250Z"
   },
   {
    "duration": 16,
    "start_time": "2021-06-24T06:36:27.288Z"
   },
   {
    "duration": 60,
    "start_time": "2021-06-24T06:37:11.945Z"
   },
   {
    "duration": 11,
    "start_time": "2021-06-24T06:37:12.006Z"
   },
   {
    "duration": 28,
    "start_time": "2021-06-24T06:37:12.019Z"
   },
   {
    "duration": 8,
    "start_time": "2021-06-24T06:37:12.049Z"
   },
   {
    "duration": 35,
    "start_time": "2021-06-24T06:37:12.058Z"
   },
   {
    "duration": 11,
    "start_time": "2021-06-24T06:37:12.095Z"
   },
   {
    "duration": 7,
    "start_time": "2021-06-24T06:37:12.108Z"
   },
   {
    "duration": 14,
    "start_time": "2021-06-24T06:37:12.117Z"
   },
   {
    "duration": 60,
    "start_time": "2021-06-24T06:37:42.915Z"
   },
   {
    "duration": 10,
    "start_time": "2021-06-24T06:37:42.977Z"
   },
   {
    "duration": 29,
    "start_time": "2021-06-24T06:37:42.989Z"
   },
   {
    "duration": 9,
    "start_time": "2021-06-24T06:37:43.020Z"
   },
   {
    "duration": 9,
    "start_time": "2021-06-24T06:37:43.030Z"
   },
   {
    "duration": 16,
    "start_time": "2021-06-24T06:37:43.041Z"
   },
   {
    "duration": 5,
    "start_time": "2021-06-24T06:37:43.085Z"
   },
   {
    "duration": 15,
    "start_time": "2021-06-24T06:37:43.092Z"
   },
   {
    "duration": 61,
    "start_time": "2021-06-24T06:37:57.279Z"
   },
   {
    "duration": 9,
    "start_time": "2021-06-24T06:37:57.342Z"
   },
   {
    "duration": 41,
    "start_time": "2021-06-24T06:37:57.353Z"
   },
   {
    "duration": 8,
    "start_time": "2021-06-24T06:37:57.396Z"
   },
   {
    "duration": 10,
    "start_time": "2021-06-24T06:37:57.406Z"
   },
   {
    "duration": 12,
    "start_time": "2021-06-24T06:37:57.417Z"
   },
   {
    "duration": 6,
    "start_time": "2021-06-24T06:37:57.430Z"
   },
   {
    "duration": 48,
    "start_time": "2021-06-24T06:37:57.438Z"
   },
   {
    "duration": 13,
    "start_time": "2021-06-24T06:37:57.487Z"
   },
   {
    "duration": 17,
    "start_time": "2021-06-24T06:37:57.501Z"
   },
   {
    "duration": 13,
    "start_time": "2021-06-24T06:37:57.520Z"
   },
   {
    "duration": 62,
    "start_time": "2021-06-24T06:44:01.379Z"
   },
   {
    "duration": 11,
    "start_time": "2021-06-24T06:44:01.444Z"
   },
   {
    "duration": 50,
    "start_time": "2021-06-24T06:44:01.458Z"
   },
   {
    "duration": 10,
    "start_time": "2021-06-24T06:44:01.511Z"
   },
   {
    "duration": 12,
    "start_time": "2021-06-24T06:44:01.522Z"
   },
   {
    "duration": 14,
    "start_time": "2021-06-24T06:44:01.536Z"
   },
   {
    "duration": 34,
    "start_time": "2021-06-24T06:44:01.552Z"
   },
   {
    "duration": 17,
    "start_time": "2021-06-24T06:44:01.589Z"
   },
   {
    "duration": 15,
    "start_time": "2021-06-24T06:44:01.608Z"
   },
   {
    "duration": 17,
    "start_time": "2021-06-24T06:44:01.625Z"
   },
   {
    "duration": 42,
    "start_time": "2021-06-24T06:44:01.644Z"
   },
   {
    "duration": 63,
    "start_time": "2021-06-24T06:44:33.120Z"
   },
   {
    "duration": 11,
    "start_time": "2021-06-24T06:44:33.185Z"
   },
   {
    "duration": 30,
    "start_time": "2021-06-24T06:44:33.198Z"
   },
   {
    "duration": 10,
    "start_time": "2021-06-24T06:44:33.230Z"
   },
   {
    "duration": 46,
    "start_time": "2021-06-24T06:44:33.242Z"
   },
   {
    "duration": 12,
    "start_time": "2021-06-24T06:44:33.290Z"
   },
   {
    "duration": 6,
    "start_time": "2021-06-24T06:44:33.304Z"
   },
   {
    "duration": 15,
    "start_time": "2021-06-24T06:44:33.313Z"
   },
   {
    "duration": 11,
    "start_time": "2021-06-24T06:44:33.330Z"
   },
   {
    "duration": 57,
    "start_time": "2021-06-24T06:44:33.343Z"
   },
   {
    "duration": 12,
    "start_time": "2021-06-24T06:44:33.402Z"
   },
   {
    "duration": 8,
    "start_time": "2021-06-24T07:28:04.881Z"
   },
   {
    "duration": 4726,
    "start_time": "2021-06-24T07:28:13.439Z"
   },
   {
    "duration": 7,
    "start_time": "2021-06-24T07:28:42.908Z"
   },
   {
    "duration": 6,
    "start_time": "2021-06-24T07:29:06.541Z"
   },
   {
    "duration": 17,
    "start_time": "2021-06-24T07:30:00.246Z"
   },
   {
    "duration": 62,
    "start_time": "2021-06-24T07:30:25.935Z"
   },
   {
    "duration": 17,
    "start_time": "2021-06-24T07:30:46.285Z"
   },
   {
    "duration": 90,
    "start_time": "2021-06-24T07:33:26.534Z"
   },
   {
    "duration": 13,
    "start_time": "2021-06-24T07:33:26.626Z"
   },
   {
    "duration": 11,
    "start_time": "2021-06-24T07:33:26.641Z"
   },
   {
    "duration": 53,
    "start_time": "2021-06-24T07:33:26.654Z"
   },
   {
    "duration": 9,
    "start_time": "2021-06-24T07:33:26.709Z"
   },
   {
    "duration": 10,
    "start_time": "2021-06-24T07:33:26.719Z"
   },
   {
    "duration": 12,
    "start_time": "2021-06-24T07:33:26.730Z"
   },
   {
    "duration": 5,
    "start_time": "2021-06-24T07:33:26.744Z"
   },
   {
    "duration": 45,
    "start_time": "2021-06-24T07:33:26.751Z"
   },
   {
    "duration": 15,
    "start_time": "2021-06-24T07:33:26.797Z"
   },
   {
    "duration": 11,
    "start_time": "2021-06-24T07:33:26.813Z"
   },
   {
    "duration": 13,
    "start_time": "2021-06-24T07:33:26.958Z"
   },
   {
    "duration": 16,
    "start_time": "2021-06-24T07:33:26.973Z"
   },
   {
    "duration": 7,
    "start_time": "2021-06-24T07:40:12.212Z"
   },
   {
    "duration": 10,
    "start_time": "2021-06-24T07:40:20.712Z"
   },
   {
    "duration": 99,
    "start_time": "2021-06-24T07:40:36.271Z"
   },
   {
    "duration": 21,
    "start_time": "2021-06-24T07:40:36.372Z"
   },
   {
    "duration": 13,
    "start_time": "2021-06-24T07:40:36.395Z"
   },
   {
    "duration": 35,
    "start_time": "2021-06-24T07:40:36.410Z"
   },
   {
    "duration": 6,
    "start_time": "2021-06-24T07:40:36.447Z"
   },
   {
    "duration": 92,
    "start_time": "2021-06-24T07:40:44.872Z"
   },
   {
    "duration": 14,
    "start_time": "2021-06-24T07:40:48.152Z"
   },
   {
    "duration": 11,
    "start_time": "2021-06-24T07:40:51.887Z"
   },
   {
    "duration": 32,
    "start_time": "2021-06-24T07:40:57.970Z"
   },
   {
    "duration": 6,
    "start_time": "2021-06-24T07:41:02.984Z"
   },
   {
    "duration": 9,
    "start_time": "2021-06-24T07:41:06.506Z"
   },
   {
    "duration": 93,
    "start_time": "2021-06-24T07:42:17.224Z"
   },
   {
    "duration": 13,
    "start_time": "2021-06-24T07:42:17.319Z"
   },
   {
    "duration": 12,
    "start_time": "2021-06-24T07:42:17.333Z"
   },
   {
    "duration": 49,
    "start_time": "2021-06-24T07:42:17.347Z"
   },
   {
    "duration": 4,
    "start_time": "2021-06-24T07:42:21.251Z"
   },
   {
    "duration": 9,
    "start_time": "2021-06-24T07:42:23.634Z"
   },
   {
    "duration": 10,
    "start_time": "2021-06-24T07:52:48.382Z"
   },
   {
    "duration": 9,
    "start_time": "2021-06-24T07:52:59.366Z"
   },
   {
    "duration": 8,
    "start_time": "2021-06-24T07:53:03.988Z"
   },
   {
    "duration": 21,
    "start_time": "2021-06-24T07:53:12.317Z"
   },
   {
    "duration": 15,
    "start_time": "2021-06-24T07:59:36.995Z"
   },
   {
    "duration": 3794,
    "start_time": "2021-06-24T08:07:24.329Z"
   },
   {
    "duration": 2323,
    "start_time": "2021-06-24T08:07:53.067Z"
   },
   {
    "duration": 12,
    "start_time": "2021-06-24T08:08:20.862Z"
   },
   {
    "duration": 15,
    "start_time": "2021-06-24T08:09:35.948Z"
   },
   {
    "duration": 15,
    "start_time": "2021-06-24T08:09:54.355Z"
   },
   {
    "duration": 6,
    "start_time": "2021-06-24T08:13:11.077Z"
   },
   {
    "duration": 6,
    "start_time": "2021-06-24T08:13:18.972Z"
   },
   {
    "duration": 189,
    "start_time": "2021-06-24T08:53:19.543Z"
   },
   {
    "duration": 4415,
    "start_time": "2021-06-24T08:53:34.940Z"
   },
   {
    "duration": 194,
    "start_time": "2021-06-24T08:54:24.688Z"
   },
   {
    "duration": 194,
    "start_time": "2021-06-24T08:54:30.390Z"
   },
   {
    "duration": 100,
    "start_time": "2021-06-24T08:54:44.149Z"
   },
   {
    "duration": 15,
    "start_time": "2021-06-24T08:54:44.252Z"
   },
   {
    "duration": 12,
    "start_time": "2021-06-24T08:54:44.286Z"
   },
   {
    "duration": 34,
    "start_time": "2021-06-24T08:54:44.300Z"
   },
   {
    "duration": 4,
    "start_time": "2021-06-24T08:54:44.336Z"
   },
   {
    "duration": 10,
    "start_time": "2021-06-24T08:54:44.342Z"
   },
   {
    "duration": 15,
    "start_time": "2021-06-24T08:54:44.384Z"
   },
   {
    "duration": 11,
    "start_time": "2021-06-24T08:54:44.401Z"
   },
   {
    "duration": 13,
    "start_time": "2021-06-24T08:54:44.414Z"
   },
   {
    "duration": 18,
    "start_time": "2021-06-24T08:54:44.428Z"
   },
   {
    "duration": 38,
    "start_time": "2021-06-24T08:54:44.448Z"
   },
   {
    "duration": 23,
    "start_time": "2021-06-24T08:54:44.488Z"
   },
   {
    "duration": 18,
    "start_time": "2021-06-24T08:54:44.513Z"
   },
   {
    "duration": 14,
    "start_time": "2021-06-24T08:54:44.533Z"
   },
   {
    "duration": 48,
    "start_time": "2021-06-24T08:54:44.549Z"
   },
   {
    "duration": 13,
    "start_time": "2021-06-24T08:54:47.311Z"
   },
   {
    "duration": 15,
    "start_time": "2021-06-24T08:56:25.274Z"
   },
   {
    "duration": 20,
    "start_time": "2021-06-24T08:57:15.885Z"
   },
   {
    "duration": 360,
    "start_time": "2021-06-24T11:58:42.875Z"
   },
   {
    "duration": 1713,
    "start_time": "2021-06-24T11:58:50.397Z"
   },
   {
    "duration": 16,
    "start_time": "2021-06-24T11:58:52.112Z"
   },
   {
    "duration": 64,
    "start_time": "2021-06-24T11:58:52.132Z"
   },
   {
    "duration": 6,
    "start_time": "2021-06-24T11:58:52.200Z"
   },
   {
    "duration": 24,
    "start_time": "2021-06-24T11:58:52.209Z"
   },
   {
    "duration": 39,
    "start_time": "2021-06-24T11:58:52.236Z"
   },
   {
    "duration": 17,
    "start_time": "2021-06-24T11:58:52.277Z"
   },
   {
    "duration": 19,
    "start_time": "2021-06-24T11:58:52.297Z"
   },
   {
    "duration": 23,
    "start_time": "2021-06-24T11:58:52.357Z"
   },
   {
    "duration": 8,
    "start_time": "2021-06-24T11:58:52.383Z"
   },
   {
    "duration": 24,
    "start_time": "2021-06-24T11:58:52.393Z"
   },
   {
    "duration": 25,
    "start_time": "2021-06-24T11:58:52.456Z"
   },
   {
    "duration": 16,
    "start_time": "2021-06-24T11:58:52.483Z"
   },
   {
    "duration": 17,
    "start_time": "2021-06-24T11:58:52.502Z"
   },
   {
    "duration": 34,
    "start_time": "2021-06-24T11:58:52.555Z"
   },
   {
    "duration": 15,
    "start_time": "2021-06-24T11:58:54.674Z"
   },
   {
    "duration": 10,
    "start_time": "2021-06-24T11:59:12.150Z"
   },
   {
    "duration": 10,
    "start_time": "2021-06-24T12:00:48.125Z"
   },
   {
    "duration": 11,
    "start_time": "2021-06-24T12:01:10.037Z"
   },
   {
    "duration": 21,
    "start_time": "2021-06-24T12:07:23.297Z"
   },
   {
    "duration": 23,
    "start_time": "2021-06-24T12:07:33.021Z"
   },
   {
    "duration": 47,
    "start_time": "2021-06-24T12:07:58.787Z"
   },
   {
    "duration": 20,
    "start_time": "2021-06-24T12:08:14.488Z"
   },
   {
    "duration": 46,
    "start_time": "2021-06-24T12:08:19.394Z"
   },
   {
    "duration": 36,
    "start_time": "2021-06-24T12:10:53.904Z"
   },
   {
    "duration": 48,
    "start_time": "2021-06-24T12:11:04.136Z"
   },
   {
    "duration": 32,
    "start_time": "2021-06-24T12:11:32.786Z"
   },
   {
    "duration": 5,
    "start_time": "2021-06-24T12:12:29.657Z"
   },
   {
    "duration": 45,
    "start_time": "2021-06-24T12:12:39.145Z"
   },
   {
    "duration": 32,
    "start_time": "2021-06-24T12:12:54.336Z"
   },
   {
    "duration": 21,
    "start_time": "2021-06-24T12:13:59.006Z"
   },
   {
    "duration": 21,
    "start_time": "2021-06-24T12:14:02.692Z"
   },
   {
    "duration": 47,
    "start_time": "2021-06-24T12:14:19.382Z"
   },
   {
    "duration": 30,
    "start_time": "2021-06-24T12:14:36.553Z"
   },
   {
    "duration": 49,
    "start_time": "2021-06-24T12:15:04.830Z"
   },
   {
    "duration": 22,
    "start_time": "2021-06-24T12:16:22.415Z"
   },
   {
    "duration": 397,
    "start_time": "2021-06-24T12:19:20.719Z"
   },
   {
    "duration": 391,
    "start_time": "2021-06-24T12:19:31.064Z"
   },
   {
    "duration": 131,
    "start_time": "2021-06-24T12:19:49.126Z"
   },
   {
    "duration": 15,
    "start_time": "2021-06-24T12:19:49.259Z"
   },
   {
    "duration": 47,
    "start_time": "2021-06-24T12:19:49.277Z"
   },
   {
    "duration": 6,
    "start_time": "2021-06-24T12:19:49.355Z"
   },
   {
    "duration": 15,
    "start_time": "2021-06-24T12:19:49.364Z"
   },
   {
    "duration": 23,
    "start_time": "2021-06-24T12:19:49.382Z"
   },
   {
    "duration": 56,
    "start_time": "2021-06-24T12:19:49.408Z"
   },
   {
    "duration": 20,
    "start_time": "2021-06-24T12:19:49.467Z"
   },
   {
    "duration": 23,
    "start_time": "2021-06-24T12:19:49.489Z"
   },
   {
    "duration": 45,
    "start_time": "2021-06-24T12:19:49.514Z"
   },
   {
    "duration": 27,
    "start_time": "2021-06-24T12:19:49.562Z"
   },
   {
    "duration": 25,
    "start_time": "2021-06-24T12:19:49.591Z"
   },
   {
    "duration": 48,
    "start_time": "2021-06-24T12:19:49.618Z"
   },
   {
    "duration": 17,
    "start_time": "2021-06-24T12:19:49.669Z"
   },
   {
    "duration": 32,
    "start_time": "2021-06-24T12:19:49.688Z"
   },
   {
    "duration": 299,
    "start_time": "2021-06-24T12:19:52.727Z"
   },
   {
    "duration": 60,
    "start_time": "2021-06-24T12:20:28.747Z"
   },
   {
    "duration": 126,
    "start_time": "2021-06-24T12:20:34.174Z"
   },
   {
    "duration": 15,
    "start_time": "2021-06-24T12:20:34.303Z"
   },
   {
    "duration": 66,
    "start_time": "2021-06-24T12:20:34.321Z"
   },
   {
    "duration": 6,
    "start_time": "2021-06-24T12:20:34.389Z"
   },
   {
    "duration": 14,
    "start_time": "2021-06-24T12:20:34.397Z"
   },
   {
    "duration": 44,
    "start_time": "2021-06-24T12:20:34.413Z"
   },
   {
    "duration": 15,
    "start_time": "2021-06-24T12:20:34.459Z"
   },
   {
    "duration": 19,
    "start_time": "2021-06-24T12:20:34.477Z"
   },
   {
    "duration": 59,
    "start_time": "2021-06-24T12:20:34.499Z"
   },
   {
    "duration": 8,
    "start_time": "2021-06-24T12:20:34.560Z"
   },
   {
    "duration": 25,
    "start_time": "2021-06-24T12:20:34.570Z"
   },
   {
    "duration": 60,
    "start_time": "2021-06-24T12:20:34.597Z"
   },
   {
    "duration": 17,
    "start_time": "2021-06-24T12:20:34.659Z"
   },
   {
    "duration": 17,
    "start_time": "2021-06-24T12:20:34.678Z"
   },
   {
    "duration": 61,
    "start_time": "2021-06-24T12:20:34.697Z"
   },
   {
    "duration": 60,
    "start_time": "2021-06-24T12:20:37.281Z"
   },
   {
    "duration": 285,
    "start_time": "2021-06-24T12:21:45.899Z"
   },
   {
    "duration": 271,
    "start_time": "2021-06-24T12:21:55.067Z"
   },
   {
    "duration": 268,
    "start_time": "2021-06-24T12:22:21.191Z"
   },
   {
    "duration": 15,
    "start_time": "2021-06-24T12:22:59.966Z"
   },
   {
    "duration": 10,
    "start_time": "2021-06-24T12:23:14.214Z"
   },
   {
    "duration": 39,
    "start_time": "2021-06-24T12:23:44.147Z"
   },
   {
    "duration": 37,
    "start_time": "2021-06-24T12:24:41.297Z"
   },
   {
    "duration": 45,
    "start_time": "2021-06-24T12:25:09.481Z"
   },
   {
    "duration": 27,
    "start_time": "2021-06-24T12:28:34.698Z"
   },
   {
    "duration": 86,
    "start_time": "2021-06-24T12:29:36.382Z"
   },
   {
    "duration": 157,
    "start_time": "2021-06-24T13:44:15.434Z"
   },
   {
    "duration": 19,
    "start_time": "2021-06-24T13:44:15.595Z"
   },
   {
    "duration": 85,
    "start_time": "2021-06-24T13:44:15.617Z"
   },
   {
    "duration": 5,
    "start_time": "2021-06-24T13:44:15.705Z"
   },
   {
    "duration": 17,
    "start_time": "2021-06-24T13:44:15.713Z"
   },
   {
    "duration": 46,
    "start_time": "2021-06-24T13:44:15.733Z"
   },
   {
    "duration": 22,
    "start_time": "2021-06-24T13:44:15.784Z"
   },
   {
    "duration": 52,
    "start_time": "2021-06-24T13:44:15.809Z"
   },
   {
    "duration": 32,
    "start_time": "2021-06-24T13:44:15.865Z"
   },
   {
    "duration": 7,
    "start_time": "2021-06-24T13:44:15.899Z"
   },
   {
    "duration": 60,
    "start_time": "2021-06-24T13:44:15.909Z"
   },
   {
    "duration": 28,
    "start_time": "2021-06-24T13:44:15.972Z"
   },
   {
    "duration": 22,
    "start_time": "2021-06-24T13:44:16.003Z"
   },
   {
    "duration": 63,
    "start_time": "2021-06-24T13:44:16.028Z"
   },
   {
    "duration": 35,
    "start_time": "2021-06-24T13:44:16.093Z"
   },
   {
    "duration": 57,
    "start_time": "2021-06-24T13:44:39.831Z"
   },
   {
    "duration": 19,
    "start_time": "2021-06-24T14:13:02.769Z"
   },
   {
    "duration": 13,
    "start_time": "2021-06-24T14:13:20.525Z"
   },
   {
    "duration": 132,
    "start_time": "2021-06-24T14:13:28.768Z"
   },
   {
    "duration": 17,
    "start_time": "2021-06-24T14:13:28.903Z"
   },
   {
    "duration": 76,
    "start_time": "2021-06-24T14:13:28.924Z"
   },
   {
    "duration": 6,
    "start_time": "2021-06-24T14:13:29.003Z"
   },
   {
    "duration": 43,
    "start_time": "2021-06-24T14:13:29.012Z"
   },
   {
    "duration": 23,
    "start_time": "2021-06-24T14:13:29.058Z"
   },
   {
    "duration": 16,
    "start_time": "2021-06-24T14:13:29.083Z"
   },
   {
    "duration": 19,
    "start_time": "2021-06-24T14:13:29.103Z"
   },
   {
    "duration": 22,
    "start_time": "2021-06-24T14:13:29.158Z"
   },
   {
    "duration": 8,
    "start_time": "2021-06-24T14:13:29.182Z"
   },
   {
    "duration": 62,
    "start_time": "2021-06-24T14:13:29.193Z"
   },
   {
    "duration": 23,
    "start_time": "2021-06-24T14:13:29.258Z"
   },
   {
    "duration": 16,
    "start_time": "2021-06-24T14:13:29.284Z"
   },
   {
    "duration": 19,
    "start_time": "2021-06-24T14:13:29.303Z"
   },
   {
    "duration": 34,
    "start_time": "2021-06-24T14:13:29.357Z"
   },
   {
    "duration": 117,
    "start_time": "2021-06-24T14:13:29.395Z"
   },
   {
    "duration": 86,
    "start_time": "2021-06-24T14:13:29.514Z"
   },
   {
    "duration": 110,
    "start_time": "2021-06-24T14:13:29.603Z"
   },
   {
    "duration": 15,
    "start_time": "2021-06-24T14:13:32.589Z"
   },
   {
    "duration": 12,
    "start_time": "2021-06-24T14:14:28.493Z"
   },
   {
    "duration": 9,
    "start_time": "2021-06-24T14:14:56.161Z"
   },
   {
    "duration": 11,
    "start_time": "2021-06-24T14:15:17.440Z"
   },
   {
    "duration": 11,
    "start_time": "2021-06-24T14:15:39.576Z"
   },
   {
    "duration": 25,
    "start_time": "2021-06-24T14:16:10.355Z"
   },
   {
    "duration": 29,
    "start_time": "2021-06-24T14:16:48.347Z"
   },
   {
    "duration": 9,
    "start_time": "2021-06-24T14:17:02.503Z"
   },
   {
    "duration": 14,
    "start_time": "2021-06-24T14:18:00.026Z"
   },
   {
    "duration": 131,
    "start_time": "2021-06-24T14:18:12.455Z"
   },
   {
    "duration": 15,
    "start_time": "2021-06-24T14:18:12.588Z"
   },
   {
    "duration": 78,
    "start_time": "2021-06-24T14:18:12.606Z"
   },
   {
    "duration": 5,
    "start_time": "2021-06-24T14:18:12.686Z"
   },
   {
    "duration": 15,
    "start_time": "2021-06-24T14:18:12.693Z"
   },
   {
    "duration": 13,
    "start_time": "2021-06-24T14:18:16.138Z"
   },
   {
    "duration": 14,
    "start_time": "2021-06-24T14:18:52.094Z"
   },
   {
    "duration": 136,
    "start_time": "2021-06-24T14:19:05.219Z"
   },
   {
    "duration": 15,
    "start_time": "2021-06-24T14:19:05.358Z"
   },
   {
    "duration": 50,
    "start_time": "2021-06-24T14:19:05.376Z"
   },
   {
    "duration": 6,
    "start_time": "2021-06-24T14:19:05.457Z"
   },
   {
    "duration": 16,
    "start_time": "2021-06-24T14:19:05.465Z"
   },
   {
    "duration": 21,
    "start_time": "2021-06-24T14:19:05.484Z"
   },
   {
    "duration": 51,
    "start_time": "2021-06-24T14:19:05.507Z"
   },
   {
    "duration": 19,
    "start_time": "2021-06-24T14:19:05.562Z"
   },
   {
    "duration": 30,
    "start_time": "2021-06-24T14:19:05.583Z"
   },
   {
    "duration": 43,
    "start_time": "2021-06-24T14:19:05.615Z"
   },
   {
    "duration": 25,
    "start_time": "2021-06-24T14:19:05.660Z"
   },
   {
    "duration": 25,
    "start_time": "2021-06-24T14:19:05.687Z"
   },
   {
    "duration": 50,
    "start_time": "2021-06-24T14:19:05.715Z"
   },
   {
    "duration": 18,
    "start_time": "2021-06-24T14:19:05.767Z"
   },
   {
    "duration": 35,
    "start_time": "2021-06-24T14:19:05.787Z"
   },
   {
    "duration": 136,
    "start_time": "2021-06-24T14:19:05.824Z"
   },
   {
    "duration": 71,
    "start_time": "2021-06-24T14:19:05.963Z"
   },
   {
    "duration": 120,
    "start_time": "2021-06-24T14:19:06.037Z"
   },
   {
    "duration": 17,
    "start_time": "2021-06-24T14:19:17.536Z"
   },
   {
    "duration": 11,
    "start_time": "2021-06-24T14:19:31.466Z"
   },
   {
    "duration": 10,
    "start_time": "2021-06-24T14:19:48.607Z"
   },
   {
    "duration": 10,
    "start_time": "2021-06-24T14:19:55.455Z"
   },
   {
    "duration": 9,
    "start_time": "2021-06-24T14:20:01.312Z"
   },
   {
    "duration": 11,
    "start_time": "2021-06-24T14:25:06.602Z"
   },
   {
    "duration": 252,
    "start_time": "2021-06-24T15:12:03.971Z"
   },
   {
    "duration": 10,
    "start_time": "2021-06-24T15:12:14.006Z"
   },
   {
    "duration": 289,
    "start_time": "2021-06-24T15:13:54.929Z"
   },
   {
    "duration": 128,
    "start_time": "2021-06-24T15:15:13.250Z"
   },
   {
    "duration": 15,
    "start_time": "2021-06-24T15:15:13.380Z"
   },
   {
    "duration": 80,
    "start_time": "2021-06-24T15:15:13.397Z"
   },
   {
    "duration": 5,
    "start_time": "2021-06-24T15:15:13.480Z"
   },
   {
    "duration": 17,
    "start_time": "2021-06-24T15:15:13.487Z"
   },
   {
    "duration": 50,
    "start_time": "2021-06-24T15:15:13.506Z"
   },
   {
    "duration": 15,
    "start_time": "2021-06-24T15:15:13.558Z"
   },
   {
    "duration": 20,
    "start_time": "2021-06-24T15:15:13.576Z"
   },
   {
    "duration": 65,
    "start_time": "2021-06-24T15:15:13.599Z"
   },
   {
    "duration": 7,
    "start_time": "2021-06-24T15:15:13.666Z"
   },
   {
    "duration": 27,
    "start_time": "2021-06-24T15:15:13.675Z"
   },
   {
    "duration": 60,
    "start_time": "2021-06-24T15:15:13.704Z"
   },
   {
    "duration": 17,
    "start_time": "2021-06-24T15:15:13.766Z"
   },
   {
    "duration": 18,
    "start_time": "2021-06-24T15:15:13.785Z"
   },
   {
    "duration": 74,
    "start_time": "2021-06-24T15:15:13.806Z"
   },
   {
    "duration": 78,
    "start_time": "2021-06-24T15:15:13.883Z"
   },
   {
    "duration": 48,
    "start_time": "2021-06-24T15:15:13.964Z"
   },
   {
    "duration": 93,
    "start_time": "2021-06-24T15:15:14.015Z"
   },
   {
    "duration": 10413,
    "start_time": "2021-06-24T15:17:24.584Z"
   },
   {
    "duration": 11006,
    "start_time": "2021-06-24T15:19:08.967Z"
   },
   {
    "duration": 11034,
    "start_time": "2021-06-24T15:20:34.462Z"
   },
   {
    "duration": 11560,
    "start_time": "2021-06-24T15:22:02.970Z"
   },
   {
    "duration": 24,
    "start_time": "2021-06-24T15:22:18.812Z"
   },
   {
    "duration": 304,
    "start_time": "2021-06-24T15:22:52.788Z"
   },
   {
    "duration": 5,
    "start_time": "2021-06-24T15:23:04.825Z"
   },
   {
    "duration": 131,
    "start_time": "2021-06-24T15:23:19.388Z"
   },
   {
    "duration": 34,
    "start_time": "2021-06-24T15:23:19.523Z"
   },
   {
    "duration": 49,
    "start_time": "2021-06-24T15:23:19.561Z"
   },
   {
    "duration": 7,
    "start_time": "2021-06-24T15:23:19.613Z"
   },
   {
    "duration": 48,
    "start_time": "2021-06-24T15:23:19.623Z"
   },
   {
    "duration": 23,
    "start_time": "2021-06-24T15:23:19.674Z"
   },
   {
    "duration": 60,
    "start_time": "2021-06-24T15:23:19.700Z"
   },
   {
    "duration": 20,
    "start_time": "2021-06-24T15:23:19.763Z"
   },
   {
    "duration": 22,
    "start_time": "2021-06-24T15:23:19.786Z"
   },
   {
    "duration": 47,
    "start_time": "2021-06-24T15:23:19.810Z"
   },
   {
    "duration": 26,
    "start_time": "2021-06-24T15:23:19.859Z"
   },
   {
    "duration": 24,
    "start_time": "2021-06-24T15:23:19.887Z"
   },
   {
    "duration": 46,
    "start_time": "2021-06-24T15:23:19.914Z"
   },
   {
    "duration": 17,
    "start_time": "2021-06-24T15:23:19.962Z"
   },
   {
    "duration": 35,
    "start_time": "2021-06-24T15:23:19.982Z"
   },
   {
    "duration": 90,
    "start_time": "2021-06-24T15:23:20.020Z"
   },
   {
    "duration": 61,
    "start_time": "2021-06-24T15:23:20.112Z"
   },
   {
    "duration": 114,
    "start_time": "2021-06-24T15:23:20.176Z"
   },
   {
    "duration": 10947,
    "start_time": "2021-06-24T15:23:20.293Z"
   },
   {
    "duration": 25,
    "start_time": "2021-06-24T15:23:36.560Z"
   },
   {
    "duration": 1230,
    "start_time": "2021-06-24T15:25:43.820Z"
   },
   {
    "duration": 47004,
    "start_time": "2021-06-24T15:26:07.525Z"
   },
   {
    "duration": 183,
    "start_time": "2021-06-24T15:28:53.241Z"
   },
   {
    "duration": 31,
    "start_time": "2021-06-24T15:28:53.428Z"
   },
   {
    "duration": 70,
    "start_time": "2021-06-24T15:28:53.462Z"
   },
   {
    "duration": 22,
    "start_time": "2021-06-24T15:28:53.534Z"
   },
   {
    "duration": 13,
    "start_time": "2021-06-24T15:28:53.559Z"
   },
   {
    "duration": 22,
    "start_time": "2021-06-24T15:28:53.575Z"
   },
   {
    "duration": 56,
    "start_time": "2021-06-24T15:28:53.601Z"
   },
   {
    "duration": 20,
    "start_time": "2021-06-24T15:28:53.660Z"
   },
   {
    "duration": 24,
    "start_time": "2021-06-24T15:28:53.682Z"
   },
   {
    "duration": 8,
    "start_time": "2021-06-24T15:28:53.708Z"
   },
   {
    "duration": 58,
    "start_time": "2021-06-24T15:28:53.718Z"
   },
   {
    "duration": 25,
    "start_time": "2021-06-24T15:28:53.778Z"
   },
   {
    "duration": 16,
    "start_time": "2021-06-24T15:28:53.805Z"
   },
   {
    "duration": 49,
    "start_time": "2021-06-24T15:28:53.823Z"
   },
   {
    "duration": 38,
    "start_time": "2021-06-24T15:28:53.874Z"
   },
   {
    "duration": 90,
    "start_time": "2021-06-24T15:28:53.915Z"
   },
   {
    "duration": 64,
    "start_time": "2021-06-24T15:28:54.008Z"
   },
   {
    "duration": 118,
    "start_time": "2021-06-24T15:28:54.076Z"
   },
   {
    "duration": 11254,
    "start_time": "2021-06-24T15:28:54.197Z"
   },
   {
    "duration": 45882,
    "start_time": "2021-06-24T15:29:05.457Z"
   },
   {
    "duration": 18,
    "start_time": "2021-06-24T15:37:12.304Z"
   },
   {
    "duration": 15,
    "start_time": "2021-06-24T15:38:14.282Z"
   },
   {
    "duration": 1689,
    "start_time": "2021-06-24T20:10:12.631Z"
   },
   {
    "duration": 14,
    "start_time": "2021-06-24T20:10:14.323Z"
   },
   {
    "duration": 64,
    "start_time": "2021-06-24T20:10:14.340Z"
   },
   {
    "duration": 5,
    "start_time": "2021-06-24T20:10:14.407Z"
   },
   {
    "duration": 16,
    "start_time": "2021-06-24T20:10:14.414Z"
   },
   {
    "duration": 20,
    "start_time": "2021-06-24T20:10:14.433Z"
   },
   {
    "duration": 15,
    "start_time": "2021-06-24T20:10:14.483Z"
   },
   {
    "duration": 19,
    "start_time": "2021-06-24T20:10:14.502Z"
   },
   {
    "duration": 26,
    "start_time": "2021-06-24T20:10:14.524Z"
   },
   {
    "duration": 9,
    "start_time": "2021-06-24T20:10:14.584Z"
   },
   {
    "duration": 25,
    "start_time": "2021-06-24T20:10:14.596Z"
   },
   {
    "duration": 24,
    "start_time": "2021-06-24T20:10:14.623Z"
   },
   {
    "duration": 16,
    "start_time": "2021-06-24T20:10:14.682Z"
   },
   {
    "duration": 17,
    "start_time": "2021-06-24T20:10:14.700Z"
   },
   {
    "duration": 31,
    "start_time": "2021-06-24T20:10:14.719Z"
   },
   {
    "duration": 52,
    "start_time": "2021-06-24T20:10:14.783Z"
   },
   {
    "duration": 60,
    "start_time": "2021-06-24T20:10:14.837Z"
   },
   {
    "duration": 84,
    "start_time": "2021-06-24T20:10:14.899Z"
   },
   {
    "duration": 9986,
    "start_time": "2021-06-24T20:10:14.985Z"
   },
   {
    "duration": 29417,
    "start_time": "2021-06-24T20:10:24.973Z"
   },
   {
    "duration": 9969,
    "start_time": "2021-06-24T20:12:31.471Z"
   },
   {
    "duration": 10730,
    "start_time": "2021-06-24T20:13:39.257Z"
   },
   {
    "duration": 319,
    "start_time": "2021-06-24T20:14:56.218Z"
   },
   {
    "duration": 29,
    "start_time": "2021-06-24T20:17:29.567Z"
   },
   {
    "duration": 10394,
    "start_time": "2021-06-24T20:17:37.810Z"
   },
   {
    "duration": 35,
    "start_time": "2021-06-24T20:17:52.078Z"
   },
   {
    "duration": 35,
    "start_time": "2021-06-24T20:19:28.295Z"
   },
   {
    "duration": 33,
    "start_time": "2021-06-24T20:23:28.240Z"
   },
   {
    "duration": 671,
    "start_time": "2021-06-24T20:37:28.374Z"
   },
   {
    "duration": 21223,
    "start_time": "2021-06-24T20:40:05.469Z"
   },
   {
    "duration": 2799,
    "start_time": "2021-06-24T20:41:21.958Z"
   },
   {
    "duration": 1231,
    "start_time": "2021-06-24T20:46:34.320Z"
   },
   {
    "duration": 39,
    "start_time": "2021-06-24T20:47:13.099Z"
   },
   {
    "duration": 134,
    "start_time": "2021-06-24T20:47:27.776Z"
   },
   {
    "duration": 15,
    "start_time": "2021-06-24T20:47:27.912Z"
   },
   {
    "duration": 71,
    "start_time": "2021-06-24T20:47:27.930Z"
   },
   {
    "duration": 7,
    "start_time": "2021-06-24T20:47:28.003Z"
   },
   {
    "duration": 18,
    "start_time": "2021-06-24T20:47:28.012Z"
   },
   {
    "duration": 20,
    "start_time": "2021-06-24T20:47:28.032Z"
   },
   {
    "duration": 41,
    "start_time": "2021-06-24T20:47:28.055Z"
   },
   {
    "duration": 19,
    "start_time": "2021-06-24T20:47:28.099Z"
   },
   {
    "duration": 63,
    "start_time": "2021-06-24T20:47:28.121Z"
   },
   {
    "duration": 8,
    "start_time": "2021-06-24T20:47:28.187Z"
   },
   {
    "duration": 28,
    "start_time": "2021-06-24T20:47:28.197Z"
   },
   {
    "duration": 24,
    "start_time": "2021-06-24T20:47:28.227Z"
   },
   {
    "duration": 43,
    "start_time": "2021-06-24T20:47:28.254Z"
   },
   {
    "duration": 17,
    "start_time": "2021-06-24T20:47:28.299Z"
   },
   {
    "duration": 32,
    "start_time": "2021-06-24T20:47:28.319Z"
   },
   {
    "duration": 58,
    "start_time": "2021-06-24T20:47:28.383Z"
   },
   {
    "duration": 64,
    "start_time": "2021-06-24T20:47:28.443Z"
   },
   {
    "duration": 84,
    "start_time": "2021-06-24T20:47:28.510Z"
   },
   {
    "duration": 9842,
    "start_time": "2021-06-24T20:47:28.596Z"
   },
   {
    "duration": 52,
    "start_time": "2021-06-24T20:47:38.441Z"
   },
   {
    "duration": 6572,
    "start_time": "2021-06-24T20:47:43.491Z"
   },
   {
    "duration": 267,
    "start_time": "2021-06-24T20:49:13.358Z"
   },
   {
    "duration": 101,
    "start_time": "2021-06-24T20:50:21.277Z"
   },
   {
    "duration": 99,
    "start_time": "2021-06-24T20:50:26.904Z"
   },
   {
    "duration": 6538,
    "start_time": "2021-06-24T20:50:35.645Z"
   },
   {
    "duration": 33,
    "start_time": "2021-06-24T20:51:59.464Z"
   },
   {
    "duration": 136,
    "start_time": "2021-06-24T20:52:25.361Z"
   },
   {
    "duration": 16,
    "start_time": "2021-06-24T20:52:25.500Z"
   },
   {
    "duration": 75,
    "start_time": "2021-06-24T20:52:25.518Z"
   },
   {
    "duration": 6,
    "start_time": "2021-06-24T20:52:25.596Z"
   },
   {
    "duration": 15,
    "start_time": "2021-06-24T20:52:25.604Z"
   },
   {
    "duration": 21,
    "start_time": "2021-06-24T20:52:25.622Z"
   },
   {
    "duration": 50,
    "start_time": "2021-06-24T20:52:25.645Z"
   },
   {
    "duration": 19,
    "start_time": "2021-06-24T20:52:25.699Z"
   },
   {
    "duration": 25,
    "start_time": "2021-06-24T20:52:25.721Z"
   },
   {
    "duration": 42,
    "start_time": "2021-06-24T20:52:25.748Z"
   },
   {
    "duration": 24,
    "start_time": "2021-06-24T20:52:25.792Z"
   },
   {
    "duration": 24,
    "start_time": "2021-06-24T20:52:25.818Z"
   },
   {
    "duration": 17,
    "start_time": "2021-06-24T20:52:25.884Z"
   },
   {
    "duration": 18,
    "start_time": "2021-06-24T20:52:25.903Z"
   },
   {
    "duration": 61,
    "start_time": "2021-06-24T20:52:25.923Z"
   },
   {
    "duration": 59,
    "start_time": "2021-06-24T20:52:25.987Z"
   },
   {
    "duration": 63,
    "start_time": "2021-06-24T20:52:26.048Z"
   },
   {
    "duration": 89,
    "start_time": "2021-06-24T20:52:26.113Z"
   },
   {
    "duration": 9827,
    "start_time": "2021-06-24T20:52:26.205Z"
   },
   {
    "duration": 52,
    "start_time": "2021-06-24T20:52:36.034Z"
   },
   {
    "duration": 34,
    "start_time": "2021-06-24T20:52:41.698Z"
   },
   {
    "duration": 46,
    "start_time": "2021-06-24T20:54:30.999Z"
   },
   {
    "duration": 1732,
    "start_time": "2021-06-25T06:19:17.315Z"
   },
   {
    "duration": 35,
    "start_time": "2021-06-25T06:19:50.484Z"
   },
   {
    "duration": 443,
    "start_time": "2021-06-25T06:20:34.641Z"
   },
   {
    "duration": 8,
    "start_time": "2021-06-25T06:20:40.466Z"
   },
   {
    "duration": 38,
    "start_time": "2021-06-25T06:21:25.091Z"
   },
   {
    "duration": 20,
    "start_time": "2021-06-25T06:22:19.441Z"
   },
   {
    "duration": 9,
    "start_time": "2021-06-25T06:24:21.248Z"
   },
   {
    "duration": 11,
    "start_time": "2021-06-25T06:24:41.977Z"
   },
   {
    "duration": 12,
    "start_time": "2021-06-25T06:26:22.482Z"
   },
   {
    "duration": 40,
    "start_time": "2021-06-25T06:27:27.387Z"
   },
   {
    "duration": 12,
    "start_time": "2021-06-25T06:27:39.867Z"
   },
   {
    "duration": 10,
    "start_time": "2021-06-25T06:28:19.242Z"
   },
   {
    "duration": 11,
    "start_time": "2021-06-25T06:28:29.496Z"
   },
   {
    "duration": 10,
    "start_time": "2021-06-25T06:28:38.220Z"
   },
   {
    "duration": 18,
    "start_time": "2021-06-25T06:33:14.011Z"
   },
   {
    "duration": 21,
    "start_time": "2021-06-25T06:33:45.219Z"
   },
   {
    "duration": 22,
    "start_time": "2021-06-25T06:33:59.964Z"
   },
   {
    "duration": 130,
    "start_time": "2021-06-25T06:39:56.931Z"
   },
   {
    "duration": 9,
    "start_time": "2021-06-25T06:40:17.539Z"
   },
   {
    "duration": 34,
    "start_time": "2021-06-25T06:40:47.886Z"
   },
   {
    "duration": 10,
    "start_time": "2021-06-25T06:41:36.467Z"
   },
   {
    "duration": 33,
    "start_time": "2021-06-25T06:42:07.745Z"
   },
   {
    "duration": 334,
    "start_time": "2021-06-25T06:49:49.129Z"
   },
   {
    "duration": 121,
    "start_time": "2021-06-25T06:49:57.694Z"
   },
   {
    "duration": 33,
    "start_time": "2021-06-25T06:49:57.817Z"
   },
   {
    "duration": 17,
    "start_time": "2021-06-25T06:49:57.867Z"
   },
   {
    "duration": 47,
    "start_time": "2021-06-25T06:49:57.887Z"
   },
   {
    "duration": 33,
    "start_time": "2021-06-25T06:49:57.936Z"
   },
   {
    "duration": 14,
    "start_time": "2021-06-25T06:49:57.972Z"
   },
   {
    "duration": 20,
    "start_time": "2021-06-25T06:49:57.989Z"
   },
   {
    "duration": 15,
    "start_time": "2021-06-25T06:49:58.011Z"
   },
   {
    "duration": 20,
    "start_time": "2021-06-25T06:50:00.935Z"
   },
   {
    "duration": 8,
    "start_time": "2021-06-25T06:50:03.425Z"
   },
   {
    "duration": 26,
    "start_time": "2021-06-25T06:52:12.898Z"
   },
   {
    "duration": 27,
    "start_time": "2021-06-25T06:52:30.931Z"
   },
   {
    "duration": 20,
    "start_time": "2021-06-25T06:53:19.827Z"
   },
   {
    "duration": 20,
    "start_time": "2021-06-25T06:53:41.244Z"
   },
   {
    "duration": 22,
    "start_time": "2021-06-25T06:54:04.354Z"
   },
   {
    "duration": 22,
    "start_time": "2021-06-25T07:06:13.587Z"
   },
   {
    "duration": 38,
    "start_time": "2021-06-25T07:06:35.403Z"
   },
   {
    "duration": 22,
    "start_time": "2021-06-25T07:06:40.791Z"
   },
   {
    "duration": 10,
    "start_time": "2021-06-25T07:07:55.976Z"
   },
   {
    "duration": 18,
    "start_time": "2021-06-25T07:08:16.175Z"
   },
   {
    "duration": 20,
    "start_time": "2021-06-25T07:08:34.599Z"
   },
   {
    "duration": 22,
    "start_time": "2021-06-25T07:09:04.026Z"
   },
   {
    "duration": 22,
    "start_time": "2021-06-25T07:09:07.804Z"
   },
   {
    "duration": 19,
    "start_time": "2021-06-25T07:09:30.371Z"
   },
   {
    "duration": 137,
    "start_time": "2021-06-25T07:09:42.930Z"
   },
   {
    "duration": 15,
    "start_time": "2021-06-25T07:09:43.070Z"
   },
   {
    "duration": 47,
    "start_time": "2021-06-25T07:09:43.088Z"
   },
   {
    "duration": 6,
    "start_time": "2021-06-25T07:09:43.166Z"
   },
   {
    "duration": 19,
    "start_time": "2021-06-25T07:09:43.175Z"
   },
   {
    "duration": 21,
    "start_time": "2021-06-25T07:09:43.196Z"
   },
   {
    "duration": 48,
    "start_time": "2021-06-25T07:09:43.219Z"
   },
   {
    "duration": 19,
    "start_time": "2021-06-25T07:09:43.271Z"
   },
   {
    "duration": 22,
    "start_time": "2021-06-25T07:09:43.293Z"
   },
   {
    "duration": 8,
    "start_time": "2021-06-25T07:09:43.317Z"
   },
   {
    "duration": 57,
    "start_time": "2021-06-25T07:09:43.327Z"
   },
   {
    "duration": 24,
    "start_time": "2021-06-25T07:09:43.386Z"
   },
   {
    "duration": 57,
    "start_time": "2021-06-25T07:09:43.412Z"
   },
   {
    "duration": 19,
    "start_time": "2021-06-25T07:09:43.472Z"
   },
   {
    "duration": 19,
    "start_time": "2021-06-25T07:09:43.494Z"
   },
   {
    "duration": 14,
    "start_time": "2021-06-25T07:09:48.602Z"
   },
   {
    "duration": 19,
    "start_time": "2021-06-25T07:14:56.610Z"
   },
   {
    "duration": 132,
    "start_time": "2021-06-25T07:16:00.839Z"
   },
   {
    "duration": 139,
    "start_time": "2021-06-25T07:16:19.929Z"
   },
   {
    "duration": 15,
    "start_time": "2021-06-25T07:16:20.071Z"
   },
   {
    "duration": 47,
    "start_time": "2021-06-25T07:16:20.089Z"
   },
   {
    "duration": 31,
    "start_time": "2021-06-25T07:16:20.139Z"
   },
   {
    "duration": 13,
    "start_time": "2021-06-25T07:16:20.172Z"
   },
   {
    "duration": 21,
    "start_time": "2021-06-25T07:16:20.188Z"
   },
   {
    "duration": 15,
    "start_time": "2021-06-25T07:16:20.211Z"
   },
   {
    "duration": 19,
    "start_time": "2021-06-25T07:16:20.269Z"
   },
   {
    "duration": 25,
    "start_time": "2021-06-25T07:16:20.291Z"
   },
   {
    "duration": 7,
    "start_time": "2021-06-25T07:16:20.318Z"
   },
   {
    "duration": 54,
    "start_time": "2021-06-25T07:16:20.327Z"
   },
   {
    "duration": 23,
    "start_time": "2021-06-25T07:16:20.384Z"
   },
   {
    "duration": 58,
    "start_time": "2021-06-25T07:16:20.409Z"
   },
   {
    "duration": 18,
    "start_time": "2021-06-25T07:16:20.469Z"
   },
   {
    "duration": 19,
    "start_time": "2021-06-25T07:16:20.489Z"
   },
   {
    "duration": 312,
    "start_time": "2021-06-25T07:16:23.010Z"
   },
   {
    "duration": 25,
    "start_time": "2021-06-25T07:16:47.152Z"
   },
   {
    "duration": 128,
    "start_time": "2021-06-25T07:17:08.615Z"
   },
   {
    "duration": 23,
    "start_time": "2021-06-25T07:17:08.746Z"
   },
   {
    "duration": 48,
    "start_time": "2021-06-25T07:17:08.772Z"
   },
   {
    "duration": 5,
    "start_time": "2021-06-25T07:17:08.822Z"
   },
   {
    "duration": 45,
    "start_time": "2021-06-25T07:17:08.829Z"
   },
   {
    "duration": 32,
    "start_time": "2021-06-25T07:17:08.876Z"
   },
   {
    "duration": 16,
    "start_time": "2021-06-25T07:17:08.910Z"
   },
   {
    "duration": 43,
    "start_time": "2021-06-25T07:17:08.929Z"
   },
   {
    "duration": 22,
    "start_time": "2021-06-25T07:17:08.974Z"
   },
   {
    "duration": 7,
    "start_time": "2021-06-25T07:17:08.998Z"
   },
   {
    "duration": 60,
    "start_time": "2021-06-25T07:17:09.008Z"
   },
   {
    "duration": 24,
    "start_time": "2021-06-25T07:17:09.071Z"
   },
   {
    "duration": 23,
    "start_time": "2021-06-25T07:17:09.097Z"
   },
   {
    "duration": 55,
    "start_time": "2021-06-25T07:17:09.122Z"
   },
   {
    "duration": 20,
    "start_time": "2021-06-25T07:17:09.180Z"
   },
   {
    "duration": 21,
    "start_time": "2021-06-25T07:17:11.730Z"
   },
   {
    "duration": 18,
    "start_time": "2021-06-25T07:18:54.683Z"
   },
   {
    "duration": 125,
    "start_time": "2021-06-25T07:19:02.681Z"
   },
   {
    "duration": 15,
    "start_time": "2021-06-25T07:19:02.809Z"
   },
   {
    "duration": 68,
    "start_time": "2021-06-25T07:19:02.827Z"
   },
   {
    "duration": 6,
    "start_time": "2021-06-25T07:19:02.897Z"
   },
   {
    "duration": 15,
    "start_time": "2021-06-25T07:19:02.905Z"
   },
   {
    "duration": 47,
    "start_time": "2021-06-25T07:19:02.922Z"
   },
   {
    "duration": 15,
    "start_time": "2021-06-25T07:19:02.971Z"
   },
   {
    "duration": 20,
    "start_time": "2021-06-25T07:19:02.990Z"
   },
   {
    "duration": 60,
    "start_time": "2021-06-25T07:19:03.013Z"
   },
   {
    "duration": 7,
    "start_time": "2021-06-25T07:19:03.076Z"
   },
   {
    "duration": 23,
    "start_time": "2021-06-25T07:19:03.085Z"
   },
   {
    "duration": 61,
    "start_time": "2021-06-25T07:19:03.110Z"
   },
   {
    "duration": 25,
    "start_time": "2021-06-25T07:19:03.173Z"
   },
   {
    "duration": 18,
    "start_time": "2021-06-25T07:19:03.200Z"
   },
   {
    "duration": 52,
    "start_time": "2021-06-25T07:19:03.220Z"
   },
   {
    "duration": 19,
    "start_time": "2021-06-25T07:19:05.790Z"
   },
   {
    "duration": 24,
    "start_time": "2021-06-25T07:29:32.428Z"
   },
   {
    "duration": 226,
    "start_time": "2021-06-25T07:29:48.448Z"
   },
   {
    "duration": 18,
    "start_time": "2021-06-25T07:29:48.677Z"
   },
   {
    "duration": 76,
    "start_time": "2021-06-25T07:29:48.698Z"
   },
   {
    "duration": 5,
    "start_time": "2021-06-25T07:29:48.776Z"
   },
   {
    "duration": 14,
    "start_time": "2021-06-25T07:29:48.784Z"
   },
   {
    "duration": 21,
    "start_time": "2021-06-25T07:29:48.800Z"
   },
   {
    "duration": 56,
    "start_time": "2021-06-25T07:29:48.823Z"
   },
   {
    "duration": 20,
    "start_time": "2021-06-25T07:29:48.882Z"
   },
   {
    "duration": 63,
    "start_time": "2021-06-25T07:29:48.904Z"
   },
   {
    "duration": 22,
    "start_time": "2021-06-25T07:29:51.209Z"
   },
   {
    "duration": 44,
    "start_time": "2021-06-25T07:30:34.459Z"
   },
   {
    "duration": 28,
    "start_time": "2021-06-25T07:31:51.970Z"
   },
   {
    "duration": 183,
    "start_time": "2021-06-25T07:32:00.500Z"
   },
   {
    "duration": 22,
    "start_time": "2021-06-25T07:32:00.686Z"
   },
   {
    "duration": 90,
    "start_time": "2021-06-25T07:32:00.711Z"
   },
   {
    "duration": 6,
    "start_time": "2021-06-25T07:32:00.805Z"
   },
   {
    "duration": 29,
    "start_time": "2021-06-25T07:32:00.814Z"
   },
   {
    "duration": 44,
    "start_time": "2021-06-25T07:32:00.845Z"
   },
   {
    "duration": 30,
    "start_time": "2021-06-25T07:32:00.892Z"
   },
   {
    "duration": 46,
    "start_time": "2021-06-25T07:32:00.926Z"
   },
   {
    "duration": 41,
    "start_time": "2021-06-25T07:32:00.975Z"
   },
   {
    "duration": 8,
    "start_time": "2021-06-25T07:32:01.019Z"
   },
   {
    "duration": 83,
    "start_time": "2021-06-25T07:32:01.030Z"
   },
   {
    "duration": 56,
    "start_time": "2021-06-25T07:32:01.116Z"
   },
   {
    "duration": 34,
    "start_time": "2021-06-25T07:32:01.174Z"
   },
   {
    "duration": 24,
    "start_time": "2021-06-25T07:32:01.211Z"
   },
   {
    "duration": 29,
    "start_time": "2021-06-25T07:32:03.577Z"
   },
   {
    "duration": 37,
    "start_time": "2021-06-25T07:34:06.658Z"
   },
   {
    "duration": 13,
    "start_time": "2021-06-25T07:34:26.257Z"
   },
   {
    "duration": 12,
    "start_time": "2021-06-25T07:35:13.680Z"
   },
   {
    "duration": 25,
    "start_time": "2021-06-25T07:36:07.966Z"
   },
   {
    "duration": 26,
    "start_time": "2021-06-25T07:38:15.450Z"
   },
   {
    "duration": 22,
    "start_time": "2021-06-25T07:45:04.893Z"
   },
   {
    "duration": 124,
    "start_time": "2021-06-25T07:46:00.602Z"
   },
   {
    "duration": 21,
    "start_time": "2021-06-25T07:46:44.643Z"
   },
   {
    "duration": 8,
    "start_time": "2021-06-25T07:47:04.257Z"
   },
   {
    "duration": 9,
    "start_time": "2021-06-25T07:48:57.952Z"
   },
   {
    "duration": 127,
    "start_time": "2021-06-25T07:56:23.362Z"
   },
   {
    "duration": 8,
    "start_time": "2021-06-25T07:56:23.491Z"
   },
   {
    "duration": 17,
    "start_time": "2021-06-25T07:56:23.502Z"
   },
   {
    "duration": 80,
    "start_time": "2021-06-25T07:56:23.521Z"
   },
   {
    "duration": 5,
    "start_time": "2021-06-25T07:56:23.603Z"
   },
   {
    "duration": 16,
    "start_time": "2021-06-25T07:56:23.610Z"
   },
   {
    "duration": 41,
    "start_time": "2021-06-25T07:56:23.629Z"
   },
   {
    "duration": 15,
    "start_time": "2021-06-25T07:56:23.673Z"
   },
   {
    "duration": 20,
    "start_time": "2021-06-25T07:56:23.690Z"
   },
   {
    "duration": 61,
    "start_time": "2021-06-25T07:56:23.712Z"
   },
   {
    "duration": 8,
    "start_time": "2021-06-25T07:56:23.775Z"
   },
   {
    "duration": 36,
    "start_time": "2021-06-25T07:56:23.786Z"
   },
   {
    "duration": 26,
    "start_time": "2021-06-25T07:56:28.102Z"
   },
   {
    "duration": 125,
    "start_time": "2021-06-25T07:56:49.773Z"
   },
   {
    "duration": 8,
    "start_time": "2021-06-25T07:56:49.901Z"
   },
   {
    "duration": 16,
    "start_time": "2021-06-25T07:56:49.912Z"
   },
   {
    "duration": 71,
    "start_time": "2021-06-25T07:56:49.931Z"
   },
   {
    "duration": 6,
    "start_time": "2021-06-25T07:56:50.004Z"
   },
   {
    "duration": 18,
    "start_time": "2021-06-25T07:56:50.012Z"
   },
   {
    "duration": 46,
    "start_time": "2021-06-25T07:56:50.032Z"
   },
   {
    "duration": 16,
    "start_time": "2021-06-25T07:56:50.082Z"
   },
   {
    "duration": 19,
    "start_time": "2021-06-25T07:56:50.101Z"
   },
   {
    "duration": 55,
    "start_time": "2021-06-25T07:56:50.123Z"
   },
   {
    "duration": 6,
    "start_time": "2021-06-25T07:56:50.180Z"
   },
   {
    "duration": 36,
    "start_time": "2021-06-25T07:56:50.189Z"
   },
   {
    "duration": 23,
    "start_time": "2021-06-25T07:56:53.250Z"
   },
   {
    "duration": 131,
    "start_time": "2021-06-25T07:57:12.637Z"
   },
   {
    "duration": 8,
    "start_time": "2021-06-25T07:57:12.771Z"
   },
   {
    "duration": 15,
    "start_time": "2021-06-25T07:57:12.781Z"
   },
   {
    "duration": 73,
    "start_time": "2021-06-25T07:57:12.799Z"
   },
   {
    "duration": 5,
    "start_time": "2021-06-25T07:57:12.874Z"
   },
   {
    "duration": 14,
    "start_time": "2021-06-25T07:57:12.881Z"
   },
   {
    "duration": 21,
    "start_time": "2021-06-25T07:57:12.897Z"
   },
   {
    "duration": 53,
    "start_time": "2021-06-25T07:57:12.921Z"
   },
   {
    "duration": 19,
    "start_time": "2021-06-25T07:57:12.976Z"
   },
   {
    "duration": 21,
    "start_time": "2021-06-25T07:57:12.997Z"
   },
   {
    "duration": 6,
    "start_time": "2021-06-25T07:57:13.021Z"
   },
   {
    "duration": 71,
    "start_time": "2021-06-25T07:57:13.029Z"
   },
   {
    "duration": 24,
    "start_time": "2021-06-25T07:57:21.328Z"
   },
   {
    "duration": 130,
    "start_time": "2021-06-25T08:01:15.969Z"
   },
   {
    "duration": 8,
    "start_time": "2021-06-25T08:01:16.101Z"
   },
   {
    "duration": 14,
    "start_time": "2021-06-25T08:01:16.112Z"
   },
   {
    "duration": 77,
    "start_time": "2021-06-25T08:01:16.129Z"
   },
   {
    "duration": 6,
    "start_time": "2021-06-25T08:01:16.208Z"
   },
   {
    "duration": 18,
    "start_time": "2021-06-25T08:01:16.216Z"
   },
   {
    "duration": 42,
    "start_time": "2021-06-25T08:01:16.237Z"
   },
   {
    "duration": 17,
    "start_time": "2021-06-25T08:01:16.283Z"
   },
   {
    "duration": 20,
    "start_time": "2021-06-25T08:01:16.303Z"
   },
   {
    "duration": 58,
    "start_time": "2021-06-25T08:01:16.325Z"
   },
   {
    "duration": 7,
    "start_time": "2021-06-25T08:01:16.385Z"
   },
   {
    "duration": 35,
    "start_time": "2021-06-25T08:01:16.395Z"
   },
   {
    "duration": 24,
    "start_time": "2021-06-25T08:01:16.468Z"
   },
   {
    "duration": 24,
    "start_time": "2021-06-25T08:01:16.494Z"
   },
   {
    "duration": 48,
    "start_time": "2021-06-25T08:01:16.520Z"
   },
   {
    "duration": 181,
    "start_time": "2021-06-25T08:44:10.670Z"
   },
   {
    "duration": 25,
    "start_time": "2021-06-25T08:44:10.854Z"
   },
   {
    "duration": 84,
    "start_time": "2021-06-25T08:44:10.883Z"
   },
   {
    "duration": 7,
    "start_time": "2021-06-25T08:44:10.970Z"
   },
   {
    "duration": 24,
    "start_time": "2021-06-25T08:44:10.980Z"
   },
   {
    "duration": 22,
    "start_time": "2021-06-25T08:44:11.008Z"
   },
   {
    "duration": 48,
    "start_time": "2021-06-25T08:44:11.032Z"
   },
   {
    "duration": 19,
    "start_time": "2021-06-25T08:44:11.084Z"
   },
   {
    "duration": 21,
    "start_time": "2021-06-25T08:44:11.106Z"
   },
   {
    "duration": 7,
    "start_time": "2021-06-25T08:44:11.167Z"
   },
   {
    "duration": 7,
    "start_time": "2021-06-25T08:44:16.023Z"
   },
   {
    "duration": 30,
    "start_time": "2021-06-25T08:44:19.219Z"
   },
   {
    "duration": 20,
    "start_time": "2021-06-25T08:44:53.846Z"
   },
   {
    "duration": 123,
    "start_time": "2021-06-25T08:45:39.829Z"
   },
   {
    "duration": 25,
    "start_time": "2021-06-25T08:45:39.955Z"
   },
   {
    "duration": 46,
    "start_time": "2021-06-25T08:45:39.983Z"
   },
   {
    "duration": 5,
    "start_time": "2021-06-25T08:45:40.031Z"
   },
   {
    "duration": 16,
    "start_time": "2021-06-25T08:45:40.067Z"
   },
   {
    "duration": 22,
    "start_time": "2021-06-25T08:45:40.086Z"
   },
   {
    "duration": 56,
    "start_time": "2021-06-25T08:45:40.111Z"
   },
   {
    "duration": 20,
    "start_time": "2021-06-25T08:45:40.172Z"
   },
   {
    "duration": 23,
    "start_time": "2021-06-25T08:45:40.196Z"
   },
   {
    "duration": 46,
    "start_time": "2021-06-25T08:45:40.221Z"
   },
   {
    "duration": 23,
    "start_time": "2021-06-25T08:45:40.270Z"
   },
   {
    "duration": 25,
    "start_time": "2021-06-25T08:45:40.295Z"
   },
   {
    "duration": 58,
    "start_time": "2021-06-25T08:45:40.322Z"
   },
   {
    "duration": 18,
    "start_time": "2021-06-25T08:45:40.382Z"
   },
   {
    "duration": 46,
    "start_time": "2021-06-25T08:46:28.091Z"
   },
   {
    "duration": 39,
    "start_time": "2021-06-25T08:52:10.806Z"
   },
   {
    "duration": 4426,
    "start_time": "2021-06-25T08:59:36.071Z"
   },
   {
    "duration": 4320,
    "start_time": "2021-06-25T09:03:41.717Z"
   },
   {
    "duration": 628,
    "start_time": "2021-06-25T09:05:00.634Z"
   },
   {
    "duration": 612,
    "start_time": "2021-06-25T09:05:24.256Z"
   },
   {
    "duration": 607,
    "start_time": "2021-06-25T09:07:25.024Z"
   },
   {
    "duration": 591,
    "start_time": "2021-06-25T09:14:57.480Z"
   },
   {
    "duration": 603,
    "start_time": "2021-06-25T09:15:08.705Z"
   },
   {
    "duration": 615,
    "start_time": "2021-06-25T09:35:12.815Z"
   },
   {
    "duration": 599,
    "start_time": "2021-06-25T09:35:20.017Z"
   },
   {
    "duration": 604,
    "start_time": "2021-06-25T09:36:34.210Z"
   },
   {
    "duration": 599,
    "start_time": "2021-06-25T09:36:38.106Z"
   },
   {
    "duration": 605,
    "start_time": "2021-06-25T09:36:59.794Z"
   },
   {
    "duration": 850,
    "start_time": "2021-06-25T09:37:30.863Z"
   },
   {
    "duration": 41,
    "start_time": "2021-06-25T09:58:01.901Z"
   },
   {
    "duration": 607,
    "start_time": "2021-06-25T09:59:37.732Z"
   },
   {
    "duration": 605,
    "start_time": "2021-06-25T10:05:34.165Z"
   },
   {
    "duration": 41,
    "start_time": "2021-06-25T10:05:37.420Z"
   },
   {
    "duration": 12,
    "start_time": "2021-06-25T10:06:52.761Z"
   },
   {
    "duration": 613,
    "start_time": "2021-06-25T10:13:36.185Z"
   },
   {
    "duration": 612,
    "start_time": "2021-06-25T10:14:40.832Z"
   },
   {
    "duration": 614,
    "start_time": "2021-06-25T10:14:50.779Z"
   },
   {
    "duration": 613,
    "start_time": "2021-06-25T10:22:12.167Z"
   },
   {
    "duration": 20,
    "start_time": "2021-06-25T10:22:16.893Z"
   },
   {
    "duration": 21,
    "start_time": "2021-06-25T10:22:36.953Z"
   },
   {
    "duration": 25,
    "start_time": "2021-06-25T10:28:33.137Z"
   },
   {
    "duration": 130,
    "start_time": "2021-06-25T10:28:42.278Z"
   },
   {
    "duration": 15,
    "start_time": "2021-06-25T10:28:42.411Z"
   },
   {
    "duration": 73,
    "start_time": "2021-06-25T10:28:42.429Z"
   },
   {
    "duration": 5,
    "start_time": "2021-06-25T10:28:42.505Z"
   },
   {
    "duration": 18,
    "start_time": "2021-06-25T10:28:42.512Z"
   },
   {
    "duration": 46,
    "start_time": "2021-06-25T10:28:42.533Z"
   },
   {
    "duration": 26,
    "start_time": "2021-06-25T10:28:42.581Z"
   },
   {
    "duration": 19,
    "start_time": "2021-06-25T10:28:42.610Z"
   },
   {
    "duration": 46,
    "start_time": "2021-06-25T10:28:42.631Z"
   },
   {
    "duration": 8,
    "start_time": "2021-06-25T10:28:45.534Z"
   },
   {
    "duration": 22,
    "start_time": "2021-06-25T10:28:47.686Z"
   },
   {
    "duration": 128,
    "start_time": "2021-06-25T10:29:13.099Z"
   },
   {
    "duration": 14,
    "start_time": "2021-06-25T10:29:13.230Z"
   },
   {
    "duration": 49,
    "start_time": "2021-06-25T10:29:13.267Z"
   },
   {
    "duration": 5,
    "start_time": "2021-06-25T10:29:13.319Z"
   },
   {
    "duration": 17,
    "start_time": "2021-06-25T10:29:13.326Z"
   },
   {
    "duration": 21,
    "start_time": "2021-06-25T10:29:13.366Z"
   },
   {
    "duration": 15,
    "start_time": "2021-06-25T10:29:13.389Z"
   },
   {
    "duration": 20,
    "start_time": "2021-06-25T10:29:13.407Z"
   },
   {
    "duration": 54,
    "start_time": "2021-06-25T10:29:13.430Z"
   },
   {
    "duration": 7,
    "start_time": "2021-06-25T10:29:13.486Z"
   },
   {
    "duration": 27,
    "start_time": "2021-06-25T10:29:13.495Z"
   },
   {
    "duration": 56,
    "start_time": "2021-06-25T10:29:13.524Z"
   },
   {
    "duration": 24,
    "start_time": "2021-06-25T10:29:13.583Z"
   },
   {
    "duration": 16,
    "start_time": "2021-06-25T10:29:13.609Z"
   },
   {
    "duration": 647,
    "start_time": "2021-06-25T10:29:13.628Z"
   },
   {
    "duration": 20,
    "start_time": "2021-06-25T10:30:00.834Z"
   },
   {
    "duration": 18,
    "start_time": "2021-06-25T10:43:33.939Z"
   },
   {
    "duration": 18,
    "start_time": "2021-06-25T10:43:37.231Z"
   },
   {
    "duration": 36,
    "start_time": "2021-06-25T10:43:41.661Z"
   },
   {
    "duration": 36,
    "start_time": "2021-06-25T10:44:07.120Z"
   },
   {
    "duration": 130,
    "start_time": "2021-06-25T10:46:05.908Z"
   },
   {
    "duration": 28,
    "start_time": "2021-06-25T10:46:06.041Z"
   },
   {
    "duration": 48,
    "start_time": "2021-06-25T10:46:06.072Z"
   },
   {
    "duration": 5,
    "start_time": "2021-06-25T10:46:06.123Z"
   },
   {
    "duration": 41,
    "start_time": "2021-06-25T10:46:06.131Z"
   },
   {
    "duration": 23,
    "start_time": "2021-06-25T10:46:06.174Z"
   },
   {
    "duration": 105,
    "start_time": "2021-06-25T10:46:06.199Z"
   },
   {
    "duration": 19,
    "start_time": "2021-06-25T10:46:06.307Z"
   },
   {
    "duration": 44,
    "start_time": "2021-06-25T10:46:06.329Z"
   },
   {
    "duration": 7,
    "start_time": "2021-06-25T10:46:06.375Z"
   },
   {
    "duration": 21,
    "start_time": "2021-06-25T10:46:06.384Z"
   },
   {
    "duration": 61,
    "start_time": "2021-06-25T10:46:06.407Z"
   },
   {
    "duration": 23,
    "start_time": "2021-06-25T10:46:06.471Z"
   },
   {
    "duration": 17,
    "start_time": "2021-06-25T10:46:06.497Z"
   },
   {
    "duration": 5,
    "start_time": "2021-06-25T10:46:17.932Z"
   },
   {
    "duration": 38,
    "start_time": "2021-06-25T10:46:25.406Z"
   },
   {
    "duration": 128,
    "start_time": "2021-06-25T10:48:10.019Z"
   },
   {
    "duration": 30,
    "start_time": "2021-06-25T10:48:10.150Z"
   },
   {
    "duration": 46,
    "start_time": "2021-06-25T10:48:10.183Z"
   },
   {
    "duration": 6,
    "start_time": "2021-06-25T10:48:10.232Z"
   },
   {
    "duration": 38,
    "start_time": "2021-06-25T10:48:10.241Z"
   },
   {
    "duration": 21,
    "start_time": "2021-06-25T10:48:10.281Z"
   },
   {
    "duration": 27,
    "start_time": "2021-06-25T10:48:10.304Z"
   },
   {
    "duration": 58,
    "start_time": "2021-06-25T10:48:10.335Z"
   },
   {
    "duration": 22,
    "start_time": "2021-06-25T10:48:10.397Z"
   },
   {
    "duration": 8,
    "start_time": "2021-06-25T10:48:10.421Z"
   },
   {
    "duration": 48,
    "start_time": "2021-06-25T10:48:10.432Z"
   },
   {
    "duration": 23,
    "start_time": "2021-06-25T10:48:10.482Z"
   },
   {
    "duration": 62,
    "start_time": "2021-06-25T10:48:10.508Z"
   },
   {
    "duration": 18,
    "start_time": "2021-06-25T10:48:10.572Z"
   },
   {
    "duration": 641,
    "start_time": "2021-06-25T10:48:10.592Z"
   },
   {
    "duration": 33,
    "start_time": "2021-06-25T10:48:11.235Z"
   },
   {
    "duration": 18,
    "start_time": "2021-06-25T10:48:11.271Z"
   },
   {
    "duration": 19,
    "start_time": "2021-06-25T10:48:11.291Z"
   },
   {
    "duration": 39,
    "start_time": "2021-06-25T10:48:20.417Z"
   },
   {
    "duration": 62,
    "start_time": "2021-06-25T10:49:27.843Z"
   },
   {
    "duration": 42,
    "start_time": "2021-06-25T10:49:37.689Z"
   },
   {
    "duration": 71,
    "start_time": "2021-06-25T10:49:59.164Z"
   },
   {
    "duration": 126,
    "start_time": "2021-06-25T10:50:11.622Z"
   },
   {
    "duration": 14,
    "start_time": "2021-06-25T10:50:11.767Z"
   },
   {
    "duration": 49,
    "start_time": "2021-06-25T10:50:11.784Z"
   },
   {
    "duration": 34,
    "start_time": "2021-06-25T10:50:11.836Z"
   },
   {
    "duration": 15,
    "start_time": "2021-06-25T10:50:11.872Z"
   },
   {
    "duration": 23,
    "start_time": "2021-06-25T10:50:11.889Z"
   },
   {
    "duration": 16,
    "start_time": "2021-06-25T10:50:11.915Z"
   },
   {
    "duration": 21,
    "start_time": "2021-06-25T10:50:11.966Z"
   },
   {
    "duration": 24,
    "start_time": "2021-06-25T10:50:11.990Z"
   },
   {
    "duration": 7,
    "start_time": "2021-06-25T10:50:12.016Z"
   },
   {
    "duration": 59,
    "start_time": "2021-06-25T10:50:12.025Z"
   },
   {
    "duration": 24,
    "start_time": "2021-06-25T10:50:12.086Z"
   },
   {
    "duration": 58,
    "start_time": "2021-06-25T10:50:12.113Z"
   },
   {
    "duration": 18,
    "start_time": "2021-06-25T10:50:12.174Z"
   },
   {
    "duration": 647,
    "start_time": "2021-06-25T10:50:12.194Z"
   },
   {
    "duration": 32,
    "start_time": "2021-06-25T10:50:12.844Z"
   },
   {
    "duration": 20,
    "start_time": "2021-06-25T10:50:12.880Z"
   },
   {
    "duration": 18,
    "start_time": "2021-06-25T10:50:12.903Z"
   },
   {
    "duration": 72,
    "start_time": "2021-06-25T10:50:12.925Z"
   },
   {
    "duration": 87,
    "start_time": "2021-06-25T10:50:13.000Z"
   },
   {
    "duration": 47,
    "start_time": "2021-06-25T10:50:13.090Z"
   },
   {
    "duration": 98,
    "start_time": "2021-06-25T10:50:13.140Z"
   },
   {
    "duration": 10032,
    "start_time": "2021-06-25T10:50:52.499Z"
   },
   {
    "duration": 48,
    "start_time": "2021-06-25T10:51:09.933Z"
   },
   {
    "duration": 37,
    "start_time": "2021-06-25T10:52:55.988Z"
   },
   {
    "duration": 15,
    "start_time": "2021-06-25T10:56:05.034Z"
   },
   {
    "duration": 16,
    "start_time": "2021-06-25T10:56:16.605Z"
   },
   {
    "duration": 15,
    "start_time": "2021-06-25T10:56:44.933Z"
   },
   {
    "duration": 104,
    "start_time": "2021-06-25T10:57:37.313Z"
   },
   {
    "duration": 16,
    "start_time": "2021-06-25T10:57:41.454Z"
   },
   {
    "duration": 18,
    "start_time": "2021-06-25T10:58:53.084Z"
   },
   {
    "duration": 18,
    "start_time": "2021-06-25T10:58:59.503Z"
   },
   {
    "duration": 15,
    "start_time": "2021-06-25T10:59:38.637Z"
   },
   {
    "duration": 19,
    "start_time": "2021-06-25T10:59:46.509Z"
   },
   {
    "duration": 18,
    "start_time": "2021-06-25T10:59:57.152Z"
   },
   {
    "duration": 16,
    "start_time": "2021-06-25T11:00:03.302Z"
   },
   {
    "duration": 19,
    "start_time": "2021-06-25T11:00:10.125Z"
   },
   {
    "duration": 18,
    "start_time": "2021-06-25T11:00:29.950Z"
   },
   {
    "duration": 21,
    "start_time": "2021-06-25T11:00:54.467Z"
   },
   {
    "duration": 17,
    "start_time": "2021-06-25T11:01:32.242Z"
   },
   {
    "duration": 16,
    "start_time": "2021-06-25T11:02:45.335Z"
   },
   {
    "duration": 27,
    "start_time": "2021-06-25T11:02:53.584Z"
   },
   {
    "duration": 17,
    "start_time": "2021-06-25T11:03:07.632Z"
   },
   {
    "duration": 24,
    "start_time": "2021-06-25T11:03:36.193Z"
   },
   {
    "duration": 345,
    "start_time": "2021-06-25T11:04:33.141Z"
   },
   {
    "duration": 318,
    "start_time": "2021-06-25T11:05:05.071Z"
   },
   {
    "duration": 388,
    "start_time": "2021-06-25T11:05:15.084Z"
   },
   {
    "duration": 18,
    "start_time": "2021-06-25T11:05:26.064Z"
   },
   {
    "duration": 23,
    "start_time": "2021-06-25T11:06:05.499Z"
   },
   {
    "duration": 24,
    "start_time": "2021-06-25T11:06:18.880Z"
   },
   {
    "duration": 534,
    "start_time": "2021-06-25T11:07:49.970Z"
   },
   {
    "duration": 109,
    "start_time": "2021-06-25T11:08:14.048Z"
   },
   {
    "duration": 25,
    "start_time": "2021-06-25T11:08:25.546Z"
   },
   {
    "duration": 32,
    "start_time": "2021-06-25T11:08:39.830Z"
   },
   {
    "duration": 36,
    "start_time": "2021-06-25T11:08:47.296Z"
   },
   {
    "duration": 28,
    "start_time": "2021-06-25T11:09:03.728Z"
   },
   {
    "duration": 17,
    "start_time": "2021-06-25T11:09:43.282Z"
   },
   {
    "duration": 20,
    "start_time": "2021-06-25T11:10:04.759Z"
   },
   {
    "duration": 25,
    "start_time": "2021-06-25T11:10:19.712Z"
   },
   {
    "duration": 30,
    "start_time": "2021-06-25T11:11:21.228Z"
   },
   {
    "duration": 34,
    "start_time": "2021-06-25T11:14:01.645Z"
   },
   {
    "duration": 33,
    "start_time": "2021-06-25T11:14:12.812Z"
   },
   {
    "duration": 27,
    "start_time": "2021-06-25T11:14:28.634Z"
   },
   {
    "duration": 27,
    "start_time": "2021-06-25T11:15:04.518Z"
   },
   {
    "duration": 17,
    "start_time": "2021-06-25T11:15:23.035Z"
   },
   {
    "duration": 18,
    "start_time": "2021-06-25T11:16:42.752Z"
   },
   {
    "duration": 11,
    "start_time": "2021-06-25T11:20:10.663Z"
   },
   {
    "duration": 21,
    "start_time": "2021-06-25T11:25:33.973Z"
   },
   {
    "duration": 137,
    "start_time": "2021-06-25T14:01:51.705Z"
   },
   {
    "duration": 34,
    "start_time": "2021-06-25T14:01:51.845Z"
   },
   {
    "duration": 54,
    "start_time": "2021-06-25T14:01:51.882Z"
   },
   {
    "duration": 5,
    "start_time": "2021-06-25T14:01:51.939Z"
   },
   {
    "duration": 13,
    "start_time": "2021-06-25T14:01:51.967Z"
   },
   {
    "duration": 21,
    "start_time": "2021-06-25T14:01:51.983Z"
   },
   {
    "duration": 18,
    "start_time": "2021-06-25T14:01:52.007Z"
   },
   {
    "duration": 53,
    "start_time": "2021-06-25T14:01:52.029Z"
   },
   {
    "duration": 21,
    "start_time": "2021-06-25T14:01:52.085Z"
   },
   {
    "duration": 9,
    "start_time": "2021-06-25T14:01:52.108Z"
   },
   {
    "duration": 64,
    "start_time": "2021-06-25T14:01:52.120Z"
   },
   {
    "duration": 27,
    "start_time": "2021-06-25T14:01:52.187Z"
   },
   {
    "duration": 60,
    "start_time": "2021-06-25T14:01:52.217Z"
   },
   {
    "duration": 20,
    "start_time": "2021-06-25T14:01:52.279Z"
   },
   {
    "duration": 653,
    "start_time": "2021-06-25T14:01:52.302Z"
   },
   {
    "duration": 32,
    "start_time": "2021-06-25T14:01:52.957Z"
   },
   {
    "duration": 18,
    "start_time": "2021-06-25T14:01:52.992Z"
   },
   {
    "duration": 54,
    "start_time": "2021-06-25T14:01:53.013Z"
   },
   {
    "duration": 36,
    "start_time": "2021-06-25T14:01:53.070Z"
   },
   {
    "duration": 90,
    "start_time": "2021-06-25T14:01:53.109Z"
   },
   {
    "duration": 65,
    "start_time": "2021-06-25T14:01:53.201Z"
   },
   {
    "duration": 75,
    "start_time": "2021-06-25T14:01:53.269Z"
   },
   {
    "duration": 10123,
    "start_time": "2021-06-25T14:01:53.348Z"
   },
   {
    "duration": 48,
    "start_time": "2021-06-25T14:02:03.474Z"
   },
   {
    "duration": 46,
    "start_time": "2021-06-25T14:02:03.524Z"
   },
   {
    "duration": 29,
    "start_time": "2021-06-25T14:02:03.573Z"
   },
   {
    "duration": 143,
    "start_time": "2021-06-25T14:08:03.048Z"
   },
   {
    "duration": 15,
    "start_time": "2021-06-25T14:08:03.193Z"
   },
   {
    "duration": 78,
    "start_time": "2021-06-25T14:08:03.212Z"
   },
   {
    "duration": 6,
    "start_time": "2021-06-25T14:08:03.292Z"
   },
   {
    "duration": 19,
    "start_time": "2021-06-25T14:08:03.301Z"
   },
   {
    "duration": 21,
    "start_time": "2021-06-25T14:08:03.323Z"
   },
   {
    "duration": 16,
    "start_time": "2021-06-25T14:08:03.368Z"
   },
   {
    "duration": 19,
    "start_time": "2021-06-25T14:08:03.387Z"
   },
   {
    "duration": 23,
    "start_time": "2021-06-25T14:08:03.409Z"
   },
   {
    "duration": 7,
    "start_time": "2021-06-25T14:08:03.468Z"
   },
   {
    "duration": 22,
    "start_time": "2021-06-25T14:08:03.477Z"
   },
   {
    "duration": 24,
    "start_time": "2021-06-25T14:08:03.501Z"
   },
   {
    "duration": 64,
    "start_time": "2021-06-25T14:08:03.527Z"
   },
   {
    "duration": 17,
    "start_time": "2021-06-25T14:08:03.593Z"
   },
   {
    "duration": 645,
    "start_time": "2021-06-25T14:08:03.612Z"
   },
   {
    "duration": 25,
    "start_time": "2021-06-25T14:08:04.259Z"
   },
   {
    "duration": 18,
    "start_time": "2021-06-25T14:08:04.286Z"
   },
   {
    "duration": 16,
    "start_time": "2021-06-25T14:08:04.306Z"
   },
   {
    "duration": 76,
    "start_time": "2021-06-25T14:08:04.324Z"
   },
   {
    "duration": 87,
    "start_time": "2021-06-25T14:08:04.402Z"
   },
   {
    "duration": 43,
    "start_time": "2021-06-25T14:08:04.492Z"
   },
   {
    "duration": 99,
    "start_time": "2021-06-25T14:08:04.537Z"
   },
   {
    "duration": 10109,
    "start_time": "2021-06-25T14:08:04.640Z"
   },
   {
    "duration": 50,
    "start_time": "2021-06-25T14:08:17.049Z"
   },
   {
    "duration": 30,
    "start_time": "2021-06-25T14:08:41.454Z"
   },
   {
    "duration": 24,
    "start_time": "2021-06-25T14:08:53.687Z"
   },
   {
    "duration": 12952,
    "start_time": "2021-06-25T14:13:00.999Z"
   },
   {
    "duration": 8114,
    "start_time": "2021-06-25T14:14:11.484Z"
   },
   {
    "duration": 44,
    "start_time": "2021-06-25T14:15:18.740Z"
   },
   {
    "duration": 44,
    "start_time": "2021-06-25T14:16:00.675Z"
   },
   {
    "duration": 21,
    "start_time": "2021-06-25T14:16:09.981Z"
   },
   {
    "duration": 46,
    "start_time": "2021-06-25T14:16:12.276Z"
   },
   {
    "duration": 30,
    "start_time": "2021-06-25T14:17:15.601Z"
   },
   {
    "duration": 35,
    "start_time": "2021-06-25T14:18:37.964Z"
   },
   {
    "duration": 29,
    "start_time": "2021-06-25T14:19:38.552Z"
   },
   {
    "duration": 403,
    "start_time": "2021-06-25T14:20:06.780Z"
   },
   {
    "duration": 28,
    "start_time": "2021-06-25T14:20:14.366Z"
   },
   {
    "duration": 130,
    "start_time": "2021-06-25T14:21:13.104Z"
   },
   {
    "duration": 15,
    "start_time": "2021-06-25T14:21:13.236Z"
   },
   {
    "duration": 49,
    "start_time": "2021-06-25T14:21:13.267Z"
   },
   {
    "duration": 5,
    "start_time": "2021-06-25T14:21:13.319Z"
   },
   {
    "duration": 46,
    "start_time": "2021-06-25T14:21:13.327Z"
   },
   {
    "duration": 23,
    "start_time": "2021-06-25T14:21:13.375Z"
   },
   {
    "duration": 17,
    "start_time": "2021-06-25T14:21:13.400Z"
   },
   {
    "duration": 52,
    "start_time": "2021-06-25T14:21:13.422Z"
   },
   {
    "duration": 20,
    "start_time": "2021-06-25T14:21:13.477Z"
   },
   {
    "duration": 6,
    "start_time": "2021-06-25T14:21:13.500Z"
   },
   {
    "duration": 60,
    "start_time": "2021-06-25T14:21:13.508Z"
   },
   {
    "duration": 25,
    "start_time": "2021-06-25T14:21:13.571Z"
   },
   {
    "duration": 25,
    "start_time": "2021-06-25T14:21:13.599Z"
   },
   {
    "duration": 50,
    "start_time": "2021-06-25T14:21:13.626Z"
   },
   {
    "duration": 641,
    "start_time": "2021-06-25T14:21:13.679Z"
   },
   {
    "duration": 22,
    "start_time": "2021-06-25T14:21:14.322Z"
   },
   {
    "duration": 36,
    "start_time": "2021-06-25T14:21:14.347Z"
   },
   {
    "duration": 17,
    "start_time": "2021-06-25T14:21:14.385Z"
   },
   {
    "duration": 68,
    "start_time": "2021-06-25T14:21:14.405Z"
   },
   {
    "duration": 68,
    "start_time": "2021-06-25T14:21:14.475Z"
   },
   {
    "duration": 61,
    "start_time": "2021-06-25T14:21:14.546Z"
   },
   {
    "duration": 98,
    "start_time": "2021-06-25T14:21:14.609Z"
   },
   {
    "duration": 10156,
    "start_time": "2021-06-25T14:21:14.711Z"
   },
   {
    "duration": 28,
    "start_time": "2021-06-25T14:21:29.354Z"
   },
   {
    "duration": 143,
    "start_time": "2021-06-25T14:22:07.942Z"
   },
   {
    "duration": 18,
    "start_time": "2021-06-25T14:22:08.089Z"
   },
   {
    "duration": 89,
    "start_time": "2021-06-25T14:22:08.111Z"
   },
   {
    "duration": 7,
    "start_time": "2021-06-25T14:22:08.204Z"
   },
   {
    "duration": 15,
    "start_time": "2021-06-25T14:22:08.214Z"
   },
   {
    "duration": 55,
    "start_time": "2021-06-25T14:22:08.232Z"
   },
   {
    "duration": 15,
    "start_time": "2021-06-25T14:22:08.290Z"
   },
   {
    "duration": 20,
    "start_time": "2021-06-25T14:22:08.309Z"
   },
   {
    "duration": 21,
    "start_time": "2021-06-25T14:22:08.369Z"
   },
   {
    "duration": 9,
    "start_time": "2021-06-25T14:22:08.394Z"
   },
   {
    "duration": 65,
    "start_time": "2021-06-25T14:22:08.406Z"
   },
   {
    "duration": 27,
    "start_time": "2021-06-25T14:22:08.474Z"
   },
   {
    "duration": 63,
    "start_time": "2021-06-25T14:22:08.504Z"
   },
   {
    "duration": 17,
    "start_time": "2021-06-25T14:22:08.570Z"
   },
   {
    "duration": 748,
    "start_time": "2021-06-25T14:22:08.590Z"
   },
   {
    "duration": 39,
    "start_time": "2021-06-25T14:22:09.341Z"
   },
   {
    "duration": 20,
    "start_time": "2021-06-25T14:22:09.382Z"
   },
   {
    "duration": 16,
    "start_time": "2021-06-25T14:22:09.404Z"
   },
   {
    "duration": 70,
    "start_time": "2021-06-25T14:22:09.422Z"
   },
   {
    "duration": 88,
    "start_time": "2021-06-25T14:22:09.494Z"
   },
   {
    "duration": 44,
    "start_time": "2021-06-25T14:22:09.584Z"
   },
   {
    "duration": 94,
    "start_time": "2021-06-25T14:22:09.631Z"
   },
   {
    "duration": 10307,
    "start_time": "2021-06-25T14:22:09.729Z"
   },
   {
    "duration": 60,
    "start_time": "2021-06-25T14:22:20.039Z"
   },
   {
    "duration": 33,
    "start_time": "2021-06-25T14:22:20.102Z"
   },
   {
    "duration": 46,
    "start_time": "2021-06-25T14:22:20.138Z"
   },
   {
    "duration": 34,
    "start_time": "2021-06-25T14:22:33.435Z"
   },
   {
    "duration": 33,
    "start_time": "2021-06-25T14:22:48.872Z"
   },
   {
    "duration": 10605,
    "start_time": "2021-06-25T14:23:44.248Z"
   },
   {
    "duration": 30,
    "start_time": "2021-06-25T14:24:37.262Z"
   },
   {
    "duration": 26,
    "start_time": "2021-06-25T15:00:26.335Z"
   },
   {
    "duration": 28,
    "start_time": "2021-06-25T15:00:45.405Z"
   },
   {
    "duration": 129,
    "start_time": "2021-06-25T15:01:35.471Z"
   },
   {
    "duration": 16,
    "start_time": "2021-06-25T15:01:35.603Z"
   },
   {
    "duration": 83,
    "start_time": "2021-06-25T15:01:35.623Z"
   },
   {
    "duration": 8,
    "start_time": "2021-06-25T15:01:35.709Z"
   },
   {
    "duration": 21,
    "start_time": "2021-06-25T15:01:35.719Z"
   },
   {
    "duration": 45,
    "start_time": "2021-06-25T15:01:35.743Z"
   },
   {
    "duration": 18,
    "start_time": "2021-06-25T15:01:35.791Z"
   },
   {
    "duration": 56,
    "start_time": "2021-06-25T15:01:35.813Z"
   },
   {
    "duration": 24,
    "start_time": "2021-06-25T15:01:35.872Z"
   },
   {
    "duration": 7,
    "start_time": "2021-06-25T15:01:35.898Z"
   },
   {
    "duration": 65,
    "start_time": "2021-06-25T15:01:35.908Z"
   },
   {
    "duration": 26,
    "start_time": "2021-06-25T15:01:35.977Z"
   },
   {
    "duration": 61,
    "start_time": "2021-06-25T15:01:36.006Z"
   },
   {
    "duration": 19,
    "start_time": "2021-06-25T15:01:36.070Z"
   },
   {
    "duration": 631,
    "start_time": "2021-06-25T15:01:36.091Z"
   },
   {
    "duration": 22,
    "start_time": "2021-06-25T15:01:36.724Z"
   },
   {
    "duration": 33,
    "start_time": "2021-06-25T15:01:36.748Z"
   },
   {
    "duration": 17,
    "start_time": "2021-06-25T15:01:36.783Z"
   },
   {
    "duration": 69,
    "start_time": "2021-06-25T15:01:36.802Z"
   },
   {
    "duration": 66,
    "start_time": "2021-06-25T15:01:36.873Z"
   },
   {
    "duration": 67,
    "start_time": "2021-06-25T15:01:36.942Z"
   },
   {
    "duration": 104,
    "start_time": "2021-06-25T15:01:37.012Z"
   },
   {
    "duration": 9999,
    "start_time": "2021-06-25T15:01:37.122Z"
   },
   {
    "duration": 59,
    "start_time": "2021-06-25T15:01:47.124Z"
   },
   {
    "duration": 31,
    "start_time": "2021-06-25T15:01:47.186Z"
   },
   {
    "duration": 36,
    "start_time": "2021-06-25T15:01:47.219Z"
   },
   {
    "duration": 48,
    "start_time": "2021-06-25T15:01:47.257Z"
   },
   {
    "duration": 396,
    "start_time": "2021-06-26T07:13:32.379Z"
   },
   {
    "duration": 1695,
    "start_time": "2021-06-26T07:13:40.071Z"
   },
   {
    "duration": 16,
    "start_time": "2021-06-26T07:13:41.769Z"
   },
   {
    "duration": 64,
    "start_time": "2021-06-26T07:13:41.788Z"
   },
   {
    "duration": 5,
    "start_time": "2021-06-26T07:13:41.855Z"
   },
   {
    "duration": 15,
    "start_time": "2021-06-26T07:13:41.863Z"
   },
   {
    "duration": 46,
    "start_time": "2021-06-26T07:13:41.880Z"
   },
   {
    "duration": 23,
    "start_time": "2021-06-26T07:13:41.929Z"
   },
   {
    "duration": 32,
    "start_time": "2021-06-26T07:13:41.955Z"
   },
   {
    "duration": 37,
    "start_time": "2021-06-26T07:13:41.991Z"
   },
   {
    "duration": 8,
    "start_time": "2021-06-26T07:13:42.031Z"
   },
   {
    "duration": 36,
    "start_time": "2021-06-26T07:13:42.041Z"
   },
   {
    "duration": 49,
    "start_time": "2021-06-26T07:13:42.080Z"
   },
   {
    "duration": 24,
    "start_time": "2021-06-26T07:13:42.132Z"
   },
   {
    "duration": 16,
    "start_time": "2021-06-26T07:13:42.159Z"
   },
   {
    "duration": 702,
    "start_time": "2021-06-26T07:13:42.177Z"
   },
   {
    "duration": 42,
    "start_time": "2021-06-26T07:13:42.882Z"
   },
   {
    "duration": 19,
    "start_time": "2021-06-26T07:13:42.927Z"
   },
   {
    "duration": 18,
    "start_time": "2021-06-26T07:13:42.949Z"
   },
   {
    "duration": 72,
    "start_time": "2021-06-26T07:13:42.969Z"
   },
   {
    "duration": 61,
    "start_time": "2021-06-26T07:13:43.043Z"
   },
   {
    "duration": 44,
    "start_time": "2021-06-26T07:13:43.124Z"
   },
   {
    "duration": 94,
    "start_time": "2021-06-26T07:13:43.170Z"
   },
   {
    "duration": 9988,
    "start_time": "2021-06-26T07:13:43.266Z"
   },
   {
    "duration": 49,
    "start_time": "2021-06-26T07:13:53.257Z"
   },
   {
    "duration": 39,
    "start_time": "2021-06-26T07:13:53.308Z"
   },
   {
    "duration": 24,
    "start_time": "2021-06-26T07:13:53.349Z"
   },
   {
    "duration": 71,
    "start_time": "2021-06-26T07:13:53.377Z"
   },
   {
    "duration": 26,
    "start_time": "2021-06-26T07:13:53.450Z"
   },
   {
    "duration": 6,
    "start_time": "2021-06-26T07:18:27.701Z"
   },
   {
    "duration": 51,
    "start_time": "2021-06-26T07:19:56.641Z"
   },
   {
    "duration": 131,
    "start_time": "2021-06-26T07:20:53.629Z"
   },
   {
    "duration": 16,
    "start_time": "2021-06-26T07:20:53.762Z"
   },
   {
    "duration": 81,
    "start_time": "2021-06-26T07:20:53.781Z"
   },
   {
    "duration": 6,
    "start_time": "2021-06-26T07:20:53.864Z"
   },
   {
    "duration": 14,
    "start_time": "2021-06-26T07:20:53.872Z"
   },
   {
    "duration": 45,
    "start_time": "2021-06-26T07:20:53.888Z"
   },
   {
    "duration": 22,
    "start_time": "2021-06-26T07:20:53.935Z"
   },
   {
    "duration": 24,
    "start_time": "2021-06-26T07:20:53.961Z"
   },
   {
    "duration": 48,
    "start_time": "2021-06-26T07:20:53.988Z"
   },
   {
    "duration": 8,
    "start_time": "2021-06-26T07:20:54.038Z"
   },
   {
    "duration": 23,
    "start_time": "2021-06-26T07:20:54.048Z"
   },
   {
    "duration": 57,
    "start_time": "2021-06-26T07:20:54.073Z"
   },
   {
    "duration": 24,
    "start_time": "2021-06-26T07:20:54.132Z"
   },
   {
    "duration": 16,
    "start_time": "2021-06-26T07:20:54.158Z"
   },
   {
    "duration": 657,
    "start_time": "2021-06-26T07:20:54.177Z"
   },
   {
    "duration": 19,
    "start_time": "2021-06-26T07:20:54.837Z"
   },
   {
    "duration": 17,
    "start_time": "2021-06-26T07:20:54.859Z"
   },
   {
    "duration": 49,
    "start_time": "2021-06-26T07:20:54.879Z"
   },
   {
    "duration": 35,
    "start_time": "2021-06-26T07:20:54.930Z"
   },
   {
    "duration": 91,
    "start_time": "2021-06-26T07:20:54.967Z"
   },
   {
    "duration": 43,
    "start_time": "2021-06-26T07:20:55.060Z"
   },
   {
    "duration": 89,
    "start_time": "2021-06-26T07:20:55.105Z"
   },
   {
    "duration": 10350,
    "start_time": "2021-06-26T07:20:55.198Z"
   },
   {
    "duration": 47,
    "start_time": "2021-06-26T07:21:05.551Z"
   },
   {
    "duration": 48,
    "start_time": "2021-06-26T07:21:05.600Z"
   },
   {
    "duration": 25,
    "start_time": "2021-06-26T07:21:05.650Z"
   },
   {
    "duration": 63,
    "start_time": "2021-06-26T07:21:05.678Z"
   },
   {
    "duration": 77,
    "start_time": "2021-06-26T07:21:09.662Z"
   },
   {
    "duration": 16,
    "start_time": "2021-06-26T07:22:58.298Z"
   },
   {
    "duration": 44,
    "start_time": "2021-06-26T07:23:02.257Z"
   },
   {
    "duration": 36,
    "start_time": "2021-06-26T07:24:59.076Z"
   },
   {
    "duration": 34,
    "start_time": "2021-06-26T07:25:56.213Z"
   },
   {
    "duration": 6,
    "start_time": "2021-06-26T07:30:58.243Z"
   },
   {
    "duration": 7,
    "start_time": "2021-06-26T07:33:41.660Z"
   },
   {
    "duration": 8,
    "start_time": "2021-06-26T07:34:15.343Z"
   },
   {
    "duration": 8,
    "start_time": "2021-06-26T07:34:54.334Z"
   },
   {
    "duration": 33,
    "start_time": "2021-06-26T07:43:50.462Z"
   },
   {
    "duration": 54,
    "start_time": "2021-06-26T07:47:40.731Z"
   },
   {
    "duration": 138,
    "start_time": "2021-06-26T07:49:03.801Z"
   },
   {
    "duration": 16,
    "start_time": "2021-06-26T07:49:03.941Z"
   },
   {
    "duration": 79,
    "start_time": "2021-06-26T07:49:03.960Z"
   },
   {
    "duration": 6,
    "start_time": "2021-06-26T07:49:04.042Z"
   },
   {
    "duration": 15,
    "start_time": "2021-06-26T07:49:04.050Z"
   },
   {
    "duration": 22,
    "start_time": "2021-06-26T07:49:04.068Z"
   },
   {
    "duration": 20,
    "start_time": "2021-06-26T07:49:04.125Z"
   },
   {
    "duration": 20,
    "start_time": "2021-06-26T07:49:04.151Z"
   },
   {
    "duration": 65,
    "start_time": "2021-06-26T07:49:04.175Z"
   },
   {
    "duration": 9,
    "start_time": "2021-06-26T07:49:04.243Z"
   },
   {
    "duration": 25,
    "start_time": "2021-06-26T07:49:04.255Z"
   },
   {
    "duration": 56,
    "start_time": "2021-06-26T07:49:04.282Z"
   },
   {
    "duration": 24,
    "start_time": "2021-06-26T07:49:04.340Z"
   },
   {
    "duration": 16,
    "start_time": "2021-06-26T07:49:04.366Z"
   },
   {
    "duration": 607,
    "start_time": "2021-06-26T07:49:04.425Z"
   },
   {
    "duration": 20,
    "start_time": "2021-06-26T07:49:05.035Z"
   },
   {
    "duration": 18,
    "start_time": "2021-06-26T07:49:05.057Z"
   },
   {
    "duration": 55,
    "start_time": "2021-06-26T07:49:05.078Z"
   },
   {
    "duration": 36,
    "start_time": "2021-06-26T07:49:05.135Z"
   },
   {
    "duration": 87,
    "start_time": "2021-06-26T07:49:05.173Z"
   },
   {
    "duration": 62,
    "start_time": "2021-06-26T07:49:05.262Z"
   },
   {
    "duration": 73,
    "start_time": "2021-06-26T07:49:05.327Z"
   },
   {
    "duration": 9953,
    "start_time": "2021-06-26T07:49:05.404Z"
   },
   {
    "duration": 75,
    "start_time": "2021-06-26T07:49:15.361Z"
   },
   {
    "duration": 30,
    "start_time": "2021-06-26T07:49:15.438Z"
   },
   {
    "duration": 29,
    "start_time": "2021-06-26T07:49:15.470Z"
   },
   {
    "duration": 59,
    "start_time": "2021-06-26T07:49:15.501Z"
   },
   {
    "duration": 8,
    "start_time": "2021-06-26T07:49:15.563Z"
   },
   {
    "duration": 18,
    "start_time": "2021-06-26T07:49:15.573Z"
   },
   {
    "duration": 86,
    "start_time": "2021-06-26T07:49:15.594Z"
   },
   {
    "duration": 40,
    "start_time": "2021-06-26T07:49:22.366Z"
   },
   {
    "duration": 17,
    "start_time": "2021-06-26T07:55:55.760Z"
   },
   {
    "duration": 41,
    "start_time": "2021-06-26T08:00:36.148Z"
   },
   {
    "duration": 38,
    "start_time": "2021-06-26T08:00:46.786Z"
   },
   {
    "duration": 1692,
    "start_time": "2021-06-26T14:48:55.174Z"
   },
   {
    "duration": 16,
    "start_time": "2021-06-26T14:48:56.868Z"
   },
   {
    "duration": 63,
    "start_time": "2021-06-26T14:48:56.887Z"
   },
   {
    "duration": 6,
    "start_time": "2021-06-26T14:48:56.953Z"
   },
   {
    "duration": 15,
    "start_time": "2021-06-26T14:48:56.962Z"
   },
   {
    "duration": 46,
    "start_time": "2021-06-26T14:48:56.980Z"
   },
   {
    "duration": 20,
    "start_time": "2021-06-26T14:48:57.029Z"
   },
   {
    "duration": 22,
    "start_time": "2021-06-26T14:48:57.053Z"
   },
   {
    "duration": 53,
    "start_time": "2021-06-26T14:48:57.078Z"
   },
   {
    "duration": 9,
    "start_time": "2021-06-26T14:48:57.134Z"
   },
   {
    "duration": 22,
    "start_time": "2021-06-26T14:48:57.146Z"
   },
   {
    "duration": 64,
    "start_time": "2021-06-26T14:48:57.171Z"
   },
   {
    "duration": 26,
    "start_time": "2021-06-26T14:48:57.238Z"
   },
   {
    "duration": 17,
    "start_time": "2021-06-26T14:48:57.266Z"
   },
   {
    "duration": 653,
    "start_time": "2021-06-26T14:48:57.286Z"
   },
   {
    "duration": 19,
    "start_time": "2021-06-26T14:48:57.941Z"
   },
   {
    "duration": 21,
    "start_time": "2021-06-26T14:48:57.962Z"
   },
   {
    "duration": 52,
    "start_time": "2021-06-26T14:48:57.985Z"
   },
   {
    "duration": 56,
    "start_time": "2021-06-26T14:48:58.040Z"
   },
   {
    "duration": 95,
    "start_time": "2021-06-26T14:48:58.099Z"
   },
   {
    "duration": 56,
    "start_time": "2021-06-26T14:48:58.196Z"
   },
   {
    "duration": 92,
    "start_time": "2021-06-26T14:48:58.255Z"
   },
   {
    "duration": 10357,
    "start_time": "2021-06-26T14:48:58.354Z"
   },
   {
    "duration": 53,
    "start_time": "2021-06-26T14:49:08.714Z"
   },
   {
    "duration": 25,
    "start_time": "2021-06-26T14:49:08.769Z"
   },
   {
    "duration": 45,
    "start_time": "2021-06-26T14:49:08.797Z"
   },
   {
    "duration": 41,
    "start_time": "2021-06-26T14:49:08.845Z"
   },
   {
    "duration": 37,
    "start_time": "2021-06-26T14:49:08.889Z"
   },
   {
    "duration": 11,
    "start_time": "2021-06-26T14:49:08.928Z"
   },
   {
    "duration": 89,
    "start_time": "2021-06-26T14:49:08.941Z"
   },
   {
    "duration": 37,
    "start_time": "2021-06-26T14:49:09.033Z"
   },
   {
    "duration": 69,
    "start_time": "2021-06-26T14:49:09.073Z"
   },
   {
    "duration": 8,
    "start_time": "2021-06-26T14:49:46.017Z"
   },
   {
    "duration": 435,
    "start_time": "2021-06-26T14:53:40.318Z"
   },
   {
    "duration": 35,
    "start_time": "2021-06-26T14:53:46.878Z"
   },
   {
    "duration": 16,
    "start_time": "2021-06-26T14:54:20.822Z"
   },
   {
    "duration": 14,
    "start_time": "2021-06-26T14:54:31.595Z"
   },
   {
    "duration": 34,
    "start_time": "2021-06-26T14:54:39.804Z"
   },
   {
    "duration": 33,
    "start_time": "2021-06-26T14:56:12.974Z"
   },
   {
    "duration": 9,
    "start_time": "2021-06-26T14:57:02.723Z"
   },
   {
    "duration": 11,
    "start_time": "2021-06-26T14:58:56.836Z"
   },
   {
    "duration": 11,
    "start_time": "2021-06-26T14:59:16.559Z"
   },
   {
    "duration": 10,
    "start_time": "2021-06-26T14:59:28.687Z"
   },
   {
    "duration": 8,
    "start_time": "2021-06-26T15:00:31.025Z"
   },
   {
    "duration": 7,
    "start_time": "2021-06-26T15:05:36.146Z"
   },
   {
    "duration": 8,
    "start_time": "2021-06-26T15:05:48.601Z"
   },
   {
    "duration": 137,
    "start_time": "2021-06-26T15:06:30.280Z"
   },
   {
    "duration": 18,
    "start_time": "2021-06-26T15:06:30.424Z"
   },
   {
    "duration": 86,
    "start_time": "2021-06-26T15:06:30.446Z"
   },
   {
    "duration": 6,
    "start_time": "2021-06-26T15:06:30.535Z"
   },
   {
    "duration": 24,
    "start_time": "2021-06-26T15:06:30.544Z"
   },
   {
    "duration": 22,
    "start_time": "2021-06-26T15:06:30.570Z"
   },
   {
    "duration": 39,
    "start_time": "2021-06-26T15:06:30.594Z"
   },
   {
    "duration": 20,
    "start_time": "2021-06-26T15:06:30.636Z"
   },
   {
    "duration": 23,
    "start_time": "2021-06-26T15:06:30.659Z"
   },
   {
    "duration": 41,
    "start_time": "2021-06-26T15:06:30.685Z"
   },
   {
    "duration": 25,
    "start_time": "2021-06-26T15:06:30.729Z"
   },
   {
    "duration": 22,
    "start_time": "2021-06-26T15:06:30.756Z"
   },
   {
    "duration": 60,
    "start_time": "2021-06-26T15:06:30.781Z"
   },
   {
    "duration": 16,
    "start_time": "2021-06-26T15:06:30.844Z"
   },
   {
    "duration": 636,
    "start_time": "2021-06-26T15:06:30.863Z"
   },
   {
    "duration": 33,
    "start_time": "2021-06-26T15:06:31.501Z"
   },
   {
    "duration": 18,
    "start_time": "2021-06-26T15:06:31.537Z"
   },
   {
    "duration": 15,
    "start_time": "2021-06-26T15:06:31.557Z"
   },
   {
    "duration": 15,
    "start_time": "2021-06-26T15:06:35.594Z"
   },
   {
    "duration": 15,
    "start_time": "2021-06-26T15:07:32.272Z"
   },
   {
    "duration": 129,
    "start_time": "2021-06-26T15:08:04.165Z"
   },
   {
    "duration": 35,
    "start_time": "2021-06-26T15:08:04.297Z"
   },
   {
    "duration": 47,
    "start_time": "2021-06-26T15:08:04.335Z"
   },
   {
    "duration": 5,
    "start_time": "2021-06-26T15:08:04.385Z"
   },
   {
    "duration": 44,
    "start_time": "2021-06-26T15:08:04.392Z"
   },
   {
    "duration": 21,
    "start_time": "2021-06-26T15:08:04.438Z"
   },
   {
    "duration": 27,
    "start_time": "2021-06-26T15:08:04.461Z"
   },
   {
    "duration": 48,
    "start_time": "2021-06-26T15:08:04.491Z"
   },
   {
    "duration": 29,
    "start_time": "2021-06-26T15:08:04.542Z"
   },
   {
    "duration": 7,
    "start_time": "2021-06-26T15:08:04.574Z"
   },
   {
    "duration": 52,
    "start_time": "2021-06-26T15:08:04.583Z"
   },
   {
    "duration": 23,
    "start_time": "2021-06-26T15:08:04.637Z"
   },
   {
    "duration": 22,
    "start_time": "2021-06-26T15:08:04.662Z"
   },
   {
    "duration": 51,
    "start_time": "2021-06-26T15:08:04.687Z"
   },
   {
    "duration": 622,
    "start_time": "2021-06-26T15:08:04.740Z"
   },
   {
    "duration": 23,
    "start_time": "2021-06-26T15:08:05.364Z"
   },
   {
    "duration": 48,
    "start_time": "2021-06-26T15:08:05.390Z"
   },
   {
    "duration": 9,
    "start_time": "2021-06-26T15:08:05.441Z"
   },
   {
    "duration": 27,
    "start_time": "2021-06-26T15:08:05.453Z"
   },
   {
    "duration": 66,
    "start_time": "2021-06-26T15:08:05.483Z"
   },
   {
    "duration": 83,
    "start_time": "2021-06-26T15:08:05.552Z"
   },
   {
    "duration": 46,
    "start_time": "2021-06-26T15:08:05.637Z"
   },
   {
    "duration": 101,
    "start_time": "2021-06-26T15:08:05.687Z"
   },
   {
    "duration": 9982,
    "start_time": "2021-06-26T15:08:05.790Z"
   },
   {
    "duration": 60,
    "start_time": "2021-06-26T15:08:15.774Z"
   },
   {
    "duration": 29,
    "start_time": "2021-06-26T15:08:15.837Z"
   },
   {
    "duration": 22,
    "start_time": "2021-06-26T15:08:15.868Z"
   },
   {
    "duration": 68,
    "start_time": "2021-06-26T15:08:15.892Z"
   },
   {
    "duration": 8,
    "start_time": "2021-06-26T15:08:15.962Z"
   },
   {
    "duration": 9,
    "start_time": "2021-06-26T15:08:15.973Z"
   },
   {
    "duration": 96,
    "start_time": "2021-06-26T15:08:15.985Z"
   },
   {
    "duration": 60,
    "start_time": "2021-06-26T15:08:16.083Z"
   },
   {
    "duration": 37,
    "start_time": "2021-06-26T15:08:16.145Z"
   },
   {
    "duration": 10,
    "start_time": "2021-06-26T15:08:42.110Z"
   },
   {
    "duration": 11,
    "start_time": "2021-06-26T15:09:15.583Z"
   },
   {
    "duration": 12,
    "start_time": "2021-06-26T15:11:14.675Z"
   },
   {
    "duration": 15,
    "start_time": "2021-06-26T15:14:09.192Z"
   },
   {
    "duration": 7,
    "start_time": "2021-06-26T15:25:29.741Z"
   },
   {
    "duration": 9,
    "start_time": "2021-06-26T15:25:39.163Z"
   },
   {
    "duration": 12,
    "start_time": "2021-06-26T15:25:50.579Z"
   },
   {
    "duration": 14,
    "start_time": "2021-06-26T15:27:07.351Z"
   },
   {
    "duration": 14,
    "start_time": "2021-06-26T15:27:21.499Z"
   },
   {
    "duration": 17,
    "start_time": "2021-06-26T15:27:38.594Z"
   },
   {
    "duration": 18,
    "start_time": "2021-06-26T15:28:09.690Z"
   },
   {
    "duration": 17,
    "start_time": "2021-06-26T15:28:16.158Z"
   },
   {
    "duration": 15,
    "start_time": "2021-06-26T15:28:25.273Z"
   },
   {
    "duration": 16,
    "start_time": "2021-06-26T15:28:30.584Z"
   },
   {
    "duration": 15,
    "start_time": "2021-06-26T15:28:36.548Z"
   },
   {
    "duration": 16,
    "start_time": "2021-06-26T15:28:59.590Z"
   },
   {
    "duration": 11,
    "start_time": "2021-06-26T15:29:15.552Z"
   },
   {
    "duration": 20,
    "start_time": "2021-06-26T15:35:19.005Z"
   },
   {
    "duration": 19,
    "start_time": "2021-06-26T15:35:36.631Z"
   },
   {
    "duration": 20,
    "start_time": "2021-06-26T15:35:52.309Z"
   },
   {
    "duration": 19,
    "start_time": "2021-06-26T15:36:25.282Z"
   },
   {
    "duration": 19,
    "start_time": "2021-06-26T15:36:30.428Z"
   },
   {
    "duration": 21,
    "start_time": "2021-06-26T15:36:40.611Z"
   },
   {
    "duration": 19,
    "start_time": "2021-06-26T15:36:47.653Z"
   },
   {
    "duration": 20,
    "start_time": "2021-06-26T15:37:03.806Z"
   },
   {
    "duration": 21,
    "start_time": "2021-06-26T15:37:21.189Z"
   },
   {
    "duration": 19,
    "start_time": "2021-06-26T15:37:30.110Z"
   },
   {
    "duration": 19,
    "start_time": "2021-06-26T15:37:37.309Z"
   },
   {
    "duration": 20,
    "start_time": "2021-06-26T15:37:55.620Z"
   },
   {
    "duration": 19,
    "start_time": "2021-06-26T15:38:04.676Z"
   },
   {
    "duration": 51,
    "start_time": "2021-06-26T15:38:58.735Z"
   },
   {
    "duration": 151,
    "start_time": "2021-06-26T15:39:28.108Z"
   },
   {
    "duration": 17,
    "start_time": "2021-06-26T15:39:28.262Z"
   },
   {
    "duration": 81,
    "start_time": "2021-06-26T15:39:28.282Z"
   },
   {
    "duration": 6,
    "start_time": "2021-06-26T15:39:28.366Z"
   },
   {
    "duration": 15,
    "start_time": "2021-06-26T15:39:28.374Z"
   },
   {
    "duration": 22,
    "start_time": "2021-06-26T15:39:28.424Z"
   },
   {
    "duration": 18,
    "start_time": "2021-06-26T15:39:28.448Z"
   },
   {
    "duration": 20,
    "start_time": "2021-06-26T15:39:28.470Z"
   },
   {
    "duration": 50,
    "start_time": "2021-06-26T15:39:28.493Z"
   },
   {
    "duration": 7,
    "start_time": "2021-06-26T15:39:28.545Z"
   },
   {
    "duration": 22,
    "start_time": "2021-06-26T15:39:28.554Z"
   },
   {
    "duration": 66,
    "start_time": "2021-06-26T15:39:28.578Z"
   },
   {
    "duration": 28,
    "start_time": "2021-06-26T15:39:28.647Z"
   },
   {
    "duration": 16,
    "start_time": "2021-06-26T15:39:28.678Z"
   },
   {
    "duration": 642,
    "start_time": "2021-06-26T15:39:28.696Z"
   },
   {
    "duration": 19,
    "start_time": "2021-06-26T15:39:29.341Z"
   },
   {
    "duration": 21,
    "start_time": "2021-06-26T15:39:29.363Z"
   },
   {
    "duration": 42,
    "start_time": "2021-06-26T15:39:29.386Z"
   },
   {
    "duration": 17,
    "start_time": "2021-06-26T15:39:29.431Z"
   },
   {
    "duration": 36,
    "start_time": "2021-06-26T15:39:29.450Z"
   },
   {
    "duration": 97,
    "start_time": "2021-06-26T15:39:29.488Z"
   },
   {
    "duration": 67,
    "start_time": "2021-06-26T15:39:29.588Z"
   },
   {
    "duration": 87,
    "start_time": "2021-06-26T15:39:29.660Z"
   },
   {
    "duration": 10156,
    "start_time": "2021-06-26T15:39:29.750Z"
   },
   {
    "duration": 55,
    "start_time": "2021-06-26T15:39:39.909Z"
   },
   {
    "duration": 58,
    "start_time": "2021-06-26T15:39:39.967Z"
   },
   {
    "duration": 26,
    "start_time": "2021-06-26T15:39:40.027Z"
   },
   {
    "duration": 72,
    "start_time": "2021-06-26T15:39:40.056Z"
   },
   {
    "duration": 8,
    "start_time": "2021-06-26T15:39:40.131Z"
   },
   {
    "duration": 9,
    "start_time": "2021-06-26T15:39:40.142Z"
   },
   {
    "duration": 95,
    "start_time": "2021-06-26T15:39:40.154Z"
   },
   {
    "duration": 42,
    "start_time": "2021-06-26T15:39:40.252Z"
   },
   {
    "duration": 36,
    "start_time": "2021-06-26T15:39:40.297Z"
   },
   {
    "duration": 41,
    "start_time": "2021-06-26T15:39:40.336Z"
   },
   {
    "duration": 74,
    "start_time": "2021-06-26T15:39:40.380Z"
   },
   {
    "duration": 9,
    "start_time": "2021-06-26T15:39:49.214Z"
   },
   {
    "duration": 12,
    "start_time": "2021-06-26T15:39:52.786Z"
   },
   {
    "duration": 11,
    "start_time": "2021-06-26T15:40:11.071Z"
   },
   {
    "duration": 13,
    "start_time": "2021-06-26T15:40:17.672Z"
   },
   {
    "duration": 1893,
    "start_time": "2021-06-27T10:55:54.983Z"
   },
   {
    "duration": 23,
    "start_time": "2021-06-27T10:55:56.879Z"
   },
   {
    "duration": 100,
    "start_time": "2021-06-27T10:55:56.906Z"
   },
   {
    "duration": 5,
    "start_time": "2021-06-27T10:55:57.009Z"
   },
   {
    "duration": 14,
    "start_time": "2021-06-27T10:55:57.017Z"
   },
   {
    "duration": 53,
    "start_time": "2021-06-27T10:55:57.033Z"
   },
   {
    "duration": 15,
    "start_time": "2021-06-27T10:55:57.088Z"
   },
   {
    "duration": 20,
    "start_time": "2021-06-27T10:55:57.107Z"
   },
   {
    "duration": 61,
    "start_time": "2021-06-27T10:55:57.130Z"
   },
   {
    "duration": 7,
    "start_time": "2021-06-27T10:55:57.193Z"
   },
   {
    "duration": 59,
    "start_time": "2021-06-27T10:55:57.203Z"
   },
   {
    "duration": 26,
    "start_time": "2021-06-27T10:55:57.273Z"
   },
   {
    "duration": 24,
    "start_time": "2021-06-27T10:55:57.302Z"
   },
   {
    "duration": 51,
    "start_time": "2021-06-27T10:55:57.329Z"
   },
   {
    "duration": 723,
    "start_time": "2021-06-27T10:55:57.383Z"
   },
   {
    "duration": 20,
    "start_time": "2021-06-27T10:55:58.109Z"
   },
   {
    "duration": 43,
    "start_time": "2021-06-27T10:55:58.131Z"
   },
   {
    "duration": 10,
    "start_time": "2021-06-27T10:55:58.177Z"
   },
   {
    "duration": 15,
    "start_time": "2021-06-27T10:55:58.189Z"
   },
   {
    "duration": 69,
    "start_time": "2021-06-27T10:55:58.207Z"
   },
   {
    "duration": 94,
    "start_time": "2021-06-27T10:55:58.279Z"
   },
   {
    "duration": 44,
    "start_time": "2021-06-27T10:55:58.375Z"
   },
   {
    "duration": 97,
    "start_time": "2021-06-27T10:55:58.423Z"
   },
   {
    "duration": 11474,
    "start_time": "2021-06-27T10:55:58.523Z"
   },
   {
    "duration": 49,
    "start_time": "2021-06-27T10:56:09.999Z"
   },
   {
    "duration": 30,
    "start_time": "2021-06-27T10:56:10.063Z"
   },
   {
    "duration": 23,
    "start_time": "2021-06-27T10:56:10.096Z"
   },
   {
    "duration": 73,
    "start_time": "2021-06-27T10:56:10.121Z"
   },
   {
    "duration": 9,
    "start_time": "2021-06-27T10:56:10.197Z"
   },
   {
    "duration": 12,
    "start_time": "2021-06-27T10:56:10.209Z"
   },
   {
    "duration": 120,
    "start_time": "2021-06-27T10:56:10.224Z"
   },
   {
    "duration": 61,
    "start_time": "2021-06-27T10:56:10.347Z"
   },
   {
    "duration": 11,
    "start_time": "2021-06-27T10:56:10.412Z"
   },
   {
    "duration": 65,
    "start_time": "2021-06-27T10:56:10.426Z"
   },
   {
    "duration": 43,
    "start_time": "2021-06-27T10:56:10.494Z"
   },
   {
    "duration": 17,
    "start_time": "2021-06-27T10:56:10.567Z"
   },
   {
    "duration": 12,
    "start_time": "2021-06-27T10:56:10.587Z"
   },
   {
    "duration": 10,
    "start_time": "2021-06-27T10:56:10.601Z"
   },
   {
    "duration": 17,
    "start_time": "2021-06-27T10:56:10.614Z"
   },
   {
    "duration": 1918,
    "start_time": "2021-06-28T06:28:04.721Z"
   },
   {
    "duration": 22,
    "start_time": "2021-06-28T06:28:06.642Z"
   },
   {
    "duration": 48,
    "start_time": "2021-06-28T06:28:06.669Z"
   },
   {
    "duration": 35,
    "start_time": "2021-06-28T06:28:06.721Z"
   },
   {
    "duration": 17,
    "start_time": "2021-06-28T06:28:06.759Z"
   },
   {
    "duration": 21,
    "start_time": "2021-06-28T06:28:06.779Z"
   },
   {
    "duration": 20,
    "start_time": "2021-06-28T06:28:06.802Z"
   },
   {
    "duration": 19,
    "start_time": "2021-06-28T06:28:06.856Z"
   },
   {
    "duration": 436,
    "start_time": "2021-06-28T06:28:36.278Z"
   },
   {
    "duration": 352,
    "start_time": "2021-06-28T06:28:50.125Z"
   },
   {
    "duration": 15,
    "start_time": "2021-06-28T06:29:16.501Z"
   },
   {
    "duration": 14,
    "start_time": "2021-06-28T06:29:47.958Z"
   },
   {
    "duration": 16,
    "start_time": "2021-06-28T06:29:52.756Z"
   },
   {
    "duration": 17,
    "start_time": "2021-06-28T06:56:59.629Z"
   },
   {
    "duration": 135,
    "start_time": "2021-06-28T06:57:11.169Z"
   },
   {
    "duration": 15,
    "start_time": "2021-06-28T06:57:11.307Z"
   },
   {
    "duration": 69,
    "start_time": "2021-06-28T06:57:11.325Z"
   },
   {
    "duration": 6,
    "start_time": "2021-06-28T06:57:11.397Z"
   },
   {
    "duration": 15,
    "start_time": "2021-06-28T06:57:11.406Z"
   },
   {
    "duration": 53,
    "start_time": "2021-06-28T06:57:11.423Z"
   },
   {
    "duration": 20,
    "start_time": "2021-06-28T06:57:11.480Z"
   },
   {
    "duration": 59,
    "start_time": "2021-06-28T06:57:11.505Z"
   },
   {
    "duration": 25,
    "start_time": "2021-06-28T06:57:11.567Z"
   },
   {
    "duration": 8,
    "start_time": "2021-06-28T06:57:11.594Z"
   },
   {
    "duration": 59,
    "start_time": "2021-06-28T06:57:11.604Z"
   },
   {
    "duration": 24,
    "start_time": "2021-06-28T06:57:11.666Z"
   },
   {
    "duration": 24,
    "start_time": "2021-06-28T06:57:11.692Z"
   },
   {
    "duration": 337,
    "start_time": "2021-06-28T07:00:06.124Z"
   },
   {
    "duration": 10,
    "start_time": "2021-06-28T07:00:14.127Z"
   },
   {
    "duration": 18,
    "start_time": "2021-06-28T07:03:07.443Z"
   },
   {
    "duration": 10,
    "start_time": "2021-06-28T07:03:36.679Z"
   },
   {
    "duration": 9,
    "start_time": "2021-06-28T07:03:53.309Z"
   },
   {
    "duration": 10,
    "start_time": "2021-06-28T07:04:01.417Z"
   },
   {
    "duration": 13,
    "start_time": "2021-06-28T07:05:05.257Z"
   },
   {
    "duration": 12,
    "start_time": "2021-06-28T07:05:26.457Z"
   },
   {
    "duration": 9,
    "start_time": "2021-06-28T07:05:51.112Z"
   },
   {
    "duration": 10,
    "start_time": "2021-06-28T07:05:57.204Z"
   },
   {
    "duration": 33,
    "start_time": "2021-06-28T07:07:25.235Z"
   },
   {
    "duration": 17,
    "start_time": "2021-06-28T07:18:23.088Z"
   },
   {
    "duration": 18,
    "start_time": "2021-06-28T07:18:30.412Z"
   },
   {
    "duration": 14,
    "start_time": "2021-06-28T07:18:33.980Z"
   },
   {
    "duration": 14,
    "start_time": "2021-06-28T07:18:37.934Z"
   },
   {
    "duration": 13,
    "start_time": "2021-06-28T07:18:42.109Z"
   },
   {
    "duration": 294,
    "start_time": "2021-06-28T07:19:48.862Z"
   },
   {
    "duration": 11,
    "start_time": "2021-06-28T07:20:15.869Z"
   },
   {
    "duration": 9,
    "start_time": "2021-06-28T07:21:41.896Z"
   },
   {
    "duration": 8,
    "start_time": "2021-06-28T07:21:44.824Z"
   },
   {
    "duration": 8,
    "start_time": "2021-06-28T07:21:47.783Z"
   },
   {
    "duration": 12,
    "start_time": "2021-06-28T07:21:54.089Z"
   },
   {
    "duration": 57,
    "start_time": "2021-06-28T07:40:42.745Z"
   },
   {
    "duration": 55,
    "start_time": "2021-06-28T07:41:02.763Z"
   },
   {
    "duration": 65,
    "start_time": "2021-06-28T07:41:34.239Z"
   },
   {
    "duration": 56,
    "start_time": "2021-06-28T07:42:06.296Z"
   },
   {
    "duration": 103,
    "start_time": "2021-06-28T07:42:31.157Z"
   },
   {
    "duration": 89,
    "start_time": "2021-06-28T07:43:18.507Z"
   },
   {
    "duration": 25,
    "start_time": "2021-06-28T07:44:07.292Z"
   },
   {
    "duration": 24,
    "start_time": "2021-06-28T07:44:13.489Z"
   },
   {
    "duration": 28,
    "start_time": "2021-06-28T07:47:22.729Z"
   },
   {
    "duration": 27,
    "start_time": "2021-06-28T07:47:37.908Z"
   },
   {
    "duration": 28,
    "start_time": "2021-06-28T07:48:09.807Z"
   },
   {
    "duration": 31,
    "start_time": "2021-06-28T07:54:48.850Z"
   },
   {
    "duration": 26,
    "start_time": "2021-06-28T07:54:57.132Z"
   },
   {
    "duration": 18,
    "start_time": "2021-06-28T07:59:42.463Z"
   },
   {
    "duration": 62,
    "start_time": "2021-06-28T08:00:00.896Z"
   },
   {
    "duration": 18,
    "start_time": "2021-06-28T08:00:14.642Z"
   },
   {
    "duration": 124,
    "start_time": "2021-06-28T08:05:45.390Z"
   },
   {
    "duration": 14,
    "start_time": "2021-06-28T08:05:45.517Z"
   },
   {
    "duration": 47,
    "start_time": "2021-06-28T08:05:45.555Z"
   },
   {
    "duration": 6,
    "start_time": "2021-06-28T08:05:45.605Z"
   },
   {
    "duration": 43,
    "start_time": "2021-06-28T08:05:45.613Z"
   },
   {
    "duration": 28,
    "start_time": "2021-06-28T08:05:45.658Z"
   },
   {
    "duration": 16,
    "start_time": "2021-06-28T08:05:45.689Z"
   },
   {
    "duration": 52,
    "start_time": "2021-06-28T08:05:45.709Z"
   },
   {
    "duration": 37,
    "start_time": "2021-06-28T08:05:45.764Z"
   },
   {
    "duration": 19,
    "start_time": "2021-06-28T08:05:45.804Z"
   },
   {
    "duration": 22,
    "start_time": "2021-06-28T08:05:45.826Z"
   },
   {
    "duration": 23,
    "start_time": "2021-06-28T08:05:45.854Z"
   },
   {
    "duration": 34,
    "start_time": "2021-06-28T08:05:45.880Z"
   },
   {
    "duration": 78,
    "start_time": "2021-06-28T08:05:45.916Z"
   },
   {
    "duration": 69,
    "start_time": "2021-06-28T08:05:45.996Z"
   },
   {
    "duration": 598,
    "start_time": "2021-06-28T08:05:46.067Z"
   },
   {
    "duration": 21,
    "start_time": "2021-06-28T08:05:46.667Z"
   },
   {
    "duration": 25,
    "start_time": "2021-06-28T08:05:46.691Z"
   },
   {
    "duration": 37,
    "start_time": "2021-06-28T08:05:46.719Z"
   },
   {
    "duration": 16,
    "start_time": "2021-06-28T08:05:46.759Z"
   },
   {
    "duration": 28,
    "start_time": "2021-06-28T08:07:27.841Z"
   },
   {
    "duration": 129,
    "start_time": "2021-06-28T08:07:48.583Z"
   },
   {
    "duration": 16,
    "start_time": "2021-06-28T08:07:48.715Z"
   },
   {
    "duration": 63,
    "start_time": "2021-06-28T08:07:48.734Z"
   },
   {
    "duration": 5,
    "start_time": "2021-06-28T08:07:48.800Z"
   },
   {
    "duration": 14,
    "start_time": "2021-06-28T08:07:48.808Z"
   },
   {
    "duration": 48,
    "start_time": "2021-06-28T08:07:48.824Z"
   },
   {
    "duration": 31,
    "start_time": "2021-06-28T08:07:48.874Z"
   },
   {
    "duration": 19,
    "start_time": "2021-06-28T08:07:48.908Z"
   },
   {
    "duration": 14,
    "start_time": "2021-06-28T08:07:48.954Z"
   },
   {
    "duration": 7,
    "start_time": "2021-06-28T08:07:48.971Z"
   },
   {
    "duration": 23,
    "start_time": "2021-06-28T08:07:48.981Z"
   },
   {
    "duration": 58,
    "start_time": "2021-06-28T08:07:49.006Z"
   },
   {
    "duration": 25,
    "start_time": "2021-06-28T08:07:49.067Z"
   },
   {
    "duration": 65,
    "start_time": "2021-06-28T08:07:54.642Z"
   },
   {
    "duration": 91,
    "start_time": "2021-06-28T08:10:26.931Z"
   },
   {
    "duration": 22,
    "start_time": "2021-06-28T08:10:38.949Z"
   },
   {
    "duration": 131,
    "start_time": "2021-06-28T08:10:47.063Z"
   },
   {
    "duration": 15,
    "start_time": "2021-06-28T08:10:47.197Z"
   },
   {
    "duration": 71,
    "start_time": "2021-06-28T08:10:47.215Z"
   },
   {
    "duration": 5,
    "start_time": "2021-06-28T08:10:47.289Z"
   },
   {
    "duration": 24,
    "start_time": "2021-06-28T08:10:47.296Z"
   },
   {
    "duration": 42,
    "start_time": "2021-06-28T08:10:47.323Z"
   },
   {
    "duration": 16,
    "start_time": "2021-06-28T08:10:47.368Z"
   },
   {
    "duration": 23,
    "start_time": "2021-06-28T08:10:47.387Z"
   },
   {
    "duration": 49,
    "start_time": "2021-06-28T08:10:47.413Z"
   },
   {
    "duration": 8,
    "start_time": "2021-06-28T08:10:47.464Z"
   },
   {
    "duration": 28,
    "start_time": "2021-06-28T08:10:47.474Z"
   },
   {
    "duration": 50,
    "start_time": "2021-06-28T08:10:47.504Z"
   },
   {
    "duration": 26,
    "start_time": "2021-06-28T08:10:47.557Z"
   },
   {
    "duration": 60,
    "start_time": "2021-06-28T08:10:51.518Z"
   },
   {
    "duration": 141,
    "start_time": "2021-06-28T08:11:29.241Z"
   },
   {
    "duration": 15,
    "start_time": "2021-06-28T08:11:29.385Z"
   },
   {
    "duration": 76,
    "start_time": "2021-06-28T08:11:29.404Z"
   },
   {
    "duration": 6,
    "start_time": "2021-06-28T08:11:29.483Z"
   },
   {
    "duration": 16,
    "start_time": "2021-06-28T08:11:29.491Z"
   },
   {
    "duration": 52,
    "start_time": "2021-06-28T08:11:29.510Z"
   },
   {
    "duration": 21,
    "start_time": "2021-06-28T08:11:29.564Z"
   },
   {
    "duration": 29,
    "start_time": "2021-06-28T08:11:29.590Z"
   },
   {
    "duration": 48,
    "start_time": "2021-06-28T08:11:29.622Z"
   },
   {
    "duration": 10,
    "start_time": "2021-06-28T08:11:29.673Z"
   },
   {
    "duration": 69,
    "start_time": "2021-06-28T08:11:29.686Z"
   },
   {
    "duration": 24,
    "start_time": "2021-06-28T08:11:29.758Z"
   },
   {
    "duration": 25,
    "start_time": "2021-06-28T08:11:29.785Z"
   },
   {
    "duration": 92,
    "start_time": "2021-06-28T08:11:29.812Z"
   },
   {
    "duration": 74,
    "start_time": "2021-06-28T08:11:29.906Z"
   },
   {
    "duration": 603,
    "start_time": "2021-06-28T08:11:32.558Z"
   },
   {
    "duration": 22,
    "start_time": "2021-06-28T08:11:38.398Z"
   },
   {
    "duration": 136,
    "start_time": "2021-06-28T08:12:09.505Z"
   },
   {
    "duration": 26,
    "start_time": "2021-06-28T08:12:09.645Z"
   },
   {
    "duration": 48,
    "start_time": "2021-06-28T08:12:09.675Z"
   },
   {
    "duration": 6,
    "start_time": "2021-06-28T08:12:09.755Z"
   },
   {
    "duration": 23,
    "start_time": "2021-06-28T08:12:09.764Z"
   },
   {
    "duration": 24,
    "start_time": "2021-06-28T08:12:09.790Z"
   },
   {
    "duration": 40,
    "start_time": "2021-06-28T08:12:09.816Z"
   },
   {
    "duration": 21,
    "start_time": "2021-06-28T08:12:09.863Z"
   },
   {
    "duration": 18,
    "start_time": "2021-06-28T08:12:09.888Z"
   },
   {
    "duration": 51,
    "start_time": "2021-06-28T08:12:09.909Z"
   },
   {
    "duration": 25,
    "start_time": "2021-06-28T08:12:09.963Z"
   },
   {
    "duration": 25,
    "start_time": "2021-06-28T08:12:09.991Z"
   },
   {
    "duration": 59,
    "start_time": "2021-06-28T08:12:10.018Z"
   },
   {
    "duration": 79,
    "start_time": "2021-06-28T08:12:10.079Z"
   },
   {
    "duration": 55,
    "start_time": "2021-06-28T08:12:10.160Z"
   },
   {
    "duration": 630,
    "start_time": "2021-06-28T08:12:10.217Z"
   },
   {
    "duration": 21,
    "start_time": "2021-06-28T08:12:10.855Z"
   },
   {
    "duration": 18,
    "start_time": "2021-06-28T08:12:10.878Z"
   },
   {
    "duration": 15,
    "start_time": "2021-06-28T08:12:10.898Z"
   },
   {
    "duration": 49,
    "start_time": "2021-06-28T08:12:10.915Z"
   },
   {
    "duration": 22,
    "start_time": "2021-06-28T08:12:13.466Z"
   },
   {
    "duration": 9,
    "start_time": "2021-06-28T08:14:34.725Z"
   },
   {
    "duration": 9,
    "start_time": "2021-06-28T08:15:32.034Z"
   },
   {
    "duration": 10,
    "start_time": "2021-06-28T08:15:41.390Z"
   },
   {
    "duration": 10,
    "start_time": "2021-06-28T08:15:59.697Z"
   },
   {
    "duration": 10,
    "start_time": "2021-06-28T08:16:11.897Z"
   },
   {
    "duration": 9,
    "start_time": "2021-06-28T08:17:12.815Z"
   },
   {
    "duration": 10,
    "start_time": "2021-06-28T08:17:27.520Z"
   },
   {
    "duration": 8,
    "start_time": "2021-06-28T08:17:36.474Z"
   },
   {
    "duration": 9,
    "start_time": "2021-06-28T08:19:36.166Z"
   },
   {
    "duration": 138,
    "start_time": "2021-06-28T08:24:43.318Z"
   },
   {
    "duration": 15,
    "start_time": "2021-06-28T08:24:43.458Z"
   },
   {
    "duration": 49,
    "start_time": "2021-06-28T08:24:43.476Z"
   },
   {
    "duration": 6,
    "start_time": "2021-06-28T08:24:43.555Z"
   },
   {
    "duration": 24,
    "start_time": "2021-06-28T08:24:43.563Z"
   },
   {
    "duration": 22,
    "start_time": "2021-06-28T08:24:43.589Z"
   },
   {
    "duration": 41,
    "start_time": "2021-06-28T08:24:43.613Z"
   },
   {
    "duration": 20,
    "start_time": "2021-06-28T08:24:43.658Z"
   },
   {
    "duration": 21,
    "start_time": "2021-06-28T08:24:43.680Z"
   },
   {
    "duration": 8,
    "start_time": "2021-06-28T08:24:43.703Z"
   },
   {
    "duration": 58,
    "start_time": "2021-06-28T08:24:43.713Z"
   },
   {
    "duration": 23,
    "start_time": "2021-06-28T08:24:43.773Z"
   },
   {
    "duration": 28,
    "start_time": "2021-06-28T08:24:43.798Z"
   },
   {
    "duration": 62,
    "start_time": "2021-06-28T08:24:43.854Z"
   },
   {
    "duration": 80,
    "start_time": "2021-06-28T08:24:43.919Z"
   },
   {
    "duration": 711,
    "start_time": "2021-06-28T08:24:44.001Z"
   },
   {
    "duration": 20,
    "start_time": "2021-06-28T08:24:44.714Z"
   },
   {
    "duration": 19,
    "start_time": "2021-06-28T08:24:44.755Z"
   },
   {
    "duration": 7,
    "start_time": "2021-06-28T08:24:44.776Z"
   },
   {
    "duration": 15,
    "start_time": "2021-06-28T08:24:44.785Z"
   },
   {
    "duration": 52,
    "start_time": "2021-06-28T08:24:44.802Z"
   },
   {
    "duration": 38,
    "start_time": "2021-06-28T08:24:44.856Z"
   },
   {
    "duration": 87,
    "start_time": "2021-06-28T08:24:44.898Z"
   },
   {
    "duration": 44,
    "start_time": "2021-06-28T08:24:44.987Z"
   },
   {
    "duration": 73,
    "start_time": "2021-06-28T08:24:45.054Z"
   },
   {
    "duration": 4289,
    "start_time": "2021-06-28T08:24:49.084Z"
   },
   {
    "duration": 27,
    "start_time": "2021-06-28T08:26:43.454Z"
   },
   {
    "duration": 24,
    "start_time": "2021-06-28T08:26:46.445Z"
   },
   {
    "duration": 142,
    "start_time": "2021-06-28T08:27:14.945Z"
   },
   {
    "duration": 17,
    "start_time": "2021-06-28T08:27:15.091Z"
   },
   {
    "duration": 84,
    "start_time": "2021-06-28T08:27:15.112Z"
   },
   {
    "duration": 7,
    "start_time": "2021-06-28T08:27:15.200Z"
   },
   {
    "duration": 52,
    "start_time": "2021-06-28T08:27:15.209Z"
   },
   {
    "duration": 21,
    "start_time": "2021-06-28T08:27:15.264Z"
   },
   {
    "duration": 18,
    "start_time": "2021-06-28T08:27:15.287Z"
   },
   {
    "duration": 53,
    "start_time": "2021-06-28T08:27:15.309Z"
   },
   {
    "duration": 14,
    "start_time": "2021-06-28T08:27:15.365Z"
   },
   {
    "duration": 7,
    "start_time": "2021-06-28T08:27:15.382Z"
   },
   {
    "duration": 65,
    "start_time": "2021-06-28T08:27:15.391Z"
   },
   {
    "duration": 23,
    "start_time": "2021-06-28T08:27:15.459Z"
   },
   {
    "duration": 24,
    "start_time": "2021-06-28T08:27:15.484Z"
   },
   {
    "duration": 94,
    "start_time": "2021-06-28T08:27:15.510Z"
   },
   {
    "duration": 73,
    "start_time": "2021-06-28T08:27:15.606Z"
   },
   {
    "duration": 599,
    "start_time": "2021-06-28T08:27:15.681Z"
   },
   {
    "duration": 21,
    "start_time": "2021-06-28T08:27:16.282Z"
   },
   {
    "duration": 23,
    "start_time": "2021-06-28T08:27:16.305Z"
   },
   {
    "duration": 28,
    "start_time": "2021-06-28T08:27:16.330Z"
   },
   {
    "duration": 17,
    "start_time": "2021-06-28T08:27:16.360Z"
   },
   {
    "duration": 10,
    "start_time": "2021-06-28T08:27:16.379Z"
   },
   {
    "duration": 72,
    "start_time": "2021-06-28T08:27:16.391Z"
   },
   {
    "duration": 86,
    "start_time": "2021-06-28T08:27:16.468Z"
   },
   {
    "duration": 46,
    "start_time": "2021-06-28T08:27:16.557Z"
   },
   {
    "duration": 95,
    "start_time": "2021-06-28T08:27:16.606Z"
   },
   {
    "duration": 4282,
    "start_time": "2021-06-28T08:27:16.704Z"
   },
   {
    "duration": 56,
    "start_time": "2021-06-28T08:27:28.085Z"
   },
   {
    "duration": 24,
    "start_time": "2021-06-28T08:28:01.336Z"
   },
   {
    "duration": 40,
    "start_time": "2021-06-28T08:28:19.291Z"
   },
   {
    "duration": 4804,
    "start_time": "2021-06-28T08:33:38.501Z"
   },
   {
    "duration": 10,
    "start_time": "2021-06-28T08:47:30.680Z"
   },
   {
    "duration": 10,
    "start_time": "2021-06-28T08:47:50.782Z"
   },
   {
    "duration": 6729,
    "start_time": "2021-06-28T08:48:00.447Z"
   },
   {
    "duration": 6809,
    "start_time": "2021-06-28T08:48:17.120Z"
   },
   {
    "duration": 268,
    "start_time": "2021-06-28T08:48:44.081Z"
   },
   {
    "duration": 10,
    "start_time": "2021-06-28T08:48:49.085Z"
   },
   {
    "duration": 9,
    "start_time": "2021-06-28T08:48:58.309Z"
   },
   {
    "duration": 275,
    "start_time": "2021-06-28T08:49:43.145Z"
   },
   {
    "duration": 8,
    "start_time": "2021-06-28T08:52:55.128Z"
   },
   {
    "duration": 9,
    "start_time": "2021-06-28T08:53:23.849Z"
   },
   {
    "duration": 8,
    "start_time": "2021-06-28T08:53:51.093Z"
   },
   {
    "duration": 44,
    "start_time": "2021-06-28T08:53:52.756Z"
   },
   {
    "duration": 9,
    "start_time": "2021-06-28T08:55:31.365Z"
   },
   {
    "duration": 19,
    "start_time": "2021-06-28T10:09:36.311Z"
   },
   {
    "duration": 54,
    "start_time": "2021-06-28T10:09:48.315Z"
   },
   {
    "duration": 10,
    "start_time": "2021-06-28T10:10:04.237Z"
   },
   {
    "duration": 1200,
    "start_time": "2021-06-28T10:10:54.719Z"
   },
   {
    "duration": 15,
    "start_time": "2021-06-28T10:11:21.069Z"
   },
   {
    "duration": 14,
    "start_time": "2021-06-28T10:11:56.753Z"
   },
   {
    "duration": 6812,
    "start_time": "2021-06-28T10:14:57.589Z"
   },
   {
    "duration": -5,
    "start_time": "2021-06-28T10:15:29.609Z"
   },
   {
    "duration": 283,
    "start_time": "2021-06-28T10:15:32.760Z"
   },
   {
    "duration": 17,
    "start_time": "2021-06-28T10:16:00.507Z"
   },
   {
    "duration": 14,
    "start_time": "2021-06-28T10:16:06.865Z"
   },
   {
    "duration": 13,
    "start_time": "2021-06-28T10:16:20.572Z"
   },
   {
    "duration": 14,
    "start_time": "2021-06-28T10:16:38.979Z"
   },
   {
    "duration": 15,
    "start_time": "2021-06-28T10:16:45.500Z"
   },
   {
    "duration": 17,
    "start_time": "2021-06-28T10:17:11.176Z"
   },
   {
    "duration": 16,
    "start_time": "2021-06-28T10:18:09.495Z"
   },
   {
    "duration": 13,
    "start_time": "2021-06-28T10:18:22.586Z"
   },
   {
    "duration": 18,
    "start_time": "2021-06-28T10:18:26.585Z"
   },
   {
    "duration": 16,
    "start_time": "2021-06-28T10:19:14.315Z"
   },
   {
    "duration": 17,
    "start_time": "2021-06-28T10:19:17.784Z"
   },
   {
    "duration": 18,
    "start_time": "2021-06-28T10:19:25.912Z"
   },
   {
    "duration": 16,
    "start_time": "2021-06-28T10:19:39.742Z"
   },
   {
    "duration": 20,
    "start_time": "2021-06-28T10:19:46.998Z"
   },
   {
    "duration": 35,
    "start_time": "2021-06-28T10:19:56.447Z"
   },
   {
    "duration": 17,
    "start_time": "2021-06-28T10:20:12.057Z"
   },
   {
    "duration": 36,
    "start_time": "2021-06-28T10:20:19.578Z"
   },
   {
    "duration": 17,
    "start_time": "2021-06-28T10:20:34.886Z"
   },
   {
    "duration": 16,
    "start_time": "2021-06-28T10:20:47.552Z"
   },
   {
    "duration": 19,
    "start_time": "2021-06-28T10:23:57.950Z"
   },
   {
    "duration": 34,
    "start_time": "2021-06-28T10:27:39.063Z"
   },
   {
    "duration": 16,
    "start_time": "2021-06-28T10:28:45.312Z"
   },
   {
    "duration": 18,
    "start_time": "2021-06-28T10:30:56.937Z"
   },
   {
    "duration": 17,
    "start_time": "2021-06-28T10:32:10.376Z"
   },
   {
    "duration": 23,
    "start_time": "2021-06-28T10:33:17.583Z"
   },
   {
    "duration": 13,
    "start_time": "2021-06-28T10:33:26.831Z"
   },
   {
    "duration": 17,
    "start_time": "2021-06-28T10:33:57.220Z"
   },
   {
    "duration": 19,
    "start_time": "2021-06-28T10:34:07.862Z"
   },
   {
    "duration": 18,
    "start_time": "2021-06-28T10:34:11.242Z"
   },
   {
    "duration": 20,
    "start_time": "2021-06-28T10:34:15.558Z"
   },
   {
    "duration": 19,
    "start_time": "2021-06-28T10:34:20.725Z"
   },
   {
    "duration": 29,
    "start_time": "2021-06-28T10:34:29.701Z"
   },
   {
    "duration": 268,
    "start_time": "2021-06-28T10:35:05.348Z"
   },
   {
    "duration": 253,
    "start_time": "2021-06-28T10:35:33.230Z"
   },
   {
    "duration": 28,
    "start_time": "2021-06-28T10:35:45.120Z"
   },
   {
    "duration": 20,
    "start_time": "2021-06-28T10:35:54.705Z"
   },
   {
    "duration": 15,
    "start_time": "2021-06-28T10:37:15.662Z"
   },
   {
    "duration": 298,
    "start_time": "2021-06-28T10:39:54.590Z"
   },
   {
    "duration": 293,
    "start_time": "2021-06-28T10:40:01.209Z"
   },
   {
    "duration": 271,
    "start_time": "2021-06-28T10:40:12.204Z"
   },
   {
    "duration": 27,
    "start_time": "2021-06-28T10:40:29.308Z"
   },
   {
    "duration": 26,
    "start_time": "2021-06-28T10:40:39.278Z"
   },
   {
    "duration": 27,
    "start_time": "2021-06-28T10:40:45.193Z"
   },
   {
    "duration": 28,
    "start_time": "2021-06-28T10:41:16.491Z"
   },
   {
    "duration": 11,
    "start_time": "2021-06-28T10:47:04.340Z"
   },
   {
    "duration": 11,
    "start_time": "2021-06-28T10:47:24.086Z"
   },
   {
    "duration": 17,
    "start_time": "2021-06-28T10:47:29.570Z"
   },
   {
    "duration": 21,
    "start_time": "2021-06-28T10:48:29.297Z"
   },
   {
    "duration": 23,
    "start_time": "2021-06-28T10:48:45.792Z"
   },
   {
    "duration": 14,
    "start_time": "2021-06-28T10:54:19.919Z"
   },
   {
    "duration": 128,
    "start_time": "2021-06-28T10:54:35.499Z"
   },
   {
    "duration": 31,
    "start_time": "2021-06-28T10:54:35.630Z"
   },
   {
    "duration": 46,
    "start_time": "2021-06-28T10:54:35.665Z"
   },
   {
    "duration": 5,
    "start_time": "2021-06-28T10:54:35.714Z"
   },
   {
    "duration": 43,
    "start_time": "2021-06-28T10:54:35.722Z"
   },
   {
    "duration": 21,
    "start_time": "2021-06-28T10:54:35.767Z"
   },
   {
    "duration": 24,
    "start_time": "2021-06-28T10:54:35.791Z"
   },
   {
    "duration": 57,
    "start_time": "2021-06-28T10:54:35.818Z"
   },
   {
    "duration": 20,
    "start_time": "2021-06-28T10:54:35.878Z"
   },
   {
    "duration": 9,
    "start_time": "2021-06-28T10:54:35.900Z"
   },
   {
    "duration": 64,
    "start_time": "2021-06-28T10:54:35.912Z"
   },
   {
    "duration": 25,
    "start_time": "2021-06-28T10:54:35.979Z"
   },
   {
    "duration": 67,
    "start_time": "2021-06-28T10:54:36.007Z"
   },
   {
    "duration": 61,
    "start_time": "2021-06-28T10:54:36.077Z"
   },
   {
    "duration": 56,
    "start_time": "2021-06-28T10:54:36.155Z"
   },
   {
    "duration": 617,
    "start_time": "2021-06-28T10:54:36.213Z"
   },
   {
    "duration": 30,
    "start_time": "2021-06-28T10:54:36.833Z"
   },
   {
    "duration": 18,
    "start_time": "2021-06-28T10:54:36.866Z"
   },
   {
    "duration": 9,
    "start_time": "2021-06-28T10:54:36.886Z"
   },
   {
    "duration": 19,
    "start_time": "2021-06-28T10:54:36.897Z"
   },
   {
    "duration": 43,
    "start_time": "2021-06-28T10:54:36.918Z"
   },
   {
    "duration": 38,
    "start_time": "2021-06-28T10:54:36.963Z"
   },
   {
    "duration": 105,
    "start_time": "2021-06-28T10:54:37.006Z"
   },
   {
    "duration": 61,
    "start_time": "2021-06-28T10:54:37.114Z"
   },
   {
    "duration": 98,
    "start_time": "2021-06-28T10:54:37.178Z"
   },
   {
    "duration": 4309,
    "start_time": "2021-06-28T10:54:37.278Z"
   },
   {
    "duration": 31,
    "start_time": "2021-06-28T10:54:41.590Z"
   },
   {
    "duration": 45,
    "start_time": "2021-06-28T10:54:41.624Z"
   },
   {
    "duration": 69,
    "start_time": "2021-06-28T10:54:41.672Z"
   },
   {
    "duration": 6,
    "start_time": "2021-06-28T10:54:41.744Z"
   },
   {
    "duration": 27,
    "start_time": "2021-06-28T10:54:41.753Z"
   },
   {
    "duration": 91,
    "start_time": "2021-06-28T10:54:41.782Z"
   },
   {
    "duration": 37,
    "start_time": "2021-06-28T10:54:41.876Z"
   },
   {
    "duration": 13,
    "start_time": "2021-06-28T10:54:41.915Z"
   },
   {
    "duration": 30,
    "start_time": "2021-06-28T10:54:41.930Z"
   },
   {
    "duration": 69,
    "start_time": "2021-06-28T10:54:41.962Z"
   },
   {
    "duration": 50,
    "start_time": "2021-06-28T10:54:42.034Z"
   },
   {
    "duration": 17,
    "start_time": "2021-06-28T10:54:42.087Z"
   },
   {
    "duration": 22,
    "start_time": "2021-06-28T10:54:42.106Z"
   },
   {
    "duration": 62,
    "start_time": "2021-06-28T10:54:42.131Z"
   },
   {
    "duration": 13,
    "start_time": "2021-06-28T10:54:51.796Z"
   },
   {
    "duration": 16,
    "start_time": "2021-06-28T10:57:27.744Z"
   },
   {
    "duration": 275,
    "start_time": "2021-06-28T11:07:23.767Z"
   },
   {
    "duration": 275,
    "start_time": "2021-06-28T11:07:30.803Z"
   },
   {
    "duration": 376,
    "start_time": "2021-06-28T11:07:47.690Z"
   },
   {
    "duration": 269,
    "start_time": "2021-06-28T11:07:55.225Z"
   },
   {
    "duration": 283,
    "start_time": "2021-06-28T11:08:55.254Z"
   },
   {
    "duration": 43,
    "start_time": "2021-06-28T11:09:09.471Z"
   },
   {
    "duration": 273,
    "start_time": "2021-06-28T11:09:25.760Z"
   },
   {
    "duration": 311,
    "start_time": "2021-06-28T11:17:17.478Z"
   },
   {
    "duration": 41,
    "start_time": "2021-06-28T11:17:49.549Z"
   },
   {
    "duration": 322,
    "start_time": "2021-06-28T11:27:01.291Z"
   },
   {
    "duration": 60,
    "start_time": "2021-06-28T11:31:47.571Z"
   },
   {
    "duration": 56,
    "start_time": "2021-06-28T11:32:09.836Z"
   },
   {
    "duration": 117,
    "start_time": "2021-06-28T11:32:29.600Z"
   },
   {
    "duration": 104,
    "start_time": "2021-06-28T11:32:33.590Z"
   },
   {
    "duration": 48,
    "start_time": "2021-06-28T11:32:39.855Z"
   },
   {
    "duration": 50,
    "start_time": "2021-06-28T11:33:38.844Z"
   },
   {
    "duration": 274,
    "start_time": "2021-06-28T11:34:15.806Z"
   },
   {
    "duration": 49,
    "start_time": "2021-06-28T11:34:42.441Z"
   },
   {
    "duration": 43,
    "start_time": "2021-06-28T11:34:55.536Z"
   },
   {
    "duration": 47,
    "start_time": "2021-06-28T11:35:45.605Z"
   },
   {
    "duration": 14,
    "start_time": "2021-06-28T11:37:56.807Z"
   },
   {
    "duration": 2514,
    "start_time": "2021-06-29T05:52:24.837Z"
   },
   {
    "duration": 316,
    "start_time": "2021-06-29T05:52:27.037Z"
   },
   {
    "duration": 308,
    "start_time": "2021-06-29T05:52:27.046Z"
   },
   {
    "duration": 295,
    "start_time": "2021-06-29T05:52:27.060Z"
   },
   {
    "duration": 289,
    "start_time": "2021-06-29T05:52:27.067Z"
   },
   {
    "duration": 285,
    "start_time": "2021-06-29T05:52:27.072Z"
   },
   {
    "duration": 281,
    "start_time": "2021-06-29T05:52:27.077Z"
   },
   {
    "duration": 276,
    "start_time": "2021-06-29T05:52:27.082Z"
   },
   {
    "duration": 1464,
    "start_time": "2021-06-29T05:52:44.220Z"
   },
   {
    "duration": 393,
    "start_time": "2021-06-29T05:52:45.294Z"
   },
   {
    "duration": 387,
    "start_time": "2021-06-29T05:52:45.301Z"
   },
   {
    "duration": 383,
    "start_time": "2021-06-29T05:52:45.305Z"
   },
   {
    "duration": 378,
    "start_time": "2021-06-29T05:52:45.311Z"
   },
   {
    "duration": 369,
    "start_time": "2021-06-29T05:52:45.321Z"
   },
   {
    "duration": 363,
    "start_time": "2021-06-29T05:52:45.328Z"
   },
   {
    "duration": 358,
    "start_time": "2021-06-29T05:52:45.334Z"
   },
   {
    "duration": 1229,
    "start_time": "2021-06-29T05:52:52.062Z"
   },
   {
    "duration": 390,
    "start_time": "2021-06-29T05:52:52.903Z"
   },
   {
    "duration": 372,
    "start_time": "2021-06-29T05:52:52.923Z"
   },
   {
    "duration": 367,
    "start_time": "2021-06-29T05:52:52.929Z"
   },
   {
    "duration": 346,
    "start_time": "2021-06-29T05:52:52.951Z"
   },
   {
    "duration": 321,
    "start_time": "2021-06-29T05:52:52.976Z"
   },
   {
    "duration": 273,
    "start_time": "2021-06-29T05:52:53.025Z"
   },
   {
    "duration": 254,
    "start_time": "2021-06-29T05:52:53.045Z"
   },
   {
    "duration": 1279,
    "start_time": "2021-06-29T05:53:36.796Z"
   },
   {
    "duration": 1347,
    "start_time": "2021-06-29T05:53:50.498Z"
   },
   {
    "duration": 103,
    "start_time": "2021-06-29T05:54:24.077Z"
   },
   {
    "duration": 5,
    "start_time": "2021-06-29T05:55:17.973Z"
   },
   {
    "duration": 18,
    "start_time": "2021-06-29T05:55:36.509Z"
   },
   {
    "duration": 12,
    "start_time": "2021-06-29T05:55:49.254Z"
   },
   {
    "duration": 1177,
    "start_time": "2021-06-29T05:57:33.052Z"
   },
   {
    "duration": 9,
    "start_time": "2021-06-29T05:57:34.231Z"
   },
   {
    "duration": 43,
    "start_time": "2021-06-29T05:57:34.242Z"
   },
   {
    "duration": 4,
    "start_time": "2021-06-29T05:57:34.286Z"
   },
   {
    "duration": 10,
    "start_time": "2021-06-29T05:57:34.292Z"
   },
   {
    "duration": 15,
    "start_time": "2021-06-29T05:57:34.303Z"
   },
   {
    "duration": 11,
    "start_time": "2021-06-29T05:57:34.319Z"
   },
   {
    "duration": 12,
    "start_time": "2021-06-29T05:57:34.333Z"
   },
   {
    "duration": 44,
    "start_time": "2021-06-29T05:57:34.347Z"
   },
   {
    "duration": 5,
    "start_time": "2021-06-29T05:57:34.393Z"
   },
   {
    "duration": 14,
    "start_time": "2021-06-29T05:57:34.399Z"
   },
   {
    "duration": 17,
    "start_time": "2021-06-29T05:57:34.414Z"
   },
   {
    "duration": 17,
    "start_time": "2021-06-29T05:57:34.432Z"
   },
   {
    "duration": 72,
    "start_time": "2021-06-29T05:57:34.450Z"
   },
   {
    "duration": 34,
    "start_time": "2021-06-29T05:57:34.524Z"
   },
   {
    "duration": 356,
    "start_time": "2021-06-29T05:57:34.560Z"
   },
   {
    "duration": 14,
    "start_time": "2021-06-29T05:57:34.917Z"
   },
   {
    "duration": 12,
    "start_time": "2021-06-29T05:57:34.932Z"
   },
   {
    "duration": 4,
    "start_time": "2021-06-29T05:57:34.946Z"
   },
   {
    "duration": 38,
    "start_time": "2021-06-29T05:57:34.952Z"
   },
   {
    "duration": 6,
    "start_time": "2021-06-29T05:57:34.991Z"
   },
   {
    "duration": 26,
    "start_time": "2021-06-29T05:57:34.999Z"
   },
   {
    "duration": 64,
    "start_time": "2021-06-29T05:57:35.028Z"
   },
   {
    "duration": 29,
    "start_time": "2021-06-29T05:57:35.094Z"
   },
   {
    "duration": 63,
    "start_time": "2021-06-29T05:57:35.124Z"
   },
   {
    "duration": 3280,
    "start_time": "2021-06-29T05:57:35.189Z"
   },
   {
    "duration": 22,
    "start_time": "2021-06-29T05:57:38.471Z"
   },
   {
    "duration": 16,
    "start_time": "2021-06-29T05:57:38.495Z"
   },
   {
    "duration": 35,
    "start_time": "2021-06-29T05:57:38.513Z"
   },
   {
    "duration": 4,
    "start_time": "2021-06-29T05:57:38.549Z"
   },
   {
    "duration": 5,
    "start_time": "2021-06-29T05:57:38.555Z"
   },
   {
    "duration": 36,
    "start_time": "2021-06-29T05:57:38.585Z"
   },
   {
    "duration": 24,
    "start_time": "2021-06-29T05:57:38.622Z"
   },
   {
    "duration": 9,
    "start_time": "2021-06-29T05:57:38.648Z"
   },
   {
    "duration": 260,
    "start_time": "2021-06-29T05:57:38.684Z"
   },
   {
    "duration": 342,
    "start_time": "2021-06-29T05:57:38.604Z"
   },
   {
    "duration": 325,
    "start_time": "2021-06-29T05:57:38.622Z"
   },
   {
    "duration": 303,
    "start_time": "2021-06-29T05:57:38.645Z"
   },
   {
    "duration": 285,
    "start_time": "2021-06-29T05:57:38.664Z"
   },
   {
    "duration": 271,
    "start_time": "2021-06-29T05:57:38.680Z"
   },
   {
    "duration": 250,
    "start_time": "2021-06-29T05:57:38.701Z"
   },
   {
    "duration": 235,
    "start_time": "2021-06-29T05:57:38.717Z"
   },
   {
    "duration": 213,
    "start_time": "2021-06-29T05:57:38.740Z"
   },
   {
    "duration": 201,
    "start_time": "2021-06-29T05:57:38.753Z"
   },
   {
    "duration": 185,
    "start_time": "2021-06-29T05:57:38.770Z"
   },
   {
    "duration": 6,
    "start_time": "2021-06-29T06:15:12.530Z"
   },
   {
    "duration": 9,
    "start_time": "2021-06-29T06:15:20.759Z"
   },
   {
    "duration": 5,
    "start_time": "2021-06-29T06:19:38.303Z"
   },
   {
    "duration": 11,
    "start_time": "2021-06-29T06:21:14.665Z"
   },
   {
    "duration": 8,
    "start_time": "2021-06-29T06:21:25.169Z"
   },
   {
    "duration": 8,
    "start_time": "2021-06-29T06:21:34.821Z"
   },
   {
    "duration": 1290,
    "start_time": "2021-06-29T06:46:03.406Z"
   },
   {
    "duration": 236,
    "start_time": "2021-06-29T06:54:30.525Z"
   },
   {
    "duration": 1261,
    "start_time": "2021-06-29T06:55:24.467Z"
   },
   {
    "duration": 10,
    "start_time": "2021-06-29T06:55:25.730Z"
   },
   {
    "duration": 43,
    "start_time": "2021-06-29T06:55:25.742Z"
   },
   {
    "duration": 4,
    "start_time": "2021-06-29T06:55:25.787Z"
   },
   {
    "duration": 12,
    "start_time": "2021-06-29T06:55:25.792Z"
   },
   {
    "duration": 17,
    "start_time": "2021-06-29T06:55:25.805Z"
   },
   {
    "duration": 10,
    "start_time": "2021-06-29T06:55:25.824Z"
   },
   {
    "duration": 13,
    "start_time": "2021-06-29T06:55:25.836Z"
   },
   {
    "duration": 11,
    "start_time": "2021-06-29T06:55:25.886Z"
   },
   {
    "duration": 5,
    "start_time": "2021-06-29T06:55:25.899Z"
   },
   {
    "duration": 18,
    "start_time": "2021-06-29T06:55:25.905Z"
   },
   {
    "duration": 17,
    "start_time": "2021-06-29T06:55:25.924Z"
   },
   {
    "duration": 58,
    "start_time": "2021-06-29T06:55:25.942Z"
   },
   {
    "duration": 40,
    "start_time": "2021-06-29T06:55:26.002Z"
   },
   {
    "duration": 65,
    "start_time": "2021-06-29T06:55:26.044Z"
   },
   {
    "duration": 365,
    "start_time": "2021-06-29T06:55:26.111Z"
   },
   {
    "duration": 18,
    "start_time": "2021-06-29T06:55:26.479Z"
   },
   {
    "duration": 12,
    "start_time": "2021-06-29T06:55:26.499Z"
   },
   {
    "duration": 4,
    "start_time": "2021-06-29T06:55:26.512Z"
   },
   {
    "duration": 10,
    "start_time": "2021-06-29T06:55:26.518Z"
   },
   {
    "duration": 7,
    "start_time": "2021-06-29T06:55:26.529Z"
   },
   {
    "duration": 68,
    "start_time": "2021-06-29T06:55:26.537Z"
   },
   {
    "duration": 43,
    "start_time": "2021-06-29T06:55:26.608Z"
   },
   {
    "duration": 46,
    "start_time": "2021-06-29T06:55:26.652Z"
   },
   {
    "duration": 50,
    "start_time": "2021-06-29T06:55:26.699Z"
   },
   {
    "duration": 3302,
    "start_time": "2021-06-29T06:55:26.751Z"
   },
   {
    "duration": 16,
    "start_time": "2021-06-29T06:55:30.055Z"
   },
   {
    "duration": 16,
    "start_time": "2021-06-29T06:55:30.085Z"
   },
   {
    "duration": 34,
    "start_time": "2021-06-29T06:55:30.102Z"
   },
   {
    "duration": 5,
    "start_time": "2021-06-29T06:55:30.137Z"
   },
   {
    "duration": 15,
    "start_time": "2021-06-29T06:55:30.144Z"
   },
   {
    "duration": 57,
    "start_time": "2021-06-29T06:55:30.161Z"
   },
   {
    "duration": 26,
    "start_time": "2021-06-29T06:55:30.220Z"
   },
   {
    "duration": 38,
    "start_time": "2021-06-29T06:55:30.248Z"
   },
   {
    "duration": 798,
    "start_time": "2021-06-29T06:55:30.288Z"
   },
   {
    "duration": 443,
    "start_time": "2021-06-29T06:55:30.644Z"
   },
   {
    "duration": 440,
    "start_time": "2021-06-29T06:55:30.649Z"
   },
   {
    "duration": 435,
    "start_time": "2021-06-29T06:55:30.655Z"
   },
   {
    "duration": 431,
    "start_time": "2021-06-29T06:55:30.660Z"
   },
   {
    "duration": 427,
    "start_time": "2021-06-29T06:55:30.665Z"
   },
   {
    "duration": 422,
    "start_time": "2021-06-29T06:55:30.671Z"
   },
   {
    "duration": 417,
    "start_time": "2021-06-29T06:55:30.677Z"
   },
   {
    "duration": 412,
    "start_time": "2021-06-29T06:55:30.683Z"
   },
   {
    "duration": 408,
    "start_time": "2021-06-29T06:55:30.688Z"
   },
   {
    "duration": 404,
    "start_time": "2021-06-29T06:55:30.693Z"
   },
   {
    "duration": 596,
    "start_time": "2021-06-29T08:07:06.544Z"
   },
   {
    "duration": 3057,
    "start_time": "2021-06-29T08:07:11.823Z"
   },
   {
    "duration": 18,
    "start_time": "2021-06-29T08:07:14.886Z"
   },
   {
    "duration": 51,
    "start_time": "2021-06-29T08:07:14.907Z"
   },
   {
    "duration": 6,
    "start_time": "2021-06-29T08:07:14.986Z"
   },
   {
    "duration": 16,
    "start_time": "2021-06-29T08:07:14.994Z"
   },
   {
    "duration": 26,
    "start_time": "2021-06-29T08:07:15.013Z"
   },
   {
    "duration": 60,
    "start_time": "2021-06-29T08:07:15.042Z"
   },
   {
    "duration": 22,
    "start_time": "2021-06-29T08:07:15.106Z"
   },
   {
    "duration": 17,
    "start_time": "2021-06-29T08:07:15.131Z"
   },
   {
    "duration": 42,
    "start_time": "2021-06-29T08:07:15.151Z"
   },
   {
    "duration": 29,
    "start_time": "2021-06-29T08:07:15.197Z"
   },
   {
    "duration": 58,
    "start_time": "2021-06-29T08:07:15.229Z"
   },
   {
    "duration": 32,
    "start_time": "2021-06-29T08:07:15.289Z"
   },
   {
    "duration": 92,
    "start_time": "2021-06-29T08:07:15.323Z"
   },
   {
    "duration": 74,
    "start_time": "2021-06-29T08:07:15.418Z"
   },
   {
    "duration": 614,
    "start_time": "2021-06-29T08:07:15.494Z"
   },
   {
    "duration": 24,
    "start_time": "2021-06-29T08:07:16.110Z"
   },
   {
    "duration": 18,
    "start_time": "2021-06-29T08:07:16.137Z"
   },
   {
    "duration": 6,
    "start_time": "2021-06-29T08:07:16.186Z"
   },
   {
    "duration": 17,
    "start_time": "2021-06-29T08:07:16.194Z"
   },
   {
    "duration": 27,
    "start_time": "2021-06-29T08:07:21.121Z"
   },
   {
    "duration": 2899,
    "start_time": "2021-06-29T08:13:50.776Z"
   },
   {
    "duration": 30,
    "start_time": "2021-06-29T08:13:53.679Z"
   },
   {
    "duration": 73,
    "start_time": "2021-06-29T08:13:53.714Z"
   },
   {
    "duration": 6,
    "start_time": "2021-06-29T08:13:53.790Z"
   },
   {
    "duration": 24,
    "start_time": "2021-06-29T08:13:53.799Z"
   },
   {
    "duration": 22,
    "start_time": "2021-06-29T08:13:53.826Z"
   },
   {
    "duration": 47,
    "start_time": "2021-06-29T08:13:53.850Z"
   },
   {
    "duration": 37,
    "start_time": "2021-06-29T08:13:53.903Z"
   },
   {
    "duration": 45,
    "start_time": "2021-06-29T08:13:53.946Z"
   },
   {
    "duration": 9,
    "start_time": "2021-06-29T08:13:53.994Z"
   },
   {
    "duration": 78,
    "start_time": "2021-06-29T08:13:54.007Z"
   },
   {
    "duration": 27,
    "start_time": "2021-06-29T08:13:54.088Z"
   },
   {
    "duration": 26,
    "start_time": "2021-06-29T08:13:54.118Z"
   },
   {
    "duration": 95,
    "start_time": "2021-06-29T08:13:54.147Z"
   },
   {
    "duration": 84,
    "start_time": "2021-06-29T08:13:54.244Z"
   },
   {
    "duration": 727,
    "start_time": "2021-06-29T08:13:54.331Z"
   },
   {
    "duration": 42,
    "start_time": "2021-06-29T08:13:55.060Z"
   },
   {
    "duration": 31,
    "start_time": "2021-06-29T08:13:55.107Z"
   },
   {
    "duration": 10,
    "start_time": "2021-06-29T08:13:55.142Z"
   },
   {
    "duration": 18,
    "start_time": "2021-06-29T08:13:55.186Z"
   },
   {
    "duration": 25,
    "start_time": "2021-06-29T08:13:55.207Z"
   },
   {
    "duration": 83,
    "start_time": "2021-06-29T08:13:55.235Z"
   },
   {
    "duration": 101,
    "start_time": "2021-06-29T08:13:55.325Z"
   },
   {
    "duration": 62,
    "start_time": "2021-06-29T08:13:55.430Z"
   },
   {
    "duration": 136,
    "start_time": "2021-06-29T08:13:55.495Z"
   },
   {
    "duration": 5190,
    "start_time": "2021-06-29T08:13:55.634Z"
   },
   {
    "duration": 81,
    "start_time": "2021-06-29T08:14:00.827Z"
   },
   {
    "duration": 29,
    "start_time": "2021-06-29T08:14:00.911Z"
   },
   {
    "duration": 56,
    "start_time": "2021-06-29T08:14:00.943Z"
   },
   {
    "duration": 7,
    "start_time": "2021-06-29T08:14:01.002Z"
   },
   {
    "duration": 16,
    "start_time": "2021-06-29T08:14:01.012Z"
   },
   {
    "duration": 84,
    "start_time": "2021-06-29T08:14:01.030Z"
   },
   {
    "duration": 91,
    "start_time": "2021-06-29T08:14:01.117Z"
   },
   {
    "duration": 14,
    "start_time": "2021-06-29T08:14:01.210Z"
   },
   {
    "duration": 481,
    "start_time": "2021-06-29T08:14:01.227Z"
   },
   {
    "duration": -1670,
    "start_time": "2021-06-29T08:14:03.381Z"
   },
   {
    "duration": -1681,
    "start_time": "2021-06-29T08:14:03.393Z"
   },
   {
    "duration": -1693,
    "start_time": "2021-06-29T08:14:03.407Z"
   },
   {
    "duration": -1703,
    "start_time": "2021-06-29T08:14:03.418Z"
   },
   {
    "duration": -1714,
    "start_time": "2021-06-29T08:14:03.431Z"
   },
   {
    "duration": -1725,
    "start_time": "2021-06-29T08:14:03.443Z"
   },
   {
    "duration": -1737,
    "start_time": "2021-06-29T08:14:03.457Z"
   },
   {
    "duration": -1766,
    "start_time": "2021-06-29T08:14:03.488Z"
   },
   {
    "duration": -1779,
    "start_time": "2021-06-29T08:14:03.503Z"
   },
   {
    "duration": -1790,
    "start_time": "2021-06-29T08:14:03.516Z"
   },
   {
    "duration": 116,
    "start_time": "2021-06-29T08:18:51.652Z"
   },
   {
    "duration": 110,
    "start_time": "2021-06-29T08:19:00.256Z"
   },
   {
    "duration": 131,
    "start_time": "2021-06-29T08:19:07.939Z"
   },
   {
    "duration": 211,
    "start_time": "2021-06-29T08:20:33.597Z"
   },
   {
    "duration": 19,
    "start_time": "2021-06-29T08:23:54.436Z"
   },
   {
    "duration": 19,
    "start_time": "2021-06-29T08:24:10.431Z"
   },
   {
    "duration": 297,
    "start_time": "2021-06-29T08:26:18.332Z"
   },
   {
    "duration": 11,
    "start_time": "2021-06-29T08:26:29.045Z"
   },
   {
    "duration": 2156,
    "start_time": "2021-06-29T08:29:07.022Z"
   },
   {
    "duration": 18,
    "start_time": "2021-06-29T08:29:09.181Z"
   },
   {
    "duration": 49,
    "start_time": "2021-06-29T08:29:09.202Z"
   },
   {
    "duration": 35,
    "start_time": "2021-06-29T08:29:09.254Z"
   },
   {
    "duration": 20,
    "start_time": "2021-06-29T08:29:09.292Z"
   },
   {
    "duration": 31,
    "start_time": "2021-06-29T08:29:09.316Z"
   },
   {
    "duration": 17,
    "start_time": "2021-06-29T08:29:09.385Z"
   },
   {
    "duration": 23,
    "start_time": "2021-06-29T08:29:09.406Z"
   },
   {
    "duration": 16,
    "start_time": "2021-06-29T08:29:09.433Z"
   },
   {
    "duration": 9,
    "start_time": "2021-06-29T08:29:09.487Z"
   },
   {
    "duration": 32,
    "start_time": "2021-06-29T08:29:09.499Z"
   },
   {
    "duration": 75,
    "start_time": "2021-06-29T08:29:09.534Z"
   },
   {
    "duration": 37,
    "start_time": "2021-06-29T08:29:09.612Z"
   },
   {
    "duration": 120,
    "start_time": "2021-06-29T08:29:09.653Z"
   },
   {
    "duration": 63,
    "start_time": "2021-06-29T08:29:09.787Z"
   },
   {
    "duration": 689,
    "start_time": "2021-06-29T08:29:09.853Z"
   },
   {
    "duration": 45,
    "start_time": "2021-06-29T08:29:10.544Z"
   },
   {
    "duration": 18,
    "start_time": "2021-06-29T08:29:10.592Z"
   },
   {
    "duration": 25,
    "start_time": "2021-06-29T08:29:10.613Z"
   },
   {
    "duration": 23,
    "start_time": "2021-06-29T08:29:10.640Z"
   },
   {
    "duration": 30,
    "start_time": "2021-06-29T08:29:10.665Z"
   },
   {
    "duration": 42,
    "start_time": "2021-06-29T08:29:10.697Z"
   },
   {
    "duration": 104,
    "start_time": "2021-06-29T08:29:10.744Z"
   },
   {
    "duration": 58,
    "start_time": "2021-06-29T08:29:10.851Z"
   },
   {
    "duration": 102,
    "start_time": "2021-06-29T08:29:10.912Z"
   },
   {
    "duration": 4930,
    "start_time": "2021-06-29T08:29:11.016Z"
   },
   {
    "duration": 43,
    "start_time": "2021-06-29T08:29:15.949Z"
   },
   {
    "duration": 38,
    "start_time": "2021-06-29T08:29:15.994Z"
   },
   {
    "duration": 61,
    "start_time": "2021-06-29T08:29:16.035Z"
   },
   {
    "duration": 32,
    "start_time": "2021-06-29T08:29:16.099Z"
   },
   {
    "duration": 23,
    "start_time": "2021-06-29T08:29:16.134Z"
   },
   {
    "duration": 82,
    "start_time": "2021-06-29T08:29:16.160Z"
   },
   {
    "duration": 54,
    "start_time": "2021-06-29T08:29:16.245Z"
   },
   {
    "duration": 12,
    "start_time": "2021-06-29T08:29:16.301Z"
   },
   {
    "duration": 31,
    "start_time": "2021-06-29T08:29:16.315Z"
   },
   {
    "duration": 64,
    "start_time": "2021-06-29T08:29:16.348Z"
   },
   {
    "duration": 72,
    "start_time": "2021-06-29T08:29:16.415Z"
   },
   {
    "duration": 17,
    "start_time": "2021-06-29T08:29:16.489Z"
   },
   {
    "duration": 38,
    "start_time": "2021-06-29T08:29:16.508Z"
   },
   {
    "duration": 46,
    "start_time": "2021-06-29T08:29:16.549Z"
   },
   {
    "duration": 36,
    "start_time": "2021-06-29T08:29:16.598Z"
   },
   {
    "duration": 24,
    "start_time": "2021-06-29T08:29:16.636Z"
   },
   {
    "duration": 52,
    "start_time": "2021-06-29T08:29:16.664Z"
   },
   {
    "duration": 19,
    "start_time": "2021-06-29T08:29:16.719Z"
   },
   {
    "duration": 58,
    "start_time": "2021-06-29T08:29:16.741Z"
   },
   {
    "duration": 203,
    "start_time": "2021-06-29T09:43:11.238Z"
   },
   {
    "duration": 10,
    "start_time": "2021-06-29T09:43:11.443Z"
   },
   {
    "duration": 41,
    "start_time": "2021-06-29T09:43:11.455Z"
   },
   {
    "duration": 4,
    "start_time": "2021-06-29T09:43:11.498Z"
   },
   {
    "duration": 9,
    "start_time": "2021-06-29T09:43:11.503Z"
   },
   {
    "duration": 13,
    "start_time": "2021-06-29T09:43:11.513Z"
   },
   {
    "duration": 9,
    "start_time": "2021-06-29T09:43:11.528Z"
   },
   {
    "duration": 12,
    "start_time": "2021-06-29T09:43:11.538Z"
   },
   {
    "duration": 42,
    "start_time": "2021-06-29T09:43:11.551Z"
   },
   {
    "duration": 5,
    "start_time": "2021-06-29T09:43:11.595Z"
   },
   {
    "duration": 13,
    "start_time": "2021-06-29T09:43:11.601Z"
   },
   {
    "duration": 16,
    "start_time": "2021-06-29T09:43:11.615Z"
   },
   {
    "duration": 54,
    "start_time": "2021-06-29T09:43:11.632Z"
   },
   {
    "duration": 45,
    "start_time": "2021-06-29T09:43:11.688Z"
   },
   {
    "duration": 59,
    "start_time": "2021-06-29T09:43:11.735Z"
   },
   {
    "duration": 355,
    "start_time": "2021-06-29T09:43:11.795Z"
   },
   {
    "duration": 14,
    "start_time": "2021-06-29T09:43:12.152Z"
   },
   {
    "duration": 26,
    "start_time": "2021-06-29T09:43:12.168Z"
   },
   {
    "duration": 5,
    "start_time": "2021-06-29T09:43:12.196Z"
   },
   {
    "duration": 10,
    "start_time": "2021-06-29T09:43:12.203Z"
   },
   {
    "duration": 9,
    "start_time": "2021-06-29T09:43:12.214Z"
   },
   {
    "duration": 62,
    "start_time": "2021-06-29T09:43:12.225Z"
   },
   {
    "duration": 44,
    "start_time": "2021-06-29T09:43:12.293Z"
   },
   {
    "duration": 52,
    "start_time": "2021-06-29T09:43:12.340Z"
   },
   {
    "duration": 51,
    "start_time": "2021-06-29T09:43:12.393Z"
   },
   {
    "duration": 3260,
    "start_time": "2021-06-29T09:43:12.446Z"
   },
   {
    "duration": 19,
    "start_time": "2021-06-29T09:43:15.708Z"
   },
   {
    "duration": 17,
    "start_time": "2021-06-29T09:43:15.728Z"
   },
   {
    "duration": 41,
    "start_time": "2021-06-29T09:43:15.747Z"
   },
   {
    "duration": 4,
    "start_time": "2021-06-29T09:43:15.790Z"
   },
   {
    "duration": 7,
    "start_time": "2021-06-29T09:43:15.796Z"
   },
   {
    "duration": 35,
    "start_time": "2021-06-29T09:43:15.805Z"
   },
   {
    "duration": 53,
    "start_time": "2021-06-29T09:43:15.842Z"
   },
   {
    "duration": 8,
    "start_time": "2021-06-29T09:43:15.896Z"
   },
   {
    "duration": 6,
    "start_time": "2021-06-29T09:43:15.905Z"
   },
   {
    "duration": 25,
    "start_time": "2021-06-29T09:43:15.913Z"
   },
   {
    "duration": 59,
    "start_time": "2021-06-29T09:43:15.940Z"
   },
   {
    "duration": 11,
    "start_time": "2021-06-29T09:43:16.001Z"
   },
   {
    "duration": 16,
    "start_time": "2021-06-29T09:43:16.014Z"
   },
   {
    "duration": 15,
    "start_time": "2021-06-29T09:43:16.032Z"
   },
   {
    "duration": 52,
    "start_time": "2021-06-29T09:43:16.048Z"
   },
   {
    "duration": 8,
    "start_time": "2021-06-29T09:43:16.102Z"
   },
   {
    "duration": 16,
    "start_time": "2021-06-29T09:43:16.112Z"
   },
   {
    "duration": 9,
    "start_time": "2021-06-29T09:43:16.129Z"
   },
   {
    "duration": 46,
    "start_time": "2021-06-29T09:43:16.140Z"
   },
   {
    "duration": 352,
    "start_time": "2021-06-29T11:25:24.173Z"
   },
   {
    "duration": 2009,
    "start_time": "2021-06-29T11:25:38.393Z"
   },
   {
    "duration": 16,
    "start_time": "2021-06-29T11:25:40.405Z"
   },
   {
    "duration": 67,
    "start_time": "2021-06-29T11:25:40.424Z"
   },
   {
    "duration": 7,
    "start_time": "2021-06-29T11:25:40.495Z"
   },
   {
    "duration": 19,
    "start_time": "2021-06-29T11:25:40.505Z"
   },
   {
    "duration": 21,
    "start_time": "2021-06-29T11:25:40.527Z"
   },
   {
    "duration": 52,
    "start_time": "2021-06-29T11:25:40.550Z"
   },
   {
    "duration": 20,
    "start_time": "2021-06-29T11:25:40.606Z"
   },
   {
    "duration": 15,
    "start_time": "2021-06-29T11:25:40.629Z"
   },
   {
    "duration": 12,
    "start_time": "2021-06-29T11:25:40.683Z"
   },
   {
    "duration": 24,
    "start_time": "2021-06-29T11:25:40.698Z"
   },
   {
    "duration": 70,
    "start_time": "2021-06-29T11:25:40.724Z"
   },
   {
    "duration": 36,
    "start_time": "2021-06-29T11:25:40.798Z"
   },
   {
    "duration": 103,
    "start_time": "2021-06-29T11:25:40.837Z"
   },
   {
    "duration": 86,
    "start_time": "2021-06-29T11:25:40.942Z"
   },
   {
    "duration": 691,
    "start_time": "2021-06-29T11:25:41.030Z"
   },
   {
    "duration": 21,
    "start_time": "2021-06-29T11:25:41.724Z"
   },
   {
    "duration": 50,
    "start_time": "2021-06-29T11:25:41.747Z"
   },
   {
    "duration": 7,
    "start_time": "2021-06-29T11:25:41.800Z"
   },
   {
    "duration": 22,
    "start_time": "2021-06-29T11:25:41.810Z"
   },
   {
    "duration": 25,
    "start_time": "2021-06-29T11:25:44.001Z"
   },
   {
    "duration": 1912,
    "start_time": "2021-07-15T10:53:20.920Z"
   },
   {
    "duration": 19,
    "start_time": "2021-07-15T10:53:22.838Z"
   },
   {
    "duration": 45,
    "start_time": "2021-07-15T10:53:22.860Z"
   },
   {
    "duration": 5,
    "start_time": "2021-07-15T10:53:22.907Z"
   },
   {
    "duration": 44,
    "start_time": "2021-07-15T10:53:22.915Z"
   },
   {
    "duration": 20,
    "start_time": "2021-07-15T10:53:22.962Z"
   },
   {
    "duration": 14,
    "start_time": "2021-07-15T10:53:22.986Z"
   },
   {
    "duration": 53,
    "start_time": "2021-07-15T10:53:23.003Z"
   },
   {
    "duration": 14,
    "start_time": "2021-07-15T10:53:23.058Z"
   },
   {
    "duration": 9,
    "start_time": "2021-07-15T10:53:23.075Z"
   },
   {
    "duration": 20,
    "start_time": "2021-07-15T10:53:23.086Z"
   },
   {
    "duration": 63,
    "start_time": "2021-07-15T10:53:23.109Z"
   },
   {
    "duration": 36,
    "start_time": "2021-07-15T10:53:23.174Z"
   },
   {
    "duration": 75,
    "start_time": "2021-07-15T10:53:23.212Z"
   },
   {
    "duration": 73,
    "start_time": "2021-07-15T10:53:23.290Z"
   },
   {
    "duration": 608,
    "start_time": "2021-07-15T10:53:23.365Z"
   },
   {
    "duration": 20,
    "start_time": "2021-07-15T10:53:23.976Z"
   },
   {
    "duration": 17,
    "start_time": "2021-07-15T10:53:23.998Z"
   },
   {
    "duration": 38,
    "start_time": "2021-07-15T10:53:24.018Z"
   },
   {
    "duration": 15,
    "start_time": "2021-07-15T10:53:24.059Z"
   },
   {
    "duration": 17,
    "start_time": "2021-07-15T10:53:24.076Z"
   },
   {
    "duration": 71,
    "start_time": "2021-07-15T10:53:24.097Z"
   },
   {
    "duration": 66,
    "start_time": "2021-07-15T10:53:24.171Z"
   },
   {
    "duration": 43,
    "start_time": "2021-07-15T10:53:24.255Z"
   },
   {
    "duration": 101,
    "start_time": "2021-07-15T10:53:24.300Z"
   },
   {
    "duration": 4266,
    "start_time": "2021-07-15T10:53:24.403Z"
   },
   {
    "duration": 30,
    "start_time": "2021-07-15T10:53:28.675Z"
   },
   {
    "duration": 26,
    "start_time": "2021-07-15T10:53:28.708Z"
   },
   {
    "duration": 53,
    "start_time": "2021-07-15T10:53:28.736Z"
   },
   {
    "duration": 7,
    "start_time": "2021-07-15T10:53:28.791Z"
   },
   {
    "duration": 7,
    "start_time": "2021-07-15T10:53:28.801Z"
   },
   {
    "duration": 99,
    "start_time": "2021-07-15T10:53:28.810Z"
   },
   {
    "duration": 56,
    "start_time": "2021-07-15T10:53:28.911Z"
   },
   {
    "duration": 11,
    "start_time": "2021-07-15T10:53:28.969Z"
   },
   {
    "duration": 7,
    "start_time": "2021-07-15T10:53:28.983Z"
   },
   {
    "duration": 72,
    "start_time": "2021-07-15T10:53:28.993Z"
   },
   {
    "duration": 40,
    "start_time": "2021-07-15T10:53:29.068Z"
   },
   {
    "duration": 47,
    "start_time": "2021-07-15T10:53:29.110Z"
   },
   {
    "duration": 24,
    "start_time": "2021-07-15T10:53:29.160Z"
   },
   {
    "duration": 24,
    "start_time": "2021-07-15T10:53:29.187Z"
   },
   {
    "duration": 66,
    "start_time": "2021-07-15T10:53:29.214Z"
   },
   {
    "duration": 14,
    "start_time": "2021-07-15T10:53:29.283Z"
   },
   {
    "duration": 63,
    "start_time": "2021-07-15T10:53:29.300Z"
   },
   {
    "duration": 14,
    "start_time": "2021-07-15T10:53:29.366Z"
   },
   {
    "duration": 25,
    "start_time": "2021-07-15T10:53:29.382Z"
   },
   {
    "duration": 2028,
    "start_time": "2021-07-25T18:34:43.206Z"
   },
   {
    "duration": 16,
    "start_time": "2021-07-25T18:34:45.236Z"
   },
   {
    "duration": 82,
    "start_time": "2021-07-25T18:34:45.255Z"
   },
   {
    "duration": 5,
    "start_time": "2021-07-25T18:34:45.340Z"
   },
   {
    "duration": 16,
    "start_time": "2021-07-25T18:34:45.347Z"
   },
   {
    "duration": 75,
    "start_time": "2021-07-25T18:34:45.365Z"
   },
   {
    "duration": 27,
    "start_time": "2021-07-25T18:34:45.444Z"
   },
   {
    "duration": 21,
    "start_time": "2021-07-25T18:34:45.516Z"
   },
   {
    "duration": 14,
    "start_time": "2021-07-25T18:34:45.540Z"
   },
   {
    "duration": 7,
    "start_time": "2021-07-25T18:34:45.556Z"
   },
   {
    "duration": 62,
    "start_time": "2021-07-25T18:34:45.565Z"
   },
   {
    "duration": 26,
    "start_time": "2021-07-25T18:34:45.630Z"
   },
   {
    "duration": 67,
    "start_time": "2021-07-25T18:34:45.658Z"
   },
   {
    "duration": 87,
    "start_time": "2021-07-25T18:34:45.727Z"
   },
   {
    "duration": 130,
    "start_time": "2021-07-25T18:34:45.818Z"
   },
   {
    "duration": 1585,
    "start_time": "2021-07-25T18:34:45.952Z"
   },
   {
    "duration": 24,
    "start_time": "2021-07-25T18:34:47.539Z"
   },
   {
    "duration": 62,
    "start_time": "2021-07-25T18:34:47.566Z"
   },
   {
    "duration": 7,
    "start_time": "2021-07-25T18:34:47.631Z"
   },
   {
    "duration": 21,
    "start_time": "2021-07-25T18:34:47.640Z"
   },
   {
    "duration": 56,
    "start_time": "2021-07-25T18:34:47.664Z"
   },
   {
    "duration": 41,
    "start_time": "2021-07-25T18:34:47.723Z"
   },
   {
    "duration": 110,
    "start_time": "2021-07-25T18:34:47.769Z"
   },
   {
    "duration": 69,
    "start_time": "2021-07-25T18:34:47.882Z"
   },
   {
    "duration": 121,
    "start_time": "2021-07-25T18:34:47.954Z"
   },
   {
    "duration": 5048,
    "start_time": "2021-07-25T18:34:48.078Z"
   },
   {
    "duration": 41,
    "start_time": "2021-07-25T18:34:53.130Z"
   },
   {
    "duration": 57,
    "start_time": "2021-07-25T18:34:53.174Z"
   },
   {
    "duration": 42,
    "start_time": "2021-07-25T18:34:53.234Z"
   },
   {
    "duration": 29,
    "start_time": "2021-07-25T18:34:53.279Z"
   },
   {
    "duration": 8,
    "start_time": "2021-07-25T18:34:53.311Z"
   },
   {
    "duration": 113,
    "start_time": "2021-07-25T18:34:53.322Z"
   },
   {
    "duration": 62,
    "start_time": "2021-07-25T18:34:53.438Z"
   },
   {
    "duration": 16,
    "start_time": "2021-07-25T18:34:53.503Z"
   },
   {
    "duration": 10,
    "start_time": "2021-07-25T18:34:53.525Z"
   },
   {
    "duration": 81,
    "start_time": "2021-07-25T18:34:53.537Z"
   },
   {
    "duration": 44,
    "start_time": "2021-07-25T18:34:53.621Z"
   },
   {
    "duration": 56,
    "start_time": "2021-07-25T18:34:53.669Z"
   },
   {
    "duration": 25,
    "start_time": "2021-07-25T18:34:53.727Z"
   },
   {
    "duration": 64,
    "start_time": "2021-07-25T18:34:53.755Z"
   },
   {
    "duration": 35,
    "start_time": "2021-07-25T18:34:53.823Z"
   },
   {
    "duration": 15,
    "start_time": "2021-07-25T18:34:53.861Z"
   },
   {
    "duration": 31,
    "start_time": "2021-07-25T18:34:53.901Z"
   },
   {
    "duration": 13,
    "start_time": "2021-07-25T18:34:53.935Z"
   },
   {
    "duration": 69,
    "start_time": "2021-07-25T18:34:53.951Z"
   },
   {
    "duration": 27,
    "start_time": "2021-07-25T18:35:10.162Z"
   }
  ],
  "kernelspec": {
   "display_name": "Python 3",
   "language": "python",
   "name": "python3"
  },
  "language_info": {
   "codemirror_mode": {
    "name": "ipython",
    "version": 3
   },
   "file_extension": ".py",
   "mimetype": "text/x-python",
   "name": "python",
   "nbconvert_exporter": "python",
   "pygments_lexer": "ipython3",
   "version": "3.7.8"
  },
  "toc": {
   "base_numbering": 1,
   "nav_menu": {},
   "number_sections": true,
   "sideBar": true,
   "skip_h1_title": true,
   "title_cell": "Table of contents",
   "title_sidebar": "Contents",
   "toc_cell": true,
   "toc_position": {},
   "toc_section_display": true,
   "toc_window_display": true
  }
 },
 "nbformat": 4,
 "nbformat_minor": 2
}
