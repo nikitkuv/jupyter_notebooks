{
 "cells": [
  {
   "cell_type": "markdown",
   "metadata": {
    "toc": true
   },
   "source": [
    "<h1>Содержание<span class=\"tocSkip\"></span></h1>\n",
    "<div class=\"toc\"><ul class=\"toc-item\"><li><span><a href=\"#Загрузка,-изучение-и-исследовательский-анализ-данных\" data-toc-modified-id=\"Загрузка,-изучение-и-исследовательский-анализ-данных-1\"><span class=\"toc-item-num\">1&nbsp;&nbsp;</span>Загрузка, изучение и исследовательский анализ данных</a></span><ul class=\"toc-item\"><li><span><a href=\"#Загрузка-и-изучение-файла-с-данными\" data-toc-modified-id=\"Загрузка-и-изучение-файла-с-данными-1.1\"><span class=\"toc-item-num\">1.1&nbsp;&nbsp;</span>Загрузка и изучение файла с данными</a></span></li><li><span><a href=\"#Исследовательский-анализ-данных\" data-toc-modified-id=\"Исследовательский-анализ-данных-1.2\"><span class=\"toc-item-num\">1.2&nbsp;&nbsp;</span>Исследовательский анализ данных</a></span></li><li><span><a href=\"#Вывод\" data-toc-modified-id=\"Вывод-1.3\"><span class=\"toc-item-num\">1.3&nbsp;&nbsp;</span>Вывод</a></span></li></ul></li><li><span><a href=\"#Разбиение-данных-на-выборки\" data-toc-modified-id=\"Разбиение-данных-на-выборки-2\"><span class=\"toc-item-num\">2&nbsp;&nbsp;</span>Разбиение данных на выборки</a></span></li><li><span><a href=\"#Исследование-моделей\" data-toc-modified-id=\"Исследование-моделей-3\"><span class=\"toc-item-num\">3&nbsp;&nbsp;</span>Исследование моделей</a></span><ul class=\"toc-item\"><li><span><a href=\"#Decision-Tree-Classifier\" data-toc-modified-id=\"Decision-Tree-Classifier-3.1\"><span class=\"toc-item-num\">3.1&nbsp;&nbsp;</span>Decision Tree Classifier</a></span></li><li><span><a href=\"#Random-Forest-Classifier\" data-toc-modified-id=\"Random-Forest-Classifier-3.2\"><span class=\"toc-item-num\">3.2&nbsp;&nbsp;</span>Random Forest Classifier</a></span></li><li><span><a href=\"#Logistic-Regression\" data-toc-modified-id=\"Logistic-Regression-3.3\"><span class=\"toc-item-num\">3.3&nbsp;&nbsp;</span>Logistic Regression</a></span></li><li><span><a href=\"#kNN-Classifier\" data-toc-modified-id=\"kNN-Classifier-3.4\"><span class=\"toc-item-num\">3.4&nbsp;&nbsp;</span>kNN Classifier</a></span></li></ul></li><li><span><a href=\"#Выбор-финальной-модели\" data-toc-modified-id=\"Выбор-финальной-модели-4\"><span class=\"toc-item-num\">4&nbsp;&nbsp;</span>Выбор финальной модели</a></span><ul class=\"toc-item\"><li><span><a href=\"#Выбор-финальной-модели-на-основе-выбранной-метрики\" data-toc-modified-id=\"Выбор-финальной-модели-на-основе-выбранной-метрики-4.1\"><span class=\"toc-item-num\">4.1&nbsp;&nbsp;</span>Выбор финальной модели на основе выбранной метрики</a></span></li><li><span><a href=\"#Проверка-финальной-модели-на-адекватность\" data-toc-modified-id=\"Проверка-финальной-модели-на-адекватность-4.2\"><span class=\"toc-item-num\">4.2&nbsp;&nbsp;</span>Проверка финальной модели на адекватность</a></span></li></ul></li><li><span><a href=\"#Вывод\" data-toc-modified-id=\"Вывод-5\"><span class=\"toc-item-num\">5&nbsp;&nbsp;</span>Вывод</a></span></li></ul></div>"
   ]
  },
  {
   "cell_type": "markdown",
   "metadata": {},
   "source": [
    "# Рекомендация тарифов"
   ]
  },
  {
   "cell_type": "markdown",
   "metadata": {},
   "source": [
    "Даны данные о поведении клиентов двух новых тарифов оператора мобильной связи - тарифы Ультра и Смарт. Компания выяснила, что многие клиенты пользуются архивными тарифами.\n",
    "\n",
    "**Цель**: нужно построить модель, способную проанализировать поведение клиентов и предложить пользователям новый тариф.\n",
    "\n",
    "**Целевой признак модели**: тариф пользователя (признак is_ultra).\n",
    "\n",
    "*Примечание от заказчика:* качество модели по *accuracy* должно быть не менее **0.75**."
   ]
  },
  {
   "cell_type": "markdown",
   "metadata": {},
   "source": [
    "# Описание данных"
   ]
  },
  {
   "cell_type": "markdown",
   "metadata": {},
   "source": [
    " - сalls — количество звонков\n",
    " - minutes — суммарная длительность звонков в минутах\n",
    " - messages — количество sms-сообщений\n",
    " - mb_used — израсходованный интернет-трафик в Мб\n",
    " - is_ultra — каким тарифом пользовался в течение месяца («Ультра» — 1, «Смарт» — 0)"
   ]
  },
  {
   "cell_type": "markdown",
   "metadata": {},
   "source": [
    "## Загрузка, изучение и исследовательский анализ данных"
   ]
  },
  {
   "cell_type": "markdown",
   "metadata": {},
   "source": [
    "### Загрузка и изучение файла с данными"
   ]
  },
  {
   "cell_type": "code",
   "execution_count": 1,
   "metadata": {
    "scrolled": true
   },
   "outputs": [
    {
     "data": {
      "text/html": [
       "<div>\n",
       "<style scoped>\n",
       "    .dataframe tbody tr th:only-of-type {\n",
       "        vertical-align: middle;\n",
       "    }\n",
       "\n",
       "    .dataframe tbody tr th {\n",
       "        vertical-align: top;\n",
       "    }\n",
       "\n",
       "    .dataframe thead th {\n",
       "        text-align: right;\n",
       "    }\n",
       "</style>\n",
       "<table border=\"1\" class=\"dataframe\">\n",
       "  <thead>\n",
       "    <tr style=\"text-align: right;\">\n",
       "      <th></th>\n",
       "      <th>calls</th>\n",
       "      <th>minutes</th>\n",
       "      <th>messages</th>\n",
       "      <th>mb_used</th>\n",
       "      <th>is_ultra</th>\n",
       "    </tr>\n",
       "  </thead>\n",
       "  <tbody>\n",
       "    <tr>\n",
       "      <td>0</td>\n",
       "      <td>40.0</td>\n",
       "      <td>311.90</td>\n",
       "      <td>83.0</td>\n",
       "      <td>19915.42</td>\n",
       "      <td>0</td>\n",
       "    </tr>\n",
       "    <tr>\n",
       "      <td>1</td>\n",
       "      <td>85.0</td>\n",
       "      <td>516.75</td>\n",
       "      <td>56.0</td>\n",
       "      <td>22696.96</td>\n",
       "      <td>0</td>\n",
       "    </tr>\n",
       "    <tr>\n",
       "      <td>2</td>\n",
       "      <td>77.0</td>\n",
       "      <td>467.66</td>\n",
       "      <td>86.0</td>\n",
       "      <td>21060.45</td>\n",
       "      <td>0</td>\n",
       "    </tr>\n",
       "    <tr>\n",
       "      <td>3</td>\n",
       "      <td>106.0</td>\n",
       "      <td>745.53</td>\n",
       "      <td>81.0</td>\n",
       "      <td>8437.39</td>\n",
       "      <td>1</td>\n",
       "    </tr>\n",
       "    <tr>\n",
       "      <td>4</td>\n",
       "      <td>66.0</td>\n",
       "      <td>418.74</td>\n",
       "      <td>1.0</td>\n",
       "      <td>14502.75</td>\n",
       "      <td>0</td>\n",
       "    </tr>\n",
       "    <tr>\n",
       "      <td>5</td>\n",
       "      <td>58.0</td>\n",
       "      <td>344.56</td>\n",
       "      <td>21.0</td>\n",
       "      <td>15823.37</td>\n",
       "      <td>0</td>\n",
       "    </tr>\n",
       "    <tr>\n",
       "      <td>6</td>\n",
       "      <td>57.0</td>\n",
       "      <td>431.64</td>\n",
       "      <td>20.0</td>\n",
       "      <td>3738.90</td>\n",
       "      <td>1</td>\n",
       "    </tr>\n",
       "    <tr>\n",
       "      <td>7</td>\n",
       "      <td>15.0</td>\n",
       "      <td>132.40</td>\n",
       "      <td>6.0</td>\n",
       "      <td>21911.60</td>\n",
       "      <td>0</td>\n",
       "    </tr>\n",
       "    <tr>\n",
       "      <td>8</td>\n",
       "      <td>7.0</td>\n",
       "      <td>43.39</td>\n",
       "      <td>3.0</td>\n",
       "      <td>2538.67</td>\n",
       "      <td>1</td>\n",
       "    </tr>\n",
       "    <tr>\n",
       "      <td>9</td>\n",
       "      <td>90.0</td>\n",
       "      <td>665.41</td>\n",
       "      <td>38.0</td>\n",
       "      <td>17358.61</td>\n",
       "      <td>0</td>\n",
       "    </tr>\n",
       "  </tbody>\n",
       "</table>\n",
       "</div>"
      ],
      "text/plain": [
       "   calls  minutes  messages   mb_used  is_ultra\n",
       "0   40.0   311.90      83.0  19915.42         0\n",
       "1   85.0   516.75      56.0  22696.96         0\n",
       "2   77.0   467.66      86.0  21060.45         0\n",
       "3  106.0   745.53      81.0   8437.39         1\n",
       "4   66.0   418.74       1.0  14502.75         0\n",
       "5   58.0   344.56      21.0  15823.37         0\n",
       "6   57.0   431.64      20.0   3738.90         1\n",
       "7   15.0   132.40       6.0  21911.60         0\n",
       "8    7.0    43.39       3.0   2538.67         1\n",
       "9   90.0   665.41      38.0  17358.61         0"
      ]
     },
     "execution_count": 1,
     "metadata": {},
     "output_type": "execute_result"
    }
   ],
   "source": [
    "import pandas as pd\n",
    "import numpy as np\n",
    "import matplotlib.pyplot as plt\n",
    "import seaborn as sns\n",
    "import warnings\n",
    "\n",
    "warnings.filterwarnings('ignore')\n",
    "\n",
    "# import classifiers\n",
    "from sklearn.tree import DecisionTreeClassifier\n",
    "from sklearn.ensemble import RandomForestClassifier\n",
    "from sklearn.linear_model import LogisticRegression\n",
    "from sklearn.neighbors import KNeighborsClassifier\n",
    "\n",
    "# import other tools\n",
    "from sklearn.model_selection import train_test_split\n",
    "from sklearn.model_selection import GridSearchCV\n",
    "from sklearn.metrics import accuracy_score\n",
    "from sklearn.dummy import DummyClassifier\n",
    "from sklearn.preprocessing import StandardScaler\n",
    "from sklearn.pipeline import Pipeline\n",
    "\n",
    "users = pd.read_csv('/datasets/users_behavior.csv')\n",
    "users.head(10)"
   ]
  },
  {
   "cell_type": "code",
   "execution_count": 2,
   "metadata": {},
   "outputs": [
    {
     "data": {
      "text/plain": [
       "0    0.693528\n",
       "1    0.306472\n",
       "Name: is_ultra, dtype: float64"
      ]
     },
     "execution_count": 2,
     "metadata": {},
     "output_type": "execute_result"
    }
   ],
   "source": [
    "users.is_ultra.value_counts(normalize=True)"
   ]
  },
  {
   "cell_type": "code",
   "execution_count": 3,
   "metadata": {
    "scrolled": false
   },
   "outputs": [
    {
     "name": "stdout",
     "output_type": "stream",
     "text": [
      "<class 'pandas.core.frame.DataFrame'>\n",
      "RangeIndex: 3214 entries, 0 to 3213\n",
      "Data columns (total 5 columns):\n",
      "calls       3214 non-null float64\n",
      "minutes     3214 non-null float64\n",
      "messages    3214 non-null float64\n",
      "mb_used     3214 non-null float64\n",
      "is_ultra    3214 non-null int64\n",
      "dtypes: float64(4), int64(1)\n",
      "memory usage: 125.7 KB\n"
     ]
    },
    {
     "data": {
      "text/plain": [
       "None"
      ]
     },
     "metadata": {},
     "output_type": "display_data"
    },
    {
     "data": {
      "text/html": [
       "<div>\n",
       "<style scoped>\n",
       "    .dataframe tbody tr th:only-of-type {\n",
       "        vertical-align: middle;\n",
       "    }\n",
       "\n",
       "    .dataframe tbody tr th {\n",
       "        vertical-align: top;\n",
       "    }\n",
       "\n",
       "    .dataframe thead th {\n",
       "        text-align: right;\n",
       "    }\n",
       "</style>\n",
       "<table border=\"1\" class=\"dataframe\">\n",
       "  <thead>\n",
       "    <tr style=\"text-align: right;\">\n",
       "      <th></th>\n",
       "      <th>calls</th>\n",
       "      <th>minutes</th>\n",
       "      <th>messages</th>\n",
       "      <th>mb_used</th>\n",
       "      <th>is_ultra</th>\n",
       "    </tr>\n",
       "  </thead>\n",
       "  <tbody>\n",
       "    <tr>\n",
       "      <td>count</td>\n",
       "      <td>3214.000000</td>\n",
       "      <td>3214.000000</td>\n",
       "      <td>3214.000000</td>\n",
       "      <td>3214.000000</td>\n",
       "      <td>3214.000000</td>\n",
       "    </tr>\n",
       "    <tr>\n",
       "      <td>mean</td>\n",
       "      <td>63.038892</td>\n",
       "      <td>438.208787</td>\n",
       "      <td>38.281269</td>\n",
       "      <td>17207.673836</td>\n",
       "      <td>0.306472</td>\n",
       "    </tr>\n",
       "    <tr>\n",
       "      <td>std</td>\n",
       "      <td>33.236368</td>\n",
       "      <td>234.569872</td>\n",
       "      <td>36.148326</td>\n",
       "      <td>7570.968246</td>\n",
       "      <td>0.461100</td>\n",
       "    </tr>\n",
       "    <tr>\n",
       "      <td>min</td>\n",
       "      <td>0.000000</td>\n",
       "      <td>0.000000</td>\n",
       "      <td>0.000000</td>\n",
       "      <td>0.000000</td>\n",
       "      <td>0.000000</td>\n",
       "    </tr>\n",
       "    <tr>\n",
       "      <td>25%</td>\n",
       "      <td>40.000000</td>\n",
       "      <td>274.575000</td>\n",
       "      <td>9.000000</td>\n",
       "      <td>12491.902500</td>\n",
       "      <td>0.000000</td>\n",
       "    </tr>\n",
       "    <tr>\n",
       "      <td>50%</td>\n",
       "      <td>62.000000</td>\n",
       "      <td>430.600000</td>\n",
       "      <td>30.000000</td>\n",
       "      <td>16943.235000</td>\n",
       "      <td>0.000000</td>\n",
       "    </tr>\n",
       "    <tr>\n",
       "      <td>75%</td>\n",
       "      <td>82.000000</td>\n",
       "      <td>571.927500</td>\n",
       "      <td>57.000000</td>\n",
       "      <td>21424.700000</td>\n",
       "      <td>1.000000</td>\n",
       "    </tr>\n",
       "    <tr>\n",
       "      <td>max</td>\n",
       "      <td>244.000000</td>\n",
       "      <td>1632.060000</td>\n",
       "      <td>224.000000</td>\n",
       "      <td>49745.730000</td>\n",
       "      <td>1.000000</td>\n",
       "    </tr>\n",
       "  </tbody>\n",
       "</table>\n",
       "</div>"
      ],
      "text/plain": [
       "             calls      minutes     messages       mb_used     is_ultra\n",
       "count  3214.000000  3214.000000  3214.000000   3214.000000  3214.000000\n",
       "mean     63.038892   438.208787    38.281269  17207.673836     0.306472\n",
       "std      33.236368   234.569872    36.148326   7570.968246     0.461100\n",
       "min       0.000000     0.000000     0.000000      0.000000     0.000000\n",
       "25%      40.000000   274.575000     9.000000  12491.902500     0.000000\n",
       "50%      62.000000   430.600000    30.000000  16943.235000     0.000000\n",
       "75%      82.000000   571.927500    57.000000  21424.700000     1.000000\n",
       "max     244.000000  1632.060000   224.000000  49745.730000     1.000000"
      ]
     },
     "metadata": {},
     "output_type": "display_data"
    },
    {
     "data": {
      "text/plain": [
       "0"
      ]
     },
     "execution_count": 3,
     "metadata": {},
     "output_type": "execute_result"
    }
   ],
   "source": [
    "display(users.info())\n",
    "display(users.describe())\n",
    "users.duplicated().sum()"
   ]
  },
  {
   "cell_type": "markdown",
   "metadata": {},
   "source": [
    " - Проблем с пропусками, дубликатами и типами данных не обнаружено\n",
    " - Стоит обратить внимание, что в целевом признаке (тарифы) соотношение бинарных классов 70% (Смарт) на 30% (Ультра)"
   ]
  },
  {
   "cell_type": "markdown",
   "metadata": {},
   "source": [
    "### Исследовательский анализ данных"
   ]
  },
  {
   "cell_type": "markdown",
   "metadata": {},
   "source": [
    "- Посмотрим, как признаки коррелируют друг с другом"
   ]
  },
  {
   "cell_type": "code",
   "execution_count": 4,
   "metadata": {},
   "outputs": [
    {
     "data": {
      "image/png": "[encoded data removed]",
      "text/plain": [
       "<Figure size 864x576 with 2 Axes>"
      ]
     },
     "metadata": {
      "needs_background": "light"
     },
     "output_type": "display_data"
    }
   ],
   "source": [
    "mask = np.triu(users.corr())\n",
    "fig = plt.subplots(figsize=(12, 8))\n",
    "sns.heatmap(users.corr(), \n",
    "            annot=True, \n",
    "            cmap= 'PuBu', \n",
    "            square=True, \n",
    "            mask=mask, \n",
    "            vmin=0, \n",
    "            vmax=0.5\n",
    "           )\n",
    "plt.show()"
   ]
  },
  {
   "cell_type": "markdown",
   "metadata": {},
   "source": [
    "- Судя по всему, линейную зависимость мы наблюдаем только между количеством звонков и минут, потраченных во время звонков, что вполне логично и очевидно, ведь, как правило, чем чаще мы звоним, тем дольше суммарное время разговоров;\n",
    "- Посмотрим матрицу диаграмм рассеяния для разных тарифов, чтобы поподробнее взглянуть на зависимости в данных и оценить возможные нелинейные зависимости"
   ]
  },
  {
   "cell_type": "code",
   "execution_count": 5,
   "metadata": {},
   "outputs": [
    {
     "data": {
      "image/png": "[encoded data removed]",
      "text/plain": [
       "<Figure size 944.5x900 with 30 Axes>"
      ]
     },
     "metadata": {
      "needs_background": "light"
     },
     "output_type": "display_data"
    }
   ],
   "source": [
    "sns.pairplot(users, \n",
    "             hue='is_ultra', \n",
    "             plot_kws={'alpha': .2},\n",
    "             palette='seismic_r'\n",
    "            )\n",
    "plt.show()"
   ]
  },
  {
   "cell_type": "markdown",
   "metadata": {},
   "source": [
    "- Очевидных зависимостей, кроме той, что мы уже отметили - calls vs minutes - не наблюдается\n",
    "- В целом данные разных тарифов перекрывают друг друга\n",
    "- Также отмечается гораздо бОльшая дисперсия в признаках для тарифа Ультра"
   ]
  },
  {
   "cell_type": "markdown",
   "metadata": {},
   "source": [
    "- Рассмотрим данные на столбчатых диаграммах с разделением по тарифам"
   ]
  },
  {
   "cell_type": "code",
   "execution_count": 6,
   "metadata": {},
   "outputs": [
    {
     "data": {
      "image/png": "[encoded data removed]",
      "text/plain": [
       "<Figure size 864x576 with 4 Axes>"
      ]
     },
     "metadata": {
      "needs_background": "light"
     },
     "output_type": "display_data"
    }
   ],
   "source": [
    "fig, axs = plt.subplots(2, \n",
    "                        2, \n",
    "                        figsize=(12, 8)\n",
    "                       )\n",
    "\n",
    "i, j = 0, 0\n",
    "\n",
    "for column in ['calls', 'minutes', 'messages', 'mb_used']:\n",
    "    sns.barplot(x='is_ultra', \n",
    "                y=column, \n",
    "                data=users, \n",
    "                ax=axs[i, j],\n",
    "                palette='seismic_r'\n",
    "               )\n",
    "    axs[i, j].set_title(column)\n",
    "    j+=1\n",
    "    if j==2:\n",
    "        j=0\n",
    "        i+=1\n",
    "\n",
    "plt.tight_layout()\n",
    "plt.show()"
   ]
  },
  {
   "cell_type": "markdown",
   "metadata": {},
   "source": [
    "- В целом пользователи тарифа Ультра тратят больше данных мобильной связи, что, впрочем, довольно логично, ведь тариф Ультра предлагает бОльшие объемы трафика"
   ]
  },
  {
   "cell_type": "markdown",
   "metadata": {},
   "source": [
    "### Вывод"
   ]
  },
  {
   "cell_type": "markdown",
   "metadata": {},
   "source": [
    "- Проблем с пропусками, дубликатами и типами данных не обнаружено\n",
    "- Есть очень сильная прямая линейная зависимость между количеством звонков и используемыми минутами по обоим тарифам\n",
    "- Для остальных признаков очевидные корреляцонные зависимости не наблюдаются\n",
    "- Дисперсия признаков тарифа Ультра выше, чем у тарифа Смарт\n",
    "- Пользователи тарифа Ультра используют бОльший объем предоставленных данных мобильной связи"
   ]
  },
  {
   "cell_type": "markdown",
   "metadata": {},
   "source": [
    "## Разбиение данных на выборки"
   ]
  },
  {
   "cell_type": "markdown",
   "metadata": {},
   "source": [
    "- Нужно предсказать признак is_ultra, который показывает тариф, которым пользуется клиент (0 - Смарт, 1 - Ультра), поэтому **is_ultra - целевой признак**"
   ]
  },
  {
   "cell_type": "markdown",
   "metadata": {},
   "source": [
    "- Для настройки гиперпараметров будем использовать GridSearchCV\n",
    "- Поэтому мы делим данные на две выборки: обучающая и тестовая. Обучающая в свою очередь при выполнении GridSearchCV, а конкретно при выполнении кросс-валидации, будет делиться снова на обучающую и валидационную выборки для каждого набора из k. В нашем случае значением k выбрано 10, так как по работе моделей в трех кейсах (k=5, k=7 и k=10, дальше 10 не разбивалось, т.к. иначе получаются довольно маленькие по объему выборки) k=10 показал наилучший результат по качеству моделей.\n",
    "- В таком случае, разделим данные так, что 25% - тестовая выборка;\n",
    "- Мы уже отмечали, что соотношение классов в целевом признаке 70% на 30%, поэтому при разбиении данных на обучающую и тестовую выборки применим стратификацию"
   ]
  },
  {
   "cell_type": "code",
   "execution_count": 7,
   "metadata": {},
   "outputs": [],
   "source": [
    "seed = 24\n",
    "cv_k = 10\n",
    "\n",
    "x = users.drop(columns=['is_ultra']) # датафрейм с признаками\n",
    "y = users.loc[:, 'is_ultra'] # серия с целевым признаком\n",
    "\n",
    "x_train, x_test, y_train, y_test = train_test_split(x, y, test_size=0.25, \n",
    "                                                    random_state=seed, \n",
    "                                                    stratify=y\n",
    "                                                   )"
   ]
  },
  {
   "cell_type": "markdown",
   "metadata": {},
   "source": [
    "## Исследование моделей"
   ]
  },
  {
   "cell_type": "markdown",
   "metadata": {},
   "source": [
    "- Целевой признак имеет 2 класса, поэтому попробуем 4 разных модели, подходящие для задачи бинарной классификации: \n",
    "    - *DecisionTreeClassifier* \n",
    "    - *RandomForestClassifier*\n",
    "    - *LogisticRegression*\n",
    "    - *KNeighborsClassifier*\n",
    "- Метрика для оценки качества модели - *accuracy*"
   ]
  },
  {
   "cell_type": "markdown",
   "metadata": {},
   "source": [
    "- Для для каждой модели мы сделаем следующее:\n",
    "    1. Зададим диапазоны гиперпараметров\n",
    "    2. Создадим объект класса модели и поместим его в объект GridSearchCV, задав объект модели, диапазоны гиперпараметров, и указав количество разбиений данных для кросс-валидации\n",
    "    3. Обучаем объект GridSearchCV: для каждой комбинации гиперпараметров из предоставленных диапазонов делается кросс-валидация, производится оценка моделей каждой комбинации, выбирается комбинация, показавшая наилучшую оценку\n",
    "    4. Сохраняем гиперпараметры и seed лучшей модели\n",
    "    5. Сравниваем accuracy по валидационной выборке и по тестовой"
   ]
  },
  {
   "cell_type": "markdown",
   "metadata": {},
   "source": [
    "### Decision Tree Classifier"
   ]
  },
  {
   "cell_type": "code",
   "execution_count": 8,
   "metadata": {
    "scrolled": true
   },
   "outputs": [
    {
     "name": "stdout",
     "output_type": "stream",
     "text": [
      "Выбранные гиперпараметры: {'criterion': 'entropy', 'max_depth': 8, 'max_features': 2, 'min_samples_leaf': 9}\n",
      "Accuracy на валидационной выборке: 0.808\n",
      "Accuracy на тестовой выборке: 0.797\n"
     ]
    }
   ],
   "source": [
    "hyperparams_dt = {'max_depth': np.arange(1, 11),\n",
    "                  'min_samples_leaf': np.arange(1, 11),\n",
    "                  'max_features': np.arange(1, len(x.columns)),\n",
    "                  'criterion': ['gini', 'entropy']\n",
    "                 }\n",
    "\n",
    "dt = DecisionTreeClassifier(random_state=seed)\n",
    "dt_gscv = GridSearchCV(dt, hyperparams_dt, cv=cv_k)\n",
    "dt_gscv.fit(x_train, y_train)\n",
    "\n",
    "dt_gscv_best_params = dt_gscv.best_params_\n",
    "dt_gscv_best_model = dt_gscv.best_estimator_\n",
    "dt_gscv_validation_score = dt_gscv.best_score_\n",
    "dt_gscv_test_score = dt_gscv_best_model.score(x_test, y_test)\n",
    "\n",
    "print(f'Выбранные гиперпараметры: {dt_gscv_best_params}')\n",
    "print(f'Accuracy на валидационной выборке: {round(dt_gscv_validation_score, 3)}')\n",
    "print(f'Accuracy на тестовой выборке: {round(dt_gscv_test_score, 3)}')"
   ]
  },
  {
   "cell_type": "markdown",
   "metadata": {},
   "source": [
    "- Количественные гиперпараметры выбранной модели не являются крайними членами выбранных для GridSearchCV диапазонов, поэтому диапазоны можно не менять\n",
    "- **Accuracy** по валидационной и тестовой выборкам **больше 0.75** и составляет **0.797 по тестовой выборке**"
   ]
  },
  {
   "cell_type": "markdown",
   "metadata": {},
   "source": [
    "### Random Forest Classifier"
   ]
  },
  {
   "cell_type": "code",
   "execution_count": 9,
   "metadata": {},
   "outputs": [
    {
     "name": "stdout",
     "output_type": "stream",
     "text": [
      "Выбранные гиперпараметры: {'criterion': 'gini', 'max_depth': 9, 'n_estimators': 40}\n",
      "Accuracy на валидационной выборке: 0.813\n",
      "Accuracy на тестовой выборке: 0.803\n"
     ]
    }
   ],
   "source": [
    "hyperparams_rf = {'max_depth': np.arange(1, 11),\n",
    "                  'n_estimators': np.arange(10, 51, 10),\n",
    "                  'criterion': ['gini', 'entropy']\n",
    "                 }\n",
    "\n",
    "rf = RandomForestClassifier(random_state=seed)\n",
    "rf_gscv = GridSearchCV(rf, hyperparams_rf, cv=cv_k)\n",
    "rf_gscv.fit(x_train, y_train)\n",
    "\n",
    "rf_gscv_best_params = rf_gscv.best_params_\n",
    "rf_gscv_best_model = rf_gscv.best_estimator_\n",
    "rf_gscv_validation_score = rf_gscv.best_score_\n",
    "rf_gscv_test_score = rf_gscv_best_model.score(x_test, y_test)\n",
    "\n",
    "print(f'Выбранные гиперпараметры: {rf_gscv_best_params}')\n",
    "print(f'Accuracy на валидационной выборке: {round(rf_gscv_validation_score, 3)}')\n",
    "print(f'Accuracy на тестовой выборке: {round(rf_gscv_test_score, 3)}')"
   ]
  },
  {
   "cell_type": "markdown",
   "metadata": {},
   "source": [
    "- Количественные гиперпараметры выбранной модели не являются крайними членами выбранных для GridSearchCV диапазонов, поэтому диапазоны можно не менять\n",
    "- **Accuracy** по валидационной и тестовой выборкам **больше 0.75** и составляет **0.803 по тестовой выборке**, а также больше, чем у модели решающего дерева"
   ]
  },
  {
   "cell_type": "markdown",
   "metadata": {},
   "source": [
    "### Logistic Regression"
   ]
  },
  {
   "cell_type": "code",
   "execution_count": 10,
   "metadata": {
    "scrolled": false
   },
   "outputs": [
    {
     "name": "stdout",
     "output_type": "stream",
     "text": [
      "Выбранные гиперпараметры: {'C': 3.359818286283781, 'penalty': 'l1'}\n",
      "Accuracy на валидационной выборке: 0.753\n",
      "Accuracy на тестовой выборке: 0.738\n"
     ]
    }
   ],
   "source": [
    "hyperparams_logreg = {'C': np.logspace(-5, 10, 20),\n",
    "                      'penalty': ['l1', 'l2']\n",
    "                     }\n",
    "\n",
    "logreg = LogisticRegression(random_state=seed)\n",
    "logreg_gscv = GridSearchCV(logreg, hyperparams_logreg, cv=cv_k)\n",
    "logreg_gscv.fit(x_train, y_train)\n",
    "\n",
    "logreg_gscv_best_params = logreg_gscv.best_params_\n",
    "logreg_gscv_best_model = logreg_gscv.best_estimator_\n",
    "logreg_gscv_validation_score = logreg_gscv.best_score_\n",
    "logreg_gscv_test_score = logreg_gscv_best_model.score(x_test, y_test)\n",
    "\n",
    "print(f'Выбранные гиперпараметры: {logreg_gscv_best_params}')\n",
    "print(f'Accuracy на валидационной выборке: {round(logreg_gscv_validation_score, 3)}')\n",
    "print(f'Accuracy на тестовой выборке: {round(logreg_gscv_test_score, 3)}')"
   ]
  },
  {
   "cell_type": "markdown",
   "metadata": {},
   "source": [
    "- Попробуем сделать стандартизацию признаков для улучшения качества модели;"
   ]
  },
  {
   "cell_type": "code",
   "execution_count": 11,
   "metadata": {
    "scrolled": false
   },
   "outputs": [
    {
     "name": "stdout",
     "output_type": "stream",
     "text": [
      "Выбранные гиперпараметры: {'logreg__C': 0.5455594781168515, 'logreg__penalty': 'l2'}\n",
      "Accuracy на валидационной выборке: 0.753\n",
      "Accuracy на тестовой выборке: 0.743\n"
     ]
    }
   ],
   "source": [
    "hyperparams_logreg_scaled = {'logreg__C': np.logspace(-5, 10, 20),\n",
    "                             'logreg__penalty': ['l1', 'l2']\n",
    "                             }\n",
    "\n",
    "scaler_logreg = StandardScaler()\n",
    "logreg_scaled = LogisticRegression(random_state=seed)\n",
    "\n",
    "steps_logreg_scaled = [('scaler', scaler_logreg), ('logreg', logreg_scaled)]\n",
    "pipeline_logreg_scaled = Pipeline(steps_logreg_scaled)\n",
    "\n",
    "logreg_gscv_scaled = GridSearchCV(pipeline_logreg_scaled, hyperparams_logreg_scaled, cv=cv_k)\n",
    "logreg_gscv_scaled.fit(x_train, y_train)\n",
    "\n",
    "logreg_gscv_best_params_scaled = logreg_gscv_scaled.best_params_\n",
    "logreg_gscv_best_model_scaled = logreg_gscv_scaled.best_estimator_\n",
    "logreg_gscv_validation_score_scaled = logreg_gscv_scaled.best_score_\n",
    "logreg_gscv_test_score_scaled = logreg_gscv_best_model_scaled.score(x_test, y_test)\n",
    "\n",
    "print(f'Выбранные гиперпараметры: {logreg_gscv_best_params_scaled}')\n",
    "print(f'Accuracy на валидационной выборке: {round(logreg_gscv_validation_score_scaled, 3)}')\n",
    "print(f'Accuracy на тестовой выборке: {round(logreg_gscv_test_score_scaled, 3)}')"
   ]
  },
  {
   "cell_type": "markdown",
   "metadata": {},
   "source": [
    "- Количественные гиперпараметры выбранной модели не являются крайними членами выбранных для GridSearchCV диапазонов, поэтому диапазоны можно не менять\n",
    "- **Accuracy** по валидационной слегка выше 0.75, но по **тестовой равна 0.743** с применением стандартизации (без нее по тестовой 0.738), что ниже заданного условия 0.75 и ниже, чем у остальных моделей"
   ]
  },
  {
   "cell_type": "markdown",
   "metadata": {},
   "source": [
    "### kNN Classifier"
   ]
  },
  {
   "cell_type": "code",
   "execution_count": 12,
   "metadata": {},
   "outputs": [
    {
     "name": "stdout",
     "output_type": "stream",
     "text": [
      "Выбранные гиперпараметры: {'n_neighbors': 7}\n",
      "Accuracy на валидационной выборке: 0.764\n",
      "Accuracy на тестовой выборке: 0.759\n"
     ]
    }
   ],
   "source": [
    "hyperparams_knn = {'n_neighbors': np.arange(1, 50)}\n",
    "\n",
    "knn = KNeighborsClassifier()\n",
    "knn_gscv = GridSearchCV(knn, hyperparams_knn, cv=cv_k)\n",
    "knn_gscv.fit(x_train, y_train)\n",
    "\n",
    "knn_gscv_best_params = knn_gscv.best_params_\n",
    "knn_gscv_best_model = knn_gscv.best_estimator_\n",
    "knn_gscv_validation_score = knn_gscv.best_score_\n",
    "knn_gscv_test_score = knn_gscv_best_model.score(x_test, y_test)\n",
    "\n",
    "print(f'Выбранные гиперпараметры: {knn_gscv_best_params}')\n",
    "print(f'Accuracy на валидационной выборке: {round(knn_gscv_validation_score, 3)}')\n",
    "print(f'Accuracy на тестовой выборке: {round(knn_gscv_test_score, 3)}')"
   ]
  },
  {
   "cell_type": "markdown",
   "metadata": {},
   "source": [
    "- Значение по тестовой выборке выше 0.75, тем не менее, попробуем сделать стандартизацию признаков для улучшения качества модели;"
   ]
  },
  {
   "cell_type": "code",
   "execution_count": 13,
   "metadata": {},
   "outputs": [
    {
     "name": "stdout",
     "output_type": "stream",
     "text": [
      "Выбранные гиперпараметры: {'knn__n_neighbors': 17}\n",
      "Accuracy на валидационной выборке: 0.807\n",
      "Accuracy на тестовой выборке: 0.787\n"
     ]
    }
   ],
   "source": [
    "hyperparams_knn_scaled = {'knn__n_neighbors': np.arange(1, 50)}\n",
    "\n",
    "scaler_knn = StandardScaler()\n",
    "knn_scaled = KNeighborsClassifier()\n",
    "\n",
    "steps_knn_scaled = [('scaler', scaler_knn), ('knn', knn_scaled)]\n",
    "pipeline_knn_scaled = Pipeline(steps_knn_scaled)\n",
    "\n",
    "knn_gscv_scaled = GridSearchCV(pipeline_knn_scaled, hyperparams_knn_scaled, cv=cv_k)\n",
    "knn_gscv_scaled.fit(x_train, y_train)\n",
    "\n",
    "knn_gscv_best_params_scaled = knn_gscv_scaled.best_params_\n",
    "knn_gscv_best_model_scaled = knn_gscv_scaled.best_estimator_\n",
    "knn_gscv_validation_score_scaled = knn_gscv_scaled.best_score_\n",
    "knn_gscv_test_score_scaled = knn_gscv_best_model_scaled.score(x_test, y_test)\n",
    "\n",
    "print(f'Выбранные гиперпараметры: {knn_gscv_best_params_scaled}')\n",
    "print(f'Accuracy на валидационной выборке: {round(knn_gscv_validation_score_scaled, 3)}')\n",
    "print(f'Accuracy на тестовой выборке: {round(knn_gscv_test_score_scaled, 3)}')"
   ]
  },
  {
   "cell_type": "markdown",
   "metadata": {},
   "source": [
    "- С помощью стандартизации удалось увеличить качество модели по тестовой выборке на 2.8 %\n",
    "- Количественные гиперпараметры выбранной модели не являются крайними членами выбранных для GridSearchCV диапазонов, поэтому диапазоны можно не менять\n",
    "- **Accuracy** по валидационной и тестовой выборкам **больше 0.75** и составляет **0.787 по тестовой выборке** с использованием стандартизации (без нее по тестовой 0.765), что все равно ниже, чем у модели случайного леса"
   ]
  },
  {
   "cell_type": "markdown",
   "metadata": {},
   "source": [
    "## Выбор финальной модели"
   ]
  },
  {
   "cell_type": "markdown",
   "metadata": {},
   "source": [
    "### Выбор финальной модели на основе выбранной метрики"
   ]
  },
  {
   "cell_type": "code",
   "execution_count": 14,
   "metadata": {
    "scrolled": true
   },
   "outputs": [
    {
     "data": {
      "text/html": [
       "<div>\n",
       "<style scoped>\n",
       "    .dataframe tbody tr th:only-of-type {\n",
       "        vertical-align: middle;\n",
       "    }\n",
       "\n",
       "    .dataframe tbody tr th {\n",
       "        vertical-align: top;\n",
       "    }\n",
       "\n",
       "    .dataframe thead th {\n",
       "        text-align: right;\n",
       "    }\n",
       "</style>\n",
       "<table border=\"1\" class=\"dataframe\">\n",
       "  <thead>\n",
       "    <tr style=\"text-align: right;\">\n",
       "      <th></th>\n",
       "      <th>Validation score</th>\n",
       "      <th>Test score</th>\n",
       "    </tr>\n",
       "  </thead>\n",
       "  <tbody>\n",
       "    <tr>\n",
       "      <td>Random Forest</td>\n",
       "      <td>0.813278</td>\n",
       "      <td>0.803483</td>\n",
       "    </tr>\n",
       "    <tr>\n",
       "      <td>Decision Tree</td>\n",
       "      <td>0.807884</td>\n",
       "      <td>0.797264</td>\n",
       "    </tr>\n",
       "    <tr>\n",
       "      <td>kNN scaled</td>\n",
       "      <td>0.806639</td>\n",
       "      <td>0.787313</td>\n",
       "    </tr>\n",
       "    <tr>\n",
       "      <td>kNN</td>\n",
       "      <td>0.764315</td>\n",
       "      <td>0.758706</td>\n",
       "    </tr>\n",
       "    <tr>\n",
       "      <td>Logistic Regression scaled</td>\n",
       "      <td>0.753112</td>\n",
       "      <td>0.742537</td>\n",
       "    </tr>\n",
       "    <tr>\n",
       "      <td>Logistic Regression</td>\n",
       "      <td>0.752697</td>\n",
       "      <td>0.737562</td>\n",
       "    </tr>\n",
       "  </tbody>\n",
       "</table>\n",
       "</div>"
      ],
      "text/plain": [
       "                            Validation score  Test score\n",
       "Random Forest                       0.813278    0.803483\n",
       "Decision Tree                       0.807884    0.797264\n",
       "kNN scaled                          0.806639    0.787313\n",
       "kNN                                 0.764315    0.758706\n",
       "Logistic Regression scaled          0.753112    0.742537\n",
       "Logistic Regression                 0.752697    0.737562"
      ]
     },
     "execution_count": 14,
     "metadata": {},
     "output_type": "execute_result"
    }
   ],
   "source": [
    "models_results = pd.DataFrame({'Validation score': [dt_gscv_validation_score,\n",
    "                                                    rf_gscv_validation_score,\n",
    "                                                    logreg_gscv_validation_score,\n",
    "                                                    logreg_gscv_validation_score_scaled,\n",
    "                                                    knn_gscv_validation_score,\n",
    "                                                    knn_gscv_validation_score_scaled\n",
    "                                                   ],\n",
    "                               'Test score': [dt_gscv_test_score, \n",
    "                                              rf_gscv_test_score,\n",
    "                                              logreg_gscv_test_score,\n",
    "                                              logreg_gscv_test_score_scaled,\n",
    "                                              knn_gscv_test_score,\n",
    "                                              knn_gscv_test_score_scaled\n",
    "                                             ]\n",
    "                              }, index=['Decision Tree', \n",
    "                                        'Random Forest', \n",
    "                                        'Logistic Regression', \n",
    "                                        'Logistic Regression scaled', \n",
    "                                        'kNN', \n",
    "                                        'kNN scaled'\n",
    "                                       ]\n",
    "                             )\n",
    "\n",
    "models_results.sort_values(by='Test score', ascending=False)"
   ]
  },
  {
   "cell_type": "markdown",
   "metadata": {},
   "source": [
    "- Согласно accuracy по тестовой выборке, лучший результат показала модель Random Forest со значением **accuracy 0.80** и следующими гиперпараметрами:\n",
    "    1. criterion = gini\n",
    "    2. max_depth = 9\n",
    "    3. n_estimators = 40\n",
    "    \n",
    "- Данная модель выбрана как финальная на основе лучших результатов работы с тестовой выборкой"
   ]
  },
  {
   "cell_type": "markdown",
   "metadata": {},
   "source": [
    "### Проверка финальной модели на адекватность"
   ]
  },
  {
   "cell_type": "markdown",
   "metadata": {},
   "source": [
    " - Проверим выбранную модель на адекватность сравнением с константной моделью. Т.к. оценка точности модели производилась метрикой accuracy, сравним точность финальной модели с точностью константной модели по преобладающему классу."
   ]
  },
  {
   "cell_type": "code",
   "execution_count": 15,
   "metadata": {},
   "outputs": [
    {
     "name": "stdout",
     "output_type": "stream",
     "text": [
      "Модель работает адекватно: model accuracy 0.803 > dummy accuracy 0.69\n"
     ]
    }
   ],
   "source": [
    "dummy_model = DummyClassifier(strategy=\"most_frequent\")\n",
    "\n",
    "dummy_model.fit(x_train, y_train)\n",
    "dummy_model_score = dummy_model.score(x_test, y_test)\n",
    "\n",
    "if dummy_model_score < rf_gscv_test_score:\n",
    "    print(f'Модель работает адекватно: model accuracy {round(rf_gscv_test_score, 3)} > dummy accuracy {round(dummy_model_score, 2)}')\n",
    "else:\n",
    "    print(f'Модель работает неадекватно: dummy accuracy {round(dummy_model_score, 2)} >= model accuracy {round(rf_gscv_test_score, 3)}')"
   ]
  },
  {
   "cell_type": "markdown",
   "metadata": {},
   "source": [
    "- Accuracy финальной модели значительно превышает accuracy константной модели по преобладающему классу\n",
    "- Выбранная модель прошла проверку на адекватность"
   ]
  },
  {
   "cell_type": "markdown",
   "metadata": {},
   "source": [
    "## Вывод"
   ]
  },
  {
   "cell_type": "markdown",
   "metadata": {},
   "source": [
    "1. На имеющихся данных протестированы 4 разных модели, подходящие для задачи бинарной классификации:\n",
    "    - DecisionTreeClassifier\n",
    "    - RandomForestClassifier\n",
    "    - LogisticRegression\n",
    "    - KNeighborsClassifier\n",
    "2. Настройка гиперпараметров была сделана с использование GridSearchCV\n",
    "3. Для каждой из модели был выбран вариант с гиперпараметрами, показавший лучший результат на валидационной выборке\n",
    "4. Каждая из лучших моделей была проверена на тестовой выборке, отложенной еще до обучения. Модель, показавшая лучший результат на тестовой выборке выбрана как финальная - **RandomForestClassifier, accuracy по тестовой выборке = 0.8**\n",
    "5. Модель проверена на адекватность с использованием константной модели по преобладающему классу"
   ]
  },
  {
   "cell_type": "code",
   "execution_count": null,
   "metadata": {},
   "outputs": [],
   "source": []
  }
 ],
 "metadata": {
  "ExecuteTimeLog": [
   {
    "duration": 1172,
    "start_time": "2021-08-17T12:26:08.251Z"
   },
   {
    "duration": 28,
    "start_time": "2021-08-17T12:26:39.251Z"
   },
   {
    "duration": 288,
    "start_time": "2021-08-17T12:27:09.471Z"
   },
   {
    "duration": 9,
    "start_time": "2021-08-17T12:27:52.061Z"
   },
   {
    "duration": 203,
    "start_time": "2021-08-17T12:29:00.042Z"
   },
   {
    "duration": 175,
    "start_time": "2021-08-17T12:29:11.173Z"
   },
   {
    "duration": 194,
    "start_time": "2021-08-17T12:29:15.465Z"
   },
   {
    "duration": 30,
    "start_time": "2021-08-17T12:29:27.083Z"
   },
   {
    "duration": 1100,
    "start_time": "2021-08-17T12:43:33.141Z"
   },
   {
    "duration": 31,
    "start_time": "2021-08-17T12:43:34.243Z"
   },
   {
    "duration": 6,
    "start_time": "2021-08-17T13:05:12.603Z"
   },
   {
    "duration": 8,
    "start_time": "2021-08-17T13:10:31.088Z"
   },
   {
    "duration": 1217,
    "start_time": "2021-08-17T13:10:41.682Z"
   },
   {
    "duration": 30,
    "start_time": "2021-08-17T13:10:42.901Z"
   },
   {
    "duration": 6,
    "start_time": "2021-08-17T13:10:42.933Z"
   },
   {
    "duration": 283,
    "start_time": "2021-08-17T13:33:18.436Z"
   },
   {
    "duration": 5,
    "start_time": "2021-08-17T13:33:23.845Z"
   },
   {
    "duration": 27,
    "start_time": "2021-08-17T13:41:06.030Z"
   },
   {
    "duration": 31,
    "start_time": "2021-08-17T13:41:06.059Z"
   },
   {
    "duration": 8,
    "start_time": "2021-08-17T13:41:06.091Z"
   },
   {
    "duration": 66,
    "start_time": "2021-08-17T13:41:15.440Z"
   },
   {
    "duration": 186,
    "start_time": "2021-08-17T13:41:27.900Z"
   },
   {
    "duration": 725,
    "start_time": "2021-08-17T13:41:34.561Z"
   },
   {
    "duration": 185,
    "start_time": "2021-08-17T13:42:24.136Z"
   },
   {
    "duration": 10213,
    "start_time": "2021-08-17T13:42:32.035Z"
   },
   {
    "duration": 1582,
    "start_time": "2021-08-17T19:56:17.461Z"
   },
   {
    "duration": 51,
    "start_time": "2021-08-17T19:56:19.046Z"
   },
   {
    "duration": 10,
    "start_time": "2021-08-17T19:56:19.101Z"
   },
   {
    "duration": 16626,
    "start_time": "2021-08-17T19:56:19.114Z"
   },
   {
    "duration": 26617,
    "start_time": "2021-08-17T20:04:25.368Z"
   },
   {
    "duration": 24875,
    "start_time": "2021-08-17T20:05:37.013Z"
   },
   {
    "duration": 2908,
    "start_time": "2021-08-17T20:07:19.512Z"
   },
   {
    "duration": 68,
    "start_time": "2021-08-17T20:07:22.424Z"
   },
   {
    "duration": 12,
    "start_time": "2021-08-17T20:07:22.500Z"
   },
   {
    "duration": 17872,
    "start_time": "2021-08-17T20:07:22.515Z"
   },
   {
    "duration": 1539,
    "start_time": "2021-08-17T20:09:00.506Z"
   },
   {
    "duration": 51,
    "start_time": "2021-08-17T20:09:02.048Z"
   },
   {
    "duration": 10,
    "start_time": "2021-08-17T20:09:02.103Z"
   },
   {
    "duration": 17105,
    "start_time": "2021-08-17T20:09:02.116Z"
   },
   {
    "duration": 1563,
    "start_time": "2021-08-17T20:09:35.966Z"
   },
   {
    "duration": 56,
    "start_time": "2021-08-17T20:09:37.535Z"
   },
   {
    "duration": 9,
    "start_time": "2021-08-17T20:09:37.594Z"
   },
   {
    "duration": 17015,
    "start_time": "2021-08-17T20:09:37.605Z"
   },
   {
    "duration": 1637,
    "start_time": "2021-08-17T20:10:12.099Z"
   },
   {
    "duration": 54,
    "start_time": "2021-08-17T20:10:13.739Z"
   },
   {
    "duration": 9,
    "start_time": "2021-08-17T20:10:13.795Z"
   },
   {
    "duration": 17896,
    "start_time": "2021-08-17T20:10:13.807Z"
   },
   {
    "duration": 8,
    "start_time": "2021-08-17T20:13:56.725Z"
   },
   {
    "duration": 1531,
    "start_time": "2021-08-17T20:16:43.995Z"
   },
   {
    "duration": 55,
    "start_time": "2021-08-17T20:16:45.529Z"
   },
   {
    "duration": 9,
    "start_time": "2021-08-17T20:16:45.587Z"
   },
   {
    "duration": 5966,
    "start_time": "2021-08-17T20:16:45.598Z"
   },
   {
    "duration": -987,
    "start_time": "2021-08-17T20:16:52.554Z"
   },
   {
    "duration": -994,
    "start_time": "2021-08-17T20:16:52.562Z"
   },
   {
    "duration": 31,
    "start_time": "2021-08-17T20:17:03.776Z"
   },
   {
    "duration": 45,
    "start_time": "2021-08-17T20:17:03.810Z"
   },
   {
    "duration": 9,
    "start_time": "2021-08-17T20:17:03.858Z"
   },
   {
    "duration": 21500,
    "start_time": "2021-08-17T20:17:03.870Z"
   },
   {
    "duration": 53967,
    "start_time": "2021-08-17T20:18:49.529Z"
   },
   {
    "duration": 308,
    "start_time": "2021-08-17T20:30:19.071Z"
   },
   {
    "duration": 1973,
    "start_time": "2021-08-17T20:30:24.440Z"
   },
   {
    "duration": 1583,
    "start_time": "2021-08-17T20:31:37.157Z"
   },
   {
    "duration": 51,
    "start_time": "2021-08-17T20:31:38.743Z"
   },
   {
    "duration": 9,
    "start_time": "2021-08-17T20:31:38.798Z"
   },
   {
    "duration": 21579,
    "start_time": "2021-08-17T20:31:38.810Z"
   },
   {
    "duration": 55357,
    "start_time": "2021-08-17T20:32:00.392Z"
   },
   {
    "duration": 1863,
    "start_time": "2021-08-17T20:32:55.752Z"
   },
   {
    "duration": 2771,
    "start_time": "2021-08-17T20:34:14.611Z"
   },
   {
    "duration": 647,
    "start_time": "2021-08-17T20:36:24.341Z"
   },
   {
    "duration": 279,
    "start_time": "2021-08-17T20:37:19.135Z"
   },
   {
    "duration": 302,
    "start_time": "2021-08-17T20:37:34.398Z"
   },
   {
    "duration": 640,
    "start_time": "2021-08-17T20:38:06.442Z"
   },
   {
    "duration": 522,
    "start_time": "2021-08-17T20:38:30.506Z"
   },
   {
    "duration": 344,
    "start_time": "2021-08-17T20:38:48.003Z"
   },
   {
    "duration": 498,
    "start_time": "2021-08-17T20:38:56.446Z"
   },
   {
    "duration": 379,
    "start_time": "2021-08-17T20:39:08.216Z"
   },
   {
    "duration": 379,
    "start_time": "2021-08-17T20:39:17.579Z"
   },
   {
    "duration": 390,
    "start_time": "2021-08-17T20:39:23.486Z"
   },
   {
    "duration": 5,
    "start_time": "2021-08-17T20:39:40.037Z"
   },
   {
    "duration": 379,
    "start_time": "2021-08-17T20:39:59.078Z"
   },
   {
    "duration": 373,
    "start_time": "2021-08-17T20:40:14.705Z"
   },
   {
    "duration": 378,
    "start_time": "2021-08-17T20:40:21.618Z"
   },
   {
    "duration": 357,
    "start_time": "2021-08-17T20:40:32.809Z"
   },
   {
    "duration": 368,
    "start_time": "2021-08-17T20:41:01.877Z"
   },
   {
    "duration": 450,
    "start_time": "2021-08-17T20:41:28.636Z"
   },
   {
    "duration": 1597,
    "start_time": "2021-08-17T20:41:34.620Z"
   },
   {
    "duration": 2107,
    "start_time": "2021-08-17T20:41:57.772Z"
   },
   {
    "duration": 10965,
    "start_time": "2021-08-17T20:42:05.283Z"
   },
   {
    "duration": 3274,
    "start_time": "2021-08-17T20:42:29.754Z"
   },
   {
    "duration": 3227,
    "start_time": "2021-08-17T20:42:38.575Z"
   },
   {
    "duration": 6,
    "start_time": "2021-08-17T20:46:32.813Z"
   },
   {
    "duration": 6,
    "start_time": "2021-08-17T20:46:55.858Z"
   },
   {
    "duration": 8,
    "start_time": "2021-08-17T20:47:07.870Z"
   },
   {
    "duration": 7,
    "start_time": "2021-08-17T20:47:17.934Z"
   },
   {
    "duration": 1760,
    "start_time": "2021-08-17T20:47:23.163Z"
   },
   {
    "duration": 1553,
    "start_time": "2021-08-17T20:52:45.077Z"
   },
   {
    "duration": 47,
    "start_time": "2021-08-17T20:52:46.632Z"
   },
   {
    "duration": 8,
    "start_time": "2021-08-17T20:52:46.682Z"
   },
   {
    "duration": 32583,
    "start_time": "2021-08-17T20:52:46.693Z"
   },
   {
    "duration": 82750,
    "start_time": "2021-08-17T20:53:19.280Z"
   },
   {
    "duration": 1813,
    "start_time": "2021-08-17T20:54:42.032Z"
   },
   {
    "duration": 1658,
    "start_time": "2021-08-18T06:44:25.055Z"
   },
   {
    "duration": 58,
    "start_time": "2021-08-18T06:44:26.716Z"
   },
   {
    "duration": 528,
    "start_time": "2021-08-18T06:44:26.777Z"
   },
   {
    "duration": 502,
    "start_time": "2021-08-18T06:56:37.095Z"
   },
   {
    "duration": 407,
    "start_time": "2021-08-18T06:58:08.774Z"
   },
   {
    "duration": 513,
    "start_time": "2021-08-18T06:58:14.548Z"
   },
   {
    "duration": 476,
    "start_time": "2021-08-18T06:58:19.056Z"
   },
   {
    "duration": 423,
    "start_time": "2021-08-18T06:59:21.461Z"
   },
   {
    "duration": 361,
    "start_time": "2021-08-18T06:59:27.238Z"
   },
   {
    "duration": 516,
    "start_time": "2021-08-18T06:59:39.026Z"
   },
   {
    "duration": 465,
    "start_time": "2021-08-18T07:00:22.209Z"
   },
   {
    "duration": 354,
    "start_time": "2021-08-18T07:01:16.457Z"
   },
   {
    "duration": 407,
    "start_time": "2021-08-18T07:01:22.642Z"
   },
   {
    "duration": 423,
    "start_time": "2021-08-18T07:01:55.799Z"
   },
   {
    "duration": 421,
    "start_time": "2021-08-18T07:02:03.294Z"
   },
   {
    "duration": 427,
    "start_time": "2021-08-18T07:02:16.205Z"
   },
   {
    "duration": 419,
    "start_time": "2021-08-18T07:02:32.596Z"
   },
   {
    "duration": 411,
    "start_time": "2021-08-18T07:02:38.133Z"
   },
   {
    "duration": 427,
    "start_time": "2021-08-18T07:02:47.708Z"
   },
   {
    "duration": 571,
    "start_time": "2021-08-18T07:03:01.751Z"
   },
   {
    "duration": 425,
    "start_time": "2021-08-18T07:05:15.239Z"
   },
   {
    "duration": 492,
    "start_time": "2021-08-18T07:05:34.559Z"
   },
   {
    "duration": 405,
    "start_time": "2021-08-18T07:05:43.469Z"
   },
   {
    "duration": 430,
    "start_time": "2021-08-18T07:05:47.632Z"
   },
   {
    "duration": 390,
    "start_time": "2021-08-18T07:05:51.278Z"
   },
   {
    "duration": 421,
    "start_time": "2021-08-18T07:06:26.080Z"
   },
   {
    "duration": 421,
    "start_time": "2021-08-18T07:06:30.753Z"
   },
   {
    "duration": 400,
    "start_time": "2021-08-18T07:06:51.578Z"
   },
   {
    "duration": 418,
    "start_time": "2021-08-18T07:07:10.448Z"
   },
   {
    "duration": 14859,
    "start_time": "2021-08-18T08:00:04.970Z"
   },
   {
    "duration": 4013,
    "start_time": "2021-08-18T08:01:32.717Z"
   },
   {
    "duration": 4187,
    "start_time": "2021-08-18T08:01:46.875Z"
   },
   {
    "duration": 6,
    "start_time": "2021-08-18T08:02:22.210Z"
   },
   {
    "duration": 4122,
    "start_time": "2021-08-18T08:02:47.840Z"
   },
   {
    "duration": 855,
    "start_time": "2021-08-18T08:04:01.432Z"
   },
   {
    "duration": 16558,
    "start_time": "2021-08-18T08:06:11.448Z"
   },
   {
    "duration": 15533,
    "start_time": "2021-08-18T08:07:23.897Z"
   },
   {
    "duration": 10712,
    "start_time": "2021-08-18T08:09:46.844Z"
   },
   {
    "duration": 8861,
    "start_time": "2021-08-18T08:10:07.444Z"
   },
   {
    "duration": 355,
    "start_time": "2021-08-18T08:11:06.492Z"
   },
   {
    "duration": 16277,
    "start_time": "2021-08-18T08:11:11.721Z"
   },
   {
    "duration": 15724,
    "start_time": "2021-08-18T08:12:35.190Z"
   },
   {
    "duration": 15772,
    "start_time": "2021-08-18T08:13:24.506Z"
   },
   {
    "duration": 15780,
    "start_time": "2021-08-18T08:14:17.138Z"
   },
   {
    "duration": 16628,
    "start_time": "2021-08-18T08:14:39.304Z"
   },
   {
    "duration": 16660,
    "start_time": "2021-08-18T08:18:31.850Z"
   },
   {
    "duration": 16263,
    "start_time": "2021-08-18T08:20:50.064Z"
   },
   {
    "duration": 16500,
    "start_time": "2021-08-18T08:21:30.124Z"
   },
   {
    "duration": 16439,
    "start_time": "2021-08-18T08:22:03.754Z"
   },
   {
    "duration": 16110,
    "start_time": "2021-08-18T08:22:58.968Z"
   },
   {
    "duration": 15737,
    "start_time": "2021-08-18T08:23:27.043Z"
   },
   {
    "duration": 16463,
    "start_time": "2021-08-18T08:23:52.144Z"
   },
   {
    "duration": 6,
    "start_time": "2021-08-18T08:36:15.165Z"
   },
   {
    "duration": 5388,
    "start_time": "2021-08-18T08:39:32.437Z"
   },
   {
    "duration": 72175,
    "start_time": "2021-08-18T08:39:52.757Z"
   },
   {
    "duration": 1658,
    "start_time": "2021-08-18T08:41:32.571Z"
   },
   {
    "duration": 1075,
    "start_time": "2021-08-18T08:42:20.028Z"
   },
   {
    "duration": 1276,
    "start_time": "2021-08-18T08:43:50.642Z"
   },
   {
    "duration": 1589,
    "start_time": "2021-08-18T08:43:56.031Z"
   },
   {
    "duration": 1572,
    "start_time": "2021-08-18T08:44:45.533Z"
   },
   {
    "duration": 2139,
    "start_time": "2021-08-18T08:45:36.636Z"
   },
   {
    "duration": 1525,
    "start_time": "2021-08-18T08:45:43.378Z"
   },
   {
    "duration": 1490,
    "start_time": "2021-08-18T08:45:52.541Z"
   },
   {
    "duration": 1506,
    "start_time": "2021-08-18T08:49:41.259Z"
   },
   {
    "duration": 1440,
    "start_time": "2021-08-18T08:50:28.401Z"
   },
   {
    "duration": 1474,
    "start_time": "2021-08-18T08:51:17.039Z"
   },
   {
    "duration": 1464,
    "start_time": "2021-08-18T08:51:27.430Z"
   },
   {
    "duration": 5,
    "start_time": "2021-08-18T09:07:11.623Z"
   },
   {
    "duration": 359,
    "start_time": "2021-08-18T09:08:13.325Z"
   },
   {
    "duration": 12,
    "start_time": "2021-08-18T09:08:19.398Z"
   },
   {
    "duration": 27,
    "start_time": "2021-08-18T09:08:26.535Z"
   },
   {
    "duration": 361,
    "start_time": "2021-08-18T09:08:57.972Z"
   },
   {
    "duration": 35,
    "start_time": "2021-08-18T09:09:00.848Z"
   },
   {
    "duration": 376,
    "start_time": "2021-08-18T09:16:02.206Z"
   },
   {
    "duration": 467,
    "start_time": "2021-08-18T09:16:49.293Z"
   },
   {
    "duration": 1596,
    "start_time": "2021-08-18T09:17:02.733Z"
   },
   {
    "duration": 49,
    "start_time": "2021-08-18T09:17:04.332Z"
   },
   {
    "duration": 409,
    "start_time": "2021-08-18T09:17:04.384Z"
   },
   {
    "duration": 14355,
    "start_time": "2021-08-18T09:17:04.796Z"
   },
   {
    "duration": 1359,
    "start_time": "2021-08-18T09:17:19.156Z"
   },
   {
    "duration": 9,
    "start_time": "2021-08-18T09:17:20.518Z"
   },
   {
    "duration": 21646,
    "start_time": "2021-08-18T09:17:20.529Z"
   },
   {
    "duration": 55423,
    "start_time": "2021-08-18T09:17:42.180Z"
   },
   {
    "duration": 1646,
    "start_time": "2021-08-18T09:18:37.607Z"
   },
   {
    "duration": 52,
    "start_time": "2021-08-18T09:18:39.257Z"
   },
   {
    "duration": 505,
    "start_time": "2021-08-18T09:18:39.312Z"
   },
   {
    "duration": 196,
    "start_time": "2021-08-18T09:19:09.845Z"
   },
   {
    "duration": 36,
    "start_time": "2021-08-18T09:20:19.460Z"
   },
   {
    "duration": 36,
    "start_time": "2021-08-18T09:20:27.302Z"
   },
   {
    "duration": 193,
    "start_time": "2021-08-18T09:22:28.552Z"
   },
   {
    "duration": 16,
    "start_time": "2021-08-18T09:23:14.559Z"
   },
   {
    "duration": 1515,
    "start_time": "2021-08-18T09:23:23.914Z"
   },
   {
    "duration": 48,
    "start_time": "2021-08-18T09:23:25.432Z"
   },
   {
    "duration": 416,
    "start_time": "2021-08-18T09:23:25.483Z"
   },
   {
    "duration": 14353,
    "start_time": "2021-08-18T09:23:25.901Z"
   },
   {
    "duration": 1609,
    "start_time": "2021-08-18T09:23:40.256Z"
   },
   {
    "duration": 9,
    "start_time": "2021-08-18T09:23:41.868Z"
   },
   {
    "duration": 21653,
    "start_time": "2021-08-18T09:23:41.880Z"
   },
   {
    "duration": 55109,
    "start_time": "2021-08-18T09:24:03.536Z"
   },
   {
    "duration": 1563,
    "start_time": "2021-08-18T09:24:58.648Z"
   },
   {
    "duration": 53,
    "start_time": "2021-08-18T09:25:00.213Z"
   },
   {
    "duration": 35,
    "start_time": "2021-08-18T09:25:00.269Z"
   },
   {
    "duration": 17,
    "start_time": "2021-08-18T09:25:00.306Z"
   },
   {
    "duration": 10,
    "start_time": "2021-08-18T09:28:23.832Z"
   },
   {
    "duration": 12,
    "start_time": "2021-08-18T09:28:25.728Z"
   },
   {
    "duration": 10,
    "start_time": "2021-08-18T09:28:36.878Z"
   },
   {
    "duration": 1557,
    "start_time": "2021-08-18T09:31:15.475Z"
   },
   {
    "duration": 52,
    "start_time": "2021-08-18T09:31:17.036Z"
   },
   {
    "duration": 467,
    "start_time": "2021-08-18T09:31:17.092Z"
   },
   {
    "duration": 14480,
    "start_time": "2021-08-18T09:31:17.563Z"
   },
   {
    "duration": 1392,
    "start_time": "2021-08-18T09:31:32.045Z"
   },
   {
    "duration": 23,
    "start_time": "2021-08-18T09:31:33.440Z"
   },
   {
    "duration": 21676,
    "start_time": "2021-08-18T09:31:33.465Z"
   },
   {
    "duration": 54053,
    "start_time": "2021-08-18T09:31:55.144Z"
   },
   {
    "duration": 1638,
    "start_time": "2021-08-18T09:32:49.200Z"
   },
   {
    "duration": 42,
    "start_time": "2021-08-18T09:32:50.840Z"
   },
   {
    "duration": 33,
    "start_time": "2021-08-18T09:32:50.884Z"
   },
   {
    "duration": 9,
    "start_time": "2021-08-18T09:32:50.919Z"
   },
   {
    "duration": 19,
    "start_time": "2021-08-18T09:35:55.211Z"
   },
   {
    "duration": 18,
    "start_time": "2021-08-18T09:36:44.141Z"
   },
   {
    "duration": 18,
    "start_time": "2021-08-18T09:37:10.013Z"
   },
   {
    "duration": 17,
    "start_time": "2021-08-18T09:37:19.302Z"
   },
   {
    "duration": 22,
    "start_time": "2021-08-18T09:37:23.305Z"
   },
   {
    "duration": 18,
    "start_time": "2021-08-18T09:37:30.145Z"
   },
   {
    "duration": 17,
    "start_time": "2021-08-18T09:38:04.437Z"
   },
   {
    "duration": 19,
    "start_time": "2021-08-18T09:38:30.815Z"
   },
   {
    "duration": 18,
    "start_time": "2021-08-18T09:38:36.094Z"
   },
   {
    "duration": 19,
    "start_time": "2021-08-18T09:39:00.565Z"
   },
   {
    "duration": 18,
    "start_time": "2021-08-18T09:39:22.637Z"
   },
   {
    "duration": 20,
    "start_time": "2021-08-18T09:41:29.470Z"
   },
   {
    "duration": 17,
    "start_time": "2021-08-18T09:41:38.954Z"
   },
   {
    "duration": 16,
    "start_time": "2021-08-18T09:41:43.078Z"
   },
   {
    "duration": 17,
    "start_time": "2021-08-18T09:41:46.051Z"
   },
   {
    "duration": 18,
    "start_time": "2021-08-18T09:41:52.134Z"
   },
   {
    "duration": 18,
    "start_time": "2021-08-18T09:41:57.432Z"
   },
   {
    "duration": 18,
    "start_time": "2021-08-18T09:42:02.643Z"
   },
   {
    "duration": 17,
    "start_time": "2021-08-18T09:42:07.462Z"
   },
   {
    "duration": 19,
    "start_time": "2021-08-18T09:42:10.114Z"
   },
   {
    "duration": 18,
    "start_time": "2021-08-18T09:42:15.037Z"
   },
   {
    "duration": 18,
    "start_time": "2021-08-18T09:42:17.939Z"
   },
   {
    "duration": 20,
    "start_time": "2021-08-18T09:42:21.320Z"
   },
   {
    "duration": 19,
    "start_time": "2021-08-18T09:42:33.499Z"
   },
   {
    "duration": 17,
    "start_time": "2021-08-18T09:42:41.589Z"
   },
   {
    "duration": 18,
    "start_time": "2021-08-18T09:42:57.601Z"
   },
   {
    "duration": 19,
    "start_time": "2021-08-18T09:43:02.342Z"
   },
   {
    "duration": 19,
    "start_time": "2021-08-18T09:44:03.809Z"
   },
   {
    "duration": 1337,
    "start_time": "2021-08-19T08:34:50.189Z"
   },
   {
    "duration": 28,
    "start_time": "2021-08-19T08:34:51.529Z"
   },
   {
    "duration": 281,
    "start_time": "2021-08-19T08:34:51.559Z"
   },
   {
    "duration": 9138,
    "start_time": "2021-08-19T08:34:51.842Z"
   },
   {
    "duration": 777,
    "start_time": "2021-08-19T08:35:00.982Z"
   },
   {
    "duration": 7,
    "start_time": "2021-08-19T08:35:01.761Z"
   },
   {
    "duration": 13205,
    "start_time": "2021-08-19T08:35:01.770Z"
   },
   {
    "duration": 33942,
    "start_time": "2021-08-19T08:35:14.977Z"
   },
   {
    "duration": 844,
    "start_time": "2021-08-19T08:35:48.922Z"
   },
   {
    "duration": 7,
    "start_time": "2021-08-19T08:35:49.768Z"
   },
   {
    "duration": 1182,
    "start_time": "2021-08-19T08:41:56.147Z"
   },
   {
    "duration": 28,
    "start_time": "2021-08-19T08:41:57.331Z"
   },
   {
    "duration": 296,
    "start_time": "2021-08-19T08:41:57.361Z"
   },
   {
    "duration": 9018,
    "start_time": "2021-08-19T08:41:57.658Z"
   },
   {
    "duration": 919,
    "start_time": "2021-08-19T08:42:06.678Z"
   },
   {
    "duration": 8,
    "start_time": "2021-08-19T08:42:07.599Z"
   },
   {
    "duration": 13794,
    "start_time": "2021-08-19T08:42:07.609Z"
   },
   {
    "duration": 35210,
    "start_time": "2021-08-19T08:42:21.405Z"
   },
   {
    "duration": 833,
    "start_time": "2021-08-19T08:42:56.616Z"
   },
   {
    "duration": 5,
    "start_time": "2021-08-19T08:42:57.451Z"
   },
   {
    "duration": 805,
    "start_time": "2021-08-19T08:57:04.630Z"
   },
   {
    "duration": 985,
    "start_time": "2021-08-19T08:57:25.047Z"
   },
   {
    "duration": 1101,
    "start_time": "2021-08-19T08:57:47.951Z"
   },
   {
    "duration": 1516,
    "start_time": "2021-08-27T08:13:18.626Z"
   },
   {
    "duration": 55,
    "start_time": "2021-08-27T08:13:20.145Z"
   },
   {
    "duration": 403,
    "start_time": "2021-08-27T08:13:20.203Z"
   },
   {
    "duration": 14851,
    "start_time": "2021-08-27T08:13:20.609Z"
   },
   {
    "duration": 1864,
    "start_time": "2021-08-27T08:13:35.463Z"
   },
   {
    "duration": 11,
    "start_time": "2021-08-27T08:13:37.330Z"
   },
   {
    "duration": 20892,
    "start_time": "2021-08-27T08:13:37.343Z"
   },
   {
    "duration": 52113,
    "start_time": "2021-08-27T08:13:58.238Z"
   },
   {
    "duration": 463,
    "start_time": "2021-08-27T08:15:57.681Z"
   },
   {
    "duration": 257,
    "start_time": "2021-08-27T08:20:56.487Z"
   },
   {
    "duration": 55889,
    "start_time": "2021-08-27T08:21:56.459Z"
   },
   {
    "duration": 276,
    "start_time": "2021-08-27T08:23:32.495Z"
   },
   {
    "duration": 33,
    "start_time": "2021-08-27T08:23:46.182Z"
   },
   {
    "duration": 74,
    "start_time": "2021-08-27T08:23:46.218Z"
   },
   {
    "duration": 415,
    "start_time": "2021-08-27T08:23:46.296Z"
   },
   {
    "duration": 15824,
    "start_time": "2021-08-27T08:23:46.713Z"
   },
   {
    "duration": 1658,
    "start_time": "2021-08-27T08:24:02.540Z"
   },
   {
    "duration": 11,
    "start_time": "2021-08-27T08:24:04.201Z"
   },
   {
    "duration": 22386,
    "start_time": "2021-08-27T08:24:04.216Z"
   },
   {
    "duration": 55067,
    "start_time": "2021-08-27T08:24:26.605Z"
   },
   {
    "duration": 55858,
    "start_time": "2021-08-27T08:25:21.674Z"
   },
   {
    "duration": 55531,
    "start_time": "2021-08-27T08:26:17.535Z"
   },
   {
    "duration": 1652,
    "start_time": "2021-08-27T08:28:17.017Z"
   },
   {
    "duration": 1628,
    "start_time": "2021-08-27T08:39:25.986Z"
   },
   {
    "duration": 2556,
    "start_time": "2021-08-27T08:39:34.267Z"
   },
   {
    "duration": 32,
    "start_time": "2021-08-27T08:53:29.811Z"
   },
   {
    "duration": 44,
    "start_time": "2021-08-27T08:53:29.846Z"
   },
   {
    "duration": 404,
    "start_time": "2021-08-27T08:53:29.893Z"
   },
   {
    "duration": 13957,
    "start_time": "2021-08-27T08:53:30.301Z"
   },
   {
    "duration": 1570,
    "start_time": "2021-08-27T08:53:44.260Z"
   },
   {
    "duration": 10,
    "start_time": "2021-08-27T08:53:45.833Z"
   },
   {
    "duration": 21074,
    "start_time": "2021-08-27T08:53:45.846Z"
   },
   {
    "duration": 27760,
    "start_time": "2021-08-27T08:54:06.923Z"
   },
   {
    "duration": 26589,
    "start_time": "2021-08-27T08:54:34.686Z"
   },
   {
    "duration": 53669,
    "start_time": "2021-08-27T08:55:01.277Z"
   },
   {
    "duration": 53110,
    "start_time": "2021-08-27T08:55:54.948Z"
   },
   {
    "duration": 1811,
    "start_time": "2021-08-27T08:56:48.061Z"
   },
   {
    "duration": 1792,
    "start_time": "2021-08-27T08:56:49.875Z"
   },
   {
    "duration": 282,
    "start_time": "2021-08-27T09:06:21.419Z"
   },
   {
    "duration": 6264,
    "start_time": "2021-08-27T09:06:33.534Z"
   },
   {
    "duration": 8288,
    "start_time": "2021-08-27T09:10:20.122Z"
   },
   {
    "duration": 7740,
    "start_time": "2021-08-27T09:12:50.915Z"
   },
   {
    "duration": 13,
    "start_time": "2021-08-27T09:34:57.315Z"
   },
   {
    "duration": 15,
    "start_time": "2021-08-27T09:35:32.091Z"
   },
   {
    "duration": 13,
    "start_time": "2021-08-27T09:35:43.810Z"
   },
   {
    "duration": 1438,
    "start_time": "2021-08-27T09:38:59.318Z"
   },
   {
    "duration": 48,
    "start_time": "2021-08-27T09:39:00.759Z"
   },
   {
    "duration": 443,
    "start_time": "2021-08-27T09:39:00.812Z"
   },
   {
    "duration": 14134,
    "start_time": "2021-08-27T09:39:01.259Z"
   },
   {
    "duration": 1590,
    "start_time": "2021-08-27T09:39:15.395Z"
   },
   {
    "duration": 11,
    "start_time": "2021-08-27T09:39:16.988Z"
   },
   {
    "duration": 20650,
    "start_time": "2021-08-27T09:39:17.002Z"
   },
   {
    "duration": 51647,
    "start_time": "2021-08-27T09:39:37.656Z"
   },
   {
    "duration": 2583,
    "start_time": "2021-08-27T09:40:29.306Z"
   },
   {
    "duration": 2774,
    "start_time": "2021-08-27T09:40:31.891Z"
   },
   {
    "duration": 6478,
    "start_time": "2021-08-27T09:40:34.668Z"
   },
   {
    "duration": 7509,
    "start_time": "2021-08-27T09:40:41.148Z"
   },
   {
    "duration": 22,
    "start_time": "2021-08-27T09:40:48.659Z"
   },
   {
    "duration": 8,
    "start_time": "2021-08-27T09:40:48.683Z"
   },
   {
    "duration": 1594,
    "start_time": "2021-08-27T10:02:29.181Z"
   },
   {
    "duration": 46,
    "start_time": "2021-08-27T10:02:30.777Z"
   },
   {
    "duration": 457,
    "start_time": "2021-08-27T10:02:30.826Z"
   },
   {
    "duration": 14388,
    "start_time": "2021-08-27T10:02:31.286Z"
   },
   {
    "duration": 1686,
    "start_time": "2021-08-27T10:02:45.676Z"
   },
   {
    "duration": 22,
    "start_time": "2021-08-27T10:02:47.366Z"
   },
   {
    "duration": 45660,
    "start_time": "2021-08-27T10:02:47.391Z"
   },
   {
    "duration": 115423,
    "start_time": "2021-08-27T10:03:33.055Z"
   },
   {
    "duration": 4836,
    "start_time": "2021-08-27T10:05:28.483Z"
   },
   {
    "duration": 4946,
    "start_time": "2021-08-27T10:05:33.321Z"
   },
   {
    "duration": 8544,
    "start_time": "2021-08-27T10:05:38.270Z"
   },
   {
    "duration": 10123,
    "start_time": "2021-08-27T10:05:46.817Z"
   },
   {
    "duration": 14,
    "start_time": "2021-08-27T10:05:56.942Z"
   },
   {
    "duration": 27,
    "start_time": "2021-08-27T10:05:56.958Z"
   },
   {
    "duration": 1631,
    "start_time": "2021-08-27T10:11:56.908Z"
   },
   {
    "duration": 54,
    "start_time": "2021-08-27T10:11:58.542Z"
   },
   {
    "duration": 426,
    "start_time": "2021-08-27T10:11:58.598Z"
   },
   {
    "duration": 13784,
    "start_time": "2021-08-27T10:11:59.027Z"
   },
   {
    "duration": 1586,
    "start_time": "2021-08-27T10:12:12.813Z"
   },
   {
    "duration": 10,
    "start_time": "2021-08-27T10:12:14.401Z"
   },
   {
    "duration": 20484,
    "start_time": "2021-08-27T10:12:14.414Z"
   },
   {
    "duration": 51945,
    "start_time": "2021-08-27T10:12:34.901Z"
   },
   {
    "duration": 2385,
    "start_time": "2021-08-27T10:13:26.849Z"
   },
   {
    "duration": 2793,
    "start_time": "2021-08-27T10:13:29.237Z"
   },
   {
    "duration": 7195,
    "start_time": "2021-08-27T10:13:32.032Z"
   },
   {
    "duration": 8760,
    "start_time": "2021-08-27T10:13:39.230Z"
   },
   {
    "duration": 14,
    "start_time": "2021-08-27T10:13:47.993Z"
   },
   {
    "duration": 15,
    "start_time": "2021-08-27T10:13:48.009Z"
   },
   {
    "duration": 10,
    "start_time": "2021-08-27T10:15:17.305Z"
   },
   {
    "duration": 11,
    "start_time": "2021-08-27T10:16:00.043Z"
   },
   {
    "duration": 11,
    "start_time": "2021-08-27T10:16:29.978Z"
   },
   {
    "duration": 11,
    "start_time": "2021-08-27T10:16:44.975Z"
   },
   {
    "duration": 307,
    "start_time": "2021-08-27T10:23:42.926Z"
   },
   {
    "duration": 1505,
    "start_time": "2021-08-27T10:26:13.843Z"
   },
   {
    "duration": 47,
    "start_time": "2021-08-27T10:26:15.352Z"
   },
   {
    "duration": 389,
    "start_time": "2021-08-27T10:26:15.402Z"
   },
   {
    "duration": 13712,
    "start_time": "2021-08-27T10:26:15.795Z"
   },
   {
    "duration": 1531,
    "start_time": "2021-08-27T10:26:29.510Z"
   },
   {
    "duration": 15,
    "start_time": "2021-08-27T10:26:31.043Z"
   },
   {
    "duration": 44132,
    "start_time": "2021-08-27T10:26:31.060Z"
   },
   {
    "duration": 115785,
    "start_time": "2021-08-27T10:27:15.198Z"
   },
   {
    "duration": 4496,
    "start_time": "2021-08-27T10:29:10.986Z"
   },
   {
    "duration": 4814,
    "start_time": "2021-08-27T10:29:15.485Z"
   },
   {
    "duration": 7696,
    "start_time": "2021-08-27T10:29:20.301Z"
   },
   {
    "duration": 9859,
    "start_time": "2021-08-27T10:29:27.999Z"
   },
   {
    "duration": 24,
    "start_time": "2021-08-27T10:29:37.860Z"
   },
   {
    "duration": 11,
    "start_time": "2021-08-27T10:29:37.887Z"
   },
   {
    "duration": 9,
    "start_time": "2021-08-27T10:29:37.900Z"
   },
   {
    "duration": 626,
    "start_time": "2021-08-27T10:29:45.343Z"
   },
   {
    "duration": 1522,
    "start_time": "2021-08-27T10:38:01.504Z"
   },
   {
    "duration": 57,
    "start_time": "2021-08-27T10:38:03.028Z"
   },
   {
    "duration": 388,
    "start_time": "2021-08-27T10:38:03.088Z"
   },
   {
    "duration": 14245,
    "start_time": "2021-08-27T10:38:03.483Z"
   },
   {
    "duration": 1655,
    "start_time": "2021-08-27T10:38:17.731Z"
   },
   {
    "duration": 11,
    "start_time": "2021-08-27T10:38:19.388Z"
   },
   {
    "duration": 42949,
    "start_time": "2021-08-27T10:38:19.401Z"
   },
   {
    "duration": 110444,
    "start_time": "2021-08-27T10:39:02.354Z"
   },
   {
    "duration": 4481,
    "start_time": "2021-08-27T10:40:52.801Z"
   },
   {
    "duration": 4998,
    "start_time": "2021-08-27T10:40:57.284Z"
   },
   {
    "duration": 8155,
    "start_time": "2021-08-27T10:41:02.284Z"
   },
   {
    "duration": 9775,
    "start_time": "2021-08-27T10:41:10.441Z"
   },
   {
    "duration": 13,
    "start_time": "2021-08-27T10:41:20.219Z"
   },
   {
    "duration": 115,
    "start_time": "2021-08-27T10:41:20.235Z"
   },
   {
    "duration": 8,
    "start_time": "2021-08-27T10:41:20.352Z"
   },
   {
    "duration": 1632,
    "start_time": "2021-08-29T10:00:58.717Z"
   },
   {
    "duration": 44,
    "start_time": "2021-08-29T10:01:00.352Z"
   },
   {
    "duration": 537,
    "start_time": "2021-08-29T10:01:00.399Z"
   },
   {
    "duration": 1711,
    "start_time": "2021-08-29T10:01:13.974Z"
   },
   {
    "duration": 77,
    "start_time": "2021-08-29T10:01:15.688Z"
   },
   {
    "duration": 528,
    "start_time": "2021-08-29T10:01:15.768Z"
   },
   {
    "duration": 13795,
    "start_time": "2021-08-29T10:01:16.299Z"
   },
   {
    "duration": 2000,
    "start_time": "2021-08-29T10:01:30.096Z"
   },
   {
    "duration": 16,
    "start_time": "2021-08-29T10:01:32.099Z"
   },
   {
    "duration": 48488,
    "start_time": "2021-08-29T10:01:32.118Z"
   },
   {
    "duration": 121898,
    "start_time": "2021-08-29T10:02:20.609Z"
   },
   {
    "duration": 5531,
    "start_time": "2021-08-29T10:04:22.510Z"
   },
   {
    "duration": 5464,
    "start_time": "2021-08-29T10:04:28.043Z"
   },
   {
    "duration": 9410,
    "start_time": "2021-08-29T10:04:33.509Z"
   },
   {
    "duration": 10661,
    "start_time": "2021-08-29T10:04:42.921Z"
   },
   {
    "duration": 13,
    "start_time": "2021-08-29T10:04:53.585Z"
   },
   {
    "duration": 12,
    "start_time": "2021-08-29T10:04:53.600Z"
   },
   {
    "duration": 1599,
    "start_time": "2021-08-29T10:07:17.729Z"
   },
   {
    "duration": 66,
    "start_time": "2021-08-29T10:07:19.331Z"
   },
   {
    "duration": 578,
    "start_time": "2021-08-29T10:07:19.401Z"
   },
   {
    "duration": 13904,
    "start_time": "2021-08-29T10:07:19.982Z"
   },
   {
    "duration": 1720,
    "start_time": "2021-08-29T10:07:33.888Z"
   },
   {
    "duration": 11,
    "start_time": "2021-08-29T10:07:35.610Z"
   },
   {
    "duration": 49439,
    "start_time": "2021-08-29T10:07:35.623Z"
   },
   {
    "duration": 128512,
    "start_time": "2021-08-29T10:08:25.066Z"
   },
   {
    "duration": 5583,
    "start_time": "2021-08-29T10:10:33.580Z"
   },
   {
    "duration": 7036,
    "start_time": "2021-08-29T10:10:39.167Z"
   },
   {
    "duration": 9797,
    "start_time": "2021-08-29T10:10:46.207Z"
   },
   {
    "duration": 10068,
    "start_time": "2021-08-29T10:10:56.007Z"
   },
   {
    "duration": 19,
    "start_time": "2021-08-29T10:11:06.078Z"
   },
   {
    "duration": 37,
    "start_time": "2021-08-29T10:11:06.100Z"
   },
   {
    "duration": 1655,
    "start_time": "2021-08-30T09:19:29.265Z"
   },
   {
    "duration": 48,
    "start_time": "2021-08-30T09:19:30.924Z"
   },
   {
    "duration": 561,
    "start_time": "2021-08-30T09:19:30.975Z"
   },
   {
    "duration": 16185,
    "start_time": "2021-08-30T09:19:31.539Z"
   },
   {
    "duration": 1864,
    "start_time": "2021-08-30T09:19:47.727Z"
   },
   {
    "duration": 24,
    "start_time": "2021-08-30T09:19:49.594Z"
   },
   {
    "duration": 11177,
    "start_time": "2021-08-30T09:21:27.438Z"
   },
   {
    "duration": 10322,
    "start_time": "2021-08-30T09:21:55.730Z"
   },
   {
    "duration": 39,
    "start_time": "2021-08-30T09:23:14.703Z"
   },
   {
    "duration": 45,
    "start_time": "2021-08-30T09:23:14.745Z"
   },
   {
    "duration": 493,
    "start_time": "2021-08-30T09:23:14.816Z"
   },
   {
    "duration": 14551,
    "start_time": "2021-08-30T09:23:15.311Z"
   },
   {
    "duration": 1784,
    "start_time": "2021-08-30T09:23:29.865Z"
   },
   {
    "duration": 11,
    "start_time": "2021-08-30T09:23:31.651Z"
   },
   {
    "duration": 10254,
    "start_time": "2021-08-30T09:23:38.958Z"
   },
   {
    "duration": 1755,
    "start_time": "2021-08-30T17:59:12.437Z"
   },
   {
    "duration": 11,
    "start_time": "2021-08-30T17:59:30.818Z"
   },
   {
    "duration": 15,
    "start_time": "2021-08-30T17:59:40.243Z"
   },
   {
    "duration": 1625,
    "start_time": "2021-09-01T21:00:59.018Z"
   },
   {
    "duration": 10,
    "start_time": "2021-09-01T21:01:00.646Z"
   },
   {
    "duration": 80,
    "start_time": "2021-09-01T21:01:00.659Z"
   },
   {
    "duration": 506,
    "start_time": "2021-09-01T21:01:00.741Z"
   },
   {
    "duration": 14249,
    "start_time": "2021-09-01T21:01:01.254Z"
   },
   {
    "duration": 1714,
    "start_time": "2021-09-01T21:01:15.505Z"
   },
   {
    "duration": 11,
    "start_time": "2021-09-01T21:01:17.222Z"
   },
   {
    "duration": 46541,
    "start_time": "2021-09-01T21:01:17.237Z"
   },
   {
    "duration": 117674,
    "start_time": "2021-09-01T21:02:03.781Z"
   },
   {
    "duration": 5188,
    "start_time": "2021-09-01T21:04:01.458Z"
   },
   {
    "duration": 5484,
    "start_time": "2021-09-01T21:04:06.649Z"
   },
   {
    "duration": 8459,
    "start_time": "2021-09-01T21:04:12.135Z"
   },
   {
    "duration": 10473,
    "start_time": "2021-09-01T21:04:20.597Z"
   },
   {
    "duration": 13,
    "start_time": "2021-09-01T21:04:31.072Z"
   },
   {
    "duration": 35,
    "start_time": "2021-09-01T21:04:31.087Z"
   }
  ],
  "kernelspec": {
   "display_name": "Python 3",
   "language": "python",
   "name": "python3"
  },
  "language_info": {
   "codemirror_mode": {
    "name": "ipython",
    "version": 3
   },
   "file_extension": ".py",
   "mimetype": "text/x-python",
   "name": "python",
   "nbconvert_exporter": "python",
   "pygments_lexer": "ipython3",
   "version": "3.7.8"
  },
  "toc": {
   "base_numbering": 1,
   "nav_menu": {},
   "number_sections": true,
   "sideBar": true,
   "skip_h1_title": true,
   "title_cell": "Содержание",
   "title_sidebar": "Contents",
   "toc_cell": true,
   "toc_position": {},
   "toc_section_display": true,
   "toc_window_display": true
  }
 },
 "nbformat": 4,
 "nbformat_minor": 2
}
