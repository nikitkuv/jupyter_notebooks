{
 "cells": [
  {
   "cell_type": "markdown",
   "metadata": {
    "toc": true
   },
   "source": [
    "<h1>Содержание<span class=\"tocSkip\"></span></h1>\n",
    "<div class=\"toc\"><ul class=\"toc-item\"><li><span><a href=\"#Подготовка-данных\" data-toc-modified-id=\"Подготовка-данных-1\"><span class=\"toc-item-num\">1&nbsp;&nbsp;</span>Подготовка данных</a></span><ul class=\"toc-item\"><li><span><a href=\"#Загрузка-и-первичный-просмотр-данных\" data-toc-modified-id=\"Загрузка-и-первичный-просмотр-данных-1.1\"><span class=\"toc-item-num\">1.1&nbsp;&nbsp;</span>Загрузка и первичный просмотр данных</a></span></li><li><span><a href=\"#Предобработка-данных\" data-toc-modified-id=\"Предобработка-данных-1.2\"><span class=\"toc-item-num\">1.2&nbsp;&nbsp;</span>Предобработка данных</a></span><ul class=\"toc-item\"><li><span><a href=\"#Обработка-ошибочных-значений\" data-toc-modified-id=\"Обработка-ошибочных-значений-1.2.1\"><span class=\"toc-item-num\">1.2.1&nbsp;&nbsp;</span>Обработка ошибочных значений</a></span></li><li><span><a href=\"#Обработка-пропущенных-значений\" data-toc-modified-id=\"Обработка-пропущенных-значений-1.2.2\"><span class=\"toc-item-num\">1.2.2&nbsp;&nbsp;</span>Обработка пропущенных значений</a></span></li></ul></li><li><span><a href=\"#Преобразование-типов\" data-toc-modified-id=\"Преобразование-типов-1.3\"><span class=\"toc-item-num\">1.3&nbsp;&nbsp;</span>Преобразование типов</a></span></li><li><span><a href=\"#Исследовательский-анализ-данных\" data-toc-modified-id=\"Исследовательский-анализ-данных-1.4\"><span class=\"toc-item-num\">1.4&nbsp;&nbsp;</span>Исследовательский анализ данных</a></span></li><li><span><a href=\"#Подготовка-признаков\" data-toc-modified-id=\"Подготовка-признаков-1.5\"><span class=\"toc-item-num\">1.5&nbsp;&nbsp;</span>Подготовка признаков</a></span></li><li><span><a href=\"#Создание-обучающей-и-тестовой-выборок\" data-toc-modified-id=\"Создание-обучающей-и-тестовой-выборок-1.6\"><span class=\"toc-item-num\">1.6&nbsp;&nbsp;</span>Создание обучающей и тестовой выборок</a></span></li></ul></li><li><span><a href=\"#Обучение-моделей\" data-toc-modified-id=\"Обучение-моделей-2\"><span class=\"toc-item-num\">2&nbsp;&nbsp;</span>Обучение моделей</a></span><ul class=\"toc-item\"><li><span><a href=\"#LinearRegression\" data-toc-modified-id=\"LinearRegression-2.1\"><span class=\"toc-item-num\">2.1&nbsp;&nbsp;</span>LinearRegression</a></span></li><li><span><a href=\"#ElasticNet\" data-toc-modified-id=\"ElasticNet-2.2\"><span class=\"toc-item-num\">2.2&nbsp;&nbsp;</span>ElasticNet</a></span></li><li><span><a href=\"#RandomForestRegressor\" data-toc-modified-id=\"RandomForestRegressor-2.3\"><span class=\"toc-item-num\">2.3&nbsp;&nbsp;</span>RandomForestRegressor</a></span></li><li><span><a href=\"#LightGBM-Regressor\" data-toc-modified-id=\"LightGBM-Regressor-2.4\"><span class=\"toc-item-num\">2.4&nbsp;&nbsp;</span>LightGBM Regressor</a></span></li><li><span><a href=\"#DummyRegressor\" data-toc-modified-id=\"DummyRegressor-2.5\"><span class=\"toc-item-num\">2.5&nbsp;&nbsp;</span>DummyRegressor</a></span></li></ul></li><li><span><a href=\"#Анализ-моделей\" data-toc-modified-id=\"Анализ-моделей-3\"><span class=\"toc-item-num\">3&nbsp;&nbsp;</span>Анализ моделей</a></span></li></ul></div>"
   ]
  },
  {
   "cell_type": "markdown",
   "metadata": {},
   "source": [
    "# Определение стоимости автомобилей"
   ]
  },
  {
   "cell_type": "markdown",
   "metadata": {},
   "source": [
    "Предоставлены исторические данные о продажах автомобилей с пробегом: технические характеристики, комплектации и цены автомобилей. \n",
    "\n",
    "**Цель**: Нужно построить модель для определения стоимости автомобиля.\n",
    "\n",
    "**Целевой признак**: Price — цена (евро)\n",
    "\n",
    "Заказчику важны:\n",
    "\n",
    "- качество предсказания;\n",
    "- скорость предсказания;\n",
    "- время обучения."
   ]
  },
  {
   "cell_type": "markdown",
   "metadata": {},
   "source": [
    "# Описание данных"
   ]
  },
  {
   "cell_type": "markdown",
   "metadata": {},
   "source": [
    "- DateCrawled — дата скачивания анкеты из базы\n",
    "- VehicleType — тип автомобильного кузова\n",
    "- RegistrationYear — год регистрации автомобиля\n",
    "- Gearbox — тип коробки передач\n",
    "- Power — мощность (л. с.)\n",
    "- Model — модель автомобиля\n",
    "- Kilometer — пробег (км)\n",
    "- RegistrationMonth — месяц регистрации автомобиля\n",
    "- FuelType — тип топлива\n",
    "- Brand — марка автомобиля\n",
    "- NotRepaired — была машина в ремонте или нет\n",
    "- DateCreated — дата создания анкеты\n",
    "- NumberOfPictures — количество фотографий автомобиля\n",
    "- PostalCode — почтовый индекс владельца анкеты (пользователя)\n",
    "- LastSeen — дата последней активности пользователя\n",
    "- Price — цена (евро)"
   ]
  },
  {
   "cell_type": "markdown",
   "metadata": {},
   "source": [
    "## Подготовка данных"
   ]
  },
  {
   "cell_type": "markdown",
   "metadata": {},
   "source": [
    "### Загрузка и первичный просмотр данных"
   ]
  },
  {
   "cell_type": "code",
   "execution_count": 1,
   "metadata": {},
   "outputs": [],
   "source": [
    "import pandas as pd\n",
    "import numpy as np\n",
    "import matplotlib.pyplot as plt\n",
    "import seaborn as sns\n",
    "import warnings\n",
    "import lightgbm as lgb\n",
    "\n",
    "from sklearn.tree import DecisionTreeRegressor\n",
    "from sklearn.ensemble import RandomForestRegressor, GradientBoostingRegressor\n",
    "from sklearn.linear_model import LinearRegression, ElasticNet, LassoCV\n",
    "\n",
    "from sklearn.metrics import mean_squared_error, r2_score\n",
    "from sklearn.preprocessing import StandardScaler, OrdinalEncoder\n",
    "from sklearn.pipeline import Pipeline\n",
    "from sklearn.model_selection import RandomizedSearchCV, GridSearchCV, train_test_split, cross_validate\n",
    "from sklearn.dummy import DummyRegressor\n",
    "from sklearn.feature_selection import RFE"
   ]
  },
  {
   "cell_type": "code",
   "execution_count": 2,
   "metadata": {},
   "outputs": [],
   "source": [
    "warnings.filterwarnings('ignore')\n",
    "sns.set_style('whitegrid')\n",
    "pd.set_option('display.float_format', '{:.3f}'.format)\n",
    "pd.set_option('display.max_rows', 40)"
   ]
  },
  {
   "cell_type": "code",
   "execution_count": 3,
   "metadata": {},
   "outputs": [],
   "source": [
    "autos = pd.read_csv('/datasets/autos.csv')"
   ]
  },
  {
   "cell_type": "code",
   "execution_count": 4,
   "metadata": {},
   "outputs": [
    {
     "data": {
      "text/html": [
       "<div>\n",
       "<style scoped>\n",
       "    .dataframe tbody tr th:only-of-type {\n",
       "        vertical-align: middle;\n",
       "    }\n",
       "\n",
       "    .dataframe tbody tr th {\n",
       "        vertical-align: top;\n",
       "    }\n",
       "\n",
       "    .dataframe thead th {\n",
       "        text-align: right;\n",
       "    }\n",
       "</style>\n",
       "<table border=\"1\" class=\"dataframe\">\n",
       "  <thead>\n",
       "    <tr style=\"text-align: right;\">\n",
       "      <th></th>\n",
       "      <th>DateCrawled</th>\n",
       "      <th>Price</th>\n",
       "      <th>VehicleType</th>\n",
       "      <th>RegistrationYear</th>\n",
       "      <th>Gearbox</th>\n",
       "      <th>Power</th>\n",
       "      <th>Model</th>\n",
       "      <th>Kilometer</th>\n",
       "      <th>RegistrationMonth</th>\n",
       "      <th>FuelType</th>\n",
       "      <th>Brand</th>\n",
       "      <th>NotRepaired</th>\n",
       "      <th>DateCreated</th>\n",
       "      <th>NumberOfPictures</th>\n",
       "      <th>PostalCode</th>\n",
       "      <th>LastSeen</th>\n",
       "    </tr>\n",
       "  </thead>\n",
       "  <tbody>\n",
       "    <tr>\n",
       "      <td>0</td>\n",
       "      <td>2016-03-24 11:52:17</td>\n",
       "      <td>480</td>\n",
       "      <td>NaN</td>\n",
       "      <td>1993</td>\n",
       "      <td>manual</td>\n",
       "      <td>0</td>\n",
       "      <td>golf</td>\n",
       "      <td>150000</td>\n",
       "      <td>0</td>\n",
       "      <td>petrol</td>\n",
       "      <td>volkswagen</td>\n",
       "      <td>NaN</td>\n",
       "      <td>2016-03-24 00:00:00</td>\n",
       "      <td>0</td>\n",
       "      <td>70435</td>\n",
       "      <td>2016-04-07 03:16:57</td>\n",
       "    </tr>\n",
       "  </tbody>\n",
       "</table>\n",
       "</div>"
      ],
      "text/plain": [
       "           DateCrawled  Price VehicleType  RegistrationYear Gearbox  Power  \\\n",
       "0  2016-03-24 11:52:17    480         NaN              1993  manual      0   \n",
       "\n",
       "  Model  Kilometer  RegistrationMonth FuelType       Brand NotRepaired  \\\n",
       "0  golf     150000                  0   petrol  volkswagen         NaN   \n",
       "\n",
       "           DateCreated  NumberOfPictures  PostalCode             LastSeen  \n",
       "0  2016-03-24 00:00:00                 0       70435  2016-04-07 03:16:57  "
      ]
     },
     "execution_count": 4,
     "metadata": {},
     "output_type": "execute_result"
    }
   ],
   "source": [
    "autos.head(1)"
   ]
  },
  {
   "cell_type": "code",
   "execution_count": 5,
   "metadata": {},
   "outputs": [
    {
     "name": "stdout",
     "output_type": "stream",
     "text": [
      "<class 'pandas.core.frame.DataFrame'>\n",
      "RangeIndex: 354369 entries, 0 to 354368\n",
      "Data columns (total 16 columns):\n",
      "DateCrawled          354369 non-null object\n",
      "Price                354369 non-null int64\n",
      "VehicleType          316879 non-null object\n",
      "RegistrationYear     354369 non-null int64\n",
      "Gearbox              334536 non-null object\n",
      "Power                354369 non-null int64\n",
      "Model                334664 non-null object\n",
      "Kilometer            354369 non-null int64\n",
      "RegistrationMonth    354369 non-null int64\n",
      "FuelType             321474 non-null object\n",
      "Brand                354369 non-null object\n",
      "NotRepaired          283215 non-null object\n",
      "DateCreated          354369 non-null object\n",
      "NumberOfPictures     354369 non-null int64\n",
      "PostalCode           354369 non-null int64\n",
      "LastSeen             354369 non-null object\n",
      "dtypes: int64(7), object(9)\n",
      "memory usage: 43.3+ MB\n"
     ]
    }
   ],
   "source": [
    "autos.info()"
   ]
  },
  {
   "cell_type": "code",
   "execution_count": 6,
   "metadata": {},
   "outputs": [
    {
     "data": {
      "text/html": [
       "<div>\n",
       "<style scoped>\n",
       "    .dataframe tbody tr th:only-of-type {\n",
       "        vertical-align: middle;\n",
       "    }\n",
       "\n",
       "    .dataframe tbody tr th {\n",
       "        vertical-align: top;\n",
       "    }\n",
       "\n",
       "    .dataframe thead th {\n",
       "        text-align: right;\n",
       "    }\n",
       "</style>\n",
       "<table border=\"1\" class=\"dataframe\">\n",
       "  <thead>\n",
       "    <tr style=\"text-align: right;\">\n",
       "      <th></th>\n",
       "      <th>Price</th>\n",
       "      <th>RegistrationYear</th>\n",
       "      <th>Power</th>\n",
       "      <th>Kilometer</th>\n",
       "      <th>RegistrationMonth</th>\n",
       "      <th>NumberOfPictures</th>\n",
       "      <th>PostalCode</th>\n",
       "    </tr>\n",
       "  </thead>\n",
       "  <tbody>\n",
       "    <tr>\n",
       "      <td>count</td>\n",
       "      <td>354369.000</td>\n",
       "      <td>354369.000</td>\n",
       "      <td>354369.000</td>\n",
       "      <td>354369.000</td>\n",
       "      <td>354369.000</td>\n",
       "      <td>354369.000</td>\n",
       "      <td>354369.000</td>\n",
       "    </tr>\n",
       "    <tr>\n",
       "      <td>mean</td>\n",
       "      <td>4416.657</td>\n",
       "      <td>2004.234</td>\n",
       "      <td>110.094</td>\n",
       "      <td>128211.173</td>\n",
       "      <td>5.715</td>\n",
       "      <td>0.000</td>\n",
       "      <td>50508.689</td>\n",
       "    </tr>\n",
       "    <tr>\n",
       "      <td>std</td>\n",
       "      <td>4514.159</td>\n",
       "      <td>90.228</td>\n",
       "      <td>189.850</td>\n",
       "      <td>37905.342</td>\n",
       "      <td>3.726</td>\n",
       "      <td>0.000</td>\n",
       "      <td>25783.096</td>\n",
       "    </tr>\n",
       "    <tr>\n",
       "      <td>min</td>\n",
       "      <td>0.000</td>\n",
       "      <td>1000.000</td>\n",
       "      <td>0.000</td>\n",
       "      <td>5000.000</td>\n",
       "      <td>0.000</td>\n",
       "      <td>0.000</td>\n",
       "      <td>1067.000</td>\n",
       "    </tr>\n",
       "    <tr>\n",
       "      <td>25%</td>\n",
       "      <td>1050.000</td>\n",
       "      <td>1999.000</td>\n",
       "      <td>69.000</td>\n",
       "      <td>125000.000</td>\n",
       "      <td>3.000</td>\n",
       "      <td>0.000</td>\n",
       "      <td>30165.000</td>\n",
       "    </tr>\n",
       "    <tr>\n",
       "      <td>50%</td>\n",
       "      <td>2700.000</td>\n",
       "      <td>2003.000</td>\n",
       "      <td>105.000</td>\n",
       "      <td>150000.000</td>\n",
       "      <td>6.000</td>\n",
       "      <td>0.000</td>\n",
       "      <td>49413.000</td>\n",
       "    </tr>\n",
       "    <tr>\n",
       "      <td>75%</td>\n",
       "      <td>6400.000</td>\n",
       "      <td>2008.000</td>\n",
       "      <td>143.000</td>\n",
       "      <td>150000.000</td>\n",
       "      <td>9.000</td>\n",
       "      <td>0.000</td>\n",
       "      <td>71083.000</td>\n",
       "    </tr>\n",
       "    <tr>\n",
       "      <td>max</td>\n",
       "      <td>20000.000</td>\n",
       "      <td>9999.000</td>\n",
       "      <td>20000.000</td>\n",
       "      <td>150000.000</td>\n",
       "      <td>12.000</td>\n",
       "      <td>0.000</td>\n",
       "      <td>99998.000</td>\n",
       "    </tr>\n",
       "  </tbody>\n",
       "</table>\n",
       "</div>"
      ],
      "text/plain": [
       "           Price  RegistrationYear      Power  Kilometer  RegistrationMonth  \\\n",
       "count 354369.000        354369.000 354369.000 354369.000         354369.000   \n",
       "mean    4416.657          2004.234    110.094 128211.173              5.715   \n",
       "std     4514.159            90.228    189.850  37905.342              3.726   \n",
       "min        0.000          1000.000      0.000   5000.000              0.000   \n",
       "25%     1050.000          1999.000     69.000 125000.000              3.000   \n",
       "50%     2700.000          2003.000    105.000 150000.000              6.000   \n",
       "75%     6400.000          2008.000    143.000 150000.000              9.000   \n",
       "max    20000.000          9999.000  20000.000 150000.000             12.000   \n",
       "\n",
       "       NumberOfPictures  PostalCode  \n",
       "count        354369.000  354369.000  \n",
       "mean              0.000   50508.689  \n",
       "std               0.000   25783.096  \n",
       "min               0.000    1067.000  \n",
       "25%               0.000   30165.000  \n",
       "50%               0.000   49413.000  \n",
       "75%               0.000   71083.000  \n",
       "max               0.000   99998.000  "
      ]
     },
     "execution_count": 6,
     "metadata": {},
     "output_type": "execute_result"
    }
   ],
   "source": [
    "autos.describe()"
   ]
  },
  {
   "cell_type": "code",
   "execution_count": 7,
   "metadata": {},
   "outputs": [
    {
     "data": {
      "text/plain": [
       "4"
      ]
     },
     "execution_count": 7,
     "metadata": {},
     "output_type": "execute_result"
    }
   ],
   "source": [
    "autos.duplicated().sum()"
   ]
  },
  {
   "cell_type": "code",
   "execution_count": 8,
   "metadata": {},
   "outputs": [
    {
     "data": {
      "text/plain": [
       "(354369, 16)"
      ]
     },
     "execution_count": 8,
     "metadata": {},
     "output_type": "execute_result"
    }
   ],
   "source": [
    "autos.shape"
   ]
  },
  {
   "cell_type": "code",
   "execution_count": 9,
   "metadata": {},
   "outputs": [],
   "source": [
    "autos.drop_duplicates(inplace=True)"
   ]
  },
  {
   "cell_type": "code",
   "execution_count": 10,
   "metadata": {},
   "outputs": [
    {
     "data": {
      "text/plain": [
       "(354365, 16)"
      ]
     },
     "execution_count": 10,
     "metadata": {},
     "output_type": "execute_result"
    }
   ],
   "source": [
    "autos.shape"
   ]
  },
  {
   "cell_type": "code",
   "execution_count": 11,
   "metadata": {},
   "outputs": [
    {
     "data": {
      "text/plain": [
       "DateCrawled         0.000\n",
       "Price               0.000\n",
       "VehicleType         0.106\n",
       "RegistrationYear    0.000\n",
       "Gearbox             0.056\n",
       "Power               0.000\n",
       "Model               0.056\n",
       "Kilometer           0.000\n",
       "RegistrationMonth   0.000\n",
       "FuelType            0.093\n",
       "Brand               0.000\n",
       "NotRepaired         0.201\n",
       "DateCreated         0.000\n",
       "NumberOfPictures    0.000\n",
       "PostalCode          0.000\n",
       "LastSeen            0.000\n",
       "dtype: float64"
      ]
     },
     "execution_count": 11,
     "metadata": {},
     "output_type": "execute_result"
    }
   ],
   "source": [
    "autos.isna().mean()"
   ]
  },
  {
   "cell_type": "markdown",
   "metadata": {},
   "source": [
    "### Предобработка данных"
   ]
  },
  {
   "cell_type": "markdown",
   "metadata": {},
   "source": [
    "#### Обработка ошибочных значений"
   ]
  },
  {
   "cell_type": "markdown",
   "metadata": {},
   "source": [
    "- Категориальные признаки были проверены на предмет наличия дублирующих или ошибочных категорий\n",
    "- Теперь обратимся к количественным переменным и посмотрим статистики по ним"
   ]
  },
  {
   "cell_type": "code",
   "execution_count": 12,
   "metadata": {},
   "outputs": [
    {
     "data": {
      "text/html": [
       "<div>\n",
       "<style scoped>\n",
       "    .dataframe tbody tr th:only-of-type {\n",
       "        vertical-align: middle;\n",
       "    }\n",
       "\n",
       "    .dataframe tbody tr th {\n",
       "        vertical-align: top;\n",
       "    }\n",
       "\n",
       "    .dataframe thead th {\n",
       "        text-align: right;\n",
       "    }\n",
       "</style>\n",
       "<table border=\"1\" class=\"dataframe\">\n",
       "  <thead>\n",
       "    <tr style=\"text-align: right;\">\n",
       "      <th></th>\n",
       "      <th>Price</th>\n",
       "      <th>RegistrationYear</th>\n",
       "      <th>Power</th>\n",
       "      <th>Kilometer</th>\n",
       "      <th>RegistrationMonth</th>\n",
       "      <th>NumberOfPictures</th>\n",
       "      <th>PostalCode</th>\n",
       "    </tr>\n",
       "  </thead>\n",
       "  <tbody>\n",
       "    <tr>\n",
       "      <td>count</td>\n",
       "      <td>354365.000</td>\n",
       "      <td>354365.000</td>\n",
       "      <td>354365.000</td>\n",
       "      <td>354365.000</td>\n",
       "      <td>354365.000</td>\n",
       "      <td>354365.000</td>\n",
       "      <td>354365.000</td>\n",
       "    </tr>\n",
       "    <tr>\n",
       "      <td>mean</td>\n",
       "      <td>4416.680</td>\n",
       "      <td>2004.234</td>\n",
       "      <td>110.094</td>\n",
       "      <td>128211.364</td>\n",
       "      <td>5.715</td>\n",
       "      <td>0.000</td>\n",
       "      <td>50508.504</td>\n",
       "    </tr>\n",
       "    <tr>\n",
       "      <td>std</td>\n",
       "      <td>4514.176</td>\n",
       "      <td>90.228</td>\n",
       "      <td>189.851</td>\n",
       "      <td>37905.084</td>\n",
       "      <td>3.726</td>\n",
       "      <td>0.000</td>\n",
       "      <td>25783.100</td>\n",
       "    </tr>\n",
       "    <tr>\n",
       "      <td>min</td>\n",
       "      <td>0.000</td>\n",
       "      <td>1000.000</td>\n",
       "      <td>0.000</td>\n",
       "      <td>5000.000</td>\n",
       "      <td>0.000</td>\n",
       "      <td>0.000</td>\n",
       "      <td>1067.000</td>\n",
       "    </tr>\n",
       "    <tr>\n",
       "      <td>25%</td>\n",
       "      <td>1050.000</td>\n",
       "      <td>1999.000</td>\n",
       "      <td>69.000</td>\n",
       "      <td>125000.000</td>\n",
       "      <td>3.000</td>\n",
       "      <td>0.000</td>\n",
       "      <td>30165.000</td>\n",
       "    </tr>\n",
       "    <tr>\n",
       "      <td>50%</td>\n",
       "      <td>2700.000</td>\n",
       "      <td>2003.000</td>\n",
       "      <td>105.000</td>\n",
       "      <td>150000.000</td>\n",
       "      <td>6.000</td>\n",
       "      <td>0.000</td>\n",
       "      <td>49413.000</td>\n",
       "    </tr>\n",
       "    <tr>\n",
       "      <td>75%</td>\n",
       "      <td>6400.000</td>\n",
       "      <td>2008.000</td>\n",
       "      <td>143.000</td>\n",
       "      <td>150000.000</td>\n",
       "      <td>9.000</td>\n",
       "      <td>0.000</td>\n",
       "      <td>71083.000</td>\n",
       "    </tr>\n",
       "    <tr>\n",
       "      <td>max</td>\n",
       "      <td>20000.000</td>\n",
       "      <td>9999.000</td>\n",
       "      <td>20000.000</td>\n",
       "      <td>150000.000</td>\n",
       "      <td>12.000</td>\n",
       "      <td>0.000</td>\n",
       "      <td>99998.000</td>\n",
       "    </tr>\n",
       "  </tbody>\n",
       "</table>\n",
       "</div>"
      ],
      "text/plain": [
       "           Price  RegistrationYear      Power  Kilometer  RegistrationMonth  \\\n",
       "count 354365.000        354365.000 354365.000 354365.000         354365.000   \n",
       "mean    4416.680          2004.234    110.094 128211.364              5.715   \n",
       "std     4514.176            90.228    189.851  37905.084              3.726   \n",
       "min        0.000          1000.000      0.000   5000.000              0.000   \n",
       "25%     1050.000          1999.000     69.000 125000.000              3.000   \n",
       "50%     2700.000          2003.000    105.000 150000.000              6.000   \n",
       "75%     6400.000          2008.000    143.000 150000.000              9.000   \n",
       "max    20000.000          9999.000  20000.000 150000.000             12.000   \n",
       "\n",
       "       NumberOfPictures  PostalCode  \n",
       "count        354365.000  354365.000  \n",
       "mean              0.000   50508.504  \n",
       "std               0.000   25783.100  \n",
       "min               0.000    1067.000  \n",
       "25%               0.000   30165.000  \n",
       "50%               0.000   49413.000  \n",
       "75%               0.000   71083.000  \n",
       "max               0.000   99998.000  "
      ]
     },
     "execution_count": 12,
     "metadata": {},
     "output_type": "execute_result"
    }
   ],
   "source": [
    "autos.describe()"
   ]
  },
  {
   "cell_type": "markdown",
   "metadata": {},
   "source": [
    "**NumberOfPictures**"
   ]
  },
  {
   "cell_type": "markdown",
   "metadata": {},
   "source": [
    "- Для начала уберем столбец NumberOfPictures, т.к. он полностью состоит из нулей"
   ]
  },
  {
   "cell_type": "code",
   "execution_count": 13,
   "metadata": {},
   "outputs": [
    {
     "data": {
      "text/html": [
       "<div>\n",
       "<style scoped>\n",
       "    .dataframe tbody tr th:only-of-type {\n",
       "        vertical-align: middle;\n",
       "    }\n",
       "\n",
       "    .dataframe tbody tr th {\n",
       "        vertical-align: top;\n",
       "    }\n",
       "\n",
       "    .dataframe thead th {\n",
       "        text-align: right;\n",
       "    }\n",
       "</style>\n",
       "<table border=\"1\" class=\"dataframe\">\n",
       "  <thead>\n",
       "    <tr style=\"text-align: right;\">\n",
       "      <th></th>\n",
       "      <th>Price</th>\n",
       "      <th>RegistrationYear</th>\n",
       "      <th>Power</th>\n",
       "      <th>Kilometer</th>\n",
       "      <th>RegistrationMonth</th>\n",
       "      <th>PostalCode</th>\n",
       "    </tr>\n",
       "  </thead>\n",
       "  <tbody>\n",
       "    <tr>\n",
       "      <td>count</td>\n",
       "      <td>354365.000</td>\n",
       "      <td>354365.000</td>\n",
       "      <td>354365.000</td>\n",
       "      <td>354365.000</td>\n",
       "      <td>354365.000</td>\n",
       "      <td>354365.000</td>\n",
       "    </tr>\n",
       "    <tr>\n",
       "      <td>mean</td>\n",
       "      <td>4416.680</td>\n",
       "      <td>2004.234</td>\n",
       "      <td>110.094</td>\n",
       "      <td>128211.364</td>\n",
       "      <td>5.715</td>\n",
       "      <td>50508.504</td>\n",
       "    </tr>\n",
       "    <tr>\n",
       "      <td>std</td>\n",
       "      <td>4514.176</td>\n",
       "      <td>90.228</td>\n",
       "      <td>189.851</td>\n",
       "      <td>37905.084</td>\n",
       "      <td>3.726</td>\n",
       "      <td>25783.100</td>\n",
       "    </tr>\n",
       "    <tr>\n",
       "      <td>min</td>\n",
       "      <td>0.000</td>\n",
       "      <td>1000.000</td>\n",
       "      <td>0.000</td>\n",
       "      <td>5000.000</td>\n",
       "      <td>0.000</td>\n",
       "      <td>1067.000</td>\n",
       "    </tr>\n",
       "    <tr>\n",
       "      <td>25%</td>\n",
       "      <td>1050.000</td>\n",
       "      <td>1999.000</td>\n",
       "      <td>69.000</td>\n",
       "      <td>125000.000</td>\n",
       "      <td>3.000</td>\n",
       "      <td>30165.000</td>\n",
       "    </tr>\n",
       "    <tr>\n",
       "      <td>50%</td>\n",
       "      <td>2700.000</td>\n",
       "      <td>2003.000</td>\n",
       "      <td>105.000</td>\n",
       "      <td>150000.000</td>\n",
       "      <td>6.000</td>\n",
       "      <td>49413.000</td>\n",
       "    </tr>\n",
       "    <tr>\n",
       "      <td>75%</td>\n",
       "      <td>6400.000</td>\n",
       "      <td>2008.000</td>\n",
       "      <td>143.000</td>\n",
       "      <td>150000.000</td>\n",
       "      <td>9.000</td>\n",
       "      <td>71083.000</td>\n",
       "    </tr>\n",
       "    <tr>\n",
       "      <td>max</td>\n",
       "      <td>20000.000</td>\n",
       "      <td>9999.000</td>\n",
       "      <td>20000.000</td>\n",
       "      <td>150000.000</td>\n",
       "      <td>12.000</td>\n",
       "      <td>99998.000</td>\n",
       "    </tr>\n",
       "  </tbody>\n",
       "</table>\n",
       "</div>"
      ],
      "text/plain": [
       "           Price  RegistrationYear      Power  Kilometer  RegistrationMonth  \\\n",
       "count 354365.000        354365.000 354365.000 354365.000         354365.000   \n",
       "mean    4416.680          2004.234    110.094 128211.364              5.715   \n",
       "std     4514.176            90.228    189.851  37905.084              3.726   \n",
       "min        0.000          1000.000      0.000   5000.000              0.000   \n",
       "25%     1050.000          1999.000     69.000 125000.000              3.000   \n",
       "50%     2700.000          2003.000    105.000 150000.000              6.000   \n",
       "75%     6400.000          2008.000    143.000 150000.000              9.000   \n",
       "max    20000.000          9999.000  20000.000 150000.000             12.000   \n",
       "\n",
       "       PostalCode  \n",
       "count  354365.000  \n",
       "mean    50508.504  \n",
       "std     25783.100  \n",
       "min      1067.000  \n",
       "25%     30165.000  \n",
       "50%     49413.000  \n",
       "75%     71083.000  \n",
       "max     99998.000  "
      ]
     },
     "execution_count": 13,
     "metadata": {},
     "output_type": "execute_result"
    }
   ],
   "source": [
    "autos.drop('NumberOfPictures', axis=1, inplace=True)\n",
    "autos.describe()"
   ]
  },
  {
   "cell_type": "markdown",
   "metadata": {},
   "source": [
    "**RegistrationYear**"
   ]
  },
  {
   "cell_type": "markdown",
   "metadata": {},
   "source": [
    "- Перейдем к RegistrationYear\n",
    "- Минимальное и максимальное значения явно ошибочные\n",
    "- Посмотрим количество авто по годам и попытаемся поймать примерно начало появления реальных авто "
   ]
  },
  {
   "cell_type": "code",
   "execution_count": 14,
   "metadata": {},
   "outputs": [
    {
     "data": {
      "image/png": "[encoded data removed]",
      "text/plain": [
       "<Figure size 720x432 with 1 Axes>"
      ]
     },
     "metadata": {},
     "output_type": "display_data"
    }
   ],
   "source": [
    "plt.figure(figsize=(10,6))\n",
    "autos[(autos['RegistrationYear'] > 1960) & (autos['RegistrationYear'] < 2020)]['RegistrationYear'].hist(bins=20)\n",
    "plt.show()"
   ]
  },
  {
   "cell_type": "markdown",
   "metadata": {},
   "source": [
    "- Сложно восстановить дату регистрации авто, если она кажется неправильной, есть примеры, где дата регистрации на десятки лет раньше первого релиза модели\n",
    "- Чтобы не потерять много данных, возьмем 1985 год как отсечку"
   ]
  },
  {
   "cell_type": "code",
   "execution_count": 15,
   "metadata": {},
   "outputs": [
    {
     "data": {
      "text/plain": [
       "5553"
      ]
     },
     "execution_count": 15,
     "metadata": {},
     "output_type": "execute_result"
    }
   ],
   "source": [
    "autos[(autos['RegistrationYear'] > 2019) | (autos['RegistrationYear'] < 1985)]['RegistrationYear'].value_counts().sum()"
   ]
  },
  {
   "cell_type": "code",
   "execution_count": 16,
   "metadata": {},
   "outputs": [
    {
     "data": {
      "text/plain": [
       "354365"
      ]
     },
     "execution_count": 16,
     "metadata": {},
     "output_type": "execute_result"
    }
   ],
   "source": [
    "autos.shape[0]"
   ]
  },
  {
   "cell_type": "code",
   "execution_count": 17,
   "metadata": {},
   "outputs": [],
   "source": [
    "autos.drop(autos[(autos['RegistrationYear'] > 2019) | (autos['RegistrationYear'] < 1985)].index, inplace=True)"
   ]
  },
  {
   "cell_type": "code",
   "execution_count": 18,
   "metadata": {},
   "outputs": [
    {
     "data": {
      "text/plain": [
       "348812"
      ]
     },
     "execution_count": 18,
     "metadata": {},
     "output_type": "execute_result"
    }
   ],
   "source": [
    "autos.shape[0]"
   ]
  },
  {
   "cell_type": "code",
   "execution_count": 19,
   "metadata": {},
   "outputs": [
    {
     "data": {
      "text/plain": [
       "14425"
      ]
     },
     "execution_count": 19,
     "metadata": {},
     "output_type": "execute_result"
    }
   ],
   "source": [
    "autos[(autos['RegistrationYear'] > 2016)]['RegistrationYear'].value_counts().sum()"
   ]
  },
  {
   "cell_type": "markdown",
   "metadata": {},
   "source": [
    "**Power**"
   ]
  },
  {
   "cell_type": "markdown",
   "metadata": {},
   "source": [
    "- Теперь разберемся с Power\n",
    "- Для начала посмотрим, как распределены значения мощности"
   ]
  },
  {
   "cell_type": "code",
   "execution_count": 20,
   "metadata": {},
   "outputs": [
    {
     "data": {
      "image/png": "[encoded data removed]",
      "text/plain": [
       "<Figure size 720x432 with 1 Axes>"
      ]
     },
     "metadata": {},
     "output_type": "display_data"
    }
   ],
   "source": [
    "plt.figure(figsize=(10,6))\n",
    "plt.hist(autos['Power'], bins=50, range = (0, 1000))\n",
    "plt.show()"
   ]
  },
  {
   "cell_type": "markdown",
   "metadata": {},
   "source": [
    "- У нас большое количество околонулевых значений мощности и небольшое количество значений мощности свыше 350 л.с.\n",
    "- Околонулевые значения мощности ровно как и аномально высокие значения можно заменить медианными значениями для автомобилей такой же марки-модели, находящихся в адекватном диапазоне мощности"
   ]
  },
  {
   "cell_type": "code",
   "execution_count": 21,
   "metadata": {},
   "outputs": [],
   "source": [
    "low_power_index = autos[(autos['Power'] < 30)].index\n",
    "\n",
    "autos.loc[low_power_index, 'Power'] = autos.groupby(['Brand', 'Model'])['Power'].transform('median')"
   ]
  },
  {
   "cell_type": "code",
   "execution_count": 22,
   "metadata": {},
   "outputs": [
    {
     "data": {
      "image/png": "[encoded data removed]",
      "text/plain": [
       "<Figure size 720x432 with 1 Axes>"
      ]
     },
     "metadata": {},
     "output_type": "display_data"
    }
   ],
   "source": [
    "plt.figure(figsize=(10,6))\n",
    "plt.hist(autos['Power'], bins=50, range = (0, 1000))\n",
    "plt.show()"
   ]
  },
  {
   "cell_type": "markdown",
   "metadata": {},
   "source": [
    "- Околонулевые значения убраны, распределение не пострадало\n",
    "- Теперь проделаем то же самое с аномально высокими значениями мощности, для начала посмотрим на распределение в районе > 400 лс"
   ]
  },
  {
   "cell_type": "code",
   "execution_count": 23,
   "metadata": {},
   "outputs": [
    {
     "data": {
      "image/png": "[encoded data removed]",
      "text/plain": [
       "<Figure size 720x432 with 1 Axes>"
      ]
     },
     "metadata": {},
     "output_type": "display_data"
    }
   ],
   "source": [
    "plt.figure(figsize=(10,6))\n",
    "plt.hist(autos['Power'], bins=50, range = (400, autos['Power'].max()))\n",
    "plt.show()"
   ]
  },
  {
   "cell_type": "markdown",
   "metadata": {},
   "source": [
    "- Всевозможные современные популярные джипы и внедорожники могут иметь мощность в районе 500 лс, и вполне возможно и выше, но следуя в том числе данным, возьмем за отсечку для аномальным значений мощности значение 500 лс"
   ]
  },
  {
   "cell_type": "code",
   "execution_count": 24,
   "metadata": {},
   "outputs": [],
   "source": [
    "high_power_index = autos[(autos['Power'] > 500)].index\n",
    "\n",
    "autos.loc[high_power_index, 'Power'] = autos.groupby(['Brand', 'Model'])['Power'].transform('median')"
   ]
  },
  {
   "cell_type": "code",
   "execution_count": 25,
   "metadata": {},
   "outputs": [
    {
     "data": {
      "image/png": "[encoded data removed]",
      "text/plain": [
       "<Figure size 720x432 with 1 Axes>"
      ]
     },
     "metadata": {},
     "output_type": "display_data"
    }
   ],
   "source": [
    "plt.figure(figsize=(10,6))\n",
    "plt.hist(autos['Power'], bins=50, range = (400, autos['Power'].max()))\n",
    "plt.show()"
   ]
  },
  {
   "cell_type": "code",
   "execution_count": 26,
   "metadata": {},
   "outputs": [
    {
     "data": {
      "image/png": "[encoded data removed]",
      "text/plain": [
       "<Figure size 720x432 with 1 Axes>"
      ]
     },
     "metadata": {},
     "output_type": "display_data"
    }
   ],
   "source": [
    "plt.figure(figsize=(10,6))\n",
    "plt.hist(autos['Power'], bins=50, range = (0, 1000))\n",
    "plt.show()"
   ]
  },
  {
   "cell_type": "markdown",
   "metadata": {},
   "source": [
    "- Распределение по-прежнему в порядке"
   ]
  },
  {
   "cell_type": "markdown",
   "metadata": {},
   "source": [
    "**Price**"
   ]
  },
  {
   "cell_type": "markdown",
   "metadata": {},
   "source": [
    "- На последок разберемся с целевым признаком Price"
   ]
  },
  {
   "cell_type": "code",
   "execution_count": 27,
   "metadata": {},
   "outputs": [
    {
     "data": {
      "image/png": "[encoded data removed]",
      "text/plain": [
       "<Figure size 720x432 with 1 Axes>"
      ]
     },
     "metadata": {},
     "output_type": "display_data"
    }
   ],
   "source": [
    "plt.figure(figsize=(10,6))\n",
    "plt.hist(autos['Price'], bins=50)\n",
    "plt.show()"
   ]
  },
  {
   "cell_type": "markdown",
   "metadata": {},
   "source": [
    "- Большое количество нулевых значений\n",
    "- Восстановим нулевые цены по медианным ценам таких же моделей с таким же пробегом"
   ]
  },
  {
   "cell_type": "code",
   "execution_count": 28,
   "metadata": {},
   "outputs": [],
   "source": [
    "zero_price_index = autos[(autos['Price'] == 0)].index\n",
    "\n",
    "autos.loc[zero_price_index, 'Price'] = autos.groupby(['Brand', 'Model', 'Kilometer'])['Price'].transform('median')"
   ]
  },
  {
   "cell_type": "code",
   "execution_count": 29,
   "metadata": {},
   "outputs": [
    {
     "data": {
      "image/png": "[encoded data removed]",
      "text/plain": [
       "<Figure size 720x432 with 1 Axes>"
      ]
     },
     "metadata": {},
     "output_type": "display_data"
    }
   ],
   "source": [
    "plt.figure(figsize=(10,6))\n",
    "plt.hist(autos['Price'], bins=50)\n",
    "plt.show()"
   ]
  },
  {
   "cell_type": "markdown",
   "metadata": {},
   "source": [
    "- Ошибочные значения обработаны, теперь перейдем к пропускам"
   ]
  },
  {
   "cell_type": "markdown",
   "metadata": {},
   "source": [
    "#### Обработка пропущенных значений"
   ]
  },
  {
   "cell_type": "code",
   "execution_count": 30,
   "metadata": {},
   "outputs": [
    {
     "data": {
      "text/plain": [
       "DateCrawled         0.000\n",
       "Price               0.006\n",
       "VehicleType         0.105\n",
       "RegistrationYear    0.000\n",
       "Gearbox             0.053\n",
       "Power               0.017\n",
       "Model               0.053\n",
       "Kilometer           0.000\n",
       "RegistrationMonth   0.000\n",
       "FuelType            0.091\n",
       "Brand               0.000\n",
       "NotRepaired         0.198\n",
       "DateCreated         0.000\n",
       "PostalCode          0.000\n",
       "LastSeen            0.000\n",
       "dtype: float64"
      ]
     },
     "execution_count": 30,
     "metadata": {},
     "output_type": "execute_result"
    }
   ],
   "source": [
    "autos.isna().mean()"
   ]
  },
  {
   "cell_type": "markdown",
   "metadata": {},
   "source": [
    "**NotRepaired**"
   ]
  },
  {
   "cell_type": "markdown",
   "metadata": {},
   "source": [
    "- Начнем с NotRepaired\n",
    "- Этот параметр наверняка связан с пробегом автомобиля\n",
    "- Поэтому разделим пробег на 5 категорий и затем в соответствеии с категорией пробега будем будем присваивать пропускам медианые значения NotRepaired по этим категориям"
   ]
  },
  {
   "cell_type": "code",
   "execution_count": 31,
   "metadata": {},
   "outputs": [
    {
     "data": {
      "text/plain": [
       "5    272321\n",
       "3     29408\n",
       "2     17992\n",
       "1     14785\n",
       "4     14306\n",
       "Name: Kilometer_bins, dtype: int64"
      ]
     },
     "execution_count": 31,
     "metadata": {},
     "output_type": "execute_result"
    }
   ],
   "source": [
    "autos['Kilometer_bins'] = pd.cut(autos['Kilometer'], bins=[4999, 34000, 63000, 92000, 121000, 150001], labels=[1, 2, 3, 4, 5])\n",
    "autos['Kilometer_bins'].value_counts()"
   ]
  },
  {
   "cell_type": "code",
   "execution_count": 32,
   "metadata": {},
   "outputs": [
    {
     "data": {
      "text/plain": [
       "no     244037\n",
       "yes     35548\n",
       "Name: NotRepaired, dtype: int64"
      ]
     },
     "execution_count": 32,
     "metadata": {},
     "output_type": "execute_result"
    }
   ],
   "source": [
    "autos['NotRepaired'].value_counts()"
   ]
  },
  {
   "cell_type": "code",
   "execution_count": 33,
   "metadata": {
    "scrolled": false
   },
   "outputs": [
    {
     "data": {
      "image/png": "[encoded data removed]",
      "text/plain": [
       "<Figure size 720x432 with 1 Axes>"
      ]
     },
     "metadata": {},
     "output_type": "display_data"
    }
   ],
   "source": [
    "plt.figure(figsize=(10,6))\n",
    "sns.countplot(autos['NotRepaired'], order=['yes', 'no'])\n",
    "plt.show()"
   ]
  },
  {
   "cell_type": "code",
   "execution_count": 34,
   "metadata": {},
   "outputs": [],
   "source": [
    "kilo_nan_groups = autos[autos['NotRepaired'].isna()]['Kilometer_bins'].value_counts().index\n",
    "\n",
    "for i in kilo_nan_groups:\n",
    "    group_mode = autos[autos['Kilometer_bins'] == i]['NotRepaired'].mode()\n",
    "    autos.loc[(autos['NotRepaired'].isna()) & (autos['Kilometer_bins'] == i), 'NotRepaired'] = group_mode.values[0]"
   ]
  },
  {
   "cell_type": "code",
   "execution_count": 35,
   "metadata": {},
   "outputs": [
    {
     "data": {
      "text/plain": [
       "no     313264\n",
       "yes     35548\n",
       "Name: NotRepaired, dtype: int64"
      ]
     },
     "execution_count": 35,
     "metadata": {},
     "output_type": "execute_result"
    }
   ],
   "source": [
    "autos['NotRepaired'].value_counts()"
   ]
  },
  {
   "cell_type": "code",
   "execution_count": 36,
   "metadata": {},
   "outputs": [
    {
     "data": {
      "image/png": "[encoded data removed]",
      "text/plain": [
       "<Figure size 720x432 with 1 Axes>"
      ]
     },
     "metadata": {},
     "output_type": "display_data"
    }
   ],
   "source": [
    "plt.figure(figsize=(10,6))\n",
    "sns.countplot(autos['NotRepaired'], order=['yes', 'no'])\n",
    "plt.show()"
   ]
  },
  {
   "cell_type": "code",
   "execution_count": 37,
   "metadata": {},
   "outputs": [
    {
     "data": {
      "text/plain": [
       "0"
      ]
     },
     "execution_count": 37,
     "metadata": {},
     "output_type": "execute_result"
    }
   ],
   "source": [
    "autos['NotRepaired'].isna().sum()"
   ]
  },
  {
   "cell_type": "code",
   "execution_count": 38,
   "metadata": {},
   "outputs": [
    {
     "data": {
      "text/plain": [
       "DateCrawled         0.000\n",
       "Price               0.006\n",
       "VehicleType         0.105\n",
       "RegistrationYear    0.000\n",
       "Gearbox             0.053\n",
       "Power               0.017\n",
       "Model               0.053\n",
       "Kilometer           0.000\n",
       "RegistrationMonth   0.000\n",
       "FuelType            0.091\n",
       "Brand               0.000\n",
       "NotRepaired         0.000\n",
       "DateCreated         0.000\n",
       "PostalCode          0.000\n",
       "LastSeen            0.000\n",
       "Kilometer_bins      0.000\n",
       "dtype: float64"
      ]
     },
     "execution_count": 38,
     "metadata": {},
     "output_type": "execute_result"
    }
   ],
   "source": [
    "autos.isna().mean()"
   ]
  },
  {
   "cell_type": "markdown",
   "metadata": {},
   "source": [
    "**VehicleType**"
   ]
  },
  {
   "cell_type": "markdown",
   "metadata": {},
   "source": [
    "- Теперь приступим к обработке пропусков в VehicleType\n",
    "- Заменим пропуски в этом столбце на основе моды автомобилей такой же фирмы и модели"
   ]
  },
  {
   "cell_type": "code",
   "execution_count": 39,
   "metadata": {},
   "outputs": [
    {
     "data": {
      "image/png": "[encoded data removed]",
      "text/plain": [
       "<Figure size 720x432 with 1 Axes>"
      ]
     },
     "metadata": {},
     "output_type": "display_data"
    }
   ],
   "source": [
    "plt.figure(figsize=(10,6))\n",
    "sns.countplot(autos['VehicleType'].sort_values(ascending=False), palette='gist_earth')\n",
    "plt.ylim((0, 110000))\n",
    "plt.show()"
   ]
  },
  {
   "cell_type": "code",
   "execution_count": 40,
   "metadata": {},
   "outputs": [
    {
     "data": {
      "text/plain": [
       "36617"
      ]
     },
     "execution_count": 40,
     "metadata": {},
     "output_type": "execute_result"
    }
   ],
   "source": [
    "autos['VehicleType'].isna().sum()"
   ]
  },
  {
   "cell_type": "code",
   "execution_count": 41,
   "metadata": {
    "scrolled": true
   },
   "outputs": [],
   "source": [
    "for i, _ in autos.groupby(['Brand', 'Model']):\n",
    "    try:\n",
    "        group_mode = autos[(autos['Brand'] == i[0]) & (autos['Model'] == i[1])]['VehicleType'].mode()\n",
    "        autos.loc[(autos['VehicleType'].isna()) & \n",
    "                  (autos['Brand'] == i[0]) & \n",
    "                  (autos['Model'] == i[1]), 'VehicleType'] = group_mode.values[0]\n",
    "    except IndexError:\n",
    "        continue"
   ]
  },
  {
   "cell_type": "code",
   "execution_count": 42,
   "metadata": {},
   "outputs": [
    {
     "data": {
      "text/plain": [
       "6472"
      ]
     },
     "execution_count": 42,
     "metadata": {},
     "output_type": "execute_result"
    }
   ],
   "source": [
    "autos['VehicleType'].isna().sum()"
   ]
  },
  {
   "cell_type": "code",
   "execution_count": 43,
   "metadata": {},
   "outputs": [
    {
     "data": {
      "text/plain": [
       "0.018554407531850968"
      ]
     },
     "execution_count": 43,
     "metadata": {},
     "output_type": "execute_result"
    }
   ],
   "source": [
    "autos['VehicleType'].isna().mean()"
   ]
  },
  {
   "cell_type": "code",
   "execution_count": 44,
   "metadata": {},
   "outputs": [
    {
     "data": {
      "image/png": "[encoded data removed]",
      "text/plain": [
       "<Figure size 720x432 with 1 Axes>"
      ]
     },
     "metadata": {},
     "output_type": "display_data"
    }
   ],
   "source": [
    "plt.figure(figsize=(10,6))\n",
    "sns.countplot(autos['VehicleType'].sort_values(ascending=False), palette='gist_earth')\n",
    "plt.ylim((0, 110000))\n",
    "plt.show()"
   ]
  },
  {
   "cell_type": "markdown",
   "metadata": {},
   "source": [
    "- У нас по-прежнему 1.9% пропусков - те авто, которые представлены в единственном экземпляре в датасете\n",
    "- Для таких авто не получится восстановить восстановить их тип кузова по каким-то другим признакам\n",
    "- Поэтому уберем оставшиеся строки с пропусками"
   ]
  },
  {
   "cell_type": "code",
   "execution_count": 45,
   "metadata": {},
   "outputs": [
    {
     "data": {
      "text/plain": [
       "348812"
      ]
     },
     "execution_count": 45,
     "metadata": {},
     "output_type": "execute_result"
    }
   ],
   "source": [
    "autos.shape[0]"
   ]
  },
  {
   "cell_type": "code",
   "execution_count": 46,
   "metadata": {},
   "outputs": [
    {
     "data": {
      "text/plain": [
       "6472"
      ]
     },
     "execution_count": 46,
     "metadata": {},
     "output_type": "execute_result"
    }
   ],
   "source": [
    "autos['VehicleType'].isna().sum()"
   ]
  },
  {
   "cell_type": "code",
   "execution_count": 47,
   "metadata": {},
   "outputs": [],
   "source": [
    "autos.drop(autos[autos['VehicleType'].isna()].index, inplace=True)"
   ]
  },
  {
   "cell_type": "code",
   "execution_count": 48,
   "metadata": {},
   "outputs": [
    {
     "data": {
      "text/plain": [
       "342340"
      ]
     },
     "execution_count": 48,
     "metadata": {},
     "output_type": "execute_result"
    }
   ],
   "source": [
    "autos.shape[0]"
   ]
  },
  {
   "cell_type": "code",
   "execution_count": 49,
   "metadata": {},
   "outputs": [
    {
     "data": {
      "text/plain": [
       "DateCrawled         0.000\n",
       "Price               0.003\n",
       "VehicleType         0.000\n",
       "RegistrationYear    0.000\n",
       "Gearbox             0.046\n",
       "Power               0.007\n",
       "Model               0.035\n",
       "Kilometer           0.000\n",
       "RegistrationMonth   0.000\n",
       "FuelType            0.081\n",
       "Brand               0.000\n",
       "NotRepaired         0.000\n",
       "DateCreated         0.000\n",
       "PostalCode          0.000\n",
       "LastSeen            0.000\n",
       "Kilometer_bins      0.000\n",
       "dtype: float64"
      ]
     },
     "execution_count": 49,
     "metadata": {},
     "output_type": "execute_result"
    }
   ],
   "source": [
    "autos.isna().mean()"
   ]
  },
  {
   "cell_type": "markdown",
   "metadata": {},
   "source": [
    "**FuelType**"
   ]
  },
  {
   "cell_type": "markdown",
   "metadata": {},
   "source": [
    "- Обработаем теперь пропуски в столбце FuelType\n",
    "- Первым делом хочется связать тип топлива с мощностью автомобиля, посмотрим как разные типы топлива распределены по мощности"
   ]
  },
  {
   "cell_type": "code",
   "execution_count": 50,
   "metadata": {},
   "outputs": [
    {
     "data": {
      "image/png": "[encoded data removed]",
      "text/plain": [
       "<Figure size 720x432 with 1 Axes>"
      ]
     },
     "metadata": {},
     "output_type": "display_data"
    }
   ],
   "source": [
    "plt.figure(figsize=(10,6))\n",
    "sns.boxplot(x='FuelType', y='Power', data=autos, palette='gist_earth')\n",
    "plt.show()"
   ]
  },
  {
   "cell_type": "markdown",
   "metadata": {},
   "source": [
    "- Довольно много пересечений, нужно взять другой признак\n",
    "- Заменим пропуски в столбце с типом топлива модой по автомобилям того же бренда и модели"
   ]
  },
  {
   "cell_type": "code",
   "execution_count": 51,
   "metadata": {},
   "outputs": [
    {
     "data": {
      "image/png": "[encoded data removed]",
      "text/plain": [
       "<Figure size 720x432 with 1 Axes>"
      ]
     },
     "metadata": {},
     "output_type": "display_data"
    }
   ],
   "source": [
    "plt.figure(figsize=(10,6))\n",
    "sns.countplot(autos['FuelType'].sort_values(ascending=False), palette='gist_earth')\n",
    "plt.ylim((0, 250000))\n",
    "plt.show()"
   ]
  },
  {
   "cell_type": "code",
   "execution_count": 52,
   "metadata": {},
   "outputs": [
    {
     "data": {
      "text/plain": [
       "27652"
      ]
     },
     "execution_count": 52,
     "metadata": {},
     "output_type": "execute_result"
    }
   ],
   "source": [
    "autos['FuelType'].isna().sum()"
   ]
  },
  {
   "cell_type": "code",
   "execution_count": 53,
   "metadata": {},
   "outputs": [],
   "source": [
    "for i, _ in autos.groupby(['Brand', 'Model']):\n",
    "    try:\n",
    "        group_mode = autos[(autos['Brand'] == i[0]) & (autos['Model'] == i[1])]['FuelType'].mode()\n",
    "        autos.loc[(autos['FuelType'].isna()) & \n",
    "                  (autos['Brand'] == i[0]) & \n",
    "                  (autos['Model'] == i[1]), 'FuelType'] = group_mode.values[0]\n",
    "    except IndexError:\n",
    "        continue"
   ]
  },
  {
   "cell_type": "code",
   "execution_count": 54,
   "metadata": {},
   "outputs": [
    {
     "data": {
      "text/plain": [
       "2689"
      ]
     },
     "execution_count": 54,
     "metadata": {},
     "output_type": "execute_result"
    }
   ],
   "source": [
    "autos['FuelType'].isna().sum()"
   ]
  },
  {
   "cell_type": "code",
   "execution_count": 55,
   "metadata": {},
   "outputs": [
    {
     "data": {
      "text/plain": [
       "0.007854764269439738"
      ]
     },
     "execution_count": 55,
     "metadata": {},
     "output_type": "execute_result"
    }
   ],
   "source": [
    "autos['FuelType'].isna().mean()"
   ]
  },
  {
   "cell_type": "code",
   "execution_count": 56,
   "metadata": {},
   "outputs": [
    {
     "data": {
      "image/png": "[encoded data removed]",
      "text/plain": [
       "<Figure size 720x432 with 1 Axes>"
      ]
     },
     "metadata": {},
     "output_type": "display_data"
    }
   ],
   "source": [
    "plt.figure(figsize=(10,6))\n",
    "sns.countplot(autos['FuelType'].sort_values(ascending=False), palette='gist_earth')\n",
    "plt.ylim((0, 250000))\n",
    "plt.show()"
   ]
  },
  {
   "cell_type": "markdown",
   "metadata": {},
   "source": [
    "- У нас по-прежнему 0.8% пропусков - те авто, которые представлены в единственном экземпляре в датасете\n",
    "- Для таких авто не получится восстановить восстановить их тип топлива по каким-то другим признакам\n",
    "- Поэтому уберем оставшиеся строки с пропусками"
   ]
  },
  {
   "cell_type": "code",
   "execution_count": 57,
   "metadata": {},
   "outputs": [
    {
     "data": {
      "text/plain": [
       "342340"
      ]
     },
     "execution_count": 57,
     "metadata": {},
     "output_type": "execute_result"
    }
   ],
   "source": [
    "autos.shape[0]"
   ]
  },
  {
   "cell_type": "code",
   "execution_count": 58,
   "metadata": {},
   "outputs": [
    {
     "data": {
      "text/plain": [
       "2689"
      ]
     },
     "execution_count": 58,
     "metadata": {},
     "output_type": "execute_result"
    }
   ],
   "source": [
    "autos['FuelType'].isna().sum()"
   ]
  },
  {
   "cell_type": "code",
   "execution_count": 59,
   "metadata": {},
   "outputs": [],
   "source": [
    "autos.drop(autos[autos['FuelType'].isna()].index, inplace=True)"
   ]
  },
  {
   "cell_type": "code",
   "execution_count": 60,
   "metadata": {},
   "outputs": [
    {
     "data": {
      "text/plain": [
       "339651"
      ]
     },
     "execution_count": 60,
     "metadata": {},
     "output_type": "execute_result"
    }
   ],
   "source": [
    "autos.shape[0]"
   ]
  },
  {
   "cell_type": "code",
   "execution_count": 61,
   "metadata": {},
   "outputs": [
    {
     "data": {
      "text/plain": [
       "DateCrawled         0.000\n",
       "Price               0.002\n",
       "VehicleType         0.000\n",
       "RegistrationYear    0.000\n",
       "Gearbox             0.046\n",
       "Power               0.005\n",
       "Model               0.027\n",
       "Kilometer           0.000\n",
       "RegistrationMonth   0.000\n",
       "FuelType            0.000\n",
       "Brand               0.000\n",
       "NotRepaired         0.000\n",
       "DateCreated         0.000\n",
       "PostalCode          0.000\n",
       "LastSeen            0.000\n",
       "Kilometer_bins      0.000\n",
       "dtype: float64"
      ]
     },
     "execution_count": 61,
     "metadata": {},
     "output_type": "execute_result"
    }
   ],
   "source": [
    "autos.isna().mean()"
   ]
  },
  {
   "cell_type": "markdown",
   "metadata": {},
   "source": [
    "**Gearbox**"
   ]
  },
  {
   "cell_type": "markdown",
   "metadata": {},
   "source": [
    "- Перейдем к признаку Gearbox\n",
    "- Тип коробки передач также можно восстановить по брэнду и модели автомобиля"
   ]
  },
  {
   "cell_type": "code",
   "execution_count": 62,
   "metadata": {},
   "outputs": [
    {
     "data": {
      "text/plain": [
       "manual    260016\n",
       "auto       64169\n",
       "Name: Gearbox, dtype: int64"
      ]
     },
     "execution_count": 62,
     "metadata": {},
     "output_type": "execute_result"
    }
   ],
   "source": [
    "autos['Gearbox'].value_counts()"
   ]
  },
  {
   "cell_type": "code",
   "execution_count": 63,
   "metadata": {},
   "outputs": [
    {
     "data": {
      "image/png": "[encoded data removed]",
      "text/plain": [
       "<Figure size 720x432 with 1 Axes>"
      ]
     },
     "metadata": {},
     "output_type": "display_data"
    }
   ],
   "source": [
    "plt.figure(figsize=(10,6))\n",
    "sns.countplot(autos['Gearbox'].sort_values(ascending=False))\n",
    "plt.ylim((0, 300000))\n",
    "plt.show()"
   ]
  },
  {
   "cell_type": "code",
   "execution_count": 64,
   "metadata": {},
   "outputs": [
    {
     "data": {
      "text/plain": [
       "15466"
      ]
     },
     "execution_count": 64,
     "metadata": {},
     "output_type": "execute_result"
    }
   ],
   "source": [
    "autos['Gearbox'].isna().sum()"
   ]
  },
  {
   "cell_type": "code",
   "execution_count": 65,
   "metadata": {},
   "outputs": [],
   "source": [
    "for i, _ in autos.groupby(['Brand', 'Model']):\n",
    "    try:\n",
    "        group_mode = autos[(autos['Brand'] == i[0]) & (autos['Model'] == i[1])]['Gearbox'].mode()\n",
    "        autos.loc[(autos['Gearbox'].isna()) & \n",
    "                  (autos['Brand'] == i[0]) & \n",
    "                  (autos['Model'] == i[1]), 'Gearbox'] = group_mode.values[0]\n",
    "    except IndexError:\n",
    "        continue"
   ]
  },
  {
   "cell_type": "code",
   "execution_count": 66,
   "metadata": {},
   "outputs": [
    {
     "data": {
      "text/plain": [
       "520"
      ]
     },
     "execution_count": 66,
     "metadata": {},
     "output_type": "execute_result"
    }
   ],
   "source": [
    "autos['Gearbox'].isna().sum()"
   ]
  },
  {
   "cell_type": "code",
   "execution_count": 67,
   "metadata": {},
   "outputs": [
    {
     "data": {
      "text/plain": [
       "0.0015309832740077315"
      ]
     },
     "execution_count": 67,
     "metadata": {},
     "output_type": "execute_result"
    }
   ],
   "source": [
    "autos['Gearbox'].isna().mean()"
   ]
  },
  {
   "cell_type": "code",
   "execution_count": 68,
   "metadata": {},
   "outputs": [
    {
     "data": {
      "image/png": "[encoded data removed]",
      "text/plain": [
       "<Figure size 720x432 with 1 Axes>"
      ]
     },
     "metadata": {},
     "output_type": "display_data"
    }
   ],
   "source": [
    "plt.figure(figsize=(10,6))\n",
    "sns.countplot(autos['Gearbox'].sort_values(ascending=False))\n",
    "plt.ylim((0, 300000))\n",
    "plt.show()"
   ]
  },
  {
   "cell_type": "markdown",
   "metadata": {},
   "source": [
    "- У нас по-прежнему 0.2% пропусков - те авто, которые представлены в единственном экземпляре в датасете\n",
    "- Для таких авто не получится восстановить восстановить их тип коробки передач по каким-то другим признакам\n",
    "- Поэтому уберем оставшиеся строки с пропусками"
   ]
  },
  {
   "cell_type": "code",
   "execution_count": 69,
   "metadata": {},
   "outputs": [
    {
     "data": {
      "text/plain": [
       "339651"
      ]
     },
     "execution_count": 69,
     "metadata": {},
     "output_type": "execute_result"
    }
   ],
   "source": [
    "autos.shape[0]"
   ]
  },
  {
   "cell_type": "code",
   "execution_count": 70,
   "metadata": {},
   "outputs": [
    {
     "data": {
      "text/plain": [
       "520"
      ]
     },
     "execution_count": 70,
     "metadata": {},
     "output_type": "execute_result"
    }
   ],
   "source": [
    "autos['Gearbox'].isna().sum()"
   ]
  },
  {
   "cell_type": "code",
   "execution_count": 71,
   "metadata": {},
   "outputs": [],
   "source": [
    "autos.drop(autos[autos['Gearbox'].isna()].index, inplace=True)"
   ]
  },
  {
   "cell_type": "code",
   "execution_count": 72,
   "metadata": {},
   "outputs": [
    {
     "data": {
      "text/plain": [
       "339131"
      ]
     },
     "execution_count": 72,
     "metadata": {},
     "output_type": "execute_result"
    }
   ],
   "source": [
    "autos.shape[0]"
   ]
  },
  {
   "cell_type": "code",
   "execution_count": 73,
   "metadata": {},
   "outputs": [
    {
     "data": {
      "text/plain": [
       "DateCrawled         0.000\n",
       "Price               0.002\n",
       "VehicleType         0.000\n",
       "RegistrationYear    0.000\n",
       "Gearbox             0.000\n",
       "Power               0.004\n",
       "Model               0.026\n",
       "Kilometer           0.000\n",
       "RegistrationMonth   0.000\n",
       "FuelType            0.000\n",
       "Brand               0.000\n",
       "NotRepaired         0.000\n",
       "DateCreated         0.000\n",
       "PostalCode          0.000\n",
       "LastSeen            0.000\n",
       "Kilometer_bins      0.000\n",
       "dtype: float64"
      ]
     },
     "execution_count": 73,
     "metadata": {},
     "output_type": "execute_result"
    }
   ],
   "source": [
    "autos.isna().mean()"
   ]
  },
  {
   "cell_type": "markdown",
   "metadata": {},
   "source": [
    "**Model**"
   ]
  },
  {
   "cell_type": "markdown",
   "metadata": {},
   "source": [
    "- Как правило, модель определяется большим количеством параметров и те, что есть в нашем датасете, могут пересекатьс для разных моделей\n",
    "- Поэтому дабы не допустить ошибок в определении модели, т.к. этот параметр довольно важен в определении стоимости, аккуратно уберем пропуски в столбце Model, ведь их всего 2.6%"
   ]
  },
  {
   "cell_type": "code",
   "execution_count": 74,
   "metadata": {},
   "outputs": [
    {
     "data": {
      "text/plain": [
       "339131"
      ]
     },
     "execution_count": 74,
     "metadata": {},
     "output_type": "execute_result"
    }
   ],
   "source": [
    "autos.shape[0]"
   ]
  },
  {
   "cell_type": "code",
   "execution_count": 75,
   "metadata": {},
   "outputs": [
    {
     "data": {
      "text/plain": [
       "8783"
      ]
     },
     "execution_count": 75,
     "metadata": {},
     "output_type": "execute_result"
    }
   ],
   "source": [
    "autos['Model'].isna().sum()"
   ]
  },
  {
   "cell_type": "code",
   "execution_count": 76,
   "metadata": {},
   "outputs": [],
   "source": [
    "autos.drop(autos[autos['Model'].isna()].index, inplace=True)"
   ]
  },
  {
   "cell_type": "code",
   "execution_count": 77,
   "metadata": {},
   "outputs": [
    {
     "data": {
      "text/plain": [
       "330348"
      ]
     },
     "execution_count": 77,
     "metadata": {},
     "output_type": "execute_result"
    }
   ],
   "source": [
    "autos.shape[0]"
   ]
  },
  {
   "cell_type": "code",
   "execution_count": 78,
   "metadata": {},
   "outputs": [
    {
     "data": {
      "text/plain": [
       "DateCrawled         0.000\n",
       "Price               0.000\n",
       "VehicleType         0.000\n",
       "RegistrationYear    0.000\n",
       "Gearbox             0.000\n",
       "Power               0.000\n",
       "Model               0.000\n",
       "Kilometer           0.000\n",
       "RegistrationMonth   0.000\n",
       "FuelType            0.000\n",
       "Brand               0.000\n",
       "NotRepaired         0.000\n",
       "DateCreated         0.000\n",
       "PostalCode          0.000\n",
       "LastSeen            0.000\n",
       "Kilometer_bins      0.000\n",
       "dtype: float64"
      ]
     },
     "execution_count": 78,
     "metadata": {},
     "output_type": "execute_result"
    }
   ],
   "source": [
    "autos.isna().mean()"
   ]
  },
  {
   "cell_type": "code",
   "execution_count": 79,
   "metadata": {},
   "outputs": [
    {
     "name": "stdout",
     "output_type": "stream",
     "text": [
      "6.78% of data is eliminated after missing values handling\n"
     ]
    }
   ],
   "source": [
    "print('{:.2%} of data is eliminated after missing values handling'.format(1-330348/354369))"
   ]
  },
  {
   "cell_type": "markdown",
   "metadata": {},
   "source": [
    "**Вывод**"
   ]
  },
  {
   "cell_type": "markdown",
   "metadata": {},
   "source": [
    "- Категориальные признаки проверены на предмет наличия ошибочных или дублирующих значений\n",
    "- Обработаны ошибочные значения количественных признаков\n",
    "- Для всех признаков обработаны пропущенные значения\n",
    "- В итоге во время обработки проблемных и пропущенных значений было потеряно около 6.78% исходных данных, что вполне приемлемый результат"
   ]
  },
  {
   "cell_type": "markdown",
   "metadata": {},
   "source": [
    "### Преобразование типов"
   ]
  },
  {
   "cell_type": "markdown",
   "metadata": {},
   "source": [
    "- Преобразуем столбцы с датой и временем в формат datetime"
   ]
  },
  {
   "cell_type": "code",
   "execution_count": 80,
   "metadata": {},
   "outputs": [
    {
     "data": {
      "text/plain": [
       "Index(['DateCrawled', 'Price', 'VehicleType', 'RegistrationYear', 'Gearbox',\n",
       "       'Power', 'Model', 'Kilometer', 'RegistrationMonth', 'FuelType', 'Brand',\n",
       "       'NotRepaired', 'DateCreated', 'PostalCode', 'LastSeen',\n",
       "       'Kilometer_bins'],\n",
       "      dtype='object')"
      ]
     },
     "execution_count": 80,
     "metadata": {},
     "output_type": "execute_result"
    }
   ],
   "source": [
    "autos.columns"
   ]
  },
  {
   "cell_type": "code",
   "execution_count": 81,
   "metadata": {},
   "outputs": [
    {
     "data": {
      "text/html": [
       "<div>\n",
       "<style scoped>\n",
       "    .dataframe tbody tr th:only-of-type {\n",
       "        vertical-align: middle;\n",
       "    }\n",
       "\n",
       "    .dataframe tbody tr th {\n",
       "        vertical-align: top;\n",
       "    }\n",
       "\n",
       "    .dataframe thead th {\n",
       "        text-align: right;\n",
       "    }\n",
       "</style>\n",
       "<table border=\"1\" class=\"dataframe\">\n",
       "  <thead>\n",
       "    <tr style=\"text-align: right;\">\n",
       "      <th></th>\n",
       "      <th>DateCrawled</th>\n",
       "      <th>DateCreated</th>\n",
       "      <th>LastSeen</th>\n",
       "    </tr>\n",
       "  </thead>\n",
       "  <tbody>\n",
       "    <tr>\n",
       "      <td>0</td>\n",
       "      <td>2016-03-24 11:52:17</td>\n",
       "      <td>2016-03-24 00:00:00</td>\n",
       "      <td>2016-04-07 03:16:57</td>\n",
       "    </tr>\n",
       "    <tr>\n",
       "      <td>2</td>\n",
       "      <td>2016-03-14 12:52:21</td>\n",
       "      <td>2016-03-14 00:00:00</td>\n",
       "      <td>2016-04-05 12:47:46</td>\n",
       "    </tr>\n",
       "    <tr>\n",
       "      <td>3</td>\n",
       "      <td>2016-03-17 16:54:04</td>\n",
       "      <td>2016-03-17 00:00:00</td>\n",
       "      <td>2016-03-17 17:40:17</td>\n",
       "    </tr>\n",
       "    <tr>\n",
       "      <td>4</td>\n",
       "      <td>2016-03-31 17:25:20</td>\n",
       "      <td>2016-03-31 00:00:00</td>\n",
       "      <td>2016-04-06 10:17:21</td>\n",
       "    </tr>\n",
       "    <tr>\n",
       "      <td>5</td>\n",
       "      <td>2016-04-04 17:36:23</td>\n",
       "      <td>2016-04-04 00:00:00</td>\n",
       "      <td>2016-04-06 19:17:07</td>\n",
       "    </tr>\n",
       "    <tr>\n",
       "      <td>6</td>\n",
       "      <td>2016-04-01 20:48:51</td>\n",
       "      <td>2016-04-01 00:00:00</td>\n",
       "      <td>2016-04-05 18:18:39</td>\n",
       "    </tr>\n",
       "    <tr>\n",
       "      <td>8</td>\n",
       "      <td>2016-04-04 23:42:13</td>\n",
       "      <td>2016-04-04 00:00:00</td>\n",
       "      <td>2016-04-04 23:42:13</td>\n",
       "    </tr>\n",
       "    <tr>\n",
       "      <td>9</td>\n",
       "      <td>2016-03-17 10:53:50</td>\n",
       "      <td>2016-03-17 00:00:00</td>\n",
       "      <td>2016-03-31 17:17:06</td>\n",
       "    </tr>\n",
       "    <tr>\n",
       "      <td>10</td>\n",
       "      <td>2016-03-26 19:54:18</td>\n",
       "      <td>2016-03-26 00:00:00</td>\n",
       "      <td>2016-04-06 10:45:34</td>\n",
       "    </tr>\n",
       "    <tr>\n",
       "      <td>11</td>\n",
       "      <td>2016-04-07 10:06:22</td>\n",
       "      <td>2016-04-07 00:00:00</td>\n",
       "      <td>2016-04-07 10:25:17</td>\n",
       "    </tr>\n",
       "  </tbody>\n",
       "</table>\n",
       "</div>"
      ],
      "text/plain": [
       "            DateCrawled          DateCreated             LastSeen\n",
       "0   2016-03-24 11:52:17  2016-03-24 00:00:00  2016-04-07 03:16:57\n",
       "2   2016-03-14 12:52:21  2016-03-14 00:00:00  2016-04-05 12:47:46\n",
       "3   2016-03-17 16:54:04  2016-03-17 00:00:00  2016-03-17 17:40:17\n",
       "4   2016-03-31 17:25:20  2016-03-31 00:00:00  2016-04-06 10:17:21\n",
       "5   2016-04-04 17:36:23  2016-04-04 00:00:00  2016-04-06 19:17:07\n",
       "6   2016-04-01 20:48:51  2016-04-01 00:00:00  2016-04-05 18:18:39\n",
       "8   2016-04-04 23:42:13  2016-04-04 00:00:00  2016-04-04 23:42:13\n",
       "9   2016-03-17 10:53:50  2016-03-17 00:00:00  2016-03-31 17:17:06\n",
       "10  2016-03-26 19:54:18  2016-03-26 00:00:00  2016-04-06 10:45:34\n",
       "11  2016-04-07 10:06:22  2016-04-07 00:00:00  2016-04-07 10:25:17"
      ]
     },
     "execution_count": 81,
     "metadata": {},
     "output_type": "execute_result"
    }
   ],
   "source": [
    "autos[['DateCrawled', 'DateCreated', 'LastSeen']].head(10)"
   ]
  },
  {
   "cell_type": "code",
   "execution_count": 82,
   "metadata": {},
   "outputs": [],
   "source": [
    "autos['DateCrawled'] = pd.to_datetime(autos['DateCrawled'], format='%Y-%m-%dT%H:%M:%S')\n",
    "autos['DateCreated'] = pd.to_datetime(autos['DateCreated'], format='%Y-%m-%dT%H:%M:%S')\n",
    "autos['LastSeen'] = pd.to_datetime(autos['LastSeen'], format='%Y-%m-%dT%H:%M:%S')"
   ]
  },
  {
   "cell_type": "code",
   "execution_count": 83,
   "metadata": {
    "scrolled": true
   },
   "outputs": [
    {
     "name": "stdout",
     "output_type": "stream",
     "text": [
      "<class 'pandas.core.frame.DataFrame'>\n",
      "Int64Index: 330348 entries, 0 to 354368\n",
      "Data columns (total 3 columns):\n",
      "DateCrawled    330348 non-null datetime64[ns]\n",
      "DateCreated    330348 non-null datetime64[ns]\n",
      "LastSeen       330348 non-null datetime64[ns]\n",
      "dtypes: datetime64[ns](3)\n",
      "memory usage: 10.1 MB\n"
     ]
    }
   ],
   "source": [
    "autos[['DateCrawled', 'DateCreated', 'LastSeen']].info()"
   ]
  },
  {
   "cell_type": "markdown",
   "metadata": {},
   "source": [
    "### Исследовательский анализ данных"
   ]
  },
  {
   "cell_type": "code",
   "execution_count": 84,
   "metadata": {},
   "outputs": [
    {
     "data": {
      "image/png": "[encoded data removed]",
      "text/plain": [
       "<Figure size 864x576 with 2 Axes>"
      ]
     },
     "metadata": {},
     "output_type": "display_data"
    }
   ],
   "source": [
    "mask = np.triu(autos.corr())\n",
    "fig = plt.subplots(figsize=(12, 8))\n",
    "sns.heatmap(autos.corr(), \n",
    "            annot=True, \n",
    "            cmap= 'PuBu', \n",
    "            square=True, \n",
    "            mask=mask, \n",
    "            vmin=-0.2, \n",
    "            vmax=0.2\n",
    "           )\n",
    "plt.show()"
   ]
  },
  {
   "cell_type": "markdown",
   "metadata": {},
   "source": [
    "### Подготовка признаков"
   ]
  },
  {
   "cell_type": "code",
   "execution_count": 85,
   "metadata": {},
   "outputs": [
    {
     "data": {
      "text/plain": [
       "Index(['DateCrawled', 'Price', 'VehicleType', 'RegistrationYear', 'Gearbox',\n",
       "       'Power', 'Model', 'Kilometer', 'RegistrationMonth', 'FuelType', 'Brand',\n",
       "       'NotRepaired', 'DateCreated', 'PostalCode', 'LastSeen',\n",
       "       'Kilometer_bins'],\n",
       "      dtype='object')"
      ]
     },
     "execution_count": 85,
     "metadata": {},
     "output_type": "execute_result"
    }
   ],
   "source": [
    "autos.columns"
   ]
  },
  {
   "cell_type": "markdown",
   "metadata": {},
   "source": [
    "**Удаление малоинформативных признаков**"
   ]
  },
  {
   "cell_type": "markdown",
   "metadata": {},
   "source": [
    "- Вместо дат посчитаем количество секунд между моментом, когда была скачена анкета (DateCrawled) и последней активностью пользователя (LastSeen), а дата заполнения анкеты (DateCreated) по сути присутствует в дате скачивания, поэтому дату заполнения можно убрать"
   ]
  },
  {
   "cell_type": "code",
   "execution_count": 86,
   "metadata": {},
   "outputs": [
    {
     "data": {
      "text/html": [
       "<div>\n",
       "<style scoped>\n",
       "    .dataframe tbody tr th:only-of-type {\n",
       "        vertical-align: middle;\n",
       "    }\n",
       "\n",
       "    .dataframe tbody tr th {\n",
       "        vertical-align: top;\n",
       "    }\n",
       "\n",
       "    .dataframe thead th {\n",
       "        text-align: right;\n",
       "    }\n",
       "</style>\n",
       "<table border=\"1\" class=\"dataframe\">\n",
       "  <thead>\n",
       "    <tr style=\"text-align: right;\">\n",
       "      <th></th>\n",
       "      <th>DateCrawled</th>\n",
       "      <th>DateCreated</th>\n",
       "      <th>LastSeen</th>\n",
       "    </tr>\n",
       "  </thead>\n",
       "  <tbody>\n",
       "    <tr>\n",
       "      <td>141119</td>\n",
       "      <td>2016-03-21 19:37:45</td>\n",
       "      <td>2016-03-21</td>\n",
       "      <td>2016-03-21 19:37:45</td>\n",
       "    </tr>\n",
       "    <tr>\n",
       "      <td>50826</td>\n",
       "      <td>2016-03-17 21:44:20</td>\n",
       "      <td>2016-03-17</td>\n",
       "      <td>2016-04-07 11:16:29</td>\n",
       "    </tr>\n",
       "    <tr>\n",
       "      <td>241318</td>\n",
       "      <td>2016-03-21 18:49:27</td>\n",
       "      <td>2016-03-21</td>\n",
       "      <td>2016-04-06 21:15:38</td>\n",
       "    </tr>\n",
       "    <tr>\n",
       "      <td>102810</td>\n",
       "      <td>2016-03-22 18:39:14</td>\n",
       "      <td>2016-03-22</td>\n",
       "      <td>2016-04-02 12:18:12</td>\n",
       "    </tr>\n",
       "    <tr>\n",
       "      <td>174636</td>\n",
       "      <td>2016-03-12 17:39:40</td>\n",
       "      <td>2016-03-12</td>\n",
       "      <td>2016-03-24 16:44:27</td>\n",
       "    </tr>\n",
       "  </tbody>\n",
       "</table>\n",
       "</div>"
      ],
      "text/plain": [
       "               DateCrawled DateCreated            LastSeen\n",
       "141119 2016-03-21 19:37:45  2016-03-21 2016-03-21 19:37:45\n",
       "50826  2016-03-17 21:44:20  2016-03-17 2016-04-07 11:16:29\n",
       "241318 2016-03-21 18:49:27  2016-03-21 2016-04-06 21:15:38\n",
       "102810 2016-03-22 18:39:14  2016-03-22 2016-04-02 12:18:12\n",
       "174636 2016-03-12 17:39:40  2016-03-12 2016-03-24 16:44:27"
      ]
     },
     "execution_count": 86,
     "metadata": {},
     "output_type": "execute_result"
    }
   ],
   "source": [
    "autos[['DateCrawled', 'DateCreated', 'LastSeen']].sample(5)"
   ]
  },
  {
   "cell_type": "code",
   "execution_count": 87,
   "metadata": {},
   "outputs": [],
   "source": [
    "autos['Ad_awaiting'] = (autos['LastSeen'] - autos['DateCrawled']).dt.seconds"
   ]
  },
  {
   "cell_type": "code",
   "execution_count": 88,
   "metadata": {},
   "outputs": [
    {
     "data": {
      "image/png": "[encoded data removed]",
      "text/plain": [
       "<Figure size 720x432 with 1 Axes>"
      ]
     },
     "metadata": {},
     "output_type": "display_data"
    }
   ],
   "source": [
    "plt.figure(figsize=(10,6))\n",
    "sns.distplot(autos[['Ad_awaiting']])\n",
    "plt.show()"
   ]
  },
  {
   "cell_type": "code",
   "execution_count": 89,
   "metadata": {},
   "outputs": [
    {
     "data": {
      "text/plain": [
       "(330348, 17)"
      ]
     },
     "execution_count": 89,
     "metadata": {},
     "output_type": "execute_result"
    }
   ],
   "source": [
    "autos.shape"
   ]
  },
  {
   "cell_type": "code",
   "execution_count": 90,
   "metadata": {},
   "outputs": [],
   "source": [
    "autos.drop(columns=['DateCrawled', 'DateCreated', 'LastSeen'], inplace=True)"
   ]
  },
  {
   "cell_type": "code",
   "execution_count": 91,
   "metadata": {},
   "outputs": [
    {
     "data": {
      "text/plain": [
       "(330348, 14)"
      ]
     },
     "execution_count": 91,
     "metadata": {},
     "output_type": "execute_result"
    }
   ],
   "source": [
    "autos.shape"
   ]
  },
  {
   "cell_type": "markdown",
   "metadata": {},
   "source": [
    "- Кроме того, нам вряд ли поможет индекс местоположения автомобиля (PostalCode), кроме того нам не нужно точность до месяца в плане того, когда был зарегистрирован авто, поэтому мы также убираем признак RegistrationMonth\n",
    "- Т.к. нам не сильно важна абсолютно точная цифра пробега, а скорее разделение пробега по категориям, оставим признак Kilometer_bins, созданный ранее, где пробег разбит на 5 категорий с шагом 29000 км"
   ]
  },
  {
   "cell_type": "code",
   "execution_count": 92,
   "metadata": {},
   "outputs": [
    {
     "data": {
      "text/plain": [
       "(330348, 14)"
      ]
     },
     "execution_count": 92,
     "metadata": {},
     "output_type": "execute_result"
    }
   ],
   "source": [
    "autos.shape"
   ]
  },
  {
   "cell_type": "code",
   "execution_count": 93,
   "metadata": {},
   "outputs": [],
   "source": [
    "autos.drop(columns=['PostalCode', 'RegistrationMonth', 'Kilometer'], inplace=True)"
   ]
  },
  {
   "cell_type": "code",
   "execution_count": 94,
   "metadata": {},
   "outputs": [
    {
     "data": {
      "text/plain": [
       "(330348, 11)"
      ]
     },
     "execution_count": 94,
     "metadata": {},
     "output_type": "execute_result"
    }
   ],
   "source": [
    "autos.shape"
   ]
  },
  {
   "cell_type": "code",
   "execution_count": 95,
   "metadata": {
    "scrolled": true
   },
   "outputs": [
    {
     "data": {
      "text/plain": [
       "Index(['Price', 'VehicleType', 'RegistrationYear', 'Gearbox', 'Power', 'Model',\n",
       "       'FuelType', 'Brand', 'NotRepaired', 'Kilometer_bins', 'Ad_awaiting'],\n",
       "      dtype='object')"
      ]
     },
     "execution_count": 95,
     "metadata": {},
     "output_type": "execute_result"
    }
   ],
   "source": [
    "autos.columns"
   ]
  },
  {
   "cell_type": "markdown",
   "metadata": {},
   "source": [
    "**Кодирование категориальных признаков**"
   ]
  },
  {
   "cell_type": "markdown",
   "metadata": {},
   "source": [
    "- Бинарные категориальные переменные закодируем через 0 и 1\n",
    "- Бинарные переменные в датасете: Gearbox и NotRepaired"
   ]
  },
  {
   "cell_type": "code",
   "execution_count": 96,
   "metadata": {},
   "outputs": [
    {
     "data": {
      "text/plain": [
       "array(['manual', 'auto'], dtype=object)"
      ]
     },
     "execution_count": 96,
     "metadata": {},
     "output_type": "execute_result"
    }
   ],
   "source": [
    "autos['Gearbox'].unique()"
   ]
  },
  {
   "cell_type": "code",
   "execution_count": 97,
   "metadata": {},
   "outputs": [],
   "source": [
    "autos['Gearbox'] = autos['Gearbox'].map({'manual': 0, 'auto': 1})"
   ]
  },
  {
   "cell_type": "code",
   "execution_count": 98,
   "metadata": {},
   "outputs": [
    {
     "data": {
      "text/plain": [
       "array([0, 1])"
      ]
     },
     "execution_count": 98,
     "metadata": {},
     "output_type": "execute_result"
    }
   ],
   "source": [
    "autos['Gearbox'].unique()"
   ]
  },
  {
   "cell_type": "code",
   "execution_count": 99,
   "metadata": {},
   "outputs": [
    {
     "data": {
      "text/plain": [
       "array(['no', 'yes'], dtype=object)"
      ]
     },
     "execution_count": 99,
     "metadata": {},
     "output_type": "execute_result"
    }
   ],
   "source": [
    "autos['NotRepaired'].unique()"
   ]
  },
  {
   "cell_type": "code",
   "execution_count": 100,
   "metadata": {},
   "outputs": [],
   "source": [
    "autos['NotRepaired'] = autos['NotRepaired'].map({'no': 0, 'yes': 1})"
   ]
  },
  {
   "cell_type": "code",
   "execution_count": 101,
   "metadata": {},
   "outputs": [
    {
     "data": {
      "text/plain": [
       "array([0, 1])"
      ]
     },
     "execution_count": 101,
     "metadata": {},
     "output_type": "execute_result"
    }
   ],
   "source": [
    "autos['NotRepaired'].unique()"
   ]
  },
  {
   "cell_type": "markdown",
   "metadata": {},
   "source": [
    "- Закодируем остальные категориальные переменные с помощью Ordinal Encoding"
   ]
  },
  {
   "cell_type": "code",
   "execution_count": 102,
   "metadata": {},
   "outputs": [],
   "source": [
    "X = autos.drop('Price', axis=1)\n",
    "y = autos[['Price']]"
   ]
  },
  {
   "cell_type": "code",
   "execution_count": 103,
   "metadata": {},
   "outputs": [
    {
     "data": {
      "text/plain": [
       "(330348, 11)"
      ]
     },
     "execution_count": 103,
     "metadata": {},
     "output_type": "execute_result"
    }
   ],
   "source": [
    "autos.shape"
   ]
  },
  {
   "cell_type": "code",
   "execution_count": 104,
   "metadata": {},
   "outputs": [
    {
     "data": {
      "text/plain": [
       "(330348, 10)"
      ]
     },
     "execution_count": 104,
     "metadata": {},
     "output_type": "execute_result"
    }
   ],
   "source": [
    "X.shape"
   ]
  },
  {
   "cell_type": "code",
   "execution_count": 105,
   "metadata": {},
   "outputs": [
    {
     "data": {
      "text/plain": [
       "(330348, 1)"
      ]
     },
     "execution_count": 105,
     "metadata": {},
     "output_type": "execute_result"
    }
   ],
   "source": [
    "y.shape"
   ]
  },
  {
   "cell_type": "code",
   "execution_count": 106,
   "metadata": {},
   "outputs": [],
   "source": [
    "# X = pd.get_dummies(X, drop_first=True)"
   ]
  },
  {
   "cell_type": "code",
   "execution_count": 107,
   "metadata": {},
   "outputs": [],
   "source": [
    "oe = OrdinalEncoder()\n",
    "X = oe.fit_transform(X)"
   ]
  },
  {
   "cell_type": "code",
   "execution_count": 108,
   "metadata": {
    "scrolled": true
   },
   "outputs": [
    {
     "data": {
      "text/plain": [
       "(330348, 10)"
      ]
     },
     "execution_count": 108,
     "metadata": {},
     "output_type": "execute_result"
    }
   ],
   "source": [
    "X.shape"
   ]
  },
  {
   "cell_type": "markdown",
   "metadata": {},
   "source": [
    "### Создание обучающей и тестовой выборок"
   ]
  },
  {
   "cell_type": "markdown",
   "metadata": {},
   "source": [
    "- Разделим данные на обучающую (75%) и тестовую выборки (25%)"
   ]
  },
  {
   "cell_type": "code",
   "execution_count": 109,
   "metadata": {},
   "outputs": [],
   "source": [
    "seed = 24\n",
    "cv_k = 5"
   ]
  },
  {
   "cell_type": "code",
   "execution_count": 110,
   "metadata": {},
   "outputs": [],
   "source": [
    "X_train, X_test, y_train, y_test = train_test_split(X, \n",
    "                                                    y, \n",
    "                                                    test_size=0.25, \n",
    "                                                    random_state=seed\n",
    "                                                   )"
   ]
  },
  {
   "cell_type": "markdown",
   "metadata": {},
   "source": [
    "## Обучение моделей"
   ]
  },
  {
   "cell_type": "markdown",
   "metadata": {},
   "source": [
    "- Напишем функции для обучения, подбора гиперпараметров модели с помощью RandomizedSearchCV или GridSearchCV и расчет RMSE и R2 по тестовой выборке\n",
    "- Отдельно напишем функцию для обучения линейной регрессии, т.к. для ее реализации в sklearn нет гиперпараметров. Будем использовать кросс-валидацию для оценки качества модели"
   ]
  },
  {
   "cell_type": "code",
   "execution_count": 111,
   "metadata": {},
   "outputs": [],
   "source": [
    "def reg_gs_score(model, x_train, y_train, x_test, y_test, cv_k, hp_space, seed=24, scale=False, randomcv=False, n=10):\n",
    "    \"\"\"\n",
    "    scores the regression model using RandomizedSearchCV or GridSearchCV, RMSE and R squared\n",
    "    \n",
    "    params:\n",
    "    - model - the regression model\n",
    "    - x_train - training features\n",
    "    - y_train - training labels\n",
    "    - x_test - test features\n",
    "    - y_test - test labels\n",
    "    - cv_k - k for k-fold cross-validation in RandomizedSearchCV or GridSearchCV\n",
    "    - hp_space - hyperparameter space\n",
    "    - seed - seed\n",
    "    - scale=False - True if the model needs to be scaled (StandardScaler applied)\n",
    "    - randomcv=False - True if RandomizedSearchCV is prefered over GridSearchCV\n",
    "    - n - n_iter parameter for RandomizedSearchCV\n",
    "    \n",
    "    returns:\n",
    "    - rmse_test - RMSE test\n",
    "    - r2_test - r squared on the test set\n",
    "    - rmse_val - RMSE validation\n",
    "    - reg_gs_best_params - model's best parameters from RandomizedSearchCV based on final sMAPE\n",
    "    - reg_gs_best_model - best model from RandomizedSearchCV based on final sMAPE\n",
    "    \"\"\"\n",
    "    if scale:\n",
    "        scaler = StandardScaler()\n",
    "        reg = model\n",
    "        \n",
    "        steps = [('scaler', scaler), ('reg', reg)]\n",
    "        pipeline = Pipeline(steps)\n",
    "        \n",
    "        new_hp_space = {}\n",
    "        for key, val in hp_space.items():\n",
    "            new_hp_space['reg__'+key] = val\n",
    "            \n",
    "        hp_space = new_hp_space.copy()\n",
    "    else:\n",
    "        pipeline = model\n",
    "        \n",
    "    if randomcv:\n",
    "        reg_gs = RandomizedSearchCV(pipeline, \n",
    "                                    hp_space, \n",
    "                                    cv=cv_k, \n",
    "                                    scoring='neg_mean_squared_error',\n",
    "                                    random_state=seed,\n",
    "                                    verbose=1,\n",
    "                                    n_iter=n\n",
    "                                   )\n",
    "    else:\n",
    "        reg_gs = GridSearchCV(pipeline, \n",
    "                              hp_space, \n",
    "                              cv=cv_k, \n",
    "                              scoring='neg_mean_squared_error',\n",
    "                              verbose=1\n",
    "                             )\n",
    "    \n",
    "    reg_gs.fit(x_train, y_train)\n",
    "    \n",
    "    reg_gs_best_params = reg_gs.best_params_\n",
    "    reg_gs_best_model = reg_gs.best_estimator_\n",
    "    rmse_val = np.sqrt(-reg_gs.best_score_).round(3)\n",
    "    \n",
    "    if scale:\n",
    "        reg_gs_best_params_out_of_pipe = {}\n",
    "        for key, val in reg_gs_best_params.items():\n",
    "            reg_gs_best_params_out_of_pipe[key[5:]] = val\n",
    "    else:\n",
    "        reg_gs_best_params_out_of_pipe = reg_gs_best_params.copy()\n",
    "    \n",
    "    y_pred = reg_gs_best_model.predict(x_test)\n",
    "    rmse_test = np.sqrt(mean_squared_error(y_test, y_pred)).round(3)\n",
    "    r2_test = r2_score(y_test, y_pred).round(3)\n",
    "    \n",
    "    return rmse_test, r2_test, rmse_val, reg_gs_best_params, reg_gs_best_params_out_of_pipe, reg_gs_best_model"
   ]
  },
  {
   "cell_type": "code",
   "execution_count": 112,
   "metadata": {},
   "outputs": [],
   "source": [
    "def bm_linreg_cv_score(x_train, y_train, x_test, y_test, cv_k):\n",
    "    \"\"\"\n",
    "    scores sklearn's LinearRegression model using cross_validate on neg_mean_squared_error score function\n",
    "    \n",
    "    params:\n",
    "    - x_train - training features\n",
    "    - y_train - training labels\n",
    "    - x_test - test features\n",
    "    - y_test - test labels\n",
    "    - cv_k - k for k-fold cross-validation\n",
    "    \n",
    "    returns:\n",
    "    - rmse_test - RMSE test\n",
    "    - rmse_val - RMSE validation\n",
    "    - rmse_train - RMSE train\n",
    "    \"\"\"\n",
    "    scaler = StandardScaler()\n",
    "    linreg = LinearRegression()\n",
    "\n",
    "    steps = [('scaler', scaler), ('linreg', linreg)]\n",
    "    pipeline = Pipeline(steps)\n",
    "\n",
    "    train_val_score_linreg_1 = cross_validate(pipeline,\n",
    "                                              x_train, \n",
    "                                              y_train, \n",
    "                                              cv=cv_k, \n",
    "                                              scoring='neg_mean_squared_error',\n",
    "                                              return_train_score=True\n",
    "                                              )\n",
    "    \n",
    "    pipeline.fit(x_train, y_train)\n",
    "    y_pred = pipeline.predict(x_test)\n",
    "\n",
    "    rmse_test = np.sqrt(mean_squared_error(y_test, y_pred)).round(3)\n",
    "    rmse_val = np.sqrt(-train_val_score_linreg_1['test_score'].mean()).round(3)\n",
    "    rmse_train = np.sqrt(-train_val_score_linreg_1['train_score'].mean()).round(3)\n",
    "    \n",
    "    return rmse_test, rmse_val, rmse_train"
   ]
  },
  {
   "cell_type": "markdown",
   "metadata": {},
   "source": [
    "- Обучим следующие модели:\n",
    "    - LinearRegression\n",
    "    - ElasticNet\n",
    "    - RandomForestRegressor\n",
    "    - LightGBM Regressor\n",
    "- Адекватность полученных моделей проверим с помощью DummyRegressor\n",
    "- Помним, что помимо качества предсказаний модели, нам также важно время обучения-предсказания модели"
   ]
  },
  {
   "cell_type": "markdown",
   "metadata": {},
   "source": [
    "### LinearRegression"
   ]
  },
  {
   "cell_type": "code",
   "execution_count": 113,
   "metadata": {},
   "outputs": [
    {
     "name": "stdout",
     "output_type": "stream",
     "text": [
      "CPU times: user 1.78 s, sys: 1.05 s, total: 2.84 s\n",
      "Wall time: 2.78 s\n"
     ]
    }
   ],
   "source": [
    "%%time\n",
    "rmse_test_bm1, rmse_val_bm1, rmse_train_bm1 = bm_linreg_cv_score(X_train, \n",
    "                                                                 y_train, \n",
    "                                                                 X_test, \n",
    "                                                                 y_test, \n",
    "                                                                 5\n",
    "                                                                )"
   ]
  },
  {
   "cell_type": "code",
   "execution_count": 114,
   "metadata": {},
   "outputs": [
    {
     "name": "stdout",
     "output_type": "stream",
     "text": [
      "RMSE test: 2954.813\n",
      "RMSE valid: 2939.835\n",
      "RMSE train: 2939.658\n"
     ]
    }
   ],
   "source": [
    "print(f'RMSE test: {rmse_test_bm1}')\n",
    "print(f'RMSE valid: {rmse_val_bm1}')\n",
    "print(f'RMSE train: {rmse_train_bm1}')"
   ]
  },
  {
   "cell_type": "code",
   "execution_count": 115,
   "metadata": {},
   "outputs": [
    {
     "name": "stdout",
     "output_type": "stream",
     "text": [
      "CPU times: user 105 ms, sys: 48.2 ms, total: 154 ms\n",
      "Wall time: 115 ms\n"
     ]
    },
    {
     "data": {
      "text/plain": [
       "LinearRegression(copy_X=True, fit_intercept=True, n_jobs=None, normalize=False)"
      ]
     },
     "execution_count": 115,
     "metadata": {},
     "output_type": "execute_result"
    }
   ],
   "source": [
    "%%time\n",
    "linreg = LinearRegression()\n",
    "linreg.fit(X_train, y_train)"
   ]
  },
  {
   "cell_type": "code",
   "execution_count": 116,
   "metadata": {},
   "outputs": [
    {
     "name": "stdout",
     "output_type": "stream",
     "text": [
      "CPU times: user 16.5 ms, sys: 19.7 ms, total: 36.1 ms\n",
      "Wall time: 6.14 ms\n"
     ]
    }
   ],
   "source": [
    "%%time\n",
    "y_pred_linreg = linreg.predict(X_test)"
   ]
  },
  {
   "cell_type": "markdown",
   "metadata": {},
   "source": [
    "### ElasticNet"
   ]
  },
  {
   "cell_type": "code",
   "execution_count": 117,
   "metadata": {},
   "outputs": [
    {
     "name": "stdout",
     "output_type": "stream",
     "text": [
      "Fitting 5 folds for each of 5 candidates, totalling 25 fits\n"
     ]
    },
    {
     "name": "stderr",
     "output_type": "stream",
     "text": [
      "[Parallel(n_jobs=1)]: Using backend SequentialBackend with 1 concurrent workers.\n",
      "[Parallel(n_jobs=1)]: Done  25 out of  25 | elapsed:  2.3min finished\n"
     ]
    },
    {
     "name": "stdout",
     "output_type": "stream",
     "text": [
      "CPU times: user 1min 32s, sys: 42.9 s, total: 2min 15s\n",
      "Wall time: 2min 16s\n"
     ]
    }
   ],
   "source": [
    "%%time\n",
    "hs_en = {'alpha': np.linspace(0.01, 0.1, 9),\n",
    "         'l1_ratio': np.linspace(0, 1, 10)\n",
    "        }\n",
    "\n",
    "en_rmse_test, en_r2_test, en_rmse_val, en_best_params, _, en_best_model = reg_gs_score(ElasticNet(random_state=24), \n",
    "                                                                                       X_train, \n",
    "                                                                                       y_train, \n",
    "                                                                                       X_test, \n",
    "                                                                                       y_test, \n",
    "                                                                                       5, \n",
    "                                                                                       hs_en, \n",
    "                                                                                       seed=24, \n",
    "                                                                                       scale=True,\n",
    "                                                                                       randomcv=True,\n",
    "                                                                                       n=5\n",
    "                                                                                      )\n"
   ]
  },
  {
   "cell_type": "code",
   "execution_count": 118,
   "metadata": {},
   "outputs": [
    {
     "name": "stdout",
     "output_type": "stream",
     "text": [
      "ElasticNet best params: {'reg__l1_ratio': 0.8888888888888888, 'reg__alpha': 0.05500000000000001}\n",
      "RMSE test: 2954.891\n",
      "RMSE valid: 2939.891\n",
      "R2 test: 0.571\n"
     ]
    }
   ],
   "source": [
    "print(f'ElasticNet best params: {en_best_params}')\n",
    "print(f'RMSE test: {en_rmse_test}')\n",
    "print(f'RMSE valid: {en_rmse_val}')\n",
    "print(f'R2 test: {en_r2_test}')"
   ]
  },
  {
   "cell_type": "code",
   "execution_count": 119,
   "metadata": {},
   "outputs": [
    {
     "name": "stdout",
     "output_type": "stream",
     "text": [
      "CPU times: user 198 ms, sys: 91.5 ms, total: 289 ms\n",
      "Wall time: 281 ms\n"
     ]
    },
    {
     "data": {
      "text/plain": [
       "ElasticNet(alpha=0.05500000000000001, copy_X=True, fit_intercept=True,\n",
       "           l1_ratio=0.8888888888888888, max_iter=1000, normalize=False,\n",
       "           positive=False, precompute=False, random_state=None,\n",
       "           selection='cyclic', tol=0.0001, warm_start=False)"
      ]
     },
     "execution_count": 119,
     "metadata": {},
     "output_type": "execute_result"
    }
   ],
   "source": [
    "%%time\n",
    "elnet = ElasticNet(l1_ratio=0.8888888888888888, alpha=0.05500000000000001)\n",
    "elnet.fit(X_train, y_train)"
   ]
  },
  {
   "cell_type": "code",
   "execution_count": 120,
   "metadata": {},
   "outputs": [
    {
     "name": "stdout",
     "output_type": "stream",
     "text": [
      "CPU times: user 0 ns, sys: 15.4 ms, total: 15.4 ms\n",
      "Wall time: 2.45 ms\n"
     ]
    }
   ],
   "source": [
    "%%time\n",
    "y_pred_elnet = elnet.predict(X_test)"
   ]
  },
  {
   "cell_type": "markdown",
   "metadata": {},
   "source": [
    "### RandomForestRegressor"
   ]
  },
  {
   "cell_type": "code",
   "execution_count": 121,
   "metadata": {},
   "outputs": [
    {
     "name": "stdout",
     "output_type": "stream",
     "text": [
      "Fitting 5 folds for each of 24 candidates, totalling 120 fits\n"
     ]
    },
    {
     "name": "stderr",
     "output_type": "stream",
     "text": [
      "[Parallel(n_jobs=1)]: Using backend SequentialBackend with 1 concurrent workers.\n",
      "[Parallel(n_jobs=1)]: Done 120 out of 120 | elapsed:  4.2min finished\n"
     ]
    },
    {
     "name": "stdout",
     "output_type": "stream",
     "text": [
      "CPU times: user 4min 16s, sys: 0 ns, total: 4min 16s\n",
      "Wall time: 4min 19s\n"
     ]
    }
   ],
   "source": [
    "%%time\n",
    "hs_rf = {'max_depth': np.arange(4, 10),\n",
    "         'max_features': np.arange(3, 11, 2)\n",
    "        }\n",
    "\n",
    "rf_rmse_test, rf_r2_test, rf_rmse_val, rf_best_params, _, rf_best_model = reg_gs_score(RandomForestRegressor(random_state=24,\n",
    "                                                                                                             n_jobs=-1\n",
    "                                                                                                            ), \n",
    "                                                                                       X_train, \n",
    "                                                                                       y_train, \n",
    "                                                                                       X_test, \n",
    "                                                                                       y_test, \n",
    "                                                                                       5, \n",
    "                                                                                       hs_rf, \n",
    "                                                                                       seed=24, \n",
    "                                                                                       scale=False,\n",
    "                                                                                       #randomcv=True,\n",
    "                                                                                       n=10\n",
    "                                                                                      )"
   ]
  },
  {
   "cell_type": "code",
   "execution_count": 122,
   "metadata": {},
   "outputs": [
    {
     "name": "stdout",
     "output_type": "stream",
     "text": [
      "RandomForest best params: {'max_depth': 9, 'max_features': 7}\n",
      "RMSE test: 1945.989\n",
      "RMSE valid: 1944.415\n",
      "R2 test: 0.814\n"
     ]
    }
   ],
   "source": [
    "print(f'RandomForest best params: {rf_best_params}')\n",
    "print(f'RMSE test: {rf_rmse_test}')\n",
    "print(f'RMSE valid: {rf_rmse_val}')\n",
    "print(f'R2 test: {rf_r2_test}')"
   ]
  },
  {
   "cell_type": "code",
   "execution_count": 123,
   "metadata": {},
   "outputs": [
    {
     "name": "stdout",
     "output_type": "stream",
     "text": [
      "CPU times: user 3.95 s, sys: 0 ns, total: 3.95 s\n",
      "Wall time: 3.98 s\n"
     ]
    },
    {
     "data": {
      "text/plain": [
       "RandomForestRegressor(bootstrap=True, criterion='mse', max_depth=9,\n",
       "                      max_features=7, max_leaf_nodes=None,\n",
       "                      min_impurity_decrease=0.0, min_impurity_split=None,\n",
       "                      min_samples_leaf=1, min_samples_split=2,\n",
       "                      min_weight_fraction_leaf=0.0, n_estimators=10, n_jobs=-1,\n",
       "                      oob_score=False, random_state=24, verbose=0,\n",
       "                      warm_start=False)"
      ]
     },
     "execution_count": 123,
     "metadata": {},
     "output_type": "execute_result"
    }
   ],
   "source": [
    "%%time\n",
    "ranfor = RandomForestRegressor(random_state=24, max_depth=9, max_features=7, n_jobs=-1)\n",
    "ranfor.fit(X_train, y_train)"
   ]
  },
  {
   "cell_type": "code",
   "execution_count": 124,
   "metadata": {},
   "outputs": [
    {
     "name": "stdout",
     "output_type": "stream",
     "text": [
      "CPU times: user 83.3 ms, sys: 0 ns, total: 83.3 ms\n",
      "Wall time: 97.5 ms\n"
     ]
    }
   ],
   "source": [
    "%%time\n",
    "y_pred_ranfor = ranfor.predict(X_test)"
   ]
  },
  {
   "cell_type": "markdown",
   "metadata": {},
   "source": [
    "### LightGBM Regressor"
   ]
  },
  {
   "cell_type": "code",
   "execution_count": 125,
   "metadata": {},
   "outputs": [
    {
     "name": "stdout",
     "output_type": "stream",
     "text": [
      "Fitting 5 folds for each of 2 candidates, totalling 10 fits\n"
     ]
    },
    {
     "name": "stderr",
     "output_type": "stream",
     "text": [
      "[Parallel(n_jobs=1)]: Using backend SequentialBackend with 1 concurrent workers.\n",
      "[Parallel(n_jobs=1)]: Done  10 out of  10 | elapsed:  6.0min finished\n"
     ]
    },
    {
     "name": "stdout",
     "output_type": "stream",
     "text": [
      "CPU times: user 6min 37s, sys: 0 ns, total: 6min 37s\n",
      "Wall time: 6min 43s\n"
     ]
    }
   ],
   "source": [
    "%%time\n",
    "hs_gb = {'num_iterations': [200],\n",
    "         'max_depth': [7, 10]\n",
    "        }\n",
    "\n",
    "gb_rmse_test, gb_r2_test, gb_rmse_val, gb_best_params, _, gb_best_model = reg_gs_score(lgb.LGBMRegressor(categorical_feature = [1,5,6,7,9]), \n",
    "                                                                                       X_train, \n",
    "                                                                                       y_train, \n",
    "                                                                                       X_test, \n",
    "                                                                                       y_test, \n",
    "                                                                                       cv_k, \n",
    "                                                                                       hs_gb, \n",
    "                                                                                       seed=24, \n",
    "                                                                                       scale=False, \n",
    "                                                                                       randomcv=False, \n",
    "                                                                                       n=10\n",
    "                                                                                      )"
   ]
  },
  {
   "cell_type": "code",
   "execution_count": 126,
   "metadata": {},
   "outputs": [
    {
     "name": "stdout",
     "output_type": "stream",
     "text": [
      "GradientBoosting best params: {'max_depth': 10, 'num_iterations': 200}\n",
      "RMSE test: 1667.924\n",
      "RMSE valid: 1676.477\n",
      "R2 test: 0.863\n"
     ]
    }
   ],
   "source": [
    "print(f'GradientBoosting best params: {gb_best_params}')\n",
    "print(f'RMSE test: {gb_rmse_test}')\n",
    "print(f'RMSE valid: {gb_rmse_val}')\n",
    "print(f'R2 test: {gb_r2_test}')"
   ]
  },
  {
   "cell_type": "code",
   "execution_count": 127,
   "metadata": {},
   "outputs": [
    {
     "name": "stdout",
     "output_type": "stream",
     "text": [
      "CPU times: user 46.7 s, sys: 0 ns, total: 46.7 s\n",
      "Wall time: 47.8 s\n"
     ]
    },
    {
     "data": {
      "text/plain": [
       "LGBMRegressor(boosting_type='gbdt', categorical_feature=[1, 5, 6, 7, 9],\n",
       "              class_weight=None, colsample_bytree=1.0, importance_type='split',\n",
       "              learning_rate=0.1, max_depth=10, min_child_samples=20,\n",
       "              min_child_weight=0.001, min_split_gain=0.0, n_estimators=100,\n",
       "              n_jobs=-1, num_iterations=200, num_leaves=31, objective=None,\n",
       "              random_state=None, reg_alpha=0.0, reg_lambda=0.0, silent=True,\n",
       "              subsample=1.0, subsample_for_bin=200000, subsample_freq=0)"
      ]
     },
     "execution_count": 127,
     "metadata": {},
     "output_type": "execute_result"
    }
   ],
   "source": [
    "%%time\n",
    "gradboost = lgb.LGBMRegressor(categorical_feature = [1,5,6,7,9], max_depth=10, num_iterations=200)\n",
    "gradboost.fit(X_train, y_train)"
   ]
  },
  {
   "cell_type": "code",
   "execution_count": 128,
   "metadata": {},
   "outputs": [
    {
     "name": "stdout",
     "output_type": "stream",
     "text": [
      "CPU times: user 3.45 s, sys: 0 ns, total: 3.45 s\n",
      "Wall time: 3.49 s\n"
     ]
    }
   ],
   "source": [
    "%%time\n",
    "y_pred_gradboost = gradboost.predict(X_test)"
   ]
  },
  {
   "cell_type": "markdown",
   "metadata": {},
   "source": [
    "### DummyRegressor"
   ]
  },
  {
   "cell_type": "code",
   "execution_count": 129,
   "metadata": {},
   "outputs": [
    {
     "name": "stdout",
     "output_type": "stream",
     "text": [
      "CPU times: user 7.11 ms, sys: 0 ns, total: 7.11 ms\n",
      "Wall time: 5.96 ms\n"
     ]
    },
    {
     "data": {
      "text/plain": [
       "DummyRegressor(constant=None, quantile=None, strategy='median')"
      ]
     },
     "execution_count": 129,
     "metadata": {},
     "output_type": "execute_result"
    }
   ],
   "source": [
    "%%time\n",
    "dummy_reg = DummyRegressor(strategy=\"median\")\n",
    "dummy_reg.fit(X_train, y_train)"
   ]
  },
  {
   "cell_type": "code",
   "execution_count": 130,
   "metadata": {},
   "outputs": [
    {
     "name": "stdout",
     "output_type": "stream",
     "text": [
      "CPU times: user 1.46 ms, sys: 0 ns, total: 1.46 ms\n",
      "Wall time: 719 µs\n"
     ]
    }
   ],
   "source": [
    "%%time\n",
    "y_pred_dummy = dummy_reg.predict(X_test)"
   ]
  },
  {
   "cell_type": "code",
   "execution_count": 131,
   "metadata": {},
   "outputs": [
    {
     "name": "stdout",
     "output_type": "stream",
     "text": [
      "CPU times: user 2.62 ms, sys: 0 ns, total: 2.62 ms\n",
      "Wall time: 2.26 ms\n"
     ]
    },
    {
     "data": {
      "text/plain": [
       "23163804.91"
      ]
     },
     "execution_count": 131,
     "metadata": {},
     "output_type": "execute_result"
    }
   ],
   "source": [
    "%%time\n",
    "rmse_dummy = mean_squared_error(y_test, y_pred_dummy).round(3)\n",
    "rmse_dummy"
   ]
  },
  {
   "cell_type": "markdown",
   "metadata": {},
   "source": [
    "**Вывод**"
   ]
  },
  {
   "cell_type": "markdown",
   "metadata": {},
   "source": [
    "- Лучший результат по качеству показала модель LightGBM, но в то же время это самая медленная модель\n",
    "- Самая быстрая модель - LinearRegression - оказалась практически самой худшей по качеству, причем качество значительно уступает качеству модели LightGBM"
   ]
  },
  {
   "cell_type": "markdown",
   "metadata": {},
   "source": [
    "## Анализ моделей"
   ]
  },
  {
   "cell_type": "code",
   "execution_count": 137,
   "metadata": {},
   "outputs": [
    {
     "data": {
      "text/html": [
       "<div>\n",
       "<style scoped>\n",
       "    .dataframe tbody tr th:only-of-type {\n",
       "        vertical-align: middle;\n",
       "    }\n",
       "\n",
       "    .dataframe tbody tr th {\n",
       "        vertical-align: top;\n",
       "    }\n",
       "\n",
       "    .dataframe thead th {\n",
       "        text-align: right;\n",
       "    }\n",
       "</style>\n",
       "<table border=\"1\" class=\"dataframe\">\n",
       "  <thead>\n",
       "    <tr style=\"text-align: right;\">\n",
       "      <th></th>\n",
       "      <th>rmse_test</th>\n",
       "      <th>rmse_val</th>\n",
       "      <th>fit_time_ms</th>\n",
       "      <th>predict_time_ms</th>\n",
       "      <th>total_time_ms</th>\n",
       "    </tr>\n",
       "  </thead>\n",
       "  <tbody>\n",
       "    <tr>\n",
       "      <td>LightGBMRegressor</td>\n",
       "      <td>1667.924</td>\n",
       "      <td>1676.477</td>\n",
       "      <td>47800</td>\n",
       "      <td>3490</td>\n",
       "      <td>51290</td>\n",
       "    </tr>\n",
       "    <tr>\n",
       "      <td>RandomForestRegressor</td>\n",
       "      <td>1945.989</td>\n",
       "      <td>1944.415</td>\n",
       "      <td>3980</td>\n",
       "      <td>98</td>\n",
       "      <td>4078</td>\n",
       "    </tr>\n",
       "    <tr>\n",
       "      <td>LinearRegression</td>\n",
       "      <td>2954.813</td>\n",
       "      <td>2939.835</td>\n",
       "      <td>115</td>\n",
       "      <td>6</td>\n",
       "      <td>121</td>\n",
       "    </tr>\n",
       "    <tr>\n",
       "      <td>ElasticNet</td>\n",
       "      <td>2954.891</td>\n",
       "      <td>2939.891</td>\n",
       "      <td>281</td>\n",
       "      <td>2</td>\n",
       "      <td>283</td>\n",
       "    </tr>\n",
       "    <tr>\n",
       "      <td>DummyRegressor</td>\n",
       "      <td>23163804.910</td>\n",
       "      <td>23163804.910</td>\n",
       "      <td>719</td>\n",
       "      <td>2</td>\n",
       "      <td>721</td>\n",
       "    </tr>\n",
       "  </tbody>\n",
       "</table>\n",
       "</div>"
      ],
      "text/plain": [
       "                         rmse_test     rmse_val  fit_time_ms  predict_time_ms  \\\n",
       "LightGBMRegressor         1667.924     1676.477        47800             3490   \n",
       "RandomForestRegressor     1945.989     1944.415         3980               98   \n",
       "LinearRegression          2954.813     2939.835          115                6   \n",
       "ElasticNet                2954.891     2939.891          281                2   \n",
       "DummyRegressor        23163804.910 23163804.910          719                2   \n",
       "\n",
       "                       total_time_ms  \n",
       "LightGBMRegressor              51290  \n",
       "RandomForestRegressor           4078  \n",
       "LinearRegression                 121  \n",
       "ElasticNet                       283  \n",
       "DummyRegressor                   721  "
      ]
     },
     "execution_count": 137,
     "metadata": {},
     "output_type": "execute_result"
    }
   ],
   "source": [
    "results = pd.DataFrame({'rmse_test' : [rmse_test_bm1, en_rmse_test, rf_rmse_test, gb_rmse_test, rmse_dummy], \n",
    "                        'rmse_val': [rmse_val_bm1, en_rmse_val, rf_rmse_val, gb_rmse_val, rmse_dummy],\n",
    "                        'fit_time_ms': [115, 281, 3980, 47800, 719],\n",
    "                        'predict_time_ms': [6, 2, 98, 3490, 2]\n",
    "                       },\n",
    "                       index=['LinearRegression', 'ElasticNet', 'RandomForestRegressor', 'LightGBMRegressor', 'DummyRegressor']\n",
    "                      )\n",
    "results['total_time_ms'] = results['fit_time_ms'] + results['predict_time_ms']\n",
    "results.sort_values(['rmse_test'])"
   ]
  },
  {
   "cell_type": "code",
   "execution_count": 138,
   "metadata": {},
   "outputs": [
    {
     "data": {
      "image/png": "[encoded data removed]",
      "text/plain": [
       "<Figure size 720x432 with 1 Axes>"
      ]
     },
     "metadata": {},
     "output_type": "display_data"
    }
   ],
   "source": [
    "plt.figure(figsize=(10,6))\n",
    "sns.scatterplot(results['rmse_test'].drop('DummyRegressor'), \n",
    "                results['total_time_ms'].drop('DummyRegressor'), \n",
    "                hue=results.drop('DummyRegressor').index,\n",
    "                s=100\n",
    "               )\n",
    "plt.xlim((0, 3000))\n",
    "plt.legend(loc=2)\n",
    "plt.show()"
   ]
  },
  {
   "cell_type": "markdown",
   "metadata": {},
   "source": [
    "- Несмотря на прирост в качестве модели, LightGBM в 12 раз дольше обучается и в 35 дольше делает предсказания, по сравнению с RandomForest\n",
    "- Качество моделей LinearRegression и ElasticNet значительно хуже, несмотря на гораздо более быстрое обучение и предсказания"
   ]
  },
  {
   "cell_type": "markdown",
   "metadata": {},
   "source": [
    "- А теперь на примерах RandomForest, LightGBM и ElasticNet посмотрим насколько разные признаки важны в разных моделях"
   ]
  },
  {
   "cell_type": "code",
   "execution_count": 139,
   "metadata": {},
   "outputs": [
    {
     "data": {
      "image/png": "[encoded data removed]",
      "text/plain": [
       "<Figure size 720x432 with 1 Axes>"
      ]
     },
     "metadata": {},
     "output_type": "display_data"
    }
   ],
   "source": [
    "feat_importances_gb = pd.Series(gb_best_model.feature_importances_, index=autos.drop('Price', axis=1).columns)\n",
    "\n",
    "plt.figure(figsize=(10, 6))\n",
    "sns.barplot(feat_importances_gb, feat_importances_gb.index, palette='gist_earth')\n",
    "plt.xlabel('Feature importance')\n",
    "plt.ylabel('Feature name')\n",
    "plt.title('LightGBM feature importance')\n",
    "plt.show()"
   ]
  },
  {
   "cell_type": "code",
   "execution_count": 140,
   "metadata": {},
   "outputs": [
    {
     "data": {
      "image/png": "[encoded data removed]",
      "text/plain": [
       "<Figure size 720x432 with 1 Axes>"
      ]
     },
     "metadata": {},
     "output_type": "display_data"
    }
   ],
   "source": [
    "feat_importances_rf = pd.Series(rf_best_model.feature_importances_, index=autos.drop('Price', axis=1).columns)\n",
    "\n",
    "plt.figure(figsize=(10, 6))\n",
    "sns.barplot(feat_importances_rf, feat_importances_rf.index, palette='gist_earth')\n",
    "plt.xlabel('Feature importance')\n",
    "plt.ylabel('Feature name')\n",
    "plt.title('RandomForest feature importance')\n",
    "plt.show()"
   ]
  },
  {
   "cell_type": "code",
   "execution_count": 141,
   "metadata": {},
   "outputs": [
    {
     "data": {
      "image/png": "[encoded data removed]",
      "text/plain": [
       "<Figure size 720x432 with 1 Axes>"
      ]
     },
     "metadata": {},
     "output_type": "display_data"
    }
   ],
   "source": [
    "feat_coefs_en = pd.Series(elnet.coef_, index=autos.drop('Price', axis=1).columns)\n",
    "\n",
    "plt.figure(figsize=(10, 6))\n",
    "sns.barplot(feat_coefs_en, feat_coefs_en.index, palette='gist_earth')\n",
    "plt.xlabel('Feature coefs')\n",
    "plt.ylabel('Feature name')\n",
    "plt.title('ElasicNet coefs')\n",
    "plt.show()"
   ]
  },
  {
   "cell_type": "markdown",
   "metadata": {},
   "source": [
    "- Очень хорошо видно, как LightGBM вместе с RandomForest в качестве самых важных признаков цены автомобиля представили признаки RegistrationYear и Power\n",
    "- Помимо этого, LightGBM довольно точно выделил важными такие признаки, как Brand и Model, в отличие от RandomForest\n",
    "- Видна причина неудачи ElasticNet: для наиболее важных признаков, которые описаны выше моделями LightGBM и RandomForest, ElasticNet присвоила практически самые низкие по модулю коэффициенты, что означает наименьшую значимость этих признаков - все наоборот! Среди наиболее значимых выбраны далеко не самые значимые в реальной жизни."
   ]
  },
  {
   "cell_type": "markdown",
   "metadata": {},
   "source": [
    "**Вывод**"
   ]
  },
  {
   "cell_type": "markdown",
   "metadata": {},
   "source": [
    "- Несмотря на худший результат по времени обучения-предсказания, **финальной моделью выбирается LightGBM** из-за значительно лучшего качества предсказаний\n",
    "- Время обучения-предсказания можно сократить засчет менее подробного подбора гиперпараметров, при этом качество модели пострадает не сильно и все равно будет заметно выше качества остальных моделей"
   ]
  },
  {
   "cell_type": "code",
   "execution_count": null,
   "metadata": {},
   "outputs": [],
   "source": []
  }
 ],
 "metadata": {
  "ExecuteTimeLog": [
   {
    "duration": 1584,
    "start_time": "2021-10-31T20:24:31.346Z"
   },
   {
    "duration": 5,
    "start_time": "2021-10-31T20:24:34.410Z"
   },
   {
    "duration": 1556,
    "start_time": "2021-10-31T20:25:44.282Z"
   },
   {
    "duration": 31,
    "start_time": "2021-10-31T20:25:51.487Z"
   },
   {
    "duration": 155,
    "start_time": "2021-10-31T20:26:12.105Z"
   },
   {
    "duration": 111,
    "start_time": "2021-10-31T20:27:06.540Z"
   },
   {
    "duration": 597,
    "start_time": "2021-10-31T20:27:41.664Z"
   },
   {
    "duration": 5,
    "start_time": "2021-10-31T20:27:59.009Z"
   },
   {
    "duration": 700,
    "start_time": "2021-10-31T20:28:08.757Z"
   },
   {
    "duration": 691,
    "start_time": "2021-10-31T20:28:29.223Z"
   },
   {
    "duration": 5,
    "start_time": "2021-10-31T20:28:30.760Z"
   },
   {
    "duration": 772,
    "start_time": "2021-10-31T20:30:19.445Z"
   },
   {
    "duration": 795,
    "start_time": "2021-10-31T20:30:37.061Z"
   },
   {
    "duration": 698,
    "start_time": "2021-10-31T20:32:04.779Z"
   },
   {
    "duration": 151,
    "start_time": "2021-10-31T20:32:09.625Z"
   },
   {
    "duration": 3,
    "start_time": "2021-10-31T20:35:55.501Z"
   },
   {
    "duration": 293,
    "start_time": "2021-10-31T20:35:56.152Z"
   },
   {
    "duration": 302,
    "start_time": "2021-10-31T20:36:09.128Z"
   },
   {
    "duration": 270,
    "start_time": "2021-10-31T20:36:18.938Z"
   },
   {
    "duration": 5,
    "start_time": "2021-10-31T20:36:23.560Z"
   },
   {
    "duration": 6,
    "start_time": "2021-10-31T20:36:27.354Z"
   },
   {
    "duration": 337,
    "start_time": "2021-11-01T09:32:01.991Z"
   },
   {
    "duration": 1668,
    "start_time": "2021-11-01T09:32:10.754Z"
   },
   {
    "duration": 6,
    "start_time": "2021-11-01T09:32:12.425Z"
   },
   {
    "duration": 1178,
    "start_time": "2021-11-01T09:32:12.434Z"
   },
   {
    "duration": 26,
    "start_time": "2021-11-01T09:32:13.615Z"
   },
   {
    "duration": 164,
    "start_time": "2021-11-01T09:32:13.668Z"
   },
   {
    "duration": 141,
    "start_time": "2021-11-01T09:32:13.834Z"
   },
   {
    "duration": 636,
    "start_time": "2021-11-01T09:32:13.977Z"
   },
   {
    "duration": 5,
    "start_time": "2021-11-01T09:32:14.616Z"
   },
   {
    "duration": 752,
    "start_time": "2021-11-01T09:32:14.623Z"
   },
   {
    "duration": 6,
    "start_time": "2021-11-01T09:32:15.377Z"
   },
   {
    "duration": 4,
    "start_time": "2021-11-01T09:32:15.386Z"
   },
   {
    "duration": 14,
    "start_time": "2021-11-01T09:32:15.393Z"
   },
   {
    "duration": 7,
    "start_time": "2021-11-01T09:32:15.411Z"
   },
   {
    "duration": 306,
    "start_time": "2021-11-01T09:32:15.421Z"
   },
   {
    "duration": 84,
    "start_time": "2021-11-01T09:32:15.730Z"
   },
   {
    "duration": 854,
    "start_time": "2021-11-01T09:32:15.817Z"
   },
   {
    "duration": 47,
    "start_time": "2021-11-01T09:52:02.118Z"
   },
   {
    "duration": 20523,
    "start_time": "2021-11-01T09:56:11.857Z"
   },
   {
    "duration": 4,
    "start_time": "2021-11-01T09:57:07.519Z"
   },
   {
    "duration": 7525,
    "start_time": "2021-11-01T09:57:10.109Z"
   },
   {
    "duration": 4,
    "start_time": "2021-11-01T09:59:13.652Z"
   },
   {
    "duration": 3,
    "start_time": "2021-11-01T09:59:18.172Z"
   },
   {
    "duration": 8,
    "start_time": "2021-11-01T09:59:29.021Z"
   },
   {
    "duration": 5,
    "start_time": "2021-11-01T09:59:35.243Z"
   },
   {
    "duration": 3,
    "start_time": "2021-11-01T10:00:17.268Z"
   },
   {
    "duration": 5,
    "start_time": "2021-11-01T10:00:17.969Z"
   },
   {
    "duration": 7,
    "start_time": "2021-11-01T10:00:27.565Z"
   },
   {
    "duration": 7,
    "start_time": "2021-11-01T10:00:36.275Z"
   },
   {
    "duration": 6,
    "start_time": "2021-11-01T10:00:36.285Z"
   },
   {
    "duration": 1254,
    "start_time": "2021-11-01T10:00:36.294Z"
   },
   {
    "duration": 24,
    "start_time": "2021-11-01T10:00:37.551Z"
   },
   {
    "duration": 180,
    "start_time": "2021-11-01T10:00:37.577Z"
   },
   {
    "duration": 135,
    "start_time": "2021-11-01T10:00:37.760Z"
   },
   {
    "duration": 616,
    "start_time": "2021-11-01T10:00:37.899Z"
   },
   {
    "duration": 5,
    "start_time": "2021-11-01T10:00:38.518Z"
   },
   {
    "duration": 742,
    "start_time": "2021-11-01T10:00:38.525Z"
   },
   {
    "duration": 5,
    "start_time": "2021-11-01T10:00:39.270Z"
   },
   {
    "duration": 11,
    "start_time": "2021-11-01T10:00:39.277Z"
   },
   {
    "duration": 10,
    "start_time": "2021-11-01T10:00:39.290Z"
   },
   {
    "duration": 9,
    "start_time": "2021-11-01T10:00:39.302Z"
   },
   {
    "duration": 181,
    "start_time": "2021-11-01T10:00:39.313Z"
   },
   {
    "duration": 49,
    "start_time": "2021-11-01T10:00:39.496Z"
   },
   {
    "duration": 5,
    "start_time": "2021-11-01T10:00:39.566Z"
   },
   {
    "duration": 8,
    "start_time": "2021-11-01T10:00:39.574Z"
   },
   {
    "duration": 1633,
    "start_time": "2021-11-01T10:04:27.127Z"
   },
   {
    "duration": 5,
    "start_time": "2021-11-01T10:04:28.763Z"
   },
   {
    "duration": 1221,
    "start_time": "2021-11-01T10:04:28.771Z"
   },
   {
    "duration": 28,
    "start_time": "2021-11-01T10:04:29.995Z"
   },
   {
    "duration": 271,
    "start_time": "2021-11-01T10:04:30.026Z"
   },
   {
    "duration": 137,
    "start_time": "2021-11-01T10:04:30.300Z"
   },
   {
    "duration": 659,
    "start_time": "2021-11-01T10:04:30.439Z"
   },
   {
    "duration": 5,
    "start_time": "2021-11-01T10:04:31.102Z"
   },
   {
    "duration": 777,
    "start_time": "2021-11-01T10:04:31.110Z"
   },
   {
    "duration": 5,
    "start_time": "2021-11-01T10:04:31.889Z"
   },
   {
    "duration": 9,
    "start_time": "2021-11-01T10:04:31.896Z"
   },
   {
    "duration": 9,
    "start_time": "2021-11-01T10:04:31.907Z"
   },
   {
    "duration": 11,
    "start_time": "2021-11-01T10:04:31.918Z"
   },
   {
    "duration": 204,
    "start_time": "2021-11-01T10:04:31.931Z"
   },
   {
    "duration": 56,
    "start_time": "2021-11-01T10:04:32.138Z"
   },
   {
    "duration": 5,
    "start_time": "2021-11-01T10:04:32.196Z"
   },
   {
    "duration": 19,
    "start_time": "2021-11-01T10:04:32.203Z"
   },
   {
    "duration": 250205,
    "start_time": "2021-11-01T10:04:32.224Z"
   },
   {
    "duration": -223,
    "start_time": "2021-11-01T10:08:42.656Z"
   },
   {
    "duration": -224,
    "start_time": "2021-11-01T10:08:42.662Z"
   },
   {
    "duration": -227,
    "start_time": "2021-11-01T10:08:42.667Z"
   },
   {
    "duration": -230,
    "start_time": "2021-11-01T10:08:42.671Z"
   },
   {
    "duration": -208,
    "start_time": "2021-11-01T10:08:42.675Z"
   },
   {
    "duration": -213,
    "start_time": "2021-11-01T10:08:42.681Z"
   },
   {
    "duration": -217,
    "start_time": "2021-11-01T10:08:42.686Z"
   },
   {
    "duration": -220,
    "start_time": "2021-11-01T10:08:42.691Z"
   },
   {
    "duration": -223,
    "start_time": "2021-11-01T10:08:42.695Z"
   },
   {
    "duration": -227,
    "start_time": "2021-11-01T10:08:42.700Z"
   },
   {
    "duration": -230,
    "start_time": "2021-11-01T10:08:42.704Z"
   },
   {
    "duration": -233,
    "start_time": "2021-11-01T10:08:42.709Z"
   },
   {
    "duration": -252,
    "start_time": "2021-11-01T10:08:42.729Z"
   },
   {
    "duration": -257,
    "start_time": "2021-11-01T10:08:42.735Z"
   },
   {
    "duration": -260,
    "start_time": "2021-11-01T10:08:42.739Z"
   },
   {
    "duration": -262,
    "start_time": "2021-11-01T10:08:42.743Z"
   },
   {
    "duration": 1600,
    "start_time": "2021-11-01T10:09:51.667Z"
   },
   {
    "duration": 5,
    "start_time": "2021-11-01T10:09:53.269Z"
   },
   {
    "duration": 1142,
    "start_time": "2021-11-01T10:09:53.276Z"
   },
   {
    "duration": 22,
    "start_time": "2021-11-01T10:09:54.421Z"
   },
   {
    "duration": 177,
    "start_time": "2021-11-01T10:09:54.445Z"
   },
   {
    "duration": 139,
    "start_time": "2021-11-01T10:09:54.624Z"
   },
   {
    "duration": 722,
    "start_time": "2021-11-01T10:09:54.768Z"
   },
   {
    "duration": 6,
    "start_time": "2021-11-01T10:09:55.495Z"
   },
   {
    "duration": 704,
    "start_time": "2021-11-01T10:09:55.505Z"
   },
   {
    "duration": 5,
    "start_time": "2021-11-01T10:09:56.212Z"
   },
   {
    "duration": 7,
    "start_time": "2021-11-01T10:09:56.219Z"
   },
   {
    "duration": 9,
    "start_time": "2021-11-01T10:09:56.228Z"
   },
   {
    "duration": 28,
    "start_time": "2021-11-01T10:09:56.239Z"
   },
   {
    "duration": 166,
    "start_time": "2021-11-01T10:09:56.269Z"
   },
   {
    "duration": 49,
    "start_time": "2021-11-01T10:09:56.437Z"
   },
   {
    "duration": 811,
    "start_time": "2021-11-01T10:09:56.488Z"
   },
   {
    "duration": 46,
    "start_time": "2021-11-01T10:10:23.033Z"
   },
   {
    "duration": 53,
    "start_time": "2021-11-01T10:10:48.522Z"
   },
   {
    "duration": 58,
    "start_time": "2021-11-01T10:11:15.720Z"
   },
   {
    "duration": 24,
    "start_time": "2021-11-01T10:12:12.214Z"
   },
   {
    "duration": 52,
    "start_time": "2021-11-01T10:12:24.461Z"
   },
   {
    "duration": 51,
    "start_time": "2021-11-01T10:12:41.120Z"
   },
   {
    "duration": 13,
    "start_time": "2021-11-01T10:14:46.364Z"
   },
   {
    "duration": 466,
    "start_time": "2021-11-01T10:15:39.838Z"
   },
   {
    "duration": 11,
    "start_time": "2021-11-01T10:15:54.431Z"
   },
   {
    "duration": 12,
    "start_time": "2021-11-01T10:16:05.472Z"
   },
   {
    "duration": 11,
    "start_time": "2021-11-01T10:16:10.137Z"
   },
   {
    "duration": 12,
    "start_time": "2021-11-01T10:16:21.021Z"
   },
   {
    "duration": 18,
    "start_time": "2021-11-01T10:16:37.487Z"
   },
   {
    "duration": 13,
    "start_time": "2021-11-01T10:16:48.854Z"
   },
   {
    "duration": 13,
    "start_time": "2021-11-01T10:17:08.020Z"
   },
   {
    "duration": 13,
    "start_time": "2021-11-01T10:17:55.566Z"
   },
   {
    "duration": 13,
    "start_time": "2021-11-01T10:18:11.293Z"
   },
   {
    "duration": 13,
    "start_time": "2021-11-01T10:18:29.901Z"
   },
   {
    "duration": 37,
    "start_time": "2021-11-01T10:18:59.914Z"
   },
   {
    "duration": 10,
    "start_time": "2021-11-01T10:20:29.741Z"
   },
   {
    "duration": 168,
    "start_time": "2021-11-01T10:23:32.120Z"
   },
   {
    "duration": 46,
    "start_time": "2021-11-01T10:24:14.627Z"
   },
   {
    "duration": 48,
    "start_time": "2021-11-01T10:24:38.149Z"
   },
   {
    "duration": 45,
    "start_time": "2021-11-01T10:24:51.664Z"
   },
   {
    "duration": 47,
    "start_time": "2021-11-01T10:25:05.103Z"
   },
   {
    "duration": 46,
    "start_time": "2021-11-01T10:25:27.981Z"
   },
   {
    "duration": 47,
    "start_time": "2021-11-01T10:26:20.568Z"
   },
   {
    "duration": 50,
    "start_time": "2021-11-01T10:27:04.899Z"
   },
   {
    "duration": 291,
    "start_time": "2021-11-01T10:27:15.388Z"
   },
   {
    "duration": 450,
    "start_time": "2021-11-01T10:27:22.037Z"
   },
   {
    "duration": 124,
    "start_time": "2021-11-01T10:44:22.262Z"
   },
   {
    "duration": 730,
    "start_time": "2021-11-01T10:45:33.300Z"
   },
   {
    "duration": 37,
    "start_time": "2021-11-01T10:46:01.205Z"
   },
   {
    "duration": 20,
    "start_time": "2021-11-01T10:46:18.115Z"
   },
   {
    "duration": 9,
    "start_time": "2021-11-01T10:46:31.838Z"
   },
   {
    "duration": 19,
    "start_time": "2021-11-01T10:46:44.742Z"
   },
   {
    "duration": 471,
    "start_time": "2021-11-01T10:49:56.730Z"
   },
   {
    "duration": 637,
    "start_time": "2021-11-01T10:52:08.252Z"
   },
   {
    "duration": 576,
    "start_time": "2021-11-01T10:52:13.990Z"
   },
   {
    "duration": 540,
    "start_time": "2021-11-01T10:52:20.630Z"
   },
   {
    "duration": 569,
    "start_time": "2021-11-01T10:52:27.161Z"
   },
   {
    "duration": 568,
    "start_time": "2021-11-01T10:52:35.301Z"
   },
   {
    "duration": 654,
    "start_time": "2021-11-01T10:52:42.372Z"
   },
   {
    "duration": 551,
    "start_time": "2021-11-01T10:52:51.537Z"
   },
   {
    "duration": 566,
    "start_time": "2021-11-01T10:52:57.183Z"
   },
   {
    "duration": 563,
    "start_time": "2021-11-01T10:53:09.829Z"
   },
   {
    "duration": 585,
    "start_time": "2021-11-01T10:53:16.819Z"
   },
   {
    "duration": 550,
    "start_time": "2021-11-01T10:53:20.242Z"
   },
   {
    "duration": 598,
    "start_time": "2021-11-01T10:53:23.862Z"
   },
   {
    "duration": 656,
    "start_time": "2021-11-01T11:07:46.419Z"
   },
   {
    "duration": 577,
    "start_time": "2021-11-01T11:08:04.752Z"
   },
   {
    "duration": 522,
    "start_time": "2021-11-01T11:08:11.000Z"
   },
   {
    "duration": 58,
    "start_time": "2021-11-01T11:28:59.628Z"
   },
   {
    "duration": 51,
    "start_time": "2021-11-01T11:29:07.521Z"
   },
   {
    "duration": 324,
    "start_time": "2021-11-01T11:29:38.975Z"
   },
   {
    "duration": 647,
    "start_time": "2021-11-01T11:29:43.909Z"
   },
   {
    "duration": 380,
    "start_time": "2021-11-01T11:31:21.967Z"
   },
   {
    "duration": 83,
    "start_time": "2021-11-01T11:31:25.753Z"
   },
   {
    "duration": 79,
    "start_time": "2021-11-01T11:37:24.533Z"
   },
   {
    "duration": 504,
    "start_time": "2021-11-01T11:37:47.293Z"
   },
   {
    "duration": 659,
    "start_time": "2021-11-01T11:38:04.687Z"
   },
   {
    "duration": 603,
    "start_time": "2021-11-01T11:38:48.646Z"
   },
   {
    "duration": 577,
    "start_time": "2021-11-01T11:39:03.281Z"
   },
   {
    "duration": 523,
    "start_time": "2021-11-01T11:39:13.237Z"
   },
   {
    "duration": 579,
    "start_time": "2021-11-01T11:39:26.833Z"
   },
   {
    "duration": 545,
    "start_time": "2021-11-01T11:39:38.140Z"
   },
   {
    "duration": 559,
    "start_time": "2021-11-01T11:40:08.082Z"
   },
   {
    "duration": 12,
    "start_time": "2021-11-01T11:42:35.497Z"
   },
   {
    "duration": 11,
    "start_time": "2021-11-01T11:42:43.603Z"
   },
   {
    "duration": 359,
    "start_time": "2021-11-01T11:43:00.858Z"
   },
   {
    "duration": 9,
    "start_time": "2021-11-01T11:43:05.551Z"
   },
   {
    "duration": 11,
    "start_time": "2021-11-01T11:43:18.390Z"
   },
   {
    "duration": 10,
    "start_time": "2021-11-01T11:43:29.350Z"
   },
   {
    "duration": 10,
    "start_time": "2021-11-01T11:43:34.172Z"
   },
   {
    "duration": 13,
    "start_time": "2021-11-01T11:43:39.051Z"
   },
   {
    "duration": 11,
    "start_time": "2021-11-01T11:43:50.021Z"
   },
   {
    "duration": 12,
    "start_time": "2021-11-01T11:44:00.101Z"
   },
   {
    "duration": 14,
    "start_time": "2021-11-01T11:44:06.193Z"
   },
   {
    "duration": 11,
    "start_time": "2021-11-01T11:44:12.448Z"
   },
   {
    "duration": 23,
    "start_time": "2021-11-01T11:44:46.962Z"
   },
   {
    "duration": 40,
    "start_time": "2021-11-01T11:45:35.818Z"
   },
   {
    "duration": 21,
    "start_time": "2021-11-01T11:46:19.232Z"
   },
   {
    "duration": 14,
    "start_time": "2021-11-01T11:46:27.037Z"
   },
   {
    "duration": 16,
    "start_time": "2021-11-01T11:46:40.909Z"
   },
   {
    "duration": 21,
    "start_time": "2021-11-01T12:39:42.710Z"
   },
   {
    "duration": 18,
    "start_time": "2021-11-01T12:39:56.077Z"
   },
   {
    "duration": 13,
    "start_time": "2021-11-01T12:40:07.493Z"
   },
   {
    "duration": 15,
    "start_time": "2021-11-01T12:40:26.569Z"
   },
   {
    "duration": 14,
    "start_time": "2021-11-01T12:40:41.503Z"
   },
   {
    "duration": 12,
    "start_time": "2021-11-01T12:40:54.366Z"
   },
   {
    "duration": 11,
    "start_time": "2021-11-01T12:44:21.109Z"
   },
   {
    "duration": 10,
    "start_time": "2021-11-01T12:44:33.338Z"
   },
   {
    "duration": 12,
    "start_time": "2021-11-01T12:48:14.718Z"
   },
   {
    "duration": 10,
    "start_time": "2021-11-01T12:48:33.748Z"
   },
   {
    "duration": 11,
    "start_time": "2021-11-01T12:49:04.484Z"
   },
   {
    "duration": 17,
    "start_time": "2021-11-01T12:49:10.227Z"
   },
   {
    "duration": 22,
    "start_time": "2021-11-01T12:49:19.355Z"
   },
   {
    "duration": 19,
    "start_time": "2021-11-01T12:49:25.774Z"
   },
   {
    "duration": 19,
    "start_time": "2021-11-01T12:49:56.348Z"
   },
   {
    "duration": 19,
    "start_time": "2021-11-01T12:50:01.772Z"
   },
   {
    "duration": 5,
    "start_time": "2021-11-01T12:53:25.740Z"
   },
   {
    "duration": 139,
    "start_time": "2021-11-01T12:53:35.549Z"
   },
   {
    "duration": 145,
    "start_time": "2021-11-01T12:53:43.115Z"
   },
   {
    "duration": 5,
    "start_time": "2021-11-01T12:53:45.178Z"
   },
   {
    "duration": 196,
    "start_time": "2021-11-01T12:57:17.037Z"
   },
   {
    "duration": 162,
    "start_time": "2021-11-01T12:57:25.334Z"
   },
   {
    "duration": 14,
    "start_time": "2021-11-01T13:01:10.146Z"
   },
   {
    "duration": 11,
    "start_time": "2021-11-01T13:01:18.294Z"
   },
   {
    "duration": 12,
    "start_time": "2021-11-01T13:01:27.971Z"
   },
   {
    "duration": 217,
    "start_time": "2021-11-01T13:05:26.569Z"
   },
   {
    "duration": 6,
    "start_time": "2021-11-01T13:05:27.428Z"
   },
   {
    "duration": 6,
    "start_time": "2021-11-01T13:05:41.961Z"
   },
   {
    "duration": 7,
    "start_time": "2021-11-01T13:05:54.015Z"
   },
   {
    "duration": 12,
    "start_time": "2021-11-01T13:05:54.024Z"
   },
   {
    "duration": 1106,
    "start_time": "2021-11-01T13:05:54.039Z"
   },
   {
    "duration": 32,
    "start_time": "2021-11-01T13:05:55.147Z"
   },
   {
    "duration": 209,
    "start_time": "2021-11-01T13:05:55.182Z"
   },
   {
    "duration": 132,
    "start_time": "2021-11-01T13:05:55.394Z"
   },
   {
    "duration": 633,
    "start_time": "2021-11-01T13:05:55.529Z"
   },
   {
    "duration": 6,
    "start_time": "2021-11-01T13:05:56.168Z"
   },
   {
    "duration": 685,
    "start_time": "2021-11-01T13:05:56.176Z"
   },
   {
    "duration": 4,
    "start_time": "2021-11-01T13:05:56.864Z"
   },
   {
    "duration": 7,
    "start_time": "2021-11-01T13:05:56.870Z"
   },
   {
    "duration": 9,
    "start_time": "2021-11-01T13:05:56.879Z"
   },
   {
    "duration": 14,
    "start_time": "2021-11-01T13:05:56.890Z"
   },
   {
    "duration": 141,
    "start_time": "2021-11-01T13:05:56.906Z"
   },
   {
    "duration": 181,
    "start_time": "2021-11-01T13:05:57.050Z"
   },
   {
    "duration": 551,
    "start_time": "2021-11-01T13:05:57.233Z"
   },
   {
    "duration": 18,
    "start_time": "2021-11-01T13:05:57.786Z"
   },
   {
    "duration": 5,
    "start_time": "2021-11-01T13:05:57.806Z"
   },
   {
    "duration": 144,
    "start_time": "2021-11-01T13:05:57.813Z"
   },
   {
    "duration": 9,
    "start_time": "2021-11-01T13:05:57.959Z"
   },
   {
    "duration": 56,
    "start_time": "2021-11-01T13:55:45.816Z"
   },
   {
    "duration": 461,
    "start_time": "2021-11-01T13:55:55.239Z"
   },
   {
    "duration": 509,
    "start_time": "2021-11-01T13:56:18.619Z"
   },
   {
    "duration": 524,
    "start_time": "2021-11-01T13:56:26.218Z"
   },
   {
    "duration": 524,
    "start_time": "2021-11-01T14:12:09.582Z"
   },
   {
    "duration": 1557,
    "start_time": "2021-11-01T14:12:16.852Z"
   },
   {
    "duration": 182,
    "start_time": "2021-11-01T14:19:48.418Z"
   },
   {
    "duration": 672,
    "start_time": "2021-11-01T14:19:49.351Z"
   },
   {
    "duration": 10,
    "start_time": "2021-11-01T14:30:00.977Z"
   },
   {
    "duration": 8,
    "start_time": "2021-11-01T14:30:09.086Z"
   },
   {
    "duration": 25,
    "start_time": "2021-11-01T14:30:18.235Z"
   },
   {
    "duration": 11,
    "start_time": "2021-11-01T14:33:42.297Z"
   },
   {
    "duration": 563,
    "start_time": "2021-11-01T14:34:53.130Z"
   },
   {
    "duration": 90,
    "start_time": "2021-11-01T14:35:17.460Z"
   },
   {
    "duration": 555,
    "start_time": "2021-11-01T14:35:19.492Z"
   },
   {
    "duration": 656,
    "start_time": "2021-11-01T14:35:41.375Z"
   },
   {
    "duration": 50,
    "start_time": "2021-11-01T16:06:53.075Z"
   },
   {
    "duration": 48,
    "start_time": "2021-11-01T16:07:02.580Z"
   },
   {
    "duration": 454,
    "start_time": "2021-11-01T16:07:19.103Z"
   },
   {
    "duration": 148,
    "start_time": "2021-11-01T16:08:51.841Z"
   },
   {
    "duration": 548,
    "start_time": "2021-11-01T16:10:05.461Z"
   },
   {
    "duration": 566,
    "start_time": "2021-11-01T16:10:14.721Z"
   },
   {
    "duration": 44,
    "start_time": "2021-11-01T16:11:06.531Z"
   },
   {
    "duration": 574,
    "start_time": "2021-11-01T16:11:43.625Z"
   },
   {
    "duration": 476,
    "start_time": "2021-11-01T16:11:49.383Z"
   },
   {
    "duration": 708,
    "start_time": "2021-11-01T16:11:57.772Z"
   },
   {
    "duration": 44,
    "start_time": "2021-11-01T16:12:06.313Z"
   },
   {
    "duration": 43,
    "start_time": "2021-11-01T16:12:10.321Z"
   },
   {
    "duration": 43,
    "start_time": "2021-11-01T16:12:13.972Z"
   },
   {
    "duration": 43,
    "start_time": "2021-11-01T16:12:17.881Z"
   },
   {
    "duration": 112,
    "start_time": "2021-11-01T16:13:37.455Z"
   },
   {
    "duration": 582,
    "start_time": "2021-11-01T16:13:44.572Z"
   },
   {
    "duration": 156,
    "start_time": "2021-11-01T16:14:03.052Z"
   },
   {
    "duration": 7,
    "start_time": "2021-11-01T16:14:49.045Z"
   },
   {
    "duration": 7,
    "start_time": "2021-11-01T16:16:34.296Z"
   },
   {
    "duration": 26069,
    "start_time": "2021-11-01T16:23:07.350Z"
   },
   {
    "duration": 13,
    "start_time": "2021-11-01T16:26:22.779Z"
   },
   {
    "duration": 284,
    "start_time": "2021-11-01T16:34:39.677Z"
   },
   {
    "duration": 301,
    "start_time": "2021-11-01T16:35:05.443Z"
   },
   {
    "duration": 308,
    "start_time": "2021-11-01T16:35:14.641Z"
   },
   {
    "duration": 23,
    "start_time": "2021-11-01T16:36:23.975Z"
   },
   {
    "duration": 7842,
    "start_time": "2021-11-01T16:38:16.534Z"
   },
   {
    "duration": 299,
    "start_time": "2021-11-01T16:38:26.704Z"
   },
   {
    "duration": 289,
    "start_time": "2021-11-01T16:38:32.706Z"
   },
   {
    "duration": 349,
    "start_time": "2021-11-01T16:38:49.445Z"
   },
   {
    "duration": 385,
    "start_time": "2021-11-01T16:39:02.752Z"
   },
   {
    "duration": 393,
    "start_time": "2021-11-01T16:41:36.889Z"
   },
   {
    "duration": 373,
    "start_time": "2021-11-01T16:41:41.282Z"
   },
   {
    "duration": 28,
    "start_time": "2021-11-01T16:41:55.462Z"
   },
   {
    "duration": 371,
    "start_time": "2021-11-01T16:42:11.201Z"
   },
   {
    "duration": 344,
    "start_time": "2021-11-01T16:43:08.052Z"
   },
   {
    "duration": 1158,
    "start_time": "2021-11-01T16:44:08.325Z"
   },
   {
    "duration": 263,
    "start_time": "2021-11-01T16:44:36.247Z"
   },
   {
    "duration": 322,
    "start_time": "2021-11-01T16:44:39.703Z"
   },
   {
    "duration": 6,
    "start_time": "2021-11-01T16:45:27.959Z"
   },
   {
    "duration": 10,
    "start_time": "2021-11-01T16:45:27.967Z"
   },
   {
    "duration": 1207,
    "start_time": "2021-11-01T16:45:27.980Z"
   },
   {
    "duration": 20,
    "start_time": "2021-11-01T16:45:29.190Z"
   },
   {
    "duration": 189,
    "start_time": "2021-11-01T16:45:29.213Z"
   },
   {
    "duration": 134,
    "start_time": "2021-11-01T16:45:29.405Z"
   },
   {
    "duration": 735,
    "start_time": "2021-11-01T16:45:29.543Z"
   },
   {
    "duration": 7,
    "start_time": "2021-11-01T16:45:30.282Z"
   },
   {
    "duration": 734,
    "start_time": "2021-11-01T16:45:30.292Z"
   },
   {
    "duration": 5,
    "start_time": "2021-11-01T16:45:31.028Z"
   },
   {
    "duration": 7,
    "start_time": "2021-11-01T16:45:31.035Z"
   },
   {
    "duration": 23,
    "start_time": "2021-11-01T16:45:31.044Z"
   },
   {
    "duration": 19,
    "start_time": "2021-11-01T16:45:31.069Z"
   },
   {
    "duration": 132,
    "start_time": "2021-11-01T16:45:31.090Z"
   },
   {
    "duration": 239,
    "start_time": "2021-11-01T16:45:31.224Z"
   },
   {
    "duration": 805,
    "start_time": "2021-11-01T16:45:31.468Z"
   },
   {
    "duration": 18,
    "start_time": "2021-11-01T16:45:32.276Z"
   },
   {
    "duration": 5,
    "start_time": "2021-11-01T16:45:32.299Z"
   },
   {
    "duration": 143,
    "start_time": "2021-11-01T16:45:32.307Z"
   },
   {
    "duration": 5,
    "start_time": "2021-11-01T16:45:32.452Z"
   },
   {
    "duration": 587,
    "start_time": "2021-11-01T16:45:32.467Z"
   },
   {
    "duration": 149,
    "start_time": "2021-11-01T16:45:33.056Z"
   },
   {
    "duration": 568,
    "start_time": "2021-11-01T16:45:33.207Z"
   },
   {
    "duration": 617,
    "start_time": "2021-11-01T16:45:33.778Z"
   },
   {
    "duration": 269,
    "start_time": "2021-11-01T16:45:34.398Z"
   },
   {
    "duration": 1384,
    "start_time": "2021-11-01T16:45:34.670Z"
   },
   {
    "duration": 556,
    "start_time": "2021-11-01T16:45:36.057Z"
   },
   {
    "duration": 593,
    "start_time": "2021-11-01T16:45:36.616Z"
   },
   {
    "duration": 131,
    "start_time": "2021-11-01T16:45:37.212Z"
   },
   {
    "duration": 580,
    "start_time": "2021-11-01T16:45:37.345Z"
   },
   {
    "duration": 168,
    "start_time": "2021-11-01T16:45:37.928Z"
   },
   {
    "duration": 24,
    "start_time": "2021-11-01T16:45:38.098Z"
   },
   {
    "duration": 316,
    "start_time": "2021-11-01T16:45:38.124Z"
   },
   {
    "duration": 362,
    "start_time": "2021-11-01T16:48:23.325Z"
   },
   {
    "duration": 301,
    "start_time": "2021-11-01T16:48:25.586Z"
   },
   {
    "duration": 6,
    "start_time": "2021-11-01T16:49:00.413Z"
   },
   {
    "duration": 46,
    "start_time": "2021-11-01T16:49:00.421Z"
   },
   {
    "duration": 1126,
    "start_time": "2021-11-01T16:49:00.470Z"
   },
   {
    "duration": 19,
    "start_time": "2021-11-01T16:49:01.598Z"
   },
   {
    "duration": 178,
    "start_time": "2021-11-01T16:49:01.620Z"
   },
   {
    "duration": 131,
    "start_time": "2021-11-01T16:49:01.800Z"
   },
   {
    "duration": 616,
    "start_time": "2021-11-01T16:49:01.934Z"
   },
   {
    "duration": 5,
    "start_time": "2021-11-01T16:49:02.553Z"
   },
   {
    "duration": 670,
    "start_time": "2021-11-01T16:49:02.567Z"
   },
   {
    "duration": 6,
    "start_time": "2021-11-01T16:49:03.239Z"
   },
   {
    "duration": 26,
    "start_time": "2021-11-01T16:49:03.247Z"
   },
   {
    "duration": 24,
    "start_time": "2021-11-01T16:49:03.275Z"
   },
   {
    "duration": 13,
    "start_time": "2021-11-01T16:49:03.301Z"
   },
   {
    "duration": 134,
    "start_time": "2021-11-01T16:49:03.316Z"
   },
   {
    "duration": 194,
    "start_time": "2021-11-01T16:49:03.452Z"
   },
   {
    "duration": 671,
    "start_time": "2021-11-01T16:49:03.648Z"
   },
   {
    "duration": 19,
    "start_time": "2021-11-01T16:49:04.321Z"
   },
   {
    "duration": 25,
    "start_time": "2021-11-01T16:49:04.342Z"
   },
   {
    "duration": 125,
    "start_time": "2021-11-01T16:49:04.371Z"
   },
   {
    "duration": 5,
    "start_time": "2021-11-01T16:49:04.499Z"
   },
   {
    "duration": 582,
    "start_time": "2021-11-01T16:49:04.507Z"
   },
   {
    "duration": 152,
    "start_time": "2021-11-01T16:49:05.092Z"
   },
   {
    "duration": 550,
    "start_time": "2021-11-01T16:49:05.246Z"
   },
   {
    "duration": 705,
    "start_time": "2021-11-01T16:49:05.798Z"
   },
   {
    "duration": 106,
    "start_time": "2021-11-01T16:49:06.505Z"
   },
   {
    "duration": 554,
    "start_time": "2021-11-01T16:49:06.613Z"
   },
   {
    "duration": 544,
    "start_time": "2021-11-01T16:49:07.169Z"
   },
   {
    "duration": 605,
    "start_time": "2021-11-01T16:49:07.717Z"
   },
   {
    "duration": 134,
    "start_time": "2021-11-01T16:49:08.325Z"
   },
   {
    "duration": 597,
    "start_time": "2021-11-01T16:49:08.462Z"
   },
   {
    "duration": 167,
    "start_time": "2021-11-01T16:49:09.068Z"
   },
   {
    "duration": 35,
    "start_time": "2021-11-01T16:49:09.237Z"
   },
   {
    "duration": 293,
    "start_time": "2021-11-01T16:49:09.274Z"
   },
   {
    "duration": 187,
    "start_time": "2021-11-01T16:49:12.075Z"
   },
   {
    "duration": 288,
    "start_time": "2021-11-01T16:49:13.835Z"
   },
   {
    "duration": 23,
    "start_time": "2021-11-01T16:49:51.320Z"
   },
   {
    "duration": 22,
    "start_time": "2021-11-01T16:49:58.231Z"
   },
   {
    "duration": 6,
    "start_time": "2021-11-01T16:53:03.238Z"
   },
   {
    "duration": 18,
    "start_time": "2021-11-01T16:53:03.247Z"
   },
   {
    "duration": 1113,
    "start_time": "2021-11-01T16:53:03.268Z"
   },
   {
    "duration": 20,
    "start_time": "2021-11-01T16:53:04.384Z"
   },
   {
    "duration": 179,
    "start_time": "2021-11-01T16:53:04.407Z"
   },
   {
    "duration": 126,
    "start_time": "2021-11-01T16:53:04.588Z"
   },
   {
    "duration": 606,
    "start_time": "2021-11-01T16:53:04.718Z"
   },
   {
    "duration": 6,
    "start_time": "2021-11-01T16:53:05.328Z"
   },
   {
    "duration": 677,
    "start_time": "2021-11-01T16:53:05.337Z"
   },
   {
    "duration": 6,
    "start_time": "2021-11-01T16:53:06.017Z"
   },
   {
    "duration": 7,
    "start_time": "2021-11-01T16:53:06.025Z"
   },
   {
    "duration": 8,
    "start_time": "2021-11-01T16:53:06.034Z"
   },
   {
    "duration": 27,
    "start_time": "2021-11-01T16:53:06.045Z"
   },
   {
    "duration": 138,
    "start_time": "2021-11-01T16:53:06.075Z"
   },
   {
    "duration": 188,
    "start_time": "2021-11-01T16:53:06.215Z"
   },
   {
    "duration": 547,
    "start_time": "2021-11-01T16:53:06.406Z"
   },
   {
    "duration": 26,
    "start_time": "2021-11-01T16:53:06.956Z"
   },
   {
    "duration": 5,
    "start_time": "2021-11-01T16:53:06.984Z"
   },
   {
    "duration": 135,
    "start_time": "2021-11-01T16:53:06.993Z"
   },
   {
    "duration": 6,
    "start_time": "2021-11-01T16:53:07.131Z"
   },
   {
    "duration": 548,
    "start_time": "2021-11-01T16:53:07.140Z"
   },
   {
    "duration": 149,
    "start_time": "2021-11-01T16:53:07.691Z"
   },
   {
    "duration": 711,
    "start_time": "2021-11-01T16:53:07.843Z"
   },
   {
    "duration": 550,
    "start_time": "2021-11-01T16:53:08.557Z"
   },
   {
    "duration": 98,
    "start_time": "2021-11-01T16:53:09.110Z"
   },
   {
    "duration": 544,
    "start_time": "2021-11-01T16:53:09.211Z"
   },
   {
    "duration": 551,
    "start_time": "2021-11-01T16:53:09.758Z"
   },
   {
    "duration": 577,
    "start_time": "2021-11-01T16:53:10.312Z"
   },
   {
    "duration": 128,
    "start_time": "2021-11-01T16:53:10.891Z"
   },
   {
    "duration": 589,
    "start_time": "2021-11-01T16:53:11.022Z"
   },
   {
    "duration": 213,
    "start_time": "2021-11-01T16:53:11.614Z"
   },
   {
    "duration": 37,
    "start_time": "2021-11-01T16:53:11.830Z"
   },
   {
    "duration": 316,
    "start_time": "2021-11-01T16:53:11.869Z"
   },
   {
    "duration": 351,
    "start_time": "2021-11-01T16:53:15.374Z"
   },
   {
    "duration": 302,
    "start_time": "2021-11-01T16:53:16.448Z"
   },
   {
    "duration": 21,
    "start_time": "2021-11-01T16:53:20.658Z"
   },
   {
    "duration": 271,
    "start_time": "2021-11-01T16:54:29.694Z"
   },
   {
    "duration": 731,
    "start_time": "2021-11-01T16:56:53.559Z"
   },
   {
    "duration": 232,
    "start_time": "2021-11-01T16:57:44.885Z"
   },
   {
    "duration": 421,
    "start_time": "2021-11-01T16:58:17.264Z"
   },
   {
    "duration": 822,
    "start_time": "2021-11-01T17:00:08.401Z"
   },
   {
    "duration": 641,
    "start_time": "2021-11-01T17:00:20.840Z"
   },
   {
    "duration": 619,
    "start_time": "2021-11-01T17:00:47.391Z"
   },
   {
    "duration": 83181,
    "start_time": "2021-11-01T17:01:30.440Z"
   },
   {
    "duration": 881,
    "start_time": "2021-11-01T17:02:52.744Z"
   },
   {
    "duration": 59,
    "start_time": "2021-11-01T17:02:55.641Z"
   },
   {
    "duration": 736,
    "start_time": "2021-11-01T17:03:53.451Z"
   },
   {
    "duration": 323,
    "start_time": "2021-11-01T17:03:59.132Z"
   },
   {
    "duration": 42,
    "start_time": "2021-11-01T17:04:05.944Z"
   },
   {
    "duration": 243,
    "start_time": "2021-11-01T17:04:15.147Z"
   },
   {
    "duration": 44,
    "start_time": "2021-11-01T17:05:09.781Z"
   },
   {
    "duration": 293,
    "start_time": "2021-11-01T17:05:12.380Z"
   },
   {
    "duration": 44,
    "start_time": "2021-11-01T17:05:19.245Z"
   },
   {
    "duration": 285,
    "start_time": "2021-11-01T17:05:22.209Z"
   },
   {
    "duration": 289,
    "start_time": "2021-11-01T17:05:32.625Z"
   },
   {
    "duration": 6,
    "start_time": "2021-11-01T17:05:37.671Z"
   },
   {
    "duration": 10,
    "start_time": "2021-11-01T17:05:37.680Z"
   },
   {
    "duration": 1114,
    "start_time": "2021-11-01T17:05:37.693Z"
   },
   {
    "duration": 18,
    "start_time": "2021-11-01T17:05:38.810Z"
   },
   {
    "duration": 179,
    "start_time": "2021-11-01T17:05:38.831Z"
   },
   {
    "duration": 128,
    "start_time": "2021-11-01T17:05:39.013Z"
   },
   {
    "duration": 607,
    "start_time": "2021-11-01T17:05:39.145Z"
   },
   {
    "duration": 13,
    "start_time": "2021-11-01T17:05:39.755Z"
   },
   {
    "duration": 652,
    "start_time": "2021-11-01T17:05:39.770Z"
   },
   {
    "duration": 5,
    "start_time": "2021-11-01T17:05:40.425Z"
   },
   {
    "duration": 5,
    "start_time": "2021-11-01T17:05:40.434Z"
   },
   {
    "duration": 7,
    "start_time": "2021-11-01T17:05:40.466Z"
   },
   {
    "duration": 9,
    "start_time": "2021-11-01T17:05:40.476Z"
   },
   {
    "duration": 139,
    "start_time": "2021-11-01T17:05:40.488Z"
   },
   {
    "duration": 194,
    "start_time": "2021-11-01T17:05:40.630Z"
   },
   {
    "duration": 582,
    "start_time": "2021-11-01T17:05:40.827Z"
   },
   {
    "duration": 20,
    "start_time": "2021-11-01T17:05:41.412Z"
   },
   {
    "duration": 29,
    "start_time": "2021-11-01T17:05:41.437Z"
   },
   {
    "duration": 131,
    "start_time": "2021-11-01T17:05:41.470Z"
   },
   {
    "duration": 4,
    "start_time": "2021-11-01T17:05:41.604Z"
   },
   {
    "duration": 552,
    "start_time": "2021-11-01T17:05:41.611Z"
   },
   {
    "duration": 150,
    "start_time": "2021-11-01T17:05:42.167Z"
   },
   {
    "duration": 562,
    "start_time": "2021-11-01T17:05:42.319Z"
   },
   {
    "duration": 549,
    "start_time": "2021-11-01T17:05:42.884Z"
   },
   {
    "duration": 106,
    "start_time": "2021-11-01T17:05:43.436Z"
   },
   {
    "duration": 708,
    "start_time": "2021-11-01T17:05:43.545Z"
   },
   {
    "duration": 544,
    "start_time": "2021-11-01T17:05:44.256Z"
   },
   {
    "duration": 582,
    "start_time": "2021-11-01T17:05:44.802Z"
   },
   {
    "duration": 129,
    "start_time": "2021-11-01T17:05:45.386Z"
   },
   {
    "duration": 578,
    "start_time": "2021-11-01T17:05:45.518Z"
   },
   {
    "duration": 166,
    "start_time": "2021-11-01T17:05:46.098Z"
   },
   {
    "duration": 23,
    "start_time": "2021-11-01T17:05:46.267Z"
   },
   {
    "duration": 44,
    "start_time": "2021-11-01T17:05:46.292Z"
   },
   {
    "duration": 297,
    "start_time": "2021-11-01T17:05:46.339Z"
   },
   {
    "duration": 391,
    "start_time": "2021-11-01T17:05:46.639Z"
   },
   {
    "duration": 48,
    "start_time": "2021-11-01T17:05:47.032Z"
   },
   {
    "duration": 293,
    "start_time": "2021-11-01T17:05:47.082Z"
   },
   {
    "duration": 21,
    "start_time": "2021-11-01T17:05:47.378Z"
   },
   {
    "duration": 37,
    "start_time": "2021-11-01T17:16:48.602Z"
   },
   {
    "duration": 29,
    "start_time": "2021-11-01T17:17:05.315Z"
   },
   {
    "duration": 35,
    "start_time": "2021-11-01T17:17:10.437Z"
   },
   {
    "duration": 12,
    "start_time": "2021-11-01T17:17:16.847Z"
   },
   {
    "duration": 10,
    "start_time": "2021-11-01T17:17:26.392Z"
   },
   {
    "duration": 15,
    "start_time": "2021-11-01T17:17:30.691Z"
   },
   {
    "duration": 23,
    "start_time": "2021-11-01T17:17:38.845Z"
   },
   {
    "duration": 20,
    "start_time": "2021-11-01T17:20:00.785Z"
   },
   {
    "duration": 21,
    "start_time": "2021-11-01T17:20:04.289Z"
   },
   {
    "duration": 5,
    "start_time": "2021-11-01T17:20:06.740Z"
   },
   {
    "duration": 132,
    "start_time": "2021-11-01T17:20:09.292Z"
   },
   {
    "duration": 5,
    "start_time": "2021-11-01T17:20:11.709Z"
   },
   {
    "duration": 5,
    "start_time": "2021-11-01T17:20:13.658Z"
   },
   {
    "duration": 7,
    "start_time": "2021-11-01T17:20:40.789Z"
   },
   {
    "duration": 7,
    "start_time": "2021-11-01T17:20:40.799Z"
   },
   {
    "duration": 1242,
    "start_time": "2021-11-01T17:20:40.809Z"
   },
   {
    "duration": 23,
    "start_time": "2021-11-01T17:20:42.054Z"
   },
   {
    "duration": 175,
    "start_time": "2021-11-01T17:20:42.079Z"
   },
   {
    "duration": 167,
    "start_time": "2021-11-01T17:20:42.257Z"
   },
   {
    "duration": 834,
    "start_time": "2021-11-01T17:20:42.427Z"
   },
   {
    "duration": 6,
    "start_time": "2021-11-01T17:20:43.263Z"
   },
   {
    "duration": 690,
    "start_time": "2021-11-01T17:20:43.273Z"
   },
   {
    "duration": 5,
    "start_time": "2021-11-01T17:20:43.969Z"
   },
   {
    "duration": 13,
    "start_time": "2021-11-01T17:20:43.977Z"
   },
   {
    "duration": 11,
    "start_time": "2021-11-01T17:20:43.992Z"
   },
   {
    "duration": 12,
    "start_time": "2021-11-01T17:20:44.005Z"
   },
   {
    "duration": 142,
    "start_time": "2021-11-01T17:20:44.019Z"
   },
   {
    "duration": 191,
    "start_time": "2021-11-01T17:20:44.166Z"
   },
   {
    "duration": 558,
    "start_time": "2021-11-01T17:20:44.360Z"
   },
   {
    "duration": 23,
    "start_time": "2021-11-01T17:20:44.921Z"
   },
   {
    "duration": 24,
    "start_time": "2021-11-01T17:20:44.946Z"
   },
   {
    "duration": 157,
    "start_time": "2021-11-01T17:20:44.973Z"
   },
   {
    "duration": 6,
    "start_time": "2021-11-01T17:20:45.133Z"
   },
   {
    "duration": 804,
    "start_time": "2021-11-01T17:20:45.142Z"
   },
   {
    "duration": 154,
    "start_time": "2021-11-01T17:20:45.948Z"
   },
   {
    "duration": 551,
    "start_time": "2021-11-01T17:20:46.105Z"
   },
   {
    "duration": 735,
    "start_time": "2021-11-01T17:20:46.659Z"
   },
   {
    "duration": 103,
    "start_time": "2021-11-01T17:20:47.396Z"
   },
   {
    "duration": 572,
    "start_time": "2021-11-01T17:20:47.502Z"
   },
   {
    "duration": 639,
    "start_time": "2021-11-01T17:20:48.081Z"
   },
   {
    "duration": 681,
    "start_time": "2021-11-01T17:20:48.723Z"
   },
   {
    "duration": 132,
    "start_time": "2021-11-01T17:20:49.407Z"
   },
   {
    "duration": 837,
    "start_time": "2021-11-01T17:20:49.542Z"
   },
   {
    "duration": 279,
    "start_time": "2021-11-01T17:20:50.382Z"
   },
   {
    "duration": 32,
    "start_time": "2021-11-01T17:20:50.668Z"
   },
   {
    "duration": 85,
    "start_time": "2021-11-01T17:20:50.704Z"
   },
   {
    "duration": 449,
    "start_time": "2021-11-01T17:20:50.793Z"
   },
   {
    "duration": 475,
    "start_time": "2021-11-01T17:20:51.246Z"
   },
   {
    "duration": 52,
    "start_time": "2021-11-01T17:20:51.723Z"
   },
   {
    "duration": 306,
    "start_time": "2021-11-01T17:20:51.778Z"
   },
   {
    "duration": 22,
    "start_time": "2021-11-01T17:20:52.087Z"
   },
   {
    "duration": 24,
    "start_time": "2021-11-01T17:20:52.111Z"
   },
   {
    "duration": 32,
    "start_time": "2021-11-01T17:20:52.137Z"
   },
   {
    "duration": 103,
    "start_time": "2021-11-01T17:21:01.917Z"
   },
   {
    "duration": 6,
    "start_time": "2021-11-01T17:21:03.070Z"
   },
   {
    "duration": 152,
    "start_time": "2021-11-01T17:21:45.327Z"
   },
   {
    "duration": 6,
    "start_time": "2021-11-01T17:24:46.012Z"
   },
   {
    "duration": 6,
    "start_time": "2021-11-01T17:24:46.024Z"
   },
   {
    "duration": 1134,
    "start_time": "2021-11-01T17:24:46.033Z"
   },
   {
    "duration": 19,
    "start_time": "2021-11-01T17:24:47.170Z"
   },
   {
    "duration": 180,
    "start_time": "2021-11-01T17:24:47.192Z"
   },
   {
    "duration": 131,
    "start_time": "2021-11-01T17:24:47.374Z"
   },
   {
    "duration": 618,
    "start_time": "2021-11-01T17:24:47.508Z"
   },
   {
    "duration": 6,
    "start_time": "2021-11-01T17:24:48.129Z"
   },
   {
    "duration": 783,
    "start_time": "2021-11-01T17:24:48.141Z"
   },
   {
    "duration": 6,
    "start_time": "2021-11-01T17:24:48.927Z"
   },
   {
    "duration": 11,
    "start_time": "2021-11-01T17:24:48.936Z"
   },
   {
    "duration": 20,
    "start_time": "2021-11-01T17:24:48.950Z"
   },
   {
    "duration": 8,
    "start_time": "2021-11-01T17:24:48.974Z"
   },
   {
    "duration": 184,
    "start_time": "2021-11-01T17:24:48.985Z"
   },
   {
    "duration": 230,
    "start_time": "2021-11-01T17:24:49.173Z"
   },
   {
    "duration": 774,
    "start_time": "2021-11-01T17:24:49.406Z"
   },
   {
    "duration": 19,
    "start_time": "2021-11-01T17:24:50.182Z"
   },
   {
    "duration": 6,
    "start_time": "2021-11-01T17:24:50.203Z"
   },
   {
    "duration": 143,
    "start_time": "2021-11-01T17:24:50.211Z"
   },
   {
    "duration": 11,
    "start_time": "2021-11-01T17:24:50.356Z"
   },
   {
    "duration": 550,
    "start_time": "2021-11-01T17:24:50.370Z"
   },
   {
    "duration": 151,
    "start_time": "2021-11-01T17:24:50.922Z"
   },
   {
    "duration": 707,
    "start_time": "2021-11-01T17:24:51.076Z"
   },
   {
    "duration": 595,
    "start_time": "2021-11-01T17:24:51.790Z"
   },
   {
    "duration": 101,
    "start_time": "2021-11-01T17:24:52.388Z"
   },
   {
    "duration": 567,
    "start_time": "2021-11-01T17:24:52.492Z"
   },
   {
    "duration": 569,
    "start_time": "2021-11-01T17:24:53.061Z"
   },
   {
    "duration": 689,
    "start_time": "2021-11-01T17:24:53.633Z"
   },
   {
    "duration": 125,
    "start_time": "2021-11-01T17:24:54.325Z"
   },
   {
    "duration": 598,
    "start_time": "2021-11-01T17:24:54.452Z"
   },
   {
    "duration": 172,
    "start_time": "2021-11-01T17:24:55.052Z"
   },
   {
    "duration": 22,
    "start_time": "2021-11-01T17:24:55.227Z"
   },
   {
    "duration": 46,
    "start_time": "2021-11-01T17:24:55.267Z"
   },
   {
    "duration": 286,
    "start_time": "2021-11-01T17:24:55.316Z"
   },
   {
    "duration": 409,
    "start_time": "2021-11-01T17:24:55.604Z"
   },
   {
    "duration": 81,
    "start_time": "2021-11-01T17:24:56.016Z"
   },
   {
    "duration": 298,
    "start_time": "2021-11-01T17:24:56.099Z"
   },
   {
    "duration": 21,
    "start_time": "2021-11-01T17:24:56.400Z"
   },
   {
    "duration": 49,
    "start_time": "2021-11-01T17:24:56.424Z"
   },
   {
    "duration": 7,
    "start_time": "2021-11-01T17:24:56.476Z"
   },
   {
    "duration": 138,
    "start_time": "2021-11-01T17:24:56.486Z"
   },
   {
    "duration": 4,
    "start_time": "2021-11-01T17:24:56.627Z"
   },
   {
    "duration": 183,
    "start_time": "2021-11-01T17:24:56.633Z"
   },
   {
    "duration": 80,
    "start_time": "2021-11-01T17:43:26.208Z"
   },
   {
    "duration": 461,
    "start_time": "2021-11-01T17:45:30.542Z"
   },
   {
    "duration": 449,
    "start_time": "2021-11-01T17:45:41.186Z"
   },
   {
    "duration": 359,
    "start_time": "2021-11-01T17:45:54.439Z"
   },
   {
    "duration": 1701,
    "start_time": "2021-11-02T18:21:37.695Z"
   },
   {
    "duration": 5,
    "start_time": "2021-11-02T18:21:39.398Z"
   },
   {
    "duration": 1116,
    "start_time": "2021-11-02T18:21:39.406Z"
   },
   {
    "duration": 26,
    "start_time": "2021-11-02T18:21:40.526Z"
   },
   {
    "duration": 184,
    "start_time": "2021-11-02T18:21:40.555Z"
   },
   {
    "duration": 131,
    "start_time": "2021-11-02T18:21:40.741Z"
   },
   {
    "duration": 604,
    "start_time": "2021-11-02T18:21:40.874Z"
   },
   {
    "duration": 5,
    "start_time": "2021-11-02T18:21:41.481Z"
   },
   {
    "duration": 657,
    "start_time": "2021-11-02T18:21:41.490Z"
   },
   {
    "duration": 5,
    "start_time": "2021-11-02T18:21:42.149Z"
   },
   {
    "duration": 5,
    "start_time": "2021-11-02T18:21:42.156Z"
   },
   {
    "duration": 8,
    "start_time": "2021-11-02T18:21:42.164Z"
   },
   {
    "duration": 27,
    "start_time": "2021-11-02T18:21:42.174Z"
   },
   {
    "duration": 137,
    "start_time": "2021-11-02T18:21:42.204Z"
   },
   {
    "duration": 195,
    "start_time": "2021-11-02T18:21:42.343Z"
   },
   {
    "duration": 580,
    "start_time": "2021-11-02T18:21:42.541Z"
   },
   {
    "duration": 20,
    "start_time": "2021-11-02T18:21:43.124Z"
   },
   {
    "duration": 6,
    "start_time": "2021-11-02T18:21:43.147Z"
   },
   {
    "duration": 149,
    "start_time": "2021-11-02T18:21:43.155Z"
   },
   {
    "duration": 5,
    "start_time": "2021-11-02T18:21:43.306Z"
   },
   {
    "duration": 553,
    "start_time": "2021-11-02T18:21:43.313Z"
   },
   {
    "duration": 151,
    "start_time": "2021-11-02T18:21:43.868Z"
   },
   {
    "duration": 535,
    "start_time": "2021-11-02T18:21:44.024Z"
   },
   {
    "duration": 614,
    "start_time": "2021-11-02T18:21:44.562Z"
   },
   {
    "duration": 93,
    "start_time": "2021-11-02T18:21:45.179Z"
   },
   {
    "duration": 637,
    "start_time": "2021-11-02T18:21:45.275Z"
   },
   {
    "duration": 638,
    "start_time": "2021-11-02T18:21:45.915Z"
   },
   {
    "duration": 582,
    "start_time": "2021-11-02T18:21:46.555Z"
   },
   {
    "duration": 122,
    "start_time": "2021-11-02T18:21:47.139Z"
   },
   {
    "duration": 583,
    "start_time": "2021-11-02T18:21:47.264Z"
   },
   {
    "duration": 178,
    "start_time": "2021-11-02T18:21:47.850Z"
   },
   {
    "duration": 23,
    "start_time": "2021-11-02T18:21:48.031Z"
   },
   {
    "duration": 59,
    "start_time": "2021-11-02T18:21:48.056Z"
   },
   {
    "duration": 277,
    "start_time": "2021-11-02T18:21:48.118Z"
   },
   {
    "duration": 367,
    "start_time": "2021-11-02T18:21:48.400Z"
   },
   {
    "duration": 47,
    "start_time": "2021-11-02T18:21:48.769Z"
   },
   {
    "duration": 287,
    "start_time": "2021-11-02T18:21:48.818Z"
   },
   {
    "duration": 21,
    "start_time": "2021-11-02T18:21:49.108Z"
   },
   {
    "duration": 169,
    "start_time": "2021-11-02T18:21:49.131Z"
   },
   {
    "duration": 127,
    "start_time": "2021-11-02T18:21:49.302Z"
   },
   {
    "duration": 819,
    "start_time": "2021-11-02T18:21:48.613Z"
   },
   {
    "duration": 45,
    "start_time": "2021-11-02T18:23:07.326Z"
   },
   {
    "duration": 659,
    "start_time": "2021-11-02T18:23:42.429Z"
   },
   {
    "duration": 13,
    "start_time": "2021-11-02T18:27:59.008Z"
   },
   {
    "duration": 22,
    "start_time": "2021-11-02T18:28:06.372Z"
   },
   {
    "duration": 1103,
    "start_time": "2021-11-02T18:28:21.926Z"
   },
   {
    "duration": 19,
    "start_time": "2021-11-02T18:28:41.039Z"
   },
   {
    "duration": 22,
    "start_time": "2021-11-02T18:29:30.357Z"
   },
   {
    "duration": 24,
    "start_time": "2021-11-02T18:30:42.377Z"
   },
   {
    "duration": 969,
    "start_time": "2021-11-02T18:31:24.896Z"
   },
   {
    "duration": 998,
    "start_time": "2021-11-02T18:31:59.315Z"
   },
   {
    "duration": 3798,
    "start_time": "2021-11-02T18:32:07.357Z"
   },
   {
    "duration": 3949,
    "start_time": "2021-11-02T18:35:13.815Z"
   },
   {
    "duration": 588,
    "start_time": "2021-11-02T18:35:40.512Z"
   },
   {
    "duration": 712,
    "start_time": "2021-11-02T18:36:16.207Z"
   },
   {
    "duration": 384,
    "start_time": "2021-11-02T18:36:53.971Z"
   },
   {
    "duration": 98,
    "start_time": "2021-11-02T18:37:05.535Z"
   },
   {
    "duration": 397,
    "start_time": "2021-11-02T18:37:22.187Z"
   },
   {
    "duration": 535,
    "start_time": "2021-11-02T18:37:28.613Z"
   },
   {
    "duration": 2760,
    "start_time": "2021-11-02T18:40:22.527Z"
   },
   {
    "duration": 539,
    "start_time": "2021-11-02T18:40:50.839Z"
   },
   {
    "duration": 524,
    "start_time": "2021-11-02T18:40:58.214Z"
   },
   {
    "duration": 121,
    "start_time": "2021-11-02T18:41:05.193Z"
   },
   {
    "duration": 5538,
    "start_time": "2021-11-02T18:58:19.869Z"
   },
   {
    "duration": 23,
    "start_time": "2021-11-02T19:01:15.979Z"
   },
   {
    "duration": 16622,
    "start_time": "2021-11-02T19:01:19.645Z"
   },
   {
    "duration": 874,
    "start_time": "2021-11-02T19:01:35.396Z"
   },
   {
    "duration": 868,
    "start_time": "2021-11-02T19:01:35.403Z"
   },
   {
    "duration": 16982,
    "start_time": "2021-11-02T19:02:06.213Z"
   },
   {
    "duration": 8951,
    "start_time": "2021-11-02T19:03:01.817Z"
   },
   {
    "duration": 17138,
    "start_time": "2021-11-02T19:03:12.467Z"
   },
   {
    "duration": 63,
    "start_time": "2021-11-02T19:05:16.090Z"
   },
   {
    "duration": 6,
    "start_time": "2021-11-02T19:06:31.665Z"
   },
   {
    "duration": 6,
    "start_time": "2021-11-02T19:06:31.673Z"
   },
   {
    "duration": 1151,
    "start_time": "2021-11-02T19:06:31.682Z"
   },
   {
    "duration": 21,
    "start_time": "2021-11-02T19:06:32.837Z"
   },
   {
    "duration": 191,
    "start_time": "2021-11-02T19:06:32.861Z"
   },
   {
    "duration": 124,
    "start_time": "2021-11-02T19:06:33.055Z"
   },
   {
    "duration": 577,
    "start_time": "2021-11-02T19:06:33.182Z"
   },
   {
    "duration": 4,
    "start_time": "2021-11-02T19:06:33.762Z"
   },
   {
    "duration": 640,
    "start_time": "2021-11-02T19:06:33.768Z"
   },
   {
    "duration": 4,
    "start_time": "2021-11-02T19:06:34.411Z"
   },
   {
    "duration": 6,
    "start_time": "2021-11-02T19:06:34.417Z"
   },
   {
    "duration": 7,
    "start_time": "2021-11-02T19:06:34.425Z"
   },
   {
    "duration": 8,
    "start_time": "2021-11-02T19:06:34.435Z"
   },
   {
    "duration": 151,
    "start_time": "2021-11-02T19:06:34.447Z"
   },
   {
    "duration": 200,
    "start_time": "2021-11-02T19:06:34.601Z"
   },
   {
    "duration": 567,
    "start_time": "2021-11-02T19:06:34.804Z"
   },
   {
    "duration": 30,
    "start_time": "2021-11-02T19:06:35.373Z"
   },
   {
    "duration": 5,
    "start_time": "2021-11-02T19:06:35.406Z"
   },
   {
    "duration": 129,
    "start_time": "2021-11-02T19:06:35.413Z"
   },
   {
    "duration": 4,
    "start_time": "2021-11-02T19:06:35.544Z"
   },
   {
    "duration": 543,
    "start_time": "2021-11-02T19:06:35.550Z"
   },
   {
    "duration": 140,
    "start_time": "2021-11-02T19:06:36.100Z"
   },
   {
    "duration": 554,
    "start_time": "2021-11-02T19:06:36.242Z"
   },
   {
    "duration": 563,
    "start_time": "2021-11-02T19:06:36.798Z"
   },
   {
    "duration": 105,
    "start_time": "2021-11-02T19:06:37.364Z"
   },
   {
    "duration": 548,
    "start_time": "2021-11-02T19:06:37.472Z"
   },
   {
    "duration": 547,
    "start_time": "2021-11-02T19:06:38.022Z"
   },
   {
    "duration": 745,
    "start_time": "2021-11-02T19:06:38.572Z"
   },
   {
    "duration": 129,
    "start_time": "2021-11-02T19:06:39.320Z"
   },
   {
    "duration": 593,
    "start_time": "2021-11-02T19:06:39.452Z"
   },
   {
    "duration": 166,
    "start_time": "2021-11-02T19:06:40.047Z"
   },
   {
    "duration": 22,
    "start_time": "2021-11-02T19:06:40.215Z"
   },
   {
    "duration": 63,
    "start_time": "2021-11-02T19:06:40.239Z"
   },
   {
    "duration": 282,
    "start_time": "2021-11-02T19:06:40.305Z"
   },
   {
    "duration": 370,
    "start_time": "2021-11-02T19:06:40.590Z"
   },
   {
    "duration": 48,
    "start_time": "2021-11-02T19:06:40.962Z"
   },
   {
    "duration": 290,
    "start_time": "2021-11-02T19:06:41.013Z"
   },
   {
    "duration": 20,
    "start_time": "2021-11-02T19:06:41.308Z"
   },
   {
    "duration": 170,
    "start_time": "2021-11-02T19:06:41.331Z"
   },
   {
    "duration": 44,
    "start_time": "2021-11-02T19:06:41.504Z"
   },
   {
    "duration": 22,
    "start_time": "2021-11-02T19:06:41.551Z"
   },
   {
    "duration": 36332,
    "start_time": "2021-11-02T19:06:54.177Z"
   },
   {
    "duration": 22,
    "start_time": "2021-11-02T19:07:59.013Z"
   },
   {
    "duration": 47,
    "start_time": "2021-11-02T19:08:05.059Z"
   },
   {
    "duration": 4976,
    "start_time": "2021-11-02T19:10:58.737Z"
   },
   {
    "duration": 7,
    "start_time": "2021-11-02T19:11:11.558Z"
   },
   {
    "duration": 10,
    "start_time": "2021-11-02T19:11:11.567Z"
   },
   {
    "duration": 1106,
    "start_time": "2021-11-02T19:11:11.580Z"
   },
   {
    "duration": 27,
    "start_time": "2021-11-02T19:11:12.689Z"
   },
   {
    "duration": 173,
    "start_time": "2021-11-02T19:11:12.718Z"
   },
   {
    "duration": 127,
    "start_time": "2021-11-02T19:11:12.893Z"
   },
   {
    "duration": 607,
    "start_time": "2021-11-02T19:11:13.024Z"
   },
   {
    "duration": 5,
    "start_time": "2021-11-02T19:11:13.634Z"
   },
   {
    "duration": 647,
    "start_time": "2021-11-02T19:11:13.641Z"
   },
   {
    "duration": 11,
    "start_time": "2021-11-02T19:11:14.290Z"
   },
   {
    "duration": 3,
    "start_time": "2021-11-02T19:11:14.303Z"
   },
   {
    "duration": 6,
    "start_time": "2021-11-02T19:11:14.309Z"
   },
   {
    "duration": 8,
    "start_time": "2021-11-02T19:11:14.317Z"
   },
   {
    "duration": 152,
    "start_time": "2021-11-02T19:11:14.327Z"
   },
   {
    "duration": 182,
    "start_time": "2021-11-02T19:11:14.481Z"
   },
   {
    "duration": 583,
    "start_time": "2021-11-02T19:11:14.665Z"
   },
   {
    "duration": 19,
    "start_time": "2021-11-02T19:11:15.250Z"
   },
   {
    "duration": 5,
    "start_time": "2021-11-02T19:11:15.274Z"
   },
   {
    "duration": 135,
    "start_time": "2021-11-02T19:11:15.302Z"
   },
   {
    "duration": 5,
    "start_time": "2021-11-02T19:11:15.440Z"
   },
   {
    "duration": 544,
    "start_time": "2021-11-02T19:11:15.447Z"
   },
   {
    "duration": 151,
    "start_time": "2021-11-02T19:11:15.993Z"
   },
   {
    "duration": 544,
    "start_time": "2021-11-02T19:11:16.146Z"
   },
   {
    "duration": 561,
    "start_time": "2021-11-02T19:11:16.700Z"
   },
   {
    "duration": 107,
    "start_time": "2021-11-02T19:11:17.263Z"
   },
   {
    "duration": 651,
    "start_time": "2021-11-02T19:11:17.372Z"
   },
   {
    "duration": 551,
    "start_time": "2021-11-02T19:11:18.026Z"
   },
   {
    "duration": 601,
    "start_time": "2021-11-02T19:11:18.580Z"
   },
   {
    "duration": 123,
    "start_time": "2021-11-02T19:11:19.183Z"
   },
   {
    "duration": 579,
    "start_time": "2021-11-02T19:11:19.309Z"
   },
   {
    "duration": 173,
    "start_time": "2021-11-02T19:11:19.890Z"
   },
   {
    "duration": 35,
    "start_time": "2021-11-02T19:11:20.065Z"
   },
   {
    "duration": 46,
    "start_time": "2021-11-02T19:11:20.102Z"
   },
   {
    "duration": 286,
    "start_time": "2021-11-02T19:11:20.150Z"
   },
   {
    "duration": 375,
    "start_time": "2021-11-02T19:11:20.438Z"
   },
   {
    "duration": 43,
    "start_time": "2021-11-02T19:11:20.816Z"
   },
   {
    "duration": 285,
    "start_time": "2021-11-02T19:11:20.862Z"
   },
   {
    "duration": 22,
    "start_time": "2021-11-02T19:11:21.150Z"
   },
   {
    "duration": 184,
    "start_time": "2021-11-02T19:11:21.175Z"
   },
   {
    "duration": 53,
    "start_time": "2021-11-02T19:11:21.362Z"
   },
   {
    "duration": 27,
    "start_time": "2021-11-02T19:11:21.418Z"
   },
   {
    "duration": 35013,
    "start_time": "2021-11-02T19:11:21.448Z"
   },
   {
    "duration": 20,
    "start_time": "2021-11-02T19:12:06.230Z"
   },
   {
    "duration": 45,
    "start_time": "2021-11-02T19:12:08.994Z"
   },
   {
    "duration": 393,
    "start_time": "2021-11-02T19:12:56.668Z"
   },
   {
    "duration": 720,
    "start_time": "2021-11-02T19:13:03.686Z"
   },
   {
    "duration": 399,
    "start_time": "2021-11-02T19:13:11.823Z"
   },
   {
    "duration": 442,
    "start_time": "2021-11-02T19:14:54.717Z"
   },
   {
    "duration": 7,
    "start_time": "2021-11-02T19:15:24.064Z"
   },
   {
    "duration": 8,
    "start_time": "2021-11-02T19:15:24.073Z"
   },
   {
    "duration": 1096,
    "start_time": "2021-11-02T19:15:24.084Z"
   },
   {
    "duration": 23,
    "start_time": "2021-11-02T19:15:25.182Z"
   },
   {
    "duration": 173,
    "start_time": "2021-11-02T19:15:25.208Z"
   },
   {
    "duration": 126,
    "start_time": "2021-11-02T19:15:25.384Z"
   },
   {
    "duration": 594,
    "start_time": "2021-11-02T19:15:25.513Z"
   },
   {
    "duration": 5,
    "start_time": "2021-11-02T19:15:26.109Z"
   },
   {
    "duration": 646,
    "start_time": "2021-11-02T19:15:26.116Z"
   },
   {
    "duration": 5,
    "start_time": "2021-11-02T19:15:26.764Z"
   },
   {
    "duration": 5,
    "start_time": "2021-11-02T19:15:26.771Z"
   },
   {
    "duration": 25,
    "start_time": "2021-11-02T19:15:26.778Z"
   },
   {
    "duration": 9,
    "start_time": "2021-11-02T19:15:26.805Z"
   },
   {
    "duration": 133,
    "start_time": "2021-11-02T19:15:26.818Z"
   },
   {
    "duration": 184,
    "start_time": "2021-11-02T19:15:26.954Z"
   },
   {
    "duration": 564,
    "start_time": "2021-11-02T19:15:27.141Z"
   },
   {
    "duration": 18,
    "start_time": "2021-11-02T19:15:27.707Z"
   },
   {
    "duration": 5,
    "start_time": "2021-11-02T19:15:27.728Z"
   },
   {
    "duration": 155,
    "start_time": "2021-11-02T19:15:27.735Z"
   },
   {
    "duration": 9,
    "start_time": "2021-11-02T19:15:27.893Z"
   },
   {
    "duration": 549,
    "start_time": "2021-11-02T19:15:27.905Z"
   },
   {
    "duration": 139,
    "start_time": "2021-11-02T19:15:28.457Z"
   },
   {
    "duration": 548,
    "start_time": "2021-11-02T19:15:28.601Z"
   },
   {
    "duration": 579,
    "start_time": "2021-11-02T19:15:29.151Z"
   },
   {
    "duration": 98,
    "start_time": "2021-11-02T19:15:29.732Z"
   },
   {
    "duration": 562,
    "start_time": "2021-11-02T19:15:29.832Z"
   },
   {
    "duration": 649,
    "start_time": "2021-11-02T19:15:30.400Z"
   },
   {
    "duration": 596,
    "start_time": "2021-11-02T19:15:31.051Z"
   },
   {
    "duration": 131,
    "start_time": "2021-11-02T19:15:31.650Z"
   },
   {
    "duration": 636,
    "start_time": "2021-11-02T19:15:31.784Z"
   },
   {
    "duration": 183,
    "start_time": "2021-11-02T19:15:32.423Z"
   },
   {
    "duration": 24,
    "start_time": "2021-11-02T19:15:32.609Z"
   },
   {
    "duration": 67,
    "start_time": "2021-11-02T19:15:32.635Z"
   },
   {
    "duration": 286,
    "start_time": "2021-11-02T19:15:32.704Z"
   },
   {
    "duration": 377,
    "start_time": "2021-11-02T19:15:32.993Z"
   },
   {
    "duration": 47,
    "start_time": "2021-11-02T19:15:33.372Z"
   },
   {
    "duration": 301,
    "start_time": "2021-11-02T19:15:33.421Z"
   },
   {
    "duration": 32,
    "start_time": "2021-11-02T19:15:33.728Z"
   },
   {
    "duration": 294,
    "start_time": "2021-11-02T19:15:33.765Z"
   },
   {
    "duration": 390,
    "start_time": "2021-11-02T19:15:34.061Z"
   },
   {
    "duration": 21,
    "start_time": "2021-11-02T19:15:34.454Z"
   },
   {
    "duration": 37391,
    "start_time": "2021-11-02T19:15:34.477Z"
   },
   {
    "duration": 31,
    "start_time": "2021-11-02T19:16:11.871Z"
   },
   {
    "duration": 449,
    "start_time": "2021-11-02T19:16:11.905Z"
   },
   {
    "duration": 21,
    "start_time": "2021-11-02T19:17:53.443Z"
   },
   {
    "duration": 44,
    "start_time": "2021-11-02T19:20:12.187Z"
   },
   {
    "duration": 45,
    "start_time": "2021-11-02T19:20:28.742Z"
   },
   {
    "duration": 44,
    "start_time": "2021-11-02T19:21:23.169Z"
   },
   {
    "duration": 21,
    "start_time": "2021-11-02T19:25:58.769Z"
   },
   {
    "duration": 23,
    "start_time": "2021-11-02T19:26:02.247Z"
   },
   {
    "duration": 5,
    "start_time": "2021-11-02T19:26:03.491Z"
   },
   {
    "duration": 5,
    "start_time": "2021-11-02T19:26:07.199Z"
   },
   {
    "duration": 6,
    "start_time": "2021-11-02T19:26:17.804Z"
   },
   {
    "duration": 9,
    "start_time": "2021-11-02T19:26:17.813Z"
   },
   {
    "duration": 1148,
    "start_time": "2021-11-02T19:26:17.825Z"
   },
   {
    "duration": 31,
    "start_time": "2021-11-02T19:26:18.976Z"
   },
   {
    "duration": 178,
    "start_time": "2021-11-02T19:26:19.010Z"
   },
   {
    "duration": 136,
    "start_time": "2021-11-02T19:26:19.192Z"
   },
   {
    "duration": 581,
    "start_time": "2021-11-02T19:26:19.330Z"
   },
   {
    "duration": 6,
    "start_time": "2021-11-02T19:26:19.914Z"
   },
   {
    "duration": 680,
    "start_time": "2021-11-02T19:26:19.923Z"
   },
   {
    "duration": 5,
    "start_time": "2021-11-02T19:26:20.606Z"
   },
   {
    "duration": 6,
    "start_time": "2021-11-02T19:26:20.615Z"
   },
   {
    "duration": 14,
    "start_time": "2021-11-02T19:26:20.624Z"
   },
   {
    "duration": 16,
    "start_time": "2021-11-02T19:26:20.641Z"
   },
   {
    "duration": 168,
    "start_time": "2021-11-02T19:26:20.663Z"
   },
   {
    "duration": 198,
    "start_time": "2021-11-02T19:26:20.836Z"
   },
   {
    "duration": 563,
    "start_time": "2021-11-02T19:26:21.037Z"
   },
   {
    "duration": 17,
    "start_time": "2021-11-02T19:26:21.603Z"
   },
   {
    "duration": 8,
    "start_time": "2021-11-02T19:26:21.622Z"
   },
   {
    "duration": 152,
    "start_time": "2021-11-02T19:26:21.632Z"
   },
   {
    "duration": 6,
    "start_time": "2021-11-02T19:26:21.786Z"
   },
   {
    "duration": 580,
    "start_time": "2021-11-02T19:26:21.801Z"
   },
   {
    "duration": 143,
    "start_time": "2021-11-02T19:26:22.384Z"
   },
   {
    "duration": 645,
    "start_time": "2021-11-02T19:26:22.530Z"
   },
   {
    "duration": 569,
    "start_time": "2021-11-02T19:26:23.178Z"
   },
   {
    "duration": 100,
    "start_time": "2021-11-02T19:26:23.750Z"
   },
   {
    "duration": 563,
    "start_time": "2021-11-02T19:26:23.853Z"
   },
   {
    "duration": 553,
    "start_time": "2021-11-02T19:26:24.418Z"
   },
   {
    "duration": 588,
    "start_time": "2021-11-02T19:26:24.973Z"
   },
   {
    "duration": 119,
    "start_time": "2021-11-02T19:26:25.563Z"
   },
   {
    "duration": 692,
    "start_time": "2021-11-02T19:26:25.684Z"
   },
   {
    "duration": 167,
    "start_time": "2021-11-02T19:26:26.378Z"
   },
   {
    "duration": 22,
    "start_time": "2021-11-02T19:26:26.548Z"
   },
   {
    "duration": 62,
    "start_time": "2021-11-02T19:26:26.572Z"
   },
   {
    "duration": 391,
    "start_time": "2021-11-02T19:26:26.637Z"
   },
   {
    "duration": 383,
    "start_time": "2021-11-02T19:26:27.031Z"
   },
   {
    "duration": 44,
    "start_time": "2021-11-02T19:26:27.416Z"
   },
   {
    "duration": 287,
    "start_time": "2021-11-02T19:26:27.462Z"
   },
   {
    "duration": 21,
    "start_time": "2021-11-02T19:26:27.754Z"
   },
   {
    "duration": 171,
    "start_time": "2021-11-02T19:26:27.777Z"
   },
   {
    "duration": 754,
    "start_time": "2021-11-02T19:26:27.950Z"
   },
   {
    "duration": 20,
    "start_time": "2021-11-02T19:26:28.706Z"
   },
   {
    "duration": 36217,
    "start_time": "2021-11-02T19:26:28.728Z"
   },
   {
    "duration": 21,
    "start_time": "2021-11-02T19:27:04.948Z"
   },
   {
    "duration": 46,
    "start_time": "2021-11-02T19:27:04.972Z"
   },
   {
    "duration": 787,
    "start_time": "2021-11-02T19:27:05.020Z"
   },
   {
    "duration": 5,
    "start_time": "2021-11-02T19:27:05.810Z"
   },
   {
    "duration": 25,
    "start_time": "2021-11-02T19:27:05.818Z"
   },
   {
    "duration": 21,
    "start_time": "2021-11-02T19:45:50.268Z"
   },
   {
    "duration": 24,
    "start_time": "2021-11-02T19:45:53.311Z"
   },
   {
    "duration": 5,
    "start_time": "2021-11-02T19:45:54.270Z"
   },
   {
    "duration": 6,
    "start_time": "2021-11-02T19:46:39.256Z"
   },
   {
    "duration": 9,
    "start_time": "2021-11-02T19:46:39.264Z"
   },
   {
    "duration": 1124,
    "start_time": "2021-11-02T19:46:39.276Z"
   },
   {
    "duration": 18,
    "start_time": "2021-11-02T19:46:40.402Z"
   },
   {
    "duration": 177,
    "start_time": "2021-11-02T19:46:40.423Z"
   },
   {
    "duration": 124,
    "start_time": "2021-11-02T19:46:40.603Z"
   },
   {
    "duration": 599,
    "start_time": "2021-11-02T19:46:40.730Z"
   },
   {
    "duration": 5,
    "start_time": "2021-11-02T19:46:41.332Z"
   },
   {
    "duration": 649,
    "start_time": "2021-11-02T19:46:41.339Z"
   },
   {
    "duration": 10,
    "start_time": "2021-11-02T19:46:41.991Z"
   },
   {
    "duration": 3,
    "start_time": "2021-11-02T19:46:42.003Z"
   },
   {
    "duration": 9,
    "start_time": "2021-11-02T19:46:42.008Z"
   },
   {
    "duration": 8,
    "start_time": "2021-11-02T19:46:42.019Z"
   },
   {
    "duration": 143,
    "start_time": "2021-11-02T19:46:42.029Z"
   },
   {
    "duration": 176,
    "start_time": "2021-11-02T19:46:42.174Z"
   },
   {
    "duration": 561,
    "start_time": "2021-11-02T19:46:42.352Z"
   },
   {
    "duration": 19,
    "start_time": "2021-11-02T19:46:42.916Z"
   },
   {
    "duration": 5,
    "start_time": "2021-11-02T19:46:42.940Z"
   },
   {
    "duration": 152,
    "start_time": "2021-11-02T19:46:42.948Z"
   },
   {
    "duration": 5,
    "start_time": "2021-11-02T19:46:43.103Z"
   },
   {
    "duration": 564,
    "start_time": "2021-11-02T19:46:43.110Z"
   },
   {
    "duration": 145,
    "start_time": "2021-11-02T19:46:43.676Z"
   },
   {
    "duration": 550,
    "start_time": "2021-11-02T19:46:43.824Z"
   },
   {
    "duration": 554,
    "start_time": "2021-11-02T19:46:44.376Z"
   },
   {
    "duration": 102,
    "start_time": "2021-11-02T19:46:44.933Z"
   },
   {
    "duration": 556,
    "start_time": "2021-11-02T19:46:45.038Z"
   },
   {
    "duration": 664,
    "start_time": "2021-11-02T19:46:45.600Z"
   },
   {
    "duration": 605,
    "start_time": "2021-11-02T19:46:46.266Z"
   },
   {
    "duration": 130,
    "start_time": "2021-11-02T19:46:46.874Z"
   },
   {
    "duration": 594,
    "start_time": "2021-11-02T19:46:47.006Z"
   },
   {
    "duration": 171,
    "start_time": "2021-11-02T19:46:47.603Z"
   },
   {
    "duration": 38,
    "start_time": "2021-11-02T19:46:47.777Z"
   },
   {
    "duration": 56,
    "start_time": "2021-11-02T19:46:47.818Z"
   },
   {
    "duration": 292,
    "start_time": "2021-11-02T19:46:47.876Z"
   },
   {
    "duration": 364,
    "start_time": "2021-11-02T19:46:48.171Z"
   },
   {
    "duration": 44,
    "start_time": "2021-11-02T19:46:48.538Z"
   },
   {
    "duration": 282,
    "start_time": "2021-11-02T19:46:48.584Z"
   },
   {
    "duration": 20,
    "start_time": "2021-11-02T19:46:48.868Z"
   },
   {
    "duration": 173,
    "start_time": "2021-11-02T19:46:48.891Z"
   },
   {
    "duration": 941,
    "start_time": "2021-11-02T19:46:49.067Z"
   },
   {
    "duration": 21,
    "start_time": "2021-11-02T19:46:50.011Z"
   },
   {
    "duration": 35161,
    "start_time": "2021-11-02T19:46:50.034Z"
   },
   {
    "duration": 21,
    "start_time": "2021-11-02T19:47:25.197Z"
   },
   {
    "duration": 21,
    "start_time": "2021-11-02T19:47:25.221Z"
   },
   {
    "duration": 835,
    "start_time": "2021-11-02T19:47:25.244Z"
   },
   {
    "duration": 5,
    "start_time": "2021-11-02T19:47:26.082Z"
   },
   {
    "duration": 22,
    "start_time": "2021-11-02T19:47:26.101Z"
   },
   {
    "duration": 141,
    "start_time": "2021-11-02T20:04:26.117Z"
   },
   {
    "duration": 5,
    "start_time": "2021-11-02T20:04:26.907Z"
   },
   {
    "duration": 6,
    "start_time": "2021-11-02T20:04:35.949Z"
   },
   {
    "duration": 6,
    "start_time": "2021-11-02T20:05:08.792Z"
   },
   {
    "duration": 10,
    "start_time": "2021-11-02T20:05:08.803Z"
   },
   {
    "duration": 1110,
    "start_time": "2021-11-02T20:05:08.816Z"
   },
   {
    "duration": 19,
    "start_time": "2021-11-02T20:05:09.930Z"
   },
   {
    "duration": 178,
    "start_time": "2021-11-02T20:05:09.952Z"
   },
   {
    "duration": 131,
    "start_time": "2021-11-02T20:05:10.133Z"
   },
   {
    "duration": 638,
    "start_time": "2021-11-02T20:05:10.267Z"
   },
   {
    "duration": 5,
    "start_time": "2021-11-02T20:05:10.907Z"
   },
   {
    "duration": 695,
    "start_time": "2021-11-02T20:05:10.914Z"
   },
   {
    "duration": 5,
    "start_time": "2021-11-02T20:05:11.613Z"
   },
   {
    "duration": 15,
    "start_time": "2021-11-02T20:05:11.621Z"
   },
   {
    "duration": 19,
    "start_time": "2021-11-02T20:05:11.639Z"
   },
   {
    "duration": 16,
    "start_time": "2021-11-02T20:05:11.660Z"
   },
   {
    "duration": 132,
    "start_time": "2021-11-02T20:05:11.679Z"
   },
   {
    "duration": 204,
    "start_time": "2021-11-02T20:05:11.814Z"
   },
   {
    "duration": 784,
    "start_time": "2021-11-02T20:05:12.021Z"
   },
   {
    "duration": 19,
    "start_time": "2021-11-02T20:05:12.808Z"
   },
   {
    "duration": 5,
    "start_time": "2021-11-02T20:05:12.830Z"
   },
   {
    "duration": 154,
    "start_time": "2021-11-02T20:05:12.837Z"
   },
   {
    "duration": 6,
    "start_time": "2021-11-02T20:05:12.994Z"
   },
   {
    "duration": 556,
    "start_time": "2021-11-02T20:05:13.002Z"
   },
   {
    "duration": 151,
    "start_time": "2021-11-02T20:05:13.561Z"
   },
   {
    "duration": 680,
    "start_time": "2021-11-02T20:05:13.715Z"
   },
   {
    "duration": 571,
    "start_time": "2021-11-02T20:05:14.400Z"
   },
   {
    "duration": 104,
    "start_time": "2021-11-02T20:05:14.974Z"
   },
   {
    "duration": 559,
    "start_time": "2021-11-02T20:05:15.080Z"
   },
   {
    "duration": 575,
    "start_time": "2021-11-02T20:05:15.641Z"
   },
   {
    "duration": 614,
    "start_time": "2021-11-02T20:05:16.221Z"
   },
   {
    "duration": 126,
    "start_time": "2021-11-02T20:05:16.838Z"
   },
   {
    "duration": 703,
    "start_time": "2021-11-02T20:05:16.966Z"
   },
   {
    "duration": 173,
    "start_time": "2021-11-02T20:05:17.671Z"
   },
   {
    "duration": 24,
    "start_time": "2021-11-02T20:05:17.847Z"
   },
   {
    "duration": 65,
    "start_time": "2021-11-02T20:05:17.874Z"
   },
   {
    "duration": 389,
    "start_time": "2021-11-02T20:05:17.942Z"
   },
   {
    "duration": 374,
    "start_time": "2021-11-02T20:05:18.334Z"
   },
   {
    "duration": 44,
    "start_time": "2021-11-02T20:05:18.711Z"
   },
   {
    "duration": 292,
    "start_time": "2021-11-02T20:05:18.757Z"
   },
   {
    "duration": 22,
    "start_time": "2021-11-02T20:05:19.051Z"
   },
   {
    "duration": 188,
    "start_time": "2021-11-02T20:05:19.075Z"
   },
   {
    "duration": 899,
    "start_time": "2021-11-02T20:05:19.266Z"
   },
   {
    "duration": 35,
    "start_time": "2021-11-02T20:05:20.167Z"
   },
   {
    "duration": 35845,
    "start_time": "2021-11-02T20:05:20.205Z"
   },
   {
    "duration": 20,
    "start_time": "2021-11-02T20:05:56.053Z"
   },
   {
    "duration": 42,
    "start_time": "2021-11-02T20:05:56.075Z"
   },
   {
    "duration": 798,
    "start_time": "2021-11-02T20:05:56.120Z"
   },
   {
    "duration": 5,
    "start_time": "2021-11-02T20:05:56.921Z"
   },
   {
    "duration": 25,
    "start_time": "2021-11-02T20:05:56.928Z"
   },
   {
    "duration": 145,
    "start_time": "2021-11-02T20:05:56.955Z"
   },
   {
    "duration": 5,
    "start_time": "2021-11-02T20:05:57.103Z"
   },
   {
    "duration": 5,
    "start_time": "2021-11-02T20:42:54.799Z"
   },
   {
    "duration": 148,
    "start_time": "2021-11-02T20:44:45.422Z"
   },
   {
    "duration": 44,
    "start_time": "2021-11-02T20:45:58.356Z"
   },
   {
    "duration": 47,
    "start_time": "2021-11-02T20:46:07.508Z"
   },
   {
    "duration": 556,
    "start_time": "2021-11-02T20:48:49.120Z"
   },
   {
    "duration": 598,
    "start_time": "2021-11-02T20:49:19.930Z"
   },
   {
    "duration": 824,
    "start_time": "2021-11-02T20:50:38.508Z"
   },
   {
    "duration": 768,
    "start_time": "2021-11-02T20:56:23.196Z"
   },
   {
    "duration": 21,
    "start_time": "2021-11-02T20:56:55.863Z"
   },
   {
    "duration": 38044,
    "start_time": "2021-11-02T20:57:30.018Z"
   },
   {
    "duration": 21,
    "start_time": "2021-11-02T20:58:08.064Z"
   },
   {
    "duration": 33,
    "start_time": "2021-11-02T20:58:08.088Z"
   },
   {
    "duration": 927,
    "start_time": "2021-11-02T20:58:08.124Z"
   },
   {
    "duration": 805,
    "start_time": "2021-11-02T21:05:43.662Z"
   },
   {
    "duration": 812,
    "start_time": "2021-11-02T21:05:52.146Z"
   },
   {
    "duration": 868,
    "start_time": "2021-11-02T21:05:57.211Z"
   },
   {
    "duration": 848,
    "start_time": "2021-11-02T21:06:02.507Z"
   },
   {
    "duration": 6,
    "start_time": "2021-11-02T21:07:55.016Z"
   },
   {
    "duration": 22,
    "start_time": "2021-11-02T21:07:58.155Z"
   },
   {
    "duration": 105,
    "start_time": "2021-11-02T21:08:02.080Z"
   },
   {
    "duration": 5,
    "start_time": "2021-11-02T21:08:04.004Z"
   },
   {
    "duration": 149,
    "start_time": "2021-11-02T21:08:06.689Z"
   },
   {
    "duration": 6,
    "start_time": "2021-11-02T21:13:27.061Z"
   },
   {
    "duration": 7,
    "start_time": "2021-11-02T21:13:27.071Z"
   },
   {
    "duration": 1190,
    "start_time": "2021-11-02T21:13:27.082Z"
   },
   {
    "duration": 32,
    "start_time": "2021-11-02T21:13:28.276Z"
   },
   {
    "duration": 291,
    "start_time": "2021-11-02T21:13:28.312Z"
   },
   {
    "duration": 133,
    "start_time": "2021-11-02T21:13:28.606Z"
   },
   {
    "duration": 647,
    "start_time": "2021-11-02T21:13:28.742Z"
   },
   {
    "duration": 9,
    "start_time": "2021-11-02T21:13:29.392Z"
   },
   {
    "duration": 747,
    "start_time": "2021-11-02T21:13:29.403Z"
   },
   {
    "duration": 5,
    "start_time": "2021-11-02T21:13:30.153Z"
   },
   {
    "duration": 131,
    "start_time": "2021-11-02T21:13:30.160Z"
   },
   {
    "duration": 45,
    "start_time": "2021-11-02T21:13:30.294Z"
   },
   {
    "duration": 25,
    "start_time": "2021-11-02T21:13:30.341Z"
   },
   {
    "duration": 151,
    "start_time": "2021-11-02T21:13:30.370Z"
   },
   {
    "duration": 193,
    "start_time": "2021-11-02T21:13:30.524Z"
   },
   {
    "duration": 646,
    "start_time": "2021-11-02T21:13:30.719Z"
   },
   {
    "duration": 35,
    "start_time": "2021-11-02T21:13:31.367Z"
   },
   {
    "duration": 6,
    "start_time": "2021-11-02T21:13:31.404Z"
   },
   {
    "duration": 149,
    "start_time": "2021-11-02T21:13:31.412Z"
   },
   {
    "duration": 6,
    "start_time": "2021-11-02T21:13:31.564Z"
   },
   {
    "duration": 676,
    "start_time": "2021-11-02T21:13:31.572Z"
   },
   {
    "duration": 149,
    "start_time": "2021-11-02T21:13:32.251Z"
   },
   {
    "duration": 652,
    "start_time": "2021-11-02T21:13:32.403Z"
   },
   {
    "duration": 642,
    "start_time": "2021-11-02T21:13:33.058Z"
   },
   {
    "duration": 104,
    "start_time": "2021-11-02T21:13:33.702Z"
   },
   {
    "duration": 613,
    "start_time": "2021-11-02T21:13:33.808Z"
   },
   {
    "duration": 709,
    "start_time": "2021-11-02T21:13:34.424Z"
   },
   {
    "duration": 671,
    "start_time": "2021-11-02T21:13:35.136Z"
   },
   {
    "duration": 127,
    "start_time": "2021-11-02T21:13:35.809Z"
   },
   {
    "duration": 653,
    "start_time": "2021-11-02T21:13:35.938Z"
   },
   {
    "duration": 164,
    "start_time": "2021-11-02T21:13:36.600Z"
   },
   {
    "duration": 39,
    "start_time": "2021-11-02T21:13:36.767Z"
   },
   {
    "duration": 42,
    "start_time": "2021-11-02T21:13:36.808Z"
   },
   {
    "duration": 353,
    "start_time": "2021-11-02T21:13:36.853Z"
   },
   {
    "duration": 377,
    "start_time": "2021-11-02T21:13:37.208Z"
   },
   {
    "duration": 47,
    "start_time": "2021-11-02T21:13:37.587Z"
   },
   {
    "duration": 358,
    "start_time": "2021-11-02T21:13:37.637Z"
   },
   {
    "duration": 23,
    "start_time": "2021-11-02T21:13:38.004Z"
   },
   {
    "duration": 200,
    "start_time": "2021-11-02T21:13:38.031Z"
   },
   {
    "duration": 916,
    "start_time": "2021-11-02T21:13:38.234Z"
   },
   {
    "duration": 22,
    "start_time": "2021-11-02T21:13:39.152Z"
   },
   {
    "duration": 36062,
    "start_time": "2021-11-02T21:13:39.177Z"
   },
   {
    "duration": 22,
    "start_time": "2021-11-02T21:14:15.242Z"
   },
   {
    "duration": 44,
    "start_time": "2021-11-02T21:14:15.268Z"
   },
   {
    "duration": 1110,
    "start_time": "2021-11-02T21:14:15.314Z"
   },
   {
    "duration": 6,
    "start_time": "2021-11-02T21:14:16.427Z"
   },
   {
    "duration": 32,
    "start_time": "2021-11-02T21:14:16.436Z"
   },
   {
    "duration": 140,
    "start_time": "2021-11-02T21:14:16.470Z"
   },
   {
    "duration": 6,
    "start_time": "2021-11-02T21:14:16.613Z"
   },
   {
    "duration": 179,
    "start_time": "2021-11-02T21:14:16.621Z"
   },
   {
    "duration": 638,
    "start_time": "2021-11-02T21:14:16.803Z"
   },
   {
    "duration": 925,
    "start_time": "2021-11-02T21:14:17.443Z"
   },
   {
    "duration": 31,
    "start_time": "2021-11-02T21:14:18.371Z"
   },
   {
    "duration": 35729,
    "start_time": "2021-11-02T21:14:18.404Z"
   },
   {
    "duration": 22,
    "start_time": "2021-11-02T21:14:54.136Z"
   },
   {
    "duration": 43,
    "start_time": "2021-11-02T21:14:54.161Z"
   },
   {
    "duration": 818,
    "start_time": "2021-11-02T21:14:54.207Z"
   },
   {
    "duration": 5,
    "start_time": "2021-11-02T21:14:55.028Z"
   },
   {
    "duration": 37,
    "start_time": "2021-11-02T21:14:55.035Z"
   },
   {
    "duration": 125,
    "start_time": "2021-11-02T21:14:55.075Z"
   },
   {
    "duration": 6,
    "start_time": "2021-11-02T21:14:55.203Z"
   },
   {
    "duration": 164,
    "start_time": "2021-11-02T21:14:55.211Z"
   },
   {
    "duration": 1598,
    "start_time": "2021-11-03T08:21:32.621Z"
   },
   {
    "duration": 9,
    "start_time": "2021-11-03T08:21:34.221Z"
   },
   {
    "duration": 1106,
    "start_time": "2021-11-03T08:21:34.233Z"
   },
   {
    "duration": 21,
    "start_time": "2021-11-03T08:21:35.342Z"
   },
   {
    "duration": 171,
    "start_time": "2021-11-03T08:21:35.366Z"
   },
   {
    "duration": 128,
    "start_time": "2021-11-03T08:21:35.539Z"
   },
   {
    "duration": 609,
    "start_time": "2021-11-03T08:21:35.669Z"
   },
   {
    "duration": 5,
    "start_time": "2021-11-03T08:21:36.280Z"
   },
   {
    "duration": 692,
    "start_time": "2021-11-03T08:21:36.289Z"
   },
   {
    "duration": 5,
    "start_time": "2021-11-03T08:21:36.984Z"
   },
   {
    "duration": 24,
    "start_time": "2021-11-03T08:21:36.991Z"
   },
   {
    "duration": 28,
    "start_time": "2021-11-03T08:21:37.017Z"
   },
   {
    "duration": 21,
    "start_time": "2021-11-03T08:21:37.047Z"
   },
   {
    "duration": 123,
    "start_time": "2021-11-03T08:21:37.070Z"
   },
   {
    "duration": 178,
    "start_time": "2021-11-03T08:21:37.196Z"
   },
   {
    "duration": 721,
    "start_time": "2021-11-03T08:21:37.376Z"
   },
   {
    "duration": 40,
    "start_time": "2021-11-03T08:21:38.100Z"
   },
   {
    "duration": 6,
    "start_time": "2021-11-03T08:21:38.143Z"
   },
   {
    "duration": 136,
    "start_time": "2021-11-03T08:21:38.152Z"
   },
   {
    "duration": 6,
    "start_time": "2021-11-03T08:21:38.291Z"
   },
   {
    "duration": 732,
    "start_time": "2021-11-03T08:21:38.300Z"
   },
   {
    "duration": 141,
    "start_time": "2021-11-03T08:21:39.035Z"
   },
   {
    "duration": 701,
    "start_time": "2021-11-03T08:21:39.178Z"
   },
   {
    "duration": 678,
    "start_time": "2021-11-03T08:21:39.882Z"
   },
   {
    "duration": 97,
    "start_time": "2021-11-03T08:21:40.562Z"
   },
   {
    "duration": 604,
    "start_time": "2021-11-03T08:21:40.662Z"
   },
   {
    "duration": 606,
    "start_time": "2021-11-03T08:21:41.272Z"
   },
   {
    "duration": 650,
    "start_time": "2021-11-03T08:21:41.881Z"
   },
   {
    "duration": 123,
    "start_time": "2021-11-03T08:21:42.534Z"
   },
   {
    "duration": 641,
    "start_time": "2021-11-03T08:21:42.659Z"
   },
   {
    "duration": 167,
    "start_time": "2021-11-03T08:21:43.302Z"
   },
   {
    "duration": 23,
    "start_time": "2021-11-03T08:21:43.471Z"
   },
   {
    "duration": 58,
    "start_time": "2021-11-03T08:21:43.496Z"
   },
   {
    "duration": 342,
    "start_time": "2021-11-03T08:21:43.556Z"
   },
   {
    "duration": 365,
    "start_time": "2021-11-03T08:21:43.901Z"
   },
   {
    "duration": 42,
    "start_time": "2021-11-03T08:21:44.268Z"
   },
   {
    "duration": 342,
    "start_time": "2021-11-03T08:21:44.313Z"
   },
   {
    "duration": 21,
    "start_time": "2021-11-03T08:21:44.657Z"
   },
   {
    "duration": 169,
    "start_time": "2021-11-03T08:21:44.680Z"
   },
   {
    "duration": 870,
    "start_time": "2021-11-03T08:21:44.851Z"
   },
   {
    "duration": 20,
    "start_time": "2021-11-03T08:21:45.724Z"
   },
   {
    "duration": 33359,
    "start_time": "2021-11-03T08:21:45.746Z"
   },
   {
    "duration": 25,
    "start_time": "2021-11-03T08:22:19.107Z"
   },
   {
    "duration": 22,
    "start_time": "2021-11-03T08:22:19.135Z"
   },
   {
    "duration": 859,
    "start_time": "2021-11-03T08:22:19.160Z"
   },
   {
    "duration": 5,
    "start_time": "2021-11-03T08:22:20.029Z"
   },
   {
    "duration": 27,
    "start_time": "2021-11-03T08:22:20.036Z"
   },
   {
    "duration": 135,
    "start_time": "2021-11-03T08:22:20.065Z"
   },
   {
    "duration": 4,
    "start_time": "2021-11-03T08:22:20.203Z"
   },
   {
    "duration": 157,
    "start_time": "2021-11-03T08:22:20.210Z"
   },
   {
    "duration": 614,
    "start_time": "2021-11-03T08:22:20.369Z"
   },
   {
    "duration": 752,
    "start_time": "2021-11-03T08:22:20.986Z"
   },
   {
    "duration": 19,
    "start_time": "2021-11-03T08:22:21.740Z"
   },
   {
    "duration": 33597,
    "start_time": "2021-11-03T08:22:21.761Z"
   },
   {
    "duration": 19,
    "start_time": "2021-11-03T08:22:55.360Z"
   },
   {
    "duration": 28,
    "start_time": "2021-11-03T08:22:55.381Z"
   },
   {
    "duration": 786,
    "start_time": "2021-11-03T08:22:55.411Z"
   },
   {
    "duration": 5,
    "start_time": "2021-11-03T08:22:56.200Z"
   },
   {
    "duration": 34,
    "start_time": "2021-11-03T08:22:56.207Z"
   },
   {
    "duration": 118,
    "start_time": "2021-11-03T08:22:56.243Z"
   },
   {
    "duration": 6,
    "start_time": "2021-11-03T08:22:56.363Z"
   },
   {
    "duration": 164,
    "start_time": "2021-11-03T08:22:56.371Z"
   },
   {
    "duration": 1623,
    "start_time": "2021-11-03T08:24:08.389Z"
   },
   {
    "duration": 4,
    "start_time": "2021-11-03T08:24:10.015Z"
   },
   {
    "duration": 1074,
    "start_time": "2021-11-03T08:24:10.021Z"
   },
   {
    "duration": 32,
    "start_time": "2021-11-03T08:24:11.098Z"
   },
   {
    "duration": 163,
    "start_time": "2021-11-03T08:24:11.133Z"
   },
   {
    "duration": 120,
    "start_time": "2021-11-03T08:24:11.299Z"
   },
   {
    "duration": 584,
    "start_time": "2021-11-03T08:24:11.428Z"
   },
   {
    "duration": 15,
    "start_time": "2021-11-03T08:24:12.016Z"
   },
   {
    "duration": 665,
    "start_time": "2021-11-03T08:24:12.034Z"
   },
   {
    "duration": 5,
    "start_time": "2021-11-03T08:24:12.702Z"
   },
   {
    "duration": 21,
    "start_time": "2021-11-03T08:24:12.710Z"
   },
   {
    "duration": 10,
    "start_time": "2021-11-03T08:24:12.734Z"
   },
   {
    "duration": 8,
    "start_time": "2021-11-03T08:24:12.747Z"
   },
   {
    "duration": 182,
    "start_time": "2021-11-03T08:24:12.758Z"
   },
   {
    "duration": 134,
    "start_time": "2021-11-03T08:24:12.943Z"
   },
   {
    "duration": 193,
    "start_time": "2021-11-03T08:24:13.080Z"
   },
   {
    "duration": 618,
    "start_time": "2021-11-03T08:24:13.276Z"
   },
   {
    "duration": 33,
    "start_time": "2021-11-03T08:24:13.897Z"
   },
   {
    "duration": 5,
    "start_time": "2021-11-03T08:24:13.933Z"
   },
   {
    "duration": 133,
    "start_time": "2021-11-03T08:24:13.941Z"
   },
   {
    "duration": 5,
    "start_time": "2021-11-03T08:24:14.076Z"
   },
   {
    "duration": 591,
    "start_time": "2021-11-03T08:24:14.084Z"
   },
   {
    "duration": 153,
    "start_time": "2021-11-03T08:24:14.681Z"
   },
   {
    "duration": 619,
    "start_time": "2021-11-03T08:24:14.838Z"
   },
   {
    "duration": 665,
    "start_time": "2021-11-03T08:24:15.459Z"
   },
   {
    "duration": 85,
    "start_time": "2021-11-03T08:24:16.129Z"
   },
   {
    "duration": 595,
    "start_time": "2021-11-03T08:24:16.217Z"
   },
   {
    "duration": 586,
    "start_time": "2021-11-03T08:24:16.814Z"
   },
   {
    "duration": 627,
    "start_time": "2021-11-03T08:24:17.402Z"
   },
   {
    "duration": 122,
    "start_time": "2021-11-03T08:24:18.031Z"
   },
   {
    "duration": 623,
    "start_time": "2021-11-03T08:24:18.155Z"
   },
   {
    "duration": 161,
    "start_time": "2021-11-03T08:24:18.781Z"
   },
   {
    "duration": 22,
    "start_time": "2021-11-03T08:24:18.945Z"
   },
   {
    "duration": 61,
    "start_time": "2021-11-03T08:24:18.970Z"
   },
   {
    "duration": 324,
    "start_time": "2021-11-03T08:24:19.033Z"
   },
   {
    "duration": 358,
    "start_time": "2021-11-03T08:24:19.360Z"
   },
   {
    "duration": 43,
    "start_time": "2021-11-03T08:24:19.720Z"
   },
   {
    "duration": 329,
    "start_time": "2021-11-03T08:24:19.766Z"
   },
   {
    "duration": 32,
    "start_time": "2021-11-03T08:24:20.098Z"
   },
   {
    "duration": 160,
    "start_time": "2021-11-03T08:24:20.133Z"
   },
   {
    "duration": 860,
    "start_time": "2021-11-03T08:24:20.295Z"
   },
   {
    "duration": 21,
    "start_time": "2021-11-03T08:24:21.158Z"
   },
   {
    "duration": 34048,
    "start_time": "2021-11-03T08:24:21.181Z"
   },
   {
    "duration": 20,
    "start_time": "2021-11-03T08:24:55.231Z"
   },
   {
    "duration": 33,
    "start_time": "2021-11-03T08:24:55.253Z"
   },
   {
    "duration": 845,
    "start_time": "2021-11-03T08:24:55.289Z"
   },
   {
    "duration": 5,
    "start_time": "2021-11-03T08:24:56.136Z"
   },
   {
    "duration": 36,
    "start_time": "2021-11-03T08:24:56.143Z"
   },
   {
    "duration": 133,
    "start_time": "2021-11-03T08:24:56.182Z"
   },
   {
    "duration": 11,
    "start_time": "2021-11-03T08:24:56.317Z"
   },
   {
    "duration": 160,
    "start_time": "2021-11-03T08:24:56.331Z"
   },
   {
    "duration": 595,
    "start_time": "2021-11-03T08:24:56.494Z"
   },
   {
    "duration": 744,
    "start_time": "2021-11-03T08:24:57.091Z"
   },
   {
    "duration": 20,
    "start_time": "2021-11-03T08:24:57.837Z"
   },
   {
    "duration": 33830,
    "start_time": "2021-11-03T08:24:57.859Z"
   },
   {
    "duration": 21,
    "start_time": "2021-11-03T08:25:31.692Z"
   },
   {
    "duration": 33,
    "start_time": "2021-11-03T08:25:31.715Z"
   },
   {
    "duration": 902,
    "start_time": "2021-11-03T08:25:31.750Z"
   },
   {
    "duration": 5,
    "start_time": "2021-11-03T08:25:32.655Z"
   },
   {
    "duration": 33,
    "start_time": "2021-11-03T08:25:32.662Z"
   },
   {
    "duration": 117,
    "start_time": "2021-11-03T08:25:32.697Z"
   },
   {
    "duration": 5,
    "start_time": "2021-11-03T08:25:32.817Z"
   },
   {
    "duration": 161,
    "start_time": "2021-11-03T08:25:32.830Z"
   },
   {
    "duration": 767,
    "start_time": "2021-11-03T08:25:32.993Z"
   },
   {
    "duration": 1588,
    "start_time": "2021-11-03T10:55:05.710Z"
   },
   {
    "duration": 4,
    "start_time": "2021-11-03T10:55:07.301Z"
   },
   {
    "duration": 1302,
    "start_time": "2021-11-03T10:55:07.308Z"
   },
   {
    "duration": 28,
    "start_time": "2021-11-03T10:55:08.613Z"
   },
   {
    "duration": 171,
    "start_time": "2021-11-03T10:55:08.644Z"
   },
   {
    "duration": 147,
    "start_time": "2021-11-03T10:55:08.818Z"
   },
   {
    "duration": 624,
    "start_time": "2021-11-03T10:55:08.968Z"
   },
   {
    "duration": 5,
    "start_time": "2021-11-03T10:55:09.595Z"
   },
   {
    "duration": 687,
    "start_time": "2021-11-03T10:55:09.603Z"
   },
   {
    "duration": 5,
    "start_time": "2021-11-03T10:55:10.292Z"
   },
   {
    "duration": 8,
    "start_time": "2021-11-03T10:55:10.299Z"
   },
   {
    "duration": 22,
    "start_time": "2021-11-03T10:55:10.310Z"
   },
   {
    "duration": 9,
    "start_time": "2021-11-03T10:55:10.334Z"
   },
   {
    "duration": 178,
    "start_time": "2021-11-03T10:55:10.346Z"
   },
   {
    "duration": 129,
    "start_time": "2021-11-03T10:55:10.528Z"
   },
   {
    "duration": 198,
    "start_time": "2021-11-03T10:55:10.660Z"
   },
   {
    "duration": 612,
    "start_time": "2021-11-03T10:55:10.860Z"
   },
   {
    "duration": 18,
    "start_time": "2021-11-03T10:55:11.474Z"
   },
   {
    "duration": 5,
    "start_time": "2021-11-03T10:55:11.494Z"
   },
   {
    "duration": 149,
    "start_time": "2021-11-03T10:55:11.502Z"
   },
   {
    "duration": 5,
    "start_time": "2021-11-03T10:55:11.654Z"
   },
   {
    "duration": 594,
    "start_time": "2021-11-03T10:55:11.662Z"
   },
   {
    "duration": 144,
    "start_time": "2021-11-03T10:55:12.262Z"
   },
   {
    "duration": 586,
    "start_time": "2021-11-03T10:55:12.409Z"
   },
   {
    "duration": 709,
    "start_time": "2021-11-03T10:55:12.998Z"
   },
   {
    "duration": 94,
    "start_time": "2021-11-03T10:55:13.710Z"
   },
   {
    "duration": 585,
    "start_time": "2021-11-03T10:55:13.806Z"
   },
   {
    "duration": 650,
    "start_time": "2021-11-03T10:55:14.393Z"
   },
   {
    "duration": 635,
    "start_time": "2021-11-03T10:55:15.046Z"
   },
   {
    "duration": 121,
    "start_time": "2021-11-03T10:55:15.683Z"
   },
   {
    "duration": 662,
    "start_time": "2021-11-03T10:55:15.806Z"
   },
   {
    "duration": 161,
    "start_time": "2021-11-03T10:55:16.470Z"
   },
   {
    "duration": 23,
    "start_time": "2021-11-03T10:55:16.633Z"
   },
   {
    "duration": 62,
    "start_time": "2021-11-03T10:55:16.658Z"
   },
   {
    "duration": 359,
    "start_time": "2021-11-03T10:55:16.722Z"
   },
   {
    "duration": 365,
    "start_time": "2021-11-03T10:55:17.083Z"
   },
   {
    "duration": 41,
    "start_time": "2021-11-03T10:55:17.451Z"
   },
   {
    "duration": 349,
    "start_time": "2021-11-03T10:55:17.494Z"
   },
   {
    "duration": 36,
    "start_time": "2021-11-03T10:55:17.846Z"
   },
   {
    "duration": 170,
    "start_time": "2021-11-03T10:55:17.885Z"
   },
   {
    "duration": 916,
    "start_time": "2021-11-03T10:55:18.057Z"
   },
   {
    "duration": 83,
    "start_time": "2021-11-03T10:55:18.976Z"
   },
   {
    "duration": 36151,
    "start_time": "2021-11-03T10:55:19.061Z"
   },
   {
    "duration": 38,
    "start_time": "2021-11-03T10:55:55.215Z"
   },
   {
    "duration": 37,
    "start_time": "2021-11-03T10:55:55.256Z"
   },
   {
    "duration": 1137,
    "start_time": "2021-11-03T10:55:55.296Z"
   },
   {
    "duration": 5,
    "start_time": "2021-11-03T10:55:56.436Z"
   },
   {
    "duration": 21,
    "start_time": "2021-11-03T10:55:56.443Z"
   },
   {
    "duration": 149,
    "start_time": "2021-11-03T10:55:56.466Z"
   },
   {
    "duration": 13,
    "start_time": "2021-11-03T10:55:56.618Z"
   },
   {
    "duration": 167,
    "start_time": "2021-11-03T10:55:56.633Z"
   },
   {
    "duration": 671,
    "start_time": "2021-11-03T10:55:56.802Z"
   },
   {
    "duration": 1191,
    "start_time": "2021-11-03T10:55:57.476Z"
   },
   {
    "duration": 34,
    "start_time": "2021-11-03T10:55:58.670Z"
   },
   {
    "duration": 36838,
    "start_time": "2021-11-03T10:55:58.707Z"
   },
   {
    "duration": 19,
    "start_time": "2021-11-03T10:56:35.548Z"
   },
   {
    "duration": 29,
    "start_time": "2021-11-03T10:56:35.570Z"
   },
   {
    "duration": 784,
    "start_time": "2021-11-03T10:56:35.602Z"
   },
   {
    "duration": 5,
    "start_time": "2021-11-03T10:56:36.388Z"
   },
   {
    "duration": 40,
    "start_time": "2021-11-03T10:56:36.395Z"
   },
   {
    "duration": 115,
    "start_time": "2021-11-03T10:56:36.437Z"
   },
   {
    "duration": 5,
    "start_time": "2021-11-03T10:56:36.554Z"
   },
   {
    "duration": 168,
    "start_time": "2021-11-03T10:56:36.562Z"
   },
   {
    "duration": 701,
    "start_time": "2021-11-03T10:56:36.733Z"
   },
   {
    "duration": 43,
    "start_time": "2021-11-03T11:05:49.802Z"
   },
   {
    "duration": 684,
    "start_time": "2021-11-03T11:13:18.453Z"
   },
   {
    "duration": 685,
    "start_time": "2021-11-03T11:13:30.734Z"
   },
   {
    "duration": 678,
    "start_time": "2021-11-03T11:13:38.779Z"
   },
   {
    "duration": 683,
    "start_time": "2021-11-03T11:13:41.467Z"
   },
   {
    "duration": 20,
    "start_time": "2021-11-03T11:13:55.518Z"
   },
   {
    "duration": 34019,
    "start_time": "2021-11-03T11:13:59.810Z"
   },
   {
    "duration": 24,
    "start_time": "2021-11-03T11:14:33.831Z"
   },
   {
    "duration": 6237,
    "start_time": "2021-11-03T11:14:33.858Z"
   },
   {
    "duration": -453,
    "start_time": "2021-11-03T11:14:40.551Z"
   },
   {
    "duration": 20,
    "start_time": "2021-11-03T11:39:14.466Z"
   },
   {
    "duration": 696,
    "start_time": "2021-11-03T11:39:20.362Z"
   },
   {
    "duration": 6,
    "start_time": "2021-11-03T11:40:44.933Z"
   },
   {
    "duration": 24,
    "start_time": "2021-11-03T11:40:46.037Z"
   },
   {
    "duration": 124,
    "start_time": "2021-11-03T11:40:48.771Z"
   },
   {
    "duration": 6,
    "start_time": "2021-11-03T11:40:51.735Z"
   },
   {
    "duration": 144,
    "start_time": "2021-11-03T11:40:59.656Z"
   },
   {
    "duration": 5,
    "start_time": "2021-11-03T11:46:36.859Z"
   },
   {
    "duration": 20,
    "start_time": "2021-11-03T11:46:38.175Z"
   },
   {
    "duration": 127,
    "start_time": "2021-11-03T11:46:42.755Z"
   },
   {
    "duration": 5,
    "start_time": "2021-11-03T11:46:43.667Z"
   },
   {
    "duration": 137,
    "start_time": "2021-11-03T11:46:46.256Z"
   },
   {
    "duration": 6,
    "start_time": "2021-11-03T11:47:48.468Z"
   },
   {
    "duration": 235,
    "start_time": "2021-11-03T11:49:46.144Z"
   },
   {
    "duration": 239,
    "start_time": "2021-11-03T11:49:55.566Z"
   },
   {
    "duration": 4,
    "start_time": "2021-11-03T11:50:37.123Z"
   },
   {
    "duration": 796,
    "start_time": "2021-11-03T11:53:08.199Z"
   },
   {
    "duration": 704,
    "start_time": "2021-11-03T11:54:24.983Z"
   },
   {
    "duration": 682,
    "start_time": "2021-11-03T11:54:34.047Z"
   },
   {
    "duration": 145,
    "start_time": "2021-11-03T11:55:49.511Z"
   },
   {
    "duration": 6,
    "start_time": "2021-11-03T12:36:15.406Z"
   },
   {
    "duration": 36,
    "start_time": "2021-11-03T12:36:56.863Z"
   },
   {
    "duration": 311,
    "start_time": "2021-11-03T12:37:51.680Z"
   },
   {
    "duration": 20,
    "start_time": "2021-11-03T12:37:52.570Z"
   },
   {
    "duration": 284,
    "start_time": "2021-11-03T12:40:21.248Z"
   },
   {
    "duration": 4,
    "start_time": "2021-11-03T12:40:59.301Z"
   },
   {
    "duration": 6,
    "start_time": "2021-11-03T12:41:00.603Z"
   },
   {
    "duration": 7,
    "start_time": "2021-11-03T12:41:01.308Z"
   },
   {
    "duration": 3,
    "start_time": "2021-11-03T12:42:18.674Z"
   },
   {
    "duration": 247,
    "start_time": "2021-11-03T12:42:19.365Z"
   },
   {
    "duration": 106,
    "start_time": "2021-11-03T12:42:49.440Z"
   },
   {
    "duration": 5,
    "start_time": "2021-11-03T12:43:18.169Z"
   },
   {
    "duration": 5,
    "start_time": "2021-11-03T12:43:34.103Z"
   },
   {
    "duration": 252,
    "start_time": "2021-11-03T12:43:41.858Z"
   },
   {
    "duration": 249,
    "start_time": "2021-11-03T12:43:56.033Z"
   },
   {
    "duration": 248,
    "start_time": "2021-11-03T12:44:01.127Z"
   },
   {
    "duration": 5,
    "start_time": "2021-11-03T12:44:08.361Z"
   },
   {
    "duration": 5,
    "start_time": "2021-11-03T12:44:13.660Z"
   },
   {
    "duration": 259,
    "start_time": "2021-11-03T12:44:36.711Z"
   },
   {
    "duration": 255,
    "start_time": "2021-11-03T12:45:00.788Z"
   },
   {
    "duration": 7,
    "start_time": "2021-11-03T12:45:06.059Z"
   },
   {
    "duration": 7,
    "start_time": "2021-11-03T12:45:06.920Z"
   },
   {
    "duration": 7,
    "start_time": "2021-11-03T12:45:15.576Z"
   },
   {
    "duration": 5,
    "start_time": "2021-11-03T12:45:28.273Z"
   },
   {
    "duration": 5,
    "start_time": "2021-11-03T12:45:29.433Z"
   },
   {
    "duration": 6,
    "start_time": "2021-11-03T12:45:30.378Z"
   },
   {
    "duration": 5,
    "start_time": "2021-11-03T12:45:47.037Z"
   },
   {
    "duration": 28,
    "start_time": "2021-11-03T12:45:47.045Z"
   },
   {
    "duration": 1190,
    "start_time": "2021-11-03T12:45:47.076Z"
   },
   {
    "duration": 18,
    "start_time": "2021-11-03T12:45:48.269Z"
   },
   {
    "duration": 175,
    "start_time": "2021-11-03T12:45:48.290Z"
   },
   {
    "duration": 130,
    "start_time": "2021-11-03T12:45:48.467Z"
   },
   {
    "duration": 658,
    "start_time": "2021-11-03T12:45:48.601Z"
   },
   {
    "duration": 7,
    "start_time": "2021-11-03T12:45:49.263Z"
   },
   {
    "duration": 727,
    "start_time": "2021-11-03T12:45:49.273Z"
   },
   {
    "duration": 7,
    "start_time": "2021-11-03T12:45:50.002Z"
   },
   {
    "duration": 178,
    "start_time": "2021-11-03T12:45:50.012Z"
   },
   {
    "duration": 137,
    "start_time": "2021-11-03T12:45:50.193Z"
   },
   {
    "duration": 179,
    "start_time": "2021-11-03T12:45:50.332Z"
   },
   {
    "duration": 650,
    "start_time": "2021-11-03T12:45:50.513Z"
   },
   {
    "duration": 17,
    "start_time": "2021-11-03T12:45:51.166Z"
   },
   {
    "duration": 5,
    "start_time": "2021-11-03T12:45:51.186Z"
   },
   {
    "duration": 156,
    "start_time": "2021-11-03T12:45:51.193Z"
   },
   {
    "duration": 5,
    "start_time": "2021-11-03T12:45:51.352Z"
   },
   {
    "duration": 609,
    "start_time": "2021-11-03T12:45:51.362Z"
   },
   {
    "duration": 147,
    "start_time": "2021-11-03T12:45:51.975Z"
   },
   {
    "duration": 608,
    "start_time": "2021-11-03T12:45:52.125Z"
   },
   {
    "duration": 619,
    "start_time": "2021-11-03T12:45:52.736Z"
   },
   {
    "duration": 119,
    "start_time": "2021-11-03T12:45:53.357Z"
   },
   {
    "duration": 609,
    "start_time": "2021-11-03T12:45:53.479Z"
   },
   {
    "duration": 696,
    "start_time": "2021-11-03T12:45:54.090Z"
   },
   {
    "duration": 643,
    "start_time": "2021-11-03T12:45:54.788Z"
   },
   {
    "duration": 125,
    "start_time": "2021-11-03T12:45:55.434Z"
   },
   {
    "duration": 643,
    "start_time": "2021-11-03T12:45:55.561Z"
   },
   {
    "duration": 171,
    "start_time": "2021-11-03T12:45:56.207Z"
   },
   {
    "duration": 23,
    "start_time": "2021-11-03T12:45:56.381Z"
   },
   {
    "duration": 55,
    "start_time": "2021-11-03T12:45:56.406Z"
   },
   {
    "duration": 534,
    "start_time": "2021-11-03T12:45:56.464Z"
   },
   {
    "duration": 390,
    "start_time": "2021-11-03T12:45:57.001Z"
   },
   {
    "duration": 50,
    "start_time": "2021-11-03T12:45:57.393Z"
   },
   {
    "duration": 348,
    "start_time": "2021-11-03T12:45:57.446Z"
   },
   {
    "duration": 32,
    "start_time": "2021-11-03T12:45:57.796Z"
   },
   {
    "duration": 166,
    "start_time": "2021-11-03T12:45:57.831Z"
   },
   {
    "duration": 928,
    "start_time": "2021-11-03T12:45:58.000Z"
   },
   {
    "duration": 22,
    "start_time": "2021-11-03T12:45:58.930Z"
   },
   {
    "duration": 35234,
    "start_time": "2021-11-03T12:45:58.955Z"
   },
   {
    "duration": 22,
    "start_time": "2021-11-03T12:46:34.192Z"
   },
   {
    "duration": 21,
    "start_time": "2021-11-03T12:46:34.229Z"
   },
   {
    "duration": 873,
    "start_time": "2021-11-03T12:46:34.252Z"
   },
   {
    "duration": 6,
    "start_time": "2021-11-03T12:46:35.128Z"
   },
   {
    "duration": 31,
    "start_time": "2021-11-03T12:46:35.136Z"
   },
   {
    "duration": 143,
    "start_time": "2021-11-03T12:46:35.170Z"
   },
   {
    "duration": 5,
    "start_time": "2021-11-03T12:46:35.315Z"
   },
   {
    "duration": 167,
    "start_time": "2021-11-03T12:46:35.329Z"
   },
   {
    "duration": 618,
    "start_time": "2021-11-03T12:46:35.498Z"
   },
   {
    "duration": 761,
    "start_time": "2021-11-03T12:46:36.119Z"
   },
   {
    "duration": 21,
    "start_time": "2021-11-03T12:46:36.882Z"
   },
   {
    "duration": 35478,
    "start_time": "2021-11-03T12:46:36.906Z"
   },
   {
    "duration": 21,
    "start_time": "2021-11-03T12:47:12.386Z"
   },
   {
    "duration": 37,
    "start_time": "2021-11-03T12:47:12.409Z"
   },
   {
    "duration": 809,
    "start_time": "2021-11-03T12:47:12.454Z"
   },
   {
    "duration": 5,
    "start_time": "2021-11-03T12:47:13.266Z"
   },
   {
    "duration": 27,
    "start_time": "2021-11-03T12:47:13.274Z"
   },
   {
    "duration": 129,
    "start_time": "2021-11-03T12:47:13.304Z"
   },
   {
    "duration": 5,
    "start_time": "2021-11-03T12:47:13.435Z"
   },
   {
    "duration": 167,
    "start_time": "2021-11-03T12:47:13.442Z"
   },
   {
    "duration": 49,
    "start_time": "2021-11-03T12:47:13.612Z"
   },
   {
    "duration": 704,
    "start_time": "2021-11-03T12:47:13.664Z"
   },
   {
    "duration": 21,
    "start_time": "2021-11-03T12:47:14.371Z"
   },
   {
    "duration": 34371,
    "start_time": "2021-11-03T12:47:14.394Z"
   },
   {
    "duration": 35,
    "start_time": "2021-11-03T12:47:48.768Z"
   },
   {
    "duration": 36,
    "start_time": "2021-11-03T12:47:48.806Z"
   },
   {
    "duration": 734,
    "start_time": "2021-11-03T12:47:48.846Z"
   },
   {
    "duration": 5,
    "start_time": "2021-11-03T12:47:49.583Z"
   },
   {
    "duration": 44,
    "start_time": "2021-11-03T12:47:49.590Z"
   },
   {
    "duration": 130,
    "start_time": "2021-11-03T12:47:49.636Z"
   },
   {
    "duration": 5,
    "start_time": "2021-11-03T12:47:49.770Z"
   },
   {
    "duration": 166,
    "start_time": "2021-11-03T12:47:49.778Z"
   },
   {
    "duration": 5,
    "start_time": "2021-11-03T12:47:49.947Z"
   },
   {
    "duration": 34,
    "start_time": "2021-11-03T12:47:49.955Z"
   },
   {
    "duration": 148,
    "start_time": "2021-11-03T12:47:49.992Z"
   },
   {
    "duration": 5,
    "start_time": "2021-11-03T12:47:50.142Z"
   },
   {
    "duration": 168,
    "start_time": "2021-11-03T12:47:50.150Z"
   },
   {
    "duration": 12,
    "start_time": "2021-11-03T12:47:50.320Z"
   },
   {
    "duration": 19,
    "start_time": "2021-11-03T12:47:50.334Z"
   },
   {
    "duration": 46,
    "start_time": "2021-11-03T12:47:50.355Z"
   },
   {
    "duration": 322,
    "start_time": "2021-11-03T12:47:50.403Z"
   },
   {
    "duration": 19,
    "start_time": "2021-11-03T12:47:50.727Z"
   },
   {
    "duration": 3,
    "start_time": "2021-11-03T12:47:50.749Z"
   },
   {
    "duration": 17,
    "start_time": "2021-11-03T12:47:50.755Z"
   },
   {
    "duration": 10,
    "start_time": "2021-11-03T12:47:50.775Z"
   },
   {
    "duration": 44,
    "start_time": "2021-11-03T12:47:50.788Z"
   },
   {
    "duration": 1079,
    "start_time": "2021-11-03T12:47:50.835Z"
   },
   {
    "duration": 168301,
    "start_time": "2021-11-03T13:40:15.786Z"
   },
   {
    "duration": 38,
    "start_time": "2021-11-03T13:54:49.333Z"
   },
   {
    "duration": 254,
    "start_time": "2021-11-03T13:54:50.069Z"
   },
   {
    "duration": 6,
    "start_time": "2021-11-03T13:54:54.003Z"
   },
   {
    "duration": 5,
    "start_time": "2021-11-03T13:55:00.052Z"
   },
   {
    "duration": 4,
    "start_time": "2021-11-03T13:55:02.218Z"
   },
   {
    "duration": 5,
    "start_time": "2021-11-03T13:55:11.305Z"
   },
   {
    "duration": 17,
    "start_time": "2021-11-03T14:00:18.057Z"
   },
   {
    "duration": 1109,
    "start_time": "2021-11-03T14:01:00.266Z"
   },
   {
    "duration": 34,
    "start_time": "2021-11-03T14:01:13.574Z"
   },
   {
    "duration": 1620,
    "start_time": "2021-11-03T14:01:39.900Z"
   },
   {
    "duration": 6,
    "start_time": "2021-11-03T14:01:41.523Z"
   },
   {
    "duration": 1112,
    "start_time": "2021-11-03T14:01:41.533Z"
   },
   {
    "duration": 24,
    "start_time": "2021-11-03T14:01:42.648Z"
   },
   {
    "duration": 181,
    "start_time": "2021-11-03T14:01:42.675Z"
   },
   {
    "duration": 124,
    "start_time": "2021-11-03T14:01:42.859Z"
   },
   {
    "duration": 633,
    "start_time": "2021-11-03T14:01:42.986Z"
   },
   {
    "duration": 6,
    "start_time": "2021-11-03T14:01:43.630Z"
   },
   {
    "duration": 793,
    "start_time": "2021-11-03T14:01:43.639Z"
   },
   {
    "duration": 6,
    "start_time": "2021-11-03T14:01:44.435Z"
   },
   {
    "duration": 167,
    "start_time": "2021-11-03T14:01:44.444Z"
   },
   {
    "duration": 128,
    "start_time": "2021-11-03T14:01:44.614Z"
   },
   {
    "duration": 194,
    "start_time": "2021-11-03T14:01:44.745Z"
   },
   {
    "duration": 627,
    "start_time": "2021-11-03T14:01:44.942Z"
   },
   {
    "duration": 19,
    "start_time": "2021-11-03T14:01:45.571Z"
   },
   {
    "duration": 5,
    "start_time": "2021-11-03T14:01:45.592Z"
   },
   {
    "duration": 158,
    "start_time": "2021-11-03T14:01:45.599Z"
   },
   {
    "duration": 6,
    "start_time": "2021-11-03T14:01:45.759Z"
   },
   {
    "duration": 595,
    "start_time": "2021-11-03T14:01:45.767Z"
   },
   {
    "duration": 140,
    "start_time": "2021-11-03T14:01:46.364Z"
   },
   {
    "duration": 614,
    "start_time": "2021-11-03T14:01:46.507Z"
   },
   {
    "duration": 684,
    "start_time": "2021-11-03T14:01:47.123Z"
   },
   {
    "duration": 95,
    "start_time": "2021-11-03T14:01:47.813Z"
   },
   {
    "duration": 619,
    "start_time": "2021-11-03T14:01:47.912Z"
   },
   {
    "duration": 599,
    "start_time": "2021-11-03T14:01:48.533Z"
   },
   {
    "duration": 637,
    "start_time": "2021-11-03T14:01:49.135Z"
   },
   {
    "duration": 127,
    "start_time": "2021-11-03T14:01:49.775Z"
   },
   {
    "duration": 630,
    "start_time": "2021-11-03T14:01:49.904Z"
   },
   {
    "duration": 162,
    "start_time": "2021-11-03T14:01:50.537Z"
   },
   {
    "duration": 35,
    "start_time": "2021-11-03T14:01:50.701Z"
   },
   {
    "duration": 43,
    "start_time": "2021-11-03T14:01:50.738Z"
   },
   {
    "duration": 358,
    "start_time": "2021-11-03T14:01:50.783Z"
   },
   {
    "duration": 370,
    "start_time": "2021-11-03T14:01:51.144Z"
   },
   {
    "duration": 49,
    "start_time": "2021-11-03T14:01:51.516Z"
   },
   {
    "duration": 352,
    "start_time": "2021-11-03T14:01:51.568Z"
   },
   {
    "duration": 21,
    "start_time": "2021-11-03T14:01:51.930Z"
   },
   {
    "duration": 164,
    "start_time": "2021-11-03T14:01:51.954Z"
   },
   {
    "duration": 897,
    "start_time": "2021-11-03T14:01:52.121Z"
   },
   {
    "duration": 26,
    "start_time": "2021-11-03T14:01:53.021Z"
   },
   {
    "duration": 34271,
    "start_time": "2021-11-03T14:01:53.050Z"
   },
   {
    "duration": 31,
    "start_time": "2021-11-03T14:02:27.324Z"
   },
   {
    "duration": 53,
    "start_time": "2021-11-03T14:02:27.358Z"
   },
   {
    "duration": 1041,
    "start_time": "2021-11-03T14:02:27.414Z"
   },
   {
    "duration": 6,
    "start_time": "2021-11-03T14:02:28.458Z"
   },
   {
    "duration": 25,
    "start_time": "2021-11-03T14:02:28.467Z"
   },
   {
    "duration": 168,
    "start_time": "2021-11-03T14:02:28.496Z"
   },
   {
    "duration": 6,
    "start_time": "2021-11-03T14:02:28.667Z"
   },
   {
    "duration": 163,
    "start_time": "2021-11-03T14:02:28.675Z"
   },
   {
    "duration": 626,
    "start_time": "2021-11-03T14:02:28.840Z"
   },
   {
    "duration": 781,
    "start_time": "2021-11-03T14:02:29.468Z"
   },
   {
    "duration": 20,
    "start_time": "2021-11-03T14:02:30.251Z"
   },
   {
    "duration": 34447,
    "start_time": "2021-11-03T14:02:30.273Z"
   },
   {
    "duration": 20,
    "start_time": "2021-11-03T14:03:04.722Z"
   },
   {
    "duration": 20,
    "start_time": "2021-11-03T14:03:04.744Z"
   },
   {
    "duration": 795,
    "start_time": "2021-11-03T14:03:04.767Z"
   },
   {
    "duration": 5,
    "start_time": "2021-11-03T14:03:05.565Z"
   },
   {
    "duration": 32,
    "start_time": "2021-11-03T14:03:05.572Z"
   },
   {
    "duration": 123,
    "start_time": "2021-11-03T14:03:05.607Z"
   },
   {
    "duration": 6,
    "start_time": "2021-11-03T14:03:05.733Z"
   },
   {
    "duration": 166,
    "start_time": "2021-11-03T14:03:05.741Z"
   },
   {
    "duration": 52,
    "start_time": "2021-11-03T14:03:05.909Z"
   },
   {
    "duration": 692,
    "start_time": "2021-11-03T14:03:05.963Z"
   },
   {
    "duration": 20,
    "start_time": "2021-11-03T14:03:06.658Z"
   },
   {
    "duration": 33747,
    "start_time": "2021-11-03T14:03:06.680Z"
   },
   {
    "duration": 21,
    "start_time": "2021-11-03T14:03:40.429Z"
   },
   {
    "duration": 20,
    "start_time": "2021-11-03T14:03:40.453Z"
   },
   {
    "duration": 741,
    "start_time": "2021-11-03T14:03:40.476Z"
   },
   {
    "duration": 6,
    "start_time": "2021-11-03T14:03:41.234Z"
   },
   {
    "duration": 23,
    "start_time": "2021-11-03T14:03:41.243Z"
   },
   {
    "duration": 146,
    "start_time": "2021-11-03T14:03:41.268Z"
   },
   {
    "duration": 13,
    "start_time": "2021-11-03T14:03:41.416Z"
   },
   {
    "duration": 156,
    "start_time": "2021-11-03T14:03:41.431Z"
   },
   {
    "duration": 5,
    "start_time": "2021-11-03T14:03:41.589Z"
   },
   {
    "duration": 45,
    "start_time": "2021-11-03T14:03:41.597Z"
   },
   {
    "duration": 138,
    "start_time": "2021-11-03T14:03:41.645Z"
   },
   {
    "duration": 5,
    "start_time": "2021-11-03T14:03:41.786Z"
   },
   {
    "duration": 164,
    "start_time": "2021-11-03T14:03:41.793Z"
   },
   {
    "duration": 4,
    "start_time": "2021-11-03T14:03:41.959Z"
   },
   {
    "duration": 9,
    "start_time": "2021-11-03T14:03:41.965Z"
   },
   {
    "duration": 55,
    "start_time": "2021-11-03T14:03:41.976Z"
   },
   {
    "duration": 318,
    "start_time": "2021-11-03T14:03:42.034Z"
   },
   {
    "duration": 18,
    "start_time": "2021-11-03T14:03:42.355Z"
   },
   {
    "duration": 7,
    "start_time": "2021-11-03T14:03:42.376Z"
   },
   {
    "duration": 31,
    "start_time": "2021-11-03T14:03:42.386Z"
   },
   {
    "duration": 724,
    "start_time": "2021-11-03T14:03:42.420Z"
   },
   {
    "duration": 16,
    "start_time": "2021-11-03T14:03:43.147Z"
   },
   {
    "duration": 37,
    "start_time": "2021-11-03T14:03:43.166Z"
   },
   {
    "duration": 27,
    "start_time": "2021-11-03T14:03:43.206Z"
   },
   {
    "duration": 8,
    "start_time": "2021-11-03T14:03:43.235Z"
   },
   {
    "duration": 11,
    "start_time": "2021-11-03T14:03:43.246Z"
   },
   {
    "duration": 18,
    "start_time": "2021-11-03T14:03:43.260Z"
   },
   {
    "duration": 12,
    "start_time": "2021-11-03T14:03:43.281Z"
   },
   {
    "duration": 6,
    "start_time": "2021-11-03T14:04:28.170Z"
   },
   {
    "duration": 12,
    "start_time": "2021-11-03T14:04:28.179Z"
   },
   {
    "duration": 1202,
    "start_time": "2021-11-03T14:04:28.193Z"
   },
   {
    "duration": 19,
    "start_time": "2021-11-03T14:04:29.397Z"
   },
   {
    "duration": 165,
    "start_time": "2021-11-03T14:04:29.430Z"
   },
   {
    "duration": 127,
    "start_time": "2021-11-03T14:04:29.598Z"
   },
   {
    "duration": 628,
    "start_time": "2021-11-03T14:04:29.730Z"
   },
   {
    "duration": 5,
    "start_time": "2021-11-03T14:04:30.360Z"
   },
   {
    "duration": 714,
    "start_time": "2021-11-03T14:04:30.367Z"
   },
   {
    "duration": 5,
    "start_time": "2021-11-03T14:04:31.083Z"
   },
   {
    "duration": 194,
    "start_time": "2021-11-03T14:04:31.090Z"
   },
   {
    "duration": 132,
    "start_time": "2021-11-03T14:04:31.286Z"
   },
   {
    "duration": 188,
    "start_time": "2021-11-03T14:04:31.420Z"
   },
   {
    "duration": 638,
    "start_time": "2021-11-03T14:04:31.613Z"
   },
   {
    "duration": 19,
    "start_time": "2021-11-03T14:04:32.254Z"
   },
   {
    "duration": 5,
    "start_time": "2021-11-03T14:04:32.275Z"
   },
   {
    "duration": 144,
    "start_time": "2021-11-03T14:04:32.282Z"
   },
   {
    "duration": 5,
    "start_time": "2021-11-03T14:04:32.430Z"
   },
   {
    "duration": 615,
    "start_time": "2021-11-03T14:04:32.437Z"
   },
   {
    "duration": 147,
    "start_time": "2021-11-03T14:04:33.055Z"
   },
   {
    "duration": 648,
    "start_time": "2021-11-03T14:04:33.204Z"
   },
   {
    "duration": 751,
    "start_time": "2021-11-03T14:04:33.855Z"
   },
   {
    "duration": 101,
    "start_time": "2021-11-03T14:04:34.608Z"
   },
   {
    "duration": 613,
    "start_time": "2021-11-03T14:04:34.711Z"
   },
   {
    "duration": 611,
    "start_time": "2021-11-03T14:04:35.326Z"
   },
   {
    "duration": 654,
    "start_time": "2021-11-03T14:04:35.940Z"
   },
   {
    "duration": 124,
    "start_time": "2021-11-03T14:04:36.597Z"
   },
   {
    "duration": 648,
    "start_time": "2021-11-03T14:04:36.724Z"
   },
   {
    "duration": 167,
    "start_time": "2021-11-03T14:04:37.374Z"
   },
   {
    "duration": 23,
    "start_time": "2021-11-03T14:04:37.543Z"
   },
   {
    "duration": 62,
    "start_time": "2021-11-03T14:04:37.569Z"
   },
   {
    "duration": 444,
    "start_time": "2021-11-03T14:04:37.634Z"
   },
   {
    "duration": 388,
    "start_time": "2021-11-03T14:04:38.081Z"
   },
   {
    "duration": 58,
    "start_time": "2021-11-03T14:04:38.472Z"
   },
   {
    "duration": 343,
    "start_time": "2021-11-03T14:04:38.533Z"
   },
   {
    "duration": 20,
    "start_time": "2021-11-03T14:04:38.879Z"
   },
   {
    "duration": 174,
    "start_time": "2021-11-03T14:04:38.902Z"
   },
   {
    "duration": 906,
    "start_time": "2021-11-03T14:04:39.083Z"
   },
   {
    "duration": 21,
    "start_time": "2021-11-03T14:04:39.992Z"
   },
   {
    "duration": 34728,
    "start_time": "2021-11-03T14:04:40.015Z"
   },
   {
    "duration": 20,
    "start_time": "2021-11-03T14:05:14.745Z"
   },
   {
    "duration": 24,
    "start_time": "2021-11-03T14:05:14.768Z"
   },
   {
    "duration": 959,
    "start_time": "2021-11-03T14:05:14.795Z"
   },
   {
    "duration": 5,
    "start_time": "2021-11-03T14:05:15.756Z"
   },
   {
    "duration": 27,
    "start_time": "2021-11-03T14:05:15.764Z"
   },
   {
    "duration": 134,
    "start_time": "2021-11-03T14:05:15.794Z"
   },
   {
    "duration": 5,
    "start_time": "2021-11-03T14:05:15.931Z"
   },
   {
    "duration": 165,
    "start_time": "2021-11-03T14:05:15.938Z"
   },
   {
    "duration": 613,
    "start_time": "2021-11-03T14:05:16.105Z"
   },
   {
    "duration": 760,
    "start_time": "2021-11-03T14:05:16.720Z"
   },
   {
    "duration": 20,
    "start_time": "2021-11-03T14:05:17.483Z"
   },
   {
    "duration": 34124,
    "start_time": "2021-11-03T14:05:17.505Z"
   },
   {
    "duration": 23,
    "start_time": "2021-11-03T14:05:51.632Z"
   },
   {
    "duration": 40,
    "start_time": "2021-11-03T14:05:51.658Z"
   },
   {
    "duration": 792,
    "start_time": "2021-11-03T14:05:51.700Z"
   },
   {
    "duration": 5,
    "start_time": "2021-11-03T14:05:52.495Z"
   },
   {
    "duration": 38,
    "start_time": "2021-11-03T14:05:52.503Z"
   },
   {
    "duration": 119,
    "start_time": "2021-11-03T14:05:52.543Z"
   },
   {
    "duration": 5,
    "start_time": "2021-11-03T14:05:52.665Z"
   },
   {
    "duration": 168,
    "start_time": "2021-11-03T14:05:52.672Z"
   },
   {
    "duration": 42,
    "start_time": "2021-11-03T14:05:52.843Z"
   },
   {
    "duration": 1133,
    "start_time": "2021-11-03T14:05:52.888Z"
   },
   {
    "duration": 36,
    "start_time": "2021-11-03T14:05:54.024Z"
   },
   {
    "duration": 43892,
    "start_time": "2021-11-03T14:05:54.063Z"
   },
   {
    "duration": 21,
    "start_time": "2021-11-03T14:06:37.957Z"
   },
   {
    "duration": 36,
    "start_time": "2021-11-03T14:06:37.980Z"
   },
   {
    "duration": 731,
    "start_time": "2021-11-03T14:06:38.018Z"
   },
   {
    "duration": 6,
    "start_time": "2021-11-03T14:06:38.751Z"
   },
   {
    "duration": 35,
    "start_time": "2021-11-03T14:06:38.759Z"
   },
   {
    "duration": 136,
    "start_time": "2021-11-03T14:06:38.797Z"
   },
   {
    "duration": 7,
    "start_time": "2021-11-03T14:06:38.936Z"
   },
   {
    "duration": 171,
    "start_time": "2021-11-03T14:06:38.945Z"
   },
   {
    "duration": 12,
    "start_time": "2021-11-03T14:06:39.118Z"
   },
   {
    "duration": 47,
    "start_time": "2021-11-03T14:06:39.133Z"
   },
   {
    "duration": 142,
    "start_time": "2021-11-03T14:06:39.183Z"
   },
   {
    "duration": 6,
    "start_time": "2021-11-03T14:06:39.327Z"
   },
   {
    "duration": 161,
    "start_time": "2021-11-03T14:06:39.335Z"
   },
   {
    "duration": 5,
    "start_time": "2021-11-03T14:06:39.499Z"
   },
   {
    "duration": 26,
    "start_time": "2021-11-03T14:06:39.507Z"
   },
   {
    "duration": 36,
    "start_time": "2021-11-03T14:06:39.535Z"
   },
   {
    "duration": 321,
    "start_time": "2021-11-03T14:06:39.574Z"
   },
   {
    "duration": 18,
    "start_time": "2021-11-03T14:06:39.897Z"
   },
   {
    "duration": 4,
    "start_time": "2021-11-03T14:06:39.930Z"
   },
   {
    "duration": 21,
    "start_time": "2021-11-03T14:06:39.936Z"
   },
   {
    "duration": 737,
    "start_time": "2021-11-03T14:06:39.960Z"
   },
   {
    "duration": 29,
    "start_time": "2021-11-03T14:06:40.699Z"
   },
   {
    "duration": 34,
    "start_time": "2021-11-03T14:07:58.627Z"
   },
   {
    "duration": 36,
    "start_time": "2021-11-03T14:08:01.747Z"
   },
   {
    "duration": 12,
    "start_time": "2021-11-03T14:08:56.292Z"
   },
   {
    "duration": 10,
    "start_time": "2021-11-03T14:08:57.116Z"
   },
   {
    "duration": 6,
    "start_time": "2021-11-03T14:09:37.965Z"
   },
   {
    "duration": 425,
    "start_time": "2021-11-03T14:10:37.749Z"
   },
   {
    "duration": 28,
    "start_time": "2021-11-03T14:10:41.069Z"
   },
   {
    "duration": 6,
    "start_time": "2021-11-03T14:10:47.164Z"
   },
   {
    "duration": 255,
    "start_time": "2021-11-03T14:11:01.431Z"
   },
   {
    "duration": 241,
    "start_time": "2021-11-03T14:11:04.230Z"
   },
   {
    "duration": 21,
    "start_time": "2021-11-03T14:11:10.031Z"
   },
   {
    "duration": 330,
    "start_time": "2021-11-03T14:11:21.305Z"
   },
   {
    "duration": 247,
    "start_time": "2021-11-03T14:11:24.495Z"
   },
   {
    "duration": 252,
    "start_time": "2021-11-03T14:11:32.070Z"
   },
   {
    "duration": 270,
    "start_time": "2021-11-03T14:11:36.998Z"
   },
   {
    "duration": 262,
    "start_time": "2021-11-03T14:11:42.526Z"
   },
   {
    "duration": 276,
    "start_time": "2021-11-03T14:11:45.189Z"
   },
   {
    "duration": 31,
    "start_time": "2021-11-03T14:11:51.504Z"
   },
   {
    "duration": 739,
    "start_time": "2021-11-03T14:12:29.364Z"
   },
   {
    "duration": 5,
    "start_time": "2021-11-03T14:13:44.917Z"
   },
   {
    "duration": 44,
    "start_time": "2021-11-03T14:13:47.161Z"
   },
   {
    "duration": 5,
    "start_time": "2021-11-03T14:13:48.484Z"
   },
   {
    "duration": 227,
    "start_time": "2021-11-03T14:19:20.539Z"
   },
   {
    "duration": 5,
    "start_time": "2021-11-03T14:19:24.715Z"
   },
   {
    "duration": 6,
    "start_time": "2021-11-03T14:29:20.981Z"
   },
   {
    "duration": 6,
    "start_time": "2021-11-03T14:29:43.664Z"
   },
   {
    "duration": 33,
    "start_time": "2021-11-03T14:29:44.918Z"
   },
   {
    "duration": 5,
    "start_time": "2021-11-03T14:29:47.110Z"
   },
   {
    "duration": 6,
    "start_time": "2021-11-03T14:29:49.337Z"
   },
   {
    "duration": 1257,
    "start_time": "2021-11-03T14:33:24.981Z"
   },
   {
    "duration": 5,
    "start_time": "2021-11-03T14:33:36.206Z"
   },
   {
    "duration": 14,
    "start_time": "2021-11-03T14:34:09.214Z"
   },
   {
    "duration": 18,
    "start_time": "2021-11-03T14:34:27.673Z"
   },
   {
    "duration": 22,
    "start_time": "2021-11-03T14:34:41.801Z"
   },
   {
    "duration": 5,
    "start_time": "2021-11-03T14:34:48.327Z"
   },
   {
    "duration": 31,
    "start_time": "2021-11-03T14:35:07.365Z"
   },
   {
    "duration": 13,
    "start_time": "2021-11-03T14:35:22.990Z"
   },
   {
    "duration": 6,
    "start_time": "2021-11-03T14:37:50.993Z"
   },
   {
    "duration": 20,
    "start_time": "2021-11-03T14:37:51.005Z"
   },
   {
    "duration": 1756,
    "start_time": "2021-11-03T14:37:51.028Z"
   },
   {
    "duration": 41,
    "start_time": "2021-11-03T14:37:52.788Z"
   },
   {
    "duration": 171,
    "start_time": "2021-11-03T14:37:52.832Z"
   },
   {
    "duration": 126,
    "start_time": "2021-11-03T14:37:53.006Z"
   },
   {
    "duration": 596,
    "start_time": "2021-11-03T14:37:53.135Z"
   },
   {
    "duration": 5,
    "start_time": "2021-11-03T14:37:53.733Z"
   },
   {
    "duration": 635,
    "start_time": "2021-11-03T14:37:53.741Z"
   },
   {
    "duration": 5,
    "start_time": "2021-11-03T14:37:54.379Z"
   },
   {
    "duration": 164,
    "start_time": "2021-11-03T14:37:54.386Z"
   },
   {
    "duration": 128,
    "start_time": "2021-11-03T14:37:54.552Z"
   },
   {
    "duration": 188,
    "start_time": "2021-11-03T14:37:54.683Z"
   },
   {
    "duration": 605,
    "start_time": "2021-11-03T14:37:54.873Z"
   },
   {
    "duration": 19,
    "start_time": "2021-11-03T14:37:55.481Z"
   },
   {
    "duration": 29,
    "start_time": "2021-11-03T14:37:55.502Z"
   },
   {
    "duration": 125,
    "start_time": "2021-11-03T14:37:55.534Z"
   },
   {
    "duration": 6,
    "start_time": "2021-11-03T14:37:55.661Z"
   },
   {
    "duration": 696,
    "start_time": "2021-11-03T14:37:55.669Z"
   },
   {
    "duration": 142,
    "start_time": "2021-11-03T14:37:56.367Z"
   },
   {
    "duration": 712,
    "start_time": "2021-11-03T14:37:56.512Z"
   },
   {
    "duration": 616,
    "start_time": "2021-11-03T14:37:57.229Z"
   },
   {
    "duration": 105,
    "start_time": "2021-11-03T14:37:57.847Z"
   },
   {
    "duration": 588,
    "start_time": "2021-11-03T14:37:57.959Z"
   },
   {
    "duration": 597,
    "start_time": "2021-11-03T14:37:58.551Z"
   },
   {
    "duration": 648,
    "start_time": "2021-11-03T14:37:59.151Z"
   },
   {
    "duration": 121,
    "start_time": "2021-11-03T14:37:59.801Z"
   },
   {
    "duration": 754,
    "start_time": "2021-11-03T14:37:59.925Z"
   },
   {
    "duration": 165,
    "start_time": "2021-11-03T14:38:00.682Z"
   },
   {
    "duration": 23,
    "start_time": "2021-11-03T14:38:00.850Z"
   },
   {
    "duration": 65,
    "start_time": "2021-11-03T14:38:00.876Z"
   },
   {
    "duration": 354,
    "start_time": "2021-11-03T14:38:00.943Z"
   },
   {
    "duration": 372,
    "start_time": "2021-11-03T14:38:01.300Z"
   },
   {
    "duration": 54,
    "start_time": "2021-11-03T14:38:01.674Z"
   },
   {
    "duration": 342,
    "start_time": "2021-11-03T14:38:01.731Z"
   },
   {
    "duration": 20,
    "start_time": "2021-11-03T14:38:02.076Z"
   },
   {
    "duration": 168,
    "start_time": "2021-11-03T14:38:02.098Z"
   },
   {
    "duration": 831,
    "start_time": "2021-11-03T14:38:02.268Z"
   },
   {
    "duration": 30,
    "start_time": "2021-11-03T14:38:03.101Z"
   },
   {
    "duration": 34011,
    "start_time": "2021-11-03T14:38:03.134Z"
   },
   {
    "duration": 24,
    "start_time": "2021-11-03T14:38:37.147Z"
   },
   {
    "duration": 29,
    "start_time": "2021-11-03T14:38:37.173Z"
   },
   {
    "duration": 854,
    "start_time": "2021-11-03T14:38:37.205Z"
   },
   {
    "duration": 6,
    "start_time": "2021-11-03T14:38:38.061Z"
   },
   {
    "duration": 25,
    "start_time": "2021-11-03T14:38:38.069Z"
   },
   {
    "duration": 141,
    "start_time": "2021-11-03T14:38:38.096Z"
   },
   {
    "duration": 6,
    "start_time": "2021-11-03T14:38:38.239Z"
   },
   {
    "duration": 171,
    "start_time": "2021-11-03T14:38:38.248Z"
   },
   {
    "duration": 693,
    "start_time": "2021-11-03T14:38:38.422Z"
   },
   {
    "duration": 758,
    "start_time": "2021-11-03T14:38:39.118Z"
   },
   {
    "duration": 20,
    "start_time": "2021-11-03T14:38:39.878Z"
   },
   {
    "duration": 33521,
    "start_time": "2021-11-03T14:38:39.900Z"
   },
   {
    "duration": 20,
    "start_time": "2021-11-03T14:39:13.424Z"
   },
   {
    "duration": 22,
    "start_time": "2021-11-03T14:39:13.446Z"
   },
   {
    "duration": 797,
    "start_time": "2021-11-03T14:39:13.470Z"
   },
   {
    "duration": 5,
    "start_time": "2021-11-03T14:39:14.269Z"
   },
   {
    "duration": 28,
    "start_time": "2021-11-03T14:39:14.276Z"
   },
   {
    "duration": 128,
    "start_time": "2021-11-03T14:39:14.306Z"
   },
   {
    "duration": 6,
    "start_time": "2021-11-03T14:39:14.436Z"
   },
   {
    "duration": 156,
    "start_time": "2021-11-03T14:39:14.444Z"
   },
   {
    "duration": 50,
    "start_time": "2021-11-03T14:39:14.602Z"
   },
   {
    "duration": 693,
    "start_time": "2021-11-03T14:39:14.654Z"
   },
   {
    "duration": 20,
    "start_time": "2021-11-03T14:39:15.349Z"
   },
   {
    "duration": 33083,
    "start_time": "2021-11-03T14:39:15.372Z"
   },
   {
    "duration": 21,
    "start_time": "2021-11-03T14:39:48.457Z"
   },
   {
    "duration": 20,
    "start_time": "2021-11-03T14:39:48.480Z"
   },
   {
    "duration": 713,
    "start_time": "2021-11-03T14:39:48.503Z"
   },
   {
    "duration": 13,
    "start_time": "2021-11-03T14:39:49.219Z"
   },
   {
    "duration": 20,
    "start_time": "2021-11-03T14:39:49.242Z"
   },
   {
    "duration": 139,
    "start_time": "2021-11-03T14:39:49.265Z"
   },
   {
    "duration": 6,
    "start_time": "2021-11-03T14:39:49.407Z"
   },
   {
    "duration": 162,
    "start_time": "2021-11-03T14:39:49.415Z"
   },
   {
    "duration": 5,
    "start_time": "2021-11-03T14:39:49.580Z"
   },
   {
    "duration": 24,
    "start_time": "2021-11-03T14:39:49.587Z"
   },
   {
    "duration": 135,
    "start_time": "2021-11-03T14:39:49.629Z"
   },
   {
    "duration": 5,
    "start_time": "2021-11-03T14:39:49.767Z"
   },
   {
    "duration": 163,
    "start_time": "2021-11-03T14:39:49.774Z"
   },
   {
    "duration": 4,
    "start_time": "2021-11-03T14:39:49.939Z"
   },
   {
    "duration": 13,
    "start_time": "2021-11-03T14:39:49.946Z"
   },
   {
    "duration": 33,
    "start_time": "2021-11-03T14:39:49.961Z"
   },
   {
    "duration": 339,
    "start_time": "2021-11-03T14:39:49.996Z"
   },
   {
    "duration": 125,
    "start_time": "2021-11-03T14:39:50.337Z"
   },
   {
    "duration": 4,
    "start_time": "2021-11-03T14:39:50.465Z"
   },
   {
    "duration": 13,
    "start_time": "2021-11-03T14:39:50.471Z"
   },
   {
    "duration": 789,
    "start_time": "2021-11-03T14:39:50.486Z"
   },
   {
    "duration": 6,
    "start_time": "2021-11-03T14:39:51.277Z"
   },
   {
    "duration": 45,
    "start_time": "2021-11-03T14:39:51.285Z"
   },
   {
    "duration": 23,
    "start_time": "2021-11-03T14:39:51.333Z"
   },
   {
    "duration": 771,
    "start_time": "2021-11-03T14:39:51.358Z"
   },
   {
    "duration": 5,
    "start_time": "2021-11-03T14:39:52.131Z"
   },
   {
    "duration": 57,
    "start_time": "2021-11-03T14:39:52.138Z"
   },
   {
    "duration": 5,
    "start_time": "2021-11-03T14:39:52.198Z"
   },
   {
    "duration": 36,
    "start_time": "2021-11-03T14:39:52.205Z"
   },
   {
    "duration": 39,
    "start_time": "2021-11-03T14:39:52.244Z"
   },
   {
    "duration": 5,
    "start_time": "2021-11-03T14:39:52.286Z"
   },
   {
    "duration": 21,
    "start_time": "2021-11-03T14:39:52.293Z"
   },
   {
    "duration": 1184,
    "start_time": "2021-11-03T14:39:52.316Z"
   },
   {
    "duration": 6,
    "start_time": "2021-11-03T14:39:53.503Z"
   },
   {
    "duration": 43,
    "start_time": "2021-11-03T14:39:53.512Z"
   },
   {
    "duration": 5,
    "start_time": "2021-11-03T16:05:37.452Z"
   },
   {
    "duration": 11,
    "start_time": "2021-11-03T16:10:01.412Z"
   },
   {
    "duration": 35,
    "start_time": "2021-11-03T16:12:22.810Z"
   },
   {
    "duration": 5,
    "start_time": "2021-11-03T16:12:23.656Z"
   },
   {
    "duration": 5,
    "start_time": "2021-11-03T16:12:25.101Z"
   },
   {
    "duration": 5,
    "start_time": "2021-11-03T16:12:26.040Z"
   },
   {
    "duration": 4,
    "start_time": "2021-11-03T16:12:26.817Z"
   },
   {
    "duration": 224,
    "start_time": "2021-11-03T16:12:37.932Z"
   },
   {
    "duration": 5,
    "start_time": "2021-11-03T16:12:38.897Z"
   },
   {
    "duration": 6,
    "start_time": "2021-11-03T16:12:40.111Z"
   },
   {
    "duration": 5,
    "start_time": "2021-11-03T16:12:41.155Z"
   },
   {
    "duration": 4,
    "start_time": "2021-11-03T16:12:45.624Z"
   },
   {
    "duration": 265,
    "start_time": "2021-11-03T16:13:32.306Z"
   },
   {
    "duration": 266,
    "start_time": "2021-11-03T16:13:43.042Z"
   },
   {
    "duration": 247,
    "start_time": "2021-11-03T16:14:19.049Z"
   },
   {
    "duration": 6,
    "start_time": "2021-11-03T16:14:44.967Z"
   },
   {
    "duration": 6,
    "start_time": "2021-11-03T16:15:17.488Z"
   },
   {
    "duration": 1778,
    "start_time": "2021-11-03T16:15:32.800Z"
   },
   {
    "duration": 1056,
    "start_time": "2021-11-03T16:16:07.280Z"
   },
   {
    "duration": 3,
    "start_time": "2021-11-03T16:19:05.459Z"
   },
   {
    "duration": 26243,
    "start_time": "2021-11-03T16:20:09.188Z"
   },
   {
    "duration": 303,
    "start_time": "2021-11-03T16:21:46.485Z"
   },
   {
    "duration": 6,
    "start_time": "2021-11-03T16:22:01.597Z"
   },
   {
    "duration": 5,
    "start_time": "2021-11-03T16:22:13.896Z"
   },
   {
    "duration": 6,
    "start_time": "2021-11-03T16:22:16.673Z"
   },
   {
    "duration": 6,
    "start_time": "2021-11-03T16:22:20.346Z"
   },
   {
    "duration": 6,
    "start_time": "2021-11-03T16:22:28.266Z"
   },
   {
    "duration": 248,
    "start_time": "2021-11-03T16:22:42.198Z"
   },
   {
    "duration": 1638,
    "start_time": "2021-11-03T16:23:09.611Z"
   },
   {
    "duration": 1783,
    "start_time": "2021-11-03T16:23:23.008Z"
   },
   {
    "duration": 10,
    "start_time": "2021-11-03T16:23:38.888Z"
   },
   {
    "duration": 3,
    "start_time": "2021-11-03T16:23:52.363Z"
   },
   {
    "duration": 7,
    "start_time": "2021-11-03T16:23:59.938Z"
   },
   {
    "duration": 7,
    "start_time": "2021-11-03T16:24:33.478Z"
   },
   {
    "duration": 67918,
    "start_time": "2021-11-03T16:27:08.791Z"
   },
   {
    "duration": 9,
    "start_time": "2021-11-03T16:28:16.702Z"
   },
   {
    "duration": 474162,
    "start_time": "2021-11-03T16:28:42.754Z"
   },
   {
    "duration": 65,
    "start_time": "2021-11-03T16:36:36.855Z"
   },
   {
    "duration": 1677,
    "start_time": "2021-11-03T16:39:13.740Z"
   },
   {
    "duration": 9,
    "start_time": "2021-11-03T16:39:15.420Z"
   },
   {
    "duration": 1105,
    "start_time": "2021-11-03T16:39:15.432Z"
   },
   {
    "duration": 26,
    "start_time": "2021-11-03T16:39:16.539Z"
   },
   {
    "duration": 177,
    "start_time": "2021-11-03T16:39:16.568Z"
   },
   {
    "duration": 127,
    "start_time": "2021-11-03T16:39:16.748Z"
   },
   {
    "duration": 606,
    "start_time": "2021-11-03T16:39:16.877Z"
   },
   {
    "duration": 5,
    "start_time": "2021-11-03T16:39:17.487Z"
   },
   {
    "duration": 670,
    "start_time": "2021-11-03T16:39:17.495Z"
   },
   {
    "duration": 6,
    "start_time": "2021-11-03T16:39:18.167Z"
   },
   {
    "duration": 173,
    "start_time": "2021-11-03T16:39:18.176Z"
   },
   {
    "duration": 130,
    "start_time": "2021-11-03T16:39:18.352Z"
   },
   {
    "duration": 184,
    "start_time": "2021-11-03T16:39:18.485Z"
   },
   {
    "duration": 619,
    "start_time": "2021-11-03T16:39:18.672Z"
   },
   {
    "duration": 20,
    "start_time": "2021-11-03T16:39:19.293Z"
   },
   {
    "duration": 6,
    "start_time": "2021-11-03T16:39:19.329Z"
   },
   {
    "duration": 138,
    "start_time": "2021-11-03T16:39:19.338Z"
   },
   {
    "duration": 6,
    "start_time": "2021-11-03T16:39:19.479Z"
   },
   {
    "duration": 596,
    "start_time": "2021-11-03T16:39:19.487Z"
   },
   {
    "duration": 145,
    "start_time": "2021-11-03T16:39:20.086Z"
   },
   {
    "duration": 781,
    "start_time": "2021-11-03T16:39:20.234Z"
   },
   {
    "duration": 591,
    "start_time": "2021-11-03T16:39:21.018Z"
   },
   {
    "duration": 97,
    "start_time": "2021-11-03T16:39:21.615Z"
   },
   {
    "duration": 594,
    "start_time": "2021-11-03T16:39:21.716Z"
   },
   {
    "duration": 608,
    "start_time": "2021-11-03T16:39:22.312Z"
   },
   {
    "duration": 641,
    "start_time": "2021-11-03T16:39:22.923Z"
   },
   {
    "duration": 136,
    "start_time": "2021-11-03T16:39:23.566Z"
   },
   {
    "duration": 627,
    "start_time": "2021-11-03T16:39:23.704Z"
   },
   {
    "duration": 161,
    "start_time": "2021-11-03T16:39:24.334Z"
   },
   {
    "duration": 37,
    "start_time": "2021-11-03T16:39:24.498Z"
   },
   {
    "duration": 46,
    "start_time": "2021-11-03T16:39:24.537Z"
   },
   {
    "duration": 424,
    "start_time": "2021-11-03T16:39:24.585Z"
   },
   {
    "duration": 371,
    "start_time": "2021-11-03T16:39:25.011Z"
   },
   {
    "duration": 50,
    "start_time": "2021-11-03T16:39:25.384Z"
   },
   {
    "duration": 334,
    "start_time": "2021-11-03T16:39:25.436Z"
   },
   {
    "duration": 19,
    "start_time": "2021-11-03T16:39:25.773Z"
   },
   {
    "duration": 167,
    "start_time": "2021-11-03T16:39:25.795Z"
   },
   {
    "duration": 831,
    "start_time": "2021-11-03T16:39:25.965Z"
   },
   {
    "duration": 31,
    "start_time": "2021-11-03T16:39:26.799Z"
   },
   {
    "duration": 34934,
    "start_time": "2021-11-03T16:39:26.833Z"
   },
   {
    "duration": 21,
    "start_time": "2021-11-03T16:40:01.770Z"
   },
   {
    "duration": 40,
    "start_time": "2021-11-03T16:40:01.793Z"
   },
   {
    "duration": 846,
    "start_time": "2021-11-03T16:40:01.835Z"
   },
   {
    "duration": 5,
    "start_time": "2021-11-03T16:40:02.683Z"
   },
   {
    "duration": 39,
    "start_time": "2021-11-03T16:40:02.691Z"
   },
   {
    "duration": 141,
    "start_time": "2021-11-03T16:40:02.732Z"
   },
   {
    "duration": 5,
    "start_time": "2021-11-03T16:40:02.875Z"
   },
   {
    "duration": 161,
    "start_time": "2021-11-03T16:40:02.883Z"
   },
   {
    "duration": 611,
    "start_time": "2021-11-03T16:40:03.046Z"
   },
   {
    "duration": 747,
    "start_time": "2021-11-03T16:40:03.659Z"
   },
   {
    "duration": 28,
    "start_time": "2021-11-03T16:40:04.409Z"
   },
   {
    "duration": 35249,
    "start_time": "2021-11-03T16:40:04.440Z"
   },
   {
    "duration": 21,
    "start_time": "2021-11-03T16:40:39.691Z"
   },
   {
    "duration": 35,
    "start_time": "2021-11-03T16:40:39.715Z"
   },
   {
    "duration": 813,
    "start_time": "2021-11-03T16:40:39.753Z"
   },
   {
    "duration": 5,
    "start_time": "2021-11-03T16:40:40.569Z"
   },
   {
    "duration": 54,
    "start_time": "2021-11-03T16:40:40.576Z"
   },
   {
    "duration": 124,
    "start_time": "2021-11-03T16:40:40.633Z"
   },
   {
    "duration": 5,
    "start_time": "2021-11-03T16:40:40.759Z"
   },
   {
    "duration": 171,
    "start_time": "2021-11-03T16:40:40.767Z"
   },
   {
    "duration": 45,
    "start_time": "2021-11-03T16:40:40.941Z"
   },
   {
    "duration": 728,
    "start_time": "2021-11-03T16:40:40.988Z"
   },
   {
    "duration": 29,
    "start_time": "2021-11-03T16:40:41.718Z"
   },
   {
    "duration": 35638,
    "start_time": "2021-11-03T16:40:41.750Z"
   },
   {
    "duration": 20,
    "start_time": "2021-11-03T16:41:17.391Z"
   },
   {
    "duration": 33,
    "start_time": "2021-11-03T16:41:17.413Z"
   },
   {
    "duration": 713,
    "start_time": "2021-11-03T16:41:17.449Z"
   },
   {
    "duration": 6,
    "start_time": "2021-11-03T16:41:18.170Z"
   },
   {
    "duration": 27,
    "start_time": "2021-11-03T16:41:18.179Z"
   },
   {
    "duration": 153,
    "start_time": "2021-11-03T16:41:18.209Z"
   },
   {
    "duration": 5,
    "start_time": "2021-11-03T16:41:18.364Z"
   },
   {
    "duration": 162,
    "start_time": "2021-11-03T16:41:18.371Z"
   },
   {
    "duration": 5,
    "start_time": "2021-11-03T16:41:18.535Z"
   },
   {
    "duration": 28,
    "start_time": "2021-11-03T16:41:18.543Z"
   },
   {
    "duration": 152,
    "start_time": "2021-11-03T16:41:18.574Z"
   },
   {
    "duration": 6,
    "start_time": "2021-11-03T16:41:18.729Z"
   },
   {
    "duration": 159,
    "start_time": "2021-11-03T16:41:18.738Z"
   },
   {
    "duration": 5,
    "start_time": "2021-11-03T16:41:18.899Z"
   },
   {
    "duration": 22,
    "start_time": "2021-11-03T16:41:18.906Z"
   },
   {
    "duration": 28,
    "start_time": "2021-11-03T16:41:18.931Z"
   },
   {
    "duration": 346,
    "start_time": "2021-11-03T16:41:18.961Z"
   },
   {
    "duration": 29,
    "start_time": "2021-11-03T16:41:19.310Z"
   },
   {
    "duration": 11,
    "start_time": "2021-11-03T16:41:19.342Z"
   },
   {
    "duration": 8,
    "start_time": "2021-11-03T16:41:19.356Z"
   },
   {
    "duration": 758,
    "start_time": "2021-11-03T16:41:19.366Z"
   },
   {
    "duration": 5,
    "start_time": "2021-11-03T16:41:20.127Z"
   },
   {
    "duration": 29,
    "start_time": "2021-11-03T16:41:20.134Z"
   },
   {
    "duration": 25,
    "start_time": "2021-11-03T16:41:20.166Z"
   },
   {
    "duration": 946,
    "start_time": "2021-11-03T16:41:20.193Z"
   },
   {
    "duration": 5,
    "start_time": "2021-11-03T16:41:21.141Z"
   },
   {
    "duration": 45,
    "start_time": "2021-11-03T16:41:21.149Z"
   },
   {
    "duration": 5,
    "start_time": "2021-11-03T16:41:21.197Z"
   },
   {
    "duration": 6,
    "start_time": "2021-11-03T16:41:21.230Z"
   },
   {
    "duration": 42,
    "start_time": "2021-11-03T16:41:21.239Z"
   },
   {
    "duration": 5,
    "start_time": "2021-11-03T16:41:21.284Z"
   },
   {
    "duration": 5,
    "start_time": "2021-11-03T16:41:21.330Z"
   },
   {
    "duration": 1372,
    "start_time": "2021-11-03T16:41:21.338Z"
   },
   {
    "duration": 7,
    "start_time": "2021-11-03T16:41:22.712Z"
   },
   {
    "duration": 239,
    "start_time": "2021-11-03T16:41:22.721Z"
   },
   {
    "duration": 6,
    "start_time": "2021-11-03T16:41:22.962Z"
   },
   {
    "duration": 35,
    "start_time": "2021-11-03T16:41:22.971Z"
   },
   {
    "duration": 106,
    "start_time": "2021-11-03T16:41:23.009Z"
   },
   {
    "duration": 22,
    "start_time": "2021-11-03T16:41:23.117Z"
   },
   {
    "duration": 1112,
    "start_time": "2021-11-03T16:41:23.142Z"
   },
   {
    "duration": 6,
    "start_time": "2021-11-03T16:44:24.910Z"
   },
   {
    "duration": 1648,
    "start_time": "2021-11-03T16:48:02.761Z"
   },
   {
    "duration": 4,
    "start_time": "2021-11-03T16:48:04.412Z"
   },
   {
    "duration": 1068,
    "start_time": "2021-11-03T16:48:04.429Z"
   },
   {
    "duration": 31,
    "start_time": "2021-11-03T16:48:05.500Z"
   },
   {
    "duration": 168,
    "start_time": "2021-11-03T16:48:05.534Z"
   },
   {
    "duration": 126,
    "start_time": "2021-11-03T16:48:05.704Z"
   },
   {
    "duration": 647,
    "start_time": "2021-11-03T16:48:05.833Z"
   },
   {
    "duration": 5,
    "start_time": "2021-11-03T16:48:06.484Z"
   },
   {
    "duration": 687,
    "start_time": "2021-11-03T16:48:06.492Z"
   },
   {
    "duration": 6,
    "start_time": "2021-11-03T16:48:07.181Z"
   },
   {
    "duration": 166,
    "start_time": "2021-11-03T16:48:07.189Z"
   },
   {
    "duration": 132,
    "start_time": "2021-11-03T16:48:07.357Z"
   },
   {
    "duration": 187,
    "start_time": "2021-11-03T16:48:07.492Z"
   },
   {
    "duration": 614,
    "start_time": "2021-11-03T16:48:07.681Z"
   },
   {
    "duration": 17,
    "start_time": "2021-11-03T16:48:08.297Z"
   },
   {
    "duration": 4,
    "start_time": "2021-11-03T16:48:08.330Z"
   },
   {
    "duration": 138,
    "start_time": "2021-11-03T16:48:08.337Z"
   },
   {
    "duration": 6,
    "start_time": "2021-11-03T16:48:08.478Z"
   },
   {
    "duration": 578,
    "start_time": "2021-11-03T16:48:08.487Z"
   },
   {
    "duration": 143,
    "start_time": "2021-11-03T16:48:09.069Z"
   },
   {
    "duration": 589,
    "start_time": "2021-11-03T16:48:09.215Z"
   },
   {
    "duration": 665,
    "start_time": "2021-11-03T16:48:09.806Z"
   },
   {
    "duration": 93,
    "start_time": "2021-11-03T16:48:10.477Z"
   },
   {
    "duration": 592,
    "start_time": "2021-11-03T16:48:10.575Z"
   },
   {
    "duration": 601,
    "start_time": "2021-11-03T16:48:11.169Z"
   },
   {
    "duration": 622,
    "start_time": "2021-11-03T16:48:11.773Z"
   },
   {
    "duration": 120,
    "start_time": "2021-11-03T16:48:12.398Z"
   },
   {
    "duration": 612,
    "start_time": "2021-11-03T16:48:12.520Z"
   },
   {
    "duration": 156,
    "start_time": "2021-11-03T16:48:13.134Z"
   },
   {
    "duration": 21,
    "start_time": "2021-11-03T16:48:13.292Z"
   },
   {
    "duration": 56,
    "start_time": "2021-11-03T16:48:13.315Z"
   },
   {
    "duration": 336,
    "start_time": "2021-11-03T16:48:13.373Z"
   },
   {
    "duration": 373,
    "start_time": "2021-11-03T16:48:13.711Z"
   },
   {
    "duration": 47,
    "start_time": "2021-11-03T16:48:14.086Z"
   },
   {
    "duration": 330,
    "start_time": "2021-11-03T16:48:14.135Z"
   },
   {
    "duration": 20,
    "start_time": "2021-11-03T16:48:14.467Z"
   },
   {
    "duration": 162,
    "start_time": "2021-11-03T16:48:14.489Z"
   },
   {
    "duration": 893,
    "start_time": "2021-11-03T16:48:14.654Z"
   },
   {
    "duration": 22,
    "start_time": "2021-11-03T16:48:15.549Z"
   },
   {
    "duration": 33967,
    "start_time": "2021-11-03T16:48:15.574Z"
   },
   {
    "duration": 21,
    "start_time": "2021-11-03T16:48:49.543Z"
   },
   {
    "duration": 22,
    "start_time": "2021-11-03T16:48:49.567Z"
   },
   {
    "duration": 860,
    "start_time": "2021-11-03T16:48:49.592Z"
   },
   {
    "duration": 6,
    "start_time": "2021-11-03T16:48:50.455Z"
   },
   {
    "duration": 25,
    "start_time": "2021-11-03T16:48:50.465Z"
   },
   {
    "duration": 150,
    "start_time": "2021-11-03T16:48:50.493Z"
   },
   {
    "duration": 7,
    "start_time": "2021-11-03T16:48:50.646Z"
   },
   {
    "duration": 169,
    "start_time": "2021-11-03T16:48:50.656Z"
   },
   {
    "duration": 618,
    "start_time": "2021-11-03T16:48:50.829Z"
   },
   {
    "duration": 772,
    "start_time": "2021-11-03T16:48:51.451Z"
   },
   {
    "duration": 21,
    "start_time": "2021-11-03T16:48:52.228Z"
   },
   {
    "duration": 34179,
    "start_time": "2021-11-03T16:48:52.252Z"
   },
   {
    "duration": 20,
    "start_time": "2021-11-03T16:49:26.434Z"
   },
   {
    "duration": 20,
    "start_time": "2021-11-03T16:49:26.456Z"
   },
   {
    "duration": 794,
    "start_time": "2021-11-03T16:49:26.479Z"
   },
   {
    "duration": 5,
    "start_time": "2021-11-03T16:49:27.275Z"
   },
   {
    "duration": 22,
    "start_time": "2021-11-03T16:49:27.282Z"
   },
   {
    "duration": 127,
    "start_time": "2021-11-03T16:49:27.306Z"
   },
   {
    "duration": 5,
    "start_time": "2021-11-03T16:49:27.435Z"
   },
   {
    "duration": 159,
    "start_time": "2021-11-03T16:49:27.442Z"
   },
   {
    "duration": 47,
    "start_time": "2021-11-03T16:49:27.603Z"
   },
   {
    "duration": 698,
    "start_time": "2021-11-03T16:49:27.652Z"
   },
   {
    "duration": 19,
    "start_time": "2021-11-03T16:49:28.353Z"
   },
   {
    "duration": 33055,
    "start_time": "2021-11-03T16:49:28.375Z"
   },
   {
    "duration": 24,
    "start_time": "2021-11-03T16:50:01.433Z"
   },
   {
    "duration": 31,
    "start_time": "2021-11-03T16:50:01.460Z"
   },
   {
    "duration": 718,
    "start_time": "2021-11-03T16:50:01.494Z"
   },
   {
    "duration": 6,
    "start_time": "2021-11-03T16:50:02.229Z"
   },
   {
    "duration": 31,
    "start_time": "2021-11-03T16:50:02.238Z"
   },
   {
    "duration": 139,
    "start_time": "2021-11-03T16:50:02.272Z"
   },
   {
    "duration": 5,
    "start_time": "2021-11-03T16:50:02.414Z"
   },
   {
    "duration": 156,
    "start_time": "2021-11-03T16:50:02.421Z"
   },
   {
    "duration": 5,
    "start_time": "2021-11-03T16:50:02.579Z"
   },
   {
    "duration": 53,
    "start_time": "2021-11-03T16:50:02.586Z"
   },
   {
    "duration": 151,
    "start_time": "2021-11-03T16:50:02.642Z"
   },
   {
    "duration": 6,
    "start_time": "2021-11-03T16:50:02.796Z"
   },
   {
    "duration": 168,
    "start_time": "2021-11-03T16:50:02.805Z"
   },
   {
    "duration": 4,
    "start_time": "2021-11-03T16:50:02.976Z"
   },
   {
    "duration": 33,
    "start_time": "2021-11-03T16:50:02.983Z"
   },
   {
    "duration": 50,
    "start_time": "2021-11-03T16:50:03.019Z"
   },
   {
    "duration": 323,
    "start_time": "2021-11-03T16:50:03.072Z"
   },
   {
    "duration": 18,
    "start_time": "2021-11-03T16:50:03.398Z"
   },
   {
    "duration": 5,
    "start_time": "2021-11-03T16:50:03.430Z"
   },
   {
    "duration": 30,
    "start_time": "2021-11-03T16:50:03.437Z"
   },
   {
    "duration": 733,
    "start_time": "2021-11-03T16:50:03.470Z"
   },
   {
    "duration": 6,
    "start_time": "2021-11-03T16:50:04.206Z"
   },
   {
    "duration": 47,
    "start_time": "2021-11-03T16:50:04.214Z"
   },
   {
    "duration": 38,
    "start_time": "2021-11-03T16:50:04.264Z"
   },
   {
    "duration": 737,
    "start_time": "2021-11-03T16:50:04.305Z"
   },
   {
    "duration": 7,
    "start_time": "2021-11-03T16:50:05.045Z"
   },
   {
    "duration": 39,
    "start_time": "2021-11-03T16:50:05.055Z"
   },
   {
    "duration": 35,
    "start_time": "2021-11-03T16:50:05.097Z"
   },
   {
    "duration": 10,
    "start_time": "2021-11-03T16:50:05.135Z"
   },
   {
    "duration": 38,
    "start_time": "2021-11-03T16:50:05.147Z"
   },
   {
    "duration": 7,
    "start_time": "2021-11-03T16:50:05.187Z"
   },
   {
    "duration": 6,
    "start_time": "2021-11-03T16:50:05.230Z"
   },
   {
    "duration": 32,
    "start_time": "2021-11-03T16:50:05.238Z"
   },
   {
    "duration": 6,
    "start_time": "2021-11-03T16:50:05.272Z"
   },
   {
    "duration": 49,
    "start_time": "2021-11-03T16:50:05.281Z"
   },
   {
    "duration": 4,
    "start_time": "2021-11-03T16:50:05.333Z"
   },
   {
    "duration": 1012,
    "start_time": "2021-11-03T16:50:05.340Z"
   },
   {
    "duration": 5,
    "start_time": "2021-11-03T16:50:06.355Z"
   },
   {
    "duration": 423,
    "start_time": "2021-11-03T16:50:06.362Z"
   },
   {
    "duration": 117,
    "start_time": "2021-11-03T16:50:06.670Z"
   },
   {
    "duration": 103,
    "start_time": "2021-11-03T16:50:06.685Z"
   },
   {
    "duration": 90,
    "start_time": "2021-11-03T16:50:06.699Z"
   },
   {
    "duration": 3,
    "start_time": "2021-11-03T17:17:11.754Z"
   },
   {
    "duration": 55,
    "start_time": "2021-11-03T17:17:13.117Z"
   },
   {
    "duration": 11,
    "start_time": "2021-11-03T18:26:19.671Z"
   },
   {
    "duration": 9,
    "start_time": "2021-11-03T18:34:39.503Z"
   },
   {
    "duration": 501,
    "start_time": "2021-11-03T18:34:46.502Z"
   },
   {
    "duration": 7,
    "start_time": "2021-11-03T18:34:58.979Z"
   },
   {
    "duration": 8,
    "start_time": "2021-11-03T18:35:04.498Z"
   },
   {
    "duration": 488,
    "start_time": "2021-11-03T18:35:07.366Z"
   },
   {
    "duration": 257,
    "start_time": "2021-11-03T18:35:08.138Z"
   },
   {
    "duration": 8,
    "start_time": "2021-11-03T18:35:27.873Z"
   },
   {
    "duration": 542,
    "start_time": "2021-11-03T18:35:30.044Z"
   },
   {
    "duration": 7,
    "start_time": "2021-11-03T18:37:20.494Z"
   },
   {
    "duration": 3264,
    "start_time": "2021-11-03T18:37:23.230Z"
   },
   {
    "duration": 326,
    "start_time": "2021-11-03T18:37:26.171Z"
   },
   {
    "duration": 7,
    "start_time": "2021-11-03T18:37:50.194Z"
   },
   {
    "duration": 3231,
    "start_time": "2021-11-03T18:37:53.105Z"
   },
   {
    "duration": 7,
    "start_time": "2021-11-03T18:38:11.712Z"
   },
   {
    "duration": 3462,
    "start_time": "2021-11-03T18:38:14.367Z"
   },
   {
    "duration": 8,
    "start_time": "2021-11-03T18:38:32.404Z"
   },
   {
    "duration": 3319,
    "start_time": "2021-11-03T18:38:33.406Z"
   },
   {
    "duration": 7,
    "start_time": "2021-11-03T18:38:55.819Z"
   },
   {
    "duration": 2591,
    "start_time": "2021-11-03T18:38:58.855Z"
   },
   {
    "duration": 276,
    "start_time": "2021-11-03T18:39:01.531Z"
   },
   {
    "duration": 2770,
    "start_time": "2021-11-03T18:39:50.279Z"
   },
   {
    "duration": 7,
    "start_time": "2021-11-03T18:39:53.132Z"
   },
   {
    "duration": 7,
    "start_time": "2021-11-03T18:40:53.273Z"
   },
   {
    "duration": 2740,
    "start_time": "2021-11-03T18:40:54.197Z"
   },
   {
    "duration": 91,
    "start_time": "2021-11-03T18:40:56.941Z"
   },
   {
    "duration": 7,
    "start_time": "2021-11-03T18:41:34.506Z"
   },
   {
    "duration": 2804,
    "start_time": "2021-11-03T18:41:36.026Z"
   },
   {
    "duration": 4,
    "start_time": "2021-11-03T18:41:38.833Z"
   },
   {
    "duration": 7,
    "start_time": "2021-11-03T18:41:58.524Z"
   },
   {
    "duration": 2820,
    "start_time": "2021-11-03T18:41:59.714Z"
   },
   {
    "duration": 5,
    "start_time": "2021-11-03T18:42:02.537Z"
   },
   {
    "duration": 12165,
    "start_time": "2021-11-03T18:46:09.371Z"
   },
   {
    "duration": 319,
    "start_time": "2021-11-03T18:46:21.220Z"
   },
   {
    "duration": 252,
    "start_time": "2021-11-03T18:52:09.362Z"
   },
   {
    "duration": 11,
    "start_time": "2021-11-03T18:52:16.152Z"
   },
   {
    "duration": 7,
    "start_time": "2021-11-03T18:52:17.299Z"
   },
   {
    "duration": 666262,
    "start_time": "2021-11-03T18:52:19.585Z"
   },
   {
    "duration": 83,
    "start_time": "2021-11-03T19:03:25.850Z"
   },
   {
    "duration": 133785,
    "start_time": "2021-11-03T19:21:29.746Z"
   },
   {
    "duration": 7,
    "start_time": "2021-11-03T19:23:43.536Z"
   },
   {
    "duration": 847391,
    "start_time": "2021-11-03T19:25:38.951Z"
   },
   {
    "duration": 87,
    "start_time": "2021-11-03T19:39:46.345Z"
   },
   {
    "duration": 24,
    "start_time": "2021-11-03T19:40:35.550Z"
   },
   {
    "duration": 203286,
    "start_time": "2021-11-03T19:43:03.354Z"
   },
   {
    "duration": 87,
    "start_time": "2021-11-03T19:46:26.648Z"
   },
   {
    "duration": 171,
    "start_time": "2021-11-03T19:46:26.745Z"
   },
   {
    "duration": 236,
    "start_time": "2021-11-03T19:46:26.919Z"
   },
   {
    "duration": 73536,
    "start_time": "2021-11-03T19:48:35.794Z"
   },
   {
    "duration": 5,
    "start_time": "2021-11-03T19:49:49.333Z"
   },
   {
    "duration": 274101,
    "start_time": "2021-11-03T19:53:21.462Z"
   },
   {
    "duration": 6,
    "start_time": "2021-11-03T19:57:55.566Z"
   },
   {
    "duration": 68,
    "start_time": "2021-11-03T19:57:55.575Z"
   },
   {
    "duration": 8,
    "start_time": "2021-11-03T19:57:55.645Z"
   },
   {
    "duration": 186374,
    "start_time": "2021-11-03T19:59:29.570Z"
   },
   {
    "duration": 6,
    "start_time": "2021-11-03T20:02:35.947Z"
   },
   {
    "duration": 44568,
    "start_time": "2021-11-03T20:14:30.059Z"
   },
   {
    "duration": 5,
    "start_time": "2021-11-03T20:15:14.630Z"
   },
   {
    "duration": 6,
    "start_time": "2021-11-03T20:15:29.986Z"
   },
   {
    "duration": 13,
    "start_time": "2021-11-03T20:15:29.996Z"
   },
   {
    "duration": 1244,
    "start_time": "2021-11-03T20:15:30.012Z"
   },
   {
    "duration": 18,
    "start_time": "2021-11-03T20:15:31.260Z"
   },
   {
    "duration": 180,
    "start_time": "2021-11-03T20:15:31.281Z"
   },
   {
    "duration": 124,
    "start_time": "2021-11-03T20:15:31.463Z"
   },
   {
    "duration": 612,
    "start_time": "2021-11-03T20:15:31.590Z"
   },
   {
    "duration": 6,
    "start_time": "2021-11-03T20:15:32.205Z"
   },
   {
    "duration": 607,
    "start_time": "2021-11-03T20:15:32.229Z"
   },
   {
    "duration": 5,
    "start_time": "2021-11-03T20:15:32.838Z"
   },
   {
    "duration": 170,
    "start_time": "2021-11-03T20:15:32.845Z"
   },
   {
    "duration": 132,
    "start_time": "2021-11-03T20:15:33.017Z"
   },
   {
    "duration": 170,
    "start_time": "2021-11-03T20:15:33.151Z"
   },
   {
    "duration": 792,
    "start_time": "2021-11-03T20:15:33.323Z"
   },
   {
    "duration": 26,
    "start_time": "2021-11-03T20:15:34.117Z"
   },
   {
    "duration": 5,
    "start_time": "2021-11-03T20:15:34.146Z"
   },
   {
    "duration": 134,
    "start_time": "2021-11-03T20:15:34.154Z"
   },
   {
    "duration": 6,
    "start_time": "2021-11-03T20:15:34.290Z"
   },
   {
    "duration": 596,
    "start_time": "2021-11-03T20:15:34.298Z"
   },
   {
    "duration": 152,
    "start_time": "2021-11-03T20:15:34.900Z"
   },
   {
    "duration": 595,
    "start_time": "2021-11-03T20:15:35.057Z"
   },
   {
    "duration": 604,
    "start_time": "2021-11-03T20:15:35.655Z"
   },
   {
    "duration": 100,
    "start_time": "2021-11-03T20:15:36.261Z"
   },
   {
    "duration": 580,
    "start_time": "2021-11-03T20:15:36.363Z"
   },
   {
    "duration": 593,
    "start_time": "2021-11-03T20:15:36.946Z"
   },
   {
    "duration": 741,
    "start_time": "2021-11-03T20:15:37.542Z"
   },
   {
    "duration": 142,
    "start_time": "2021-11-03T20:15:38.287Z"
   },
   {
    "duration": 680,
    "start_time": "2021-11-03T20:15:38.431Z"
   },
   {
    "duration": 166,
    "start_time": "2021-11-03T20:15:39.113Z"
   },
   {
    "duration": 21,
    "start_time": "2021-11-03T20:15:39.282Z"
   },
   {
    "duration": 59,
    "start_time": "2021-11-03T20:15:39.306Z"
   },
   {
    "duration": 341,
    "start_time": "2021-11-03T20:15:39.368Z"
   },
   {
    "duration": 362,
    "start_time": "2021-11-03T20:15:39.711Z"
   },
   {
    "duration": 55,
    "start_time": "2021-11-03T20:15:40.075Z"
   },
   {
    "duration": 335,
    "start_time": "2021-11-03T20:15:40.133Z"
   },
   {
    "duration": 21,
    "start_time": "2021-11-03T20:15:40.470Z"
   },
   {
    "duration": 176,
    "start_time": "2021-11-03T20:15:40.493Z"
   },
   {
    "duration": 791,
    "start_time": "2021-11-03T20:15:40.671Z"
   },
   {
    "duration": 20,
    "start_time": "2021-11-03T20:15:41.465Z"
   },
   {
    "duration": 35271,
    "start_time": "2021-11-03T20:15:41.487Z"
   },
   {
    "duration": 20,
    "start_time": "2021-11-03T20:16:16.760Z"
   },
   {
    "duration": 25,
    "start_time": "2021-11-03T20:16:16.783Z"
   },
   {
    "duration": 878,
    "start_time": "2021-11-03T20:16:16.810Z"
   },
   {
    "duration": 5,
    "start_time": "2021-11-03T20:16:17.690Z"
   },
   {
    "duration": 50,
    "start_time": "2021-11-03T20:16:17.698Z"
   },
   {
    "duration": 129,
    "start_time": "2021-11-03T20:16:17.750Z"
   },
   {
    "duration": 5,
    "start_time": "2021-11-03T20:16:17.882Z"
   },
   {
    "duration": 171,
    "start_time": "2021-11-03T20:16:17.889Z"
   },
   {
    "duration": 628,
    "start_time": "2021-11-03T20:16:18.062Z"
   },
   {
    "duration": 781,
    "start_time": "2021-11-03T20:16:18.692Z"
   },
   {
    "duration": 23,
    "start_time": "2021-11-03T20:16:19.475Z"
   },
   {
    "duration": 37973,
    "start_time": "2021-11-03T20:16:19.500Z"
   },
   {
    "duration": 19,
    "start_time": "2021-11-03T20:16:57.476Z"
   },
   {
    "duration": 48,
    "start_time": "2021-11-03T20:16:57.497Z"
   },
   {
    "duration": 793,
    "start_time": "2021-11-03T20:16:57.548Z"
   },
   {
    "duration": 6,
    "start_time": "2021-11-03T20:16:58.351Z"
   },
   {
    "duration": 24,
    "start_time": "2021-11-03T20:16:58.360Z"
   },
   {
    "duration": 138,
    "start_time": "2021-11-03T20:16:58.387Z"
   },
   {
    "duration": 6,
    "start_time": "2021-11-03T20:16:58.529Z"
   },
   {
    "duration": 176,
    "start_time": "2021-11-03T20:16:58.538Z"
   },
   {
    "duration": 49,
    "start_time": "2021-11-03T20:16:58.716Z"
   },
   {
    "duration": 820,
    "start_time": "2021-11-03T20:16:58.768Z"
   },
   {
    "duration": 20,
    "start_time": "2021-11-03T20:16:59.591Z"
   },
   {
    "duration": 35376,
    "start_time": "2021-11-03T20:16:59.613Z"
   },
   {
    "duration": 20,
    "start_time": "2021-11-03T20:17:34.992Z"
   },
   {
    "duration": 38,
    "start_time": "2021-11-03T20:17:35.015Z"
   },
   {
    "duration": 743,
    "start_time": "2021-11-03T20:17:35.056Z"
   },
   {
    "duration": 6,
    "start_time": "2021-11-03T20:17:35.801Z"
   },
   {
    "duration": 42,
    "start_time": "2021-11-03T20:17:35.809Z"
   },
   {
    "duration": 137,
    "start_time": "2021-11-03T20:17:35.853Z"
   },
   {
    "duration": 5,
    "start_time": "2021-11-03T20:17:35.993Z"
   },
   {
    "duration": 181,
    "start_time": "2021-11-03T20:17:36.000Z"
   },
   {
    "duration": 5,
    "start_time": "2021-11-03T20:17:36.184Z"
   },
   {
    "duration": 38,
    "start_time": "2021-11-03T20:17:36.191Z"
   },
   {
    "duration": 140,
    "start_time": "2021-11-03T20:17:36.233Z"
   },
   {
    "duration": 6,
    "start_time": "2021-11-03T20:17:36.375Z"
   },
   {
    "duration": 169,
    "start_time": "2021-11-03T20:17:36.383Z"
   },
   {
    "duration": 5,
    "start_time": "2021-11-03T20:17:36.555Z"
   },
   {
    "duration": 10,
    "start_time": "2021-11-03T20:17:36.562Z"
   },
   {
    "duration": 31,
    "start_time": "2021-11-03T20:17:36.574Z"
   },
   {
    "duration": 328,
    "start_time": "2021-11-03T20:17:36.629Z"
   },
   {
    "duration": 20,
    "start_time": "2021-11-03T20:17:36.960Z"
   },
   {
    "duration": 4,
    "start_time": "2021-11-03T20:17:36.983Z"
   },
   {
    "duration": 43,
    "start_time": "2021-11-03T20:17:36.990Z"
   },
   {
    "duration": 724,
    "start_time": "2021-11-03T20:17:37.036Z"
   },
   {
    "duration": 6,
    "start_time": "2021-11-03T20:17:37.762Z"
   },
   {
    "duration": 28,
    "start_time": "2021-11-03T20:17:37.771Z"
   },
   {
    "duration": 51,
    "start_time": "2021-11-03T20:17:37.801Z"
   },
   {
    "duration": 798,
    "start_time": "2021-11-03T20:17:37.855Z"
   },
   {
    "duration": 5,
    "start_time": "2021-11-03T20:17:38.655Z"
   },
   {
    "duration": 38,
    "start_time": "2021-11-03T20:17:38.663Z"
   },
   {
    "duration": 6,
    "start_time": "2021-11-03T20:17:38.703Z"
   },
   {
    "duration": 5,
    "start_time": "2021-11-03T20:17:38.735Z"
   },
   {
    "duration": 43,
    "start_time": "2021-11-03T20:17:38.742Z"
   },
   {
    "duration": 5,
    "start_time": "2021-11-03T20:17:38.787Z"
   },
   {
    "duration": 9,
    "start_time": "2021-11-03T20:17:38.794Z"
   },
   {
    "duration": 49,
    "start_time": "2021-11-03T20:17:38.806Z"
   },
   {
    "duration": 47,
    "start_time": "2021-11-03T20:17:38.858Z"
   },
   {
    "duration": 26,
    "start_time": "2021-11-03T20:17:38.907Z"
   },
   {
    "duration": 27,
    "start_time": "2021-11-03T20:17:38.936Z"
   },
   {
    "duration": 72,
    "start_time": "2021-11-03T20:17:38.965Z"
   },
   {
    "duration": 8,
    "start_time": "2021-11-03T20:17:39.040Z"
   },
   {
    "duration": 30,
    "start_time": "2021-11-03T20:17:39.051Z"
   },
   {
    "duration": 5,
    "start_time": "2021-11-03T20:17:39.084Z"
   },
   {
    "duration": 43,
    "start_time": "2021-11-03T20:17:39.091Z"
   },
   {
    "duration": 7,
    "start_time": "2021-11-03T20:17:39.137Z"
   },
   {
    "duration": 845,
    "start_time": "2021-11-03T20:17:39.147Z"
   },
   {
    "duration": 5,
    "start_time": "2021-11-03T20:17:39.994Z"
   },
   {
    "duration": 9,
    "start_time": "2021-11-03T20:17:40.001Z"
   },
   {
    "duration": 72,
    "start_time": "2021-11-03T20:17:40.012Z"
   },
   {
    "duration": 12,
    "start_time": "2021-11-03T20:17:40.086Z"
   },
   {
    "duration": 31,
    "start_time": "2021-11-03T20:17:40.101Z"
   },
   {
    "duration": 2608,
    "start_time": "2021-11-03T20:17:40.138Z"
   },
   {
    "duration": 85,
    "start_time": "2021-11-03T20:17:42.749Z"
   },
   {
    "duration": 1965770,
    "start_time": "2021-11-03T20:21:28.717Z"
   },
   {
    "duration": 5,
    "start_time": "2021-11-03T20:54:14.489Z"
   },
   {
    "duration": 651949,
    "start_time": "2021-11-03T21:45:05.286Z"
   },
   {
    "duration": 5,
    "start_time": "2021-11-03T21:55:57.238Z"
   },
   {
    "duration": 1815,
    "start_time": "2021-11-04T09:58:20.879Z"
   },
   {
    "duration": 6,
    "start_time": "2021-11-04T09:58:22.699Z"
   },
   {
    "duration": 1178,
    "start_time": "2021-11-04T09:58:22.709Z"
   },
   {
    "duration": 31,
    "start_time": "2021-11-04T09:58:23.889Z"
   },
   {
    "duration": 180,
    "start_time": "2021-11-04T09:58:23.923Z"
   },
   {
    "duration": 137,
    "start_time": "2021-11-04T09:58:24.105Z"
   },
   {
    "duration": 677,
    "start_time": "2021-11-04T09:58:24.245Z"
   },
   {
    "duration": 6,
    "start_time": "2021-11-04T09:58:24.928Z"
   },
   {
    "duration": 756,
    "start_time": "2021-11-04T09:58:24.938Z"
   },
   {
    "duration": 6,
    "start_time": "2021-11-04T09:58:25.697Z"
   },
   {
    "duration": 175,
    "start_time": "2021-11-04T09:58:25.706Z"
   },
   {
    "duration": 135,
    "start_time": "2021-11-04T09:58:25.883Z"
   },
   {
    "duration": 197,
    "start_time": "2021-11-04T09:58:26.021Z"
   },
   {
    "duration": 774,
    "start_time": "2021-11-04T09:58:26.221Z"
   },
   {
    "duration": 18,
    "start_time": "2021-11-04T09:58:27.000Z"
   },
   {
    "duration": 5,
    "start_time": "2021-11-04T09:58:27.021Z"
   },
   {
    "duration": 164,
    "start_time": "2021-11-04T09:58:27.028Z"
   },
   {
    "duration": 8,
    "start_time": "2021-11-04T09:58:27.194Z"
   },
   {
    "duration": 609,
    "start_time": "2021-11-04T09:58:27.204Z"
   },
   {
    "duration": 153,
    "start_time": "2021-11-04T09:58:27.816Z"
   },
   {
    "duration": 619,
    "start_time": "2021-11-04T09:58:27.971Z"
   },
   {
    "duration": 780,
    "start_time": "2021-11-04T09:58:28.592Z"
   },
   {
    "duration": 97,
    "start_time": "2021-11-04T09:58:29.378Z"
   },
   {
    "duration": 617,
    "start_time": "2021-11-04T09:58:29.479Z"
   },
   {
    "duration": 621,
    "start_time": "2021-11-04T09:58:30.101Z"
   },
   {
    "duration": 651,
    "start_time": "2021-11-04T09:58:30.725Z"
   },
   {
    "duration": 129,
    "start_time": "2021-11-04T09:58:31.378Z"
   },
   {
    "duration": 654,
    "start_time": "2021-11-04T09:58:31.509Z"
   },
   {
    "duration": 169,
    "start_time": "2021-11-04T09:58:32.165Z"
   },
   {
    "duration": 22,
    "start_time": "2021-11-04T09:58:32.337Z"
   },
   {
    "duration": 61,
    "start_time": "2021-11-04T09:58:32.361Z"
   },
   {
    "duration": 351,
    "start_time": "2021-11-04T09:58:32.424Z"
   },
   {
    "duration": 383,
    "start_time": "2021-11-04T09:58:32.778Z"
   },
   {
    "duration": 46,
    "start_time": "2021-11-04T09:58:33.164Z"
   },
   {
    "duration": 347,
    "start_time": "2021-11-04T09:58:33.213Z"
   },
   {
    "duration": 20,
    "start_time": "2021-11-04T09:58:33.563Z"
   },
   {
    "duration": 172,
    "start_time": "2021-11-04T09:58:33.585Z"
   },
   {
    "duration": 902,
    "start_time": "2021-11-04T09:58:33.760Z"
   },
   {
    "duration": 20,
    "start_time": "2021-11-04T09:58:34.665Z"
   },
   {
    "duration": 35237,
    "start_time": "2021-11-04T09:58:34.701Z"
   },
   {
    "duration": 20,
    "start_time": "2021-11-04T09:59:09.940Z"
   },
   {
    "duration": 22,
    "start_time": "2021-11-04T09:59:09.962Z"
   },
   {
    "duration": 885,
    "start_time": "2021-11-04T09:59:09.986Z"
   },
   {
    "duration": 5,
    "start_time": "2021-11-04T09:59:10.874Z"
   },
   {
    "duration": 37,
    "start_time": "2021-11-04T09:59:10.881Z"
   },
   {
    "duration": 141,
    "start_time": "2021-11-04T09:59:10.921Z"
   },
   {
    "duration": 5,
    "start_time": "2021-11-04T09:59:11.065Z"
   },
   {
    "duration": 166,
    "start_time": "2021-11-04T09:59:11.073Z"
   },
   {
    "duration": 626,
    "start_time": "2021-11-04T09:59:11.242Z"
   },
   {
    "duration": 782,
    "start_time": "2021-11-04T09:59:11.871Z"
   },
   {
    "duration": 22,
    "start_time": "2021-11-04T09:59:12.655Z"
   },
   {
    "duration": 34992,
    "start_time": "2021-11-04T09:59:12.701Z"
   },
   {
    "duration": 20,
    "start_time": "2021-11-04T09:59:47.695Z"
   },
   {
    "duration": 23,
    "start_time": "2021-11-04T09:59:47.717Z"
   },
   {
    "duration": 816,
    "start_time": "2021-11-04T09:59:47.742Z"
   },
   {
    "duration": 5,
    "start_time": "2021-11-04T09:59:48.561Z"
   },
   {
    "duration": 42,
    "start_time": "2021-11-04T09:59:48.568Z"
   },
   {
    "duration": 118,
    "start_time": "2021-11-04T09:59:48.612Z"
   },
   {
    "duration": 5,
    "start_time": "2021-11-04T09:59:48.732Z"
   },
   {
    "duration": 170,
    "start_time": "2021-11-04T09:59:48.740Z"
   },
   {
    "duration": 44,
    "start_time": "2021-11-04T09:59:48.912Z"
   },
   {
    "duration": 725,
    "start_time": "2021-11-04T09:59:48.959Z"
   },
   {
    "duration": 25,
    "start_time": "2021-11-04T09:59:49.686Z"
   },
   {
    "duration": 35107,
    "start_time": "2021-11-04T09:59:49.713Z"
   },
   {
    "duration": 20,
    "start_time": "2021-11-04T10:00:24.823Z"
   },
   {
    "duration": 25,
    "start_time": "2021-11-04T10:00:24.846Z"
   },
   {
    "duration": 746,
    "start_time": "2021-11-04T10:00:24.873Z"
   },
   {
    "duration": 5,
    "start_time": "2021-11-04T10:00:25.627Z"
   },
   {
    "duration": 27,
    "start_time": "2021-11-04T10:00:25.635Z"
   },
   {
    "duration": 167,
    "start_time": "2021-11-04T10:00:25.664Z"
   },
   {
    "duration": 7,
    "start_time": "2021-11-04T10:00:25.835Z"
   },
   {
    "duration": 169,
    "start_time": "2021-11-04T10:00:25.844Z"
   },
   {
    "duration": 6,
    "start_time": "2021-11-04T10:00:26.016Z"
   },
   {
    "duration": 43,
    "start_time": "2021-11-04T10:00:26.025Z"
   },
   {
    "duration": 187,
    "start_time": "2021-11-04T10:00:26.071Z"
   },
   {
    "duration": 6,
    "start_time": "2021-11-04T10:00:26.262Z"
   },
   {
    "duration": 164,
    "start_time": "2021-11-04T10:00:26.270Z"
   },
   {
    "duration": 4,
    "start_time": "2021-11-04T10:00:26.436Z"
   },
   {
    "duration": 8,
    "start_time": "2021-11-04T10:00:26.442Z"
   },
   {
    "duration": 63,
    "start_time": "2021-11-04T10:00:26.453Z"
   },
   {
    "duration": 332,
    "start_time": "2021-11-04T10:00:26.518Z"
   },
   {
    "duration": 18,
    "start_time": "2021-11-04T10:00:26.853Z"
   },
   {
    "duration": 32,
    "start_time": "2021-11-04T10:00:26.874Z"
   },
   {
    "duration": 7,
    "start_time": "2021-11-04T10:00:26.909Z"
   },
   {
    "duration": 721,
    "start_time": "2021-11-04T10:00:26.919Z"
   },
   {
    "duration": 6,
    "start_time": "2021-11-04T10:00:27.642Z"
   },
   {
    "duration": 49,
    "start_time": "2021-11-04T10:00:27.651Z"
   },
   {
    "duration": 25,
    "start_time": "2021-11-04T10:00:27.703Z"
   },
   {
    "duration": 801,
    "start_time": "2021-11-04T10:00:27.730Z"
   },
   {
    "duration": 5,
    "start_time": "2021-11-04T10:00:28.533Z"
   },
   {
    "duration": 61,
    "start_time": "2021-11-04T10:00:28.540Z"
   },
   {
    "duration": 5,
    "start_time": "2021-11-04T10:00:28.604Z"
   },
   {
    "duration": 7,
    "start_time": "2021-11-04T10:00:28.612Z"
   },
   {
    "duration": 35,
    "start_time": "2021-11-04T10:00:28.621Z"
   },
   {
    "duration": 6,
    "start_time": "2021-11-04T10:00:28.659Z"
   },
   {
    "duration": 38,
    "start_time": "2021-11-04T10:00:28.667Z"
   },
   {
    "duration": 23,
    "start_time": "2021-11-04T10:00:28.707Z"
   },
   {
    "duration": 82,
    "start_time": "2021-11-04T10:00:28.733Z"
   },
   {
    "duration": 8,
    "start_time": "2021-11-04T10:00:28.817Z"
   },
   {
    "duration": 21,
    "start_time": "2021-11-04T10:00:28.827Z"
   },
   {
    "duration": 71,
    "start_time": "2021-11-04T10:00:28.851Z"
   },
   {
    "duration": 7,
    "start_time": "2021-11-04T10:00:28.925Z"
   },
   {
    "duration": 30,
    "start_time": "2021-11-04T10:00:28.934Z"
   },
   {
    "duration": 34,
    "start_time": "2021-11-04T10:00:28.967Z"
   },
   {
    "duration": 5,
    "start_time": "2021-11-04T10:00:29.003Z"
   },
   {
    "duration": 6,
    "start_time": "2021-11-04T10:00:29.011Z"
   },
   {
    "duration": 1608,
    "start_time": "2021-11-04T10:00:29.019Z"
   },
   {
    "duration": 3,
    "start_time": "2021-11-04T10:00:30.630Z"
   },
   {
    "duration": 18,
    "start_time": "2021-11-04T10:00:30.635Z"
   },
   {
    "duration": 5,
    "start_time": "2021-11-04T10:12:08.222Z"
   },
   {
    "duration": 3,
    "start_time": "2021-11-04T10:12:26.178Z"
   },
   {
    "duration": 1213,
    "start_time": "2021-11-04T10:12:26.972Z"
   },
   {
    "duration": 11,
    "start_time": "2021-11-04T10:12:29.956Z"
   },
   {
    "duration": 7,
    "start_time": "2021-11-04T10:12:30.799Z"
   },
   {
    "duration": 166106,
    "start_time": "2021-11-04T10:12:32.797Z"
   },
   {
    "duration": 96,
    "start_time": "2021-11-04T10:15:18.907Z"
   },
   {
    "duration": 4494854,
    "start_time": "2021-11-04T11:10:37.711Z"
   },
   {
    "duration": 378,
    "start_time": "2021-11-04T12:25:32.567Z"
   },
   {
    "duration": 1693,
    "start_time": "2021-11-04T12:25:50.533Z"
   },
   {
    "duration": 4,
    "start_time": "2021-11-04T12:25:52.229Z"
   },
   {
    "duration": 1285,
    "start_time": "2021-11-04T12:25:52.236Z"
   },
   {
    "duration": 23,
    "start_time": "2021-11-04T12:25:53.523Z"
   },
   {
    "duration": 181,
    "start_time": "2021-11-04T12:25:53.548Z"
   },
   {
    "duration": 135,
    "start_time": "2021-11-04T12:25:53.732Z"
   },
   {
    "duration": 623,
    "start_time": "2021-11-04T12:25:53.869Z"
   },
   {
    "duration": 5,
    "start_time": "2021-11-04T12:25:54.501Z"
   },
   {
    "duration": 697,
    "start_time": "2021-11-04T12:25:54.510Z"
   },
   {
    "duration": 5,
    "start_time": "2021-11-04T12:25:55.209Z"
   },
   {
    "duration": 169,
    "start_time": "2021-11-04T12:25:55.216Z"
   },
   {
    "duration": 130,
    "start_time": "2021-11-04T12:25:55.387Z"
   },
   {
    "duration": 190,
    "start_time": "2021-11-04T12:25:55.520Z"
   },
   {
    "duration": 625,
    "start_time": "2021-11-04T12:25:55.712Z"
   },
   {
    "duration": 18,
    "start_time": "2021-11-04T12:25:56.339Z"
   },
   {
    "duration": 5,
    "start_time": "2021-11-04T12:25:56.360Z"
   },
   {
    "duration": 151,
    "start_time": "2021-11-04T12:25:56.367Z"
   },
   {
    "duration": 5,
    "start_time": "2021-11-04T12:25:56.521Z"
   },
   {
    "duration": 605,
    "start_time": "2021-11-04T12:25:56.529Z"
   },
   {
    "duration": 145,
    "start_time": "2021-11-04T12:25:57.136Z"
   },
   {
    "duration": 632,
    "start_time": "2021-11-04T12:25:57.283Z"
   },
   {
    "duration": 701,
    "start_time": "2021-11-04T12:25:57.917Z"
   },
   {
    "duration": 98,
    "start_time": "2021-11-04T12:25:58.625Z"
   },
   {
    "duration": 638,
    "start_time": "2021-11-04T12:25:58.727Z"
   },
   {
    "duration": 612,
    "start_time": "2021-11-04T12:25:59.368Z"
   },
   {
    "duration": 668,
    "start_time": "2021-11-04T12:25:59.982Z"
   },
   {
    "duration": 125,
    "start_time": "2021-11-04T12:26:00.652Z"
   },
   {
    "duration": 663,
    "start_time": "2021-11-04T12:26:00.779Z"
   },
   {
    "duration": 166,
    "start_time": "2021-11-04T12:26:01.445Z"
   },
   {
    "duration": 22,
    "start_time": "2021-11-04T12:26:01.614Z"
   },
   {
    "duration": 71,
    "start_time": "2021-11-04T12:26:01.639Z"
   },
   {
    "duration": 345,
    "start_time": "2021-11-04T12:26:01.713Z"
   },
   {
    "duration": 382,
    "start_time": "2021-11-04T12:26:02.061Z"
   },
   {
    "duration": 56,
    "start_time": "2021-11-04T12:26:02.446Z"
   },
   {
    "duration": 359,
    "start_time": "2021-11-04T12:26:02.505Z"
   },
   {
    "duration": 35,
    "start_time": "2021-11-04T12:26:02.868Z"
   },
   {
    "duration": 171,
    "start_time": "2021-11-04T12:26:02.906Z"
   },
   {
    "duration": 909,
    "start_time": "2021-11-04T12:26:03.080Z"
   },
   {
    "duration": 25,
    "start_time": "2021-11-04T12:26:03.991Z"
   },
   {
    "duration": 34738,
    "start_time": "2021-11-04T12:26:04.019Z"
   },
   {
    "duration": 20,
    "start_time": "2021-11-04T12:26:38.760Z"
   },
   {
    "duration": 33,
    "start_time": "2021-11-04T12:26:38.783Z"
   },
   {
    "duration": 863,
    "start_time": "2021-11-04T12:26:38.818Z"
   },
   {
    "duration": 16,
    "start_time": "2021-11-04T12:26:39.684Z"
   },
   {
    "duration": 21,
    "start_time": "2021-11-04T12:26:39.703Z"
   },
   {
    "duration": 144,
    "start_time": "2021-11-04T12:26:39.726Z"
   },
   {
    "duration": 6,
    "start_time": "2021-11-04T12:26:39.872Z"
   },
   {
    "duration": 170,
    "start_time": "2021-11-04T12:26:39.880Z"
   },
   {
    "duration": 647,
    "start_time": "2021-11-04T12:26:40.053Z"
   },
   {
    "duration": 879,
    "start_time": "2021-11-04T12:26:40.703Z"
   },
   {
    "duration": 29,
    "start_time": "2021-11-04T12:26:41.584Z"
   },
   {
    "duration": 34670,
    "start_time": "2021-11-04T12:26:41.616Z"
   },
   {
    "duration": 41,
    "start_time": "2021-11-04T12:27:16.290Z"
   },
   {
    "duration": 38,
    "start_time": "2021-11-04T12:27:16.334Z"
   },
   {
    "duration": 1340,
    "start_time": "2021-11-04T12:27:16.376Z"
   },
   {
    "duration": 7,
    "start_time": "2021-11-04T12:27:17.719Z"
   },
   {
    "duration": 36,
    "start_time": "2021-11-04T12:27:17.729Z"
   },
   {
    "duration": 169,
    "start_time": "2021-11-04T12:27:17.769Z"
   },
   {
    "duration": 4,
    "start_time": "2021-11-04T12:27:17.941Z"
   },
   {
    "duration": 174,
    "start_time": "2021-11-04T12:27:17.948Z"
   },
   {
    "duration": 45,
    "start_time": "2021-11-04T12:27:18.124Z"
   },
   {
    "duration": 731,
    "start_time": "2021-11-04T12:27:18.172Z"
   },
   {
    "duration": 22,
    "start_time": "2021-11-04T12:27:18.906Z"
   },
   {
    "duration": 35111,
    "start_time": "2021-11-04T12:27:18.930Z"
   },
   {
    "duration": 23,
    "start_time": "2021-11-04T12:27:54.044Z"
   },
   {
    "duration": 47,
    "start_time": "2021-11-04T12:27:54.070Z"
   },
   {
    "duration": 731,
    "start_time": "2021-11-04T12:27:54.120Z"
   },
   {
    "duration": 6,
    "start_time": "2021-11-04T12:27:54.862Z"
   },
   {
    "duration": 43,
    "start_time": "2021-11-04T12:27:54.873Z"
   },
   {
    "duration": 157,
    "start_time": "2021-11-04T12:27:54.918Z"
   },
   {
    "duration": 5,
    "start_time": "2021-11-04T12:27:55.078Z"
   },
   {
    "duration": 158,
    "start_time": "2021-11-04T12:27:55.085Z"
   },
   {
    "duration": 4,
    "start_time": "2021-11-04T12:27:55.245Z"
   },
   {
    "duration": 22,
    "start_time": "2021-11-04T12:27:55.252Z"
   },
   {
    "duration": 158,
    "start_time": "2021-11-04T12:27:55.276Z"
   },
   {
    "duration": 5,
    "start_time": "2021-11-04T12:27:55.436Z"
   },
   {
    "duration": 165,
    "start_time": "2021-11-04T12:27:55.444Z"
   },
   {
    "duration": 5,
    "start_time": "2021-11-04T12:27:55.612Z"
   },
   {
    "duration": 10,
    "start_time": "2021-11-04T12:27:55.619Z"
   },
   {
    "duration": 34,
    "start_time": "2021-11-04T12:27:55.631Z"
   },
   {
    "duration": 480,
    "start_time": "2021-11-04T12:27:55.667Z"
   },
   {
    "duration": 18,
    "start_time": "2021-11-04T12:27:56.149Z"
   },
   {
    "duration": 3,
    "start_time": "2021-11-04T12:27:56.170Z"
   },
   {
    "duration": 28,
    "start_time": "2021-11-04T12:27:56.175Z"
   },
   {
    "duration": 789,
    "start_time": "2021-11-04T12:27:56.206Z"
   },
   {
    "duration": 5,
    "start_time": "2021-11-04T12:27:56.998Z"
   },
   {
    "duration": 35,
    "start_time": "2021-11-04T12:27:57.005Z"
   },
   {
    "duration": 24,
    "start_time": "2021-11-04T12:27:57.043Z"
   },
   {
    "duration": 875,
    "start_time": "2021-11-04T12:27:57.069Z"
   },
   {
    "duration": 5,
    "start_time": "2021-11-04T12:27:57.947Z"
   },
   {
    "duration": 62,
    "start_time": "2021-11-04T12:27:57.956Z"
   },
   {
    "duration": 4,
    "start_time": "2021-11-04T12:27:58.021Z"
   },
   {
    "duration": 17,
    "start_time": "2021-11-04T12:27:58.028Z"
   },
   {
    "duration": 53,
    "start_time": "2021-11-04T12:27:58.047Z"
   },
   {
    "duration": 4,
    "start_time": "2021-11-04T12:27:58.103Z"
   },
   {
    "duration": 13,
    "start_time": "2021-11-04T12:27:58.110Z"
   },
   {
    "duration": 41,
    "start_time": "2021-11-04T12:27:58.127Z"
   },
   {
    "duration": 72,
    "start_time": "2021-11-04T12:27:58.171Z"
   },
   {
    "duration": 8,
    "start_time": "2021-11-04T12:27:58.246Z"
   },
   {
    "duration": 48,
    "start_time": "2021-11-04T12:27:58.257Z"
   },
   {
    "duration": 52,
    "start_time": "2021-11-04T12:27:58.309Z"
   },
   {
    "duration": 37,
    "start_time": "2021-11-04T12:27:58.364Z"
   },
   {
    "duration": 31,
    "start_time": "2021-11-04T12:27:58.404Z"
   },
   {
    "duration": 6,
    "start_time": "2021-11-04T12:27:58.437Z"
   },
   {
    "duration": 9,
    "start_time": "2021-11-04T12:27:58.445Z"
   },
   {
    "duration": 46,
    "start_time": "2021-11-04T12:27:58.456Z"
   },
   {
    "duration": 4,
    "start_time": "2021-11-04T12:27:58.505Z"
   },
   {
    "duration": 876,
    "start_time": "2021-11-04T12:27:58.511Z"
   },
   {
    "duration": 16,
    "start_time": "2021-11-04T12:27:59.389Z"
   },
   {
    "duration": 4,
    "start_time": "2021-11-04T12:27:59.408Z"
   },
   {
    "duration": 69,
    "start_time": "2021-11-04T12:27:59.415Z"
   },
   {
    "duration": 17,
    "start_time": "2021-11-04T12:27:59.502Z"
   },
   {
    "duration": 10,
    "start_time": "2021-11-04T12:27:59.522Z"
   },
   {
    "duration": 2872,
    "start_time": "2021-11-04T12:27:59.535Z"
   },
   {
    "duration": 92,
    "start_time": "2021-11-04T12:28:02.411Z"
   },
   {
    "duration": 143615,
    "start_time": "2021-11-04T12:28:02.506Z"
   },
   {
    "duration": 5,
    "start_time": "2021-11-04T12:30:26.124Z"
   },
   {
    "duration": 282969,
    "start_time": "2021-11-04T12:30:26.131Z"
   },
   {
    "duration": 5,
    "start_time": "2021-11-04T12:35:09.104Z"
   },
   {
    "duration": 418094,
    "start_time": "2021-11-04T12:35:09.111Z"
   },
   {
    "duration": 5,
    "start_time": "2021-11-04T12:42:07.207Z"
   },
   {
    "duration": 45429,
    "start_time": "2021-11-04T13:05:54.798Z"
   },
   {
    "duration": 5,
    "start_time": "2021-11-04T13:06:40.230Z"
   },
   {
    "duration": 5322788,
    "start_time": "2021-11-04T13:09:32.911Z"
   },
   {
    "duration": 6,
    "start_time": "2021-11-04T14:38:15.702Z"
   },
   {
    "duration": 1845,
    "start_time": "2021-11-04T14:39:55.575Z"
   },
   {
    "duration": 4,
    "start_time": "2021-11-04T14:39:57.423Z"
   },
   {
    "duration": 1260,
    "start_time": "2021-11-04T14:39:57.430Z"
   },
   {
    "duration": 27,
    "start_time": "2021-11-04T14:39:58.692Z"
   },
   {
    "duration": 190,
    "start_time": "2021-11-04T14:39:58.722Z"
   },
   {
    "duration": 138,
    "start_time": "2021-11-04T14:39:58.915Z"
   },
   {
    "duration": 793,
    "start_time": "2021-11-04T14:39:59.055Z"
   },
   {
    "duration": 7,
    "start_time": "2021-11-04T14:39:59.853Z"
   },
   {
    "duration": 1394,
    "start_time": "2021-11-04T14:39:59.864Z"
   },
   {
    "duration": 6,
    "start_time": "2021-11-04T14:40:01.261Z"
   },
   {
    "duration": 211,
    "start_time": "2021-11-04T14:40:01.269Z"
   },
   {
    "duration": 185,
    "start_time": "2021-11-04T14:40:01.482Z"
   },
   {
    "duration": 212,
    "start_time": "2021-11-04T14:40:01.670Z"
   },
   {
    "duration": 718,
    "start_time": "2021-11-04T14:40:01.885Z"
   },
   {
    "duration": 22,
    "start_time": "2021-11-04T14:40:02.606Z"
   },
   {
    "duration": 7,
    "start_time": "2021-11-04T14:40:02.631Z"
   },
   {
    "duration": 169,
    "start_time": "2021-11-04T14:40:02.640Z"
   },
   {
    "duration": 7,
    "start_time": "2021-11-04T14:40:02.812Z"
   },
   {
    "duration": 693,
    "start_time": "2021-11-04T14:40:02.830Z"
   },
   {
    "duration": 175,
    "start_time": "2021-11-04T14:40:03.525Z"
   },
   {
    "duration": 758,
    "start_time": "2021-11-04T14:40:03.703Z"
   },
   {
    "duration": 740,
    "start_time": "2021-11-04T14:40:04.464Z"
   },
   {
    "duration": 110,
    "start_time": "2021-11-04T14:40:05.210Z"
   },
   {
    "duration": 649,
    "start_time": "2021-11-04T14:40:05.325Z"
   },
   {
    "duration": 671,
    "start_time": "2021-11-04T14:40:05.976Z"
   },
   {
    "duration": 674,
    "start_time": "2021-11-04T14:40:06.649Z"
   },
   {
    "duration": 125,
    "start_time": "2021-11-04T14:40:07.325Z"
   },
   {
    "duration": 671,
    "start_time": "2021-11-04T14:40:07.452Z"
   },
   {
    "duration": 193,
    "start_time": "2021-11-04T14:40:08.126Z"
   },
   {
    "duration": 25,
    "start_time": "2021-11-04T14:40:08.322Z"
   },
   {
    "duration": 67,
    "start_time": "2021-11-04T14:40:08.349Z"
   },
   {
    "duration": 362,
    "start_time": "2021-11-04T14:40:08.419Z"
   },
   {
    "duration": 399,
    "start_time": "2021-11-04T14:40:08.783Z"
   },
   {
    "duration": 49,
    "start_time": "2021-11-04T14:40:09.185Z"
   },
   {
    "duration": 389,
    "start_time": "2021-11-04T14:40:09.237Z"
   },
   {
    "duration": 21,
    "start_time": "2021-11-04T14:40:09.628Z"
   },
   {
    "duration": 188,
    "start_time": "2021-11-04T14:40:09.652Z"
   },
   {
    "duration": 993,
    "start_time": "2021-11-04T14:40:09.842Z"
   },
   {
    "duration": 24,
    "start_time": "2021-11-04T14:40:10.838Z"
   },
   {
    "duration": 38418,
    "start_time": "2021-11-04T14:40:10.865Z"
   },
   {
    "duration": 27,
    "start_time": "2021-11-04T14:40:49.285Z"
   },
   {
    "duration": 26,
    "start_time": "2021-11-04T14:40:49.315Z"
   },
   {
    "duration": 941,
    "start_time": "2021-11-04T14:40:49.344Z"
   },
   {
    "duration": 15,
    "start_time": "2021-11-04T14:40:50.287Z"
   },
   {
    "duration": 24,
    "start_time": "2021-11-04T14:40:50.306Z"
   },
   {
    "duration": 158,
    "start_time": "2021-11-04T14:40:50.333Z"
   },
   {
    "duration": 7,
    "start_time": "2021-11-04T14:40:50.494Z"
   },
   {
    "duration": 183,
    "start_time": "2021-11-04T14:40:50.503Z"
   },
   {
    "duration": 683,
    "start_time": "2021-11-04T14:40:50.688Z"
   },
   {
    "duration": 846,
    "start_time": "2021-11-04T14:40:51.374Z"
   },
   {
    "duration": 24,
    "start_time": "2021-11-04T14:40:52.223Z"
   },
   {
    "duration": 38415,
    "start_time": "2021-11-04T14:40:52.251Z"
   },
   {
    "duration": 22,
    "start_time": "2021-11-04T14:41:30.668Z"
   },
   {
    "duration": 25,
    "start_time": "2021-11-04T14:41:30.701Z"
   },
   {
    "duration": 813,
    "start_time": "2021-11-04T14:41:30.728Z"
   },
   {
    "duration": 7,
    "start_time": "2021-11-04T14:41:31.545Z"
   },
   {
    "duration": 55,
    "start_time": "2021-11-04T14:41:31.555Z"
   },
   {
    "duration": 124,
    "start_time": "2021-11-04T14:41:31.612Z"
   },
   {
    "duration": 5,
    "start_time": "2021-11-04T14:41:31.739Z"
   },
   {
    "duration": 164,
    "start_time": "2021-11-04T14:41:31.746Z"
   },
   {
    "duration": 44,
    "start_time": "2021-11-04T14:41:31.913Z"
   },
   {
    "duration": 741,
    "start_time": "2021-11-04T14:41:31.959Z"
   },
   {
    "duration": 21,
    "start_time": "2021-11-04T14:41:32.703Z"
   },
   {
    "duration": 36508,
    "start_time": "2021-11-04T14:41:32.727Z"
   },
   {
    "duration": 22,
    "start_time": "2021-11-04T14:42:09.238Z"
   },
   {
    "duration": 42,
    "start_time": "2021-11-04T14:42:09.263Z"
   },
   {
    "duration": 814,
    "start_time": "2021-11-04T14:42:09.308Z"
   },
   {
    "duration": 6,
    "start_time": "2021-11-04T14:42:10.132Z"
   },
   {
    "duration": 21,
    "start_time": "2021-11-04T14:42:10.142Z"
   },
   {
    "duration": 156,
    "start_time": "2021-11-04T14:42:10.166Z"
   },
   {
    "duration": 6,
    "start_time": "2021-11-04T14:42:10.324Z"
   },
   {
    "duration": 178,
    "start_time": "2021-11-04T14:42:10.333Z"
   },
   {
    "duration": 5,
    "start_time": "2021-11-04T14:42:10.513Z"
   },
   {
    "duration": 21,
    "start_time": "2021-11-04T14:42:10.521Z"
   },
   {
    "duration": 172,
    "start_time": "2021-11-04T14:42:10.545Z"
   },
   {
    "duration": 5,
    "start_time": "2021-11-04T14:42:10.720Z"
   },
   {
    "duration": 165,
    "start_time": "2021-11-04T14:42:10.734Z"
   },
   {
    "duration": 5,
    "start_time": "2021-11-04T14:42:10.903Z"
   },
   {
    "duration": 9,
    "start_time": "2021-11-04T14:42:10.911Z"
   },
   {
    "duration": 40,
    "start_time": "2021-11-04T14:42:10.922Z"
   },
   {
    "duration": 370,
    "start_time": "2021-11-04T14:42:10.965Z"
   },
   {
    "duration": 18,
    "start_time": "2021-11-04T14:42:11.338Z"
   },
   {
    "duration": 19,
    "start_time": "2021-11-04T14:42:11.358Z"
   },
   {
    "duration": 13,
    "start_time": "2021-11-04T14:42:11.379Z"
   },
   {
    "duration": 831,
    "start_time": "2021-11-04T14:42:11.400Z"
   },
   {
    "duration": 5,
    "start_time": "2021-11-04T14:42:12.234Z"
   },
   {
    "duration": 32,
    "start_time": "2021-11-04T14:42:12.242Z"
   },
   {
    "duration": 44,
    "start_time": "2021-11-04T14:42:12.277Z"
   },
   {
    "duration": 884,
    "start_time": "2021-11-04T14:42:12.323Z"
   },
   {
    "duration": 6,
    "start_time": "2021-11-04T14:42:13.210Z"
   },
   {
    "duration": 47,
    "start_time": "2021-11-04T14:42:13.218Z"
   },
   {
    "duration": 5,
    "start_time": "2021-11-04T14:42:13.267Z"
   },
   {
    "duration": 5,
    "start_time": "2021-11-04T14:42:13.302Z"
   },
   {
    "duration": 42,
    "start_time": "2021-11-04T14:42:13.309Z"
   },
   {
    "duration": 6,
    "start_time": "2021-11-04T14:42:13.353Z"
   },
   {
    "duration": 41,
    "start_time": "2021-11-04T14:42:13.362Z"
   },
   {
    "duration": 23,
    "start_time": "2021-11-04T14:42:13.406Z"
   },
   {
    "duration": 98,
    "start_time": "2021-11-04T14:42:13.431Z"
   },
   {
    "duration": 10,
    "start_time": "2021-11-04T14:42:13.533Z"
   },
   {
    "duration": 36,
    "start_time": "2021-11-04T14:42:13.546Z"
   },
   {
    "duration": 88,
    "start_time": "2021-11-04T14:42:13.584Z"
   },
   {
    "duration": 27,
    "start_time": "2021-11-04T14:42:13.675Z"
   },
   {
    "duration": 32,
    "start_time": "2021-11-04T14:42:13.705Z"
   },
   {
    "duration": 6,
    "start_time": "2021-11-04T14:42:13.741Z"
   },
   {
    "duration": 20,
    "start_time": "2021-11-04T14:42:13.749Z"
   },
   {
    "duration": 30,
    "start_time": "2021-11-04T14:42:13.772Z"
   },
   {
    "duration": 3,
    "start_time": "2021-11-04T14:42:13.804Z"
   },
   {
    "duration": 985,
    "start_time": "2021-11-04T14:42:13.810Z"
   },
   {
    "duration": 7,
    "start_time": "2021-11-04T14:42:14.800Z"
   },
   {
    "duration": 7,
    "start_time": "2021-11-04T14:42:14.809Z"
   },
   {
    "duration": 93,
    "start_time": "2021-11-04T14:42:14.819Z"
   },
   {
    "duration": 12,
    "start_time": "2021-11-04T14:42:14.915Z"
   },
   {
    "duration": 9,
    "start_time": "2021-11-04T14:42:14.930Z"
   },
   {
    "duration": 2860,
    "start_time": "2021-11-04T14:42:14.941Z"
   },
   {
    "duration": 90,
    "start_time": "2021-11-04T14:42:17.812Z"
   },
   {
    "duration": 208896,
    "start_time": "2021-11-04T14:42:17.906Z"
   },
   {
    "duration": 5,
    "start_time": "2021-11-04T14:45:46.806Z"
   },
   {
    "duration": 288096,
    "start_time": "2021-11-04T14:45:46.814Z"
   },
   {
    "duration": 6,
    "start_time": "2021-11-04T14:50:34.913Z"
   },
   {
    "duration": 2237383,
    "start_time": "2021-11-04T14:50:34.922Z"
   },
   {
    "duration": 373,
    "start_time": "2021-11-04T15:27:52.308Z"
   },
   {
    "duration": 478708,
    "start_time": "2021-11-04T15:27:54.006Z"
   },
   {
    "duration": 371,
    "start_time": "2021-11-04T15:35:52.717Z"
   },
   {
    "duration": 398,
    "start_time": "2021-11-04T15:35:52.692Z"
   },
   {
    "duration": 18384,
    "start_time": "2021-11-04T15:36:03.381Z"
   },
   {
    "duration": 364,
    "start_time": "2021-11-04T15:36:21.768Z"
   },
   {
    "duration": 2485479,
    "start_time": "2021-11-04T15:37:01.027Z"
   },
   {
    "duration": 6,
    "start_time": "2021-11-04T16:18:26.509Z"
   },
   {
    "duration": 21,
    "start_time": "2021-11-04T16:18:26.518Z"
   },
   {
    "duration": 582,
    "start_time": "2021-11-04T16:18:26.542Z"
   },
   {
    "duration": 503,
    "start_time": "2021-11-04T16:18:26.624Z"
   },
   {
    "duration": 395,
    "start_time": "2021-11-04T16:35:23.400Z"
   },
   {
    "duration": 7,
    "start_time": "2021-11-04T16:35:40.310Z"
   },
   {
    "duration": 14,
    "start_time": "2021-11-04T16:35:46.580Z"
   },
   {
    "duration": 1680,
    "start_time": "2021-11-04T16:37:45.994Z"
   },
   {
    "duration": 5,
    "start_time": "2021-11-04T16:37:47.677Z"
   },
   {
    "duration": 1193,
    "start_time": "2021-11-04T16:37:47.685Z"
   },
   {
    "duration": 32,
    "start_time": "2021-11-04T16:37:48.880Z"
   },
   {
    "duration": 187,
    "start_time": "2021-11-04T16:37:48.915Z"
   },
   {
    "duration": 137,
    "start_time": "2021-11-04T16:37:49.104Z"
   },
   {
    "duration": 629,
    "start_time": "2021-11-04T16:37:49.243Z"
   },
   {
    "duration": 6,
    "start_time": "2021-11-04T16:37:49.876Z"
   },
   {
    "duration": 692,
    "start_time": "2021-11-04T16:37:49.885Z"
   },
   {
    "duration": 5,
    "start_time": "2021-11-04T16:37:50.580Z"
   },
   {
    "duration": 177,
    "start_time": "2021-11-04T16:37:50.588Z"
   },
   {
    "duration": 132,
    "start_time": "2021-11-04T16:37:50.768Z"
   },
   {
    "duration": 205,
    "start_time": "2021-11-04T16:37:50.902Z"
   },
   {
    "duration": 661,
    "start_time": "2021-11-04T16:37:51.109Z"
   },
   {
    "duration": 31,
    "start_time": "2021-11-04T16:37:51.772Z"
   },
   {
    "duration": 5,
    "start_time": "2021-11-04T16:37:51.805Z"
   },
   {
    "duration": 148,
    "start_time": "2021-11-04T16:37:51.813Z"
   },
   {
    "duration": 5,
    "start_time": "2021-11-04T16:37:51.964Z"
   },
   {
    "duration": 621,
    "start_time": "2021-11-04T16:37:51.971Z"
   },
   {
    "duration": 155,
    "start_time": "2021-11-04T16:37:52.594Z"
   },
   {
    "duration": 733,
    "start_time": "2021-11-04T16:37:52.751Z"
   },
   {
    "duration": 734,
    "start_time": "2021-11-04T16:37:53.488Z"
   },
   {
    "duration": 106,
    "start_time": "2021-11-04T16:37:54.230Z"
   },
   {
    "duration": 644,
    "start_time": "2021-11-04T16:37:54.342Z"
   },
   {
    "duration": 619,
    "start_time": "2021-11-04T16:37:54.989Z"
   },
   {
    "duration": 668,
    "start_time": "2021-11-04T16:37:55.612Z"
   },
   {
    "duration": 123,
    "start_time": "2021-11-04T16:37:56.282Z"
   },
   {
    "duration": 666,
    "start_time": "2021-11-04T16:37:56.408Z"
   },
   {
    "duration": 172,
    "start_time": "2021-11-04T16:37:57.076Z"
   },
   {
    "duration": 23,
    "start_time": "2021-11-04T16:37:57.250Z"
   },
   {
    "duration": 61,
    "start_time": "2021-11-04T16:37:57.275Z"
   },
   {
    "duration": 352,
    "start_time": "2021-11-04T16:37:57.339Z"
   },
   {
    "duration": 385,
    "start_time": "2021-11-04T16:37:57.701Z"
   },
   {
    "duration": 44,
    "start_time": "2021-11-04T16:37:58.089Z"
   },
   {
    "duration": 367,
    "start_time": "2021-11-04T16:37:58.136Z"
   },
   {
    "duration": 21,
    "start_time": "2021-11-04T16:37:58.505Z"
   },
   {
    "duration": 174,
    "start_time": "2021-11-04T16:37:58.529Z"
   },
   {
    "duration": 907,
    "start_time": "2021-11-04T16:37:58.706Z"
   },
   {
    "duration": 21,
    "start_time": "2021-11-04T16:37:59.616Z"
   },
   {
    "duration": 37706,
    "start_time": "2021-11-04T16:37:59.639Z"
   },
   {
    "duration": 21,
    "start_time": "2021-11-04T16:38:37.347Z"
   },
   {
    "duration": 37,
    "start_time": "2021-11-04T16:38:37.371Z"
   },
   {
    "duration": 936,
    "start_time": "2021-11-04T16:38:37.411Z"
   },
   {
    "duration": 5,
    "start_time": "2021-11-04T16:38:38.350Z"
   },
   {
    "duration": 46,
    "start_time": "2021-11-04T16:38:38.358Z"
   },
   {
    "duration": 141,
    "start_time": "2021-11-04T16:38:38.407Z"
   },
   {
    "duration": 5,
    "start_time": "2021-11-04T16:38:38.553Z"
   },
   {
    "duration": 171,
    "start_time": "2021-11-04T16:38:38.560Z"
   },
   {
    "duration": 676,
    "start_time": "2021-11-04T16:38:38.733Z"
   },
   {
    "duration": 810,
    "start_time": "2021-11-04T16:38:39.413Z"
   },
   {
    "duration": 23,
    "start_time": "2021-11-04T16:38:40.226Z"
   },
   {
    "duration": 35919,
    "start_time": "2021-11-04T16:38:40.251Z"
   },
   {
    "duration": 29,
    "start_time": "2021-11-04T16:39:16.173Z"
   },
   {
    "duration": 22,
    "start_time": "2021-11-04T16:39:16.204Z"
   },
   {
    "duration": 824,
    "start_time": "2021-11-04T16:39:16.228Z"
   },
   {
    "duration": 5,
    "start_time": "2021-11-04T16:39:17.055Z"
   },
   {
    "duration": 44,
    "start_time": "2021-11-04T16:39:17.063Z"
   },
   {
    "duration": 125,
    "start_time": "2021-11-04T16:39:17.110Z"
   },
   {
    "duration": 6,
    "start_time": "2021-11-04T16:39:17.238Z"
   },
   {
    "duration": 176,
    "start_time": "2021-11-04T16:39:17.247Z"
   },
   {
    "duration": 44,
    "start_time": "2021-11-04T16:39:17.425Z"
   },
   {
    "duration": 743,
    "start_time": "2021-11-04T16:39:17.472Z"
   },
   {
    "duration": 21,
    "start_time": "2021-11-04T16:39:18.217Z"
   },
   {
    "duration": 35002,
    "start_time": "2021-11-04T16:39:18.241Z"
   },
   {
    "duration": 21,
    "start_time": "2021-11-04T16:39:53.245Z"
   },
   {
    "duration": 44,
    "start_time": "2021-11-04T16:39:53.269Z"
   },
   {
    "duration": 751,
    "start_time": "2021-11-04T16:39:53.316Z"
   },
   {
    "duration": 5,
    "start_time": "2021-11-04T16:39:54.079Z"
   },
   {
    "duration": 21,
    "start_time": "2021-11-04T16:39:54.104Z"
   },
   {
    "duration": 148,
    "start_time": "2021-11-04T16:39:54.128Z"
   },
   {
    "duration": 4,
    "start_time": "2021-11-04T16:39:54.279Z"
   },
   {
    "duration": 179,
    "start_time": "2021-11-04T16:39:54.285Z"
   },
   {
    "duration": 6,
    "start_time": "2021-11-04T16:39:54.466Z"
   },
   {
    "duration": 43,
    "start_time": "2021-11-04T16:39:54.474Z"
   },
   {
    "duration": 159,
    "start_time": "2021-11-04T16:39:54.521Z"
   },
   {
    "duration": 17,
    "start_time": "2021-11-04T16:39:54.683Z"
   },
   {
    "duration": 154,
    "start_time": "2021-11-04T16:39:54.702Z"
   },
   {
    "duration": 5,
    "start_time": "2021-11-04T16:39:54.858Z"
   },
   {
    "duration": 10,
    "start_time": "2021-11-04T16:39:54.865Z"
   },
   {
    "duration": 28,
    "start_time": "2021-11-04T16:39:54.901Z"
   },
   {
    "duration": 342,
    "start_time": "2021-11-04T16:39:54.932Z"
   },
   {
    "duration": 32,
    "start_time": "2021-11-04T16:39:55.277Z"
   },
   {
    "duration": 4,
    "start_time": "2021-11-04T16:39:55.311Z"
   },
   {
    "duration": 8,
    "start_time": "2021-11-04T16:39:55.317Z"
   },
   {
    "duration": 796,
    "start_time": "2021-11-04T16:39:55.328Z"
   },
   {
    "duration": 6,
    "start_time": "2021-11-04T16:39:56.127Z"
   },
   {
    "duration": 40,
    "start_time": "2021-11-04T16:39:56.135Z"
   },
   {
    "duration": 40,
    "start_time": "2021-11-04T16:39:56.177Z"
   },
   {
    "duration": 784,
    "start_time": "2021-11-04T16:39:56.220Z"
   },
   {
    "duration": 5,
    "start_time": "2021-11-04T16:39:57.007Z"
   },
   {
    "duration": 44,
    "start_time": "2021-11-04T16:39:57.014Z"
   },
   {
    "duration": 5,
    "start_time": "2021-11-04T16:39:57.060Z"
   },
   {
    "duration": 36,
    "start_time": "2021-11-04T16:39:57.067Z"
   },
   {
    "duration": 37,
    "start_time": "2021-11-04T16:39:57.106Z"
   },
   {
    "duration": 5,
    "start_time": "2021-11-04T16:39:57.146Z"
   },
   {
    "duration": 14,
    "start_time": "2021-11-04T16:39:57.153Z"
   },
   {
    "duration": 48,
    "start_time": "2021-11-04T16:39:57.169Z"
   },
   {
    "duration": 56,
    "start_time": "2021-11-04T16:39:57.219Z"
   },
   {
    "duration": 6,
    "start_time": "2021-11-04T16:39:57.278Z"
   },
   {
    "duration": 30,
    "start_time": "2021-11-04T16:39:57.301Z"
   },
   {
    "duration": 49,
    "start_time": "2021-11-04T16:39:57.334Z"
   },
   {
    "duration": 21,
    "start_time": "2021-11-04T16:39:57.385Z"
   },
   {
    "duration": 34,
    "start_time": "2021-11-04T16:39:57.408Z"
   },
   {
    "duration": 5,
    "start_time": "2021-11-04T16:39:57.445Z"
   },
   {
    "duration": 9,
    "start_time": "2021-11-04T16:39:57.452Z"
   },
   {
    "duration": 38,
    "start_time": "2021-11-04T16:39:57.464Z"
   },
   {
    "duration": 6,
    "start_time": "2021-11-04T16:39:57.504Z"
   },
   {
    "duration": 878,
    "start_time": "2021-11-04T16:39:57.513Z"
   },
   {
    "duration": 10,
    "start_time": "2021-11-04T16:39:58.394Z"
   },
   {
    "duration": 15,
    "start_time": "2021-11-04T16:39:58.406Z"
   },
   {
    "duration": 81,
    "start_time": "2021-11-04T16:39:58.423Z"
   },
   {
    "duration": 11,
    "start_time": "2021-11-04T16:39:58.507Z"
   },
   {
    "duration": 17,
    "start_time": "2021-11-04T16:39:58.520Z"
   },
   {
    "duration": 2868,
    "start_time": "2021-11-04T16:39:58.539Z"
   },
   {
    "duration": 4,
    "start_time": "2021-11-04T16:40:01.501Z"
   },
   {
    "duration": 165708,
    "start_time": "2021-11-04T16:40:01.508Z"
   },
   {
    "duration": 5,
    "start_time": "2021-11-04T16:42:47.219Z"
   },
   {
    "duration": 266564,
    "start_time": "2021-11-04T16:42:47.227Z"
   },
   {
    "duration": 7,
    "start_time": "2021-11-04T16:47:13.801Z"
   },
   {
    "duration": 505100,
    "start_time": "2021-11-04T16:47:13.811Z"
   },
   {
    "duration": 4,
    "start_time": "2021-11-04T16:55:38.914Z"
   },
   {
    "duration": 25,
    "start_time": "2021-11-04T16:55:38.920Z"
   },
   {
    "duration": 56,
    "start_time": "2021-11-04T16:55:38.947Z"
   },
   {
    "duration": 614,
    "start_time": "2021-11-04T16:55:39.006Z"
   },
   {
    "duration": 6,
    "start_time": "2021-11-04T16:58:11.359Z"
   },
   {
    "duration": 538,
    "start_time": "2021-11-04T16:59:14.130Z"
   },
   {
    "duration": 698,
    "start_time": "2021-11-04T16:59:26.805Z"
   },
   {
    "duration": 603,
    "start_time": "2021-11-04T17:00:24.829Z"
   },
   {
    "duration": 599,
    "start_time": "2021-11-04T17:00:35.194Z"
   },
   {
    "duration": 636,
    "start_time": "2021-11-04T17:02:36.522Z"
   },
   {
    "duration": 643,
    "start_time": "2021-11-04T17:02:42.512Z"
   },
   {
    "duration": 771,
    "start_time": "2021-11-04T17:02:48.455Z"
   },
   {
    "duration": 303,
    "start_time": "2021-11-04T17:03:03.276Z"
   },
   {
    "duration": 640,
    "start_time": "2021-11-04T17:03:41.713Z"
   },
   {
    "duration": 255,
    "start_time": "2021-11-05T15:33:03.598Z"
   },
   {
    "duration": 1562,
    "start_time": "2021-11-05T15:33:14.202Z"
   },
   {
    "duration": 4,
    "start_time": "2021-11-05T15:33:15.767Z"
   },
   {
    "duration": 6322,
    "start_time": "2021-11-05T15:33:15.773Z"
   },
   {
    "duration": 23,
    "start_time": "2021-11-05T15:33:22.098Z"
   },
   {
    "duration": 172,
    "start_time": "2021-11-05T15:33:22.123Z"
   },
   {
    "duration": 131,
    "start_time": "2021-11-05T15:33:22.297Z"
   },
   {
    "duration": 604,
    "start_time": "2021-11-05T15:33:22.430Z"
   },
   {
    "duration": 5,
    "start_time": "2021-11-05T15:33:23.038Z"
   },
   {
    "duration": 644,
    "start_time": "2021-11-05T15:33:23.045Z"
   },
   {
    "duration": 5,
    "start_time": "2021-11-05T15:33:23.691Z"
   },
   {
    "duration": 169,
    "start_time": "2021-11-05T15:33:23.699Z"
   },
   {
    "duration": 133,
    "start_time": "2021-11-05T15:33:23.872Z"
   },
   {
    "duration": 182,
    "start_time": "2021-11-05T15:33:24.008Z"
   },
   {
    "duration": 638,
    "start_time": "2021-11-05T15:33:24.193Z"
   },
   {
    "duration": 16,
    "start_time": "2021-11-05T15:33:24.834Z"
   },
   {
    "duration": 5,
    "start_time": "2021-11-05T15:33:24.852Z"
   },
   {
    "duration": 123,
    "start_time": "2021-11-05T15:33:24.882Z"
   },
   {
    "duration": 5,
    "start_time": "2021-11-05T15:33:25.007Z"
   },
   {
    "duration": 592,
    "start_time": "2021-11-05T15:33:25.014Z"
   },
   {
    "duration": 143,
    "start_time": "2021-11-05T15:33:25.608Z"
   },
   {
    "duration": 579,
    "start_time": "2021-11-05T15:33:25.754Z"
   },
   {
    "duration": 664,
    "start_time": "2021-11-05T15:33:26.335Z"
   },
   {
    "duration": 97,
    "start_time": "2021-11-05T15:33:27.007Z"
   },
   {
    "duration": 591,
    "start_time": "2021-11-05T15:33:27.108Z"
   },
   {
    "duration": 592,
    "start_time": "2021-11-05T15:33:27.701Z"
   },
   {
    "duration": 617,
    "start_time": "2021-11-05T15:33:28.295Z"
   },
   {
    "duration": 119,
    "start_time": "2021-11-05T15:33:28.914Z"
   },
   {
    "duration": 721,
    "start_time": "2021-11-05T15:33:29.036Z"
   },
   {
    "duration": 165,
    "start_time": "2021-11-05T15:33:29.760Z"
   },
   {
    "duration": 22,
    "start_time": "2021-11-05T15:33:29.927Z"
   },
   {
    "duration": 59,
    "start_time": "2021-11-05T15:33:29.952Z"
   },
   {
    "duration": 432,
    "start_time": "2021-11-05T15:33:30.013Z"
   },
   {
    "duration": 364,
    "start_time": "2021-11-05T15:33:30.448Z"
   },
   {
    "duration": 42,
    "start_time": "2021-11-05T15:33:30.815Z"
   },
   {
    "duration": 335,
    "start_time": "2021-11-05T15:33:30.859Z"
   },
   {
    "duration": 21,
    "start_time": "2021-11-05T15:33:31.196Z"
   },
   {
    "duration": 168,
    "start_time": "2021-11-05T15:33:31.219Z"
   },
   {
    "duration": 896,
    "start_time": "2021-11-05T15:33:31.389Z"
   },
   {
    "duration": 21,
    "start_time": "2021-11-05T15:33:32.287Z"
   },
   {
    "duration": 41448,
    "start_time": "2021-11-05T15:33:32.311Z"
   },
   {
    "duration": 34,
    "start_time": "2021-11-05T15:34:13.762Z"
   },
   {
    "duration": 21,
    "start_time": "2021-11-05T15:34:13.800Z"
   },
   {
    "duration": 916,
    "start_time": "2021-11-05T15:34:13.825Z"
   },
   {
    "duration": 5,
    "start_time": "2021-11-05T15:34:14.744Z"
   },
   {
    "duration": 44,
    "start_time": "2021-11-05T15:34:14.752Z"
   },
   {
    "duration": 135,
    "start_time": "2021-11-05T15:34:14.799Z"
   },
   {
    "duration": 4,
    "start_time": "2021-11-05T15:34:14.937Z"
   },
   {
    "duration": 166,
    "start_time": "2021-11-05T15:34:14.943Z"
   },
   {
    "duration": 698,
    "start_time": "2021-11-05T15:34:15.112Z"
   },
   {
    "duration": 778,
    "start_time": "2021-11-05T15:34:15.813Z"
   },
   {
    "duration": 22,
    "start_time": "2021-11-05T15:34:16.594Z"
   },
   {
    "duration": 34187,
    "start_time": "2021-11-05T15:34:16.619Z"
   },
   {
    "duration": 21,
    "start_time": "2021-11-05T15:34:50.808Z"
   },
   {
    "duration": 20,
    "start_time": "2021-11-05T15:34:50.831Z"
   },
   {
    "duration": 780,
    "start_time": "2021-11-05T15:34:50.853Z"
   },
   {
    "duration": 5,
    "start_time": "2021-11-05T15:34:51.635Z"
   },
   {
    "duration": 42,
    "start_time": "2021-11-05T15:34:51.642Z"
   },
   {
    "duration": 120,
    "start_time": "2021-11-05T15:34:51.687Z"
   },
   {
    "duration": 6,
    "start_time": "2021-11-05T15:34:51.810Z"
   },
   {
    "duration": 165,
    "start_time": "2021-11-05T15:34:51.818Z"
   },
   {
    "duration": 42,
    "start_time": "2021-11-05T15:34:51.985Z"
   },
   {
    "duration": 683,
    "start_time": "2021-11-05T15:34:52.030Z"
   },
   {
    "duration": 20,
    "start_time": "2021-11-05T15:34:52.715Z"
   },
   {
    "duration": 32912,
    "start_time": "2021-11-05T15:34:52.737Z"
   },
   {
    "duration": 30,
    "start_time": "2021-11-05T15:35:25.652Z"
   },
   {
    "duration": 21,
    "start_time": "2021-11-05T15:35:25.684Z"
   },
   {
    "duration": 697,
    "start_time": "2021-11-05T15:35:25.707Z"
   },
   {
    "duration": 6,
    "start_time": "2021-11-05T15:35:26.413Z"
   },
   {
    "duration": 21,
    "start_time": "2021-11-05T15:35:26.422Z"
   },
   {
    "duration": 153,
    "start_time": "2021-11-05T15:35:26.445Z"
   },
   {
    "duration": 6,
    "start_time": "2021-11-05T15:35:26.600Z"
   },
   {
    "duration": 154,
    "start_time": "2021-11-05T15:35:26.608Z"
   },
   {
    "duration": 16,
    "start_time": "2021-11-05T15:35:26.765Z"
   },
   {
    "duration": 20,
    "start_time": "2021-11-05T15:35:26.784Z"
   },
   {
    "duration": 150,
    "start_time": "2021-11-05T15:35:26.807Z"
   },
   {
    "duration": 6,
    "start_time": "2021-11-05T15:35:26.959Z"
   },
   {
    "duration": 159,
    "start_time": "2021-11-05T15:35:26.967Z"
   },
   {
    "duration": 4,
    "start_time": "2021-11-05T15:35:27.129Z"
   },
   {
    "duration": 10,
    "start_time": "2021-11-05T15:35:27.135Z"
   },
   {
    "duration": 49,
    "start_time": "2021-11-05T15:35:27.147Z"
   },
   {
    "duration": 320,
    "start_time": "2021-11-05T15:35:27.199Z"
   },
   {
    "duration": 19,
    "start_time": "2021-11-05T15:35:27.522Z"
   },
   {
    "duration": 738,
    "start_time": "2021-11-05T15:35:27.544Z"
   },
   {
    "duration": 6,
    "start_time": "2021-11-05T15:35:28.285Z"
   },
   {
    "duration": 27,
    "start_time": "2021-11-05T15:35:28.294Z"
   },
   {
    "duration": 65,
    "start_time": "2021-11-05T15:35:28.324Z"
   },
   {
    "duration": 728,
    "start_time": "2021-11-05T15:35:28.391Z"
   },
   {
    "duration": 6,
    "start_time": "2021-11-05T15:35:29.122Z"
   },
   {
    "duration": 67,
    "start_time": "2021-11-05T15:35:29.131Z"
   },
   {
    "duration": 6,
    "start_time": "2021-11-05T15:35:29.200Z"
   },
   {
    "duration": 7,
    "start_time": "2021-11-05T15:35:29.209Z"
   },
   {
    "duration": 65,
    "start_time": "2021-11-05T15:35:29.220Z"
   },
   {
    "duration": 6,
    "start_time": "2021-11-05T15:35:29.287Z"
   },
   {
    "duration": 9,
    "start_time": "2021-11-05T15:35:29.296Z"
   },
   {
    "duration": 24,
    "start_time": "2021-11-05T15:35:29.307Z"
   },
   {
    "duration": 98,
    "start_time": "2021-11-05T15:35:29.333Z"
   },
   {
    "duration": 6,
    "start_time": "2021-11-05T15:35:29.434Z"
   },
   {
    "duration": 39,
    "start_time": "2021-11-05T15:35:29.443Z"
   },
   {
    "duration": 45,
    "start_time": "2021-11-05T15:35:29.484Z"
   },
   {
    "duration": 8,
    "start_time": "2021-11-05T15:35:29.531Z"
   },
   {
    "duration": 53,
    "start_time": "2021-11-05T15:35:29.541Z"
   },
   {
    "duration": 6,
    "start_time": "2021-11-05T15:35:29.596Z"
   },
   {
    "duration": 10,
    "start_time": "2021-11-05T15:35:29.605Z"
   },
   {
    "duration": 6,
    "start_time": "2021-11-05T15:35:29.617Z"
   },
   {
    "duration": 6,
    "start_time": "2021-11-05T15:35:29.626Z"
   },
   {
    "duration": 864,
    "start_time": "2021-11-05T15:35:29.635Z"
   },
   {
    "duration": 5,
    "start_time": "2021-11-05T15:35:30.501Z"
   },
   {
    "duration": 22,
    "start_time": "2021-11-05T15:35:30.508Z"
   },
   {
    "duration": 67,
    "start_time": "2021-11-05T15:35:30.532Z"
   },
   {
    "duration": 11,
    "start_time": "2021-11-05T15:35:30.602Z"
   },
   {
    "duration": 19,
    "start_time": "2021-11-05T15:35:30.616Z"
   },
   {
    "duration": 2856,
    "start_time": "2021-11-05T15:35:30.637Z"
   },
   {
    "duration": 6,
    "start_time": "2021-11-05T15:35:33.581Z"
   },
   {
    "duration": 113,
    "start_time": "2021-11-05T15:35:46.774Z"
   },
   {
    "duration": 7,
    "start_time": "2021-11-05T15:35:50.654Z"
   },
   {
    "duration": 139496,
    "start_time": "2021-11-05T15:36:56.205Z"
   },
   {
    "duration": 5,
    "start_time": "2021-11-05T15:39:15.704Z"
   },
   {
    "duration": 202,
    "start_time": "2021-11-05T15:39:15.783Z"
   },
   {
    "duration": 98,
    "start_time": "2021-11-05T15:39:15.989Z"
   },
   {
    "duration": 97,
    "start_time": "2021-11-05T15:40:08.794Z"
   },
   {
    "duration": 7,
    "start_time": "2021-11-05T15:40:12.257Z"
   },
   {
    "duration": 256407,
    "start_time": "2021-11-05T15:40:59.688Z"
   },
   {
    "duration": 7,
    "start_time": "2021-11-05T15:45:16.098Z"
   },
   {
    "duration": 380,
    "start_time": "2021-11-05T15:45:16.108Z"
   },
   {
    "duration": 191,
    "start_time": "2021-11-05T15:45:16.491Z"
   },
   {
    "duration": 394718,
    "start_time": "2021-11-05T15:45:16.687Z"
   },
   {
    "duration": 4,
    "start_time": "2021-11-05T15:51:51.407Z"
   },
   {
    "duration": 272,
    "start_time": "2021-11-05T15:51:51.414Z"
   },
   {
    "duration": 99,
    "start_time": "2021-11-05T15:51:51.691Z"
   },
   {
    "duration": 188,
    "start_time": "2021-11-05T15:51:51.794Z"
   },
   {
    "duration": 7,
    "start_time": "2021-11-05T15:51:51.985Z"
   },
   {
    "duration": 10,
    "start_time": "2021-11-05T15:51:51.994Z"
   },
   {
    "duration": 35,
    "start_time": "2021-11-05T16:06:41.063Z"
   },
   {
    "duration": 18,
    "start_time": "2021-11-05T16:07:48.186Z"
   },
   {
    "duration": 16,
    "start_time": "2021-11-05T16:07:57.044Z"
   },
   {
    "duration": 16,
    "start_time": "2021-11-05T16:08:10.514Z"
   },
   {
    "duration": 17,
    "start_time": "2021-11-05T16:08:31.052Z"
   },
   {
    "duration": 24,
    "start_time": "2021-11-05T16:08:50.112Z"
   },
   {
    "duration": 6,
    "start_time": "2021-11-05T16:09:30.551Z"
   },
   {
    "duration": 26,
    "start_time": "2021-11-05T16:09:32.807Z"
   },
   {
    "duration": 5,
    "start_time": "2021-11-05T16:09:33.769Z"
   },
   {
    "duration": 7936,
    "start_time": "2021-11-05T16:14:08.145Z"
   },
   {
    "duration": 6,
    "start_time": "2021-11-05T16:14:42.962Z"
   },
   {
    "duration": 6,
    "start_time": "2021-11-05T16:14:42.972Z"
   },
   {
    "duration": 1034,
    "start_time": "2021-11-05T16:14:42.983Z"
   },
   {
    "duration": 19,
    "start_time": "2021-11-05T16:14:44.020Z"
   },
   {
    "duration": 180,
    "start_time": "2021-11-05T16:14:44.043Z"
   },
   {
    "duration": 131,
    "start_time": "2021-11-05T16:14:44.227Z"
   },
   {
    "duration": 552,
    "start_time": "2021-11-05T16:14:44.360Z"
   },
   {
    "duration": 6,
    "start_time": "2021-11-05T16:14:44.914Z"
   },
   {
    "duration": 634,
    "start_time": "2021-11-05T16:14:44.922Z"
   },
   {
    "duration": 5,
    "start_time": "2021-11-05T16:14:45.560Z"
   },
   {
    "duration": 158,
    "start_time": "2021-11-05T16:14:45.582Z"
   },
   {
    "duration": 132,
    "start_time": "2021-11-05T16:14:45.742Z"
   },
   {
    "duration": 182,
    "start_time": "2021-11-05T16:14:45.876Z"
   },
   {
    "duration": 700,
    "start_time": "2021-11-05T16:14:46.060Z"
   },
   {
    "duration": 26,
    "start_time": "2021-11-05T16:14:46.762Z"
   },
   {
    "duration": 5,
    "start_time": "2021-11-05T16:14:46.790Z"
   },
   {
    "duration": 134,
    "start_time": "2021-11-05T16:14:46.797Z"
   },
   {
    "duration": 5,
    "start_time": "2021-11-05T16:14:46.933Z"
   },
   {
    "duration": 25,
    "start_time": "2021-11-05T16:14:50.366Z"
   },
   {
    "duration": 702,
    "start_time": "2021-11-05T16:18:27.815Z"
   },
   {
    "duration": 133,
    "start_time": "2021-11-05T16:18:30.282Z"
   },
   {
    "duration": 624,
    "start_time": "2021-11-05T16:18:30.818Z"
   },
   {
    "duration": 6,
    "start_time": "2021-11-05T16:18:42.395Z"
   },
   {
    "duration": 4,
    "start_time": "2021-11-05T16:18:42.407Z"
   },
   {
    "duration": 1159,
    "start_time": "2021-11-05T16:18:42.417Z"
   },
   {
    "duration": 16,
    "start_time": "2021-11-05T16:18:43.579Z"
   },
   {
    "duration": 175,
    "start_time": "2021-11-05T16:18:43.598Z"
   },
   {
    "duration": 123,
    "start_time": "2021-11-05T16:18:43.776Z"
   },
   {
    "duration": 550,
    "start_time": "2021-11-05T16:18:43.901Z"
   },
   {
    "duration": 5,
    "start_time": "2021-11-05T16:18:44.454Z"
   },
   {
    "duration": 613,
    "start_time": "2021-11-05T16:18:44.461Z"
   },
   {
    "duration": 6,
    "start_time": "2021-11-05T16:18:45.078Z"
   },
   {
    "duration": 168,
    "start_time": "2021-11-05T16:18:45.087Z"
   },
   {
    "duration": 126,
    "start_time": "2021-11-05T16:18:45.257Z"
   },
   {
    "duration": 178,
    "start_time": "2021-11-05T16:18:45.386Z"
   },
   {
    "duration": 601,
    "start_time": "2021-11-05T16:18:45.567Z"
   },
   {
    "duration": 26,
    "start_time": "2021-11-05T16:18:46.170Z"
   },
   {
    "duration": 4,
    "start_time": "2021-11-05T16:18:46.199Z"
   },
   {
    "duration": 131,
    "start_time": "2021-11-05T16:18:46.205Z"
   },
   {
    "duration": 5,
    "start_time": "2021-11-05T16:18:46.338Z"
   },
   {
    "duration": 49,
    "start_time": "2021-11-05T16:18:46.347Z"
   },
   {
    "duration": 964,
    "start_time": "2021-11-05T16:18:46.399Z"
   },
   {
    "duration": 209,
    "start_time": "2021-11-05T16:18:47.367Z"
   },
   {
    "duration": 980,
    "start_time": "2021-11-05T16:18:47.579Z"
   },
   {
    "duration": 953,
    "start_time": "2021-11-05T16:18:48.562Z"
   },
   {
    "duration": 94,
    "start_time": "2021-11-05T16:18:49.518Z"
   },
   {
    "duration": 807,
    "start_time": "2021-11-05T16:18:49.616Z"
   },
   {
    "duration": 661,
    "start_time": "2021-11-05T16:18:50.425Z"
   },
   {
    "duration": 637,
    "start_time": "2021-11-05T16:18:51.088Z"
   },
   {
    "duration": 21,
    "start_time": "2021-11-05T16:19:41.352Z"
   },
   {
    "duration": 1709,
    "start_time": "2021-11-05T16:26:11.215Z"
   },
   {
    "duration": 4,
    "start_time": "2021-11-05T16:26:12.927Z"
   },
   {
    "duration": 1195,
    "start_time": "2021-11-05T16:26:12.935Z"
   },
   {
    "duration": 27,
    "start_time": "2021-11-05T16:26:14.133Z"
   },
   {
    "duration": 195,
    "start_time": "2021-11-05T16:26:14.162Z"
   },
   {
    "duration": 142,
    "start_time": "2021-11-05T16:26:14.360Z"
   },
   {
    "duration": 714,
    "start_time": "2021-11-05T16:26:14.504Z"
   },
   {
    "duration": 5,
    "start_time": "2021-11-05T16:26:15.224Z"
   },
   {
    "duration": 748,
    "start_time": "2021-11-05T16:26:15.234Z"
   },
   {
    "duration": 10,
    "start_time": "2021-11-05T16:26:15.985Z"
   },
   {
    "duration": 180,
    "start_time": "2021-11-05T16:26:15.998Z"
   },
   {
    "duration": 149,
    "start_time": "2021-11-05T16:26:16.183Z"
   },
   {
    "duration": 202,
    "start_time": "2021-11-05T16:26:16.335Z"
   },
   {
    "duration": 657,
    "start_time": "2021-11-05T16:26:16.540Z"
   },
   {
    "duration": 19,
    "start_time": "2021-11-05T16:26:17.199Z"
   },
   {
    "duration": 4,
    "start_time": "2021-11-05T16:26:17.221Z"
   },
   {
    "duration": 155,
    "start_time": "2021-11-05T16:26:17.228Z"
   },
   {
    "duration": 5,
    "start_time": "2021-11-05T16:26:17.386Z"
   },
   {
    "duration": 36,
    "start_time": "2021-11-05T16:26:17.394Z"
   },
   {
    "duration": 637,
    "start_time": "2021-11-05T16:26:17.432Z"
   },
   {
    "duration": 144,
    "start_time": "2021-11-05T16:26:18.071Z"
   },
   {
    "duration": 644,
    "start_time": "2021-11-05T16:26:18.218Z"
   },
   {
    "duration": 714,
    "start_time": "2021-11-05T16:26:18.868Z"
   },
   {
    "duration": 101,
    "start_time": "2021-11-05T16:26:19.586Z"
   },
   {
    "duration": 621,
    "start_time": "2021-11-05T16:26:19.690Z"
   },
   {
    "duration": 632,
    "start_time": "2021-11-05T16:26:20.314Z"
   },
   {
    "duration": 670,
    "start_time": "2021-11-05T16:26:20.949Z"
   },
   {
    "duration": 133,
    "start_time": "2021-11-05T16:26:21.622Z"
   },
   {
    "duration": 668,
    "start_time": "2021-11-05T16:26:21.758Z"
   },
   {
    "duration": 179,
    "start_time": "2021-11-05T16:26:22.428Z"
   },
   {
    "duration": 21,
    "start_time": "2021-11-05T16:26:22.610Z"
   },
   {
    "duration": 67,
    "start_time": "2021-11-05T16:26:22.634Z"
   },
   {
    "duration": 352,
    "start_time": "2021-11-05T16:26:22.703Z"
   },
   {
    "duration": 394,
    "start_time": "2021-11-05T16:26:23.058Z"
   },
   {
    "duration": 52,
    "start_time": "2021-11-05T16:26:23.454Z"
   },
   {
    "duration": 439,
    "start_time": "2021-11-05T16:26:23.509Z"
   },
   {
    "duration": 20,
    "start_time": "2021-11-05T16:26:23.951Z"
   },
   {
    "duration": 193,
    "start_time": "2021-11-05T16:26:23.974Z"
   },
   {
    "duration": 853,
    "start_time": "2021-11-05T16:26:24.169Z"
   },
   {
    "duration": 21,
    "start_time": "2021-11-05T16:26:25.024Z"
   },
   {
    "duration": 36515,
    "start_time": "2021-11-05T16:26:25.047Z"
   },
   {
    "duration": 26,
    "start_time": "2021-11-05T16:27:01.565Z"
   },
   {
    "duration": 40,
    "start_time": "2021-11-05T16:27:01.595Z"
   },
   {
    "duration": 912,
    "start_time": "2021-11-05T16:27:01.638Z"
   },
   {
    "duration": 5,
    "start_time": "2021-11-05T16:27:02.553Z"
   },
   {
    "duration": 40,
    "start_time": "2021-11-05T16:27:02.560Z"
   },
   {
    "duration": 144,
    "start_time": "2021-11-05T16:27:02.603Z"
   },
   {
    "duration": 5,
    "start_time": "2021-11-05T16:27:02.749Z"
   },
   {
    "duration": 180,
    "start_time": "2021-11-05T16:27:02.756Z"
   },
   {
    "duration": 632,
    "start_time": "2021-11-05T16:27:02.938Z"
   },
   {
    "duration": 787,
    "start_time": "2021-11-05T16:27:03.572Z"
   },
   {
    "duration": 33,
    "start_time": "2021-11-05T16:27:04.361Z"
   },
   {
    "duration": 36255,
    "start_time": "2021-11-05T16:27:04.399Z"
   },
   {
    "duration": 27,
    "start_time": "2021-11-05T16:27:40.657Z"
   },
   {
    "duration": 25,
    "start_time": "2021-11-05T16:27:40.687Z"
   },
   {
    "duration": 937,
    "start_time": "2021-11-05T16:27:40.714Z"
   },
   {
    "duration": 5,
    "start_time": "2021-11-05T16:27:41.654Z"
   },
   {
    "duration": 39,
    "start_time": "2021-11-05T16:27:41.662Z"
   },
   {
    "duration": 128,
    "start_time": "2021-11-05T16:27:41.704Z"
   },
   {
    "duration": 6,
    "start_time": "2021-11-05T16:27:41.835Z"
   },
   {
    "duration": 193,
    "start_time": "2021-11-05T16:27:41.844Z"
   },
   {
    "duration": 57,
    "start_time": "2021-11-05T16:27:42.040Z"
   },
   {
    "duration": 720,
    "start_time": "2021-11-05T16:27:42.099Z"
   },
   {
    "duration": 19,
    "start_time": "2021-11-05T16:27:42.821Z"
   },
   {
    "duration": 35863,
    "start_time": "2021-11-05T16:27:42.843Z"
   },
   {
    "duration": 19,
    "start_time": "2021-11-05T16:28:18.708Z"
   },
   {
    "duration": 26,
    "start_time": "2021-11-05T16:28:18.730Z"
   },
   {
    "duration": 726,
    "start_time": "2021-11-05T16:28:18.783Z"
   },
   {
    "duration": 5,
    "start_time": "2021-11-05T16:28:19.513Z"
   },
   {
    "duration": 34,
    "start_time": "2021-11-05T16:28:19.520Z"
   },
   {
    "duration": 135,
    "start_time": "2021-11-05T16:28:19.557Z"
   },
   {
    "duration": 5,
    "start_time": "2021-11-05T16:28:19.696Z"
   },
   {
    "duration": 173,
    "start_time": "2021-11-05T16:28:19.703Z"
   },
   {
    "duration": 6,
    "start_time": "2021-11-05T16:28:19.882Z"
   },
   {
    "duration": 29,
    "start_time": "2021-11-05T16:28:19.892Z"
   },
   {
    "duration": 150,
    "start_time": "2021-11-05T16:28:19.923Z"
   },
   {
    "duration": 10,
    "start_time": "2021-11-05T16:28:20.075Z"
   },
   {
    "duration": 167,
    "start_time": "2021-11-05T16:28:20.089Z"
   },
   {
    "duration": 4,
    "start_time": "2021-11-05T16:28:20.259Z"
   },
   {
    "duration": 20,
    "start_time": "2021-11-05T16:28:20.266Z"
   },
   {
    "duration": 31,
    "start_time": "2021-11-05T16:28:20.291Z"
   },
   {
    "duration": 345,
    "start_time": "2021-11-05T16:28:20.325Z"
   },
   {
    "duration": 25,
    "start_time": "2021-11-05T16:28:20.673Z"
   },
   {
    "duration": 746,
    "start_time": "2021-11-05T16:28:20.700Z"
   },
   {
    "duration": 6,
    "start_time": "2021-11-05T16:28:21.448Z"
   },
   {
    "duration": 48,
    "start_time": "2021-11-05T16:28:21.456Z"
   },
   {
    "duration": 23,
    "start_time": "2021-11-05T16:28:21.507Z"
   },
   {
    "duration": 777,
    "start_time": "2021-11-05T16:28:21.532Z"
   },
   {
    "duration": 6,
    "start_time": "2021-11-05T16:28:22.312Z"
   },
   {
    "duration": 61,
    "start_time": "2021-11-05T16:28:22.320Z"
   },
   {
    "duration": 7,
    "start_time": "2021-11-05T16:28:22.384Z"
   },
   {
    "duration": 9,
    "start_time": "2021-11-05T16:28:22.394Z"
   },
   {
    "duration": 36,
    "start_time": "2021-11-05T16:28:22.405Z"
   },
   {
    "duration": 6,
    "start_time": "2021-11-05T16:28:22.443Z"
   },
   {
    "duration": 6,
    "start_time": "2021-11-05T16:28:22.483Z"
   },
   {
    "duration": 27,
    "start_time": "2021-11-05T16:28:22.491Z"
   },
   {
    "duration": 77,
    "start_time": "2021-11-05T16:28:22.520Z"
   },
   {
    "duration": 7,
    "start_time": "2021-11-05T16:28:22.600Z"
   },
   {
    "duration": 22,
    "start_time": "2021-11-05T16:28:22.609Z"
   },
   {
    "duration": 68,
    "start_time": "2021-11-05T16:28:22.634Z"
   },
   {
    "duration": 7,
    "start_time": "2021-11-05T16:28:22.704Z"
   },
   {
    "duration": 26,
    "start_time": "2021-11-05T16:28:22.714Z"
   },
   {
    "duration": 4,
    "start_time": "2021-11-05T16:28:22.743Z"
   },
   {
    "duration": 36,
    "start_time": "2021-11-05T16:28:22.781Z"
   },
   {
    "duration": 6,
    "start_time": "2021-11-05T16:28:22.819Z"
   },
   {
    "duration": 55,
    "start_time": "2021-11-05T16:28:22.827Z"
   },
   {
    "duration": 7,
    "start_time": "2021-11-05T16:28:22.885Z"
   },
   {
    "duration": 8,
    "start_time": "2021-11-05T16:28:22.895Z"
   },
   {
    "duration": 7,
    "start_time": "2021-11-05T16:28:22.906Z"
   },
   {
    "duration": 3,
    "start_time": "2021-11-05T16:28:22.916Z"
   },
   {
    "duration": 869,
    "start_time": "2021-11-05T16:28:22.922Z"
   },
   {
    "duration": 5,
    "start_time": "2021-11-05T16:28:23.794Z"
   },
   {
    "duration": 6,
    "start_time": "2021-11-05T16:28:23.801Z"
   },
   {
    "duration": 88,
    "start_time": "2021-11-05T16:28:23.809Z"
   },
   {
    "duration": 14,
    "start_time": "2021-11-05T16:28:23.899Z"
   },
   {
    "duration": 11,
    "start_time": "2021-11-05T16:28:23.915Z"
   },
   {
    "duration": 2653,
    "start_time": "2021-11-05T16:28:23.928Z"
   },
   {
    "duration": 6,
    "start_time": "2021-11-05T16:28:26.586Z"
   },
   {
    "duration": 214,
    "start_time": "2021-11-05T16:28:26.595Z"
   },
   {
    "duration": 85,
    "start_time": "2021-11-05T16:28:26.811Z"
   },
   {
    "duration": 202397,
    "start_time": "2021-11-05T16:28:26.904Z"
   },
   {
    "duration": 5,
    "start_time": "2021-11-05T16:31:49.303Z"
   },
   {
    "duration": 570,
    "start_time": "2021-11-05T16:31:49.311Z"
   },
   {
    "duration": 120,
    "start_time": "2021-11-05T16:31:49.885Z"
   },
   {
    "duration": 259813,
    "start_time": "2021-11-05T16:31:50.081Z"
   },
   {
    "duration": 7,
    "start_time": "2021-11-05T16:36:09.897Z"
   },
   {
    "duration": 4148,
    "start_time": "2021-11-05T16:36:09.907Z"
   },
   {
    "duration": 104,
    "start_time": "2021-11-05T16:36:14.057Z"
   },
   {
    "duration": 992823,
    "start_time": "2021-11-05T16:36:14.163Z"
   },
   {
    "duration": 7,
    "start_time": "2021-11-05T16:52:46.993Z"
   },
   {
    "duration": 169696,
    "start_time": "2021-11-05T16:52:47.002Z"
   },
   {
    "duration": 2396,
    "start_time": "2021-11-05T16:55:36.701Z"
   },
   {
    "duration": 14,
    "start_time": "2021-11-05T16:55:39.100Z"
   },
   {
    "duration": 5,
    "start_time": "2021-11-05T16:55:39.116Z"
   },
   {
    "duration": 62,
    "start_time": "2021-11-05T16:55:39.124Z"
   },
   {
    "duration": 7,
    "start_time": "2021-11-05T17:05:05.188Z"
   },
   {
    "duration": 1699,
    "start_time": "2021-11-05T17:07:29.443Z"
   },
   {
    "duration": 5,
    "start_time": "2021-11-05T17:07:31.145Z"
   },
   {
    "duration": 1337,
    "start_time": "2021-11-05T17:07:31.154Z"
   },
   {
    "duration": 30,
    "start_time": "2021-11-05T17:07:32.495Z"
   },
   {
    "duration": 201,
    "start_time": "2021-11-05T17:07:32.528Z"
   },
   {
    "duration": 140,
    "start_time": "2021-11-05T17:07:32.731Z"
   },
   {
    "duration": 715,
    "start_time": "2021-11-05T17:07:32.873Z"
   },
   {
    "duration": 7,
    "start_time": "2021-11-05T17:07:33.593Z"
   },
   {
    "duration": 727,
    "start_time": "2021-11-05T17:07:33.603Z"
   },
   {
    "duration": 5,
    "start_time": "2021-11-05T17:07:34.333Z"
   },
   {
    "duration": 177,
    "start_time": "2021-11-05T17:07:34.340Z"
   },
   {
    "duration": 131,
    "start_time": "2021-11-05T17:07:34.519Z"
   },
   {
    "duration": 203,
    "start_time": "2021-11-05T17:07:34.652Z"
   },
   {
    "duration": 713,
    "start_time": "2021-11-05T17:07:34.857Z"
   },
   {
    "duration": -1528,
    "start_time": "2021-11-05T17:07:37.106Z"
   },
   {
    "duration": -1543,
    "start_time": "2021-11-05T17:07:37.122Z"
   },
   {
    "duration": -1560,
    "start_time": "2021-11-05T17:07:37.140Z"
   },
   {
    "duration": -1573,
    "start_time": "2021-11-05T17:07:37.155Z"
   },
   {
    "duration": -1587,
    "start_time": "2021-11-05T17:07:37.172Z"
   },
   {
    "duration": -1672,
    "start_time": "2021-11-05T17:07:37.259Z"
   },
   {
    "duration": -1688,
    "start_time": "2021-11-05T17:07:37.278Z"
   },
   {
    "duration": -1700,
    "start_time": "2021-11-05T17:07:37.293Z"
   },
   {
    "duration": -1715,
    "start_time": "2021-11-05T17:07:37.310Z"
   },
   {
    "duration": -1728,
    "start_time": "2021-11-05T17:07:37.326Z"
   },
   {
    "duration": -1827,
    "start_time": "2021-11-05T17:07:37.427Z"
   },
   {
    "duration": -1843,
    "start_time": "2021-11-05T17:07:37.444Z"
   },
   {
    "duration": -1859,
    "start_time": "2021-11-05T17:07:37.462Z"
   },
   {
    "duration": -1873,
    "start_time": "2021-11-05T17:07:37.477Z"
   },
   {
    "duration": -1889,
    "start_time": "2021-11-05T17:07:37.495Z"
   },
   {
    "duration": -1903,
    "start_time": "2021-11-05T17:07:37.510Z"
   },
   {
    "duration": -1942,
    "start_time": "2021-11-05T17:07:37.551Z"
   },
   {
    "duration": -1957,
    "start_time": "2021-11-05T17:07:37.567Z"
   },
   {
    "duration": -1974,
    "start_time": "2021-11-05T17:07:37.585Z"
   },
   {
    "duration": -1987,
    "start_time": "2021-11-05T17:07:37.600Z"
   },
   {
    "duration": -2004,
    "start_time": "2021-11-05T17:07:37.618Z"
   },
   {
    "duration": -2017,
    "start_time": "2021-11-05T17:07:37.632Z"
   },
   {
    "duration": -2055,
    "start_time": "2021-11-05T17:07:37.672Z"
   },
   {
    "duration": -2069,
    "start_time": "2021-11-05T17:07:37.687Z"
   },
   {
    "duration": -2085,
    "start_time": "2021-11-05T17:07:37.705Z"
   },
   {
    "duration": -2099,
    "start_time": "2021-11-05T17:07:37.720Z"
   },
   {
    "duration": -2113,
    "start_time": "2021-11-05T17:07:37.736Z"
   },
   {
    "duration": -2128,
    "start_time": "2021-11-05T17:07:37.752Z"
   },
   {
    "duration": -2111,
    "start_time": "2021-11-05T17:07:37.797Z"
   },
   {
    "duration": -2126,
    "start_time": "2021-11-05T17:07:37.814Z"
   },
   {
    "duration": -2145,
    "start_time": "2021-11-05T17:07:37.835Z"
   },
   {
    "duration": -2161,
    "start_time": "2021-11-05T17:07:37.853Z"
   },
   {
    "duration": -2182,
    "start_time": "2021-11-05T17:07:37.875Z"
   },
   {
    "duration": -2199,
    "start_time": "2021-11-05T17:07:37.894Z"
   },
   {
    "duration": -2251,
    "start_time": "2021-11-05T17:07:37.947Z"
   },
   {
    "duration": -2265,
    "start_time": "2021-11-05T17:07:37.963Z"
   },
   {
    "duration": -2281,
    "start_time": "2021-11-05T17:07:37.982Z"
   },
   {
    "duration": -2296,
    "start_time": "2021-11-05T17:07:37.998Z"
   },
   {
    "duration": -2312,
    "start_time": "2021-11-05T17:07:38.015Z"
   },
   {
    "duration": -2328,
    "start_time": "2021-11-05T17:07:38.032Z"
   },
   {
    "duration": -2373,
    "start_time": "2021-11-05T17:07:38.078Z"
   },
   {
    "duration": -2388,
    "start_time": "2021-11-05T17:07:38.095Z"
   },
   {
    "duration": -2405,
    "start_time": "2021-11-05T17:07:38.113Z"
   },
   {
    "duration": -2421,
    "start_time": "2021-11-05T17:07:38.130Z"
   },
   {
    "duration": -2439,
    "start_time": "2021-11-05T17:07:38.149Z"
   },
   {
    "duration": -2453,
    "start_time": "2021-11-05T17:07:38.165Z"
   },
   {
    "duration": -2496,
    "start_time": "2021-11-05T17:07:38.209Z"
   },
   {
    "duration": -2513,
    "start_time": "2021-11-05T17:07:38.227Z"
   },
   {
    "duration": -2533,
    "start_time": "2021-11-05T17:07:38.249Z"
   },
   {
    "duration": -2549,
    "start_time": "2021-11-05T17:07:38.266Z"
   },
   {
    "duration": -2566,
    "start_time": "2021-11-05T17:07:38.284Z"
   },
   {
    "duration": -2581,
    "start_time": "2021-11-05T17:07:38.300Z"
   },
   {
    "duration": -2621,
    "start_time": "2021-11-05T17:07:38.342Z"
   },
   {
    "duration": -2637,
    "start_time": "2021-11-05T17:07:38.359Z"
   },
   {
    "duration": -2652,
    "start_time": "2021-11-05T17:07:38.375Z"
   },
   {
    "duration": -2602,
    "start_time": "2021-11-05T17:07:38.390Z"
   },
   {
    "duration": -2618,
    "start_time": "2021-11-05T17:07:38.409Z"
   },
   {
    "duration": -2633,
    "start_time": "2021-11-05T17:07:38.425Z"
   },
   {
    "duration": -2677,
    "start_time": "2021-11-05T17:07:38.471Z"
   },
   {
    "duration": -2691,
    "start_time": "2021-11-05T17:07:38.487Z"
   },
   {
    "duration": -2706,
    "start_time": "2021-11-05T17:07:38.505Z"
   },
   {
    "duration": -2721,
    "start_time": "2021-11-05T17:07:38.522Z"
   },
   {
    "duration": -2737,
    "start_time": "2021-11-05T17:07:38.539Z"
   },
   {
    "duration": -2752,
    "start_time": "2021-11-05T17:07:38.556Z"
   },
   {
    "duration": -2798,
    "start_time": "2021-11-05T17:07:38.603Z"
   },
   {
    "duration": -2813,
    "start_time": "2021-11-05T17:07:38.619Z"
   },
   {
    "duration": -2830,
    "start_time": "2021-11-05T17:07:38.638Z"
   },
   {
    "duration": -2845,
    "start_time": "2021-11-05T17:07:38.654Z"
   },
   {
    "duration": -2861,
    "start_time": "2021-11-05T17:07:38.672Z"
   },
   {
    "duration": -2876,
    "start_time": "2021-11-05T17:07:38.688Z"
   },
   {
    "duration": -2919,
    "start_time": "2021-11-05T17:07:38.733Z"
   },
   {
    "duration": -2936,
    "start_time": "2021-11-05T17:07:38.751Z"
   },
   {
    "duration": -2952,
    "start_time": "2021-11-05T17:07:38.769Z"
   },
   {
    "duration": -2968,
    "start_time": "2021-11-05T17:07:38.786Z"
   },
   {
    "duration": -2985,
    "start_time": "2021-11-05T17:07:38.804Z"
   },
   {
    "duration": -3000,
    "start_time": "2021-11-05T17:07:38.821Z"
   },
   {
    "duration": -3048,
    "start_time": "2021-11-05T17:07:38.870Z"
   },
   {
    "duration": -3218,
    "start_time": "2021-11-05T17:07:39.104Z"
   },
   {
    "duration": -3235,
    "start_time": "2021-11-05T17:07:39.123Z"
   },
   {
    "duration": -3251,
    "start_time": "2021-11-05T17:07:39.141Z"
   },
   {
    "duration": -3269,
    "start_time": "2021-11-05T17:07:39.160Z"
   },
   {
    "duration": -3286,
    "start_time": "2021-11-05T17:07:39.179Z"
   },
   {
    "duration": -3349,
    "start_time": "2021-11-05T17:07:39.246Z"
   },
   {
    "duration": -3368,
    "start_time": "2021-11-05T17:07:39.266Z"
   },
   {
    "duration": -3387,
    "start_time": "2021-11-05T17:07:39.287Z"
   },
   {
    "duration": -3402,
    "start_time": "2021-11-05T17:07:39.303Z"
   },
   {
    "duration": -3419,
    "start_time": "2021-11-05T17:07:39.322Z"
   },
   {
    "duration": -3435,
    "start_time": "2021-11-05T17:07:39.339Z"
   },
   {
    "duration": -3482,
    "start_time": "2021-11-05T17:07:39.387Z"
   },
   {
    "duration": -3496,
    "start_time": "2021-11-05T17:07:39.403Z"
   },
   {
    "duration": -3514,
    "start_time": "2021-11-05T17:07:39.422Z"
   },
   {
    "duration": -3528,
    "start_time": "2021-11-05T17:07:39.438Z"
   },
   {
    "duration": -3547,
    "start_time": "2021-11-05T17:07:39.458Z"
   },
   {
    "duration": -3563,
    "start_time": "2021-11-05T17:07:39.475Z"
   },
   {
    "duration": -3604,
    "start_time": "2021-11-05T17:07:39.518Z"
   },
   {
    "duration": -3619,
    "start_time": "2021-11-05T17:07:39.534Z"
   },
   {
    "duration": -3636,
    "start_time": "2021-11-05T17:07:39.552Z"
   },
   {
    "duration": -3651,
    "start_time": "2021-11-05T17:07:39.569Z"
   },
   {
    "duration": -3668,
    "start_time": "2021-11-05T17:07:39.587Z"
   },
   {
    "duration": -3683,
    "start_time": "2021-11-05T17:07:39.604Z"
   },
   {
    "duration": -3725,
    "start_time": "2021-11-05T17:07:39.648Z"
   },
   {
    "duration": -3741,
    "start_time": "2021-11-05T17:07:39.665Z"
   },
   {
    "duration": -3690,
    "start_time": "2021-11-05T17:07:39.683Z"
   },
   {
    "duration": -3704,
    "start_time": "2021-11-05T17:07:39.699Z"
   },
   {
    "duration": -3718,
    "start_time": "2021-11-05T17:07:39.715Z"
   },
   {
    "duration": -3733,
    "start_time": "2021-11-05T17:07:39.731Z"
   },
   {
    "duration": -3771,
    "start_time": "2021-11-05T17:07:39.771Z"
   },
   {
    "duration": -3786,
    "start_time": "2021-11-05T17:07:39.787Z"
   },
   {
    "duration": -3803,
    "start_time": "2021-11-05T17:07:39.805Z"
   },
   {
    "duration": -3818,
    "start_time": "2021-11-05T17:07:39.821Z"
   },
   {
    "duration": -3834,
    "start_time": "2021-11-05T17:07:39.839Z"
   },
   {
    "duration": -3848,
    "start_time": "2021-11-05T17:07:39.854Z"
   },
   {
    "duration": -3889,
    "start_time": "2021-11-05T17:07:39.896Z"
   },
   {
    "duration": -3941,
    "start_time": "2021-11-05T17:07:39.950Z"
   },
   {
    "duration": -3980,
    "start_time": "2021-11-05T17:07:39.990Z"
   },
   {
    "duration": -4015,
    "start_time": "2021-11-05T17:07:40.026Z"
   },
   {
    "duration": -4031,
    "start_time": "2021-11-05T17:07:40.043Z"
   },
   {
    "duration": -4046,
    "start_time": "2021-11-05T17:07:40.060Z"
   },
   {
    "duration": -4063,
    "start_time": "2021-11-05T17:07:40.078Z"
   },
   {
    "duration": 1751,
    "start_time": "2021-11-05T17:07:56.048Z"
   },
   {
    "duration": 4,
    "start_time": "2021-11-05T17:07:57.802Z"
   },
   {
    "duration": 1175,
    "start_time": "2021-11-05T17:07:57.808Z"
   },
   {
    "duration": 30,
    "start_time": "2021-11-05T17:07:58.986Z"
   },
   {
    "duration": 207,
    "start_time": "2021-11-05T17:07:59.018Z"
   },
   {
    "duration": 129,
    "start_time": "2021-11-05T17:07:59.227Z"
   },
   {
    "duration": 714,
    "start_time": "2021-11-05T17:07:59.358Z"
   },
   {
    "duration": 13,
    "start_time": "2021-11-05T17:08:00.076Z"
   },
   {
    "duration": 763,
    "start_time": "2021-11-05T17:08:00.093Z"
   },
   {
    "duration": 5,
    "start_time": "2021-11-05T17:08:00.859Z"
   },
   {
    "duration": 187,
    "start_time": "2021-11-05T17:08:00.866Z"
   },
   {
    "duration": 131,
    "start_time": "2021-11-05T17:08:01.056Z"
   },
   {
    "duration": 207,
    "start_time": "2021-11-05T17:08:01.190Z"
   },
   {
    "duration": 659,
    "start_time": "2021-11-05T17:08:01.401Z"
   },
   {
    "duration": 35,
    "start_time": "2021-11-05T17:08:02.062Z"
   },
   {
    "duration": 6,
    "start_time": "2021-11-05T17:08:02.099Z"
   },
   {
    "duration": 147,
    "start_time": "2021-11-05T17:08:02.107Z"
   },
   {
    "duration": 5,
    "start_time": "2021-11-05T17:08:02.256Z"
   },
   {
    "duration": 41,
    "start_time": "2021-11-05T17:08:02.263Z"
   },
   {
    "duration": 657,
    "start_time": "2021-11-05T17:08:02.307Z"
   },
   {
    "duration": 157,
    "start_time": "2021-11-05T17:08:02.967Z"
   },
   {
    "duration": 632,
    "start_time": "2021-11-05T17:08:03.127Z"
   },
   {
    "duration": 716,
    "start_time": "2021-11-05T17:08:03.765Z"
   },
   {
    "duration": 109,
    "start_time": "2021-11-05T17:08:04.487Z"
   },
   {
    "duration": 620,
    "start_time": "2021-11-05T17:08:04.599Z"
   },
   {
    "duration": 627,
    "start_time": "2021-11-05T17:08:05.221Z"
   },
   {
    "duration": 679,
    "start_time": "2021-11-05T17:08:05.851Z"
   },
   {
    "duration": 137,
    "start_time": "2021-11-05T17:08:06.532Z"
   },
   {
    "duration": 673,
    "start_time": "2021-11-05T17:08:06.671Z"
   },
   {
    "duration": 180,
    "start_time": "2021-11-05T17:08:07.346Z"
   },
   {
    "duration": 23,
    "start_time": "2021-11-05T17:08:07.528Z"
   },
   {
    "duration": 67,
    "start_time": "2021-11-05T17:08:07.553Z"
   },
   {
    "duration": 360,
    "start_time": "2021-11-05T17:08:07.622Z"
   },
   {
    "duration": 396,
    "start_time": "2021-11-05T17:08:07.986Z"
   },
   {
    "duration": 48,
    "start_time": "2021-11-05T17:08:08.385Z"
   },
   {
    "duration": 446,
    "start_time": "2021-11-05T17:08:08.436Z"
   },
   {
    "duration": 25,
    "start_time": "2021-11-05T17:08:08.885Z"
   },
   {
    "duration": 184,
    "start_time": "2021-11-05T17:08:08.912Z"
   },
   {
    "duration": 845,
    "start_time": "2021-11-05T17:08:09.099Z"
   },
   {
    "duration": 35,
    "start_time": "2021-11-05T17:08:09.947Z"
   },
   {
    "duration": 36986,
    "start_time": "2021-11-05T17:08:09.985Z"
   },
   {
    "duration": 33,
    "start_time": "2021-11-05T17:08:46.973Z"
   },
   {
    "duration": 24,
    "start_time": "2021-11-05T17:08:47.008Z"
   },
   {
    "duration": 957,
    "start_time": "2021-11-05T17:08:47.034Z"
   },
   {
    "duration": 7,
    "start_time": "2021-11-05T17:08:47.994Z"
   },
   {
    "duration": 23,
    "start_time": "2021-11-05T17:08:48.003Z"
   },
   {
    "duration": 161,
    "start_time": "2021-11-05T17:08:48.028Z"
   },
   {
    "duration": 7,
    "start_time": "2021-11-05T17:08:48.192Z"
   },
   {
    "duration": 176,
    "start_time": "2021-11-05T17:08:48.201Z"
   },
   {
    "duration": 655,
    "start_time": "2021-11-05T17:08:48.380Z"
   },
   {
    "duration": 798,
    "start_time": "2021-11-05T17:08:49.038Z"
   },
   {
    "duration": 21,
    "start_time": "2021-11-05T17:08:49.839Z"
   },
   {
    "duration": 35841,
    "start_time": "2021-11-05T17:08:49.863Z"
   },
   {
    "duration": 20,
    "start_time": "2021-11-05T17:09:25.706Z"
   },
   {
    "duration": 28,
    "start_time": "2021-11-05T17:09:25.728Z"
   },
   {
    "duration": 942,
    "start_time": "2021-11-05T17:09:25.758Z"
   },
   {
    "duration": 6,
    "start_time": "2021-11-05T17:09:26.702Z"
   },
   {
    "duration": 23,
    "start_time": "2021-11-05T17:09:26.710Z"
   },
   {
    "duration": 135,
    "start_time": "2021-11-05T17:09:26.736Z"
   },
   {
    "duration": 8,
    "start_time": "2021-11-05T17:09:26.874Z"
   },
   {
    "duration": 173,
    "start_time": "2021-11-05T17:09:26.886Z"
   },
   {
    "duration": 52,
    "start_time": "2021-11-05T17:09:27.062Z"
   },
   {
    "duration": 724,
    "start_time": "2021-11-05T17:09:27.116Z"
   },
   {
    "duration": 20,
    "start_time": "2021-11-05T17:09:27.843Z"
   },
   {
    "duration": 35670,
    "start_time": "2021-11-05T17:09:27.882Z"
   },
   {
    "duration": 30,
    "start_time": "2021-11-05T17:10:03.554Z"
   },
   {
    "duration": 27,
    "start_time": "2021-11-05T17:10:03.588Z"
   },
   {
    "duration": 760,
    "start_time": "2021-11-05T17:10:03.625Z"
   },
   {
    "duration": 7,
    "start_time": "2021-11-05T17:10:04.392Z"
   },
   {
    "duration": 23,
    "start_time": "2021-11-05T17:10:04.402Z"
   },
   {
    "duration": 158,
    "start_time": "2021-11-05T17:10:04.427Z"
   },
   {
    "duration": 7,
    "start_time": "2021-11-05T17:10:04.589Z"
   },
   {
    "duration": 160,
    "start_time": "2021-11-05T17:10:04.599Z"
   },
   {
    "duration": 4,
    "start_time": "2021-11-05T17:10:04.762Z"
   },
   {
    "duration": 37,
    "start_time": "2021-11-05T17:10:04.769Z"
   },
   {
    "duration": 157,
    "start_time": "2021-11-05T17:10:04.809Z"
   },
   {
    "duration": 5,
    "start_time": "2021-11-05T17:10:04.968Z"
   },
   {
    "duration": 166,
    "start_time": "2021-11-05T17:10:04.985Z"
   },
   {
    "duration": 4,
    "start_time": "2021-11-05T17:10:05.154Z"
   },
   {
    "duration": 30,
    "start_time": "2021-11-05T17:10:05.161Z"
   },
   {
    "duration": 29,
    "start_time": "2021-11-05T17:10:05.195Z"
   },
   {
    "duration": 345,
    "start_time": "2021-11-05T17:10:05.226Z"
   },
   {
    "duration": 28,
    "start_time": "2021-11-05T17:10:05.574Z"
   },
   {
    "duration": 759,
    "start_time": "2021-11-05T17:10:05.605Z"
   },
   {
    "duration": 19,
    "start_time": "2021-11-05T17:10:06.367Z"
   },
   {
    "duration": 28,
    "start_time": "2021-11-05T17:10:06.391Z"
   },
   {
    "duration": 27,
    "start_time": "2021-11-05T17:10:06.421Z"
   },
   {
    "duration": 803,
    "start_time": "2021-11-05T17:10:06.450Z"
   },
   {
    "duration": 5,
    "start_time": "2021-11-05T17:10:07.255Z"
   },
   {
    "duration": 58,
    "start_time": "2021-11-05T17:10:07.263Z"
   },
   {
    "duration": 6,
    "start_time": "2021-11-05T17:10:07.323Z"
   },
   {
    "duration": 7,
    "start_time": "2021-11-05T17:10:07.331Z"
   },
   {
    "duration": 68,
    "start_time": "2021-11-05T17:10:07.340Z"
   },
   {
    "duration": 5,
    "start_time": "2021-11-05T17:10:07.411Z"
   },
   {
    "duration": 7,
    "start_time": "2021-11-05T17:10:07.418Z"
   },
   {
    "duration": 25,
    "start_time": "2021-11-05T17:10:07.428Z"
   },
   {
    "duration": 78,
    "start_time": "2021-11-05T17:10:07.455Z"
   },
   {
    "duration": 10,
    "start_time": "2021-11-05T17:10:07.536Z"
   },
   {
    "duration": 49,
    "start_time": "2021-11-05T17:10:07.549Z"
   },
   {
    "duration": 47,
    "start_time": "2021-11-05T17:10:07.601Z"
   },
   {
    "duration": 6,
    "start_time": "2021-11-05T17:10:07.651Z"
   },
   {
    "duration": 58,
    "start_time": "2021-11-05T17:10:07.659Z"
   },
   {
    "duration": 6,
    "start_time": "2021-11-05T17:10:07.719Z"
   },
   {
    "duration": 5,
    "start_time": "2021-11-05T17:10:07.728Z"
   },
   {
    "duration": 54,
    "start_time": "2021-11-05T17:10:07.736Z"
   },
   {
    "duration": 4,
    "start_time": "2021-11-05T17:10:07.794Z"
   },
   {
    "duration": 858,
    "start_time": "2021-11-05T17:10:07.800Z"
   },
   {
    "duration": 5,
    "start_time": "2021-11-05T17:10:08.660Z"
   },
   {
    "duration": 17,
    "start_time": "2021-11-05T17:10:08.667Z"
   },
   {
    "duration": 68,
    "start_time": "2021-11-05T17:10:08.689Z"
   },
   {
    "duration": 23,
    "start_time": "2021-11-05T17:10:08.759Z"
   },
   {
    "duration": 10,
    "start_time": "2021-11-05T17:10:08.786Z"
   },
   {
    "duration": 2700,
    "start_time": "2021-11-05T17:10:08.799Z"
   },
   {
    "duration": 86,
    "start_time": "2021-11-05T17:10:11.502Z"
   },
   {
    "duration": 204,
    "start_time": "2021-11-05T17:10:11.595Z"
   },
   {
    "duration": 82,
    "start_time": "2021-11-05T17:10:11.802Z"
   },
   {
    "duration": 786517,
    "start_time": "2021-11-05T17:10:11.889Z"
   },
   {
    "duration": 6,
    "start_time": "2021-11-05T17:23:18.409Z"
   },
   {
    "duration": 1295,
    "start_time": "2021-11-05T17:23:18.418Z"
   },
   {
    "duration": 109,
    "start_time": "2021-11-05T17:23:19.793Z"
   },
   {
    "duration": 288155,
    "start_time": "2021-11-05T17:23:19.905Z"
   },
   {
    "duration": 5,
    "start_time": "2021-11-05T17:28:08.063Z"
   },
   {
    "duration": 4831,
    "start_time": "2021-11-05T17:28:08.082Z"
   },
   {
    "duration": 102,
    "start_time": "2021-11-05T17:28:12.915Z"
   },
   {
    "duration": 1721,
    "start_time": "2021-11-05T17:35:28.796Z"
   },
   {
    "duration": 4,
    "start_time": "2021-11-05T17:35:30.520Z"
   },
   {
    "duration": 1366,
    "start_time": "2021-11-05T17:35:30.527Z"
   },
   {
    "duration": 28,
    "start_time": "2021-11-05T17:35:31.897Z"
   },
   {
    "duration": 249,
    "start_time": "2021-11-05T17:35:31.928Z"
   },
   {
    "duration": 143,
    "start_time": "2021-11-05T17:35:32.181Z"
   },
   {
    "duration": 776,
    "start_time": "2021-11-05T17:35:32.326Z"
   },
   {
    "duration": 6,
    "start_time": "2021-11-05T17:35:33.106Z"
   },
   {
    "duration": 735,
    "start_time": "2021-11-05T17:35:33.115Z"
   },
   {
    "duration": 5,
    "start_time": "2021-11-05T17:35:33.853Z"
   },
   {
    "duration": 189,
    "start_time": "2021-11-05T17:35:33.860Z"
   },
   {
    "duration": 129,
    "start_time": "2021-11-05T17:35:34.051Z"
   },
   {
    "duration": 206,
    "start_time": "2021-11-05T17:35:34.183Z"
   },
   {
    "duration": 645,
    "start_time": "2021-11-05T17:35:34.393Z"
   },
   {
    "duration": 18,
    "start_time": "2021-11-05T17:35:35.040Z"
   },
   {
    "duration": 24,
    "start_time": "2021-11-05T17:35:35.061Z"
   },
   {
    "duration": 150,
    "start_time": "2021-11-05T17:35:35.087Z"
   },
   {
    "duration": 4,
    "start_time": "2021-11-05T17:35:35.240Z"
   },
   {
    "duration": 46,
    "start_time": "2021-11-05T17:35:35.246Z"
   },
   {
    "duration": 633,
    "start_time": "2021-11-05T17:35:35.296Z"
   },
   {
    "duration": 159,
    "start_time": "2021-11-05T17:35:35.931Z"
   },
   {
    "duration": 647,
    "start_time": "2021-11-05T17:35:36.094Z"
   },
   {
    "duration": 718,
    "start_time": "2021-11-05T17:35:36.747Z"
   },
   {
    "duration": 92,
    "start_time": "2021-11-05T17:35:37.482Z"
   },
   {
    "duration": 641,
    "start_time": "2021-11-05T17:35:37.587Z"
   },
   {
    "duration": 645,
    "start_time": "2021-11-05T17:35:38.231Z"
   },
   {
    "duration": 682,
    "start_time": "2021-11-05T17:35:38.882Z"
   },
   {
    "duration": 134,
    "start_time": "2021-11-05T17:35:39.567Z"
   },
   {
    "duration": 670,
    "start_time": "2021-11-05T17:35:39.704Z"
   },
   {
    "duration": 176,
    "start_time": "2021-11-05T17:35:40.376Z"
   },
   {
    "duration": 37,
    "start_time": "2021-11-05T17:35:40.555Z"
   },
   {
    "duration": 44,
    "start_time": "2021-11-05T17:35:40.596Z"
   },
   {
    "duration": 403,
    "start_time": "2021-11-05T17:35:40.644Z"
   },
   {
    "duration": 381,
    "start_time": "2021-11-05T17:35:41.050Z"
   },
   {
    "duration": 52,
    "start_time": "2021-11-05T17:35:41.433Z"
   },
   {
    "duration": 448,
    "start_time": "2021-11-05T17:35:41.488Z"
   },
   {
    "duration": 21,
    "start_time": "2021-11-05T17:35:41.939Z"
   },
   {
    "duration": 177,
    "start_time": "2021-11-05T17:35:41.962Z"
   },
   {
    "duration": 862,
    "start_time": "2021-11-05T17:35:42.141Z"
   },
   {
    "duration": 20,
    "start_time": "2021-11-05T17:35:43.005Z"
   },
   {
    "duration": 37327,
    "start_time": "2021-11-05T17:35:43.028Z"
   },
   {
    "duration": 30,
    "start_time": "2021-11-05T17:36:20.358Z"
   },
   {
    "duration": 31,
    "start_time": "2021-11-05T17:36:20.392Z"
   },
   {
    "duration": 917,
    "start_time": "2021-11-05T17:36:20.425Z"
   },
   {
    "duration": 5,
    "start_time": "2021-11-05T17:36:21.345Z"
   },
   {
    "duration": 42,
    "start_time": "2021-11-05T17:36:21.352Z"
   },
   {
    "duration": 136,
    "start_time": "2021-11-05T17:36:21.398Z"
   },
   {
    "duration": 5,
    "start_time": "2021-11-05T17:36:21.536Z"
   },
   {
    "duration": 173,
    "start_time": "2021-11-05T17:36:21.543Z"
   },
   {
    "duration": 644,
    "start_time": "2021-11-05T17:36:21.719Z"
   },
   {
    "duration": 817,
    "start_time": "2021-11-05T17:36:22.367Z"
   },
   {
    "duration": 22,
    "start_time": "2021-11-05T17:36:23.192Z"
   },
   {
    "duration": 35652,
    "start_time": "2021-11-05T17:36:23.216Z"
   },
   {
    "duration": 31,
    "start_time": "2021-11-05T17:36:58.870Z"
   },
   {
    "duration": 21,
    "start_time": "2021-11-05T17:36:58.903Z"
   },
   {
    "duration": 845,
    "start_time": "2021-11-05T17:36:58.926Z"
   },
   {
    "duration": 8,
    "start_time": "2021-11-05T17:36:59.782Z"
   },
   {
    "duration": 26,
    "start_time": "2021-11-05T17:36:59.793Z"
   },
   {
    "duration": 136,
    "start_time": "2021-11-05T17:36:59.822Z"
   },
   {
    "duration": 5,
    "start_time": "2021-11-05T17:36:59.961Z"
   },
   {
    "duration": 176,
    "start_time": "2021-11-05T17:36:59.967Z"
   },
   {
    "duration": 60,
    "start_time": "2021-11-05T17:37:00.146Z"
   },
   {
    "duration": 750,
    "start_time": "2021-11-05T17:37:00.208Z"
   },
   {
    "duration": 32,
    "start_time": "2021-11-05T17:37:00.961Z"
   },
   {
    "duration": 36329,
    "start_time": "2021-11-05T17:37:00.995Z"
   },
   {
    "duration": 22,
    "start_time": "2021-11-05T17:37:37.326Z"
   },
   {
    "duration": 52,
    "start_time": "2021-11-05T17:37:37.351Z"
   },
   {
    "duration": 1093,
    "start_time": "2021-11-05T17:37:37.418Z"
   },
   {
    "duration": 6,
    "start_time": "2021-11-05T17:37:38.514Z"
   },
   {
    "duration": 34,
    "start_time": "2021-11-05T17:37:38.523Z"
   },
   {
    "duration": 151,
    "start_time": "2021-11-05T17:37:38.586Z"
   },
   {
    "duration": 6,
    "start_time": "2021-11-05T17:37:38.739Z"
   },
   {
    "duration": 220,
    "start_time": "2021-11-05T17:37:38.749Z"
   },
   {
    "duration": 10,
    "start_time": "2021-11-05T17:37:38.972Z"
   },
   {
    "duration": 28,
    "start_time": "2021-11-05T17:37:38.985Z"
   },
   {
    "duration": 166,
    "start_time": "2021-11-05T17:37:39.017Z"
   },
   {
    "duration": 8,
    "start_time": "2021-11-05T17:37:39.186Z"
   },
   {
    "duration": 203,
    "start_time": "2021-11-05T17:37:39.197Z"
   },
   {
    "duration": 6,
    "start_time": "2021-11-05T17:37:39.403Z"
   },
   {
    "duration": 11,
    "start_time": "2021-11-05T17:37:39.411Z"
   },
   {
    "duration": 69,
    "start_time": "2021-11-05T17:37:39.425Z"
   },
   {
    "duration": 359,
    "start_time": "2021-11-05T17:37:39.498Z"
   },
   {
    "duration": 32,
    "start_time": "2021-11-05T17:37:39.859Z"
   },
   {
    "duration": 830,
    "start_time": "2021-11-05T17:37:39.896Z"
   },
   {
    "duration": 6,
    "start_time": "2021-11-05T17:37:40.729Z"
   },
   {
    "duration": 57,
    "start_time": "2021-11-05T17:37:40.737Z"
   },
   {
    "duration": 23,
    "start_time": "2021-11-05T17:37:40.799Z"
   },
   {
    "duration": 824,
    "start_time": "2021-11-05T17:37:40.824Z"
   },
   {
    "duration": 7,
    "start_time": "2021-11-05T17:37:41.650Z"
   },
   {
    "duration": 65,
    "start_time": "2021-11-05T17:37:41.660Z"
   },
   {
    "duration": 6,
    "start_time": "2021-11-05T17:37:41.727Z"
   },
   {
    "duration": 11,
    "start_time": "2021-11-05T17:37:41.735Z"
   },
   {
    "duration": 66,
    "start_time": "2021-11-05T17:37:41.749Z"
   },
   {
    "duration": 6,
    "start_time": "2021-11-05T17:37:41.818Z"
   },
   {
    "duration": 9,
    "start_time": "2021-11-05T17:37:41.827Z"
   },
   {
    "duration": 61,
    "start_time": "2021-11-05T17:37:41.838Z"
   },
   {
    "duration": 87,
    "start_time": "2021-11-05T17:37:41.902Z"
   },
   {
    "duration": 12,
    "start_time": "2021-11-05T17:37:41.992Z"
   },
   {
    "duration": 22,
    "start_time": "2021-11-05T17:37:42.006Z"
   },
   {
    "duration": 80,
    "start_time": "2021-11-05T17:37:42.031Z"
   },
   {
    "duration": 10,
    "start_time": "2021-11-05T17:37:42.114Z"
   },
   {
    "duration": 59,
    "start_time": "2021-11-05T17:37:42.127Z"
   },
   {
    "duration": 10,
    "start_time": "2021-11-05T17:37:42.190Z"
   },
   {
    "duration": 7,
    "start_time": "2021-11-05T17:37:42.202Z"
   },
   {
    "duration": 11,
    "start_time": "2021-11-05T17:37:42.211Z"
   },
   {
    "duration": 4,
    "start_time": "2021-11-05T17:37:42.225Z"
   },
   {
    "duration": 989,
    "start_time": "2021-11-05T17:37:42.232Z"
   },
   {
    "duration": 5,
    "start_time": "2021-11-05T17:37:43.223Z"
   },
   {
    "duration": 10,
    "start_time": "2021-11-05T17:37:43.231Z"
   },
   {
    "duration": 93,
    "start_time": "2021-11-05T17:37:43.243Z"
   },
   {
    "duration": 11,
    "start_time": "2021-11-05T17:37:43.339Z"
   },
   {
    "duration": 10,
    "start_time": "2021-11-05T17:37:43.353Z"
   },
   {
    "duration": 3127,
    "start_time": "2021-11-05T17:37:43.366Z"
   },
   {
    "duration": 8,
    "start_time": "2021-11-05T17:37:46.497Z"
   },
   {
    "duration": 141,
    "start_time": "2021-11-05T17:37:46.583Z"
   },
   {
    "duration": 104,
    "start_time": "2021-11-05T17:37:46.788Z"
   },
   {
    "duration": 842991,
    "start_time": "2021-11-05T17:37:46.897Z"
   },
   {
    "duration": 8,
    "start_time": "2021-11-05T17:51:49.891Z"
   },
   {
    "duration": 992,
    "start_time": "2021-11-05T17:51:49.902Z"
   },
   {
    "duration": 96,
    "start_time": "2021-11-05T17:51:50.898Z"
   },
   {
    "duration": 280556,
    "start_time": "2021-11-05T17:51:51.082Z"
   },
   {
    "duration": 5,
    "start_time": "2021-11-05T17:56:31.640Z"
   },
   {
    "duration": 4550,
    "start_time": "2021-11-05T17:56:31.648Z"
   },
   {
    "duration": 110,
    "start_time": "2021-11-05T17:56:36.201Z"
   },
   {
    "duration": 1969993,
    "start_time": "2021-11-05T17:56:36.314Z"
   },
   {
    "duration": 5,
    "start_time": "2021-11-05T18:29:26.310Z"
   },
   {
    "duration": 171173,
    "start_time": "2021-11-05T18:29:26.317Z"
   },
   {
    "duration": 3713,
    "start_time": "2021-11-05T18:32:17.494Z"
   },
   {
    "duration": 15,
    "start_time": "2021-11-05T18:32:21.210Z"
   },
   {
    "duration": 62,
    "start_time": "2021-11-05T18:32:21.228Z"
   },
   {
    "duration": 10,
    "start_time": "2021-11-05T18:32:21.294Z"
   },
   {
    "duration": 1743,
    "start_time": "2021-11-05T18:48:06.792Z"
   },
   {
    "duration": 4,
    "start_time": "2021-11-05T18:48:08.538Z"
   },
   {
    "duration": 1219,
    "start_time": "2021-11-05T18:48:08.546Z"
   },
   {
    "duration": 38,
    "start_time": "2021-11-05T18:48:09.768Z"
   },
   {
    "duration": 192,
    "start_time": "2021-11-05T18:48:09.809Z"
   },
   {
    "duration": 140,
    "start_time": "2021-11-05T18:48:10.004Z"
   },
   {
    "duration": 711,
    "start_time": "2021-11-05T18:48:10.146Z"
   },
   {
    "duration": 20,
    "start_time": "2021-11-05T18:48:10.861Z"
   },
   {
    "duration": 765,
    "start_time": "2021-11-05T18:48:10.884Z"
   },
   {
    "duration": 5,
    "start_time": "2021-11-05T18:48:11.651Z"
   },
   {
    "duration": 187,
    "start_time": "2021-11-05T18:48:11.658Z"
   },
   {
    "duration": 152,
    "start_time": "2021-11-05T18:48:11.848Z"
   },
   {
    "duration": 204,
    "start_time": "2021-11-05T18:48:12.002Z"
   },
   {
    "duration": 685,
    "start_time": "2021-11-05T18:48:12.209Z"
   },
   {
    "duration": 22,
    "start_time": "2021-11-05T18:48:12.898Z"
   },
   {
    "duration": 6,
    "start_time": "2021-11-05T18:48:12.923Z"
   },
   {
    "duration": 163,
    "start_time": "2021-11-05T18:48:12.933Z"
   },
   {
    "duration": 5,
    "start_time": "2021-11-05T18:48:13.098Z"
   },
   {
    "duration": 31,
    "start_time": "2021-11-05T18:48:13.106Z"
   },
   {
    "duration": 753,
    "start_time": "2021-11-05T18:48:13.140Z"
   },
   {
    "duration": 147,
    "start_time": "2021-11-05T18:48:13.898Z"
   },
   {
    "duration": 628,
    "start_time": "2021-11-05T18:48:14.048Z"
   },
   {
    "duration": 916,
    "start_time": "2021-11-05T18:48:14.694Z"
   },
   {
    "duration": 106,
    "start_time": "2021-11-05T18:48:15.614Z"
   },
   {
    "duration": 743,
    "start_time": "2021-11-05T18:48:15.722Z"
   },
   {
    "duration": 760,
    "start_time": "2021-11-05T18:48:16.468Z"
   },
   {
    "duration": 829,
    "start_time": "2021-11-05T18:48:17.231Z"
   },
   {
    "duration": 138,
    "start_time": "2021-11-05T18:48:18.062Z"
   },
   {
    "duration": 702,
    "start_time": "2021-11-05T18:48:18.203Z"
   },
   {
    "duration": 211,
    "start_time": "2021-11-05T18:48:18.907Z"
   },
   {
    "duration": 22,
    "start_time": "2021-11-05T18:48:19.121Z"
   },
   {
    "duration": 63,
    "start_time": "2021-11-05T18:48:19.146Z"
   },
   {
    "duration": 370,
    "start_time": "2021-11-05T18:48:19.212Z"
   },
   {
    "duration": 402,
    "start_time": "2021-11-05T18:48:19.586Z"
   },
   {
    "duration": 47,
    "start_time": "2021-11-05T18:48:19.992Z"
   },
   {
    "duration": 556,
    "start_time": "2021-11-05T18:48:20.042Z"
   },
   {
    "duration": 20,
    "start_time": "2021-11-05T18:48:20.601Z"
   },
   {
    "duration": 200,
    "start_time": "2021-11-05T18:48:20.623Z"
   },
   {
    "duration": 886,
    "start_time": "2021-11-05T18:48:20.826Z"
   },
   {
    "duration": 20,
    "start_time": "2021-11-05T18:48:21.715Z"
   },
   {
    "duration": 36120,
    "start_time": "2021-11-05T18:48:21.738Z"
   },
   {
    "duration": 30,
    "start_time": "2021-11-05T18:48:57.861Z"
   },
   {
    "duration": 22,
    "start_time": "2021-11-05T18:48:57.895Z"
   },
   {
    "duration": 886,
    "start_time": "2021-11-05T18:48:57.919Z"
   },
   {
    "duration": 5,
    "start_time": "2021-11-05T18:48:58.808Z"
   },
   {
    "duration": 23,
    "start_time": "2021-11-05T18:48:58.815Z"
   },
   {
    "duration": 173,
    "start_time": "2021-11-05T18:48:58.840Z"
   },
   {
    "duration": 5,
    "start_time": "2021-11-05T18:48:59.015Z"
   },
   {
    "duration": 170,
    "start_time": "2021-11-05T18:48:59.022Z"
   },
   {
    "duration": 681,
    "start_time": "2021-11-05T18:48:59.196Z"
   },
   {
    "duration": 798,
    "start_time": "2021-11-05T18:48:59.882Z"
   },
   {
    "duration": 26,
    "start_time": "2021-11-05T18:49:00.684Z"
   },
   {
    "duration": 36582,
    "start_time": "2021-11-05T18:49:00.713Z"
   },
   {
    "duration": 28,
    "start_time": "2021-11-05T18:49:37.299Z"
   },
   {
    "duration": 33,
    "start_time": "2021-11-05T18:49:37.330Z"
   },
   {
    "duration": 925,
    "start_time": "2021-11-05T18:49:37.389Z"
   },
   {
    "duration": 7,
    "start_time": "2021-11-05T18:49:38.317Z"
   },
   {
    "duration": 26,
    "start_time": "2021-11-05T18:49:38.327Z"
   },
   {
    "duration": 162,
    "start_time": "2021-11-05T18:49:38.356Z"
   },
   {
    "duration": 5,
    "start_time": "2021-11-05T18:49:38.521Z"
   },
   {
    "duration": 177,
    "start_time": "2021-11-05T18:49:38.528Z"
   },
   {
    "duration": 42,
    "start_time": "2021-11-05T18:49:38.707Z"
   },
   {
    "duration": 753,
    "start_time": "2021-11-05T18:49:38.751Z"
   },
   {
    "duration": 19,
    "start_time": "2021-11-05T18:49:39.507Z"
   },
   {
    "duration": 36729,
    "start_time": "2021-11-05T18:49:39.529Z"
   },
   {
    "duration": 36,
    "start_time": "2021-11-05T18:50:16.260Z"
   },
   {
    "duration": 21,
    "start_time": "2021-11-05T18:50:16.298Z"
   },
   {
    "duration": 897,
    "start_time": "2021-11-05T18:50:16.334Z"
   },
   {
    "duration": 6,
    "start_time": "2021-11-05T18:50:17.235Z"
   },
   {
    "duration": 46,
    "start_time": "2021-11-05T18:50:17.243Z"
   },
   {
    "duration": 151,
    "start_time": "2021-11-05T18:50:17.293Z"
   },
   {
    "duration": 6,
    "start_time": "2021-11-05T18:50:17.447Z"
   },
   {
    "duration": 219,
    "start_time": "2021-11-05T18:50:17.457Z"
   },
   {
    "duration": 11,
    "start_time": "2021-11-05T18:50:17.683Z"
   },
   {
    "duration": 20,
    "start_time": "2021-11-05T18:50:17.698Z"
   },
   {
    "duration": 182,
    "start_time": "2021-11-05T18:50:17.721Z"
   },
   {
    "duration": 14,
    "start_time": "2021-11-05T18:50:17.906Z"
   },
   {
    "duration": 177,
    "start_time": "2021-11-05T18:50:17.923Z"
   },
   {
    "duration": 5,
    "start_time": "2021-11-05T18:50:18.103Z"
   },
   {
    "duration": 9,
    "start_time": "2021-11-05T18:50:18.111Z"
   },
   {
    "duration": 32,
    "start_time": "2021-11-05T18:50:18.122Z"
   },
   {
    "duration": 499,
    "start_time": "2021-11-05T18:50:18.156Z"
   },
   {
    "duration": 37,
    "start_time": "2021-11-05T18:50:18.657Z"
   },
   {
    "duration": 747,
    "start_time": "2021-11-05T18:50:18.697Z"
   },
   {
    "duration": 5,
    "start_time": "2021-11-05T18:50:19.447Z"
   },
   {
    "duration": 47,
    "start_time": "2021-11-05T18:50:19.455Z"
   },
   {
    "duration": 23,
    "start_time": "2021-11-05T18:50:19.505Z"
   },
   {
    "duration": 814,
    "start_time": "2021-11-05T18:50:19.531Z"
   },
   {
    "duration": 6,
    "start_time": "2021-11-05T18:50:20.347Z"
   },
   {
    "duration": 66,
    "start_time": "2021-11-05T18:50:20.355Z"
   },
   {
    "duration": 5,
    "start_time": "2021-11-05T18:50:20.423Z"
   },
   {
    "duration": 12,
    "start_time": "2021-11-05T18:50:20.430Z"
   },
   {
    "duration": 69,
    "start_time": "2021-11-05T18:50:20.444Z"
   },
   {
    "duration": 5,
    "start_time": "2021-11-05T18:50:20.516Z"
   },
   {
    "duration": 15,
    "start_time": "2021-11-05T18:50:20.523Z"
   },
   {
    "duration": 60,
    "start_time": "2021-11-05T18:50:20.541Z"
   },
   {
    "duration": 51,
    "start_time": "2021-11-05T18:50:20.603Z"
   },
   {
    "duration": 8,
    "start_time": "2021-11-05T18:50:20.656Z"
   },
   {
    "duration": 47,
    "start_time": "2021-11-05T18:50:20.666Z"
   },
   {
    "duration": 91,
    "start_time": "2021-11-05T18:50:20.716Z"
   },
   {
    "duration": 7,
    "start_time": "2021-11-05T18:50:20.810Z"
   },
   {
    "duration": 36,
    "start_time": "2021-11-05T18:50:20.819Z"
   },
   {
    "duration": 5,
    "start_time": "2021-11-05T18:50:20.857Z"
   },
   {
    "duration": 26,
    "start_time": "2021-11-05T18:50:20.864Z"
   },
   {
    "duration": 10,
    "start_time": "2021-11-05T18:50:20.893Z"
   },
   {
    "duration": 11,
    "start_time": "2021-11-05T18:50:20.905Z"
   },
   {
    "duration": 880,
    "start_time": "2021-11-05T18:50:20.918Z"
   },
   {
    "duration": 6,
    "start_time": "2021-11-05T18:50:21.800Z"
   },
   {
    "duration": 6,
    "start_time": "2021-11-05T18:50:21.809Z"
   },
   {
    "duration": 96,
    "start_time": "2021-11-05T18:50:21.818Z"
   },
   {
    "duration": 14,
    "start_time": "2021-11-05T18:50:21.917Z"
   },
   {
    "duration": 10,
    "start_time": "2021-11-05T18:50:21.934Z"
   },
   {
    "duration": 2945,
    "start_time": "2021-11-05T18:50:21.947Z"
   },
   {
    "duration": 8,
    "start_time": "2021-11-05T18:50:24.895Z"
   },
   {
    "duration": 282,
    "start_time": "2021-11-05T18:50:24.907Z"
   },
   {
    "duration": 109,
    "start_time": "2021-11-05T18:50:25.196Z"
   },
   {
    "duration": 647012,
    "start_time": "2021-11-05T18:50:25.383Z"
   },
   {
    "duration": 5,
    "start_time": "2021-11-05T19:01:12.398Z"
   },
   {
    "duration": 883,
    "start_time": "2021-11-05T19:01:12.406Z"
   },
   {
    "duration": 114,
    "start_time": "2021-11-05T19:01:13.292Z"
   },
   {
    "duration": 293324,
    "start_time": "2021-11-05T19:01:13.409Z"
   },
   {
    "duration": 6,
    "start_time": "2021-11-05T19:06:06.736Z"
   },
   {
    "duration": 4707,
    "start_time": "2021-11-05T19:06:06.745Z"
   },
   {
    "duration": 106,
    "start_time": "2021-11-05T19:06:11.454Z"
   },
   {
    "duration": 2168051,
    "start_time": "2021-11-05T19:06:11.562Z"
   },
   {
    "duration": 6,
    "start_time": "2021-11-05T19:42:19.615Z"
   },
   {
    "duration": 85964,
    "start_time": "2021-11-05T19:42:19.623Z"
   },
   {
    "duration": 3435,
    "start_time": "2021-11-05T19:43:45.591Z"
   },
   {
    "duration": 59,
    "start_time": "2021-11-05T19:43:49.029Z"
   },
   {
    "duration": 6,
    "start_time": "2021-11-05T19:43:49.092Z"
   },
   {
    "duration": 12,
    "start_time": "2021-11-05T19:43:49.101Z"
   },
   {
    "duration": 9,
    "start_time": "2021-11-05T20:10:17.680Z"
   },
   {
    "duration": 15,
    "start_time": "2021-11-05T20:10:35.215Z"
   },
   {
    "duration": 14,
    "start_time": "2021-11-05T20:10:55.613Z"
   },
   {
    "duration": 476,
    "start_time": "2021-11-05T20:11:14.481Z"
   },
   {
    "duration": 15,
    "start_time": "2021-11-05T20:11:21.339Z"
   },
   {
    "duration": 8437,
    "start_time": "2021-11-05T20:11:34.235Z"
   },
   {
    "duration": 17,
    "start_time": "2021-11-05T20:12:16.123Z"
   },
   {
    "duration": 621,
    "start_time": "2021-11-05T20:12:28.177Z"
   },
   {
    "duration": 385,
    "start_time": "2021-11-05T20:16:10.782Z"
   },
   {
    "duration": 446,
    "start_time": "2021-11-05T20:17:20.812Z"
   },
   {
    "duration": 436,
    "start_time": "2021-11-05T20:17:32.815Z"
   },
   {
    "duration": 352,
    "start_time": "2021-11-05T20:17:45.906Z"
   },
   {
    "duration": 500,
    "start_time": "2021-11-05T20:17:54.035Z"
   },
   {
    "duration": 490,
    "start_time": "2021-11-05T20:18:15.454Z"
   },
   {
    "duration": 789,
    "start_time": "2021-11-05T20:19:37.362Z"
   },
   {
    "duration": 785,
    "start_time": "2021-11-05T20:19:41.801Z"
   },
   {
    "duration": 521,
    "start_time": "2021-11-05T20:20:53.043Z"
   },
   {
    "duration": 515,
    "start_time": "2021-11-05T20:21:02.813Z"
   },
   {
    "duration": 520,
    "start_time": "2021-11-05T20:21:42.010Z"
   },
   {
    "duration": 666,
    "start_time": "2021-11-05T20:27:57.578Z"
   },
   {
    "duration": 539,
    "start_time": "2021-11-05T20:28:05.078Z"
   },
   {
    "duration": 292,
    "start_time": "2021-11-05T20:29:11.060Z"
   },
   {
    "duration": 303,
    "start_time": "2021-11-05T20:29:15.621Z"
   },
   {
    "duration": 288,
    "start_time": "2021-11-05T20:29:37.698Z"
   },
   {
    "duration": 194,
    "start_time": "2021-11-05T20:30:15.223Z"
   },
   {
    "duration": 294,
    "start_time": "2021-11-05T20:30:23.701Z"
   },
   {
    "duration": 16,
    "start_time": "2021-11-05T20:30:28.243Z"
   },
   {
    "duration": 318,
    "start_time": "2021-11-05T20:31:07.458Z"
   },
   {
    "duration": 536,
    "start_time": "2021-11-05T20:31:27.429Z"
   },
   {
    "duration": 804,
    "start_time": "2021-11-05T20:32:14.531Z"
   },
   {
    "duration": 666,
    "start_time": "2021-11-05T20:32:20.427Z"
   },
   {
    "duration": 516,
    "start_time": "2021-11-05T20:32:49.508Z"
   },
   {
    "duration": 533,
    "start_time": "2021-11-05T20:32:59.679Z"
   },
   {
    "duration": 563,
    "start_time": "2021-11-05T20:33:12.591Z"
   },
   {
    "duration": 1609,
    "start_time": "2021-11-07T19:28:21.380Z"
   },
   {
    "duration": 4,
    "start_time": "2021-11-07T19:28:22.992Z"
   },
   {
    "duration": 1116,
    "start_time": "2021-11-07T19:28:22.999Z"
   },
   {
    "duration": 23,
    "start_time": "2021-11-07T19:28:24.118Z"
   },
   {
    "duration": 176,
    "start_time": "2021-11-07T19:28:24.144Z"
   },
   {
    "duration": 125,
    "start_time": "2021-11-07T19:28:24.323Z"
   },
   {
    "duration": 614,
    "start_time": "2021-11-07T19:28:24.450Z"
   },
   {
    "duration": 4,
    "start_time": "2021-11-07T19:28:25.068Z"
   },
   {
    "duration": 676,
    "start_time": "2021-11-07T19:28:25.083Z"
   },
   {
    "duration": 5,
    "start_time": "2021-11-07T19:28:25.761Z"
   },
   {
    "duration": 164,
    "start_time": "2021-11-07T19:28:25.768Z"
   },
   {
    "duration": 127,
    "start_time": "2021-11-07T19:28:25.934Z"
   },
   {
    "duration": 187,
    "start_time": "2021-11-07T19:28:26.063Z"
   },
   {
    "duration": 608,
    "start_time": "2021-11-07T19:28:26.252Z"
   },
   {
    "duration": 31,
    "start_time": "2021-11-07T19:28:26.862Z"
   },
   {
    "duration": 5,
    "start_time": "2021-11-07T19:28:26.895Z"
   },
   {
    "duration": 140,
    "start_time": "2021-11-07T19:28:26.902Z"
   },
   {
    "duration": 5,
    "start_time": "2021-11-07T19:28:27.045Z"
   },
   {
    "duration": 40,
    "start_time": "2021-11-07T19:28:27.052Z"
   },
   {
    "duration": 591,
    "start_time": "2021-11-07T19:28:27.094Z"
   },
   {
    "duration": 149,
    "start_time": "2021-11-07T19:28:27.687Z"
   },
   {
    "duration": 589,
    "start_time": "2021-11-07T19:28:27.838Z"
   },
   {
    "duration": 673,
    "start_time": "2021-11-07T19:28:28.433Z"
   },
   {
    "duration": 97,
    "start_time": "2021-11-07T19:28:29.111Z"
   },
   {
    "duration": 582,
    "start_time": "2021-11-07T19:28:29.211Z"
   },
   {
    "duration": 591,
    "start_time": "2021-11-07T19:28:29.795Z"
   },
   {
    "duration": 635,
    "start_time": "2021-11-07T19:28:30.388Z"
   },
   {
    "duration": 124,
    "start_time": "2021-11-07T19:28:31.026Z"
   },
   {
    "duration": 645,
    "start_time": "2021-11-07T19:28:31.153Z"
   },
   {
    "duration": 170,
    "start_time": "2021-11-07T19:28:31.800Z"
   },
   {
    "duration": 28,
    "start_time": "2021-11-07T19:28:31.972Z"
   },
   {
    "duration": 43,
    "start_time": "2021-11-07T19:28:32.002Z"
   },
   {
    "duration": 355,
    "start_time": "2021-11-07T19:28:32.048Z"
   },
   {
    "duration": 369,
    "start_time": "2021-11-07T19:28:32.406Z"
   },
   {
    "duration": 43,
    "start_time": "2021-11-07T19:28:32.777Z"
   },
   {
    "duration": 423,
    "start_time": "2021-11-07T19:28:32.823Z"
   },
   {
    "duration": 22,
    "start_time": "2021-11-07T19:28:33.248Z"
   },
   {
    "duration": 158,
    "start_time": "2021-11-07T19:28:33.283Z"
   },
   {
    "duration": 825,
    "start_time": "2021-11-07T19:28:33.443Z"
   },
   {
    "duration": 26,
    "start_time": "2021-11-07T19:28:34.271Z"
   },
   {
    "duration": 35490,
    "start_time": "2021-11-07T19:28:34.300Z"
   },
   {
    "duration": 20,
    "start_time": "2021-11-07T19:29:09.793Z"
   },
   {
    "duration": 28,
    "start_time": "2021-11-07T19:29:09.815Z"
   },
   {
    "duration": 847,
    "start_time": "2021-11-07T19:29:09.846Z"
   },
   {
    "duration": 6,
    "start_time": "2021-11-07T19:29:10.695Z"
   },
   {
    "duration": 23,
    "start_time": "2021-11-07T19:29:10.703Z"
   },
   {
    "duration": 156,
    "start_time": "2021-11-07T19:29:10.728Z"
   },
   {
    "duration": 5,
    "start_time": "2021-11-07T19:29:10.887Z"
   },
   {
    "duration": 166,
    "start_time": "2021-11-07T19:29:10.894Z"
   },
   {
    "duration": 615,
    "start_time": "2021-11-07T19:29:11.063Z"
   },
   {
    "duration": 771,
    "start_time": "2021-11-07T19:29:11.681Z"
   },
   {
    "duration": 32,
    "start_time": "2021-11-07T19:29:12.454Z"
   },
   {
    "duration": 33289,
    "start_time": "2021-11-07T19:29:12.489Z"
   },
   {
    "duration": 20,
    "start_time": "2021-11-07T19:29:45.782Z"
   },
   {
    "duration": 20,
    "start_time": "2021-11-07T19:29:45.804Z"
   },
   {
    "duration": 778,
    "start_time": "2021-11-07T19:29:45.827Z"
   },
   {
    "duration": 5,
    "start_time": "2021-11-07T19:29:46.608Z"
   },
   {
    "duration": 23,
    "start_time": "2021-11-07T19:29:46.615Z"
   },
   {
    "duration": 128,
    "start_time": "2021-11-07T19:29:46.640Z"
   },
   {
    "duration": 13,
    "start_time": "2021-11-07T19:29:46.770Z"
   },
   {
    "duration": 159,
    "start_time": "2021-11-07T19:29:46.786Z"
   },
   {
    "duration": 46,
    "start_time": "2021-11-07T19:29:46.947Z"
   },
   {
    "duration": 770,
    "start_time": "2021-11-07T19:29:46.995Z"
   },
   {
    "duration": 25,
    "start_time": "2021-11-07T19:29:47.767Z"
   },
   {
    "duration": 32636,
    "start_time": "2021-11-07T19:29:47.795Z"
   },
   {
    "duration": 19,
    "start_time": "2021-11-07T19:30:20.434Z"
   },
   {
    "duration": 39,
    "start_time": "2021-11-07T19:30:20.456Z"
   },
   {
    "duration": 709,
    "start_time": "2021-11-07T19:30:20.506Z"
   },
   {
    "duration": 5,
    "start_time": "2021-11-07T19:30:21.219Z"
   },
   {
    "duration": 25,
    "start_time": "2021-11-07T19:30:21.227Z"
   },
   {
    "duration": 131,
    "start_time": "2021-11-07T19:30:21.283Z"
   },
   {
    "duration": 7,
    "start_time": "2021-11-07T19:30:21.416Z"
   },
   {
    "duration": 160,
    "start_time": "2021-11-07T19:30:21.425Z"
   },
   {
    "duration": 5,
    "start_time": "2021-11-07T19:30:21.588Z"
   },
   {
    "duration": 26,
    "start_time": "2021-11-07T19:30:21.595Z"
   },
   {
    "duration": 159,
    "start_time": "2021-11-07T19:30:21.623Z"
   },
   {
    "duration": 6,
    "start_time": "2021-11-07T19:30:21.784Z"
   },
   {
    "duration": 161,
    "start_time": "2021-11-07T19:30:21.792Z"
   },
   {
    "duration": 4,
    "start_time": "2021-11-07T19:30:21.956Z"
   },
   {
    "duration": 20,
    "start_time": "2021-11-07T19:30:21.963Z"
   },
   {
    "duration": 37,
    "start_time": "2021-11-07T19:30:21.986Z"
   },
   {
    "duration": 326,
    "start_time": "2021-11-07T19:30:22.026Z"
   },
   {
    "duration": 31,
    "start_time": "2021-11-07T19:30:22.354Z"
   },
   {
    "duration": 738,
    "start_time": "2021-11-07T19:30:22.387Z"
   },
   {
    "duration": 5,
    "start_time": "2021-11-07T19:30:23.127Z"
   },
   {
    "duration": 48,
    "start_time": "2021-11-07T19:30:23.134Z"
   },
   {
    "duration": 24,
    "start_time": "2021-11-07T19:30:23.184Z"
   },
   {
    "duration": 757,
    "start_time": "2021-11-07T19:30:23.210Z"
   },
   {
    "duration": 5,
    "start_time": "2021-11-07T19:30:23.969Z"
   },
   {
    "duration": 41,
    "start_time": "2021-11-07T19:30:23.982Z"
   },
   {
    "duration": 5,
    "start_time": "2021-11-07T19:30:24.025Z"
   },
   {
    "duration": 6,
    "start_time": "2021-11-07T19:30:24.033Z"
   },
   {
    "duration": 67,
    "start_time": "2021-11-07T19:30:24.042Z"
   },
   {
    "duration": 5,
    "start_time": "2021-11-07T19:30:24.112Z"
   },
   {
    "duration": 10,
    "start_time": "2021-11-07T19:30:24.120Z"
   },
   {
    "duration": 52,
    "start_time": "2021-11-07T19:30:24.132Z"
   },
   {
    "duration": 49,
    "start_time": "2021-11-07T19:30:24.187Z"
   },
   {
    "duration": 7,
    "start_time": "2021-11-07T19:30:24.238Z"
   },
   {
    "duration": 45,
    "start_time": "2021-11-07T19:30:24.248Z"
   },
   {
    "duration": 46,
    "start_time": "2021-11-07T19:30:24.295Z"
   },
   {
    "duration": 7,
    "start_time": "2021-11-07T19:30:24.344Z"
   },
   {
    "duration": 53,
    "start_time": "2021-11-07T19:30:24.353Z"
   },
   {
    "duration": 5,
    "start_time": "2021-11-07T19:30:24.408Z"
   },
   {
    "duration": 6,
    "start_time": "2021-11-07T19:30:24.415Z"
   },
   {
    "duration": 6,
    "start_time": "2021-11-07T19:30:24.423Z"
   },
   {
    "duration": 4,
    "start_time": "2021-11-07T19:30:24.431Z"
   },
   {
    "duration": 845,
    "start_time": "2021-11-07T19:30:24.438Z"
   },
   {
    "duration": 5,
    "start_time": "2021-11-07T19:30:25.285Z"
   },
   {
    "duration": 9,
    "start_time": "2021-11-07T19:30:25.293Z"
   },
   {
    "duration": 78,
    "start_time": "2021-11-07T19:30:25.304Z"
   },
   {
    "duration": 12,
    "start_time": "2021-11-07T19:30:25.384Z"
   },
   {
    "duration": 17,
    "start_time": "2021-11-07T19:30:25.398Z"
   },
   {
    "duration": 2867,
    "start_time": "2021-11-07T19:30:25.417Z"
   },
   {
    "duration": 96,
    "start_time": "2021-11-07T19:30:28.288Z"
   },
   {
    "duration": 196,
    "start_time": "2021-11-07T19:30:28.387Z"
   },
   {
    "duration": 98,
    "start_time": "2021-11-07T19:30:28.586Z"
   },
   {
    "duration": 136200,
    "start_time": "2021-11-07T19:30:28.688Z"
   },
   {
    "duration": 5,
    "start_time": "2021-11-07T19:32:44.890Z"
   },
   {
    "duration": 294,
    "start_time": "2021-11-07T19:32:44.897Z"
   },
   {
    "duration": 99,
    "start_time": "2021-11-07T19:32:45.284Z"
   },
   {
    "duration": 259310,
    "start_time": "2021-11-07T19:32:45.387Z"
   },
   {
    "duration": 4,
    "start_time": "2021-11-07T19:37:04.699Z"
   },
   {
    "duration": 3992,
    "start_time": "2021-11-07T19:37:04.706Z"
   },
   {
    "duration": 103,
    "start_time": "2021-11-07T19:37:08.700Z"
   },
   {
    "duration": 403099,
    "start_time": "2021-11-07T19:37:08.805Z"
   },
   {
    "duration": 78,
    "start_time": "2021-11-07T19:43:51.906Z"
   },
   {
    "duration": 47815,
    "start_time": "2021-11-07T19:43:51.986Z"
   },
   {
    "duration": 3498,
    "start_time": "2021-11-07T19:44:39.803Z"
   },
   {
    "duration": 80,
    "start_time": "2021-11-07T19:44:43.303Z"
   },
   {
    "duration": 5,
    "start_time": "2021-11-07T19:44:43.386Z"
   },
   {
    "duration": 21,
    "start_time": "2021-11-07T19:44:43.393Z"
   },
   {
    "duration": 26,
    "start_time": "2021-11-07T19:44:43.416Z"
   },
   {
    "duration": 682,
    "start_time": "2021-11-07T19:44:43.445Z"
   },
   {
    "duration": 554,
    "start_time": "2021-11-07T19:44:44.129Z"
   },
   {
    "duration": 554,
    "start_time": "2021-11-07T19:44:44.685Z"
   },
   {
    "duration": 655,
    "start_time": "2021-11-07T19:44:45.242Z"
   },
   {
    "duration": 23,
    "start_time": "2021-11-07T20:23:20.205Z"
   },
   {
    "duration": 636,
    "start_time": "2021-11-07T20:23:22.899Z"
   },
   {
    "duration": 540,
    "start_time": "2021-11-07T20:23:31.108Z"
   },
   {
    "duration": 530,
    "start_time": "2021-11-07T20:23:31.923Z"
   },
   {
    "duration": 555,
    "start_time": "2021-11-07T20:23:33.000Z"
   }
  ],
  "kernelspec": {
   "display_name": "Python 3 (ipykernel)",
   "language": "python",
   "name": "python3"
  },
  "language_info": {
   "codemirror_mode": {
    "name": "ipython",
    "version": 3
   },
   "file_extension": ".py",
   "mimetype": "text/x-python",
   "name": "python",
   "nbconvert_exporter": "python",
   "pygments_lexer": "ipython3",
   "version": "3.9.7"
  },
  "toc": {
   "base_numbering": 1,
   "nav_menu": {
    "height": "91px",
    "width": "183px"
   },
   "number_sections": true,
   "sideBar": true,
   "skip_h1_title": true,
   "title_cell": "Содержание",
   "title_sidebar": "Contents",
   "toc_cell": true,
   "toc_position": {
    "height": "calc(100% - 180px)",
    "left": "10px",
    "top": "150px",
    "width": "307px"
   },
   "toc_section_display": true,
   "toc_window_display": true
  }
 },
 "nbformat": 4,
 "nbformat_minor": 2
}
